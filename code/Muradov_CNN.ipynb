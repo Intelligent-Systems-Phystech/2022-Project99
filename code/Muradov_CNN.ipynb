{
 "cells": [
  {
   "cell_type": "code",
   "execution_count": 1,
   "metadata": {},
   "outputs": [
    {
     "data": {
      "text/plain": [
       "<torch.autograd.grad_mode.set_grad_enabled at 0x7fa0588f7278>"
      ]
     },
     "execution_count": 1,
     "metadata": {},
     "output_type": "execute_result"
    }
   ],
   "source": [
    "# import standard PyTorch modules\n",
    "import torch\n",
    "import torch.nn as nn\n",
    "import torch.nn.functional as F\n",
    "import torch.optim as optim\n",
    "from torch.utils.tensorboard import SummaryWriter # TensorBoard support\n",
    "\n",
    "# import torchvision module to handle image manipulation\n",
    "import torchvision\n",
    "import torchvision.transforms as transforms\n",
    "\n",
    "# calculate train time, writing train data to files etc.\n",
    "import time\n",
    "import pandas as pd\n",
    "import json\n",
    "from IPython.display import clear_output\n",
    "\n",
    "torch.set_printoptions(linewidth=120)\n",
    "torch.set_grad_enabled(True)     # On by default, leave it here for clarity"
   ]
  },
  {
   "cell_type": "code",
   "execution_count": 2,
   "metadata": {},
   "outputs": [],
   "source": [
    "# Use standard FashionMNIST dataset\n",
    "train_set = torchvision.datasets.FashionMNIST(\n",
    "    root = './data/FashionMNIST',\n",
    "    train = True,\n",
    "    download = True,\n",
    "    transform = transforms.Compose([\n",
    "        transforms.ToTensor()                                 \n",
    "    ])\n",
    ")"
   ]
  },
  {
   "cell_type": "code",
   "execution_count": 3,
   "metadata": {},
   "outputs": [],
   "source": [
    "# Build the neural network, expand on top of nn.Module\n",
    "class Network(nn.Module):\n",
    "  def __init__(self):\n",
    "    super().__init__()\n",
    "\n",
    "    # define layers\n",
    "    self.conv1 = nn.Conv2d(in_channels=1, out_channels=6, kernel_size=5)\n",
    "    self.conv2 = nn.Conv2d(in_channels=6, out_channels=12, kernel_size=5)\n",
    "\n",
    "    self.fc1 = nn.Linear(in_features=12*4*4, out_features=120)\n",
    "    self.fc2 = nn.Linear(in_features=120, out_features=60)\n",
    "    self.out = nn.Linear(in_features=60, out_features=10)\n",
    "\n",
    "  # define forward function\n",
    "  def forward(self, t):\n",
    "    # conv 1\n",
    "    t = self.conv1(t)\n",
    "    t = F.relu(t)\n",
    "    t = F.max_pool2d(t, kernel_size=2, stride=2)\n",
    "\n",
    "    # conv 2\n",
    "    t = self.conv2(t)\n",
    "    t = F.relu(t)\n",
    "    t = F.max_pool2d(t, kernel_size=2, stride=2)\n",
    "\n",
    "    # fc1\n",
    "    t = t.reshape(-1, 12*4*4)\n",
    "    t = self.fc1(t)\n",
    "    t = F.relu(t)\n",
    "\n",
    "    # fc2\n",
    "    t = self.fc2(t)\n",
    "    t = F.relu(t)\n",
    "\n",
    "    # output\n",
    "    t = self.out(t)\n",
    "    # don't need softmax here since we'll use cross-entropy as activation.\n",
    "\n",
    "    return t"
   ]
  },
  {
   "cell_type": "code",
   "execution_count": 4,
   "metadata": {},
   "outputs": [],
   "source": [
    "from collections import OrderedDict\n",
    "\n",
    "# put all hyper params into a OrderedDict, easily expandable\n",
    "params = OrderedDict(\n",
    "    lr = [.01],\n",
    "    batch_size = [100],\n",
    "    shuffle = [False]\n",
    ")\n",
    "epochs = 10"
   ]
  },
  {
   "cell_type": "code",
   "execution_count": 5,
   "metadata": {},
   "outputs": [],
   "source": [
    "# import modules to build RunBuilder and RunManager helper classes\n",
    "from collections import namedtuple\n",
    "from itertools import product\n",
    "\n",
    "# Read in the hyper-parameters and return a Run namedtuple containing all the \n",
    "# combinations of hyper-parameters\n",
    "class RunBuilder():\n",
    "  @staticmethod\n",
    "  def get_runs(params):\n",
    "\n",
    "    Run = namedtuple('Run', params.keys())\n",
    "\n",
    "    runs = []\n",
    "    for v in product(*params.values()):\n",
    "      runs.append(Run(*v))\n",
    "    \n",
    "    return runs"
   ]
  },
  {
   "cell_type": "code",
   "execution_count": 6,
   "metadata": {},
   "outputs": [],
   "source": [
    "# Helper class, help track loss, accuracy, epoch time, run time, \n",
    "# hyper-parameters etc. Also record to TensorBoard and write into csv, json\n",
    "class RunManager():\n",
    "  def __init__(self):\n",
    "\n",
    "    # tracking every epoch count, loss, accuracy, time\n",
    "    self.epoch_count = 0\n",
    "    self.epoch_loss = 0\n",
    "    self.epoch_num_correct = 0\n",
    "    self.epoch_start_time = None\n",
    "\n",
    "    # tracking every run count, run data, hyper-params used, time\n",
    "    self.run_params = None\n",
    "    self.run_count = 0\n",
    "    self.run_data = []\n",
    "    self.run_start_time = None\n",
    "\n",
    "    # record model, loader and TensorBoard \n",
    "    self.network = None\n",
    "    self.loader = None\n",
    "    self.tb = None\n",
    "\n",
    "  # record the count, hyper-param, model, loader of each run\n",
    "  # record sample images and network graph to TensorBoard  \n",
    "  def begin_run(self, run, network, loader):\n",
    "\n",
    "    self.run_start_time = time.time()\n",
    "\n",
    "    self.run_params = run\n",
    "    self.run_count += 1\n",
    "\n",
    "    self.network = network\n",
    "    self.loader = loader\n",
    "    self.tb = SummaryWriter(comment=f'-{run}')\n",
    "\n",
    "    images, labels = next(iter(self.loader))\n",
    "    grid = torchvision.utils.make_grid(images)\n",
    "\n",
    "    self.tb.add_image('images', grid)\n",
    "    self.tb.add_graph(self.network, images)\n",
    "\n",
    "  # when run ends, close TensorBoard, zero epoch count\n",
    "  def end_run(self):\n",
    "    self.tb.close()\n",
    "    self.epoch_count = 0\n",
    "\n",
    "  # zero epoch count, loss, accuracy, \n",
    "  def begin_epoch(self):\n",
    "    self.epoch_start_time = time.time()\n",
    "\n",
    "    self.epoch_count += 1\n",
    "    self.epoch_loss = 0\n",
    "    self.epoch_num_correct = 0\n",
    "\n",
    "  # \n",
    "  def end_epoch(self):\n",
    "    # calculate epoch duration and run duration(accumulate)\n",
    "    epoch_duration = time.time() - self.epoch_start_time\n",
    "    run_duration = time.time() - self.run_start_time\n",
    "\n",
    "    # record epoch loss and accuracy\n",
    "    loss = self.epoch_loss / len(self.loader.dataset)\n",
    "    accuracy = self.epoch_num_correct / len(self.loader.dataset)\n",
    "\n",
    "    # Record epoch loss and accuracy to TensorBoard \n",
    "    self.tb.add_scalar('Loss', loss, self.epoch_count)\n",
    "    self.tb.add_scalar('Accuracy', accuracy, self.epoch_count)\n",
    "\n",
    "    # Record params to TensorBoard\n",
    "    for name, param in self.network.named_parameters():\n",
    "      self.tb.add_histogram(name, param, self.epoch_count)\n",
    "      self.tb.add_histogram(f'{name}.grad', param.grad, self.epoch_count)\n",
    "    \n",
    "    # Write into 'results' (OrderedDict) for all run related data\n",
    "    results = OrderedDict()\n",
    "    results[\"run\"] = self.run_count\n",
    "    results[\"epoch\"] = self.epoch_count\n",
    "    results[\"loss\"] = loss\n",
    "    results[\"accuracy\"] = accuracy\n",
    "    results[\"epoch duration\"] = epoch_duration\n",
    "    results[\"run duration\"] = run_duration\n",
    "\n",
    "    # Record hyper-params into 'results'\n",
    "    for k,v in self.run_params._asdict().items(): results[k] = v\n",
    "    self.run_data.append(results)\n",
    "    df = pd.DataFrame.from_dict(self.run_data, orient = 'columns')\n",
    "\n",
    "    # display epoch information and show progress\n",
    "    clear_output(wait=True)\n",
    "    display(df)\n",
    "\n",
    "  # accumulate loss of batch into entire epoch loss\n",
    "  def track_loss(self, loss):\n",
    "    # multiply batch size so variety of batch sizes can be compared\n",
    "    self.epoch_loss += loss.item() * self.loader.batch_size\n",
    "\n",
    "  # accumulate number of corrects of batch into entire epoch num_correct\n",
    "  def track_num_correct(self, preds, labels):\n",
    "    self.epoch_num_correct += self._get_num_correct(preds, labels)\n",
    "\n",
    "  @torch.no_grad()\n",
    "  def _get_num_correct(self, preds, labels):\n",
    "    return preds.argmax(dim=1).eq(labels).sum().item()\n",
    "  \n",
    "  # save end results of all runs into csv, json for further analysis\n",
    "  def save(self, fileName):\n",
    "\n",
    "    pd.DataFrame.from_dict(\n",
    "        self.run_data, \n",
    "        orient = 'columns',\n",
    "    ).to_csv(f'{fileName}.csv')\n",
    "\n",
    "    with open(f'{fileName}.json', 'w', encoding='utf-8') as f:\n",
    "      json.dump(self.run_data, f, ensure_ascii=False, indent=4)"
   ]
  },
  {
   "cell_type": "code",
   "execution_count": 7,
   "metadata": {},
   "outputs": [
    {
     "data": {
      "text/html": [
       "<div>\n",
       "<style scoped>\n",
       "    .dataframe tbody tr th:only-of-type {\n",
       "        vertical-align: middle;\n",
       "    }\n",
       "\n",
       "    .dataframe tbody tr th {\n",
       "        vertical-align: top;\n",
       "    }\n",
       "\n",
       "    .dataframe thead th {\n",
       "        text-align: right;\n",
       "    }\n",
       "</style>\n",
       "<table border=\"1\" class=\"dataframe\">\n",
       "  <thead>\n",
       "    <tr style=\"text-align: right;\">\n",
       "      <th></th>\n",
       "      <th>run</th>\n",
       "      <th>epoch</th>\n",
       "      <th>loss</th>\n",
       "      <th>accuracy</th>\n",
       "      <th>epoch duration</th>\n",
       "      <th>run duration</th>\n",
       "      <th>lr</th>\n",
       "      <th>batch_size</th>\n",
       "      <th>shuffle</th>\n",
       "    </tr>\n",
       "  </thead>\n",
       "  <tbody>\n",
       "    <tr>\n",
       "      <th>0</th>\n",
       "      <td>1</td>\n",
       "      <td>1</td>\n",
       "      <td>0.566483</td>\n",
       "      <td>0.784817</td>\n",
       "      <td>14.188264</td>\n",
       "      <td>14.550126</td>\n",
       "      <td>0.01</td>\n",
       "      <td>100</td>\n",
       "      <td>False</td>\n",
       "    </tr>\n",
       "    <tr>\n",
       "      <th>1</th>\n",
       "      <td>1</td>\n",
       "      <td>2</td>\n",
       "      <td>0.391495</td>\n",
       "      <td>0.853117</td>\n",
       "      <td>13.224682</td>\n",
       "      <td>27.980905</td>\n",
       "      <td>0.01</td>\n",
       "      <td>100</td>\n",
       "      <td>False</td>\n",
       "    </tr>\n",
       "    <tr>\n",
       "      <th>2</th>\n",
       "      <td>1</td>\n",
       "      <td>3</td>\n",
       "      <td>0.361823</td>\n",
       "      <td>0.864367</td>\n",
       "      <td>15.430373</td>\n",
       "      <td>43.603009</td>\n",
       "      <td>0.01</td>\n",
       "      <td>100</td>\n",
       "      <td>False</td>\n",
       "    </tr>\n",
       "    <tr>\n",
       "      <th>3</th>\n",
       "      <td>1</td>\n",
       "      <td>4</td>\n",
       "      <td>0.346660</td>\n",
       "      <td>0.871150</td>\n",
       "      <td>17.990512</td>\n",
       "      <td>61.775722</td>\n",
       "      <td>0.01</td>\n",
       "      <td>100</td>\n",
       "      <td>False</td>\n",
       "    </tr>\n",
       "    <tr>\n",
       "      <th>4</th>\n",
       "      <td>1</td>\n",
       "      <td>5</td>\n",
       "      <td>0.333307</td>\n",
       "      <td>0.876633</td>\n",
       "      <td>17.116899</td>\n",
       "      <td>79.071973</td>\n",
       "      <td>0.01</td>\n",
       "      <td>100</td>\n",
       "      <td>False</td>\n",
       "    </tr>\n",
       "    <tr>\n",
       "      <th>5</th>\n",
       "      <td>1</td>\n",
       "      <td>6</td>\n",
       "      <td>0.322207</td>\n",
       "      <td>0.878133</td>\n",
       "      <td>15.022692</td>\n",
       "      <td>94.430132</td>\n",
       "      <td>0.01</td>\n",
       "      <td>100</td>\n",
       "      <td>False</td>\n",
       "    </tr>\n",
       "    <tr>\n",
       "      <th>6</th>\n",
       "      <td>1</td>\n",
       "      <td>7</td>\n",
       "      <td>0.313615</td>\n",
       "      <td>0.881300</td>\n",
       "      <td>17.451543</td>\n",
       "      <td>112.088786</td>\n",
       "      <td>0.01</td>\n",
       "      <td>100</td>\n",
       "      <td>False</td>\n",
       "    </tr>\n",
       "    <tr>\n",
       "      <th>7</th>\n",
       "      <td>1</td>\n",
       "      <td>8</td>\n",
       "      <td>0.313650</td>\n",
       "      <td>0.882567</td>\n",
       "      <td>19.223876</td>\n",
       "      <td>131.580778</td>\n",
       "      <td>0.01</td>\n",
       "      <td>100</td>\n",
       "      <td>False</td>\n",
       "    </tr>\n",
       "    <tr>\n",
       "      <th>8</th>\n",
       "      <td>1</td>\n",
       "      <td>9</td>\n",
       "      <td>0.306450</td>\n",
       "      <td>0.885267</td>\n",
       "      <td>15.148923</td>\n",
       "      <td>146.955913</td>\n",
       "      <td>0.01</td>\n",
       "      <td>100</td>\n",
       "      <td>False</td>\n",
       "    </tr>\n",
       "    <tr>\n",
       "      <th>9</th>\n",
       "      <td>1</td>\n",
       "      <td>10</td>\n",
       "      <td>0.304953</td>\n",
       "      <td>0.886400</td>\n",
       "      <td>15.464703</td>\n",
       "      <td>162.733968</td>\n",
       "      <td>0.01</td>\n",
       "      <td>100</td>\n",
       "      <td>False</td>\n",
       "    </tr>\n",
       "  </tbody>\n",
       "</table>\n",
       "</div>"
      ],
      "text/plain": [
       "   run  epoch      loss  accuracy  epoch duration  run duration    lr  \\\n",
       "0    1      1  0.566483  0.784817       14.188264     14.550126  0.01   \n",
       "1    1      2  0.391495  0.853117       13.224682     27.980905  0.01   \n",
       "2    1      3  0.361823  0.864367       15.430373     43.603009  0.01   \n",
       "3    1      4  0.346660  0.871150       17.990512     61.775722  0.01   \n",
       "4    1      5  0.333307  0.876633       17.116899     79.071973  0.01   \n",
       "5    1      6  0.322207  0.878133       15.022692     94.430132  0.01   \n",
       "6    1      7  0.313615  0.881300       17.451543    112.088786  0.01   \n",
       "7    1      8  0.313650  0.882567       19.223876    131.580778  0.01   \n",
       "8    1      9  0.306450  0.885267       15.148923    146.955913  0.01   \n",
       "9    1     10  0.304953  0.886400       15.464703    162.733968  0.01   \n",
       "\n",
       "   batch_size  shuffle  \n",
       "0         100    False  \n",
       "1         100    False  \n",
       "2         100    False  \n",
       "3         100    False  \n",
       "4         100    False  \n",
       "5         100    False  \n",
       "6         100    False  \n",
       "7         100    False  \n",
       "8         100    False  \n",
       "9         100    False  "
      ]
     },
     "metadata": {},
     "output_type": "display_data"
    }
   ],
   "source": [
    "m = RunManager()\n",
    "\n",
    "# get all runs from params using RunBuilder class\n",
    "for run in RunBuilder.get_runs(params):\n",
    "\n",
    "    # if params changes, following line of code should reflect the changes too\n",
    "    network = Network()\n",
    "    loader = torch.utils.data.DataLoader(train_set, batch_size = run.batch_size)\n",
    "    optimizer = optim.Adam(network.parameters(), lr=run.lr)\n",
    "\n",
    "    m.begin_run(run, network, loader)\n",
    "    for epoch in range(epochs):\n",
    "      \n",
    "      m.begin_epoch()\n",
    "      for batch in loader:\n",
    "        \n",
    "        images = batch[0]\n",
    "        labels = batch[1]\n",
    "        preds = network(images)\n",
    "        loss = F.cross_entropy(preds, labels)\n",
    "\n",
    "        optimizer.zero_grad()\n",
    "        loss.backward()\n",
    "        optimizer.step()\n",
    "\n",
    "        m.track_loss(loss)\n",
    "        m.track_num_correct(preds, labels)\n",
    "\n",
    "      m.end_epoch()\n",
    "    m.end_run()\n",
    "\n",
    "# when all runs are done, save results to files\n",
    "m.save('results')"
   ]
  },
  {
   "cell_type": "code",
   "execution_count": 8,
   "metadata": {},
   "outputs": [],
   "source": [
    "def get_pil_transform(): \n",
    "    transf = transforms.Compose([\n",
    "        #transforms.Resize((28, 28)),\n",
    "    ])    \n",
    "\n",
    "    return transf\n",
    "\n",
    "def get_preprocess_transform():\n",
    "    transf = transforms.Compose([\n",
    "        #transforms.Resize((28, 28)),\n",
    "        transforms.ToTensor(),\n",
    "    ])    \n",
    "\n",
    "    return transf    \n",
    "\n",
    "pill_transf = get_pil_transform()\n",
    "preprocess_transform = get_preprocess_transform()"
   ]
  },
  {
   "cell_type": "code",
   "execution_count": 9,
   "metadata": {},
   "outputs": [],
   "source": [
    "def batch_predict(pred_images):\n",
    "    pred_images = pred_images[:,:,:,0]\n",
    "    batchy = torch.stack(tuple(preprocess_transform(i) for i in pred_images), dim=0)\n",
    "    \n",
    "    logits = network(batchy)\n",
    "    probs = F.softmax(logits, dim=1)\n",
    "    return probs.detach().numpy()"
   ]
  },
  {
   "cell_type": "code",
   "execution_count": 10,
   "metadata": {},
   "outputs": [],
   "source": [
    "def batch_true_predict(pred_images):\n",
    "    batchy = torch.stack(tuple(preprocess_transform(i) for i in pred_images), dim=0)\n",
    "    \n",
    "    logits = network(batchy)\n",
    "    probs = F.softmax(logits, dim=1)\n",
    "    return probs.detach().numpy()"
   ]
  },
  {
   "cell_type": "code",
   "execution_count": 58,
   "metadata": {},
   "outputs": [],
   "source": [
    "test_dataloader      = torch.utils.data.DataLoader(train_set, batch_size=1, shuffle=False, num_workers=0)\n",
    "imgs, lbls  = iter(test_dataloader).next()\n",
    "\n",
    "img = torchvision.transforms.ToPILImage()(imgs[0])"
   ]
  },
  {
   "cell_type": "code",
   "execution_count": 59,
   "metadata": {},
   "outputs": [
    {
     "name": "stdout",
     "output_type": "stream",
     "text": [
      "tensor(9)\n"
     ]
    },
    {
     "data": {
      "image/png": "[encoded data removed]",
      "text/plain": [
       "<Figure size 432x288 with 1 Axes>"
      ]
     },
     "metadata": {
      "needs_background": "light"
     },
     "output_type": "display_data"
    }
   ],
   "source": [
    "import matplotlib.pyplot as plt\n",
    "import numpy as np\n",
    "\n",
    "plt.imshow(img)\n",
    "print(lbls[0])"
   ]
  },
  {
   "cell_type": "code",
   "execution_count": 67,
   "metadata": {},
   "outputs": [
    {
     "data": {
      "image/png": "[encoded data removed]",
      "text/plain": [
       "<Figure size 432x288 with 1 Axes>"
      ]
     },
     "metadata": {
      "needs_background": "light"
     },
     "output_type": "display_data"
    }
   ],
   "source": [
    "plt.imshow(img, cmap='gray')\n",
    "plt.axis('off')\n",
    "plt.savefig('fig/example.png', bbox_inches='tight')\n",
    "plt.show()"
   ]
  },
  {
   "cell_type": "code",
   "execution_count": 14,
   "metadata": {},
   "outputs": [
    {
     "data": {
      "text/plain": [
       "(28, 28)"
      ]
     },
     "execution_count": 14,
     "metadata": {},
     "output_type": "execute_result"
    }
   ],
   "source": [
    "pix = np.array(img)\n",
    "pix.shape"
   ]
  },
  {
   "cell_type": "code",
   "execution_count": 15,
   "metadata": {},
   "outputs": [
    {
     "data": {
      "application/vnd.jupyter.widget-view+json": {
       "model_id": "d12e909999944c3da575a59c46a24b2a",
       "version_major": 2,
       "version_minor": 0
      },
      "text/plain": [
       "  0%|          | 0/10000 [00:00<?, ?it/s]"
      ]
     },
     "metadata": {},
     "output_type": "display_data"
    }
   ],
   "source": [
    "from lime import lime_image\n",
    "\n",
    "explainer = lime_image.LimeImageExplainer()\n",
    "explanation = explainer.explain_instance(pix, \n",
    "                                         batch_predict, # classification function\n",
    "                                         #top_labels=5, \n",
    "                                         hide_color=0, \n",
    "                                         num_samples=10000) # number of images that will be sent to classification function"
   ]
  },
  {
   "cell_type": "code",
   "execution_count": 16,
   "metadata": {},
   "outputs": [
    {
     "data": {
      "text/plain": [
       "{1: [(0, -0.0015340722355041154)],\n",
       " 8: [(0, -0.026280660367375176)],\n",
       " 5: [(0, -0.5163180040935533)],\n",
       " 7: [(0, -0.06825291880505019)],\n",
       " 9: [(0, 0.6251846879210021)]}"
      ]
     },
     "execution_count": 16,
     "metadata": {},
     "output_type": "execute_result"
    }
   ],
   "source": [
    "explanation.local_exp"
   ]
  },
  {
   "cell_type": "code",
   "execution_count": 68,
   "metadata": {},
   "outputs": [
    {
     "name": "stderr",
     "output_type": "stream",
     "text": [
      "Clipping input data to the valid range for imshow with RGB data ([0..1] for floats or [0..255] for integers).\n"
     ]
    },
    {
     "data": {
      "image/png": "[encoded data removed]",
      "text/plain": [
       "<Figure size 432x288 with 1 Axes>"
      ]
     },
     "metadata": {
      "needs_background": "light"
     },
     "output_type": "display_data"
    }
   ],
   "source": [
    "from skimage.segmentation import mark_boundaries\n",
    "\n",
    "temp, mask = explanation.get_image_and_mask(explanation.top_labels[0], positive_only=True, num_features=5, hide_rest=False)\n",
    "img_boundry1 = mark_boundaries(temp/28, mask)\n",
    "plt.imshow(img_boundry1, cmap='gray')\n",
    "plt.axis('off')\n",
    "plt.savefig('fig/example_lime.png', bbox_inches='tight')\n",
    "plt.show()"
   ]
  },
  {
   "cell_type": "code",
   "execution_count": 18,
   "metadata": {},
   "outputs": [
    {
     "name": "stderr",
     "output_type": "stream",
     "text": [
      "Clipping input data to the valid range for imshow with RGB data ([0..1] for floats or [0..255] for integers).\n"
     ]
    },
    {
     "data": {
      "text/plain": [
       "<matplotlib.image.AxesImage at 0x7f9fab92de48>"
      ]
     },
     "execution_count": 18,
     "metadata": {},
     "output_type": "execute_result"
    },
    {
     "data": {
      "image/png": "[encoded data removed]",
      "text/plain": [
       "<Figure size 432x288 with 1 Axes>"
      ]
     },
     "metadata": {
      "needs_background": "light"
     },
     "output_type": "display_data"
    }
   ],
   "source": [
    "temp, mask = explanation.get_image_and_mask(explanation.top_labels[0], positive_only=False, num_features=10, hide_rest=False)\n",
    "img_boundry2 = mark_boundaries(temp/28, mask)\n",
    "plt.imshow(img_boundry2)"
   ]
  },
  {
   "cell_type": "code",
   "execution_count": 20,
   "metadata": {},
   "outputs": [],
   "source": [
    "sample_size = 1000\n",
    "sample_lbls = []\n",
    "sample_imgs = []\n",
    "\n",
    "iterator = iter(torch.utils.data.DataLoader(train_set, batch_size=1, shuffle=False, num_workers=0))\n",
    "\n",
    "for i in range(sample_size):\n",
    "    img, lbl  = next(iterator)\n",
    "    img = torchvision.transforms.ToPILImage()(img[0])\n",
    "    sample_lbls.append(lbl)\n",
    "    sample_imgs.append(img)"
   ]
  },
  {
   "cell_type": "code",
   "execution_count": 21,
   "metadata": {},
   "outputs": [
    {
     "data": {
      "image/png": "[encoded data removed]",
      "text/plain": [
       "<PIL.Image.Image image mode=L size=28x28 at 0x7F9F7F2BBF98>"
      ]
     },
     "execution_count": 21,
     "metadata": {},
     "output_type": "execute_result"
    }
   ],
   "source": [
    "img"
   ]
  },
  {
   "cell_type": "code",
   "execution_count": 22,
   "metadata": {},
   "outputs": [],
   "source": [
    "true_preds = batch_true_predict(sample_imgs)"
   ]
  },
  {
   "cell_type": "code",
   "execution_count": 43,
   "metadata": {},
   "outputs": [],
   "source": [
    "import random\n",
    "\n",
    "dif_sample_imgs = []\n",
    "\n",
    "for image in sample_imgs:\n",
    "    im = np.array(image)\n",
    "    x = random.randint(0, 27)\n",
    "    y = random.randint(0, 27)\n",
    "    im[x][y] = 0\n",
    "    dif_sample_imgs.append(torchvision.transforms.ToPILImage()(im))"
   ]
  },
  {
   "cell_type": "code",
   "execution_count": 44,
   "metadata": {},
   "outputs": [],
   "source": [
    "new_preds = batch_true_predict(dif_sample_imgs)"
   ]
  },
  {
   "cell_type": "code",
   "execution_count": 24,
   "metadata": {
    "scrolled": false
   },
   "outputs": [
    {
     "data": {
      "application/vnd.jupyter.widget-view+json": {
       "model_id": "5e5f969116cc48e29039b1c0d45c63aa",
       "version_major": 2,
       "version_minor": 0
      },
      "text/plain": [
       "  0%|          | 0/1000 [00:00<?, ?it/s]"
      ]
     },
     "metadata": {},
     "output_type": "display_data"
    },
    {
     "data": {
      "application/vnd.jupyter.widget-view+json": {
       "model_id": "ac3483d08bfa41148ddb879168e44096",
       "version_major": 2,
       "version_minor": 0
      },
      "text/plain": [
       "  0%|          | 0/1000 [00:00<?, ?it/s]"
      ]
     },
     "metadata": {},
     "output_type": "display_data"
    },
    {
     "data": {
      "application/vnd.jupyter.widget-view+json": {
       "model_id": "e48755b0c67748a99b4fb78db539fd90",
       "version_major": 2,
       "version_minor": 0
      },
      "text/plain": [
       "  0%|          | 0/1000 [00:00<?, ?it/s]"
      ]
     },
     "metadata": {},
     "output_type": "display_data"
    },
    {
     "data": {
      "application/vnd.jupyter.widget-view+json": {
       "model_id": "cc374386f175464594b021b0faa9ebf7",
       "version_major": 2,
       "version_minor": 0
      },
      "text/plain": [
       "  0%|          | 0/1000 [00:00<?, ?it/s]"
      ]
     },
     "metadata": {},
     "output_type": "display_data"
    },
    {
     "data": {
      "application/vnd.jupyter.widget-view+json": {
       "model_id": "610bb0e5aa7a4503b8cae58bd519bb70",
       "version_major": 2,
       "version_minor": 0
      },
      "text/plain": [
       "  0%|          | 0/1000 [00:00<?, ?it/s]"
      ]
     },
     "metadata": {},
     "output_type": "display_data"
    },
    {
     "data": {
      "application/vnd.jupyter.widget-view+json": {
       "model_id": "acae48dce2434ca68ad068f320588434",
       "version_major": 2,
       "version_minor": 0
      },
      "text/plain": [
       "  0%|          | 0/1000 [00:00<?, ?it/s]"
      ]
     },
     "metadata": {},
     "output_type": "display_data"
    },
    {
     "data": {
      "application/vnd.jupyter.widget-view+json": {
       "model_id": "43ccac63db4643e693573b6950ebfc98",
       "version_major": 2,
       "version_minor": 0
      },
      "text/plain": [
       "  0%|          | 0/1000 [00:00<?, ?it/s]"
      ]
     },
     "metadata": {},
     "output_type": "display_data"
    },
    {
     "data": {
      "application/vnd.jupyter.widget-view+json": {
       "model_id": "72ddf8f992c6451c9310b099473dd07f",
       "version_major": 2,
       "version_minor": 0
      },
      "text/plain": [
       "  0%|          | 0/1000 [00:00<?, ?it/s]"
      ]
     },
     "metadata": {},
     "output_type": "display_data"
    },
    {
     "data": {
      "application/vnd.jupyter.widget-view+json": {
       "model_id": "48a650a6440147b6ab175d8c2d30aa2e",
       "version_major": 2,
       "version_minor": 0
      },
      "text/plain": [
       "  0%|          | 0/1000 [00:00<?, ?it/s]"
      ]
     },
     "metadata": {},
     "output_type": "display_data"
    },
    {
     "data": {
      "application/vnd.jupyter.widget-view+json": {
       "model_id": "138292802b4b440d88d3e152351348e0",
       "version_major": 2,
       "version_minor": 0
      },
      "text/plain": [
       "  0%|          | 0/1000 [00:00<?, ?it/s]"
      ]
     },
     "metadata": {},
     "output_type": "display_data"
    },
    {
     "data": {
      "application/vnd.jupyter.widget-view+json": {
       "model_id": "1ddecdbf81144b408b04771af5040861",
       "version_major": 2,
       "version_minor": 0
      },
      "text/plain": [
       "  0%|          | 0/1000 [00:00<?, ?it/s]"
      ]
     },
     "metadata": {},
     "output_type": "display_data"
    },
    {
     "data": {
      "application/vnd.jupyter.widget-view+json": {
       "model_id": "b4c3819ec7404e238437d68f575e59d8",
       "version_major": 2,
       "version_minor": 0
      },
      "text/plain": [
       "  0%|          | 0/1000 [00:00<?, ?it/s]"
      ]
     },
     "metadata": {},
     "output_type": "display_data"
    },
    {
     "data": {
      "application/vnd.jupyter.widget-view+json": {
       "model_id": "83f74f641d9c4628a967c15408c76d8f",
       "version_major": 2,
       "version_minor": 0
      },
      "text/plain": [
       "  0%|          | 0/1000 [00:00<?, ?it/s]"
      ]
     },
     "metadata": {},
     "output_type": "display_data"
    },
    {
     "data": {
      "application/vnd.jupyter.widget-view+json": {
       "model_id": "1769e833c1824d318ede52b40f846de6",
       "version_major": 2,
       "version_minor": 0
      },
      "text/plain": [
       "  0%|          | 0/1000 [00:00<?, ?it/s]"
      ]
     },
     "metadata": {},
     "output_type": "display_data"
    },
    {
     "data": {
      "application/vnd.jupyter.widget-view+json": {
       "model_id": "3513eae204a643379cc7ed742c88d29c",
       "version_major": 2,
       "version_minor": 0
      },
      "text/plain": [
       "  0%|          | 0/1000 [00:00<?, ?it/s]"
      ]
     },
     "metadata": {},
     "output_type": "display_data"
    },
    {
     "data": {
      "application/vnd.jupyter.widget-view+json": {
       "model_id": "7bccbdc1e11f47c793bc271eba826911",
       "version_major": 2,
       "version_minor": 0
      },
      "text/plain": [
       "  0%|          | 0/1000 [00:00<?, ?it/s]"
      ]
     },
     "metadata": {},
     "output_type": "display_data"
    },
    {
     "data": {
      "application/vnd.jupyter.widget-view+json": {
       "model_id": "90ae8019735f4dfdbe220f9afc7eb901",
       "version_major": 2,
       "version_minor": 0
      },
      "text/plain": [
       "  0%|          | 0/1000 [00:00<?, ?it/s]"
      ]
     },
     "metadata": {},
     "output_type": "display_data"
    },
    {
     "data": {
      "application/vnd.jupyter.widget-view+json": {
       "model_id": "362d0c8e7c2b4013a834a52a08e470e2",
       "version_major": 2,
       "version_minor": 0
      },
      "text/plain": [
       "  0%|          | 0/1000 [00:00<?, ?it/s]"
      ]
     },
     "metadata": {},
     "output_type": "display_data"
    },
    {
     "data": {
      "application/vnd.jupyter.widget-view+json": {
       "model_id": "1ffb3ade47ab4dc78875f37739302eb4",
       "version_major": 2,
       "version_minor": 0
      },
      "text/plain": [
       "  0%|          | 0/1000 [00:00<?, ?it/s]"
      ]
     },
     "metadata": {},
     "output_type": "display_data"
    },
    {
     "data": {
      "application/vnd.jupyter.widget-view+json": {
       "model_id": "006917a75fea467dac985ad88c5d966d",
       "version_major": 2,
       "version_minor": 0
      },
      "text/plain": [
       "  0%|          | 0/1000 [00:00<?, ?it/s]"
      ]
     },
     "metadata": {},
     "output_type": "display_data"
    },
    {
     "data": {
      "application/vnd.jupyter.widget-view+json": {
       "model_id": "29519566d6cd4aadb3b7e902c770713f",
       "version_major": 2,
       "version_minor": 0
      },
      "text/plain": [
       "  0%|          | 0/1000 [00:00<?, ?it/s]"
      ]
     },
     "metadata": {},
     "output_type": "display_data"
    },
    {
     "data": {
      "application/vnd.jupyter.widget-view+json": {
       "model_id": "da8c82b129284c6b9f605e5616a2ac67",
       "version_major": 2,
       "version_minor": 0
      },
      "text/plain": [
       "  0%|          | 0/1000 [00:00<?, ?it/s]"
      ]
     },
     "metadata": {},
     "output_type": "display_data"
    },
    {
     "data": {
      "application/vnd.jupyter.widget-view+json": {
       "model_id": "ebf4b9b7e66143d89fafedaa3c0c692c",
       "version_major": 2,
       "version_minor": 0
      },
      "text/plain": [
       "  0%|          | 0/1000 [00:00<?, ?it/s]"
      ]
     },
     "metadata": {},
     "output_type": "display_data"
    },
    {
     "data": {
      "application/vnd.jupyter.widget-view+json": {
       "model_id": "4d477edab88647398855e81605746986",
       "version_major": 2,
       "version_minor": 0
      },
      "text/plain": [
       "  0%|          | 0/1000 [00:00<?, ?it/s]"
      ]
     },
     "metadata": {},
     "output_type": "display_data"
    },
    {
     "data": {
      "application/vnd.jupyter.widget-view+json": {
       "model_id": "3d6531ba4e5849a797345545b8e5eadc",
       "version_major": 2,
       "version_minor": 0
      },
      "text/plain": [
       "  0%|          | 0/1000 [00:00<?, ?it/s]"
      ]
     },
     "metadata": {},
     "output_type": "display_data"
    },
    {
     "data": {
      "application/vnd.jupyter.widget-view+json": {
       "model_id": "e36c6b018c664acd91ecbb2c5660db6b",
       "version_major": 2,
       "version_minor": 0
      },
      "text/plain": [
       "  0%|          | 0/1000 [00:00<?, ?it/s]"
      ]
     },
     "metadata": {},
     "output_type": "display_data"
    },
    {
     "data": {
      "application/vnd.jupyter.widget-view+json": {
       "model_id": "2bd19c1b57f04c1f9d059c9ae13ea3c7",
       "version_major": 2,
       "version_minor": 0
      },
      "text/plain": [
       "  0%|          | 0/1000 [00:00<?, ?it/s]"
      ]
     },
     "metadata": {},
     "output_type": "display_data"
    },
    {
     "data": {
      "application/vnd.jupyter.widget-view+json": {
       "model_id": "fe7c3df7c01a45b4962f58fe662729b0",
       "version_major": 2,
       "version_minor": 0
      },
      "text/plain": [
       "  0%|          | 0/1000 [00:00<?, ?it/s]"
      ]
     },
     "metadata": {},
     "output_type": "display_data"
    },
    {
     "data": {
      "application/vnd.jupyter.widget-view+json": {
       "model_id": "2e40ae55954a45d5a7881c4736aa7b66",
       "version_major": 2,
       "version_minor": 0
      },
      "text/plain": [
       "  0%|          | 0/1000 [00:00<?, ?it/s]"
      ]
     },
     "metadata": {},
     "output_type": "display_data"
    },
    {
     "data": {
      "application/vnd.jupyter.widget-view+json": {
       "model_id": "dcae956460654cc09500668fd41bd505",
       "version_major": 2,
       "version_minor": 0
      },
      "text/plain": [
       "  0%|          | 0/1000 [00:00<?, ?it/s]"
      ]
     },
     "metadata": {},
     "output_type": "display_data"
    },
    {
     "data": {
      "application/vnd.jupyter.widget-view+json": {
       "model_id": "f8ccba2077d74d1aac737e783d2c2dc0",
       "version_major": 2,
       "version_minor": 0
      },
      "text/plain": [
       "  0%|          | 0/1000 [00:00<?, ?it/s]"
      ]
     },
     "metadata": {},
     "output_type": "display_data"
    },
    {
     "data": {
      "application/vnd.jupyter.widget-view+json": {
       "model_id": "71a5bffd4e1e4e2b80c85e03dba228e4",
       "version_major": 2,
       "version_minor": 0
      },
      "text/plain": [
       "  0%|          | 0/1000 [00:00<?, ?it/s]"
      ]
     },
     "metadata": {},
     "output_type": "display_data"
    },
    {
     "data": {
      "application/vnd.jupyter.widget-view+json": {
       "model_id": "7c8f99687df94c22b8441e6969265490",
       "version_major": 2,
       "version_minor": 0
      },
      "text/plain": [
       "  0%|          | 0/1000 [00:00<?, ?it/s]"
      ]
     },
     "metadata": {},
     "output_type": "display_data"
    },
    {
     "data": {
      "application/vnd.jupyter.widget-view+json": {
       "model_id": "659fd5271e4b40a7a53e9ed0b5759249",
       "version_major": 2,
       "version_minor": 0
      },
      "text/plain": [
       "  0%|          | 0/1000 [00:00<?, ?it/s]"
      ]
     },
     "metadata": {},
     "output_type": "display_data"
    },
    {
     "data": {
      "application/vnd.jupyter.widget-view+json": {
       "model_id": "9224420b779b4dd98e230eb44a28997e",
       "version_major": 2,
       "version_minor": 0
      },
      "text/plain": [
       "  0%|          | 0/1000 [00:00<?, ?it/s]"
      ]
     },
     "metadata": {},
     "output_type": "display_data"
    },
    {
     "data": {
      "application/vnd.jupyter.widget-view+json": {
       "model_id": "57c10bdde0094e1ea42ae9a3935419ed",
       "version_major": 2,
       "version_minor": 0
      },
      "text/plain": [
       "  0%|          | 0/1000 [00:00<?, ?it/s]"
      ]
     },
     "metadata": {},
     "output_type": "display_data"
    },
    {
     "data": {
      "application/vnd.jupyter.widget-view+json": {
       "model_id": "4137090dfac2401b864e488dfe212411",
       "version_major": 2,
       "version_minor": 0
      },
      "text/plain": [
       "  0%|          | 0/1000 [00:00<?, ?it/s]"
      ]
     },
     "metadata": {},
     "output_type": "display_data"
    },
    {
     "data": {
      "application/vnd.jupyter.widget-view+json": {
       "model_id": "c11d4d5d0bff4bccb9a22f830f1b8502",
       "version_major": 2,
       "version_minor": 0
      },
      "text/plain": [
       "  0%|          | 0/1000 [00:00<?, ?it/s]"
      ]
     },
     "metadata": {},
     "output_type": "display_data"
    },
    {
     "data": {
      "application/vnd.jupyter.widget-view+json": {
       "model_id": "2aa22ce0fe7b40c9a27a8a344c6e3b29",
       "version_major": 2,
       "version_minor": 0
      },
      "text/plain": [
       "  0%|          | 0/1000 [00:00<?, ?it/s]"
      ]
     },
     "metadata": {},
     "output_type": "display_data"
    },
    {
     "data": {
      "application/vnd.jupyter.widget-view+json": {
       "model_id": "1a83e1143e2a4cebbc620b72e071739f",
       "version_major": 2,
       "version_minor": 0
      },
      "text/plain": [
       "  0%|          | 0/1000 [00:00<?, ?it/s]"
      ]
     },
     "metadata": {},
     "output_type": "display_data"
    },
    {
     "data": {
      "application/vnd.jupyter.widget-view+json": {
       "model_id": "7d592c9a7477425ab33d16803df6cb52",
       "version_major": 2,
       "version_minor": 0
      },
      "text/plain": [
       "  0%|          | 0/1000 [00:00<?, ?it/s]"
      ]
     },
     "metadata": {},
     "output_type": "display_data"
    },
    {
     "data": {
      "application/vnd.jupyter.widget-view+json": {
       "model_id": "7b7a8c6daae443f193210ac26ad702dd",
       "version_major": 2,
       "version_minor": 0
      },
      "text/plain": [
       "  0%|          | 0/1000 [00:00<?, ?it/s]"
      ]
     },
     "metadata": {},
     "output_type": "display_data"
    },
    {
     "data": {
      "application/vnd.jupyter.widget-view+json": {
       "model_id": "f5d182eaec394389bc833bd9c95d1569",
       "version_major": 2,
       "version_minor": 0
      },
      "text/plain": [
       "  0%|          | 0/1000 [00:00<?, ?it/s]"
      ]
     },
     "metadata": {},
     "output_type": "display_data"
    },
    {
     "data": {
      "application/vnd.jupyter.widget-view+json": {
       "model_id": "114a610e0b5b486a935c56e6b768cebd",
       "version_major": 2,
       "version_minor": 0
      },
      "text/plain": [
       "  0%|          | 0/1000 [00:00<?, ?it/s]"
      ]
     },
     "metadata": {},
     "output_type": "display_data"
    },
    {
     "data": {
      "application/vnd.jupyter.widget-view+json": {
       "model_id": "8062917837594b6ea6d88d03db5d6ffc",
       "version_major": 2,
       "version_minor": 0
      },
      "text/plain": [
       "  0%|          | 0/1000 [00:00<?, ?it/s]"
      ]
     },
     "metadata": {},
     "output_type": "display_data"
    },
    {
     "data": {
      "application/vnd.jupyter.widget-view+json": {
       "model_id": "7c4ee74681ce4fce821aeb06291b7903",
       "version_major": 2,
       "version_minor": 0
      },
      "text/plain": [
       "  0%|          | 0/1000 [00:00<?, ?it/s]"
      ]
     },
     "metadata": {},
     "output_type": "display_data"
    },
    {
     "data": {
      "application/vnd.jupyter.widget-view+json": {
       "model_id": "cb5e35a371364a9faf34ccbb74b3b4cb",
       "version_major": 2,
       "version_minor": 0
      },
      "text/plain": [
       "  0%|          | 0/1000 [00:00<?, ?it/s]"
      ]
     },
     "metadata": {},
     "output_type": "display_data"
    },
    {
     "data": {
      "application/vnd.jupyter.widget-view+json": {
       "model_id": "84e9e959af344c328cdcbe8335506c58",
       "version_major": 2,
       "version_minor": 0
      },
      "text/plain": [
       "  0%|          | 0/1000 [00:00<?, ?it/s]"
      ]
     },
     "metadata": {},
     "output_type": "display_data"
    },
    {
     "data": {
      "application/vnd.jupyter.widget-view+json": {
       "model_id": "59bce647f2dc453faa444a1d1d1b2e72",
       "version_major": 2,
       "version_minor": 0
      },
      "text/plain": [
       "  0%|          | 0/1000 [00:00<?, ?it/s]"
      ]
     },
     "metadata": {},
     "output_type": "display_data"
    },
    {
     "data": {
      "application/vnd.jupyter.widget-view+json": {
       "model_id": "3e2a569019c9408bb8d7f11c3f811196",
       "version_major": 2,
       "version_minor": 0
      },
      "text/plain": [
       "  0%|          | 0/1000 [00:00<?, ?it/s]"
      ]
     },
     "metadata": {},
     "output_type": "display_data"
    },
    {
     "data": {
      "application/vnd.jupyter.widget-view+json": {
       "model_id": "7b4bfaee73304352999a755e29820cbd",
       "version_major": 2,
       "version_minor": 0
      },
      "text/plain": [
       "  0%|          | 0/1000 [00:00<?, ?it/s]"
      ]
     },
     "metadata": {},
     "output_type": "display_data"
    },
    {
     "data": {
      "application/vnd.jupyter.widget-view+json": {
       "model_id": "f5249e6b4b2a4961a7a5b61a7bb656a8",
       "version_major": 2,
       "version_minor": 0
      },
      "text/plain": [
       "  0%|          | 0/1000 [00:00<?, ?it/s]"
      ]
     },
     "metadata": {},
     "output_type": "display_data"
    },
    {
     "data": {
      "application/vnd.jupyter.widget-view+json": {
       "model_id": "24003e9b5e7544c3a4638b5f41651711",
       "version_major": 2,
       "version_minor": 0
      },
      "text/plain": [
       "  0%|          | 0/1000 [00:00<?, ?it/s]"
      ]
     },
     "metadata": {},
     "output_type": "display_data"
    },
    {
     "data": {
      "application/vnd.jupyter.widget-view+json": {
       "model_id": "a3526f513f7a45848516428388a6aca8",
       "version_major": 2,
       "version_minor": 0
      },
      "text/plain": [
       "  0%|          | 0/1000 [00:00<?, ?it/s]"
      ]
     },
     "metadata": {},
     "output_type": "display_data"
    },
    {
     "data": {
      "application/vnd.jupyter.widget-view+json": {
       "model_id": "97dfe1a3fefe445184d710a056a8458b",
       "version_major": 2,
       "version_minor": 0
      },
      "text/plain": [
       "  0%|          | 0/1000 [00:00<?, ?it/s]"
      ]
     },
     "metadata": {},
     "output_type": "display_data"
    },
    {
     "data": {
      "application/vnd.jupyter.widget-view+json": {
       "model_id": "88d537c6f1864de5be93e4a04f22c1a1",
       "version_major": 2,
       "version_minor": 0
      },
      "text/plain": [
       "  0%|          | 0/1000 [00:00<?, ?it/s]"
      ]
     },
     "metadata": {},
     "output_type": "display_data"
    },
    {
     "data": {
      "application/vnd.jupyter.widget-view+json": {
       "model_id": "fcd5afb35aa8437293cb734189089a5c",
       "version_major": 2,
       "version_minor": 0
      },
      "text/plain": [
       "  0%|          | 0/1000 [00:00<?, ?it/s]"
      ]
     },
     "metadata": {},
     "output_type": "display_data"
    },
    {
     "data": {
      "application/vnd.jupyter.widget-view+json": {
       "model_id": "0f2726e663f74a80a71d6e48286d339c",
       "version_major": 2,
       "version_minor": 0
      },
      "text/plain": [
       "  0%|          | 0/1000 [00:00<?, ?it/s]"
      ]
     },
     "metadata": {},
     "output_type": "display_data"
    },
    {
     "data": {
      "application/vnd.jupyter.widget-view+json": {
       "model_id": "c896bd1e6c3b4f2b9fd4a30b839b33e0",
       "version_major": 2,
       "version_minor": 0
      },
      "text/plain": [
       "  0%|          | 0/1000 [00:00<?, ?it/s]"
      ]
     },
     "metadata": {},
     "output_type": "display_data"
    },
    {
     "data": {
      "application/vnd.jupyter.widget-view+json": {
       "model_id": "cc4967bc20c64352b8e10afb1e09489a",
       "version_major": 2,
       "version_minor": 0
      },
      "text/plain": [
       "  0%|          | 0/1000 [00:00<?, ?it/s]"
      ]
     },
     "metadata": {},
     "output_type": "display_data"
    },
    {
     "data": {
      "application/vnd.jupyter.widget-view+json": {
       "model_id": "941a42b9bdc240569b7cbbaad99d23a7",
       "version_major": 2,
       "version_minor": 0
      },
      "text/plain": [
       "  0%|          | 0/1000 [00:00<?, ?it/s]"
      ]
     },
     "metadata": {},
     "output_type": "display_data"
    },
    {
     "data": {
      "application/vnd.jupyter.widget-view+json": {
       "model_id": "7b50c052d172458888297bcbd524cdcd",
       "version_major": 2,
       "version_minor": 0
      },
      "text/plain": [
       "  0%|          | 0/1000 [00:00<?, ?it/s]"
      ]
     },
     "metadata": {},
     "output_type": "display_data"
    },
    {
     "data": {
      "application/vnd.jupyter.widget-view+json": {
       "model_id": "093506b94cc2413a8f074c4c84771764",
       "version_major": 2,
       "version_minor": 0
      },
      "text/plain": [
       "  0%|          | 0/1000 [00:00<?, ?it/s]"
      ]
     },
     "metadata": {},
     "output_type": "display_data"
    },
    {
     "data": {
      "application/vnd.jupyter.widget-view+json": {
       "model_id": "75468bb1fa424bf7ad05deda19740f35",
       "version_major": 2,
       "version_minor": 0
      },
      "text/plain": [
       "  0%|          | 0/1000 [00:00<?, ?it/s]"
      ]
     },
     "metadata": {},
     "output_type": "display_data"
    },
    {
     "data": {
      "application/vnd.jupyter.widget-view+json": {
       "model_id": "dc31dacf9d42457b9cbcc53e5a294c91",
       "version_major": 2,
       "version_minor": 0
      },
      "text/plain": [
       "  0%|          | 0/1000 [00:00<?, ?it/s]"
      ]
     },
     "metadata": {},
     "output_type": "display_data"
    },
    {
     "data": {
      "application/vnd.jupyter.widget-view+json": {
       "model_id": "a44a02bbecd2490daeb7893695f2411b",
       "version_major": 2,
       "version_minor": 0
      },
      "text/plain": [
       "  0%|          | 0/1000 [00:00<?, ?it/s]"
      ]
     },
     "metadata": {},
     "output_type": "display_data"
    },
    {
     "data": {
      "application/vnd.jupyter.widget-view+json": {
       "model_id": "d010745bc0b5418195aeca0e082a0222",
       "version_major": 2,
       "version_minor": 0
      },
      "text/plain": [
       "  0%|          | 0/1000 [00:00<?, ?it/s]"
      ]
     },
     "metadata": {},
     "output_type": "display_data"
    },
    {
     "data": {
      "application/vnd.jupyter.widget-view+json": {
       "model_id": "1f357c9dcbe64a58b3b859f83bf3bdf0",
       "version_major": 2,
       "version_minor": 0
      },
      "text/plain": [
       "  0%|          | 0/1000 [00:00<?, ?it/s]"
      ]
     },
     "metadata": {},
     "output_type": "display_data"
    },
    {
     "data": {
      "application/vnd.jupyter.widget-view+json": {
       "model_id": "d38c8268d6304fc5a67eeb5646efa6d0",
       "version_major": 2,
       "version_minor": 0
      },
      "text/plain": [
       "  0%|          | 0/1000 [00:00<?, ?it/s]"
      ]
     },
     "metadata": {},
     "output_type": "display_data"
    },
    {
     "data": {
      "application/vnd.jupyter.widget-view+json": {
       "model_id": "7d5ede5bf6564aabad22e5ddd21de94c",
       "version_major": 2,
       "version_minor": 0
      },
      "text/plain": [
       "  0%|          | 0/1000 [00:00<?, ?it/s]"
      ]
     },
     "metadata": {},
     "output_type": "display_data"
    },
    {
     "data": {
      "application/vnd.jupyter.widget-view+json": {
       "model_id": "a08a326ca22642939e9462c2aa7348da",
       "version_major": 2,
       "version_minor": 0
      },
      "text/plain": [
       "  0%|          | 0/1000 [00:00<?, ?it/s]"
      ]
     },
     "metadata": {},
     "output_type": "display_data"
    },
    {
     "data": {
      "application/vnd.jupyter.widget-view+json": {
       "model_id": "7ce94a57eabb4abd9317805f5c4dfc2c",
       "version_major": 2,
       "version_minor": 0
      },
      "text/plain": [
       "  0%|          | 0/1000 [00:00<?, ?it/s]"
      ]
     },
     "metadata": {},
     "output_type": "display_data"
    },
    {
     "data": {
      "application/vnd.jupyter.widget-view+json": {
       "model_id": "a91f80ee2115499282c7733c9b7c4e04",
       "version_major": 2,
       "version_minor": 0
      },
      "text/plain": [
       "  0%|          | 0/1000 [00:00<?, ?it/s]"
      ]
     },
     "metadata": {},
     "output_type": "display_data"
    },
    {
     "data": {
      "application/vnd.jupyter.widget-view+json": {
       "model_id": "a0d5734489c14243bc9667a52ea17e0d",
       "version_major": 2,
       "version_minor": 0
      },
      "text/plain": [
       "  0%|          | 0/1000 [00:00<?, ?it/s]"
      ]
     },
     "metadata": {},
     "output_type": "display_data"
    },
    {
     "data": {
      "application/vnd.jupyter.widget-view+json": {
       "model_id": "2e4f54f38df04fd3a246df5716021a86",
       "version_major": 2,
       "version_minor": 0
      },
      "text/plain": [
       "  0%|          | 0/1000 [00:00<?, ?it/s]"
      ]
     },
     "metadata": {},
     "output_type": "display_data"
    },
    {
     "data": {
      "application/vnd.jupyter.widget-view+json": {
       "model_id": "b03e5832c01245d0837239eb4f3f1603",
       "version_major": 2,
       "version_minor": 0
      },
      "text/plain": [
       "  0%|          | 0/1000 [00:00<?, ?it/s]"
      ]
     },
     "metadata": {},
     "output_type": "display_data"
    },
    {
     "data": {
      "application/vnd.jupyter.widget-view+json": {
       "model_id": "a0649f223e0346a9aafb3d65688c766d",
       "version_major": 2,
       "version_minor": 0
      },
      "text/plain": [
       "  0%|          | 0/1000 [00:00<?, ?it/s]"
      ]
     },
     "metadata": {},
     "output_type": "display_data"
    },
    {
     "data": {
      "application/vnd.jupyter.widget-view+json": {
       "model_id": "ce7848adb23a498f8f82ae52622b13d0",
       "version_major": 2,
       "version_minor": 0
      },
      "text/plain": [
       "  0%|          | 0/1000 [00:00<?, ?it/s]"
      ]
     },
     "metadata": {},
     "output_type": "display_data"
    },
    {
     "data": {
      "application/vnd.jupyter.widget-view+json": {
       "model_id": "57c792ee6be145f9b4a42f486a4afc07",
       "version_major": 2,
       "version_minor": 0
      },
      "text/plain": [
       "  0%|          | 0/1000 [00:00<?, ?it/s]"
      ]
     },
     "metadata": {},
     "output_type": "display_data"
    },
    {
     "data": {
      "application/vnd.jupyter.widget-view+json": {
       "model_id": "6408d129af184fa68513db972a3647d2",
       "version_major": 2,
       "version_minor": 0
      },
      "text/plain": [
       "  0%|          | 0/1000 [00:00<?, ?it/s]"
      ]
     },
     "metadata": {},
     "output_type": "display_data"
    },
    {
     "data": {
      "application/vnd.jupyter.widget-view+json": {
       "model_id": "04976e3b86ac4b83a6136ef167f477d8",
       "version_major": 2,
       "version_minor": 0
      },
      "text/plain": [
       "  0%|          | 0/1000 [00:00<?, ?it/s]"
      ]
     },
     "metadata": {},
     "output_type": "display_data"
    },
    {
     "data": {
      "application/vnd.jupyter.widget-view+json": {
       "model_id": "35130a05a371440495a0485082a7934c",
       "version_major": 2,
       "version_minor": 0
      },
      "text/plain": [
       "  0%|          | 0/1000 [00:00<?, ?it/s]"
      ]
     },
     "metadata": {},
     "output_type": "display_data"
    },
    {
     "data": {
      "application/vnd.jupyter.widget-view+json": {
       "model_id": "130394c9c41a468b8d4b958f6e7a0310",
       "version_major": 2,
       "version_minor": 0
      },
      "text/plain": [
       "  0%|          | 0/1000 [00:00<?, ?it/s]"
      ]
     },
     "metadata": {},
     "output_type": "display_data"
    },
    {
     "data": {
      "application/vnd.jupyter.widget-view+json": {
       "model_id": "bba28477e8214db695aaeadfc963c156",
       "version_major": 2,
       "version_minor": 0
      },
      "text/plain": [
       "  0%|          | 0/1000 [00:00<?, ?it/s]"
      ]
     },
     "metadata": {},
     "output_type": "display_data"
    },
    {
     "data": {
      "application/vnd.jupyter.widget-view+json": {
       "model_id": "ec87759a8a33427690c5e9f7ff8068f1",
       "version_major": 2,
       "version_minor": 0
      },
      "text/plain": [
       "  0%|          | 0/1000 [00:00<?, ?it/s]"
      ]
     },
     "metadata": {},
     "output_type": "display_data"
    },
    {
     "data": {
      "application/vnd.jupyter.widget-view+json": {
       "model_id": "ed3d86eb719246b186061e8aa3d8191d",
       "version_major": 2,
       "version_minor": 0
      },
      "text/plain": [
       "  0%|          | 0/1000 [00:00<?, ?it/s]"
      ]
     },
     "metadata": {},
     "output_type": "display_data"
    },
    {
     "data": {
      "application/vnd.jupyter.widget-view+json": {
       "model_id": "6c0d50ee97394bafa8ab93b7879f2eac",
       "version_major": 2,
       "version_minor": 0
      },
      "text/plain": [
       "  0%|          | 0/1000 [00:00<?, ?it/s]"
      ]
     },
     "metadata": {},
     "output_type": "display_data"
    },
    {
     "data": {
      "application/vnd.jupyter.widget-view+json": {
       "model_id": "8768c205396d4c118d0adecf99031a61",
       "version_major": 2,
       "version_minor": 0
      },
      "text/plain": [
       "  0%|          | 0/1000 [00:00<?, ?it/s]"
      ]
     },
     "metadata": {},
     "output_type": "display_data"
    },
    {
     "data": {
      "application/vnd.jupyter.widget-view+json": {
       "model_id": "be48ddf24e184c55a7c15fe90fef49f3",
       "version_major": 2,
       "version_minor": 0
      },
      "text/plain": [
       "  0%|          | 0/1000 [00:00<?, ?it/s]"
      ]
     },
     "metadata": {},
     "output_type": "display_data"
    },
    {
     "data": {
      "application/vnd.jupyter.widget-view+json": {
       "model_id": "4e32e53bffcf44689087973652fbe5cf",
       "version_major": 2,
       "version_minor": 0
      },
      "text/plain": [
       "  0%|          | 0/1000 [00:00<?, ?it/s]"
      ]
     },
     "metadata": {},
     "output_type": "display_data"
    },
    {
     "data": {
      "application/vnd.jupyter.widget-view+json": {
       "model_id": "3657152baf28409bb70ec06ccd77cfab",
       "version_major": 2,
       "version_minor": 0
      },
      "text/plain": [
       "  0%|          | 0/1000 [00:00<?, ?it/s]"
      ]
     },
     "metadata": {},
     "output_type": "display_data"
    },
    {
     "data": {
      "application/vnd.jupyter.widget-view+json": {
       "model_id": "3cf93844ff454370a87ddb398adcd678",
       "version_major": 2,
       "version_minor": 0
      },
      "text/plain": [
       "  0%|          | 0/1000 [00:00<?, ?it/s]"
      ]
     },
     "metadata": {},
     "output_type": "display_data"
    },
    {
     "data": {
      "application/vnd.jupyter.widget-view+json": {
       "model_id": "309d930be56142349edd035a8a5cb5c0",
       "version_major": 2,
       "version_minor": 0
      },
      "text/plain": [
       "  0%|          | 0/1000 [00:00<?, ?it/s]"
      ]
     },
     "metadata": {},
     "output_type": "display_data"
    },
    {
     "data": {
      "application/vnd.jupyter.widget-view+json": {
       "model_id": "d1a0e0bc752e43c3ac5421047796e7a1",
       "version_major": 2,
       "version_minor": 0
      },
      "text/plain": [
       "  0%|          | 0/1000 [00:00<?, ?it/s]"
      ]
     },
     "metadata": {},
     "output_type": "display_data"
    },
    {
     "data": {
      "application/vnd.jupyter.widget-view+json": {
       "model_id": "0f5f66e1aa9c4388a67cc8b9f1f4c840",
       "version_major": 2,
       "version_minor": 0
      },
      "text/plain": [
       "  0%|          | 0/1000 [00:00<?, ?it/s]"
      ]
     },
     "metadata": {},
     "output_type": "display_data"
    },
    {
     "data": {
      "application/vnd.jupyter.widget-view+json": {
       "model_id": "869c1de9f64447b7baba2f21872ce775",
       "version_major": 2,
       "version_minor": 0
      },
      "text/plain": [
       "  0%|          | 0/1000 [00:00<?, ?it/s]"
      ]
     },
     "metadata": {},
     "output_type": "display_data"
    },
    {
     "data": {
      "application/vnd.jupyter.widget-view+json": {
       "model_id": "9b172cbf0bc1430bacb3a49ef67ac46c",
       "version_major": 2,
       "version_minor": 0
      },
      "text/plain": [
       "  0%|          | 0/1000 [00:00<?, ?it/s]"
      ]
     },
     "metadata": {},
     "output_type": "display_data"
    },
    {
     "data": {
      "application/vnd.jupyter.widget-view+json": {
       "model_id": "0cdb11a92ba94b09960169ce1afb1279",
       "version_major": 2,
       "version_minor": 0
      },
      "text/plain": [
       "  0%|          | 0/1000 [00:00<?, ?it/s]"
      ]
     },
     "metadata": {},
     "output_type": "display_data"
    },
    {
     "data": {
      "application/vnd.jupyter.widget-view+json": {
       "model_id": "3a3305d60df34f629b9ac27fea9caf18",
       "version_major": 2,
       "version_minor": 0
      },
      "text/plain": [
       "  0%|          | 0/1000 [00:00<?, ?it/s]"
      ]
     },
     "metadata": {},
     "output_type": "display_data"
    },
    {
     "data": {
      "application/vnd.jupyter.widget-view+json": {
       "model_id": "7ae5f630ddfd4742a01f3b72aab353d2",
       "version_major": 2,
       "version_minor": 0
      },
      "text/plain": [
       "  0%|          | 0/1000 [00:00<?, ?it/s]"
      ]
     },
     "metadata": {},
     "output_type": "display_data"
    },
    {
     "data": {
      "application/vnd.jupyter.widget-view+json": {
       "model_id": "24342106a5274231b768d2d0c7544ff5",
       "version_major": 2,
       "version_minor": 0
      },
      "text/plain": [
       "  0%|          | 0/1000 [00:00<?, ?it/s]"
      ]
     },
     "metadata": {},
     "output_type": "display_data"
    },
    {
     "data": {
      "application/vnd.jupyter.widget-view+json": {
       "model_id": "9659fef3337842b9be55e2173abf4679",
       "version_major": 2,
       "version_minor": 0
      },
      "text/plain": [
       "  0%|          | 0/1000 [00:00<?, ?it/s]"
      ]
     },
     "metadata": {},
     "output_type": "display_data"
    },
    {
     "data": {
      "application/vnd.jupyter.widget-view+json": {
       "model_id": "2a2cc001b1344b69b0d66817e5af898d",
       "version_major": 2,
       "version_minor": 0
      },
      "text/plain": [
       "  0%|          | 0/1000 [00:00<?, ?it/s]"
      ]
     },
     "metadata": {},
     "output_type": "display_data"
    },
    {
     "data": {
      "application/vnd.jupyter.widget-view+json": {
       "model_id": "4223e076f5924a0c9ebf5a3f2f5ac5a5",
       "version_major": 2,
       "version_minor": 0
      },
      "text/plain": [
       "  0%|          | 0/1000 [00:00<?, ?it/s]"
      ]
     },
     "metadata": {},
     "output_type": "display_data"
    },
    {
     "data": {
      "application/vnd.jupyter.widget-view+json": {
       "model_id": "d5901b4cf2b149b790a30fc85e7b0bfb",
       "version_major": 2,
       "version_minor": 0
      },
      "text/plain": [
       "  0%|          | 0/1000 [00:00<?, ?it/s]"
      ]
     },
     "metadata": {},
     "output_type": "display_data"
    },
    {
     "data": {
      "application/vnd.jupyter.widget-view+json": {
       "model_id": "53ba6e4983c241dfade6370cdc8227b1",
       "version_major": 2,
       "version_minor": 0
      },
      "text/plain": [
       "  0%|          | 0/1000 [00:00<?, ?it/s]"
      ]
     },
     "metadata": {},
     "output_type": "display_data"
    },
    {
     "data": {
      "application/vnd.jupyter.widget-view+json": {
       "model_id": "f7cad437c6b64f7f87d883c1a5783472",
       "version_major": 2,
       "version_minor": 0
      },
      "text/plain": [
       "  0%|          | 0/1000 [00:00<?, ?it/s]"
      ]
     },
     "metadata": {},
     "output_type": "display_data"
    },
    {
     "data": {
      "application/vnd.jupyter.widget-view+json": {
       "model_id": "2b2b8757223247309c2ed3a9175f535e",
       "version_major": 2,
       "version_minor": 0
      },
      "text/plain": [
       "  0%|          | 0/1000 [00:00<?, ?it/s]"
      ]
     },
     "metadata": {},
     "output_type": "display_data"
    },
    {
     "data": {
      "application/vnd.jupyter.widget-view+json": {
       "model_id": "7abe2a9f465d490ab8371c63b2501b73",
       "version_major": 2,
       "version_minor": 0
      },
      "text/plain": [
       "  0%|          | 0/1000 [00:00<?, ?it/s]"
      ]
     },
     "metadata": {},
     "output_type": "display_data"
    },
    {
     "data": {
      "application/vnd.jupyter.widget-view+json": {
       "model_id": "d5f8a5f26563441da5373aab1f5e7ec8",
       "version_major": 2,
       "version_minor": 0
      },
      "text/plain": [
       "  0%|          | 0/1000 [00:00<?, ?it/s]"
      ]
     },
     "metadata": {},
     "output_type": "display_data"
    },
    {
     "data": {
      "application/vnd.jupyter.widget-view+json": {
       "model_id": "196484c4125a497f919f1a738b2d9be0",
       "version_major": 2,
       "version_minor": 0
      },
      "text/plain": [
       "  0%|          | 0/1000 [00:00<?, ?it/s]"
      ]
     },
     "metadata": {},
     "output_type": "display_data"
    },
    {
     "data": {
      "application/vnd.jupyter.widget-view+json": {
       "model_id": "8f52e54abfaf4bf49756f54630217326",
       "version_major": 2,
       "version_minor": 0
      },
      "text/plain": [
       "  0%|          | 0/1000 [00:00<?, ?it/s]"
      ]
     },
     "metadata": {},
     "output_type": "display_data"
    },
    {
     "data": {
      "application/vnd.jupyter.widget-view+json": {
       "model_id": "c21b3b9b9df446188d6a00127bc3c8b5",
       "version_major": 2,
       "version_minor": 0
      },
      "text/plain": [
       "  0%|          | 0/1000 [00:00<?, ?it/s]"
      ]
     },
     "metadata": {},
     "output_type": "display_data"
    },
    {
     "data": {
      "application/vnd.jupyter.widget-view+json": {
       "model_id": "032f32c348c14185a2da2b679ffce204",
       "version_major": 2,
       "version_minor": 0
      },
      "text/plain": [
       "  0%|          | 0/1000 [00:00<?, ?it/s]"
      ]
     },
     "metadata": {},
     "output_type": "display_data"
    },
    {
     "data": {
      "application/vnd.jupyter.widget-view+json": {
       "model_id": "63c2215d14bd4118b2e2e4d66e19e93a",
       "version_major": 2,
       "version_minor": 0
      },
      "text/plain": [
       "  0%|          | 0/1000 [00:00<?, ?it/s]"
      ]
     },
     "metadata": {},
     "output_type": "display_data"
    },
    {
     "data": {
      "application/vnd.jupyter.widget-view+json": {
       "model_id": "770d6d159bf5406e881f01375cd65c35",
       "version_major": 2,
       "version_minor": 0
      },
      "text/plain": [
       "  0%|          | 0/1000 [00:00<?, ?it/s]"
      ]
     },
     "metadata": {},
     "output_type": "display_data"
    },
    {
     "data": {
      "application/vnd.jupyter.widget-view+json": {
       "model_id": "e5e9eed09c2f4109b35ee6803fd17212",
       "version_major": 2,
       "version_minor": 0
      },
      "text/plain": [
       "  0%|          | 0/1000 [00:00<?, ?it/s]"
      ]
     },
     "metadata": {},
     "output_type": "display_data"
    },
    {
     "data": {
      "application/vnd.jupyter.widget-view+json": {
       "model_id": "87fabf27fee547ca87279d854edec15f",
       "version_major": 2,
       "version_minor": 0
      },
      "text/plain": [
       "  0%|          | 0/1000 [00:00<?, ?it/s]"
      ]
     },
     "metadata": {},
     "output_type": "display_data"
    },
    {
     "data": {
      "application/vnd.jupyter.widget-view+json": {
       "model_id": "1d86645fe6764337a2be02483328030a",
       "version_major": 2,
       "version_minor": 0
      },
      "text/plain": [
       "  0%|          | 0/1000 [00:00<?, ?it/s]"
      ]
     },
     "metadata": {},
     "output_type": "display_data"
    },
    {
     "data": {
      "application/vnd.jupyter.widget-view+json": {
       "model_id": "154831b86f50449dacce772368ce89ee",
       "version_major": 2,
       "version_minor": 0
      },
      "text/plain": [
       "  0%|          | 0/1000 [00:00<?, ?it/s]"
      ]
     },
     "metadata": {},
     "output_type": "display_data"
    },
    {
     "data": {
      "application/vnd.jupyter.widget-view+json": {
       "model_id": "c6179444e57a44dd809934e13251cf76",
       "version_major": 2,
       "version_minor": 0
      },
      "text/plain": [
       "  0%|          | 0/1000 [00:00<?, ?it/s]"
      ]
     },
     "metadata": {},
     "output_type": "display_data"
    },
    {
     "data": {
      "application/vnd.jupyter.widget-view+json": {
       "model_id": "556c4868d569488c8359abf53dc8cfac",
       "version_major": 2,
       "version_minor": 0
      },
      "text/plain": [
       "  0%|          | 0/1000 [00:00<?, ?it/s]"
      ]
     },
     "metadata": {},
     "output_type": "display_data"
    },
    {
     "data": {
      "application/vnd.jupyter.widget-view+json": {
       "model_id": "47c6b9b5bc90401bb949433598f06de0",
       "version_major": 2,
       "version_minor": 0
      },
      "text/plain": [
       "  0%|          | 0/1000 [00:00<?, ?it/s]"
      ]
     },
     "metadata": {},
     "output_type": "display_data"
    },
    {
     "data": {
      "application/vnd.jupyter.widget-view+json": {
       "model_id": "52cce9ad44f8476d88ae2e929782f329",
       "version_major": 2,
       "version_minor": 0
      },
      "text/plain": [
       "  0%|          | 0/1000 [00:00<?, ?it/s]"
      ]
     },
     "metadata": {},
     "output_type": "display_data"
    },
    {
     "data": {
      "application/vnd.jupyter.widget-view+json": {
       "model_id": "1c59c5e347c4456d9e868678d11cd2ac",
       "version_major": 2,
       "version_minor": 0
      },
      "text/plain": [
       "  0%|          | 0/1000 [00:00<?, ?it/s]"
      ]
     },
     "metadata": {},
     "output_type": "display_data"
    },
    {
     "data": {
      "application/vnd.jupyter.widget-view+json": {
       "model_id": "d3e4481e806d436787ce86265f2a4d90",
       "version_major": 2,
       "version_minor": 0
      },
      "text/plain": [
       "  0%|          | 0/1000 [00:00<?, ?it/s]"
      ]
     },
     "metadata": {},
     "output_type": "display_data"
    },
    {
     "data": {
      "application/vnd.jupyter.widget-view+json": {
       "model_id": "496d2e3d43ee455e9ec442f5ba5a61c6",
       "version_major": 2,
       "version_minor": 0
      },
      "text/plain": [
       "  0%|          | 0/1000 [00:00<?, ?it/s]"
      ]
     },
     "metadata": {},
     "output_type": "display_data"
    },
    {
     "data": {
      "application/vnd.jupyter.widget-view+json": {
       "model_id": "11aab38907da4ca58113a980c94c7b54",
       "version_major": 2,
       "version_minor": 0
      },
      "text/plain": [
       "  0%|          | 0/1000 [00:00<?, ?it/s]"
      ]
     },
     "metadata": {},
     "output_type": "display_data"
    },
    {
     "data": {
      "application/vnd.jupyter.widget-view+json": {
       "model_id": "1a018a2c365d4f3a9ad715d220010cac",
       "version_major": 2,
       "version_minor": 0
      },
      "text/plain": [
       "  0%|          | 0/1000 [00:00<?, ?it/s]"
      ]
     },
     "metadata": {},
     "output_type": "display_data"
    },
    {
     "data": {
      "application/vnd.jupyter.widget-view+json": {
       "model_id": "ac8b7a41b37b40479342908db7f3ee38",
       "version_major": 2,
       "version_minor": 0
      },
      "text/plain": [
       "  0%|          | 0/1000 [00:00<?, ?it/s]"
      ]
     },
     "metadata": {},
     "output_type": "display_data"
    },
    {
     "data": {
      "application/vnd.jupyter.widget-view+json": {
       "model_id": "059c5b5057534be8a423a909daba1446",
       "version_major": 2,
       "version_minor": 0
      },
      "text/plain": [
       "  0%|          | 0/1000 [00:00<?, ?it/s]"
      ]
     },
     "metadata": {},
     "output_type": "display_data"
    },
    {
     "data": {
      "application/vnd.jupyter.widget-view+json": {
       "model_id": "55b39af88cba41dc8e4f52e6662594a7",
       "version_major": 2,
       "version_minor": 0
      },
      "text/plain": [
       "  0%|          | 0/1000 [00:00<?, ?it/s]"
      ]
     },
     "metadata": {},
     "output_type": "display_data"
    },
    {
     "data": {
      "application/vnd.jupyter.widget-view+json": {
       "model_id": "7f1e0860f8ad4d51b1a6cb14612b71b0",
       "version_major": 2,
       "version_minor": 0
      },
      "text/plain": [
       "  0%|          | 0/1000 [00:00<?, ?it/s]"
      ]
     },
     "metadata": {},
     "output_type": "display_data"
    },
    {
     "data": {
      "application/vnd.jupyter.widget-view+json": {
       "model_id": "7aca6dbf5bde431ebb5f456ee0a7e467",
       "version_major": 2,
       "version_minor": 0
      },
      "text/plain": [
       "  0%|          | 0/1000 [00:00<?, ?it/s]"
      ]
     },
     "metadata": {},
     "output_type": "display_data"
    },
    {
     "data": {
      "application/vnd.jupyter.widget-view+json": {
       "model_id": "2d18b8cc8cc546789a856c9f92bd635f",
       "version_major": 2,
       "version_minor": 0
      },
      "text/plain": [
       "  0%|          | 0/1000 [00:00<?, ?it/s]"
      ]
     },
     "metadata": {},
     "output_type": "display_data"
    },
    {
     "data": {
      "application/vnd.jupyter.widget-view+json": {
       "model_id": "8f44bc0e95624ab48361355f5e953010",
       "version_major": 2,
       "version_minor": 0
      },
      "text/plain": [
       "  0%|          | 0/1000 [00:00<?, ?it/s]"
      ]
     },
     "metadata": {},
     "output_type": "display_data"
    },
    {
     "data": {
      "application/vnd.jupyter.widget-view+json": {
       "model_id": "b8aca93f2b64467bb2e85f9d9b005a45",
       "version_major": 2,
       "version_minor": 0
      },
      "text/plain": [
       "  0%|          | 0/1000 [00:00<?, ?it/s]"
      ]
     },
     "metadata": {},
     "output_type": "display_data"
    },
    {
     "data": {
      "application/vnd.jupyter.widget-view+json": {
       "model_id": "c8c47a7d6b854efa952b11e57fcc9b5e",
       "version_major": 2,
       "version_minor": 0
      },
      "text/plain": [
       "  0%|          | 0/1000 [00:00<?, ?it/s]"
      ]
     },
     "metadata": {},
     "output_type": "display_data"
    },
    {
     "data": {
      "application/vnd.jupyter.widget-view+json": {
       "model_id": "177886fbb7774a41bfcdab96db226cae",
       "version_major": 2,
       "version_minor": 0
      },
      "text/plain": [
       "  0%|          | 0/1000 [00:00<?, ?it/s]"
      ]
     },
     "metadata": {},
     "output_type": "display_data"
    },
    {
     "data": {
      "application/vnd.jupyter.widget-view+json": {
       "model_id": "55415bd87b524b1b920c6f731774a919",
       "version_major": 2,
       "version_minor": 0
      },
      "text/plain": [
       "  0%|          | 0/1000 [00:00<?, ?it/s]"
      ]
     },
     "metadata": {},
     "output_type": "display_data"
    },
    {
     "data": {
      "application/vnd.jupyter.widget-view+json": {
       "model_id": "0292081b5ac0452b972f9af0de862da2",
       "version_major": 2,
       "version_minor": 0
      },
      "text/plain": [
       "  0%|          | 0/1000 [00:00<?, ?it/s]"
      ]
     },
     "metadata": {},
     "output_type": "display_data"
    },
    {
     "data": {
      "application/vnd.jupyter.widget-view+json": {
       "model_id": "e8d5689842b3441d819ccc007e08d401",
       "version_major": 2,
       "version_minor": 0
      },
      "text/plain": [
       "  0%|          | 0/1000 [00:00<?, ?it/s]"
      ]
     },
     "metadata": {},
     "output_type": "display_data"
    },
    {
     "data": {
      "application/vnd.jupyter.widget-view+json": {
       "model_id": "cc9daf4668b34ed88e3f9ad14c761761",
       "version_major": 2,
       "version_minor": 0
      },
      "text/plain": [
       "  0%|          | 0/1000 [00:00<?, ?it/s]"
      ]
     },
     "metadata": {},
     "output_type": "display_data"
    },
    {
     "data": {
      "application/vnd.jupyter.widget-view+json": {
       "model_id": "34be95c8e38449fcbc9e47b1e6165a6d",
       "version_major": 2,
       "version_minor": 0
      },
      "text/plain": [
       "  0%|          | 0/1000 [00:00<?, ?it/s]"
      ]
     },
     "metadata": {},
     "output_type": "display_data"
    },
    {
     "data": {
      "application/vnd.jupyter.widget-view+json": {
       "model_id": "93c3e11c4d9c437b86c7659ce48932fc",
       "version_major": 2,
       "version_minor": 0
      },
      "text/plain": [
       "  0%|          | 0/1000 [00:00<?, ?it/s]"
      ]
     },
     "metadata": {},
     "output_type": "display_data"
    },
    {
     "data": {
      "application/vnd.jupyter.widget-view+json": {
       "model_id": "c6b6a9ea72bb49cf995a4ddd2987c44e",
       "version_major": 2,
       "version_minor": 0
      },
      "text/plain": [
       "  0%|          | 0/1000 [00:00<?, ?it/s]"
      ]
     },
     "metadata": {},
     "output_type": "display_data"
    },
    {
     "data": {
      "application/vnd.jupyter.widget-view+json": {
       "model_id": "61e5c6c1eb2b468f8e6fb5766b4c1d04",
       "version_major": 2,
       "version_minor": 0
      },
      "text/plain": [
       "  0%|          | 0/1000 [00:00<?, ?it/s]"
      ]
     },
     "metadata": {},
     "output_type": "display_data"
    },
    {
     "data": {
      "application/vnd.jupyter.widget-view+json": {
       "model_id": "b6de616ad5274c77b110197d237bf097",
       "version_major": 2,
       "version_minor": 0
      },
      "text/plain": [
       "  0%|          | 0/1000 [00:00<?, ?it/s]"
      ]
     },
     "metadata": {},
     "output_type": "display_data"
    },
    {
     "data": {
      "application/vnd.jupyter.widget-view+json": {
       "model_id": "46c931829f7c4abb96ce34fd4b8ebd31",
       "version_major": 2,
       "version_minor": 0
      },
      "text/plain": [
       "  0%|          | 0/1000 [00:00<?, ?it/s]"
      ]
     },
     "metadata": {},
     "output_type": "display_data"
    },
    {
     "data": {
      "application/vnd.jupyter.widget-view+json": {
       "model_id": "7dc64c57455f4cbcac6e47c4ba0e8664",
       "version_major": 2,
       "version_minor": 0
      },
      "text/plain": [
       "  0%|          | 0/1000 [00:00<?, ?it/s]"
      ]
     },
     "metadata": {},
     "output_type": "display_data"
    },
    {
     "data": {
      "application/vnd.jupyter.widget-view+json": {
       "model_id": "e100537348ea4b8182423799dc3c48b8",
       "version_major": 2,
       "version_minor": 0
      },
      "text/plain": [
       "  0%|          | 0/1000 [00:00<?, ?it/s]"
      ]
     },
     "metadata": {},
     "output_type": "display_data"
    },
    {
     "data": {
      "application/vnd.jupyter.widget-view+json": {
       "model_id": "02a3184dde4c468e8310310a21dcf74a",
       "version_major": 2,
       "version_minor": 0
      },
      "text/plain": [
       "  0%|          | 0/1000 [00:00<?, ?it/s]"
      ]
     },
     "metadata": {},
     "output_type": "display_data"
    },
    {
     "data": {
      "application/vnd.jupyter.widget-view+json": {
       "model_id": "ba72c051f45447809bbb21f80f823670",
       "version_major": 2,
       "version_minor": 0
      },
      "text/plain": [
       "  0%|          | 0/1000 [00:00<?, ?it/s]"
      ]
     },
     "metadata": {},
     "output_type": "display_data"
    },
    {
     "data": {
      "application/vnd.jupyter.widget-view+json": {
       "model_id": "eb7fc0749d7649ce879c4a19ed673f08",
       "version_major": 2,
       "version_minor": 0
      },
      "text/plain": [
       "  0%|          | 0/1000 [00:00<?, ?it/s]"
      ]
     },
     "metadata": {},
     "output_type": "display_data"
    },
    {
     "data": {
      "application/vnd.jupyter.widget-view+json": {
       "model_id": "356ddd76f417461d82d9029807513a74",
       "version_major": 2,
       "version_minor": 0
      },
      "text/plain": [
       "  0%|          | 0/1000 [00:00<?, ?it/s]"
      ]
     },
     "metadata": {},
     "output_type": "display_data"
    },
    {
     "data": {
      "application/vnd.jupyter.widget-view+json": {
       "model_id": "f6b1b86084824ec5ad781f61f6392740",
       "version_major": 2,
       "version_minor": 0
      },
      "text/plain": [
       "  0%|          | 0/1000 [00:00<?, ?it/s]"
      ]
     },
     "metadata": {},
     "output_type": "display_data"
    },
    {
     "data": {
      "application/vnd.jupyter.widget-view+json": {
       "model_id": "682afb30fc5543a2a5d1f13f69d80be4",
       "version_major": 2,
       "version_minor": 0
      },
      "text/plain": [
       "  0%|          | 0/1000 [00:00<?, ?it/s]"
      ]
     },
     "metadata": {},
     "output_type": "display_data"
    },
    {
     "data": {
      "application/vnd.jupyter.widget-view+json": {
       "model_id": "20b687cf2aa54bb29eda1e78c9fa4634",
       "version_major": 2,
       "version_minor": 0
      },
      "text/plain": [
       "  0%|          | 0/1000 [00:00<?, ?it/s]"
      ]
     },
     "metadata": {},
     "output_type": "display_data"
    },
    {
     "data": {
      "application/vnd.jupyter.widget-view+json": {
       "model_id": "9a43260b43cd40c09677cad42fb8f80b",
       "version_major": 2,
       "version_minor": 0
      },
      "text/plain": [
       "  0%|          | 0/1000 [00:00<?, ?it/s]"
      ]
     },
     "metadata": {},
     "output_type": "display_data"
    },
    {
     "data": {
      "application/vnd.jupyter.widget-view+json": {
       "model_id": "9e035e07f5994e289fb99a08d0955bc2",
       "version_major": 2,
       "version_minor": 0
      },
      "text/plain": [
       "  0%|          | 0/1000 [00:00<?, ?it/s]"
      ]
     },
     "metadata": {},
     "output_type": "display_data"
    },
    {
     "data": {
      "application/vnd.jupyter.widget-view+json": {
       "model_id": "cca077ac0f3c4cb79ffccc28a3f522c7",
       "version_major": 2,
       "version_minor": 0
      },
      "text/plain": [
       "  0%|          | 0/1000 [00:00<?, ?it/s]"
      ]
     },
     "metadata": {},
     "output_type": "display_data"
    },
    {
     "data": {
      "application/vnd.jupyter.widget-view+json": {
       "model_id": "6c57f5c8b39d4562a3de3d10feccf3c8",
       "version_major": 2,
       "version_minor": 0
      },
      "text/plain": [
       "  0%|          | 0/1000 [00:00<?, ?it/s]"
      ]
     },
     "metadata": {},
     "output_type": "display_data"
    },
    {
     "data": {
      "application/vnd.jupyter.widget-view+json": {
       "model_id": "f0b671a0394d4174929460ec09645f95",
       "version_major": 2,
       "version_minor": 0
      },
      "text/plain": [
       "  0%|          | 0/1000 [00:00<?, ?it/s]"
      ]
     },
     "metadata": {},
     "output_type": "display_data"
    },
    {
     "data": {
      "application/vnd.jupyter.widget-view+json": {
       "model_id": "8860e98f650b41a786212d4cae63ab41",
       "version_major": 2,
       "version_minor": 0
      },
      "text/plain": [
       "  0%|          | 0/1000 [00:00<?, ?it/s]"
      ]
     },
     "metadata": {},
     "output_type": "display_data"
    },
    {
     "data": {
      "application/vnd.jupyter.widget-view+json": {
       "model_id": "2fb34c9f71e94fbf94a9484942e28f60",
       "version_major": 2,
       "version_minor": 0
      },
      "text/plain": [
       "  0%|          | 0/1000 [00:00<?, ?it/s]"
      ]
     },
     "metadata": {},
     "output_type": "display_data"
    },
    {
     "data": {
      "application/vnd.jupyter.widget-view+json": {
       "model_id": "934e2ec986fd4b02b1d7bc2765e0f5e0",
       "version_major": 2,
       "version_minor": 0
      },
      "text/plain": [
       "  0%|          | 0/1000 [00:00<?, ?it/s]"
      ]
     },
     "metadata": {},
     "output_type": "display_data"
    },
    {
     "data": {
      "application/vnd.jupyter.widget-view+json": {
       "model_id": "57c45f5ea323448f9c87f2ae056ab95f",
       "version_major": 2,
       "version_minor": 0
      },
      "text/plain": [
       "  0%|          | 0/1000 [00:00<?, ?it/s]"
      ]
     },
     "metadata": {},
     "output_type": "display_data"
    },
    {
     "data": {
      "application/vnd.jupyter.widget-view+json": {
       "model_id": "2bc37edef4ec41eea43853a14d7b0aa8",
       "version_major": 2,
       "version_minor": 0
      },
      "text/plain": [
       "  0%|          | 0/1000 [00:00<?, ?it/s]"
      ]
     },
     "metadata": {},
     "output_type": "display_data"
    },
    {
     "data": {
      "application/vnd.jupyter.widget-view+json": {
       "model_id": "05ba19263e1549bf971407553354d60f",
       "version_major": 2,
       "version_minor": 0
      },
      "text/plain": [
       "  0%|          | 0/1000 [00:00<?, ?it/s]"
      ]
     },
     "metadata": {},
     "output_type": "display_data"
    },
    {
     "data": {
      "application/vnd.jupyter.widget-view+json": {
       "model_id": "0562c816af63481d88f045b6db1e85d1",
       "version_major": 2,
       "version_minor": 0
      },
      "text/plain": [
       "  0%|          | 0/1000 [00:00<?, ?it/s]"
      ]
     },
     "metadata": {},
     "output_type": "display_data"
    },
    {
     "data": {
      "application/vnd.jupyter.widget-view+json": {
       "model_id": "0e6ad6c9f1db4c98b9d0a50bf8df4242",
       "version_major": 2,
       "version_minor": 0
      },
      "text/plain": [
       "  0%|          | 0/1000 [00:00<?, ?it/s]"
      ]
     },
     "metadata": {},
     "output_type": "display_data"
    },
    {
     "data": {
      "application/vnd.jupyter.widget-view+json": {
       "model_id": "75a4b7a946a04fe3b74220f253b97aa5",
       "version_major": 2,
       "version_minor": 0
      },
      "text/plain": [
       "  0%|          | 0/1000 [00:00<?, ?it/s]"
      ]
     },
     "metadata": {},
     "output_type": "display_data"
    },
    {
     "data": {
      "application/vnd.jupyter.widget-view+json": {
       "model_id": "74ca0dd69d6f420b9241e05f617c8caf",
       "version_major": 2,
       "version_minor": 0
      },
      "text/plain": [
       "  0%|          | 0/1000 [00:00<?, ?it/s]"
      ]
     },
     "metadata": {},
     "output_type": "display_data"
    },
    {
     "data": {
      "application/vnd.jupyter.widget-view+json": {
       "model_id": "9e4fb09a5d8e4d1493495631b443aab4",
       "version_major": 2,
       "version_minor": 0
      },
      "text/plain": [
       "  0%|          | 0/1000 [00:00<?, ?it/s]"
      ]
     },
     "metadata": {},
     "output_type": "display_data"
    },
    {
     "data": {
      "application/vnd.jupyter.widget-view+json": {
       "model_id": "a3949ec5debd4eeea4361298b6128848",
       "version_major": 2,
       "version_minor": 0
      },
      "text/plain": [
       "  0%|          | 0/1000 [00:00<?, ?it/s]"
      ]
     },
     "metadata": {},
     "output_type": "display_data"
    },
    {
     "data": {
      "application/vnd.jupyter.widget-view+json": {
       "model_id": "fee2d1b8ed624270a9b50f4c82f06fda",
       "version_major": 2,
       "version_minor": 0
      },
      "text/plain": [
       "  0%|          | 0/1000 [00:00<?, ?it/s]"
      ]
     },
     "metadata": {},
     "output_type": "display_data"
    },
    {
     "data": {
      "application/vnd.jupyter.widget-view+json": {
       "model_id": "4af77a7902e74fc79d8ca646b87af460",
       "version_major": 2,
       "version_minor": 0
      },
      "text/plain": [
       "  0%|          | 0/1000 [00:00<?, ?it/s]"
      ]
     },
     "metadata": {},
     "output_type": "display_data"
    },
    {
     "data": {
      "application/vnd.jupyter.widget-view+json": {
       "model_id": "aae4df00561f452595c4725b3ff1d4bc",
       "version_major": 2,
       "version_minor": 0
      },
      "text/plain": [
       "  0%|          | 0/1000 [00:00<?, ?it/s]"
      ]
     },
     "metadata": {},
     "output_type": "display_data"
    },
    {
     "data": {
      "application/vnd.jupyter.widget-view+json": {
       "model_id": "1ad31b1bcc274c148a04c8fcd4539e8a",
       "version_major": 2,
       "version_minor": 0
      },
      "text/plain": [
       "  0%|          | 0/1000 [00:00<?, ?it/s]"
      ]
     },
     "metadata": {},
     "output_type": "display_data"
    },
    {
     "data": {
      "application/vnd.jupyter.widget-view+json": {
       "model_id": "7db0c4c65edb4b92b5b87166bda1ceb3",
       "version_major": 2,
       "version_minor": 0
      },
      "text/plain": [
       "  0%|          | 0/1000 [00:00<?, ?it/s]"
      ]
     },
     "metadata": {},
     "output_type": "display_data"
    },
    {
     "data": {
      "application/vnd.jupyter.widget-view+json": {
       "model_id": "99c811aa8fb8474893ac21272edbbe23",
       "version_major": 2,
       "version_minor": 0
      },
      "text/plain": [
       "  0%|          | 0/1000 [00:00<?, ?it/s]"
      ]
     },
     "metadata": {},
     "output_type": "display_data"
    },
    {
     "data": {
      "application/vnd.jupyter.widget-view+json": {
       "model_id": "c04ff8018799493ea95e1356b1d91340",
       "version_major": 2,
       "version_minor": 0
      },
      "text/plain": [
       "  0%|          | 0/1000 [00:00<?, ?it/s]"
      ]
     },
     "metadata": {},
     "output_type": "display_data"
    },
    {
     "data": {
      "application/vnd.jupyter.widget-view+json": {
       "model_id": "73a87a7c4c8d4fedab819045ee0265ce",
       "version_major": 2,
       "version_minor": 0
      },
      "text/plain": [
       "  0%|          | 0/1000 [00:00<?, ?it/s]"
      ]
     },
     "metadata": {},
     "output_type": "display_data"
    },
    {
     "data": {
      "application/vnd.jupyter.widget-view+json": {
       "model_id": "c7f7c2af55014b3694e295222949c601",
       "version_major": 2,
       "version_minor": 0
      },
      "text/plain": [
       "  0%|          | 0/1000 [00:00<?, ?it/s]"
      ]
     },
     "metadata": {},
     "output_type": "display_data"
    },
    {
     "data": {
      "application/vnd.jupyter.widget-view+json": {
       "model_id": "bd65a5c2c9514da19e31ea7e2b814301",
       "version_major": 2,
       "version_minor": 0
      },
      "text/plain": [
       "  0%|          | 0/1000 [00:00<?, ?it/s]"
      ]
     },
     "metadata": {},
     "output_type": "display_data"
    },
    {
     "data": {
      "application/vnd.jupyter.widget-view+json": {
       "model_id": "6de90e4a63dc4f7fbad6ddda67416cd5",
       "version_major": 2,
       "version_minor": 0
      },
      "text/plain": [
       "  0%|          | 0/1000 [00:00<?, ?it/s]"
      ]
     },
     "metadata": {},
     "output_type": "display_data"
    },
    {
     "data": {
      "application/vnd.jupyter.widget-view+json": {
       "model_id": "37c919c06ba24d48a6f566ce715532b8",
       "version_major": 2,
       "version_minor": 0
      },
      "text/plain": [
       "  0%|          | 0/1000 [00:00<?, ?it/s]"
      ]
     },
     "metadata": {},
     "output_type": "display_data"
    },
    {
     "data": {
      "application/vnd.jupyter.widget-view+json": {
       "model_id": "f9d634e7295b4fd496cc779c9bf40a3b",
       "version_major": 2,
       "version_minor": 0
      },
      "text/plain": [
       "  0%|          | 0/1000 [00:00<?, ?it/s]"
      ]
     },
     "metadata": {},
     "output_type": "display_data"
    },
    {
     "data": {
      "application/vnd.jupyter.widget-view+json": {
       "model_id": "ef574d711a3c44c8ab5c608da1922788",
       "version_major": 2,
       "version_minor": 0
      },
      "text/plain": [
       "  0%|          | 0/1000 [00:00<?, ?it/s]"
      ]
     },
     "metadata": {},
     "output_type": "display_data"
    },
    {
     "data": {
      "application/vnd.jupyter.widget-view+json": {
       "model_id": "2a8c5ba10e274715bd73e47af486a5a2",
       "version_major": 2,
       "version_minor": 0
      },
      "text/plain": [
       "  0%|          | 0/1000 [00:00<?, ?it/s]"
      ]
     },
     "metadata": {},
     "output_type": "display_data"
    },
    {
     "data": {
      "application/vnd.jupyter.widget-view+json": {
       "model_id": "dee3a05c9b9b4fcdb6e4ede9d0151ac9",
       "version_major": 2,
       "version_minor": 0
      },
      "text/plain": [
       "  0%|          | 0/1000 [00:00<?, ?it/s]"
      ]
     },
     "metadata": {},
     "output_type": "display_data"
    },
    {
     "data": {
      "application/vnd.jupyter.widget-view+json": {
       "model_id": "be9556a02e854386ae4f2f9c72ec615f",
       "version_major": 2,
       "version_minor": 0
      },
      "text/plain": [
       "  0%|          | 0/1000 [00:00<?, ?it/s]"
      ]
     },
     "metadata": {},
     "output_type": "display_data"
    },
    {
     "data": {
      "application/vnd.jupyter.widget-view+json": {
       "model_id": "7672db673e0640d6a1e420c0dac613f8",
       "version_major": 2,
       "version_minor": 0
      },
      "text/plain": [
       "  0%|          | 0/1000 [00:00<?, ?it/s]"
      ]
     },
     "metadata": {},
     "output_type": "display_data"
    },
    {
     "data": {
      "application/vnd.jupyter.widget-view+json": {
       "model_id": "48367e080ab14a968a3446667faadf21",
       "version_major": 2,
       "version_minor": 0
      },
      "text/plain": [
       "  0%|          | 0/1000 [00:00<?, ?it/s]"
      ]
     },
     "metadata": {},
     "output_type": "display_data"
    },
    {
     "data": {
      "application/vnd.jupyter.widget-view+json": {
       "model_id": "09a921d53bdd42ad8515ccab3b3ec8ab",
       "version_major": 2,
       "version_minor": 0
      },
      "text/plain": [
       "  0%|          | 0/1000 [00:00<?, ?it/s]"
      ]
     },
     "metadata": {},
     "output_type": "display_data"
    },
    {
     "data": {
      "application/vnd.jupyter.widget-view+json": {
       "model_id": "e0b782eb1e3c41a69c9c24bc85d26cdb",
       "version_major": 2,
       "version_minor": 0
      },
      "text/plain": [
       "  0%|          | 0/1000 [00:00<?, ?it/s]"
      ]
     },
     "metadata": {},
     "output_type": "display_data"
    },
    {
     "data": {
      "application/vnd.jupyter.widget-view+json": {
       "model_id": "c05bfc80a4264eb09d7b0e93111718cb",
       "version_major": 2,
       "version_minor": 0
      },
      "text/plain": [
       "  0%|          | 0/1000 [00:00<?, ?it/s]"
      ]
     },
     "metadata": {},
     "output_type": "display_data"
    },
    {
     "data": {
      "application/vnd.jupyter.widget-view+json": {
       "model_id": "503b67ea2b9441be84b8c68f1d30be90",
       "version_major": 2,
       "version_minor": 0
      },
      "text/plain": [
       "  0%|          | 0/1000 [00:00<?, ?it/s]"
      ]
     },
     "metadata": {},
     "output_type": "display_data"
    },
    {
     "data": {
      "application/vnd.jupyter.widget-view+json": {
       "model_id": "9f9a4b91e86f4f45bbe67c2f4523988d",
       "version_major": 2,
       "version_minor": 0
      },
      "text/plain": [
       "  0%|          | 0/1000 [00:00<?, ?it/s]"
      ]
     },
     "metadata": {},
     "output_type": "display_data"
    },
    {
     "data": {
      "application/vnd.jupyter.widget-view+json": {
       "model_id": "ed53d84d722b4d8da08d61b9a0effa5b",
       "version_major": 2,
       "version_minor": 0
      },
      "text/plain": [
       "  0%|          | 0/1000 [00:00<?, ?it/s]"
      ]
     },
     "metadata": {},
     "output_type": "display_data"
    },
    {
     "data": {
      "application/vnd.jupyter.widget-view+json": {
       "model_id": "c2d00304d671412289ebeea7206bf775",
       "version_major": 2,
       "version_minor": 0
      },
      "text/plain": [
       "  0%|          | 0/1000 [00:00<?, ?it/s]"
      ]
     },
     "metadata": {},
     "output_type": "display_data"
    },
    {
     "data": {
      "application/vnd.jupyter.widget-view+json": {
       "model_id": "78b7cae24b9843229fa01f2c6b2e7f45",
       "version_major": 2,
       "version_minor": 0
      },
      "text/plain": [
       "  0%|          | 0/1000 [00:00<?, ?it/s]"
      ]
     },
     "metadata": {},
     "output_type": "display_data"
    },
    {
     "data": {
      "application/vnd.jupyter.widget-view+json": {
       "model_id": "12611bbedc9c4c39bc03431a9009b94b",
       "version_major": 2,
       "version_minor": 0
      },
      "text/plain": [
       "  0%|          | 0/1000 [00:00<?, ?it/s]"
      ]
     },
     "metadata": {},
     "output_type": "display_data"
    },
    {
     "data": {
      "application/vnd.jupyter.widget-view+json": {
       "model_id": "42f51b17ce3a49d485e52a4e9292552f",
       "version_major": 2,
       "version_minor": 0
      },
      "text/plain": [
       "  0%|          | 0/1000 [00:00<?, ?it/s]"
      ]
     },
     "metadata": {},
     "output_type": "display_data"
    },
    {
     "data": {
      "application/vnd.jupyter.widget-view+json": {
       "model_id": "1929af636d2045cc85c6c0cc2a79f204",
       "version_major": 2,
       "version_minor": 0
      },
      "text/plain": [
       "  0%|          | 0/1000 [00:00<?, ?it/s]"
      ]
     },
     "metadata": {},
     "output_type": "display_data"
    },
    {
     "data": {
      "application/vnd.jupyter.widget-view+json": {
       "model_id": "e73e9b77f1c640cf8c9a8ec31c731855",
       "version_major": 2,
       "version_minor": 0
      },
      "text/plain": [
       "  0%|          | 0/1000 [00:00<?, ?it/s]"
      ]
     },
     "metadata": {},
     "output_type": "display_data"
    },
    {
     "data": {
      "application/vnd.jupyter.widget-view+json": {
       "model_id": "ace218f6c80a4198a6db162721c7dcea",
       "version_major": 2,
       "version_minor": 0
      },
      "text/plain": [
       "  0%|          | 0/1000 [00:00<?, ?it/s]"
      ]
     },
     "metadata": {},
     "output_type": "display_data"
    },
    {
     "data": {
      "application/vnd.jupyter.widget-view+json": {
       "model_id": "3df39ad266f44b8c8d30a368e25167dc",
       "version_major": 2,
       "version_minor": 0
      },
      "text/plain": [
       "  0%|          | 0/1000 [00:00<?, ?it/s]"
      ]
     },
     "metadata": {},
     "output_type": "display_data"
    },
    {
     "data": {
      "application/vnd.jupyter.widget-view+json": {
       "model_id": "ec765c298ea645639eefc7c7b52bfec0",
       "version_major": 2,
       "version_minor": 0
      },
      "text/plain": [
       "  0%|          | 0/1000 [00:00<?, ?it/s]"
      ]
     },
     "metadata": {},
     "output_type": "display_data"
    },
    {
     "data": {
      "application/vnd.jupyter.widget-view+json": {
       "model_id": "da6f2042746947e096d6fb62d73ad6ef",
       "version_major": 2,
       "version_minor": 0
      },
      "text/plain": [
       "  0%|          | 0/1000 [00:00<?, ?it/s]"
      ]
     },
     "metadata": {},
     "output_type": "display_data"
    },
    {
     "data": {
      "application/vnd.jupyter.widget-view+json": {
       "model_id": "264dde8ed7d24b32a4d35bb8a6b2444d",
       "version_major": 2,
       "version_minor": 0
      },
      "text/plain": [
       "  0%|          | 0/1000 [00:00<?, ?it/s]"
      ]
     },
     "metadata": {},
     "output_type": "display_data"
    },
    {
     "data": {
      "application/vnd.jupyter.widget-view+json": {
       "model_id": "0df7c1932418490f8fd571c3fdaa3a44",
       "version_major": 2,
       "version_minor": 0
      },
      "text/plain": [
       "  0%|          | 0/1000 [00:00<?, ?it/s]"
      ]
     },
     "metadata": {},
     "output_type": "display_data"
    },
    {
     "data": {
      "application/vnd.jupyter.widget-view+json": {
       "model_id": "cea91c37cc5449c58be49cb4d7bc3f31",
       "version_major": 2,
       "version_minor": 0
      },
      "text/plain": [
       "  0%|          | 0/1000 [00:00<?, ?it/s]"
      ]
     },
     "metadata": {},
     "output_type": "display_data"
    },
    {
     "data": {
      "application/vnd.jupyter.widget-view+json": {
       "model_id": "3e2275d250e84adba12c9ef237a6f503",
       "version_major": 2,
       "version_minor": 0
      },
      "text/plain": [
       "  0%|          | 0/1000 [00:00<?, ?it/s]"
      ]
     },
     "metadata": {},
     "output_type": "display_data"
    },
    {
     "data": {
      "application/vnd.jupyter.widget-view+json": {
       "model_id": "78bf2ba4ed6a4bab91bbf99f04c1a249",
       "version_major": 2,
       "version_minor": 0
      },
      "text/plain": [
       "  0%|          | 0/1000 [00:00<?, ?it/s]"
      ]
     },
     "metadata": {},
     "output_type": "display_data"
    },
    {
     "data": {
      "application/vnd.jupyter.widget-view+json": {
       "model_id": "1f90a9628924471fb9fcbd1cc70b2c17",
       "version_major": 2,
       "version_minor": 0
      },
      "text/plain": [
       "  0%|          | 0/1000 [00:00<?, ?it/s]"
      ]
     },
     "metadata": {},
     "output_type": "display_data"
    },
    {
     "data": {
      "application/vnd.jupyter.widget-view+json": {
       "model_id": "1af531d43c084b299920947ce2a0836a",
       "version_major": 2,
       "version_minor": 0
      },
      "text/plain": [
       "  0%|          | 0/1000 [00:00<?, ?it/s]"
      ]
     },
     "metadata": {},
     "output_type": "display_data"
    },
    {
     "data": {
      "application/vnd.jupyter.widget-view+json": {
       "model_id": "b12368519ff043f598915bfb8588b6c9",
       "version_major": 2,
       "version_minor": 0
      },
      "text/plain": [
       "  0%|          | 0/1000 [00:00<?, ?it/s]"
      ]
     },
     "metadata": {},
     "output_type": "display_data"
    },
    {
     "data": {
      "application/vnd.jupyter.widget-view+json": {
       "model_id": "d5e626f480ac49ce890dcab28a3b43a3",
       "version_major": 2,
       "version_minor": 0
      },
      "text/plain": [
       "  0%|          | 0/1000 [00:00<?, ?it/s]"
      ]
     },
     "metadata": {},
     "output_type": "display_data"
    },
    {
     "data": {
      "application/vnd.jupyter.widget-view+json": {
       "model_id": "ea2b4d93ddec4757b5fc8e6985df69cc",
       "version_major": 2,
       "version_minor": 0
      },
      "text/plain": [
       "  0%|          | 0/1000 [00:00<?, ?it/s]"
      ]
     },
     "metadata": {},
     "output_type": "display_data"
    },
    {
     "data": {
      "application/vnd.jupyter.widget-view+json": {
       "model_id": "7a18173e4fe941efbe171fc3c5f6dd2c",
       "version_major": 2,
       "version_minor": 0
      },
      "text/plain": [
       "  0%|          | 0/1000 [00:00<?, ?it/s]"
      ]
     },
     "metadata": {},
     "output_type": "display_data"
    },
    {
     "data": {
      "application/vnd.jupyter.widget-view+json": {
       "model_id": "1eb8eed29cde403fa45391fc90cf7dd4",
       "version_major": 2,
       "version_minor": 0
      },
      "text/plain": [
       "  0%|          | 0/1000 [00:00<?, ?it/s]"
      ]
     },
     "metadata": {},
     "output_type": "display_data"
    },
    {
     "data": {
      "application/vnd.jupyter.widget-view+json": {
       "model_id": "f7b6814716004231993ad721672fe609",
       "version_major": 2,
       "version_minor": 0
      },
      "text/plain": [
       "  0%|          | 0/1000 [00:00<?, ?it/s]"
      ]
     },
     "metadata": {},
     "output_type": "display_data"
    },
    {
     "data": {
      "application/vnd.jupyter.widget-view+json": {
       "model_id": "612900774b664d62920e718795d0d0a2",
       "version_major": 2,
       "version_minor": 0
      },
      "text/plain": [
       "  0%|          | 0/1000 [00:00<?, ?it/s]"
      ]
     },
     "metadata": {},
     "output_type": "display_data"
    },
    {
     "data": {
      "application/vnd.jupyter.widget-view+json": {
       "model_id": "a600ce1b23d44041b15b33be638eeeeb",
       "version_major": 2,
       "version_minor": 0
      },
      "text/plain": [
       "  0%|          | 0/1000 [00:00<?, ?it/s]"
      ]
     },
     "metadata": {},
     "output_type": "display_data"
    },
    {
     "data": {
      "application/vnd.jupyter.widget-view+json": {
       "model_id": "b54b904690254ae09db23a52cb1f81bd",
       "version_major": 2,
       "version_minor": 0
      },
      "text/plain": [
       "  0%|          | 0/1000 [00:00<?, ?it/s]"
      ]
     },
     "metadata": {},
     "output_type": "display_data"
    },
    {
     "data": {
      "application/vnd.jupyter.widget-view+json": {
       "model_id": "21922b3a83af490abab53e28015c200c",
       "version_major": 2,
       "version_minor": 0
      },
      "text/plain": [
       "  0%|          | 0/1000 [00:00<?, ?it/s]"
      ]
     },
     "metadata": {},
     "output_type": "display_data"
    },
    {
     "data": {
      "application/vnd.jupyter.widget-view+json": {
       "model_id": "95e1262215924accae357987433d033d",
       "version_major": 2,
       "version_minor": 0
      },
      "text/plain": [
       "  0%|          | 0/1000 [00:00<?, ?it/s]"
      ]
     },
     "metadata": {},
     "output_type": "display_data"
    },
    {
     "data": {
      "application/vnd.jupyter.widget-view+json": {
       "model_id": "c5dc2dfa08924624ba6fc271d34c2174",
       "version_major": 2,
       "version_minor": 0
      },
      "text/plain": [
       "  0%|          | 0/1000 [00:00<?, ?it/s]"
      ]
     },
     "metadata": {},
     "output_type": "display_data"
    },
    {
     "data": {
      "application/vnd.jupyter.widget-view+json": {
       "model_id": "fb732f293ef34706b99340f9abfa294d",
       "version_major": 2,
       "version_minor": 0
      },
      "text/plain": [
       "  0%|          | 0/1000 [00:00<?, ?it/s]"
      ]
     },
     "metadata": {},
     "output_type": "display_data"
    },
    {
     "data": {
      "application/vnd.jupyter.widget-view+json": {
       "model_id": "216dc93586184622916f67cfa19e1849",
       "version_major": 2,
       "version_minor": 0
      },
      "text/plain": [
       "  0%|          | 0/1000 [00:00<?, ?it/s]"
      ]
     },
     "metadata": {},
     "output_type": "display_data"
    },
    {
     "data": {
      "application/vnd.jupyter.widget-view+json": {
       "model_id": "1c58cfacc8844157a3b55df10c52a894",
       "version_major": 2,
       "version_minor": 0
      },
      "text/plain": [
       "  0%|          | 0/1000 [00:00<?, ?it/s]"
      ]
     },
     "metadata": {},
     "output_type": "display_data"
    },
    {
     "data": {
      "application/vnd.jupyter.widget-view+json": {
       "model_id": "229ebd798fd542b987bd0882b028f227",
       "version_major": 2,
       "version_minor": 0
      },
      "text/plain": [
       "  0%|          | 0/1000 [00:00<?, ?it/s]"
      ]
     },
     "metadata": {},
     "output_type": "display_data"
    },
    {
     "data": {
      "application/vnd.jupyter.widget-view+json": {
       "model_id": "c72e6197062c41bbb93e64bbb9511fe1",
       "version_major": 2,
       "version_minor": 0
      },
      "text/plain": [
       "  0%|          | 0/1000 [00:00<?, ?it/s]"
      ]
     },
     "metadata": {},
     "output_type": "display_data"
    },
    {
     "data": {
      "application/vnd.jupyter.widget-view+json": {
       "model_id": "2062839653d545a79e29e19994665b4a",
       "version_major": 2,
       "version_minor": 0
      },
      "text/plain": [
       "  0%|          | 0/1000 [00:00<?, ?it/s]"
      ]
     },
     "metadata": {},
     "output_type": "display_data"
    },
    {
     "data": {
      "application/vnd.jupyter.widget-view+json": {
       "model_id": "8f3ae569f76a4d168b5fb3fa78e3febd",
       "version_major": 2,
       "version_minor": 0
      },
      "text/plain": [
       "  0%|          | 0/1000 [00:00<?, ?it/s]"
      ]
     },
     "metadata": {},
     "output_type": "display_data"
    },
    {
     "data": {
      "application/vnd.jupyter.widget-view+json": {
       "model_id": "6c66d53528d646e5877a3c1408f5fb37",
       "version_major": 2,
       "version_minor": 0
      },
      "text/plain": [
       "  0%|          | 0/1000 [00:00<?, ?it/s]"
      ]
     },
     "metadata": {},
     "output_type": "display_data"
    },
    {
     "data": {
      "application/vnd.jupyter.widget-view+json": {
       "model_id": "1c5fe73351b44fee9e43dd5b8c5c8e43",
       "version_major": 2,
       "version_minor": 0
      },
      "text/plain": [
       "  0%|          | 0/1000 [00:00<?, ?it/s]"
      ]
     },
     "metadata": {},
     "output_type": "display_data"
    },
    {
     "data": {
      "application/vnd.jupyter.widget-view+json": {
       "model_id": "bac551bc692947e193e4819fe09bc7ed",
       "version_major": 2,
       "version_minor": 0
      },
      "text/plain": [
       "  0%|          | 0/1000 [00:00<?, ?it/s]"
      ]
     },
     "metadata": {},
     "output_type": "display_data"
    },
    {
     "data": {
      "application/vnd.jupyter.widget-view+json": {
       "model_id": "f471f445f90742b88df5028b5d9d6ad3",
       "version_major": 2,
       "version_minor": 0
      },
      "text/plain": [
       "  0%|          | 0/1000 [00:00<?, ?it/s]"
      ]
     },
     "metadata": {},
     "output_type": "display_data"
    },
    {
     "data": {
      "application/vnd.jupyter.widget-view+json": {
       "model_id": "cc0bcdc20b304095ab9a45b4218f7da3",
       "version_major": 2,
       "version_minor": 0
      },
      "text/plain": [
       "  0%|          | 0/1000 [00:00<?, ?it/s]"
      ]
     },
     "metadata": {},
     "output_type": "display_data"
    },
    {
     "data": {
      "application/vnd.jupyter.widget-view+json": {
       "model_id": "74f9ba736613491eb3e2b4c3d7268fde",
       "version_major": 2,
       "version_minor": 0
      },
      "text/plain": [
       "  0%|          | 0/1000 [00:00<?, ?it/s]"
      ]
     },
     "metadata": {},
     "output_type": "display_data"
    },
    {
     "data": {
      "application/vnd.jupyter.widget-view+json": {
       "model_id": "25d1d381b5e34ce28ae9eb5c5363fa29",
       "version_major": 2,
       "version_minor": 0
      },
      "text/plain": [
       "  0%|          | 0/1000 [00:00<?, ?it/s]"
      ]
     },
     "metadata": {},
     "output_type": "display_data"
    },
    {
     "data": {
      "application/vnd.jupyter.widget-view+json": {
       "model_id": "eac6306c1b7c48499015c53421182ae5",
       "version_major": 2,
       "version_minor": 0
      },
      "text/plain": [
       "  0%|          | 0/1000 [00:00<?, ?it/s]"
      ]
     },
     "metadata": {},
     "output_type": "display_data"
    },
    {
     "data": {
      "application/vnd.jupyter.widget-view+json": {
       "model_id": "a6833c42eec54614a911ab0d1754fce2",
       "version_major": 2,
       "version_minor": 0
      },
      "text/plain": [
       "  0%|          | 0/1000 [00:00<?, ?it/s]"
      ]
     },
     "metadata": {},
     "output_type": "display_data"
    },
    {
     "data": {
      "application/vnd.jupyter.widget-view+json": {
       "model_id": "2ec6385d9a4f49e88dbe8a5244f6a048",
       "version_major": 2,
       "version_minor": 0
      },
      "text/plain": [
       "  0%|          | 0/1000 [00:00<?, ?it/s]"
      ]
     },
     "metadata": {},
     "output_type": "display_data"
    },
    {
     "data": {
      "application/vnd.jupyter.widget-view+json": {
       "model_id": "a6d72d7ecdea4ad9a45dc4f2f7b8b803",
       "version_major": 2,
       "version_minor": 0
      },
      "text/plain": [
       "  0%|          | 0/1000 [00:00<?, ?it/s]"
      ]
     },
     "metadata": {},
     "output_type": "display_data"
    },
    {
     "data": {
      "application/vnd.jupyter.widget-view+json": {
       "model_id": "f8ae1117fb1c493f98570bdb322dd6e2",
       "version_major": 2,
       "version_minor": 0
      },
      "text/plain": [
       "  0%|          | 0/1000 [00:00<?, ?it/s]"
      ]
     },
     "metadata": {},
     "output_type": "display_data"
    },
    {
     "data": {
      "application/vnd.jupyter.widget-view+json": {
       "model_id": "e555904911624333b0fc1db532dc449c",
       "version_major": 2,
       "version_minor": 0
      },
      "text/plain": [
       "  0%|          | 0/1000 [00:00<?, ?it/s]"
      ]
     },
     "metadata": {},
     "output_type": "display_data"
    },
    {
     "data": {
      "application/vnd.jupyter.widget-view+json": {
       "model_id": "3219f578edfb4ae4b4464fc9ecde6916",
       "version_major": 2,
       "version_minor": 0
      },
      "text/plain": [
       "  0%|          | 0/1000 [00:00<?, ?it/s]"
      ]
     },
     "metadata": {},
     "output_type": "display_data"
    },
    {
     "data": {
      "application/vnd.jupyter.widget-view+json": {
       "model_id": "79023b068ce04d3cbb57944ad11dd6be",
       "version_major": 2,
       "version_minor": 0
      },
      "text/plain": [
       "  0%|          | 0/1000 [00:00<?, ?it/s]"
      ]
     },
     "metadata": {},
     "output_type": "display_data"
    },
    {
     "data": {
      "application/vnd.jupyter.widget-view+json": {
       "model_id": "b1cc06d6276f4d628c8a095d84c7e0a8",
       "version_major": 2,
       "version_minor": 0
      },
      "text/plain": [
       "  0%|          | 0/1000 [00:00<?, ?it/s]"
      ]
     },
     "metadata": {},
     "output_type": "display_data"
    },
    {
     "data": {
      "application/vnd.jupyter.widget-view+json": {
       "model_id": "1dcd833fa3eb4551aed61e033caa854f",
       "version_major": 2,
       "version_minor": 0
      },
      "text/plain": [
       "  0%|          | 0/1000 [00:00<?, ?it/s]"
      ]
     },
     "metadata": {},
     "output_type": "display_data"
    },
    {
     "data": {
      "application/vnd.jupyter.widget-view+json": {
       "model_id": "42191e6cc7d9471ca148d741bd5d162f",
       "version_major": 2,
       "version_minor": 0
      },
      "text/plain": [
       "  0%|          | 0/1000 [00:00<?, ?it/s]"
      ]
     },
     "metadata": {},
     "output_type": "display_data"
    },
    {
     "data": {
      "application/vnd.jupyter.widget-view+json": {
       "model_id": "d2bfd15e3a314605af214bd978056928",
       "version_major": 2,
       "version_minor": 0
      },
      "text/plain": [
       "  0%|          | 0/1000 [00:00<?, ?it/s]"
      ]
     },
     "metadata": {},
     "output_type": "display_data"
    },
    {
     "data": {
      "application/vnd.jupyter.widget-view+json": {
       "model_id": "96fd51aae1a2449eb3ecc88721a8c996",
       "version_major": 2,
       "version_minor": 0
      },
      "text/plain": [
       "  0%|          | 0/1000 [00:00<?, ?it/s]"
      ]
     },
     "metadata": {},
     "output_type": "display_data"
    },
    {
     "data": {
      "application/vnd.jupyter.widget-view+json": {
       "model_id": "82e960df0d8e4997a7c44030173c7f90",
       "version_major": 2,
       "version_minor": 0
      },
      "text/plain": [
       "  0%|          | 0/1000 [00:00<?, ?it/s]"
      ]
     },
     "metadata": {},
     "output_type": "display_data"
    },
    {
     "data": {
      "application/vnd.jupyter.widget-view+json": {
       "model_id": "5d3d0159a8514b20b7bd58aab9e151da",
       "version_major": 2,
       "version_minor": 0
      },
      "text/plain": [
       "  0%|          | 0/1000 [00:00<?, ?it/s]"
      ]
     },
     "metadata": {},
     "output_type": "display_data"
    },
    {
     "data": {
      "application/vnd.jupyter.widget-view+json": {
       "model_id": "34ab68f9855749559291953331942bbc",
       "version_major": 2,
       "version_minor": 0
      },
      "text/plain": [
       "  0%|          | 0/1000 [00:00<?, ?it/s]"
      ]
     },
     "metadata": {},
     "output_type": "display_data"
    },
    {
     "data": {
      "application/vnd.jupyter.widget-view+json": {
       "model_id": "92bf5452c06a4b04bf8e69a08d28f0ee",
       "version_major": 2,
       "version_minor": 0
      },
      "text/plain": [
       "  0%|          | 0/1000 [00:00<?, ?it/s]"
      ]
     },
     "metadata": {},
     "output_type": "display_data"
    },
    {
     "data": {
      "application/vnd.jupyter.widget-view+json": {
       "model_id": "525bbd97e3df4dbcb06b120121e3371f",
       "version_major": 2,
       "version_minor": 0
      },
      "text/plain": [
       "  0%|          | 0/1000 [00:00<?, ?it/s]"
      ]
     },
     "metadata": {},
     "output_type": "display_data"
    },
    {
     "data": {
      "application/vnd.jupyter.widget-view+json": {
       "model_id": "e08751c7491549eb87190d8f53f7cff8",
       "version_major": 2,
       "version_minor": 0
      },
      "text/plain": [
       "  0%|          | 0/1000 [00:00<?, ?it/s]"
      ]
     },
     "metadata": {},
     "output_type": "display_data"
    },
    {
     "data": {
      "application/vnd.jupyter.widget-view+json": {
       "model_id": "e8b3d9591b794297ba5ed6eb1914857f",
       "version_major": 2,
       "version_minor": 0
      },
      "text/plain": [
       "  0%|          | 0/1000 [00:00<?, ?it/s]"
      ]
     },
     "metadata": {},
     "output_type": "display_data"
    },
    {
     "data": {
      "application/vnd.jupyter.widget-view+json": {
       "model_id": "bc2a265adaea42d18e93a05cee71e34f",
       "version_major": 2,
       "version_minor": 0
      },
      "text/plain": [
       "  0%|          | 0/1000 [00:00<?, ?it/s]"
      ]
     },
     "metadata": {},
     "output_type": "display_data"
    },
    {
     "data": {
      "application/vnd.jupyter.widget-view+json": {
       "model_id": "7f85c7aacfdc4ef9b59be328cd3100b8",
       "version_major": 2,
       "version_minor": 0
      },
      "text/plain": [
       "  0%|          | 0/1000 [00:00<?, ?it/s]"
      ]
     },
     "metadata": {},
     "output_type": "display_data"
    },
    {
     "data": {
      "application/vnd.jupyter.widget-view+json": {
       "model_id": "80eab0a23ac6412494c2cd4983db9c76",
       "version_major": 2,
       "version_minor": 0
      },
      "text/plain": [
       "  0%|          | 0/1000 [00:00<?, ?it/s]"
      ]
     },
     "metadata": {},
     "output_type": "display_data"
    },
    {
     "data": {
      "application/vnd.jupyter.widget-view+json": {
       "model_id": "5e3ada1ee09543099370998049d0c6cd",
       "version_major": 2,
       "version_minor": 0
      },
      "text/plain": [
       "  0%|          | 0/1000 [00:00<?, ?it/s]"
      ]
     },
     "metadata": {},
     "output_type": "display_data"
    },
    {
     "data": {
      "application/vnd.jupyter.widget-view+json": {
       "model_id": "acdcc54149f4419aa320230c624abed8",
       "version_major": 2,
       "version_minor": 0
      },
      "text/plain": [
       "  0%|          | 0/1000 [00:00<?, ?it/s]"
      ]
     },
     "metadata": {},
     "output_type": "display_data"
    },
    {
     "data": {
      "application/vnd.jupyter.widget-view+json": {
       "model_id": "8c805c7a0fca4672a05d0c2572106ab4",
       "version_major": 2,
       "version_minor": 0
      },
      "text/plain": [
       "  0%|          | 0/1000 [00:00<?, ?it/s]"
      ]
     },
     "metadata": {},
     "output_type": "display_data"
    },
    {
     "data": {
      "application/vnd.jupyter.widget-view+json": {
       "model_id": "5c433ce2fa974b388ffca90781331341",
       "version_major": 2,
       "version_minor": 0
      },
      "text/plain": [
       "  0%|          | 0/1000 [00:00<?, ?it/s]"
      ]
     },
     "metadata": {},
     "output_type": "display_data"
    },
    {
     "data": {
      "application/vnd.jupyter.widget-view+json": {
       "model_id": "92a1e1b0931d4f83ad2db60afe5525c2",
       "version_major": 2,
       "version_minor": 0
      },
      "text/plain": [
       "  0%|          | 0/1000 [00:00<?, ?it/s]"
      ]
     },
     "metadata": {},
     "output_type": "display_data"
    },
    {
     "data": {
      "application/vnd.jupyter.widget-view+json": {
       "model_id": "365715ac84074dcc8b31d79cf4447d9c",
       "version_major": 2,
       "version_minor": 0
      },
      "text/plain": [
       "  0%|          | 0/1000 [00:00<?, ?it/s]"
      ]
     },
     "metadata": {},
     "output_type": "display_data"
    },
    {
     "data": {
      "application/vnd.jupyter.widget-view+json": {
       "model_id": "0a9c7e2fc03248ab9dd4981b47ee4948",
       "version_major": 2,
       "version_minor": 0
      },
      "text/plain": [
       "  0%|          | 0/1000 [00:00<?, ?it/s]"
      ]
     },
     "metadata": {},
     "output_type": "display_data"
    },
    {
     "data": {
      "application/vnd.jupyter.widget-view+json": {
       "model_id": "9122ea0abfbf48b3a3cc251d22a14cf5",
       "version_major": 2,
       "version_minor": 0
      },
      "text/plain": [
       "  0%|          | 0/1000 [00:00<?, ?it/s]"
      ]
     },
     "metadata": {},
     "output_type": "display_data"
    },
    {
     "data": {
      "application/vnd.jupyter.widget-view+json": {
       "model_id": "a49d89723c9b4d898ceea5744407869c",
       "version_major": 2,
       "version_minor": 0
      },
      "text/plain": [
       "  0%|          | 0/1000 [00:00<?, ?it/s]"
      ]
     },
     "metadata": {},
     "output_type": "display_data"
    },
    {
     "data": {
      "application/vnd.jupyter.widget-view+json": {
       "model_id": "ecc18f226d4d4802a9e0cd66ddfd4ef3",
       "version_major": 2,
       "version_minor": 0
      },
      "text/plain": [
       "  0%|          | 0/1000 [00:00<?, ?it/s]"
      ]
     },
     "metadata": {},
     "output_type": "display_data"
    },
    {
     "data": {
      "application/vnd.jupyter.widget-view+json": {
       "model_id": "5e71af3fb01740ad9805683b9e4a10a8",
       "version_major": 2,
       "version_minor": 0
      },
      "text/plain": [
       "  0%|          | 0/1000 [00:00<?, ?it/s]"
      ]
     },
     "metadata": {},
     "output_type": "display_data"
    },
    {
     "data": {
      "application/vnd.jupyter.widget-view+json": {
       "model_id": "b17b6f29569e415884e832a732149f1d",
       "version_major": 2,
       "version_minor": 0
      },
      "text/plain": [
       "  0%|          | 0/1000 [00:00<?, ?it/s]"
      ]
     },
     "metadata": {},
     "output_type": "display_data"
    },
    {
     "data": {
      "application/vnd.jupyter.widget-view+json": {
       "model_id": "4328113053604b919b27d521579e1f1a",
       "version_major": 2,
       "version_minor": 0
      },
      "text/plain": [
       "  0%|          | 0/1000 [00:00<?, ?it/s]"
      ]
     },
     "metadata": {},
     "output_type": "display_data"
    },
    {
     "data": {
      "application/vnd.jupyter.widget-view+json": {
       "model_id": "2c543652aab44d12a00843da01d50db8",
       "version_major": 2,
       "version_minor": 0
      },
      "text/plain": [
       "  0%|          | 0/1000 [00:00<?, ?it/s]"
      ]
     },
     "metadata": {},
     "output_type": "display_data"
    },
    {
     "data": {
      "application/vnd.jupyter.widget-view+json": {
       "model_id": "b5b0a12ed35f45e0ab8d1f629e38e9b0",
       "version_major": 2,
       "version_minor": 0
      },
      "text/plain": [
       "  0%|          | 0/1000 [00:00<?, ?it/s]"
      ]
     },
     "metadata": {},
     "output_type": "display_data"
    },
    {
     "data": {
      "application/vnd.jupyter.widget-view+json": {
       "model_id": "510e313bc1324c1287305d276ee5161c",
       "version_major": 2,
       "version_minor": 0
      },
      "text/plain": [
       "  0%|          | 0/1000 [00:00<?, ?it/s]"
      ]
     },
     "metadata": {},
     "output_type": "display_data"
    },
    {
     "data": {
      "application/vnd.jupyter.widget-view+json": {
       "model_id": "727669071a6847bba1528c06c51215f8",
       "version_major": 2,
       "version_minor": 0
      },
      "text/plain": [
       "  0%|          | 0/1000 [00:00<?, ?it/s]"
      ]
     },
     "metadata": {},
     "output_type": "display_data"
    },
    {
     "data": {
      "application/vnd.jupyter.widget-view+json": {
       "model_id": "82869910cf7e4b5581cc643b9d9aa1f0",
       "version_major": 2,
       "version_minor": 0
      },
      "text/plain": [
       "  0%|          | 0/1000 [00:00<?, ?it/s]"
      ]
     },
     "metadata": {},
     "output_type": "display_data"
    },
    {
     "data": {
      "application/vnd.jupyter.widget-view+json": {
       "model_id": "be6d9fd2966549168124d2987feadc15",
       "version_major": 2,
       "version_minor": 0
      },
      "text/plain": [
       "  0%|          | 0/1000 [00:00<?, ?it/s]"
      ]
     },
     "metadata": {},
     "output_type": "display_data"
    },
    {
     "data": {
      "application/vnd.jupyter.widget-view+json": {
       "model_id": "7a5fe31d8db243289782b4feedb30e03",
       "version_major": 2,
       "version_minor": 0
      },
      "text/plain": [
       "  0%|          | 0/1000 [00:00<?, ?it/s]"
      ]
     },
     "metadata": {},
     "output_type": "display_data"
    },
    {
     "data": {
      "application/vnd.jupyter.widget-view+json": {
       "model_id": "62cf9a7b8d3f4179948ff1bab552cb52",
       "version_major": 2,
       "version_minor": 0
      },
      "text/plain": [
       "  0%|          | 0/1000 [00:00<?, ?it/s]"
      ]
     },
     "metadata": {},
     "output_type": "display_data"
    },
    {
     "data": {
      "application/vnd.jupyter.widget-view+json": {
       "model_id": "f48d75c9433c4559bb586991dd953721",
       "version_major": 2,
       "version_minor": 0
      },
      "text/plain": [
       "  0%|          | 0/1000 [00:00<?, ?it/s]"
      ]
     },
     "metadata": {},
     "output_type": "display_data"
    },
    {
     "data": {
      "application/vnd.jupyter.widget-view+json": {
       "model_id": "07ab020aa2c24194b7c8093d8efdd28f",
       "version_major": 2,
       "version_minor": 0
      },
      "text/plain": [
       "  0%|          | 0/1000 [00:00<?, ?it/s]"
      ]
     },
     "metadata": {},
     "output_type": "display_data"
    },
    {
     "data": {
      "application/vnd.jupyter.widget-view+json": {
       "model_id": "35b957cda86146519f38134c3039f0dd",
       "version_major": 2,
       "version_minor": 0
      },
      "text/plain": [
       "  0%|          | 0/1000 [00:00<?, ?it/s]"
      ]
     },
     "metadata": {},
     "output_type": "display_data"
    },
    {
     "data": {
      "application/vnd.jupyter.widget-view+json": {
       "model_id": "5fccf71377c44d47b7175f2e53a283a5",
       "version_major": 2,
       "version_minor": 0
      },
      "text/plain": [
       "  0%|          | 0/1000 [00:00<?, ?it/s]"
      ]
     },
     "metadata": {},
     "output_type": "display_data"
    },
    {
     "data": {
      "application/vnd.jupyter.widget-view+json": {
       "model_id": "e5be577e583647c4a0c4c68c72948c30",
       "version_major": 2,
       "version_minor": 0
      },
      "text/plain": [
       "  0%|          | 0/1000 [00:00<?, ?it/s]"
      ]
     },
     "metadata": {},
     "output_type": "display_data"
    },
    {
     "data": {
      "application/vnd.jupyter.widget-view+json": {
       "model_id": "6586ec17f425455988fe22b591a4de0b",
       "version_major": 2,
       "version_minor": 0
      },
      "text/plain": [
       "  0%|          | 0/1000 [00:00<?, ?it/s]"
      ]
     },
     "metadata": {},
     "output_type": "display_data"
    },
    {
     "data": {
      "application/vnd.jupyter.widget-view+json": {
       "model_id": "ddc694f601664ed4ba252bf0aca99252",
       "version_major": 2,
       "version_minor": 0
      },
      "text/plain": [
       "  0%|          | 0/1000 [00:00<?, ?it/s]"
      ]
     },
     "metadata": {},
     "output_type": "display_data"
    },
    {
     "data": {
      "application/vnd.jupyter.widget-view+json": {
       "model_id": "234683cfc66e4dc2adedcde54d4ac7d1",
       "version_major": 2,
       "version_minor": 0
      },
      "text/plain": [
       "  0%|          | 0/1000 [00:00<?, ?it/s]"
      ]
     },
     "metadata": {},
     "output_type": "display_data"
    },
    {
     "data": {
      "application/vnd.jupyter.widget-view+json": {
       "model_id": "69aefbe4fc5d4613a3c74416a8783a77",
       "version_major": 2,
       "version_minor": 0
      },
      "text/plain": [
       "  0%|          | 0/1000 [00:00<?, ?it/s]"
      ]
     },
     "metadata": {},
     "output_type": "display_data"
    },
    {
     "data": {
      "application/vnd.jupyter.widget-view+json": {
       "model_id": "48224a02a58546ccaebbfb20da872ea2",
       "version_major": 2,
       "version_minor": 0
      },
      "text/plain": [
       "  0%|          | 0/1000 [00:00<?, ?it/s]"
      ]
     },
     "metadata": {},
     "output_type": "display_data"
    },
    {
     "data": {
      "application/vnd.jupyter.widget-view+json": {
       "model_id": "04a62f98cd204c0eac7c5a78099f70d4",
       "version_major": 2,
       "version_minor": 0
      },
      "text/plain": [
       "  0%|          | 0/1000 [00:00<?, ?it/s]"
      ]
     },
     "metadata": {},
     "output_type": "display_data"
    },
    {
     "data": {
      "application/vnd.jupyter.widget-view+json": {
       "model_id": "843558fa4fff459391532ff9a0a0615b",
       "version_major": 2,
       "version_minor": 0
      },
      "text/plain": [
       "  0%|          | 0/1000 [00:00<?, ?it/s]"
      ]
     },
     "metadata": {},
     "output_type": "display_data"
    },
    {
     "data": {
      "application/vnd.jupyter.widget-view+json": {
       "model_id": "5f78c564d4f349fd82562c8c405ca88d",
       "version_major": 2,
       "version_minor": 0
      },
      "text/plain": [
       "  0%|          | 0/1000 [00:00<?, ?it/s]"
      ]
     },
     "metadata": {},
     "output_type": "display_data"
    },
    {
     "data": {
      "application/vnd.jupyter.widget-view+json": {
       "model_id": "0b38db729ba94aff92cd18bd7af65600",
       "version_major": 2,
       "version_minor": 0
      },
      "text/plain": [
       "  0%|          | 0/1000 [00:00<?, ?it/s]"
      ]
     },
     "metadata": {},
     "output_type": "display_data"
    },
    {
     "data": {
      "application/vnd.jupyter.widget-view+json": {
       "model_id": "9b358fdc91574c50ada2d2c6a18d6197",
       "version_major": 2,
       "version_minor": 0
      },
      "text/plain": [
       "  0%|          | 0/1000 [00:00<?, ?it/s]"
      ]
     },
     "metadata": {},
     "output_type": "display_data"
    },
    {
     "data": {
      "application/vnd.jupyter.widget-view+json": {
       "model_id": "79f45861d5994ea89ec32fde61418534",
       "version_major": 2,
       "version_minor": 0
      },
      "text/plain": [
       "  0%|          | 0/1000 [00:00<?, ?it/s]"
      ]
     },
     "metadata": {},
     "output_type": "display_data"
    },
    {
     "data": {
      "application/vnd.jupyter.widget-view+json": {
       "model_id": "bb28a2e705554fa2b0767d44fd3cc101",
       "version_major": 2,
       "version_minor": 0
      },
      "text/plain": [
       "  0%|          | 0/1000 [00:00<?, ?it/s]"
      ]
     },
     "metadata": {},
     "output_type": "display_data"
    },
    {
     "data": {
      "application/vnd.jupyter.widget-view+json": {
       "model_id": "0d0fb0da947841d8b5382556be10893d",
       "version_major": 2,
       "version_minor": 0
      },
      "text/plain": [
       "  0%|          | 0/1000 [00:00<?, ?it/s]"
      ]
     },
     "metadata": {},
     "output_type": "display_data"
    },
    {
     "data": {
      "application/vnd.jupyter.widget-view+json": {
       "model_id": "0aa27dc640d64e32ba8f26902320008a",
       "version_major": 2,
       "version_minor": 0
      },
      "text/plain": [
       "  0%|          | 0/1000 [00:00<?, ?it/s]"
      ]
     },
     "metadata": {},
     "output_type": "display_data"
    },
    {
     "data": {
      "application/vnd.jupyter.widget-view+json": {
       "model_id": "19bf5300ff1f4bdd9e3b2191065ac6bc",
       "version_major": 2,
       "version_minor": 0
      },
      "text/plain": [
       "  0%|          | 0/1000 [00:00<?, ?it/s]"
      ]
     },
     "metadata": {},
     "output_type": "display_data"
    },
    {
     "data": {
      "application/vnd.jupyter.widget-view+json": {
       "model_id": "24f849b48343496d927d066ab35e1a38",
       "version_major": 2,
       "version_minor": 0
      },
      "text/plain": [
       "  0%|          | 0/1000 [00:00<?, ?it/s]"
      ]
     },
     "metadata": {},
     "output_type": "display_data"
    },
    {
     "data": {
      "application/vnd.jupyter.widget-view+json": {
       "model_id": "4340e912a22c4bce8239a031e8f02e3e",
       "version_major": 2,
       "version_minor": 0
      },
      "text/plain": [
       "  0%|          | 0/1000 [00:00<?, ?it/s]"
      ]
     },
     "metadata": {},
     "output_type": "display_data"
    },
    {
     "data": {
      "application/vnd.jupyter.widget-view+json": {
       "model_id": "e2358a1c17ce4285ab1b65b0feab39e7",
       "version_major": 2,
       "version_minor": 0
      },
      "text/plain": [
       "  0%|          | 0/1000 [00:00<?, ?it/s]"
      ]
     },
     "metadata": {},
     "output_type": "display_data"
    },
    {
     "data": {
      "application/vnd.jupyter.widget-view+json": {
       "model_id": "224601bd352f4b3086bfc697f609e7ad",
       "version_major": 2,
       "version_minor": 0
      },
      "text/plain": [
       "  0%|          | 0/1000 [00:00<?, ?it/s]"
      ]
     },
     "metadata": {},
     "output_type": "display_data"
    },
    {
     "data": {
      "application/vnd.jupyter.widget-view+json": {
       "model_id": "940aa3ed4a50442793b785dd096065db",
       "version_major": 2,
       "version_minor": 0
      },
      "text/plain": [
       "  0%|          | 0/1000 [00:00<?, ?it/s]"
      ]
     },
     "metadata": {},
     "output_type": "display_data"
    },
    {
     "data": {
      "application/vnd.jupyter.widget-view+json": {
       "model_id": "878eb3e130fd49d587b3f5bbb7e81675",
       "version_major": 2,
       "version_minor": 0
      },
      "text/plain": [
       "  0%|          | 0/1000 [00:00<?, ?it/s]"
      ]
     },
     "metadata": {},
     "output_type": "display_data"
    },
    {
     "data": {
      "application/vnd.jupyter.widget-view+json": {
       "model_id": "f13f4127748d4499a8f8c69f8c9eb6d6",
       "version_major": 2,
       "version_minor": 0
      },
      "text/plain": [
       "  0%|          | 0/1000 [00:00<?, ?it/s]"
      ]
     },
     "metadata": {},
     "output_type": "display_data"
    },
    {
     "data": {
      "application/vnd.jupyter.widget-view+json": {
       "model_id": "a05efe3bdbfd46b8a3a714d12b18acdb",
       "version_major": 2,
       "version_minor": 0
      },
      "text/plain": [
       "  0%|          | 0/1000 [00:00<?, ?it/s]"
      ]
     },
     "metadata": {},
     "output_type": "display_data"
    },
    {
     "data": {
      "application/vnd.jupyter.widget-view+json": {
       "model_id": "604258027c9a4969a73c53a31fbe8d7d",
       "version_major": 2,
       "version_minor": 0
      },
      "text/plain": [
       "  0%|          | 0/1000 [00:00<?, ?it/s]"
      ]
     },
     "metadata": {},
     "output_type": "display_data"
    },
    {
     "data": {
      "application/vnd.jupyter.widget-view+json": {
       "model_id": "4a2f8d04ca2340cca3f22978ff56a82d",
       "version_major": 2,
       "version_minor": 0
      },
      "text/plain": [
       "  0%|          | 0/1000 [00:00<?, ?it/s]"
      ]
     },
     "metadata": {},
     "output_type": "display_data"
    },
    {
     "data": {
      "application/vnd.jupyter.widget-view+json": {
       "model_id": "6da6b7a96f8d45b29f0966ee99d5e857",
       "version_major": 2,
       "version_minor": 0
      },
      "text/plain": [
       "  0%|          | 0/1000 [00:00<?, ?it/s]"
      ]
     },
     "metadata": {},
     "output_type": "display_data"
    },
    {
     "data": {
      "application/vnd.jupyter.widget-view+json": {
       "model_id": "c6b9e6cf268f464090830fdc418826eb",
       "version_major": 2,
       "version_minor": 0
      },
      "text/plain": [
       "  0%|          | 0/1000 [00:00<?, ?it/s]"
      ]
     },
     "metadata": {},
     "output_type": "display_data"
    },
    {
     "data": {
      "application/vnd.jupyter.widget-view+json": {
       "model_id": "9c0f81f1f8af404bb0c893c3153996cd",
       "version_major": 2,
       "version_minor": 0
      },
      "text/plain": [
       "  0%|          | 0/1000 [00:00<?, ?it/s]"
      ]
     },
     "metadata": {},
     "output_type": "display_data"
    },
    {
     "data": {
      "application/vnd.jupyter.widget-view+json": {
       "model_id": "5e980998046c408daf57bc8f5c2a99cb",
       "version_major": 2,
       "version_minor": 0
      },
      "text/plain": [
       "  0%|          | 0/1000 [00:00<?, ?it/s]"
      ]
     },
     "metadata": {},
     "output_type": "display_data"
    },
    {
     "data": {
      "application/vnd.jupyter.widget-view+json": {
       "model_id": "ae5c95e4207145ee9c99dee778c934d5",
       "version_major": 2,
       "version_minor": 0
      },
      "text/plain": [
       "  0%|          | 0/1000 [00:00<?, ?it/s]"
      ]
     },
     "metadata": {},
     "output_type": "display_data"
    },
    {
     "data": {
      "application/vnd.jupyter.widget-view+json": {
       "model_id": "f7eaa3afb0a641bf8606f5eba8ddb22d",
       "version_major": 2,
       "version_minor": 0
      },
      "text/plain": [
       "  0%|          | 0/1000 [00:00<?, ?it/s]"
      ]
     },
     "metadata": {},
     "output_type": "display_data"
    },
    {
     "data": {
      "application/vnd.jupyter.widget-view+json": {
       "model_id": "6e6f444bc8d444868d777c7a87194421",
       "version_major": 2,
       "version_minor": 0
      },
      "text/plain": [
       "  0%|          | 0/1000 [00:00<?, ?it/s]"
      ]
     },
     "metadata": {},
     "output_type": "display_data"
    },
    {
     "data": {
      "application/vnd.jupyter.widget-view+json": {
       "model_id": "52415aa98cc14341ba36d06071ee497d",
       "version_major": 2,
       "version_minor": 0
      },
      "text/plain": [
       "  0%|          | 0/1000 [00:00<?, ?it/s]"
      ]
     },
     "metadata": {},
     "output_type": "display_data"
    },
    {
     "data": {
      "application/vnd.jupyter.widget-view+json": {
       "model_id": "caf11dfeffa24be99310a1af06aa0158",
       "version_major": 2,
       "version_minor": 0
      },
      "text/plain": [
       "  0%|          | 0/1000 [00:00<?, ?it/s]"
      ]
     },
     "metadata": {},
     "output_type": "display_data"
    },
    {
     "data": {
      "application/vnd.jupyter.widget-view+json": {
       "model_id": "7210d60b2d734b8987ed691af2b06ed6",
       "version_major": 2,
       "version_minor": 0
      },
      "text/plain": [
       "  0%|          | 0/1000 [00:00<?, ?it/s]"
      ]
     },
     "metadata": {},
     "output_type": "display_data"
    },
    {
     "data": {
      "application/vnd.jupyter.widget-view+json": {
       "model_id": "f4670f2ad80943e78dc44a09323c7c7c",
       "version_major": 2,
       "version_minor": 0
      },
      "text/plain": [
       "  0%|          | 0/1000 [00:00<?, ?it/s]"
      ]
     },
     "metadata": {},
     "output_type": "display_data"
    },
    {
     "data": {
      "application/vnd.jupyter.widget-view+json": {
       "model_id": "c84bb41a3cb248c0b7c6e7f6d88388fc",
       "version_major": 2,
       "version_minor": 0
      },
      "text/plain": [
       "  0%|          | 0/1000 [00:00<?, ?it/s]"
      ]
     },
     "metadata": {},
     "output_type": "display_data"
    },
    {
     "data": {
      "application/vnd.jupyter.widget-view+json": {
       "model_id": "c17685dfe9d04516b7b027f3a6833331",
       "version_major": 2,
       "version_minor": 0
      },
      "text/plain": [
       "  0%|          | 0/1000 [00:00<?, ?it/s]"
      ]
     },
     "metadata": {},
     "output_type": "display_data"
    },
    {
     "data": {
      "application/vnd.jupyter.widget-view+json": {
       "model_id": "044f884f96044f8697946cd8d45307fa",
       "version_major": 2,
       "version_minor": 0
      },
      "text/plain": [
       "  0%|          | 0/1000 [00:00<?, ?it/s]"
      ]
     },
     "metadata": {},
     "output_type": "display_data"
    },
    {
     "data": {
      "application/vnd.jupyter.widget-view+json": {
       "model_id": "ce769102adf444a7bfc69cbb6d7c09e2",
       "version_major": 2,
       "version_minor": 0
      },
      "text/plain": [
       "  0%|          | 0/1000 [00:00<?, ?it/s]"
      ]
     },
     "metadata": {},
     "output_type": "display_data"
    },
    {
     "data": {
      "application/vnd.jupyter.widget-view+json": {
       "model_id": "45efa7d2dc8147618e8401511eae01de",
       "version_major": 2,
       "version_minor": 0
      },
      "text/plain": [
       "  0%|          | 0/1000 [00:00<?, ?it/s]"
      ]
     },
     "metadata": {},
     "output_type": "display_data"
    },
    {
     "data": {
      "application/vnd.jupyter.widget-view+json": {
       "model_id": "6c362d981dfd44a69cb0c07ad2d6bb89",
       "version_major": 2,
       "version_minor": 0
      },
      "text/plain": [
       "  0%|          | 0/1000 [00:00<?, ?it/s]"
      ]
     },
     "metadata": {},
     "output_type": "display_data"
    },
    {
     "data": {
      "application/vnd.jupyter.widget-view+json": {
       "model_id": "696591fe2cab4651855ac445be7d112b",
       "version_major": 2,
       "version_minor": 0
      },
      "text/plain": [
       "  0%|          | 0/1000 [00:00<?, ?it/s]"
      ]
     },
     "metadata": {},
     "output_type": "display_data"
    },
    {
     "data": {
      "application/vnd.jupyter.widget-view+json": {
       "model_id": "6b01cff1e45140cf8a23b8dbf1af8267",
       "version_major": 2,
       "version_minor": 0
      },
      "text/plain": [
       "  0%|          | 0/1000 [00:00<?, ?it/s]"
      ]
     },
     "metadata": {},
     "output_type": "display_data"
    },
    {
     "data": {
      "application/vnd.jupyter.widget-view+json": {
       "model_id": "a3960c7d0a1f416fa641f96345b6770e",
       "version_major": 2,
       "version_minor": 0
      },
      "text/plain": [
       "  0%|          | 0/1000 [00:00<?, ?it/s]"
      ]
     },
     "metadata": {},
     "output_type": "display_data"
    },
    {
     "data": {
      "application/vnd.jupyter.widget-view+json": {
       "model_id": "dfbdfd3d1f57440ba64ae05009730401",
       "version_major": 2,
       "version_minor": 0
      },
      "text/plain": [
       "  0%|          | 0/1000 [00:00<?, ?it/s]"
      ]
     },
     "metadata": {},
     "output_type": "display_data"
    },
    {
     "data": {
      "application/vnd.jupyter.widget-view+json": {
       "model_id": "8d607dd78e1e4748942beaaeccce3f51",
       "version_major": 2,
       "version_minor": 0
      },
      "text/plain": [
       "  0%|          | 0/1000 [00:00<?, ?it/s]"
      ]
     },
     "metadata": {},
     "output_type": "display_data"
    },
    {
     "data": {
      "application/vnd.jupyter.widget-view+json": {
       "model_id": "2aa12faf882740a2bf50a7125516cecc",
       "version_major": 2,
       "version_minor": 0
      },
      "text/plain": [
       "  0%|          | 0/1000 [00:00<?, ?it/s]"
      ]
     },
     "metadata": {},
     "output_type": "display_data"
    },
    {
     "data": {
      "application/vnd.jupyter.widget-view+json": {
       "model_id": "77fba0e329684f62adf3466857adcea5",
       "version_major": 2,
       "version_minor": 0
      },
      "text/plain": [
       "  0%|          | 0/1000 [00:00<?, ?it/s]"
      ]
     },
     "metadata": {},
     "output_type": "display_data"
    },
    {
     "data": {
      "application/vnd.jupyter.widget-view+json": {
       "model_id": "7ed82a6acaaf4d3ab0a6b5de51ea1179",
       "version_major": 2,
       "version_minor": 0
      },
      "text/plain": [
       "  0%|          | 0/1000 [00:00<?, ?it/s]"
      ]
     },
     "metadata": {},
     "output_type": "display_data"
    },
    {
     "data": {
      "application/vnd.jupyter.widget-view+json": {
       "model_id": "4dad609c1cbc40428253cc72e8912666",
       "version_major": 2,
       "version_minor": 0
      },
      "text/plain": [
       "  0%|          | 0/1000 [00:00<?, ?it/s]"
      ]
     },
     "metadata": {},
     "output_type": "display_data"
    },
    {
     "data": {
      "application/vnd.jupyter.widget-view+json": {
       "model_id": "165d8d8a778c443eb0c786d25c31c096",
       "version_major": 2,
       "version_minor": 0
      },
      "text/plain": [
       "  0%|          | 0/1000 [00:00<?, ?it/s]"
      ]
     },
     "metadata": {},
     "output_type": "display_data"
    },
    {
     "data": {
      "application/vnd.jupyter.widget-view+json": {
       "model_id": "7a1714b5ef9c45fba320758699d1a195",
       "version_major": 2,
       "version_minor": 0
      },
      "text/plain": [
       "  0%|          | 0/1000 [00:00<?, ?it/s]"
      ]
     },
     "metadata": {},
     "output_type": "display_data"
    },
    {
     "data": {
      "application/vnd.jupyter.widget-view+json": {
       "model_id": "965584b832bd431993d171468bfedd7d",
       "version_major": 2,
       "version_minor": 0
      },
      "text/plain": [
       "  0%|          | 0/1000 [00:00<?, ?it/s]"
      ]
     },
     "metadata": {},
     "output_type": "display_data"
    },
    {
     "data": {
      "application/vnd.jupyter.widget-view+json": {
       "model_id": "070e0635d6f649109e794a4a8d741a99",
       "version_major": 2,
       "version_minor": 0
      },
      "text/plain": [
       "  0%|          | 0/1000 [00:00<?, ?it/s]"
      ]
     },
     "metadata": {},
     "output_type": "display_data"
    },
    {
     "data": {
      "application/vnd.jupyter.widget-view+json": {
       "model_id": "c83b3732291e4dff90b3635a29124d6b",
       "version_major": 2,
       "version_minor": 0
      },
      "text/plain": [
       "  0%|          | 0/1000 [00:00<?, ?it/s]"
      ]
     },
     "metadata": {},
     "output_type": "display_data"
    },
    {
     "data": {
      "application/vnd.jupyter.widget-view+json": {
       "model_id": "d62bb3e5aca14e0a983b68aa61a8b31b",
       "version_major": 2,
       "version_minor": 0
      },
      "text/plain": [
       "  0%|          | 0/1000 [00:00<?, ?it/s]"
      ]
     },
     "metadata": {},
     "output_type": "display_data"
    },
    {
     "data": {
      "application/vnd.jupyter.widget-view+json": {
       "model_id": "3a4719d8906047aab1db45214b6756e5",
       "version_major": 2,
       "version_minor": 0
      },
      "text/plain": [
       "  0%|          | 0/1000 [00:00<?, ?it/s]"
      ]
     },
     "metadata": {},
     "output_type": "display_data"
    },
    {
     "data": {
      "application/vnd.jupyter.widget-view+json": {
       "model_id": "a72f7328f5934f909cfdd4305c9ea42b",
       "version_major": 2,
       "version_minor": 0
      },
      "text/plain": [
       "  0%|          | 0/1000 [00:00<?, ?it/s]"
      ]
     },
     "metadata": {},
     "output_type": "display_data"
    },
    {
     "data": {
      "application/vnd.jupyter.widget-view+json": {
       "model_id": "cf5103ab17984ca5b81388788c4264d3",
       "version_major": 2,
       "version_minor": 0
      },
      "text/plain": [
       "  0%|          | 0/1000 [00:00<?, ?it/s]"
      ]
     },
     "metadata": {},
     "output_type": "display_data"
    },
    {
     "data": {
      "application/vnd.jupyter.widget-view+json": {
       "model_id": "7073248631e74a208888267755eea15a",
       "version_major": 2,
       "version_minor": 0
      },
      "text/plain": [
       "  0%|          | 0/1000 [00:00<?, ?it/s]"
      ]
     },
     "metadata": {},
     "output_type": "display_data"
    },
    {
     "data": {
      "application/vnd.jupyter.widget-view+json": {
       "model_id": "73e21e32a549476bafe94c10b93f9b56",
       "version_major": 2,
       "version_minor": 0
      },
      "text/plain": [
       "  0%|          | 0/1000 [00:00<?, ?it/s]"
      ]
     },
     "metadata": {},
     "output_type": "display_data"
    },
    {
     "data": {
      "application/vnd.jupyter.widget-view+json": {
       "model_id": "0e3906cd0f1849778bc302129aebb1c6",
       "version_major": 2,
       "version_minor": 0
      },
      "text/plain": [
       "  0%|          | 0/1000 [00:00<?, ?it/s]"
      ]
     },
     "metadata": {},
     "output_type": "display_data"
    },
    {
     "data": {
      "application/vnd.jupyter.widget-view+json": {
       "model_id": "3881cd750fa44943ac04a6cfbf71c891",
       "version_major": 2,
       "version_minor": 0
      },
      "text/plain": [
       "  0%|          | 0/1000 [00:00<?, ?it/s]"
      ]
     },
     "metadata": {},
     "output_type": "display_data"
    },
    {
     "data": {
      "application/vnd.jupyter.widget-view+json": {
       "model_id": "51c22c65ca484b79b9b37f36a57ccb89",
       "version_major": 2,
       "version_minor": 0
      },
      "text/plain": [
       "  0%|          | 0/1000 [00:00<?, ?it/s]"
      ]
     },
     "metadata": {},
     "output_type": "display_data"
    },
    {
     "data": {
      "application/vnd.jupyter.widget-view+json": {
       "model_id": "6a6349cc99684a6abcbb0569d0823871",
       "version_major": 2,
       "version_minor": 0
      },
      "text/plain": [
       "  0%|          | 0/1000 [00:00<?, ?it/s]"
      ]
     },
     "metadata": {},
     "output_type": "display_data"
    },
    {
     "data": {
      "application/vnd.jupyter.widget-view+json": {
       "model_id": "64aa57e82ef44ad7abd74e4e51afb325",
       "version_major": 2,
       "version_minor": 0
      },
      "text/plain": [
       "  0%|          | 0/1000 [00:00<?, ?it/s]"
      ]
     },
     "metadata": {},
     "output_type": "display_data"
    },
    {
     "data": {
      "application/vnd.jupyter.widget-view+json": {
       "model_id": "63ad917c67034b7790851a16f571c10e",
       "version_major": 2,
       "version_minor": 0
      },
      "text/plain": [
       "  0%|          | 0/1000 [00:00<?, ?it/s]"
      ]
     },
     "metadata": {},
     "output_type": "display_data"
    },
    {
     "data": {
      "application/vnd.jupyter.widget-view+json": {
       "model_id": "73491f90780b4eb38814e27f1a0812ec",
       "version_major": 2,
       "version_minor": 0
      },
      "text/plain": [
       "  0%|          | 0/1000 [00:00<?, ?it/s]"
      ]
     },
     "metadata": {},
     "output_type": "display_data"
    },
    {
     "data": {
      "application/vnd.jupyter.widget-view+json": {
       "model_id": "13384ef6c90843c88ffe8f45bd56c334",
       "version_major": 2,
       "version_minor": 0
      },
      "text/plain": [
       "  0%|          | 0/1000 [00:00<?, ?it/s]"
      ]
     },
     "metadata": {},
     "output_type": "display_data"
    },
    {
     "data": {
      "application/vnd.jupyter.widget-view+json": {
       "model_id": "33b9d7ae99f144ae86084b7d09a79197",
       "version_major": 2,
       "version_minor": 0
      },
      "text/plain": [
       "  0%|          | 0/1000 [00:00<?, ?it/s]"
      ]
     },
     "metadata": {},
     "output_type": "display_data"
    },
    {
     "data": {
      "application/vnd.jupyter.widget-view+json": {
       "model_id": "02c78af65e0f4c3cb8970e0106ab53c5",
       "version_major": 2,
       "version_minor": 0
      },
      "text/plain": [
       "  0%|          | 0/1000 [00:00<?, ?it/s]"
      ]
     },
     "metadata": {},
     "output_type": "display_data"
    },
    {
     "data": {
      "application/vnd.jupyter.widget-view+json": {
       "model_id": "554098b66e6f4acaac8ee74122ce972e",
       "version_major": 2,
       "version_minor": 0
      },
      "text/plain": [
       "  0%|          | 0/1000 [00:00<?, ?it/s]"
      ]
     },
     "metadata": {},
     "output_type": "display_data"
    },
    {
     "data": {
      "application/vnd.jupyter.widget-view+json": {
       "model_id": "f817848500e8451d90f8b0729595312e",
       "version_major": 2,
       "version_minor": 0
      },
      "text/plain": [
       "  0%|          | 0/1000 [00:00<?, ?it/s]"
      ]
     },
     "metadata": {},
     "output_type": "display_data"
    },
    {
     "data": {
      "application/vnd.jupyter.widget-view+json": {
       "model_id": "a16b13aa7c8a4eb5a8860ae55759c6aa",
       "version_major": 2,
       "version_minor": 0
      },
      "text/plain": [
       "  0%|          | 0/1000 [00:00<?, ?it/s]"
      ]
     },
     "metadata": {},
     "output_type": "display_data"
    },
    {
     "data": {
      "application/vnd.jupyter.widget-view+json": {
       "model_id": "2c44f5576f964a809946546253f437c8",
       "version_major": 2,
       "version_minor": 0
      },
      "text/plain": [
       "  0%|          | 0/1000 [00:00<?, ?it/s]"
      ]
     },
     "metadata": {},
     "output_type": "display_data"
    },
    {
     "data": {
      "application/vnd.jupyter.widget-view+json": {
       "model_id": "0cbea302c1b04bf091cd73bcff0449b9",
       "version_major": 2,
       "version_minor": 0
      },
      "text/plain": [
       "  0%|          | 0/1000 [00:00<?, ?it/s]"
      ]
     },
     "metadata": {},
     "output_type": "display_data"
    },
    {
     "data": {
      "application/vnd.jupyter.widget-view+json": {
       "model_id": "a075404f334c4122b26631a508c86f7e",
       "version_major": 2,
       "version_minor": 0
      },
      "text/plain": [
       "  0%|          | 0/1000 [00:00<?, ?it/s]"
      ]
     },
     "metadata": {},
     "output_type": "display_data"
    },
    {
     "data": {
      "application/vnd.jupyter.widget-view+json": {
       "model_id": "f9fedee0002944c4934258754d92d624",
       "version_major": 2,
       "version_minor": 0
      },
      "text/plain": [
       "  0%|          | 0/1000 [00:00<?, ?it/s]"
      ]
     },
     "metadata": {},
     "output_type": "display_data"
    },
    {
     "data": {
      "application/vnd.jupyter.widget-view+json": {
       "model_id": "cb2c6e45c9204956a61b28de000fc66c",
       "version_major": 2,
       "version_minor": 0
      },
      "text/plain": [
       "  0%|          | 0/1000 [00:00<?, ?it/s]"
      ]
     },
     "metadata": {},
     "output_type": "display_data"
    },
    {
     "data": {
      "application/vnd.jupyter.widget-view+json": {
       "model_id": "7fe13b1c4dcc4a9b92756edf68c1ed36",
       "version_major": 2,
       "version_minor": 0
      },
      "text/plain": [
       "  0%|          | 0/1000 [00:00<?, ?it/s]"
      ]
     },
     "metadata": {},
     "output_type": "display_data"
    },
    {
     "data": {
      "application/vnd.jupyter.widget-view+json": {
       "model_id": "6682ede56ba242b289a2e2bb12607e87",
       "version_major": 2,
       "version_minor": 0
      },
      "text/plain": [
       "  0%|          | 0/1000 [00:00<?, ?it/s]"
      ]
     },
     "metadata": {},
     "output_type": "display_data"
    },
    {
     "data": {
      "application/vnd.jupyter.widget-view+json": {
       "model_id": "8f88629e9ee74c3f84a6dcaba9d8e93a",
       "version_major": 2,
       "version_minor": 0
      },
      "text/plain": [
       "  0%|          | 0/1000 [00:00<?, ?it/s]"
      ]
     },
     "metadata": {},
     "output_type": "display_data"
    },
    {
     "data": {
      "application/vnd.jupyter.widget-view+json": {
       "model_id": "76c66e5bfb9340f2b25a1bf21dab03b3",
       "version_major": 2,
       "version_minor": 0
      },
      "text/plain": [
       "  0%|          | 0/1000 [00:00<?, ?it/s]"
      ]
     },
     "metadata": {},
     "output_type": "display_data"
    },
    {
     "data": {
      "application/vnd.jupyter.widget-view+json": {
       "model_id": "5752317485bc44319dbbcd7b2f24ccfe",
       "version_major": 2,
       "version_minor": 0
      },
      "text/plain": [
       "  0%|          | 0/1000 [00:00<?, ?it/s]"
      ]
     },
     "metadata": {},
     "output_type": "display_data"
    },
    {
     "data": {
      "application/vnd.jupyter.widget-view+json": {
       "model_id": "fa6c2a17fb1641ca97a2990bce745741",
       "version_major": 2,
       "version_minor": 0
      },
      "text/plain": [
       "  0%|          | 0/1000 [00:00<?, ?it/s]"
      ]
     },
     "metadata": {},
     "output_type": "display_data"
    },
    {
     "data": {
      "application/vnd.jupyter.widget-view+json": {
       "model_id": "6c67b98bc17449d28ee49a299db2bdf8",
       "version_major": 2,
       "version_minor": 0
      },
      "text/plain": [
       "  0%|          | 0/1000 [00:00<?, ?it/s]"
      ]
     },
     "metadata": {},
     "output_type": "display_data"
    },
    {
     "data": {
      "application/vnd.jupyter.widget-view+json": {
       "model_id": "f2f45f89a369466f9dad69abe3dd9786",
       "version_major": 2,
       "version_minor": 0
      },
      "text/plain": [
       "  0%|          | 0/1000 [00:00<?, ?it/s]"
      ]
     },
     "metadata": {},
     "output_type": "display_data"
    },
    {
     "data": {
      "application/vnd.jupyter.widget-view+json": {
       "model_id": "5e512e24d2c64b17ad8faee98c91c0f3",
       "version_major": 2,
       "version_minor": 0
      },
      "text/plain": [
       "  0%|          | 0/1000 [00:00<?, ?it/s]"
      ]
     },
     "metadata": {},
     "output_type": "display_data"
    },
    {
     "data": {
      "application/vnd.jupyter.widget-view+json": {
       "model_id": "f0a11ec0ecb44f6aa96175cc7853bdec",
       "version_major": 2,
       "version_minor": 0
      },
      "text/plain": [
       "  0%|          | 0/1000 [00:00<?, ?it/s]"
      ]
     },
     "metadata": {},
     "output_type": "display_data"
    },
    {
     "data": {
      "application/vnd.jupyter.widget-view+json": {
       "model_id": "25ae0de3d08f43c1af52e8265da425e0",
       "version_major": 2,
       "version_minor": 0
      },
      "text/plain": [
       "  0%|          | 0/1000 [00:00<?, ?it/s]"
      ]
     },
     "metadata": {},
     "output_type": "display_data"
    },
    {
     "data": {
      "application/vnd.jupyter.widget-view+json": {
       "model_id": "39e977730ff9447fb727bf5cb52568f1",
       "version_major": 2,
       "version_minor": 0
      },
      "text/plain": [
       "  0%|          | 0/1000 [00:00<?, ?it/s]"
      ]
     },
     "metadata": {},
     "output_type": "display_data"
    },
    {
     "data": {
      "application/vnd.jupyter.widget-view+json": {
       "model_id": "cd51661700a54308aebbf4973164f50a",
       "version_major": 2,
       "version_minor": 0
      },
      "text/plain": [
       "  0%|          | 0/1000 [00:00<?, ?it/s]"
      ]
     },
     "metadata": {},
     "output_type": "display_data"
    },
    {
     "data": {
      "application/vnd.jupyter.widget-view+json": {
       "model_id": "270bc2e6f895439393c399570d750bd2",
       "version_major": 2,
       "version_minor": 0
      },
      "text/plain": [
       "  0%|          | 0/1000 [00:00<?, ?it/s]"
      ]
     },
     "metadata": {},
     "output_type": "display_data"
    },
    {
     "data": {
      "application/vnd.jupyter.widget-view+json": {
       "model_id": "46a57e7f78ee45a18d141a2070be31e3",
       "version_major": 2,
       "version_minor": 0
      },
      "text/plain": [
       "  0%|          | 0/1000 [00:00<?, ?it/s]"
      ]
     },
     "metadata": {},
     "output_type": "display_data"
    },
    {
     "data": {
      "application/vnd.jupyter.widget-view+json": {
       "model_id": "4baf51dd5d3448279ac3c95ba59d3e0b",
       "version_major": 2,
       "version_minor": 0
      },
      "text/plain": [
       "  0%|          | 0/1000 [00:00<?, ?it/s]"
      ]
     },
     "metadata": {},
     "output_type": "display_data"
    },
    {
     "data": {
      "application/vnd.jupyter.widget-view+json": {
       "model_id": "0f558649a1184bd88f9f93df589248d3",
       "version_major": 2,
       "version_minor": 0
      },
      "text/plain": [
       "  0%|          | 0/1000 [00:00<?, ?it/s]"
      ]
     },
     "metadata": {},
     "output_type": "display_data"
    },
    {
     "data": {
      "application/vnd.jupyter.widget-view+json": {
       "model_id": "27f45ea470e0493fbfc1ce77977f7df1",
       "version_major": 2,
       "version_minor": 0
      },
      "text/plain": [
       "  0%|          | 0/1000 [00:00<?, ?it/s]"
      ]
     },
     "metadata": {},
     "output_type": "display_data"
    },
    {
     "data": {
      "application/vnd.jupyter.widget-view+json": {
       "model_id": "804dd2b877f148bfac264016f1f0e2e9",
       "version_major": 2,
       "version_minor": 0
      },
      "text/plain": [
       "  0%|          | 0/1000 [00:00<?, ?it/s]"
      ]
     },
     "metadata": {},
     "output_type": "display_data"
    },
    {
     "data": {
      "application/vnd.jupyter.widget-view+json": {
       "model_id": "847fe6e847d84b0aae9c023f50a4da64",
       "version_major": 2,
       "version_minor": 0
      },
      "text/plain": [
       "  0%|          | 0/1000 [00:00<?, ?it/s]"
      ]
     },
     "metadata": {},
     "output_type": "display_data"
    },
    {
     "data": {
      "application/vnd.jupyter.widget-view+json": {
       "model_id": "5c3fd4b139084ac4bd9641ac10ba40df",
       "version_major": 2,
       "version_minor": 0
      },
      "text/plain": [
       "  0%|          | 0/1000 [00:00<?, ?it/s]"
      ]
     },
     "metadata": {},
     "output_type": "display_data"
    },
    {
     "data": {
      "application/vnd.jupyter.widget-view+json": {
       "model_id": "7d415b209a35460fb56646230ae0cee5",
       "version_major": 2,
       "version_minor": 0
      },
      "text/plain": [
       "  0%|          | 0/1000 [00:00<?, ?it/s]"
      ]
     },
     "metadata": {},
     "output_type": "display_data"
    },
    {
     "data": {
      "application/vnd.jupyter.widget-view+json": {
       "model_id": "0fef421867374a838449739e67a6816f",
       "version_major": 2,
       "version_minor": 0
      },
      "text/plain": [
       "  0%|          | 0/1000 [00:00<?, ?it/s]"
      ]
     },
     "metadata": {},
     "output_type": "display_data"
    },
    {
     "data": {
      "application/vnd.jupyter.widget-view+json": {
       "model_id": "2ce153325cb447c2b152aa340c9ea504",
       "version_major": 2,
       "version_minor": 0
      },
      "text/plain": [
       "  0%|          | 0/1000 [00:00<?, ?it/s]"
      ]
     },
     "metadata": {},
     "output_type": "display_data"
    },
    {
     "data": {
      "application/vnd.jupyter.widget-view+json": {
       "model_id": "7f28b0a1a62641a8b528388af3ca4a67",
       "version_major": 2,
       "version_minor": 0
      },
      "text/plain": [
       "  0%|          | 0/1000 [00:00<?, ?it/s]"
      ]
     },
     "metadata": {},
     "output_type": "display_data"
    },
    {
     "data": {
      "application/vnd.jupyter.widget-view+json": {
       "model_id": "bfe93968944045dca6e03a3d5ba52a70",
       "version_major": 2,
       "version_minor": 0
      },
      "text/plain": [
       "  0%|          | 0/1000 [00:00<?, ?it/s]"
      ]
     },
     "metadata": {},
     "output_type": "display_data"
    },
    {
     "data": {
      "application/vnd.jupyter.widget-view+json": {
       "model_id": "f43a9d14d4e445a2a69d3ff9129ad5d6",
       "version_major": 2,
       "version_minor": 0
      },
      "text/plain": [
       "  0%|          | 0/1000 [00:00<?, ?it/s]"
      ]
     },
     "metadata": {},
     "output_type": "display_data"
    },
    {
     "data": {
      "application/vnd.jupyter.widget-view+json": {
       "model_id": "a2a892efee5740d6a627fbaa77b22bb9",
       "version_major": 2,
       "version_minor": 0
      },
      "text/plain": [
       "  0%|          | 0/1000 [00:00<?, ?it/s]"
      ]
     },
     "metadata": {},
     "output_type": "display_data"
    },
    {
     "data": {
      "application/vnd.jupyter.widget-view+json": {
       "model_id": "21a261fb05b24334b710bcd7e1d51105",
       "version_major": 2,
       "version_minor": 0
      },
      "text/plain": [
       "  0%|          | 0/1000 [00:00<?, ?it/s]"
      ]
     },
     "metadata": {},
     "output_type": "display_data"
    },
    {
     "data": {
      "application/vnd.jupyter.widget-view+json": {
       "model_id": "6a622f9fe18741a39bff35363b1041e9",
       "version_major": 2,
       "version_minor": 0
      },
      "text/plain": [
       "  0%|          | 0/1000 [00:00<?, ?it/s]"
      ]
     },
     "metadata": {},
     "output_type": "display_data"
    },
    {
     "data": {
      "application/vnd.jupyter.widget-view+json": {
       "model_id": "b3b0aedff5c64f6496eb61a76ac10c0c",
       "version_major": 2,
       "version_minor": 0
      },
      "text/plain": [
       "  0%|          | 0/1000 [00:00<?, ?it/s]"
      ]
     },
     "metadata": {},
     "output_type": "display_data"
    },
    {
     "data": {
      "application/vnd.jupyter.widget-view+json": {
       "model_id": "c628d6deeae74731a2d2e5dee4a8f99f",
       "version_major": 2,
       "version_minor": 0
      },
      "text/plain": [
       "  0%|          | 0/1000 [00:00<?, ?it/s]"
      ]
     },
     "metadata": {},
     "output_type": "display_data"
    },
    {
     "data": {
      "application/vnd.jupyter.widget-view+json": {
       "model_id": "f0cc321dd74a45258949d7736770f95b",
       "version_major": 2,
       "version_minor": 0
      },
      "text/plain": [
       "  0%|          | 0/1000 [00:00<?, ?it/s]"
      ]
     },
     "metadata": {},
     "output_type": "display_data"
    },
    {
     "data": {
      "application/vnd.jupyter.widget-view+json": {
       "model_id": "d80b8c24b52543af8ffc79bd661fc313",
       "version_major": 2,
       "version_minor": 0
      },
      "text/plain": [
       "  0%|          | 0/1000 [00:00<?, ?it/s]"
      ]
     },
     "metadata": {},
     "output_type": "display_data"
    },
    {
     "data": {
      "application/vnd.jupyter.widget-view+json": {
       "model_id": "9a97cb1ec6914471a0bec642f2a24246",
       "version_major": 2,
       "version_minor": 0
      },
      "text/plain": [
       "  0%|          | 0/1000 [00:00<?, ?it/s]"
      ]
     },
     "metadata": {},
     "output_type": "display_data"
    },
    {
     "data": {
      "application/vnd.jupyter.widget-view+json": {
       "model_id": "3482f7bb942e4b1d84f55f4c78fdb45e",
       "version_major": 2,
       "version_minor": 0
      },
      "text/plain": [
       "  0%|          | 0/1000 [00:00<?, ?it/s]"
      ]
     },
     "metadata": {},
     "output_type": "display_data"
    },
    {
     "data": {
      "application/vnd.jupyter.widget-view+json": {
       "model_id": "ae3fcb88783f474288d772bef4d067d4",
       "version_major": 2,
       "version_minor": 0
      },
      "text/plain": [
       "  0%|          | 0/1000 [00:00<?, ?it/s]"
      ]
     },
     "metadata": {},
     "output_type": "display_data"
    },
    {
     "data": {
      "application/vnd.jupyter.widget-view+json": {
       "model_id": "0e2018fac50f4e26ac1420f2cd50d3b9",
       "version_major": 2,
       "version_minor": 0
      },
      "text/plain": [
       "  0%|          | 0/1000 [00:00<?, ?it/s]"
      ]
     },
     "metadata": {},
     "output_type": "display_data"
    },
    {
     "data": {
      "application/vnd.jupyter.widget-view+json": {
       "model_id": "7b2fa8da6f794f9ab75c8f78475ef452",
       "version_major": 2,
       "version_minor": 0
      },
      "text/plain": [
       "  0%|          | 0/1000 [00:00<?, ?it/s]"
      ]
     },
     "metadata": {},
     "output_type": "display_data"
    },
    {
     "data": {
      "application/vnd.jupyter.widget-view+json": {
       "model_id": "547b1681a89e4c0d97834c3738b4dbc7",
       "version_major": 2,
       "version_minor": 0
      },
      "text/plain": [
       "  0%|          | 0/1000 [00:00<?, ?it/s]"
      ]
     },
     "metadata": {},
     "output_type": "display_data"
    },
    {
     "data": {
      "application/vnd.jupyter.widget-view+json": {
       "model_id": "f92672fa42fa48d8872c04d21479671c",
       "version_major": 2,
       "version_minor": 0
      },
      "text/plain": [
       "  0%|          | 0/1000 [00:00<?, ?it/s]"
      ]
     },
     "metadata": {},
     "output_type": "display_data"
    },
    {
     "data": {
      "application/vnd.jupyter.widget-view+json": {
       "model_id": "5f0025251b284652a22c76cd0f84657b",
       "version_major": 2,
       "version_minor": 0
      },
      "text/plain": [
       "  0%|          | 0/1000 [00:00<?, ?it/s]"
      ]
     },
     "metadata": {},
     "output_type": "display_data"
    },
    {
     "data": {
      "application/vnd.jupyter.widget-view+json": {
       "model_id": "02052adcbe4b4714b7a2e8420c90ccae",
       "version_major": 2,
       "version_minor": 0
      },
      "text/plain": [
       "  0%|          | 0/1000 [00:00<?, ?it/s]"
      ]
     },
     "metadata": {},
     "output_type": "display_data"
    },
    {
     "data": {
      "application/vnd.jupyter.widget-view+json": {
       "model_id": "a76a559306be4369bcedf3e125535bcd",
       "version_major": 2,
       "version_minor": 0
      },
      "text/plain": [
       "  0%|          | 0/1000 [00:00<?, ?it/s]"
      ]
     },
     "metadata": {},
     "output_type": "display_data"
    },
    {
     "data": {
      "application/vnd.jupyter.widget-view+json": {
       "model_id": "4a8c85049b054f18967a7dbd40ce9964",
       "version_major": 2,
       "version_minor": 0
      },
      "text/plain": [
       "  0%|          | 0/1000 [00:00<?, ?it/s]"
      ]
     },
     "metadata": {},
     "output_type": "display_data"
    },
    {
     "data": {
      "application/vnd.jupyter.widget-view+json": {
       "model_id": "a699f486dab744af8b6216dcb2600baa",
       "version_major": 2,
       "version_minor": 0
      },
      "text/plain": [
       "  0%|          | 0/1000 [00:00<?, ?it/s]"
      ]
     },
     "metadata": {},
     "output_type": "display_data"
    },
    {
     "data": {
      "application/vnd.jupyter.widget-view+json": {
       "model_id": "d1d5072029664618b5765173a882dbd3",
       "version_major": 2,
       "version_minor": 0
      },
      "text/plain": [
       "  0%|          | 0/1000 [00:00<?, ?it/s]"
      ]
     },
     "metadata": {},
     "output_type": "display_data"
    },
    {
     "data": {
      "application/vnd.jupyter.widget-view+json": {
       "model_id": "acf94af5381d4d7ab9dbc8a9aa5f090a",
       "version_major": 2,
       "version_minor": 0
      },
      "text/plain": [
       "  0%|          | 0/1000 [00:00<?, ?it/s]"
      ]
     },
     "metadata": {},
     "output_type": "display_data"
    },
    {
     "data": {
      "application/vnd.jupyter.widget-view+json": {
       "model_id": "19597c0acec84efcb5175d2a59f1e967",
       "version_major": 2,
       "version_minor": 0
      },
      "text/plain": [
       "  0%|          | 0/1000 [00:00<?, ?it/s]"
      ]
     },
     "metadata": {},
     "output_type": "display_data"
    },
    {
     "data": {
      "application/vnd.jupyter.widget-view+json": {
       "model_id": "c1064f0880d84b0ca84ea113724f2181",
       "version_major": 2,
       "version_minor": 0
      },
      "text/plain": [
       "  0%|          | 0/1000 [00:00<?, ?it/s]"
      ]
     },
     "metadata": {},
     "output_type": "display_data"
    },
    {
     "data": {
      "application/vnd.jupyter.widget-view+json": {
       "model_id": "2611685f284040bd9673821abe158e33",
       "version_major": 2,
       "version_minor": 0
      },
      "text/plain": [
       "  0%|          | 0/1000 [00:00<?, ?it/s]"
      ]
     },
     "metadata": {},
     "output_type": "display_data"
    },
    {
     "data": {
      "application/vnd.jupyter.widget-view+json": {
       "model_id": "127dfb72f4f74425a6e5e4865ec892bb",
       "version_major": 2,
       "version_minor": 0
      },
      "text/plain": [
       "  0%|          | 0/1000 [00:00<?, ?it/s]"
      ]
     },
     "metadata": {},
     "output_type": "display_data"
    },
    {
     "data": {
      "application/vnd.jupyter.widget-view+json": {
       "model_id": "0b59d13085a24d88ae367e9d7f3e8ed5",
       "version_major": 2,
       "version_minor": 0
      },
      "text/plain": [
       "  0%|          | 0/1000 [00:00<?, ?it/s]"
      ]
     },
     "metadata": {},
     "output_type": "display_data"
    },
    {
     "data": {
      "application/vnd.jupyter.widget-view+json": {
       "model_id": "62d3dffc29a94dc7a4745dfaf9e81159",
       "version_major": 2,
       "version_minor": 0
      },
      "text/plain": [
       "  0%|          | 0/1000 [00:00<?, ?it/s]"
      ]
     },
     "metadata": {},
     "output_type": "display_data"
    },
    {
     "data": {
      "application/vnd.jupyter.widget-view+json": {
       "model_id": "552c220bf69e4940b919e5fef4255481",
       "version_major": 2,
       "version_minor": 0
      },
      "text/plain": [
       "  0%|          | 0/1000 [00:00<?, ?it/s]"
      ]
     },
     "metadata": {},
     "output_type": "display_data"
    },
    {
     "data": {
      "application/vnd.jupyter.widget-view+json": {
       "model_id": "0aa23d7ef96e4eb480c418c8fa827cf4",
       "version_major": 2,
       "version_minor": 0
      },
      "text/plain": [
       "  0%|          | 0/1000 [00:00<?, ?it/s]"
      ]
     },
     "metadata": {},
     "output_type": "display_data"
    },
    {
     "data": {
      "application/vnd.jupyter.widget-view+json": {
       "model_id": "706c9364b94a4fa9a69c4111020e3d69",
       "version_major": 2,
       "version_minor": 0
      },
      "text/plain": [
       "  0%|          | 0/1000 [00:00<?, ?it/s]"
      ]
     },
     "metadata": {},
     "output_type": "display_data"
    },
    {
     "data": {
      "application/vnd.jupyter.widget-view+json": {
       "model_id": "164a503432e242a0a45f3da0b24b90b3",
       "version_major": 2,
       "version_minor": 0
      },
      "text/plain": [
       "  0%|          | 0/1000 [00:00<?, ?it/s]"
      ]
     },
     "metadata": {},
     "output_type": "display_data"
    },
    {
     "data": {
      "application/vnd.jupyter.widget-view+json": {
       "model_id": "b74022b1f9f34bd6aaa1598345479983",
       "version_major": 2,
       "version_minor": 0
      },
      "text/plain": [
       "  0%|          | 0/1000 [00:00<?, ?it/s]"
      ]
     },
     "metadata": {},
     "output_type": "display_data"
    },
    {
     "data": {
      "application/vnd.jupyter.widget-view+json": {
       "model_id": "ff94d6b2b51049db9126ea9c6553d575",
       "version_major": 2,
       "version_minor": 0
      },
      "text/plain": [
       "  0%|          | 0/1000 [00:00<?, ?it/s]"
      ]
     },
     "metadata": {},
     "output_type": "display_data"
    },
    {
     "data": {
      "application/vnd.jupyter.widget-view+json": {
       "model_id": "759d960c96eb4077a495d2dc7503f47f",
       "version_major": 2,
       "version_minor": 0
      },
      "text/plain": [
       "  0%|          | 0/1000 [00:00<?, ?it/s]"
      ]
     },
     "metadata": {},
     "output_type": "display_data"
    },
    {
     "data": {
      "application/vnd.jupyter.widget-view+json": {
       "model_id": "2fee422040cc47d387b300dedd9dfc6b",
       "version_major": 2,
       "version_minor": 0
      },
      "text/plain": [
       "  0%|          | 0/1000 [00:00<?, ?it/s]"
      ]
     },
     "metadata": {},
     "output_type": "display_data"
    },
    {
     "data": {
      "application/vnd.jupyter.widget-view+json": {
       "model_id": "4ef7379153f046dd8323916a57c8dd1c",
       "version_major": 2,
       "version_minor": 0
      },
      "text/plain": [
       "  0%|          | 0/1000 [00:00<?, ?it/s]"
      ]
     },
     "metadata": {},
     "output_type": "display_data"
    },
    {
     "data": {
      "application/vnd.jupyter.widget-view+json": {
       "model_id": "85a44e62c55d425b9e507b4cbd41afb8",
       "version_major": 2,
       "version_minor": 0
      },
      "text/plain": [
       "  0%|          | 0/1000 [00:00<?, ?it/s]"
      ]
     },
     "metadata": {},
     "output_type": "display_data"
    },
    {
     "data": {
      "application/vnd.jupyter.widget-view+json": {
       "model_id": "4369d846459045559377c2c355194821",
       "version_major": 2,
       "version_minor": 0
      },
      "text/plain": [
       "  0%|          | 0/1000 [00:00<?, ?it/s]"
      ]
     },
     "metadata": {},
     "output_type": "display_data"
    },
    {
     "data": {
      "application/vnd.jupyter.widget-view+json": {
       "model_id": "7707fabd7db141ee88467fa4e3e22806",
       "version_major": 2,
       "version_minor": 0
      },
      "text/plain": [
       "  0%|          | 0/1000 [00:00<?, ?it/s]"
      ]
     },
     "metadata": {},
     "output_type": "display_data"
    },
    {
     "data": {
      "application/vnd.jupyter.widget-view+json": {
       "model_id": "da48b3007fdd45a89e200945dcaac7d6",
       "version_major": 2,
       "version_minor": 0
      },
      "text/plain": [
       "  0%|          | 0/1000 [00:00<?, ?it/s]"
      ]
     },
     "metadata": {},
     "output_type": "display_data"
    },
    {
     "data": {
      "application/vnd.jupyter.widget-view+json": {
       "model_id": "e4391806bc6d4d62876cd8ab52af3a63",
       "version_major": 2,
       "version_minor": 0
      },
      "text/plain": [
       "  0%|          | 0/1000 [00:00<?, ?it/s]"
      ]
     },
     "metadata": {},
     "output_type": "display_data"
    },
    {
     "data": {
      "application/vnd.jupyter.widget-view+json": {
       "model_id": "2aa420e4b16a4056a37a2259ed1f255a",
       "version_major": 2,
       "version_minor": 0
      },
      "text/plain": [
       "  0%|          | 0/1000 [00:00<?, ?it/s]"
      ]
     },
     "metadata": {},
     "output_type": "display_data"
    },
    {
     "data": {
      "application/vnd.jupyter.widget-view+json": {
       "model_id": "a32600b709a84e579fe7e0d2289fa6ff",
       "version_major": 2,
       "version_minor": 0
      },
      "text/plain": [
       "  0%|          | 0/1000 [00:00<?, ?it/s]"
      ]
     },
     "metadata": {},
     "output_type": "display_data"
    },
    {
     "data": {
      "application/vnd.jupyter.widget-view+json": {
       "model_id": "04ea285eb4254356ba7f259624bccf08",
       "version_major": 2,
       "version_minor": 0
      },
      "text/plain": [
       "  0%|          | 0/1000 [00:00<?, ?it/s]"
      ]
     },
     "metadata": {},
     "output_type": "display_data"
    },
    {
     "data": {
      "application/vnd.jupyter.widget-view+json": {
       "model_id": "2e85ccc9a7f548f58dfbb0ebbea5eaf2",
       "version_major": 2,
       "version_minor": 0
      },
      "text/plain": [
       "  0%|          | 0/1000 [00:00<?, ?it/s]"
      ]
     },
     "metadata": {},
     "output_type": "display_data"
    },
    {
     "data": {
      "application/vnd.jupyter.widget-view+json": {
       "model_id": "a5d3c69381e74d9482b026554f6d51c3",
       "version_major": 2,
       "version_minor": 0
      },
      "text/plain": [
       "  0%|          | 0/1000 [00:00<?, ?it/s]"
      ]
     },
     "metadata": {},
     "output_type": "display_data"
    },
    {
     "data": {
      "application/vnd.jupyter.widget-view+json": {
       "model_id": "03ebfdb1233c4af3898f583dfced69b6",
       "version_major": 2,
       "version_minor": 0
      },
      "text/plain": [
       "  0%|          | 0/1000 [00:00<?, ?it/s]"
      ]
     },
     "metadata": {},
     "output_type": "display_data"
    },
    {
     "data": {
      "application/vnd.jupyter.widget-view+json": {
       "model_id": "00a6e58d5ecd4f91aed8f4a9a6adbe0f",
       "version_major": 2,
       "version_minor": 0
      },
      "text/plain": [
       "  0%|          | 0/1000 [00:00<?, ?it/s]"
      ]
     },
     "metadata": {},
     "output_type": "display_data"
    },
    {
     "data": {
      "application/vnd.jupyter.widget-view+json": {
       "model_id": "2782870bbd8a4db682263f1c8a741bcd",
       "version_major": 2,
       "version_minor": 0
      },
      "text/plain": [
       "  0%|          | 0/1000 [00:00<?, ?it/s]"
      ]
     },
     "metadata": {},
     "output_type": "display_data"
    },
    {
     "data": {
      "application/vnd.jupyter.widget-view+json": {
       "model_id": "dc2b018a001b4169bf47e852475d93a6",
       "version_major": 2,
       "version_minor": 0
      },
      "text/plain": [
       "  0%|          | 0/1000 [00:00<?, ?it/s]"
      ]
     },
     "metadata": {},
     "output_type": "display_data"
    },
    {
     "data": {
      "application/vnd.jupyter.widget-view+json": {
       "model_id": "db4732ba71914c4b8e67ae2501ee9c52",
       "version_major": 2,
       "version_minor": 0
      },
      "text/plain": [
       "  0%|          | 0/1000 [00:00<?, ?it/s]"
      ]
     },
     "metadata": {},
     "output_type": "display_data"
    },
    {
     "data": {
      "application/vnd.jupyter.widget-view+json": {
       "model_id": "da99725c3ffa4409aa512cd2d623f91e",
       "version_major": 2,
       "version_minor": 0
      },
      "text/plain": [
       "  0%|          | 0/1000 [00:00<?, ?it/s]"
      ]
     },
     "metadata": {},
     "output_type": "display_data"
    },
    {
     "data": {
      "application/vnd.jupyter.widget-view+json": {
       "model_id": "2fd203bf28e54b1184baf89a7adac492",
       "version_major": 2,
       "version_minor": 0
      },
      "text/plain": [
       "  0%|          | 0/1000 [00:00<?, ?it/s]"
      ]
     },
     "metadata": {},
     "output_type": "display_data"
    },
    {
     "data": {
      "application/vnd.jupyter.widget-view+json": {
       "model_id": "c13b8bd6f83b456c8fda346e9ed1d545",
       "version_major": 2,
       "version_minor": 0
      },
      "text/plain": [
       "  0%|          | 0/1000 [00:00<?, ?it/s]"
      ]
     },
     "metadata": {},
     "output_type": "display_data"
    },
    {
     "data": {
      "application/vnd.jupyter.widget-view+json": {
       "model_id": "db68a8eae00e426e868f8eb57d5efdb1",
       "version_major": 2,
       "version_minor": 0
      },
      "text/plain": [
       "  0%|          | 0/1000 [00:00<?, ?it/s]"
      ]
     },
     "metadata": {},
     "output_type": "display_data"
    },
    {
     "data": {
      "application/vnd.jupyter.widget-view+json": {
       "model_id": "13fa39a4823d4cbba5ee7c7df216eeff",
       "version_major": 2,
       "version_minor": 0
      },
      "text/plain": [
       "  0%|          | 0/1000 [00:00<?, ?it/s]"
      ]
     },
     "metadata": {},
     "output_type": "display_data"
    },
    {
     "data": {
      "application/vnd.jupyter.widget-view+json": {
       "model_id": "eb56fd060bff4755a83313b4e8b104da",
       "version_major": 2,
       "version_minor": 0
      },
      "text/plain": [
       "  0%|          | 0/1000 [00:00<?, ?it/s]"
      ]
     },
     "metadata": {},
     "output_type": "display_data"
    },
    {
     "data": {
      "application/vnd.jupyter.widget-view+json": {
       "model_id": "2634d97d1b1c4c6999aed6a4893d5f51",
       "version_major": 2,
       "version_minor": 0
      },
      "text/plain": [
       "  0%|          | 0/1000 [00:00<?, ?it/s]"
      ]
     },
     "metadata": {},
     "output_type": "display_data"
    },
    {
     "data": {
      "application/vnd.jupyter.widget-view+json": {
       "model_id": "aafd300cbecb4a70985d03231eae884c",
       "version_major": 2,
       "version_minor": 0
      },
      "text/plain": [
       "  0%|          | 0/1000 [00:00<?, ?it/s]"
      ]
     },
     "metadata": {},
     "output_type": "display_data"
    },
    {
     "data": {
      "application/vnd.jupyter.widget-view+json": {
       "model_id": "857f3790c3d34b6abc92db8e0c5ed846",
       "version_major": 2,
       "version_minor": 0
      },
      "text/plain": [
       "  0%|          | 0/1000 [00:00<?, ?it/s]"
      ]
     },
     "metadata": {},
     "output_type": "display_data"
    },
    {
     "data": {
      "application/vnd.jupyter.widget-view+json": {
       "model_id": "d50da355f43e4046ba69b252f2f5dbf8",
       "version_major": 2,
       "version_minor": 0
      },
      "text/plain": [
       "  0%|          | 0/1000 [00:00<?, ?it/s]"
      ]
     },
     "metadata": {},
     "output_type": "display_data"
    },
    {
     "data": {
      "application/vnd.jupyter.widget-view+json": {
       "model_id": "44a683ed30fd45aa80e5cf48d6828aa2",
       "version_major": 2,
       "version_minor": 0
      },
      "text/plain": [
       "  0%|          | 0/1000 [00:00<?, ?it/s]"
      ]
     },
     "metadata": {},
     "output_type": "display_data"
    },
    {
     "data": {
      "application/vnd.jupyter.widget-view+json": {
       "model_id": "fcbdc2de4cbf4ab79bfac298c081762d",
       "version_major": 2,
       "version_minor": 0
      },
      "text/plain": [
       "  0%|          | 0/1000 [00:00<?, ?it/s]"
      ]
     },
     "metadata": {},
     "output_type": "display_data"
    },
    {
     "data": {
      "application/vnd.jupyter.widget-view+json": {
       "model_id": "280446cf7ad1422bb65cf7db8fb0873c",
       "version_major": 2,
       "version_minor": 0
      },
      "text/plain": [
       "  0%|          | 0/1000 [00:00<?, ?it/s]"
      ]
     },
     "metadata": {},
     "output_type": "display_data"
    },
    {
     "data": {
      "application/vnd.jupyter.widget-view+json": {
       "model_id": "2f5210cf0e55482c836c3ac43c9caf40",
       "version_major": 2,
       "version_minor": 0
      },
      "text/plain": [
       "  0%|          | 0/1000 [00:00<?, ?it/s]"
      ]
     },
     "metadata": {},
     "output_type": "display_data"
    },
    {
     "data": {
      "application/vnd.jupyter.widget-view+json": {
       "model_id": "9f15199fbab9476ab8b29148029f5180",
       "version_major": 2,
       "version_minor": 0
      },
      "text/plain": [
       "  0%|          | 0/1000 [00:00<?, ?it/s]"
      ]
     },
     "metadata": {},
     "output_type": "display_data"
    },
    {
     "data": {
      "application/vnd.jupyter.widget-view+json": {
       "model_id": "b50d87647a434c87b585a473f4b6817a",
       "version_major": 2,
       "version_minor": 0
      },
      "text/plain": [
       "  0%|          | 0/1000 [00:00<?, ?it/s]"
      ]
     },
     "metadata": {},
     "output_type": "display_data"
    },
    {
     "data": {
      "application/vnd.jupyter.widget-view+json": {
       "model_id": "cd742606a2e04bcaa86494ab0f348b14",
       "version_major": 2,
       "version_minor": 0
      },
      "text/plain": [
       "  0%|          | 0/1000 [00:00<?, ?it/s]"
      ]
     },
     "metadata": {},
     "output_type": "display_data"
    },
    {
     "data": {
      "application/vnd.jupyter.widget-view+json": {
       "model_id": "27346051905b48ac81f1a21c6138af0c",
       "version_major": 2,
       "version_minor": 0
      },
      "text/plain": [
       "  0%|          | 0/1000 [00:00<?, ?it/s]"
      ]
     },
     "metadata": {},
     "output_type": "display_data"
    },
    {
     "data": {
      "application/vnd.jupyter.widget-view+json": {
       "model_id": "a879909e14be475cabb998b789e7831c",
       "version_major": 2,
       "version_minor": 0
      },
      "text/plain": [
       "  0%|          | 0/1000 [00:00<?, ?it/s]"
      ]
     },
     "metadata": {},
     "output_type": "display_data"
    },
    {
     "data": {
      "application/vnd.jupyter.widget-view+json": {
       "model_id": "d61ef6c944614d049066621d03c0c31a",
       "version_major": 2,
       "version_minor": 0
      },
      "text/plain": [
       "  0%|          | 0/1000 [00:00<?, ?it/s]"
      ]
     },
     "metadata": {},
     "output_type": "display_data"
    },
    {
     "data": {
      "application/vnd.jupyter.widget-view+json": {
       "model_id": "07c455932e7649c6a85535959ff899eb",
       "version_major": 2,
       "version_minor": 0
      },
      "text/plain": [
       "  0%|          | 0/1000 [00:00<?, ?it/s]"
      ]
     },
     "metadata": {},
     "output_type": "display_data"
    },
    {
     "data": {
      "application/vnd.jupyter.widget-view+json": {
       "model_id": "56d6c29dfb8d439a857d72695bf54086",
       "version_major": 2,
       "version_minor": 0
      },
      "text/plain": [
       "  0%|          | 0/1000 [00:00<?, ?it/s]"
      ]
     },
     "metadata": {},
     "output_type": "display_data"
    },
    {
     "data": {
      "application/vnd.jupyter.widget-view+json": {
       "model_id": "961294507c0a469daeda3be9e649f41b",
       "version_major": 2,
       "version_minor": 0
      },
      "text/plain": [
       "  0%|          | 0/1000 [00:00<?, ?it/s]"
      ]
     },
     "metadata": {},
     "output_type": "display_data"
    },
    {
     "data": {
      "application/vnd.jupyter.widget-view+json": {
       "model_id": "f442a939e8c845b8a72e5646b3b71c72",
       "version_major": 2,
       "version_minor": 0
      },
      "text/plain": [
       "  0%|          | 0/1000 [00:00<?, ?it/s]"
      ]
     },
     "metadata": {},
     "output_type": "display_data"
    },
    {
     "data": {
      "application/vnd.jupyter.widget-view+json": {
       "model_id": "2ec35b5abdca480fa4d6c5a9792d1fad",
       "version_major": 2,
       "version_minor": 0
      },
      "text/plain": [
       "  0%|          | 0/1000 [00:00<?, ?it/s]"
      ]
     },
     "metadata": {},
     "output_type": "display_data"
    },
    {
     "data": {
      "application/vnd.jupyter.widget-view+json": {
       "model_id": "00fc76061bfe4663afe57202d672df8c",
       "version_major": 2,
       "version_minor": 0
      },
      "text/plain": [
       "  0%|          | 0/1000 [00:00<?, ?it/s]"
      ]
     },
     "metadata": {},
     "output_type": "display_data"
    },
    {
     "data": {
      "application/vnd.jupyter.widget-view+json": {
       "model_id": "9d09d67c95a44ac088e1e9fc537ada3a",
       "version_major": 2,
       "version_minor": 0
      },
      "text/plain": [
       "  0%|          | 0/1000 [00:00<?, ?it/s]"
      ]
     },
     "metadata": {},
     "output_type": "display_data"
    },
    {
     "data": {
      "application/vnd.jupyter.widget-view+json": {
       "model_id": "9601189de71243579c4598faec4b582d",
       "version_major": 2,
       "version_minor": 0
      },
      "text/plain": [
       "  0%|          | 0/1000 [00:00<?, ?it/s]"
      ]
     },
     "metadata": {},
     "output_type": "display_data"
    },
    {
     "data": {
      "application/vnd.jupyter.widget-view+json": {
       "model_id": "a3fd6ea3826d49ec9fb467598ea98f86",
       "version_major": 2,
       "version_minor": 0
      },
      "text/plain": [
       "  0%|          | 0/1000 [00:00<?, ?it/s]"
      ]
     },
     "metadata": {},
     "output_type": "display_data"
    },
    {
     "data": {
      "application/vnd.jupyter.widget-view+json": {
       "model_id": "ac748b64d1764bcf820ec614b1e18e2f",
       "version_major": 2,
       "version_minor": 0
      },
      "text/plain": [
       "  0%|          | 0/1000 [00:00<?, ?it/s]"
      ]
     },
     "metadata": {},
     "output_type": "display_data"
    },
    {
     "data": {
      "application/vnd.jupyter.widget-view+json": {
       "model_id": "dd1841ee732045f89a9cbffb3ffa3da7",
       "version_major": 2,
       "version_minor": 0
      },
      "text/plain": [
       "  0%|          | 0/1000 [00:00<?, ?it/s]"
      ]
     },
     "metadata": {},
     "output_type": "display_data"
    },
    {
     "data": {
      "application/vnd.jupyter.widget-view+json": {
       "model_id": "779628cfe8964844bdc0dedf355e7186",
       "version_major": 2,
       "version_minor": 0
      },
      "text/plain": [
       "  0%|          | 0/1000 [00:00<?, ?it/s]"
      ]
     },
     "metadata": {},
     "output_type": "display_data"
    },
    {
     "data": {
      "application/vnd.jupyter.widget-view+json": {
       "model_id": "c57b38fb6555476b88d8bdfe586967c6",
       "version_major": 2,
       "version_minor": 0
      },
      "text/plain": [
       "  0%|          | 0/1000 [00:00<?, ?it/s]"
      ]
     },
     "metadata": {},
     "output_type": "display_data"
    },
    {
     "data": {
      "application/vnd.jupyter.widget-view+json": {
       "model_id": "2b9d502e026b4270853f04ca57c98dcc",
       "version_major": 2,
       "version_minor": 0
      },
      "text/plain": [
       "  0%|          | 0/1000 [00:00<?, ?it/s]"
      ]
     },
     "metadata": {},
     "output_type": "display_data"
    },
    {
     "data": {
      "application/vnd.jupyter.widget-view+json": {
       "model_id": "7b4490e06f9d428bacb6f59cd73535e9",
       "version_major": 2,
       "version_minor": 0
      },
      "text/plain": [
       "  0%|          | 0/1000 [00:00<?, ?it/s]"
      ]
     },
     "metadata": {},
     "output_type": "display_data"
    },
    {
     "data": {
      "application/vnd.jupyter.widget-view+json": {
       "model_id": "6af94b5a2f0f497cb7ab50dee8a4e2ba",
       "version_major": 2,
       "version_minor": 0
      },
      "text/plain": [
       "  0%|          | 0/1000 [00:00<?, ?it/s]"
      ]
     },
     "metadata": {},
     "output_type": "display_data"
    },
    {
     "data": {
      "application/vnd.jupyter.widget-view+json": {
       "model_id": "490630b4698f48b7ac001d0ba2c49a66",
       "version_major": 2,
       "version_minor": 0
      },
      "text/plain": [
       "  0%|          | 0/1000 [00:00<?, ?it/s]"
      ]
     },
     "metadata": {},
     "output_type": "display_data"
    },
    {
     "data": {
      "application/vnd.jupyter.widget-view+json": {
       "model_id": "936edd814bcf4f59a26d5b152619fef4",
       "version_major": 2,
       "version_minor": 0
      },
      "text/plain": [
       "  0%|          | 0/1000 [00:00<?, ?it/s]"
      ]
     },
     "metadata": {},
     "output_type": "display_data"
    },
    {
     "data": {
      "application/vnd.jupyter.widget-view+json": {
       "model_id": "9658d2300b604ac88e8a2b4ce38b34a1",
       "version_major": 2,
       "version_minor": 0
      },
      "text/plain": [
       "  0%|          | 0/1000 [00:00<?, ?it/s]"
      ]
     },
     "metadata": {},
     "output_type": "display_data"
    },
    {
     "data": {
      "application/vnd.jupyter.widget-view+json": {
       "model_id": "ea9d03ff47834f718bacbf1ec8f75e4c",
       "version_major": 2,
       "version_minor": 0
      },
      "text/plain": [
       "  0%|          | 0/1000 [00:00<?, ?it/s]"
      ]
     },
     "metadata": {},
     "output_type": "display_data"
    },
    {
     "data": {
      "application/vnd.jupyter.widget-view+json": {
       "model_id": "8624338f01864abba5561b47e22c7e55",
       "version_major": 2,
       "version_minor": 0
      },
      "text/plain": [
       "  0%|          | 0/1000 [00:00<?, ?it/s]"
      ]
     },
     "metadata": {},
     "output_type": "display_data"
    },
    {
     "data": {
      "application/vnd.jupyter.widget-view+json": {
       "model_id": "a0cdfa564e03472597637237f3df4703",
       "version_major": 2,
       "version_minor": 0
      },
      "text/plain": [
       "  0%|          | 0/1000 [00:00<?, ?it/s]"
      ]
     },
     "metadata": {},
     "output_type": "display_data"
    },
    {
     "data": {
      "application/vnd.jupyter.widget-view+json": {
       "model_id": "1f512911400e4a628392aa57e3f78c58",
       "version_major": 2,
       "version_minor": 0
      },
      "text/plain": [
       "  0%|          | 0/1000 [00:00<?, ?it/s]"
      ]
     },
     "metadata": {},
     "output_type": "display_data"
    },
    {
     "data": {
      "application/vnd.jupyter.widget-view+json": {
       "model_id": "7daa12d4e3dd491ab76ea186909024bf",
       "version_major": 2,
       "version_minor": 0
      },
      "text/plain": [
       "  0%|          | 0/1000 [00:00<?, ?it/s]"
      ]
     },
     "metadata": {},
     "output_type": "display_data"
    },
    {
     "data": {
      "application/vnd.jupyter.widget-view+json": {
       "model_id": "169bc56a3e27427c9e6944a732e9c6fe",
       "version_major": 2,
       "version_minor": 0
      },
      "text/plain": [
       "  0%|          | 0/1000 [00:00<?, ?it/s]"
      ]
     },
     "metadata": {},
     "output_type": "display_data"
    },
    {
     "data": {
      "application/vnd.jupyter.widget-view+json": {
       "model_id": "ed6f28d5cd284ed8bbc79dc19891873a",
       "version_major": 2,
       "version_minor": 0
      },
      "text/plain": [
       "  0%|          | 0/1000 [00:00<?, ?it/s]"
      ]
     },
     "metadata": {},
     "output_type": "display_data"
    },
    {
     "data": {
      "application/vnd.jupyter.widget-view+json": {
       "model_id": "d53249d66dc64fe3b053ced400b6fa34",
       "version_major": 2,
       "version_minor": 0
      },
      "text/plain": [
       "  0%|          | 0/1000 [00:00<?, ?it/s]"
      ]
     },
     "metadata": {},
     "output_type": "display_data"
    },
    {
     "data": {
      "application/vnd.jupyter.widget-view+json": {
       "model_id": "6aeb9af71f3f447d84600998bbab7fe8",
       "version_major": 2,
       "version_minor": 0
      },
      "text/plain": [
       "  0%|          | 0/1000 [00:00<?, ?it/s]"
      ]
     },
     "metadata": {},
     "output_type": "display_data"
    },
    {
     "data": {
      "application/vnd.jupyter.widget-view+json": {
       "model_id": "f2c8edb8577d47238dbbbf32db29d40e",
       "version_major": 2,
       "version_minor": 0
      },
      "text/plain": [
       "  0%|          | 0/1000 [00:00<?, ?it/s]"
      ]
     },
     "metadata": {},
     "output_type": "display_data"
    },
    {
     "data": {
      "application/vnd.jupyter.widget-view+json": {
       "model_id": "89802d79718147eb8d5987e27600c2fd",
       "version_major": 2,
       "version_minor": 0
      },
      "text/plain": [
       "  0%|          | 0/1000 [00:00<?, ?it/s]"
      ]
     },
     "metadata": {},
     "output_type": "display_data"
    },
    {
     "data": {
      "application/vnd.jupyter.widget-view+json": {
       "model_id": "ee9fdb7c56fa408bbb6ac00694567b31",
       "version_major": 2,
       "version_minor": 0
      },
      "text/plain": [
       "  0%|          | 0/1000 [00:00<?, ?it/s]"
      ]
     },
     "metadata": {},
     "output_type": "display_data"
    },
    {
     "data": {
      "application/vnd.jupyter.widget-view+json": {
       "model_id": "5de9629f075d41099e048ffb67f08f0f",
       "version_major": 2,
       "version_minor": 0
      },
      "text/plain": [
       "  0%|          | 0/1000 [00:00<?, ?it/s]"
      ]
     },
     "metadata": {},
     "output_type": "display_data"
    },
    {
     "data": {
      "application/vnd.jupyter.widget-view+json": {
       "model_id": "113273beb5284fec988e693aede6c650",
       "version_major": 2,
       "version_minor": 0
      },
      "text/plain": [
       "  0%|          | 0/1000 [00:00<?, ?it/s]"
      ]
     },
     "metadata": {},
     "output_type": "display_data"
    },
    {
     "data": {
      "application/vnd.jupyter.widget-view+json": {
       "model_id": "6279fac7aea74f1cb181f822b2f7c8b9",
       "version_major": 2,
       "version_minor": 0
      },
      "text/plain": [
       "  0%|          | 0/1000 [00:00<?, ?it/s]"
      ]
     },
     "metadata": {},
     "output_type": "display_data"
    },
    {
     "data": {
      "application/vnd.jupyter.widget-view+json": {
       "model_id": "3a64d834dd3d45ae98bc045931560556",
       "version_major": 2,
       "version_minor": 0
      },
      "text/plain": [
       "  0%|          | 0/1000 [00:00<?, ?it/s]"
      ]
     },
     "metadata": {},
     "output_type": "display_data"
    },
    {
     "data": {
      "application/vnd.jupyter.widget-view+json": {
       "model_id": "90a0f692630f42d8be211d885fa5205a",
       "version_major": 2,
       "version_minor": 0
      },
      "text/plain": [
       "  0%|          | 0/1000 [00:00<?, ?it/s]"
      ]
     },
     "metadata": {},
     "output_type": "display_data"
    },
    {
     "data": {
      "application/vnd.jupyter.widget-view+json": {
       "model_id": "1ab905b376ed4c21873ac32deb158b37",
       "version_major": 2,
       "version_minor": 0
      },
      "text/plain": [
       "  0%|          | 0/1000 [00:00<?, ?it/s]"
      ]
     },
     "metadata": {},
     "output_type": "display_data"
    },
    {
     "data": {
      "application/vnd.jupyter.widget-view+json": {
       "model_id": "5d862a2d10784f88b6f90fbb535666e4",
       "version_major": 2,
       "version_minor": 0
      },
      "text/plain": [
       "  0%|          | 0/1000 [00:00<?, ?it/s]"
      ]
     },
     "metadata": {},
     "output_type": "display_data"
    },
    {
     "data": {
      "application/vnd.jupyter.widget-view+json": {
       "model_id": "ba306ca061964058b16d23e11392d98f",
       "version_major": 2,
       "version_minor": 0
      },
      "text/plain": [
       "  0%|          | 0/1000 [00:00<?, ?it/s]"
      ]
     },
     "metadata": {},
     "output_type": "display_data"
    },
    {
     "data": {
      "application/vnd.jupyter.widget-view+json": {
       "model_id": "562b6641a08940bc9c5c3b760bfb39c3",
       "version_major": 2,
       "version_minor": 0
      },
      "text/plain": [
       "  0%|          | 0/1000 [00:00<?, ?it/s]"
      ]
     },
     "metadata": {},
     "output_type": "display_data"
    },
    {
     "data": {
      "application/vnd.jupyter.widget-view+json": {
       "model_id": "16c15d11cd2c415d8182f6ba980fd41a",
       "version_major": 2,
       "version_minor": 0
      },
      "text/plain": [
       "  0%|          | 0/1000 [00:00<?, ?it/s]"
      ]
     },
     "metadata": {},
     "output_type": "display_data"
    },
    {
     "data": {
      "application/vnd.jupyter.widget-view+json": {
       "model_id": "b828455c92e14d3e8e059b4fa295cabe",
       "version_major": 2,
       "version_minor": 0
      },
      "text/plain": [
       "  0%|          | 0/1000 [00:00<?, ?it/s]"
      ]
     },
     "metadata": {},
     "output_type": "display_data"
    },
    {
     "data": {
      "application/vnd.jupyter.widget-view+json": {
       "model_id": "2925fa2ebc7e4fae857514593ef66ef3",
       "version_major": 2,
       "version_minor": 0
      },
      "text/plain": [
       "  0%|          | 0/1000 [00:00<?, ?it/s]"
      ]
     },
     "metadata": {},
     "output_type": "display_data"
    },
    {
     "data": {
      "application/vnd.jupyter.widget-view+json": {
       "model_id": "d64320825fc04cceaafb79a6edd350e5",
       "version_major": 2,
       "version_minor": 0
      },
      "text/plain": [
       "  0%|          | 0/1000 [00:00<?, ?it/s]"
      ]
     },
     "metadata": {},
     "output_type": "display_data"
    },
    {
     "data": {
      "application/vnd.jupyter.widget-view+json": {
       "model_id": "965cb85c1f7049d4a90915ffae69b9f5",
       "version_major": 2,
       "version_minor": 0
      },
      "text/plain": [
       "  0%|          | 0/1000 [00:00<?, ?it/s]"
      ]
     },
     "metadata": {},
     "output_type": "display_data"
    },
    {
     "data": {
      "application/vnd.jupyter.widget-view+json": {
       "model_id": "b2de9a676fd14bc88637dc09a7f23b8c",
       "version_major": 2,
       "version_minor": 0
      },
      "text/plain": [
       "  0%|          | 0/1000 [00:00<?, ?it/s]"
      ]
     },
     "metadata": {},
     "output_type": "display_data"
    },
    {
     "data": {
      "application/vnd.jupyter.widget-view+json": {
       "model_id": "52274dd03c0142beac6f8cc3e53ac73f",
       "version_major": 2,
       "version_minor": 0
      },
      "text/plain": [
       "  0%|          | 0/1000 [00:00<?, ?it/s]"
      ]
     },
     "metadata": {},
     "output_type": "display_data"
    },
    {
     "data": {
      "application/vnd.jupyter.widget-view+json": {
       "model_id": "8706ef0c1f4e406dbea95890863023c5",
       "version_major": 2,
       "version_minor": 0
      },
      "text/plain": [
       "  0%|          | 0/1000 [00:00<?, ?it/s]"
      ]
     },
     "metadata": {},
     "output_type": "display_data"
    },
    {
     "data": {
      "application/vnd.jupyter.widget-view+json": {
       "model_id": "27d28f513fc247dd9ddc750b4fedeaf5",
       "version_major": 2,
       "version_minor": 0
      },
      "text/plain": [
       "  0%|          | 0/1000 [00:00<?, ?it/s]"
      ]
     },
     "metadata": {},
     "output_type": "display_data"
    },
    {
     "data": {
      "application/vnd.jupyter.widget-view+json": {
       "model_id": "b15cf8a38f254c8e8af9ce40534ab1da",
       "version_major": 2,
       "version_minor": 0
      },
      "text/plain": [
       "  0%|          | 0/1000 [00:00<?, ?it/s]"
      ]
     },
     "metadata": {},
     "output_type": "display_data"
    },
    {
     "data": {
      "application/vnd.jupyter.widget-view+json": {
       "model_id": "83a5c79df12448d4b89493b935e0282a",
       "version_major": 2,
       "version_minor": 0
      },
      "text/plain": [
       "  0%|          | 0/1000 [00:00<?, ?it/s]"
      ]
     },
     "metadata": {},
     "output_type": "display_data"
    },
    {
     "data": {
      "application/vnd.jupyter.widget-view+json": {
       "model_id": "7157f28274674f4791e48cce21e41082",
       "version_major": 2,
       "version_minor": 0
      },
      "text/plain": [
       "  0%|          | 0/1000 [00:00<?, ?it/s]"
      ]
     },
     "metadata": {},
     "output_type": "display_data"
    },
    {
     "data": {
      "application/vnd.jupyter.widget-view+json": {
       "model_id": "043b541803884e82ad0fc3a67b201519",
       "version_major": 2,
       "version_minor": 0
      },
      "text/plain": [
       "  0%|          | 0/1000 [00:00<?, ?it/s]"
      ]
     },
     "metadata": {},
     "output_type": "display_data"
    },
    {
     "data": {
      "application/vnd.jupyter.widget-view+json": {
       "model_id": "edf8fb5daeb243ec82a0ba447e59f1de",
       "version_major": 2,
       "version_minor": 0
      },
      "text/plain": [
       "  0%|          | 0/1000 [00:00<?, ?it/s]"
      ]
     },
     "metadata": {},
     "output_type": "display_data"
    },
    {
     "data": {
      "application/vnd.jupyter.widget-view+json": {
       "model_id": "e3648da476b049e19ede642b4f68c2c6",
       "version_major": 2,
       "version_minor": 0
      },
      "text/plain": [
       "  0%|          | 0/1000 [00:00<?, ?it/s]"
      ]
     },
     "metadata": {},
     "output_type": "display_data"
    },
    {
     "data": {
      "application/vnd.jupyter.widget-view+json": {
       "model_id": "d4e7ae723b4d48178d536be6eccfcbce",
       "version_major": 2,
       "version_minor": 0
      },
      "text/plain": [
       "  0%|          | 0/1000 [00:00<?, ?it/s]"
      ]
     },
     "metadata": {},
     "output_type": "display_data"
    },
    {
     "data": {
      "application/vnd.jupyter.widget-view+json": {
       "model_id": "bf64c516bc33479bb187499f0ebce561",
       "version_major": 2,
       "version_minor": 0
      },
      "text/plain": [
       "  0%|          | 0/1000 [00:00<?, ?it/s]"
      ]
     },
     "metadata": {},
     "output_type": "display_data"
    },
    {
     "data": {
      "application/vnd.jupyter.widget-view+json": {
       "model_id": "5abb722808824623bf36f14ce22314ab",
       "version_major": 2,
       "version_minor": 0
      },
      "text/plain": [
       "  0%|          | 0/1000 [00:00<?, ?it/s]"
      ]
     },
     "metadata": {},
     "output_type": "display_data"
    },
    {
     "data": {
      "application/vnd.jupyter.widget-view+json": {
       "model_id": "106c8ad0349347bc96c61db014618fb8",
       "version_major": 2,
       "version_minor": 0
      },
      "text/plain": [
       "  0%|          | 0/1000 [00:00<?, ?it/s]"
      ]
     },
     "metadata": {},
     "output_type": "display_data"
    },
    {
     "data": {
      "application/vnd.jupyter.widget-view+json": {
       "model_id": "9664aa703015432c8647fed4bd9d1c52",
       "version_major": 2,
       "version_minor": 0
      },
      "text/plain": [
       "  0%|          | 0/1000 [00:00<?, ?it/s]"
      ]
     },
     "metadata": {},
     "output_type": "display_data"
    },
    {
     "data": {
      "application/vnd.jupyter.widget-view+json": {
       "model_id": "7e6b9eb8b4134a71b0e23b7335b76fc4",
       "version_major": 2,
       "version_minor": 0
      },
      "text/plain": [
       "  0%|          | 0/1000 [00:00<?, ?it/s]"
      ]
     },
     "metadata": {},
     "output_type": "display_data"
    },
    {
     "data": {
      "application/vnd.jupyter.widget-view+json": {
       "model_id": "c3dd65913be6441b8d1e9035bbc87425",
       "version_major": 2,
       "version_minor": 0
      },
      "text/plain": [
       "  0%|          | 0/1000 [00:00<?, ?it/s]"
      ]
     },
     "metadata": {},
     "output_type": "display_data"
    },
    {
     "data": {
      "application/vnd.jupyter.widget-view+json": {
       "model_id": "1048f0ed4788443ab5515407a9d7c96e",
       "version_major": 2,
       "version_minor": 0
      },
      "text/plain": [
       "  0%|          | 0/1000 [00:00<?, ?it/s]"
      ]
     },
     "metadata": {},
     "output_type": "display_data"
    },
    {
     "data": {
      "application/vnd.jupyter.widget-view+json": {
       "model_id": "1d570ff7699c413b9d9cd6283e9b51dc",
       "version_major": 2,
       "version_minor": 0
      },
      "text/plain": [
       "  0%|          | 0/1000 [00:00<?, ?it/s]"
      ]
     },
     "metadata": {},
     "output_type": "display_data"
    },
    {
     "data": {
      "application/vnd.jupyter.widget-view+json": {
       "model_id": "f7a513f2cd2044beb819166dbbfa12e5",
       "version_major": 2,
       "version_minor": 0
      },
      "text/plain": [
       "  0%|          | 0/1000 [00:00<?, ?it/s]"
      ]
     },
     "metadata": {},
     "output_type": "display_data"
    },
    {
     "data": {
      "application/vnd.jupyter.widget-view+json": {
       "model_id": "7001c6000a0d4e4987f7b2368f4dd3cb",
       "version_major": 2,
       "version_minor": 0
      },
      "text/plain": [
       "  0%|          | 0/1000 [00:00<?, ?it/s]"
      ]
     },
     "metadata": {},
     "output_type": "display_data"
    },
    {
     "data": {
      "application/vnd.jupyter.widget-view+json": {
       "model_id": "189361ae22dc4ce7b516c8dca379e9c7",
       "version_major": 2,
       "version_minor": 0
      },
      "text/plain": [
       "  0%|          | 0/1000 [00:00<?, ?it/s]"
      ]
     },
     "metadata": {},
     "output_type": "display_data"
    },
    {
     "data": {
      "application/vnd.jupyter.widget-view+json": {
       "model_id": "a8fb03b9f99244899511c72b78ceb95f",
       "version_major": 2,
       "version_minor": 0
      },
      "text/plain": [
       "  0%|          | 0/1000 [00:00<?, ?it/s]"
      ]
     },
     "metadata": {},
     "output_type": "display_data"
    },
    {
     "data": {
      "application/vnd.jupyter.widget-view+json": {
       "model_id": "92bb156638bc45e1994143785bd57acc",
       "version_major": 2,
       "version_minor": 0
      },
      "text/plain": [
       "  0%|          | 0/1000 [00:00<?, ?it/s]"
      ]
     },
     "metadata": {},
     "output_type": "display_data"
    },
    {
     "data": {
      "application/vnd.jupyter.widget-view+json": {
       "model_id": "9f00c086412d44a6b9c26e04826c2dbc",
       "version_major": 2,
       "version_minor": 0
      },
      "text/plain": [
       "  0%|          | 0/1000 [00:00<?, ?it/s]"
      ]
     },
     "metadata": {},
     "output_type": "display_data"
    },
    {
     "data": {
      "application/vnd.jupyter.widget-view+json": {
       "model_id": "d9afe43596974a3fb76af4b98b225500",
       "version_major": 2,
       "version_minor": 0
      },
      "text/plain": [
       "  0%|          | 0/1000 [00:00<?, ?it/s]"
      ]
     },
     "metadata": {},
     "output_type": "display_data"
    },
    {
     "data": {
      "application/vnd.jupyter.widget-view+json": {
       "model_id": "45cc92a7e1724be5b8ff271ff8ea2b1d",
       "version_major": 2,
       "version_minor": 0
      },
      "text/plain": [
       "  0%|          | 0/1000 [00:00<?, ?it/s]"
      ]
     },
     "metadata": {},
     "output_type": "display_data"
    },
    {
     "data": {
      "application/vnd.jupyter.widget-view+json": {
       "model_id": "f1ee42317f1a4b66b9870429a6f9e775",
       "version_major": 2,
       "version_minor": 0
      },
      "text/plain": [
       "  0%|          | 0/1000 [00:00<?, ?it/s]"
      ]
     },
     "metadata": {},
     "output_type": "display_data"
    },
    {
     "data": {
      "application/vnd.jupyter.widget-view+json": {
       "model_id": "625c88dfdd3c4ebb9561fb19ee6bc277",
       "version_major": 2,
       "version_minor": 0
      },
      "text/plain": [
       "  0%|          | 0/1000 [00:00<?, ?it/s]"
      ]
     },
     "metadata": {},
     "output_type": "display_data"
    },
    {
     "data": {
      "application/vnd.jupyter.widget-view+json": {
       "model_id": "fb0d3a2cb1c643eaa7528c7f3b634ac4",
       "version_major": 2,
       "version_minor": 0
      },
      "text/plain": [
       "  0%|          | 0/1000 [00:00<?, ?it/s]"
      ]
     },
     "metadata": {},
     "output_type": "display_data"
    },
    {
     "data": {
      "application/vnd.jupyter.widget-view+json": {
       "model_id": "e85064ee8bf84deea2e38ecc7ae2276c",
       "version_major": 2,
       "version_minor": 0
      },
      "text/plain": [
       "  0%|          | 0/1000 [00:00<?, ?it/s]"
      ]
     },
     "metadata": {},
     "output_type": "display_data"
    },
    {
     "data": {
      "application/vnd.jupyter.widget-view+json": {
       "model_id": "bf101cd140f244428ca1775a3ac52245",
       "version_major": 2,
       "version_minor": 0
      },
      "text/plain": [
       "  0%|          | 0/1000 [00:00<?, ?it/s]"
      ]
     },
     "metadata": {},
     "output_type": "display_data"
    },
    {
     "data": {
      "application/vnd.jupyter.widget-view+json": {
       "model_id": "2536dc3de5604bf897bb8174bbf1e8f8",
       "version_major": 2,
       "version_minor": 0
      },
      "text/plain": [
       "  0%|          | 0/1000 [00:00<?, ?it/s]"
      ]
     },
     "metadata": {},
     "output_type": "display_data"
    },
    {
     "data": {
      "application/vnd.jupyter.widget-view+json": {
       "model_id": "904935945abd45ddb97d936f2dcb54aa",
       "version_major": 2,
       "version_minor": 0
      },
      "text/plain": [
       "  0%|          | 0/1000 [00:00<?, ?it/s]"
      ]
     },
     "metadata": {},
     "output_type": "display_data"
    },
    {
     "data": {
      "application/vnd.jupyter.widget-view+json": {
       "model_id": "b7cf3c01c2b84f2fb0c2926aaec3283c",
       "version_major": 2,
       "version_minor": 0
      },
      "text/plain": [
       "  0%|          | 0/1000 [00:00<?, ?it/s]"
      ]
     },
     "metadata": {},
     "output_type": "display_data"
    },
    {
     "data": {
      "application/vnd.jupyter.widget-view+json": {
       "model_id": "a0931beba2064e198de4b340b25f9bd4",
       "version_major": 2,
       "version_minor": 0
      },
      "text/plain": [
       "  0%|          | 0/1000 [00:00<?, ?it/s]"
      ]
     },
     "metadata": {},
     "output_type": "display_data"
    },
    {
     "data": {
      "application/vnd.jupyter.widget-view+json": {
       "model_id": "fdcbacc87eb946dbb39da1fa5bd41558",
       "version_major": 2,
       "version_minor": 0
      },
      "text/plain": [
       "  0%|          | 0/1000 [00:00<?, ?it/s]"
      ]
     },
     "metadata": {},
     "output_type": "display_data"
    },
    {
     "data": {
      "application/vnd.jupyter.widget-view+json": {
       "model_id": "de8edcf6f4ab45248ae07bd061343389",
       "version_major": 2,
       "version_minor": 0
      },
      "text/plain": [
       "  0%|          | 0/1000 [00:00<?, ?it/s]"
      ]
     },
     "metadata": {},
     "output_type": "display_data"
    },
    {
     "data": {
      "application/vnd.jupyter.widget-view+json": {
       "model_id": "9b9a0925cb434ef3aa06b5dda8ae89e2",
       "version_major": 2,
       "version_minor": 0
      },
      "text/plain": [
       "  0%|          | 0/1000 [00:00<?, ?it/s]"
      ]
     },
     "metadata": {},
     "output_type": "display_data"
    },
    {
     "data": {
      "application/vnd.jupyter.widget-view+json": {
       "model_id": "e549e2f647ab4bed9d9cf06420995f8d",
       "version_major": 2,
       "version_minor": 0
      },
      "text/plain": [
       "  0%|          | 0/1000 [00:00<?, ?it/s]"
      ]
     },
     "metadata": {},
     "output_type": "display_data"
    },
    {
     "data": {
      "application/vnd.jupyter.widget-view+json": {
       "model_id": "b7be9c57344441ae9eeb8f0662d13a55",
       "version_major": 2,
       "version_minor": 0
      },
      "text/plain": [
       "  0%|          | 0/1000 [00:00<?, ?it/s]"
      ]
     },
     "metadata": {},
     "output_type": "display_data"
    },
    {
     "data": {
      "application/vnd.jupyter.widget-view+json": {
       "model_id": "c05103d1407f4604a509099c9e2e7e98",
       "version_major": 2,
       "version_minor": 0
      },
      "text/plain": [
       "  0%|          | 0/1000 [00:00<?, ?it/s]"
      ]
     },
     "metadata": {},
     "output_type": "display_data"
    },
    {
     "data": {
      "application/vnd.jupyter.widget-view+json": {
       "model_id": "16049c103f324e3bb8769293d86c40f2",
       "version_major": 2,
       "version_minor": 0
      },
      "text/plain": [
       "  0%|          | 0/1000 [00:00<?, ?it/s]"
      ]
     },
     "metadata": {},
     "output_type": "display_data"
    },
    {
     "data": {
      "application/vnd.jupyter.widget-view+json": {
       "model_id": "75a8241d621e4be0bcd97d8eb551c963",
       "version_major": 2,
       "version_minor": 0
      },
      "text/plain": [
       "  0%|          | 0/1000 [00:00<?, ?it/s]"
      ]
     },
     "metadata": {},
     "output_type": "display_data"
    },
    {
     "data": {
      "application/vnd.jupyter.widget-view+json": {
       "model_id": "6c85f59a8e774c53bf0ccfa6643273fd",
       "version_major": 2,
       "version_minor": 0
      },
      "text/plain": [
       "  0%|          | 0/1000 [00:00<?, ?it/s]"
      ]
     },
     "metadata": {},
     "output_type": "display_data"
    },
    {
     "data": {
      "application/vnd.jupyter.widget-view+json": {
       "model_id": "3a3e83c0f095484f821c458af58da378",
       "version_major": 2,
       "version_minor": 0
      },
      "text/plain": [
       "  0%|          | 0/1000 [00:00<?, ?it/s]"
      ]
     },
     "metadata": {},
     "output_type": "display_data"
    },
    {
     "data": {
      "application/vnd.jupyter.widget-view+json": {
       "model_id": "2ea53b2f4e0f4892aa4b47a7e18148b8",
       "version_major": 2,
       "version_minor": 0
      },
      "text/plain": [
       "  0%|          | 0/1000 [00:00<?, ?it/s]"
      ]
     },
     "metadata": {},
     "output_type": "display_data"
    },
    {
     "data": {
      "application/vnd.jupyter.widget-view+json": {
       "model_id": "e11074da37c74323b9ae30042152eca5",
       "version_major": 2,
       "version_minor": 0
      },
      "text/plain": [
       "  0%|          | 0/1000 [00:00<?, ?it/s]"
      ]
     },
     "metadata": {},
     "output_type": "display_data"
    },
    {
     "data": {
      "application/vnd.jupyter.widget-view+json": {
       "model_id": "f10e81a846254a9d9e902d8842813511",
       "version_major": 2,
       "version_minor": 0
      },
      "text/plain": [
       "  0%|          | 0/1000 [00:00<?, ?it/s]"
      ]
     },
     "metadata": {},
     "output_type": "display_data"
    },
    {
     "data": {
      "application/vnd.jupyter.widget-view+json": {
       "model_id": "6406740a626e4ab39be6ea20a488950d",
       "version_major": 2,
       "version_minor": 0
      },
      "text/plain": [
       "  0%|          | 0/1000 [00:00<?, ?it/s]"
      ]
     },
     "metadata": {},
     "output_type": "display_data"
    },
    {
     "data": {
      "application/vnd.jupyter.widget-view+json": {
       "model_id": "d2c7f18548b845ac805293c759224a7a",
       "version_major": 2,
       "version_minor": 0
      },
      "text/plain": [
       "  0%|          | 0/1000 [00:00<?, ?it/s]"
      ]
     },
     "metadata": {},
     "output_type": "display_data"
    },
    {
     "data": {
      "application/vnd.jupyter.widget-view+json": {
       "model_id": "c51f4acb90b54be8b9bfff84e9d79b10",
       "version_major": 2,
       "version_minor": 0
      },
      "text/plain": [
       "  0%|          | 0/1000 [00:00<?, ?it/s]"
      ]
     },
     "metadata": {},
     "output_type": "display_data"
    },
    {
     "data": {
      "application/vnd.jupyter.widget-view+json": {
       "model_id": "6acdd988546f435d9feac437fa65f0b0",
       "version_major": 2,
       "version_minor": 0
      },
      "text/plain": [
       "  0%|          | 0/1000 [00:00<?, ?it/s]"
      ]
     },
     "metadata": {},
     "output_type": "display_data"
    },
    {
     "data": {
      "application/vnd.jupyter.widget-view+json": {
       "model_id": "58d35f1f59564248aef92f536df400f8",
       "version_major": 2,
       "version_minor": 0
      },
      "text/plain": [
       "  0%|          | 0/1000 [00:00<?, ?it/s]"
      ]
     },
     "metadata": {},
     "output_type": "display_data"
    },
    {
     "data": {
      "application/vnd.jupyter.widget-view+json": {
       "model_id": "4eb131ad537f4f8fbfe98bd3f00195b9",
       "version_major": 2,
       "version_minor": 0
      },
      "text/plain": [
       "  0%|          | 0/1000 [00:00<?, ?it/s]"
      ]
     },
     "metadata": {},
     "output_type": "display_data"
    },
    {
     "data": {
      "application/vnd.jupyter.widget-view+json": {
       "model_id": "6160ee747d65479085aa253116f5f8a6",
       "version_major": 2,
       "version_minor": 0
      },
      "text/plain": [
       "  0%|          | 0/1000 [00:00<?, ?it/s]"
      ]
     },
     "metadata": {},
     "output_type": "display_data"
    },
    {
     "data": {
      "application/vnd.jupyter.widget-view+json": {
       "model_id": "a373fbf4a9304af6a4c55db9281e4362",
       "version_major": 2,
       "version_minor": 0
      },
      "text/plain": [
       "  0%|          | 0/1000 [00:00<?, ?it/s]"
      ]
     },
     "metadata": {},
     "output_type": "display_data"
    },
    {
     "data": {
      "application/vnd.jupyter.widget-view+json": {
       "model_id": "e419fcadcdb740d4b45e29dd1e69c1b6",
       "version_major": 2,
       "version_minor": 0
      },
      "text/plain": [
       "  0%|          | 0/1000 [00:00<?, ?it/s]"
      ]
     },
     "metadata": {},
     "output_type": "display_data"
    },
    {
     "data": {
      "application/vnd.jupyter.widget-view+json": {
       "model_id": "4dbc4a25ceca45c2942660ab62a2d9e8",
       "version_major": 2,
       "version_minor": 0
      },
      "text/plain": [
       "  0%|          | 0/1000 [00:00<?, ?it/s]"
      ]
     },
     "metadata": {},
     "output_type": "display_data"
    },
    {
     "data": {
      "application/vnd.jupyter.widget-view+json": {
       "model_id": "9f06a199bca84b7e811e218bb606b076",
       "version_major": 2,
       "version_minor": 0
      },
      "text/plain": [
       "  0%|          | 0/1000 [00:00<?, ?it/s]"
      ]
     },
     "metadata": {},
     "output_type": "display_data"
    },
    {
     "data": {
      "application/vnd.jupyter.widget-view+json": {
       "model_id": "ece2cf49ec9642d1a9872f3d4e9cecad",
       "version_major": 2,
       "version_minor": 0
      },
      "text/plain": [
       "  0%|          | 0/1000 [00:00<?, ?it/s]"
      ]
     },
     "metadata": {},
     "output_type": "display_data"
    },
    {
     "data": {
      "application/vnd.jupyter.widget-view+json": {
       "model_id": "e8f746ee880e4120bf11ec9f74f4912f",
       "version_major": 2,
       "version_minor": 0
      },
      "text/plain": [
       "  0%|          | 0/1000 [00:00<?, ?it/s]"
      ]
     },
     "metadata": {},
     "output_type": "display_data"
    },
    {
     "data": {
      "application/vnd.jupyter.widget-view+json": {
       "model_id": "fcfff80463c846ccbfff769caa9d9d1f",
       "version_major": 2,
       "version_minor": 0
      },
      "text/plain": [
       "  0%|          | 0/1000 [00:00<?, ?it/s]"
      ]
     },
     "metadata": {},
     "output_type": "display_data"
    },
    {
     "data": {
      "application/vnd.jupyter.widget-view+json": {
       "model_id": "b40cfd24ae6546b9bea8e23543459064",
       "version_major": 2,
       "version_minor": 0
      },
      "text/plain": [
       "  0%|          | 0/1000 [00:00<?, ?it/s]"
      ]
     },
     "metadata": {},
     "output_type": "display_data"
    },
    {
     "data": {
      "application/vnd.jupyter.widget-view+json": {
       "model_id": "3fae62ec0b3c4e2baa3d6fd0a75e6fd5",
       "version_major": 2,
       "version_minor": 0
      },
      "text/plain": [
       "  0%|          | 0/1000 [00:00<?, ?it/s]"
      ]
     },
     "metadata": {},
     "output_type": "display_data"
    },
    {
     "data": {
      "application/vnd.jupyter.widget-view+json": {
       "model_id": "77196e81ed5d45789983363576060b64",
       "version_major": 2,
       "version_minor": 0
      },
      "text/plain": [
       "  0%|          | 0/1000 [00:00<?, ?it/s]"
      ]
     },
     "metadata": {},
     "output_type": "display_data"
    },
    {
     "data": {
      "application/vnd.jupyter.widget-view+json": {
       "model_id": "4420299701cc4cbaa4dc8be4f09623f1",
       "version_major": 2,
       "version_minor": 0
      },
      "text/plain": [
       "  0%|          | 0/1000 [00:00<?, ?it/s]"
      ]
     },
     "metadata": {},
     "output_type": "display_data"
    },
    {
     "data": {
      "application/vnd.jupyter.widget-view+json": {
       "model_id": "7a26503ee27f4ab0a1e2af8c9d6d2414",
       "version_major": 2,
       "version_minor": 0
      },
      "text/plain": [
       "  0%|          | 0/1000 [00:00<?, ?it/s]"
      ]
     },
     "metadata": {},
     "output_type": "display_data"
    },
    {
     "data": {
      "application/vnd.jupyter.widget-view+json": {
       "model_id": "ed849d9cbe524277bf755e71d3ff2192",
       "version_major": 2,
       "version_minor": 0
      },
      "text/plain": [
       "  0%|          | 0/1000 [00:00<?, ?it/s]"
      ]
     },
     "metadata": {},
     "output_type": "display_data"
    },
    {
     "data": {
      "application/vnd.jupyter.widget-view+json": {
       "model_id": "ef2ec4fd75b04e8682e7f24cfdd57835",
       "version_major": 2,
       "version_minor": 0
      },
      "text/plain": [
       "  0%|          | 0/1000 [00:00<?, ?it/s]"
      ]
     },
     "metadata": {},
     "output_type": "display_data"
    },
    {
     "data": {
      "application/vnd.jupyter.widget-view+json": {
       "model_id": "3bdfe5ce81274320880bc635a6617f0a",
       "version_major": 2,
       "version_minor": 0
      },
      "text/plain": [
       "  0%|          | 0/1000 [00:00<?, ?it/s]"
      ]
     },
     "metadata": {},
     "output_type": "display_data"
    },
    {
     "data": {
      "application/vnd.jupyter.widget-view+json": {
       "model_id": "54d1318366e1419483b4d266037acf30",
       "version_major": 2,
       "version_minor": 0
      },
      "text/plain": [
       "  0%|          | 0/1000 [00:00<?, ?it/s]"
      ]
     },
     "metadata": {},
     "output_type": "display_data"
    },
    {
     "data": {
      "application/vnd.jupyter.widget-view+json": {
       "model_id": "2b93da1bc4ee4d67bc312fa115e252a9",
       "version_major": 2,
       "version_minor": 0
      },
      "text/plain": [
       "  0%|          | 0/1000 [00:00<?, ?it/s]"
      ]
     },
     "metadata": {},
     "output_type": "display_data"
    },
    {
     "data": {
      "application/vnd.jupyter.widget-view+json": {
       "model_id": "235770c5b4ab4784a5097ddfe4dd7273",
       "version_major": 2,
       "version_minor": 0
      },
      "text/plain": [
       "  0%|          | 0/1000 [00:00<?, ?it/s]"
      ]
     },
     "metadata": {},
     "output_type": "display_data"
    },
    {
     "data": {
      "application/vnd.jupyter.widget-view+json": {
       "model_id": "13d2864aa1544d3aa79d55cb709fe386",
       "version_major": 2,
       "version_minor": 0
      },
      "text/plain": [
       "  0%|          | 0/1000 [00:00<?, ?it/s]"
      ]
     },
     "metadata": {},
     "output_type": "display_data"
    },
    {
     "data": {
      "application/vnd.jupyter.widget-view+json": {
       "model_id": "c1f4edd83bab4c8c9be0ebc8a4708f47",
       "version_major": 2,
       "version_minor": 0
      },
      "text/plain": [
       "  0%|          | 0/1000 [00:00<?, ?it/s]"
      ]
     },
     "metadata": {},
     "output_type": "display_data"
    },
    {
     "data": {
      "application/vnd.jupyter.widget-view+json": {
       "model_id": "4a7ee42c84124f73ad23c83f848ebcf0",
       "version_major": 2,
       "version_minor": 0
      },
      "text/plain": [
       "  0%|          | 0/1000 [00:00<?, ?it/s]"
      ]
     },
     "metadata": {},
     "output_type": "display_data"
    },
    {
     "data": {
      "application/vnd.jupyter.widget-view+json": {
       "model_id": "1e9a08eeef4f468b895569d19b067c4b",
       "version_major": 2,
       "version_minor": 0
      },
      "text/plain": [
       "  0%|          | 0/1000 [00:00<?, ?it/s]"
      ]
     },
     "metadata": {},
     "output_type": "display_data"
    },
    {
     "data": {
      "application/vnd.jupyter.widget-view+json": {
       "model_id": "c640e32bcb6c4e22a362392630c53ffa",
       "version_major": 2,
       "version_minor": 0
      },
      "text/plain": [
       "  0%|          | 0/1000 [00:00<?, ?it/s]"
      ]
     },
     "metadata": {},
     "output_type": "display_data"
    },
    {
     "data": {
      "application/vnd.jupyter.widget-view+json": {
       "model_id": "5ecc2e03d18a4e40a5a14797c99dec25",
       "version_major": 2,
       "version_minor": 0
      },
      "text/plain": [
       "  0%|          | 0/1000 [00:00<?, ?it/s]"
      ]
     },
     "metadata": {},
     "output_type": "display_data"
    },
    {
     "data": {
      "application/vnd.jupyter.widget-view+json": {
       "model_id": "accfe1cf2ca34340ae36df8c58a33687",
       "version_major": 2,
       "version_minor": 0
      },
      "text/plain": [
       "  0%|          | 0/1000 [00:00<?, ?it/s]"
      ]
     },
     "metadata": {},
     "output_type": "display_data"
    },
    {
     "data": {
      "application/vnd.jupyter.widget-view+json": {
       "model_id": "84da6e53d4a54906ba751d3665b098ee",
       "version_major": 2,
       "version_minor": 0
      },
      "text/plain": [
       "  0%|          | 0/1000 [00:00<?, ?it/s]"
      ]
     },
     "metadata": {},
     "output_type": "display_data"
    },
    {
     "data": {
      "application/vnd.jupyter.widget-view+json": {
       "model_id": "186d9d7a468a44259684ce1435114465",
       "version_major": 2,
       "version_minor": 0
      },
      "text/plain": [
       "  0%|          | 0/1000 [00:00<?, ?it/s]"
      ]
     },
     "metadata": {},
     "output_type": "display_data"
    },
    {
     "data": {
      "application/vnd.jupyter.widget-view+json": {
       "model_id": "ea4fa38ed758422090b82e8f30653b0a",
       "version_major": 2,
       "version_minor": 0
      },
      "text/plain": [
       "  0%|          | 0/1000 [00:00<?, ?it/s]"
      ]
     },
     "metadata": {},
     "output_type": "display_data"
    },
    {
     "data": {
      "application/vnd.jupyter.widget-view+json": {
       "model_id": "877a6714284b4d6eb59a43c916126ffd",
       "version_major": 2,
       "version_minor": 0
      },
      "text/plain": [
       "  0%|          | 0/1000 [00:00<?, ?it/s]"
      ]
     },
     "metadata": {},
     "output_type": "display_data"
    },
    {
     "data": {
      "application/vnd.jupyter.widget-view+json": {
       "model_id": "4c5d524924704992a943190595e51356",
       "version_major": 2,
       "version_minor": 0
      },
      "text/plain": [
       "  0%|          | 0/1000 [00:00<?, ?it/s]"
      ]
     },
     "metadata": {},
     "output_type": "display_data"
    },
    {
     "data": {
      "application/vnd.jupyter.widget-view+json": {
       "model_id": "03a2d1e522a647638a4e048120808cde",
       "version_major": 2,
       "version_minor": 0
      },
      "text/plain": [
       "  0%|          | 0/1000 [00:00<?, ?it/s]"
      ]
     },
     "metadata": {},
     "output_type": "display_data"
    },
    {
     "data": {
      "application/vnd.jupyter.widget-view+json": {
       "model_id": "c01aaee093fa450fa209c0d616e5f36d",
       "version_major": 2,
       "version_minor": 0
      },
      "text/plain": [
       "  0%|          | 0/1000 [00:00<?, ?it/s]"
      ]
     },
     "metadata": {},
     "output_type": "display_data"
    },
    {
     "data": {
      "application/vnd.jupyter.widget-view+json": {
       "model_id": "ba5f9ab671a34b8f9ff081ad5e00d67d",
       "version_major": 2,
       "version_minor": 0
      },
      "text/plain": [
       "  0%|          | 0/1000 [00:00<?, ?it/s]"
      ]
     },
     "metadata": {},
     "output_type": "display_data"
    },
    {
     "data": {
      "application/vnd.jupyter.widget-view+json": {
       "model_id": "8d3004b90ee649ef9639a2bc54d39326",
       "version_major": 2,
       "version_minor": 0
      },
      "text/plain": [
       "  0%|          | 0/1000 [00:00<?, ?it/s]"
      ]
     },
     "metadata": {},
     "output_type": "display_data"
    },
    {
     "data": {
      "application/vnd.jupyter.widget-view+json": {
       "model_id": "78dcbc8700494e0694829f0b7d0d2c1c",
       "version_major": 2,
       "version_minor": 0
      },
      "text/plain": [
       "  0%|          | 0/1000 [00:00<?, ?it/s]"
      ]
     },
     "metadata": {},
     "output_type": "display_data"
    },
    {
     "data": {
      "application/vnd.jupyter.widget-view+json": {
       "model_id": "c1ebe43e0792450f932bf08962389e30",
       "version_major": 2,
       "version_minor": 0
      },
      "text/plain": [
       "  0%|          | 0/1000 [00:00<?, ?it/s]"
      ]
     },
     "metadata": {},
     "output_type": "display_data"
    },
    {
     "data": {
      "application/vnd.jupyter.widget-view+json": {
       "model_id": "a5b3289dcdf243d5ae258610e3cba1d2",
       "version_major": 2,
       "version_minor": 0
      },
      "text/plain": [
       "  0%|          | 0/1000 [00:00<?, ?it/s]"
      ]
     },
     "metadata": {},
     "output_type": "display_data"
    },
    {
     "data": {
      "application/vnd.jupyter.widget-view+json": {
       "model_id": "298a7ca908a347438107e9676630e116",
       "version_major": 2,
       "version_minor": 0
      },
      "text/plain": [
       "  0%|          | 0/1000 [00:00<?, ?it/s]"
      ]
     },
     "metadata": {},
     "output_type": "display_data"
    },
    {
     "data": {
      "application/vnd.jupyter.widget-view+json": {
       "model_id": "88f131180ba94ceabbbc1eba78d051db",
       "version_major": 2,
       "version_minor": 0
      },
      "text/plain": [
       "  0%|          | 0/1000 [00:00<?, ?it/s]"
      ]
     },
     "metadata": {},
     "output_type": "display_data"
    },
    {
     "data": {
      "application/vnd.jupyter.widget-view+json": {
       "model_id": "27256768aa474bd5a000c6f8f2ec2003",
       "version_major": 2,
       "version_minor": 0
      },
      "text/plain": [
       "  0%|          | 0/1000 [00:00<?, ?it/s]"
      ]
     },
     "metadata": {},
     "output_type": "display_data"
    },
    {
     "data": {
      "application/vnd.jupyter.widget-view+json": {
       "model_id": "7d63752e7e8c4be585bf5ad805f1dc27",
       "version_major": 2,
       "version_minor": 0
      },
      "text/plain": [
       "  0%|          | 0/1000 [00:00<?, ?it/s]"
      ]
     },
     "metadata": {},
     "output_type": "display_data"
    },
    {
     "data": {
      "application/vnd.jupyter.widget-view+json": {
       "model_id": "90e4c5e6fdac4eabb20640f0f4077cc7",
       "version_major": 2,
       "version_minor": 0
      },
      "text/plain": [
       "  0%|          | 0/1000 [00:00<?, ?it/s]"
      ]
     },
     "metadata": {},
     "output_type": "display_data"
    },
    {
     "data": {
      "application/vnd.jupyter.widget-view+json": {
       "model_id": "1c78d6e16d86460ca9acc26261fc0dca",
       "version_major": 2,
       "version_minor": 0
      },
      "text/plain": [
       "  0%|          | 0/1000 [00:00<?, ?it/s]"
      ]
     },
     "metadata": {},
     "output_type": "display_data"
    },
    {
     "data": {
      "application/vnd.jupyter.widget-view+json": {
       "model_id": "29f716a8c9cd4d7ca4323774d17b61a0",
       "version_major": 2,
       "version_minor": 0
      },
      "text/plain": [
       "  0%|          | 0/1000 [00:00<?, ?it/s]"
      ]
     },
     "metadata": {},
     "output_type": "display_data"
    },
    {
     "data": {
      "application/vnd.jupyter.widget-view+json": {
       "model_id": "aee6f09b96c8477e9461e5ee94e4deab",
       "version_major": 2,
       "version_minor": 0
      },
      "text/plain": [
       "  0%|          | 0/1000 [00:00<?, ?it/s]"
      ]
     },
     "metadata": {},
     "output_type": "display_data"
    },
    {
     "data": {
      "application/vnd.jupyter.widget-view+json": {
       "model_id": "07797e40d96748ea8f3b623249e71ef9",
       "version_major": 2,
       "version_minor": 0
      },
      "text/plain": [
       "  0%|          | 0/1000 [00:00<?, ?it/s]"
      ]
     },
     "metadata": {},
     "output_type": "display_data"
    },
    {
     "data": {
      "application/vnd.jupyter.widget-view+json": {
       "model_id": "3cc4ea4fbc2c4c7991eb9b2ba9961276",
       "version_major": 2,
       "version_minor": 0
      },
      "text/plain": [
       "  0%|          | 0/1000 [00:00<?, ?it/s]"
      ]
     },
     "metadata": {},
     "output_type": "display_data"
    },
    {
     "data": {
      "application/vnd.jupyter.widget-view+json": {
       "model_id": "73160ca0e70643a48e41943fc49bf56d",
       "version_major": 2,
       "version_minor": 0
      },
      "text/plain": [
       "  0%|          | 0/1000 [00:00<?, ?it/s]"
      ]
     },
     "metadata": {},
     "output_type": "display_data"
    },
    {
     "data": {
      "application/vnd.jupyter.widget-view+json": {
       "model_id": "fa5375a10db24faa82a75bc30c3bd755",
       "version_major": 2,
       "version_minor": 0
      },
      "text/plain": [
       "  0%|          | 0/1000 [00:00<?, ?it/s]"
      ]
     },
     "metadata": {},
     "output_type": "display_data"
    },
    {
     "data": {
      "application/vnd.jupyter.widget-view+json": {
       "model_id": "0534f3a9fd724d4abdcc60642bb7afc5",
       "version_major": 2,
       "version_minor": 0
      },
      "text/plain": [
       "  0%|          | 0/1000 [00:00<?, ?it/s]"
      ]
     },
     "metadata": {},
     "output_type": "display_data"
    },
    {
     "data": {
      "application/vnd.jupyter.widget-view+json": {
       "model_id": "3a79802e102d4c0a8807b6ad8f01c087",
       "version_major": 2,
       "version_minor": 0
      },
      "text/plain": [
       "  0%|          | 0/1000 [00:00<?, ?it/s]"
      ]
     },
     "metadata": {},
     "output_type": "display_data"
    },
    {
     "data": {
      "application/vnd.jupyter.widget-view+json": {
       "model_id": "0b90632f206c4dcf84c7f377a936bc07",
       "version_major": 2,
       "version_minor": 0
      },
      "text/plain": [
       "  0%|          | 0/1000 [00:00<?, ?it/s]"
      ]
     },
     "metadata": {},
     "output_type": "display_data"
    },
    {
     "data": {
      "application/vnd.jupyter.widget-view+json": {
       "model_id": "bd12633bd2544192bee843f775f36158",
       "version_major": 2,
       "version_minor": 0
      },
      "text/plain": [
       "  0%|          | 0/1000 [00:00<?, ?it/s]"
      ]
     },
     "metadata": {},
     "output_type": "display_data"
    },
    {
     "data": {
      "application/vnd.jupyter.widget-view+json": {
       "model_id": "b4bcbea950024e69bfef1e6ff65293c6",
       "version_major": 2,
       "version_minor": 0
      },
      "text/plain": [
       "  0%|          | 0/1000 [00:00<?, ?it/s]"
      ]
     },
     "metadata": {},
     "output_type": "display_data"
    },
    {
     "data": {
      "application/vnd.jupyter.widget-view+json": {
       "model_id": "ae0d599f77a84a31b996748fea034a68",
       "version_major": 2,
       "version_minor": 0
      },
      "text/plain": [
       "  0%|          | 0/1000 [00:00<?, ?it/s]"
      ]
     },
     "metadata": {},
     "output_type": "display_data"
    },
    {
     "data": {
      "application/vnd.jupyter.widget-view+json": {
       "model_id": "a1050e401b87489ebb32395f6c0b3db6",
       "version_major": 2,
       "version_minor": 0
      },
      "text/plain": [
       "  0%|          | 0/1000 [00:00<?, ?it/s]"
      ]
     },
     "metadata": {},
     "output_type": "display_data"
    },
    {
     "data": {
      "application/vnd.jupyter.widget-view+json": {
       "model_id": "2646c057b48d46f09436efc9a5652fd1",
       "version_major": 2,
       "version_minor": 0
      },
      "text/plain": [
       "  0%|          | 0/1000 [00:00<?, ?it/s]"
      ]
     },
     "metadata": {},
     "output_type": "display_data"
    },
    {
     "data": {
      "application/vnd.jupyter.widget-view+json": {
       "model_id": "b6bacf0183c84d9586c21a635d53755d",
       "version_major": 2,
       "version_minor": 0
      },
      "text/plain": [
       "  0%|          | 0/1000 [00:00<?, ?it/s]"
      ]
     },
     "metadata": {},
     "output_type": "display_data"
    },
    {
     "data": {
      "application/vnd.jupyter.widget-view+json": {
       "model_id": "6d2865ed70ab4c95b8936099968ac1d2",
       "version_major": 2,
       "version_minor": 0
      },
      "text/plain": [
       "  0%|          | 0/1000 [00:00<?, ?it/s]"
      ]
     },
     "metadata": {},
     "output_type": "display_data"
    },
    {
     "data": {
      "application/vnd.jupyter.widget-view+json": {
       "model_id": "1b1c65a57c1244a680784c773607b8c4",
       "version_major": 2,
       "version_minor": 0
      },
      "text/plain": [
       "  0%|          | 0/1000 [00:00<?, ?it/s]"
      ]
     },
     "metadata": {},
     "output_type": "display_data"
    },
    {
     "data": {
      "application/vnd.jupyter.widget-view+json": {
       "model_id": "e6e4e66c0808417695b883c3a729f99c",
       "version_major": 2,
       "version_minor": 0
      },
      "text/plain": [
       "  0%|          | 0/1000 [00:00<?, ?it/s]"
      ]
     },
     "metadata": {},
     "output_type": "display_data"
    },
    {
     "data": {
      "application/vnd.jupyter.widget-view+json": {
       "model_id": "2a0979c21a5c4637be0ba65139f70695",
       "version_major": 2,
       "version_minor": 0
      },
      "text/plain": [
       "  0%|          | 0/1000 [00:00<?, ?it/s]"
      ]
     },
     "metadata": {},
     "output_type": "display_data"
    },
    {
     "data": {
      "application/vnd.jupyter.widget-view+json": {
       "model_id": "a4382c9025674b8eaec79f3460ef2c79",
       "version_major": 2,
       "version_minor": 0
      },
      "text/plain": [
       "  0%|          | 0/1000 [00:00<?, ?it/s]"
      ]
     },
     "metadata": {},
     "output_type": "display_data"
    },
    {
     "data": {
      "application/vnd.jupyter.widget-view+json": {
       "model_id": "8db3e67bd26f462392db81170123a01d",
       "version_major": 2,
       "version_minor": 0
      },
      "text/plain": [
       "  0%|          | 0/1000 [00:00<?, ?it/s]"
      ]
     },
     "metadata": {},
     "output_type": "display_data"
    },
    {
     "data": {
      "application/vnd.jupyter.widget-view+json": {
       "model_id": "881cd21b82e84191aa14436eaec52976",
       "version_major": 2,
       "version_minor": 0
      },
      "text/plain": [
       "  0%|          | 0/1000 [00:00<?, ?it/s]"
      ]
     },
     "metadata": {},
     "output_type": "display_data"
    },
    {
     "data": {
      "application/vnd.jupyter.widget-view+json": {
       "model_id": "36c8e651c28e4f5ca83c419a798eaa68",
       "version_major": 2,
       "version_minor": 0
      },
      "text/plain": [
       "  0%|          | 0/1000 [00:00<?, ?it/s]"
      ]
     },
     "metadata": {},
     "output_type": "display_data"
    },
    {
     "data": {
      "application/vnd.jupyter.widget-view+json": {
       "model_id": "2d5084c0591c48eda91c4856fcbfe30e",
       "version_major": 2,
       "version_minor": 0
      },
      "text/plain": [
       "  0%|          | 0/1000 [00:00<?, ?it/s]"
      ]
     },
     "metadata": {},
     "output_type": "display_data"
    },
    {
     "data": {
      "application/vnd.jupyter.widget-view+json": {
       "model_id": "1a0f08f772804ffab446191c97f352a0",
       "version_major": 2,
       "version_minor": 0
      },
      "text/plain": [
       "  0%|          | 0/1000 [00:00<?, ?it/s]"
      ]
     },
     "metadata": {},
     "output_type": "display_data"
    },
    {
     "data": {
      "application/vnd.jupyter.widget-view+json": {
       "model_id": "19461df103bd4a0cb34f4a654c7448e1",
       "version_major": 2,
       "version_minor": 0
      },
      "text/plain": [
       "  0%|          | 0/1000 [00:00<?, ?it/s]"
      ]
     },
     "metadata": {},
     "output_type": "display_data"
    },
    {
     "data": {
      "application/vnd.jupyter.widget-view+json": {
       "model_id": "47f45182ac234ffd88c25cdac73a09e0",
       "version_major": 2,
       "version_minor": 0
      },
      "text/plain": [
       "  0%|          | 0/1000 [00:00<?, ?it/s]"
      ]
     },
     "metadata": {},
     "output_type": "display_data"
    },
    {
     "data": {
      "application/vnd.jupyter.widget-view+json": {
       "model_id": "b87af9e0a54b409b80993917be21d173",
       "version_major": 2,
       "version_minor": 0
      },
      "text/plain": [
       "  0%|          | 0/1000 [00:00<?, ?it/s]"
      ]
     },
     "metadata": {},
     "output_type": "display_data"
    },
    {
     "data": {
      "application/vnd.jupyter.widget-view+json": {
       "model_id": "40536b63623b48eaa4faf686dae58a8f",
       "version_major": 2,
       "version_minor": 0
      },
      "text/plain": [
       "  0%|          | 0/1000 [00:00<?, ?it/s]"
      ]
     },
     "metadata": {},
     "output_type": "display_data"
    },
    {
     "data": {
      "application/vnd.jupyter.widget-view+json": {
       "model_id": "c0e243c85cb7469a89eac42b39561c83",
       "version_major": 2,
       "version_minor": 0
      },
      "text/plain": [
       "  0%|          | 0/1000 [00:00<?, ?it/s]"
      ]
     },
     "metadata": {},
     "output_type": "display_data"
    },
    {
     "data": {
      "application/vnd.jupyter.widget-view+json": {
       "model_id": "4dc573c3a2bb4a2689fb37083589ea5b",
       "version_major": 2,
       "version_minor": 0
      },
      "text/plain": [
       "  0%|          | 0/1000 [00:00<?, ?it/s]"
      ]
     },
     "metadata": {},
     "output_type": "display_data"
    },
    {
     "data": {
      "application/vnd.jupyter.widget-view+json": {
       "model_id": "23d20140a285439db2a988ca71542bc3",
       "version_major": 2,
       "version_minor": 0
      },
      "text/plain": [
       "  0%|          | 0/1000 [00:00<?, ?it/s]"
      ]
     },
     "metadata": {},
     "output_type": "display_data"
    },
    {
     "data": {
      "application/vnd.jupyter.widget-view+json": {
       "model_id": "48c618df418344898d48a6b03e3f32a5",
       "version_major": 2,
       "version_minor": 0
      },
      "text/plain": [
       "  0%|          | 0/1000 [00:00<?, ?it/s]"
      ]
     },
     "metadata": {},
     "output_type": "display_data"
    },
    {
     "data": {
      "application/vnd.jupyter.widget-view+json": {
       "model_id": "3b8b6bf16ac045d8852fb20737f87f6d",
       "version_major": 2,
       "version_minor": 0
      },
      "text/plain": [
       "  0%|          | 0/1000 [00:00<?, ?it/s]"
      ]
     },
     "metadata": {},
     "output_type": "display_data"
    },
    {
     "data": {
      "application/vnd.jupyter.widget-view+json": {
       "model_id": "870b105fcdbd4f4ab1ee34963067aa27",
       "version_major": 2,
       "version_minor": 0
      },
      "text/plain": [
       "  0%|          | 0/1000 [00:00<?, ?it/s]"
      ]
     },
     "metadata": {},
     "output_type": "display_data"
    },
    {
     "data": {
      "application/vnd.jupyter.widget-view+json": {
       "model_id": "f5ae177c1c6f404cac08326ae0b3986f",
       "version_major": 2,
       "version_minor": 0
      },
      "text/plain": [
       "  0%|          | 0/1000 [00:00<?, ?it/s]"
      ]
     },
     "metadata": {},
     "output_type": "display_data"
    },
    {
     "data": {
      "application/vnd.jupyter.widget-view+json": {
       "model_id": "9948cf485fc446c3990fa15cca4f7768",
       "version_major": 2,
       "version_minor": 0
      },
      "text/plain": [
       "  0%|          | 0/1000 [00:00<?, ?it/s]"
      ]
     },
     "metadata": {},
     "output_type": "display_data"
    },
    {
     "data": {
      "application/vnd.jupyter.widget-view+json": {
       "model_id": "599b76b29550454b9ed95b46368bade7",
       "version_major": 2,
       "version_minor": 0
      },
      "text/plain": [
       "  0%|          | 0/1000 [00:00<?, ?it/s]"
      ]
     },
     "metadata": {},
     "output_type": "display_data"
    },
    {
     "data": {
      "application/vnd.jupyter.widget-view+json": {
       "model_id": "c364ba6e2a91448db024a8469fd02dd4",
       "version_major": 2,
       "version_minor": 0
      },
      "text/plain": [
       "  0%|          | 0/1000 [00:00<?, ?it/s]"
      ]
     },
     "metadata": {},
     "output_type": "display_data"
    },
    {
     "data": {
      "application/vnd.jupyter.widget-view+json": {
       "model_id": "9e9343668f9c4480a9456c7e38c5d2c5",
       "version_major": 2,
       "version_minor": 0
      },
      "text/plain": [
       "  0%|          | 0/1000 [00:00<?, ?it/s]"
      ]
     },
     "metadata": {},
     "output_type": "display_data"
    },
    {
     "data": {
      "application/vnd.jupyter.widget-view+json": {
       "model_id": "3f80de091852437fbf38d647632cc731",
       "version_major": 2,
       "version_minor": 0
      },
      "text/plain": [
       "  0%|          | 0/1000 [00:00<?, ?it/s]"
      ]
     },
     "metadata": {},
     "output_type": "display_data"
    },
    {
     "data": {
      "application/vnd.jupyter.widget-view+json": {
       "model_id": "4efce949338d494584e74c42a7415efe",
       "version_major": 2,
       "version_minor": 0
      },
      "text/plain": [
       "  0%|          | 0/1000 [00:00<?, ?it/s]"
      ]
     },
     "metadata": {},
     "output_type": "display_data"
    },
    {
     "data": {
      "application/vnd.jupyter.widget-view+json": {
       "model_id": "704e4d08f01f4cc587bffbdaa4bd0db7",
       "version_major": 2,
       "version_minor": 0
      },
      "text/plain": [
       "  0%|          | 0/1000 [00:00<?, ?it/s]"
      ]
     },
     "metadata": {},
     "output_type": "display_data"
    },
    {
     "data": {
      "application/vnd.jupyter.widget-view+json": {
       "model_id": "cfd5038aabbb47a69ccf3e94e7813cdf",
       "version_major": 2,
       "version_minor": 0
      },
      "text/plain": [
       "  0%|          | 0/1000 [00:00<?, ?it/s]"
      ]
     },
     "metadata": {},
     "output_type": "display_data"
    },
    {
     "data": {
      "application/vnd.jupyter.widget-view+json": {
       "model_id": "4d5022179e064064a68bd7ea76458aac",
       "version_major": 2,
       "version_minor": 0
      },
      "text/plain": [
       "  0%|          | 0/1000 [00:00<?, ?it/s]"
      ]
     },
     "metadata": {},
     "output_type": "display_data"
    },
    {
     "data": {
      "application/vnd.jupyter.widget-view+json": {
       "model_id": "8635d96fa4d04df2aa219e3b212c86b8",
       "version_major": 2,
       "version_minor": 0
      },
      "text/plain": [
       "  0%|          | 0/1000 [00:00<?, ?it/s]"
      ]
     },
     "metadata": {},
     "output_type": "display_data"
    },
    {
     "data": {
      "application/vnd.jupyter.widget-view+json": {
       "model_id": "44e6b29efe674bad91e1a365c59c9190",
       "version_major": 2,
       "version_minor": 0
      },
      "text/plain": [
       "  0%|          | 0/1000 [00:00<?, ?it/s]"
      ]
     },
     "metadata": {},
     "output_type": "display_data"
    },
    {
     "data": {
      "application/vnd.jupyter.widget-view+json": {
       "model_id": "55e0a42cc57c49e29dc6bc2943c86640",
       "version_major": 2,
       "version_minor": 0
      },
      "text/plain": [
       "  0%|          | 0/1000 [00:00<?, ?it/s]"
      ]
     },
     "metadata": {},
     "output_type": "display_data"
    },
    {
     "data": {
      "application/vnd.jupyter.widget-view+json": {
       "model_id": "647ce67d57824f478be98dec7c86fd33",
       "version_major": 2,
       "version_minor": 0
      },
      "text/plain": [
       "  0%|          | 0/1000 [00:00<?, ?it/s]"
      ]
     },
     "metadata": {},
     "output_type": "display_data"
    },
    {
     "data": {
      "application/vnd.jupyter.widget-view+json": {
       "model_id": "c59d207624c047ee93aa252391d25be0",
       "version_major": 2,
       "version_minor": 0
      },
      "text/plain": [
       "  0%|          | 0/1000 [00:00<?, ?it/s]"
      ]
     },
     "metadata": {},
     "output_type": "display_data"
    },
    {
     "data": {
      "application/vnd.jupyter.widget-view+json": {
       "model_id": "a9d0fb1d53b94883b6e4afa47eea10ab",
       "version_major": 2,
       "version_minor": 0
      },
      "text/plain": [
       "  0%|          | 0/1000 [00:00<?, ?it/s]"
      ]
     },
     "metadata": {},
     "output_type": "display_data"
    },
    {
     "data": {
      "application/vnd.jupyter.widget-view+json": {
       "model_id": "0781db29f223412886a9f5f20208a26c",
       "version_major": 2,
       "version_minor": 0
      },
      "text/plain": [
       "  0%|          | 0/1000 [00:00<?, ?it/s]"
      ]
     },
     "metadata": {},
     "output_type": "display_data"
    },
    {
     "data": {
      "application/vnd.jupyter.widget-view+json": {
       "model_id": "4f9b017d0ae64246b932a5c567acffd6",
       "version_major": 2,
       "version_minor": 0
      },
      "text/plain": [
       "  0%|          | 0/1000 [00:00<?, ?it/s]"
      ]
     },
     "metadata": {},
     "output_type": "display_data"
    },
    {
     "data": {
      "application/vnd.jupyter.widget-view+json": {
       "model_id": "c6764f1155514c4ea606e105b2b1deb1",
       "version_major": 2,
       "version_minor": 0
      },
      "text/plain": [
       "  0%|          | 0/1000 [00:00<?, ?it/s]"
      ]
     },
     "metadata": {},
     "output_type": "display_data"
    },
    {
     "data": {
      "application/vnd.jupyter.widget-view+json": {
       "model_id": "7a0273eb2bb54ef3ad2269dbf1edc6e3",
       "version_major": 2,
       "version_minor": 0
      },
      "text/plain": [
       "  0%|          | 0/1000 [00:00<?, ?it/s]"
      ]
     },
     "metadata": {},
     "output_type": "display_data"
    },
    {
     "data": {
      "application/vnd.jupyter.widget-view+json": {
       "model_id": "2ee9b65d7fb04b6ba5d6597390154290",
       "version_major": 2,
       "version_minor": 0
      },
      "text/plain": [
       "  0%|          | 0/1000 [00:00<?, ?it/s]"
      ]
     },
     "metadata": {},
     "output_type": "display_data"
    },
    {
     "data": {
      "application/vnd.jupyter.widget-view+json": {
       "model_id": "9ff0bcfb9f1642f68875f173f9a14a0b",
       "version_major": 2,
       "version_minor": 0
      },
      "text/plain": [
       "  0%|          | 0/1000 [00:00<?, ?it/s]"
      ]
     },
     "metadata": {},
     "output_type": "display_data"
    },
    {
     "data": {
      "application/vnd.jupyter.widget-view+json": {
       "model_id": "b57c8b2f9ca64f51a67e0e0c443bbacd",
       "version_major": 2,
       "version_minor": 0
      },
      "text/plain": [
       "  0%|          | 0/1000 [00:00<?, ?it/s]"
      ]
     },
     "metadata": {},
     "output_type": "display_data"
    },
    {
     "data": {
      "application/vnd.jupyter.widget-view+json": {
       "model_id": "63cda3dc24a84a348affcaffc1e1f8c7",
       "version_major": 2,
       "version_minor": 0
      },
      "text/plain": [
       "  0%|          | 0/1000 [00:00<?, ?it/s]"
      ]
     },
     "metadata": {},
     "output_type": "display_data"
    },
    {
     "data": {
      "application/vnd.jupyter.widget-view+json": {
       "model_id": "d556db08ba51469f99fc11e9c0ac736c",
       "version_major": 2,
       "version_minor": 0
      },
      "text/plain": [
       "  0%|          | 0/1000 [00:00<?, ?it/s]"
      ]
     },
     "metadata": {},
     "output_type": "display_data"
    },
    {
     "data": {
      "application/vnd.jupyter.widget-view+json": {
       "model_id": "8f001780452c4ced93fa38a2f7554f8e",
       "version_major": 2,
       "version_minor": 0
      },
      "text/plain": [
       "  0%|          | 0/1000 [00:00<?, ?it/s]"
      ]
     },
     "metadata": {},
     "output_type": "display_data"
    },
    {
     "data": {
      "application/vnd.jupyter.widget-view+json": {
       "model_id": "052d8267f5894fd69ad8df8f456be973",
       "version_major": 2,
       "version_minor": 0
      },
      "text/plain": [
       "  0%|          | 0/1000 [00:00<?, ?it/s]"
      ]
     },
     "metadata": {},
     "output_type": "display_data"
    },
    {
     "data": {
      "application/vnd.jupyter.widget-view+json": {
       "model_id": "0cb779a0456b4603b5331efd557975fa",
       "version_major": 2,
       "version_minor": 0
      },
      "text/plain": [
       "  0%|          | 0/1000 [00:00<?, ?it/s]"
      ]
     },
     "metadata": {},
     "output_type": "display_data"
    },
    {
     "data": {
      "application/vnd.jupyter.widget-view+json": {
       "model_id": "27ed165f8b8f41a39cd717dccddf495e",
       "version_major": 2,
       "version_minor": 0
      },
      "text/plain": [
       "  0%|          | 0/1000 [00:00<?, ?it/s]"
      ]
     },
     "metadata": {},
     "output_type": "display_data"
    },
    {
     "data": {
      "application/vnd.jupyter.widget-view+json": {
       "model_id": "d48ede05a5614904bfa4ab3467fe937e",
       "version_major": 2,
       "version_minor": 0
      },
      "text/plain": [
       "  0%|          | 0/1000 [00:00<?, ?it/s]"
      ]
     },
     "metadata": {},
     "output_type": "display_data"
    },
    {
     "data": {
      "application/vnd.jupyter.widget-view+json": {
       "model_id": "6ccb045179584c70bafca31c0d0d8e82",
       "version_major": 2,
       "version_minor": 0
      },
      "text/plain": [
       "  0%|          | 0/1000 [00:00<?, ?it/s]"
      ]
     },
     "metadata": {},
     "output_type": "display_data"
    },
    {
     "data": {
      "application/vnd.jupyter.widget-view+json": {
       "model_id": "c50b03cfb6e24e41b7da902bbb26c16a",
       "version_major": 2,
       "version_minor": 0
      },
      "text/plain": [
       "  0%|          | 0/1000 [00:00<?, ?it/s]"
      ]
     },
     "metadata": {},
     "output_type": "display_data"
    },
    {
     "data": {
      "application/vnd.jupyter.widget-view+json": {
       "model_id": "ccc0e472a16e47df8279b0e1a4c8ef36",
       "version_major": 2,
       "version_minor": 0
      },
      "text/plain": [
       "  0%|          | 0/1000 [00:00<?, ?it/s]"
      ]
     },
     "metadata": {},
     "output_type": "display_data"
    },
    {
     "data": {
      "application/vnd.jupyter.widget-view+json": {
       "model_id": "dd6259bf5eff46669b6db9d59e0b74c6",
       "version_major": 2,
       "version_minor": 0
      },
      "text/plain": [
       "  0%|          | 0/1000 [00:00<?, ?it/s]"
      ]
     },
     "metadata": {},
     "output_type": "display_data"
    },
    {
     "data": {
      "application/vnd.jupyter.widget-view+json": {
       "model_id": "ff7229a93b4c4ac4959cbb423eb6e6b1",
       "version_major": 2,
       "version_minor": 0
      },
      "text/plain": [
       "  0%|          | 0/1000 [00:00<?, ?it/s]"
      ]
     },
     "metadata": {},
     "output_type": "display_data"
    },
    {
     "data": {
      "application/vnd.jupyter.widget-view+json": {
       "model_id": "160ef0754e58428f9fbd3943bb90fb28",
       "version_major": 2,
       "version_minor": 0
      },
      "text/plain": [
       "  0%|          | 0/1000 [00:00<?, ?it/s]"
      ]
     },
     "metadata": {},
     "output_type": "display_data"
    },
    {
     "data": {
      "application/vnd.jupyter.widget-view+json": {
       "model_id": "7a5cc7348e63491f85ca57a07a0aff04",
       "version_major": 2,
       "version_minor": 0
      },
      "text/plain": [
       "  0%|          | 0/1000 [00:00<?, ?it/s]"
      ]
     },
     "metadata": {},
     "output_type": "display_data"
    },
    {
     "data": {
      "application/vnd.jupyter.widget-view+json": {
       "model_id": "660fbde1008e4298804169d184a2f77c",
       "version_major": 2,
       "version_minor": 0
      },
      "text/plain": [
       "  0%|          | 0/1000 [00:00<?, ?it/s]"
      ]
     },
     "metadata": {},
     "output_type": "display_data"
    },
    {
     "data": {
      "application/vnd.jupyter.widget-view+json": {
       "model_id": "c878ec1d327846a5af304ae6b43ac78a",
       "version_major": 2,
       "version_minor": 0
      },
      "text/plain": [
       "  0%|          | 0/1000 [00:00<?, ?it/s]"
      ]
     },
     "metadata": {},
     "output_type": "display_data"
    },
    {
     "data": {
      "application/vnd.jupyter.widget-view+json": {
       "model_id": "1017d61fc75b4043860e621249b321fe",
       "version_major": 2,
       "version_minor": 0
      },
      "text/plain": [
       "  0%|          | 0/1000 [00:00<?, ?it/s]"
      ]
     },
     "metadata": {},
     "output_type": "display_data"
    },
    {
     "data": {
      "application/vnd.jupyter.widget-view+json": {
       "model_id": "30c7d29f27ee4a718f29845fe0928810",
       "version_major": 2,
       "version_minor": 0
      },
      "text/plain": [
       "  0%|          | 0/1000 [00:00<?, ?it/s]"
      ]
     },
     "metadata": {},
     "output_type": "display_data"
    },
    {
     "data": {
      "application/vnd.jupyter.widget-view+json": {
       "model_id": "f7eeac0a5e4247c2b2e556d8fe5373eb",
       "version_major": 2,
       "version_minor": 0
      },
      "text/plain": [
       "  0%|          | 0/1000 [00:00<?, ?it/s]"
      ]
     },
     "metadata": {},
     "output_type": "display_data"
    },
    {
     "data": {
      "application/vnd.jupyter.widget-view+json": {
       "model_id": "520c90eec9544a1580b0e885d5061bc3",
       "version_major": 2,
       "version_minor": 0
      },
      "text/plain": [
       "  0%|          | 0/1000 [00:00<?, ?it/s]"
      ]
     },
     "metadata": {},
     "output_type": "display_data"
    },
    {
     "data": {
      "application/vnd.jupyter.widget-view+json": {
       "model_id": "7322e02028f84e319c11e562a2bb686b",
       "version_major": 2,
       "version_minor": 0
      },
      "text/plain": [
       "  0%|          | 0/1000 [00:00<?, ?it/s]"
      ]
     },
     "metadata": {},
     "output_type": "display_data"
    },
    {
     "data": {
      "application/vnd.jupyter.widget-view+json": {
       "model_id": "208a837cfd3a49c986e4bd3b3b28e834",
       "version_major": 2,
       "version_minor": 0
      },
      "text/plain": [
       "  0%|          | 0/1000 [00:00<?, ?it/s]"
      ]
     },
     "metadata": {},
     "output_type": "display_data"
    },
    {
     "data": {
      "application/vnd.jupyter.widget-view+json": {
       "model_id": "f3846c8903174d949dbd4386368c460f",
       "version_major": 2,
       "version_minor": 0
      },
      "text/plain": [
       "  0%|          | 0/1000 [00:00<?, ?it/s]"
      ]
     },
     "metadata": {},
     "output_type": "display_data"
    },
    {
     "data": {
      "application/vnd.jupyter.widget-view+json": {
       "model_id": "c39bca6719ec47e59e3cbf71abf3bf0c",
       "version_major": 2,
       "version_minor": 0
      },
      "text/plain": [
       "  0%|          | 0/1000 [00:00<?, ?it/s]"
      ]
     },
     "metadata": {},
     "output_type": "display_data"
    },
    {
     "data": {
      "application/vnd.jupyter.widget-view+json": {
       "model_id": "9f55a90bf55044079b4751ae7a2518c2",
       "version_major": 2,
       "version_minor": 0
      },
      "text/plain": [
       "  0%|          | 0/1000 [00:00<?, ?it/s]"
      ]
     },
     "metadata": {},
     "output_type": "display_data"
    },
    {
     "data": {
      "application/vnd.jupyter.widget-view+json": {
       "model_id": "b01b5e6ad33f43bfab4f2f94fff65b02",
       "version_major": 2,
       "version_minor": 0
      },
      "text/plain": [
       "  0%|          | 0/1000 [00:00<?, ?it/s]"
      ]
     },
     "metadata": {},
     "output_type": "display_data"
    },
    {
     "data": {
      "application/vnd.jupyter.widget-view+json": {
       "model_id": "ef095d5c2c95435885236fcf6e25608b",
       "version_major": 2,
       "version_minor": 0
      },
      "text/plain": [
       "  0%|          | 0/1000 [00:00<?, ?it/s]"
      ]
     },
     "metadata": {},
     "output_type": "display_data"
    },
    {
     "data": {
      "application/vnd.jupyter.widget-view+json": {
       "model_id": "80cb4c22de7c404f8f47411ed4c2d0b0",
       "version_major": 2,
       "version_minor": 0
      },
      "text/plain": [
       "  0%|          | 0/1000 [00:00<?, ?it/s]"
      ]
     },
     "metadata": {},
     "output_type": "display_data"
    },
    {
     "data": {
      "application/vnd.jupyter.widget-view+json": {
       "model_id": "ba06529568e149c8bda7f31093dba003",
       "version_major": 2,
       "version_minor": 0
      },
      "text/plain": [
       "  0%|          | 0/1000 [00:00<?, ?it/s]"
      ]
     },
     "metadata": {},
     "output_type": "display_data"
    },
    {
     "data": {
      "application/vnd.jupyter.widget-view+json": {
       "model_id": "1e2f743b6773453dbd71de3856ae591a",
       "version_major": 2,
       "version_minor": 0
      },
      "text/plain": [
       "  0%|          | 0/1000 [00:00<?, ?it/s]"
      ]
     },
     "metadata": {},
     "output_type": "display_data"
    },
    {
     "data": {
      "application/vnd.jupyter.widget-view+json": {
       "model_id": "5b29f8d210814151b2cb16840d54df95",
       "version_major": 2,
       "version_minor": 0
      },
      "text/plain": [
       "  0%|          | 0/1000 [00:00<?, ?it/s]"
      ]
     },
     "metadata": {},
     "output_type": "display_data"
    },
    {
     "data": {
      "application/vnd.jupyter.widget-view+json": {
       "model_id": "b702957f2391418092bf3607232858b7",
       "version_major": 2,
       "version_minor": 0
      },
      "text/plain": [
       "  0%|          | 0/1000 [00:00<?, ?it/s]"
      ]
     },
     "metadata": {},
     "output_type": "display_data"
    },
    {
     "data": {
      "application/vnd.jupyter.widget-view+json": {
       "model_id": "c8d05d7ac1594d8baba4fa9ba3c8b7d5",
       "version_major": 2,
       "version_minor": 0
      },
      "text/plain": [
       "  0%|          | 0/1000 [00:00<?, ?it/s]"
      ]
     },
     "metadata": {},
     "output_type": "display_data"
    },
    {
     "data": {
      "application/vnd.jupyter.widget-view+json": {
       "model_id": "d8d40a9cb24c480ead35448a39b1b0a9",
       "version_major": 2,
       "version_minor": 0
      },
      "text/plain": [
       "  0%|          | 0/1000 [00:00<?, ?it/s]"
      ]
     },
     "metadata": {},
     "output_type": "display_data"
    },
    {
     "data": {
      "application/vnd.jupyter.widget-view+json": {
       "model_id": "837b5d8286f24279a191ef7ce0221098",
       "version_major": 2,
       "version_minor": 0
      },
      "text/plain": [
       "  0%|          | 0/1000 [00:00<?, ?it/s]"
      ]
     },
     "metadata": {},
     "output_type": "display_data"
    },
    {
     "data": {
      "application/vnd.jupyter.widget-view+json": {
       "model_id": "09b72d2e6ff24670a7078d84d54c7e45",
       "version_major": 2,
       "version_minor": 0
      },
      "text/plain": [
       "  0%|          | 0/1000 [00:00<?, ?it/s]"
      ]
     },
     "metadata": {},
     "output_type": "display_data"
    },
    {
     "data": {
      "application/vnd.jupyter.widget-view+json": {
       "model_id": "8a77cf133ec043bba8697dd6a896121f",
       "version_major": 2,
       "version_minor": 0
      },
      "text/plain": [
       "  0%|          | 0/1000 [00:00<?, ?it/s]"
      ]
     },
     "metadata": {},
     "output_type": "display_data"
    },
    {
     "data": {
      "application/vnd.jupyter.widget-view+json": {
       "model_id": "2f74279114244472b8c7177aac8455f5",
       "version_major": 2,
       "version_minor": 0
      },
      "text/plain": [
       "  0%|          | 0/1000 [00:00<?, ?it/s]"
      ]
     },
     "metadata": {},
     "output_type": "display_data"
    },
    {
     "data": {
      "application/vnd.jupyter.widget-view+json": {
       "model_id": "fd0661b1057f4f68b669ff978f63be4b",
       "version_major": 2,
       "version_minor": 0
      },
      "text/plain": [
       "  0%|          | 0/1000 [00:00<?, ?it/s]"
      ]
     },
     "metadata": {},
     "output_type": "display_data"
    },
    {
     "data": {
      "application/vnd.jupyter.widget-view+json": {
       "model_id": "aa8b079863724fdebeddadcbce0bcd4a",
       "version_major": 2,
       "version_minor": 0
      },
      "text/plain": [
       "  0%|          | 0/1000 [00:00<?, ?it/s]"
      ]
     },
     "metadata": {},
     "output_type": "display_data"
    },
    {
     "data": {
      "application/vnd.jupyter.widget-view+json": {
       "model_id": "b1096918ba3a4e4593d05eadb632a2e2",
       "version_major": 2,
       "version_minor": 0
      },
      "text/plain": [
       "  0%|          | 0/1000 [00:00<?, ?it/s]"
      ]
     },
     "metadata": {},
     "output_type": "display_data"
    },
    {
     "data": {
      "application/vnd.jupyter.widget-view+json": {
       "model_id": "f34f199a58a040f0ae211a93d87f5833",
       "version_major": 2,
       "version_minor": 0
      },
      "text/plain": [
       "  0%|          | 0/1000 [00:00<?, ?it/s]"
      ]
     },
     "metadata": {},
     "output_type": "display_data"
    },
    {
     "data": {
      "application/vnd.jupyter.widget-view+json": {
       "model_id": "36d0bc9cfd184d4993c1e3390424c547",
       "version_major": 2,
       "version_minor": 0
      },
      "text/plain": [
       "  0%|          | 0/1000 [00:00<?, ?it/s]"
      ]
     },
     "metadata": {},
     "output_type": "display_data"
    },
    {
     "data": {
      "application/vnd.jupyter.widget-view+json": {
       "model_id": "3c47b2c543314f0fb91186aeb6307017",
       "version_major": 2,
       "version_minor": 0
      },
      "text/plain": [
       "  0%|          | 0/1000 [00:00<?, ?it/s]"
      ]
     },
     "metadata": {},
     "output_type": "display_data"
    },
    {
     "data": {
      "application/vnd.jupyter.widget-view+json": {
       "model_id": "e985ea74b36a47a0a4ba681cdb691001",
       "version_major": 2,
       "version_minor": 0
      },
      "text/plain": [
       "  0%|          | 0/1000 [00:00<?, ?it/s]"
      ]
     },
     "metadata": {},
     "output_type": "display_data"
    },
    {
     "data": {
      "application/vnd.jupyter.widget-view+json": {
       "model_id": "2aad65aff0c24df9824fb13c68f4deb6",
       "version_major": 2,
       "version_minor": 0
      },
      "text/plain": [
       "  0%|          | 0/1000 [00:00<?, ?it/s]"
      ]
     },
     "metadata": {},
     "output_type": "display_data"
    },
    {
     "data": {
      "application/vnd.jupyter.widget-view+json": {
       "model_id": "9de2b118582d4b96b366263d6efd19b5",
       "version_major": 2,
       "version_minor": 0
      },
      "text/plain": [
       "  0%|          | 0/1000 [00:00<?, ?it/s]"
      ]
     },
     "metadata": {},
     "output_type": "display_data"
    },
    {
     "data": {
      "application/vnd.jupyter.widget-view+json": {
       "model_id": "0d7293a70c384db5b048d8d06238ca9c",
       "version_major": 2,
       "version_minor": 0
      },
      "text/plain": [
       "  0%|          | 0/1000 [00:00<?, ?it/s]"
      ]
     },
     "metadata": {},
     "output_type": "display_data"
    },
    {
     "data": {
      "application/vnd.jupyter.widget-view+json": {
       "model_id": "aff4d07c7ece4487835eac382c99b52c",
       "version_major": 2,
       "version_minor": 0
      },
      "text/plain": [
       "  0%|          | 0/1000 [00:00<?, ?it/s]"
      ]
     },
     "metadata": {},
     "output_type": "display_data"
    },
    {
     "data": {
      "application/vnd.jupyter.widget-view+json": {
       "model_id": "f4c5b8320e254f77b7cf117e981ec28d",
       "version_major": 2,
       "version_minor": 0
      },
      "text/plain": [
       "  0%|          | 0/1000 [00:00<?, ?it/s]"
      ]
     },
     "metadata": {},
     "output_type": "display_data"
    },
    {
     "data": {
      "application/vnd.jupyter.widget-view+json": {
       "model_id": "a211367840b54f6588806a00171c1582",
       "version_major": 2,
       "version_minor": 0
      },
      "text/plain": [
       "  0%|          | 0/1000 [00:00<?, ?it/s]"
      ]
     },
     "metadata": {},
     "output_type": "display_data"
    },
    {
     "data": {
      "application/vnd.jupyter.widget-view+json": {
       "model_id": "cd5b326de96a45dcb49199748c80cde3",
       "version_major": 2,
       "version_minor": 0
      },
      "text/plain": [
       "  0%|          | 0/1000 [00:00<?, ?it/s]"
      ]
     },
     "metadata": {},
     "output_type": "display_data"
    },
    {
     "data": {
      "application/vnd.jupyter.widget-view+json": {
       "model_id": "c68a82ee500d44ecb06cece1026ee779",
       "version_major": 2,
       "version_minor": 0
      },
      "text/plain": [
       "  0%|          | 0/1000 [00:00<?, ?it/s]"
      ]
     },
     "metadata": {},
     "output_type": "display_data"
    },
    {
     "data": {
      "application/vnd.jupyter.widget-view+json": {
       "model_id": "548de99cbaa84a19bc7cb88d0192c807",
       "version_major": 2,
       "version_minor": 0
      },
      "text/plain": [
       "  0%|          | 0/1000 [00:00<?, ?it/s]"
      ]
     },
     "metadata": {},
     "output_type": "display_data"
    },
    {
     "data": {
      "application/vnd.jupyter.widget-view+json": {
       "model_id": "785c1ce3f88f44a4845a66332494d16f",
       "version_major": 2,
       "version_minor": 0
      },
      "text/plain": [
       "  0%|          | 0/1000 [00:00<?, ?it/s]"
      ]
     },
     "metadata": {},
     "output_type": "display_data"
    },
    {
     "data": {
      "application/vnd.jupyter.widget-view+json": {
       "model_id": "d9b38b8419c34db4901a859c0855ae95",
       "version_major": 2,
       "version_minor": 0
      },
      "text/plain": [
       "  0%|          | 0/1000 [00:00<?, ?it/s]"
      ]
     },
     "metadata": {},
     "output_type": "display_data"
    },
    {
     "data": {
      "application/vnd.jupyter.widget-view+json": {
       "model_id": "be3d5620e71d4b6bbd539f210933c3ea",
       "version_major": 2,
       "version_minor": 0
      },
      "text/plain": [
       "  0%|          | 0/1000 [00:00<?, ?it/s]"
      ]
     },
     "metadata": {},
     "output_type": "display_data"
    },
    {
     "data": {
      "application/vnd.jupyter.widget-view+json": {
       "model_id": "1ab24f8ee46645bf8089526e579140f7",
       "version_major": 2,
       "version_minor": 0
      },
      "text/plain": [
       "  0%|          | 0/1000 [00:00<?, ?it/s]"
      ]
     },
     "metadata": {},
     "output_type": "display_data"
    },
    {
     "data": {
      "application/vnd.jupyter.widget-view+json": {
       "model_id": "883f21d885644bd4b05250c27a96b4e6",
       "version_major": 2,
       "version_minor": 0
      },
      "text/plain": [
       "  0%|          | 0/1000 [00:00<?, ?it/s]"
      ]
     },
     "metadata": {},
     "output_type": "display_data"
    },
    {
     "data": {
      "application/vnd.jupyter.widget-view+json": {
       "model_id": "614eefad44404627b64ae97c2450cf0d",
       "version_major": 2,
       "version_minor": 0
      },
      "text/plain": [
       "  0%|          | 0/1000 [00:00<?, ?it/s]"
      ]
     },
     "metadata": {},
     "output_type": "display_data"
    },
    {
     "data": {
      "application/vnd.jupyter.widget-view+json": {
       "model_id": "2878c99648cf424c9368a78fc30b2f88",
       "version_major": 2,
       "version_minor": 0
      },
      "text/plain": [
       "  0%|          | 0/1000 [00:00<?, ?it/s]"
      ]
     },
     "metadata": {},
     "output_type": "display_data"
    },
    {
     "data": {
      "application/vnd.jupyter.widget-view+json": {
       "model_id": "b158995d52a146b2826d1459b49c66af",
       "version_major": 2,
       "version_minor": 0
      },
      "text/plain": [
       "  0%|          | 0/1000 [00:00<?, ?it/s]"
      ]
     },
     "metadata": {},
     "output_type": "display_data"
    },
    {
     "data": {
      "application/vnd.jupyter.widget-view+json": {
       "model_id": "02cf13d2b9214f83ab88bebe01501b3c",
       "version_major": 2,
       "version_minor": 0
      },
      "text/plain": [
       "  0%|          | 0/1000 [00:00<?, ?it/s]"
      ]
     },
     "metadata": {},
     "output_type": "display_data"
    },
    {
     "data": {
      "application/vnd.jupyter.widget-view+json": {
       "model_id": "1f2be06cddc741f8b14df3c3ec734b3f",
       "version_major": 2,
       "version_minor": 0
      },
      "text/plain": [
       "  0%|          | 0/1000 [00:00<?, ?it/s]"
      ]
     },
     "metadata": {},
     "output_type": "display_data"
    },
    {
     "data": {
      "application/vnd.jupyter.widget-view+json": {
       "model_id": "360bd51df758488f80fc51e748dbf5e6",
       "version_major": 2,
       "version_minor": 0
      },
      "text/plain": [
       "  0%|          | 0/1000 [00:00<?, ?it/s]"
      ]
     },
     "metadata": {},
     "output_type": "display_data"
    },
    {
     "data": {
      "application/vnd.jupyter.widget-view+json": {
       "model_id": "1676de5384dd44fbbcfe6e39843e0f17",
       "version_major": 2,
       "version_minor": 0
      },
      "text/plain": [
       "  0%|          | 0/1000 [00:00<?, ?it/s]"
      ]
     },
     "metadata": {},
     "output_type": "display_data"
    },
    {
     "data": {
      "application/vnd.jupyter.widget-view+json": {
       "model_id": "16f124d0f12e40939942bff3c79c18a8",
       "version_major": 2,
       "version_minor": 0
      },
      "text/plain": [
       "  0%|          | 0/1000 [00:00<?, ?it/s]"
      ]
     },
     "metadata": {},
     "output_type": "display_data"
    },
    {
     "data": {
      "application/vnd.jupyter.widget-view+json": {
       "model_id": "020e2cc29d6540289dc3c15d2d34aa43",
       "version_major": 2,
       "version_minor": 0
      },
      "text/plain": [
       "  0%|          | 0/1000 [00:00<?, ?it/s]"
      ]
     },
     "metadata": {},
     "output_type": "display_data"
    },
    {
     "data": {
      "application/vnd.jupyter.widget-view+json": {
       "model_id": "3426cfb0b8ce46fb8d0615d72c370950",
       "version_major": 2,
       "version_minor": 0
      },
      "text/plain": [
       "  0%|          | 0/1000 [00:00<?, ?it/s]"
      ]
     },
     "metadata": {},
     "output_type": "display_data"
    },
    {
     "data": {
      "application/vnd.jupyter.widget-view+json": {
       "model_id": "b817f10939d04add919471be5718eaa9",
       "version_major": 2,
       "version_minor": 0
      },
      "text/plain": [
       "  0%|          | 0/1000 [00:00<?, ?it/s]"
      ]
     },
     "metadata": {},
     "output_type": "display_data"
    },
    {
     "data": {
      "application/vnd.jupyter.widget-view+json": {
       "model_id": "abf0a7f3bbec45989b16f12ae6c53336",
       "version_major": 2,
       "version_minor": 0
      },
      "text/plain": [
       "  0%|          | 0/1000 [00:00<?, ?it/s]"
      ]
     },
     "metadata": {},
     "output_type": "display_data"
    },
    {
     "data": {
      "application/vnd.jupyter.widget-view+json": {
       "model_id": "b310958da4a841efbd089b95cadc1bd3",
       "version_major": 2,
       "version_minor": 0
      },
      "text/plain": [
       "  0%|          | 0/1000 [00:00<?, ?it/s]"
      ]
     },
     "metadata": {},
     "output_type": "display_data"
    },
    {
     "data": {
      "application/vnd.jupyter.widget-view+json": {
       "model_id": "ab163dc75404490b94f5852f7b11d046",
       "version_major": 2,
       "version_minor": 0
      },
      "text/plain": [
       "  0%|          | 0/1000 [00:00<?, ?it/s]"
      ]
     },
     "metadata": {},
     "output_type": "display_data"
    },
    {
     "data": {
      "application/vnd.jupyter.widget-view+json": {
       "model_id": "44ce08a21dcc4dbead2812929a5a1ed0",
       "version_major": 2,
       "version_minor": 0
      },
      "text/plain": [
       "  0%|          | 0/1000 [00:00<?, ?it/s]"
      ]
     },
     "metadata": {},
     "output_type": "display_data"
    },
    {
     "data": {
      "application/vnd.jupyter.widget-view+json": {
       "model_id": "6d9b6e3a25e64a51921c218e9fd9fcef",
       "version_major": 2,
       "version_minor": 0
      },
      "text/plain": [
       "  0%|          | 0/1000 [00:00<?, ?it/s]"
      ]
     },
     "metadata": {},
     "output_type": "display_data"
    },
    {
     "data": {
      "application/vnd.jupyter.widget-view+json": {
       "model_id": "764590c09dde4a7ebdad1181f846dfc8",
       "version_major": 2,
       "version_minor": 0
      },
      "text/plain": [
       "  0%|          | 0/1000 [00:00<?, ?it/s]"
      ]
     },
     "metadata": {},
     "output_type": "display_data"
    },
    {
     "data": {
      "application/vnd.jupyter.widget-view+json": {
       "model_id": "6821927cf5b64860ad09f855776719fc",
       "version_major": 2,
       "version_minor": 0
      },
      "text/plain": [
       "  0%|          | 0/1000 [00:00<?, ?it/s]"
      ]
     },
     "metadata": {},
     "output_type": "display_data"
    },
    {
     "data": {
      "application/vnd.jupyter.widget-view+json": {
       "model_id": "4e42354079cb497d94616ccb91b5145f",
       "version_major": 2,
       "version_minor": 0
      },
      "text/plain": [
       "  0%|          | 0/1000 [00:00<?, ?it/s]"
      ]
     },
     "metadata": {},
     "output_type": "display_data"
    },
    {
     "data": {
      "application/vnd.jupyter.widget-view+json": {
       "model_id": "16e86db8dd1b43819b4a0394f63b5f10",
       "version_major": 2,
       "version_minor": 0
      },
      "text/plain": [
       "  0%|          | 0/1000 [00:00<?, ?it/s]"
      ]
     },
     "metadata": {},
     "output_type": "display_data"
    },
    {
     "data": {
      "application/vnd.jupyter.widget-view+json": {
       "model_id": "ee8bc34c8b594e018e3ee445f0a385c9",
       "version_major": 2,
       "version_minor": 0
      },
      "text/plain": [
       "  0%|          | 0/1000 [00:00<?, ?it/s]"
      ]
     },
     "metadata": {},
     "output_type": "display_data"
    },
    {
     "data": {
      "application/vnd.jupyter.widget-view+json": {
       "model_id": "b889b4ac77284d9e807f901a4467050c",
       "version_major": 2,
       "version_minor": 0
      },
      "text/plain": [
       "  0%|          | 0/1000 [00:00<?, ?it/s]"
      ]
     },
     "metadata": {},
     "output_type": "display_data"
    },
    {
     "data": {
      "application/vnd.jupyter.widget-view+json": {
       "model_id": "f7dff2b98e5e421091b6f124ccedf029",
       "version_major": 2,
       "version_minor": 0
      },
      "text/plain": [
       "  0%|          | 0/1000 [00:00<?, ?it/s]"
      ]
     },
     "metadata": {},
     "output_type": "display_data"
    },
    {
     "data": {
      "application/vnd.jupyter.widget-view+json": {
       "model_id": "7befd40b03ea4ff58bfc424dc6d88a3b",
       "version_major": 2,
       "version_minor": 0
      },
      "text/plain": [
       "  0%|          | 0/1000 [00:00<?, ?it/s]"
      ]
     },
     "metadata": {},
     "output_type": "display_data"
    },
    {
     "data": {
      "application/vnd.jupyter.widget-view+json": {
       "model_id": "a5320b19c5e84cd3a7461b4ea02b574a",
       "version_major": 2,
       "version_minor": 0
      },
      "text/plain": [
       "  0%|          | 0/1000 [00:00<?, ?it/s]"
      ]
     },
     "metadata": {},
     "output_type": "display_data"
    },
    {
     "data": {
      "application/vnd.jupyter.widget-view+json": {
       "model_id": "9bb286eaec4449b5a7619a28fa6457ed",
       "version_major": 2,
       "version_minor": 0
      },
      "text/plain": [
       "  0%|          | 0/1000 [00:00<?, ?it/s]"
      ]
     },
     "metadata": {},
     "output_type": "display_data"
    },
    {
     "data": {
      "application/vnd.jupyter.widget-view+json": {
       "model_id": "ca0148665a6e4b2f994d273770b353f3",
       "version_major": 2,
       "version_minor": 0
      },
      "text/plain": [
       "  0%|          | 0/1000 [00:00<?, ?it/s]"
      ]
     },
     "metadata": {},
     "output_type": "display_data"
    },
    {
     "data": {
      "application/vnd.jupyter.widget-view+json": {
       "model_id": "2650756539e94a13868998da34eb66c5",
       "version_major": 2,
       "version_minor": 0
      },
      "text/plain": [
       "  0%|          | 0/1000 [00:00<?, ?it/s]"
      ]
     },
     "metadata": {},
     "output_type": "display_data"
    },
    {
     "data": {
      "application/vnd.jupyter.widget-view+json": {
       "model_id": "b14fbf28ec544168b2146bc7861cd8b8",
       "version_major": 2,
       "version_minor": 0
      },
      "text/plain": [
       "  0%|          | 0/1000 [00:00<?, ?it/s]"
      ]
     },
     "metadata": {},
     "output_type": "display_data"
    },
    {
     "data": {
      "application/vnd.jupyter.widget-view+json": {
       "model_id": "20584c2afee34691a8607502493fa35d",
       "version_major": 2,
       "version_minor": 0
      },
      "text/plain": [
       "  0%|          | 0/1000 [00:00<?, ?it/s]"
      ]
     },
     "metadata": {},
     "output_type": "display_data"
    },
    {
     "data": {
      "application/vnd.jupyter.widget-view+json": {
       "model_id": "90ca0f68c91748b8bcbc45ff24e44a74",
       "version_major": 2,
       "version_minor": 0
      },
      "text/plain": [
       "  0%|          | 0/1000 [00:00<?, ?it/s]"
      ]
     },
     "metadata": {},
     "output_type": "display_data"
    },
    {
     "data": {
      "application/vnd.jupyter.widget-view+json": {
       "model_id": "178ab95905e84ff48b6b046f2276b8d5",
       "version_major": 2,
       "version_minor": 0
      },
      "text/plain": [
       "  0%|          | 0/1000 [00:00<?, ?it/s]"
      ]
     },
     "metadata": {},
     "output_type": "display_data"
    },
    {
     "data": {
      "application/vnd.jupyter.widget-view+json": {
       "model_id": "557ae2a89bf847a8b10c7c4bd29fc706",
       "version_major": 2,
       "version_minor": 0
      },
      "text/plain": [
       "  0%|          | 0/1000 [00:00<?, ?it/s]"
      ]
     },
     "metadata": {},
     "output_type": "display_data"
    },
    {
     "data": {
      "application/vnd.jupyter.widget-view+json": {
       "model_id": "c8a1a780041a48a5b432ea756b5b9b62",
       "version_major": 2,
       "version_minor": 0
      },
      "text/plain": [
       "  0%|          | 0/1000 [00:00<?, ?it/s]"
      ]
     },
     "metadata": {},
     "output_type": "display_data"
    },
    {
     "data": {
      "application/vnd.jupyter.widget-view+json": {
       "model_id": "e9e12b7bbd8048b39e52e5a343e9e004",
       "version_major": 2,
       "version_minor": 0
      },
      "text/plain": [
       "  0%|          | 0/1000 [00:00<?, ?it/s]"
      ]
     },
     "metadata": {},
     "output_type": "display_data"
    },
    {
     "data": {
      "application/vnd.jupyter.widget-view+json": {
       "model_id": "8e57ad6ce2f74f8389bf4e85317cf3c8",
       "version_major": 2,
       "version_minor": 0
      },
      "text/plain": [
       "  0%|          | 0/1000 [00:00<?, ?it/s]"
      ]
     },
     "metadata": {},
     "output_type": "display_data"
    },
    {
     "data": {
      "application/vnd.jupyter.widget-view+json": {
       "model_id": "8de74132dfa14be199848400eb115fdd",
       "version_major": 2,
       "version_minor": 0
      },
      "text/plain": [
       "  0%|          | 0/1000 [00:00<?, ?it/s]"
      ]
     },
     "metadata": {},
     "output_type": "display_data"
    },
    {
     "data": {
      "application/vnd.jupyter.widget-view+json": {
       "model_id": "41faeb345db04794a12f4c45084d1215",
       "version_major": 2,
       "version_minor": 0
      },
      "text/plain": [
       "  0%|          | 0/1000 [00:00<?, ?it/s]"
      ]
     },
     "metadata": {},
     "output_type": "display_data"
    },
    {
     "data": {
      "application/vnd.jupyter.widget-view+json": {
       "model_id": "3ab182813688466993d6e3d6d7e48664",
       "version_major": 2,
       "version_minor": 0
      },
      "text/plain": [
       "  0%|          | 0/1000 [00:00<?, ?it/s]"
      ]
     },
     "metadata": {},
     "output_type": "display_data"
    },
    {
     "data": {
      "application/vnd.jupyter.widget-view+json": {
       "model_id": "11e026b0c2924e36848e6fbe44e598cc",
       "version_major": 2,
       "version_minor": 0
      },
      "text/plain": [
       "  0%|          | 0/1000 [00:00<?, ?it/s]"
      ]
     },
     "metadata": {},
     "output_type": "display_data"
    },
    {
     "data": {
      "application/vnd.jupyter.widget-view+json": {
       "model_id": "34635c60c2ba459aaf87ef524db00a2d",
       "version_major": 2,
       "version_minor": 0
      },
      "text/plain": [
       "  0%|          | 0/1000 [00:00<?, ?it/s]"
      ]
     },
     "metadata": {},
     "output_type": "display_data"
    },
    {
     "data": {
      "application/vnd.jupyter.widget-view+json": {
       "model_id": "5e4d24680f704164bb08f86babf9ea41",
       "version_major": 2,
       "version_minor": 0
      },
      "text/plain": [
       "  0%|          | 0/1000 [00:00<?, ?it/s]"
      ]
     },
     "metadata": {},
     "output_type": "display_data"
    },
    {
     "data": {
      "application/vnd.jupyter.widget-view+json": {
       "model_id": "8ccfeeae89314688a332b0472e2a6994",
       "version_major": 2,
       "version_minor": 0
      },
      "text/plain": [
       "  0%|          | 0/1000 [00:00<?, ?it/s]"
      ]
     },
     "metadata": {},
     "output_type": "display_data"
    },
    {
     "data": {
      "application/vnd.jupyter.widget-view+json": {
       "model_id": "b07676c2049c42a7a4a2c9498a0c0eed",
       "version_major": 2,
       "version_minor": 0
      },
      "text/plain": [
       "  0%|          | 0/1000 [00:00<?, ?it/s]"
      ]
     },
     "metadata": {},
     "output_type": "display_data"
    },
    {
     "data": {
      "application/vnd.jupyter.widget-view+json": {
       "model_id": "e7aec27ead7d43d0813d91c54674fc0a",
       "version_major": 2,
       "version_minor": 0
      },
      "text/plain": [
       "  0%|          | 0/1000 [00:00<?, ?it/s]"
      ]
     },
     "metadata": {},
     "output_type": "display_data"
    },
    {
     "data": {
      "application/vnd.jupyter.widget-view+json": {
       "model_id": "68b791508e5a415d8dd74caa3557209c",
       "version_major": 2,
       "version_minor": 0
      },
      "text/plain": [
       "  0%|          | 0/1000 [00:00<?, ?it/s]"
      ]
     },
     "metadata": {},
     "output_type": "display_data"
    },
    {
     "data": {
      "application/vnd.jupyter.widget-view+json": {
       "model_id": "7c049e4a7c514395a31726a1429d51a3",
       "version_major": 2,
       "version_minor": 0
      },
      "text/plain": [
       "  0%|          | 0/1000 [00:00<?, ?it/s]"
      ]
     },
     "metadata": {},
     "output_type": "display_data"
    },
    {
     "data": {
      "application/vnd.jupyter.widget-view+json": {
       "model_id": "52da9954eb9c49cb9aea7527909d5929",
       "version_major": 2,
       "version_minor": 0
      },
      "text/plain": [
       "  0%|          | 0/1000 [00:00<?, ?it/s]"
      ]
     },
     "metadata": {},
     "output_type": "display_data"
    },
    {
     "data": {
      "application/vnd.jupyter.widget-view+json": {
       "model_id": "476300b0191247b1a9f95a74286c98af",
       "version_major": 2,
       "version_minor": 0
      },
      "text/plain": [
       "  0%|          | 0/1000 [00:00<?, ?it/s]"
      ]
     },
     "metadata": {},
     "output_type": "display_data"
    },
    {
     "data": {
      "application/vnd.jupyter.widget-view+json": {
       "model_id": "39c8eddc12c845b4a82d7fb10bcd29d3",
       "version_major": 2,
       "version_minor": 0
      },
      "text/plain": [
       "  0%|          | 0/1000 [00:00<?, ?it/s]"
      ]
     },
     "metadata": {},
     "output_type": "display_data"
    },
    {
     "data": {
      "application/vnd.jupyter.widget-view+json": {
       "model_id": "45521a21e29e465abe510270138f54ab",
       "version_major": 2,
       "version_minor": 0
      },
      "text/plain": [
       "  0%|          | 0/1000 [00:00<?, ?it/s]"
      ]
     },
     "metadata": {},
     "output_type": "display_data"
    },
    {
     "data": {
      "application/vnd.jupyter.widget-view+json": {
       "model_id": "bd3385492b164e0c906461302bdadaf2",
       "version_major": 2,
       "version_minor": 0
      },
      "text/plain": [
       "  0%|          | 0/1000 [00:00<?, ?it/s]"
      ]
     },
     "metadata": {},
     "output_type": "display_data"
    },
    {
     "data": {
      "application/vnd.jupyter.widget-view+json": {
       "model_id": "6154ada622ec4c4aa5f8ffcf3c2c6440",
       "version_major": 2,
       "version_minor": 0
      },
      "text/plain": [
       "  0%|          | 0/1000 [00:00<?, ?it/s]"
      ]
     },
     "metadata": {},
     "output_type": "display_data"
    },
    {
     "data": {
      "application/vnd.jupyter.widget-view+json": {
       "model_id": "6576c757af284f2e9a1c067ab8fd64d7",
       "version_major": 2,
       "version_minor": 0
      },
      "text/plain": [
       "  0%|          | 0/1000 [00:00<?, ?it/s]"
      ]
     },
     "metadata": {},
     "output_type": "display_data"
    },
    {
     "data": {
      "application/vnd.jupyter.widget-view+json": {
       "model_id": "da29746d6b164576823db63388068de3",
       "version_major": 2,
       "version_minor": 0
      },
      "text/plain": [
       "  0%|          | 0/1000 [00:00<?, ?it/s]"
      ]
     },
     "metadata": {},
     "output_type": "display_data"
    },
    {
     "data": {
      "application/vnd.jupyter.widget-view+json": {
       "model_id": "9ed83fcc94424f179e6a17e1eaa5d00e",
       "version_major": 2,
       "version_minor": 0
      },
      "text/plain": [
       "  0%|          | 0/1000 [00:00<?, ?it/s]"
      ]
     },
     "metadata": {},
     "output_type": "display_data"
    },
    {
     "data": {
      "application/vnd.jupyter.widget-view+json": {
       "model_id": "3a08f755e414403d9946e03075102f35",
       "version_major": 2,
       "version_minor": 0
      },
      "text/plain": [
       "  0%|          | 0/1000 [00:00<?, ?it/s]"
      ]
     },
     "metadata": {},
     "output_type": "display_data"
    },
    {
     "data": {
      "application/vnd.jupyter.widget-view+json": {
       "model_id": "a6f25c7ac6074dca96198b39842fdd65",
       "version_major": 2,
       "version_minor": 0
      },
      "text/plain": [
       "  0%|          | 0/1000 [00:00<?, ?it/s]"
      ]
     },
     "metadata": {},
     "output_type": "display_data"
    },
    {
     "data": {
      "application/vnd.jupyter.widget-view+json": {
       "model_id": "0955e777f1734a7f83fa547cd7ce7815",
       "version_major": 2,
       "version_minor": 0
      },
      "text/plain": [
       "  0%|          | 0/1000 [00:00<?, ?it/s]"
      ]
     },
     "metadata": {},
     "output_type": "display_data"
    },
    {
     "data": {
      "application/vnd.jupyter.widget-view+json": {
       "model_id": "ef1682e7181a4dc1864d33e2dfdef1b5",
       "version_major": 2,
       "version_minor": 0
      },
      "text/plain": [
       "  0%|          | 0/1000 [00:00<?, ?it/s]"
      ]
     },
     "metadata": {},
     "output_type": "display_data"
    },
    {
     "data": {
      "application/vnd.jupyter.widget-view+json": {
       "model_id": "5d1c561535db40f59895c8ad2668d2f5",
       "version_major": 2,
       "version_minor": 0
      },
      "text/plain": [
       "  0%|          | 0/1000 [00:00<?, ?it/s]"
      ]
     },
     "metadata": {},
     "output_type": "display_data"
    },
    {
     "data": {
      "application/vnd.jupyter.widget-view+json": {
       "model_id": "57fa8bad255e49b6b4ddd03873f0bce3",
       "version_major": 2,
       "version_minor": 0
      },
      "text/plain": [
       "  0%|          | 0/1000 [00:00<?, ?it/s]"
      ]
     },
     "metadata": {},
     "output_type": "display_data"
    },
    {
     "data": {
      "application/vnd.jupyter.widget-view+json": {
       "model_id": "34f18f8268e94f45ab73fca33b3d8383",
       "version_major": 2,
       "version_minor": 0
      },
      "text/plain": [
       "  0%|          | 0/1000 [00:00<?, ?it/s]"
      ]
     },
     "metadata": {},
     "output_type": "display_data"
    },
    {
     "data": {
      "application/vnd.jupyter.widget-view+json": {
       "model_id": "f62b9af323b14c2bad93a6c61b9b01cc",
       "version_major": 2,
       "version_minor": 0
      },
      "text/plain": [
       "  0%|          | 0/1000 [00:00<?, ?it/s]"
      ]
     },
     "metadata": {},
     "output_type": "display_data"
    },
    {
     "data": {
      "application/vnd.jupyter.widget-view+json": {
       "model_id": "402f84b0081f450eb30d0d9a6ae08ed7",
       "version_major": 2,
       "version_minor": 0
      },
      "text/plain": [
       "  0%|          | 0/1000 [00:00<?, ?it/s]"
      ]
     },
     "metadata": {},
     "output_type": "display_data"
    },
    {
     "data": {
      "application/vnd.jupyter.widget-view+json": {
       "model_id": "e7b09dd5de2740308746b80e8f2da878",
       "version_major": 2,
       "version_minor": 0
      },
      "text/plain": [
       "  0%|          | 0/1000 [00:00<?, ?it/s]"
      ]
     },
     "metadata": {},
     "output_type": "display_data"
    },
    {
     "data": {
      "application/vnd.jupyter.widget-view+json": {
       "model_id": "1f07b5c5d18e4b32b4b664e47c2c6558",
       "version_major": 2,
       "version_minor": 0
      },
      "text/plain": [
       "  0%|          | 0/1000 [00:00<?, ?it/s]"
      ]
     },
     "metadata": {},
     "output_type": "display_data"
    },
    {
     "data": {
      "application/vnd.jupyter.widget-view+json": {
       "model_id": "3b5fcf43d55946fcab3cda1f6babb725",
       "version_major": 2,
       "version_minor": 0
      },
      "text/plain": [
       "  0%|          | 0/1000 [00:00<?, ?it/s]"
      ]
     },
     "metadata": {},
     "output_type": "display_data"
    },
    {
     "data": {
      "application/vnd.jupyter.widget-view+json": {
       "model_id": "2423201cab4940bd9d74997201d62180",
       "version_major": 2,
       "version_minor": 0
      },
      "text/plain": [
       "  0%|          | 0/1000 [00:00<?, ?it/s]"
      ]
     },
     "metadata": {},
     "output_type": "display_data"
    },
    {
     "data": {
      "application/vnd.jupyter.widget-view+json": {
       "model_id": "d786ebbbd80d4b318da17eed723798ce",
       "version_major": 2,
       "version_minor": 0
      },
      "text/plain": [
       "  0%|          | 0/1000 [00:00<?, ?it/s]"
      ]
     },
     "metadata": {},
     "output_type": "display_data"
    },
    {
     "data": {
      "application/vnd.jupyter.widget-view+json": {
       "model_id": "0d84d4eb32ff44f395912b47a990db2b",
       "version_major": 2,
       "version_minor": 0
      },
      "text/plain": [
       "  0%|          | 0/1000 [00:00<?, ?it/s]"
      ]
     },
     "metadata": {},
     "output_type": "display_data"
    },
    {
     "data": {
      "application/vnd.jupyter.widget-view+json": {
       "model_id": "aa486710fb83434e95fc22630016aad4",
       "version_major": 2,
       "version_minor": 0
      },
      "text/plain": [
       "  0%|          | 0/1000 [00:00<?, ?it/s]"
      ]
     },
     "metadata": {},
     "output_type": "display_data"
    },
    {
     "data": {
      "application/vnd.jupyter.widget-view+json": {
       "model_id": "2d916dc9ad5a4ca881f5e5652b37c5a9",
       "version_major": 2,
       "version_minor": 0
      },
      "text/plain": [
       "  0%|          | 0/1000 [00:00<?, ?it/s]"
      ]
     },
     "metadata": {},
     "output_type": "display_data"
    },
    {
     "data": {
      "application/vnd.jupyter.widget-view+json": {
       "model_id": "ca15f93b8758432080e0a409a9514915",
       "version_major": 2,
       "version_minor": 0
      },
      "text/plain": [
       "  0%|          | 0/1000 [00:00<?, ?it/s]"
      ]
     },
     "metadata": {},
     "output_type": "display_data"
    },
    {
     "data": {
      "application/vnd.jupyter.widget-view+json": {
       "model_id": "352b9eeee4164f89966eec2d14f67da9",
       "version_major": 2,
       "version_minor": 0
      },
      "text/plain": [
       "  0%|          | 0/1000 [00:00<?, ?it/s]"
      ]
     },
     "metadata": {},
     "output_type": "display_data"
    },
    {
     "data": {
      "application/vnd.jupyter.widget-view+json": {
       "model_id": "922237a68b1b4bfd92442319d39f5d90",
       "version_major": 2,
       "version_minor": 0
      },
      "text/plain": [
       "  0%|          | 0/1000 [00:00<?, ?it/s]"
      ]
     },
     "metadata": {},
     "output_type": "display_data"
    },
    {
     "data": {
      "application/vnd.jupyter.widget-view+json": {
       "model_id": "3dd84be7290744cc88a62286681320a0",
       "version_major": 2,
       "version_minor": 0
      },
      "text/plain": [
       "  0%|          | 0/1000 [00:00<?, ?it/s]"
      ]
     },
     "metadata": {},
     "output_type": "display_data"
    },
    {
     "data": {
      "application/vnd.jupyter.widget-view+json": {
       "model_id": "3cf357787a944213a070bb7b4e3e7099",
       "version_major": 2,
       "version_minor": 0
      },
      "text/plain": [
       "  0%|          | 0/1000 [00:00<?, ?it/s]"
      ]
     },
     "metadata": {},
     "output_type": "display_data"
    },
    {
     "data": {
      "application/vnd.jupyter.widget-view+json": {
       "model_id": "8929b1640fcb4bd983df3c7bd736a6e2",
       "version_major": 2,
       "version_minor": 0
      },
      "text/plain": [
       "  0%|          | 0/1000 [00:00<?, ?it/s]"
      ]
     },
     "metadata": {},
     "output_type": "display_data"
    },
    {
     "data": {
      "application/vnd.jupyter.widget-view+json": {
       "model_id": "c2249a6041644a868e1ca2ba4d3d150d",
       "version_major": 2,
       "version_minor": 0
      },
      "text/plain": [
       "  0%|          | 0/1000 [00:00<?, ?it/s]"
      ]
     },
     "metadata": {},
     "output_type": "display_data"
    },
    {
     "data": {
      "application/vnd.jupyter.widget-view+json": {
       "model_id": "ae22f05e771448c88b5f5e072f9b6c79",
       "version_major": 2,
       "version_minor": 0
      },
      "text/plain": [
       "  0%|          | 0/1000 [00:00<?, ?it/s]"
      ]
     },
     "metadata": {},
     "output_type": "display_data"
    },
    {
     "data": {
      "application/vnd.jupyter.widget-view+json": {
       "model_id": "9a668fa183274de183ec437a85ca3389",
       "version_major": 2,
       "version_minor": 0
      },
      "text/plain": [
       "  0%|          | 0/1000 [00:00<?, ?it/s]"
      ]
     },
     "metadata": {},
     "output_type": "display_data"
    },
    {
     "data": {
      "application/vnd.jupyter.widget-view+json": {
       "model_id": "a5768e9dd236455c9a5954fd3872b821",
       "version_major": 2,
       "version_minor": 0
      },
      "text/plain": [
       "  0%|          | 0/1000 [00:00<?, ?it/s]"
      ]
     },
     "metadata": {},
     "output_type": "display_data"
    },
    {
     "data": {
      "application/vnd.jupyter.widget-view+json": {
       "model_id": "4dd2e33be6be442a9d0c89aba544b377",
       "version_major": 2,
       "version_minor": 0
      },
      "text/plain": [
       "  0%|          | 0/1000 [00:00<?, ?it/s]"
      ]
     },
     "metadata": {},
     "output_type": "display_data"
    },
    {
     "data": {
      "application/vnd.jupyter.widget-view+json": {
       "model_id": "51d76aa6a0dc4b6e8371973cd3836096",
       "version_major": 2,
       "version_minor": 0
      },
      "text/plain": [
       "  0%|          | 0/1000 [00:00<?, ?it/s]"
      ]
     },
     "metadata": {},
     "output_type": "display_data"
    },
    {
     "data": {
      "application/vnd.jupyter.widget-view+json": {
       "model_id": "90614866fc5049fa99e0c9bb282884b5",
       "version_major": 2,
       "version_minor": 0
      },
      "text/plain": [
       "  0%|          | 0/1000 [00:00<?, ?it/s]"
      ]
     },
     "metadata": {},
     "output_type": "display_data"
    },
    {
     "data": {
      "application/vnd.jupyter.widget-view+json": {
       "model_id": "925a2d6ed755418da22ebf8c34d4c8ee",
       "version_major": 2,
       "version_minor": 0
      },
      "text/plain": [
       "  0%|          | 0/1000 [00:00<?, ?it/s]"
      ]
     },
     "metadata": {},
     "output_type": "display_data"
    },
    {
     "data": {
      "application/vnd.jupyter.widget-view+json": {
       "model_id": "f02e7775b73342688505240c04de9f6a",
       "version_major": 2,
       "version_minor": 0
      },
      "text/plain": [
       "  0%|          | 0/1000 [00:00<?, ?it/s]"
      ]
     },
     "metadata": {},
     "output_type": "display_data"
    },
    {
     "data": {
      "application/vnd.jupyter.widget-view+json": {
       "model_id": "8d0e0ab5f8ec43d19bc51620aa28fd3c",
       "version_major": 2,
       "version_minor": 0
      },
      "text/plain": [
       "  0%|          | 0/1000 [00:00<?, ?it/s]"
      ]
     },
     "metadata": {},
     "output_type": "display_data"
    },
    {
     "data": {
      "application/vnd.jupyter.widget-view+json": {
       "model_id": "d73a745fd7e14cdfb8e2aaa4afecd49f",
       "version_major": 2,
       "version_minor": 0
      },
      "text/plain": [
       "  0%|          | 0/1000 [00:00<?, ?it/s]"
      ]
     },
     "metadata": {},
     "output_type": "display_data"
    },
    {
     "data": {
      "application/vnd.jupyter.widget-view+json": {
       "model_id": "4599e5c2a85d48e49f8bcaee99422976",
       "version_major": 2,
       "version_minor": 0
      },
      "text/plain": [
       "  0%|          | 0/1000 [00:00<?, ?it/s]"
      ]
     },
     "metadata": {},
     "output_type": "display_data"
    },
    {
     "data": {
      "application/vnd.jupyter.widget-view+json": {
       "model_id": "edfe6aa6a6fe4ab2b69bed1481cd09ab",
       "version_major": 2,
       "version_minor": 0
      },
      "text/plain": [
       "  0%|          | 0/1000 [00:00<?, ?it/s]"
      ]
     },
     "metadata": {},
     "output_type": "display_data"
    },
    {
     "data": {
      "application/vnd.jupyter.widget-view+json": {
       "model_id": "76e3b938215f4d79b8bdf326c06f53b7",
       "version_major": 2,
       "version_minor": 0
      },
      "text/plain": [
       "  0%|          | 0/1000 [00:00<?, ?it/s]"
      ]
     },
     "metadata": {},
     "output_type": "display_data"
    },
    {
     "data": {
      "application/vnd.jupyter.widget-view+json": {
       "model_id": "35bb0dfcf5d94053b24a5ea55491e2a0",
       "version_major": 2,
       "version_minor": 0
      },
      "text/plain": [
       "  0%|          | 0/1000 [00:00<?, ?it/s]"
      ]
     },
     "metadata": {},
     "output_type": "display_data"
    },
    {
     "data": {
      "application/vnd.jupyter.widget-view+json": {
       "model_id": "f13f885818764096839c76c9006f9afb",
       "version_major": 2,
       "version_minor": 0
      },
      "text/plain": [
       "  0%|          | 0/1000 [00:00<?, ?it/s]"
      ]
     },
     "metadata": {},
     "output_type": "display_data"
    },
    {
     "data": {
      "application/vnd.jupyter.widget-view+json": {
       "model_id": "517280fb3d1d429d81fd7ca2d3d65568",
       "version_major": 2,
       "version_minor": 0
      },
      "text/plain": [
       "  0%|          | 0/1000 [00:00<?, ?it/s]"
      ]
     },
     "metadata": {},
     "output_type": "display_data"
    },
    {
     "data": {
      "application/vnd.jupyter.widget-view+json": {
       "model_id": "1726afa9388f42fe970e6d6e095e7645",
       "version_major": 2,
       "version_minor": 0
      },
      "text/plain": [
       "  0%|          | 0/1000 [00:00<?, ?it/s]"
      ]
     },
     "metadata": {},
     "output_type": "display_data"
    },
    {
     "data": {
      "application/vnd.jupyter.widget-view+json": {
       "model_id": "371f6fb066de4efc90009569aaa9c92a",
       "version_major": 2,
       "version_minor": 0
      },
      "text/plain": [
       "  0%|          | 0/1000 [00:00<?, ?it/s]"
      ]
     },
     "metadata": {},
     "output_type": "display_data"
    },
    {
     "data": {
      "application/vnd.jupyter.widget-view+json": {
       "model_id": "374ed0ebccbf4b2282382331bc2b8b29",
       "version_major": 2,
       "version_minor": 0
      },
      "text/plain": [
       "  0%|          | 0/1000 [00:00<?, ?it/s]"
      ]
     },
     "metadata": {},
     "output_type": "display_data"
    },
    {
     "data": {
      "application/vnd.jupyter.widget-view+json": {
       "model_id": "891bd2bc677548b580c8dbbe45599503",
       "version_major": 2,
       "version_minor": 0
      },
      "text/plain": [
       "  0%|          | 0/1000 [00:00<?, ?it/s]"
      ]
     },
     "metadata": {},
     "output_type": "display_data"
    },
    {
     "data": {
      "application/vnd.jupyter.widget-view+json": {
       "model_id": "eeb8604c302344c0b9653d5b21ed358b",
       "version_major": 2,
       "version_minor": 0
      },
      "text/plain": [
       "  0%|          | 0/1000 [00:00<?, ?it/s]"
      ]
     },
     "metadata": {},
     "output_type": "display_data"
    },
    {
     "data": {
      "application/vnd.jupyter.widget-view+json": {
       "model_id": "a9e0f828cc9549c3a698d5314df23ef4",
       "version_major": 2,
       "version_minor": 0
      },
      "text/plain": [
       "  0%|          | 0/1000 [00:00<?, ?it/s]"
      ]
     },
     "metadata": {},
     "output_type": "display_data"
    },
    {
     "data": {
      "application/vnd.jupyter.widget-view+json": {
       "model_id": "f104570a825743aab8a6712fab082808",
       "version_major": 2,
       "version_minor": 0
      },
      "text/plain": [
       "  0%|          | 0/1000 [00:00<?, ?it/s]"
      ]
     },
     "metadata": {},
     "output_type": "display_data"
    },
    {
     "data": {
      "application/vnd.jupyter.widget-view+json": {
       "model_id": "b4d356d267ff4bb89cd2b9fbf1b0e2ce",
       "version_major": 2,
       "version_minor": 0
      },
      "text/plain": [
       "  0%|          | 0/1000 [00:00<?, ?it/s]"
      ]
     },
     "metadata": {},
     "output_type": "display_data"
    },
    {
     "data": {
      "application/vnd.jupyter.widget-view+json": {
       "model_id": "71b7281e2897418daa636f522e9c4e53",
       "version_major": 2,
       "version_minor": 0
      },
      "text/plain": [
       "  0%|          | 0/1000 [00:00<?, ?it/s]"
      ]
     },
     "metadata": {},
     "output_type": "display_data"
    },
    {
     "data": {
      "application/vnd.jupyter.widget-view+json": {
       "model_id": "34fe7483a6b847a1bdbf56d89d32f2b2",
       "version_major": 2,
       "version_minor": 0
      },
      "text/plain": [
       "  0%|          | 0/1000 [00:00<?, ?it/s]"
      ]
     },
     "metadata": {},
     "output_type": "display_data"
    },
    {
     "data": {
      "application/vnd.jupyter.widget-view+json": {
       "model_id": "a11f1ecf17da43f9b673f76024b4dea8",
       "version_major": 2,
       "version_minor": 0
      },
      "text/plain": [
       "  0%|          | 0/1000 [00:00<?, ?it/s]"
      ]
     },
     "metadata": {},
     "output_type": "display_data"
    },
    {
     "data": {
      "application/vnd.jupyter.widget-view+json": {
       "model_id": "28fd15dd81e04fdea0608a67b213b9eb",
       "version_major": 2,
       "version_minor": 0
      },
      "text/plain": [
       "  0%|          | 0/1000 [00:00<?, ?it/s]"
      ]
     },
     "metadata": {},
     "output_type": "display_data"
    },
    {
     "data": {
      "application/vnd.jupyter.widget-view+json": {
       "model_id": "6b39f8cbe7044e1baa51181f98269616",
       "version_major": 2,
       "version_minor": 0
      },
      "text/plain": [
       "  0%|          | 0/1000 [00:00<?, ?it/s]"
      ]
     },
     "metadata": {},
     "output_type": "display_data"
    },
    {
     "data": {
      "application/vnd.jupyter.widget-view+json": {
       "model_id": "7728ce0f23f9412c995733210bbf19b4",
       "version_major": 2,
       "version_minor": 0
      },
      "text/plain": [
       "  0%|          | 0/1000 [00:00<?, ?it/s]"
      ]
     },
     "metadata": {},
     "output_type": "display_data"
    },
    {
     "data": {
      "application/vnd.jupyter.widget-view+json": {
       "model_id": "cfb2b57a22524d5eb0e8cdeb70d6235f",
       "version_major": 2,
       "version_minor": 0
      },
      "text/plain": [
       "  0%|          | 0/1000 [00:00<?, ?it/s]"
      ]
     },
     "metadata": {},
     "output_type": "display_data"
    },
    {
     "data": {
      "application/vnd.jupyter.widget-view+json": {
       "model_id": "8d9514e59c1e495db82df1ae029ce91f",
       "version_major": 2,
       "version_minor": 0
      },
      "text/plain": [
       "  0%|          | 0/1000 [00:00<?, ?it/s]"
      ]
     },
     "metadata": {},
     "output_type": "display_data"
    },
    {
     "data": {
      "application/vnd.jupyter.widget-view+json": {
       "model_id": "20dda556137647559a09699a60202641",
       "version_major": 2,
       "version_minor": 0
      },
      "text/plain": [
       "  0%|          | 0/1000 [00:00<?, ?it/s]"
      ]
     },
     "metadata": {},
     "output_type": "display_data"
    },
    {
     "data": {
      "application/vnd.jupyter.widget-view+json": {
       "model_id": "ee48305e761a4be4a02d582ca5f298f9",
       "version_major": 2,
       "version_minor": 0
      },
      "text/plain": [
       "  0%|          | 0/1000 [00:00<?, ?it/s]"
      ]
     },
     "metadata": {},
     "output_type": "display_data"
    },
    {
     "data": {
      "application/vnd.jupyter.widget-view+json": {
       "model_id": "cde41b9a8257451fb0500e2624a1abc0",
       "version_major": 2,
       "version_minor": 0
      },
      "text/plain": [
       "  0%|          | 0/1000 [00:00<?, ?it/s]"
      ]
     },
     "metadata": {},
     "output_type": "display_data"
    },
    {
     "data": {
      "application/vnd.jupyter.widget-view+json": {
       "model_id": "212f4005a86044238035e547082625dc",
       "version_major": 2,
       "version_minor": 0
      },
      "text/plain": [
       "  0%|          | 0/1000 [00:00<?, ?it/s]"
      ]
     },
     "metadata": {},
     "output_type": "display_data"
    },
    {
     "data": {
      "application/vnd.jupyter.widget-view+json": {
       "model_id": "f877a90695c54e74b7546b988467e85c",
       "version_major": 2,
       "version_minor": 0
      },
      "text/plain": [
       "  0%|          | 0/1000 [00:00<?, ?it/s]"
      ]
     },
     "metadata": {},
     "output_type": "display_data"
    },
    {
     "data": {
      "application/vnd.jupyter.widget-view+json": {
       "model_id": "9f9d47ef4cd842fe8366acf59abfed27",
       "version_major": 2,
       "version_minor": 0
      },
      "text/plain": [
       "  0%|          | 0/1000 [00:00<?, ?it/s]"
      ]
     },
     "metadata": {},
     "output_type": "display_data"
    },
    {
     "data": {
      "application/vnd.jupyter.widget-view+json": {
       "model_id": "5143a7be8e8c4c5b94736d3787f30e28",
       "version_major": 2,
       "version_minor": 0
      },
      "text/plain": [
       "  0%|          | 0/1000 [00:00<?, ?it/s]"
      ]
     },
     "metadata": {},
     "output_type": "display_data"
    },
    {
     "data": {
      "application/vnd.jupyter.widget-view+json": {
       "model_id": "91a257ca5c65472baf635698590f5e00",
       "version_major": 2,
       "version_minor": 0
      },
      "text/plain": [
       "  0%|          | 0/1000 [00:00<?, ?it/s]"
      ]
     },
     "metadata": {},
     "output_type": "display_data"
    },
    {
     "data": {
      "application/vnd.jupyter.widget-view+json": {
       "model_id": "cd4a067a178f467a8dd646cad6b26fd4",
       "version_major": 2,
       "version_minor": 0
      },
      "text/plain": [
       "  0%|          | 0/1000 [00:00<?, ?it/s]"
      ]
     },
     "metadata": {},
     "output_type": "display_data"
    },
    {
     "data": {
      "application/vnd.jupyter.widget-view+json": {
       "model_id": "e4756369dc9e4fb7b55543bb6ee4e74c",
       "version_major": 2,
       "version_minor": 0
      },
      "text/plain": [
       "  0%|          | 0/1000 [00:00<?, ?it/s]"
      ]
     },
     "metadata": {},
     "output_type": "display_data"
    },
    {
     "data": {
      "application/vnd.jupyter.widget-view+json": {
       "model_id": "ab138b58b7d74675bd69affd11ff0d80",
       "version_major": 2,
       "version_minor": 0
      },
      "text/plain": [
       "  0%|          | 0/1000 [00:00<?, ?it/s]"
      ]
     },
     "metadata": {},
     "output_type": "display_data"
    },
    {
     "data": {
      "application/vnd.jupyter.widget-view+json": {
       "model_id": "051ab4ada3e14076951d35e077cc81f1",
       "version_major": 2,
       "version_minor": 0
      },
      "text/plain": [
       "  0%|          | 0/1000 [00:00<?, ?it/s]"
      ]
     },
     "metadata": {},
     "output_type": "display_data"
    },
    {
     "data": {
      "application/vnd.jupyter.widget-view+json": {
       "model_id": "8472141ef9ec4530bc2d3b07708dd829",
       "version_major": 2,
       "version_minor": 0
      },
      "text/plain": [
       "  0%|          | 0/1000 [00:00<?, ?it/s]"
      ]
     },
     "metadata": {},
     "output_type": "display_data"
    },
    {
     "data": {
      "application/vnd.jupyter.widget-view+json": {
       "model_id": "61f116245aea4d5eac22aa7b4a9b1929",
       "version_major": 2,
       "version_minor": 0
      },
      "text/plain": [
       "  0%|          | 0/1000 [00:00<?, ?it/s]"
      ]
     },
     "metadata": {},
     "output_type": "display_data"
    },
    {
     "data": {
      "application/vnd.jupyter.widget-view+json": {
       "model_id": "91897c85871d4d3eb957ea454944967c",
       "version_major": 2,
       "version_minor": 0
      },
      "text/plain": [
       "  0%|          | 0/1000 [00:00<?, ?it/s]"
      ]
     },
     "metadata": {},
     "output_type": "display_data"
    },
    {
     "data": {
      "application/vnd.jupyter.widget-view+json": {
       "model_id": "bfafbc5caefe406895adce80b4cc121d",
       "version_major": 2,
       "version_minor": 0
      },
      "text/plain": [
       "  0%|          | 0/1000 [00:00<?, ?it/s]"
      ]
     },
     "metadata": {},
     "output_type": "display_data"
    },
    {
     "data": {
      "application/vnd.jupyter.widget-view+json": {
       "model_id": "4ac7d33963b34476ac14d564b3d4a41c",
       "version_major": 2,
       "version_minor": 0
      },
      "text/plain": [
       "  0%|          | 0/1000 [00:00<?, ?it/s]"
      ]
     },
     "metadata": {},
     "output_type": "display_data"
    },
    {
     "data": {
      "application/vnd.jupyter.widget-view+json": {
       "model_id": "3ed2f768c2f543ab808993518dc58958",
       "version_major": 2,
       "version_minor": 0
      },
      "text/plain": [
       "  0%|          | 0/1000 [00:00<?, ?it/s]"
      ]
     },
     "metadata": {},
     "output_type": "display_data"
    },
    {
     "data": {
      "application/vnd.jupyter.widget-view+json": {
       "model_id": "a55a546ac2604ac1a7415168865a5229",
       "version_major": 2,
       "version_minor": 0
      },
      "text/plain": [
       "  0%|          | 0/1000 [00:00<?, ?it/s]"
      ]
     },
     "metadata": {},
     "output_type": "display_data"
    },
    {
     "data": {
      "application/vnd.jupyter.widget-view+json": {
       "model_id": "d03fdc461638457b8e023f049ea214a5",
       "version_major": 2,
       "version_minor": 0
      },
      "text/plain": [
       "  0%|          | 0/1000 [00:00<?, ?it/s]"
      ]
     },
     "metadata": {},
     "output_type": "display_data"
    },
    {
     "data": {
      "application/vnd.jupyter.widget-view+json": {
       "model_id": "7b9798de74a64f84b80c1421e4e20b7c",
       "version_major": 2,
       "version_minor": 0
      },
      "text/plain": [
       "  0%|          | 0/1000 [00:00<?, ?it/s]"
      ]
     },
     "metadata": {},
     "output_type": "display_data"
    },
    {
     "data": {
      "application/vnd.jupyter.widget-view+json": {
       "model_id": "e266d2bb426f486b8ce8aa24755435a5",
       "version_major": 2,
       "version_minor": 0
      },
      "text/plain": [
       "  0%|          | 0/1000 [00:00<?, ?it/s]"
      ]
     },
     "metadata": {},
     "output_type": "display_data"
    },
    {
     "data": {
      "application/vnd.jupyter.widget-view+json": {
       "model_id": "efe9ba1e3fc341bdb07d30cf8e07a7d3",
       "version_major": 2,
       "version_minor": 0
      },
      "text/plain": [
       "  0%|          | 0/1000 [00:00<?, ?it/s]"
      ]
     },
     "metadata": {},
     "output_type": "display_data"
    },
    {
     "data": {
      "application/vnd.jupyter.widget-view+json": {
       "model_id": "b383a9ae6a634066b646c9688042c10f",
       "version_major": 2,
       "version_minor": 0
      },
      "text/plain": [
       "  0%|          | 0/1000 [00:00<?, ?it/s]"
      ]
     },
     "metadata": {},
     "output_type": "display_data"
    },
    {
     "data": {
      "application/vnd.jupyter.widget-view+json": {
       "model_id": "460d8ee8d4e94c0fba64b2ed8aef345f",
       "version_major": 2,
       "version_minor": 0
      },
      "text/plain": [
       "  0%|          | 0/1000 [00:00<?, ?it/s]"
      ]
     },
     "metadata": {},
     "output_type": "display_data"
    },
    {
     "data": {
      "application/vnd.jupyter.widget-view+json": {
       "model_id": "65d04c32b9c14bf98c3e1680c9ca5245",
       "version_major": 2,
       "version_minor": 0
      },
      "text/plain": [
       "  0%|          | 0/1000 [00:00<?, ?it/s]"
      ]
     },
     "metadata": {},
     "output_type": "display_data"
    },
    {
     "data": {
      "application/vnd.jupyter.widget-view+json": {
       "model_id": "da51f47064844e579ff544a63bb2cac6",
       "version_major": 2,
       "version_minor": 0
      },
      "text/plain": [
       "  0%|          | 0/1000 [00:00<?, ?it/s]"
      ]
     },
     "metadata": {},
     "output_type": "display_data"
    },
    {
     "data": {
      "application/vnd.jupyter.widget-view+json": {
       "model_id": "b86621598f7d459bb0fc8f4263f61fd1",
       "version_major": 2,
       "version_minor": 0
      },
      "text/plain": [
       "  0%|          | 0/1000 [00:00<?, ?it/s]"
      ]
     },
     "metadata": {},
     "output_type": "display_data"
    },
    {
     "data": {
      "application/vnd.jupyter.widget-view+json": {
       "model_id": "3bd9c79762544772adbfa29b745cc24e",
       "version_major": 2,
       "version_minor": 0
      },
      "text/plain": [
       "  0%|          | 0/1000 [00:00<?, ?it/s]"
      ]
     },
     "metadata": {},
     "output_type": "display_data"
    },
    {
     "data": {
      "application/vnd.jupyter.widget-view+json": {
       "model_id": "df3f7334a7f9493db7362de87b679cd6",
       "version_major": 2,
       "version_minor": 0
      },
      "text/plain": [
       "  0%|          | 0/1000 [00:00<?, ?it/s]"
      ]
     },
     "metadata": {},
     "output_type": "display_data"
    },
    {
     "data": {
      "application/vnd.jupyter.widget-view+json": {
       "model_id": "923e729cca65498385c459b9b9ac5400",
       "version_major": 2,
       "version_minor": 0
      },
      "text/plain": [
       "  0%|          | 0/1000 [00:00<?, ?it/s]"
      ]
     },
     "metadata": {},
     "output_type": "display_data"
    },
    {
     "data": {
      "application/vnd.jupyter.widget-view+json": {
       "model_id": "d24c90ae134d4da9bf37858c791c24d6",
       "version_major": 2,
       "version_minor": 0
      },
      "text/plain": [
       "  0%|          | 0/1000 [00:00<?, ?it/s]"
      ]
     },
     "metadata": {},
     "output_type": "display_data"
    },
    {
     "data": {
      "application/vnd.jupyter.widget-view+json": {
       "model_id": "2af065d3cf8b44a783b4bef9f9884a87",
       "version_major": 2,
       "version_minor": 0
      },
      "text/plain": [
       "  0%|          | 0/1000 [00:00<?, ?it/s]"
      ]
     },
     "metadata": {},
     "output_type": "display_data"
    },
    {
     "data": {
      "application/vnd.jupyter.widget-view+json": {
       "model_id": "af74ee71b80c406481eda0f988b9f853",
       "version_major": 2,
       "version_minor": 0
      },
      "text/plain": [
       "  0%|          | 0/1000 [00:00<?, ?it/s]"
      ]
     },
     "metadata": {},
     "output_type": "display_data"
    },
    {
     "data": {
      "application/vnd.jupyter.widget-view+json": {
       "model_id": "70df34bb577241d3b4578b02f3c1cfa7",
       "version_major": 2,
       "version_minor": 0
      },
      "text/plain": [
       "  0%|          | 0/1000 [00:00<?, ?it/s]"
      ]
     },
     "metadata": {},
     "output_type": "display_data"
    },
    {
     "data": {
      "application/vnd.jupyter.widget-view+json": {
       "model_id": "828cffe3fb09447eac100af89cfe1476",
       "version_major": 2,
       "version_minor": 0
      },
      "text/plain": [
       "  0%|          | 0/1000 [00:00<?, ?it/s]"
      ]
     },
     "metadata": {},
     "output_type": "display_data"
    },
    {
     "data": {
      "application/vnd.jupyter.widget-view+json": {
       "model_id": "8a981d437e98476daea79838fdfb148a",
       "version_major": 2,
       "version_minor": 0
      },
      "text/plain": [
       "  0%|          | 0/1000 [00:00<?, ?it/s]"
      ]
     },
     "metadata": {},
     "output_type": "display_data"
    },
    {
     "data": {
      "application/vnd.jupyter.widget-view+json": {
       "model_id": "e849ea0c7902495cbee9eac23d01cca8",
       "version_major": 2,
       "version_minor": 0
      },
      "text/plain": [
       "  0%|          | 0/1000 [00:00<?, ?it/s]"
      ]
     },
     "metadata": {},
     "output_type": "display_data"
    },
    {
     "data": {
      "application/vnd.jupyter.widget-view+json": {
       "model_id": "37d4fbccbb0740db882b9d592d462dfd",
       "version_major": 2,
       "version_minor": 0
      },
      "text/plain": [
       "  0%|          | 0/1000 [00:00<?, ?it/s]"
      ]
     },
     "metadata": {},
     "output_type": "display_data"
    },
    {
     "data": {
      "application/vnd.jupyter.widget-view+json": {
       "model_id": "c6b58f9218954931a123bf974a2fa349",
       "version_major": 2,
       "version_minor": 0
      },
      "text/plain": [
       "  0%|          | 0/1000 [00:00<?, ?it/s]"
      ]
     },
     "metadata": {},
     "output_type": "display_data"
    },
    {
     "data": {
      "application/vnd.jupyter.widget-view+json": {
       "model_id": "6b81cd5af91f4134abf0f4ec4ffc1462",
       "version_major": 2,
       "version_minor": 0
      },
      "text/plain": [
       "  0%|          | 0/1000 [00:00<?, ?it/s]"
      ]
     },
     "metadata": {},
     "output_type": "display_data"
    },
    {
     "data": {
      "application/vnd.jupyter.widget-view+json": {
       "model_id": "8a8cc35b4a234b7b8c872a11c6709728",
       "version_major": 2,
       "version_minor": 0
      },
      "text/plain": [
       "  0%|          | 0/1000 [00:00<?, ?it/s]"
      ]
     },
     "metadata": {},
     "output_type": "display_data"
    },
    {
     "data": {
      "application/vnd.jupyter.widget-view+json": {
       "model_id": "d4de655814ae41c18ab40d58788dc6a8",
       "version_major": 2,
       "version_minor": 0
      },
      "text/plain": [
       "  0%|          | 0/1000 [00:00<?, ?it/s]"
      ]
     },
     "metadata": {},
     "output_type": "display_data"
    },
    {
     "data": {
      "application/vnd.jupyter.widget-view+json": {
       "model_id": "49788a9f3cd443b5913fa7f1d2e251dd",
       "version_major": 2,
       "version_minor": 0
      },
      "text/plain": [
       "  0%|          | 0/1000 [00:00<?, ?it/s]"
      ]
     },
     "metadata": {},
     "output_type": "display_data"
    },
    {
     "data": {
      "application/vnd.jupyter.widget-view+json": {
       "model_id": "14e9376405b74968827c7a2e57d36e37",
       "version_major": 2,
       "version_minor": 0
      },
      "text/plain": [
       "  0%|          | 0/1000 [00:00<?, ?it/s]"
      ]
     },
     "metadata": {},
     "output_type": "display_data"
    },
    {
     "data": {
      "application/vnd.jupyter.widget-view+json": {
       "model_id": "2e41113e49344b7dbf85beb01f6224fa",
       "version_major": 2,
       "version_minor": 0
      },
      "text/plain": [
       "  0%|          | 0/1000 [00:00<?, ?it/s]"
      ]
     },
     "metadata": {},
     "output_type": "display_data"
    },
    {
     "data": {
      "application/vnd.jupyter.widget-view+json": {
       "model_id": "442f768bc08d43cdbf3d6b4981feef6b",
       "version_major": 2,
       "version_minor": 0
      },
      "text/plain": [
       "  0%|          | 0/1000 [00:00<?, ?it/s]"
      ]
     },
     "metadata": {},
     "output_type": "display_data"
    },
    {
     "data": {
      "application/vnd.jupyter.widget-view+json": {
       "model_id": "8e3b73fabdbf44639de9e1775b42facd",
       "version_major": 2,
       "version_minor": 0
      },
      "text/plain": [
       "  0%|          | 0/1000 [00:00<?, ?it/s]"
      ]
     },
     "metadata": {},
     "output_type": "display_data"
    },
    {
     "data": {
      "application/vnd.jupyter.widget-view+json": {
       "model_id": "c63a7fbc9fc541bdba2daf924f9e9315",
       "version_major": 2,
       "version_minor": 0
      },
      "text/plain": [
       "  0%|          | 0/1000 [00:00<?, ?it/s]"
      ]
     },
     "metadata": {},
     "output_type": "display_data"
    },
    {
     "data": {
      "application/vnd.jupyter.widget-view+json": {
       "model_id": "282f89cfbdf349d2af8847b8850abdc6",
       "version_major": 2,
       "version_minor": 0
      },
      "text/plain": [
       "  0%|          | 0/1000 [00:00<?, ?it/s]"
      ]
     },
     "metadata": {},
     "output_type": "display_data"
    },
    {
     "data": {
      "application/vnd.jupyter.widget-view+json": {
       "model_id": "161c342491b04d0f97ef7b5849c00eaa",
       "version_major": 2,
       "version_minor": 0
      },
      "text/plain": [
       "  0%|          | 0/1000 [00:00<?, ?it/s]"
      ]
     },
     "metadata": {},
     "output_type": "display_data"
    },
    {
     "data": {
      "application/vnd.jupyter.widget-view+json": {
       "model_id": "9b4c5d440dc1467d90a8b81a5ed01af4",
       "version_major": 2,
       "version_minor": 0
      },
      "text/plain": [
       "  0%|          | 0/1000 [00:00<?, ?it/s]"
      ]
     },
     "metadata": {},
     "output_type": "display_data"
    },
    {
     "data": {
      "application/vnd.jupyter.widget-view+json": {
       "model_id": "cae466207ef34f0896a4ba10b85911e1",
       "version_major": 2,
       "version_minor": 0
      },
      "text/plain": [
       "  0%|          | 0/1000 [00:00<?, ?it/s]"
      ]
     },
     "metadata": {},
     "output_type": "display_data"
    },
    {
     "data": {
      "application/vnd.jupyter.widget-view+json": {
       "model_id": "92bbe14209c4442ba4f21656e3bdd9ba",
       "version_major": 2,
       "version_minor": 0
      },
      "text/plain": [
       "  0%|          | 0/1000 [00:00<?, ?it/s]"
      ]
     },
     "metadata": {},
     "output_type": "display_data"
    },
    {
     "data": {
      "application/vnd.jupyter.widget-view+json": {
       "model_id": "23c6e9c8906943428cf3906a42c11bd8",
       "version_major": 2,
       "version_minor": 0
      },
      "text/plain": [
       "  0%|          | 0/1000 [00:00<?, ?it/s]"
      ]
     },
     "metadata": {},
     "output_type": "display_data"
    },
    {
     "data": {
      "application/vnd.jupyter.widget-view+json": {
       "model_id": "ed4ce183ef81471ab38db25b971ea90c",
       "version_major": 2,
       "version_minor": 0
      },
      "text/plain": [
       "  0%|          | 0/1000 [00:00<?, ?it/s]"
      ]
     },
     "metadata": {},
     "output_type": "display_data"
    },
    {
     "data": {
      "application/vnd.jupyter.widget-view+json": {
       "model_id": "da9996b1112d4fd693f904b7675d1a4d",
       "version_major": 2,
       "version_minor": 0
      },
      "text/plain": [
       "  0%|          | 0/1000 [00:00<?, ?it/s]"
      ]
     },
     "metadata": {},
     "output_type": "display_data"
    },
    {
     "data": {
      "application/vnd.jupyter.widget-view+json": {
       "model_id": "9da6e66440cf4768b83ca240ce04c131",
       "version_major": 2,
       "version_minor": 0
      },
      "text/plain": [
       "  0%|          | 0/1000 [00:00<?, ?it/s]"
      ]
     },
     "metadata": {},
     "output_type": "display_data"
    },
    {
     "data": {
      "application/vnd.jupyter.widget-view+json": {
       "model_id": "03bd0766801c4a5196bae249b1b1296f",
       "version_major": 2,
       "version_minor": 0
      },
      "text/plain": [
       "  0%|          | 0/1000 [00:00<?, ?it/s]"
      ]
     },
     "metadata": {},
     "output_type": "display_data"
    },
    {
     "data": {
      "application/vnd.jupyter.widget-view+json": {
       "model_id": "f51b778253f447d38ed8b0e5b0ed1dee",
       "version_major": 2,
       "version_minor": 0
      },
      "text/plain": [
       "  0%|          | 0/1000 [00:00<?, ?it/s]"
      ]
     },
     "metadata": {},
     "output_type": "display_data"
    },
    {
     "data": {
      "application/vnd.jupyter.widget-view+json": {
       "model_id": "05db1cf86d484aabbe8ac42b70db7f7a",
       "version_major": 2,
       "version_minor": 0
      },
      "text/plain": [
       "  0%|          | 0/1000 [00:00<?, ?it/s]"
      ]
     },
     "metadata": {},
     "output_type": "display_data"
    },
    {
     "data": {
      "application/vnd.jupyter.widget-view+json": {
       "model_id": "37b02efc8c6e44bab0d58555b2a16cad",
       "version_major": 2,
       "version_minor": 0
      },
      "text/plain": [
       "  0%|          | 0/1000 [00:00<?, ?it/s]"
      ]
     },
     "metadata": {},
     "output_type": "display_data"
    },
    {
     "data": {
      "application/vnd.jupyter.widget-view+json": {
       "model_id": "766c042b3d29445c9d27749742d7383f",
       "version_major": 2,
       "version_minor": 0
      },
      "text/plain": [
       "  0%|          | 0/1000 [00:00<?, ?it/s]"
      ]
     },
     "metadata": {},
     "output_type": "display_data"
    },
    {
     "data": {
      "application/vnd.jupyter.widget-view+json": {
       "model_id": "d5df1ab54ac0427989cb7b4368c4ecbc",
       "version_major": 2,
       "version_minor": 0
      },
      "text/plain": [
       "  0%|          | 0/1000 [00:00<?, ?it/s]"
      ]
     },
     "metadata": {},
     "output_type": "display_data"
    },
    {
     "data": {
      "application/vnd.jupyter.widget-view+json": {
       "model_id": "3ef6b95d55844e70a289cfd08440dc81",
       "version_major": 2,
       "version_minor": 0
      },
      "text/plain": [
       "  0%|          | 0/1000 [00:00<?, ?it/s]"
      ]
     },
     "metadata": {},
     "output_type": "display_data"
    },
    {
     "data": {
      "application/vnd.jupyter.widget-view+json": {
       "model_id": "4807a419e86c4b44be36002f0ef00c6e",
       "version_major": 2,
       "version_minor": 0
      },
      "text/plain": [
       "  0%|          | 0/1000 [00:00<?, ?it/s]"
      ]
     },
     "metadata": {},
     "output_type": "display_data"
    },
    {
     "data": {
      "application/vnd.jupyter.widget-view+json": {
       "model_id": "422bf7fe7f664fc8ba2a5eadb92a4ec8",
       "version_major": 2,
       "version_minor": 0
      },
      "text/plain": [
       "  0%|          | 0/1000 [00:00<?, ?it/s]"
      ]
     },
     "metadata": {},
     "output_type": "display_data"
    },
    {
     "data": {
      "application/vnd.jupyter.widget-view+json": {
       "model_id": "805ea054814e49928572439da79ef0b8",
       "version_major": 2,
       "version_minor": 0
      },
      "text/plain": [
       "  0%|          | 0/1000 [00:00<?, ?it/s]"
      ]
     },
     "metadata": {},
     "output_type": "display_data"
    },
    {
     "data": {
      "application/vnd.jupyter.widget-view+json": {
       "model_id": "a886018f2a114b71ad6e0dfb4aca540a",
       "version_major": 2,
       "version_minor": 0
      },
      "text/plain": [
       "  0%|          | 0/1000 [00:00<?, ?it/s]"
      ]
     },
     "metadata": {},
     "output_type": "display_data"
    },
    {
     "data": {
      "application/vnd.jupyter.widget-view+json": {
       "model_id": "1829021dfd2c410588e90a21b60fc3f1",
       "version_major": 2,
       "version_minor": 0
      },
      "text/plain": [
       "  0%|          | 0/1000 [00:00<?, ?it/s]"
      ]
     },
     "metadata": {},
     "output_type": "display_data"
    },
    {
     "data": {
      "application/vnd.jupyter.widget-view+json": {
       "model_id": "b0bd0a906c9d4650a6971c09eae7bdd5",
       "version_major": 2,
       "version_minor": 0
      },
      "text/plain": [
       "  0%|          | 0/1000 [00:00<?, ?it/s]"
      ]
     },
     "metadata": {},
     "output_type": "display_data"
    },
    {
     "data": {
      "application/vnd.jupyter.widget-view+json": {
       "model_id": "a74ffaed525540c3a71fc00bbfc2be05",
       "version_major": 2,
       "version_minor": 0
      },
      "text/plain": [
       "  0%|          | 0/1000 [00:00<?, ?it/s]"
      ]
     },
     "metadata": {},
     "output_type": "display_data"
    },
    {
     "data": {
      "application/vnd.jupyter.widget-view+json": {
       "model_id": "e65dfc0cc0b34d2999b67f7347024c37",
       "version_major": 2,
       "version_minor": 0
      },
      "text/plain": [
       "  0%|          | 0/1000 [00:00<?, ?it/s]"
      ]
     },
     "metadata": {},
     "output_type": "display_data"
    },
    {
     "data": {
      "application/vnd.jupyter.widget-view+json": {
       "model_id": "cafd3b5cac384210bc851496e18c36e5",
       "version_major": 2,
       "version_minor": 0
      },
      "text/plain": [
       "  0%|          | 0/1000 [00:00<?, ?it/s]"
      ]
     },
     "metadata": {},
     "output_type": "display_data"
    },
    {
     "data": {
      "application/vnd.jupyter.widget-view+json": {
       "model_id": "366ac27d18be4d6f8e49693e4f88ad44",
       "version_major": 2,
       "version_minor": 0
      },
      "text/plain": [
       "  0%|          | 0/1000 [00:00<?, ?it/s]"
      ]
     },
     "metadata": {},
     "output_type": "display_data"
    },
    {
     "data": {
      "application/vnd.jupyter.widget-view+json": {
       "model_id": "78fe099039fa4626a02afdc3ac878b4d",
       "version_major": 2,
       "version_minor": 0
      },
      "text/plain": [
       "  0%|          | 0/1000 [00:00<?, ?it/s]"
      ]
     },
     "metadata": {},
     "output_type": "display_data"
    },
    {
     "data": {
      "application/vnd.jupyter.widget-view+json": {
       "model_id": "2a2fd8de42a0482fa8c08751f96e2fc9",
       "version_major": 2,
       "version_minor": 0
      },
      "text/plain": [
       "  0%|          | 0/1000 [00:00<?, ?it/s]"
      ]
     },
     "metadata": {},
     "output_type": "display_data"
    },
    {
     "data": {
      "application/vnd.jupyter.widget-view+json": {
       "model_id": "5fa2672a65804bc1992f665b871e1d18",
       "version_major": 2,
       "version_minor": 0
      },
      "text/plain": [
       "  0%|          | 0/1000 [00:00<?, ?it/s]"
      ]
     },
     "metadata": {},
     "output_type": "display_data"
    },
    {
     "data": {
      "application/vnd.jupyter.widget-view+json": {
       "model_id": "dc9c821d6c1341c488e8b0b5c0b95004",
       "version_major": 2,
       "version_minor": 0
      },
      "text/plain": [
       "  0%|          | 0/1000 [00:00<?, ?it/s]"
      ]
     },
     "metadata": {},
     "output_type": "display_data"
    },
    {
     "data": {
      "application/vnd.jupyter.widget-view+json": {
       "model_id": "f9f773196277495c90cb72a6d8a09951",
       "version_major": 2,
       "version_minor": 0
      },
      "text/plain": [
       "  0%|          | 0/1000 [00:00<?, ?it/s]"
      ]
     },
     "metadata": {},
     "output_type": "display_data"
    },
    {
     "data": {
      "application/vnd.jupyter.widget-view+json": {
       "model_id": "6f1f6f1dfd344beb8e4b9677e641a208",
       "version_major": 2,
       "version_minor": 0
      },
      "text/plain": [
       "  0%|          | 0/1000 [00:00<?, ?it/s]"
      ]
     },
     "metadata": {},
     "output_type": "display_data"
    },
    {
     "data": {
      "application/vnd.jupyter.widget-view+json": {
       "model_id": "692d8ab4919f432295f4e9bc49c287d6",
       "version_major": 2,
       "version_minor": 0
      },
      "text/plain": [
       "  0%|          | 0/1000 [00:00<?, ?it/s]"
      ]
     },
     "metadata": {},
     "output_type": "display_data"
    },
    {
     "data": {
      "application/vnd.jupyter.widget-view+json": {
       "model_id": "b3e67c80f7214eeeaa0f113d342e18a2",
       "version_major": 2,
       "version_minor": 0
      },
      "text/plain": [
       "  0%|          | 0/1000 [00:00<?, ?it/s]"
      ]
     },
     "metadata": {},
     "output_type": "display_data"
    },
    {
     "data": {
      "application/vnd.jupyter.widget-view+json": {
       "model_id": "625c56e713dd4986aabe1a2e7ed2e5c4",
       "version_major": 2,
       "version_minor": 0
      },
      "text/plain": [
       "  0%|          | 0/1000 [00:00<?, ?it/s]"
      ]
     },
     "metadata": {},
     "output_type": "display_data"
    },
    {
     "data": {
      "application/vnd.jupyter.widget-view+json": {
       "model_id": "e7ab3ee5d1a64f87b3b90c38b12ec79d",
       "version_major": 2,
       "version_minor": 0
      },
      "text/plain": [
       "  0%|          | 0/1000 [00:00<?, ?it/s]"
      ]
     },
     "metadata": {},
     "output_type": "display_data"
    },
    {
     "data": {
      "application/vnd.jupyter.widget-view+json": {
       "model_id": "a70ec365f34a448c8c34aefe07e0daa1",
       "version_major": 2,
       "version_minor": 0
      },
      "text/plain": [
       "  0%|          | 0/1000 [00:00<?, ?it/s]"
      ]
     },
     "metadata": {},
     "output_type": "display_data"
    },
    {
     "data": {
      "application/vnd.jupyter.widget-view+json": {
       "model_id": "99699cd6a89d45d387083bb87b726882",
       "version_major": 2,
       "version_minor": 0
      },
      "text/plain": [
       "  0%|          | 0/1000 [00:00<?, ?it/s]"
      ]
     },
     "metadata": {},
     "output_type": "display_data"
    },
    {
     "data": {
      "application/vnd.jupyter.widget-view+json": {
       "model_id": "55029017f4434c2090ad7a086d4cc9ca",
       "version_major": 2,
       "version_minor": 0
      },
      "text/plain": [
       "  0%|          | 0/1000 [00:00<?, ?it/s]"
      ]
     },
     "metadata": {},
     "output_type": "display_data"
    },
    {
     "data": {
      "application/vnd.jupyter.widget-view+json": {
       "model_id": "d48d67bc295c41e3b5e9f4f140ba7f60",
       "version_major": 2,
       "version_minor": 0
      },
      "text/plain": [
       "  0%|          | 0/1000 [00:00<?, ?it/s]"
      ]
     },
     "metadata": {},
     "output_type": "display_data"
    },
    {
     "data": {
      "application/vnd.jupyter.widget-view+json": {
       "model_id": "c1844728bae64b3686064a0454edfd32",
       "version_major": 2,
       "version_minor": 0
      },
      "text/plain": [
       "  0%|          | 0/1000 [00:00<?, ?it/s]"
      ]
     },
     "metadata": {},
     "output_type": "display_data"
    },
    {
     "data": {
      "application/vnd.jupyter.widget-view+json": {
       "model_id": "1147ddb09099439586c4bd7963b78be8",
       "version_major": 2,
       "version_minor": 0
      },
      "text/plain": [
       "  0%|          | 0/1000 [00:00<?, ?it/s]"
      ]
     },
     "metadata": {},
     "output_type": "display_data"
    },
    {
     "data": {
      "application/vnd.jupyter.widget-view+json": {
       "model_id": "07f52b96c09d4bbb8c8daefc7427e778",
       "version_major": 2,
       "version_minor": 0
      },
      "text/plain": [
       "  0%|          | 0/1000 [00:00<?, ?it/s]"
      ]
     },
     "metadata": {},
     "output_type": "display_data"
    },
    {
     "data": {
      "application/vnd.jupyter.widget-view+json": {
       "model_id": "b24e5d67ad4f4ffbaa9a1895d797f7d8",
       "version_major": 2,
       "version_minor": 0
      },
      "text/plain": [
       "  0%|          | 0/1000 [00:00<?, ?it/s]"
      ]
     },
     "metadata": {},
     "output_type": "display_data"
    },
    {
     "data": {
      "application/vnd.jupyter.widget-view+json": {
       "model_id": "6a460891bf79474dae7d8612fef7bb3c",
       "version_major": 2,
       "version_minor": 0
      },
      "text/plain": [
       "  0%|          | 0/1000 [00:00<?, ?it/s]"
      ]
     },
     "metadata": {},
     "output_type": "display_data"
    },
    {
     "data": {
      "application/vnd.jupyter.widget-view+json": {
       "model_id": "8a23fc5e998443659a4d6989cc9efff9",
       "version_major": 2,
       "version_minor": 0
      },
      "text/plain": [
       "  0%|          | 0/1000 [00:00<?, ?it/s]"
      ]
     },
     "metadata": {},
     "output_type": "display_data"
    },
    {
     "data": {
      "application/vnd.jupyter.widget-view+json": {
       "model_id": "325cc6e0a143462891a345615bff107b",
       "version_major": 2,
       "version_minor": 0
      },
      "text/plain": [
       "  0%|          | 0/1000 [00:00<?, ?it/s]"
      ]
     },
     "metadata": {},
     "output_type": "display_data"
    },
    {
     "data": {
      "application/vnd.jupyter.widget-view+json": {
       "model_id": "cb9d17912c5b4965b13fde1b114e4a39",
       "version_major": 2,
       "version_minor": 0
      },
      "text/plain": [
       "  0%|          | 0/1000 [00:00<?, ?it/s]"
      ]
     },
     "metadata": {},
     "output_type": "display_data"
    },
    {
     "data": {
      "application/vnd.jupyter.widget-view+json": {
       "model_id": "f18543edb4ab41bc9b4a18320da8d918",
       "version_major": 2,
       "version_minor": 0
      },
      "text/plain": [
       "  0%|          | 0/1000 [00:00<?, ?it/s]"
      ]
     },
     "metadata": {},
     "output_type": "display_data"
    },
    {
     "data": {
      "application/vnd.jupyter.widget-view+json": {
       "model_id": "96a3eb03dbd24c7db01afd25c8368e83",
       "version_major": 2,
       "version_minor": 0
      },
      "text/plain": [
       "  0%|          | 0/1000 [00:00<?, ?it/s]"
      ]
     },
     "metadata": {},
     "output_type": "display_data"
    },
    {
     "data": {
      "application/vnd.jupyter.widget-view+json": {
       "model_id": "ca889e6e63c94552aac9c45219421f42",
       "version_major": 2,
       "version_minor": 0
      },
      "text/plain": [
       "  0%|          | 0/1000 [00:00<?, ?it/s]"
      ]
     },
     "metadata": {},
     "output_type": "display_data"
    },
    {
     "data": {
      "application/vnd.jupyter.widget-view+json": {
       "model_id": "aa8c8391df2b4870b04a69103da43f22",
       "version_major": 2,
       "version_minor": 0
      },
      "text/plain": [
       "  0%|          | 0/1000 [00:00<?, ?it/s]"
      ]
     },
     "metadata": {},
     "output_type": "display_data"
    },
    {
     "data": {
      "application/vnd.jupyter.widget-view+json": {
       "model_id": "942a00be270d4e0e826e5fb63c2f3a19",
       "version_major": 2,
       "version_minor": 0
      },
      "text/plain": [
       "  0%|          | 0/1000 [00:00<?, ?it/s]"
      ]
     },
     "metadata": {},
     "output_type": "display_data"
    },
    {
     "data": {
      "application/vnd.jupyter.widget-view+json": {
       "model_id": "2722e4b4d8b741c7a313be5cb1685ec4",
       "version_major": 2,
       "version_minor": 0
      },
      "text/plain": [
       "  0%|          | 0/1000 [00:00<?, ?it/s]"
      ]
     },
     "metadata": {},
     "output_type": "display_data"
    },
    {
     "data": {
      "application/vnd.jupyter.widget-view+json": {
       "model_id": "041e5fbac5e2481eace8b50b7cec5843",
       "version_major": 2,
       "version_minor": 0
      },
      "text/plain": [
       "  0%|          | 0/1000 [00:00<?, ?it/s]"
      ]
     },
     "metadata": {},
     "output_type": "display_data"
    },
    {
     "data": {
      "application/vnd.jupyter.widget-view+json": {
       "model_id": "2766061cf2f04f548e067ea534dde7a0",
       "version_major": 2,
       "version_minor": 0
      },
      "text/plain": [
       "  0%|          | 0/1000 [00:00<?, ?it/s]"
      ]
     },
     "metadata": {},
     "output_type": "display_data"
    },
    {
     "data": {
      "application/vnd.jupyter.widget-view+json": {
       "model_id": "f5d7e21d58354e2fab10323585816a23",
       "version_major": 2,
       "version_minor": 0
      },
      "text/plain": [
       "  0%|          | 0/1000 [00:00<?, ?it/s]"
      ]
     },
     "metadata": {},
     "output_type": "display_data"
    },
    {
     "data": {
      "application/vnd.jupyter.widget-view+json": {
       "model_id": "f7c552ab7cd648f0b2868d7bb7894637",
       "version_major": 2,
       "version_minor": 0
      },
      "text/plain": [
       "  0%|          | 0/1000 [00:00<?, ?it/s]"
      ]
     },
     "metadata": {},
     "output_type": "display_data"
    },
    {
     "data": {
      "application/vnd.jupyter.widget-view+json": {
       "model_id": "78705d55e5fa4265bf965a536c2a34d7",
       "version_major": 2,
       "version_minor": 0
      },
      "text/plain": [
       "  0%|          | 0/1000 [00:00<?, ?it/s]"
      ]
     },
     "metadata": {},
     "output_type": "display_data"
    },
    {
     "data": {
      "application/vnd.jupyter.widget-view+json": {
       "model_id": "4dd1e0b1f0bf444c8459a6d7221d3295",
       "version_major": 2,
       "version_minor": 0
      },
      "text/plain": [
       "  0%|          | 0/1000 [00:00<?, ?it/s]"
      ]
     },
     "metadata": {},
     "output_type": "display_data"
    },
    {
     "data": {
      "application/vnd.jupyter.widget-view+json": {
       "model_id": "5c98b036e5b94f4695f3b0cd510d7423",
       "version_major": 2,
       "version_minor": 0
      },
      "text/plain": [
       "  0%|          | 0/1000 [00:00<?, ?it/s]"
      ]
     },
     "metadata": {},
     "output_type": "display_data"
    },
    {
     "data": {
      "application/vnd.jupyter.widget-view+json": {
       "model_id": "3166d1bcedab4a94876718b08a785f07",
       "version_major": 2,
       "version_minor": 0
      },
      "text/plain": [
       "  0%|          | 0/1000 [00:00<?, ?it/s]"
      ]
     },
     "metadata": {},
     "output_type": "display_data"
    },
    {
     "data": {
      "application/vnd.jupyter.widget-view+json": {
       "model_id": "b28ea50435f74129ac0959f58fc834b0",
       "version_major": 2,
       "version_minor": 0
      },
      "text/plain": [
       "  0%|          | 0/1000 [00:00<?, ?it/s]"
      ]
     },
     "metadata": {},
     "output_type": "display_data"
    },
    {
     "data": {
      "application/vnd.jupyter.widget-view+json": {
       "model_id": "dc33e632197f43369e23013a17e10a90",
       "version_major": 2,
       "version_minor": 0
      },
      "text/plain": [
       "  0%|          | 0/1000 [00:00<?, ?it/s]"
      ]
     },
     "metadata": {},
     "output_type": "display_data"
    },
    {
     "data": {
      "application/vnd.jupyter.widget-view+json": {
       "model_id": "4c943784ba0749fea9b0671acbe86bfb",
       "version_major": 2,
       "version_minor": 0
      },
      "text/plain": [
       "  0%|          | 0/1000 [00:00<?, ?it/s]"
      ]
     },
     "metadata": {},
     "output_type": "display_data"
    },
    {
     "data": {
      "application/vnd.jupyter.widget-view+json": {
       "model_id": "34b53247263c49e2921662a526b25bf4",
       "version_major": 2,
       "version_minor": 0
      },
      "text/plain": [
       "  0%|          | 0/1000 [00:00<?, ?it/s]"
      ]
     },
     "metadata": {},
     "output_type": "display_data"
    },
    {
     "data": {
      "application/vnd.jupyter.widget-view+json": {
       "model_id": "8e49b6f423e74c1594d74bce22860a7b",
       "version_major": 2,
       "version_minor": 0
      },
      "text/plain": [
       "  0%|          | 0/1000 [00:00<?, ?it/s]"
      ]
     },
     "metadata": {},
     "output_type": "display_data"
    },
    {
     "data": {
      "application/vnd.jupyter.widget-view+json": {
       "model_id": "194ef06465c14ec5a775cb99e38d0745",
       "version_major": 2,
       "version_minor": 0
      },
      "text/plain": [
       "  0%|          | 0/1000 [00:00<?, ?it/s]"
      ]
     },
     "metadata": {},
     "output_type": "display_data"
    },
    {
     "data": {
      "application/vnd.jupyter.widget-view+json": {
       "model_id": "e665ed52d9f1434388408751531385c9",
       "version_major": 2,
       "version_minor": 0
      },
      "text/plain": [
       "  0%|          | 0/1000 [00:00<?, ?it/s]"
      ]
     },
     "metadata": {},
     "output_type": "display_data"
    },
    {
     "data": {
      "application/vnd.jupyter.widget-view+json": {
       "model_id": "e032803646da4fce9597196b62da1d99",
       "version_major": 2,
       "version_minor": 0
      },
      "text/plain": [
       "  0%|          | 0/1000 [00:00<?, ?it/s]"
      ]
     },
     "metadata": {},
     "output_type": "display_data"
    },
    {
     "data": {
      "application/vnd.jupyter.widget-view+json": {
       "model_id": "2a47fd42dcee4df38a4353b12197f3cb",
       "version_major": 2,
       "version_minor": 0
      },
      "text/plain": [
       "  0%|          | 0/1000 [00:00<?, ?it/s]"
      ]
     },
     "metadata": {},
     "output_type": "display_data"
    },
    {
     "data": {
      "application/vnd.jupyter.widget-view+json": {
       "model_id": "89ba5af0172d4de99e4dabcee9b48f03",
       "version_major": 2,
       "version_minor": 0
      },
      "text/plain": [
       "  0%|          | 0/1000 [00:00<?, ?it/s]"
      ]
     },
     "metadata": {},
     "output_type": "display_data"
    },
    {
     "data": {
      "application/vnd.jupyter.widget-view+json": {
       "model_id": "39bbad6bb85d48f7bd46a8ce880efa97",
       "version_major": 2,
       "version_minor": 0
      },
      "text/plain": [
       "  0%|          | 0/1000 [00:00<?, ?it/s]"
      ]
     },
     "metadata": {},
     "output_type": "display_data"
    },
    {
     "data": {
      "application/vnd.jupyter.widget-view+json": {
       "model_id": "32c9b6f74ecc48f8b9cdac954ba1ba42",
       "version_major": 2,
       "version_minor": 0
      },
      "text/plain": [
       "  0%|          | 0/1000 [00:00<?, ?it/s]"
      ]
     },
     "metadata": {},
     "output_type": "display_data"
    },
    {
     "data": {
      "application/vnd.jupyter.widget-view+json": {
       "model_id": "bcb6c776cf1748afbc83ca2f73b2c88b",
       "version_major": 2,
       "version_minor": 0
      },
      "text/plain": [
       "  0%|          | 0/1000 [00:00<?, ?it/s]"
      ]
     },
     "metadata": {},
     "output_type": "display_data"
    },
    {
     "data": {
      "application/vnd.jupyter.widget-view+json": {
       "model_id": "d06d0fd27e334e6b88282f29c1d5587e",
       "version_major": 2,
       "version_minor": 0
      },
      "text/plain": [
       "  0%|          | 0/1000 [00:00<?, ?it/s]"
      ]
     },
     "metadata": {},
     "output_type": "display_data"
    },
    {
     "data": {
      "application/vnd.jupyter.widget-view+json": {
       "model_id": "bd471d386127426fb0fc92a58fe92d4f",
       "version_major": 2,
       "version_minor": 0
      },
      "text/plain": [
       "  0%|          | 0/1000 [00:00<?, ?it/s]"
      ]
     },
     "metadata": {},
     "output_type": "display_data"
    },
    {
     "data": {
      "application/vnd.jupyter.widget-view+json": {
       "model_id": "9f715ed8d0144731b95050eeaf444a14",
       "version_major": 2,
       "version_minor": 0
      },
      "text/plain": [
       "  0%|          | 0/1000 [00:00<?, ?it/s]"
      ]
     },
     "metadata": {},
     "output_type": "display_data"
    },
    {
     "data": {
      "application/vnd.jupyter.widget-view+json": {
       "model_id": "cb5e412b6d77428a87447773090cb0e2",
       "version_major": 2,
       "version_minor": 0
      },
      "text/plain": [
       "  0%|          | 0/1000 [00:00<?, ?it/s]"
      ]
     },
     "metadata": {},
     "output_type": "display_data"
    },
    {
     "data": {
      "application/vnd.jupyter.widget-view+json": {
       "model_id": "c41623197dd54d1eb2dbae65171404f9",
       "version_major": 2,
       "version_minor": 0
      },
      "text/plain": [
       "  0%|          | 0/1000 [00:00<?, ?it/s]"
      ]
     },
     "metadata": {},
     "output_type": "display_data"
    },
    {
     "data": {
      "application/vnd.jupyter.widget-view+json": {
       "model_id": "af922678333742bc8c2a938724fefd03",
       "version_major": 2,
       "version_minor": 0
      },
      "text/plain": [
       "  0%|          | 0/1000 [00:00<?, ?it/s]"
      ]
     },
     "metadata": {},
     "output_type": "display_data"
    },
    {
     "data": {
      "application/vnd.jupyter.widget-view+json": {
       "model_id": "6c9c25294a8745068cadaee46d8a92dd",
       "version_major": 2,
       "version_minor": 0
      },
      "text/plain": [
       "  0%|          | 0/1000 [00:00<?, ?it/s]"
      ]
     },
     "metadata": {},
     "output_type": "display_data"
    },
    {
     "data": {
      "application/vnd.jupyter.widget-view+json": {
       "model_id": "348e2f098b8d49eea176fbe90f48083c",
       "version_major": 2,
       "version_minor": 0
      },
      "text/plain": [
       "  0%|          | 0/1000 [00:00<?, ?it/s]"
      ]
     },
     "metadata": {},
     "output_type": "display_data"
    },
    {
     "data": {
      "application/vnd.jupyter.widget-view+json": {
       "model_id": "d9036cd9b75547e7b7d0bcd01aa13dca",
       "version_major": 2,
       "version_minor": 0
      },
      "text/plain": [
       "  0%|          | 0/1000 [00:00<?, ?it/s]"
      ]
     },
     "metadata": {},
     "output_type": "display_data"
    },
    {
     "data": {
      "application/vnd.jupyter.widget-view+json": {
       "model_id": "50a1bc537cf4429d963f979899d7aa8f",
       "version_major": 2,
       "version_minor": 0
      },
      "text/plain": [
       "  0%|          | 0/1000 [00:00<?, ?it/s]"
      ]
     },
     "metadata": {},
     "output_type": "display_data"
    },
    {
     "data": {
      "application/vnd.jupyter.widget-view+json": {
       "model_id": "61a70f3989664e3587efea5e3ec360e3",
       "version_major": 2,
       "version_minor": 0
      },
      "text/plain": [
       "  0%|          | 0/1000 [00:00<?, ?it/s]"
      ]
     },
     "metadata": {},
     "output_type": "display_data"
    },
    {
     "data": {
      "application/vnd.jupyter.widget-view+json": {
       "model_id": "dc092784d30942548c341465ac3e8fb9",
       "version_major": 2,
       "version_minor": 0
      },
      "text/plain": [
       "  0%|          | 0/1000 [00:00<?, ?it/s]"
      ]
     },
     "metadata": {},
     "output_type": "display_data"
    },
    {
     "data": {
      "application/vnd.jupyter.widget-view+json": {
       "model_id": "9cfd2250e8104fef94bf6a343ae70bbc",
       "version_major": 2,
       "version_minor": 0
      },
      "text/plain": [
       "  0%|          | 0/1000 [00:00<?, ?it/s]"
      ]
     },
     "metadata": {},
     "output_type": "display_data"
    },
    {
     "data": {
      "application/vnd.jupyter.widget-view+json": {
       "model_id": "60020ba765024f59a6b4c6852d671c05",
       "version_major": 2,
       "version_minor": 0
      },
      "text/plain": [
       "  0%|          | 0/1000 [00:00<?, ?it/s]"
      ]
     },
     "metadata": {},
     "output_type": "display_data"
    },
    {
     "data": {
      "application/vnd.jupyter.widget-view+json": {
       "model_id": "91251e7b429b48f7b4a146c1102c72d7",
       "version_major": 2,
       "version_minor": 0
      },
      "text/plain": [
       "  0%|          | 0/1000 [00:00<?, ?it/s]"
      ]
     },
     "metadata": {},
     "output_type": "display_data"
    },
    {
     "data": {
      "application/vnd.jupyter.widget-view+json": {
       "model_id": "e7637832fb5d4ffa9bc9f6446dd59843",
       "version_major": 2,
       "version_minor": 0
      },
      "text/plain": [
       "  0%|          | 0/1000 [00:00<?, ?it/s]"
      ]
     },
     "metadata": {},
     "output_type": "display_data"
    },
    {
     "data": {
      "application/vnd.jupyter.widget-view+json": {
       "model_id": "544596e5a273406f815160981bddc0be",
       "version_major": 2,
       "version_minor": 0
      },
      "text/plain": [
       "  0%|          | 0/1000 [00:00<?, ?it/s]"
      ]
     },
     "metadata": {},
     "output_type": "display_data"
    },
    {
     "data": {
      "application/vnd.jupyter.widget-view+json": {
       "model_id": "d793d37c744e4dd4aa27afbd38bdeae7",
       "version_major": 2,
       "version_minor": 0
      },
      "text/plain": [
       "  0%|          | 0/1000 [00:00<?, ?it/s]"
      ]
     },
     "metadata": {},
     "output_type": "display_data"
    },
    {
     "data": {
      "application/vnd.jupyter.widget-view+json": {
       "model_id": "719e6047b8014036af895ca832ee7289",
       "version_major": 2,
       "version_minor": 0
      },
      "text/plain": [
       "  0%|          | 0/1000 [00:00<?, ?it/s]"
      ]
     },
     "metadata": {},
     "output_type": "display_data"
    },
    {
     "data": {
      "application/vnd.jupyter.widget-view+json": {
       "model_id": "c471d407e9e243ca864d1ed3b9ecdcf2",
       "version_major": 2,
       "version_minor": 0
      },
      "text/plain": [
       "  0%|          | 0/1000 [00:00<?, ?it/s]"
      ]
     },
     "metadata": {},
     "output_type": "display_data"
    },
    {
     "data": {
      "application/vnd.jupyter.widget-view+json": {
       "model_id": "8dd2a12fecf741c9916bfb6e11e2cba4",
       "version_major": 2,
       "version_minor": 0
      },
      "text/plain": [
       "  0%|          | 0/1000 [00:00<?, ?it/s]"
      ]
     },
     "metadata": {},
     "output_type": "display_data"
    },
    {
     "data": {
      "application/vnd.jupyter.widget-view+json": {
       "model_id": "eb46c9c301894cc89b416f1e6bd894a0",
       "version_major": 2,
       "version_minor": 0
      },
      "text/plain": [
       "  0%|          | 0/1000 [00:00<?, ?it/s]"
      ]
     },
     "metadata": {},
     "output_type": "display_data"
    },
    {
     "data": {
      "application/vnd.jupyter.widget-view+json": {
       "model_id": "c02055cfecff4d1f95e36ede552e63fe",
       "version_major": 2,
       "version_minor": 0
      },
      "text/plain": [
       "  0%|          | 0/1000 [00:00<?, ?it/s]"
      ]
     },
     "metadata": {},
     "output_type": "display_data"
    },
    {
     "data": {
      "application/vnd.jupyter.widget-view+json": {
       "model_id": "b70462665a26472cbd8252aa2179238a",
       "version_major": 2,
       "version_minor": 0
      },
      "text/plain": [
       "  0%|          | 0/1000 [00:00<?, ?it/s]"
      ]
     },
     "metadata": {},
     "output_type": "display_data"
    },
    {
     "data": {
      "application/vnd.jupyter.widget-view+json": {
       "model_id": "25b9971872774e7f9badb3061d757f4a",
       "version_major": 2,
       "version_minor": 0
      },
      "text/plain": [
       "  0%|          | 0/1000 [00:00<?, ?it/s]"
      ]
     },
     "metadata": {},
     "output_type": "display_data"
    },
    {
     "data": {
      "application/vnd.jupyter.widget-view+json": {
       "model_id": "b464affee4cb48cbaef029ba7ca45d43",
       "version_major": 2,
       "version_minor": 0
      },
      "text/plain": [
       "  0%|          | 0/1000 [00:00<?, ?it/s]"
      ]
     },
     "metadata": {},
     "output_type": "display_data"
    },
    {
     "data": {
      "application/vnd.jupyter.widget-view+json": {
       "model_id": "ce202aa58e67473b90a7e9be365e5b3e",
       "version_major": 2,
       "version_minor": 0
      },
      "text/plain": [
       "  0%|          | 0/1000 [00:00<?, ?it/s]"
      ]
     },
     "metadata": {},
     "output_type": "display_data"
    },
    {
     "data": {
      "application/vnd.jupyter.widget-view+json": {
       "model_id": "f3154bc8188d4fea8b1c190d3ebb6cf2",
       "version_major": 2,
       "version_minor": 0
      },
      "text/plain": [
       "  0%|          | 0/1000 [00:00<?, ?it/s]"
      ]
     },
     "metadata": {},
     "output_type": "display_data"
    },
    {
     "data": {
      "application/vnd.jupyter.widget-view+json": {
       "model_id": "eed5d4a3fe194294972fddd69b8b5712",
       "version_major": 2,
       "version_minor": 0
      },
      "text/plain": [
       "  0%|          | 0/1000 [00:00<?, ?it/s]"
      ]
     },
     "metadata": {},
     "output_type": "display_data"
    },
    {
     "data": {
      "application/vnd.jupyter.widget-view+json": {
       "model_id": "ab1d592156644139981d02ffc9c86ee1",
       "version_major": 2,
       "version_minor": 0
      },
      "text/plain": [
       "  0%|          | 0/1000 [00:00<?, ?it/s]"
      ]
     },
     "metadata": {},
     "output_type": "display_data"
    },
    {
     "data": {
      "application/vnd.jupyter.widget-view+json": {
       "model_id": "a2c4f9db5d864415aa7c95fbd2641059",
       "version_major": 2,
       "version_minor": 0
      },
      "text/plain": [
       "  0%|          | 0/1000 [00:00<?, ?it/s]"
      ]
     },
     "metadata": {},
     "output_type": "display_data"
    },
    {
     "data": {
      "application/vnd.jupyter.widget-view+json": {
       "model_id": "44f2e49532de4aa88be0a1a8fb2388f0",
       "version_major": 2,
       "version_minor": 0
      },
      "text/plain": [
       "  0%|          | 0/1000 [00:00<?, ?it/s]"
      ]
     },
     "metadata": {},
     "output_type": "display_data"
    },
    {
     "data": {
      "application/vnd.jupyter.widget-view+json": {
       "model_id": "060fd0d9b2bf4777a899ab896125a60f",
       "version_major": 2,
       "version_minor": 0
      },
      "text/plain": [
       "  0%|          | 0/1000 [00:00<?, ?it/s]"
      ]
     },
     "metadata": {},
     "output_type": "display_data"
    }
   ],
   "source": [
    "from tqdm import tqdm\n",
    "\n",
    "lime_local_pred = []\n",
    "lime_local_exp = []\n",
    "lime_score = []\n",
    "for im in sample_imgs:\n",
    "    exp = explainer.explain_instance(np.array(im), batch_predict)\n",
    "    lime_local_pred.append(exp.local_pred)\n",
    "    lime_local_exp.append(exp.local_exp)\n",
    "    lime_score.append(exp.score)\n"
   ]
  },
  {
   "cell_type": "code",
   "execution_count": 25,
   "metadata": {},
   "outputs": [],
   "source": [
    "lime_local_pred = np.stack(lime_local_pred)"
   ]
  },
  {
   "cell_type": "code",
   "execution_count": 26,
   "metadata": {},
   "outputs": [],
   "source": [
    "top_lime_preds = []\n",
    "for mas in lime_local_pred:\n",
    "    top_lime_preds.append(mas[0])"
   ]
  },
  {
   "cell_type": "code",
   "execution_count": 27,
   "metadata": {},
   "outputs": [
    {
     "data": {
      "text/plain": [
       "[0.9995469251080296,\n",
       " 0.9997509239460176,\n",
       " 0.615160077424812,\n",
       " 0.43130053924122025,\n",
       " 0.7609554572450319,\n",
       " 0.9752488907502301,\n",
       " 0.9993515123832195,\n",
       " 0.4749246489253356,\n",
       " 0.9997133661117004,\n",
       " 0.9997133661117004,\n",
       " 0.9648231337761669,\n",
       " 0.9997173149687597,\n",
       " 0.9997058158585782,\n",
       " 0.9959531595941453,\n",
       " 0.995892684542429,\n",
       " 0.999725146301154,\n",
       " 0.9997511412296045,\n",
       " 0.9502544224367732,\n",
       " 0.6423427600880057,\n",
       " 0.9654538404732544,\n",
       " 0.9981744387586428,\n",
       " 0.9997131640578613,\n",
       " 0.882493069868438,\n",
       " 0.999723656061001,\n",
       " 0.6534336289909903,\n",
       " 0.600938060346745,\n",
       " 0.9603316671086122,\n",
       " 0.6658712627785064,\n",
       " 0.5410894693707603,\n",
       " 0.8855953764981308,\n",
       " 0.9997226647632915,\n",
       " 0.9967804461421041,\n",
       " 0.5633307916534166,\n",
       " 0.9833910723690031,\n",
       " 0.8760807908689434,\n",
       " 1.000000026556526,\n",
       " 0.9997274592638756,\n",
       " 0.8242388594757094,\n",
       " 0.9999895334953536,\n",
       " 0.9475964289866033,\n",
       " 0.9443355909727456,\n",
       " 0.990611657183737,\n",
       " 0.999701637535927,\n",
       " 0.9997417794426291,\n",
       " 0.9997027432292792,\n",
       " 0.7225136130999126,\n",
       " 0.9950324867901696,\n",
       " 0.9996720570410993,\n",
       " 0.9991752624750294,\n",
       " 0.9982135140285667,\n",
       " 0.9991210485425848,\n",
       " 0.9439685529947593,\n",
       " 0.995761331077476,\n",
       " 0.8780643119090982,\n",
       " 0.621762977514334,\n",
       " 0.938922629665978,\n",
       " 0.8914083979185182,\n",
       " 0.9955043863642942,\n",
       " 0.999506255338672,\n",
       " 0.9952596672607394,\n",
       " 0.9997268692191943,\n",
       " 0.7147085608000295,\n",
       " 0.9997238109359227,\n",
       " 0.9992896043060069,\n",
       " 0.9783889209524014,\n",
       " 0.9060996147890251,\n",
       " 0.9884941369848529,\n",
       " 0.9499646300211575,\n",
       " 0.9611423013924535,\n",
       " 0.9999999999249328,\n",
       " 0.5719396662363462,\n",
       " 0.9999923239381792,\n",
       " 0.5279196911178075,\n",
       " 0.9995698579832135,\n",
       " 0.9965639267785766,\n",
       " 0.8161331548866744,\n",
       " 0.41495249525465777,\n",
       " 0.6261009620235065,\n",
       " 0.999999236438749,\n",
       " 0.9996956873715989,\n",
       " 0.9967003357527584,\n",
       " 0.9876311880890026,\n",
       " 0.9997207184519863,\n",
       " 0.9955220130046062,\n",
       " 0.9997235281029241,\n",
       " 0.9987111020349295,\n",
       " 1.0000000028914204,\n",
       " 0.9999960562963532,\n",
       " 0.9997136916130005,\n",
       " 0.5763987265720723,\n",
       " 0.998548996337197,\n",
       " 0.9730811899285163,\n",
       " 0.6628530452477507,\n",
       " 0.9660988133589977,\n",
       " 0.999702830291245,\n",
       " 0.9882633982996626,\n",
       " 0.8545507006404286,\n",
       " 0.9999979378637205,\n",
       " 0.999695847072188,\n",
       " 0.99977836106361,\n",
       " 0.9997842005970563,\n",
       " 0.5072383957962989,\n",
       " 0.9966395284492208,\n",
       " 0.9996180031202939,\n",
       " 0.6410755649156675,\n",
       " 0.9997910829332326,\n",
       " 0.9965263877406809,\n",
       " 0.7750381404317522,\n",
       " 0.9558098919257264,\n",
       " 0.9993129641675685,\n",
       " 0.999809226654311,\n",
       " 0.9996794338229115,\n",
       " 0.9709719912631343,\n",
       " 0.40272010489293075,\n",
       " 0.9939682153555509,\n",
       " 1.0000000775184645,\n",
       " 0.999717591141923,\n",
       " 0.9363717540603826,\n",
       " 0.6210491720831033,\n",
       " 0.9960188304645394,\n",
       " 0.9997501746528037,\n",
       " 0.999727761976849,\n",
       " 0.9997147523119867,\n",
       " 0.9992359035960988,\n",
       " 0.9976348358907962,\n",
       " 0.45852780493530254,\n",
       " 0.9816854946647386,\n",
       " 0.5695923377864687,\n",
       " 0.8509916667494075,\n",
       " 0.9968645432998455,\n",
       " 0.9997675852988452,\n",
       " 0.9999993922648484,\n",
       " 0.9996559616055213,\n",
       " 0.9990719623677232,\n",
       " 0.7998606350288977,\n",
       " 0.9629355803385345,\n",
       " 0.9997125204289304,\n",
       " 1.0000000080565012,\n",
       " 0.9999667549312629,\n",
       " 0.8190997608875983,\n",
       " 0.6725320623007559,\n",
       " 0.9866696593614759,\n",
       " 0.9878528294638798,\n",
       " 0.999704759860988,\n",
       " 0.9998120452707252,\n",
       " 0.967995847498054,\n",
       " 0.9999647166593127,\n",
       " 0.39201974647565746,\n",
       " 0.9981898257342308,\n",
       " 0.9929216475105175,\n",
       " 0.9997082235144564,\n",
       " 0.9997263451229701,\n",
       " 0.9914060930451353,\n",
       " 0.9972333494102663,\n",
       " 0.999571949080809,\n",
       " 0.9997174457394266,\n",
       " 0.9997787436896535,\n",
       " 0.4595852855685324,\n",
       " 0.7695550675160171,\n",
       " 0.8383256169520354,\n",
       " 0.9419633489131787,\n",
       " 0.9997874144405169,\n",
       " 0.999989746647245,\n",
       " 0.9999981282267412,\n",
       " 0.76571310430195,\n",
       " 0.31193087694314403,\n",
       " 0.9965375627116013,\n",
       " 0.9997092897322454,\n",
       " 0.5013060985573098,\n",
       " 0.4490107942131214,\n",
       " 0.9967968361906474,\n",
       " 0.9869989213045257,\n",
       " 0.9997025172983243,\n",
       " 0.9997079937701003,\n",
       " 0.9997058546831759,\n",
       " 0.7568191814532574,\n",
       " 0.9989899153976782,\n",
       " 0.9997097975009988,\n",
       " 0.9997892884545142,\n",
       " 0.79479760907571,\n",
       " 0.9515610211617446,\n",
       " 0.48355311856760397,\n",
       " 0.5337880458155425,\n",
       " 0.9913277606965634,\n",
       " 0.4937705649905525,\n",
       " 0.9241640614763543,\n",
       " 0.9593270056302727,\n",
       " 0.9954301324501893,\n",
       " 0.6430707124890035,\n",
       " 0.9956520656761971,\n",
       " 0.9996455271114763,\n",
       " 0.9522859473449894,\n",
       " 0.9997165408558162,\n",
       " 0.9997960337179816,\n",
       " 0.627989616479727,\n",
       " 0.9966174405494713,\n",
       " 0.9962774997253683,\n",
       " 0.9462813957923777,\n",
       " 0.9968840095495304,\n",
       " 0.5422540876989566,\n",
       " 0.9973156488916802,\n",
       " 0.9956029368969728,\n",
       " 0.8336497868434141,\n",
       " 0.7167561431906471,\n",
       " 0.8590610627893731,\n",
       " 0.9633229821487843,\n",
       " 0.5641206273098843,\n",
       " 0.9614248250587073,\n",
       " 0.9996916836107214,\n",
       " 0.9999992726953737,\n",
       " 0.9997079379986621,\n",
       " 0.8412968337729156,\n",
       " 0.9997782330842091,\n",
       " 0.9997154866049784,\n",
       " 0.9996814519013763,\n",
       " 0.5696709497050447,\n",
       " 0.9997859843460233,\n",
       " 0.999717471967253,\n",
       " 0.9994537965611421,\n",
       " 0.9762170659646494,\n",
       " 0.9998189226133402,\n",
       " 0.9970166400044667,\n",
       " 0.9695944247719618,\n",
       " 0.9464765915764614,\n",
       " 0.9727825463432507,\n",
       " 0.9898000584189968,\n",
       " 0.34063429570621556,\n",
       " 0.986792480121768,\n",
       " 0.7874404978774181,\n",
       " 1.000000243627795,\n",
       " 0.9997278811527803,\n",
       " 0.5715266446822892,\n",
       " 0.9023980744089389,\n",
       " 0.9997867434028922,\n",
       " 0.845319601372751,\n",
       " 0.3910155314046275,\n",
       " 0.999148549949685,\n",
       " 0.9996347576767679,\n",
       " 0.38406802566311615,\n",
       " 0.9490520852288272,\n",
       " 0.9964454279340437,\n",
       " 0.9786199772526674,\n",
       " 0.7761915403332311,\n",
       " 0.6243980867080416,\n",
       " 0.9962587140278562,\n",
       " 0.8295659987907761,\n",
       " 0.9996980589365864,\n",
       " 0.9971014149530353,\n",
       " 0.9983716581282298,\n",
       " 0.7065955629425934,\n",
       " 0.9948821583796345,\n",
       " 0.33358028784656546,\n",
       " 0.7488703391055581,\n",
       " 0.39064519126988656,\n",
       " 0.9997883208554661,\n",
       " 0.9872190805103471,\n",
       " 0.47582724615746197,\n",
       " 0.9962145265488511,\n",
       " 0.9996693414832498,\n",
       " 0.9341425820178515,\n",
       " 0.6156071147535049,\n",
       " 0.6440282729451323,\n",
       " 0.9582973071800961,\n",
       " 0.8813020067278641,\n",
       " 0.8668272617885625,\n",
       " 0.9997966702545601,\n",
       " 0.6960553028939129,\n",
       " 0.9997426270394008,\n",
       " 0.9996880443676014,\n",
       " 0.3358821908971966,\n",
       " 0.9999970199896858,\n",
       " 0.9993317539193235,\n",
       " 0.9990220028027226,\n",
       " 0.6825711946028489,\n",
       " 0.9997014092206642,\n",
       " 0.9997049291874552,\n",
       " 0.989807710332899,\n",
       " 0.4665115652587151,\n",
       " 0.99999999909473,\n",
       " 0.9959432571840914,\n",
       " 0.39111643954547637,\n",
       " 0.7277246267022099,\n",
       " 0.9986710167833922,\n",
       " 0.9967587793212769,\n",
       " 0.9997271798156078,\n",
       " 0.9965212113631856,\n",
       " 0.9966736520177578,\n",
       " 0.7382116118870238,\n",
       " 0.944223740542218,\n",
       " 0.8831520400290424,\n",
       " 0.7830388046494372,\n",
       " 0.9511112552190197,\n",
       " 0.6582769523977782,\n",
       " 0.9948488738560289,\n",
       " 0.6023412919892994,\n",
       " 0.9997147523119865,\n",
       " 0.9497960523684386,\n",
       " 0.6802594065074161,\n",
       " 0.9966056603669295,\n",
       " 0.9997305710633881,\n",
       " 0.9997112294652855,\n",
       " 0.7448967692099234,\n",
       " 0.66750666810857,\n",
       " 0.9997025172983242,\n",
       " 0.9590822714555305,\n",
       " 0.9999948855108335,\n",
       " 0.6939601312827005,\n",
       " 0.9999902509944402,\n",
       " 1.0000000000420581,\n",
       " 0.8572975153643088,\n",
       " 0.9896791572279257,\n",
       " 0.7755627709482117,\n",
       " 0.8161876937363387,\n",
       " 0.9958229749684805,\n",
       " 0.4831767837298247,\n",
       " 0.9992832099149153,\n",
       " 0.5568141531251938,\n",
       " 0.999563689882232,\n",
       " 0.49018653239911647,\n",
       " 0.9999980586000603,\n",
       " 0.9997196799161876,\n",
       " 0.9712197903371526,\n",
       " 0.9997804672131784,\n",
       " 0.9896556600592086,\n",
       " 0.9535673128879063,\n",
       " 0.9188738516652543,\n",
       " 0.9994685298830213,\n",
       " 0.8384184164036926,\n",
       " 0.9471990089187602,\n",
       " 0.9996580338538804,\n",
       " 0.9999968322601623,\n",
       " 0.9997392572073495,\n",
       " 0.999290333612763,\n",
       " 0.9870089474523919,\n",
       " 0.9956329637682589,\n",
       " 0.9997168619051086,\n",
       " 0.9997248684040368,\n",
       " 0.9997225032403702,\n",
       " 0.9953773405429168,\n",
       " 0.7252254884438787,\n",
       " 0.9997120439924161,\n",
       " 0.9028338182235117,\n",
       " 0.9998109867834529,\n",
       " 0.9997195607412617,\n",
       " 0.780780021365881,\n",
       " 0.8410252511360128,\n",
       " 0.608908740362557,\n",
       " 0.4648331545483769,\n",
       " 0.819053292370683,\n",
       " 0.9997071696876995,\n",
       " 0.5440235683519351,\n",
       " 0.9961967625144422,\n",
       " 0.9967710868181509,\n",
       " 0.6459254325239642,\n",
       " 0.9896134069989163,\n",
       " 0.8965264024835591,\n",
       " 0.998948799006944,\n",
       " 0.9991447458949138,\n",
       " 0.9905576885672343,\n",
       " 0.9997200381449514,\n",
       " 0.9976857344662389,\n",
       " 0.6378808088446607,\n",
       " 0.9805538523150337,\n",
       " 0.9963892269768919,\n",
       " 0.9959261944122911,\n",
       " 0.9995135542470143,\n",
       " 0.995532919964944,\n",
       " 0.5689353787121636,\n",
       " 0.9238951390641106,\n",
       " 0.9998101194191044,\n",
       " 0.9856463081244002,\n",
       " 0.9997090764657173,\n",
       " 0.27228605826292174,\n",
       " 0.9958856358867115,\n",
       " 0.953586711896249,\n",
       " 0.9994689416382837,\n",
       " 0.9994688933813665,\n",
       " 0.7643853572369609,\n",
       " 0.9881964699843585,\n",
       " 0.9999999891221323,\n",
       " 0.5909937727888844,\n",
       " 0.7244262039543827,\n",
       " 0.9999993357607847,\n",
       " 0.948310144733217,\n",
       " 0.9997368242274725,\n",
       " 0.9999999975000317,\n",
       " 0.9997380572851459,\n",
       " 0.9005173311848492,\n",
       " 0.6801355318569036,\n",
       " 0.9994991571709283,\n",
       " 0.9996902013425867,\n",
       " 0.9999990016233659,\n",
       " 0.9145149880271727,\n",
       " 0.9997278811527803,\n",
       " 0.9998005511692122,\n",
       " 0.9996889623088572,\n",
       " 0.9976151777717742,\n",
       " 0.7853782963270761,\n",
       " 0.4760745095937254,\n",
       " 0.9388405056082577,\n",
       " 0.9283081242570159,\n",
       " 0.9997272852731237,\n",
       " 0.771430892771902,\n",
       " 0.9959881666307395,\n",
       " 0.6524858291598241,\n",
       " 0.5090543352959881,\n",
       " 0.9997481884045988,\n",
       " 0.9960203508058589,\n",
       " 0.9994652579908199,\n",
       " 0.9988648843174621,\n",
       " 0.7945337788531512,\n",
       " 0.9997795005578304,\n",
       " 0.8691945621980667,\n",
       " 0.9891881783460251,\n",
       " 1.0000000000773557,\n",
       " 0.8871881362941071,\n",
       " 0.7372639549526417,\n",
       " 0.9957588385395426,\n",
       " 0.9960128005134155,\n",
       " 0.9999999969774304,\n",
       " 0.9979715730589128,\n",
       " 0.9997874096213696,\n",
       " 0.6666307560625858,\n",
       " 0.9999880471301659,\n",
       " 0.9997175533198757,\n",
       " 0.9962186979146751,\n",
       " 0.7784747474517598,\n",
       " 0.996623137113028,\n",
       " 0.5133982726492676,\n",
       " 0.9840252699560356,\n",
       " 0.9993989804506413,\n",
       " 0.9997351687834453,\n",
       " 0.9999978898760487,\n",
       " 0.478801490889745,\n",
       " 0.9996774395763454,\n",
       " 0.9997217531183402,\n",
       " 0.705447968861709,\n",
       " 0.9999514054647958,\n",
       " 0.9865654385357094,\n",
       " 0.9955936329356613,\n",
       " 0.8390235395314893,\n",
       " 0.9953376468480406,\n",
       " 0.9214606174365667,\n",
       " 0.9999597475069515,\n",
       " 0.9267449072335348,\n",
       " 0.9494171871803215,\n",
       " 0.9997650423608727,\n",
       " 0.6251175884575533,\n",
       " 0.999065890936566,\n",
       " 0.9724903390748203,\n",
       " 0.9996648956286125,\n",
       " 0.999735168783445,\n",
       " 0.9964468473090582,\n",
       " 0.9979166304846984,\n",
       " 0.9997794947091403,\n",
       " 0.9975763474209693,\n",
       " 1.0,\n",
       " 0.924871072772087,\n",
       " 0.9997751195763052,\n",
       " 0.9997144283651069,\n",
       " 0.9962203116428945,\n",
       " 0.9998040780206437,\n",
       " 0.6873343890747454,\n",
       " 0.9062964548378343,\n",
       " 0.9192793425976172,\n",
       " 0.9890647013313765,\n",
       " 0.9996653353778457,\n",
       " 0.999696933399934,\n",
       " 0.8958864571492572,\n",
       " 0.9997407065655204,\n",
       " 0.533943679883606,\n",
       " 0.9989827979352222,\n",
       " 0.8804277881444087,\n",
       " 0.8765898532381152,\n",
       " 0.9995812157707106,\n",
       " 0.9997416685103191,\n",
       " 0.9997897673182206,\n",
       " 0.9997157313637367,\n",
       " 0.993138159251121,\n",
       " 0.9997038731961913,\n",
       " 0.7454010463706072,\n",
       " 0.8431127753487052,\n",
       " 0.9993512640329963,\n",
       " 0.949746398527747,\n",
       " 0.7043501665520328,\n",
       " 0.7307031536712562,\n",
       " 0.8701818185884312,\n",
       " 0.999197659844715,\n",
       " 0.999336657167244,\n",
       " 0.9982019642645069,\n",
       " 0.9178608590343428,\n",
       " 0.49688448948163155,\n",
       " 0.9997147523119865,\n",
       " 0.9973205041643065,\n",
       " 0.9993118622132964,\n",
       " 0.6571521717572296,\n",
       " 0.9971310629821657,\n",
       " 0.9997104856185255,\n",
       " 0.99999781042169,\n",
       " 0.8190823293949675,\n",
       " 0.6174337422024303,\n",
       " 0.8106954800806478,\n",
       " 0.921126519401236,\n",
       " 0.9963306949842473,\n",
       " 0.9981569515809772,\n",
       " 0.8139060773333276,\n",
       " 0.8272388926110203,\n",
       " 0.9889473510354694,\n",
       " 0.6721393854729012,\n",
       " 0.9974884714131453,\n",
       " 0.9990965678026761,\n",
       " 0.9960437109452466,\n",
       " 0.9960367572886804,\n",
       " 0.9997179108465487,\n",
       " 0.9999989726497116,\n",
       " 0.9967257124574637,\n",
       " 0.984364906037589,\n",
       " 0.996427118577374,\n",
       " 0.9999980756901934,\n",
       " 0.9895643609894917,\n",
       " 0.9971357084254412,\n",
       " 0.999737800036368,\n",
       " 0.9973022025447685,\n",
       " 0.9109682522686575,\n",
       " 0.9994620599990266,\n",
       " 0.9962004218244301,\n",
       " 0.8352106239693707,\n",
       " 0.3086180537422898,\n",
       " 0.9997859502007518,\n",
       " 0.9997199744796315,\n",
       " 0.5726586764476876,\n",
       " 0.9961710402748227,\n",
       " 0.9997342153624735,\n",
       " 0.9917588830964073,\n",
       " 0.9996934397423294,\n",
       " 0.7814292336938677,\n",
       " 0.5495197574153415,\n",
       " 0.9997224127489611,\n",
       " 0.99971229982006,\n",
       " 0.9997084597457423,\n",
       " 0.9987683984333455,\n",
       " 0.9633927348801624,\n",
       " 0.9965200286102422,\n",
       " 0.8689363907679738,\n",
       " 0.33964521728775815,\n",
       " 0.7855635271100814,\n",
       " 0.5048608475967481,\n",
       " 0.997616503776492,\n",
       " 0.9927815554679343,\n",
       " 0.7564769405402133,\n",
       " 0.5241955181460917,\n",
       " 0.9773556999266477,\n",
       " 0.9997175911419232,\n",
       " 0.9997776112696914,\n",
       " 0.4648927476676819,\n",
       " 0.7281072511438902,\n",
       " 0.9965646524168031,\n",
       " 0.8993562695568024,\n",
       " 0.9999978741475198,\n",
       " 0.999785153990272,\n",
       " 0.6163526625915301,\n",
       " 0.9992196257946722,\n",
       " 0.9997419748979696,\n",
       " 0.999710958498249,\n",
       " 0.98739235167841,\n",
       " 0.7944299928266154,\n",
       " 0.9773704272821306,\n",
       " 0.7912731013785484,\n",
       " 0.9966878903084109,\n",
       " 1.0000033774879806,\n",
       " 0.9997072432649395,\n",
       " 0.8535864151035838,\n",
       " 0.9997397761071526,\n",
       " 0.9997550991926969,\n",
       " 0.5841875324023577,\n",
       " 0.544173597811406,\n",
       " 0.9997308947827332,\n",
       " 0.9997275784399308,\n",
       " 0.9750234192906719,\n",
       " 0.9152756531243669,\n",
       " 0.5657097638991144,\n",
       " 0.9959302884633823,\n",
       " 0.9488324242161008,\n",
       " 0.9956862603207995,\n",
       " 0.8598457683793674,\n",
       " 0.8440888373242571,\n",
       " 0.4989376729305498,\n",
       " 0.9996464977359337,\n",
       " 1.0000000051735645,\n",
       " 0.9997291986501897,\n",
       " 0.6833453376406665,\n",
       " 0.9010509634017928,\n",
       " 0.9858164912078702,\n",
       " 0.9997348620375943,\n",
       " 0.9996237020931258,\n",
       " 0.800618373221064,\n",
       " 0.7446843176926213,\n",
       " 0.9959374994974295,\n",
       " 0.9202035303391596,\n",
       " 0.9959438915240875,\n",
       " 0.999678348321626,\n",
       " 0.9926273919964956,\n",
       " 0.998933114606551,\n",
       " 0.8546925000440229,\n",
       " 0.999668329707722,\n",
       " 0.999702517298324,\n",
       " 0.9997136916130006,\n",
       " 0.9010089377208039,\n",
       " 0.9996878133952978,\n",
       " 0.3573259342759784,\n",
       " 0.9998162001329447,\n",
       " 0.9997745208614345,\n",
       " 0.6097119869018315,\n",
       " 0.999804923387729,\n",
       " 0.9973869614259603,\n",
       " 0.8659879897498108,\n",
       " 0.845566622695263,\n",
       " 0.9990705291370401,\n",
       " 0.9999996179041729,\n",
       " 1.0000002013423577,\n",
       " 0.988078874511865,\n",
       " 0.9997947821938614,\n",
       " 0.8103929724631495,\n",
       " 0.5158077635702865,\n",
       " 0.9997271798156079,\n",
       " 0.9003177117643407,\n",
       " 0.9933444403879562,\n",
       " 0.9996855423325364,\n",
       " 0.9939091956780206,\n",
       " 0.9993166447741902,\n",
       " 0.9997961798150938,\n",
       " 0.999530764591354,\n",
       " 1.0000968689820668,\n",
       " 0.999768961312982,\n",
       " 0.7925594706640435,\n",
       " 0.9881964640147547,\n",
       " 0.9999869494156931,\n",
       " 0.45651142167853237,\n",
       " 0.966968101406513,\n",
       " 0.9022782290602227,\n",
       " 0.9261195737282005,\n",
       " 0.9960831034341495,\n",
       " 0.9983830079563542,\n",
       " 1.0,\n",
       " 0.9960585224959719,\n",
       " 0.7547532973401974,\n",
       " 0.9997340634582146,\n",
       " 0.9997246419466163,\n",
       " 0.974702246887907,\n",
       " 0.47316169057255786,\n",
       " 0.9997390785601454,\n",
       " 0.9996858191631137,\n",
       " 0.9997116656370949,\n",
       " 0.9992681223946295,\n",
       " 0.999798292579884,\n",
       " 0.9665569323907254,\n",
       " 0.9083015343126669,\n",
       " 0.9998262088752352,\n",
       " 0.6108314348447231,\n",
       " 0.9996972912388085,\n",
       " 0.9997633327005575,\n",
       " 0.9998154850575678,\n",
       " 0.5365074018639211,\n",
       " 1.0000000000831653,\n",
       " 0.44920100166438043,\n",
       " 0.9989582700617086,\n",
       " 0.996257591383812,\n",
       " 0.9873007755236732,\n",
       " 0.9996325292773812,\n",
       " 0.9997061542847989,\n",
       " 0.999231503856688,\n",
       " 0.999796789430615,\n",
       " 0.6293219733610401,\n",
       " 0.8113776017769749,\n",
       " 0.9993905937324383,\n",
       " 0.999790545751075,\n",
       " 0.9964383704772265,\n",
       " 0.5203818253169179,\n",
       " 0.9480378377001637,\n",
       " 0.9980917788237628,\n",
       " 0.9997060515221178,\n",
       " 0.9896878344681225,\n",
       " 0.9997288893765347,\n",
       " 0.9997426270394008,\n",
       " 0.48653003380807675,\n",
       " 0.99999517562863,\n",
       " 0.9422101003728827,\n",
       " 0.839385226641133,\n",
       " 0.30064971058826323,\n",
       " 0.6256828094555877,\n",
       " 0.9999923438262786,\n",
       " 0.9997288893765348,\n",
       " 0.9996972912388083,\n",
       " 0.9997135724379473,\n",
       " 0.9810947558188984,\n",
       " 0.9998063680115625,\n",
       " 0.7293618636155638,\n",
       " 0.9397879746127502,\n",
       " 0.5211837732733158,\n",
       " 0.9799276969232994,\n",
       " 0.4800984486154933,\n",
       " 0.7604085067411243,\n",
       " 0.9997153353262046,\n",
       " 0.9997123364147116,\n",
       " 0.9964430867264547,\n",
       " 0.9993956177365653,\n",
       " 0.9997081253759016,\n",
       " 0.8781998395051043,\n",
       " 0.9998027369864741,\n",
       " 0.9963374945889253,\n",
       " 0.9996900860712205,\n",
       " 0.9995251175181714,\n",
       " 0.817148268860084,\n",
       " 0.999464415168693,\n",
       " 0.9382488856190629,\n",
       " 0.9976175288182557,\n",
       " 0.996302399384067,\n",
       " 0.9577579227315577,\n",
       " 1.0000010033951523,\n",
       " 0.9353826268507134,\n",
       " 0.9182469768488188,\n",
       " 0.9986734272568402,\n",
       " 0.9997094089067867,\n",
       " 0.9999999996359195,\n",
       " 0.999799308097186,\n",
       " 0.9996922235039613,\n",
       " 0.9810746039213462,\n",
       " 0.9996876478874102,\n",
       " 0.9999905859449202,\n",
       " 0.9959320333072621,\n",
       " 0.996013904501423,\n",
       " 0.9445998516460901,\n",
       " 0.9591184954454482,\n",
       " 0.47145777634571406,\n",
       " 0.9996514096112391,\n",
       " 0.9997915807746239,\n",
       " 0.9997883208554662,\n",
       " 0.7520834750553871,\n",
       " 0.9985964785026902,\n",
       " 0.998540044293437,\n",
       " 0.8845749366962439,\n",
       " 0.9784713592687886,\n",
       " 0.6713063314450677,\n",
       " 0.8143710952618362,\n",
       " 0.999724323619891,\n",
       " 0.8709158927125457,\n",
       " 0.9997053364764246,\n",
       " 0.9997997169317023,\n",
       " 0.6608859290257008,\n",
       " 0.3918091018842035,\n",
       " 0.9998033492254504,\n",
       " 0.9966052252716878,\n",
       " 0.9626594019668049,\n",
       " 0.9998806167765675,\n",
       " 0.9999982074619165,\n",
       " 0.6775144667167522,\n",
       " 0.44673697348869335,\n",
       " 0.953522969264583,\n",
       " 0.9996343059900434,\n",
       " 1.0000000000404536,\n",
       " 0.9957057891198707,\n",
       " 0.9966449337248904,\n",
       " 0.6081046229582536,\n",
       " 0.9869400831652733,\n",
       " 0.9996426524664795,\n",
       " 0.999695925717514,\n",
       " 0.7877349612391135,\n",
       " 0.6117598366476071,\n",
       " 0.9997898864931466,\n",
       " 0.9997408987424589,\n",
       " 0.9960733417062867,\n",
       " 0.9995133537049972,\n",
       " 0.9999949921184728,\n",
       " 0.6848788002706253,\n",
       " 0.9997154866049786,\n",
       " 0.9996991800671593,\n",
       " 0.9863963791113252,\n",
       " 0.9997407065655204,\n",
       " 0.9128641569801453,\n",
       " 0.6423774192591901,\n",
       " 0.990598806167076,\n",
       " 0.5702269977142709,\n",
       " 0.9999999740738962,\n",
       " 0.9999957685380708,\n",
       " 0.670819774490383,\n",
       " 0.9889646241557108,\n",
       " 0.6467804077196602,\n",
       " 0.7167487332480204,\n",
       " 0.6285455814676919,\n",
       " 0.9993917659957372,\n",
       " 0.8564158771238986,\n",
       " 0.9535787519002411,\n",
       " 0.9957455813197789,\n",
       " 0.98784919635677,\n",
       " 0.999800288504955,\n",
       " 0.9996927561636701,\n",
       " 0.9999995496219388,\n",
       " 0.6032665403440676,\n",
       " 1.0000008463981391,\n",
       " 0.9967431982132874,\n",
       " 0.9997155509753527,\n",
       " 0.985196656404742,\n",
       " 0.7777780703359238,\n",
       " 0.9997407065655202,\n",
       " 0.9801093981768184,\n",
       " 0.9997474058303738,\n",
       " 0.9999596857281057,\n",
       " 0.8040724502024812,\n",
       " 0.7327016312546947,\n",
       " 0.3875302113238287,\n",
       " 0.6964986042226005,\n",
       " 0.9997677895639854,\n",
       " 0.9989299862316511,\n",
       " 0.9929093132395592,\n",
       " 0.9996990612864847,\n",
       " 0.9958860647937655,\n",
       " 0.9996147381245589,\n",
       " 0.9999976533216026,\n",
       " 0.9997960337179818,\n",
       " 0.9599656527554403,\n",
       " 0.6562172967105888,\n",
       " 0.999216214830104,\n",
       " 0.999711673547805,\n",
       " 0.9997114945226333,\n",
       " 0.9989647376908384,\n",
       " 0.8733444393334605,\n",
       " 0.9999999903666519,\n",
       " 0.9954933197299587,\n",
       " 0.999798682519977,\n",
       " 0.9931834063985723,\n",
       " 0.9200640964975696,\n",
       " 0.9963741768406307,\n",
       " 0.9871198383007793,\n",
       " 0.7329696090777408,\n",
       " 0.7676478681401113,\n",
       " 0.9320937976051793,\n",
       " 0.9959828146729457,\n",
       " 0.4328131574460919,\n",
       " 0.7551884337510654,\n",
       " 0.9995985357764189,\n",
       " 0.7190377505824374,\n",
       " 0.9978925061666266,\n",
       " 0.9169514073769612,\n",
       " 0.9997036210793644,\n",
       " 0.9996811022190994,\n",
       " 0.9997250815820853,\n",
       " 0.8267286649092761,\n",
       " 0.9249887147026224,\n",
       " 0.9997078225929574,\n",
       " 0.6094474626588049,\n",
       " 0.5638400547705038,\n",
       " 0.5421879469557125,\n",
       " 0.9999879111607114,\n",
       " 0.9997896481432945,\n",
       " 0.9981312355897719,\n",
       " 0.5095289990808457,\n",
       " 0.9999959708666079,\n",
       " 0.9997278811527803,\n",
       " 0.9736204317109093,\n",
       " 1.0,\n",
       " 0.8945590214712076,\n",
       " 0.7327406291164207,\n",
       " 0.9997050611648212,\n",
       " 0.9417350198470693,\n",
       " 0.9966950767033752,\n",
       " 0.9997112320722469,\n",
       " 0.9997210345303018,\n",
       " 0.9997050611648212,\n",
       " 0.9946186495223556,\n",
       " 0.9992776773389437,\n",
       " 0.9960330258798578,\n",
       " 0.9102017716090458,\n",
       " 0.9997329197737208,\n",
       " 0.9997241239844278,\n",
       " 0.9997329197737141,\n",
       " 0.4693298615764448,\n",
       " 0.9979994651555095,\n",
       " 0.9997058157254368,\n",
       " 0.4724176351764679,\n",
       " 0.9998092266543109,\n",
       " 0.9958665343116252,\n",
       " 0.5113797121179714,\n",
       " 0.7109535623708996,\n",
       " 0.9928141384440794,\n",
       " 0.9997161468525144,\n",
       " 0.9997258877505447,\n",
       " 0.9997017567095531,\n",
       " 0.9997912021084128,\n",
       " 0.9989833639050494,\n",
       " 0.7459312255606696,\n",
       " 0.9996955147030947,\n",
       " 0.9170644827691407,\n",
       " 0.906075858195163,\n",
       " 0.9994789313330259,\n",
       " 0.9978444057042761,\n",
       " 0.4659716378733443,\n",
       " 0.9997189559157998,\n",
       " 0.6222866783938514,\n",
       " 0.5060195021960735,\n",
       " 0.9996685223814492,\n",
       " 0.9990257780720214,\n",
       " 0.9997799549848243,\n",
       " 0.999705425371183,\n",
       " 0.8604787274055642,\n",
       " 0.876238982406118,\n",
       " 0.9597201090615065,\n",
       " 0.5252050879394127,\n",
       " 0.9993387344132572,\n",
       " 0.9786250408559779,\n",
       " 0.9963434009422271,\n",
       " 0.9614574734818417,\n",
       " 0.9996548121255936,\n",
       " 0.47619972056168147,\n",
       " 0.9993139929557555,\n",
       " 0.9997358449014657,\n",
       " 0.7256844445543118,\n",
       " 0.9997258535535127,\n",
       " 0.9999863986586238,\n",
       " 0.9999913751442483,\n",
       " 0.9997308947827332,\n",
       " 0.9959834500968096,\n",
       " 0.9940008776439331,\n",
       " 0.9997116041914238,\n",
       " 0.6859375501139958,\n",
       " 0.9996896277689147,\n",
       " 0.5513220140308872,\n",
       " 0.9984789028029517,\n",
       " 0.9997328134854221,\n",
       " 0.9957590550455148,\n",
       " 0.9849270506220484,\n",
       " 0.9997882709185996,\n",
       " 0.40889252764131073,\n",
       " 0.9997371305942395,\n",
       " 0.4968386532681798,\n",
       " 0.8359935377617123,\n",
       " 0.9997278811527806,\n",
       " 0.9995012669793379,\n",
       " 0.978631144752621,\n",
       " 0.34064100770499073,\n",
       " 0.6125227094833716,\n",
       " 0.8779570364905458,\n",
       " 0.9996785692003183,\n",
       " 0.8701280955525119,\n",
       " 0.9996642635756168,\n",
       " 0.9925176257547472,\n",
       " 0.796530019727875,\n",
       " 0.9997220681213819,\n",
       " 0.9997407065655204,\n",
       " 0.9870892064064242,\n",
       " 0.5648105866787786,\n",
       " 0.5133825151557987,\n",
       " 0.9597087729974514,\n",
       " 0.9997079937701003,\n",
       " 0.9948064174432476,\n",
       " 0.9997269033600387,\n",
       " 0.5828385949241276,\n",
       " 0.9997248341332947,\n",
       " 0.9961675880726091,\n",
       " 0.9997778410268816,\n",
       " 0.9965116411908821,\n",
       " 0.949736507943028,\n",
       " 0.9913422979339952,\n",
       " 0.9980634534149343,\n",
       " 0.9990508726890629,\n",
       " 0.9997166147301162,\n",
       " 0.9996181008244484,\n",
       " 0.9910019771002374,\n",
       " 0.9903901780201579,\n",
       " 0.9997883208554662,\n",
       " 0.9996688449819929,\n",
       " 0.37638344334596885,\n",
       " 0.9997271798156077,\n",
       " 0.3242268781294181,\n",
       " 0.993746516129482,\n",
       " 0.9998092093131948,\n",
       " 0.9905127290220964,\n",
       " 0.9806564927724047,\n",
       " 0.8790906918058865,\n",
       " 0.9996967157782045,\n",
       " 0.8426702968873976,\n",
       " 0.9999931675511502,\n",
       " 0.5502592733496257,\n",
       " 0.4356985450776692,\n",
       " 0.9961081926722313,\n",
       " 0.9998015615682415,\n",
       " 0.9791505555965737,\n",
       " 0.9055257181038798,\n",
       " 0.3623587770484912,\n",
       " 0.8451129316209549,\n",
       " 0.8375127362373714,\n",
       " 0.9997312029770932,\n",
       " 0.9995416609795047,\n",
       " 0.9997336372616126,\n",
       " 0.8404550809891377,\n",
       " 0.9997286696889416,\n",
       " 0.9745953272778526,\n",
       " 0.9992336154701411,\n",
       " 0.814459878506593,\n",
       " 0.9997302026164433,\n",
       " 0.9997640945683867]"
      ]
     },
     "execution_count": 27,
     "metadata": {},
     "output_type": "execute_result"
    }
   ],
   "source": [
    "top_lime_preds"
   ]
  },
  {
   "cell_type": "code",
   "execution_count": 28,
   "metadata": {},
   "outputs": [],
   "source": [
    "top_true_preds = []\n",
    "for mas in true_preds:\n",
    "    top_true_preds.append(mas.max())"
   ]
  },
  {
   "cell_type": "code",
   "execution_count": 45,
   "metadata": {},
   "outputs": [],
   "source": [
    "top_new_preds = []\n",
    "for mas in new_preds:\n",
    "    top_new_preds.append(mas.max())"
   ]
  },
  {
   "cell_type": "code",
   "execution_count": 46,
   "metadata": {},
   "outputs": [
    {
     "data": {
      "text/plain": [
       "[0.9998197,\n",
       " 0.99997294,\n",
       " 0.56083816,\n",
       " 0.4249595,\n",
       " 0.76492923,\n",
       " 0.9754587,\n",
       " 0.9991585,\n",
       " 0.47502753,\n",
       " 1.0,\n",
       " 1.0,\n",
       " 0.96707726,\n",
       " 0.99999976,\n",
       " 1.0,\n",
       " 0.99999964,\n",
       " 0.9999982,\n",
       " 1.0,\n",
       " 1.0,\n",
       " 0.9437685,\n",
       " 0.6424526,\n",
       " 0.9656913,\n",
       " 0.9965816,\n",
       " 0.99999976,\n",
       " 0.88269275,\n",
       " 0.9999335,\n",
       " 0.6535638,\n",
       " 0.67003125,\n",
       " 0.96058077,\n",
       " 0.37371737,\n",
       " 0.5411889,\n",
       " 0.88722694,\n",
       " 0.9999999,\n",
       " 0.99886155,\n",
       " 0.5804691,\n",
       " 0.980945,\n",
       " 0.8682651,\n",
       " 1.0,\n",
       " 0.99999857,\n",
       " 0.80090946,\n",
       " 1.0,\n",
       " 0.94777364,\n",
       " 0.94453424,\n",
       " 0.99090624,\n",
       " 0.9999999,\n",
       " 0.99999535,\n",
       " 0.9999999,\n",
       " 0.74725735,\n",
       " 0.999121,\n",
       " 0.9999745,\n",
       " 0.9994373,\n",
       " 0.9984993,\n",
       " 0.999995,\n",
       " 0.93939537,\n",
       " 0.99999964,\n",
       " 0.8904757,\n",
       " 0.66534513,\n",
       " 0.9408987,\n",
       " 0.89158714,\n",
       " 0.9989759,\n",
       " 0.9997632,\n",
       " 0.9985361,\n",
       " 1.0,\n",
       " 0.66028845,\n",
       " 1.0,\n",
       " 0.9995933,\n",
       " 0.9786442,\n",
       " 0.90709907,\n",
       " 0.9887651,\n",
       " 0.95021164,\n",
       " 0.94168043,\n",
       " 1.0,\n",
       " 0.5721134,\n",
       " 1.0,\n",
       " 0.52803254,\n",
       " 0.9997354,\n",
       " 1.0,\n",
       " 0.8165058,\n",
       " 0.4144195,\n",
       " 0.6074967,\n",
       " 1.0,\n",
       " 0.9999999,\n",
       " 1.0,\n",
       " 0.98986477,\n",
       " 1.0,\n",
       " 0.9999161,\n",
       " 0.9999994,\n",
       " 0.9989973,\n",
       " 1.0,\n",
       " 0.9999931,\n",
       " 1.0,\n",
       " 0.59552705,\n",
       " 0.9988205,\n",
       " 0.9760408,\n",
       " 0.68908656,\n",
       " 0.9664047,\n",
       " 0.9999341,\n",
       " 0.990236,\n",
       " 0.90990907,\n",
       " 1.0,\n",
       " 1.0,\n",
       " 0.99999094,\n",
       " 0.99999917,\n",
       " 0.4977263,\n",
       " 1.0,\n",
       " 1.0,\n",
       " 0.65710896,\n",
       " 0.99999964,\n",
       " 1.0,\n",
       " 0.7766262,\n",
       " 0.955711,\n",
       " 0.9994061,\n",
       " 1.0,\n",
       " 0.99999833,\n",
       " 0.95843834,\n",
       " 0.40281904,\n",
       " 0.9942444,\n",
       " 1.0,\n",
       " 1.0,\n",
       " 0.9367984,\n",
       " 0.62115586,\n",
       " 0.99999285,\n",
       " 1.0,\n",
       " 0.9999999,\n",
       " 1.0,\n",
       " 0.99945146,\n",
       " 0.99648213,\n",
       " 0.4600846,\n",
       " 0.9856308,\n",
       " 0.5765546,\n",
       " 0.8511937,\n",
       " 1.0,\n",
       " 0.9999999,\n",
       " 0.9999999,\n",
       " 0.9996586,\n",
       " 0.99951196,\n",
       " 0.81242245,\n",
       " 0.9650424,\n",
       " 0.99999344,\n",
       " 1.0,\n",
       " 0.9999962,\n",
       " 0.82400423,\n",
       " 0.5935383,\n",
       " 0.98828655,\n",
       " 0.98772985,\n",
       " 1.0,\n",
       " 1.0,\n",
       " 0.9642349,\n",
       " 1.0,\n",
       " 0.38305414,\n",
       " 0.99833965,\n",
       " 0.9923029,\n",
       " 0.99998,\n",
       " 0.99999046,\n",
       " 0.99161994,\n",
       " 0.9975223,\n",
       " 0.99984026,\n",
       " 0.9999988,\n",
       " 0.9999976,\n",
       " 0.4573534,\n",
       " 0.76901776,\n",
       " 0.8593043,\n",
       " 0.9198166,\n",
       " 0.9999999,\n",
       " 0.99998665,\n",
       " 1.0,\n",
       " 0.77892756,\n",
       " 0.2604099,\n",
       " 0.9966658,\n",
       " 0.9999999,\n",
       " 0.49703807,\n",
       " 0.4298314,\n",
       " 1.0,\n",
       " 0.9961998,\n",
       " 1.0,\n",
       " 1.0,\n",
       " 1.0,\n",
       " 0.7570249,\n",
       " 0.9973133,\n",
       " 0.99999964,\n",
       " 0.9999963,\n",
       " 0.79500383,\n",
       " 0.95272434,\n",
       " 0.4836792,\n",
       " 0.47580826,\n",
       " 0.9915455,\n",
       " 0.4905927,\n",
       " 0.92675805,\n",
       " 0.9595641,\n",
       " 0.99500173,\n",
       " 0.6432281,\n",
       " 0.99999964,\n",
       " 0.9998485,\n",
       " 0.9524117,\n",
       " 1.0,\n",
       " 1.0,\n",
       " 0.6300247,\n",
       " 1.0,\n",
       " 1.0,\n",
       " 0.9127926,\n",
       " 0.99716115,\n",
       " 0.53820646,\n",
       " 1.0,\n",
       " 0.9999994,\n",
       " 0.833867,\n",
       " 0.71689343,\n",
       " 0.8872128,\n",
       " 0.96048796,\n",
       " 0.5642445,\n",
       " 0.9478813,\n",
       " 0.9999989,\n",
       " 1.0,\n",
       " 0.999985,\n",
       " 0.8394279,\n",
       " 0.9999844,\n",
       " 1.0,\n",
       " 1.0,\n",
       " 0.5970078,\n",
       " 0.9999994,\n",
       " 0.9999999,\n",
       " 0.9997596,\n",
       " 0.9787582,\n",
       " 1.0,\n",
       " 0.99728584,\n",
       " 0.9698042,\n",
       " 0.9510582,\n",
       " 0.9730675,\n",
       " 0.99006546,\n",
       " 0.34067243,\n",
       " 0.9870868,\n",
       " 0.7781608,\n",
       " 0.9999999,\n",
       " 1.0,\n",
       " 0.49552336,\n",
       " 0.8986457,\n",
       " 1.0,\n",
       " 0.78546923,\n",
       " 0.3979206,\n",
       " 0.99906033,\n",
       " 0.9999143,\n",
       " 0.503083,\n",
       " 0.951174,\n",
       " 0.9944764,\n",
       " 0.98141885,\n",
       " 0.5171198,\n",
       " 0.48746496,\n",
       " 1.0,\n",
       " 0.82977337,\n",
       " 1.0,\n",
       " 0.99822384,\n",
       " 0.99865746,\n",
       " 0.7068268,\n",
       " 0.99601233,\n",
       " 0.33360374,\n",
       " 0.71966994,\n",
       " 0.39069104,\n",
       " 1.0,\n",
       " 0.987358,\n",
       " 0.4834203,\n",
       " 0.99997807,\n",
       " 0.9999676,\n",
       " 0.937433,\n",
       " 0.6503263,\n",
       " 0.6441979,\n",
       " 0.95621353,\n",
       " 0.8815342,\n",
       " 0.8708659,\n",
       " 0.9999999,\n",
       " 0.682697,\n",
       " 1.0,\n",
       " 0.99996483,\n",
       " 0.35054937,\n",
       " 0.9999974,\n",
       " 0.9994634,\n",
       " 0.9983784,\n",
       " 0.68273973,\n",
       " 1.0,\n",
       " 0.9999989,\n",
       " 0.9900247,\n",
       " 0.46662852,\n",
       " 1.0,\n",
       " 0.99999833,\n",
       " 0.39115387,\n",
       " 0.7803626,\n",
       " 0.9988387,\n",
       " 1.0,\n",
       " 1.0,\n",
       " 1.0,\n",
       " 0.99999857,\n",
       " 0.7526541,\n",
       " 0.91055304,\n",
       " 0.47780922,\n",
       " 0.8326225,\n",
       " 0.95130485,\n",
       " 0.6584333,\n",
       " 0.9965329,\n",
       " 0.6041565,\n",
       " 1.0,\n",
       " 0.9376758,\n",
       " 0.68039685,\n",
       " 1.0,\n",
       " 0.9999814,\n",
       " 1.0,\n",
       " 0.7571479,\n",
       " 0.65449506,\n",
       " 1.0,\n",
       " 0.95933473,\n",
       " 1.0,\n",
       " 0.6466923,\n",
       " 1.0,\n",
       " 1.0,\n",
       " 0.8320264,\n",
       " 0.9934702,\n",
       " 0.77574426,\n",
       " 0.7344793,\n",
       " 0.9999924,\n",
       " 0.48324043,\n",
       " 0.9995449,\n",
       " 0.5228586,\n",
       " 0.9999424,\n",
       " 0.49024978,\n",
       " 0.9999981,\n",
       " 1.0,\n",
       " 0.9714584,\n",
       " 0.99997747,\n",
       " 0.98993266,\n",
       " 0.95381594,\n",
       " 0.9191283,\n",
       " 0.9997143,\n",
       " 0.8414107,\n",
       " 0.9578274,\n",
       " 0.99986815,\n",
       " 1.0,\n",
       " 0.99999976,\n",
       " 0.99953926,\n",
       " 0.9663391,\n",
       " 0.9970542,\n",
       " 1.0,\n",
       " 1.0,\n",
       " 0.9999883,\n",
       " 0.99226236,\n",
       " 0.72207344,\n",
       " 0.99999034,\n",
       " 0.90238494,\n",
       " 0.99999666,\n",
       " 1.0,\n",
       " 0.7845542,\n",
       " 0.8458702,\n",
       " 0.5774816,\n",
       " 0.46123326,\n",
       " 0.8270886,\n",
       " 0.9999981,\n",
       " 0.5441521,\n",
       " 0.99994946,\n",
       " 1.0,\n",
       " 0.64373046,\n",
       " 0.9924541,\n",
       " 0.8967804,\n",
       " 0.99970204,\n",
       " 0.99916446,\n",
       " 0.9907532,\n",
       " 0.9999993,\n",
       " 0.9999809,\n",
       " 0.65892756,\n",
       " 0.96552694,\n",
       " 0.9999995,\n",
       " 0.999853,\n",
       " 1.0,\n",
       " 0.9999994,\n",
       " 0.55851537,\n",
       " 0.88754326,\n",
       " 0.9998153,\n",
       " 0.9891717,\n",
       " 1.0,\n",
       " 0.27240947,\n",
       " 0.9999727,\n",
       " 0.95386237,\n",
       " 0.9997615,\n",
       " 0.99976486,\n",
       " 0.7645828,\n",
       " 0.98856443,\n",
       " 1.0,\n",
       " 0.61758834,\n",
       " 0.77912253,\n",
       " 0.99999976,\n",
       " 0.94853735,\n",
       " 1.0,\n",
       " 1.0,\n",
       " 0.9999993,\n",
       " 0.91704494,\n",
       " 0.6803117,\n",
       " 0.9997652,\n",
       " 0.99998355,\n",
       " 1.0,\n",
       " 0.91474223,\n",
       " 1.0,\n",
       " 0.9999993,\n",
       " 0.99999726,\n",
       " 0.998089,\n",
       " 0.78124905,\n",
       " 0.476151,\n",
       " 0.939076,\n",
       " 0.9232897,\n",
       " 0.9999994,\n",
       " 0.77297986,\n",
       " 0.9999515,\n",
       " 0.57078433,\n",
       " 0.6332457,\n",
       " 0.9999999,\n",
       " 0.99990547,\n",
       " 0.99932265,\n",
       " 0.9998523,\n",
       " 0.8020071,\n",
       " 0.99999595,\n",
       " 0.8694199,\n",
       " 0.9816502,\n",
       " 1.0,\n",
       " 0.8874537,\n",
       " 0.74987197,\n",
       " 0.99988484,\n",
       " 1.0,\n",
       " 1.0,\n",
       " 0.9981875,\n",
       " 0.9999896,\n",
       " 0.6594824,\n",
       " 0.99998844,\n",
       " 0.99999964,\n",
       " 0.99999964,\n",
       " 0.7786625,\n",
       " 1.0,\n",
       " 0.50951535,\n",
       " 0.9803797,\n",
       " 0.99973816,\n",
       " 1.0,\n",
       " 1.0,\n",
       " 0.47891423,\n",
       " 0.9999901,\n",
       " 1.0,\n",
       " 0.6892866,\n",
       " 0.9999764,\n",
       " 0.9834236,\n",
       " 0.9995022,\n",
       " 0.8392121,\n",
       " 0.9956162,\n",
       " 0.94522655,\n",
       " 1.0,\n",
       " 0.92702067,\n",
       " 0.9496481,\n",
       " 0.9999987,\n",
       " 0.62358755,\n",
       " 0.99931765,\n",
       " 0.97249323,\n",
       " 0.9997906,\n",
       " 1.0,\n",
       " 1.0,\n",
       " 0.99835545,\n",
       " 1.0,\n",
       " 0.99848783,\n",
       " 1.0,\n",
       " 0.9426903,\n",
       " 0.99999976,\n",
       " 1.0,\n",
       " 0.9999994,\n",
       " 1.0,\n",
       " 0.6828511,\n",
       " 0.9065307,\n",
       " 0.89817,\n",
       " 0.9893106,\n",
       " 0.9999628,\n",
       " 1.0,\n",
       " 0.8961093,\n",
       " 1.0,\n",
       " 0.5294091,\n",
       " 0.9999938,\n",
       " 0.8689397,\n",
       " 0.869965,\n",
       " 0.99982244,\n",
       " 1.0,\n",
       " 0.9999981,\n",
       " 0.9999856,\n",
       " 0.99745995,\n",
       " 0.99998283,\n",
       " 0.736258,\n",
       " 0.8240672,\n",
       " 0.999796,\n",
       " 0.9501029,\n",
       " 0.70449245,\n",
       " 0.72765666,\n",
       " 0.8704074,\n",
       " 0.9994324,\n",
       " 0.99958974,\n",
       " 0.99842596,\n",
       " 0.9180218,\n",
       " 0.49702176,\n",
       " 1.0,\n",
       " 0.9959979,\n",
       " 0.9995078,\n",
       " 0.6573071,\n",
       " 0.99932337,\n",
       " 1.0,\n",
       " 1.0,\n",
       " 0.8278577,\n",
       " 0.6175738,\n",
       " 0.8193091,\n",
       " 0.92281127,\n",
       " 0.99987054,\n",
       " 0.99839044,\n",
       " 0.8260376,\n",
       " 0.82746154,\n",
       " 0.98915696,\n",
       " 0.6646019,\n",
       " 0.99776566,\n",
       " 0.99991274,\n",
       " 1.0,\n",
       " 0.9999875,\n",
       " 1.0,\n",
       " 1.0,\n",
       " 0.9999963,\n",
       " 0.9872782,\n",
       " 1.0,\n",
       " 0.9999989,\n",
       " 0.98980427,\n",
       " 1.0,\n",
       " 1.0,\n",
       " 0.99310946,\n",
       " 0.91419846,\n",
       " 0.9998216,\n",
       " 1.0,\n",
       " 0.75769997,\n",
       " 0.30192003,\n",
       " 1.0,\n",
       " 0.999982,\n",
       " 0.610488,\n",
       " 0.9964399,\n",
       " 0.99999905,\n",
       " 0.99202454,\n",
       " 0.9999956,\n",
       " 0.8886982,\n",
       " 0.54965127,\n",
       " 0.99999523,\n",
       " 1.0,\n",
       " 0.9999969,\n",
       " 1.0,\n",
       " 0.96193546,\n",
       " 1.0,\n",
       " 0.8686232,\n",
       " 0.33973184,\n",
       " 0.7857633,\n",
       " 0.4682467,\n",
       " 0.99770516,\n",
       " 0.99305975,\n",
       " 0.7872477,\n",
       " 0.52559906,\n",
       " 0.9813959,\n",
       " 1.0,\n",
       " 0.99999976,\n",
       " 0.49274066,\n",
       " 0.72986287,\n",
       " 1.0,\n",
       " 0.8995784,\n",
       " 0.9999995,\n",
       " 1.0,\n",
       " 0.61367184,\n",
       " 0.9994967,\n",
       " 1.0,\n",
       " 0.99999857,\n",
       " 0.9932145,\n",
       " 0.7781705,\n",
       " 0.9516601,\n",
       " 0.7593209,\n",
       " 0.99712026,\n",
       " 0.99999523,\n",
       " 1.0,\n",
       " 0.82376516,\n",
       " 1.0,\n",
       " 1.0,\n",
       " 0.58429456,\n",
       " 0.5443457,\n",
       " 1.0,\n",
       " 0.9999987,\n",
       " 0.9793093,\n",
       " 0.8873008,\n",
       " 0.57107514,\n",
       " 0.999851,\n",
       " 0.94903374,\n",
       " 1.0,\n",
       " 0.8557393,\n",
       " 0.80802876,\n",
       " 0.49906203,\n",
       " 0.99985194,\n",
       " 1.0,\n",
       " 1.0,\n",
       " 0.7416213,\n",
       " 0.9012962,\n",
       " 0.9879067,\n",
       " 1.0,\n",
       " 0.9999089,\n",
       " 0.80028534,\n",
       " 0.6443743,\n",
       " 0.9999218,\n",
       " 0.9206287,\n",
       " 1.0,\n",
       " 0.9994931,\n",
       " 0.9928966,\n",
       " 0.9990989,\n",
       " 0.83467126,\n",
       " 0.9999516,\n",
       " 1.0,\n",
       " 1.0,\n",
       " 0.8690694,\n",
       " 0.99999,\n",
       " 0.29392642,\n",
       " 1.0,\n",
       " 1.0,\n",
       " 0.51945364,\n",
       " 1.0,\n",
       " 0.9976927,\n",
       " 0.86621743,\n",
       " 0.6896777,\n",
       " 0.9992256,\n",
       " 0.9999999,\n",
       " 0.9999999,\n",
       " 0.989702,\n",
       " 0.9999887,\n",
       " 0.69808817,\n",
       " 0.5158903,\n",
       " 1.0,\n",
       " 0.9005654,\n",
       " 0.9955675,\n",
       " 0.9999763,\n",
       " 0.9941093,\n",
       " 0.9996138,\n",
       " 0.9999385,\n",
       " 0.9993038,\n",
       " 0.9999994,\n",
       " 0.9999716,\n",
       " 0.7918943,\n",
       " 0.9640697,\n",
       " 0.99999034,\n",
       " 0.5022425,\n",
       " 0.948439,\n",
       " 0.8893357,\n",
       " 0.9263734,\n",
       " 0.99533695,\n",
       " 0.99991024,\n",
       " 1.0,\n",
       " 1.0,\n",
       " 0.7550256,\n",
       " 0.9999999,\n",
       " 0.9999869,\n",
       " 0.9346654,\n",
       " 0.47326928,\n",
       " 1.0,\n",
       " 1.0,\n",
       " 0.999998,\n",
       " 0.99954164,\n",
       " 1.0,\n",
       " 0.97011125,\n",
       " 0.90855163,\n",
       " 1.0,\n",
       " 0.6787129,\n",
       " 1.0,\n",
       " 1.0,\n",
       " 0.99999964,\n",
       " 0.46699268,\n",
       " 1.0,\n",
       " 0.43823457,\n",
       " 0.99925476,\n",
       " 0.9998658,\n",
       " 0.9906765,\n",
       " 0.999634,\n",
       " 1.0,\n",
       " 0.9995061,\n",
       " 0.9999999,\n",
       " 0.6370443,\n",
       " 0.77627194,\n",
       " 0.9993554,\n",
       " 0.99999976,\n",
       " 1.0,\n",
       " 0.6505526,\n",
       " 0.9482965,\n",
       " 0.99837565,\n",
       " 0.9999989,\n",
       " 0.9898795,\n",
       " 1.0,\n",
       " 1.0,\n",
       " 0.4887921,\n",
       " 0.9999739,\n",
       " 0.97044957,\n",
       " 0.83312976,\n",
       " 0.28835377,\n",
       " 0.59471405,\n",
       " 0.99998593,\n",
       " 1.0,\n",
       " 1.0,\n",
       " 0.9999999,\n",
       " 0.95152605,\n",
       " 1.0,\n",
       " 0.7295477,\n",
       " 0.94388247,\n",
       " 0.48017207,\n",
       " 0.9840285,\n",
       " 0.47841904,\n",
       " 0.79107153,\n",
       " 0.9999341,\n",
       " 1.0,\n",
       " 1.0,\n",
       " 0.9996697,\n",
       " 0.99998534,\n",
       " 0.8784462,\n",
       " 1.0,\n",
       " 0.9993617,\n",
       " 1.0,\n",
       " 0.99999106,\n",
       " 0.8178287,\n",
       " 0.99977416,\n",
       " 0.93900955,\n",
       " 0.9978661,\n",
       " 0.9965668,\n",
       " 0.9598271,\n",
       " 1.0,\n",
       " 0.9356407,\n",
       " 0.9184684,\n",
       " 0.9999442,\n",
       " 1.0,\n",
       " 1.0,\n",
       " 0.9999994,\n",
       " 0.9999521,\n",
       " 0.9705104,\n",
       " 0.9999546,\n",
       " 0.99999607,\n",
       " 0.9999932,\n",
       " 1.0,\n",
       " 0.9483157,\n",
       " 0.9593663,\n",
       " 0.47341746,\n",
       " 0.9999567,\n",
       " 0.99999595,\n",
       " 1.0,\n",
       " 0.7522352,\n",
       " 0.9988673,\n",
       " 0.9975903,\n",
       " 0.8874692,\n",
       " 0.9787324,\n",
       " 0.63647455,\n",
       " 0.81460106,\n",
       " 0.99998915,\n",
       " 0.87113994,\n",
       " 0.9999981,\n",
       " 0.99999845,\n",
       " 0.6293996,\n",
       " 0.3918526,\n",
       " 0.9999999,\n",
       " 0.9999491,\n",
       " 0.9629351,\n",
       " 1.0,\n",
       " 1.0,\n",
       " 0.8164584,\n",
       " 0.44686335,\n",
       " 0.9564125,\n",
       " 0.99983597,\n",
       " 1.0,\n",
       " 0.99975604,\n",
       " 1.0,\n",
       " 0.60821253,\n",
       " 0.9871852,\n",
       " 0.9999188,\n",
       " 0.9999999,\n",
       " 0.7870439,\n",
       " 0.63778245,\n",
       " 1.0,\n",
       " 0.99996805,\n",
       " 0.9999808,\n",
       " 0.999848,\n",
       " 1.0,\n",
       " 0.7256202,\n",
       " 1.0,\n",
       " 1.0,\n",
       " 0.981171,\n",
       " 1.0,\n",
       " 0.9220517,\n",
       " 0.6425352,\n",
       " 0.9908664,\n",
       " 0.50630766,\n",
       " 1.0,\n",
       " 1.0,\n",
       " 0.67101157,\n",
       " 0.9892687,\n",
       " 0.66965264,\n",
       " 0.55794716,\n",
       " 0.6471495,\n",
       " 0.99973744,\n",
       " 0.8560999,\n",
       " 0.95382774,\n",
       " 0.99999833,\n",
       " 0.9769333,\n",
       " 0.99999976,\n",
       " 1.0,\n",
       " 1.0,\n",
       " 0.6034178,\n",
       " 0.99999857,\n",
       " 1.0,\n",
       " 0.9999987,\n",
       " 0.9903598,\n",
       " 0.7779683,\n",
       " 1.0,\n",
       " 0.98040193,\n",
       " 1.0,\n",
       " 1.0,\n",
       " 0.7944214,\n",
       " 0.7328986,\n",
       " 0.38761812,\n",
       " 0.69666916,\n",
       " 0.99998343,\n",
       " 0.9991912,\n",
       " 0.9931926,\n",
       " 0.99999654,\n",
       " 0.9908023,\n",
       " 0.99988294,\n",
       " 1.0,\n",
       " 1.0,\n",
       " 0.97685087,\n",
       " 0.65637654,\n",
       " 0.9994962,\n",
       " 0.99999905,\n",
       " 0.99995697,\n",
       " 0.99924755,\n",
       " 0.87393224,\n",
       " 1.0,\n",
       " 0.998782,\n",
       " 0.99999964,\n",
       " 0.99234605,\n",
       " 0.943644,\n",
       " 1.0,\n",
       " 0.9874069,\n",
       " 0.7328065,\n",
       " 0.7904429,\n",
       " 0.93233556,\n",
       " 0.9999788,\n",
       " 0.42598486,\n",
       " 0.7553393,\n",
       " 0.99978906,\n",
       " 0.68690276,\n",
       " 0.99982446,\n",
       " 0.9171931,\n",
       " 1.0,\n",
       " 1.0,\n",
       " 0.9999982,\n",
       " 0.81188756,\n",
       " 0.92517656,\n",
       " 0.9999943,\n",
       " 0.6330962,\n",
       " 0.5052541,\n",
       " 0.5609479,\n",
       " 1.0,\n",
       " 0.99999976,\n",
       " 0.99908864,\n",
       " 0.50959545,\n",
       " 0.99999905,\n",
       " 1.0,\n",
       " 0.97384924,\n",
       " 1.0,\n",
       " 0.90262395,\n",
       " 0.7335306,\n",
       " 1.0,\n",
       " 0.94197935,\n",
       " 1.0,\n",
       " 0.9999957,\n",
       " 1.0,\n",
       " 1.0,\n",
       " 0.9982681,\n",
       " 0.9995628,\n",
       " 0.99999845,\n",
       " 0.96031004,\n",
       " 1.0,\n",
       " 1.0,\n",
       " 1.0,\n",
       " 0.4694554,\n",
       " 0.99782914,\n",
       " 0.9999782,\n",
       " 0.42280135,\n",
       " 1.0,\n",
       " 0.9873969,\n",
       " 0.51146394,\n",
       " 0.62282175,\n",
       " 0.9930419,\n",
       " 0.9999993,\n",
       " 1.0,\n",
       " 1.0,\n",
       " 0.99999976,\n",
       " 0.9992373,\n",
       " 0.7460986,\n",
       " 0.99996746,\n",
       " 0.91655564,\n",
       " 0.89255345,\n",
       " 0.99964905,\n",
       " 0.9990969,\n",
       " 0.47773397,\n",
       " 1.0,\n",
       " 0.6224515,\n",
       " 0.50609756,\n",
       " 1.0,\n",
       " 0.999257,\n",
       " 0.99999964,\n",
       " 0.9997843,\n",
       " 0.84071195,\n",
       " 0.87647986,\n",
       " 0.976916,\n",
       " 0.5253315,\n",
       " 0.99967813,\n",
       " 0.9788932,\n",
       " 1.0,\n",
       " 0.96199906,\n",
       " 0.9999001,\n",
       " 0.44607937,\n",
       " 0.9996247,\n",
       " 1.0,\n",
       " 0.7384706,\n",
       " 1.0,\n",
       " 1.0,\n",
       " 1.0,\n",
       " 1.0,\n",
       " 0.99972695,\n",
       " 0.9982253,\n",
       " 0.99999714,\n",
       " 0.6861069,\n",
       " 0.9999981,\n",
       " 0.57132536,\n",
       " 0.99876714,\n",
       " 0.99999404,\n",
       " 0.99999595,\n",
       " 0.9887999,\n",
       " 0.99999917,\n",
       " 0.40897655,\n",
       " 1.0,\n",
       " 0.4969206,\n",
       " 0.83617437,\n",
       " 1.0,\n",
       " 0.99977535,\n",
       " 0.9789473,\n",
       " 0.304698,\n",
       " 0.6126453,\n",
       " 0.87817013,\n",
       " 0.9999939,\n",
       " 0.86773664,\n",
       " 0.99994457,\n",
       " 0.9927965,\n",
       " 0.7966927,\n",
       " 1.0,\n",
       " 1.0,\n",
       " 0.98157585,\n",
       " 0.5574337,\n",
       " 0.46969107,\n",
       " 0.95995885,\n",
       " 1.0,\n",
       " 0.9936702,\n",
       " 1.0,\n",
       " 0.5152058,\n",
       " 1.0,\n",
       " 0.9999974,\n",
       " 0.9999658,\n",
       " 1.0,\n",
       " 0.94993013,\n",
       " 0.9924516,\n",
       " 0.99999416,\n",
       " 0.9995316,\n",
       " 0.9999796,\n",
       " 0.9998945,\n",
       " 0.984994,\n",
       " 0.98956645,\n",
       " 1.0,\n",
       " 0.9996679,\n",
       " 0.37641802,\n",
       " 1.0,\n",
       " 0.3242475,\n",
       " 0.9925564,\n",
       " 0.9999902,\n",
       " 0.9918805,\n",
       " 0.9739042,\n",
       " 0.87900686,\n",
       " 0.9999951,\n",
       " 0.8428732,\n",
       " 0.9999893,\n",
       " 0.7320109,\n",
       " 0.43851084,\n",
       " 0.99999416,\n",
       " 0.99995613,\n",
       " 0.97935677,\n",
       " 0.8797468,\n",
       " 0.36239192,\n",
       " 0.7876761,\n",
       " 0.84915084,\n",
       " 1.0,\n",
       " 0.99964607,\n",
       " 0.99999976,\n",
       " 0.808761,\n",
       " 0.99997663,\n",
       " 0.9748684,\n",
       " 0.9994943,\n",
       " 0.81782645,\n",
       " 1.0,\n",
       " 0.99996805]"
      ]
     },
     "execution_count": 46,
     "metadata": {},
     "output_type": "execute_result"
    }
   ],
   "source": [
    "top_new_preds"
   ]
  },
  {
   "cell_type": "code",
   "execution_count": 29,
   "metadata": {},
   "outputs": [
    {
     "data": {
      "text/plain": [
       "[0.9998197,\n",
       " 0.9999857,\n",
       " 0.6153178,\n",
       " 0.4313987,\n",
       " 0.7611526,\n",
       " 0.9754587,\n",
       " 0.9993623,\n",
       " 0.47502753,\n",
       " 1.0,\n",
       " 1.0,\n",
       " 0.9650635,\n",
       " 0.9999994,\n",
       " 1.0,\n",
       " 0.99999964,\n",
       " 0.9999982,\n",
       " 1.0,\n",
       " 1.0,\n",
       " 0.9504943,\n",
       " 0.6424526,\n",
       " 0.9656913,\n",
       " 0.99846447,\n",
       " 0.99999976,\n",
       " 0.88269275,\n",
       " 0.9999361,\n",
       " 0.6535638,\n",
       " 0.6010827,\n",
       " 0.96058077,\n",
       " 0.6660075,\n",
       " 0.5411889,\n",
       " 0.88579583,\n",
       " 0.9999999,\n",
       " 0.9988379,\n",
       " 0.5634622,\n",
       " 0.98361546,\n",
       " 0.87630296,\n",
       " 1.0,\n",
       " 0.99999857,\n",
       " 0.824423,\n",
       " 1.0,\n",
       " 0.94777364,\n",
       " 0.94453424,\n",
       " 0.99090624,\n",
       " 0.9999999,\n",
       " 0.99999535,\n",
       " 0.9999999,\n",
       " 0.7226708,\n",
       " 0.999121,\n",
       " 0.99997354,\n",
       " 0.9994356,\n",
       " 0.9984993,\n",
       " 0.999995,\n",
       " 0.94422275,\n",
       " 0.99999964,\n",
       " 0.8782475,\n",
       " 0.62191176,\n",
       " 0.93916553,\n",
       " 0.89158714,\n",
       " 0.9989759,\n",
       " 0.99979776,\n",
       " 0.9983359,\n",
       " 1.0,\n",
       " 0.7148453,\n",
       " 1.0,\n",
       " 0.9995603,\n",
       " 0.9786442,\n",
       " 0.9063114,\n",
       " 0.9887651,\n",
       " 0.95021164,\n",
       " 0.96139216,\n",
       " 1.0,\n",
       " 0.5721134,\n",
       " 1.0,\n",
       " 0.52803254,\n",
       " 0.9998375,\n",
       " 1.0,\n",
       " 0.81635296,\n",
       " 0.41499525,\n",
       " 0.6262551,\n",
       " 1.0,\n",
       " 0.9999995,\n",
       " 1.0,\n",
       " 0.98986477,\n",
       " 1.0,\n",
       " 0.99928504,\n",
       " 0.9999994,\n",
       " 0.9989973,\n",
       " 1.0,\n",
       " 0.9999931,\n",
       " 1.0,\n",
       " 0.57656175,\n",
       " 0.9988205,\n",
       " 0.97924864,\n",
       " 0.66297203,\n",
       " 0.9664047,\n",
       " 0.9999627,\n",
       " 0.9884647,\n",
       " 0.85476923,\n",
       " 1.0,\n",
       " 1.0,\n",
       " 0.9999932,\n",
       " 0.99999905,\n",
       " 0.508777,\n",
       " 1.0,\n",
       " 1.0,\n",
       " 0.6411939,\n",
       " 0.99999964,\n",
       " 1.0,\n",
       " 0.77523905,\n",
       " 0.955711,\n",
       " 0.9995301,\n",
       " 1.0,\n",
       " 0.99999833,\n",
       " 0.97117525,\n",
       " 0.40281904,\n",
       " 0.9942444,\n",
       " 1.0,\n",
       " 1.0,\n",
       " 0.9366191,\n",
       " 0.62115586,\n",
       " 0.99999285,\n",
       " 1.0,\n",
       " 0.9999999,\n",
       " 1.0,\n",
       " 0.99945146,\n",
       " 0.99786913,\n",
       " 0.4600846,\n",
       " 0.9856308,\n",
       " 0.572761,\n",
       " 0.8511937,\n",
       " 1.0,\n",
       " 0.9999999,\n",
       " 0.9999999,\n",
       " 0.9996586,\n",
       " 0.9993542,\n",
       " 0.8000556,\n",
       " 0.9631397,\n",
       " 0.99999356,\n",
       " 1.0,\n",
       " 0.9999976,\n",
       " 0.8193001,\n",
       " 0.67264867,\n",
       " 0.9869399,\n",
       " 0.98812556,\n",
       " 1.0,\n",
       " 1.0,\n",
       " 0.9682321,\n",
       " 1.0,\n",
       " 0.39206094,\n",
       " 0.99842864,\n",
       " 0.993168,\n",
       " 0.999979,\n",
       " 0.99999046,\n",
       " 0.99161994,\n",
       " 0.9975223,\n",
       " 0.99984026,\n",
       " 0.9999988,\n",
       " 0.9999976,\n",
       " 0.45964321,\n",
       " 0.76901776,\n",
       " 0.83850056,\n",
       " 0.9421939,\n",
       " 0.9999999,\n",
       " 0.9999907,\n",
       " 1.0,\n",
       " 0.76591617,\n",
       " 0.31194776,\n",
       " 0.996819,\n",
       " 0.9999999,\n",
       " 0.501429,\n",
       " 0.4490653,\n",
       " 1.0,\n",
       " 0.9872745,\n",
       " 1.0,\n",
       " 1.0,\n",
       " 1.0,\n",
       " 0.7570249,\n",
       " 0.99927133,\n",
       " 0.99999964,\n",
       " 0.9999963,\n",
       " 0.79500383,\n",
       " 0.951816,\n",
       " 0.4836792,\n",
       " 0.53390384,\n",
       " 0.9915455,\n",
       " 0.49384108,\n",
       " 0.92438215,\n",
       " 0.9595641,\n",
       " 0.9956772,\n",
       " 0.6432281,\n",
       " 0.99999964,\n",
       " 0.99990153,\n",
       " 0.95251,\n",
       " 1.0,\n",
       " 1.0,\n",
       " 0.62812126,\n",
       " 1.0,\n",
       " 1.0,\n",
       " 0.94650126,\n",
       " 0.99716115,\n",
       " 0.542345,\n",
       " 1.0,\n",
       " 0.9999994,\n",
       " 0.833867,\n",
       " 0.71689343,\n",
       " 0.8592978,\n",
       " 0.96355295,\n",
       " 0.5642445,\n",
       " 0.96166426,\n",
       " 0.9999989,\n",
       " 1.0,\n",
       " 0.999985,\n",
       " 0.8415225,\n",
       " 0.99998295,\n",
       " 1.0,\n",
       " 1.0,\n",
       " 0.56980664,\n",
       " 0.99999845,\n",
       " 0.9999999,\n",
       " 0.9996948,\n",
       " 0.97647744,\n",
       " 1.0,\n",
       " 0.99728584,\n",
       " 0.9698042,\n",
       " 0.9510582,\n",
       " 0.9730675,\n",
       " 0.99006546,\n",
       " 0.34067243,\n",
       " 0.98707426,\n",
       " 0.7876143,\n",
       " 0.9999999,\n",
       " 1.0,\n",
       " 0.57164055,\n",
       " 0.90265495,\n",
       " 1.0,\n",
       " 0.8455101,\n",
       " 0.39105523,\n",
       " 0.9993569,\n",
       " 0.9999143,\n",
       " 0.38410822,\n",
       " 0.9492913,\n",
       " 0.99669963,\n",
       " 0.978872,\n",
       " 0.7764023,\n",
       " 0.6245534,\n",
       " 1.0,\n",
       " 0.82977337,\n",
       " 1.0,\n",
       " 0.99822384,\n",
       " 0.99865746,\n",
       " 0.7068268,\n",
       " 0.99601233,\n",
       " 0.33360374,\n",
       " 0.7490646,\n",
       " 0.39069104,\n",
       " 1.0,\n",
       " 0.9874942,\n",
       " 0.47588784,\n",
       " 0.99997807,\n",
       " 0.9999676,\n",
       " 0.937433,\n",
       " 0.61571676,\n",
       " 0.6441979,\n",
       " 0.95849943,\n",
       " 0.8815342,\n",
       " 0.86705023,\n",
       " 0.9999999,\n",
       " 0.6961963,\n",
       " 1.0,\n",
       " 0.99996483,\n",
       " 0.33590704,\n",
       " 0.9999974,\n",
       " 0.99954814,\n",
       " 0.99928916,\n",
       " 0.68273973,\n",
       " 1.0,\n",
       " 0.9999989,\n",
       " 0.9900247,\n",
       " 0.46662852,\n",
       " 1.0,\n",
       " 0.99999833,\n",
       " 0.39115387,\n",
       " 0.7278805,\n",
       " 0.9989405,\n",
       " 1.0,\n",
       " 1.0,\n",
       " 1.0,\n",
       " 0.9999993,\n",
       " 0.7383878,\n",
       " 0.9445066,\n",
       " 0.88331896,\n",
       " 0.78323936,\n",
       " 0.95130485,\n",
       " 0.6584333,\n",
       " 0.9950589,\n",
       " 0.6041565,\n",
       " 1.0,\n",
       " 0.9500501,\n",
       " 0.68039685,\n",
       " 1.0,\n",
       " 0.9999974,\n",
       " 1.0,\n",
       " 0.7450413,\n",
       " 0.6676729,\n",
       " 1.0,\n",
       " 0.95933473,\n",
       " 1.0,\n",
       " 0.6940869,\n",
       " 1.0,\n",
       " 1.0,\n",
       " 0.85748386,\n",
       " 0.9934702,\n",
       " 0.77574426,\n",
       " 0.8163756,\n",
       " 0.9999924,\n",
       " 0.48324043,\n",
       " 0.9995449,\n",
       " 0.5569265,\n",
       " 0.99990475,\n",
       " 0.49024978,\n",
       " 0.9999981,\n",
       " 1.0,\n",
       " 0.9714584,\n",
       " 0.999977,\n",
       " 0.98993266,\n",
       " 0.95381594,\n",
       " 0.9191283,\n",
       " 0.99973816,\n",
       " 0.8414107,\n",
       " 0.94740415,\n",
       " 0.9999254,\n",
       " 1.0,\n",
       " 0.99999976,\n",
       " 0.9996055,\n",
       " 0.9872071,\n",
       " 0.9959015,\n",
       " 1.0,\n",
       " 1.0,\n",
       " 0.9999883,\n",
       " 0.9956424,\n",
       " 0.72543424,\n",
       " 0.9999943,\n",
       " 0.90238494,\n",
       " 0.99999964,\n",
       " 0.9999999,\n",
       " 0.78094596,\n",
       " 0.8458702,\n",
       " 0.6090693,\n",
       " 0.46494427,\n",
       " 0.81925744,\n",
       " 0.9999981,\n",
       " 0.5441521,\n",
       " 0.99994946,\n",
       " 1.0,\n",
       " 0.6460795,\n",
       " 0.9898561,\n",
       " 0.8967804,\n",
       " 0.99970204,\n",
       " 0.99916446,\n",
       " 0.9907532,\n",
       " 0.9999993,\n",
       " 0.9999809,\n",
       " 0.6380007,\n",
       " 0.9808249,\n",
       " 0.99999917,\n",
       " 0.999853,\n",
       " 1.0,\n",
       " 0.9999994,\n",
       " 0.5690569,\n",
       " 0.9240908,\n",
       " 0.9998153,\n",
       " 0.9891717,\n",
       " 1.0,\n",
       " 0.27235046,\n",
       " 0.9999732,\n",
       " 0.95386237,\n",
       " 0.9997615,\n",
       " 0.99976486,\n",
       " 0.7645828,\n",
       " 0.98846495,\n",
       " 1.0,\n",
       " 0.591136,\n",
       " 0.72461617,\n",
       " 0.9999994,\n",
       " 0.94853735,\n",
       " 1.0,\n",
       " 1.0,\n",
       " 0.9999993,\n",
       " 0.9007357,\n",
       " 0.6803117,\n",
       " 0.9997652,\n",
       " 0.99998295,\n",
       " 1.0,\n",
       " 0.91474223,\n",
       " 1.0,\n",
       " 0.9999993,\n",
       " 0.99999726,\n",
       " 0.9978853,\n",
       " 0.7855644,\n",
       " 0.476151,\n",
       " 0.939076,\n",
       " 0.92852104,\n",
       " 0.9999994,\n",
       " 0.7715838,\n",
       " 0.99995124,\n",
       " 0.65260637,\n",
       " 0.5091358,\n",
       " 0.9999999,\n",
       " 0.99990547,\n",
       " 0.9996737,\n",
       " 0.9990771,\n",
       " 0.7947334,\n",
       " 0.99999595,\n",
       " 0.8694199,\n",
       " 0.989447,\n",
       " 1.0,\n",
       " 0.8874537,\n",
       " 0.7374621,\n",
       " 0.9999596,\n",
       " 1.0,\n",
       " 1.0,\n",
       " 0.9981875,\n",
       " 0.99999213,\n",
       " 0.6667579,\n",
       " 0.99998844,\n",
       " 0.99999964,\n",
       " 0.99999964,\n",
       " 0.7786625,\n",
       " 1.0,\n",
       " 0.5134826,\n",
       " 0.98428506,\n",
       " 0.99965394,\n",
       " 1.0,\n",
       " 1.0,\n",
       " 0.47891423,\n",
       " 0.999979,\n",
       " 1.0,\n",
       " 0.7079833,\n",
       " 0.9999764,\n",
       " 0.9868146,\n",
       " 0.9995022,\n",
       " 0.8392121,\n",
       " 0.9955819,\n",
       " 0.92172337,\n",
       " 1.0,\n",
       " 0.92702067,\n",
       " 0.9496481,\n",
       " 0.99999475,\n",
       " 0.62358755,\n",
       " 0.99931765,\n",
       " 0.9727025,\n",
       " 0.999985,\n",
       " 1.0,\n",
       " 1.0,\n",
       " 0.99835545,\n",
       " 1.0,\n",
       " 0.99848783,\n",
       " 1.0,\n",
       " 0.92512244,\n",
       " 0.99999976,\n",
       " 1.0,\n",
       " 0.9999994,\n",
       " 0.9999999,\n",
       " 0.6875075,\n",
       " 0.9065307,\n",
       " 0.9195103,\n",
       " 0.9893106,\n",
       " 0.9999628,\n",
       " 1.0,\n",
       " 0.8961093,\n",
       " 1.0,\n",
       " 0.5340571,\n",
       " 0.9999938,\n",
       " 0.88068855,\n",
       " 0.8767948,\n",
       " 0.99982244,\n",
       " 1.0,\n",
       " 0.9999999,\n",
       " 0.9999906,\n",
       " 0.99745995,\n",
       " 0.99998283,\n",
       " 0.7455462,\n",
       " 0.8433347,\n",
       " 0.99979895,\n",
       " 0.94996566,\n",
       " 0.70449245,\n",
       " 0.7308683,\n",
       " 0.8704074,\n",
       " 0.9994324,\n",
       " 0.99958974,\n",
       " 0.99847287,\n",
       " 0.9180707,\n",
       " 0.49702176,\n",
       " 1.0,\n",
       " 0.9975852,\n",
       " 0.99952817,\n",
       " 0.6573071,\n",
       " 0.99932337,\n",
       " 1.0,\n",
       " 1.0,\n",
       " 0.8192875,\n",
       " 0.6175738,\n",
       " 0.81086236,\n",
       " 0.92136854,\n",
       " 0.99989057,\n",
       " 0.99839044,\n",
       " 0.8140845,\n",
       " 0.82746154,\n",
       " 0.98915696,\n",
       " 0.67231643,\n",
       " 0.99776566,\n",
       " 0.9993642,\n",
       " 1.0,\n",
       " 0.9999875,\n",
       " 1.0,\n",
       " 1.0,\n",
       " 0.9999963,\n",
       " 0.9846459,\n",
       " 1.0,\n",
       " 0.9999989,\n",
       " 0.98980427,\n",
       " 1.0,\n",
       " 1.0,\n",
       " 0.9975649,\n",
       " 0.91120046,\n",
       " 0.9997254,\n",
       " 1.0,\n",
       " 0.8354196,\n",
       " 0.30932602,\n",
       " 1.0,\n",
       " 0.999982,\n",
       " 0.5727551,\n",
       " 0.9964399,\n",
       " 0.99999905,\n",
       " 0.99202454,\n",
       " 0.9999963,\n",
       " 0.7816242,\n",
       " 0.54965127,\n",
       " 0.99999523,\n",
       " 1.0,\n",
       " 0.9999969,\n",
       " 1.0,\n",
       " 0.9636537,\n",
       " 1.0,\n",
       " 0.869105,\n",
       " 0.33973184,\n",
       " 0.7857633,\n",
       " 0.50497884,\n",
       " 0.99770856,\n",
       " 0.99305975,\n",
       " 0.7566488,\n",
       " 0.52559906,\n",
       " 0.9813959,\n",
       " 1.0,\n",
       " 0.99999976,\n",
       " 0.46496937,\n",
       " 0.72827315,\n",
       " 1.0,\n",
       " 0.8995784,\n",
       " 0.9999995,\n",
       " 1.0,\n",
       " 0.6164639,\n",
       " 0.9994967,\n",
       " 1.0,\n",
       " 0.99999833,\n",
       " 0.98763627,\n",
       " 0.79464024,\n",
       " 0.9775679,\n",
       " 0.7914745,\n",
       " 0.99712026,\n",
       " 0.99999523,\n",
       " 1.0,\n",
       " 0.85381466,\n",
       " 1.0,\n",
       " 1.0,\n",
       " 0.58429456,\n",
       " 0.5443457,\n",
       " 1.0,\n",
       " 0.9999987,\n",
       " 0.9753093,\n",
       " 0.9154649,\n",
       " 0.56579137,\n",
       " 0.999851,\n",
       " 0.94903374,\n",
       " 1.0,\n",
       " 0.8600495,\n",
       " 0.8442593,\n",
       " 0.49906203,\n",
       " 0.99985194,\n",
       " 1.0,\n",
       " 1.0,\n",
       " 0.6834756,\n",
       " 0.9012962,\n",
       " 0.98604935,\n",
       " 1.0,\n",
       " 0.99991643,\n",
       " 0.80084,\n",
       " 0.7449025,\n",
       " 0.9999211,\n",
       " 0.9204375,\n",
       " 1.0,\n",
       " 0.9999175,\n",
       " 0.9928966,\n",
       " 0.999164,\n",
       " 0.8549307,\n",
       " 0.9999516,\n",
       " 1.0,\n",
       " 1.0,\n",
       " 0.9012798,\n",
       " 0.99998605,\n",
       " 0.3573674,\n",
       " 1.0,\n",
       " 1.0,\n",
       " 0.6098342,\n",
       " 1.0,\n",
       " 0.9976927,\n",
       " 0.86621743,\n",
       " 0.845741,\n",
       " 0.9993187,\n",
       " 0.99999976,\n",
       " 1.0,\n",
       " 0.99205995,\n",
       " 0.9999906,\n",
       " 0.81059605,\n",
       " 0.5158903,\n",
       " 1.0,\n",
       " 0.9005654,\n",
       " 0.99617034,\n",
       " 0.9999763,\n",
       " 0.9941093,\n",
       " 0.9996138,\n",
       " 0.99999714,\n",
       " 0.9996817,\n",
       " 0.9999994,\n",
       " 0.9999752,\n",
       " 0.7927689,\n",
       " 0.98846215,\n",
       " 0.99999034,\n",
       " 0.45656696,\n",
       " 0.96719164,\n",
       " 0.90250206,\n",
       " 0.9263734,\n",
       " 0.9963387,\n",
       " 0.99991024,\n",
       " 1.0,\n",
       " 1.0,\n",
       " 0.7549486,\n",
       " 0.9999999,\n",
       " 0.99993396,\n",
       " 0.97499233,\n",
       " 0.47326928,\n",
       " 1.0,\n",
       " 1.0,\n",
       " 0.999998,\n",
       " 0.9994885,\n",
       " 1.0,\n",
       " 0.97011125,\n",
       " 0.90855163,\n",
       " 1.0,\n",
       " 0.61099786,\n",
       " 1.0,\n",
       " 1.0,\n",
       " 0.9999993,\n",
       " 0.5366315,\n",
       " 1.0,\n",
       " 0.44930962,\n",
       " 0.99925476,\n",
       " 0.9998658,\n",
       " 0.9904108,\n",
       " 0.999634,\n",
       " 1.0,\n",
       " 0.9995061,\n",
       " 1.0,\n",
       " 0.6294872,\n",
       " 0.8115918,\n",
       " 0.9993554,\n",
       " 0.9999999,\n",
       " 1.0,\n",
       " 0.5205074,\n",
       " 0.9482965,\n",
       " 0.99837565,\n",
       " 0.9999988,\n",
       " 0.9898795,\n",
       " 1.0,\n",
       " 1.0,\n",
       " 0.4866333,\n",
       " 0.9999987,\n",
       " 0.942432,\n",
       " 0.8396198,\n",
       " 0.30073258,\n",
       " 0.6258734,\n",
       " 0.9999927,\n",
       " 1.0,\n",
       " 1.0,\n",
       " 0.9999999,\n",
       " 0.98137796,\n",
       " 1.0,\n",
       " 0.7295477,\n",
       " 0.94318765,\n",
       " 0.5213163,\n",
       " 0.9840285,\n",
       " 0.48015657,\n",
       " 0.76060474,\n",
       " 0.9999708,\n",
       " 1.0,\n",
       " 1.0,\n",
       " 0.9996697,\n",
       " 0.99998534,\n",
       " 0.8784462,\n",
       " 1.0,\n",
       " 0.9993617,\n",
       " 1.0,\n",
       " 0.9999943,\n",
       " 0.81734395,\n",
       " 0.99975187,\n",
       " 0.93900955,\n",
       " 0.9978661,\n",
       " 0.9965668,\n",
       " 0.9580385,\n",
       " 1.0,\n",
       " 0.9356407,\n",
       " 0.9184684,\n",
       " 0.9999442,\n",
       " 1.0,\n",
       " 1.0,\n",
       " 0.9999995,\n",
       " 0.9999521,\n",
       " 0.98132175,\n",
       " 0.9999546,\n",
       " 0.9999962,\n",
       " 0.9999932,\n",
       " 1.0,\n",
       " 0.9448396,\n",
       " 0.9593663,\n",
       " 0.47158045,\n",
       " 0.9999567,\n",
       " 0.9999963,\n",
       " 1.0,\n",
       " 0.7522352,\n",
       " 0.9988673,\n",
       " 0.99856347,\n",
       " 0.8874692,\n",
       " 0.9787324,\n",
       " 0.6714358,\n",
       " 0.81460106,\n",
       " 0.99998915,\n",
       " 0.87113994,\n",
       " 0.9999981,\n",
       " 0.99999845,\n",
       " 0.66104597,\n",
       " 0.3918526,\n",
       " 0.9999999,\n",
       " 0.99995756,\n",
       " 0.9629351,\n",
       " 1.0,\n",
       " 1.0,\n",
       " 0.6776442,\n",
       " 0.44686335,\n",
       " 0.9564125,\n",
       " 0.99983597,\n",
       " 1.0,\n",
       " 0.99975604,\n",
       " 1.0,\n",
       " 0.60821253,\n",
       " 0.9871852,\n",
       " 0.9999188,\n",
       " 0.99999976,\n",
       " 0.78793263,\n",
       " 0.611876,\n",
       " 1.0,\n",
       " 0.99996805,\n",
       " 0.9999914,\n",
       " 0.9997662,\n",
       " 1.0,\n",
       " 0.6850002,\n",
       " 1.0,\n",
       " 1.0,\n",
       " 0.9866087,\n",
       " 1.0,\n",
       " 0.9130925,\n",
       " 0.6425352,\n",
       " 0.9908664,\n",
       " 0.57031655,\n",
       " 1.0,\n",
       " 1.0,\n",
       " 0.67101157,\n",
       " 0.9892687,\n",
       " 0.6469331,\n",
       " 0.71696955,\n",
       " 0.6286469,\n",
       " 0.9996408,\n",
       " 0.85657215,\n",
       " 0.95382774,\n",
       " 0.99999833,\n",
       " 0.9880648,\n",
       " 0.99999976,\n",
       " 1.0,\n",
       " 1.0,\n",
       " 0.6034178,\n",
       " 0.99999857,\n",
       " 1.0,\n",
       " 0.9999987,\n",
       " 0.9863616,\n",
       " 0.7779683,\n",
       " 1.0,\n",
       " 0.98040193,\n",
       " 1.0,\n",
       " 1.0,\n",
       " 0.8042769,\n",
       " 0.7328986,\n",
       " 0.38761812,\n",
       " 0.69666916,\n",
       " 0.99998343,\n",
       " 0.9991912,\n",
       " 0.9931926,\n",
       " 0.99999654,\n",
       " 0.99616134,\n",
       " 0.9998512,\n",
       " 1.0,\n",
       " 1.0,\n",
       " 0.96024793,\n",
       " 0.65637654,\n",
       " 0.9994962,\n",
       " 0.99999905,\n",
       " 0.99995697,\n",
       " 0.99924755,\n",
       " 0.87358564,\n",
       " 1.0,\n",
       " 0.998782,\n",
       " 0.99999964,\n",
       " 0.99344784,\n",
       " 0.9202813,\n",
       " 1.0,\n",
       " 0.9874069,\n",
       " 0.73318475,\n",
       " 0.7701164,\n",
       " 0.93233556,\n",
       " 0.9999788,\n",
       " 0.43286353,\n",
       " 0.7553393,\n",
       " 0.9998561,\n",
       " 0.71917695,\n",
       " 0.99982446,\n",
       " 0.9171931,\n",
       " 1.0,\n",
       " 1.0,\n",
       " 0.9999982,\n",
       " 0.8269129,\n",
       " 0.92517656,\n",
       " 0.9999943,\n",
       " 0.60957557,\n",
       " 0.56400174,\n",
       " 0.54231834,\n",
       " 1.0,\n",
       " 0.99999976,\n",
       " 0.99913305,\n",
       " 0.50959545,\n",
       " 0.99999905,\n",
       " 1.0,\n",
       " 0.97384924,\n",
       " 1.0,\n",
       " 0.8947538,\n",
       " 0.73290557,\n",
       " 1.0,\n",
       " 0.94197935,\n",
       " 1.0,\n",
       " 0.9999957,\n",
       " 1.0,\n",
       " 1.0,\n",
       " 0.9983134,\n",
       " 0.9995628,\n",
       " 0.99999845,\n",
       " 0.9104191,\n",
       " 1.0,\n",
       " 1.0,\n",
       " 1.0,\n",
       " 0.4694554,\n",
       " 0.998602,\n",
       " 0.9999782,\n",
       " 0.47247598,\n",
       " 1.0,\n",
       " 0.99613875,\n",
       " 0.51146394,\n",
       " 0.71109015,\n",
       " 0.9930419,\n",
       " 0.9999993,\n",
       " 1.0,\n",
       " 1.0,\n",
       " 0.99999976,\n",
       " 0.9992373,\n",
       " 0.7460986,\n",
       " 0.99996746,\n",
       " 0.9172664,\n",
       " 0.9062966,\n",
       " 0.9997384,\n",
       " 0.99863714,\n",
       " 0.46607023,\n",
       " 1.0,\n",
       " 0.6224515,\n",
       " 0.50609756,\n",
       " 1.0,\n",
       " 0.999257,\n",
       " 0.99999964,\n",
       " 0.99997056,\n",
       " 0.86065656,\n",
       " 0.87647986,\n",
       " 0.9599573,\n",
       " 0.5253315,\n",
       " 0.9995503,\n",
       " 0.9788932,\n",
       " 1.0,\n",
       " 0.9616831,\n",
       " 0.9998889,\n",
       " 0.47627738,\n",
       " 0.9996247,\n",
       " 1.0,\n",
       " 0.7258368,\n",
       " 1.0,\n",
       " 1.0,\n",
       " 1.0,\n",
       " 1.0,\n",
       " 0.99972695,\n",
       " 0.9977749,\n",
       " 0.99999714,\n",
       " 0.6861069,\n",
       " 0.99999917,\n",
       " 0.55141,\n",
       " 0.99876714,\n",
       " 0.99999404,\n",
       " 0.99999595,\n",
       " 0.9887999,\n",
       " 0.99999917,\n",
       " 0.40897655,\n",
       " 1.0,\n",
       " 0.4969206,\n",
       " 0.83617437,\n",
       " 1.0,\n",
       " 0.99977535,\n",
       " 0.9789473,\n",
       " 0.34067243,\n",
       " 0.6126453,\n",
       " 0.87817013,\n",
       " 0.9999939,\n",
       " 0.8703665,\n",
       " 0.99994457,\n",
       " 0.9927965,\n",
       " 0.7966927,\n",
       " 1.0,\n",
       " 1.0,\n",
       " 0.9873574,\n",
       " 0.5649019,\n",
       " 0.5135232,\n",
       " 0.95995885,\n",
       " 1.0,\n",
       " 0.99509573,\n",
       " 1.0,\n",
       " 0.5829415,\n",
       " 1.0,\n",
       " 0.9999974,\n",
       " 0.9999658,\n",
       " 1.0,\n",
       " 0.94993013,\n",
       " 0.9924516,\n",
       " 0.998343,\n",
       " 0.9993206,\n",
       " 0.9999796,\n",
       " 0.99984765,\n",
       " 0.99124545,\n",
       " 0.99063766,\n",
       " 1.0,\n",
       " 0.9996679,\n",
       " 0.37641802,\n",
       " 1.0,\n",
       " 0.3242475,\n",
       " 0.9939805,\n",
       " 0.99999213,\n",
       " 0.9907223,\n",
       " 0.9809068,\n",
       " 0.87932485,\n",
       " 0.9999951,\n",
       " 0.8428732,\n",
       " 0.9999932,\n",
       " 0.550392,\n",
       " 0.43575147,\n",
       " 0.9999949,\n",
       " 0.9999981,\n",
       " 0.97935677,\n",
       " 0.90574634,\n",
       " 0.36239192,\n",
       " 0.8453208,\n",
       " 0.83769333,\n",
       " 1.0,\n",
       " 0.9997396,\n",
       " 0.99999976,\n",
       " 0.8406722,\n",
       " 0.99997663,\n",
       " 0.9748684,\n",
       " 0.9994943,\n",
       " 0.81782645,\n",
       " 1.0,\n",
       " 0.99996805]"
      ]
     },
     "execution_count": 29,
     "metadata": {},
     "output_type": "execute_result"
    }
   ],
   "source": [
    "top_true_preds"
   ]
  },
  {
   "cell_type": "code",
   "execution_count": 30,
   "metadata": {},
   "outputs": [],
   "source": [
    "true_lime = []\n",
    "for i in range(sample_size):\n",
    "    true_lime.append((top_true_preds[i], top_lime_preds[i]))"
   ]
  },
  {
   "cell_type": "code",
   "execution_count": 31,
   "metadata": {},
   "outputs": [],
   "source": [
    "true_lime.sort(key=lambda x: -x[0])"
   ]
  },
  {
   "cell_type": "code",
   "execution_count": 32,
   "metadata": {},
   "outputs": [
    {
     "data": {
      "text/plain": [
       "[(1.0, 0.9997133661117004),\n",
       " (1.0, 0.9997133661117004),\n",
       " (1.0, 0.9997058158585782),\n",
       " (1.0, 0.999725146301154),\n",
       " (1.0, 0.9997511412296045),\n",
       " (1.0, 1.000000026556526),\n",
       " (1.0, 0.9999895334953536),\n",
       " (1.0, 0.9997268692191943),\n",
       " (1.0, 0.9997238109359227),\n",
       " (1.0, 0.9999999999249328),\n",
       " (1.0, 0.9999923239381792),\n",
       " (1.0, 0.9965639267785766),\n",
       " (1.0, 0.999999236438749),\n",
       " (1.0, 0.9967003357527584),\n",
       " (1.0, 0.9997207184519863),\n",
       " (1.0, 1.0000000028914204),\n",
       " (1.0, 0.9997136916130005),\n",
       " (1.0, 0.9999979378637205),\n",
       " (1.0, 0.999695847072188),\n",
       " (1.0, 0.9966395284492208),\n",
       " (1.0, 0.9996180031202939),\n",
       " (1.0, 0.9965263877406809),\n",
       " (1.0, 0.999809226654311),\n",
       " (1.0, 1.0000000775184645),\n",
       " (1.0, 0.999717591141923),\n",
       " (1.0, 0.9997501746528037),\n",
       " (1.0, 0.9997147523119867),\n",
       " (1.0, 0.9968645432998455),\n",
       " (1.0, 1.0000000080565012),\n",
       " (1.0, 0.999704759860988),\n",
       " (1.0, 0.9998120452707252),\n",
       " (1.0, 0.9999647166593127),\n",
       " (1.0, 0.9999981282267412),\n",
       " (1.0, 0.9967968361906474),\n",
       " (1.0, 0.9997025172983243),\n",
       " (1.0, 0.9997079937701003),\n",
       " (1.0, 0.9997058546831759),\n",
       " (1.0, 0.9997165408558162),\n",
       " (1.0, 0.9997960337179816),\n",
       " (1.0, 0.9966174405494713),\n",
       " (1.0, 0.9962774997253683),\n",
       " (1.0, 0.9973156488916802),\n",
       " (1.0, 0.9999992726953737),\n",
       " (1.0, 0.9997154866049784),\n",
       " (1.0, 0.9996814519013763),\n",
       " (1.0, 0.9998189226133402),\n",
       " (1.0, 0.9997278811527803),\n",
       " (1.0, 0.9997867434028922),\n",
       " (1.0, 0.9962587140278562),\n",
       " (1.0, 0.9996980589365864),\n",
       " (1.0, 0.9997883208554661),\n",
       " (1.0, 0.9997426270394008),\n",
       " (1.0, 0.9997014092206642),\n",
       " (1.0, 0.99999999909473),\n",
       " (1.0, 0.9967587793212769),\n",
       " (1.0, 0.9997271798156078),\n",
       " (1.0, 0.9965212113631856),\n",
       " (1.0, 0.9997147523119865),\n",
       " (1.0, 0.9966056603669295),\n",
       " (1.0, 0.9997112294652855),\n",
       " (1.0, 0.9997025172983242),\n",
       " (1.0, 0.9999948855108335),\n",
       " (1.0, 0.9999902509944402),\n",
       " (1.0, 1.0000000000420581),\n",
       " (1.0, 0.9997196799161876),\n",
       " (1.0, 0.9999968322601623),\n",
       " (1.0, 0.9997168619051086),\n",
       " (1.0, 0.9997248684040368),\n",
       " (1.0, 0.9967710868181509),\n",
       " (1.0, 0.9995135542470143),\n",
       " (1.0, 0.9997090764657173),\n",
       " (1.0, 0.9999999891221323),\n",
       " (1.0, 0.9997368242274725),\n",
       " (1.0, 0.9999999975000317),\n",
       " (1.0, 0.9999990016233659),\n",
       " (1.0, 0.9997278811527803),\n",
       " (1.0, 1.0000000000773557),\n",
       " (1.0, 0.9960128005134155),\n",
       " (1.0, 0.9999999969774304),\n",
       " (1.0, 0.996623137113028),\n",
       " (1.0, 0.9997351687834453),\n",
       " (1.0, 0.9999978898760487),\n",
       " (1.0, 0.9997217531183402),\n",
       " (1.0, 0.9999597475069515),\n",
       " (1.0, 0.999735168783445),\n",
       " (1.0, 0.9964468473090582),\n",
       " (1.0, 0.9997794947091403),\n",
       " (1.0, 1.0),\n",
       " (1.0, 0.9997144283651069),\n",
       " (1.0, 0.999696933399934),\n",
       " (1.0, 0.9997407065655204),\n",
       " (1.0, 0.9997416685103191),\n",
       " (1.0, 0.9997147523119865),\n",
       " (1.0, 0.9997104856185255),\n",
       " (1.0, 0.99999781042169),\n",
       " (1.0, 0.9960437109452466),\n",
       " (1.0, 0.9997179108465487),\n",
       " (1.0, 0.9999989726497116),\n",
       " (1.0, 0.996427118577374),\n",
       " (1.0, 0.9971357084254412),\n",
       " (1.0, 0.999737800036368),\n",
       " (1.0, 0.9962004218244301),\n",
       " (1.0, 0.9997859502007518),\n",
       " (1.0, 0.99971229982006),\n",
       " (1.0, 0.9987683984333455),\n",
       " (1.0, 0.9965200286102422),\n",
       " (1.0, 0.9997175911419232),\n",
       " (1.0, 0.9965646524168031),\n",
       " (1.0, 0.999785153990272),\n",
       " (1.0, 0.9997419748979696),\n",
       " (1.0, 0.9997072432649395),\n",
       " (1.0, 0.9997397761071526),\n",
       " (1.0, 0.9997550991926969),\n",
       " (1.0, 0.9997308947827332),\n",
       " (1.0, 0.9956862603207995),\n",
       " (1.0, 1.0000000051735645),\n",
       " (1.0, 0.9997291986501897),\n",
       " (1.0, 0.9997348620375943),\n",
       " (1.0, 0.9959438915240875),\n",
       " (1.0, 0.999702517298324),\n",
       " (1.0, 0.9997136916130006),\n",
       " (1.0, 0.9998162001329447),\n",
       " (1.0, 0.9997745208614345),\n",
       " (1.0, 0.999804923387729),\n",
       " (1.0, 1.0000002013423577),\n",
       " (1.0, 0.9997271798156079),\n",
       " (1.0, 1.0),\n",
       " (1.0, 0.9960585224959719),\n",
       " (1.0, 0.9997390785601454),\n",
       " (1.0, 0.9996858191631137),\n",
       " (1.0, 0.999798292579884),\n",
       " (1.0, 0.9998262088752352),\n",
       " (1.0, 0.9996972912388085),\n",
       " (1.0, 0.9997633327005575),\n",
       " (1.0, 1.0000000000831653),\n",
       " (1.0, 0.9997061542847989),\n",
       " (1.0, 0.999796789430615),\n",
       " (1.0, 0.9964383704772265),\n",
       " (1.0, 0.9997288893765347),\n",
       " (1.0, 0.9997426270394008),\n",
       " (1.0, 0.9997288893765348),\n",
       " (1.0, 0.9996972912388083),\n",
       " (1.0, 0.9998063680115625),\n",
       " (1.0, 0.9997123364147116),\n",
       " (1.0, 0.9964430867264547),\n",
       " (1.0, 0.9998027369864741),\n",
       " (1.0, 0.9996900860712205),\n",
       " (1.0, 1.0000010033951523),\n",
       " (1.0, 0.9997094089067867),\n",
       " (1.0, 0.9999999996359195),\n",
       " (1.0, 0.996013904501423),\n",
       " (1.0, 0.9997883208554662),\n",
       " (1.0, 0.9998806167765675),\n",
       " (1.0, 0.9999982074619165),\n",
       " (1.0, 1.0000000000404536),\n",
       " (1.0, 0.9966449337248904),\n",
       " (1.0, 0.9997898864931466),\n",
       " (1.0, 0.9999949921184728),\n",
       " (1.0, 0.9997154866049786),\n",
       " (1.0, 0.9996991800671593),\n",
       " (1.0, 0.9997407065655204),\n",
       " (1.0, 0.9999999740738962),\n",
       " (1.0, 0.9999957685380708),\n",
       " (1.0, 0.9996927561636701),\n",
       " (1.0, 0.9999995496219388),\n",
       " (1.0, 0.9967431982132874),\n",
       " (1.0, 0.9997407065655202),\n",
       " (1.0, 0.9997474058303738),\n",
       " (1.0, 0.9999596857281057),\n",
       " (1.0, 0.9999976533216026),\n",
       " (1.0, 0.9997960337179818),\n",
       " (1.0, 0.9999999903666519),\n",
       " (1.0, 0.9963741768406307),\n",
       " (1.0, 0.9997036210793644),\n",
       " (1.0, 0.9996811022190994),\n",
       " (1.0, 0.9999879111607114),\n",
       " (1.0, 0.9997278811527803),\n",
       " (1.0, 1.0),\n",
       " (1.0, 0.9997050611648212),\n",
       " (1.0, 0.9966950767033752),\n",
       " (1.0, 0.9997210345303018),\n",
       " (1.0, 0.9997050611648212),\n",
       " (1.0, 0.9997329197737208),\n",
       " (1.0, 0.9997241239844278),\n",
       " (1.0, 0.9997329197737141),\n",
       " (1.0, 0.9998092266543109),\n",
       " (1.0, 0.9997258877505447),\n",
       " (1.0, 0.9997017567095531),\n",
       " (1.0, 0.9997189559157998),\n",
       " (1.0, 0.9996685223814492),\n",
       " (1.0, 0.9963434009422271),\n",
       " (1.0, 0.9997358449014657),\n",
       " (1.0, 0.9997258535535127),\n",
       " (1.0, 0.9999863986586238),\n",
       " (1.0, 0.9999913751442483),\n",
       " (1.0, 0.9997308947827332),\n",
       " (1.0, 0.9997371305942395),\n",
       " (1.0, 0.9997278811527806),\n",
       " (1.0, 0.9997220681213819),\n",
       " (1.0, 0.9997407065655204),\n",
       " (1.0, 0.9997079937701003),\n",
       " (1.0, 0.9997269033600387),\n",
       " (1.0, 0.9997248341332947),\n",
       " (1.0, 0.9965116411908821),\n",
       " (1.0, 0.9997883208554662),\n",
       " (1.0, 0.9997271798156077),\n",
       " (1.0, 0.9997312029770932),\n",
       " (1.0, 0.9997302026164433),\n",
       " (0.9999999, 0.9997226647632915),\n",
       " (0.9999999, 0.999701637535927),\n",
       " (0.9999999, 0.9997027432292792),\n",
       " (0.9999999, 0.999727761976849),\n",
       " (0.9999999, 0.9997675852988452),\n",
       " (0.9999999, 0.9999993922648484),\n",
       " (0.9999999, 0.9997874144405169),\n",
       " (0.9999999, 0.9997092897322454),\n",
       " (0.9999999, 0.999717471967253),\n",
       " (0.9999999, 1.000000243627795),\n",
       " (0.9999999, 0.9997966702545601),\n",
       " (0.9999999, 0.9997195607412617),\n",
       " (0.9999999, 0.9997481884045988),\n",
       " (0.9999999, 0.9998040780206437),\n",
       " (0.9999999, 0.9997897673182206),\n",
       " (0.9999999, 0.9997340634582146),\n",
       " (0.9999999, 0.999790545751075),\n",
       " (0.9999999, 0.9997135724379473),\n",
       " (0.9999999, 0.9998033492254504),\n",
       " (0.99999976, 0.9997131640578613),\n",
       " (0.99999976, 0.9997392572073495),\n",
       " (0.99999976, 0.9997751195763052),\n",
       " (0.99999976, 0.9997776112696914),\n",
       " (0.99999976, 0.9999996179041729),\n",
       " (0.99999976, 0.999695925717514),\n",
       " (0.99999976, 0.999800288504955),\n",
       " (0.99999976, 0.9997896481432945),\n",
       " (0.99999976, 0.9997912021084128),\n",
       " (0.99999976, 0.9997336372616126),\n",
       " (0.99999964, 0.9959531595941453),\n",
       " (0.99999964, 0.995761331077476),\n",
       " (0.99999964, 0.9997910829332326),\n",
       " (0.99999964, 0.9997097975009988),\n",
       " (0.99999964, 0.9956520656761971),\n",
       " (0.99999964, 0.9998109867834529),\n",
       " (0.99999964, 0.9997175533198757),\n",
       " (0.99999964, 0.9962186979146751),\n",
       " (0.99999964, 0.999798682519977),\n",
       " (0.99999964, 0.9997799549848243),\n",
       " (0.9999995, 0.9996956873715989),\n",
       " (0.9999995, 0.9999978741475198),\n",
       " (0.9999995, 0.999799308097186),\n",
       " (0.9999994, 0.9997173149687597),\n",
       " (0.9999994, 0.9997235281029241),\n",
       " (0.9999994, 0.9956029368969728),\n",
       " (0.9999994, 0.995532919964944),\n",
       " (0.9999994, 0.9999993357607847),\n",
       " (0.9999994, 0.9997272852731237),\n",
       " (0.9999994, 0.9962203116428945),\n",
       " (0.9999994, 1.0000968689820668),\n",
       " (0.9999993, 0.9966736520177578),\n",
       " (0.9999993, 0.9997200381449514),\n",
       " (0.9999993, 0.9997380572851459),\n",
       " (0.9999993, 0.9998005511692122),\n",
       " (0.9999993, 0.9998154850575678),\n",
       " (0.9999993, 0.9997161468525144),\n",
       " (0.99999917, 0.9963892269768919),\n",
       " (0.99999917, 0.9996896277689147),\n",
       " (0.99999917, 0.9997882709185996),\n",
       " (0.99999905, 0.9997842005970563),\n",
       " (0.99999905, 0.9997342153624735),\n",
       " (0.99999905, 0.999711673547805),\n",
       " (0.99999905, 0.9999959708666079),\n",
       " (0.9999989, 0.9996916836107214),\n",
       " (0.9999989, 0.9997049291874552),\n",
       " (0.9999989, 0.9999980756901934),\n",
       " (0.9999988, 0.9997174457394266),\n",
       " (0.9999988, 0.9997060515221178),\n",
       " (0.9999987, 0.9997275784399308),\n",
       " (0.9999987, 0.99999517562863),\n",
       " (0.9999987, 0.9997155509753527),\n",
       " (0.99999857, 0.9997274592638756),\n",
       " (0.99999857, 1.0000008463981391),\n",
       " (0.99999845, 0.9997859843460233),\n",
       " (0.99999845, 0.9997997169317023),\n",
       " (0.99999845, 0.9960330258798578),\n",
       " (0.99999833, 0.9996794338229115),\n",
       " (0.99999833, 0.9959432571840914),\n",
       " (0.99999833, 0.999710958498249),\n",
       " (0.99999833, 0.9957455813197789),\n",
       " (0.9999982, 0.995892684542429),\n",
       " (0.9999982, 0.9997250815820853),\n",
       " (0.9999981, 0.9999980586000603),\n",
       " (0.9999981, 0.9997071696876995),\n",
       " (0.9999981, 0.9997053364764246),\n",
       " (0.9999981, 0.9998015615682415),\n",
       " (0.999998, 0.9997116656370949),\n",
       " (0.9999976, 0.9999667549312629),\n",
       " (0.9999976, 0.9997787436896535),\n",
       " (0.9999974, 0.9999970199896858),\n",
       " (0.9999974, 0.9997305710633881),\n",
       " (0.9999974, 0.9961675880726091),\n",
       " (0.99999726, 0.9996889623088572),\n",
       " (0.99999714, 0.9997961798150938),\n",
       " (0.99999714, 0.9997116041914238),\n",
       " (0.9999969, 0.9997084597457423),\n",
       " (0.99999654, 0.9996990612864847),\n",
       " (0.9999963, 0.9997892884545142),\n",
       " (0.9999963, 0.9967257124574637),\n",
       " (0.9999963, 0.9996934397423294),\n",
       " (0.9999963, 0.9997915807746239),\n",
       " (0.9999962, 0.9999905859449202),\n",
       " (0.99999595, 0.9997795005578304),\n",
       " (0.99999595, 0.9957590550455148),\n",
       " (0.9999957, 0.9997112320722469),\n",
       " (0.99999535, 0.9997417794426291),\n",
       " (0.99999523, 0.9997224127489611),\n",
       " (0.99999523, 1.0000033774879806),\n",
       " (0.9999951, 0.9996967157782045),\n",
       " (0.999995, 0.9991210485425848),\n",
       " (0.9999949, 0.9961081926722313),\n",
       " (0.99999475, 0.9997650423608727),\n",
       " (0.9999943, 0.9997120439924161),\n",
       " (0.9999943, 0.9995251175181714),\n",
       " (0.9999943, 0.9997078225929574),\n",
       " (0.99999404, 0.9997328134854221),\n",
       " (0.9999939, 0.9996785692003183),\n",
       " (0.9999938, 0.9989827979352222),\n",
       " (0.99999356, 0.9997125204289304),\n",
       " (0.9999932, 0.99977836106361),\n",
       " (0.9999932, 0.9959320333072621),\n",
       " (0.9999932, 0.9999931675511502),\n",
       " (0.9999931, 0.9999960562963532),\n",
       " (0.99999285, 0.9960188304645394),\n",
       " (0.9999927, 0.9999923438262786),\n",
       " (0.9999924, 0.9958229749684805),\n",
       " (0.99999213, 0.9997874096213696),\n",
       " (0.99999213, 0.9998092093131948),\n",
       " (0.9999914, 0.9960733417062867),\n",
       " (0.9999907, 0.999989746647245),\n",
       " (0.9999906, 0.9997157313637367),\n",
       " (0.9999906, 0.9997947821938614),\n",
       " (0.99999046, 0.9997263451229701),\n",
       " (0.99999034, 0.9999869494156931),\n",
       " (0.99998915, 0.999724323619891),\n",
       " (0.99998844, 0.9999880471301659),\n",
       " (0.9999883, 0.9997225032403702),\n",
       " (0.9999875, 0.9960367572886804),\n",
       " (0.99998605, 0.9996878133952978),\n",
       " (0.9999857, 0.9997509239460176),\n",
       " (0.99998534, 0.9997081253759016),\n",
       " (0.999985, 0.9997079379986621),\n",
       " (0.999985, 0.9996648956286125),\n",
       " (0.99998343, 0.9997677895639854),\n",
       " (0.99998295, 0.9997782330842091),\n",
       " (0.99998295, 0.9996902013425867),\n",
       " (0.99998283, 0.9997038731961913),\n",
       " (0.999982, 0.9997199744796315),\n",
       " (0.9999809, 0.9976857344662389),\n",
       " (0.9999796, 0.9997166147301162),\n",
       " (0.999979, 0.9997082235144564),\n",
       " (0.999979, 0.9996774395763454),\n",
       " (0.9999788, 0.9959828146729457),\n",
       " (0.9999782, 0.9997058157254368),\n",
       " (0.99997807, 0.9962145265488511),\n",
       " (0.999977, 0.9997804672131784),\n",
       " (0.99997663, 0.9997286696889416),\n",
       " (0.9999764, 0.9999514054647958),\n",
       " (0.9999763, 0.9996855423325364),\n",
       " (0.9999752, 0.999768961312982),\n",
       " (0.99997354, 0.9996720570410993),\n",
       " (0.9999732, 0.9958856358867115),\n",
       " (0.9999708, 0.9997153353262046),\n",
       " (0.99997056, 0.999705425371183),\n",
       " (0.99996805, 0.9997408987424589),\n",
       " (0.99996805, 0.9997640945683867),\n",
       " (0.9999676, 0.9996693414832498),\n",
       " (0.99996746, 0.9996955147030947),\n",
       " (0.9999658, 0.9997778410268816),\n",
       " (0.99996483, 0.9996880443676014),\n",
       " (0.9999628, 0.9996653353778457),\n",
       " (0.9999627, 0.999702830291245),\n",
       " (0.9999596, 0.9957588385395426),\n",
       " (0.99995756, 0.9966052252716878),\n",
       " (0.99995697, 0.9997114945226333),\n",
       " (0.9999567, 0.9996514096112391),\n",
       " (0.9999546, 0.9996876478874102),\n",
       " (0.9999521, 0.9996922235039613),\n",
       " (0.9999516, 0.999668329707722),\n",
       " (0.99995124, 0.9959881666307395),\n",
       " (0.99994946, 0.9961967625144422),\n",
       " (0.99994457, 0.9996642635756168),\n",
       " (0.9999442, 0.9986734272568402),\n",
       " (0.9999361, 0.999723656061001),\n",
       " (0.99993396, 0.9997246419466163),\n",
       " (0.9999254, 0.9996580338538804),\n",
       " (0.9999211, 0.9959374994974295),\n",
       " (0.9999188, 0.9996426524664795),\n",
       " (0.9999175, 0.999678348321626),\n",
       " (0.99991643, 0.9996237020931258),\n",
       " (0.9999143, 0.9996347576767679),\n",
       " (0.99991024, 0.9983830079563542),\n",
       " (0.99990547, 0.9960203508058589),\n",
       " (0.99990475, 0.999563689882232),\n",
       " (0.99990153, 0.9996455271114763),\n",
       " (0.99989057, 0.9963306949842473),\n",
       " (0.9998889, 0.9996548121255936),\n",
       " (0.9998658, 0.996257591383812),\n",
       " (0.9998561, 0.9995985357764189),\n",
       " (0.999853, 0.9959261944122911),\n",
       " (0.99985194, 0.9996464977359337),\n",
       " (0.9998512, 0.9996147381245589),\n",
       " (0.999851, 0.9959302884633823),\n",
       " (0.99984765, 0.9996181008244484),\n",
       " (0.99984026, 0.999571949080809),\n",
       " (0.9998375, 0.9995698579832135),\n",
       " (0.99983597, 0.9996343059900434),\n",
       " (0.99982446, 0.9978925061666266),\n",
       " (0.99982244, 0.9995812157707106),\n",
       " (0.9998197, 0.9995469251080296),\n",
       " (0.9998153, 0.9998101194191044),\n",
       " (0.99979895, 0.9993512640329963),\n",
       " (0.99979776, 0.999506255338672),\n",
       " (0.99977535, 0.9995012669793379),\n",
       " (0.9997662, 0.9995133537049972),\n",
       " (0.9997652, 0.9994991571709283),\n",
       " (0.99976486, 0.9994688933813665),\n",
       " (0.9997615, 0.9994689416382837),\n",
       " (0.99975604, 0.9957057891198707),\n",
       " (0.99975187, 0.999464415168693),\n",
       " (0.9997396, 0.9995416609795047),\n",
       " (0.9997384, 0.9994789313330259),\n",
       " (0.99973816, 0.9994685298830213),\n",
       " (0.99972695, 0.9959834500968096),\n",
       " (0.9997254, 0.9994620599990266),\n",
       " (0.99970204, 0.998948799006944),\n",
       " (0.9996948, 0.9994537965611421),\n",
       " (0.9996817, 0.999530764591354),\n",
       " (0.9996737, 0.9994652579908199),\n",
       " (0.9996697, 0.9993956177365653),\n",
       " (0.9996679, 0.9996688449819929),\n",
       " (0.9996586, 0.9996559616055213),\n",
       " (0.99965394, 0.9993989804506413),\n",
       " (0.9996408, 0.9993917659957372),\n",
       " (0.999634, 0.9996325292773812),\n",
       " (0.9996247, 0.9993139929557555),\n",
       " (0.9996138, 0.9993166447741902),\n",
       " (0.9996055, 0.999290333612763),\n",
       " (0.99958974, 0.999336657167244),\n",
       " (0.9995628, 0.9992776773389437),\n",
       " (0.9995603, 0.9992896043060069),\n",
       " (0.9995503, 0.9993387344132572),\n",
       " (0.99954814, 0.9993317539193235),\n",
       " (0.9995449, 0.9992832099149153),\n",
       " (0.9995301, 0.9993129641675685),\n",
       " (0.99952817, 0.9993118622132964),\n",
       " (0.9995061, 0.999231503856688),\n",
       " (0.9995022, 0.9955936329356613),\n",
       " (0.9994967, 0.9992196257946722),\n",
       " (0.9994962, 0.999216214830104),\n",
       " (0.9994943, 0.9992336154701411),\n",
       " (0.9994885, 0.9992681223946295),\n",
       " (0.99945146, 0.9992359035960988),\n",
       " (0.9994356, 0.9991752624750294),\n",
       " (0.9994324, 0.999197659844715),\n",
       " (0.9993642, 0.9990965678026761),\n",
       " (0.9993623, 0.9993515123832195),\n",
       " (0.9993617, 0.9963374945889253),\n",
       " (0.9993569, 0.999148549949685),\n",
       " (0.9993554, 0.9993905937324383),\n",
       " (0.9993542, 0.9990719623677232),\n",
       " (0.99932337, 0.9971310629821657),\n",
       " (0.9993206, 0.9990508726890629),\n",
       " (0.9993187, 0.9990705291370401),\n",
       " (0.99931765, 0.999065890936566),\n",
       " (0.99928916, 0.9990220028027226),\n",
       " (0.99928504, 0.9955220130046062),\n",
       " (0.99927133, 0.9989899153976782),\n",
       " (0.999257, 0.9990257780720214),\n",
       " (0.99925476, 0.9989582700617086),\n",
       " (0.99924755, 0.9989647376908384),\n",
       " (0.9992373, 0.9989833639050494),\n",
       " (0.9991912, 0.9989299862316511),\n",
       " (0.99916446, 0.9991447458949138),\n",
       " (0.999164, 0.998933114606551),\n",
       " (0.99913305, 0.9981312355897719),\n",
       " (0.999121, 0.9950324867901696),\n",
       " (0.9990771, 0.9988648843174621),\n",
       " (0.9989973, 0.9987111020349295),\n",
       " (0.9989759, 0.9955043863642942),\n",
       " (0.9989405, 0.9986710167833922),\n",
       " (0.9988673, 0.9985964785026902),\n",
       " (0.9988379, 0.9967804461421041),\n",
       " (0.9988205, 0.998548996337197),\n",
       " (0.998782, 0.9954933197299587),\n",
       " (0.99876714, 0.9984789028029517),\n",
       " (0.99865746, 0.9983716581282298),\n",
       " (0.99863714, 0.9978444057042761),\n",
       " (0.998602, 0.9979994651555095),\n",
       " (0.99856347, 0.998540044293437),\n",
       " (0.9984993, 0.9982135140285667),\n",
       " (0.99848783, 0.9975763474209693),\n",
       " (0.99847287, 0.9982019642645069),\n",
       " (0.99846447, 0.9981744387586428),\n",
       " (0.99842864, 0.9981898257342308),\n",
       " (0.99839044, 0.9981569515809772),\n",
       " (0.99837565, 0.9980917788237628),\n",
       " (0.99835545, 0.9979166304846984),\n",
       " (0.998343, 0.9980634534149343),\n",
       " (0.9983359, 0.9952596672607394),\n",
       " (0.9983134, 0.9946186495223556),\n",
       " (0.99822384, 0.9971014149530353),\n",
       " (0.9981875, 0.9979715730589128),\n",
       " (0.9978853, 0.9976151777717742),\n",
       " (0.99786913, 0.9976348358907962),\n",
       " (0.9978661, 0.9976175288182557),\n",
       " (0.9977749, 0.9940008776439331),\n",
       " (0.99776566, 0.9974884714131453),\n",
       " (0.99770856, 0.997616503776492),\n",
       " (0.9976927, 0.9973869614259603),\n",
       " (0.9975852, 0.9973205041643065),\n",
       " (0.9975649, 0.9973022025447685),\n",
       " (0.9975223, 0.9972333494102663),\n",
       " (0.99745995, 0.993138159251121),\n",
       " (0.99728584, 0.9970166400044667),\n",
       " (0.99716115, 0.9968840095495304),\n",
       " (0.99712026, 0.9966878903084109),\n",
       " (0.996819, 0.9965375627116013),\n",
       " (0.99669963, 0.9964454279340437),\n",
       " (0.9965668, 0.996302399384067),\n",
       " (0.9964399, 0.9961710402748227),\n",
       " (0.9963387, 0.9960831034341495),\n",
       " (0.99617034, 0.9933444403879562),\n",
       " (0.99616134, 0.9958860647937655),\n",
       " (0.99613875, 0.9958665343116252),\n",
       " (0.99601233, 0.9948821583796345),\n",
       " (0.9959015, 0.9956329637682589),\n",
       " (0.9956772, 0.9954301324501893),\n",
       " (0.9956424, 0.9953773405429168),\n",
       " (0.9955819, 0.9953376468480406),\n",
       " (0.99509573, 0.9948064174432476),\n",
       " (0.9950589, 0.9948488738560289),\n",
       " (0.9942444, 0.9939682153555509),\n",
       " (0.9941093, 0.9939091956780206),\n",
       " (0.9939805, 0.993746516129482),\n",
       " (0.9934702, 0.9896791572279257),\n",
       " (0.99344784, 0.9931834063985723),\n",
       " (0.9931926, 0.9929093132395592),\n",
       " (0.993168, 0.9929216475105175),\n",
       " (0.99305975, 0.9927815554679343),\n",
       " (0.9930419, 0.9928141384440794),\n",
       " (0.9928966, 0.9926273919964956),\n",
       " (0.9927965, 0.9925176257547472),\n",
       " (0.9924516, 0.9913422979339952),\n",
       " (0.99205995, 0.988078874511865),\n",
       " (0.99202454, 0.9917588830964073),\n",
       " (0.99161994, 0.9914060930451353),\n",
       " (0.9915455, 0.9913277606965634),\n",
       " (0.99124545, 0.9910019771002374),\n",
       " (0.99090624, 0.990611657183737),\n",
       " (0.9908664, 0.990598806167076),\n",
       " (0.9907532, 0.9905576885672343),\n",
       " (0.9907223, 0.9905127290220964),\n",
       " (0.99063766, 0.9903901780201579),\n",
       " (0.9904108, 0.9873007755236732),\n",
       " (0.99006546, 0.9898000584189968),\n",
       " (0.9900247, 0.989807710332899),\n",
       " (0.98993266, 0.9896556600592086),\n",
       " (0.9898795, 0.9896878344681225),\n",
       " (0.98986477, 0.9876311880890026),\n",
       " (0.9898561, 0.9896134069989163),\n",
       " (0.98980427, 0.9895643609894917),\n",
       " (0.989447, 0.9891881783460251),\n",
       " (0.9893106, 0.9890647013313765),\n",
       " (0.9892687, 0.9889646241557108),\n",
       " (0.9891717, 0.9856463081244002),\n",
       " (0.98915696, 0.9889473510354694),\n",
       " (0.9887999, 0.9849270506220484),\n",
       " (0.9887651, 0.9884941369848529),\n",
       " (0.98846495, 0.9881964699843585),\n",
       " (0.9884647, 0.9882633982996626),\n",
       " (0.98846215, 0.9881964640147547),\n",
       " (0.98812556, 0.9878528294638798),\n",
       " (0.9880648, 0.98784919635677),\n",
       " (0.98763627, 0.98739235167841),\n",
       " (0.9874942, 0.9872190805103471),\n",
       " (0.9874069, 0.9871198383007793),\n",
       " (0.9873574, 0.9870892064064242),\n",
       " (0.9872745, 0.9869989213045257),\n",
       " (0.9872071, 0.9870089474523919),\n",
       " (0.9871852, 0.9869400831652733),\n",
       " (0.98707426, 0.986792480121768),\n",
       " (0.9869399, 0.9866696593614759),\n",
       " (0.9868146, 0.9865654385357094),\n",
       " (0.9866087, 0.9863963791113252),\n",
       " (0.9863616, 0.985196656404742),\n",
       " (0.98604935, 0.9858164912078702),\n",
       " (0.9856308, 0.9816854946647386),\n",
       " (0.9846459, 0.984364906037589),\n",
       " (0.98428506, 0.9840252699560356),\n",
       " (0.9840285, 0.9799276969232994),\n",
       " (0.98361546, 0.9833910723690031),\n",
       " (0.9813959, 0.9773556999266477),\n",
       " (0.98137796, 0.9810947558188984),\n",
       " (0.98132175, 0.9810746039213462),\n",
       " (0.9809068, 0.9806564927724047),\n",
       " (0.9808249, 0.9805538523150337),\n",
       " (0.98040193, 0.9801093981768184),\n",
       " (0.97935677, 0.9791505555965737),\n",
       " (0.97924864, 0.9730811899285163),\n",
       " (0.9789473, 0.978631144752621),\n",
       " (0.9788932, 0.9786250408559779),\n",
       " (0.978872, 0.9786199772526674),\n",
       " (0.9787324, 0.9784713592687886),\n",
       " (0.9786442, 0.9783889209524014),\n",
       " (0.9775679, 0.9773704272821306),\n",
       " (0.97647744, 0.9762170659646494),\n",
       " (0.9754587, 0.9752488907502301),\n",
       " (0.9753093, 0.9750234192906719),\n",
       " (0.97499233, 0.974702246887907),\n",
       " (0.9748684, 0.9745953272778526),\n",
       " (0.97384924, 0.9736204317109093),\n",
       " (0.9730675, 0.9727825463432507),\n",
       " (0.9727025, 0.9724903390748203),\n",
       " (0.9714584, 0.9712197903371526),\n",
       " (0.97117525, 0.9709719912631343),\n",
       " (0.97011125, 0.9665569323907254),\n",
       " (0.9698042, 0.9695944247719618),\n",
       " (0.9682321, 0.967995847498054),\n",
       " (0.96719164, 0.966968101406513),\n",
       " (0.9664047, 0.9660988133589977),\n",
       " (0.9656913, 0.9654538404732544),\n",
       " (0.9650635, 0.9648231337761669),\n",
       " (0.9636537, 0.9633927348801624),\n",
       " (0.96355295, 0.9633229821487843),\n",
       " (0.9631397, 0.9629355803385345),\n",
       " (0.9629351, 0.9626594019668049),\n",
       " (0.9616831, 0.9614574734818417),\n",
       " (0.96166426, 0.9614248250587073),\n",
       " (0.96139216, 0.9611423013924535),\n",
       " (0.96058077, 0.9603316671086122),\n",
       " (0.96024793, 0.9599656527554403),\n",
       " (0.95995885, 0.9597087729974514),\n",
       " (0.9599573, 0.9597201090615065),\n",
       " (0.9595641, 0.9593270056302727),\n",
       " (0.9593663, 0.9591184954454482),\n",
       " (0.95933473, 0.9590822714555305),\n",
       " (0.95849943, 0.9582973071800961),\n",
       " (0.9580385, 0.9577579227315577),\n",
       " (0.9564125, 0.953522969264583),\n",
       " (0.955711, 0.9558098919257264),\n",
       " (0.95386237, 0.953586711896249),\n",
       " (0.95382774, 0.9535787519002411),\n",
       " (0.95381594, 0.9535673128879063),\n",
       " (0.95251, 0.9522859473449894),\n",
       " (0.951816, 0.9515610211617446),\n",
       " (0.95130485, 0.9511112552190197),\n",
       " (0.9510582, 0.9464765915764614),\n",
       " (0.9504943, 0.9502544224367732),\n",
       " (0.95021164, 0.9499646300211575),\n",
       " (0.9500501, 0.9497960523684386),\n",
       " (0.94996566, 0.949746398527747),\n",
       " (0.94993013, 0.949736507943028),\n",
       " (0.9496481, 0.9494171871803215),\n",
       " (0.9492913, 0.9490520852288272),\n",
       " (0.94903374, 0.9488324242161008),\n",
       " (0.94853735, 0.948310144733217),\n",
       " (0.9482965, 0.9480378377001637),\n",
       " (0.94777364, 0.9475964289866033),\n",
       " (0.94740415, 0.9471990089187602),\n",
       " (0.94650126, 0.9462813957923777),\n",
       " (0.9448396, 0.9445998516460901),\n",
       " (0.94453424, 0.9443355909727456),\n",
       " (0.9445066, 0.944223740542218),\n",
       " (0.94422275, 0.9439685529947593),\n",
       " (0.94318765, 0.9397879746127502),\n",
       " (0.942432, 0.9422101003728827),\n",
       " (0.9421939, 0.9419633489131787),\n",
       " (0.94197935, 0.9417350198470693),\n",
       " (0.93916553, 0.938922629665978),\n",
       " (0.939076, 0.9388405056082577),\n",
       " (0.93900955, 0.9382488856190629),\n",
       " (0.937433, 0.9341425820178515),\n",
       " (0.9366191, 0.9363717540603826),\n",
       " (0.9356407, 0.9353826268507134),\n",
       " (0.93233556, 0.9320937976051793),\n",
       " (0.92852104, 0.9283081242570159),\n",
       " (0.92702067, 0.9267449072335348),\n",
       " (0.9263734, 0.9261195737282005),\n",
       " (0.92517656, 0.9249887147026224),\n",
       " (0.92512244, 0.924871072772087),\n",
       " (0.92438215, 0.9241640614763543),\n",
       " (0.9240908, 0.9238951390641106),\n",
       " (0.92172337, 0.9214606174365667),\n",
       " (0.92136854, 0.921126519401236),\n",
       " (0.9204375, 0.9202035303391596),\n",
       " (0.9202813, 0.9200640964975696),\n",
       " (0.9195103, 0.9192793425976172),\n",
       " (0.9191283, 0.9188738516652543),\n",
       " (0.9184684, 0.9182469768488188),\n",
       " (0.9180707, 0.9178608590343428),\n",
       " (0.9172664, 0.9170644827691407),\n",
       " (0.9171931, 0.9169514073769612),\n",
       " (0.9154649, 0.9152756531243669),\n",
       " (0.91474223, 0.9145149880271727),\n",
       " (0.9130925, 0.9128641569801453),\n",
       " (0.91120046, 0.9109682522686575),\n",
       " (0.9104191, 0.9102017716090458),\n",
       " (0.90855163, 0.9083015343126669),\n",
       " (0.9065307, 0.9062964548378343),\n",
       " (0.9063114, 0.9060996147890251),\n",
       " (0.9062966, 0.906075858195163),\n",
       " (0.90574634, 0.9055257181038798),\n",
       " (0.90265495, 0.9023980744089389),\n",
       " (0.90250206, 0.9022782290602227),\n",
       " (0.90238494, 0.9028338182235117),\n",
       " (0.9012962, 0.9010509634017928),\n",
       " (0.9012798, 0.9010089377208039),\n",
       " (0.9007357, 0.9005173311848492),\n",
       " (0.9005654, 0.9003177117643407),\n",
       " (0.8995784, 0.8993562695568024),\n",
       " (0.8967804, 0.8965264024835591),\n",
       " (0.8961093, 0.8958864571492572),\n",
       " (0.8947538, 0.8945590214712076),\n",
       " (0.89158714, 0.8914083979185182),\n",
       " (0.8874692, 0.8845749366962439),\n",
       " (0.8874537, 0.8871881362941071),\n",
       " (0.88579583, 0.8855953764981308),\n",
       " (0.88331896, 0.8831520400290424),\n",
       " (0.88269275, 0.882493069868438),\n",
       " (0.8815342, 0.8813020067278641),\n",
       " (0.88068855, 0.8804277881444087),\n",
       " (0.87932485, 0.8790906918058865),\n",
       " (0.8784462, 0.8781998395051043),\n",
       " (0.8782475, 0.8780643119090982),\n",
       " (0.87817013, 0.8779570364905458),\n",
       " (0.8767948, 0.8765898532381152),\n",
       " (0.87647986, 0.876238982406118),\n",
       " (0.87630296, 0.8760807908689434),\n",
       " (0.87358564, 0.8733444393334605),\n",
       " (0.87113994, 0.8709158927125457),\n",
       " (0.8704074, 0.8701818185884312),\n",
       " (0.8703665, 0.8701280955525119),\n",
       " (0.8694199, 0.8691945621980667),\n",
       " (0.869105, 0.8689363907679738),\n",
       " (0.86705023, 0.8668272617885625),\n",
       " (0.86621743, 0.8659879897498108),\n",
       " (0.86065656, 0.8604787274055642),\n",
       " (0.8600495, 0.8598457683793674),\n",
       " (0.8592978, 0.8590610627893731),\n",
       " (0.85748386, 0.8572975153643088),\n",
       " (0.85657215, 0.8564158771238986),\n",
       " (0.8549307, 0.8546925000440229),\n",
       " (0.85476923, 0.8545507006404286),\n",
       " (0.85381466, 0.8535864151035838),\n",
       " (0.8511937, 0.8509916667494075),\n",
       " (0.8458702, 0.8410252511360128),\n",
       " (0.845741, 0.845566622695263),\n",
       " (0.8455101, 0.845319601372751),\n",
       " (0.8453208, 0.8451129316209549),\n",
       " (0.8442593, 0.8440888373242571),\n",
       " (0.8433347, 0.8431127753487052),\n",
       " (0.8428732, 0.8426702968873976),\n",
       " (0.8415225, 0.8412968337729156),\n",
       " (0.8414107, 0.8384184164036926),\n",
       " (0.8406722, 0.8404550809891377),\n",
       " (0.8396198, 0.839385226641133),\n",
       " (0.8392121, 0.8390235395314893),\n",
       " (0.83850056, 0.8383256169520354),\n",
       " (0.83769333, 0.8375127362373714),\n",
       " (0.83617437, 0.8359935377617123),\n",
       " (0.8354196, 0.8352106239693707),\n",
       " (0.833867, 0.8336497868434141),\n",
       " (0.82977337, 0.8295659987907761),\n",
       " (0.82746154, 0.8272388926110203),\n",
       " (0.8269129, 0.8267286649092761),\n",
       " (0.824423, 0.8242388594757094),\n",
       " (0.8193001, 0.8190997608875983),\n",
       " (0.8192875, 0.8190823293949675),\n",
       " (0.81925744, 0.819053292370683),\n",
       " (0.81782645, 0.814459878506593),\n",
       " (0.81734395, 0.817148268860084),\n",
       " (0.8163756, 0.8161876937363387),\n",
       " (0.81635296, 0.8161331548866744),\n",
       " (0.81460106, 0.8143710952618362),\n",
       " (0.8140845, 0.8139060773333276),\n",
       " (0.8115918, 0.8113776017769749),\n",
       " (0.81086236, 0.8106954800806478),\n",
       " (0.81059605, 0.8103929724631495),\n",
       " (0.8042769, 0.8040724502024812),\n",
       " (0.80084, 0.800618373221064),\n",
       " (0.8000556, 0.7998606350288977),\n",
       " (0.7966927, 0.796530019727875),\n",
       " (0.79500383, 0.79479760907571),\n",
       " (0.7947334, 0.7945337788531512),\n",
       " (0.79464024, 0.7944299928266154),\n",
       " (0.7927689, 0.7925594706640435),\n",
       " (0.7914745, 0.7912731013785484),\n",
       " (0.78793263, 0.7877349612391135),\n",
       " (0.7876143, 0.7874404978774181),\n",
       " (0.7857633, 0.7855635271100814),\n",
       " (0.7855644, 0.7853782963270761),\n",
       " (0.78323936, 0.7830388046494372),\n",
       " (0.7816242, 0.7814292336938677),\n",
       " (0.78094596, 0.780780021365881),\n",
       " (0.7786625, 0.7784747474517598),\n",
       " (0.7779683, 0.7777780703359238),\n",
       " (0.7764023, 0.7761915403332311),\n",
       " (0.77574426, 0.7755627709482117),\n",
       " (0.77523905, 0.7750381404317522),\n",
       " (0.7715838, 0.771430892771902),\n",
       " (0.7701164, 0.7676478681401113),\n",
       " (0.76901776, 0.7695550675160171),\n",
       " (0.76591617, 0.76571310430195),\n",
       " (0.7645828, 0.7643853572369609),\n",
       " (0.7611526, 0.7609554572450319),\n",
       " (0.76060474, 0.7604085067411243),\n",
       " (0.7570249, 0.7568191814532574),\n",
       " (0.7566488, 0.7564769405402133),\n",
       " (0.7553393, 0.7551884337510654),\n",
       " (0.7549486, 0.7547532973401974),\n",
       " (0.7522352, 0.7520834750553871),\n",
       " (0.7490646, 0.7488703391055581),\n",
       " (0.7460986, 0.7459312255606696),\n",
       " (0.7455462, 0.7454010463706072),\n",
       " (0.7450413, 0.7448967692099234),\n",
       " (0.7449025, 0.7446843176926213),\n",
       " (0.7383878, 0.7382116118870238),\n",
       " (0.7374621, 0.7372639549526417),\n",
       " (0.73318475, 0.7329696090777408),\n",
       " (0.73290557, 0.7327406291164207),\n",
       " (0.7328986, 0.7327016312546947),\n",
       " (0.7308683, 0.7307031536712562),\n",
       " (0.7295477, 0.7293618636155638),\n",
       " (0.72827315, 0.7281072511438902),\n",
       " (0.7278805, 0.7277246267022099),\n",
       " (0.7258368, 0.7256844445543118),\n",
       " (0.72543424, 0.7252254884438787),\n",
       " (0.72461617, 0.7244262039543827),\n",
       " (0.7226708, 0.7225136130999126),\n",
       " (0.71917695, 0.7190377505824374),\n",
       " (0.71696955, 0.7167487332480204),\n",
       " (0.71689343, 0.7167561431906471),\n",
       " (0.7148453, 0.7147085608000295),\n",
       " (0.71109015, 0.7109535623708996),\n",
       " (0.7079833, 0.705447968861709),\n",
       " (0.7068268, 0.7065955629425934),\n",
       " (0.70449245, 0.7043501665520328),\n",
       " (0.69666916, 0.6964986042226005),\n",
       " (0.6961963, 0.6960553028939129),\n",
       " (0.6940869, 0.6939601312827005),\n",
       " (0.6875075, 0.6873343890747454),\n",
       " (0.6861069, 0.6859375501139958),\n",
       " (0.6850002, 0.6848788002706253),\n",
       " (0.6834756, 0.6833453376406665),\n",
       " (0.68273973, 0.6825711946028489),\n",
       " (0.68039685, 0.6802594065074161),\n",
       " (0.6803117, 0.6801355318569036),\n",
       " (0.6776442, 0.6775144667167522),\n",
       " (0.67264867, 0.6725320623007559),\n",
       " (0.67231643, 0.6721393854729012),\n",
       " (0.6714358, 0.6713063314450677),\n",
       " (0.67101157, 0.670819774490383),\n",
       " (0.6676729, 0.66750666810857),\n",
       " (0.6667579, 0.6666307560625858),\n",
       " (0.6660075, 0.6658712627785064),\n",
       " (0.66297203, 0.6628530452477507),\n",
       " (0.66104597, 0.6608859290257008),\n",
       " (0.6584333, 0.6582769523977782),\n",
       " (0.6573071, 0.6571521717572296),\n",
       " (0.65637654, 0.6562172967105888),\n",
       " (0.6535638, 0.6534336289909903),\n",
       " (0.65260637, 0.6524858291598241),\n",
       " (0.6469331, 0.6467804077196602),\n",
       " (0.6460795, 0.6459254325239642),\n",
       " (0.6441979, 0.6440282729451323),\n",
       " (0.6432281, 0.6430707124890035),\n",
       " (0.6425352, 0.6423774192591901),\n",
       " (0.6424526, 0.6423427600880057),\n",
       " (0.6411939, 0.6410755649156675),\n",
       " (0.6380007, 0.6378808088446607),\n",
       " (0.6294872, 0.6293219733610401),\n",
       " (0.6286469, 0.6285455814676919),\n",
       " (0.62812126, 0.627989616479727),\n",
       " (0.6262551, 0.6261009620235065),\n",
       " (0.6258734, 0.6256828094555877),\n",
       " (0.6245534, 0.6243980867080416),\n",
       " (0.62358755, 0.6251175884575533),\n",
       " (0.6224515, 0.6222866783938514),\n",
       " (0.62191176, 0.621762977514334),\n",
       " (0.62115586, 0.6210491720831033),\n",
       " (0.6175738, 0.6174337422024303),\n",
       " (0.6164639, 0.6163526625915301),\n",
       " (0.61571676, 0.6156071147535049),\n",
       " (0.6153178, 0.615160077424812),\n",
       " (0.6126453, 0.6125227094833716),\n",
       " (0.611876, 0.6117598366476071),\n",
       " (0.61099786, 0.6108314348447231),\n",
       " (0.6098342, 0.6097119869018315),\n",
       " (0.60957557, 0.6094474626588049),\n",
       " (0.6090693, 0.608908740362557),\n",
       " (0.60821253, 0.6081046229582536),\n",
       " (0.6041565, 0.6023412919892994),\n",
       " (0.6034178, 0.6032665403440676),\n",
       " (0.6010827, 0.600938060346745),\n",
       " (0.591136, 0.5909937727888844),\n",
       " (0.58429456, 0.5841875324023577),\n",
       " (0.5829415, 0.5828385949241276),\n",
       " (0.57656175, 0.5763987265720723),\n",
       " (0.572761, 0.5695923377864687),\n",
       " (0.5727551, 0.5726586764476876),\n",
       " (0.5721134, 0.5719396662363462),\n",
       " (0.57164055, 0.5715266446822892),\n",
       " (0.57031655, 0.5702269977142709),\n",
       " (0.56980664, 0.5696709497050447),\n",
       " (0.5690569, 0.5689353787121636),\n",
       " (0.56579137, 0.5657097638991144),\n",
       " (0.5649019, 0.5648105866787786),\n",
       " (0.5642445, 0.5641206273098843),\n",
       " (0.56400174, 0.5638400547705038),\n",
       " (0.5634622, 0.5633307916534166),\n",
       " (0.5569265, 0.5568141531251938),\n",
       " (0.55141, 0.5513220140308872),\n",
       " (0.550392, 0.5502592733496257),\n",
       " (0.54965127, 0.5495197574153415),\n",
       " (0.5443457, 0.544173597811406),\n",
       " (0.5441521, 0.5440235683519351),\n",
       " (0.542345, 0.5422540876989566),\n",
       " (0.54231834, 0.5421879469557125),\n",
       " (0.5411889, 0.5410894693707603),\n",
       " (0.5366315, 0.5365074018639211),\n",
       " (0.5340571, 0.533943679883606),\n",
       " (0.53390384, 0.5337880458155425),\n",
       " (0.52803254, 0.5279196911178075),\n",
       " (0.52559906, 0.5241955181460917),\n",
       " (0.5253315, 0.5252050879394127),\n",
       " (0.5213163, 0.5211837732733158),\n",
       " (0.5205074, 0.5203818253169179),\n",
       " (0.5158903, 0.5158077635702865),\n",
       " (0.5135232, 0.5133825151557987),\n",
       " (0.5134826, 0.5133982726492676),\n",
       " (0.51146394, 0.5113797121179714),\n",
       " (0.50959545, 0.5095289990808457),\n",
       " (0.5091358, 0.5090543352959881),\n",
       " (0.508777, 0.5072383957962989),\n",
       " (0.50609756, 0.5060195021960735),\n",
       " (0.50497884, 0.5048608475967481),\n",
       " (0.501429, 0.5013060985573098),\n",
       " (0.49906203, 0.4989376729305498),\n",
       " (0.49702176, 0.49688448948163155),\n",
       " (0.4969206, 0.4968386532681798),\n",
       " (0.49384108, 0.4937705649905525),\n",
       " (0.49024978, 0.49018653239911647),\n",
       " (0.4866333, 0.48653003380807675),\n",
       " (0.4836792, 0.48355311856760397),\n",
       " (0.48324043, 0.4831767837298247),\n",
       " (0.48015657, 0.4800984486154933),\n",
       " (0.47891423, 0.478801490889745),\n",
       " (0.47627738, 0.47619972056168147),\n",
       " (0.476151, 0.4760745095937254),\n",
       " (0.47588784, 0.47582724615746197),\n",
       " (0.47502753, 0.4749246489253356),\n",
       " (0.47326928, 0.47316169057255786),\n",
       " (0.47247598, 0.4724176351764679),\n",
       " (0.47158045, 0.47145777634571406),\n",
       " (0.4694554, 0.4693298615764448),\n",
       " (0.46662852, 0.4665115652587151),\n",
       " (0.46607023, 0.4659716378733443),\n",
       " (0.46496937, 0.4648927476676819),\n",
       " (0.46494427, 0.4648331545483769),\n",
       " (0.4600846, 0.45852780493530254),\n",
       " (0.45964321, 0.4595852855685324),\n",
       " (0.45656696, 0.45651142167853237),\n",
       " (0.44930962, 0.44920100166438043),\n",
       " (0.4490653, 0.4490107942131214),\n",
       " (0.44686335, 0.44673697348869335),\n",
       " (0.43575147, 0.4356985450776692),\n",
       " (0.43286353, 0.4328131574460919),\n",
       " (0.4313987, 0.43130053924122025),\n",
       " (0.41499525, 0.41495249525465777),\n",
       " (0.40897655, 0.40889252764131073),\n",
       " (0.40281904, 0.40272010489293075),\n",
       " (0.39206094, 0.39201974647565746),\n",
       " (0.3918526, 0.3918091018842035),\n",
       " (0.39115387, 0.39111643954547637),\n",
       " (0.39105523, 0.3910155314046275),\n",
       " (0.39069104, 0.39064519126988656),\n",
       " (0.38761812, 0.3875302113238287),\n",
       " (0.38410822, 0.38406802566311615),\n",
       " (0.37641802, 0.37638344334596885),\n",
       " (0.36239192, 0.3623587770484912),\n",
       " (0.3573674, 0.3573259342759784),\n",
       " (0.34067243, 0.34063429570621556),\n",
       " (0.34067243, 0.34064100770499073),\n",
       " (0.33973184, 0.33964521728775815),\n",
       " (0.33590704, 0.3358821908971966),\n",
       " (0.33360374, 0.33358028784656546),\n",
       " (0.3242475, 0.3242268781294181),\n",
       " (0.31194776, 0.31193087694314403),\n",
       " (0.30932602, 0.3086180537422898),\n",
       " (0.30073258, 0.30064971058826323),\n",
       " (0.27235046, 0.27228605826292174)]"
      ]
     },
     "execution_count": 32,
     "metadata": {},
     "output_type": "execute_result"
    }
   ],
   "source": [
    "true_lime"
   ]
  },
  {
   "cell_type": "code",
   "execution_count": 47,
   "metadata": {},
   "outputs": [],
   "source": [
    "true_new = []\n",
    "for i in range(sample_size):\n",
    "    true_new.append((top_true_preds[i], top_new_preds[i]))"
   ]
  },
  {
   "cell_type": "code",
   "execution_count": 48,
   "metadata": {},
   "outputs": [],
   "source": [
    "true_new.sort(key=lambda x: -x[0])"
   ]
  },
  {
   "cell_type": "code",
   "execution_count": 49,
   "metadata": {},
   "outputs": [
    {
     "data": {
      "text/plain": [
       "[(1.0, 1.0),\n",
       " (1.0, 1.0),\n",
       " (1.0, 1.0),\n",
       " (1.0, 1.0),\n",
       " (1.0, 1.0),\n",
       " (1.0, 1.0),\n",
       " (1.0, 1.0),\n",
       " (1.0, 1.0),\n",
       " (1.0, 1.0),\n",
       " (1.0, 1.0),\n",
       " (1.0, 1.0),\n",
       " (1.0, 1.0),\n",
       " (1.0, 1.0),\n",
       " (1.0, 1.0),\n",
       " (1.0, 1.0),\n",
       " (1.0, 1.0),\n",
       " (1.0, 1.0),\n",
       " (1.0, 1.0),\n",
       " (1.0, 1.0),\n",
       " (1.0, 1.0),\n",
       " (1.0, 1.0),\n",
       " (1.0, 1.0),\n",
       " (1.0, 1.0),\n",
       " (1.0, 1.0),\n",
       " (1.0, 1.0),\n",
       " (1.0, 1.0),\n",
       " (1.0, 1.0),\n",
       " (1.0, 1.0),\n",
       " (1.0, 1.0),\n",
       " (1.0, 1.0),\n",
       " (1.0, 1.0),\n",
       " (1.0, 1.0),\n",
       " (1.0, 1.0),\n",
       " (1.0, 1.0),\n",
       " (1.0, 1.0),\n",
       " (1.0, 1.0),\n",
       " (1.0, 1.0),\n",
       " (1.0, 1.0),\n",
       " (1.0, 1.0),\n",
       " (1.0, 1.0),\n",
       " (1.0, 1.0),\n",
       " (1.0, 1.0),\n",
       " (1.0, 1.0),\n",
       " (1.0, 1.0),\n",
       " (1.0, 1.0),\n",
       " (1.0, 1.0),\n",
       " (1.0, 1.0),\n",
       " (1.0, 1.0),\n",
       " (1.0, 1.0),\n",
       " (1.0, 1.0),\n",
       " (1.0, 1.0),\n",
       " (1.0, 1.0),\n",
       " (1.0, 1.0),\n",
       " (1.0, 1.0),\n",
       " (1.0, 1.0),\n",
       " (1.0, 1.0),\n",
       " (1.0, 1.0),\n",
       " (1.0, 1.0),\n",
       " (1.0, 1.0),\n",
       " (1.0, 1.0),\n",
       " (1.0, 1.0),\n",
       " (1.0, 1.0),\n",
       " (1.0, 1.0),\n",
       " (1.0, 1.0),\n",
       " (1.0, 1.0),\n",
       " (1.0, 1.0),\n",
       " (1.0, 1.0),\n",
       " (1.0, 1.0),\n",
       " (1.0, 1.0),\n",
       " (1.0, 1.0),\n",
       " (1.0, 1.0),\n",
       " (1.0, 1.0),\n",
       " (1.0, 1.0),\n",
       " (1.0, 1.0),\n",
       " (1.0, 1.0),\n",
       " (1.0, 1.0),\n",
       " (1.0, 1.0),\n",
       " (1.0, 1.0),\n",
       " (1.0, 1.0),\n",
       " (1.0, 1.0),\n",
       " (1.0, 1.0),\n",
       " (1.0, 1.0),\n",
       " (1.0, 1.0),\n",
       " (1.0, 1.0),\n",
       " (1.0, 1.0),\n",
       " (1.0, 1.0),\n",
       " (1.0, 1.0),\n",
       " (1.0, 1.0),\n",
       " (1.0, 1.0),\n",
       " (1.0, 1.0),\n",
       " (1.0, 1.0),\n",
       " (1.0, 1.0),\n",
       " (1.0, 1.0),\n",
       " (1.0, 1.0),\n",
       " (1.0, 1.0),\n",
       " (1.0, 1.0),\n",
       " (1.0, 1.0),\n",
       " (1.0, 1.0),\n",
       " (1.0, 1.0),\n",
       " (1.0, 1.0),\n",
       " (1.0, 1.0),\n",
       " (1.0, 1.0),\n",
       " (1.0, 1.0),\n",
       " (1.0, 1.0),\n",
       " (1.0, 1.0),\n",
       " (1.0, 1.0),\n",
       " (1.0, 1.0),\n",
       " (1.0, 1.0),\n",
       " (1.0, 1.0),\n",
       " (1.0, 1.0),\n",
       " (1.0, 1.0),\n",
       " (1.0, 1.0),\n",
       " (1.0, 1.0),\n",
       " (1.0, 1.0),\n",
       " (1.0, 1.0),\n",
       " (1.0, 1.0),\n",
       " (1.0, 1.0),\n",
       " (1.0, 1.0),\n",
       " (1.0, 1.0),\n",
       " (1.0, 1.0),\n",
       " (1.0, 1.0),\n",
       " (1.0, 1.0),\n",
       " (1.0, 1.0),\n",
       " (1.0, 1.0),\n",
       " (1.0, 0.9999999),\n",
       " (1.0, 1.0),\n",
       " (1.0, 1.0),\n",
       " (1.0, 1.0),\n",
       " (1.0, 1.0),\n",
       " (1.0, 1.0),\n",
       " (1.0, 1.0),\n",
       " (1.0, 1.0),\n",
       " (1.0, 1.0),\n",
       " (1.0, 1.0),\n",
       " (1.0, 1.0),\n",
       " (1.0, 1.0),\n",
       " (1.0, 0.9999999),\n",
       " (1.0, 1.0),\n",
       " (1.0, 1.0),\n",
       " (1.0, 1.0),\n",
       " (1.0, 1.0),\n",
       " (1.0, 1.0),\n",
       " (1.0, 1.0),\n",
       " (1.0, 1.0),\n",
       " (1.0, 1.0),\n",
       " (1.0, 1.0),\n",
       " (1.0, 1.0),\n",
       " (1.0, 1.0),\n",
       " (1.0, 1.0),\n",
       " (1.0, 1.0),\n",
       " (1.0, 1.0),\n",
       " (1.0, 1.0),\n",
       " (1.0, 1.0),\n",
       " (1.0, 1.0),\n",
       " (1.0, 1.0),\n",
       " (1.0, 1.0),\n",
       " (1.0, 1.0),\n",
       " (1.0, 1.0),\n",
       " (1.0, 1.0),\n",
       " (1.0, 1.0),\n",
       " (1.0, 1.0),\n",
       " (1.0, 1.0),\n",
       " (1.0, 1.0),\n",
       " (1.0, 1.0),\n",
       " (1.0, 1.0),\n",
       " (1.0, 1.0),\n",
       " (1.0, 1.0),\n",
       " (1.0, 1.0),\n",
       " (1.0, 1.0),\n",
       " (1.0, 1.0),\n",
       " (1.0, 1.0),\n",
       " (1.0, 1.0),\n",
       " (1.0, 1.0),\n",
       " (1.0, 1.0),\n",
       " (1.0, 1.0),\n",
       " (1.0, 1.0),\n",
       " (1.0, 1.0),\n",
       " (1.0, 1.0),\n",
       " (1.0, 1.0),\n",
       " (1.0, 1.0),\n",
       " (1.0, 1.0),\n",
       " (1.0, 1.0),\n",
       " (1.0, 1.0),\n",
       " (1.0, 1.0),\n",
       " (1.0, 1.0),\n",
       " (1.0, 1.0),\n",
       " (1.0, 1.0),\n",
       " (1.0, 1.0),\n",
       " (1.0, 1.0),\n",
       " (1.0, 1.0),\n",
       " (1.0, 1.0),\n",
       " (1.0, 1.0),\n",
       " (1.0, 1.0),\n",
       " (1.0, 1.0),\n",
       " (1.0, 1.0),\n",
       " (1.0, 1.0),\n",
       " (1.0, 1.0),\n",
       " (1.0, 1.0),\n",
       " (1.0, 1.0),\n",
       " (1.0, 1.0),\n",
       " (1.0, 1.0),\n",
       " (1.0, 1.0),\n",
       " (1.0, 1.0),\n",
       " (1.0, 1.0),\n",
       " (1.0, 1.0),\n",
       " (1.0, 1.0),\n",
       " (1.0, 1.0),\n",
       " (1.0, 1.0),\n",
       " (0.9999999, 0.9999999),\n",
       " (0.9999999, 0.9999999),\n",
       " (0.9999999, 0.9999999),\n",
       " (0.9999999, 0.9999999),\n",
       " (0.9999999, 0.9999999),\n",
       " (0.9999999, 0.9999999),\n",
       " (0.9999999, 0.9999999),\n",
       " (0.9999999, 0.9999999),\n",
       " (0.9999999, 0.9999999),\n",
       " (0.9999999, 0.9999999),\n",
       " (0.9999999, 0.9999999),\n",
       " (0.9999999, 1.0),\n",
       " (0.9999999, 0.9999999),\n",
       " (0.9999999, 1.0),\n",
       " (0.9999999, 0.9999981),\n",
       " (0.9999999, 0.9999999),\n",
       " (0.9999999, 0.99999976),\n",
       " (0.9999999, 0.9999999),\n",
       " (0.9999999, 0.9999999),\n",
       " (0.99999976, 0.99999976),\n",
       " (0.99999976, 0.99999976),\n",
       " (0.99999976, 0.99999976),\n",
       " (0.99999976, 0.99999976),\n",
       " (0.99999976, 0.9999999),\n",
       " (0.99999976, 0.9999999),\n",
       " (0.99999976, 0.99999976),\n",
       " (0.99999976, 0.99999976),\n",
       " (0.99999976, 0.99999976),\n",
       " (0.99999976, 0.99999976),\n",
       " (0.99999964, 0.99999964),\n",
       " (0.99999964, 0.99999964),\n",
       " (0.99999964, 0.99999964),\n",
       " (0.99999964, 0.99999964),\n",
       " (0.99999964, 0.99999964),\n",
       " (0.99999964, 0.99999666),\n",
       " (0.99999964, 0.99999964),\n",
       " (0.99999964, 0.99999964),\n",
       " (0.99999964, 0.99999964),\n",
       " (0.99999964, 0.99999964),\n",
       " (0.9999995, 0.9999999),\n",
       " (0.9999995, 0.9999995),\n",
       " (0.9999995, 0.9999994),\n",
       " (0.9999994, 0.99999976),\n",
       " (0.9999994, 0.9999994),\n",
       " (0.9999994, 0.9999994),\n",
       " (0.9999994, 0.9999994),\n",
       " (0.9999994, 0.99999976),\n",
       " (0.9999994, 0.9999994),\n",
       " (0.9999994, 0.9999994),\n",
       " (0.9999994, 0.9999994),\n",
       " (0.9999993, 0.99999857),\n",
       " (0.9999993, 0.9999993),\n",
       " (0.9999993, 0.9999993),\n",
       " (0.9999993, 0.9999993),\n",
       " (0.9999993, 0.99999964),\n",
       " (0.9999993, 0.9999993),\n",
       " (0.99999917, 0.9999995),\n",
       " (0.99999917, 0.9999981),\n",
       " (0.99999917, 0.99999917),\n",
       " (0.99999905, 0.99999917),\n",
       " (0.99999905, 0.99999905),\n",
       " (0.99999905, 0.99999905),\n",
       " (0.99999905, 0.99999905),\n",
       " (0.9999989, 0.9999989),\n",
       " (0.9999989, 0.9999989),\n",
       " (0.9999989, 0.9999989),\n",
       " (0.9999988, 0.9999988),\n",
       " (0.9999988, 0.9999989),\n",
       " (0.9999987, 0.9999987),\n",
       " (0.9999987, 0.9999739),\n",
       " (0.9999987, 0.9999987),\n",
       " (0.99999857, 0.99999857),\n",
       " (0.99999857, 0.99999857),\n",
       " (0.99999845, 0.9999994),\n",
       " (0.99999845, 0.99999845),\n",
       " (0.99999845, 0.99999845),\n",
       " (0.99999833, 0.99999833),\n",
       " (0.99999833, 0.99999833),\n",
       " (0.99999833, 0.99999857),\n",
       " (0.99999833, 0.99999833),\n",
       " (0.9999982, 0.9999982),\n",
       " (0.9999982, 0.9999982),\n",
       " (0.9999981, 0.9999981),\n",
       " (0.9999981, 0.9999981),\n",
       " (0.9999981, 0.9999981),\n",
       " (0.9999981, 0.99995613),\n",
       " (0.999998, 0.999998),\n",
       " (0.9999976, 0.9999962),\n",
       " (0.9999976, 0.9999976),\n",
       " (0.9999974, 0.9999974),\n",
       " (0.9999974, 0.9999814),\n",
       " (0.9999974, 0.9999974),\n",
       " (0.99999726, 0.99999726),\n",
       " (0.99999714, 0.9999385),\n",
       " (0.99999714, 0.99999714),\n",
       " (0.9999969, 0.9999969),\n",
       " (0.99999654, 0.99999654),\n",
       " (0.9999963, 0.9999963),\n",
       " (0.9999963, 0.9999963),\n",
       " (0.9999963, 0.9999956),\n",
       " (0.9999963, 0.99999595),\n",
       " (0.9999962, 0.99999607),\n",
       " (0.99999595, 0.99999595),\n",
       " (0.99999595, 0.99999595),\n",
       " (0.9999957, 0.9999957),\n",
       " (0.99999535, 0.99999535),\n",
       " (0.99999523, 0.99999523),\n",
       " (0.99999523, 0.99999523),\n",
       " (0.9999951, 0.9999951),\n",
       " (0.999995, 0.999995),\n",
       " (0.9999949, 0.99999416),\n",
       " (0.99999475, 0.9999987),\n",
       " (0.9999943, 0.99999034),\n",
       " (0.9999943, 0.99999106),\n",
       " (0.9999943, 0.9999943),\n",
       " (0.99999404, 0.99999404),\n",
       " (0.9999939, 0.9999939),\n",
       " (0.9999938, 0.9999938),\n",
       " (0.99999356, 0.99999344),\n",
       " (0.9999932, 0.99999094),\n",
       " (0.9999932, 0.9999932),\n",
       " (0.9999932, 0.9999893),\n",
       " (0.9999931, 0.9999931),\n",
       " (0.99999285, 0.99999285),\n",
       " (0.9999927, 0.99998593),\n",
       " (0.9999924, 0.9999924),\n",
       " (0.99999213, 0.9999896),\n",
       " (0.99999213, 0.9999902),\n",
       " (0.9999914, 0.9999808),\n",
       " (0.9999907, 0.99998665),\n",
       " (0.9999906, 0.9999856),\n",
       " (0.9999906, 0.9999887),\n",
       " (0.99999046, 0.99999046),\n",
       " (0.99999034, 0.99999034),\n",
       " (0.99998915, 0.99998915),\n",
       " (0.99998844, 0.99998844),\n",
       " (0.9999883, 0.9999883),\n",
       " (0.9999875, 0.9999875),\n",
       " (0.99998605, 0.99999),\n",
       " (0.9999857, 0.99997294),\n",
       " (0.99998534, 0.99998534),\n",
       " (0.999985, 0.999985),\n",
       " (0.999985, 0.9997906),\n",
       " (0.99998343, 0.99998343),\n",
       " (0.99998295, 0.9999844),\n",
       " (0.99998295, 0.99998355),\n",
       " (0.99998283, 0.99998283),\n",
       " (0.999982, 0.999982),\n",
       " (0.9999809, 0.9999809),\n",
       " (0.9999796, 0.9999796),\n",
       " (0.999979, 0.99998),\n",
       " (0.999979, 0.9999901),\n",
       " (0.9999788, 0.9999788),\n",
       " (0.9999782, 0.9999782),\n",
       " (0.99997807, 0.99997807),\n",
       " (0.999977, 0.99997747),\n",
       " (0.99997663, 0.99997663),\n",
       " (0.9999764, 0.9999764),\n",
       " (0.9999763, 0.9999763),\n",
       " (0.9999752, 0.9999716),\n",
       " (0.99997354, 0.9999745),\n",
       " (0.9999732, 0.9999727),\n",
       " (0.9999708, 0.9999341),\n",
       " (0.99997056, 0.9997843),\n",
       " (0.99996805, 0.99996805),\n",
       " (0.99996805, 0.99996805),\n",
       " (0.9999676, 0.9999676),\n",
       " (0.99996746, 0.99996746),\n",
       " (0.9999658, 0.9999658),\n",
       " (0.99996483, 0.99996483),\n",
       " (0.9999628, 0.9999628),\n",
       " (0.9999627, 0.9999341),\n",
       " (0.9999596, 0.99988484),\n",
       " (0.99995756, 0.9999491),\n",
       " (0.99995697, 0.99995697),\n",
       " (0.9999567, 0.9999567),\n",
       " (0.9999546, 0.9999546),\n",
       " (0.9999521, 0.9999521),\n",
       " (0.9999516, 0.9999516),\n",
       " (0.99995124, 0.9999515),\n",
       " (0.99994946, 0.99994946),\n",
       " (0.99994457, 0.99994457),\n",
       " (0.9999442, 0.9999442),\n",
       " (0.9999361, 0.9999335),\n",
       " (0.99993396, 0.9999869),\n",
       " (0.9999254, 0.99986815),\n",
       " (0.9999211, 0.9999218),\n",
       " (0.9999188, 0.9999188),\n",
       " (0.9999175, 0.9994931),\n",
       " (0.99991643, 0.9999089),\n",
       " (0.9999143, 0.9999143),\n",
       " (0.99991024, 0.99991024),\n",
       " (0.99990547, 0.99990547),\n",
       " (0.99990475, 0.9999424),\n",
       " (0.99990153, 0.9998485),\n",
       " (0.99989057, 0.99987054),\n",
       " (0.9998889, 0.9999001),\n",
       " (0.9998658, 0.9998658),\n",
       " (0.9998561, 0.99978906),\n",
       " (0.999853, 0.999853),\n",
       " (0.99985194, 0.99985194),\n",
       " (0.9998512, 0.99988294),\n",
       " (0.999851, 0.999851),\n",
       " (0.99984765, 0.9998945),\n",
       " (0.99984026, 0.99984026),\n",
       " (0.9998375, 0.9997354),\n",
       " (0.99983597, 0.99983597),\n",
       " (0.99982446, 0.99982446),\n",
       " (0.99982244, 0.99982244),\n",
       " (0.9998197, 0.9998197),\n",
       " (0.9998153, 0.9998153),\n",
       " (0.99979895, 0.999796),\n",
       " (0.99979776, 0.9997632),\n",
       " (0.99977535, 0.99977535),\n",
       " (0.9997662, 0.999848),\n",
       " (0.9997652, 0.9997652),\n",
       " (0.99976486, 0.99976486),\n",
       " (0.9997615, 0.9997615),\n",
       " (0.99975604, 0.99975604),\n",
       " (0.99975187, 0.99977416),\n",
       " (0.9997396, 0.99964607),\n",
       " (0.9997384, 0.99964905),\n",
       " (0.99973816, 0.9997143),\n",
       " (0.99972695, 0.99972695),\n",
       " (0.9997254, 0.9998216),\n",
       " (0.99970204, 0.99970204),\n",
       " (0.9996948, 0.9997596),\n",
       " (0.9996817, 0.9993038),\n",
       " (0.9996737, 0.99932265),\n",
       " (0.9996697, 0.9996697),\n",
       " (0.9996679, 0.9996679),\n",
       " (0.9996586, 0.9996586),\n",
       " (0.99965394, 0.99973816),\n",
       " (0.9996408, 0.99973744),\n",
       " (0.999634, 0.999634),\n",
       " (0.9996247, 0.9996247),\n",
       " (0.9996138, 0.9996138),\n",
       " (0.9996055, 0.99953926),\n",
       " (0.99958974, 0.99958974),\n",
       " (0.9995628, 0.9995628),\n",
       " (0.9995603, 0.9995933),\n",
       " (0.9995503, 0.99967813),\n",
       " (0.99954814, 0.9994634),\n",
       " (0.9995449, 0.9995449),\n",
       " (0.9995301, 0.9994061),\n",
       " (0.99952817, 0.9995078),\n",
       " (0.9995061, 0.9995061),\n",
       " (0.9995022, 0.9995022),\n",
       " (0.9994967, 0.9994967),\n",
       " (0.9994962, 0.9994962),\n",
       " (0.9994943, 0.9994943),\n",
       " (0.9994885, 0.99954164),\n",
       " (0.99945146, 0.99945146),\n",
       " (0.9994356, 0.9994373),\n",
       " (0.9994324, 0.9994324),\n",
       " (0.9993642, 0.99991274),\n",
       " (0.9993623, 0.9991585),\n",
       " (0.9993617, 0.9993617),\n",
       " (0.9993569, 0.99906033),\n",
       " (0.9993554, 0.9993554),\n",
       " (0.9993542, 0.99951196),\n",
       " (0.99932337, 0.99932337),\n",
       " (0.9993206, 0.9995316),\n",
       " (0.9993187, 0.9992256),\n",
       " (0.99931765, 0.99931765),\n",
       " (0.99928916, 0.9983784),\n",
       " (0.99928504, 0.9999161),\n",
       " (0.99927133, 0.9973133),\n",
       " (0.999257, 0.999257),\n",
       " (0.99925476, 0.99925476),\n",
       " (0.99924755, 0.99924755),\n",
       " (0.9992373, 0.9992373),\n",
       " (0.9991912, 0.9991912),\n",
       " (0.99916446, 0.99916446),\n",
       " (0.999164, 0.9990989),\n",
       " (0.99913305, 0.99908864),\n",
       " (0.999121, 0.999121),\n",
       " (0.9990771, 0.9998523),\n",
       " (0.9989973, 0.9989973),\n",
       " (0.9989759, 0.9989759),\n",
       " (0.9989405, 0.9988387),\n",
       " (0.9988673, 0.9988673),\n",
       " (0.9988379, 0.99886155),\n",
       " (0.9988205, 0.9988205),\n",
       " (0.998782, 0.998782),\n",
       " (0.99876714, 0.99876714),\n",
       " (0.99865746, 0.99865746),\n",
       " (0.99863714, 0.9990969),\n",
       " (0.998602, 0.99782914),\n",
       " (0.99856347, 0.9975903),\n",
       " (0.9984993, 0.9984993),\n",
       " (0.99848783, 0.99848783),\n",
       " (0.99847287, 0.99842596),\n",
       " (0.99846447, 0.9965816),\n",
       " (0.99842864, 0.99833965),\n",
       " (0.99839044, 0.99839044),\n",
       " (0.99837565, 0.99837565),\n",
       " (0.99835545, 0.99835545),\n",
       " (0.998343, 0.99999416),\n",
       " (0.9983359, 0.9985361),\n",
       " (0.9983134, 0.9982681),\n",
       " (0.99822384, 0.99822384),\n",
       " (0.9981875, 0.9981875),\n",
       " (0.9978853, 0.998089),\n",
       " (0.99786913, 0.99648213),\n",
       " (0.9978661, 0.9978661),\n",
       " (0.9977749, 0.9982253),\n",
       " (0.99776566, 0.99776566),\n",
       " (0.99770856, 0.99770516),\n",
       " (0.9976927, 0.9976927),\n",
       " (0.9975852, 0.9959979),\n",
       " (0.9975649, 0.99310946),\n",
       " (0.9975223, 0.9975223),\n",
       " (0.99745995, 0.99745995),\n",
       " (0.99728584, 0.99728584),\n",
       " (0.99716115, 0.99716115),\n",
       " (0.99712026, 0.99712026),\n",
       " (0.996819, 0.9966658),\n",
       " (0.99669963, 0.9944764),\n",
       " (0.9965668, 0.9965668),\n",
       " (0.9964399, 0.9964399),\n",
       " (0.9963387, 0.99533695),\n",
       " (0.99617034, 0.9955675),\n",
       " (0.99616134, 0.9908023),\n",
       " (0.99613875, 0.9873969),\n",
       " (0.99601233, 0.99601233),\n",
       " (0.9959015, 0.9970542),\n",
       " (0.9956772, 0.99500173),\n",
       " (0.9956424, 0.99226236),\n",
       " (0.9955819, 0.9956162),\n",
       " (0.99509573, 0.9936702),\n",
       " (0.9950589, 0.9965329),\n",
       " (0.9942444, 0.9942444),\n",
       " (0.9941093, 0.9941093),\n",
       " (0.9939805, 0.9925564),\n",
       " (0.9934702, 0.9934702),\n",
       " (0.99344784, 0.99234605),\n",
       " (0.9931926, 0.9931926),\n",
       " (0.993168, 0.9923029),\n",
       " (0.99305975, 0.99305975),\n",
       " (0.9930419, 0.9930419),\n",
       " (0.9928966, 0.9928966),\n",
       " (0.9927965, 0.9927965),\n",
       " (0.9924516, 0.9924516),\n",
       " (0.99205995, 0.989702),\n",
       " (0.99202454, 0.99202454),\n",
       " (0.99161994, 0.99161994),\n",
       " (0.9915455, 0.9915455),\n",
       " (0.99124545, 0.984994),\n",
       " (0.99090624, 0.99090624),\n",
       " (0.9908664, 0.9908664),\n",
       " (0.9907532, 0.9907532),\n",
       " (0.9907223, 0.9918805),\n",
       " (0.99063766, 0.98956645),\n",
       " (0.9904108, 0.9906765),\n",
       " (0.99006546, 0.99006546),\n",
       " (0.9900247, 0.9900247),\n",
       " (0.98993266, 0.98993266),\n",
       " (0.9898795, 0.9898795),\n",
       " (0.98986477, 0.98986477),\n",
       " (0.9898561, 0.9924541),\n",
       " (0.98980427, 0.98980427),\n",
       " (0.989447, 0.9816502),\n",
       " (0.9893106, 0.9893106),\n",
       " (0.9892687, 0.9892687),\n",
       " (0.9891717, 0.9891717),\n",
       " (0.98915696, 0.98915696),\n",
       " (0.9887999, 0.9887999),\n",
       " (0.9887651, 0.9887651),\n",
       " (0.98846495, 0.98856443),\n",
       " (0.9884647, 0.990236),\n",
       " (0.98846215, 0.9640697),\n",
       " (0.98812556, 0.98772985),\n",
       " (0.9880648, 0.9769333),\n",
       " (0.98763627, 0.9932145),\n",
       " (0.9874942, 0.987358),\n",
       " (0.9874069, 0.9874069),\n",
       " (0.9873574, 0.98157585),\n",
       " (0.9872745, 0.9961998),\n",
       " (0.9872071, 0.9663391),\n",
       " (0.9871852, 0.9871852),\n",
       " (0.98707426, 0.9870868),\n",
       " (0.9869399, 0.98828655),\n",
       " (0.9868146, 0.9834236),\n",
       " (0.9866087, 0.981171),\n",
       " (0.9863616, 0.9903598),\n",
       " (0.98604935, 0.9879067),\n",
       " (0.9856308, 0.9856308),\n",
       " (0.9846459, 0.9872782),\n",
       " (0.98428506, 0.9803797),\n",
       " (0.9840285, 0.9840285),\n",
       " (0.98361546, 0.980945),\n",
       " (0.9813959, 0.9813959),\n",
       " (0.98137796, 0.95152605),\n",
       " (0.98132175, 0.9705104),\n",
       " (0.9809068, 0.9739042),\n",
       " (0.9808249, 0.96552694),\n",
       " (0.98040193, 0.98040193),\n",
       " (0.97935677, 0.97935677),\n",
       " (0.97924864, 0.9760408),\n",
       " (0.9789473, 0.9789473),\n",
       " (0.9788932, 0.9788932),\n",
       " (0.978872, 0.98141885),\n",
       " (0.9787324, 0.9787324),\n",
       " (0.9786442, 0.9786442),\n",
       " (0.9775679, 0.9516601),\n",
       " (0.97647744, 0.9787582),\n",
       " (0.9754587, 0.9754587),\n",
       " (0.9753093, 0.9793093),\n",
       " (0.97499233, 0.9346654),\n",
       " (0.9748684, 0.9748684),\n",
       " (0.97384924, 0.97384924),\n",
       " (0.9730675, 0.9730675),\n",
       " (0.9727025, 0.97249323),\n",
       " (0.9714584, 0.9714584),\n",
       " (0.97117525, 0.95843834),\n",
       " (0.97011125, 0.97011125),\n",
       " (0.9698042, 0.9698042),\n",
       " (0.9682321, 0.9642349),\n",
       " (0.96719164, 0.948439),\n",
       " (0.9664047, 0.9664047),\n",
       " (0.9656913, 0.9656913),\n",
       " (0.9650635, 0.96707726),\n",
       " (0.9636537, 0.96193546),\n",
       " (0.96355295, 0.96048796),\n",
       " (0.9631397, 0.9650424),\n",
       " (0.9629351, 0.9629351),\n",
       " (0.9616831, 0.96199906),\n",
       " (0.96166426, 0.9478813),\n",
       " (0.96139216, 0.94168043),\n",
       " (0.96058077, 0.96058077),\n",
       " (0.96024793, 0.97685087),\n",
       " (0.95995885, 0.95995885),\n",
       " (0.9599573, 0.976916),\n",
       " (0.9595641, 0.9595641),\n",
       " (0.9593663, 0.9593663),\n",
       " (0.95933473, 0.95933473),\n",
       " (0.95849943, 0.95621353),\n",
       " (0.9580385, 0.9598271),\n",
       " (0.9564125, 0.9564125),\n",
       " (0.955711, 0.955711),\n",
       " (0.95386237, 0.95386237),\n",
       " (0.95382774, 0.95382774),\n",
       " (0.95381594, 0.95381594),\n",
       " (0.95251, 0.9524117),\n",
       " (0.951816, 0.95272434),\n",
       " (0.95130485, 0.95130485),\n",
       " (0.9510582, 0.9510582),\n",
       " (0.9504943, 0.9437685),\n",
       " (0.95021164, 0.95021164),\n",
       " (0.9500501, 0.9376758),\n",
       " (0.94996566, 0.9501029),\n",
       " (0.94993013, 0.94993013),\n",
       " (0.9496481, 0.9496481),\n",
       " (0.9492913, 0.951174),\n",
       " (0.94903374, 0.94903374),\n",
       " (0.94853735, 0.94853735),\n",
       " (0.9482965, 0.9482965),\n",
       " (0.94777364, 0.94777364),\n",
       " (0.94740415, 0.9578274),\n",
       " (0.94650126, 0.9127926),\n",
       " (0.9448396, 0.9483157),\n",
       " (0.94453424, 0.94453424),\n",
       " (0.9445066, 0.91055304),\n",
       " (0.94422275, 0.93939537),\n",
       " (0.94318765, 0.94388247),\n",
       " (0.942432, 0.97044957),\n",
       " (0.9421939, 0.9198166),\n",
       " (0.94197935, 0.94197935),\n",
       " (0.93916553, 0.9408987),\n",
       " (0.939076, 0.939076),\n",
       " (0.93900955, 0.93900955),\n",
       " (0.937433, 0.937433),\n",
       " (0.9366191, 0.9367984),\n",
       " (0.9356407, 0.9356407),\n",
       " (0.93233556, 0.93233556),\n",
       " (0.92852104, 0.9232897),\n",
       " (0.92702067, 0.92702067),\n",
       " (0.9263734, 0.9263734),\n",
       " (0.92517656, 0.92517656),\n",
       " (0.92512244, 0.9426903),\n",
       " (0.92438215, 0.92675805),\n",
       " (0.9240908, 0.88754326),\n",
       " (0.92172337, 0.94522655),\n",
       " (0.92136854, 0.92281127),\n",
       " (0.9204375, 0.9206287),\n",
       " (0.9202813, 0.943644),\n",
       " (0.9195103, 0.89817),\n",
       " (0.9191283, 0.9191283),\n",
       " (0.9184684, 0.9184684),\n",
       " (0.9180707, 0.9180218),\n",
       " (0.9172664, 0.91655564),\n",
       " (0.9171931, 0.9171931),\n",
       " (0.9154649, 0.8873008),\n",
       " (0.91474223, 0.91474223),\n",
       " (0.9130925, 0.9220517),\n",
       " (0.91120046, 0.91419846),\n",
       " (0.9104191, 0.96031004),\n",
       " (0.90855163, 0.90855163),\n",
       " (0.9065307, 0.9065307),\n",
       " (0.9063114, 0.90709907),\n",
       " (0.9062966, 0.89255345),\n",
       " (0.90574634, 0.8797468),\n",
       " (0.90265495, 0.8986457),\n",
       " (0.90250206, 0.8893357),\n",
       " (0.90238494, 0.90238494),\n",
       " (0.9012962, 0.9012962),\n",
       " (0.9012798, 0.8690694),\n",
       " (0.9007357, 0.91704494),\n",
       " (0.9005654, 0.9005654),\n",
       " (0.8995784, 0.8995784),\n",
       " (0.8967804, 0.8967804),\n",
       " (0.8961093, 0.8961093),\n",
       " (0.8947538, 0.90262395),\n",
       " (0.89158714, 0.89158714),\n",
       " (0.8874692, 0.8874692),\n",
       " (0.8874537, 0.8874537),\n",
       " (0.88579583, 0.88722694),\n",
       " (0.88331896, 0.47780922),\n",
       " (0.88269275, 0.88269275),\n",
       " (0.8815342, 0.8815342),\n",
       " (0.88068855, 0.8689397),\n",
       " (0.87932485, 0.87900686),\n",
       " (0.8784462, 0.8784462),\n",
       " (0.8782475, 0.8904757),\n",
       " (0.87817013, 0.87817013),\n",
       " (0.8767948, 0.869965),\n",
       " (0.87647986, 0.87647986),\n",
       " (0.87630296, 0.8682651),\n",
       " (0.87358564, 0.87393224),\n",
       " (0.87113994, 0.87113994),\n",
       " (0.8704074, 0.8704074),\n",
       " (0.8703665, 0.86773664),\n",
       " (0.8694199, 0.8694199),\n",
       " (0.869105, 0.8686232),\n",
       " (0.86705023, 0.8708659),\n",
       " (0.86621743, 0.86621743),\n",
       " (0.86065656, 0.84071195),\n",
       " (0.8600495, 0.8557393),\n",
       " (0.8592978, 0.8872128),\n",
       " (0.85748386, 0.8320264),\n",
       " (0.85657215, 0.8560999),\n",
       " (0.8549307, 0.83467126),\n",
       " (0.85476923, 0.90990907),\n",
       " (0.85381466, 0.82376516),\n",
       " (0.8511937, 0.8511937),\n",
       " (0.8458702, 0.8458702),\n",
       " (0.845741, 0.6896777),\n",
       " (0.8455101, 0.78546923),\n",
       " (0.8453208, 0.7876761),\n",
       " (0.8442593, 0.80802876),\n",
       " (0.8433347, 0.8240672),\n",
       " (0.8428732, 0.8428732),\n",
       " (0.8415225, 0.8394279),\n",
       " (0.8414107, 0.8414107),\n",
       " (0.8406722, 0.808761),\n",
       " (0.8396198, 0.83312976),\n",
       " (0.8392121, 0.8392121),\n",
       " (0.83850056, 0.8593043),\n",
       " (0.83769333, 0.84915084),\n",
       " (0.83617437, 0.83617437),\n",
       " (0.8354196, 0.75769997),\n",
       " (0.833867, 0.833867),\n",
       " (0.82977337, 0.82977337),\n",
       " (0.82746154, 0.82746154),\n",
       " (0.8269129, 0.81188756),\n",
       " (0.824423, 0.80090946),\n",
       " (0.8193001, 0.82400423),\n",
       " (0.8192875, 0.8278577),\n",
       " (0.81925744, 0.8270886),\n",
       " (0.81782645, 0.81782645),\n",
       " (0.81734395, 0.8178287),\n",
       " (0.8163756, 0.7344793),\n",
       " (0.81635296, 0.8165058),\n",
       " (0.81460106, 0.81460106),\n",
       " (0.8140845, 0.8260376),\n",
       " (0.8115918, 0.77627194),\n",
       " (0.81086236, 0.8193091),\n",
       " (0.81059605, 0.69808817),\n",
       " (0.8042769, 0.7944214),\n",
       " (0.80084, 0.80028534),\n",
       " (0.8000556, 0.81242245),\n",
       " (0.7966927, 0.7966927),\n",
       " (0.79500383, 0.79500383),\n",
       " (0.7947334, 0.8020071),\n",
       " (0.79464024, 0.7781705),\n",
       " (0.7927689, 0.7918943),\n",
       " (0.7914745, 0.7593209),\n",
       " (0.78793263, 0.7870439),\n",
       " (0.7876143, 0.7781608),\n",
       " (0.7857633, 0.7857633),\n",
       " (0.7855644, 0.78124905),\n",
       " (0.78323936, 0.8326225),\n",
       " (0.7816242, 0.8886982),\n",
       " (0.78094596, 0.7845542),\n",
       " (0.7786625, 0.7786625),\n",
       " (0.7779683, 0.7779683),\n",
       " (0.7764023, 0.5171198),\n",
       " (0.77574426, 0.77574426),\n",
       " (0.77523905, 0.7766262),\n",
       " (0.7715838, 0.77297986),\n",
       " (0.7701164, 0.7904429),\n",
       " (0.76901776, 0.76901776),\n",
       " (0.76591617, 0.77892756),\n",
       " (0.7645828, 0.7645828),\n",
       " (0.7611526, 0.76492923),\n",
       " (0.76060474, 0.79107153),\n",
       " (0.7570249, 0.7570249),\n",
       " (0.7566488, 0.7872477),\n",
       " (0.7553393, 0.7553393),\n",
       " (0.7549486, 0.7550256),\n",
       " (0.7522352, 0.7522352),\n",
       " (0.7490646, 0.71966994),\n",
       " (0.7460986, 0.7460986),\n",
       " (0.7455462, 0.736258),\n",
       " (0.7450413, 0.7571479),\n",
       " (0.7449025, 0.6443743),\n",
       " (0.7383878, 0.7526541),\n",
       " (0.7374621, 0.74987197),\n",
       " (0.73318475, 0.7328065),\n",
       " (0.73290557, 0.7335306),\n",
       " (0.7328986, 0.7328986),\n",
       " (0.7308683, 0.72765666),\n",
       " (0.7295477, 0.7295477),\n",
       " (0.72827315, 0.72986287),\n",
       " (0.7278805, 0.7803626),\n",
       " (0.7258368, 0.7384706),\n",
       " (0.72543424, 0.72207344),\n",
       " (0.72461617, 0.77912253),\n",
       " (0.7226708, 0.74725735),\n",
       " (0.71917695, 0.68690276),\n",
       " (0.71696955, 0.55794716),\n",
       " (0.71689343, 0.71689343),\n",
       " (0.7148453, 0.66028845),\n",
       " (0.71109015, 0.62282175),\n",
       " (0.7079833, 0.6892866),\n",
       " (0.7068268, 0.7068268),\n",
       " (0.70449245, 0.70449245),\n",
       " (0.69666916, 0.69666916),\n",
       " (0.6961963, 0.682697),\n",
       " (0.6940869, 0.6466923),\n",
       " (0.6875075, 0.6828511),\n",
       " (0.6861069, 0.6861069),\n",
       " (0.6850002, 0.7256202),\n",
       " (0.6834756, 0.7416213),\n",
       " (0.68273973, 0.68273973),\n",
       " (0.68039685, 0.68039685),\n",
       " (0.6803117, 0.6803117),\n",
       " (0.6776442, 0.8164584),\n",
       " (0.67264867, 0.5935383),\n",
       " (0.67231643, 0.6646019),\n",
       " (0.6714358, 0.63647455),\n",
       " (0.67101157, 0.67101157),\n",
       " (0.6676729, 0.65449506),\n",
       " (0.6667579, 0.6594824),\n",
       " (0.6660075, 0.37371737),\n",
       " (0.66297203, 0.68908656),\n",
       " (0.66104597, 0.6293996),\n",
       " (0.6584333, 0.6584333),\n",
       " (0.6573071, 0.6573071),\n",
       " (0.65637654, 0.65637654),\n",
       " (0.6535638, 0.6535638),\n",
       " (0.65260637, 0.57078433),\n",
       " (0.6469331, 0.66965264),\n",
       " (0.6460795, 0.64373046),\n",
       " (0.6441979, 0.6441979),\n",
       " (0.6432281, 0.6432281),\n",
       " (0.6425352, 0.6425352),\n",
       " (0.6424526, 0.6424526),\n",
       " (0.6411939, 0.65710896),\n",
       " (0.6380007, 0.65892756),\n",
       " (0.6294872, 0.6370443),\n",
       " (0.6286469, 0.6471495),\n",
       " (0.62812126, 0.6300247),\n",
       " (0.6262551, 0.6074967),\n",
       " (0.6258734, 0.59471405),\n",
       " (0.6245534, 0.48746496),\n",
       " (0.62358755, 0.62358755),\n",
       " (0.6224515, 0.6224515),\n",
       " (0.62191176, 0.66534513),\n",
       " (0.62115586, 0.62115586),\n",
       " (0.6175738, 0.6175738),\n",
       " (0.6164639, 0.61367184),\n",
       " (0.61571676, 0.6503263),\n",
       " (0.6153178, 0.56083816),\n",
       " (0.6126453, 0.6126453),\n",
       " (0.611876, 0.63778245),\n",
       " (0.61099786, 0.6787129),\n",
       " (0.6098342, 0.51945364),\n",
       " (0.60957557, 0.6330962),\n",
       " (0.6090693, 0.5774816),\n",
       " (0.60821253, 0.60821253),\n",
       " (0.6041565, 0.6041565),\n",
       " (0.6034178, 0.6034178),\n",
       " (0.6010827, 0.67003125),\n",
       " (0.591136, 0.61758834),\n",
       " (0.58429456, 0.58429456),\n",
       " (0.5829415, 0.5152058),\n",
       " (0.57656175, 0.59552705),\n",
       " (0.572761, 0.5765546),\n",
       " (0.5727551, 0.610488),\n",
       " (0.5721134, 0.5721134),\n",
       " (0.57164055, 0.49552336),\n",
       " (0.57031655, 0.50630766),\n",
       " (0.56980664, 0.5970078),\n",
       " (0.5690569, 0.55851537),\n",
       " (0.56579137, 0.57107514),\n",
       " (0.5649019, 0.5574337),\n",
       " (0.5642445, 0.5642445),\n",
       " (0.56400174, 0.5052541),\n",
       " (0.5634622, 0.5804691),\n",
       " (0.5569265, 0.5228586),\n",
       " (0.55141, 0.57132536),\n",
       " (0.550392, 0.7320109),\n",
       " (0.54965127, 0.54965127),\n",
       " (0.5443457, 0.5443457),\n",
       " (0.5441521, 0.5441521),\n",
       " (0.542345, 0.53820646),\n",
       " (0.54231834, 0.5609479),\n",
       " (0.5411889, 0.5411889),\n",
       " (0.5366315, 0.46699268),\n",
       " (0.5340571, 0.5294091),\n",
       " (0.53390384, 0.47580826),\n",
       " (0.52803254, 0.52803254),\n",
       " (0.52559906, 0.52559906),\n",
       " (0.5253315, 0.5253315),\n",
       " (0.5213163, 0.48017207),\n",
       " (0.5205074, 0.6505526),\n",
       " (0.5158903, 0.5158903),\n",
       " (0.5135232, 0.46969107),\n",
       " (0.5134826, 0.50951535),\n",
       " (0.51146394, 0.51146394),\n",
       " (0.50959545, 0.50959545),\n",
       " (0.5091358, 0.6332457),\n",
       " (0.508777, 0.4977263),\n",
       " (0.50609756, 0.50609756),\n",
       " (0.50497884, 0.4682467),\n",
       " (0.501429, 0.49703807),\n",
       " (0.49906203, 0.49906203),\n",
       " (0.49702176, 0.49702176),\n",
       " (0.4969206, 0.4969206),\n",
       " (0.49384108, 0.4905927),\n",
       " (0.49024978, 0.49024978),\n",
       " (0.4866333, 0.4887921),\n",
       " (0.4836792, 0.4836792),\n",
       " (0.48324043, 0.48324043),\n",
       " (0.48015657, 0.47841904),\n",
       " (0.47891423, 0.47891423),\n",
       " (0.47627738, 0.44607937),\n",
       " (0.476151, 0.476151),\n",
       " (0.47588784, 0.4834203),\n",
       " (0.47502753, 0.47502753),\n",
       " (0.47326928, 0.47326928),\n",
       " (0.47247598, 0.42280135),\n",
       " (0.47158045, 0.47341746),\n",
       " (0.4694554, 0.4694554),\n",
       " (0.46662852, 0.46662852),\n",
       " (0.46607023, 0.47773397),\n",
       " (0.46496937, 0.49274066),\n",
       " (0.46494427, 0.46123326),\n",
       " (0.4600846, 0.4600846),\n",
       " (0.45964321, 0.4573534),\n",
       " (0.45656696, 0.5022425),\n",
       " (0.44930962, 0.43823457),\n",
       " (0.4490653, 0.4298314),\n",
       " (0.44686335, 0.44686335),\n",
       " (0.43575147, 0.43851084),\n",
       " (0.43286353, 0.42598486),\n",
       " (0.4313987, 0.4249595),\n",
       " (0.41499525, 0.4144195),\n",
       " (0.40897655, 0.40897655),\n",
       " (0.40281904, 0.40281904),\n",
       " (0.39206094, 0.38305414),\n",
       " (0.3918526, 0.3918526),\n",
       " (0.39115387, 0.39115387),\n",
       " (0.39105523, 0.3979206),\n",
       " (0.39069104, 0.39069104),\n",
       " (0.38761812, 0.38761812),\n",
       " (0.38410822, 0.503083),\n",
       " (0.37641802, 0.37641802),\n",
       " (0.36239192, 0.36239192),\n",
       " (0.3573674, 0.29392642),\n",
       " (0.34067243, 0.34067243),\n",
       " (0.34067243, 0.304698),\n",
       " (0.33973184, 0.33973184),\n",
       " (0.33590704, 0.35054937),\n",
       " (0.33360374, 0.33360374),\n",
       " (0.3242475, 0.3242475),\n",
       " (0.31194776, 0.2604099),\n",
       " (0.30932602, 0.30192003),\n",
       " (0.30073258, 0.28835377),\n",
       " (0.27235046, 0.27240947)]"
      ]
     },
     "execution_count": 49,
     "metadata": {},
     "output_type": "execute_result"
    }
   ],
   "source": [
    "true_new"
   ]
  },
  {
   "cell_type": "code",
   "execution_count": 69,
   "metadata": {},
   "outputs": [
    {
     "data": {
      "image/png": "[encoded data removed]",
      "text/plain": [
       "<Figure size 720x576 with 1 Axes>"
      ]
     },
     "metadata": {
      "needs_background": "light"
     },
     "output_type": "display_data"
    }
   ],
   "source": [
    "plt.rcParams['font.size'] = '20'\n",
    "\n",
    "li = [true_new[i][1] for i in range(sample_size)]\n",
    "tr = [true_new[i][0] for i in range(sample_size)]\n",
    "fig = plt.figure(figsize=(10, 8))\n",
    "plt.plot(tr, label='True prediction')\n",
    "plt.plot(li, label='OpenBox')\n",
    "plt.xlabel('Индекс объекта', fontsize=20)\n",
    "plt.ylabel('Предсказание вероятности', fontsize=20)\n",
    "plt.legend(loc=3)\n",
    "fig.axes[0].set_rasterized(True)\n",
    "plt.savefig('fig/True_OpenBox.png')\n",
    "plt.show()"
   ]
  },
  {
   "cell_type": "code",
   "execution_count": 70,
   "metadata": {},
   "outputs": [
    {
     "data": {
      "image/png": "[encoded data removed]",
      "text/plain": [
       "<Figure size 720x576 with 1 Axes>"
      ]
     },
     "metadata": {
      "needs_background": "light"
     },
     "output_type": "display_data"
    }
   ],
   "source": [
    "plt.rcParams['font.size'] = '20'\n",
    "\n",
    "li = [true_lime[i][1] for i in range(sample_size)]\n",
    "tr = [true_lime[i][0] for i in range(sample_size)]\n",
    "fig = plt.figure(figsize=(10, 8))\n",
    "plt.plot(tr, label='True prediction')\n",
    "plt.plot(li, label='LIME')\n",
    "plt.xlabel('Индекс объекта', fontsize=20)\n",
    "plt.ylabel('Предсказание вероятности', fontsize=20)\n",
    "plt.legend(loc=3)\n",
    "fig.axes[0].set_rasterized(True)\n",
    "plt.savefig('fig/True_Lime.png')\n",
    "plt.show()"
   ]
  },
  {
   "cell_type": "code",
   "execution_count": null,
   "metadata": {},
   "outputs": [],
   "source": [
    "plt.rcParams['font.size'] = '20'\n",
    "\n",
    "li = [true_lime[i][1] for i in range(sample_size)]\n",
    "tr = [true_lime[i][0] for i in range(sample_size)]\n",
    "fig = plt.figure(figsize=(10, 8))\n",
    "plt.plot(tr, label='True prediction')\n",
    "plt.plot(li, label='LIME')\n",
    "plt.xlabel('Индекс объекта', fontsize=20)\n",
    "plt.ylabel('Предсказание вероятности', fontsize=20)\n",
    "plt.legend(loc=3)\n",
    "fig.axes[0].set_rasterized(True)\n",
    "plt.show()"
   ]
  },
  {
   "cell_type": "code",
   "execution_count": null,
   "metadata": {},
   "outputs": [],
   "source": []
  }
 ],
 "metadata": {
  "kernelspec": {
   "display_name": "Python 3",
   "language": "python",
   "name": "python3"
  },
  "language_info": {
   "codemirror_mode": {
    "name": "ipython",
    "version": 3
   },
   "file_extension": ".py",
   "mimetype": "text/x-python",
   "name": "python",
   "nbconvert_exporter": "python",
   "pygments_lexer": "ipython3",
   "version": "3.7.3"
  }
 },
 "nbformat": 4,
 "nbformat_minor": 2
}
