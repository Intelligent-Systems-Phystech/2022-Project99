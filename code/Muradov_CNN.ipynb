{
 "cells": [
  {
   "cell_type": "code",
   "execution_count": 198,
   "metadata": {},
   "outputs": [
    {
     "data": {
      "text/plain": [
       "<torch.autograd.grad_mode.set_grad_enabled at 0x7fc45cd152b0>"
      ]
     },
     "execution_count": 198,
     "metadata": {},
     "output_type": "execute_result"
    }
   ],
   "source": [
    "# import standard PyTorch modules\n",
    "import torch\n",
    "import torch.nn as nn\n",
    "import torch.nn.functional as F\n",
    "import torch.optim as optim\n",
    "from torch.utils.tensorboard import SummaryWriter # TensorBoard support\n",
    "\n",
    "# import torchvision module to handle image manipulation\n",
    "import torchvision\n",
    "import torchvision.transforms as transforms\n",
    "\n",
    "# calculate train time, writing train data to files etc.\n",
    "import time\n",
    "import pandas as pd\n",
    "import json\n",
    "from IPython.display import clear_output\n",
    "\n",
    "torch.set_printoptions(linewidth=120)\n",
    "torch.set_grad_enabled(True)     # On by default, leave it here for clarity"
   ]
  },
  {
   "cell_type": "code",
   "execution_count": 246,
   "metadata": {},
   "outputs": [],
   "source": [
    "# Use standard FashionMNIST dataset\n",
    "train_set = torchvision.datasets.FashionMNIST(\n",
    "    root = './data/FashionMNIST',\n",
    "    train = True,\n",
    "    download = True,\n",
    "    transform = transforms.Compose([\n",
    "        transforms.ToTensor()                                 \n",
    "    ])\n",
    ")"
   ]
  },
  {
   "cell_type": "code",
   "execution_count": 247,
   "metadata": {},
   "outputs": [],
   "source": [
    "# Build the neural network, expand on top of nn.Module\n",
    "class Network(nn.Module):\n",
    "  def __init__(self):\n",
    "    super().__init__()\n",
    "\n",
    "    # define layers\n",
    "    self.conv1 = nn.Conv2d(in_channels=1, out_channels=6, kernel_size=5)\n",
    "    self.conv2 = nn.Conv2d(in_channels=6, out_channels=12, kernel_size=5)\n",
    "\n",
    "    self.fc1 = nn.Linear(in_features=12*4*4, out_features=120)\n",
    "    self.fc2 = nn.Linear(in_features=120, out_features=60)\n",
    "    self.out = nn.Linear(in_features=60, out_features=10)\n",
    "\n",
    "  # define forward function\n",
    "  def forward(self, t):\n",
    "    # conv 1\n",
    "    t = self.conv1(t)\n",
    "    t = F.relu(t)\n",
    "    t = F.max_pool2d(t, kernel_size=2, stride=2)\n",
    "\n",
    "    # conv 2\n",
    "    t = self.conv2(t)\n",
    "    t = F.relu(t)\n",
    "    t = F.max_pool2d(t, kernel_size=2, stride=2)\n",
    "\n",
    "    # fc1\n",
    "    t = t.reshape(-1, 12*4*4)\n",
    "    t = self.fc1(t)\n",
    "    t = F.relu(t)\n",
    "\n",
    "    # fc2\n",
    "    t = self.fc2(t)\n",
    "    t = F.relu(t)\n",
    "\n",
    "    # output\n",
    "    t = self.out(t)\n",
    "    # don't need softmax here since we'll use cross-entropy as activation.\n",
    "\n",
    "    return t"
   ]
  },
  {
   "cell_type": "code",
   "execution_count": 248,
   "metadata": {},
   "outputs": [],
   "source": [
    "from collections import OrderedDict\n",
    "\n",
    "# put all hyper params into a OrderedDict, easily expandable\n",
    "params = OrderedDict(\n",
    "    lr = [.01],\n",
    "    batch_size = [100],\n",
    "    shuffle = [False]\n",
    ")\n",
    "epochs = 10"
   ]
  },
  {
   "cell_type": "code",
   "execution_count": 249,
   "metadata": {},
   "outputs": [],
   "source": [
    "# import modules to build RunBuilder and RunManager helper classes\n",
    "from collections import namedtuple\n",
    "from itertools import product\n",
    "\n",
    "# Read in the hyper-parameters and return a Run namedtuple containing all the \n",
    "# combinations of hyper-parameters\n",
    "class RunBuilder():\n",
    "  @staticmethod\n",
    "  def get_runs(params):\n",
    "\n",
    "    Run = namedtuple('Run', params.keys())\n",
    "\n",
    "    runs = []\n",
    "    for v in product(*params.values()):\n",
    "      runs.append(Run(*v))\n",
    "    \n",
    "    return runs"
   ]
  },
  {
   "cell_type": "code",
   "execution_count": 250,
   "metadata": {},
   "outputs": [],
   "source": [
    "# Helper class, help track loss, accuracy, epoch time, run time, \n",
    "# hyper-parameters etc. Also record to TensorBoard and write into csv, json\n",
    "class RunManager():\n",
    "  def __init__(self):\n",
    "\n",
    "    # tracking every epoch count, loss, accuracy, time\n",
    "    self.epoch_count = 0\n",
    "    self.epoch_loss = 0\n",
    "    self.epoch_num_correct = 0\n",
    "    self.epoch_start_time = None\n",
    "\n",
    "    # tracking every run count, run data, hyper-params used, time\n",
    "    self.run_params = None\n",
    "    self.run_count = 0\n",
    "    self.run_data = []\n",
    "    self.run_start_time = None\n",
    "\n",
    "    # record model, loader and TensorBoard \n",
    "    self.network = None\n",
    "    self.loader = None\n",
    "    self.tb = None\n",
    "\n",
    "  # record the count, hyper-param, model, loader of each run\n",
    "  # record sample images and network graph to TensorBoard  \n",
    "  def begin_run(self, run, network, loader):\n",
    "\n",
    "    self.run_start_time = time.time()\n",
    "\n",
    "    self.run_params = run\n",
    "    self.run_count += 1\n",
    "\n",
    "    self.network = network\n",
    "    self.loader = loader\n",
    "    self.tb = SummaryWriter(comment=f'-{run}')\n",
    "\n",
    "    images, labels = next(iter(self.loader))\n",
    "    grid = torchvision.utils.make_grid(images)\n",
    "\n",
    "    self.tb.add_image('images', grid)\n",
    "    self.tb.add_graph(self.network, images)\n",
    "\n",
    "  # when run ends, close TensorBoard, zero epoch count\n",
    "  def end_run(self):\n",
    "    self.tb.close()\n",
    "    self.epoch_count = 0\n",
    "\n",
    "  # zero epoch count, loss, accuracy, \n",
    "  def begin_epoch(self):\n",
    "    self.epoch_start_time = time.time()\n",
    "\n",
    "    self.epoch_count += 1\n",
    "    self.epoch_loss = 0\n",
    "    self.epoch_num_correct = 0\n",
    "\n",
    "  # \n",
    "  def end_epoch(self):\n",
    "    # calculate epoch duration and run duration(accumulate)\n",
    "    epoch_duration = time.time() - self.epoch_start_time\n",
    "    run_duration = time.time() - self.run_start_time\n",
    "\n",
    "    # record epoch loss and accuracy\n",
    "    loss = self.epoch_loss / len(self.loader.dataset)\n",
    "    accuracy = self.epoch_num_correct / len(self.loader.dataset)\n",
    "\n",
    "    # Record epoch loss and accuracy to TensorBoard \n",
    "    self.tb.add_scalar('Loss', loss, self.epoch_count)\n",
    "    self.tb.add_scalar('Accuracy', accuracy, self.epoch_count)\n",
    "\n",
    "    # Record params to TensorBoard\n",
    "    for name, param in self.network.named_parameters():\n",
    "      self.tb.add_histogram(name, param, self.epoch_count)\n",
    "      self.tb.add_histogram(f'{name}.grad', param.grad, self.epoch_count)\n",
    "    \n",
    "    # Write into 'results' (OrderedDict) for all run related data\n",
    "    results = OrderedDict()\n",
    "    results[\"run\"] = self.run_count\n",
    "    results[\"epoch\"] = self.epoch_count\n",
    "    results[\"loss\"] = loss\n",
    "    results[\"accuracy\"] = accuracy\n",
    "    results[\"epoch duration\"] = epoch_duration\n",
    "    results[\"run duration\"] = run_duration\n",
    "\n",
    "    # Record hyper-params into 'results'\n",
    "    for k,v in self.run_params._asdict().items(): results[k] = v\n",
    "    self.run_data.append(results)\n",
    "    df = pd.DataFrame.from_dict(self.run_data, orient = 'columns')\n",
    "\n",
    "    # display epoch information and show progress\n",
    "    clear_output(wait=True)\n",
    "    display(df)\n",
    "\n",
    "  # accumulate loss of batch into entire epoch loss\n",
    "  def track_loss(self, loss):\n",
    "    # multiply batch size so variety of batch sizes can be compared\n",
    "    self.epoch_loss += loss.item() * self.loader.batch_size\n",
    "\n",
    "  # accumulate number of corrects of batch into entire epoch num_correct\n",
    "  def track_num_correct(self, preds, labels):\n",
    "    self.epoch_num_correct += self._get_num_correct(preds, labels)\n",
    "\n",
    "  @torch.no_grad()\n",
    "  def _get_num_correct(self, preds, labels):\n",
    "    return preds.argmax(dim=1).eq(labels).sum().item()\n",
    "  \n",
    "  # save end results of all runs into csv, json for further analysis\n",
    "  def save(self, fileName):\n",
    "\n",
    "    pd.DataFrame.from_dict(\n",
    "        self.run_data, \n",
    "        orient = 'columns',\n",
    "    ).to_csv(f'{fileName}.csv')\n",
    "\n",
    "    with open(f'{fileName}.json', 'w', encoding='utf-8') as f:\n",
    "      json.dump(self.run_data, f, ensure_ascii=False, indent=4)"
   ]
  },
  {
   "cell_type": "code",
   "execution_count": 251,
   "metadata": {},
   "outputs": [
    {
     "data": {
      "text/html": [
       "<div>\n",
       "<style scoped>\n",
       "    .dataframe tbody tr th:only-of-type {\n",
       "        vertical-align: middle;\n",
       "    }\n",
       "\n",
       "    .dataframe tbody tr th {\n",
       "        vertical-align: top;\n",
       "    }\n",
       "\n",
       "    .dataframe thead th {\n",
       "        text-align: right;\n",
       "    }\n",
       "</style>\n",
       "<table border=\"1\" class=\"dataframe\">\n",
       "  <thead>\n",
       "    <tr style=\"text-align: right;\">\n",
       "      <th></th>\n",
       "      <th>run</th>\n",
       "      <th>epoch</th>\n",
       "      <th>loss</th>\n",
       "      <th>accuracy</th>\n",
       "      <th>epoch duration</th>\n",
       "      <th>run duration</th>\n",
       "      <th>lr</th>\n",
       "      <th>batch_size</th>\n",
       "      <th>shuffle</th>\n",
       "    </tr>\n",
       "  </thead>\n",
       "  <tbody>\n",
       "    <tr>\n",
       "      <th>0</th>\n",
       "      <td>1</td>\n",
       "      <td>1</td>\n",
       "      <td>0.545659</td>\n",
       "      <td>0.794917</td>\n",
       "      <td>11.745786</td>\n",
       "      <td>11.903681</td>\n",
       "      <td>0.01</td>\n",
       "      <td>100</td>\n",
       "      <td>False</td>\n",
       "    </tr>\n",
       "    <tr>\n",
       "      <th>1</th>\n",
       "      <td>1</td>\n",
       "      <td>2</td>\n",
       "      <td>0.387330</td>\n",
       "      <td>0.856050</td>\n",
       "      <td>9.822685</td>\n",
       "      <td>21.827225</td>\n",
       "      <td>0.01</td>\n",
       "      <td>100</td>\n",
       "      <td>False</td>\n",
       "    </tr>\n",
       "    <tr>\n",
       "      <th>2</th>\n",
       "      <td>1</td>\n",
       "      <td>3</td>\n",
       "      <td>0.357752</td>\n",
       "      <td>0.866517</td>\n",
       "      <td>11.638314</td>\n",
       "      <td>33.592644</td>\n",
       "      <td>0.01</td>\n",
       "      <td>100</td>\n",
       "      <td>False</td>\n",
       "    </tr>\n",
       "    <tr>\n",
       "      <th>3</th>\n",
       "      <td>1</td>\n",
       "      <td>4</td>\n",
       "      <td>0.337304</td>\n",
       "      <td>0.874550</td>\n",
       "      <td>12.861645</td>\n",
       "      <td>46.612170</td>\n",
       "      <td>0.01</td>\n",
       "      <td>100</td>\n",
       "      <td>False</td>\n",
       "    </tr>\n",
       "    <tr>\n",
       "      <th>4</th>\n",
       "      <td>1</td>\n",
       "      <td>5</td>\n",
       "      <td>0.334217</td>\n",
       "      <td>0.877667</td>\n",
       "      <td>13.303794</td>\n",
       "      <td>60.109717</td>\n",
       "      <td>0.01</td>\n",
       "      <td>100</td>\n",
       "      <td>False</td>\n",
       "    </tr>\n",
       "    <tr>\n",
       "      <th>5</th>\n",
       "      <td>1</td>\n",
       "      <td>6</td>\n",
       "      <td>0.326837</td>\n",
       "      <td>0.878083</td>\n",
       "      <td>12.339510</td>\n",
       "      <td>72.568414</td>\n",
       "      <td>0.01</td>\n",
       "      <td>100</td>\n",
       "      <td>False</td>\n",
       "    </tr>\n",
       "    <tr>\n",
       "      <th>6</th>\n",
       "      <td>1</td>\n",
       "      <td>7</td>\n",
       "      <td>0.317808</td>\n",
       "      <td>0.882033</td>\n",
       "      <td>11.776830</td>\n",
       "      <td>84.530805</td>\n",
       "      <td>0.01</td>\n",
       "      <td>100</td>\n",
       "      <td>False</td>\n",
       "    </tr>\n",
       "    <tr>\n",
       "      <th>7</th>\n",
       "      <td>1</td>\n",
       "      <td>8</td>\n",
       "      <td>0.315728</td>\n",
       "      <td>0.882533</td>\n",
       "      <td>11.625902</td>\n",
       "      <td>96.341832</td>\n",
       "      <td>0.01</td>\n",
       "      <td>100</td>\n",
       "      <td>False</td>\n",
       "    </tr>\n",
       "    <tr>\n",
       "      <th>8</th>\n",
       "      <td>1</td>\n",
       "      <td>9</td>\n",
       "      <td>0.308057</td>\n",
       "      <td>0.884967</td>\n",
       "      <td>11.688294</td>\n",
       "      <td>108.177775</td>\n",
       "      <td>0.01</td>\n",
       "      <td>100</td>\n",
       "      <td>False</td>\n",
       "    </tr>\n",
       "    <tr>\n",
       "      <th>9</th>\n",
       "      <td>1</td>\n",
       "      <td>10</td>\n",
       "      <td>0.312149</td>\n",
       "      <td>0.884600</td>\n",
       "      <td>11.545153</td>\n",
       "      <td>119.891121</td>\n",
       "      <td>0.01</td>\n",
       "      <td>100</td>\n",
       "      <td>False</td>\n",
       "    </tr>\n",
       "  </tbody>\n",
       "</table>\n",
       "</div>"
      ],
      "text/plain": [
       "   run  epoch      loss  accuracy  epoch duration  run duration    lr  \\\n",
       "0    1      1  0.545659  0.794917       11.745786     11.903681  0.01   \n",
       "1    1      2  0.387330  0.856050        9.822685     21.827225  0.01   \n",
       "2    1      3  0.357752  0.866517       11.638314     33.592644  0.01   \n",
       "3    1      4  0.337304  0.874550       12.861645     46.612170  0.01   \n",
       "4    1      5  0.334217  0.877667       13.303794     60.109717  0.01   \n",
       "5    1      6  0.326837  0.878083       12.339510     72.568414  0.01   \n",
       "6    1      7  0.317808  0.882033       11.776830     84.530805  0.01   \n",
       "7    1      8  0.315728  0.882533       11.625902     96.341832  0.01   \n",
       "8    1      9  0.308057  0.884967       11.688294    108.177775  0.01   \n",
       "9    1     10  0.312149  0.884600       11.545153    119.891121  0.01   \n",
       "\n",
       "   batch_size  shuffle  \n",
       "0         100    False  \n",
       "1         100    False  \n",
       "2         100    False  \n",
       "3         100    False  \n",
       "4         100    False  \n",
       "5         100    False  \n",
       "6         100    False  \n",
       "7         100    False  \n",
       "8         100    False  \n",
       "9         100    False  "
      ]
     },
     "metadata": {},
     "output_type": "display_data"
    }
   ],
   "source": [
    "m = RunManager()\n",
    "\n",
    "# get all runs from params using RunBuilder class\n",
    "for run in RunBuilder.get_runs(params):\n",
    "\n",
    "    # if params changes, following line of code should reflect the changes too\n",
    "    network = Network()\n",
    "    loader = torch.utils.data.DataLoader(train_set, batch_size = run.batch_size)\n",
    "    optimizer = optim.Adam(network.parameters(), lr=run.lr)\n",
    "\n",
    "    m.begin_run(run, network, loader)\n",
    "    for epoch in range(epochs):\n",
    "      \n",
    "      m.begin_epoch()\n",
    "      for batch in loader:\n",
    "        \n",
    "        images = batch[0]\n",
    "        labels = batch[1]\n",
    "        preds = network(images)\n",
    "        loss = F.cross_entropy(preds, labels)\n",
    "\n",
    "        optimizer.zero_grad()\n",
    "        loss.backward()\n",
    "        optimizer.step()\n",
    "\n",
    "        m.track_loss(loss)\n",
    "        m.track_num_correct(preds, labels)\n",
    "\n",
    "      m.end_epoch()\n",
    "    m.end_run()\n",
    "\n",
    "# when all runs are done, save results to files\n",
    "m.save('results')"
   ]
  },
  {
   "cell_type": "code",
   "execution_count": 252,
   "metadata": {},
   "outputs": [],
   "source": [
    "def get_pil_transform(): \n",
    "    transf = transforms.Compose([\n",
    "        #transforms.Resize((28, 28)),\n",
    "    ])    \n",
    "\n",
    "    return transf\n",
    "\n",
    "def get_preprocess_transform():\n",
    "    transf = transforms.Compose([\n",
    "        #transforms.Resize((28, 28)),\n",
    "        transforms.ToTensor(),\n",
    "    ])    \n",
    "\n",
    "    return transf    \n",
    "\n",
    "pill_transf = get_pil_transform()\n",
    "preprocess_transform = get_preprocess_transform()"
   ]
  },
  {
   "cell_type": "code",
   "execution_count": 306,
   "metadata": {},
   "outputs": [],
   "source": [
    "def batch_predict(pred_images):\n",
    "    pred_images = pred_images[:,:,:,0]\n",
    "    batchy = torch.stack(tuple(preprocess_transform(i) for i in pred_images), dim=0)\n",
    "    \n",
    "    logits = network(batchy)\n",
    "    probs = F.softmax(logits, dim=1)\n",
    "    return probs.detach().numpy()"
   ]
  },
  {
   "cell_type": "code",
   "execution_count": 307,
   "metadata": {},
   "outputs": [],
   "source": [
    "def batch_true_predict(pred_images):\n",
    "    batchy = torch.stack(tuple(preprocess_transform(i) for i in pred_images), dim=0)\n",
    "    \n",
    "    logits = network(batchy)\n",
    "    probs = F.softmax(logits, dim=1)\n",
    "    return probs.detach().numpy()"
   ]
  },
  {
   "cell_type": "code",
   "execution_count": 308,
   "metadata": {},
   "outputs": [],
   "source": [
    "test_dataloader      = torch.utils.data.DataLoader(train_set, batch_size=1, shuffle=False, num_workers=0)\n",
    "imgs, lbls  = iter(test_dataloader).next()\n",
    "\n",
    "img = torchvision.transforms.ToPILImage()(imgs[0])"
   ]
  },
  {
   "cell_type": "code",
   "execution_count": 309,
   "metadata": {},
   "outputs": [
    {
     "name": "stdout",
     "output_type": "stream",
     "text": [
      "tensor(9)\n"
     ]
    },
    {
     "data": {
      "image/png": "[encoded data removed]",
      "text/plain": [
       "<Figure size 432x288 with 1 Axes>"
      ]
     },
     "metadata": {
      "needs_background": "light"
     },
     "output_type": "display_data"
    }
   ],
   "source": [
    "import matplotlib.pyplot as plt\n",
    "import numpy as np\n",
    "\n",
    "plt.imshow(img)\n",
    "print(lbls[0])"
   ]
  },
  {
   "cell_type": "code",
   "execution_count": 310,
   "metadata": {},
   "outputs": [
    {
     "data": {
      "image/png": "[encoded data removed]",
      "text/plain": [
       "<PIL.Image.Image image mode=L size=28x28 at 0x7FC4644B0D30>"
      ]
     },
     "execution_count": 310,
     "metadata": {},
     "output_type": "execute_result"
    }
   ],
   "source": [
    "img"
   ]
  },
  {
   "cell_type": "code",
   "execution_count": 311,
   "metadata": {},
   "outputs": [
    {
     "data": {
      "text/plain": [
       "(28, 28)"
      ]
     },
     "execution_count": 311,
     "metadata": {},
     "output_type": "execute_result"
    }
   ],
   "source": [
    "pix = np.array(img)\n",
    "pix.shape"
   ]
  },
  {
   "cell_type": "code",
   "execution_count": 355,
   "metadata": {},
   "outputs": [
    {
     "data": {
      "application/vnd.jupyter.widget-view+json": {
       "model_id": "dc930a24fb3c4903b1a6f6fba14d2282",
       "version_major": 2,
       "version_minor": 0
      },
      "text/plain": [
       "  0%|          | 0/10000 [00:00<?, ?it/s]"
      ]
     },
     "metadata": {},
     "output_type": "display_data"
    }
   ],
   "source": [
    "from lime import lime_image\n",
    "\n",
    "explainer = lime_image.LimeImageExplainer()\n",
    "explanation = explainer.explain_instance(pix, \n",
    "                                         batch_predict, # classification function\n",
    "                                         #top_labels=5, \n",
    "                                         hide_color=0, \n",
    "                                         num_samples=10000) # number of images that will be sent to classification function"
   ]
  },
  {
   "cell_type": "code",
   "execution_count": 358,
   "metadata": {},
   "outputs": [
    {
     "data": {
      "text/plain": [
       "{8: [(0, -0.0002411941253880075)],\n",
       " 0: [(0, -1.0986109724796382e-05)],\n",
       " 5: [(0, -0.6263060475352338)],\n",
       " 7: [(0, 0.0001365226207833835)],\n",
       " 9: [(0, 0.6274601539285981)]}"
      ]
     },
     "execution_count": 358,
     "metadata": {},
     "output_type": "execute_result"
    }
   ],
   "source": [
    "explanation.local_exp"
   ]
  },
  {
   "cell_type": "code",
   "execution_count": 356,
   "metadata": {},
   "outputs": [
    {
     "name": "stderr",
     "output_type": "stream",
     "text": [
      "Clipping input data to the valid range for imshow with RGB data ([0..1] for floats or [0..255] for integers).\n"
     ]
    },
    {
     "data": {
      "text/plain": [
       "<matplotlib.image.AxesImage at 0x7fc4638d5438>"
      ]
     },
     "execution_count": 356,
     "metadata": {},
     "output_type": "execute_result"
    },
    {
     "data": {
      "image/png": "[encoded data removed]",
      "text/plain": [
       "<Figure size 432x288 with 1 Axes>"
      ]
     },
     "metadata": {
      "needs_background": "light"
     },
     "output_type": "display_data"
    }
   ],
   "source": [
    "from skimage.segmentation import mark_boundaries\n",
    "\n",
    "temp, mask = explanation.get_image_and_mask(explanation.top_labels[0], positive_only=True, num_features=5, hide_rest=False)\n",
    "img_boundry1 = mark_boundaries(temp/28, mask)\n",
    "plt.imshow(img_boundry1)"
   ]
  },
  {
   "cell_type": "code",
   "execution_count": 357,
   "metadata": {},
   "outputs": [
    {
     "name": "stderr",
     "output_type": "stream",
     "text": [
      "Clipping input data to the valid range for imshow with RGB data ([0..1] for floats or [0..255] for integers).\n"
     ]
    },
    {
     "data": {
      "text/plain": [
       "<matplotlib.image.AxesImage at 0x7fc45c09fba8>"
      ]
     },
     "execution_count": 357,
     "metadata": {},
     "output_type": "execute_result"
    },
    {
     "data": {
      "image/png": "[encoded data removed]",
      "text/plain": [
       "<Figure size 432x288 with 1 Axes>"
      ]
     },
     "metadata": {
      "needs_background": "light"
     },
     "output_type": "display_data"
    }
   ],
   "source": [
    "temp, mask = explanation.get_image_and_mask(explanation.top_labels[0], positive_only=False, num_features=10, hide_rest=False)\n",
    "img_boundry2 = mark_boundaries(temp/28, mask)\n",
    "plt.imshow(img_boundry2)"
   ]
  },
  {
   "cell_type": "code",
   "execution_count": 313,
   "metadata": {},
   "outputs": [],
   "source": [
    "sample_size = 1000\n",
    "sample_lbls = []\n",
    "sample_imgs = []\n",
    "\n",
    "iterator = iter(torch.utils.data.DataLoader(train_set, batch_size=1, shuffle=False, num_workers=0))\n",
    "\n",
    "for i in range(samp_size):\n",
    "    img, lbl  = next(iterator)\n",
    "    img = torchvision.transforms.ToPILImage()(img[0])\n",
    "    sample_lbls.append(lbl)\n",
    "    sample_imgs.append(img)"
   ]
  },
  {
   "cell_type": "code",
   "execution_count": 314,
   "metadata": {},
   "outputs": [
    {
     "data": {
      "image/png": "[encoded data removed]",
      "text/plain": [
       "<PIL.Image.Image image mode=L size=28x28 at 0x7FC46446AB70>"
      ]
     },
     "execution_count": 314,
     "metadata": {},
     "output_type": "execute_result"
    }
   ],
   "source": [
    "img"
   ]
  },
  {
   "cell_type": "code",
   "execution_count": 316,
   "metadata": {},
   "outputs": [],
   "source": [
    "true_preds = batch_true_predict(sample_imgs)"
   ]
  },
  {
   "cell_type": "code",
   "execution_count": 324,
   "metadata": {},
   "outputs": [
    {
     "name": "stderr",
     "output_type": "stream",
     "text": [
      "\r",
      "  0%|          | 0/1000 [00:00<?, ?it/s]"
     ]
    },
    {
     "data": {
      "application/vnd.jupyter.widget-view+json": {
       "model_id": "11582a902f004dcc86860b8c2846d703",
       "version_major": 2,
       "version_minor": 0
      },
      "text/plain": [
       "  0%|          | 0/1000 [00:00<?, ?it/s]"
      ]
     },
     "metadata": {},
     "output_type": "display_data"
    },
    {
     "name": "stderr",
     "output_type": "stream",
     "text": [
      "\r",
      "  0%|          | 1/1000 [00:00<05:06,  3.26it/s]"
     ]
    },
    {
     "data": {
      "application/vnd.jupyter.widget-view+json": {
       "model_id": "7c697cbd59c3437f960a29f3fa400393",
       "version_major": 2,
       "version_minor": 0
      },
      "text/plain": [
       "  0%|          | 0/1000 [00:00<?, ?it/s]"
      ]
     },
     "metadata": {},
     "output_type": "display_data"
    },
    {
     "name": "stderr",
     "output_type": "stream",
     "text": [
      "\r",
      "  0%|          | 2/1000 [00:00<05:30,  3.02it/s]"
     ]
    },
    {
     "data": {
      "application/vnd.jupyter.widget-view+json": {
       "model_id": "73fcecbf32ca40818894d9c628bf4dee",
       "version_major": 2,
       "version_minor": 0
      },
      "text/plain": [
       "  0%|          | 0/1000 [00:00<?, ?it/s]"
      ]
     },
     "metadata": {},
     "output_type": "display_data"
    },
    {
     "name": "stderr",
     "output_type": "stream",
     "text": [
      "\r",
      "  0%|          | 3/1000 [00:00<04:59,  3.33it/s]"
     ]
    },
    {
     "data": {
      "application/vnd.jupyter.widget-view+json": {
       "model_id": "cadbd35887444a3385a28a3f07107f00",
       "version_major": 2,
       "version_minor": 0
      },
      "text/plain": [
       "  0%|          | 0/1000 [00:00<?, ?it/s]"
      ]
     },
     "metadata": {},
     "output_type": "display_data"
    },
    {
     "name": "stderr",
     "output_type": "stream",
     "text": [
      "\r",
      "  0%|          | 4/1000 [00:01<04:40,  3.55it/s]"
     ]
    },
    {
     "data": {
      "application/vnd.jupyter.widget-view+json": {
       "model_id": "b9557de439e042858db1de3393f086f1",
       "version_major": 2,
       "version_minor": 0
      },
      "text/plain": [
       "  0%|          | 0/1000 [00:00<?, ?it/s]"
      ]
     },
     "metadata": {},
     "output_type": "display_data"
    },
    {
     "name": "stderr",
     "output_type": "stream",
     "text": [
      "\r",
      "  0%|          | 5/1000 [00:01<05:26,  3.05it/s]"
     ]
    },
    {
     "data": {
      "application/vnd.jupyter.widget-view+json": {
       "model_id": "8cfea25e537a494aba028ae7e9b76794",
       "version_major": 2,
       "version_minor": 0
      },
      "text/plain": [
       "  0%|          | 0/1000 [00:00<?, ?it/s]"
      ]
     },
     "metadata": {},
     "output_type": "display_data"
    },
    {
     "name": "stderr",
     "output_type": "stream",
     "text": [
      "\r",
      "  1%|          | 6/1000 [00:02<06:33,  2.53it/s]"
     ]
    },
    {
     "data": {
      "application/vnd.jupyter.widget-view+json": {
       "model_id": "9856096827a3477bb8e0185429add14f",
       "version_major": 2,
       "version_minor": 0
      },
      "text/plain": [
       "  0%|          | 0/1000 [00:00<?, ?it/s]"
      ]
     },
     "metadata": {},
     "output_type": "display_data"
    },
    {
     "name": "stderr",
     "output_type": "stream",
     "text": [
      "\r",
      "  1%|          | 7/1000 [00:02<05:52,  2.82it/s]"
     ]
    },
    {
     "data": {
      "application/vnd.jupyter.widget-view+json": {
       "model_id": "d7b12b9b175b45adbf53b17ff01b13c6",
       "version_major": 2,
       "version_minor": 0
      },
      "text/plain": [
       "  0%|          | 0/1000 [00:00<?, ?it/s]"
      ]
     },
     "metadata": {},
     "output_type": "display_data"
    },
    {
     "name": "stderr",
     "output_type": "stream",
     "text": [
      "\r",
      "  1%|          | 8/1000 [00:02<05:26,  3.04it/s]"
     ]
    },
    {
     "data": {
      "application/vnd.jupyter.widget-view+json": {
       "model_id": "c353a960ef99472f8e0654f0f1292799",
       "version_major": 2,
       "version_minor": 0
      },
      "text/plain": [
       "  0%|          | 0/1000 [00:00<?, ?it/s]"
      ]
     },
     "metadata": {},
     "output_type": "display_data"
    },
    {
     "name": "stderr",
     "output_type": "stream",
     "text": [
      "\r",
      "  1%|          | 9/1000 [00:02<05:01,  3.28it/s]"
     ]
    },
    {
     "data": {
      "application/vnd.jupyter.widget-view+json": {
       "model_id": "3bee5d7c80c547eea2acec8b0cb0b373",
       "version_major": 2,
       "version_minor": 0
      },
      "text/plain": [
       "  0%|          | 0/1000 [00:00<?, ?it/s]"
      ]
     },
     "metadata": {},
     "output_type": "display_data"
    },
    {
     "name": "stderr",
     "output_type": "stream",
     "text": [
      "\r",
      "  1%|          | 10/1000 [00:03<04:46,  3.46it/s]"
     ]
    },
    {
     "data": {
      "application/vnd.jupyter.widget-view+json": {
       "model_id": "73a2ac907d6b4d5b8df060549b386a25",
       "version_major": 2,
       "version_minor": 0
      },
      "text/plain": [
       "  0%|          | 0/1000 [00:00<?, ?it/s]"
      ]
     },
     "metadata": {},
     "output_type": "display_data"
    },
    {
     "name": "stderr",
     "output_type": "stream",
     "text": [
      "\r",
      "  1%|          | 11/1000 [00:03<05:15,  3.14it/s]"
     ]
    },
    {
     "data": {
      "application/vnd.jupyter.widget-view+json": {
       "model_id": "0084ed62f3454963ac955431fb53d681",
       "version_major": 2,
       "version_minor": 0
      },
      "text/plain": [
       "  0%|          | 0/1000 [00:00<?, ?it/s]"
      ]
     },
     "metadata": {},
     "output_type": "display_data"
    },
    {
     "name": "stderr",
     "output_type": "stream",
     "text": [
      "\r",
      "  1%|          | 12/1000 [00:03<05:34,  2.95it/s]"
     ]
    },
    {
     "data": {
      "application/vnd.jupyter.widget-view+json": {
       "model_id": "bd9aeb321b674e4bbaa2f5f63f1d7e61",
       "version_major": 2,
       "version_minor": 0
      },
      "text/plain": [
       "  0%|          | 0/1000 [00:00<?, ?it/s]"
      ]
     },
     "metadata": {},
     "output_type": "display_data"
    },
    {
     "name": "stderr",
     "output_type": "stream",
     "text": [
      "\r",
      "  1%|▏         | 13/1000 [00:04<06:11,  2.66it/s]"
     ]
    },
    {
     "data": {
      "application/vnd.jupyter.widget-view+json": {
       "model_id": "58d08ace86e44c24a174a80d5a10ac26",
       "version_major": 2,
       "version_minor": 0
      },
      "text/plain": [
       "  0%|          | 0/1000 [00:00<?, ?it/s]"
      ]
     },
     "metadata": {},
     "output_type": "display_data"
    },
    {
     "name": "stderr",
     "output_type": "stream",
     "text": [
      "\r",
      "  1%|▏         | 14/1000 [00:04<05:37,  2.92it/s]"
     ]
    },
    {
     "data": {
      "application/vnd.jupyter.widget-view+json": {
       "model_id": "ad1bcfe7053c4f0c812c56a2ab11dd32",
       "version_major": 2,
       "version_minor": 0
      },
      "text/plain": [
       "  0%|          | 0/1000 [00:00<?, ?it/s]"
      ]
     },
     "metadata": {},
     "output_type": "display_data"
    },
    {
     "name": "stderr",
     "output_type": "stream",
     "text": [
      "\r",
      "  2%|▏         | 15/1000 [00:04<05:05,  3.22it/s]"
     ]
    },
    {
     "data": {
      "application/vnd.jupyter.widget-view+json": {
       "model_id": "0114866883e74087b545d557fbb8fdc5",
       "version_major": 2,
       "version_minor": 0
      },
      "text/plain": [
       "  0%|          | 0/1000 [00:00<?, ?it/s]"
      ]
     },
     "metadata": {},
     "output_type": "display_data"
    },
    {
     "name": "stderr",
     "output_type": "stream",
     "text": [
      "\r",
      "  2%|▏         | 16/1000 [00:05<04:33,  3.60it/s]"
     ]
    },
    {
     "data": {
      "application/vnd.jupyter.widget-view+json": {
       "model_id": "0f3070dcd28545a3adc9b32113bc4597",
       "version_major": 2,
       "version_minor": 0
      },
      "text/plain": [
       "  0%|          | 0/1000 [00:00<?, ?it/s]"
      ]
     },
     "metadata": {},
     "output_type": "display_data"
    },
    {
     "name": "stderr",
     "output_type": "stream",
     "text": [
      "\r",
      "  2%|▏         | 17/1000 [00:05<05:08,  3.19it/s]"
     ]
    },
    {
     "data": {
      "application/vnd.jupyter.widget-view+json": {
       "model_id": "9caea1b103ef4e8191b817de01a8c849",
       "version_major": 2,
       "version_minor": 0
      },
      "text/plain": [
       "  0%|          | 0/1000 [00:00<?, ?it/s]"
      ]
     },
     "metadata": {},
     "output_type": "display_data"
    },
    {
     "name": "stderr",
     "output_type": "stream",
     "text": [
      "\r",
      "  2%|▏         | 18/1000 [00:05<05:48,  2.82it/s]"
     ]
    },
    {
     "data": {
      "application/vnd.jupyter.widget-view+json": {
       "model_id": "af7e8aeeecb3413b9e735f2208ffb9e1",
       "version_major": 2,
       "version_minor": 0
      },
      "text/plain": [
       "  0%|          | 0/1000 [00:00<?, ?it/s]"
      ]
     },
     "metadata": {},
     "output_type": "display_data"
    },
    {
     "name": "stderr",
     "output_type": "stream",
     "text": [
      "\r",
      "  2%|▏         | 19/1000 [00:06<05:23,  3.04it/s]"
     ]
    },
    {
     "data": {
      "application/vnd.jupyter.widget-view+json": {
       "model_id": "88f5b42f795d43fdb160d6c35b970ee1",
       "version_major": 2,
       "version_minor": 0
      },
      "text/plain": [
       "  0%|          | 0/1000 [00:00<?, ?it/s]"
      ]
     },
     "metadata": {},
     "output_type": "display_data"
    },
    {
     "name": "stderr",
     "output_type": "stream",
     "text": [
      "\r",
      "  2%|▏         | 20/1000 [00:06<05:07,  3.18it/s]"
     ]
    },
    {
     "data": {
      "application/vnd.jupyter.widget-view+json": {
       "model_id": "422d6a7286784c97a1bd6ca7e847ae13",
       "version_major": 2,
       "version_minor": 0
      },
      "text/plain": [
       "  0%|          | 0/1000 [00:00<?, ?it/s]"
      ]
     },
     "metadata": {},
     "output_type": "display_data"
    },
    {
     "name": "stderr",
     "output_type": "stream",
     "text": [
      "\r",
      "  2%|▏         | 21/1000 [00:06<04:36,  3.55it/s]"
     ]
    },
    {
     "data": {
      "application/vnd.jupyter.widget-view+json": {
       "model_id": "157888ea9c344a8992c9c3957908ec29",
       "version_major": 2,
       "version_minor": 0
      },
      "text/plain": [
       "  0%|          | 0/1000 [00:00<?, ?it/s]"
      ]
     },
     "metadata": {},
     "output_type": "display_data"
    },
    {
     "name": "stderr",
     "output_type": "stream",
     "text": [
      "\r",
      "  2%|▏         | 22/1000 [00:06<04:14,  3.84it/s]"
     ]
    },
    {
     "data": {
      "application/vnd.jupyter.widget-view+json": {
       "model_id": "1dd09402e4ae40ef8b84bf7301085411",
       "version_major": 2,
       "version_minor": 0
      },
      "text/plain": [
       "  0%|          | 0/1000 [00:00<?, ?it/s]"
      ]
     },
     "metadata": {},
     "output_type": "display_data"
    },
    {
     "name": "stderr",
     "output_type": "stream",
     "text": [
      "\r",
      "  2%|▏         | 23/1000 [00:07<04:42,  3.46it/s]"
     ]
    },
    {
     "data": {
      "application/vnd.jupyter.widget-view+json": {
       "model_id": "31aa1e59d6cd47aa888d5208e111a5b9",
       "version_major": 2,
       "version_minor": 0
      },
      "text/plain": [
       "  0%|          | 0/1000 [00:00<?, ?it/s]"
      ]
     },
     "metadata": {},
     "output_type": "display_data"
    },
    {
     "name": "stderr",
     "output_type": "stream",
     "text": [
      "\r",
      "  2%|▏         | 24/1000 [00:07<05:51,  2.78it/s]"
     ]
    },
    {
     "data": {
      "application/vnd.jupyter.widget-view+json": {
       "model_id": "2a97737194ae47f1a83b4d94eea0df85",
       "version_major": 2,
       "version_minor": 0
      },
      "text/plain": [
       "  0%|          | 0/1000 [00:00<?, ?it/s]"
      ]
     },
     "metadata": {},
     "output_type": "display_data"
    },
    {
     "name": "stderr",
     "output_type": "stream",
     "text": [
      "\r",
      "  2%|▎         | 25/1000 [00:08<05:36,  2.90it/s]"
     ]
    },
    {
     "data": {
      "application/vnd.jupyter.widget-view+json": {
       "model_id": "60eee78ee4f84d0694f0ff5a11c106ad",
       "version_major": 2,
       "version_minor": 0
      },
      "text/plain": [
       "  0%|          | 0/1000 [00:00<?, ?it/s]"
      ]
     },
     "metadata": {},
     "output_type": "display_data"
    },
    {
     "name": "stderr",
     "output_type": "stream",
     "text": [
      "\r",
      "  3%|▎         | 26/1000 [00:08<04:55,  3.29it/s]"
     ]
    },
    {
     "data": {
      "application/vnd.jupyter.widget-view+json": {
       "model_id": "05adffdaf65b4dc690dd1163ebf32bb9",
       "version_major": 2,
       "version_minor": 0
      },
      "text/plain": [
       "  0%|          | 0/1000 [00:00<?, ?it/s]"
      ]
     },
     "metadata": {},
     "output_type": "display_data"
    },
    {
     "name": "stderr",
     "output_type": "stream",
     "text": [
      "\r",
      "  3%|▎         | 27/1000 [00:08<04:22,  3.70it/s]"
     ]
    },
    {
     "data": {
      "application/vnd.jupyter.widget-view+json": {
       "model_id": "bc35de5442f244629d2da58211b4bf6d",
       "version_major": 2,
       "version_minor": 0
      },
      "text/plain": [
       "  0%|          | 0/1000 [00:00<?, ?it/s]"
      ]
     },
     "metadata": {},
     "output_type": "display_data"
    },
    {
     "name": "stderr",
     "output_type": "stream",
     "text": [
      "\r",
      "  3%|▎         | 28/1000 [00:08<04:00,  4.04it/s]"
     ]
    },
    {
     "data": {
      "application/vnd.jupyter.widget-view+json": {
       "model_id": "70dd7667973e41b8bc3c5540511ffe76",
       "version_major": 2,
       "version_minor": 0
      },
      "text/plain": [
       "  0%|          | 0/1000 [00:00<?, ?it/s]"
      ]
     },
     "metadata": {},
     "output_type": "display_data"
    },
    {
     "name": "stderr",
     "output_type": "stream",
     "text": [
      "\r",
      "  3%|▎         | 29/1000 [00:08<03:48,  4.25it/s]"
     ]
    },
    {
     "data": {
      "application/vnd.jupyter.widget-view+json": {
       "model_id": "231bef042bcd483d80a420acfdda3cff",
       "version_major": 2,
       "version_minor": 0
      },
      "text/plain": [
       "  0%|          | 0/1000 [00:00<?, ?it/s]"
      ]
     },
     "metadata": {},
     "output_type": "display_data"
    },
    {
     "name": "stderr",
     "output_type": "stream",
     "text": [
      "\r",
      "  3%|▎         | 30/1000 [00:09<03:36,  4.48it/s]"
     ]
    },
    {
     "data": {
      "application/vnd.jupyter.widget-view+json": {
       "model_id": "f4589c5485444d02822602b1dca8e05a",
       "version_major": 2,
       "version_minor": 0
      },
      "text/plain": [
       "  0%|          | 0/1000 [00:00<?, ?it/s]"
      ]
     },
     "metadata": {},
     "output_type": "display_data"
    },
    {
     "name": "stderr",
     "output_type": "stream",
     "text": [
      "\r",
      "  3%|▎         | 31/1000 [00:09<03:30,  4.61it/s]"
     ]
    },
    {
     "data": {
      "application/vnd.jupyter.widget-view+json": {
       "model_id": "9d4f1605b24d49d29844d5b55ed608c6",
       "version_major": 2,
       "version_minor": 0
      },
      "text/plain": [
       "  0%|          | 0/1000 [00:00<?, ?it/s]"
      ]
     },
     "metadata": {},
     "output_type": "display_data"
    },
    {
     "name": "stderr",
     "output_type": "stream",
     "text": [
      "\r",
      "  3%|▎         | 32/1000 [00:09<03:30,  4.60it/s]"
     ]
    },
    {
     "data": {
      "application/vnd.jupyter.widget-view+json": {
       "model_id": "e24754e61d9c45da8e54f84a1e682f2f",
       "version_major": 2,
       "version_minor": 0
      },
      "text/plain": [
       "  0%|          | 0/1000 [00:00<?, ?it/s]"
      ]
     },
     "metadata": {},
     "output_type": "display_data"
    },
    {
     "name": "stderr",
     "output_type": "stream",
     "text": [
      "\r",
      "  3%|▎         | 33/1000 [00:09<03:24,  4.72it/s]"
     ]
    },
    {
     "data": {
      "application/vnd.jupyter.widget-view+json": {
       "model_id": "a084baa9189748d6925525ae14b2251e",
       "version_major": 2,
       "version_minor": 0
      },
      "text/plain": [
       "  0%|          | 0/1000 [00:00<?, ?it/s]"
      ]
     },
     "metadata": {},
     "output_type": "display_data"
    },
    {
     "name": "stderr",
     "output_type": "stream",
     "text": [
      "\r",
      "  3%|▎         | 34/1000 [00:09<03:24,  4.72it/s]"
     ]
    },
    {
     "data": {
      "application/vnd.jupyter.widget-view+json": {
       "model_id": "4857b966b2d947d189e840b8122fb83b",
       "version_major": 2,
       "version_minor": 0
      },
      "text/plain": [
       "  0%|          | 0/1000 [00:00<?, ?it/s]"
      ]
     },
     "metadata": {},
     "output_type": "display_data"
    },
    {
     "name": "stderr",
     "output_type": "stream",
     "text": [
      "\r",
      "  4%|▎         | 35/1000 [00:10<03:27,  4.64it/s]"
     ]
    },
    {
     "data": {
      "application/vnd.jupyter.widget-view+json": {
       "model_id": "9c812fa572e14d19b179d44da56810ff",
       "version_major": 2,
       "version_minor": 0
      },
      "text/plain": [
       "  0%|          | 0/1000 [00:00<?, ?it/s]"
      ]
     },
     "metadata": {},
     "output_type": "display_data"
    },
    {
     "name": "stderr",
     "output_type": "stream",
     "text": [
      "\r",
      "  4%|▎         | 36/1000 [00:10<03:25,  4.68it/s]"
     ]
    },
    {
     "data": {
      "application/vnd.jupyter.widget-view+json": {
       "model_id": "c7092d4a2e7a4937b6912706a1fd31fe",
       "version_major": 2,
       "version_minor": 0
      },
      "text/plain": [
       "  0%|          | 0/1000 [00:00<?, ?it/s]"
      ]
     },
     "metadata": {},
     "output_type": "display_data"
    },
    {
     "name": "stderr",
     "output_type": "stream",
     "text": [
      "\r",
      "  4%|▎         | 37/1000 [00:10<03:27,  4.65it/s]"
     ]
    },
    {
     "data": {
      "application/vnd.jupyter.widget-view+json": {
       "model_id": "e5d47c91b23444a990f14ecab534d305",
       "version_major": 2,
       "version_minor": 0
      },
      "text/plain": [
       "  0%|          | 0/1000 [00:00<?, ?it/s]"
      ]
     },
     "metadata": {},
     "output_type": "display_data"
    },
    {
     "name": "stderr",
     "output_type": "stream",
     "text": [
      "\r",
      "  4%|▍         | 38/1000 [00:10<03:24,  4.71it/s]"
     ]
    },
    {
     "data": {
      "application/vnd.jupyter.widget-view+json": {
       "model_id": "a47ca895b045415ba32baf85ddb81ecf",
       "version_major": 2,
       "version_minor": 0
      },
      "text/plain": [
       "  0%|          | 0/1000 [00:00<?, ?it/s]"
      ]
     },
     "metadata": {},
     "output_type": "display_data"
    },
    {
     "name": "stderr",
     "output_type": "stream",
     "text": [
      "\r",
      "  4%|▍         | 39/1000 [00:10<03:22,  4.74it/s]"
     ]
    },
    {
     "data": {
      "application/vnd.jupyter.widget-view+json": {
       "model_id": "be086300bc804e0c82c8d5762bcf5119",
       "version_major": 2,
       "version_minor": 0
      },
      "text/plain": [
       "  0%|          | 0/1000 [00:00<?, ?it/s]"
      ]
     },
     "metadata": {},
     "output_type": "display_data"
    },
    {
     "name": "stderr",
     "output_type": "stream",
     "text": [
      "\r",
      "  4%|▍         | 40/1000 [00:11<03:16,  4.88it/s]"
     ]
    },
    {
     "data": {
      "application/vnd.jupyter.widget-view+json": {
       "model_id": "bd862a3fb0234cb9b41fd0510f7c777a",
       "version_major": 2,
       "version_minor": 0
      },
      "text/plain": [
       "  0%|          | 0/1000 [00:00<?, ?it/s]"
      ]
     },
     "metadata": {},
     "output_type": "display_data"
    },
    {
     "name": "stderr",
     "output_type": "stream",
     "text": [
      "\r",
      "  4%|▍         | 41/1000 [00:11<03:28,  4.61it/s]"
     ]
    },
    {
     "data": {
      "application/vnd.jupyter.widget-view+json": {
       "model_id": "80097250d1b44a1f8c26b43b2f95b38d",
       "version_major": 2,
       "version_minor": 0
      },
      "text/plain": [
       "  0%|          | 0/1000 [00:00<?, ?it/s]"
      ]
     },
     "metadata": {},
     "output_type": "display_data"
    },
    {
     "name": "stderr",
     "output_type": "stream",
     "text": [
      "\r",
      "  4%|▍         | 42/1000 [00:11<03:25,  4.66it/s]"
     ]
    },
    {
     "data": {
      "application/vnd.jupyter.widget-view+json": {
       "model_id": "7446b356db3a4082a44f7701c784df6e",
       "version_major": 2,
       "version_minor": 0
      },
      "text/plain": [
       "  0%|          | 0/1000 [00:00<?, ?it/s]"
      ]
     },
     "metadata": {},
     "output_type": "display_data"
    },
    {
     "name": "stderr",
     "output_type": "stream",
     "text": [
      "\r",
      "  4%|▍         | 43/1000 [00:11<03:25,  4.65it/s]"
     ]
    },
    {
     "data": {
      "application/vnd.jupyter.widget-view+json": {
       "model_id": "19cb17be97f0401fa0034acc70c9b872",
       "version_major": 2,
       "version_minor": 0
      },
      "text/plain": [
       "  0%|          | 0/1000 [00:00<?, ?it/s]"
      ]
     },
     "metadata": {},
     "output_type": "display_data"
    },
    {
     "name": "stderr",
     "output_type": "stream",
     "text": [
      "\r",
      "  4%|▍         | 44/1000 [00:12<03:27,  4.61it/s]"
     ]
    },
    {
     "data": {
      "application/vnd.jupyter.widget-view+json": {
       "model_id": "505b4dcf52804733b130cfb63d2a298e",
       "version_major": 2,
       "version_minor": 0
      },
      "text/plain": [
       "  0%|          | 0/1000 [00:00<?, ?it/s]"
      ]
     },
     "metadata": {},
     "output_type": "display_data"
    },
    {
     "name": "stderr",
     "output_type": "stream",
     "text": [
      "\r",
      "  4%|▍         | 45/1000 [00:12<03:21,  4.74it/s]"
     ]
    },
    {
     "data": {
      "application/vnd.jupyter.widget-view+json": {
       "model_id": "6a6ffa62389440358fdf0073261c01ac",
       "version_major": 2,
       "version_minor": 0
      },
      "text/plain": [
       "  0%|          | 0/1000 [00:00<?, ?it/s]"
      ]
     },
     "metadata": {},
     "output_type": "display_data"
    },
    {
     "name": "stderr",
     "output_type": "stream",
     "text": [
      "\r",
      "  5%|▍         | 46/1000 [00:12<03:17,  4.83it/s]"
     ]
    },
    {
     "data": {
      "application/vnd.jupyter.widget-view+json": {
       "model_id": "64b3d48dc9ba42eb93c03be2696e5013",
       "version_major": 2,
       "version_minor": 0
      },
      "text/plain": [
       "  0%|          | 0/1000 [00:00<?, ?it/s]"
      ]
     },
     "metadata": {},
     "output_type": "display_data"
    },
    {
     "name": "stderr",
     "output_type": "stream",
     "text": [
      "\r",
      "  5%|▍         | 47/1000 [00:12<03:16,  4.84it/s]"
     ]
    },
    {
     "data": {
      "application/vnd.jupyter.widget-view+json": {
       "model_id": "7adc909cd30f48869ecf96b1ba69d79a",
       "version_major": 2,
       "version_minor": 0
      },
      "text/plain": [
       "  0%|          | 0/1000 [00:00<?, ?it/s]"
      ]
     },
     "metadata": {},
     "output_type": "display_data"
    },
    {
     "name": "stderr",
     "output_type": "stream",
     "text": [
      "\r",
      "  5%|▍         | 48/1000 [00:12<03:12,  4.94it/s]"
     ]
    },
    {
     "data": {
      "application/vnd.jupyter.widget-view+json": {
       "model_id": "cff27a8f289343f3973b9827457f660c",
       "version_major": 2,
       "version_minor": 0
      },
      "text/plain": [
       "  0%|          | 0/1000 [00:00<?, ?it/s]"
      ]
     },
     "metadata": {},
     "output_type": "display_data"
    },
    {
     "name": "stderr",
     "output_type": "stream",
     "text": [
      "\r",
      "  5%|▍         | 49/1000 [00:13<03:11,  4.96it/s]"
     ]
    },
    {
     "data": {
      "application/vnd.jupyter.widget-view+json": {
       "model_id": "ed6caf516d57427692901328e6daff9a",
       "version_major": 2,
       "version_minor": 0
      },
      "text/plain": [
       "  0%|          | 0/1000 [00:00<?, ?it/s]"
      ]
     },
     "metadata": {},
     "output_type": "display_data"
    },
    {
     "name": "stderr",
     "output_type": "stream",
     "text": [
      "\r",
      "  5%|▌         | 50/1000 [00:13<03:09,  5.01it/s]"
     ]
    },
    {
     "data": {
      "application/vnd.jupyter.widget-view+json": {
       "model_id": "d9a27bd543434d1c8b30d1185b484e09",
       "version_major": 2,
       "version_minor": 0
      },
      "text/plain": [
       "  0%|          | 0/1000 [00:00<?, ?it/s]"
      ]
     },
     "metadata": {},
     "output_type": "display_data"
    },
    {
     "name": "stderr",
     "output_type": "stream",
     "text": [
      "\r",
      "  5%|▌         | 51/1000 [00:13<03:09,  5.00it/s]"
     ]
    },
    {
     "data": {
      "application/vnd.jupyter.widget-view+json": {
       "model_id": "2ef3acce77a4420cadde1a9f1eb3df32",
       "version_major": 2,
       "version_minor": 0
      },
      "text/plain": [
       "  0%|          | 0/1000 [00:00<?, ?it/s]"
      ]
     },
     "metadata": {},
     "output_type": "display_data"
    },
    {
     "name": "stderr",
     "output_type": "stream",
     "text": [
      "\r",
      "  5%|▌         | 52/1000 [00:13<03:08,  5.03it/s]"
     ]
    },
    {
     "data": {
      "application/vnd.jupyter.widget-view+json": {
       "model_id": "d67d8c3c7e82472a8f5fdcb468ee2a55",
       "version_major": 2,
       "version_minor": 0
      },
      "text/plain": [
       "  0%|          | 0/1000 [00:00<?, ?it/s]"
      ]
     },
     "metadata": {},
     "output_type": "display_data"
    },
    {
     "name": "stderr",
     "output_type": "stream",
     "text": [
      "\r",
      "  5%|▌         | 53/1000 [00:13<03:10,  4.97it/s]"
     ]
    },
    {
     "data": {
      "application/vnd.jupyter.widget-view+json": {
       "model_id": "77bc0ab913274f59a40a8948588e1450",
       "version_major": 2,
       "version_minor": 0
      },
      "text/plain": [
       "  0%|          | 0/1000 [00:00<?, ?it/s]"
      ]
     },
     "metadata": {},
     "output_type": "display_data"
    },
    {
     "name": "stderr",
     "output_type": "stream",
     "text": [
      "\r",
      "  5%|▌         | 54/1000 [00:14<03:14,  4.86it/s]"
     ]
    },
    {
     "data": {
      "application/vnd.jupyter.widget-view+json": {
       "model_id": "9b91f3f1e0b745a6ae8319d738c7a325",
       "version_major": 2,
       "version_minor": 0
      },
      "text/plain": [
       "  0%|          | 0/1000 [00:00<?, ?it/s]"
      ]
     },
     "metadata": {},
     "output_type": "display_data"
    },
    {
     "name": "stderr",
     "output_type": "stream",
     "text": [
      "\r",
      "  6%|▌         | 55/1000 [00:14<03:12,  4.91it/s]"
     ]
    },
    {
     "data": {
      "application/vnd.jupyter.widget-view+json": {
       "model_id": "499626ccb7bc43a09b4c84b5342a487c",
       "version_major": 2,
       "version_minor": 0
      },
      "text/plain": [
       "  0%|          | 0/1000 [00:00<?, ?it/s]"
      ]
     },
     "metadata": {},
     "output_type": "display_data"
    },
    {
     "name": "stderr",
     "output_type": "stream",
     "text": [
      "\r",
      "  6%|▌         | 56/1000 [00:14<03:11,  4.94it/s]"
     ]
    },
    {
     "data": {
      "application/vnd.jupyter.widget-view+json": {
       "model_id": "6baf716a1d2943f7973f2456c8302b9f",
       "version_major": 2,
       "version_minor": 0
      },
      "text/plain": [
       "  0%|          | 0/1000 [00:00<?, ?it/s]"
      ]
     },
     "metadata": {},
     "output_type": "display_data"
    },
    {
     "name": "stderr",
     "output_type": "stream",
     "text": [
      "\r",
      "  6%|▌         | 57/1000 [00:14<03:11,  4.93it/s]"
     ]
    },
    {
     "data": {
      "application/vnd.jupyter.widget-view+json": {
       "model_id": "5e1755f63b214fd7986a516cd6b23b81",
       "version_major": 2,
       "version_minor": 0
      },
      "text/plain": [
       "  0%|          | 0/1000 [00:00<?, ?it/s]"
      ]
     },
     "metadata": {},
     "output_type": "display_data"
    },
    {
     "name": "stderr",
     "output_type": "stream",
     "text": [
      "\r",
      "  6%|▌         | 58/1000 [00:14<03:10,  4.95it/s]"
     ]
    },
    {
     "data": {
      "application/vnd.jupyter.widget-view+json": {
       "model_id": "57e35f1901f44eb99e2525dba7bda111",
       "version_major": 2,
       "version_minor": 0
      },
      "text/plain": [
       "  0%|          | 0/1000 [00:00<?, ?it/s]"
      ]
     },
     "metadata": {},
     "output_type": "display_data"
    },
    {
     "name": "stderr",
     "output_type": "stream",
     "text": [
      "\r",
      "  6%|▌         | 59/1000 [00:15<03:08,  4.98it/s]"
     ]
    },
    {
     "data": {
      "application/vnd.jupyter.widget-view+json": {
       "model_id": "d7059a1f06314a9886437f29711a9bf3",
       "version_major": 2,
       "version_minor": 0
      },
      "text/plain": [
       "  0%|          | 0/1000 [00:00<?, ?it/s]"
      ]
     },
     "metadata": {},
     "output_type": "display_data"
    },
    {
     "name": "stderr",
     "output_type": "stream",
     "text": [
      "\r",
      "  6%|▌         | 60/1000 [00:15<03:08,  4.97it/s]"
     ]
    },
    {
     "data": {
      "application/vnd.jupyter.widget-view+json": {
       "model_id": "f91a5e501c9c448b84da383108689185",
       "version_major": 2,
       "version_minor": 0
      },
      "text/plain": [
       "  0%|          | 0/1000 [00:00<?, ?it/s]"
      ]
     },
     "metadata": {},
     "output_type": "display_data"
    },
    {
     "name": "stderr",
     "output_type": "stream",
     "text": [
      "\r",
      "  6%|▌         | 61/1000 [00:15<03:06,  5.03it/s]"
     ]
    },
    {
     "data": {
      "application/vnd.jupyter.widget-view+json": {
       "model_id": "f37768a659de41a197a53de9768ae233",
       "version_major": 2,
       "version_minor": 0
      },
      "text/plain": [
       "  0%|          | 0/1000 [00:00<?, ?it/s]"
      ]
     },
     "metadata": {},
     "output_type": "display_data"
    },
    {
     "name": "stderr",
     "output_type": "stream",
     "text": [
      "\r",
      "  6%|▌         | 62/1000 [00:15<03:05,  5.05it/s]"
     ]
    },
    {
     "data": {
      "application/vnd.jupyter.widget-view+json": {
       "model_id": "de38d182a2094b76aa952a67fe60a7b3",
       "version_major": 2,
       "version_minor": 0
      },
      "text/plain": [
       "  0%|          | 0/1000 [00:00<?, ?it/s]"
      ]
     },
     "metadata": {},
     "output_type": "display_data"
    },
    {
     "name": "stderr",
     "output_type": "stream",
     "text": [
      "\r",
      "  6%|▋         | 63/1000 [00:15<03:04,  5.08it/s]"
     ]
    },
    {
     "data": {
      "application/vnd.jupyter.widget-view+json": {
       "model_id": "d38df09855d14b10bc4fccf0659e7a25",
       "version_major": 2,
       "version_minor": 0
      },
      "text/plain": [
       "  0%|          | 0/1000 [00:00<?, ?it/s]"
      ]
     },
     "metadata": {},
     "output_type": "display_data"
    },
    {
     "name": "stderr",
     "output_type": "stream",
     "text": [
      "\r",
      "  6%|▋         | 64/1000 [00:16<03:11,  4.89it/s]"
     ]
    },
    {
     "data": {
      "application/vnd.jupyter.widget-view+json": {
       "model_id": "78e59c5d98da4f83b1c8891153c184ff",
       "version_major": 2,
       "version_minor": 0
      },
      "text/plain": [
       "  0%|          | 0/1000 [00:00<?, ?it/s]"
      ]
     },
     "metadata": {},
     "output_type": "display_data"
    },
    {
     "name": "stderr",
     "output_type": "stream",
     "text": [
      "\r",
      "  6%|▋         | 65/1000 [00:16<03:11,  4.88it/s]"
     ]
    },
    {
     "data": {
      "application/vnd.jupyter.widget-view+json": {
       "model_id": "aca1d4e028a5456cadf8bd936b358969",
       "version_major": 2,
       "version_minor": 0
      },
      "text/plain": [
       "  0%|          | 0/1000 [00:00<?, ?it/s]"
      ]
     },
     "metadata": {},
     "output_type": "display_data"
    },
    {
     "name": "stderr",
     "output_type": "stream",
     "text": [
      "\r",
      "  7%|▋         | 66/1000 [00:16<03:17,  4.74it/s]"
     ]
    },
    {
     "data": {
      "application/vnd.jupyter.widget-view+json": {
       "model_id": "ccdd02ea2aaf4ea9a363a787d53cd5ae",
       "version_major": 2,
       "version_minor": 0
      },
      "text/plain": [
       "  0%|          | 0/1000 [00:00<?, ?it/s]"
      ]
     },
     "metadata": {},
     "output_type": "display_data"
    },
    {
     "name": "stderr",
     "output_type": "stream",
     "text": [
      "\r",
      "  7%|▋         | 67/1000 [00:16<03:13,  4.81it/s]"
     ]
    },
    {
     "data": {
      "application/vnd.jupyter.widget-view+json": {
       "model_id": "fe833cff60a24faebae87799904c17cb",
       "version_major": 2,
       "version_minor": 0
      },
      "text/plain": [
       "  0%|          | 0/1000 [00:00<?, ?it/s]"
      ]
     },
     "metadata": {},
     "output_type": "display_data"
    },
    {
     "name": "stderr",
     "output_type": "stream",
     "text": [
      "\r",
      "  7%|▋         | 68/1000 [00:16<03:10,  4.90it/s]"
     ]
    },
    {
     "data": {
      "application/vnd.jupyter.widget-view+json": {
       "model_id": "2312dadd641e44d28e44318a21433eaa",
       "version_major": 2,
       "version_minor": 0
      },
      "text/plain": [
       "  0%|          | 0/1000 [00:00<?, ?it/s]"
      ]
     },
     "metadata": {},
     "output_type": "display_data"
    },
    {
     "name": "stderr",
     "output_type": "stream",
     "text": [
      "\r",
      "  7%|▋         | 69/1000 [00:17<03:07,  4.95it/s]"
     ]
    },
    {
     "data": {
      "application/vnd.jupyter.widget-view+json": {
       "model_id": "90a361c06c9a407d94f3dc355830cd84",
       "version_major": 2,
       "version_minor": 0
      },
      "text/plain": [
       "  0%|          | 0/1000 [00:00<?, ?it/s]"
      ]
     },
     "metadata": {},
     "output_type": "display_data"
    },
    {
     "name": "stderr",
     "output_type": "stream",
     "text": [
      "\r",
      "  7%|▋         | 70/1000 [00:17<03:08,  4.94it/s]"
     ]
    },
    {
     "data": {
      "application/vnd.jupyter.widget-view+json": {
       "model_id": "99d11808d8dd46c5b065dc242b5aa295",
       "version_major": 2,
       "version_minor": 0
      },
      "text/plain": [
       "  0%|          | 0/1000 [00:00<?, ?it/s]"
      ]
     },
     "metadata": {},
     "output_type": "display_data"
    },
    {
     "name": "stderr",
     "output_type": "stream",
     "text": [
      "\r",
      "  7%|▋         | 71/1000 [00:17<03:06,  4.97it/s]"
     ]
    },
    {
     "data": {
      "application/vnd.jupyter.widget-view+json": {
       "model_id": "b77ccce7875546abae3577320c6f9fec",
       "version_major": 2,
       "version_minor": 0
      },
      "text/plain": [
       "  0%|          | 0/1000 [00:00<?, ?it/s]"
      ]
     },
     "metadata": {},
     "output_type": "display_data"
    },
    {
     "name": "stderr",
     "output_type": "stream",
     "text": [
      "\r",
      "  7%|▋         | 72/1000 [00:17<03:07,  4.94it/s]"
     ]
    },
    {
     "data": {
      "application/vnd.jupyter.widget-view+json": {
       "model_id": "860ec4cc59c348df8e1fafc6f6d03c8c",
       "version_major": 2,
       "version_minor": 0
      },
      "text/plain": [
       "  0%|          | 0/1000 [00:00<?, ?it/s]"
      ]
     },
     "metadata": {},
     "output_type": "display_data"
    },
    {
     "name": "stderr",
     "output_type": "stream",
     "text": [
      "\r",
      "  7%|▋         | 73/1000 [00:17<03:06,  4.96it/s]"
     ]
    },
    {
     "data": {
      "application/vnd.jupyter.widget-view+json": {
       "model_id": "114edf256d604499946d7e63101679e6",
       "version_major": 2,
       "version_minor": 0
      },
      "text/plain": [
       "  0%|          | 0/1000 [00:00<?, ?it/s]"
      ]
     },
     "metadata": {},
     "output_type": "display_data"
    },
    {
     "name": "stderr",
     "output_type": "stream",
     "text": [
      "\r",
      "  7%|▋         | 74/1000 [00:18<03:17,  4.70it/s]"
     ]
    },
    {
     "data": {
      "application/vnd.jupyter.widget-view+json": {
       "model_id": "d0d2bb87302c456189d1f4a5c1701168",
       "version_major": 2,
       "version_minor": 0
      },
      "text/plain": [
       "  0%|          | 0/1000 [00:00<?, ?it/s]"
      ]
     },
     "metadata": {},
     "output_type": "display_data"
    },
    {
     "name": "stderr",
     "output_type": "stream",
     "text": [
      "\r",
      "  8%|▊         | 75/1000 [00:18<03:16,  4.71it/s]"
     ]
    },
    {
     "data": {
      "application/vnd.jupyter.widget-view+json": {
       "model_id": "7ed31fbbcc314977af66221bdbaf0f06",
       "version_major": 2,
       "version_minor": 0
      },
      "text/plain": [
       "  0%|          | 0/1000 [00:00<?, ?it/s]"
      ]
     },
     "metadata": {},
     "output_type": "display_data"
    },
    {
     "name": "stderr",
     "output_type": "stream",
     "text": [
      "\r",
      "  8%|▊         | 76/1000 [00:18<03:11,  4.83it/s]"
     ]
    },
    {
     "data": {
      "application/vnd.jupyter.widget-view+json": {
       "model_id": "12d6fe7c2c1a4bd4b702117ddf182174",
       "version_major": 2,
       "version_minor": 0
      },
      "text/plain": [
       "  0%|          | 0/1000 [00:00<?, ?it/s]"
      ]
     },
     "metadata": {},
     "output_type": "display_data"
    },
    {
     "name": "stderr",
     "output_type": "stream",
     "text": [
      "\r",
      "  8%|▊         | 77/1000 [00:18<03:07,  4.92it/s]"
     ]
    },
    {
     "data": {
      "application/vnd.jupyter.widget-view+json": {
       "model_id": "83335cbabe59452b8e5393d64dec2cf5",
       "version_major": 2,
       "version_minor": 0
      },
      "text/plain": [
       "  0%|          | 0/1000 [00:00<?, ?it/s]"
      ]
     },
     "metadata": {},
     "output_type": "display_data"
    },
    {
     "name": "stderr",
     "output_type": "stream",
     "text": [
      "\r",
      "  8%|▊         | 78/1000 [00:18<03:05,  4.98it/s]"
     ]
    },
    {
     "data": {
      "application/vnd.jupyter.widget-view+json": {
       "model_id": "b97c5321cc6e4ad98531085bda4ff5c2",
       "version_major": 2,
       "version_minor": 0
      },
      "text/plain": [
       "  0%|          | 0/1000 [00:00<?, ?it/s]"
      ]
     },
     "metadata": {},
     "output_type": "display_data"
    },
    {
     "name": "stderr",
     "output_type": "stream",
     "text": [
      "\r",
      "  8%|▊         | 79/1000 [00:19<03:03,  5.02it/s]"
     ]
    },
    {
     "data": {
      "application/vnd.jupyter.widget-view+json": {
       "model_id": "1a467d25002a473db2a76b0806eeda35",
       "version_major": 2,
       "version_minor": 0
      },
      "text/plain": [
       "  0%|          | 0/1000 [00:00<?, ?it/s]"
      ]
     },
     "metadata": {},
     "output_type": "display_data"
    },
    {
     "name": "stderr",
     "output_type": "stream",
     "text": [
      "\r",
      "  8%|▊         | 80/1000 [00:19<03:03,  5.01it/s]"
     ]
    },
    {
     "data": {
      "application/vnd.jupyter.widget-view+json": {
       "model_id": "883d011363624d859ad8b637cc40d0d3",
       "version_major": 2,
       "version_minor": 0
      },
      "text/plain": [
       "  0%|          | 0/1000 [00:00<?, ?it/s]"
      ]
     },
     "metadata": {},
     "output_type": "display_data"
    },
    {
     "name": "stderr",
     "output_type": "stream",
     "text": [
      "\r",
      "  8%|▊         | 81/1000 [00:19<03:01,  5.05it/s]"
     ]
    },
    {
     "data": {
      "application/vnd.jupyter.widget-view+json": {
       "model_id": "3c9e5b1fbdb9440cb4d97720aabfcc3e",
       "version_major": 2,
       "version_minor": 0
      },
      "text/plain": [
       "  0%|          | 0/1000 [00:00<?, ?it/s]"
      ]
     },
     "metadata": {},
     "output_type": "display_data"
    },
    {
     "name": "stderr",
     "output_type": "stream",
     "text": [
      "\r",
      "  8%|▊         | 82/1000 [00:19<03:01,  5.05it/s]"
     ]
    },
    {
     "data": {
      "application/vnd.jupyter.widget-view+json": {
       "model_id": "167702c68d0940d1985415af16342061",
       "version_major": 2,
       "version_minor": 0
      },
      "text/plain": [
       "  0%|          | 0/1000 [00:00<?, ?it/s]"
      ]
     },
     "metadata": {},
     "output_type": "display_data"
    },
    {
     "name": "stderr",
     "output_type": "stream",
     "text": [
      "\r",
      "  8%|▊         | 83/1000 [00:19<03:02,  5.03it/s]"
     ]
    },
    {
     "data": {
      "application/vnd.jupyter.widget-view+json": {
       "model_id": "6796e839542e4f1eb4bf4a8a510cc545",
       "version_major": 2,
       "version_minor": 0
      },
      "text/plain": [
       "  0%|          | 0/1000 [00:00<?, ?it/s]"
      ]
     },
     "metadata": {},
     "output_type": "display_data"
    },
    {
     "name": "stderr",
     "output_type": "stream",
     "text": [
      "\r",
      "  8%|▊         | 84/1000 [00:20<03:09,  4.83it/s]"
     ]
    },
    {
     "data": {
      "application/vnd.jupyter.widget-view+json": {
       "model_id": "34dfb4404b014f00ac2627eb086678a0",
       "version_major": 2,
       "version_minor": 0
      },
      "text/plain": [
       "  0%|          | 0/1000 [00:00<?, ?it/s]"
      ]
     },
     "metadata": {},
     "output_type": "display_data"
    },
    {
     "name": "stderr",
     "output_type": "stream",
     "text": [
      "\r",
      "  8%|▊         | 85/1000 [00:20<03:07,  4.88it/s]"
     ]
    },
    {
     "data": {
      "application/vnd.jupyter.widget-view+json": {
       "model_id": "fa73bea41a7146fbae39334af3196ce0",
       "version_major": 2,
       "version_minor": 0
      },
      "text/plain": [
       "  0%|          | 0/1000 [00:00<?, ?it/s]"
      ]
     },
     "metadata": {},
     "output_type": "display_data"
    },
    {
     "name": "stderr",
     "output_type": "stream",
     "text": [
      "\r",
      "  9%|▊         | 86/1000 [00:20<03:05,  4.92it/s]"
     ]
    },
    {
     "data": {
      "application/vnd.jupyter.widget-view+json": {
       "model_id": "d9759609fbb54d8baa7108512d784b99",
       "version_major": 2,
       "version_minor": 0
      },
      "text/plain": [
       "  0%|          | 0/1000 [00:00<?, ?it/s]"
      ]
     },
     "metadata": {},
     "output_type": "display_data"
    },
    {
     "name": "stderr",
     "output_type": "stream",
     "text": [
      "\r",
      "  9%|▊         | 87/1000 [00:20<03:09,  4.81it/s]"
     ]
    },
    {
     "data": {
      "application/vnd.jupyter.widget-view+json": {
       "model_id": "19470797d72a4738aab8d42f7984c102",
       "version_major": 2,
       "version_minor": 0
      },
      "text/plain": [
       "  0%|          | 0/1000 [00:00<?, ?it/s]"
      ]
     },
     "metadata": {},
     "output_type": "display_data"
    },
    {
     "name": "stderr",
     "output_type": "stream",
     "text": [
      "\r",
      "  9%|▉         | 88/1000 [00:20<03:07,  4.87it/s]"
     ]
    },
    {
     "data": {
      "application/vnd.jupyter.widget-view+json": {
       "model_id": "a2c7a8f3df7a4a7e87bd3684277f3d9d",
       "version_major": 2,
       "version_minor": 0
      },
      "text/plain": [
       "  0%|          | 0/1000 [00:00<?, ?it/s]"
      ]
     },
     "metadata": {},
     "output_type": "display_data"
    },
    {
     "name": "stderr",
     "output_type": "stream",
     "text": [
      "\r",
      "  9%|▉         | 89/1000 [00:21<03:05,  4.92it/s]"
     ]
    },
    {
     "data": {
      "application/vnd.jupyter.widget-view+json": {
       "model_id": "79a864551f1046878929d4c16c32902a",
       "version_major": 2,
       "version_minor": 0
      },
      "text/plain": [
       "  0%|          | 0/1000 [00:00<?, ?it/s]"
      ]
     },
     "metadata": {},
     "output_type": "display_data"
    },
    {
     "name": "stderr",
     "output_type": "stream",
     "text": [
      "\r",
      "  9%|▉         | 90/1000 [00:21<03:01,  5.00it/s]"
     ]
    },
    {
     "data": {
      "application/vnd.jupyter.widget-view+json": {
       "model_id": "185001816305478da479efe9c31b0f92",
       "version_major": 2,
       "version_minor": 0
      },
      "text/plain": [
       "  0%|          | 0/1000 [00:00<?, ?it/s]"
      ]
     },
     "metadata": {},
     "output_type": "display_data"
    },
    {
     "name": "stderr",
     "output_type": "stream",
     "text": [
      "\r",
      "  9%|▉         | 91/1000 [00:21<03:04,  4.93it/s]"
     ]
    },
    {
     "data": {
      "application/vnd.jupyter.widget-view+json": {
       "model_id": "cd7e46d75c8046ec8c5b08d0739643b9",
       "version_major": 2,
       "version_minor": 0
      },
      "text/plain": [
       "  0%|          | 0/1000 [00:00<?, ?it/s]"
      ]
     },
     "metadata": {},
     "output_type": "display_data"
    },
    {
     "name": "stderr",
     "output_type": "stream",
     "text": [
      "\r",
      "  9%|▉         | 92/1000 [00:21<03:05,  4.91it/s]"
     ]
    },
    {
     "data": {
      "application/vnd.jupyter.widget-view+json": {
       "model_id": "47b5226e07ed4aff80c0d0bdbc18912b",
       "version_major": 2,
       "version_minor": 0
      },
      "text/plain": [
       "  0%|          | 0/1000 [00:00<?, ?it/s]"
      ]
     },
     "metadata": {},
     "output_type": "display_data"
    },
    {
     "name": "stderr",
     "output_type": "stream",
     "text": [
      "\r",
      "  9%|▉         | 93/1000 [00:22<03:07,  4.84it/s]"
     ]
    },
    {
     "data": {
      "application/vnd.jupyter.widget-view+json": {
       "model_id": "e01c9b88a8644880b8a29ee5aee3795d",
       "version_major": 2,
       "version_minor": 0
      },
      "text/plain": [
       "  0%|          | 0/1000 [00:00<?, ?it/s]"
      ]
     },
     "metadata": {},
     "output_type": "display_data"
    },
    {
     "name": "stderr",
     "output_type": "stream",
     "text": [
      "\r",
      "  9%|▉         | 94/1000 [00:22<03:06,  4.86it/s]"
     ]
    },
    {
     "data": {
      "application/vnd.jupyter.widget-view+json": {
       "model_id": "31523f0ce6d040d9931160e29f956be7",
       "version_major": 2,
       "version_minor": 0
      },
      "text/plain": [
       "  0%|          | 0/1000 [00:00<?, ?it/s]"
      ]
     },
     "metadata": {},
     "output_type": "display_data"
    },
    {
     "name": "stderr",
     "output_type": "stream",
     "text": [
      "\r",
      " 10%|▉         | 95/1000 [00:22<03:04,  4.89it/s]"
     ]
    },
    {
     "data": {
      "application/vnd.jupyter.widget-view+json": {
       "model_id": "3bfc4c09aeca4e8d89282a70a1e1887e",
       "version_major": 2,
       "version_minor": 0
      },
      "text/plain": [
       "  0%|          | 0/1000 [00:00<?, ?it/s]"
      ]
     },
     "metadata": {},
     "output_type": "display_data"
    },
    {
     "name": "stderr",
     "output_type": "stream",
     "text": [
      "\r",
      " 10%|▉         | 96/1000 [00:22<03:04,  4.90it/s]"
     ]
    },
    {
     "data": {
      "application/vnd.jupyter.widget-view+json": {
       "model_id": "92e004f7278b4bf3bf5ff24a70f7d501",
       "version_major": 2,
       "version_minor": 0
      },
      "text/plain": [
       "  0%|          | 0/1000 [00:00<?, ?it/s]"
      ]
     },
     "metadata": {},
     "output_type": "display_data"
    },
    {
     "name": "stderr",
     "output_type": "stream",
     "text": [
      "\r",
      " 10%|▉         | 97/1000 [00:22<03:03,  4.93it/s]"
     ]
    },
    {
     "data": {
      "application/vnd.jupyter.widget-view+json": {
       "model_id": "e846d4deb7aa48579c02abc3adf01c80",
       "version_major": 2,
       "version_minor": 0
      },
      "text/plain": [
       "  0%|          | 0/1000 [00:00<?, ?it/s]"
      ]
     },
     "metadata": {},
     "output_type": "display_data"
    },
    {
     "name": "stderr",
     "output_type": "stream",
     "text": [
      "\r",
      " 10%|▉         | 98/1000 [00:23<03:03,  4.91it/s]"
     ]
    },
    {
     "data": {
      "application/vnd.jupyter.widget-view+json": {
       "model_id": "7534b5989c5747e0908913a6947ae79a",
       "version_major": 2,
       "version_minor": 0
      },
      "text/plain": [
       "  0%|          | 0/1000 [00:00<?, ?it/s]"
      ]
     },
     "metadata": {},
     "output_type": "display_data"
    },
    {
     "name": "stderr",
     "output_type": "stream",
     "text": [
      "\r",
      " 10%|▉         | 99/1000 [00:23<03:01,  4.96it/s]"
     ]
    },
    {
     "data": {
      "application/vnd.jupyter.widget-view+json": {
       "model_id": "55bd2463a64743dba3e570eff2e11933",
       "version_major": 2,
       "version_minor": 0
      },
      "text/plain": [
       "  0%|          | 0/1000 [00:00<?, ?it/s]"
      ]
     },
     "metadata": {},
     "output_type": "display_data"
    },
    {
     "name": "stderr",
     "output_type": "stream",
     "text": [
      "\r",
      " 10%|█         | 100/1000 [00:23<03:01,  4.95it/s]"
     ]
    },
    {
     "data": {
      "application/vnd.jupyter.widget-view+json": {
       "model_id": "498d54507d294fb8abcd0b5ffa00d318",
       "version_major": 2,
       "version_minor": 0
      },
      "text/plain": [
       "  0%|          | 0/1000 [00:00<?, ?it/s]"
      ]
     },
     "metadata": {},
     "output_type": "display_data"
    },
    {
     "name": "stderr",
     "output_type": "stream",
     "text": [
      "\r",
      " 10%|█         | 101/1000 [00:23<03:00,  4.98it/s]"
     ]
    },
    {
     "data": {
      "application/vnd.jupyter.widget-view+json": {
       "model_id": "393178873b8e452a9a4828b3a2c9dbdd",
       "version_major": 2,
       "version_minor": 0
      },
      "text/plain": [
       "  0%|          | 0/1000 [00:00<?, ?it/s]"
      ]
     },
     "metadata": {},
     "output_type": "display_data"
    },
    {
     "name": "stderr",
     "output_type": "stream",
     "text": [
      "\r",
      " 10%|█         | 102/1000 [00:23<03:00,  4.98it/s]"
     ]
    },
    {
     "data": {
      "application/vnd.jupyter.widget-view+json": {
       "model_id": "7c04834412024732a1dbe075ed24d277",
       "version_major": 2,
       "version_minor": 0
      },
      "text/plain": [
       "  0%|          | 0/1000 [00:00<?, ?it/s]"
      ]
     },
     "metadata": {},
     "output_type": "display_data"
    },
    {
     "name": "stderr",
     "output_type": "stream",
     "text": [
      "\r",
      " 10%|█         | 103/1000 [00:24<03:06,  4.80it/s]"
     ]
    },
    {
     "data": {
      "application/vnd.jupyter.widget-view+json": {
       "model_id": "2264802ffbb849bf87cd47d65d01496a",
       "version_major": 2,
       "version_minor": 0
      },
      "text/plain": [
       "  0%|          | 0/1000 [00:00<?, ?it/s]"
      ]
     },
     "metadata": {},
     "output_type": "display_data"
    },
    {
     "name": "stderr",
     "output_type": "stream",
     "text": [
      "\r",
      " 10%|█         | 104/1000 [00:24<03:04,  4.86it/s]"
     ]
    },
    {
     "data": {
      "application/vnd.jupyter.widget-view+json": {
       "model_id": "d551ee9153a04adf97fc3d7e252fb657",
       "version_major": 2,
       "version_minor": 0
      },
      "text/plain": [
       "  0%|          | 0/1000 [00:00<?, ?it/s]"
      ]
     },
     "metadata": {},
     "output_type": "display_data"
    },
    {
     "name": "stderr",
     "output_type": "stream",
     "text": [
      "\r",
      " 10%|█         | 105/1000 [00:24<03:02,  4.90it/s]"
     ]
    },
    {
     "data": {
      "application/vnd.jupyter.widget-view+json": {
       "model_id": "127851c066464bb2beb094737c339ba4",
       "version_major": 2,
       "version_minor": 0
      },
      "text/plain": [
       "  0%|          | 0/1000 [00:00<?, ?it/s]"
      ]
     },
     "metadata": {},
     "output_type": "display_data"
    },
    {
     "name": "stderr",
     "output_type": "stream",
     "text": [
      "\r",
      " 11%|█         | 106/1000 [00:24<03:00,  4.95it/s]"
     ]
    },
    {
     "data": {
      "application/vnd.jupyter.widget-view+json": {
       "model_id": "c85d49fbcd10436ca8b6d432d0e9c473",
       "version_major": 2,
       "version_minor": 0
      },
      "text/plain": [
       "  0%|          | 0/1000 [00:00<?, ?it/s]"
      ]
     },
     "metadata": {},
     "output_type": "display_data"
    },
    {
     "name": "stderr",
     "output_type": "stream",
     "text": [
      "\r",
      " 11%|█         | 107/1000 [00:24<02:59,  4.97it/s]"
     ]
    },
    {
     "data": {
      "application/vnd.jupyter.widget-view+json": {
       "model_id": "04fbb958a9294eca9d5ae49a36e4b9de",
       "version_major": 2,
       "version_minor": 0
      },
      "text/plain": [
       "  0%|          | 0/1000 [00:00<?, ?it/s]"
      ]
     },
     "metadata": {},
     "output_type": "display_data"
    },
    {
     "name": "stderr",
     "output_type": "stream",
     "text": [
      "\r",
      " 11%|█         | 108/1000 [00:25<02:57,  5.03it/s]"
     ]
    },
    {
     "data": {
      "application/vnd.jupyter.widget-view+json": {
       "model_id": "3ec4b7a4caea4000a18a7355d70f1ca7",
       "version_major": 2,
       "version_minor": 0
      },
      "text/plain": [
       "  0%|          | 0/1000 [00:00<?, ?it/s]"
      ]
     },
     "metadata": {},
     "output_type": "display_data"
    },
    {
     "name": "stderr",
     "output_type": "stream",
     "text": [
      "\r",
      " 11%|█         | 109/1000 [00:25<02:58,  5.00it/s]"
     ]
    },
    {
     "data": {
      "application/vnd.jupyter.widget-view+json": {
       "model_id": "f72411080ba0454b9d8fed8762dac951",
       "version_major": 2,
       "version_minor": 0
      },
      "text/plain": [
       "  0%|          | 0/1000 [00:00<?, ?it/s]"
      ]
     },
     "metadata": {},
     "output_type": "display_data"
    },
    {
     "name": "stderr",
     "output_type": "stream",
     "text": [
      "\r",
      " 11%|█         | 110/1000 [00:25<02:57,  5.01it/s]"
     ]
    },
    {
     "data": {
      "application/vnd.jupyter.widget-view+json": {
       "model_id": "e320a5a8273d4b96b747726cd3dc8090",
       "version_major": 2,
       "version_minor": 0
      },
      "text/plain": [
       "  0%|          | 0/1000 [00:00<?, ?it/s]"
      ]
     },
     "metadata": {},
     "output_type": "display_data"
    },
    {
     "name": "stderr",
     "output_type": "stream",
     "text": [
      "\r",
      " 11%|█         | 111/1000 [00:25<02:57,  5.02it/s]"
     ]
    },
    {
     "data": {
      "application/vnd.jupyter.widget-view+json": {
       "model_id": "56df06449f474ac7b6158c5b8c50357a",
       "version_major": 2,
       "version_minor": 0
      },
      "text/plain": [
       "  0%|          | 0/1000 [00:00<?, ?it/s]"
      ]
     },
     "metadata": {},
     "output_type": "display_data"
    },
    {
     "name": "stderr",
     "output_type": "stream",
     "text": [
      "\r",
      " 11%|█         | 112/1000 [00:25<02:56,  5.04it/s]"
     ]
    },
    {
     "data": {
      "application/vnd.jupyter.widget-view+json": {
       "model_id": "5123b2e1cb304653b4d3d3862baf3c80",
       "version_major": 2,
       "version_minor": 0
      },
      "text/plain": [
       "  0%|          | 0/1000 [00:00<?, ?it/s]"
      ]
     },
     "metadata": {},
     "output_type": "display_data"
    },
    {
     "name": "stderr",
     "output_type": "stream",
     "text": [
      "\r",
      " 11%|█▏        | 113/1000 [00:26<03:02,  4.85it/s]"
     ]
    },
    {
     "data": {
      "application/vnd.jupyter.widget-view+json": {
       "model_id": "a0c3932f003d440c81091a269b33aff4",
       "version_major": 2,
       "version_minor": 0
      },
      "text/plain": [
       "  0%|          | 0/1000 [00:00<?, ?it/s]"
      ]
     },
     "metadata": {},
     "output_type": "display_data"
    },
    {
     "name": "stderr",
     "output_type": "stream",
     "text": [
      "\r",
      " 11%|█▏        | 114/1000 [00:26<03:12,  4.60it/s]"
     ]
    },
    {
     "data": {
      "application/vnd.jupyter.widget-view+json": {
       "model_id": "9f928920787b4473af86007af07e8abd",
       "version_major": 2,
       "version_minor": 0
      },
      "text/plain": [
       "  0%|          | 0/1000 [00:00<?, ?it/s]"
      ]
     },
     "metadata": {},
     "output_type": "display_data"
    },
    {
     "name": "stderr",
     "output_type": "stream",
     "text": [
      "\r",
      " 12%|█▏        | 115/1000 [00:26<03:09,  4.68it/s]"
     ]
    },
    {
     "data": {
      "application/vnd.jupyter.widget-view+json": {
       "model_id": "772200c29dac43ad85117957665435b9",
       "version_major": 2,
       "version_minor": 0
      },
      "text/plain": [
       "  0%|          | 0/1000 [00:00<?, ?it/s]"
      ]
     },
     "metadata": {},
     "output_type": "display_data"
    },
    {
     "name": "stderr",
     "output_type": "stream",
     "text": [
      "\r",
      " 12%|█▏        | 116/1000 [00:26<03:05,  4.76it/s]"
     ]
    },
    {
     "data": {
      "application/vnd.jupyter.widget-view+json": {
       "model_id": "fab95f6f765d470dbc27ff32c4298483",
       "version_major": 2,
       "version_minor": 0
      },
      "text/plain": [
       "  0%|          | 0/1000 [00:00<?, ?it/s]"
      ]
     },
     "metadata": {},
     "output_type": "display_data"
    },
    {
     "name": "stderr",
     "output_type": "stream",
     "text": [
      "\r",
      " 12%|█▏        | 117/1000 [00:26<03:04,  4.79it/s]"
     ]
    },
    {
     "data": {
      "application/vnd.jupyter.widget-view+json": {
       "model_id": "ce47aaf3afd74b19b65a5ddba0363c68",
       "version_major": 2,
       "version_minor": 0
      },
      "text/plain": [
       "  0%|          | 0/1000 [00:00<?, ?it/s]"
      ]
     },
     "metadata": {},
     "output_type": "display_data"
    },
    {
     "name": "stderr",
     "output_type": "stream",
     "text": [
      "\r",
      " 12%|█▏        | 118/1000 [00:27<03:00,  4.88it/s]"
     ]
    },
    {
     "data": {
      "application/vnd.jupyter.widget-view+json": {
       "model_id": "f4098a6fbf744674bf32df3f93d9e3f9",
       "version_major": 2,
       "version_minor": 0
      },
      "text/plain": [
       "  0%|          | 0/1000 [00:00<?, ?it/s]"
      ]
     },
     "metadata": {},
     "output_type": "display_data"
    },
    {
     "name": "stderr",
     "output_type": "stream",
     "text": [
      "\r",
      " 12%|█▏        | 119/1000 [00:27<03:03,  4.80it/s]"
     ]
    },
    {
     "data": {
      "application/vnd.jupyter.widget-view+json": {
       "model_id": "ab9f5f165de2475984ebfbc21cea9e63",
       "version_major": 2,
       "version_minor": 0
      },
      "text/plain": [
       "  0%|          | 0/1000 [00:00<?, ?it/s]"
      ]
     },
     "metadata": {},
     "output_type": "display_data"
    },
    {
     "name": "stderr",
     "output_type": "stream",
     "text": [
      "\r",
      " 12%|█▏        | 120/1000 [00:27<02:59,  4.92it/s]"
     ]
    },
    {
     "data": {
      "application/vnd.jupyter.widget-view+json": {
       "model_id": "1fb951f452e64b4eb78a51154ce775f9",
       "version_major": 2,
       "version_minor": 0
      },
      "text/plain": [
       "  0%|          | 0/1000 [00:00<?, ?it/s]"
      ]
     },
     "metadata": {},
     "output_type": "display_data"
    },
    {
     "name": "stderr",
     "output_type": "stream",
     "text": [
      "\r",
      " 12%|█▏        | 121/1000 [00:27<02:56,  4.98it/s]"
     ]
    },
    {
     "data": {
      "application/vnd.jupyter.widget-view+json": {
       "model_id": "6c752dd3a1154f759375c9be32db1017",
       "version_major": 2,
       "version_minor": 0
      },
      "text/plain": [
       "  0%|          | 0/1000 [00:00<?, ?it/s]"
      ]
     },
     "metadata": {},
     "output_type": "display_data"
    },
    {
     "name": "stderr",
     "output_type": "stream",
     "text": [
      "\r",
      " 12%|█▏        | 122/1000 [00:27<02:54,  5.04it/s]"
     ]
    },
    {
     "data": {
      "application/vnd.jupyter.widget-view+json": {
       "model_id": "dfe96af6a3124ee9a6a4b9415b95c2ec",
       "version_major": 2,
       "version_minor": 0
      },
      "text/plain": [
       "  0%|          | 0/1000 [00:00<?, ?it/s]"
      ]
     },
     "metadata": {},
     "output_type": "display_data"
    },
    {
     "name": "stderr",
     "output_type": "stream",
     "text": [
      "\r",
      " 12%|█▏        | 123/1000 [00:28<03:03,  4.79it/s]"
     ]
    },
    {
     "data": {
      "application/vnd.jupyter.widget-view+json": {
       "model_id": "df3a66d337434e3c91efabfa8f8da1c2",
       "version_major": 2,
       "version_minor": 0
      },
      "text/plain": [
       "  0%|          | 0/1000 [00:00<?, ?it/s]"
      ]
     },
     "metadata": {},
     "output_type": "display_data"
    },
    {
     "name": "stderr",
     "output_type": "stream",
     "text": [
      "\r",
      " 12%|█▏        | 124/1000 [00:28<03:01,  4.82it/s]"
     ]
    },
    {
     "data": {
      "application/vnd.jupyter.widget-view+json": {
       "model_id": "2041ac017461476f9c02539e464057da",
       "version_major": 2,
       "version_minor": 0
      },
      "text/plain": [
       "  0%|          | 0/1000 [00:00<?, ?it/s]"
      ]
     },
     "metadata": {},
     "output_type": "display_data"
    },
    {
     "name": "stderr",
     "output_type": "stream",
     "text": [
      "\r",
      " 12%|█▎        | 125/1000 [00:28<03:00,  4.84it/s]"
     ]
    },
    {
     "data": {
      "application/vnd.jupyter.widget-view+json": {
       "model_id": "9c5fc615610b48cfb4976759267be1b8",
       "version_major": 2,
       "version_minor": 0
      },
      "text/plain": [
       "  0%|          | 0/1000 [00:00<?, ?it/s]"
      ]
     },
     "metadata": {},
     "output_type": "display_data"
    },
    {
     "name": "stderr",
     "output_type": "stream",
     "text": [
      "\r",
      " 13%|█▎        | 126/1000 [00:28<03:01,  4.82it/s]"
     ]
    },
    {
     "data": {
      "application/vnd.jupyter.widget-view+json": {
       "model_id": "3647f465e1344a828921901a6371c57e",
       "version_major": 2,
       "version_minor": 0
      },
      "text/plain": [
       "  0%|          | 0/1000 [00:00<?, ?it/s]"
      ]
     },
     "metadata": {},
     "output_type": "display_data"
    },
    {
     "name": "stderr",
     "output_type": "stream",
     "text": [
      "\r",
      " 13%|█▎        | 127/1000 [00:28<02:59,  4.87it/s]"
     ]
    },
    {
     "data": {
      "application/vnd.jupyter.widget-view+json": {
       "model_id": "ff81fae4f7514f17b997cf4e7558f37a",
       "version_major": 2,
       "version_minor": 0
      },
      "text/plain": [
       "  0%|          | 0/1000 [00:00<?, ?it/s]"
      ]
     },
     "metadata": {},
     "output_type": "display_data"
    },
    {
     "name": "stderr",
     "output_type": "stream",
     "text": [
      "\r",
      " 13%|█▎        | 128/1000 [00:29<02:57,  4.90it/s]"
     ]
    },
    {
     "data": {
      "application/vnd.jupyter.widget-view+json": {
       "model_id": "4634458444224069a63a2addaa9af8f6",
       "version_major": 2,
       "version_minor": 0
      },
      "text/plain": [
       "  0%|          | 0/1000 [00:00<?, ?it/s]"
      ]
     },
     "metadata": {},
     "output_type": "display_data"
    },
    {
     "name": "stderr",
     "output_type": "stream",
     "text": [
      "\r",
      " 13%|█▎        | 129/1000 [00:29<02:56,  4.94it/s]"
     ]
    },
    {
     "data": {
      "application/vnd.jupyter.widget-view+json": {
       "model_id": "a227f3ec8f97443dad629439f5dcf8f9",
       "version_major": 2,
       "version_minor": 0
      },
      "text/plain": [
       "  0%|          | 0/1000 [00:00<?, ?it/s]"
      ]
     },
     "metadata": {},
     "output_type": "display_data"
    },
    {
     "name": "stderr",
     "output_type": "stream",
     "text": [
      "\r",
      " 13%|█▎        | 130/1000 [00:29<02:58,  4.87it/s]"
     ]
    },
    {
     "data": {
      "application/vnd.jupyter.widget-view+json": {
       "model_id": "166215090151464e835a18c04f301002",
       "version_major": 2,
       "version_minor": 0
      },
      "text/plain": [
       "  0%|          | 0/1000 [00:00<?, ?it/s]"
      ]
     },
     "metadata": {},
     "output_type": "display_data"
    },
    {
     "name": "stderr",
     "output_type": "stream",
     "text": [
      "\r",
      " 13%|█▎        | 131/1000 [00:29<03:04,  4.71it/s]"
     ]
    },
    {
     "data": {
      "application/vnd.jupyter.widget-view+json": {
       "model_id": "f3c34c1043bd4576ba8fb8c8d90fee9a",
       "version_major": 2,
       "version_minor": 0
      },
      "text/plain": [
       "  0%|          | 0/1000 [00:00<?, ?it/s]"
      ]
     },
     "metadata": {},
     "output_type": "display_data"
    },
    {
     "name": "stderr",
     "output_type": "stream",
     "text": [
      "\r",
      " 13%|█▎        | 132/1000 [00:30<03:13,  4.48it/s]"
     ]
    },
    {
     "data": {
      "application/vnd.jupyter.widget-view+json": {
       "model_id": "cb7c0e88c4e94d3eafe2bcf6d47fc329",
       "version_major": 2,
       "version_minor": 0
      },
      "text/plain": [
       "  0%|          | 0/1000 [00:00<?, ?it/s]"
      ]
     },
     "metadata": {},
     "output_type": "display_data"
    },
    {
     "name": "stderr",
     "output_type": "stream",
     "text": [
      "\r",
      " 13%|█▎        | 133/1000 [00:30<03:20,  4.33it/s]"
     ]
    },
    {
     "data": {
      "application/vnd.jupyter.widget-view+json": {
       "model_id": "080a06637d7f4517bf1dacded119782c",
       "version_major": 2,
       "version_minor": 0
      },
      "text/plain": [
       "  0%|          | 0/1000 [00:00<?, ?it/s]"
      ]
     },
     "metadata": {},
     "output_type": "display_data"
    },
    {
     "name": "stderr",
     "output_type": "stream",
     "text": [
      "\r",
      " 13%|█▎        | 134/1000 [00:30<03:21,  4.29it/s]"
     ]
    },
    {
     "data": {
      "application/vnd.jupyter.widget-view+json": {
       "model_id": "50d84f7b0bb44438ac26577d68caccde",
       "version_major": 2,
       "version_minor": 0
      },
      "text/plain": [
       "  0%|          | 0/1000 [00:00<?, ?it/s]"
      ]
     },
     "metadata": {},
     "output_type": "display_data"
    },
    {
     "name": "stderr",
     "output_type": "stream",
     "text": [
      "\r",
      " 14%|█▎        | 135/1000 [00:30<03:22,  4.28it/s]"
     ]
    },
    {
     "data": {
      "application/vnd.jupyter.widget-view+json": {
       "model_id": "4812eebcb7b14375b44184293ea31639",
       "version_major": 2,
       "version_minor": 0
      },
      "text/plain": [
       "  0%|          | 0/1000 [00:00<?, ?it/s]"
      ]
     },
     "metadata": {},
     "output_type": "display_data"
    },
    {
     "name": "stderr",
     "output_type": "stream",
     "text": [
      "\r",
      " 14%|█▎        | 136/1000 [00:31<03:24,  4.23it/s]"
     ]
    },
    {
     "data": {
      "application/vnd.jupyter.widget-view+json": {
       "model_id": "6f227a8f69e0415a8f4b4446e2c59f18",
       "version_major": 2,
       "version_minor": 0
      },
      "text/plain": [
       "  0%|          | 0/1000 [00:00<?, ?it/s]"
      ]
     },
     "metadata": {},
     "output_type": "display_data"
    },
    {
     "name": "stderr",
     "output_type": "stream",
     "text": [
      "\r",
      " 14%|█▎        | 137/1000 [00:31<03:26,  4.17it/s]"
     ]
    },
    {
     "data": {
      "application/vnd.jupyter.widget-view+json": {
       "model_id": "267d899262e24b34b5ffbaf2b23014d4",
       "version_major": 2,
       "version_minor": 0
      },
      "text/plain": [
       "  0%|          | 0/1000 [00:00<?, ?it/s]"
      ]
     },
     "metadata": {},
     "output_type": "display_data"
    },
    {
     "name": "stderr",
     "output_type": "stream",
     "text": [
      "\r",
      " 14%|█▍        | 138/1000 [00:31<03:29,  4.12it/s]"
     ]
    },
    {
     "data": {
      "application/vnd.jupyter.widget-view+json": {
       "model_id": "d0bde833191445ee9c04cb492f304444",
       "version_major": 2,
       "version_minor": 0
      },
      "text/plain": [
       "  0%|          | 0/1000 [00:00<?, ?it/s]"
      ]
     },
     "metadata": {},
     "output_type": "display_data"
    },
    {
     "name": "stderr",
     "output_type": "stream",
     "text": [
      "\r",
      " 14%|█▍        | 139/1000 [00:31<03:28,  4.12it/s]"
     ]
    },
    {
     "data": {
      "application/vnd.jupyter.widget-view+json": {
       "model_id": "beecfdad36444157adbc3db35aabb1e1",
       "version_major": 2,
       "version_minor": 0
      },
      "text/plain": [
       "  0%|          | 0/1000 [00:00<?, ?it/s]"
      ]
     },
     "metadata": {},
     "output_type": "display_data"
    },
    {
     "name": "stderr",
     "output_type": "stream",
     "text": [
      "\r",
      " 14%|█▍        | 140/1000 [00:31<03:28,  4.13it/s]"
     ]
    },
    {
     "data": {
      "application/vnd.jupyter.widget-view+json": {
       "model_id": "c4088ccfd39e4b0cae09146b0146b596",
       "version_major": 2,
       "version_minor": 0
      },
      "text/plain": [
       "  0%|          | 0/1000 [00:00<?, ?it/s]"
      ]
     },
     "metadata": {},
     "output_type": "display_data"
    },
    {
     "name": "stderr",
     "output_type": "stream",
     "text": [
      "\r",
      " 14%|█▍        | 141/1000 [00:32<03:29,  4.11it/s]"
     ]
    },
    {
     "data": {
      "application/vnd.jupyter.widget-view+json": {
       "model_id": "83a424e207b74e3da386eed0e1c7ffd5",
       "version_major": 2,
       "version_minor": 0
      },
      "text/plain": [
       "  0%|          | 0/1000 [00:00<?, ?it/s]"
      ]
     },
     "metadata": {},
     "output_type": "display_data"
    },
    {
     "name": "stderr",
     "output_type": "stream",
     "text": [
      "\r",
      " 14%|█▍        | 142/1000 [00:32<03:28,  4.12it/s]"
     ]
    },
    {
     "data": {
      "application/vnd.jupyter.widget-view+json": {
       "model_id": "92195d71cc204732a9d8207763ea1656",
       "version_major": 2,
       "version_minor": 0
      },
      "text/plain": [
       "  0%|          | 0/1000 [00:00<?, ?it/s]"
      ]
     },
     "metadata": {},
     "output_type": "display_data"
    },
    {
     "name": "stderr",
     "output_type": "stream",
     "text": [
      "\r",
      " 14%|█▍        | 143/1000 [00:32<03:26,  4.14it/s]"
     ]
    },
    {
     "data": {
      "application/vnd.jupyter.widget-view+json": {
       "model_id": "256f747fbaf6464bac7fd5f570c5665d",
       "version_major": 2,
       "version_minor": 0
      },
      "text/plain": [
       "  0%|          | 0/1000 [00:00<?, ?it/s]"
      ]
     },
     "metadata": {},
     "output_type": "display_data"
    },
    {
     "name": "stderr",
     "output_type": "stream",
     "text": [
      "\r",
      " 14%|█▍        | 144/1000 [00:32<03:35,  3.97it/s]"
     ]
    },
    {
     "data": {
      "application/vnd.jupyter.widget-view+json": {
       "model_id": "46180215aa014133812ab35534c051bd",
       "version_major": 2,
       "version_minor": 0
      },
      "text/plain": [
       "  0%|          | 0/1000 [00:00<?, ?it/s]"
      ]
     },
     "metadata": {},
     "output_type": "display_data"
    },
    {
     "name": "stderr",
     "output_type": "stream",
     "text": [
      "\r",
      " 14%|█▍        | 145/1000 [00:33<03:43,  3.83it/s]"
     ]
    },
    {
     "data": {
      "application/vnd.jupyter.widget-view+json": {
       "model_id": "e2c3574f4cbd4a5ab9094362ad648907",
       "version_major": 2,
       "version_minor": 0
      },
      "text/plain": [
       "  0%|          | 0/1000 [00:00<?, ?it/s]"
      ]
     },
     "metadata": {},
     "output_type": "display_data"
    },
    {
     "name": "stderr",
     "output_type": "stream",
     "text": [
      "\r",
      " 15%|█▍        | 146/1000 [00:33<03:45,  3.79it/s]"
     ]
    },
    {
     "data": {
      "application/vnd.jupyter.widget-view+json": {
       "model_id": "28e67548599849bda7182d3d93ed28c6",
       "version_major": 2,
       "version_minor": 0
      },
      "text/plain": [
       "  0%|          | 0/1000 [00:00<?, ?it/s]"
      ]
     },
     "metadata": {},
     "output_type": "display_data"
    },
    {
     "name": "stderr",
     "output_type": "stream",
     "text": [
      "\r",
      " 15%|█▍        | 147/1000 [00:33<03:41,  3.86it/s]"
     ]
    },
    {
     "data": {
      "application/vnd.jupyter.widget-view+json": {
       "model_id": "4963aeb3511f479d97534a4137799a93",
       "version_major": 2,
       "version_minor": 0
      },
      "text/plain": [
       "  0%|          | 0/1000 [00:00<?, ?it/s]"
      ]
     },
     "metadata": {},
     "output_type": "display_data"
    },
    {
     "name": "stderr",
     "output_type": "stream",
     "text": [
      "\r",
      " 15%|█▍        | 148/1000 [00:34<03:39,  3.88it/s]"
     ]
    },
    {
     "data": {
      "application/vnd.jupyter.widget-view+json": {
       "model_id": "63777697bd28408294166022ac415144",
       "version_major": 2,
       "version_minor": 0
      },
      "text/plain": [
       "  0%|          | 0/1000 [00:00<?, ?it/s]"
      ]
     },
     "metadata": {},
     "output_type": "display_data"
    },
    {
     "name": "stderr",
     "output_type": "stream",
     "text": [
      "\r",
      " 15%|█▍        | 149/1000 [00:34<03:32,  4.01it/s]"
     ]
    },
    {
     "data": {
      "application/vnd.jupyter.widget-view+json": {
       "model_id": "761a5c9da9fc4339a14188fdbf367c4d",
       "version_major": 2,
       "version_minor": 0
      },
      "text/plain": [
       "  0%|          | 0/1000 [00:00<?, ?it/s]"
      ]
     },
     "metadata": {},
     "output_type": "display_data"
    },
    {
     "name": "stderr",
     "output_type": "stream",
     "text": [
      "\r",
      " 15%|█▌        | 150/1000 [00:34<03:32,  3.99it/s]"
     ]
    },
    {
     "data": {
      "application/vnd.jupyter.widget-view+json": {
       "model_id": "6a2a178cd38a4c1cbeeb2aa04e2af159",
       "version_major": 2,
       "version_minor": 0
      },
      "text/plain": [
       "  0%|          | 0/1000 [00:00<?, ?it/s]"
      ]
     },
     "metadata": {},
     "output_type": "display_data"
    },
    {
     "name": "stderr",
     "output_type": "stream",
     "text": [
      "\r",
      " 15%|█▌        | 151/1000 [00:34<03:28,  4.06it/s]"
     ]
    },
    {
     "data": {
      "application/vnd.jupyter.widget-view+json": {
       "model_id": "ffffaf9d7de44b199b048dd8bc4f00f9",
       "version_major": 2,
       "version_minor": 0
      },
      "text/plain": [
       "  0%|          | 0/1000 [00:00<?, ?it/s]"
      ]
     },
     "metadata": {},
     "output_type": "display_data"
    },
    {
     "name": "stderr",
     "output_type": "stream",
     "text": [
      "\r",
      " 15%|█▌        | 152/1000 [00:35<03:38,  3.88it/s]"
     ]
    },
    {
     "data": {
      "application/vnd.jupyter.widget-view+json": {
       "model_id": "9bdde5b3685d4d42ae3235e859b66d18",
       "version_major": 2,
       "version_minor": 0
      },
      "text/plain": [
       "  0%|          | 0/1000 [00:00<?, ?it/s]"
      ]
     },
     "metadata": {},
     "output_type": "display_data"
    },
    {
     "name": "stderr",
     "output_type": "stream",
     "text": [
      "\r",
      " 15%|█▌        | 153/1000 [00:35<03:33,  3.97it/s]"
     ]
    },
    {
     "data": {
      "application/vnd.jupyter.widget-view+json": {
       "model_id": "34c9f93fde2a4be38fc47a1a6611904c",
       "version_major": 2,
       "version_minor": 0
      },
      "text/plain": [
       "  0%|          | 0/1000 [00:00<?, ?it/s]"
      ]
     },
     "metadata": {},
     "output_type": "display_data"
    },
    {
     "name": "stderr",
     "output_type": "stream",
     "text": [
      "\r",
      " 15%|█▌        | 154/1000 [00:35<03:28,  4.06it/s]"
     ]
    },
    {
     "data": {
      "application/vnd.jupyter.widget-view+json": {
       "model_id": "916c99c1d9694b7f974abb4afd3be17f",
       "version_major": 2,
       "version_minor": 0
      },
      "text/plain": [
       "  0%|          | 0/1000 [00:00<?, ?it/s]"
      ]
     },
     "metadata": {},
     "output_type": "display_data"
    },
    {
     "name": "stderr",
     "output_type": "stream",
     "text": [
      "\r",
      " 16%|█▌        | 155/1000 [00:35<03:24,  4.12it/s]"
     ]
    },
    {
     "data": {
      "application/vnd.jupyter.widget-view+json": {
       "model_id": "f72ca527a38149689518d415ec7c8401",
       "version_major": 2,
       "version_minor": 0
      },
      "text/plain": [
       "  0%|          | 0/1000 [00:00<?, ?it/s]"
      ]
     },
     "metadata": {},
     "output_type": "display_data"
    },
    {
     "name": "stderr",
     "output_type": "stream",
     "text": [
      "\r",
      " 16%|█▌        | 156/1000 [00:35<03:23,  4.14it/s]"
     ]
    },
    {
     "data": {
      "application/vnd.jupyter.widget-view+json": {
       "model_id": "480aa3b697e0472a8adf6152808cd96a",
       "version_major": 2,
       "version_minor": 0
      },
      "text/plain": [
       "  0%|          | 0/1000 [00:00<?, ?it/s]"
      ]
     },
     "metadata": {},
     "output_type": "display_data"
    },
    {
     "name": "stderr",
     "output_type": "stream",
     "text": [
      "\r",
      " 16%|█▌        | 157/1000 [00:36<03:23,  4.15it/s]"
     ]
    },
    {
     "data": {
      "application/vnd.jupyter.widget-view+json": {
       "model_id": "7a9973ff7b3e491dbd2376200b594e3c",
       "version_major": 2,
       "version_minor": 0
      },
      "text/plain": [
       "  0%|          | 0/1000 [00:00<?, ?it/s]"
      ]
     },
     "metadata": {},
     "output_type": "display_data"
    },
    {
     "name": "stderr",
     "output_type": "stream",
     "text": [
      "\r",
      " 16%|█▌        | 158/1000 [00:36<03:23,  4.14it/s]"
     ]
    },
    {
     "data": {
      "application/vnd.jupyter.widget-view+json": {
       "model_id": "41463f2dee2d413a947e261174267ffb",
       "version_major": 2,
       "version_minor": 0
      },
      "text/plain": [
       "  0%|          | 0/1000 [00:00<?, ?it/s]"
      ]
     },
     "metadata": {},
     "output_type": "display_data"
    },
    {
     "name": "stderr",
     "output_type": "stream",
     "text": [
      "\r",
      " 16%|█▌        | 159/1000 [00:36<03:22,  4.15it/s]"
     ]
    },
    {
     "data": {
      "application/vnd.jupyter.widget-view+json": {
       "model_id": "bb91a4a7ee04401b8ac501916926d9ee",
       "version_major": 2,
       "version_minor": 0
      },
      "text/plain": [
       "  0%|          | 0/1000 [00:00<?, ?it/s]"
      ]
     },
     "metadata": {},
     "output_type": "display_data"
    },
    {
     "name": "stderr",
     "output_type": "stream",
     "text": [
      "\r",
      " 16%|█▌        | 160/1000 [00:36<03:19,  4.21it/s]"
     ]
    },
    {
     "data": {
      "application/vnd.jupyter.widget-view+json": {
       "model_id": "d824b4429b4043e887c1c17ca292be88",
       "version_major": 2,
       "version_minor": 0
      },
      "text/plain": [
       "  0%|          | 0/1000 [00:00<?, ?it/s]"
      ]
     },
     "metadata": {},
     "output_type": "display_data"
    },
    {
     "name": "stderr",
     "output_type": "stream",
     "text": [
      "\r",
      " 16%|█▌        | 161/1000 [00:37<03:18,  4.22it/s]"
     ]
    },
    {
     "data": {
      "application/vnd.jupyter.widget-view+json": {
       "model_id": "bfe7a13616aa40eca31155a7449ca2ad",
       "version_major": 2,
       "version_minor": 0
      },
      "text/plain": [
       "  0%|          | 0/1000 [00:00<?, ?it/s]"
      ]
     },
     "metadata": {},
     "output_type": "display_data"
    },
    {
     "name": "stderr",
     "output_type": "stream",
     "text": [
      "\r",
      " 16%|█▌        | 162/1000 [00:37<03:17,  4.25it/s]"
     ]
    },
    {
     "data": {
      "application/vnd.jupyter.widget-view+json": {
       "model_id": "83223e0f30874fd38ef89df55e3a0bf3",
       "version_major": 2,
       "version_minor": 0
      },
      "text/plain": [
       "  0%|          | 0/1000 [00:00<?, ?it/s]"
      ]
     },
     "metadata": {},
     "output_type": "display_data"
    },
    {
     "name": "stderr",
     "output_type": "stream",
     "text": [
      "\r",
      " 16%|█▋        | 163/1000 [00:37<03:17,  4.23it/s]"
     ]
    },
    {
     "data": {
      "application/vnd.jupyter.widget-view+json": {
       "model_id": "d092a477a4a64670bc9856a3ec336867",
       "version_major": 2,
       "version_minor": 0
      },
      "text/plain": [
       "  0%|          | 0/1000 [00:00<?, ?it/s]"
      ]
     },
     "metadata": {},
     "output_type": "display_data"
    },
    {
     "name": "stderr",
     "output_type": "stream",
     "text": [
      "\r",
      " 16%|█▋        | 164/1000 [00:37<03:20,  4.17it/s]"
     ]
    },
    {
     "data": {
      "application/vnd.jupyter.widget-view+json": {
       "model_id": "51f43a2b68f74fb3886a7d937f69a7b9",
       "version_major": 2,
       "version_minor": 0
      },
      "text/plain": [
       "  0%|          | 0/1000 [00:00<?, ?it/s]"
      ]
     },
     "metadata": {},
     "output_type": "display_data"
    },
    {
     "name": "stderr",
     "output_type": "stream",
     "text": [
      "\r",
      " 16%|█▋        | 165/1000 [00:38<03:23,  4.11it/s]"
     ]
    },
    {
     "data": {
      "application/vnd.jupyter.widget-view+json": {
       "model_id": "cb9d9fe5c24443de839fa36bfb1dd702",
       "version_major": 2,
       "version_minor": 0
      },
      "text/plain": [
       "  0%|          | 0/1000 [00:00<?, ?it/s]"
      ]
     },
     "metadata": {},
     "output_type": "display_data"
    },
    {
     "name": "stderr",
     "output_type": "stream",
     "text": [
      "\r",
      " 17%|█▋        | 166/1000 [00:38<03:28,  4.01it/s]"
     ]
    },
    {
     "data": {
      "application/vnd.jupyter.widget-view+json": {
       "model_id": "16a845185a4c4103b49f330fc44ffd15",
       "version_major": 2,
       "version_minor": 0
      },
      "text/plain": [
       "  0%|          | 0/1000 [00:00<?, ?it/s]"
      ]
     },
     "metadata": {},
     "output_type": "display_data"
    },
    {
     "name": "stderr",
     "output_type": "stream",
     "text": [
      "\r",
      " 17%|█▋        | 167/1000 [00:38<03:26,  4.03it/s]"
     ]
    },
    {
     "data": {
      "application/vnd.jupyter.widget-view+json": {
       "model_id": "70d80341ee8d4cefa41289a5a45547ad",
       "version_major": 2,
       "version_minor": 0
      },
      "text/plain": [
       "  0%|          | 0/1000 [00:00<?, ?it/s]"
      ]
     },
     "metadata": {},
     "output_type": "display_data"
    },
    {
     "name": "stderr",
     "output_type": "stream",
     "text": [
      "\r",
      " 17%|█▋        | 168/1000 [00:38<03:22,  4.10it/s]"
     ]
    },
    {
     "data": {
      "application/vnd.jupyter.widget-view+json": {
       "model_id": "825534f5f7254ec0b0ef4d24a46dd717",
       "version_major": 2,
       "version_minor": 0
      },
      "text/plain": [
       "  0%|          | 0/1000 [00:00<?, ?it/s]"
      ]
     },
     "metadata": {},
     "output_type": "display_data"
    },
    {
     "name": "stderr",
     "output_type": "stream",
     "text": [
      "\r",
      " 17%|█▋        | 169/1000 [00:39<03:19,  4.16it/s]"
     ]
    },
    {
     "data": {
      "application/vnd.jupyter.widget-view+json": {
       "model_id": "6b3353dc7d4d41b0874175c64250923c",
       "version_major": 2,
       "version_minor": 0
      },
      "text/plain": [
       "  0%|          | 0/1000 [00:00<?, ?it/s]"
      ]
     },
     "metadata": {},
     "output_type": "display_data"
    },
    {
     "name": "stderr",
     "output_type": "stream",
     "text": [
      "\r",
      " 17%|█▋        | 170/1000 [00:39<03:18,  4.18it/s]"
     ]
    },
    {
     "data": {
      "application/vnd.jupyter.widget-view+json": {
       "model_id": "aa14a68e6e3649428c2fe38cfee6ae08",
       "version_major": 2,
       "version_minor": 0
      },
      "text/plain": [
       "  0%|          | 0/1000 [00:00<?, ?it/s]"
      ]
     },
     "metadata": {},
     "output_type": "display_data"
    },
    {
     "name": "stderr",
     "output_type": "stream",
     "text": [
      "\r",
      " 17%|█▋        | 171/1000 [00:39<03:19,  4.16it/s]"
     ]
    },
    {
     "data": {
      "application/vnd.jupyter.widget-view+json": {
       "model_id": "2188d39089a946da8043e9d1f15f9a58",
       "version_major": 2,
       "version_minor": 0
      },
      "text/plain": [
       "  0%|          | 0/1000 [00:00<?, ?it/s]"
      ]
     },
     "metadata": {},
     "output_type": "display_data"
    },
    {
     "name": "stderr",
     "output_type": "stream",
     "text": [
      "\r",
      " 17%|█▋        | 172/1000 [00:39<03:16,  4.20it/s]"
     ]
    },
    {
     "data": {
      "application/vnd.jupyter.widget-view+json": {
       "model_id": "d7e4622b83af41f48ba5543e0390581b",
       "version_major": 2,
       "version_minor": 0
      },
      "text/plain": [
       "  0%|          | 0/1000 [00:00<?, ?it/s]"
      ]
     },
     "metadata": {},
     "output_type": "display_data"
    },
    {
     "name": "stderr",
     "output_type": "stream",
     "text": [
      "\r",
      " 17%|█▋        | 173/1000 [00:40<03:19,  4.14it/s]"
     ]
    },
    {
     "data": {
      "application/vnd.jupyter.widget-view+json": {
       "model_id": "21d54a709fbe480b935cdc44adbfcb5e",
       "version_major": 2,
       "version_minor": 0
      },
      "text/plain": [
       "  0%|          | 0/1000 [00:00<?, ?it/s]"
      ]
     },
     "metadata": {},
     "output_type": "display_data"
    },
    {
     "name": "stderr",
     "output_type": "stream",
     "text": [
      "\r",
      " 17%|█▋        | 174/1000 [00:40<03:19,  4.13it/s]"
     ]
    },
    {
     "data": {
      "application/vnd.jupyter.widget-view+json": {
       "model_id": "9407af6f9d6d475eb0dbab77bb6996a7",
       "version_major": 2,
       "version_minor": 0
      },
      "text/plain": [
       "  0%|          | 0/1000 [00:00<?, ?it/s]"
      ]
     },
     "metadata": {},
     "output_type": "display_data"
    },
    {
     "name": "stderr",
     "output_type": "stream",
     "text": [
      "\r",
      " 18%|█▊        | 175/1000 [00:40<03:19,  4.14it/s]"
     ]
    },
    {
     "data": {
      "application/vnd.jupyter.widget-view+json": {
       "model_id": "a2581b33e1504ccba6775a944f4aa26d",
       "version_major": 2,
       "version_minor": 0
      },
      "text/plain": [
       "  0%|          | 0/1000 [00:00<?, ?it/s]"
      ]
     },
     "metadata": {},
     "output_type": "display_data"
    },
    {
     "name": "stderr",
     "output_type": "stream",
     "text": [
      "\r",
      " 18%|█▊        | 176/1000 [00:40<03:19,  4.14it/s]"
     ]
    },
    {
     "data": {
      "application/vnd.jupyter.widget-view+json": {
       "model_id": "935d9e84e78643b6a2f041dabc331b2c",
       "version_major": 2,
       "version_minor": 0
      },
      "text/plain": [
       "  0%|          | 0/1000 [00:00<?, ?it/s]"
      ]
     },
     "metadata": {},
     "output_type": "display_data"
    },
    {
     "name": "stderr",
     "output_type": "stream",
     "text": [
      "\r",
      " 18%|█▊        | 177/1000 [00:41<03:15,  4.20it/s]"
     ]
    },
    {
     "data": {
      "application/vnd.jupyter.widget-view+json": {
       "model_id": "bbdcb9abb33242bfa1d0e978e245d1d9",
       "version_major": 2,
       "version_minor": 0
      },
      "text/plain": [
       "  0%|          | 0/1000 [00:00<?, ?it/s]"
      ]
     },
     "metadata": {},
     "output_type": "display_data"
    },
    {
     "name": "stderr",
     "output_type": "stream",
     "text": [
      "\r",
      " 18%|█▊        | 178/1000 [00:41<03:16,  4.19it/s]"
     ]
    },
    {
     "data": {
      "application/vnd.jupyter.widget-view+json": {
       "model_id": "4e9dc7c383de46c0b715cf579400d44c",
       "version_major": 2,
       "version_minor": 0
      },
      "text/plain": [
       "  0%|          | 0/1000 [00:00<?, ?it/s]"
      ]
     },
     "metadata": {},
     "output_type": "display_data"
    },
    {
     "name": "stderr",
     "output_type": "stream",
     "text": [
      "\r",
      " 18%|█▊        | 179/1000 [00:41<03:16,  4.17it/s]"
     ]
    },
    {
     "data": {
      "application/vnd.jupyter.widget-view+json": {
       "model_id": "d99f20d1bf144957b5024832588b4588",
       "version_major": 2,
       "version_minor": 0
      },
      "text/plain": [
       "  0%|          | 0/1000 [00:00<?, ?it/s]"
      ]
     },
     "metadata": {},
     "output_type": "display_data"
    },
    {
     "name": "stderr",
     "output_type": "stream",
     "text": [
      "\r",
      " 18%|█▊        | 180/1000 [00:41<03:21,  4.07it/s]"
     ]
    },
    {
     "data": {
      "application/vnd.jupyter.widget-view+json": {
       "model_id": "e2b04811abd3400281dac37d57178ccd",
       "version_major": 2,
       "version_minor": 0
      },
      "text/plain": [
       "  0%|          | 0/1000 [00:00<?, ?it/s]"
      ]
     },
     "metadata": {},
     "output_type": "display_data"
    },
    {
     "name": "stderr",
     "output_type": "stream",
     "text": [
      "\r",
      " 18%|█▊        | 181/1000 [00:42<03:19,  4.10it/s]"
     ]
    },
    {
     "data": {
      "application/vnd.jupyter.widget-view+json": {
       "model_id": "15930b3c7c3541e1a95243ea77f9a54a",
       "version_major": 2,
       "version_minor": 0
      },
      "text/plain": [
       "  0%|          | 0/1000 [00:00<?, ?it/s]"
      ]
     },
     "metadata": {},
     "output_type": "display_data"
    },
    {
     "name": "stderr",
     "output_type": "stream",
     "text": [
      "\r",
      " 18%|█▊        | 182/1000 [00:42<03:19,  4.09it/s]"
     ]
    },
    {
     "data": {
      "application/vnd.jupyter.widget-view+json": {
       "model_id": "1d9635019fc14409b7f95723b9aba3a0",
       "version_major": 2,
       "version_minor": 0
      },
      "text/plain": [
       "  0%|          | 0/1000 [00:00<?, ?it/s]"
      ]
     },
     "metadata": {},
     "output_type": "display_data"
    },
    {
     "name": "stderr",
     "output_type": "stream",
     "text": [
      "\r",
      " 18%|█▊        | 183/1000 [00:42<03:16,  4.16it/s]"
     ]
    },
    {
     "data": {
      "application/vnd.jupyter.widget-view+json": {
       "model_id": "d2aec755d3df447fae8c8ca6e0fbbf17",
       "version_major": 2,
       "version_minor": 0
      },
      "text/plain": [
       "  0%|          | 0/1000 [00:00<?, ?it/s]"
      ]
     },
     "metadata": {},
     "output_type": "display_data"
    },
    {
     "name": "stderr",
     "output_type": "stream",
     "text": [
      "\r",
      " 18%|█▊        | 184/1000 [00:42<03:13,  4.21it/s]"
     ]
    },
    {
     "data": {
      "application/vnd.jupyter.widget-view+json": {
       "model_id": "49edee86602e4450a7e06b40ee0300f6",
       "version_major": 2,
       "version_minor": 0
      },
      "text/plain": [
       "  0%|          | 0/1000 [00:00<?, ?it/s]"
      ]
     },
     "metadata": {},
     "output_type": "display_data"
    },
    {
     "name": "stderr",
     "output_type": "stream",
     "text": [
      "\r",
      " 18%|█▊        | 185/1000 [00:42<03:16,  4.14it/s]"
     ]
    },
    {
     "data": {
      "application/vnd.jupyter.widget-view+json": {
       "model_id": "0ecad2a676b947c0b99b8a8aff9c3473",
       "version_major": 2,
       "version_minor": 0
      },
      "text/plain": [
       "  0%|          | 0/1000 [00:00<?, ?it/s]"
      ]
     },
     "metadata": {},
     "output_type": "display_data"
    },
    {
     "name": "stderr",
     "output_type": "stream",
     "text": [
      "\r",
      " 19%|█▊        | 186/1000 [00:43<03:16,  4.14it/s]"
     ]
    },
    {
     "data": {
      "application/vnd.jupyter.widget-view+json": {
       "model_id": "24c16a718f6b48ff98997e3986c88913",
       "version_major": 2,
       "version_minor": 0
      },
      "text/plain": [
       "  0%|          | 0/1000 [00:00<?, ?it/s]"
      ]
     },
     "metadata": {},
     "output_type": "display_data"
    },
    {
     "name": "stderr",
     "output_type": "stream",
     "text": [
      "\r",
      " 19%|█▊        | 187/1000 [00:43<03:16,  4.13it/s]"
     ]
    },
    {
     "data": {
      "application/vnd.jupyter.widget-view+json": {
       "model_id": "7eef91145aff4e1d90cbabfcf8c271b4",
       "version_major": 2,
       "version_minor": 0
      },
      "text/plain": [
       "  0%|          | 0/1000 [00:00<?, ?it/s]"
      ]
     },
     "metadata": {},
     "output_type": "display_data"
    },
    {
     "name": "stderr",
     "output_type": "stream",
     "text": [
      "\r",
      " 19%|█▉        | 188/1000 [00:43<03:13,  4.19it/s]"
     ]
    },
    {
     "data": {
      "application/vnd.jupyter.widget-view+json": {
       "model_id": "2ce19563c8424bb4984bfac29a2112c1",
       "version_major": 2,
       "version_minor": 0
      },
      "text/plain": [
       "  0%|          | 0/1000 [00:00<?, ?it/s]"
      ]
     },
     "metadata": {},
     "output_type": "display_data"
    },
    {
     "name": "stderr",
     "output_type": "stream",
     "text": [
      "\r",
      " 19%|█▉        | 189/1000 [00:43<03:12,  4.21it/s]"
     ]
    },
    {
     "data": {
      "application/vnd.jupyter.widget-view+json": {
       "model_id": "4cca5ce758634bbfadf6db4b921bc5db",
       "version_major": 2,
       "version_minor": 0
      },
      "text/plain": [
       "  0%|          | 0/1000 [00:00<?, ?it/s]"
      ]
     },
     "metadata": {},
     "output_type": "display_data"
    },
    {
     "name": "stderr",
     "output_type": "stream",
     "text": [
      "\r",
      " 19%|█▉        | 190/1000 [00:44<03:17,  4.10it/s]"
     ]
    },
    {
     "data": {
      "application/vnd.jupyter.widget-view+json": {
       "model_id": "6b64449cfecc43bab506f72449e541df",
       "version_major": 2,
       "version_minor": 0
      },
      "text/plain": [
       "  0%|          | 0/1000 [00:00<?, ?it/s]"
      ]
     },
     "metadata": {},
     "output_type": "display_data"
    },
    {
     "name": "stderr",
     "output_type": "stream",
     "text": [
      "\r",
      " 19%|█▉        | 191/1000 [00:44<03:13,  4.18it/s]"
     ]
    },
    {
     "data": {
      "application/vnd.jupyter.widget-view+json": {
       "model_id": "d40f4273ff7d46d2b61d7c94c5bb9a23",
       "version_major": 2,
       "version_minor": 0
      },
      "text/plain": [
       "  0%|          | 0/1000 [00:00<?, ?it/s]"
      ]
     },
     "metadata": {},
     "output_type": "display_data"
    },
    {
     "name": "stderr",
     "output_type": "stream",
     "text": [
      "\r",
      " 19%|█▉        | 192/1000 [00:44<03:11,  4.21it/s]"
     ]
    },
    {
     "data": {
      "application/vnd.jupyter.widget-view+json": {
       "model_id": "0b4ddae1e61b41d5adea1101a92e76ec",
       "version_major": 2,
       "version_minor": 0
      },
      "text/plain": [
       "  0%|          | 0/1000 [00:00<?, ?it/s]"
      ]
     },
     "metadata": {},
     "output_type": "display_data"
    },
    {
     "name": "stderr",
     "output_type": "stream",
     "text": [
      "\r",
      " 19%|█▉        | 193/1000 [00:44<03:09,  4.25it/s]"
     ]
    },
    {
     "data": {
      "application/vnd.jupyter.widget-view+json": {
       "model_id": "b8524abe283846ecafeeb3d15023fb54",
       "version_major": 2,
       "version_minor": 0
      },
      "text/plain": [
       "  0%|          | 0/1000 [00:00<?, ?it/s]"
      ]
     },
     "metadata": {},
     "output_type": "display_data"
    },
    {
     "name": "stderr",
     "output_type": "stream",
     "text": [
      "\r",
      " 19%|█▉        | 194/1000 [00:45<03:11,  4.22it/s]"
     ]
    },
    {
     "data": {
      "application/vnd.jupyter.widget-view+json": {
       "model_id": "702f932745f24098aea18f47fe7585fe",
       "version_major": 2,
       "version_minor": 0
      },
      "text/plain": [
       "  0%|          | 0/1000 [00:00<?, ?it/s]"
      ]
     },
     "metadata": {},
     "output_type": "display_data"
    },
    {
     "name": "stderr",
     "output_type": "stream",
     "text": [
      "\r",
      " 20%|█▉        | 195/1000 [00:45<03:10,  4.23it/s]"
     ]
    },
    {
     "data": {
      "application/vnd.jupyter.widget-view+json": {
       "model_id": "74b1eb7073b14ba180a0b44fde7b0e25",
       "version_major": 2,
       "version_minor": 0
      },
      "text/plain": [
       "  0%|          | 0/1000 [00:00<?, ?it/s]"
      ]
     },
     "metadata": {},
     "output_type": "display_data"
    },
    {
     "name": "stderr",
     "output_type": "stream",
     "text": [
      "\r",
      " 20%|█▉        | 196/1000 [00:45<03:12,  4.17it/s]"
     ]
    },
    {
     "data": {
      "application/vnd.jupyter.widget-view+json": {
       "model_id": "453b5be705d344b0a23c542d88e5df7e",
       "version_major": 2,
       "version_minor": 0
      },
      "text/plain": [
       "  0%|          | 0/1000 [00:00<?, ?it/s]"
      ]
     },
     "metadata": {},
     "output_type": "display_data"
    },
    {
     "name": "stderr",
     "output_type": "stream",
     "text": [
      "\r",
      " 20%|█▉        | 197/1000 [00:45<03:14,  4.14it/s]"
     ]
    },
    {
     "data": {
      "application/vnd.jupyter.widget-view+json": {
       "model_id": "f189f6a63c55417ab6d1843dda345abd",
       "version_major": 2,
       "version_minor": 0
      },
      "text/plain": [
       "  0%|          | 0/1000 [00:00<?, ?it/s]"
      ]
     },
     "metadata": {},
     "output_type": "display_data"
    },
    {
     "name": "stderr",
     "output_type": "stream",
     "text": [
      "\r",
      " 20%|█▉        | 198/1000 [00:46<03:18,  4.05it/s]"
     ]
    },
    {
     "data": {
      "application/vnd.jupyter.widget-view+json": {
       "model_id": "aaf858c61e6240cead3ebe32b2a3b691",
       "version_major": 2,
       "version_minor": 0
      },
      "text/plain": [
       "  0%|          | 0/1000 [00:00<?, ?it/s]"
      ]
     },
     "metadata": {},
     "output_type": "display_data"
    },
    {
     "name": "stderr",
     "output_type": "stream",
     "text": [
      "\r",
      " 20%|█▉        | 199/1000 [00:46<03:18,  4.03it/s]"
     ]
    },
    {
     "data": {
      "application/vnd.jupyter.widget-view+json": {
       "model_id": "643d6d73ad854824ab6b019ad0fd2698",
       "version_major": 2,
       "version_minor": 0
      },
      "text/plain": [
       "  0%|          | 0/1000 [00:00<?, ?it/s]"
      ]
     },
     "metadata": {},
     "output_type": "display_data"
    },
    {
     "name": "stderr",
     "output_type": "stream",
     "text": [
      "\r",
      " 20%|██        | 200/1000 [00:46<03:19,  4.02it/s]"
     ]
    },
    {
     "data": {
      "application/vnd.jupyter.widget-view+json": {
       "model_id": "be0cc24cffdd423a84fe5743be0f6267",
       "version_major": 2,
       "version_minor": 0
      },
      "text/plain": [
       "  0%|          | 0/1000 [00:00<?, ?it/s]"
      ]
     },
     "metadata": {},
     "output_type": "display_data"
    },
    {
     "name": "stderr",
     "output_type": "stream",
     "text": [
      "\r",
      " 20%|██        | 201/1000 [00:46<03:20,  3.99it/s]"
     ]
    },
    {
     "data": {
      "application/vnd.jupyter.widget-view+json": {
       "model_id": "0b65b63a7aff40d394d08f8e7be4e4ad",
       "version_major": 2,
       "version_minor": 0
      },
      "text/plain": [
       "  0%|          | 0/1000 [00:00<?, ?it/s]"
      ]
     },
     "metadata": {},
     "output_type": "display_data"
    },
    {
     "name": "stderr",
     "output_type": "stream",
     "text": [
      "\r",
      " 20%|██        | 202/1000 [00:47<03:22,  3.95it/s]"
     ]
    },
    {
     "data": {
      "application/vnd.jupyter.widget-view+json": {
       "model_id": "12cce7bb7cbe424bb11ff006da888acf",
       "version_major": 2,
       "version_minor": 0
      },
      "text/plain": [
       "  0%|          | 0/1000 [00:00<?, ?it/s]"
      ]
     },
     "metadata": {},
     "output_type": "display_data"
    },
    {
     "name": "stderr",
     "output_type": "stream",
     "text": [
      "\r",
      " 20%|██        | 203/1000 [00:47<03:19,  4.00it/s]"
     ]
    },
    {
     "data": {
      "application/vnd.jupyter.widget-view+json": {
       "model_id": "8c727bb6d72345458f703bc2d92a7fb7",
       "version_major": 2,
       "version_minor": 0
      },
      "text/plain": [
       "  0%|          | 0/1000 [00:00<?, ?it/s]"
      ]
     },
     "metadata": {},
     "output_type": "display_data"
    },
    {
     "name": "stderr",
     "output_type": "stream",
     "text": [
      "\r",
      " 20%|██        | 204/1000 [00:47<03:17,  4.03it/s]"
     ]
    },
    {
     "data": {
      "application/vnd.jupyter.widget-view+json": {
       "model_id": "a2e2b37a7c5f47ff9dfde8047e1c7b4a",
       "version_major": 2,
       "version_minor": 0
      },
      "text/plain": [
       "  0%|          | 0/1000 [00:00<?, ?it/s]"
      ]
     },
     "metadata": {},
     "output_type": "display_data"
    },
    {
     "name": "stderr",
     "output_type": "stream",
     "text": [
      "\r",
      " 20%|██        | 205/1000 [00:47<03:14,  4.08it/s]"
     ]
    },
    {
     "data": {
      "application/vnd.jupyter.widget-view+json": {
       "model_id": "de311af4050d4eb1990c8fd9c5d7896e",
       "version_major": 2,
       "version_minor": 0
      },
      "text/plain": [
       "  0%|          | 0/1000 [00:00<?, ?it/s]"
      ]
     },
     "metadata": {},
     "output_type": "display_data"
    },
    {
     "name": "stderr",
     "output_type": "stream",
     "text": [
      "\r",
      " 21%|██        | 206/1000 [00:48<03:16,  4.03it/s]"
     ]
    },
    {
     "data": {
      "application/vnd.jupyter.widget-view+json": {
       "model_id": "aeef527b08944de8a87f2f8e4efa614b",
       "version_major": 2,
       "version_minor": 0
      },
      "text/plain": [
       "  0%|          | 0/1000 [00:00<?, ?it/s]"
      ]
     },
     "metadata": {},
     "output_type": "display_data"
    },
    {
     "name": "stderr",
     "output_type": "stream",
     "text": [
      "\r",
      " 21%|██        | 207/1000 [00:48<03:16,  4.04it/s]"
     ]
    },
    {
     "data": {
      "application/vnd.jupyter.widget-view+json": {
       "model_id": "f7b48aa21b7548a1a372e80f42e4f453",
       "version_major": 2,
       "version_minor": 0
      },
      "text/plain": [
       "  0%|          | 0/1000 [00:00<?, ?it/s]"
      ]
     },
     "metadata": {},
     "output_type": "display_data"
    },
    {
     "name": "stderr",
     "output_type": "stream",
     "text": [
      "\r",
      " 21%|██        | 208/1000 [00:48<03:16,  4.03it/s]"
     ]
    },
    {
     "data": {
      "application/vnd.jupyter.widget-view+json": {
       "model_id": "baa41937bc8944e7a8ce8c568ff15975",
       "version_major": 2,
       "version_minor": 0
      },
      "text/plain": [
       "  0%|          | 0/1000 [00:00<?, ?it/s]"
      ]
     },
     "metadata": {},
     "output_type": "display_data"
    },
    {
     "name": "stderr",
     "output_type": "stream",
     "text": [
      "\r",
      " 21%|██        | 209/1000 [00:48<03:14,  4.07it/s]"
     ]
    },
    {
     "data": {
      "application/vnd.jupyter.widget-view+json": {
       "model_id": "8ae61775195644898d3bc1d9b3955b07",
       "version_major": 2,
       "version_minor": 0
      },
      "text/plain": [
       "  0%|          | 0/1000 [00:00<?, ?it/s]"
      ]
     },
     "metadata": {},
     "output_type": "display_data"
    },
    {
     "name": "stderr",
     "output_type": "stream",
     "text": [
      "\r",
      " 21%|██        | 210/1000 [00:49<03:13,  4.08it/s]"
     ]
    },
    {
     "data": {
      "application/vnd.jupyter.widget-view+json": {
       "model_id": "b1b36f9d1b94429a8efa012d811e6ecb",
       "version_major": 2,
       "version_minor": 0
      },
      "text/plain": [
       "  0%|          | 0/1000 [00:00<?, ?it/s]"
      ]
     },
     "metadata": {},
     "output_type": "display_data"
    },
    {
     "name": "stderr",
     "output_type": "stream",
     "text": [
      "\r",
      " 21%|██        | 211/1000 [00:49<03:13,  4.07it/s]"
     ]
    },
    {
     "data": {
      "application/vnd.jupyter.widget-view+json": {
       "model_id": "e1d1df37586f4ba0aa43ce58dc0ef1c6",
       "version_major": 2,
       "version_minor": 0
      },
      "text/plain": [
       "  0%|          | 0/1000 [00:00<?, ?it/s]"
      ]
     },
     "metadata": {},
     "output_type": "display_data"
    },
    {
     "name": "stderr",
     "output_type": "stream",
     "text": [
      "\r",
      " 21%|██        | 212/1000 [00:49<03:13,  4.07it/s]"
     ]
    },
    {
     "data": {
      "application/vnd.jupyter.widget-view+json": {
       "model_id": "3d149ae954d64f7f833b1806ced30ecf",
       "version_major": 2,
       "version_minor": 0
      },
      "text/plain": [
       "  0%|          | 0/1000 [00:00<?, ?it/s]"
      ]
     },
     "metadata": {},
     "output_type": "display_data"
    },
    {
     "name": "stderr",
     "output_type": "stream",
     "text": [
      "\r",
      " 21%|██▏       | 213/1000 [00:49<03:12,  4.09it/s]"
     ]
    },
    {
     "data": {
      "application/vnd.jupyter.widget-view+json": {
       "model_id": "5f01b6fd836e4dfe85f6db1e74d3717c",
       "version_major": 2,
       "version_minor": 0
      },
      "text/plain": [
       "  0%|          | 0/1000 [00:00<?, ?it/s]"
      ]
     },
     "metadata": {},
     "output_type": "display_data"
    },
    {
     "name": "stderr",
     "output_type": "stream",
     "text": [
      "\r",
      " 21%|██▏       | 214/1000 [00:50<03:16,  4.00it/s]"
     ]
    },
    {
     "data": {
      "application/vnd.jupyter.widget-view+json": {
       "model_id": "323ab1f5a89c45748af850156e0ef824",
       "version_major": 2,
       "version_minor": 0
      },
      "text/plain": [
       "  0%|          | 0/1000 [00:00<?, ?it/s]"
      ]
     },
     "metadata": {},
     "output_type": "display_data"
    },
    {
     "name": "stderr",
     "output_type": "stream",
     "text": [
      "\r",
      " 22%|██▏       | 215/1000 [00:50<03:20,  3.91it/s]"
     ]
    },
    {
     "data": {
      "application/vnd.jupyter.widget-view+json": {
       "model_id": "77df46047f6142108b6796edfcbba39c",
       "version_major": 2,
       "version_minor": 0
      },
      "text/plain": [
       "  0%|          | 0/1000 [00:00<?, ?it/s]"
      ]
     },
     "metadata": {},
     "output_type": "display_data"
    },
    {
     "name": "stderr",
     "output_type": "stream",
     "text": [
      "\r",
      " 22%|██▏       | 216/1000 [00:50<03:20,  3.91it/s]"
     ]
    },
    {
     "data": {
      "application/vnd.jupyter.widget-view+json": {
       "model_id": "cc192173fa344d4c934d3c203d0a9c3e",
       "version_major": 2,
       "version_minor": 0
      },
      "text/plain": [
       "  0%|          | 0/1000 [00:00<?, ?it/s]"
      ]
     },
     "metadata": {},
     "output_type": "display_data"
    },
    {
     "name": "stderr",
     "output_type": "stream",
     "text": [
      "\r",
      " 22%|██▏       | 217/1000 [00:50<03:18,  3.94it/s]"
     ]
    },
    {
     "data": {
      "application/vnd.jupyter.widget-view+json": {
       "model_id": "413ef589353643e1b2805c7cc36f27c0",
       "version_major": 2,
       "version_minor": 0
      },
      "text/plain": [
       "  0%|          | 0/1000 [00:00<?, ?it/s]"
      ]
     },
     "metadata": {},
     "output_type": "display_data"
    },
    {
     "name": "stderr",
     "output_type": "stream",
     "text": [
      "\r",
      " 22%|██▏       | 218/1000 [00:51<03:16,  3.98it/s]"
     ]
    },
    {
     "data": {
      "application/vnd.jupyter.widget-view+json": {
       "model_id": "3ec9d3407a234cc290d6dfa86a1b80a0",
       "version_major": 2,
       "version_minor": 0
      },
      "text/plain": [
       "  0%|          | 0/1000 [00:00<?, ?it/s]"
      ]
     },
     "metadata": {},
     "output_type": "display_data"
    },
    {
     "name": "stderr",
     "output_type": "stream",
     "text": [
      "\r",
      " 22%|██▏       | 219/1000 [00:51<03:15,  4.00it/s]"
     ]
    },
    {
     "data": {
      "application/vnd.jupyter.widget-view+json": {
       "model_id": "6271353e7af342ef8adc209fba3c6837",
       "version_major": 2,
       "version_minor": 0
      },
      "text/plain": [
       "  0%|          | 0/1000 [00:00<?, ?it/s]"
      ]
     },
     "metadata": {},
     "output_type": "display_data"
    },
    {
     "name": "stderr",
     "output_type": "stream",
     "text": [
      "\r",
      " 22%|██▏       | 220/1000 [00:51<03:17,  3.95it/s]"
     ]
    },
    {
     "data": {
      "application/vnd.jupyter.widget-view+json": {
       "model_id": "eb1e72a8b19343bf95965c1ac59600ad",
       "version_major": 2,
       "version_minor": 0
      },
      "text/plain": [
       "  0%|          | 0/1000 [00:00<?, ?it/s]"
      ]
     },
     "metadata": {},
     "output_type": "display_data"
    },
    {
     "name": "stderr",
     "output_type": "stream",
     "text": [
      "\r",
      " 22%|██▏       | 221/1000 [00:51<03:12,  4.04it/s]"
     ]
    },
    {
     "data": {
      "application/vnd.jupyter.widget-view+json": {
       "model_id": "98c34a3a9728427d9864f50fbcef5d18",
       "version_major": 2,
       "version_minor": 0
      },
      "text/plain": [
       "  0%|          | 0/1000 [00:00<?, ?it/s]"
      ]
     },
     "metadata": {},
     "output_type": "display_data"
    },
    {
     "name": "stderr",
     "output_type": "stream",
     "text": [
      "\r",
      " 22%|██▏       | 222/1000 [00:52<03:14,  4.01it/s]"
     ]
    },
    {
     "data": {
      "application/vnd.jupyter.widget-view+json": {
       "model_id": "cc8ddab9b2204c7eb3d15f32bd9f320a",
       "version_major": 2,
       "version_minor": 0
      },
      "text/plain": [
       "  0%|          | 0/1000 [00:00<?, ?it/s]"
      ]
     },
     "metadata": {},
     "output_type": "display_data"
    },
    {
     "name": "stderr",
     "output_type": "stream",
     "text": [
      "\r",
      " 22%|██▏       | 223/1000 [00:52<03:17,  3.94it/s]"
     ]
    },
    {
     "data": {
      "application/vnd.jupyter.widget-view+json": {
       "model_id": "f09c0940c4f14d8f92745864fa7e0a06",
       "version_major": 2,
       "version_minor": 0
      },
      "text/plain": [
       "  0%|          | 0/1000 [00:00<?, ?it/s]"
      ]
     },
     "metadata": {},
     "output_type": "display_data"
    },
    {
     "name": "stderr",
     "output_type": "stream",
     "text": [
      "\r",
      " 22%|██▏       | 224/1000 [00:52<03:18,  3.91it/s]"
     ]
    },
    {
     "data": {
      "application/vnd.jupyter.widget-view+json": {
       "model_id": "4866b4b611ac440f996a6102c88d857b",
       "version_major": 2,
       "version_minor": 0
      },
      "text/plain": [
       "  0%|          | 0/1000 [00:00<?, ?it/s]"
      ]
     },
     "metadata": {},
     "output_type": "display_data"
    },
    {
     "name": "stderr",
     "output_type": "stream",
     "text": [
      "\r",
      " 22%|██▎       | 225/1000 [00:52<03:18,  3.90it/s]"
     ]
    },
    {
     "data": {
      "application/vnd.jupyter.widget-view+json": {
       "model_id": "308f02d74676485fb7848ee6aac9c411",
       "version_major": 2,
       "version_minor": 0
      },
      "text/plain": [
       "  0%|          | 0/1000 [00:00<?, ?it/s]"
      ]
     },
     "metadata": {},
     "output_type": "display_data"
    },
    {
     "name": "stderr",
     "output_type": "stream",
     "text": [
      "\r",
      " 23%|██▎       | 226/1000 [00:53<03:14,  3.98it/s]"
     ]
    },
    {
     "data": {
      "application/vnd.jupyter.widget-view+json": {
       "model_id": "b4c824f1bb84488ab515369e90d9947d",
       "version_major": 2,
       "version_minor": 0
      },
      "text/plain": [
       "  0%|          | 0/1000 [00:00<?, ?it/s]"
      ]
     },
     "metadata": {},
     "output_type": "display_data"
    },
    {
     "name": "stderr",
     "output_type": "stream",
     "text": [
      "\r",
      " 23%|██▎       | 227/1000 [00:53<03:42,  3.47it/s]"
     ]
    },
    {
     "data": {
      "application/vnd.jupyter.widget-view+json": {
       "model_id": "4d01c6535a184aafa1617b46b6751770",
       "version_major": 2,
       "version_minor": 0
      },
      "text/plain": [
       "  0%|          | 0/1000 [00:00<?, ?it/s]"
      ]
     },
     "metadata": {},
     "output_type": "display_data"
    },
    {
     "name": "stderr",
     "output_type": "stream",
     "text": [
      "\r",
      " 23%|██▎       | 228/1000 [00:53<03:28,  3.70it/s]"
     ]
    },
    {
     "data": {
      "application/vnd.jupyter.widget-view+json": {
       "model_id": "2233ae960c564bc7a15af49f06ad4b52",
       "version_major": 2,
       "version_minor": 0
      },
      "text/plain": [
       "  0%|          | 0/1000 [00:00<?, ?it/s]"
      ]
     },
     "metadata": {},
     "output_type": "display_data"
    },
    {
     "name": "stderr",
     "output_type": "stream",
     "text": [
      "\r",
      " 23%|██▎       | 229/1000 [00:54<03:48,  3.37it/s]"
     ]
    },
    {
     "data": {
      "application/vnd.jupyter.widget-view+json": {
       "model_id": "8c15d8b9074c4df789b4fc74e8b996ef",
       "version_major": 2,
       "version_minor": 0
      },
      "text/plain": [
       "  0%|          | 0/1000 [00:00<?, ?it/s]"
      ]
     },
     "metadata": {},
     "output_type": "display_data"
    },
    {
     "name": "stderr",
     "output_type": "stream",
     "text": [
      "\r",
      " 23%|██▎       | 230/1000 [00:54<03:36,  3.55it/s]"
     ]
    },
    {
     "data": {
      "application/vnd.jupyter.widget-view+json": {
       "model_id": "10558b0d27844b46929db4e118201a56",
       "version_major": 2,
       "version_minor": 0
      },
      "text/plain": [
       "  0%|          | 0/1000 [00:00<?, ?it/s]"
      ]
     },
     "metadata": {},
     "output_type": "display_data"
    },
    {
     "name": "stderr",
     "output_type": "stream",
     "text": [
      "\r",
      " 23%|██▎       | 231/1000 [00:54<03:26,  3.73it/s]"
     ]
    },
    {
     "data": {
      "application/vnd.jupyter.widget-view+json": {
       "model_id": "77a8b75c83fa428a90e16760cebbee9f",
       "version_major": 2,
       "version_minor": 0
      },
      "text/plain": [
       "  0%|          | 0/1000 [00:00<?, ?it/s]"
      ]
     },
     "metadata": {},
     "output_type": "display_data"
    },
    {
     "name": "stderr",
     "output_type": "stream",
     "text": [
      "\r",
      " 23%|██▎       | 232/1000 [00:54<03:22,  3.79it/s]"
     ]
    },
    {
     "data": {
      "application/vnd.jupyter.widget-view+json": {
       "model_id": "87d966369aea49c8b5a866b19d56e61f",
       "version_major": 2,
       "version_minor": 0
      },
      "text/plain": [
       "  0%|          | 0/1000 [00:00<?, ?it/s]"
      ]
     },
     "metadata": {},
     "output_type": "display_data"
    },
    {
     "name": "stderr",
     "output_type": "stream",
     "text": [
      "\r",
      " 23%|██▎       | 233/1000 [00:55<03:16,  3.90it/s]"
     ]
    },
    {
     "data": {
      "application/vnd.jupyter.widget-view+json": {
       "model_id": "2b345d6a93b349f9929b4319458a903e",
       "version_major": 2,
       "version_minor": 0
      },
      "text/plain": [
       "  0%|          | 0/1000 [00:00<?, ?it/s]"
      ]
     },
     "metadata": {},
     "output_type": "display_data"
    },
    {
     "name": "stderr",
     "output_type": "stream",
     "text": [
      "\r",
      " 23%|██▎       | 234/1000 [00:55<03:10,  4.02it/s]"
     ]
    },
    {
     "data": {
      "application/vnd.jupyter.widget-view+json": {
       "model_id": "24d681ac63fd49d0897ef0a36becfc21",
       "version_major": 2,
       "version_minor": 0
      },
      "text/plain": [
       "  0%|          | 0/1000 [00:00<?, ?it/s]"
      ]
     },
     "metadata": {},
     "output_type": "display_data"
    },
    {
     "name": "stderr",
     "output_type": "stream",
     "text": [
      "\r",
      " 24%|██▎       | 235/1000 [00:55<03:06,  4.10it/s]"
     ]
    },
    {
     "data": {
      "application/vnd.jupyter.widget-view+json": {
       "model_id": "d535b4c8ea0e4619bde541b989388f3b",
       "version_major": 2,
       "version_minor": 0
      },
      "text/plain": [
       "  0%|          | 0/1000 [00:00<?, ?it/s]"
      ]
     },
     "metadata": {},
     "output_type": "display_data"
    },
    {
     "name": "stderr",
     "output_type": "stream",
     "text": [
      "\r",
      " 24%|██▎       | 236/1000 [00:55<03:01,  4.20it/s]"
     ]
    },
    {
     "data": {
      "application/vnd.jupyter.widget-view+json": {
       "model_id": "827319c23678496080f5ed10a2084147",
       "version_major": 2,
       "version_minor": 0
      },
      "text/plain": [
       "  0%|          | 0/1000 [00:00<?, ?it/s]"
      ]
     },
     "metadata": {},
     "output_type": "display_data"
    },
    {
     "name": "stderr",
     "output_type": "stream",
     "text": [
      "\r",
      " 24%|██▎       | 237/1000 [00:55<03:01,  4.21it/s]"
     ]
    },
    {
     "data": {
      "application/vnd.jupyter.widget-view+json": {
       "model_id": "b2ce695045bc48ec815e54f04f64ec12",
       "version_major": 2,
       "version_minor": 0
      },
      "text/plain": [
       "  0%|          | 0/1000 [00:00<?, ?it/s]"
      ]
     },
     "metadata": {},
     "output_type": "display_data"
    },
    {
     "name": "stderr",
     "output_type": "stream",
     "text": [
      "\r",
      " 24%|██▍       | 238/1000 [00:56<03:29,  3.63it/s]"
     ]
    },
    {
     "data": {
      "application/vnd.jupyter.widget-view+json": {
       "model_id": "fa0e9daa253e4dd78ab79ed903eed665",
       "version_major": 2,
       "version_minor": 0
      },
      "text/plain": [
       "  0%|          | 0/1000 [00:00<?, ?it/s]"
      ]
     },
     "metadata": {},
     "output_type": "display_data"
    },
    {
     "name": "stderr",
     "output_type": "stream",
     "text": [
      "\r",
      " 24%|██▍       | 239/1000 [00:56<03:26,  3.69it/s]"
     ]
    },
    {
     "data": {
      "application/vnd.jupyter.widget-view+json": {
       "model_id": "a24a2cae07fc47938c9fb22b8d191962",
       "version_major": 2,
       "version_minor": 0
      },
      "text/plain": [
       "  0%|          | 0/1000 [00:00<?, ?it/s]"
      ]
     },
     "metadata": {},
     "output_type": "display_data"
    },
    {
     "name": "stderr",
     "output_type": "stream",
     "text": [
      "\r",
      " 24%|██▍       | 240/1000 [00:56<03:44,  3.38it/s]"
     ]
    },
    {
     "data": {
      "application/vnd.jupyter.widget-view+json": {
       "model_id": "dcafafe828d748528ed8e42eac6d646b",
       "version_major": 2,
       "version_minor": 0
      },
      "text/plain": [
       "  0%|          | 0/1000 [00:00<?, ?it/s]"
      ]
     },
     "metadata": {},
     "output_type": "display_data"
    },
    {
     "name": "stderr",
     "output_type": "stream",
     "text": [
      "\r",
      " 24%|██▍       | 241/1000 [00:57<03:33,  3.56it/s]"
     ]
    },
    {
     "data": {
      "application/vnd.jupyter.widget-view+json": {
       "model_id": "7e6d5bd390e8411b9e8ff82ebe881935",
       "version_major": 2,
       "version_minor": 0
      },
      "text/plain": [
       "  0%|          | 0/1000 [00:00<?, ?it/s]"
      ]
     },
     "metadata": {},
     "output_type": "display_data"
    },
    {
     "name": "stderr",
     "output_type": "stream",
     "text": [
      "\r",
      " 24%|██▍       | 242/1000 [00:57<03:24,  3.71it/s]"
     ]
    },
    {
     "data": {
      "application/vnd.jupyter.widget-view+json": {
       "model_id": "c3cce59f679641d49eb1598be659f1f4",
       "version_major": 2,
       "version_minor": 0
      },
      "text/plain": [
       "  0%|          | 0/1000 [00:00<?, ?it/s]"
      ]
     },
     "metadata": {},
     "output_type": "display_data"
    },
    {
     "name": "stderr",
     "output_type": "stream",
     "text": [
      "\r",
      " 24%|██▍       | 243/1000 [00:57<03:17,  3.84it/s]"
     ]
    },
    {
     "data": {
      "application/vnd.jupyter.widget-view+json": {
       "model_id": "74c33d90c3794860aefad2039d8cf291",
       "version_major": 2,
       "version_minor": 0
      },
      "text/plain": [
       "  0%|          | 0/1000 [00:00<?, ?it/s]"
      ]
     },
     "metadata": {},
     "output_type": "display_data"
    },
    {
     "name": "stderr",
     "output_type": "stream",
     "text": [
      "\r",
      " 24%|██▍       | 244/1000 [00:57<03:10,  3.96it/s]"
     ]
    },
    {
     "data": {
      "application/vnd.jupyter.widget-view+json": {
       "model_id": "e37da5bdb24242a6ad44aa196988dbc9",
       "version_major": 2,
       "version_minor": 0
      },
      "text/plain": [
       "  0%|          | 0/1000 [00:00<?, ?it/s]"
      ]
     },
     "metadata": {},
     "output_type": "display_data"
    },
    {
     "name": "stderr",
     "output_type": "stream",
     "text": [
      "\r",
      " 24%|██▍       | 245/1000 [00:58<03:11,  3.93it/s]"
     ]
    },
    {
     "data": {
      "application/vnd.jupyter.widget-view+json": {
       "model_id": "cdc6326d9591444596e11bb64b1a0f6d",
       "version_major": 2,
       "version_minor": 0
      },
      "text/plain": [
       "  0%|          | 0/1000 [00:00<?, ?it/s]"
      ]
     },
     "metadata": {},
     "output_type": "display_data"
    },
    {
     "name": "stderr",
     "output_type": "stream",
     "text": [
      "\r",
      " 25%|██▍       | 246/1000 [00:58<03:06,  4.05it/s]"
     ]
    },
    {
     "data": {
      "application/vnd.jupyter.widget-view+json": {
       "model_id": "c01fb4b27579435ab8b2afddfb065519",
       "version_major": 2,
       "version_minor": 0
      },
      "text/plain": [
       "  0%|          | 0/1000 [00:00<?, ?it/s]"
      ]
     },
     "metadata": {},
     "output_type": "display_data"
    },
    {
     "name": "stderr",
     "output_type": "stream",
     "text": [
      "\r",
      " 25%|██▍       | 247/1000 [00:58<03:06,  4.04it/s]"
     ]
    },
    {
     "data": {
      "application/vnd.jupyter.widget-view+json": {
       "model_id": "8e2850e0f12c49b28f306a747f981853",
       "version_major": 2,
       "version_minor": 0
      },
      "text/plain": [
       "  0%|          | 0/1000 [00:00<?, ?it/s]"
      ]
     },
     "metadata": {},
     "output_type": "display_data"
    },
    {
     "name": "stderr",
     "output_type": "stream",
     "text": [
      "\r",
      " 25%|██▍       | 248/1000 [00:58<03:04,  4.07it/s]"
     ]
    },
    {
     "data": {
      "application/vnd.jupyter.widget-view+json": {
       "model_id": "ff241cf7c5d44fd6a92f0d7e24b8a823",
       "version_major": 2,
       "version_minor": 0
      },
      "text/plain": [
       "  0%|          | 0/1000 [00:00<?, ?it/s]"
      ]
     },
     "metadata": {},
     "output_type": "display_data"
    },
    {
     "name": "stderr",
     "output_type": "stream",
     "text": [
      "\r",
      " 25%|██▍       | 249/1000 [00:59<03:03,  4.10it/s]"
     ]
    },
    {
     "data": {
      "application/vnd.jupyter.widget-view+json": {
       "model_id": "3f4ea78182fa47cb8b8b8ecb98b7b9c5",
       "version_major": 2,
       "version_minor": 0
      },
      "text/plain": [
       "  0%|          | 0/1000 [00:00<?, ?it/s]"
      ]
     },
     "metadata": {},
     "output_type": "display_data"
    },
    {
     "name": "stderr",
     "output_type": "stream",
     "text": [
      "\r",
      " 25%|██▌       | 250/1000 [00:59<03:02,  4.11it/s]"
     ]
    },
    {
     "data": {
      "application/vnd.jupyter.widget-view+json": {
       "model_id": "f2af1cfee22a44949308cab57361dc11",
       "version_major": 2,
       "version_minor": 0
      },
      "text/plain": [
       "  0%|          | 0/1000 [00:00<?, ?it/s]"
      ]
     },
     "metadata": {},
     "output_type": "display_data"
    },
    {
     "name": "stderr",
     "output_type": "stream",
     "text": [
      "\r",
      " 25%|██▌       | 251/1000 [00:59<03:24,  3.66it/s]"
     ]
    },
    {
     "data": {
      "application/vnd.jupyter.widget-view+json": {
       "model_id": "e525cc6760ad4947b2bf22b0acb4c225",
       "version_major": 2,
       "version_minor": 0
      },
      "text/plain": [
       "  0%|          | 0/1000 [00:00<?, ?it/s]"
      ]
     },
     "metadata": {},
     "output_type": "display_data"
    },
    {
     "name": "stderr",
     "output_type": "stream",
     "text": [
      "\r",
      " 25%|██▌       | 252/1000 [00:59<03:14,  3.85it/s]"
     ]
    },
    {
     "data": {
      "application/vnd.jupyter.widget-view+json": {
       "model_id": "5c10391ad2814104a6d57a3214339c21",
       "version_major": 2,
       "version_minor": 0
      },
      "text/plain": [
       "  0%|          | 0/1000 [00:00<?, ?it/s]"
      ]
     },
     "metadata": {},
     "output_type": "display_data"
    },
    {
     "name": "stderr",
     "output_type": "stream",
     "text": [
      "\r",
      " 25%|██▌       | 253/1000 [01:00<03:14,  3.83it/s]"
     ]
    },
    {
     "data": {
      "application/vnd.jupyter.widget-view+json": {
       "model_id": "26f7f4a1ffaf439a8e6c4b81c05b0c6c",
       "version_major": 2,
       "version_minor": 0
      },
      "text/plain": [
       "  0%|          | 0/1000 [00:00<?, ?it/s]"
      ]
     },
     "metadata": {},
     "output_type": "display_data"
    },
    {
     "name": "stderr",
     "output_type": "stream",
     "text": [
      "\r",
      " 25%|██▌       | 254/1000 [01:00<03:09,  3.94it/s]"
     ]
    },
    {
     "data": {
      "application/vnd.jupyter.widget-view+json": {
       "model_id": "1263ef3add0c4db28655fc6aed76e0ff",
       "version_major": 2,
       "version_minor": 0
      },
      "text/plain": [
       "  0%|          | 0/1000 [00:00<?, ?it/s]"
      ]
     },
     "metadata": {},
     "output_type": "display_data"
    },
    {
     "name": "stderr",
     "output_type": "stream",
     "text": [
      "\r",
      " 26%|██▌       | 255/1000 [01:00<03:32,  3.50it/s]"
     ]
    },
    {
     "data": {
      "application/vnd.jupyter.widget-view+json": {
       "model_id": "d9ff12378fae4eae9d2876cc3de23282",
       "version_major": 2,
       "version_minor": 0
      },
      "text/plain": [
       "  0%|          | 0/1000 [00:00<?, ?it/s]"
      ]
     },
     "metadata": {},
     "output_type": "display_data"
    },
    {
     "name": "stderr",
     "output_type": "stream",
     "text": [
      "\r",
      " 26%|██▌       | 256/1000 [01:01<03:19,  3.73it/s]"
     ]
    },
    {
     "data": {
      "application/vnd.jupyter.widget-view+json": {
       "model_id": "d138f8693f9747819719c397595d7e2f",
       "version_major": 2,
       "version_minor": 0
      },
      "text/plain": [
       "  0%|          | 0/1000 [00:00<?, ?it/s]"
      ]
     },
     "metadata": {},
     "output_type": "display_data"
    },
    {
     "name": "stderr",
     "output_type": "stream",
     "text": [
      "\r",
      " 26%|██▌       | 257/1000 [01:01<03:12,  3.87it/s]"
     ]
    },
    {
     "data": {
      "application/vnd.jupyter.widget-view+json": {
       "model_id": "8e5e98d18e034d7ba75da45ef89d7150",
       "version_major": 2,
       "version_minor": 0
      },
      "text/plain": [
       "  0%|          | 0/1000 [00:00<?, ?it/s]"
      ]
     },
     "metadata": {},
     "output_type": "display_data"
    },
    {
     "name": "stderr",
     "output_type": "stream",
     "text": [
      "\r",
      " 26%|██▌       | 258/1000 [01:01<03:11,  3.88it/s]"
     ]
    },
    {
     "data": {
      "application/vnd.jupyter.widget-view+json": {
       "model_id": "6ff0e418a9874414a5395f6f93d351be",
       "version_major": 2,
       "version_minor": 0
      },
      "text/plain": [
       "  0%|          | 0/1000 [00:00<?, ?it/s]"
      ]
     },
     "metadata": {},
     "output_type": "display_data"
    },
    {
     "name": "stderr",
     "output_type": "stream",
     "text": [
      "\r",
      " 26%|██▌       | 259/1000 [01:01<03:04,  4.02it/s]"
     ]
    },
    {
     "data": {
      "application/vnd.jupyter.widget-view+json": {
       "model_id": "935f012b0cb8438c93e43c6dde4e8ccf",
       "version_major": 2,
       "version_minor": 0
      },
      "text/plain": [
       "  0%|          | 0/1000 [00:00<?, ?it/s]"
      ]
     },
     "metadata": {},
     "output_type": "display_data"
    },
    {
     "name": "stderr",
     "output_type": "stream",
     "text": [
      "\r",
      " 26%|██▌       | 260/1000 [01:02<03:13,  3.82it/s]"
     ]
    },
    {
     "data": {
      "application/vnd.jupyter.widget-view+json": {
       "model_id": "aab1ad813e73488194bc63602b21a457",
       "version_major": 2,
       "version_minor": 0
      },
      "text/plain": [
       "  0%|          | 0/1000 [00:00<?, ?it/s]"
      ]
     },
     "metadata": {},
     "output_type": "display_data"
    },
    {
     "name": "stderr",
     "output_type": "stream",
     "text": [
      "\r",
      " 26%|██▌       | 261/1000 [01:02<03:22,  3.64it/s]"
     ]
    },
    {
     "data": {
      "application/vnd.jupyter.widget-view+json": {
       "model_id": "be9d43e3eeb4486d93933016652dd39e",
       "version_major": 2,
       "version_minor": 0
      },
      "text/plain": [
       "  0%|          | 0/1000 [00:00<?, ?it/s]"
      ]
     },
     "metadata": {},
     "output_type": "display_data"
    },
    {
     "name": "stderr",
     "output_type": "stream",
     "text": [
      "\r",
      " 26%|██▌       | 262/1000 [01:02<03:15,  3.78it/s]"
     ]
    },
    {
     "data": {
      "application/vnd.jupyter.widget-view+json": {
       "model_id": "973ef17b8db84d2b805d9998c3b79122",
       "version_major": 2,
       "version_minor": 0
      },
      "text/plain": [
       "  0%|          | 0/1000 [00:00<?, ?it/s]"
      ]
     },
     "metadata": {},
     "output_type": "display_data"
    },
    {
     "name": "stderr",
     "output_type": "stream",
     "text": [
      "\r",
      " 26%|██▋       | 263/1000 [01:02<03:08,  3.91it/s]"
     ]
    },
    {
     "data": {
      "application/vnd.jupyter.widget-view+json": {
       "model_id": "edcf43dad61a4459a79dae7023140e67",
       "version_major": 2,
       "version_minor": 0
      },
      "text/plain": [
       "  0%|          | 0/1000 [00:00<?, ?it/s]"
      ]
     },
     "metadata": {},
     "output_type": "display_data"
    },
    {
     "name": "stderr",
     "output_type": "stream",
     "text": [
      "\r",
      " 26%|██▋       | 264/1000 [01:03<03:05,  3.97it/s]"
     ]
    },
    {
     "data": {
      "application/vnd.jupyter.widget-view+json": {
       "model_id": "cbe30bb2ff48481cbe40a53f7faa0223",
       "version_major": 2,
       "version_minor": 0
      },
      "text/plain": [
       "  0%|          | 0/1000 [00:00<?, ?it/s]"
      ]
     },
     "metadata": {},
     "output_type": "display_data"
    },
    {
     "name": "stderr",
     "output_type": "stream",
     "text": [
      "\r",
      " 26%|██▋       | 265/1000 [01:03<03:10,  3.86it/s]"
     ]
    },
    {
     "data": {
      "application/vnd.jupyter.widget-view+json": {
       "model_id": "f7ef1c8151d24723b9c2ac2d60d6fd24",
       "version_major": 2,
       "version_minor": 0
      },
      "text/plain": [
       "  0%|          | 0/1000 [00:00<?, ?it/s]"
      ]
     },
     "metadata": {},
     "output_type": "display_data"
    },
    {
     "name": "stderr",
     "output_type": "stream",
     "text": [
      "\r",
      " 27%|██▋       | 266/1000 [01:03<03:10,  3.85it/s]"
     ]
    },
    {
     "data": {
      "application/vnd.jupyter.widget-view+json": {
       "model_id": "cad45c1646b44f8c88ce41b21eb9bb30",
       "version_major": 2,
       "version_minor": 0
      },
      "text/plain": [
       "  0%|          | 0/1000 [00:00<?, ?it/s]"
      ]
     },
     "metadata": {},
     "output_type": "display_data"
    },
    {
     "name": "stderr",
     "output_type": "stream",
     "text": [
      "\r",
      " 27%|██▋       | 267/1000 [01:03<03:05,  3.95it/s]"
     ]
    },
    {
     "data": {
      "application/vnd.jupyter.widget-view+json": {
       "model_id": "55f79062023f4ed688d75c44328b8416",
       "version_major": 2,
       "version_minor": 0
      },
      "text/plain": [
       "  0%|          | 0/1000 [00:00<?, ?it/s]"
      ]
     },
     "metadata": {},
     "output_type": "display_data"
    },
    {
     "name": "stderr",
     "output_type": "stream",
     "text": [
      "\r",
      " 27%|██▋       | 268/1000 [01:04<03:15,  3.75it/s]"
     ]
    },
    {
     "data": {
      "application/vnd.jupyter.widget-view+json": {
       "model_id": "51f9ede06d3f4b09b0cb3192b80c547d",
       "version_major": 2,
       "version_minor": 0
      },
      "text/plain": [
       "  0%|          | 0/1000 [00:00<?, ?it/s]"
      ]
     },
     "metadata": {},
     "output_type": "display_data"
    },
    {
     "name": "stderr",
     "output_type": "stream",
     "text": [
      "\r",
      " 27%|██▋       | 269/1000 [01:04<03:10,  3.84it/s]"
     ]
    },
    {
     "data": {
      "application/vnd.jupyter.widget-view+json": {
       "model_id": "658f9cd239444aa8beb4a8e70adaeeb3",
       "version_major": 2,
       "version_minor": 0
      },
      "text/plain": [
       "  0%|          | 0/1000 [00:00<?, ?it/s]"
      ]
     },
     "metadata": {},
     "output_type": "display_data"
    },
    {
     "name": "stderr",
     "output_type": "stream",
     "text": [
      "\r",
      " 27%|██▋       | 270/1000 [01:04<03:41,  3.29it/s]"
     ]
    },
    {
     "data": {
      "application/vnd.jupyter.widget-view+json": {
       "model_id": "438cf2c0e7024955913aaa36cbb5594e",
       "version_major": 2,
       "version_minor": 0
      },
      "text/plain": [
       "  0%|          | 0/1000 [00:00<?, ?it/s]"
      ]
     },
     "metadata": {},
     "output_type": "display_data"
    },
    {
     "name": "stderr",
     "output_type": "stream",
     "text": [
      "\r",
      " 27%|██▋       | 271/1000 [01:05<03:33,  3.41it/s]"
     ]
    },
    {
     "data": {
      "application/vnd.jupyter.widget-view+json": {
       "model_id": "efaff8e16c0e494595c052c87ce3828d",
       "version_major": 2,
       "version_minor": 0
      },
      "text/plain": [
       "  0%|          | 0/1000 [00:00<?, ?it/s]"
      ]
     },
     "metadata": {},
     "output_type": "display_data"
    },
    {
     "name": "stderr",
     "output_type": "stream",
     "text": [
      "\r",
      " 27%|██▋       | 272/1000 [01:05<03:25,  3.55it/s]"
     ]
    },
    {
     "data": {
      "application/vnd.jupyter.widget-view+json": {
       "model_id": "13201313f03d4fc087c9483cee7d7985",
       "version_major": 2,
       "version_minor": 0
      },
      "text/plain": [
       "  0%|          | 0/1000 [00:00<?, ?it/s]"
      ]
     },
     "metadata": {},
     "output_type": "display_data"
    },
    {
     "name": "stderr",
     "output_type": "stream",
     "text": [
      "\r",
      " 27%|██▋       | 273/1000 [01:05<03:16,  3.70it/s]"
     ]
    },
    {
     "data": {
      "application/vnd.jupyter.widget-view+json": {
       "model_id": "75f35121a8cd498bbf475090a9eaf2d8",
       "version_major": 2,
       "version_minor": 0
      },
      "text/plain": [
       "  0%|          | 0/1000 [00:00<?, ?it/s]"
      ]
     },
     "metadata": {},
     "output_type": "display_data"
    },
    {
     "name": "stderr",
     "output_type": "stream",
     "text": [
      "\r",
      " 27%|██▋       | 274/1000 [01:05<03:13,  3.76it/s]"
     ]
    },
    {
     "data": {
      "application/vnd.jupyter.widget-view+json": {
       "model_id": "b278a478b82f4bd6b0f64d03efb9011d",
       "version_major": 2,
       "version_minor": 0
      },
      "text/plain": [
       "  0%|          | 0/1000 [00:00<?, ?it/s]"
      ]
     },
     "metadata": {},
     "output_type": "display_data"
    },
    {
     "name": "stderr",
     "output_type": "stream",
     "text": [
      "\r",
      " 28%|██▊       | 275/1000 [01:06<03:36,  3.35it/s]"
     ]
    },
    {
     "data": {
      "application/vnd.jupyter.widget-view+json": {
       "model_id": "d7acaa87837b409da951e9eb27af7279",
       "version_major": 2,
       "version_minor": 0
      },
      "text/plain": [
       "  0%|          | 0/1000 [00:00<?, ?it/s]"
      ]
     },
     "metadata": {},
     "output_type": "display_data"
    },
    {
     "name": "stderr",
     "output_type": "stream",
     "text": [
      "\r",
      " 28%|██▊       | 276/1000 [01:06<04:03,  2.97it/s]"
     ]
    },
    {
     "data": {
      "application/vnd.jupyter.widget-view+json": {
       "model_id": "cc0cb931cd064a7dab09e8cb5991ec11",
       "version_major": 2,
       "version_minor": 0
      },
      "text/plain": [
       "  0%|          | 0/1000 [00:00<?, ?it/s]"
      ]
     },
     "metadata": {},
     "output_type": "display_data"
    },
    {
     "name": "stderr",
     "output_type": "stream",
     "text": [
      "\r",
      " 28%|██▊       | 277/1000 [01:06<03:50,  3.13it/s]"
     ]
    },
    {
     "data": {
      "application/vnd.jupyter.widget-view+json": {
       "model_id": "5f2fb9393f7948b8921a683351fdb5de",
       "version_major": 2,
       "version_minor": 0
      },
      "text/plain": [
       "  0%|          | 0/1000 [00:00<?, ?it/s]"
      ]
     },
     "metadata": {},
     "output_type": "display_data"
    },
    {
     "name": "stderr",
     "output_type": "stream",
     "text": [
      "\r",
      " 28%|██▊       | 278/1000 [01:07<03:39,  3.30it/s]"
     ]
    },
    {
     "data": {
      "application/vnd.jupyter.widget-view+json": {
       "model_id": "db0aaccf084846f3b2761bfee8911e9f",
       "version_major": 2,
       "version_minor": 0
      },
      "text/plain": [
       "  0%|          | 0/1000 [00:00<?, ?it/s]"
      ]
     },
     "metadata": {},
     "output_type": "display_data"
    },
    {
     "name": "stderr",
     "output_type": "stream",
     "text": [
      "\r",
      " 28%|██▊       | 279/1000 [01:07<03:39,  3.29it/s]"
     ]
    },
    {
     "data": {
      "application/vnd.jupyter.widget-view+json": {
       "model_id": "1e2e8535bcb74bcc9f80ab9aaf9a6e1f",
       "version_major": 2,
       "version_minor": 0
      },
      "text/plain": [
       "  0%|          | 0/1000 [00:00<?, ?it/s]"
      ]
     },
     "metadata": {},
     "output_type": "display_data"
    },
    {
     "name": "stderr",
     "output_type": "stream",
     "text": [
      "\r",
      " 28%|██▊       | 280/1000 [01:07<03:39,  3.29it/s]"
     ]
    },
    {
     "data": {
      "application/vnd.jupyter.widget-view+json": {
       "model_id": "b297e1d08bac46b3b4bf772623038692",
       "version_major": 2,
       "version_minor": 0
      },
      "text/plain": [
       "  0%|          | 0/1000 [00:00<?, ?it/s]"
      ]
     },
     "metadata": {},
     "output_type": "display_data"
    },
    {
     "name": "stderr",
     "output_type": "stream",
     "text": [
      "\r",
      " 28%|██▊       | 281/1000 [01:08<03:35,  3.34it/s]"
     ]
    },
    {
     "data": {
      "application/vnd.jupyter.widget-view+json": {
       "model_id": "054702b826a642d9931b26e694e93014",
       "version_major": 2,
       "version_minor": 0
      },
      "text/plain": [
       "  0%|          | 0/1000 [00:00<?, ?it/s]"
      ]
     },
     "metadata": {},
     "output_type": "display_data"
    },
    {
     "name": "stderr",
     "output_type": "stream",
     "text": [
      "\r",
      " 28%|██▊       | 282/1000 [01:08<03:39,  3.28it/s]"
     ]
    },
    {
     "data": {
      "application/vnd.jupyter.widget-view+json": {
       "model_id": "3925a68ed45d4799ba8a7d7fa33f73dd",
       "version_major": 2,
       "version_minor": 0
      },
      "text/plain": [
       "  0%|          | 0/1000 [00:00<?, ?it/s]"
      ]
     },
     "metadata": {},
     "output_type": "display_data"
    },
    {
     "name": "stderr",
     "output_type": "stream",
     "text": [
      "\r",
      " 28%|██▊       | 283/1000 [01:08<03:32,  3.37it/s]"
     ]
    },
    {
     "data": {
      "application/vnd.jupyter.widget-view+json": {
       "model_id": "5df5547aaf634073b06116e281b1fa43",
       "version_major": 2,
       "version_minor": 0
      },
      "text/plain": [
       "  0%|          | 0/1000 [00:00<?, ?it/s]"
      ]
     },
     "metadata": {},
     "output_type": "display_data"
    },
    {
     "name": "stderr",
     "output_type": "stream",
     "text": [
      "\r",
      " 28%|██▊       | 284/1000 [01:08<03:25,  3.48it/s]"
     ]
    },
    {
     "data": {
      "application/vnd.jupyter.widget-view+json": {
       "model_id": "9cdca003e7a948348b5a8f47e6ff8d0f",
       "version_major": 2,
       "version_minor": 0
      },
      "text/plain": [
       "  0%|          | 0/1000 [00:00<?, ?it/s]"
      ]
     },
     "metadata": {},
     "output_type": "display_data"
    },
    {
     "name": "stderr",
     "output_type": "stream",
     "text": [
      "\r",
      " 28%|██▊       | 285/1000 [01:09<03:38,  3.27it/s]"
     ]
    },
    {
     "data": {
      "application/vnd.jupyter.widget-view+json": {
       "model_id": "7240c06e51404aa2bc2014a1e9ef82b7",
       "version_major": 2,
       "version_minor": 0
      },
      "text/plain": [
       "  0%|          | 0/1000 [00:00<?, ?it/s]"
      ]
     },
     "metadata": {},
     "output_type": "display_data"
    },
    {
     "name": "stderr",
     "output_type": "stream",
     "text": [
      "\r",
      " 29%|██▊       | 286/1000 [01:09<03:22,  3.53it/s]"
     ]
    },
    {
     "data": {
      "application/vnd.jupyter.widget-view+json": {
       "model_id": "a4466ddb057a442d811ca80b03a7b44d",
       "version_major": 2,
       "version_minor": 0
      },
      "text/plain": [
       "  0%|          | 0/1000 [00:00<?, ?it/s]"
      ]
     },
     "metadata": {},
     "output_type": "display_data"
    },
    {
     "name": "stderr",
     "output_type": "stream",
     "text": [
      "\r",
      " 29%|██▊       | 287/1000 [01:09<03:14,  3.66it/s]"
     ]
    },
    {
     "data": {
      "application/vnd.jupyter.widget-view+json": {
       "model_id": "4a87fdbe2a7d487198572a8ee72f02c4",
       "version_major": 2,
       "version_minor": 0
      },
      "text/plain": [
       "  0%|          | 0/1000 [00:00<?, ?it/s]"
      ]
     },
     "metadata": {},
     "output_type": "display_data"
    },
    {
     "name": "stderr",
     "output_type": "stream",
     "text": [
      "\r",
      " 29%|██▉       | 288/1000 [01:09<03:05,  3.85it/s]"
     ]
    },
    {
     "data": {
      "application/vnd.jupyter.widget-view+json": {
       "model_id": "c234a86529e140e59f8d03da67e79618",
       "version_major": 2,
       "version_minor": 0
      },
      "text/plain": [
       "  0%|          | 0/1000 [00:00<?, ?it/s]"
      ]
     },
     "metadata": {},
     "output_type": "display_data"
    },
    {
     "name": "stderr",
     "output_type": "stream",
     "text": [
      "\r",
      " 29%|██▉       | 289/1000 [01:10<03:07,  3.79it/s]"
     ]
    },
    {
     "data": {
      "application/vnd.jupyter.widget-view+json": {
       "model_id": "da84feebc6504d159d004c47e33f9ff2",
       "version_major": 2,
       "version_minor": 0
      },
      "text/plain": [
       "  0%|          | 0/1000 [00:00<?, ?it/s]"
      ]
     },
     "metadata": {},
     "output_type": "display_data"
    },
    {
     "name": "stderr",
     "output_type": "stream",
     "text": [
      "\r",
      " 29%|██▉       | 290/1000 [01:10<03:00,  3.93it/s]"
     ]
    },
    {
     "data": {
      "application/vnd.jupyter.widget-view+json": {
       "model_id": "23982ed84470439ca8ce90b051e5756a",
       "version_major": 2,
       "version_minor": 0
      },
      "text/plain": [
       "  0%|          | 0/1000 [00:00<?, ?it/s]"
      ]
     },
     "metadata": {},
     "output_type": "display_data"
    },
    {
     "name": "stderr",
     "output_type": "stream",
     "text": [
      "\r",
      " 29%|██▉       | 291/1000 [01:10<02:55,  4.05it/s]"
     ]
    },
    {
     "data": {
      "application/vnd.jupyter.widget-view+json": {
       "model_id": "309b4c085b304c7491746b2e66a9bcaa",
       "version_major": 2,
       "version_minor": 0
      },
      "text/plain": [
       "  0%|          | 0/1000 [00:00<?, ?it/s]"
      ]
     },
     "metadata": {},
     "output_type": "display_data"
    },
    {
     "name": "stderr",
     "output_type": "stream",
     "text": [
      "\r",
      " 29%|██▉       | 292/1000 [01:10<02:51,  4.14it/s]"
     ]
    },
    {
     "data": {
      "application/vnd.jupyter.widget-view+json": {
       "model_id": "432ac6305a174e31836988f5c2d31c1d",
       "version_major": 2,
       "version_minor": 0
      },
      "text/plain": [
       "  0%|          | 0/1000 [00:00<?, ?it/s]"
      ]
     },
     "metadata": {},
     "output_type": "display_data"
    },
    {
     "name": "stderr",
     "output_type": "stream",
     "text": [
      "\r",
      " 29%|██▉       | 293/1000 [01:11<02:50,  4.14it/s]"
     ]
    },
    {
     "data": {
      "application/vnd.jupyter.widget-view+json": {
       "model_id": "1d8672e48ee74aa0956bb4fd85e30676",
       "version_major": 2,
       "version_minor": 0
      },
      "text/plain": [
       "  0%|          | 0/1000 [00:00<?, ?it/s]"
      ]
     },
     "metadata": {},
     "output_type": "display_data"
    },
    {
     "name": "stderr",
     "output_type": "stream",
     "text": [
      "\r",
      " 29%|██▉       | 294/1000 [01:11<02:50,  4.14it/s]"
     ]
    },
    {
     "data": {
      "application/vnd.jupyter.widget-view+json": {
       "model_id": "11b6726dc3c648f389fb411fd7888a74",
       "version_major": 2,
       "version_minor": 0
      },
      "text/plain": [
       "  0%|          | 0/1000 [00:00<?, ?it/s]"
      ]
     },
     "metadata": {},
     "output_type": "display_data"
    },
    {
     "name": "stderr",
     "output_type": "stream",
     "text": [
      "\r",
      " 30%|██▉       | 295/1000 [01:11<02:53,  4.05it/s]"
     ]
    },
    {
     "data": {
      "application/vnd.jupyter.widget-view+json": {
       "model_id": "2d954a4218f848b6bb574dc6704d621f",
       "version_major": 2,
       "version_minor": 0
      },
      "text/plain": [
       "  0%|          | 0/1000 [00:00<?, ?it/s]"
      ]
     },
     "metadata": {},
     "output_type": "display_data"
    },
    {
     "name": "stderr",
     "output_type": "stream",
     "text": [
      "\r",
      " 30%|██▉       | 296/1000 [01:11<02:54,  4.03it/s]"
     ]
    },
    {
     "data": {
      "application/vnd.jupyter.widget-view+json": {
       "model_id": "df7cd0d1ef924768a1961dd4c5868c9e",
       "version_major": 2,
       "version_minor": 0
      },
      "text/plain": [
       "  0%|          | 0/1000 [00:00<?, ?it/s]"
      ]
     },
     "metadata": {},
     "output_type": "display_data"
    },
    {
     "name": "stderr",
     "output_type": "stream",
     "text": [
      "\r",
      " 30%|██▉       | 297/1000 [01:12<03:05,  3.80it/s]"
     ]
    },
    {
     "data": {
      "application/vnd.jupyter.widget-view+json": {
       "model_id": "040273f3c251433f99a01da85e98d31b",
       "version_major": 2,
       "version_minor": 0
      },
      "text/plain": [
       "  0%|          | 0/1000 [00:00<?, ?it/s]"
      ]
     },
     "metadata": {},
     "output_type": "display_data"
    },
    {
     "name": "stderr",
     "output_type": "stream",
     "text": [
      "\r",
      " 30%|██▉       | 298/1000 [01:12<02:59,  3.91it/s]"
     ]
    },
    {
     "data": {
      "application/vnd.jupyter.widget-view+json": {
       "model_id": "530a6ffa032146578bece4479df33b7f",
       "version_major": 2,
       "version_minor": 0
      },
      "text/plain": [
       "  0%|          | 0/1000 [00:00<?, ?it/s]"
      ]
     },
     "metadata": {},
     "output_type": "display_data"
    },
    {
     "name": "stderr",
     "output_type": "stream",
     "text": [
      "\r",
      " 30%|██▉       | 299/1000 [01:12<02:59,  3.91it/s]"
     ]
    },
    {
     "data": {
      "application/vnd.jupyter.widget-view+json": {
       "model_id": "e75ab0cf296e422c9dbac15f7838193e",
       "version_major": 2,
       "version_minor": 0
      },
      "text/plain": [
       "  0%|          | 0/1000 [00:00<?, ?it/s]"
      ]
     },
     "metadata": {},
     "output_type": "display_data"
    },
    {
     "name": "stderr",
     "output_type": "stream",
     "text": [
      "\r",
      " 30%|███       | 300/1000 [01:13<03:01,  3.87it/s]"
     ]
    },
    {
     "data": {
      "application/vnd.jupyter.widget-view+json": {
       "model_id": "f0ace904c44144509e73debea59597a2",
       "version_major": 2,
       "version_minor": 0
      },
      "text/plain": [
       "  0%|          | 0/1000 [00:00<?, ?it/s]"
      ]
     },
     "metadata": {},
     "output_type": "display_data"
    },
    {
     "name": "stderr",
     "output_type": "stream",
     "text": [
      "\r",
      " 30%|███       | 301/1000 [01:13<03:01,  3.85it/s]"
     ]
    },
    {
     "data": {
      "application/vnd.jupyter.widget-view+json": {
       "model_id": "3517f932ba5a4be28b9b3f78d52bd3ee",
       "version_major": 2,
       "version_minor": 0
      },
      "text/plain": [
       "  0%|          | 0/1000 [00:00<?, ?it/s]"
      ]
     },
     "metadata": {},
     "output_type": "display_data"
    },
    {
     "name": "stderr",
     "output_type": "stream",
     "text": [
      "\r",
      " 30%|███       | 302/1000 [01:13<02:59,  3.89it/s]"
     ]
    },
    {
     "data": {
      "application/vnd.jupyter.widget-view+json": {
       "model_id": "cc512e93a20b4bbdba773b0d96965982",
       "version_major": 2,
       "version_minor": 0
      },
      "text/plain": [
       "  0%|          | 0/1000 [00:00<?, ?it/s]"
      ]
     },
     "metadata": {},
     "output_type": "display_data"
    },
    {
     "name": "stderr",
     "output_type": "stream",
     "text": [
      "\r",
      " 30%|███       | 303/1000 [01:13<02:56,  3.94it/s]"
     ]
    },
    {
     "data": {
      "application/vnd.jupyter.widget-view+json": {
       "model_id": "2f6ba67c797142cca102daf880ec303d",
       "version_major": 2,
       "version_minor": 0
      },
      "text/plain": [
       "  0%|          | 0/1000 [00:00<?, ?it/s]"
      ]
     },
     "metadata": {},
     "output_type": "display_data"
    },
    {
     "name": "stderr",
     "output_type": "stream",
     "text": [
      "\r",
      " 30%|███       | 304/1000 [01:14<02:53,  4.01it/s]"
     ]
    },
    {
     "data": {
      "application/vnd.jupyter.widget-view+json": {
       "model_id": "59f61b932d804949bd2548c2ad9ddcbf",
       "version_major": 2,
       "version_minor": 0
      },
      "text/plain": [
       "  0%|          | 0/1000 [00:00<?, ?it/s]"
      ]
     },
     "metadata": {},
     "output_type": "display_data"
    },
    {
     "name": "stderr",
     "output_type": "stream",
     "text": [
      "\r",
      " 30%|███       | 305/1000 [01:14<02:57,  3.92it/s]"
     ]
    },
    {
     "data": {
      "application/vnd.jupyter.widget-view+json": {
       "model_id": "532de63f781e4635a70544967232bbea",
       "version_major": 2,
       "version_minor": 0
      },
      "text/plain": [
       "  0%|          | 0/1000 [00:00<?, ?it/s]"
      ]
     },
     "metadata": {},
     "output_type": "display_data"
    },
    {
     "name": "stderr",
     "output_type": "stream",
     "text": [
      "\r",
      " 31%|███       | 306/1000 [01:14<02:56,  3.94it/s]"
     ]
    },
    {
     "data": {
      "application/vnd.jupyter.widget-view+json": {
       "model_id": "12be8a2091d74bb29edcae7f8d0f8f75",
       "version_major": 2,
       "version_minor": 0
      },
      "text/plain": [
       "  0%|          | 0/1000 [00:00<?, ?it/s]"
      ]
     },
     "metadata": {},
     "output_type": "display_data"
    },
    {
     "name": "stderr",
     "output_type": "stream",
     "text": [
      "\r",
      " 31%|███       | 307/1000 [01:14<02:52,  4.01it/s]"
     ]
    },
    {
     "data": {
      "application/vnd.jupyter.widget-view+json": {
       "model_id": "3bad537727fe4ac3a6beec4c8b755165",
       "version_major": 2,
       "version_minor": 0
      },
      "text/plain": [
       "  0%|          | 0/1000 [00:00<?, ?it/s]"
      ]
     },
     "metadata": {},
     "output_type": "display_data"
    },
    {
     "name": "stderr",
     "output_type": "stream",
     "text": [
      "\r",
      " 31%|███       | 308/1000 [01:15<02:52,  4.01it/s]"
     ]
    },
    {
     "data": {
      "application/vnd.jupyter.widget-view+json": {
       "model_id": "9b11ca8f5b2a46dbbfe2801f39123c10",
       "version_major": 2,
       "version_minor": 0
      },
      "text/plain": [
       "  0%|          | 0/1000 [00:00<?, ?it/s]"
      ]
     },
     "metadata": {},
     "output_type": "display_data"
    },
    {
     "name": "stderr",
     "output_type": "stream",
     "text": [
      "\r",
      " 31%|███       | 309/1000 [01:15<02:51,  4.04it/s]"
     ]
    },
    {
     "data": {
      "application/vnd.jupyter.widget-view+json": {
       "model_id": "0bd8e51953684e668955acb947822b02",
       "version_major": 2,
       "version_minor": 0
      },
      "text/plain": [
       "  0%|          | 0/1000 [00:00<?, ?it/s]"
      ]
     },
     "metadata": {},
     "output_type": "display_data"
    },
    {
     "name": "stderr",
     "output_type": "stream",
     "text": [
      "\r",
      " 31%|███       | 310/1000 [01:15<02:50,  4.05it/s]"
     ]
    },
    {
     "data": {
      "application/vnd.jupyter.widget-view+json": {
       "model_id": "2d928d6d366d488d8271e9f99f9f79f6",
       "version_major": 2,
       "version_minor": 0
      },
      "text/plain": [
       "  0%|          | 0/1000 [00:00<?, ?it/s]"
      ]
     },
     "metadata": {},
     "output_type": "display_data"
    },
    {
     "name": "stderr",
     "output_type": "stream",
     "text": [
      "\r",
      " 31%|███       | 311/1000 [01:15<02:52,  3.99it/s]"
     ]
    },
    {
     "data": {
      "application/vnd.jupyter.widget-view+json": {
       "model_id": "2812143770594f5b84c8383dd8fb8ba5",
       "version_major": 2,
       "version_minor": 0
      },
      "text/plain": [
       "  0%|          | 0/1000 [00:00<?, ?it/s]"
      ]
     },
     "metadata": {},
     "output_type": "display_data"
    },
    {
     "name": "stderr",
     "output_type": "stream",
     "text": [
      "\r",
      " 31%|███       | 312/1000 [01:16<02:50,  4.04it/s]"
     ]
    },
    {
     "data": {
      "application/vnd.jupyter.widget-view+json": {
       "model_id": "5e1288d1fe7b4123a092b7cf56bbf8fe",
       "version_major": 2,
       "version_minor": 0
      },
      "text/plain": [
       "  0%|          | 0/1000 [00:00<?, ?it/s]"
      ]
     },
     "metadata": {},
     "output_type": "display_data"
    },
    {
     "name": "stderr",
     "output_type": "stream",
     "text": [
      "\r",
      " 31%|███▏      | 313/1000 [01:16<02:52,  3.98it/s]"
     ]
    },
    {
     "data": {
      "application/vnd.jupyter.widget-view+json": {
       "model_id": "1db5d49ddce5415baf857a8545bba5f0",
       "version_major": 2,
       "version_minor": 0
      },
      "text/plain": [
       "  0%|          | 0/1000 [00:00<?, ?it/s]"
      ]
     },
     "metadata": {},
     "output_type": "display_data"
    },
    {
     "name": "stderr",
     "output_type": "stream",
     "text": [
      "\r",
      " 31%|███▏      | 314/1000 [01:16<02:53,  3.94it/s]"
     ]
    },
    {
     "data": {
      "application/vnd.jupyter.widget-view+json": {
       "model_id": "ac94c9a0101344859254dc8aa8725725",
       "version_major": 2,
       "version_minor": 0
      },
      "text/plain": [
       "  0%|          | 0/1000 [00:00<?, ?it/s]"
      ]
     },
     "metadata": {},
     "output_type": "display_data"
    },
    {
     "name": "stderr",
     "output_type": "stream",
     "text": [
      "\r",
      " 32%|███▏      | 315/1000 [01:16<02:48,  4.07it/s]"
     ]
    },
    {
     "data": {
      "application/vnd.jupyter.widget-view+json": {
       "model_id": "3133acd47b52489dae9d5f473fbe4c09",
       "version_major": 2,
       "version_minor": 0
      },
      "text/plain": [
       "  0%|          | 0/1000 [00:00<?, ?it/s]"
      ]
     },
     "metadata": {},
     "output_type": "display_data"
    },
    {
     "name": "stderr",
     "output_type": "stream",
     "text": [
      "\r",
      " 32%|███▏      | 316/1000 [01:17<02:51,  3.99it/s]"
     ]
    },
    {
     "data": {
      "application/vnd.jupyter.widget-view+json": {
       "model_id": "4d4141d33652426a9632d2a3ef5b984f",
       "version_major": 2,
       "version_minor": 0
      },
      "text/plain": [
       "  0%|          | 0/1000 [00:00<?, ?it/s]"
      ]
     },
     "metadata": {},
     "output_type": "display_data"
    },
    {
     "name": "stderr",
     "output_type": "stream",
     "text": [
      "\r",
      " 32%|███▏      | 317/1000 [01:17<02:54,  3.92it/s]"
     ]
    },
    {
     "data": {
      "application/vnd.jupyter.widget-view+json": {
       "model_id": "593547c9cabb433e8235f5e790d3dd01",
       "version_major": 2,
       "version_minor": 0
      },
      "text/plain": [
       "  0%|          | 0/1000 [00:00<?, ?it/s]"
      ]
     },
     "metadata": {},
     "output_type": "display_data"
    },
    {
     "name": "stderr",
     "output_type": "stream",
     "text": [
      "\r",
      " 32%|███▏      | 318/1000 [01:17<02:53,  3.93it/s]"
     ]
    },
    {
     "data": {
      "application/vnd.jupyter.widget-view+json": {
       "model_id": "b2f01686f884441f8501bf11c68dd582",
       "version_major": 2,
       "version_minor": 0
      },
      "text/plain": [
       "  0%|          | 0/1000 [00:00<?, ?it/s]"
      ]
     },
     "metadata": {},
     "output_type": "display_data"
    },
    {
     "name": "stderr",
     "output_type": "stream",
     "text": [
      "\r",
      " 32%|███▏      | 319/1000 [01:17<02:50,  4.00it/s]"
     ]
    },
    {
     "data": {
      "application/vnd.jupyter.widget-view+json": {
       "model_id": "963e8cc6ce03434794b32764a8978411",
       "version_major": 2,
       "version_minor": 0
      },
      "text/plain": [
       "  0%|          | 0/1000 [00:00<?, ?it/s]"
      ]
     },
     "metadata": {},
     "output_type": "display_data"
    },
    {
     "name": "stderr",
     "output_type": "stream",
     "text": [
      "\r",
      " 32%|███▏      | 320/1000 [01:18<02:48,  4.04it/s]"
     ]
    },
    {
     "data": {
      "application/vnd.jupyter.widget-view+json": {
       "model_id": "eb2c3fa1122c49c595a230ef6b63863f",
       "version_major": 2,
       "version_minor": 0
      },
      "text/plain": [
       "  0%|          | 0/1000 [00:00<?, ?it/s]"
      ]
     },
     "metadata": {},
     "output_type": "display_data"
    },
    {
     "name": "stderr",
     "output_type": "stream",
     "text": [
      "\r",
      " 32%|███▏      | 321/1000 [01:18<02:51,  3.96it/s]"
     ]
    },
    {
     "data": {
      "application/vnd.jupyter.widget-view+json": {
       "model_id": "d9eb3919f4ac4115baecc44ac459d9e2",
       "version_major": 2,
       "version_minor": 0
      },
      "text/plain": [
       "  0%|          | 0/1000 [00:00<?, ?it/s]"
      ]
     },
     "metadata": {},
     "output_type": "display_data"
    },
    {
     "name": "stderr",
     "output_type": "stream",
     "text": [
      "\r",
      " 32%|███▏      | 322/1000 [01:18<02:48,  4.02it/s]"
     ]
    },
    {
     "data": {
      "application/vnd.jupyter.widget-view+json": {
       "model_id": "0eb189d4c6504b00a112e88981dd4f64",
       "version_major": 2,
       "version_minor": 0
      },
      "text/plain": [
       "  0%|          | 0/1000 [00:00<?, ?it/s]"
      ]
     },
     "metadata": {},
     "output_type": "display_data"
    },
    {
     "name": "stderr",
     "output_type": "stream",
     "text": [
      "\r",
      " 32%|███▏      | 323/1000 [01:18<02:48,  4.03it/s]"
     ]
    },
    {
     "data": {
      "application/vnd.jupyter.widget-view+json": {
       "model_id": "a02c9bee4ef84c05adf18a5290709328",
       "version_major": 2,
       "version_minor": 0
      },
      "text/plain": [
       "  0%|          | 0/1000 [00:00<?, ?it/s]"
      ]
     },
     "metadata": {},
     "output_type": "display_data"
    },
    {
     "name": "stderr",
     "output_type": "stream",
     "text": [
      "\r",
      " 32%|███▏      | 324/1000 [01:19<02:46,  4.07it/s]"
     ]
    },
    {
     "data": {
      "application/vnd.jupyter.widget-view+json": {
       "model_id": "3dfd096f3bce44539dc981e33b9fbbd0",
       "version_major": 2,
       "version_minor": 0
      },
      "text/plain": [
       "  0%|          | 0/1000 [00:00<?, ?it/s]"
      ]
     },
     "metadata": {},
     "output_type": "display_data"
    },
    {
     "name": "stderr",
     "output_type": "stream",
     "text": [
      "\r",
      " 32%|███▎      | 325/1000 [01:19<02:45,  4.09it/s]"
     ]
    },
    {
     "data": {
      "application/vnd.jupyter.widget-view+json": {
       "model_id": "a275d0dee19a4fd69411c5fc63b29005",
       "version_major": 2,
       "version_minor": 0
      },
      "text/plain": [
       "  0%|          | 0/1000 [00:00<?, ?it/s]"
      ]
     },
     "metadata": {},
     "output_type": "display_data"
    },
    {
     "name": "stderr",
     "output_type": "stream",
     "text": [
      "\r",
      " 33%|███▎      | 326/1000 [01:19<02:44,  4.10it/s]"
     ]
    },
    {
     "data": {
      "application/vnd.jupyter.widget-view+json": {
       "model_id": "192bfd36734b45c4b34c6976e7813171",
       "version_major": 2,
       "version_minor": 0
      },
      "text/plain": [
       "  0%|          | 0/1000 [00:00<?, ?it/s]"
      ]
     },
     "metadata": {},
     "output_type": "display_data"
    },
    {
     "name": "stderr",
     "output_type": "stream",
     "text": [
      "\r",
      " 33%|███▎      | 327/1000 [01:19<02:44,  4.08it/s]"
     ]
    },
    {
     "data": {
      "application/vnd.jupyter.widget-view+json": {
       "model_id": "eec214f14e1b42d4ba294e1328da6576",
       "version_major": 2,
       "version_minor": 0
      },
      "text/plain": [
       "  0%|          | 0/1000 [00:00<?, ?it/s]"
      ]
     },
     "metadata": {},
     "output_type": "display_data"
    },
    {
     "name": "stderr",
     "output_type": "stream",
     "text": [
      "\r",
      " 33%|███▎      | 328/1000 [01:19<02:43,  4.11it/s]"
     ]
    },
    {
     "data": {
      "application/vnd.jupyter.widget-view+json": {
       "model_id": "dd120e8197f3488282e8e4448d7e6757",
       "version_major": 2,
       "version_minor": 0
      },
      "text/plain": [
       "  0%|          | 0/1000 [00:00<?, ?it/s]"
      ]
     },
     "metadata": {},
     "output_type": "display_data"
    },
    {
     "name": "stderr",
     "output_type": "stream",
     "text": [
      "\r",
      " 33%|███▎      | 329/1000 [01:20<02:48,  3.98it/s]"
     ]
    },
    {
     "data": {
      "application/vnd.jupyter.widget-view+json": {
       "model_id": "e95a6fb1a0ee40489057968a9d972ca5",
       "version_major": 2,
       "version_minor": 0
      },
      "text/plain": [
       "  0%|          | 0/1000 [00:00<?, ?it/s]"
      ]
     },
     "metadata": {},
     "output_type": "display_data"
    },
    {
     "name": "stderr",
     "output_type": "stream",
     "text": [
      "\r",
      " 33%|███▎      | 330/1000 [01:20<02:47,  4.00it/s]"
     ]
    },
    {
     "data": {
      "application/vnd.jupyter.widget-view+json": {
       "model_id": "adf0492d474c42a9a7bf23b7bc1e28ea",
       "version_major": 2,
       "version_minor": 0
      },
      "text/plain": [
       "  0%|          | 0/1000 [00:00<?, ?it/s]"
      ]
     },
     "metadata": {},
     "output_type": "display_data"
    },
    {
     "name": "stderr",
     "output_type": "stream",
     "text": [
      "\r",
      " 33%|███▎      | 331/1000 [01:20<02:46,  4.02it/s]"
     ]
    },
    {
     "data": {
      "application/vnd.jupyter.widget-view+json": {
       "model_id": "c60057b5c4494b44928468c6623d6d39",
       "version_major": 2,
       "version_minor": 0
      },
      "text/plain": [
       "  0%|          | 0/1000 [00:00<?, ?it/s]"
      ]
     },
     "metadata": {},
     "output_type": "display_data"
    },
    {
     "name": "stderr",
     "output_type": "stream",
     "text": [
      "\r",
      " 33%|███▎      | 332/1000 [01:20<02:42,  4.12it/s]"
     ]
    },
    {
     "data": {
      "application/vnd.jupyter.widget-view+json": {
       "model_id": "f00e64d3de4d4adfba9eebab670f6507",
       "version_major": 2,
       "version_minor": 0
      },
      "text/plain": [
       "  0%|          | 0/1000 [00:00<?, ?it/s]"
      ]
     },
     "metadata": {},
     "output_type": "display_data"
    },
    {
     "name": "stderr",
     "output_type": "stream",
     "text": [
      "\r",
      " 33%|███▎      | 333/1000 [01:21<02:39,  4.17it/s]"
     ]
    },
    {
     "data": {
      "application/vnd.jupyter.widget-view+json": {
       "model_id": "a179672147b24c04b6f388afd32844a1",
       "version_major": 2,
       "version_minor": 0
      },
      "text/plain": [
       "  0%|          | 0/1000 [00:00<?, ?it/s]"
      ]
     },
     "metadata": {},
     "output_type": "display_data"
    },
    {
     "name": "stderr",
     "output_type": "stream",
     "text": [
      "\r",
      " 33%|███▎      | 334/1000 [01:21<02:39,  4.18it/s]"
     ]
    },
    {
     "data": {
      "application/vnd.jupyter.widget-view+json": {
       "model_id": "175cba8d9927491ea9847dff89a39eff",
       "version_major": 2,
       "version_minor": 0
      },
      "text/plain": [
       "  0%|          | 0/1000 [00:00<?, ?it/s]"
      ]
     },
     "metadata": {},
     "output_type": "display_data"
    },
    {
     "name": "stderr",
     "output_type": "stream",
     "text": [
      "\r",
      " 34%|███▎      | 335/1000 [01:21<02:40,  4.14it/s]"
     ]
    },
    {
     "data": {
      "application/vnd.jupyter.widget-view+json": {
       "model_id": "be2151684b4645a99ca4852610764cfa",
       "version_major": 2,
       "version_minor": 0
      },
      "text/plain": [
       "  0%|          | 0/1000 [00:00<?, ?it/s]"
      ]
     },
     "metadata": {},
     "output_type": "display_data"
    },
    {
     "name": "stderr",
     "output_type": "stream",
     "text": [
      "\r",
      " 34%|███▎      | 336/1000 [01:21<02:39,  4.16it/s]"
     ]
    },
    {
     "data": {
      "application/vnd.jupyter.widget-view+json": {
       "model_id": "a4c952d946b84835baaa9833840dcbfc",
       "version_major": 2,
       "version_minor": 0
      },
      "text/plain": [
       "  0%|          | 0/1000 [00:00<?, ?it/s]"
      ]
     },
     "metadata": {},
     "output_type": "display_data"
    },
    {
     "name": "stderr",
     "output_type": "stream",
     "text": [
      "\r",
      " 34%|███▎      | 337/1000 [01:22<02:41,  4.10it/s]"
     ]
    },
    {
     "data": {
      "application/vnd.jupyter.widget-view+json": {
       "model_id": "db95da837ec44395a36f6f6f0efd6601",
       "version_major": 2,
       "version_minor": 0
      },
      "text/plain": [
       "  0%|          | 0/1000 [00:00<?, ?it/s]"
      ]
     },
     "metadata": {},
     "output_type": "display_data"
    },
    {
     "name": "stderr",
     "output_type": "stream",
     "text": [
      "\r",
      " 34%|███▍      | 338/1000 [01:22<02:40,  4.11it/s]"
     ]
    },
    {
     "data": {
      "application/vnd.jupyter.widget-view+json": {
       "model_id": "c77fbdaa5c264408af4a76bca7cfb3ac",
       "version_major": 2,
       "version_minor": 0
      },
      "text/plain": [
       "  0%|          | 0/1000 [00:00<?, ?it/s]"
      ]
     },
     "metadata": {},
     "output_type": "display_data"
    },
    {
     "name": "stderr",
     "output_type": "stream",
     "text": [
      "\r",
      " 34%|███▍      | 339/1000 [01:22<02:43,  4.05it/s]"
     ]
    },
    {
     "data": {
      "application/vnd.jupyter.widget-view+json": {
       "model_id": "21af4b8174374909be1d31f74dda2029",
       "version_major": 2,
       "version_minor": 0
      },
      "text/plain": [
       "  0%|          | 0/1000 [00:00<?, ?it/s]"
      ]
     },
     "metadata": {},
     "output_type": "display_data"
    },
    {
     "name": "stderr",
     "output_type": "stream",
     "text": [
      "\r",
      " 34%|███▍      | 340/1000 [01:22<02:42,  4.07it/s]"
     ]
    },
    {
     "data": {
      "application/vnd.jupyter.widget-view+json": {
       "model_id": "8517561ae7b5477c915e8c5d7ea8c9ba",
       "version_major": 2,
       "version_minor": 0
      },
      "text/plain": [
       "  0%|          | 0/1000 [00:00<?, ?it/s]"
      ]
     },
     "metadata": {},
     "output_type": "display_data"
    },
    {
     "name": "stderr",
     "output_type": "stream",
     "text": [
      "\r",
      " 34%|███▍      | 341/1000 [01:23<02:40,  4.10it/s]"
     ]
    },
    {
     "data": {
      "application/vnd.jupyter.widget-view+json": {
       "model_id": "65c914f174e34b12ae36d3184765779f",
       "version_major": 2,
       "version_minor": 0
      },
      "text/plain": [
       "  0%|          | 0/1000 [00:00<?, ?it/s]"
      ]
     },
     "metadata": {},
     "output_type": "display_data"
    },
    {
     "name": "stderr",
     "output_type": "stream",
     "text": [
      "\r",
      " 34%|███▍      | 342/1000 [01:23<02:41,  4.06it/s]"
     ]
    },
    {
     "data": {
      "application/vnd.jupyter.widget-view+json": {
       "model_id": "845a3f45bbdb46d8b0b89ec47b3e2be9",
       "version_major": 2,
       "version_minor": 0
      },
      "text/plain": [
       "  0%|          | 0/1000 [00:00<?, ?it/s]"
      ]
     },
     "metadata": {},
     "output_type": "display_data"
    },
    {
     "name": "stderr",
     "output_type": "stream",
     "text": [
      "\r",
      " 34%|███▍      | 343/1000 [01:23<02:40,  4.10it/s]"
     ]
    },
    {
     "data": {
      "application/vnd.jupyter.widget-view+json": {
       "model_id": "3c2dba6448c449388ebcd58b1493b45e",
       "version_major": 2,
       "version_minor": 0
      },
      "text/plain": [
       "  0%|          | 0/1000 [00:00<?, ?it/s]"
      ]
     },
     "metadata": {},
     "output_type": "display_data"
    },
    {
     "name": "stderr",
     "output_type": "stream",
     "text": [
      "\r",
      " 34%|███▍      | 344/1000 [01:23<02:39,  4.10it/s]"
     ]
    },
    {
     "data": {
      "application/vnd.jupyter.widget-view+json": {
       "model_id": "ccdb3a14e3f34b5594d48b08faefbf43",
       "version_major": 2,
       "version_minor": 0
      },
      "text/plain": [
       "  0%|          | 0/1000 [00:00<?, ?it/s]"
      ]
     },
     "metadata": {},
     "output_type": "display_data"
    },
    {
     "name": "stderr",
     "output_type": "stream",
     "text": [
      "\r",
      " 34%|███▍      | 345/1000 [01:24<02:40,  4.09it/s]"
     ]
    },
    {
     "data": {
      "application/vnd.jupyter.widget-view+json": {
       "model_id": "06657fb3e9874f719e1df1e9ab70d5f3",
       "version_major": 2,
       "version_minor": 0
      },
      "text/plain": [
       "  0%|          | 0/1000 [00:00<?, ?it/s]"
      ]
     },
     "metadata": {},
     "output_type": "display_data"
    },
    {
     "name": "stderr",
     "output_type": "stream",
     "text": [
      "\r",
      " 35%|███▍      | 346/1000 [01:24<02:43,  4.00it/s]"
     ]
    },
    {
     "data": {
      "application/vnd.jupyter.widget-view+json": {
       "model_id": "b0a359b30e28411d9abd0612ddf3f98f",
       "version_major": 2,
       "version_minor": 0
      },
      "text/plain": [
       "  0%|          | 0/1000 [00:00<?, ?it/s]"
      ]
     },
     "metadata": {},
     "output_type": "display_data"
    },
    {
     "name": "stderr",
     "output_type": "stream",
     "text": [
      "\r",
      " 35%|███▍      | 347/1000 [01:24<02:41,  4.05it/s]"
     ]
    },
    {
     "data": {
      "application/vnd.jupyter.widget-view+json": {
       "model_id": "c92d86f60c3f47d0b407656cd0f35915",
       "version_major": 2,
       "version_minor": 0
      },
      "text/plain": [
       "  0%|          | 0/1000 [00:00<?, ?it/s]"
      ]
     },
     "metadata": {},
     "output_type": "display_data"
    },
    {
     "name": "stderr",
     "output_type": "stream",
     "text": [
      "\r",
      " 35%|███▍      | 348/1000 [01:24<02:40,  4.07it/s]"
     ]
    },
    {
     "data": {
      "application/vnd.jupyter.widget-view+json": {
       "model_id": "4e5fd8e6ae7449acbd57c50f96077e2b",
       "version_major": 2,
       "version_minor": 0
      },
      "text/plain": [
       "  0%|          | 0/1000 [00:00<?, ?it/s]"
      ]
     },
     "metadata": {},
     "output_type": "display_data"
    },
    {
     "name": "stderr",
     "output_type": "stream",
     "text": [
      "\r",
      " 35%|███▍      | 349/1000 [01:25<02:39,  4.08it/s]"
     ]
    },
    {
     "data": {
      "application/vnd.jupyter.widget-view+json": {
       "model_id": "7c9010c6644546dab1b0934a611b220a",
       "version_major": 2,
       "version_minor": 0
      },
      "text/plain": [
       "  0%|          | 0/1000 [00:00<?, ?it/s]"
      ]
     },
     "metadata": {},
     "output_type": "display_data"
    },
    {
     "name": "stderr",
     "output_type": "stream",
     "text": [
      "\r",
      " 35%|███▌      | 350/1000 [01:25<02:37,  4.12it/s]"
     ]
    },
    {
     "data": {
      "application/vnd.jupyter.widget-view+json": {
       "model_id": "639fbd725890497ab3667091fe55ae0b",
       "version_major": 2,
       "version_minor": 0
      },
      "text/plain": [
       "  0%|          | 0/1000 [00:00<?, ?it/s]"
      ]
     },
     "metadata": {},
     "output_type": "display_data"
    },
    {
     "name": "stderr",
     "output_type": "stream",
     "text": [
      "\r",
      " 35%|███▌      | 351/1000 [01:25<02:37,  4.12it/s]"
     ]
    },
    {
     "data": {
      "application/vnd.jupyter.widget-view+json": {
       "model_id": "bb554fa97f764625a9b222ea05521df0",
       "version_major": 2,
       "version_minor": 0
      },
      "text/plain": [
       "  0%|          | 0/1000 [00:00<?, ?it/s]"
      ]
     },
     "metadata": {},
     "output_type": "display_data"
    },
    {
     "name": "stderr",
     "output_type": "stream",
     "text": [
      "\r",
      " 35%|███▌      | 352/1000 [01:25<02:37,  4.12it/s]"
     ]
    },
    {
     "data": {
      "application/vnd.jupyter.widget-view+json": {
       "model_id": "9dc8dce4f9f948168d8f24b680e466b0",
       "version_major": 2,
       "version_minor": 0
      },
      "text/plain": [
       "  0%|          | 0/1000 [00:00<?, ?it/s]"
      ]
     },
     "metadata": {},
     "output_type": "display_data"
    },
    {
     "name": "stderr",
     "output_type": "stream",
     "text": [
      "\r",
      " 35%|███▌      | 353/1000 [01:26<02:51,  3.78it/s]"
     ]
    },
    {
     "data": {
      "application/vnd.jupyter.widget-view+json": {
       "model_id": "9f6b5cf26fef48398740dd3a6a609b7c",
       "version_major": 2,
       "version_minor": 0
      },
      "text/plain": [
       "  0%|          | 0/1000 [00:00<?, ?it/s]"
      ]
     },
     "metadata": {},
     "output_type": "display_data"
    },
    {
     "name": "stderr",
     "output_type": "stream",
     "text": [
      "\r",
      " 35%|███▌      | 354/1000 [01:26<02:57,  3.64it/s]"
     ]
    },
    {
     "data": {
      "application/vnd.jupyter.widget-view+json": {
       "model_id": "c90c48e7998f4cf395f3d0005c595511",
       "version_major": 2,
       "version_minor": 0
      },
      "text/plain": [
       "  0%|          | 0/1000 [00:00<?, ?it/s]"
      ]
     },
     "metadata": {},
     "output_type": "display_data"
    },
    {
     "name": "stderr",
     "output_type": "stream",
     "text": [
      "\r",
      " 36%|███▌      | 355/1000 [01:26<02:57,  3.64it/s]"
     ]
    },
    {
     "data": {
      "application/vnd.jupyter.widget-view+json": {
       "model_id": "6477b148e0494242a2ed07ab544eb14c",
       "version_major": 2,
       "version_minor": 0
      },
      "text/plain": [
       "  0%|          | 0/1000 [00:00<?, ?it/s]"
      ]
     },
     "metadata": {},
     "output_type": "display_data"
    },
    {
     "name": "stderr",
     "output_type": "stream",
     "text": [
      "\r",
      " 36%|███▌      | 356/1000 [01:26<02:52,  3.72it/s]"
     ]
    },
    {
     "data": {
      "application/vnd.jupyter.widget-view+json": {
       "model_id": "ed40085d16aa43c29098f1ef78a174ce",
       "version_major": 2,
       "version_minor": 0
      },
      "text/plain": [
       "  0%|          | 0/1000 [00:00<?, ?it/s]"
      ]
     },
     "metadata": {},
     "output_type": "display_data"
    },
    {
     "name": "stderr",
     "output_type": "stream",
     "text": [
      "\r",
      " 36%|███▌      | 357/1000 [01:27<02:54,  3.69it/s]"
     ]
    },
    {
     "data": {
      "application/vnd.jupyter.widget-view+json": {
       "model_id": "b7ec5cc2bfdc4771a417cbc32de60630",
       "version_major": 2,
       "version_minor": 0
      },
      "text/plain": [
       "  0%|          | 0/1000 [00:00<?, ?it/s]"
      ]
     },
     "metadata": {},
     "output_type": "display_data"
    },
    {
     "name": "stderr",
     "output_type": "stream",
     "text": [
      "\r",
      " 36%|███▌      | 358/1000 [01:27<02:52,  3.73it/s]"
     ]
    },
    {
     "data": {
      "application/vnd.jupyter.widget-view+json": {
       "model_id": "f8af7d7a2d714ba189246ab1669837ac",
       "version_major": 2,
       "version_minor": 0
      },
      "text/plain": [
       "  0%|          | 0/1000 [00:00<?, ?it/s]"
      ]
     },
     "metadata": {},
     "output_type": "display_data"
    },
    {
     "name": "stderr",
     "output_type": "stream",
     "text": [
      "\r",
      " 36%|███▌      | 359/1000 [01:27<02:47,  3.82it/s]"
     ]
    },
    {
     "data": {
      "application/vnd.jupyter.widget-view+json": {
       "model_id": "c7edd77fe0f94ab0b38fed188338ff16",
       "version_major": 2,
       "version_minor": 0
      },
      "text/plain": [
       "  0%|          | 0/1000 [00:00<?, ?it/s]"
      ]
     },
     "metadata": {},
     "output_type": "display_data"
    },
    {
     "name": "stderr",
     "output_type": "stream",
     "text": [
      "\r",
      " 36%|███▌      | 360/1000 [01:28<02:41,  3.97it/s]"
     ]
    },
    {
     "data": {
      "application/vnd.jupyter.widget-view+json": {
       "model_id": "e704494a33674876a4679eb5ccfe56ca",
       "version_major": 2,
       "version_minor": 0
      },
      "text/plain": [
       "  0%|          | 0/1000 [00:00<?, ?it/s]"
      ]
     },
     "metadata": {},
     "output_type": "display_data"
    },
    {
     "name": "stderr",
     "output_type": "stream",
     "text": [
      "\r",
      " 36%|███▌      | 361/1000 [01:28<02:44,  3.89it/s]"
     ]
    },
    {
     "data": {
      "application/vnd.jupyter.widget-view+json": {
       "model_id": "3f097977c5fe48dbb36e0686557cb984",
       "version_major": 2,
       "version_minor": 0
      },
      "text/plain": [
       "  0%|          | 0/1000 [00:00<?, ?it/s]"
      ]
     },
     "metadata": {},
     "output_type": "display_data"
    },
    {
     "name": "stderr",
     "output_type": "stream",
     "text": [
      "\r",
      " 36%|███▌      | 362/1000 [01:28<02:43,  3.90it/s]"
     ]
    },
    {
     "data": {
      "application/vnd.jupyter.widget-view+json": {
       "model_id": "14348073046349a1b6eb60e217f644a2",
       "version_major": 2,
       "version_minor": 0
      },
      "text/plain": [
       "  0%|          | 0/1000 [00:00<?, ?it/s]"
      ]
     },
     "metadata": {},
     "output_type": "display_data"
    },
    {
     "name": "stderr",
     "output_type": "stream",
     "text": [
      "\r",
      " 36%|███▋      | 363/1000 [01:28<02:39,  3.99it/s]"
     ]
    },
    {
     "data": {
      "application/vnd.jupyter.widget-view+json": {
       "model_id": "c69d48c94c944a6fba59b81d327fc960",
       "version_major": 2,
       "version_minor": 0
      },
      "text/plain": [
       "  0%|          | 0/1000 [00:00<?, ?it/s]"
      ]
     },
     "metadata": {},
     "output_type": "display_data"
    },
    {
     "name": "stderr",
     "output_type": "stream",
     "text": [
      "\r",
      " 36%|███▋      | 364/1000 [01:29<02:40,  3.97it/s]"
     ]
    },
    {
     "data": {
      "application/vnd.jupyter.widget-view+json": {
       "model_id": "092ef816cede4f5b847c25357eb1810e",
       "version_major": 2,
       "version_minor": 0
      },
      "text/plain": [
       "  0%|          | 0/1000 [00:00<?, ?it/s]"
      ]
     },
     "metadata": {},
     "output_type": "display_data"
    },
    {
     "name": "stderr",
     "output_type": "stream",
     "text": [
      "\r",
      " 36%|███▋      | 365/1000 [01:29<02:40,  3.96it/s]"
     ]
    },
    {
     "data": {
      "application/vnd.jupyter.widget-view+json": {
       "model_id": "cfe38f81be9f4c798e20e9b9d0667943",
       "version_major": 2,
       "version_minor": 0
      },
      "text/plain": [
       "  0%|          | 0/1000 [00:00<?, ?it/s]"
      ]
     },
     "metadata": {},
     "output_type": "display_data"
    },
    {
     "name": "stderr",
     "output_type": "stream",
     "text": [
      "\r",
      " 37%|███▋      | 366/1000 [01:29<02:39,  3.96it/s]"
     ]
    },
    {
     "data": {
      "application/vnd.jupyter.widget-view+json": {
       "model_id": "6285c8263cf14adbb055889331a6ea8d",
       "version_major": 2,
       "version_minor": 0
      },
      "text/plain": [
       "  0%|          | 0/1000 [00:00<?, ?it/s]"
      ]
     },
     "metadata": {},
     "output_type": "display_data"
    },
    {
     "name": "stderr",
     "output_type": "stream",
     "text": [
      "\r",
      " 37%|███▋      | 367/1000 [01:29<02:38,  3.99it/s]"
     ]
    },
    {
     "data": {
      "application/vnd.jupyter.widget-view+json": {
       "model_id": "f795697853fc43e18679fd1f27aaa699",
       "version_major": 2,
       "version_minor": 0
      },
      "text/plain": [
       "  0%|          | 0/1000 [00:00<?, ?it/s]"
      ]
     },
     "metadata": {},
     "output_type": "display_data"
    },
    {
     "name": "stderr",
     "output_type": "stream",
     "text": [
      "\r",
      " 37%|███▋      | 368/1000 [01:30<02:36,  4.03it/s]"
     ]
    },
    {
     "data": {
      "application/vnd.jupyter.widget-view+json": {
       "model_id": "147a1794cde74369a4827780ac9dae37",
       "version_major": 2,
       "version_minor": 0
      },
      "text/plain": [
       "  0%|          | 0/1000 [00:00<?, ?it/s]"
      ]
     },
     "metadata": {},
     "output_type": "display_data"
    },
    {
     "name": "stderr",
     "output_type": "stream",
     "text": [
      "\r",
      " 37%|███▋      | 369/1000 [01:30<02:48,  3.74it/s]"
     ]
    },
    {
     "data": {
      "application/vnd.jupyter.widget-view+json": {
       "model_id": "998aea8889354e10862201438d8b8480",
       "version_major": 2,
       "version_minor": 0
      },
      "text/plain": [
       "  0%|          | 0/1000 [00:00<?, ?it/s]"
      ]
     },
     "metadata": {},
     "output_type": "display_data"
    },
    {
     "name": "stderr",
     "output_type": "stream",
     "text": [
      "\r",
      " 37%|███▋      | 370/1000 [01:30<02:45,  3.80it/s]"
     ]
    },
    {
     "data": {
      "application/vnd.jupyter.widget-view+json": {
       "model_id": "b7df61ea535c46e7b9906434afc8f1c3",
       "version_major": 2,
       "version_minor": 0
      },
      "text/plain": [
       "  0%|          | 0/1000 [00:00<?, ?it/s]"
      ]
     },
     "metadata": {},
     "output_type": "display_data"
    },
    {
     "name": "stderr",
     "output_type": "stream",
     "text": [
      "\r",
      " 37%|███▋      | 371/1000 [01:30<02:46,  3.78it/s]"
     ]
    },
    {
     "data": {
      "application/vnd.jupyter.widget-view+json": {
       "model_id": "f1b953ea6cda4529a1f7178c317f2bc7",
       "version_major": 2,
       "version_minor": 0
      },
      "text/plain": [
       "  0%|          | 0/1000 [00:00<?, ?it/s]"
      ]
     },
     "metadata": {},
     "output_type": "display_data"
    },
    {
     "name": "stderr",
     "output_type": "stream",
     "text": [
      "\r",
      " 37%|███▋      | 372/1000 [01:31<02:41,  3.89it/s]"
     ]
    },
    {
     "data": {
      "application/vnd.jupyter.widget-view+json": {
       "model_id": "72aad07930ff46b0b459588773ef8907",
       "version_major": 2,
       "version_minor": 0
      },
      "text/plain": [
       "  0%|          | 0/1000 [00:00<?, ?it/s]"
      ]
     },
     "metadata": {},
     "output_type": "display_data"
    },
    {
     "name": "stderr",
     "output_type": "stream",
     "text": [
      "\r",
      " 37%|███▋      | 373/1000 [01:31<02:38,  3.96it/s]"
     ]
    },
    {
     "data": {
      "application/vnd.jupyter.widget-view+json": {
       "model_id": "2af11f8457eb467d94fcfbda578e8748",
       "version_major": 2,
       "version_minor": 0
      },
      "text/plain": [
       "  0%|          | 0/1000 [00:00<?, ?it/s]"
      ]
     },
     "metadata": {},
     "output_type": "display_data"
    },
    {
     "name": "stderr",
     "output_type": "stream",
     "text": [
      "\r",
      " 37%|███▋      | 374/1000 [01:31<02:37,  3.96it/s]"
     ]
    },
    {
     "data": {
      "application/vnd.jupyter.widget-view+json": {
       "model_id": "c3afa37c3c3c4edc8d4f586202110c1b",
       "version_major": 2,
       "version_minor": 0
      },
      "text/plain": [
       "  0%|          | 0/1000 [00:00<?, ?it/s]"
      ]
     },
     "metadata": {},
     "output_type": "display_data"
    },
    {
     "name": "stderr",
     "output_type": "stream",
     "text": [
      "\r",
      " 38%|███▊      | 375/1000 [01:31<02:34,  4.04it/s]"
     ]
    },
    {
     "data": {
      "application/vnd.jupyter.widget-view+json": {
       "model_id": "34d10ac1fc9b4cd6a7556c2d0548b263",
       "version_major": 2,
       "version_minor": 0
      },
      "text/plain": [
       "  0%|          | 0/1000 [00:00<?, ?it/s]"
      ]
     },
     "metadata": {},
     "output_type": "display_data"
    },
    {
     "name": "stderr",
     "output_type": "stream",
     "text": [
      "\r",
      " 38%|███▊      | 376/1000 [01:32<02:32,  4.09it/s]"
     ]
    },
    {
     "data": {
      "application/vnd.jupyter.widget-view+json": {
       "model_id": "1031f7fdeba54dbe87facf686902f6ac",
       "version_major": 2,
       "version_minor": 0
      },
      "text/plain": [
       "  0%|          | 0/1000 [00:00<?, ?it/s]"
      ]
     },
     "metadata": {},
     "output_type": "display_data"
    },
    {
     "name": "stderr",
     "output_type": "stream",
     "text": [
      "\r",
      " 38%|███▊      | 377/1000 [01:32<02:34,  4.02it/s]"
     ]
    },
    {
     "data": {
      "application/vnd.jupyter.widget-view+json": {
       "model_id": "67bea6a9ca4843e8928615fed0436161",
       "version_major": 2,
       "version_minor": 0
      },
      "text/plain": [
       "  0%|          | 0/1000 [00:00<?, ?it/s]"
      ]
     },
     "metadata": {},
     "output_type": "display_data"
    },
    {
     "name": "stderr",
     "output_type": "stream",
     "text": [
      "\r",
      " 38%|███▊      | 378/1000 [01:32<02:34,  4.03it/s]"
     ]
    },
    {
     "data": {
      "application/vnd.jupyter.widget-view+json": {
       "model_id": "fbb18be3e7f14663b99a71e8ac319439",
       "version_major": 2,
       "version_minor": 0
      },
      "text/plain": [
       "  0%|          | 0/1000 [00:00<?, ?it/s]"
      ]
     },
     "metadata": {},
     "output_type": "display_data"
    },
    {
     "name": "stderr",
     "output_type": "stream",
     "text": [
      "\r",
      " 38%|███▊      | 379/1000 [01:32<02:32,  4.07it/s]"
     ]
    },
    {
     "data": {
      "application/vnd.jupyter.widget-view+json": {
       "model_id": "dc8c85438e404d958f745110fd13bbb7",
       "version_major": 2,
       "version_minor": 0
      },
      "text/plain": [
       "  0%|          | 0/1000 [00:00<?, ?it/s]"
      ]
     },
     "metadata": {},
     "output_type": "display_data"
    },
    {
     "name": "stderr",
     "output_type": "stream",
     "text": [
      "\r",
      " 38%|███▊      | 380/1000 [01:33<02:33,  4.04it/s]"
     ]
    },
    {
     "data": {
      "application/vnd.jupyter.widget-view+json": {
       "model_id": "3d662f44c3954a95a81a78bcf8b11f9d",
       "version_major": 2,
       "version_minor": 0
      },
      "text/plain": [
       "  0%|          | 0/1000 [00:00<?, ?it/s]"
      ]
     },
     "metadata": {},
     "output_type": "display_data"
    },
    {
     "name": "stderr",
     "output_type": "stream",
     "text": [
      "\r",
      " 38%|███▊      | 381/1000 [01:33<02:32,  4.05it/s]"
     ]
    },
    {
     "data": {
      "application/vnd.jupyter.widget-view+json": {
       "model_id": "80e9a3b460b849e89b7820122739359c",
       "version_major": 2,
       "version_minor": 0
      },
      "text/plain": [
       "  0%|          | 0/1000 [00:00<?, ?it/s]"
      ]
     },
     "metadata": {},
     "output_type": "display_data"
    },
    {
     "name": "stderr",
     "output_type": "stream",
     "text": [
      "\r",
      " 38%|███▊      | 382/1000 [01:33<02:31,  4.07it/s]"
     ]
    },
    {
     "data": {
      "application/vnd.jupyter.widget-view+json": {
       "model_id": "211a0722586d40e8bb55360fb5966369",
       "version_major": 2,
       "version_minor": 0
      },
      "text/plain": [
       "  0%|          | 0/1000 [00:00<?, ?it/s]"
      ]
     },
     "metadata": {},
     "output_type": "display_data"
    },
    {
     "name": "stderr",
     "output_type": "stream",
     "text": [
      "\r",
      " 38%|███▊      | 383/1000 [01:33<02:31,  4.06it/s]"
     ]
    },
    {
     "data": {
      "application/vnd.jupyter.widget-view+json": {
       "model_id": "6ac41a55c8154771a57c1c88d2b7328a",
       "version_major": 2,
       "version_minor": 0
      },
      "text/plain": [
       "  0%|          | 0/1000 [00:00<?, ?it/s]"
      ]
     },
     "metadata": {},
     "output_type": "display_data"
    },
    {
     "name": "stderr",
     "output_type": "stream",
     "text": [
      "\r",
      " 38%|███▊      | 384/1000 [01:34<02:30,  4.10it/s]"
     ]
    },
    {
     "data": {
      "application/vnd.jupyter.widget-view+json": {
       "model_id": "3758388adc7f44a6810662d38d8393ed",
       "version_major": 2,
       "version_minor": 0
      },
      "text/plain": [
       "  0%|          | 0/1000 [00:00<?, ?it/s]"
      ]
     },
     "metadata": {},
     "output_type": "display_data"
    },
    {
     "name": "stderr",
     "output_type": "stream",
     "text": [
      "\r",
      " 38%|███▊      | 385/1000 [01:34<02:33,  4.01it/s]"
     ]
    },
    {
     "data": {
      "application/vnd.jupyter.widget-view+json": {
       "model_id": "dc874bf7f2974d5fa6f2d317362136c5",
       "version_major": 2,
       "version_minor": 0
      },
      "text/plain": [
       "  0%|          | 0/1000 [00:00<?, ?it/s]"
      ]
     },
     "metadata": {},
     "output_type": "display_data"
    },
    {
     "name": "stderr",
     "output_type": "stream",
     "text": [
      "\r",
      " 39%|███▊      | 386/1000 [01:34<02:35,  3.95it/s]"
     ]
    },
    {
     "data": {
      "application/vnd.jupyter.widget-view+json": {
       "model_id": "49045edd05154051a032b954214ab540",
       "version_major": 2,
       "version_minor": 0
      },
      "text/plain": [
       "  0%|          | 0/1000 [00:00<?, ?it/s]"
      ]
     },
     "metadata": {},
     "output_type": "display_data"
    },
    {
     "name": "stderr",
     "output_type": "stream",
     "text": [
      "\r",
      " 39%|███▊      | 387/1000 [01:34<02:32,  4.03it/s]"
     ]
    },
    {
     "data": {
      "application/vnd.jupyter.widget-view+json": {
       "model_id": "6a3021276137474cb71474f425abe95a",
       "version_major": 2,
       "version_minor": 0
      },
      "text/plain": [
       "  0%|          | 0/1000 [00:00<?, ?it/s]"
      ]
     },
     "metadata": {},
     "output_type": "display_data"
    },
    {
     "name": "stderr",
     "output_type": "stream",
     "text": [
      "\r",
      " 39%|███▉      | 388/1000 [01:35<02:32,  4.02it/s]"
     ]
    },
    {
     "data": {
      "application/vnd.jupyter.widget-view+json": {
       "model_id": "2a67c0736f1c4e0c93a8cf016c34cb4f",
       "version_major": 2,
       "version_minor": 0
      },
      "text/plain": [
       "  0%|          | 0/1000 [00:00<?, ?it/s]"
      ]
     },
     "metadata": {},
     "output_type": "display_data"
    },
    {
     "name": "stderr",
     "output_type": "stream",
     "text": [
      "\r",
      " 39%|███▉      | 389/1000 [01:35<02:30,  4.07it/s]"
     ]
    },
    {
     "data": {
      "application/vnd.jupyter.widget-view+json": {
       "model_id": "7b1e9c6a0dde46b1af1741b564fd55fb",
       "version_major": 2,
       "version_minor": 0
      },
      "text/plain": [
       "  0%|          | 0/1000 [00:00<?, ?it/s]"
      ]
     },
     "metadata": {},
     "output_type": "display_data"
    },
    {
     "name": "stderr",
     "output_type": "stream",
     "text": [
      "\r",
      " 39%|███▉      | 390/1000 [01:35<02:31,  4.02it/s]"
     ]
    },
    {
     "data": {
      "application/vnd.jupyter.widget-view+json": {
       "model_id": "f55390371cb74636b5cfb1ae7ad8726a",
       "version_major": 2,
       "version_minor": 0
      },
      "text/plain": [
       "  0%|          | 0/1000 [00:00<?, ?it/s]"
      ]
     },
     "metadata": {},
     "output_type": "display_data"
    },
    {
     "name": "stderr",
     "output_type": "stream",
     "text": [
      "\r",
      " 39%|███▉      | 391/1000 [01:35<02:30,  4.03it/s]"
     ]
    },
    {
     "data": {
      "application/vnd.jupyter.widget-view+json": {
       "model_id": "2dcd3e53b5cb4ae89d82191dac4eb702",
       "version_major": 2,
       "version_minor": 0
      },
      "text/plain": [
       "  0%|          | 0/1000 [00:00<?, ?it/s]"
      ]
     },
     "metadata": {},
     "output_type": "display_data"
    },
    {
     "name": "stderr",
     "output_type": "stream",
     "text": [
      "\r",
      " 39%|███▉      | 392/1000 [01:36<02:37,  3.85it/s]"
     ]
    },
    {
     "data": {
      "application/vnd.jupyter.widget-view+json": {
       "model_id": "f7176e36114d48dfbcac470c671b74e3",
       "version_major": 2,
       "version_minor": 0
      },
      "text/plain": [
       "  0%|          | 0/1000 [00:00<?, ?it/s]"
      ]
     },
     "metadata": {},
     "output_type": "display_data"
    },
    {
     "name": "stderr",
     "output_type": "stream",
     "text": [
      "\r",
      " 39%|███▉      | 393/1000 [01:36<02:45,  3.67it/s]"
     ]
    },
    {
     "data": {
      "application/vnd.jupyter.widget-view+json": {
       "model_id": "b5d22e3d8e3846a39167f690553bf00d",
       "version_major": 2,
       "version_minor": 0
      },
      "text/plain": [
       "  0%|          | 0/1000 [00:00<?, ?it/s]"
      ]
     },
     "metadata": {},
     "output_type": "display_data"
    },
    {
     "name": "stderr",
     "output_type": "stream",
     "text": [
      "\r",
      " 39%|███▉      | 394/1000 [01:36<02:48,  3.59it/s]"
     ]
    },
    {
     "data": {
      "application/vnd.jupyter.widget-view+json": {
       "model_id": "29663c8e74d940749264cf31c583c7c2",
       "version_major": 2,
       "version_minor": 0
      },
      "text/plain": [
       "  0%|          | 0/1000 [00:00<?, ?it/s]"
      ]
     },
     "metadata": {},
     "output_type": "display_data"
    },
    {
     "name": "stderr",
     "output_type": "stream",
     "text": [
      "\r",
      " 40%|███▉      | 395/1000 [01:36<02:50,  3.56it/s]"
     ]
    },
    {
     "data": {
      "application/vnd.jupyter.widget-view+json": {
       "model_id": "b890a75b61364842aa837f2215ee2962",
       "version_major": 2,
       "version_minor": 0
      },
      "text/plain": [
       "  0%|          | 0/1000 [00:00<?, ?it/s]"
      ]
     },
     "metadata": {},
     "output_type": "display_data"
    },
    {
     "name": "stderr",
     "output_type": "stream",
     "text": [
      "\r",
      " 40%|███▉      | 396/1000 [01:37<02:48,  3.59it/s]"
     ]
    },
    {
     "data": {
      "application/vnd.jupyter.widget-view+json": {
       "model_id": "0c8b319f00e1414ebea3516e0bd67916",
       "version_major": 2,
       "version_minor": 0
      },
      "text/plain": [
       "  0%|          | 0/1000 [00:00<?, ?it/s]"
      ]
     },
     "metadata": {},
     "output_type": "display_data"
    },
    {
     "name": "stderr",
     "output_type": "stream",
     "text": [
      "\r",
      " 40%|███▉      | 397/1000 [01:37<02:42,  3.72it/s]"
     ]
    },
    {
     "data": {
      "application/vnd.jupyter.widget-view+json": {
       "model_id": "0d1278d4770f4f91942a9d3555a2487d",
       "version_major": 2,
       "version_minor": 0
      },
      "text/plain": [
       "  0%|          | 0/1000 [00:00<?, ?it/s]"
      ]
     },
     "metadata": {},
     "output_type": "display_data"
    },
    {
     "name": "stderr",
     "output_type": "stream",
     "text": [
      "\r",
      " 40%|███▉      | 398/1000 [01:37<02:37,  3.83it/s]"
     ]
    },
    {
     "data": {
      "application/vnd.jupyter.widget-view+json": {
       "model_id": "23c82df6271e41708d73620314c930f5",
       "version_major": 2,
       "version_minor": 0
      },
      "text/plain": [
       "  0%|          | 0/1000 [00:00<?, ?it/s]"
      ]
     },
     "metadata": {},
     "output_type": "display_data"
    },
    {
     "name": "stderr",
     "output_type": "stream",
     "text": [
      "\r",
      " 40%|███▉      | 399/1000 [01:37<02:32,  3.93it/s]"
     ]
    },
    {
     "data": {
      "application/vnd.jupyter.widget-view+json": {
       "model_id": "6238cbf632ea422b97b7f55816e86aa5",
       "version_major": 2,
       "version_minor": 0
      },
      "text/plain": [
       "  0%|          | 0/1000 [00:00<?, ?it/s]"
      ]
     },
     "metadata": {},
     "output_type": "display_data"
    },
    {
     "name": "stderr",
     "output_type": "stream",
     "text": [
      "\r",
      " 40%|████      | 400/1000 [01:38<02:36,  3.84it/s]"
     ]
    },
    {
     "data": {
      "application/vnd.jupyter.widget-view+json": {
       "model_id": "3ff214fe6d1a450bb783736079ec29f4",
       "version_major": 2,
       "version_minor": 0
      },
      "text/plain": [
       "  0%|          | 0/1000 [00:00<?, ?it/s]"
      ]
     },
     "metadata": {},
     "output_type": "display_data"
    },
    {
     "name": "stderr",
     "output_type": "stream",
     "text": [
      "\r",
      " 40%|████      | 401/1000 [01:38<02:37,  3.80it/s]"
     ]
    },
    {
     "data": {
      "application/vnd.jupyter.widget-view+json": {
       "model_id": "0eae913cf36740ab9a93435602d31562",
       "version_major": 2,
       "version_minor": 0
      },
      "text/plain": [
       "  0%|          | 0/1000 [00:00<?, ?it/s]"
      ]
     },
     "metadata": {},
     "output_type": "display_data"
    },
    {
     "name": "stderr",
     "output_type": "stream",
     "text": [
      "\r",
      " 40%|████      | 402/1000 [01:38<02:36,  3.83it/s]"
     ]
    },
    {
     "data": {
      "application/vnd.jupyter.widget-view+json": {
       "model_id": "5beced9d43f04fd5816732f2c369a18b",
       "version_major": 2,
       "version_minor": 0
      },
      "text/plain": [
       "  0%|          | 0/1000 [00:00<?, ?it/s]"
      ]
     },
     "metadata": {},
     "output_type": "display_data"
    },
    {
     "name": "stderr",
     "output_type": "stream",
     "text": [
      "\r",
      " 40%|████      | 403/1000 [01:38<02:33,  3.89it/s]"
     ]
    },
    {
     "data": {
      "application/vnd.jupyter.widget-view+json": {
       "model_id": "7b2f53c6cc514c39868b165022398e1b",
       "version_major": 2,
       "version_minor": 0
      },
      "text/plain": [
       "  0%|          | 0/1000 [00:00<?, ?it/s]"
      ]
     },
     "metadata": {},
     "output_type": "display_data"
    },
    {
     "name": "stderr",
     "output_type": "stream",
     "text": [
      "\r",
      " 40%|████      | 404/1000 [01:39<02:32,  3.92it/s]"
     ]
    },
    {
     "data": {
      "application/vnd.jupyter.widget-view+json": {
       "model_id": "dd54dcb111e047928bdfe942d97b3f65",
       "version_major": 2,
       "version_minor": 0
      },
      "text/plain": [
       "  0%|          | 0/1000 [00:00<?, ?it/s]"
      ]
     },
     "metadata": {},
     "output_type": "display_data"
    },
    {
     "name": "stderr",
     "output_type": "stream",
     "text": [
      "\r",
      " 40%|████      | 405/1000 [01:39<02:28,  3.99it/s]"
     ]
    },
    {
     "data": {
      "application/vnd.jupyter.widget-view+json": {
       "model_id": "26db6ba1bd15492e8316b2a9bd9d269d",
       "version_major": 2,
       "version_minor": 0
      },
      "text/plain": [
       "  0%|          | 0/1000 [00:00<?, ?it/s]"
      ]
     },
     "metadata": {},
     "output_type": "display_data"
    },
    {
     "name": "stderr",
     "output_type": "stream",
     "text": [
      "\r",
      " 41%|████      | 406/1000 [01:39<02:26,  4.07it/s]"
     ]
    },
    {
     "data": {
      "application/vnd.jupyter.widget-view+json": {
       "model_id": "cbaa910976804942b591937b686a8609",
       "version_major": 2,
       "version_minor": 0
      },
      "text/plain": [
       "  0%|          | 0/1000 [00:00<?, ?it/s]"
      ]
     },
     "metadata": {},
     "output_type": "display_data"
    },
    {
     "name": "stderr",
     "output_type": "stream",
     "text": [
      "\r",
      " 41%|████      | 407/1000 [01:39<02:24,  4.10it/s]"
     ]
    },
    {
     "data": {
      "application/vnd.jupyter.widget-view+json": {
       "model_id": "70e6515d513b43c4bf02e5ab59162c93",
       "version_major": 2,
       "version_minor": 0
      },
      "text/plain": [
       "  0%|          | 0/1000 [00:00<?, ?it/s]"
      ]
     },
     "metadata": {},
     "output_type": "display_data"
    },
    {
     "name": "stderr",
     "output_type": "stream",
     "text": [
      "\r",
      " 41%|████      | 408/1000 [01:40<02:28,  3.98it/s]"
     ]
    },
    {
     "data": {
      "application/vnd.jupyter.widget-view+json": {
       "model_id": "ff1fed9b446c4ce480a99a844969bc54",
       "version_major": 2,
       "version_minor": 0
      },
      "text/plain": [
       "  0%|          | 0/1000 [00:00<?, ?it/s]"
      ]
     },
     "metadata": {},
     "output_type": "display_data"
    },
    {
     "name": "stderr",
     "output_type": "stream",
     "text": [
      "\r",
      " 41%|████      | 409/1000 [01:40<02:29,  3.96it/s]"
     ]
    },
    {
     "data": {
      "application/vnd.jupyter.widget-view+json": {
       "model_id": "bb2ad5612d56435da3e3bf5e1cf50b83",
       "version_major": 2,
       "version_minor": 0
      },
      "text/plain": [
       "  0%|          | 0/1000 [00:00<?, ?it/s]"
      ]
     },
     "metadata": {},
     "output_type": "display_data"
    },
    {
     "name": "stderr",
     "output_type": "stream",
     "text": [
      "\r",
      " 41%|████      | 410/1000 [01:40<02:26,  4.03it/s]"
     ]
    },
    {
     "data": {
      "application/vnd.jupyter.widget-view+json": {
       "model_id": "cd6445c561984bb29211cd32d16fc530",
       "version_major": 2,
       "version_minor": 0
      },
      "text/plain": [
       "  0%|          | 0/1000 [00:00<?, ?it/s]"
      ]
     },
     "metadata": {},
     "output_type": "display_data"
    },
    {
     "name": "stderr",
     "output_type": "stream",
     "text": [
      "\r",
      " 41%|████      | 411/1000 [01:40<02:27,  3.98it/s]"
     ]
    },
    {
     "data": {
      "application/vnd.jupyter.widget-view+json": {
       "model_id": "c9cd912eaa624be19e98a99dda7a59d1",
       "version_major": 2,
       "version_minor": 0
      },
      "text/plain": [
       "  0%|          | 0/1000 [00:00<?, ?it/s]"
      ]
     },
     "metadata": {},
     "output_type": "display_data"
    },
    {
     "name": "stderr",
     "output_type": "stream",
     "text": [
      "\r",
      " 41%|████      | 412/1000 [01:41<02:26,  4.01it/s]"
     ]
    },
    {
     "data": {
      "application/vnd.jupyter.widget-view+json": {
       "model_id": "5cb96cc843014241928e5125aee95240",
       "version_major": 2,
       "version_minor": 0
      },
      "text/plain": [
       "  0%|          | 0/1000 [00:00<?, ?it/s]"
      ]
     },
     "metadata": {},
     "output_type": "display_data"
    },
    {
     "name": "stderr",
     "output_type": "stream",
     "text": [
      "\r",
      " 41%|████▏     | 413/1000 [01:41<02:26,  3.99it/s]"
     ]
    },
    {
     "data": {
      "application/vnd.jupyter.widget-view+json": {
       "model_id": "63cf1ae829014a678b39e48159ea23d6",
       "version_major": 2,
       "version_minor": 0
      },
      "text/plain": [
       "  0%|          | 0/1000 [00:00<?, ?it/s]"
      ]
     },
     "metadata": {},
     "output_type": "display_data"
    },
    {
     "name": "stderr",
     "output_type": "stream",
     "text": [
      "\r",
      " 41%|████▏     | 414/1000 [01:41<02:25,  4.02it/s]"
     ]
    },
    {
     "data": {
      "application/vnd.jupyter.widget-view+json": {
       "model_id": "6d7d13d3182c495db3b9fa6cb36c496c",
       "version_major": 2,
       "version_minor": 0
      },
      "text/plain": [
       "  0%|          | 0/1000 [00:00<?, ?it/s]"
      ]
     },
     "metadata": {},
     "output_type": "display_data"
    },
    {
     "name": "stderr",
     "output_type": "stream",
     "text": [
      "\r",
      " 42%|████▏     | 415/1000 [01:41<02:27,  3.97it/s]"
     ]
    },
    {
     "data": {
      "application/vnd.jupyter.widget-view+json": {
       "model_id": "de2098f26b764ffe9d576335da650714",
       "version_major": 2,
       "version_minor": 0
      },
      "text/plain": [
       "  0%|          | 0/1000 [00:00<?, ?it/s]"
      ]
     },
     "metadata": {},
     "output_type": "display_data"
    },
    {
     "name": "stderr",
     "output_type": "stream",
     "text": [
      "\r",
      " 42%|████▏     | 416/1000 [01:42<02:28,  3.93it/s]"
     ]
    },
    {
     "data": {
      "application/vnd.jupyter.widget-view+json": {
       "model_id": "14d2cf17991f4e35ae33a201aca2db00",
       "version_major": 2,
       "version_minor": 0
      },
      "text/plain": [
       "  0%|          | 0/1000 [00:00<?, ?it/s]"
      ]
     },
     "metadata": {},
     "output_type": "display_data"
    },
    {
     "name": "stderr",
     "output_type": "stream",
     "text": [
      "\r",
      " 42%|████▏     | 417/1000 [01:42<02:25,  4.00it/s]"
     ]
    },
    {
     "data": {
      "application/vnd.jupyter.widget-view+json": {
       "model_id": "0e8599dad8e24b03905d870ed56e3d56",
       "version_major": 2,
       "version_minor": 0
      },
      "text/plain": [
       "  0%|          | 0/1000 [00:00<?, ?it/s]"
      ]
     },
     "metadata": {},
     "output_type": "display_data"
    },
    {
     "name": "stderr",
     "output_type": "stream",
     "text": [
      "\r",
      " 42%|████▏     | 418/1000 [01:42<02:23,  4.07it/s]"
     ]
    },
    {
     "data": {
      "application/vnd.jupyter.widget-view+json": {
       "model_id": "5f6925fce71b4f098d4e48132c9055c7",
       "version_major": 2,
       "version_minor": 0
      },
      "text/plain": [
       "  0%|          | 0/1000 [00:00<?, ?it/s]"
      ]
     },
     "metadata": {},
     "output_type": "display_data"
    },
    {
     "name": "stderr",
     "output_type": "stream",
     "text": [
      "\r",
      " 42%|████▏     | 419/1000 [01:42<02:23,  4.04it/s]"
     ]
    },
    {
     "data": {
      "application/vnd.jupyter.widget-view+json": {
       "model_id": "1db6cd6434444c4dac6380d46fbb0607",
       "version_major": 2,
       "version_minor": 0
      },
      "text/plain": [
       "  0%|          | 0/1000 [00:00<?, ?it/s]"
      ]
     },
     "metadata": {},
     "output_type": "display_data"
    },
    {
     "name": "stderr",
     "output_type": "stream",
     "text": [
      "\r",
      " 42%|████▏     | 420/1000 [01:43<02:22,  4.07it/s]"
     ]
    },
    {
     "data": {
      "application/vnd.jupyter.widget-view+json": {
       "model_id": "834f1f9f12414a229c14b4468d10c95f",
       "version_major": 2,
       "version_minor": 0
      },
      "text/plain": [
       "  0%|          | 0/1000 [00:00<?, ?it/s]"
      ]
     },
     "metadata": {},
     "output_type": "display_data"
    },
    {
     "name": "stderr",
     "output_type": "stream",
     "text": [
      "\r",
      " 42%|████▏     | 421/1000 [01:43<02:21,  4.09it/s]"
     ]
    },
    {
     "data": {
      "application/vnd.jupyter.widget-view+json": {
       "model_id": "4ced92e0607045f58d4afe4952279111",
       "version_major": 2,
       "version_minor": 0
      },
      "text/plain": [
       "  0%|          | 0/1000 [00:00<?, ?it/s]"
      ]
     },
     "metadata": {},
     "output_type": "display_data"
    },
    {
     "name": "stderr",
     "output_type": "stream",
     "text": [
      "\r",
      " 42%|████▏     | 422/1000 [01:43<02:20,  4.12it/s]"
     ]
    },
    {
     "data": {
      "application/vnd.jupyter.widget-view+json": {
       "model_id": "671edd2d2cda43e2aa30f4721399194f",
       "version_major": 2,
       "version_minor": 0
      },
      "text/plain": [
       "  0%|          | 0/1000 [00:00<?, ?it/s]"
      ]
     },
     "metadata": {},
     "output_type": "display_data"
    },
    {
     "name": "stderr",
     "output_type": "stream",
     "text": [
      "\r",
      " 42%|████▏     | 423/1000 [01:43<02:19,  4.15it/s]"
     ]
    },
    {
     "data": {
      "application/vnd.jupyter.widget-view+json": {
       "model_id": "bd7cd729837b4ec1b7bf55774966193e",
       "version_major": 2,
       "version_minor": 0
      },
      "text/plain": [
       "  0%|          | 0/1000 [00:00<?, ?it/s]"
      ]
     },
     "metadata": {},
     "output_type": "display_data"
    },
    {
     "name": "stderr",
     "output_type": "stream",
     "text": [
      "\r",
      " 42%|████▏     | 424/1000 [01:44<02:23,  4.01it/s]"
     ]
    },
    {
     "data": {
      "application/vnd.jupyter.widget-view+json": {
       "model_id": "9f33e5e1f09946a0a57c400cfc9b4c96",
       "version_major": 2,
       "version_minor": 0
      },
      "text/plain": [
       "  0%|          | 0/1000 [00:00<?, ?it/s]"
      ]
     },
     "metadata": {},
     "output_type": "display_data"
    },
    {
     "name": "stderr",
     "output_type": "stream",
     "text": [
      "\r",
      " 42%|████▎     | 425/1000 [01:44<02:23,  4.02it/s]"
     ]
    },
    {
     "data": {
      "application/vnd.jupyter.widget-view+json": {
       "model_id": "2daff228ef0e4a88b9e5502987c0c416",
       "version_major": 2,
       "version_minor": 0
      },
      "text/plain": [
       "  0%|          | 0/1000 [00:00<?, ?it/s]"
      ]
     },
     "metadata": {},
     "output_type": "display_data"
    },
    {
     "name": "stderr",
     "output_type": "stream",
     "text": [
      "\r",
      " 43%|████▎     | 426/1000 [01:44<02:24,  3.96it/s]"
     ]
    },
    {
     "data": {
      "application/vnd.jupyter.widget-view+json": {
       "model_id": "75668750f8664f0aaa1806d4571d2ed2",
       "version_major": 2,
       "version_minor": 0
      },
      "text/plain": [
       "  0%|          | 0/1000 [00:00<?, ?it/s]"
      ]
     },
     "metadata": {},
     "output_type": "display_data"
    },
    {
     "name": "stderr",
     "output_type": "stream",
     "text": [
      "\r",
      " 43%|████▎     | 427/1000 [01:44<02:20,  4.09it/s]"
     ]
    },
    {
     "data": {
      "application/vnd.jupyter.widget-view+json": {
       "model_id": "3119a3d5649648fd8ff5dc7032fb1a0d",
       "version_major": 2,
       "version_minor": 0
      },
      "text/plain": [
       "  0%|          | 0/1000 [00:00<?, ?it/s]"
      ]
     },
     "metadata": {},
     "output_type": "display_data"
    },
    {
     "name": "stderr",
     "output_type": "stream",
     "text": [
      "\r",
      " 43%|████▎     | 428/1000 [01:45<02:21,  4.03it/s]"
     ]
    },
    {
     "data": {
      "application/vnd.jupyter.widget-view+json": {
       "model_id": "defce4f0f772487286c1e5a3f770aa2c",
       "version_major": 2,
       "version_minor": 0
      },
      "text/plain": [
       "  0%|          | 0/1000 [00:00<?, ?it/s]"
      ]
     },
     "metadata": {},
     "output_type": "display_data"
    },
    {
     "name": "stderr",
     "output_type": "stream",
     "text": [
      "\r",
      " 43%|████▎     | 429/1000 [01:45<02:20,  4.06it/s]"
     ]
    },
    {
     "data": {
      "application/vnd.jupyter.widget-view+json": {
       "model_id": "03fcb949e110418da0210fc45d568ba3",
       "version_major": 2,
       "version_minor": 0
      },
      "text/plain": [
       "  0%|          | 0/1000 [00:00<?, ?it/s]"
      ]
     },
     "metadata": {},
     "output_type": "display_data"
    },
    {
     "name": "stderr",
     "output_type": "stream",
     "text": [
      "\r",
      " 43%|████▎     | 430/1000 [01:45<02:21,  4.03it/s]"
     ]
    },
    {
     "data": {
      "application/vnd.jupyter.widget-view+json": {
       "model_id": "89b05d93434e436b9493ff4b6d19a01e",
       "version_major": 2,
       "version_minor": 0
      },
      "text/plain": [
       "  0%|          | 0/1000 [00:00<?, ?it/s]"
      ]
     },
     "metadata": {},
     "output_type": "display_data"
    },
    {
     "name": "stderr",
     "output_type": "stream",
     "text": [
      "\r",
      " 43%|████▎     | 431/1000 [01:45<02:21,  4.03it/s]"
     ]
    },
    {
     "data": {
      "application/vnd.jupyter.widget-view+json": {
       "model_id": "ef1debc3eb99473f9ce38afcb41f8202",
       "version_major": 2,
       "version_minor": 0
      },
      "text/plain": [
       "  0%|          | 0/1000 [00:00<?, ?it/s]"
      ]
     },
     "metadata": {},
     "output_type": "display_data"
    },
    {
     "name": "stderr",
     "output_type": "stream",
     "text": [
      "\r",
      " 43%|████▎     | 432/1000 [01:46<02:25,  3.91it/s]"
     ]
    },
    {
     "data": {
      "application/vnd.jupyter.widget-view+json": {
       "model_id": "98193487337b4f07b383b3b179f67958",
       "version_major": 2,
       "version_minor": 0
      },
      "text/plain": [
       "  0%|          | 0/1000 [00:00<?, ?it/s]"
      ]
     },
     "metadata": {},
     "output_type": "display_data"
    },
    {
     "name": "stderr",
     "output_type": "stream",
     "text": [
      "\r",
      " 43%|████▎     | 433/1000 [01:46<02:24,  3.92it/s]"
     ]
    },
    {
     "data": {
      "application/vnd.jupyter.widget-view+json": {
       "model_id": "b407a9a138bb4278bb026496e2193e97",
       "version_major": 2,
       "version_minor": 0
      },
      "text/plain": [
       "  0%|          | 0/1000 [00:00<?, ?it/s]"
      ]
     },
     "metadata": {},
     "output_type": "display_data"
    },
    {
     "name": "stderr",
     "output_type": "stream",
     "text": [
      "\r",
      " 43%|████▎     | 434/1000 [01:46<02:22,  3.98it/s]"
     ]
    },
    {
     "data": {
      "application/vnd.jupyter.widget-view+json": {
       "model_id": "fe30e8e9eea84d9d94766d558a5f3af9",
       "version_major": 2,
       "version_minor": 0
      },
      "text/plain": [
       "  0%|          | 0/1000 [00:00<?, ?it/s]"
      ]
     },
     "metadata": {},
     "output_type": "display_data"
    },
    {
     "name": "stderr",
     "output_type": "stream",
     "text": [
      "\r",
      " 44%|████▎     | 435/1000 [01:46<02:20,  4.01it/s]"
     ]
    },
    {
     "data": {
      "application/vnd.jupyter.widget-view+json": {
       "model_id": "53cacd023e6d4ba2b0d7a16197f072bb",
       "version_major": 2,
       "version_minor": 0
      },
      "text/plain": [
       "  0%|          | 0/1000 [00:00<?, ?it/s]"
      ]
     },
     "metadata": {},
     "output_type": "display_data"
    },
    {
     "name": "stderr",
     "output_type": "stream",
     "text": [
      "\r",
      " 44%|████▎     | 436/1000 [01:47<02:21,  3.99it/s]"
     ]
    },
    {
     "data": {
      "application/vnd.jupyter.widget-view+json": {
       "model_id": "7d4526c53d1c41f682fdc99b693af40f",
       "version_major": 2,
       "version_minor": 0
      },
      "text/plain": [
       "  0%|          | 0/1000 [00:00<?, ?it/s]"
      ]
     },
     "metadata": {},
     "output_type": "display_data"
    },
    {
     "name": "stderr",
     "output_type": "stream",
     "text": [
      "\r",
      " 44%|████▎     | 437/1000 [01:47<02:22,  3.96it/s]"
     ]
    },
    {
     "data": {
      "application/vnd.jupyter.widget-view+json": {
       "model_id": "2b3a3afcf0364be4a080720e2b048cc0",
       "version_major": 2,
       "version_minor": 0
      },
      "text/plain": [
       "  0%|          | 0/1000 [00:00<?, ?it/s]"
      ]
     },
     "metadata": {},
     "output_type": "display_data"
    },
    {
     "name": "stderr",
     "output_type": "stream",
     "text": [
      "\r",
      " 44%|████▍     | 438/1000 [01:47<02:22,  3.93it/s]"
     ]
    },
    {
     "data": {
      "application/vnd.jupyter.widget-view+json": {
       "model_id": "2e3d1763e5cf40269fad30b5f50d346e",
       "version_major": 2,
       "version_minor": 0
      },
      "text/plain": [
       "  0%|          | 0/1000 [00:00<?, ?it/s]"
      ]
     },
     "metadata": {},
     "output_type": "display_data"
    },
    {
     "name": "stderr",
     "output_type": "stream",
     "text": [
      "\r",
      " 44%|████▍     | 439/1000 [01:47<02:20,  3.99it/s]"
     ]
    },
    {
     "data": {
      "application/vnd.jupyter.widget-view+json": {
       "model_id": "1646df2aec954aa28d1376ad1e3fcd11",
       "version_major": 2,
       "version_minor": 0
      },
      "text/plain": [
       "  0%|          | 0/1000 [00:00<?, ?it/s]"
      ]
     },
     "metadata": {},
     "output_type": "display_data"
    },
    {
     "name": "stderr",
     "output_type": "stream",
     "text": [
      "\r",
      " 44%|████▍     | 440/1000 [01:48<02:26,  3.83it/s]"
     ]
    },
    {
     "data": {
      "application/vnd.jupyter.widget-view+json": {
       "model_id": "bbdfa6725e124d96a416109874daede2",
       "version_major": 2,
       "version_minor": 0
      },
      "text/plain": [
       "  0%|          | 0/1000 [00:00<?, ?it/s]"
      ]
     },
     "metadata": {},
     "output_type": "display_data"
    },
    {
     "name": "stderr",
     "output_type": "stream",
     "text": [
      "\r",
      " 44%|████▍     | 441/1000 [01:48<02:21,  3.94it/s]"
     ]
    },
    {
     "data": {
      "application/vnd.jupyter.widget-view+json": {
       "model_id": "8ecca4268d3a4ba9b0235c8079cd3939",
       "version_major": 2,
       "version_minor": 0
      },
      "text/plain": [
       "  0%|          | 0/1000 [00:00<?, ?it/s]"
      ]
     },
     "metadata": {},
     "output_type": "display_data"
    },
    {
     "name": "stderr",
     "output_type": "stream",
     "text": [
      "\r",
      " 44%|████▍     | 442/1000 [01:48<02:21,  3.95it/s]"
     ]
    },
    {
     "data": {
      "application/vnd.jupyter.widget-view+json": {
       "model_id": "66cd941dfd844fefb7e1aa8e47125a73",
       "version_major": 2,
       "version_minor": 0
      },
      "text/plain": [
       "  0%|          | 0/1000 [00:00<?, ?it/s]"
      ]
     },
     "metadata": {},
     "output_type": "display_data"
    },
    {
     "name": "stderr",
     "output_type": "stream",
     "text": [
      "\r",
      " 44%|████▍     | 443/1000 [01:48<02:19,  4.01it/s]"
     ]
    },
    {
     "data": {
      "application/vnd.jupyter.widget-view+json": {
       "model_id": "b8347d1675a5442a882aad744b26054b",
       "version_major": 2,
       "version_minor": 0
      },
      "text/plain": [
       "  0%|          | 0/1000 [00:00<?, ?it/s]"
      ]
     },
     "metadata": {},
     "output_type": "display_data"
    },
    {
     "name": "stderr",
     "output_type": "stream",
     "text": [
      "\r",
      " 44%|████▍     | 444/1000 [01:49<02:21,  3.93it/s]"
     ]
    },
    {
     "data": {
      "application/vnd.jupyter.widget-view+json": {
       "model_id": "884811307780453293d5ea3a5965e8d3",
       "version_major": 2,
       "version_minor": 0
      },
      "text/plain": [
       "  0%|          | 0/1000 [00:00<?, ?it/s]"
      ]
     },
     "metadata": {},
     "output_type": "display_data"
    },
    {
     "name": "stderr",
     "output_type": "stream",
     "text": [
      "\r",
      " 44%|████▍     | 445/1000 [01:49<02:35,  3.58it/s]"
     ]
    },
    {
     "data": {
      "application/vnd.jupyter.widget-view+json": {
       "model_id": "b8ca2c6e68664f6099eb3b3e27727c57",
       "version_major": 2,
       "version_minor": 0
      },
      "text/plain": [
       "  0%|          | 0/1000 [00:00<?, ?it/s]"
      ]
     },
     "metadata": {},
     "output_type": "display_data"
    },
    {
     "name": "stderr",
     "output_type": "stream",
     "text": [
      "\r",
      " 45%|████▍     | 446/1000 [01:49<02:55,  3.16it/s]"
     ]
    },
    {
     "data": {
      "application/vnd.jupyter.widget-view+json": {
       "model_id": "a732d2ee101e4d058aaf8b27c073da8b",
       "version_major": 2,
       "version_minor": 0
      },
      "text/plain": [
       "  0%|          | 0/1000 [00:00<?, ?it/s]"
      ]
     },
     "metadata": {},
     "output_type": "display_data"
    },
    {
     "name": "stderr",
     "output_type": "stream",
     "text": [
      "\r",
      " 45%|████▍     | 447/1000 [01:50<03:02,  3.04it/s]"
     ]
    },
    {
     "data": {
      "application/vnd.jupyter.widget-view+json": {
       "model_id": "359ed51f67724e479717a7bc4d0cd6d0",
       "version_major": 2,
       "version_minor": 0
      },
      "text/plain": [
       "  0%|          | 0/1000 [00:00<?, ?it/s]"
      ]
     },
     "metadata": {},
     "output_type": "display_data"
    },
    {
     "name": "stderr",
     "output_type": "stream",
     "text": [
      "\r",
      " 45%|████▍     | 448/1000 [01:50<03:07,  2.95it/s]"
     ]
    },
    {
     "data": {
      "application/vnd.jupyter.widget-view+json": {
       "model_id": "9524b2e91159427c979e99a1bb4876b3",
       "version_major": 2,
       "version_minor": 0
      },
      "text/plain": [
       "  0%|          | 0/1000 [00:00<?, ?it/s]"
      ]
     },
     "metadata": {},
     "output_type": "display_data"
    },
    {
     "name": "stderr",
     "output_type": "stream",
     "text": [
      "\r",
      " 45%|████▍     | 449/1000 [01:51<03:14,  2.83it/s]"
     ]
    },
    {
     "data": {
      "application/vnd.jupyter.widget-view+json": {
       "model_id": "5a650fd8aad34076af6ad870056bd4e9",
       "version_major": 2,
       "version_minor": 0
      },
      "text/plain": [
       "  0%|          | 0/1000 [00:00<?, ?it/s]"
      ]
     },
     "metadata": {},
     "output_type": "display_data"
    },
    {
     "name": "stderr",
     "output_type": "stream",
     "text": [
      "\r",
      " 45%|████▌     | 450/1000 [01:51<02:59,  3.07it/s]"
     ]
    },
    {
     "data": {
      "application/vnd.jupyter.widget-view+json": {
       "model_id": "a2488f8b0a9547e08f74d5141ac4ea2c",
       "version_major": 2,
       "version_minor": 0
      },
      "text/plain": [
       "  0%|          | 0/1000 [00:00<?, ?it/s]"
      ]
     },
     "metadata": {},
     "output_type": "display_data"
    },
    {
     "name": "stderr",
     "output_type": "stream",
     "text": [
      "\r",
      " 45%|████▌     | 451/1000 [01:51<02:45,  3.32it/s]"
     ]
    },
    {
     "data": {
      "application/vnd.jupyter.widget-view+json": {
       "model_id": "9b4726f8f7a14b65afc65cf3b1041dba",
       "version_major": 2,
       "version_minor": 0
      },
      "text/plain": [
       "  0%|          | 0/1000 [00:00<?, ?it/s]"
      ]
     },
     "metadata": {},
     "output_type": "display_data"
    },
    {
     "name": "stderr",
     "output_type": "stream",
     "text": [
      "\r",
      " 45%|████▌     | 452/1000 [01:51<02:34,  3.54it/s]"
     ]
    },
    {
     "data": {
      "application/vnd.jupyter.widget-view+json": {
       "model_id": "6f023788d6754e3a860f63cef56d40bf",
       "version_major": 2,
       "version_minor": 0
      },
      "text/plain": [
       "  0%|          | 0/1000 [00:00<?, ?it/s]"
      ]
     },
     "metadata": {},
     "output_type": "display_data"
    },
    {
     "name": "stderr",
     "output_type": "stream",
     "text": [
      "\r",
      " 45%|████▌     | 453/1000 [01:52<02:30,  3.63it/s]"
     ]
    },
    {
     "data": {
      "application/vnd.jupyter.widget-view+json": {
       "model_id": "f43dc21209104801a069215feddeabae",
       "version_major": 2,
       "version_minor": 0
      },
      "text/plain": [
       "  0%|          | 0/1000 [00:00<?, ?it/s]"
      ]
     },
     "metadata": {},
     "output_type": "display_data"
    },
    {
     "name": "stderr",
     "output_type": "stream",
     "text": [
      "\r",
      " 45%|████▌     | 454/1000 [01:52<03:01,  3.01it/s]"
     ]
    },
    {
     "data": {
      "application/vnd.jupyter.widget-view+json": {
       "model_id": "1c86c802ceb24b1088db65340cb42c1e",
       "version_major": 2,
       "version_minor": 0
      },
      "text/plain": [
       "  0%|          | 0/1000 [00:00<?, ?it/s]"
      ]
     },
     "metadata": {},
     "output_type": "display_data"
    },
    {
     "name": "stderr",
     "output_type": "stream",
     "text": [
      "\r",
      " 46%|████▌     | 455/1000 [01:52<02:55,  3.10it/s]"
     ]
    },
    {
     "data": {
      "application/vnd.jupyter.widget-view+json": {
       "model_id": "cd5ace73d90f411f9238738f9bbc3a19",
       "version_major": 2,
       "version_minor": 0
      },
      "text/plain": [
       "  0%|          | 0/1000 [00:00<?, ?it/s]"
      ]
     },
     "metadata": {},
     "output_type": "display_data"
    },
    {
     "name": "stderr",
     "output_type": "stream",
     "text": [
      "\r",
      " 46%|████▌     | 456/1000 [01:53<02:47,  3.26it/s]"
     ]
    },
    {
     "data": {
      "application/vnd.jupyter.widget-view+json": {
       "model_id": "954a89dc71f54fb4a2a4f33323a44370",
       "version_major": 2,
       "version_minor": 0
      },
      "text/plain": [
       "  0%|          | 0/1000 [00:00<?, ?it/s]"
      ]
     },
     "metadata": {},
     "output_type": "display_data"
    },
    {
     "name": "stderr",
     "output_type": "stream",
     "text": [
      "\r",
      " 46%|████▌     | 457/1000 [01:53<02:37,  3.44it/s]"
     ]
    },
    {
     "data": {
      "application/vnd.jupyter.widget-view+json": {
       "model_id": "6b78b114a24a407f8c88c04944f68f74",
       "version_major": 2,
       "version_minor": 0
      },
      "text/plain": [
       "  0%|          | 0/1000 [00:00<?, ?it/s]"
      ]
     },
     "metadata": {},
     "output_type": "display_data"
    },
    {
     "name": "stderr",
     "output_type": "stream",
     "text": [
      "\r",
      " 46%|████▌     | 458/1000 [01:53<02:30,  3.61it/s]"
     ]
    },
    {
     "data": {
      "application/vnd.jupyter.widget-view+json": {
       "model_id": "083ceaef30c84d73ac943fb813c827ed",
       "version_major": 2,
       "version_minor": 0
      },
      "text/plain": [
       "  0%|          | 0/1000 [00:00<?, ?it/s]"
      ]
     },
     "metadata": {},
     "output_type": "display_data"
    },
    {
     "name": "stderr",
     "output_type": "stream",
     "text": [
      "\r",
      " 46%|████▌     | 459/1000 [01:53<02:25,  3.71it/s]"
     ]
    },
    {
     "data": {
      "application/vnd.jupyter.widget-view+json": {
       "model_id": "8295fdd73dae4c8c9a364eadd7034674",
       "version_major": 2,
       "version_minor": 0
      },
      "text/plain": [
       "  0%|          | 0/1000 [00:00<?, ?it/s]"
      ]
     },
     "metadata": {},
     "output_type": "display_data"
    },
    {
     "name": "stderr",
     "output_type": "stream",
     "text": [
      "\r",
      " 46%|████▌     | 460/1000 [01:54<02:24,  3.75it/s]"
     ]
    },
    {
     "data": {
      "application/vnd.jupyter.widget-view+json": {
       "model_id": "447514c54bf8430b8cef64093b34b25f",
       "version_major": 2,
       "version_minor": 0
      },
      "text/plain": [
       "  0%|          | 0/1000 [00:00<?, ?it/s]"
      ]
     },
     "metadata": {},
     "output_type": "display_data"
    },
    {
     "name": "stderr",
     "output_type": "stream",
     "text": [
      "\r",
      " 46%|████▌     | 461/1000 [01:54<02:21,  3.80it/s]"
     ]
    },
    {
     "data": {
      "application/vnd.jupyter.widget-view+json": {
       "model_id": "77ba7ac03db34abf98897a79656679c0",
       "version_major": 2,
       "version_minor": 0
      },
      "text/plain": [
       "  0%|          | 0/1000 [00:00<?, ?it/s]"
      ]
     },
     "metadata": {},
     "output_type": "display_data"
    },
    {
     "name": "stderr",
     "output_type": "stream",
     "text": [
      "\r",
      " 46%|████▌     | 462/1000 [01:54<02:19,  3.84it/s]"
     ]
    },
    {
     "data": {
      "application/vnd.jupyter.widget-view+json": {
       "model_id": "24293d297c294c7f8d916088e16b2296",
       "version_major": 2,
       "version_minor": 0
      },
      "text/plain": [
       "  0%|          | 0/1000 [00:00<?, ?it/s]"
      ]
     },
     "metadata": {},
     "output_type": "display_data"
    },
    {
     "name": "stderr",
     "output_type": "stream",
     "text": [
      "\r",
      " 46%|████▋     | 463/1000 [01:54<02:16,  3.94it/s]"
     ]
    },
    {
     "data": {
      "application/vnd.jupyter.widget-view+json": {
       "model_id": "32cbefbc0ddb4746a6c1d6fb425f6d2c",
       "version_major": 2,
       "version_minor": 0
      },
      "text/plain": [
       "  0%|          | 0/1000 [00:00<?, ?it/s]"
      ]
     },
     "metadata": {},
     "output_type": "display_data"
    },
    {
     "name": "stderr",
     "output_type": "stream",
     "text": [
      "\r",
      " 46%|████▋     | 464/1000 [01:55<02:16,  3.92it/s]"
     ]
    },
    {
     "data": {
      "application/vnd.jupyter.widget-view+json": {
       "model_id": "d6c4f5e353944ecfae98b3dc24066514",
       "version_major": 2,
       "version_minor": 0
      },
      "text/plain": [
       "  0%|          | 0/1000 [00:00<?, ?it/s]"
      ]
     },
     "metadata": {},
     "output_type": "display_data"
    },
    {
     "name": "stderr",
     "output_type": "stream",
     "text": [
      "\r",
      " 46%|████▋     | 465/1000 [01:55<02:16,  3.91it/s]"
     ]
    },
    {
     "data": {
      "application/vnd.jupyter.widget-view+json": {
       "model_id": "d124d850d40b4063a9236cd7ea31fd7c",
       "version_major": 2,
       "version_minor": 0
      },
      "text/plain": [
       "  0%|          | 0/1000 [00:00<?, ?it/s]"
      ]
     },
     "metadata": {},
     "output_type": "display_data"
    },
    {
     "name": "stderr",
     "output_type": "stream",
     "text": [
      "\r",
      " 47%|████▋     | 466/1000 [01:55<02:14,  3.96it/s]"
     ]
    },
    {
     "data": {
      "application/vnd.jupyter.widget-view+json": {
       "model_id": "b8ab6c61cbe642c4bdba61aa1603a935",
       "version_major": 2,
       "version_minor": 0
      },
      "text/plain": [
       "  0%|          | 0/1000 [00:00<?, ?it/s]"
      ]
     },
     "metadata": {},
     "output_type": "display_data"
    },
    {
     "name": "stderr",
     "output_type": "stream",
     "text": [
      "\r",
      " 47%|████▋     | 467/1000 [01:55<02:14,  3.97it/s]"
     ]
    },
    {
     "data": {
      "application/vnd.jupyter.widget-view+json": {
       "model_id": "b0b4a23e4f8847f8b8e175fbbdb9822d",
       "version_major": 2,
       "version_minor": 0
      },
      "text/plain": [
       "  0%|          | 0/1000 [00:00<?, ?it/s]"
      ]
     },
     "metadata": {},
     "output_type": "display_data"
    },
    {
     "name": "stderr",
     "output_type": "stream",
     "text": [
      "\r",
      " 47%|████▋     | 468/1000 [01:56<02:15,  3.92it/s]"
     ]
    },
    {
     "data": {
      "application/vnd.jupyter.widget-view+json": {
       "model_id": "d3baa69a1eca4440921532818b0cb8bb",
       "version_major": 2,
       "version_minor": 0
      },
      "text/plain": [
       "  0%|          | 0/1000 [00:00<?, ?it/s]"
      ]
     },
     "metadata": {},
     "output_type": "display_data"
    },
    {
     "name": "stderr",
     "output_type": "stream",
     "text": [
      "\r",
      " 47%|████▋     | 469/1000 [01:56<02:17,  3.85it/s]"
     ]
    },
    {
     "data": {
      "application/vnd.jupyter.widget-view+json": {
       "model_id": "33ea6f399b684be4ab02606320a378d9",
       "version_major": 2,
       "version_minor": 0
      },
      "text/plain": [
       "  0%|          | 0/1000 [00:00<?, ?it/s]"
      ]
     },
     "metadata": {},
     "output_type": "display_data"
    },
    {
     "name": "stderr",
     "output_type": "stream",
     "text": [
      "\r",
      " 47%|████▋     | 470/1000 [01:56<02:16,  3.87it/s]"
     ]
    },
    {
     "data": {
      "application/vnd.jupyter.widget-view+json": {
       "model_id": "ca45a5b29c4149d9808267018ba5cedd",
       "version_major": 2,
       "version_minor": 0
      },
      "text/plain": [
       "  0%|          | 0/1000 [00:00<?, ?it/s]"
      ]
     },
     "metadata": {},
     "output_type": "display_data"
    },
    {
     "name": "stderr",
     "output_type": "stream",
     "text": [
      "\r",
      " 47%|████▋     | 471/1000 [01:56<02:14,  3.92it/s]"
     ]
    },
    {
     "data": {
      "application/vnd.jupyter.widget-view+json": {
       "model_id": "d2744331a07545e688ff47fb42c958f2",
       "version_major": 2,
       "version_minor": 0
      },
      "text/plain": [
       "  0%|          | 0/1000 [00:00<?, ?it/s]"
      ]
     },
     "metadata": {},
     "output_type": "display_data"
    },
    {
     "name": "stderr",
     "output_type": "stream",
     "text": [
      "\r",
      " 47%|████▋     | 472/1000 [01:57<02:13,  3.95it/s]"
     ]
    },
    {
     "data": {
      "application/vnd.jupyter.widget-view+json": {
       "model_id": "208e04573fb94ba28aac37200dcc603e",
       "version_major": 2,
       "version_minor": 0
      },
      "text/plain": [
       "  0%|          | 0/1000 [00:00<?, ?it/s]"
      ]
     },
     "metadata": {},
     "output_type": "display_data"
    },
    {
     "name": "stderr",
     "output_type": "stream",
     "text": [
      "\r",
      " 47%|████▋     | 473/1000 [01:57<02:14,  3.91it/s]"
     ]
    },
    {
     "data": {
      "application/vnd.jupyter.widget-view+json": {
       "model_id": "8c8b64e11aac42a4b8c9c8afc27d1f2d",
       "version_major": 2,
       "version_minor": 0
      },
      "text/plain": [
       "  0%|          | 0/1000 [00:00<?, ?it/s]"
      ]
     },
     "metadata": {},
     "output_type": "display_data"
    },
    {
     "name": "stderr",
     "output_type": "stream",
     "text": [
      "\r",
      " 47%|████▋     | 474/1000 [01:57<02:15,  3.88it/s]"
     ]
    },
    {
     "data": {
      "application/vnd.jupyter.widget-view+json": {
       "model_id": "b2e406219de948ad9ebaddfbffe4a852",
       "version_major": 2,
       "version_minor": 0
      },
      "text/plain": [
       "  0%|          | 0/1000 [00:00<?, ?it/s]"
      ]
     },
     "metadata": {},
     "output_type": "display_data"
    },
    {
     "name": "stderr",
     "output_type": "stream",
     "text": [
      "\r",
      " 48%|████▊     | 475/1000 [01:57<02:14,  3.90it/s]"
     ]
    },
    {
     "data": {
      "application/vnd.jupyter.widget-view+json": {
       "model_id": "b734f900d2b84f348c979020d8c84615",
       "version_major": 2,
       "version_minor": 0
      },
      "text/plain": [
       "  0%|          | 0/1000 [00:00<?, ?it/s]"
      ]
     },
     "metadata": {},
     "output_type": "display_data"
    },
    {
     "name": "stderr",
     "output_type": "stream",
     "text": [
      "\r",
      " 48%|████▊     | 476/1000 [01:58<02:16,  3.85it/s]"
     ]
    },
    {
     "data": {
      "application/vnd.jupyter.widget-view+json": {
       "model_id": "c97eb636a47a44779aad784a626ff150",
       "version_major": 2,
       "version_minor": 0
      },
      "text/plain": [
       "  0%|          | 0/1000 [00:00<?, ?it/s]"
      ]
     },
     "metadata": {},
     "output_type": "display_data"
    },
    {
     "name": "stderr",
     "output_type": "stream",
     "text": [
      "\r",
      " 48%|████▊     | 477/1000 [01:58<02:20,  3.73it/s]"
     ]
    },
    {
     "data": {
      "application/vnd.jupyter.widget-view+json": {
       "model_id": "b23502adf8fb49c8a7c79f394f147078",
       "version_major": 2,
       "version_minor": 0
      },
      "text/plain": [
       "  0%|          | 0/1000 [00:00<?, ?it/s]"
      ]
     },
     "metadata": {},
     "output_type": "display_data"
    },
    {
     "name": "stderr",
     "output_type": "stream",
     "text": [
      "\r",
      " 48%|████▊     | 478/1000 [01:58<02:21,  3.68it/s]"
     ]
    },
    {
     "data": {
      "application/vnd.jupyter.widget-view+json": {
       "model_id": "792ded46cfb14c7e8deaa0aadc6c2984",
       "version_major": 2,
       "version_minor": 0
      },
      "text/plain": [
       "  0%|          | 0/1000 [00:00<?, ?it/s]"
      ]
     },
     "metadata": {},
     "output_type": "display_data"
    },
    {
     "name": "stderr",
     "output_type": "stream",
     "text": [
      "\r",
      " 48%|████▊     | 479/1000 [01:59<02:21,  3.68it/s]"
     ]
    },
    {
     "data": {
      "application/vnd.jupyter.widget-view+json": {
       "model_id": "aec41cde96cc45d7a88a75956e98b9f4",
       "version_major": 2,
       "version_minor": 0
      },
      "text/plain": [
       "  0%|          | 0/1000 [00:00<?, ?it/s]"
      ]
     },
     "metadata": {},
     "output_type": "display_data"
    },
    {
     "name": "stderr",
     "output_type": "stream",
     "text": [
      "\r",
      " 48%|████▊     | 480/1000 [01:59<02:22,  3.65it/s]"
     ]
    },
    {
     "data": {
      "application/vnd.jupyter.widget-view+json": {
       "model_id": "11ce96c6693a4d6c957a969879499718",
       "version_major": 2,
       "version_minor": 0
      },
      "text/plain": [
       "  0%|          | 0/1000 [00:00<?, ?it/s]"
      ]
     },
     "metadata": {},
     "output_type": "display_data"
    },
    {
     "name": "stderr",
     "output_type": "stream",
     "text": [
      "\r",
      " 48%|████▊     | 481/1000 [01:59<02:19,  3.71it/s]"
     ]
    },
    {
     "data": {
      "application/vnd.jupyter.widget-view+json": {
       "model_id": "065ba8ed76e44e3b8bc7298d706e9509",
       "version_major": 2,
       "version_minor": 0
      },
      "text/plain": [
       "  0%|          | 0/1000 [00:00<?, ?it/s]"
      ]
     },
     "metadata": {},
     "output_type": "display_data"
    },
    {
     "name": "stderr",
     "output_type": "stream",
     "text": [
      "\r",
      " 48%|████▊     | 482/1000 [01:59<02:17,  3.78it/s]"
     ]
    },
    {
     "data": {
      "application/vnd.jupyter.widget-view+json": {
       "model_id": "8d9fe3609d7e41e6b6c022dcf9bd6716",
       "version_major": 2,
       "version_minor": 0
      },
      "text/plain": [
       "  0%|          | 0/1000 [00:00<?, ?it/s]"
      ]
     },
     "metadata": {},
     "output_type": "display_data"
    },
    {
     "name": "stderr",
     "output_type": "stream",
     "text": [
      "\r",
      " 48%|████▊     | 483/1000 [02:00<02:16,  3.80it/s]"
     ]
    },
    {
     "data": {
      "application/vnd.jupyter.widget-view+json": {
       "model_id": "705b88d2da6c400785753811269c3939",
       "version_major": 2,
       "version_minor": 0
      },
      "text/plain": [
       "  0%|          | 0/1000 [00:00<?, ?it/s]"
      ]
     },
     "metadata": {},
     "output_type": "display_data"
    },
    {
     "name": "stderr",
     "output_type": "stream",
     "text": [
      "\r",
      " 48%|████▊     | 484/1000 [02:00<02:19,  3.69it/s]"
     ]
    },
    {
     "data": {
      "application/vnd.jupyter.widget-view+json": {
       "model_id": "ab693cfe4a4c4a59bbb3739a1e1f9a22",
       "version_major": 2,
       "version_minor": 0
      },
      "text/plain": [
       "  0%|          | 0/1000 [00:00<?, ?it/s]"
      ]
     },
     "metadata": {},
     "output_type": "display_data"
    },
    {
     "name": "stderr",
     "output_type": "stream",
     "text": [
      "\r",
      " 48%|████▊     | 485/1000 [02:00<02:17,  3.74it/s]"
     ]
    },
    {
     "data": {
      "application/vnd.jupyter.widget-view+json": {
       "model_id": "5bf62dd2df874676af5658a5f3ecc82d",
       "version_major": 2,
       "version_minor": 0
      },
      "text/plain": [
       "  0%|          | 0/1000 [00:00<?, ?it/s]"
      ]
     },
     "metadata": {},
     "output_type": "display_data"
    },
    {
     "name": "stderr",
     "output_type": "stream",
     "text": [
      "\r",
      " 49%|████▊     | 486/1000 [02:00<02:16,  3.76it/s]"
     ]
    },
    {
     "data": {
      "application/vnd.jupyter.widget-view+json": {
       "model_id": "60ca1da88c32423996833811359b0b9c",
       "version_major": 2,
       "version_minor": 0
      },
      "text/plain": [
       "  0%|          | 0/1000 [00:00<?, ?it/s]"
      ]
     },
     "metadata": {},
     "output_type": "display_data"
    },
    {
     "name": "stderr",
     "output_type": "stream",
     "text": [
      "\r",
      " 49%|████▊     | 487/1000 [02:01<02:14,  3.81it/s]"
     ]
    },
    {
     "data": {
      "application/vnd.jupyter.widget-view+json": {
       "model_id": "6bfc093435c84f3d9aefffb0d7e73042",
       "version_major": 2,
       "version_minor": 0
      },
      "text/plain": [
       "  0%|          | 0/1000 [00:00<?, ?it/s]"
      ]
     },
     "metadata": {},
     "output_type": "display_data"
    },
    {
     "name": "stderr",
     "output_type": "stream",
     "text": [
      "\r",
      " 49%|████▉     | 488/1000 [02:01<02:14,  3.82it/s]"
     ]
    },
    {
     "data": {
      "application/vnd.jupyter.widget-view+json": {
       "model_id": "cf47f67d97fe4a728053459ca4269a05",
       "version_major": 2,
       "version_minor": 0
      },
      "text/plain": [
       "  0%|          | 0/1000 [00:00<?, ?it/s]"
      ]
     },
     "metadata": {},
     "output_type": "display_data"
    },
    {
     "name": "stderr",
     "output_type": "stream",
     "text": [
      "\r",
      " 49%|████▉     | 489/1000 [02:01<02:11,  3.90it/s]"
     ]
    },
    {
     "data": {
      "application/vnd.jupyter.widget-view+json": {
       "model_id": "ab9734b49766421da312afa4ae738084",
       "version_major": 2,
       "version_minor": 0
      },
      "text/plain": [
       "  0%|          | 0/1000 [00:00<?, ?it/s]"
      ]
     },
     "metadata": {},
     "output_type": "display_data"
    },
    {
     "name": "stderr",
     "output_type": "stream",
     "text": [
      "\r",
      " 49%|████▉     | 490/1000 [02:01<02:12,  3.86it/s]"
     ]
    },
    {
     "data": {
      "application/vnd.jupyter.widget-view+json": {
       "model_id": "0c77c6f4bc0d498ea11d9f037d7b0ecb",
       "version_major": 2,
       "version_minor": 0
      },
      "text/plain": [
       "  0%|          | 0/1000 [00:00<?, ?it/s]"
      ]
     },
     "metadata": {},
     "output_type": "display_data"
    },
    {
     "name": "stderr",
     "output_type": "stream",
     "text": [
      "\r",
      " 49%|████▉     | 491/1000 [02:02<02:14,  3.78it/s]"
     ]
    },
    {
     "data": {
      "application/vnd.jupyter.widget-view+json": {
       "model_id": "27c96113374d420a9afc22f57289057e",
       "version_major": 2,
       "version_minor": 0
      },
      "text/plain": [
       "  0%|          | 0/1000 [00:00<?, ?it/s]"
      ]
     },
     "metadata": {},
     "output_type": "display_data"
    },
    {
     "name": "stderr",
     "output_type": "stream",
     "text": [
      "\r",
      " 49%|████▉     | 492/1000 [02:02<02:11,  3.87it/s]"
     ]
    },
    {
     "data": {
      "application/vnd.jupyter.widget-view+json": {
       "model_id": "32cb6515d6cf48b08c9e3c33f84c89e1",
       "version_major": 2,
       "version_minor": 0
      },
      "text/plain": [
       "  0%|          | 0/1000 [00:00<?, ?it/s]"
      ]
     },
     "metadata": {},
     "output_type": "display_data"
    },
    {
     "name": "stderr",
     "output_type": "stream",
     "text": [
      "\r",
      " 49%|████▉     | 493/1000 [02:02<02:08,  3.94it/s]"
     ]
    },
    {
     "data": {
      "application/vnd.jupyter.widget-view+json": {
       "model_id": "0adc415e9d9b4db0b9f56cb915c31c53",
       "version_major": 2,
       "version_minor": 0
      },
      "text/plain": [
       "  0%|          | 0/1000 [00:00<?, ?it/s]"
      ]
     },
     "metadata": {},
     "output_type": "display_data"
    },
    {
     "name": "stderr",
     "output_type": "stream",
     "text": [
      "\r",
      " 49%|████▉     | 494/1000 [02:02<02:07,  3.96it/s]"
     ]
    },
    {
     "data": {
      "application/vnd.jupyter.widget-view+json": {
       "model_id": "7b0144e475014e39af82df95e268e5ea",
       "version_major": 2,
       "version_minor": 0
      },
      "text/plain": [
       "  0%|          | 0/1000 [00:00<?, ?it/s]"
      ]
     },
     "metadata": {},
     "output_type": "display_data"
    },
    {
     "name": "stderr",
     "output_type": "stream",
     "text": [
      "\r",
      " 50%|████▉     | 495/1000 [02:03<02:09,  3.89it/s]"
     ]
    },
    {
     "data": {
      "application/vnd.jupyter.widget-view+json": {
       "model_id": "3517073aa38f4d2e8e6194047f20edd1",
       "version_major": 2,
       "version_minor": 0
      },
      "text/plain": [
       "  0%|          | 0/1000 [00:00<?, ?it/s]"
      ]
     },
     "metadata": {},
     "output_type": "display_data"
    },
    {
     "name": "stderr",
     "output_type": "stream",
     "text": [
      "\r",
      " 50%|████▉     | 496/1000 [02:03<02:14,  3.74it/s]"
     ]
    },
    {
     "data": {
      "application/vnd.jupyter.widget-view+json": {
       "model_id": "2d74fce49fc7477fa0fb5d048e1918f3",
       "version_major": 2,
       "version_minor": 0
      },
      "text/plain": [
       "  0%|          | 0/1000 [00:00<?, ?it/s]"
      ]
     },
     "metadata": {},
     "output_type": "display_data"
    },
    {
     "name": "stderr",
     "output_type": "stream",
     "text": [
      "\r",
      " 50%|████▉     | 497/1000 [02:03<02:16,  3.68it/s]"
     ]
    },
    {
     "data": {
      "application/vnd.jupyter.widget-view+json": {
       "model_id": "43e4e5bb2fd84da096ecad7b184d7e35",
       "version_major": 2,
       "version_minor": 0
      },
      "text/plain": [
       "  0%|          | 0/1000 [00:00<?, ?it/s]"
      ]
     },
     "metadata": {},
     "output_type": "display_data"
    },
    {
     "name": "stderr",
     "output_type": "stream",
     "text": [
      "\r",
      " 50%|████▉     | 498/1000 [02:04<02:13,  3.75it/s]"
     ]
    },
    {
     "data": {
      "application/vnd.jupyter.widget-view+json": {
       "model_id": "187e61c7da784453a3dd3c9d16a631bc",
       "version_major": 2,
       "version_minor": 0
      },
      "text/plain": [
       "  0%|          | 0/1000 [00:00<?, ?it/s]"
      ]
     },
     "metadata": {},
     "output_type": "display_data"
    },
    {
     "name": "stderr",
     "output_type": "stream",
     "text": [
      "\r",
      " 50%|████▉     | 499/1000 [02:04<02:20,  3.57it/s]"
     ]
    },
    {
     "data": {
      "application/vnd.jupyter.widget-view+json": {
       "model_id": "d99fc61538f3429faac60126b0862812",
       "version_major": 2,
       "version_minor": 0
      },
      "text/plain": [
       "  0%|          | 0/1000 [00:00<?, ?it/s]"
      ]
     },
     "metadata": {},
     "output_type": "display_data"
    },
    {
     "name": "stderr",
     "output_type": "stream",
     "text": [
      "\r",
      " 50%|█████     | 500/1000 [02:04<02:57,  2.82it/s]"
     ]
    },
    {
     "data": {
      "application/vnd.jupyter.widget-view+json": {
       "model_id": "f37181342721412eba2f565ec8c772b5",
       "version_major": 2,
       "version_minor": 0
      },
      "text/plain": [
       "  0%|          | 0/1000 [00:00<?, ?it/s]"
      ]
     },
     "metadata": {},
     "output_type": "display_data"
    },
    {
     "name": "stderr",
     "output_type": "stream",
     "text": [
      "\r",
      " 50%|█████     | 501/1000 [02:05<02:58,  2.79it/s]"
     ]
    },
    {
     "data": {
      "application/vnd.jupyter.widget-view+json": {
       "model_id": "93f1fe652669463ebec02b3ac2a99b6a",
       "version_major": 2,
       "version_minor": 0
      },
      "text/plain": [
       "  0%|          | 0/1000 [00:00<?, ?it/s]"
      ]
     },
     "metadata": {},
     "output_type": "display_data"
    },
    {
     "name": "stderr",
     "output_type": "stream",
     "text": [
      "\r",
      " 50%|█████     | 502/1000 [02:05<03:13,  2.58it/s]"
     ]
    },
    {
     "data": {
      "application/vnd.jupyter.widget-view+json": {
       "model_id": "ea21bb140c2e4f269dff680295e2e415",
       "version_major": 2,
       "version_minor": 0
      },
      "text/plain": [
       "  0%|          | 0/1000 [00:00<?, ?it/s]"
      ]
     },
     "metadata": {},
     "output_type": "display_data"
    },
    {
     "name": "stderr",
     "output_type": "stream",
     "text": [
      "\r",
      " 50%|█████     | 503/1000 [02:06<03:16,  2.53it/s]"
     ]
    },
    {
     "data": {
      "application/vnd.jupyter.widget-view+json": {
       "model_id": "c956c6b6910e46d68b88ea7ad73a3d17",
       "version_major": 2,
       "version_minor": 0
      },
      "text/plain": [
       "  0%|          | 0/1000 [00:00<?, ?it/s]"
      ]
     },
     "metadata": {},
     "output_type": "display_data"
    },
    {
     "name": "stderr",
     "output_type": "stream",
     "text": [
      "\r",
      " 50%|█████     | 504/1000 [02:06<03:07,  2.64it/s]"
     ]
    },
    {
     "data": {
      "application/vnd.jupyter.widget-view+json": {
       "model_id": "ed75ea485b1e44aeb022d482248bdce7",
       "version_major": 2,
       "version_minor": 0
      },
      "text/plain": [
       "  0%|          | 0/1000 [00:00<?, ?it/s]"
      ]
     },
     "metadata": {},
     "output_type": "display_data"
    },
    {
     "name": "stderr",
     "output_type": "stream",
     "text": [
      "\r",
      " 50%|█████     | 505/1000 [02:06<02:53,  2.85it/s]"
     ]
    },
    {
     "data": {
      "application/vnd.jupyter.widget-view+json": {
       "model_id": "fb08840e5aba420cb6dce06041966b58",
       "version_major": 2,
       "version_minor": 0
      },
      "text/plain": [
       "  0%|          | 0/1000 [00:00<?, ?it/s]"
      ]
     },
     "metadata": {},
     "output_type": "display_data"
    },
    {
     "name": "stderr",
     "output_type": "stream",
     "text": [
      "\r",
      " 51%|█████     | 506/1000 [02:07<02:37,  3.14it/s]"
     ]
    },
    {
     "data": {
      "application/vnd.jupyter.widget-view+json": {
       "model_id": "3699f5f743324225b1d7292c521b5e1f",
       "version_major": 2,
       "version_minor": 0
      },
      "text/plain": [
       "  0%|          | 0/1000 [00:00<?, ?it/s]"
      ]
     },
     "metadata": {},
     "output_type": "display_data"
    },
    {
     "name": "stderr",
     "output_type": "stream",
     "text": [
      "\r",
      " 51%|█████     | 507/1000 [02:07<02:24,  3.41it/s]"
     ]
    },
    {
     "data": {
      "application/vnd.jupyter.widget-view+json": {
       "model_id": "ea629f1f5d6f4bf791b6aac92495e813",
       "version_major": 2,
       "version_minor": 0
      },
      "text/plain": [
       "  0%|          | 0/1000 [00:00<?, ?it/s]"
      ]
     },
     "metadata": {},
     "output_type": "display_data"
    },
    {
     "name": "stderr",
     "output_type": "stream",
     "text": [
      "\r",
      " 51%|█████     | 508/1000 [02:07<02:13,  3.69it/s]"
     ]
    },
    {
     "data": {
      "application/vnd.jupyter.widget-view+json": {
       "model_id": "f9fff6479b7940609d773b890e100901",
       "version_major": 2,
       "version_minor": 0
      },
      "text/plain": [
       "  0%|          | 0/1000 [00:00<?, ?it/s]"
      ]
     },
     "metadata": {},
     "output_type": "display_data"
    },
    {
     "name": "stderr",
     "output_type": "stream",
     "text": [
      "\r",
      " 51%|█████     | 509/1000 [02:07<02:13,  3.67it/s]"
     ]
    },
    {
     "data": {
      "application/vnd.jupyter.widget-view+json": {
       "model_id": "743ba1ebfa3a4a35822be50b562f7d23",
       "version_major": 2,
       "version_minor": 0
      },
      "text/plain": [
       "  0%|          | 0/1000 [00:00<?, ?it/s]"
      ]
     },
     "metadata": {},
     "output_type": "display_data"
    },
    {
     "name": "stderr",
     "output_type": "stream",
     "text": [
      "\r",
      " 51%|█████     | 510/1000 [02:07<02:06,  3.88it/s]"
     ]
    },
    {
     "data": {
      "application/vnd.jupyter.widget-view+json": {
       "model_id": "e9f965f13ee3413da1215c935ddc5db9",
       "version_major": 2,
       "version_minor": 0
      },
      "text/plain": [
       "  0%|          | 0/1000 [00:00<?, ?it/s]"
      ]
     },
     "metadata": {},
     "output_type": "display_data"
    },
    {
     "name": "stderr",
     "output_type": "stream",
     "text": [
      "\r",
      " 51%|█████     | 511/1000 [02:08<02:10,  3.76it/s]"
     ]
    },
    {
     "data": {
      "application/vnd.jupyter.widget-view+json": {
       "model_id": "40f5024114d444279ec1e893314a76df",
       "version_major": 2,
       "version_minor": 0
      },
      "text/plain": [
       "  0%|          | 0/1000 [00:00<?, ?it/s]"
      ]
     },
     "metadata": {},
     "output_type": "display_data"
    },
    {
     "name": "stderr",
     "output_type": "stream",
     "text": [
      "\r",
      " 51%|█████     | 512/1000 [02:08<02:08,  3.80it/s]"
     ]
    },
    {
     "data": {
      "application/vnd.jupyter.widget-view+json": {
       "model_id": "0dd6a4146776446d9c2d1a4c4f1d66c0",
       "version_major": 2,
       "version_minor": 0
      },
      "text/plain": [
       "  0%|          | 0/1000 [00:00<?, ?it/s]"
      ]
     },
     "metadata": {},
     "output_type": "display_data"
    },
    {
     "name": "stderr",
     "output_type": "stream",
     "text": [
      "\r",
      " 51%|█████▏    | 513/1000 [02:08<02:05,  3.89it/s]"
     ]
    },
    {
     "data": {
      "application/vnd.jupyter.widget-view+json": {
       "model_id": "3d67870c3acd4c508465d1830727557f",
       "version_major": 2,
       "version_minor": 0
      },
      "text/plain": [
       "  0%|          | 0/1000 [00:00<?, ?it/s]"
      ]
     },
     "metadata": {},
     "output_type": "display_data"
    },
    {
     "name": "stderr",
     "output_type": "stream",
     "text": [
      "\r",
      " 51%|█████▏    | 514/1000 [02:08<01:59,  4.07it/s]"
     ]
    },
    {
     "data": {
      "application/vnd.jupyter.widget-view+json": {
       "model_id": "270ed3f285654d71955edac05f72343b",
       "version_major": 2,
       "version_minor": 0
      },
      "text/plain": [
       "  0%|          | 0/1000 [00:00<?, ?it/s]"
      ]
     },
     "metadata": {},
     "output_type": "display_data"
    },
    {
     "name": "stderr",
     "output_type": "stream",
     "text": [
      "\r",
      " 52%|█████▏    | 515/1000 [02:09<02:05,  3.87it/s]"
     ]
    },
    {
     "data": {
      "application/vnd.jupyter.widget-view+json": {
       "model_id": "95e30c50cb4d4ee7a754e396b17bdbac",
       "version_major": 2,
       "version_minor": 0
      },
      "text/plain": [
       "  0%|          | 0/1000 [00:00<?, ?it/s]"
      ]
     },
     "metadata": {},
     "output_type": "display_data"
    },
    {
     "name": "stderr",
     "output_type": "stream",
     "text": [
      "\r",
      " 52%|█████▏    | 516/1000 [02:09<02:07,  3.80it/s]"
     ]
    },
    {
     "data": {
      "application/vnd.jupyter.widget-view+json": {
       "model_id": "fce0ddd4cae7480bab9961cada7482b5",
       "version_major": 2,
       "version_minor": 0
      },
      "text/plain": [
       "  0%|          | 0/1000 [00:00<?, ?it/s]"
      ]
     },
     "metadata": {},
     "output_type": "display_data"
    },
    {
     "name": "stderr",
     "output_type": "stream",
     "text": [
      "\r",
      " 52%|█████▏    | 517/1000 [02:09<02:02,  3.93it/s]"
     ]
    },
    {
     "data": {
      "application/vnd.jupyter.widget-view+json": {
       "model_id": "052fdc3377e54843b3ae4a95a83226d8",
       "version_major": 2,
       "version_minor": 0
      },
      "text/plain": [
       "  0%|          | 0/1000 [00:00<?, ?it/s]"
      ]
     },
     "metadata": {},
     "output_type": "display_data"
    },
    {
     "name": "stderr",
     "output_type": "stream",
     "text": [
      "\r",
      " 52%|█████▏    | 518/1000 [02:10<02:01,  3.96it/s]"
     ]
    },
    {
     "data": {
      "application/vnd.jupyter.widget-view+json": {
       "model_id": "cda19458f6164f20af84c19aa1131e18",
       "version_major": 2,
       "version_minor": 0
      },
      "text/plain": [
       "  0%|          | 0/1000 [00:00<?, ?it/s]"
      ]
     },
     "metadata": {},
     "output_type": "display_data"
    },
    {
     "name": "stderr",
     "output_type": "stream",
     "text": [
      "\r",
      " 52%|█████▏    | 519/1000 [02:10<02:20,  3.43it/s]"
     ]
    },
    {
     "data": {
      "application/vnd.jupyter.widget-view+json": {
       "model_id": "8d37b9362f564cd280335b306e348220",
       "version_major": 2,
       "version_minor": 0
      },
      "text/plain": [
       "  0%|          | 0/1000 [00:00<?, ?it/s]"
      ]
     },
     "metadata": {},
     "output_type": "display_data"
    },
    {
     "name": "stderr",
     "output_type": "stream",
     "text": [
      "\r",
      " 52%|█████▏    | 520/1000 [02:10<02:15,  3.55it/s]"
     ]
    },
    {
     "data": {
      "application/vnd.jupyter.widget-view+json": {
       "model_id": "db26d260fcbf43359313665d4b677cc8",
       "version_major": 2,
       "version_minor": 0
      },
      "text/plain": [
       "  0%|          | 0/1000 [00:00<?, ?it/s]"
      ]
     },
     "metadata": {},
     "output_type": "display_data"
    },
    {
     "name": "stderr",
     "output_type": "stream",
     "text": [
      "\r",
      " 52%|█████▏    | 521/1000 [02:10<02:08,  3.72it/s]"
     ]
    },
    {
     "data": {
      "application/vnd.jupyter.widget-view+json": {
       "model_id": "b82d77bf9ca74b00be53ccea22e9874e",
       "version_major": 2,
       "version_minor": 0
      },
      "text/plain": [
       "  0%|          | 0/1000 [00:00<?, ?it/s]"
      ]
     },
     "metadata": {},
     "output_type": "display_data"
    },
    {
     "name": "stderr",
     "output_type": "stream",
     "text": [
      "\r",
      " 52%|█████▏    | 522/1000 [02:11<02:05,  3.82it/s]"
     ]
    },
    {
     "data": {
      "application/vnd.jupyter.widget-view+json": {
       "model_id": "d0d0fcceeb85457a8bd227f1018cfbb7",
       "version_major": 2,
       "version_minor": 0
      },
      "text/plain": [
       "  0%|          | 0/1000 [00:00<?, ?it/s]"
      ]
     },
     "metadata": {},
     "output_type": "display_data"
    },
    {
     "name": "stderr",
     "output_type": "stream",
     "text": [
      "\r",
      " 52%|█████▏    | 523/1000 [02:11<02:08,  3.70it/s]"
     ]
    },
    {
     "data": {
      "application/vnd.jupyter.widget-view+json": {
       "model_id": "2b83419b40984cd9ac0738e023fe850c",
       "version_major": 2,
       "version_minor": 0
      },
      "text/plain": [
       "  0%|          | 0/1000 [00:00<?, ?it/s]"
      ]
     },
     "metadata": {},
     "output_type": "display_data"
    },
    {
     "name": "stderr",
     "output_type": "stream",
     "text": [
      "\r",
      " 52%|█████▏    | 524/1000 [02:11<02:02,  3.90it/s]"
     ]
    },
    {
     "data": {
      "application/vnd.jupyter.widget-view+json": {
       "model_id": "c96eb612a2da4f0c87c678e8e56b6876",
       "version_major": 2,
       "version_minor": 0
      },
      "text/plain": [
       "  0%|          | 0/1000 [00:00<?, ?it/s]"
      ]
     },
     "metadata": {},
     "output_type": "display_data"
    },
    {
     "name": "stderr",
     "output_type": "stream",
     "text": [
      "\r",
      " 52%|█████▎    | 525/1000 [02:11<01:57,  4.04it/s]"
     ]
    },
    {
     "data": {
      "application/vnd.jupyter.widget-view+json": {
       "model_id": "3f232b65dab24b64892f13752051d6bb",
       "version_major": 2,
       "version_minor": 0
      },
      "text/plain": [
       "  0%|          | 0/1000 [00:00<?, ?it/s]"
      ]
     },
     "metadata": {},
     "output_type": "display_data"
    },
    {
     "name": "stderr",
     "output_type": "stream",
     "text": [
      "\r",
      " 53%|█████▎    | 526/1000 [02:12<01:53,  4.18it/s]"
     ]
    },
    {
     "data": {
      "application/vnd.jupyter.widget-view+json": {
       "model_id": "5df33830b42c41a99075298775a80314",
       "version_major": 2,
       "version_minor": 0
      },
      "text/plain": [
       "  0%|          | 0/1000 [00:00<?, ?it/s]"
      ]
     },
     "metadata": {},
     "output_type": "display_data"
    },
    {
     "name": "stderr",
     "output_type": "stream",
     "text": [
      "\r",
      " 53%|█████▎    | 527/1000 [02:12<01:53,  4.16it/s]"
     ]
    },
    {
     "data": {
      "application/vnd.jupyter.widget-view+json": {
       "model_id": "111b7dec5d394b2592e17fdb4b1cb756",
       "version_major": 2,
       "version_minor": 0
      },
      "text/plain": [
       "  0%|          | 0/1000 [00:00<?, ?it/s]"
      ]
     },
     "metadata": {},
     "output_type": "display_data"
    },
    {
     "name": "stderr",
     "output_type": "stream",
     "text": [
      "\r",
      " 53%|█████▎    | 528/1000 [02:12<01:55,  4.08it/s]"
     ]
    },
    {
     "data": {
      "application/vnd.jupyter.widget-view+json": {
       "model_id": "251c7253c8e243629241618dc8c86563",
       "version_major": 2,
       "version_minor": 0
      },
      "text/plain": [
       "  0%|          | 0/1000 [00:00<?, ?it/s]"
      ]
     },
     "metadata": {},
     "output_type": "display_data"
    },
    {
     "name": "stderr",
     "output_type": "stream",
     "text": [
      "\r",
      " 53%|█████▎    | 529/1000 [02:12<01:57,  4.00it/s]"
     ]
    },
    {
     "data": {
      "application/vnd.jupyter.widget-view+json": {
       "model_id": "480ae6def36d4431973bbc1f7df748d1",
       "version_major": 2,
       "version_minor": 0
      },
      "text/plain": [
       "  0%|          | 0/1000 [00:00<?, ?it/s]"
      ]
     },
     "metadata": {},
     "output_type": "display_data"
    },
    {
     "name": "stderr",
     "output_type": "stream",
     "text": [
      "\r",
      " 53%|█████▎    | 530/1000 [02:13<01:59,  3.93it/s]"
     ]
    },
    {
     "data": {
      "application/vnd.jupyter.widget-view+json": {
       "model_id": "c4f32c7ac09c4b18ac2eef7e449992c4",
       "version_major": 2,
       "version_minor": 0
      },
      "text/plain": [
       "  0%|          | 0/1000 [00:00<?, ?it/s]"
      ]
     },
     "metadata": {},
     "output_type": "display_data"
    },
    {
     "name": "stderr",
     "output_type": "stream",
     "text": [
      "\r",
      " 53%|█████▎    | 531/1000 [02:13<02:01,  3.86it/s]"
     ]
    },
    {
     "data": {
      "application/vnd.jupyter.widget-view+json": {
       "model_id": "99a8b0fb01dc4c639aacc4d0f36892bd",
       "version_major": 2,
       "version_minor": 0
      },
      "text/plain": [
       "  0%|          | 0/1000 [00:00<?, ?it/s]"
      ]
     },
     "metadata": {},
     "output_type": "display_data"
    },
    {
     "name": "stderr",
     "output_type": "stream",
     "text": [
      "\r",
      " 53%|█████▎    | 532/1000 [02:13<02:01,  3.86it/s]"
     ]
    },
    {
     "data": {
      "application/vnd.jupyter.widget-view+json": {
       "model_id": "72e69bd143e04faeace460d2eeee8f16",
       "version_major": 2,
       "version_minor": 0
      },
      "text/plain": [
       "  0%|          | 0/1000 [00:00<?, ?it/s]"
      ]
     },
     "metadata": {},
     "output_type": "display_data"
    },
    {
     "name": "stderr",
     "output_type": "stream",
     "text": [
      "\r",
      " 53%|█████▎    | 533/1000 [02:13<01:57,  3.97it/s]"
     ]
    },
    {
     "data": {
      "application/vnd.jupyter.widget-view+json": {
       "model_id": "976b2c359deb4f4e8fbce5ff3b583562",
       "version_major": 2,
       "version_minor": 0
      },
      "text/plain": [
       "  0%|          | 0/1000 [00:00<?, ?it/s]"
      ]
     },
     "metadata": {},
     "output_type": "display_data"
    },
    {
     "name": "stderr",
     "output_type": "stream",
     "text": [
      "\r",
      " 53%|█████▎    | 534/1000 [02:14<01:59,  3.91it/s]"
     ]
    },
    {
     "data": {
      "application/vnd.jupyter.widget-view+json": {
       "model_id": "beb04401503f4e5f949f846aec829c8b",
       "version_major": 2,
       "version_minor": 0
      },
      "text/plain": [
       "  0%|          | 0/1000 [00:00<?, ?it/s]"
      ]
     },
     "metadata": {},
     "output_type": "display_data"
    },
    {
     "name": "stderr",
     "output_type": "stream",
     "text": [
      "\r",
      " 54%|█████▎    | 535/1000 [02:14<02:00,  3.86it/s]"
     ]
    },
    {
     "data": {
      "application/vnd.jupyter.widget-view+json": {
       "model_id": "2501b0d541eb41618303c63e81fe9106",
       "version_major": 2,
       "version_minor": 0
      },
      "text/plain": [
       "  0%|          | 0/1000 [00:00<?, ?it/s]"
      ]
     },
     "metadata": {},
     "output_type": "display_data"
    },
    {
     "name": "stderr",
     "output_type": "stream",
     "text": [
      "\r",
      " 54%|█████▎    | 536/1000 [02:14<01:58,  3.92it/s]"
     ]
    },
    {
     "data": {
      "application/vnd.jupyter.widget-view+json": {
       "model_id": "fab471e85dce449babec96d979171e4a",
       "version_major": 2,
       "version_minor": 0
      },
      "text/plain": [
       "  0%|          | 0/1000 [00:00<?, ?it/s]"
      ]
     },
     "metadata": {},
     "output_type": "display_data"
    },
    {
     "name": "stderr",
     "output_type": "stream",
     "text": [
      "\r",
      " 54%|█████▎    | 537/1000 [02:14<01:55,  4.01it/s]"
     ]
    },
    {
     "data": {
      "application/vnd.jupyter.widget-view+json": {
       "model_id": "57bf57a8badd43c8a08c18f719c948e3",
       "version_major": 2,
       "version_minor": 0
      },
      "text/plain": [
       "  0%|          | 0/1000 [00:00<?, ?it/s]"
      ]
     },
     "metadata": {},
     "output_type": "display_data"
    },
    {
     "name": "stderr",
     "output_type": "stream",
     "text": [
      "\r",
      " 54%|█████▍    | 538/1000 [02:15<01:52,  4.12it/s]"
     ]
    },
    {
     "data": {
      "application/vnd.jupyter.widget-view+json": {
       "model_id": "38643eb346cf4d0bb1884969d0b8b49d",
       "version_major": 2,
       "version_minor": 0
      },
      "text/plain": [
       "  0%|          | 0/1000 [00:00<?, ?it/s]"
      ]
     },
     "metadata": {},
     "output_type": "display_data"
    },
    {
     "name": "stderr",
     "output_type": "stream",
     "text": [
      "\r",
      " 54%|█████▍    | 539/1000 [02:15<01:48,  4.25it/s]"
     ]
    },
    {
     "data": {
      "application/vnd.jupyter.widget-view+json": {
       "model_id": "a528ef7ddcce4036bd0b8cb2a15fab46",
       "version_major": 2,
       "version_minor": 0
      },
      "text/plain": [
       "  0%|          | 0/1000 [00:00<?, ?it/s]"
      ]
     },
     "metadata": {},
     "output_type": "display_data"
    },
    {
     "name": "stderr",
     "output_type": "stream",
     "text": [
      "\r",
      " 54%|█████▍    | 540/1000 [02:15<01:47,  4.26it/s]"
     ]
    },
    {
     "data": {
      "application/vnd.jupyter.widget-view+json": {
       "model_id": "a854aaecb6094876a819930faf244fab",
       "version_major": 2,
       "version_minor": 0
      },
      "text/plain": [
       "  0%|          | 0/1000 [00:00<?, ?it/s]"
      ]
     },
     "metadata": {},
     "output_type": "display_data"
    },
    {
     "name": "stderr",
     "output_type": "stream",
     "text": [
      "\r",
      " 54%|█████▍    | 541/1000 [02:15<01:48,  4.25it/s]"
     ]
    },
    {
     "data": {
      "application/vnd.jupyter.widget-view+json": {
       "model_id": "5bc040ce41b04200bf53a5a2fcae2e82",
       "version_major": 2,
       "version_minor": 0
      },
      "text/plain": [
       "  0%|          | 0/1000 [00:00<?, ?it/s]"
      ]
     },
     "metadata": {},
     "output_type": "display_data"
    },
    {
     "name": "stderr",
     "output_type": "stream",
     "text": [
      "\r",
      " 54%|█████▍    | 542/1000 [02:16<01:51,  4.10it/s]"
     ]
    },
    {
     "data": {
      "application/vnd.jupyter.widget-view+json": {
       "model_id": "13d704d0d4664b2ca4359901c163a0a5",
       "version_major": 2,
       "version_minor": 0
      },
      "text/plain": [
       "  0%|          | 0/1000 [00:00<?, ?it/s]"
      ]
     },
     "metadata": {},
     "output_type": "display_data"
    },
    {
     "name": "stderr",
     "output_type": "stream",
     "text": [
      "\r",
      " 54%|█████▍    | 543/1000 [02:16<02:00,  3.78it/s]"
     ]
    },
    {
     "data": {
      "application/vnd.jupyter.widget-view+json": {
       "model_id": "c58231ac36434735b8d6c14ed1d5da1e",
       "version_major": 2,
       "version_minor": 0
      },
      "text/plain": [
       "  0%|          | 0/1000 [00:00<?, ?it/s]"
      ]
     },
     "metadata": {},
     "output_type": "display_data"
    },
    {
     "name": "stderr",
     "output_type": "stream",
     "text": [
      "\r",
      " 54%|█████▍    | 544/1000 [02:16<01:58,  3.85it/s]"
     ]
    },
    {
     "data": {
      "application/vnd.jupyter.widget-view+json": {
       "model_id": "15a5bf0a72164cbbb93718d8446a65ab",
       "version_major": 2,
       "version_minor": 0
      },
      "text/plain": [
       "  0%|          | 0/1000 [00:00<?, ?it/s]"
      ]
     },
     "metadata": {},
     "output_type": "display_data"
    },
    {
     "name": "stderr",
     "output_type": "stream",
     "text": [
      "\r",
      " 55%|█████▍    | 545/1000 [02:16<01:57,  3.87it/s]"
     ]
    },
    {
     "data": {
      "application/vnd.jupyter.widget-view+json": {
       "model_id": "05ef8b5ff23b42b2a6dbfba6be480400",
       "version_major": 2,
       "version_minor": 0
      },
      "text/plain": [
       "  0%|          | 0/1000 [00:00<?, ?it/s]"
      ]
     },
     "metadata": {},
     "output_type": "display_data"
    },
    {
     "name": "stderr",
     "output_type": "stream",
     "text": [
      "\r",
      " 55%|█████▍    | 546/1000 [02:17<02:03,  3.69it/s]"
     ]
    },
    {
     "data": {
      "application/vnd.jupyter.widget-view+json": {
       "model_id": "bb0961eaab5d4714b3c00eeb8ea89e54",
       "version_major": 2,
       "version_minor": 0
      },
      "text/plain": [
       "  0%|          | 0/1000 [00:00<?, ?it/s]"
      ]
     },
     "metadata": {},
     "output_type": "display_data"
    },
    {
     "name": "stderr",
     "output_type": "stream",
     "text": [
      "\r",
      " 55%|█████▍    | 547/1000 [02:17<02:14,  3.37it/s]"
     ]
    },
    {
     "data": {
      "application/vnd.jupyter.widget-view+json": {
       "model_id": "b9ce0b69ca5c42ac99b0cb4a019efb86",
       "version_major": 2,
       "version_minor": 0
      },
      "text/plain": [
       "  0%|          | 0/1000 [00:00<?, ?it/s]"
      ]
     },
     "metadata": {},
     "output_type": "display_data"
    },
    {
     "name": "stderr",
     "output_type": "stream",
     "text": [
      "\r",
      " 55%|█████▍    | 548/1000 [02:17<02:12,  3.42it/s]"
     ]
    },
    {
     "data": {
      "application/vnd.jupyter.widget-view+json": {
       "model_id": "1671672f268941069d98cf397d8a928e",
       "version_major": 2,
       "version_minor": 0
      },
      "text/plain": [
       "  0%|          | 0/1000 [00:00<?, ?it/s]"
      ]
     },
     "metadata": {},
     "output_type": "display_data"
    },
    {
     "name": "stderr",
     "output_type": "stream",
     "text": [
      "\r",
      " 55%|█████▍    | 549/1000 [02:18<02:06,  3.56it/s]"
     ]
    },
    {
     "data": {
      "application/vnd.jupyter.widget-view+json": {
       "model_id": "ccf31dae999d43d788ae5d150eb674ef",
       "version_major": 2,
       "version_minor": 0
      },
      "text/plain": [
       "  0%|          | 0/1000 [00:00<?, ?it/s]"
      ]
     },
     "metadata": {},
     "output_type": "display_data"
    },
    {
     "name": "stderr",
     "output_type": "stream",
     "text": [
      "\r",
      " 55%|█████▌    | 550/1000 [02:18<01:58,  3.81it/s]"
     ]
    },
    {
     "data": {
      "application/vnd.jupyter.widget-view+json": {
       "model_id": "a6bcda2c4ac14d5caac23247f3c5b587",
       "version_major": 2,
       "version_minor": 0
      },
      "text/plain": [
       "  0%|          | 0/1000 [00:00<?, ?it/s]"
      ]
     },
     "metadata": {},
     "output_type": "display_data"
    },
    {
     "name": "stderr",
     "output_type": "stream",
     "text": [
      "\r",
      " 55%|█████▌    | 551/1000 [02:18<01:55,  3.88it/s]"
     ]
    },
    {
     "data": {
      "application/vnd.jupyter.widget-view+json": {
       "model_id": "aeb7f198036f47cead6ba7ec6c5c8dc9",
       "version_major": 2,
       "version_minor": 0
      },
      "text/plain": [
       "  0%|          | 0/1000 [00:00<?, ?it/s]"
      ]
     },
     "metadata": {},
     "output_type": "display_data"
    },
    {
     "name": "stderr",
     "output_type": "stream",
     "text": [
      "\r",
      " 55%|█████▌    | 552/1000 [02:18<01:52,  3.97it/s]"
     ]
    },
    {
     "data": {
      "application/vnd.jupyter.widget-view+json": {
       "model_id": "db68d6552fd847dfb057339db3b44d1e",
       "version_major": 2,
       "version_minor": 0
      },
      "text/plain": [
       "  0%|          | 0/1000 [00:00<?, ?it/s]"
      ]
     },
     "metadata": {},
     "output_type": "display_data"
    },
    {
     "name": "stderr",
     "output_type": "stream",
     "text": [
      "\r",
      " 55%|█████▌    | 553/1000 [02:19<01:55,  3.86it/s]"
     ]
    },
    {
     "data": {
      "application/vnd.jupyter.widget-view+json": {
       "model_id": "eb0c21459d9d4f2281d8922f97fc1ee8",
       "version_major": 2,
       "version_minor": 0
      },
      "text/plain": [
       "  0%|          | 0/1000 [00:00<?, ?it/s]"
      ]
     },
     "metadata": {},
     "output_type": "display_data"
    },
    {
     "name": "stderr",
     "output_type": "stream",
     "text": [
      "\r",
      " 55%|█████▌    | 554/1000 [02:19<01:52,  3.95it/s]"
     ]
    },
    {
     "data": {
      "application/vnd.jupyter.widget-view+json": {
       "model_id": "09053f2afccb48c0b0223bb2a12e9697",
       "version_major": 2,
       "version_minor": 0
      },
      "text/plain": [
       "  0%|          | 0/1000 [00:00<?, ?it/s]"
      ]
     },
     "metadata": {},
     "output_type": "display_data"
    },
    {
     "name": "stderr",
     "output_type": "stream",
     "text": [
      "\r",
      " 56%|█████▌    | 555/1000 [02:19<01:49,  4.07it/s]"
     ]
    },
    {
     "data": {
      "application/vnd.jupyter.widget-view+json": {
       "model_id": "f27a2166c9594b8bb6438364d604cce1",
       "version_major": 2,
       "version_minor": 0
      },
      "text/plain": [
       "  0%|          | 0/1000 [00:00<?, ?it/s]"
      ]
     },
     "metadata": {},
     "output_type": "display_data"
    },
    {
     "name": "stderr",
     "output_type": "stream",
     "text": [
      "\r",
      " 56%|█████▌    | 556/1000 [02:19<01:44,  4.25it/s]"
     ]
    },
    {
     "data": {
      "application/vnd.jupyter.widget-view+json": {
       "model_id": "471c0d823f9644b08392d3163d88bfa8",
       "version_major": 2,
       "version_minor": 0
      },
      "text/plain": [
       "  0%|          | 0/1000 [00:00<?, ?it/s]"
      ]
     },
     "metadata": {},
     "output_type": "display_data"
    },
    {
     "name": "stderr",
     "output_type": "stream",
     "text": [
      "\r",
      " 56%|█████▌    | 557/1000 [02:19<01:42,  4.31it/s]"
     ]
    },
    {
     "data": {
      "application/vnd.jupyter.widget-view+json": {
       "model_id": "99bc6a2201ba48448f8369addb1bb393",
       "version_major": 2,
       "version_minor": 0
      },
      "text/plain": [
       "  0%|          | 0/1000 [00:00<?, ?it/s]"
      ]
     },
     "metadata": {},
     "output_type": "display_data"
    },
    {
     "name": "stderr",
     "output_type": "stream",
     "text": [
      "\r",
      " 56%|█████▌    | 558/1000 [02:20<01:44,  4.22it/s]"
     ]
    },
    {
     "data": {
      "application/vnd.jupyter.widget-view+json": {
       "model_id": "24d04c341a88490f91ff202b2ca3a6ad",
       "version_major": 2,
       "version_minor": 0
      },
      "text/plain": [
       "  0%|          | 0/1000 [00:00<?, ?it/s]"
      ]
     },
     "metadata": {},
     "output_type": "display_data"
    },
    {
     "name": "stderr",
     "output_type": "stream",
     "text": [
      "\r",
      " 56%|█████▌    | 559/1000 [02:20<01:49,  4.03it/s]"
     ]
    },
    {
     "data": {
      "application/vnd.jupyter.widget-view+json": {
       "model_id": "c0c0df3335ef499da35450a0d75dfff3",
       "version_major": 2,
       "version_minor": 0
      },
      "text/plain": [
       "  0%|          | 0/1000 [00:00<?, ?it/s]"
      ]
     },
     "metadata": {},
     "output_type": "display_data"
    },
    {
     "name": "stderr",
     "output_type": "stream",
     "text": [
      "\r",
      " 56%|█████▌    | 560/1000 [02:20<01:47,  4.08it/s]"
     ]
    },
    {
     "data": {
      "application/vnd.jupyter.widget-view+json": {
       "model_id": "31daf00c299d44c6bc6061319dbb332c",
       "version_major": 2,
       "version_minor": 0
      },
      "text/plain": [
       "  0%|          | 0/1000 [00:00<?, ?it/s]"
      ]
     },
     "metadata": {},
     "output_type": "display_data"
    },
    {
     "name": "stderr",
     "output_type": "stream",
     "text": [
      "\r",
      " 56%|█████▌    | 561/1000 [02:20<01:44,  4.18it/s]"
     ]
    },
    {
     "data": {
      "application/vnd.jupyter.widget-view+json": {
       "model_id": "665bb46dcc4f4aad8199be13a3796bda",
       "version_major": 2,
       "version_minor": 0
      },
      "text/plain": [
       "  0%|          | 0/1000 [00:00<?, ?it/s]"
      ]
     },
     "metadata": {},
     "output_type": "display_data"
    },
    {
     "name": "stderr",
     "output_type": "stream",
     "text": [
      "\r",
      " 56%|█████▌    | 562/1000 [02:21<01:47,  4.07it/s]"
     ]
    },
    {
     "data": {
      "application/vnd.jupyter.widget-view+json": {
       "model_id": "4f579c0b2d3a4febbc7011a563e90534",
       "version_major": 2,
       "version_minor": 0
      },
      "text/plain": [
       "  0%|          | 0/1000 [00:00<?, ?it/s]"
      ]
     },
     "metadata": {},
     "output_type": "display_data"
    },
    {
     "name": "stderr",
     "output_type": "stream",
     "text": [
      "\r",
      " 56%|█████▋    | 563/1000 [02:21<01:46,  4.12it/s]"
     ]
    },
    {
     "data": {
      "application/vnd.jupyter.widget-view+json": {
       "model_id": "8cc2409a9184479b9fe5b78a46a09457",
       "version_major": 2,
       "version_minor": 0
      },
      "text/plain": [
       "  0%|          | 0/1000 [00:00<?, ?it/s]"
      ]
     },
     "metadata": {},
     "output_type": "display_data"
    },
    {
     "name": "stderr",
     "output_type": "stream",
     "text": [
      "\r",
      " 56%|█████▋    | 564/1000 [02:21<01:47,  4.04it/s]"
     ]
    },
    {
     "data": {
      "application/vnd.jupyter.widget-view+json": {
       "model_id": "da01c783c53e49fbbf8c8c418cd1f224",
       "version_major": 2,
       "version_minor": 0
      },
      "text/plain": [
       "  0%|          | 0/1000 [00:00<?, ?it/s]"
      ]
     },
     "metadata": {},
     "output_type": "display_data"
    },
    {
     "name": "stderr",
     "output_type": "stream",
     "text": [
      "\r",
      " 56%|█████▋    | 565/1000 [02:21<01:48,  4.00it/s]"
     ]
    },
    {
     "data": {
      "application/vnd.jupyter.widget-view+json": {
       "model_id": "e930bf63b6fa407badc88b4bc318aff4",
       "version_major": 2,
       "version_minor": 0
      },
      "text/plain": [
       "  0%|          | 0/1000 [00:00<?, ?it/s]"
      ]
     },
     "metadata": {},
     "output_type": "display_data"
    },
    {
     "name": "stderr",
     "output_type": "stream",
     "text": [
      "\r",
      " 57%|█████▋    | 566/1000 [02:22<01:44,  4.14it/s]"
     ]
    },
    {
     "data": {
      "application/vnd.jupyter.widget-view+json": {
       "model_id": "ee42b1a8f8fe40a899b7b7b180a5d8bf",
       "version_major": 2,
       "version_minor": 0
      },
      "text/plain": [
       "  0%|          | 0/1000 [00:00<?, ?it/s]"
      ]
     },
     "metadata": {},
     "output_type": "display_data"
    },
    {
     "name": "stderr",
     "output_type": "stream",
     "text": [
      "\r",
      " 57%|█████▋    | 567/1000 [02:22<01:42,  4.21it/s]"
     ]
    },
    {
     "data": {
      "application/vnd.jupyter.widget-view+json": {
       "model_id": "c698b58b02ec4501b88e5d9b321c63ac",
       "version_major": 2,
       "version_minor": 0
      },
      "text/plain": [
       "  0%|          | 0/1000 [00:00<?, ?it/s]"
      ]
     },
     "metadata": {},
     "output_type": "display_data"
    },
    {
     "name": "stderr",
     "output_type": "stream",
     "text": [
      "\r",
      " 57%|█████▋    | 568/1000 [02:22<01:40,  4.28it/s]"
     ]
    },
    {
     "data": {
      "application/vnd.jupyter.widget-view+json": {
       "model_id": "821e3f4d52b04390b26902fca844abe7",
       "version_major": 2,
       "version_minor": 0
      },
      "text/plain": [
       "  0%|          | 0/1000 [00:00<?, ?it/s]"
      ]
     },
     "metadata": {},
     "output_type": "display_data"
    },
    {
     "name": "stderr",
     "output_type": "stream",
     "text": [
      "\r",
      " 57%|█████▋    | 569/1000 [02:22<01:40,  4.30it/s]"
     ]
    },
    {
     "data": {
      "application/vnd.jupyter.widget-view+json": {
       "model_id": "af03815af7e94586a632ccdd26023a6c",
       "version_major": 2,
       "version_minor": 0
      },
      "text/plain": [
       "  0%|          | 0/1000 [00:00<?, ?it/s]"
      ]
     },
     "metadata": {},
     "output_type": "display_data"
    },
    {
     "name": "stderr",
     "output_type": "stream",
     "text": [
      "\r",
      " 57%|█████▋    | 570/1000 [02:23<01:39,  4.31it/s]"
     ]
    },
    {
     "data": {
      "application/vnd.jupyter.widget-view+json": {
       "model_id": "ee3af90178de46ffa961ab95af0fc38c",
       "version_major": 2,
       "version_minor": 0
      },
      "text/plain": [
       "  0%|          | 0/1000 [00:00<?, ?it/s]"
      ]
     },
     "metadata": {},
     "output_type": "display_data"
    },
    {
     "name": "stderr",
     "output_type": "stream",
     "text": [
      "\r",
      " 57%|█████▋    | 571/1000 [02:23<01:38,  4.37it/s]"
     ]
    },
    {
     "data": {
      "application/vnd.jupyter.widget-view+json": {
       "model_id": "a8c2d22aac934fb1a46cd7d25353e2e9",
       "version_major": 2,
       "version_minor": 0
      },
      "text/plain": [
       "  0%|          | 0/1000 [00:00<?, ?it/s]"
      ]
     },
     "metadata": {},
     "output_type": "display_data"
    },
    {
     "name": "stderr",
     "output_type": "stream",
     "text": [
      "\r",
      " 57%|█████▋    | 572/1000 [02:23<01:35,  4.48it/s]"
     ]
    },
    {
     "data": {
      "application/vnd.jupyter.widget-view+json": {
       "model_id": "e2338266c985469584fb1de56b23211d",
       "version_major": 2,
       "version_minor": 0
      },
      "text/plain": [
       "  0%|          | 0/1000 [00:00<?, ?it/s]"
      ]
     },
     "metadata": {},
     "output_type": "display_data"
    },
    {
     "name": "stderr",
     "output_type": "stream",
     "text": [
      "\r",
      " 57%|█████▋    | 573/1000 [02:23<01:33,  4.55it/s]"
     ]
    },
    {
     "data": {
      "application/vnd.jupyter.widget-view+json": {
       "model_id": "72f5328b10af4622bfd63556cbb63b1d",
       "version_major": 2,
       "version_minor": 0
      },
      "text/plain": [
       "  0%|          | 0/1000 [00:00<?, ?it/s]"
      ]
     },
     "metadata": {},
     "output_type": "display_data"
    },
    {
     "name": "stderr",
     "output_type": "stream",
     "text": [
      "\r",
      " 57%|█████▋    | 574/1000 [02:24<01:41,  4.21it/s]"
     ]
    },
    {
     "data": {
      "application/vnd.jupyter.widget-view+json": {
       "model_id": "27608f80bdff48d895858c21d403419c",
       "version_major": 2,
       "version_minor": 0
      },
      "text/plain": [
       "  0%|          | 0/1000 [00:00<?, ?it/s]"
      ]
     },
     "metadata": {},
     "output_type": "display_data"
    },
    {
     "name": "stderr",
     "output_type": "stream",
     "text": [
      "\r",
      " 57%|█████▊    | 575/1000 [02:24<01:39,  4.29it/s]"
     ]
    },
    {
     "data": {
      "application/vnd.jupyter.widget-view+json": {
       "model_id": "19e75af6cc22444dabe56d110828b496",
       "version_major": 2,
       "version_minor": 0
      },
      "text/plain": [
       "  0%|          | 0/1000 [00:00<?, ?it/s]"
      ]
     },
     "metadata": {},
     "output_type": "display_data"
    },
    {
     "name": "stderr",
     "output_type": "stream",
     "text": [
      "\r",
      " 58%|█████▊    | 576/1000 [02:24<01:37,  4.33it/s]"
     ]
    },
    {
     "data": {
      "application/vnd.jupyter.widget-view+json": {
       "model_id": "d87ae6d148234686ab318972603194b6",
       "version_major": 2,
       "version_minor": 0
      },
      "text/plain": [
       "  0%|          | 0/1000 [00:00<?, ?it/s]"
      ]
     },
     "metadata": {},
     "output_type": "display_data"
    },
    {
     "name": "stderr",
     "output_type": "stream",
     "text": [
      "\r",
      " 58%|█████▊    | 577/1000 [02:24<01:36,  4.38it/s]"
     ]
    },
    {
     "data": {
      "application/vnd.jupyter.widget-view+json": {
       "model_id": "6d0db48adecf40a29613366620092796",
       "version_major": 2,
       "version_minor": 0
      },
      "text/plain": [
       "  0%|          | 0/1000 [00:00<?, ?it/s]"
      ]
     },
     "metadata": {},
     "output_type": "display_data"
    },
    {
     "name": "stderr",
     "output_type": "stream",
     "text": [
      "\r",
      " 58%|█████▊    | 578/1000 [02:24<01:34,  4.46it/s]"
     ]
    },
    {
     "data": {
      "application/vnd.jupyter.widget-view+json": {
       "model_id": "9fff98e450eb4822824f763eea9646dc",
       "version_major": 2,
       "version_minor": 0
      },
      "text/plain": [
       "  0%|          | 0/1000 [00:00<?, ?it/s]"
      ]
     },
     "metadata": {},
     "output_type": "display_data"
    },
    {
     "name": "stderr",
     "output_type": "stream",
     "text": [
      "\r",
      " 58%|█████▊    | 579/1000 [02:25<01:33,  4.52it/s]"
     ]
    },
    {
     "data": {
      "application/vnd.jupyter.widget-view+json": {
       "model_id": "bf7b381d21b142d18486902e1d5958f5",
       "version_major": 2,
       "version_minor": 0
      },
      "text/plain": [
       "  0%|          | 0/1000 [00:00<?, ?it/s]"
      ]
     },
     "metadata": {},
     "output_type": "display_data"
    },
    {
     "name": "stderr",
     "output_type": "stream",
     "text": [
      "\r",
      " 58%|█████▊    | 580/1000 [02:25<01:35,  4.39it/s]"
     ]
    },
    {
     "data": {
      "application/vnd.jupyter.widget-view+json": {
       "model_id": "4700fbf9524e49c39eb46a33fdde846d",
       "version_major": 2,
       "version_minor": 0
      },
      "text/plain": [
       "  0%|          | 0/1000 [00:00<?, ?it/s]"
      ]
     },
     "metadata": {},
     "output_type": "display_data"
    },
    {
     "name": "stderr",
     "output_type": "stream",
     "text": [
      "\r",
      " 58%|█████▊    | 581/1000 [02:25<01:34,  4.41it/s]"
     ]
    },
    {
     "data": {
      "application/vnd.jupyter.widget-view+json": {
       "model_id": "0aff348a888c4a4eb0b0337621f71ad6",
       "version_major": 2,
       "version_minor": 0
      },
      "text/plain": [
       "  0%|          | 0/1000 [00:00<?, ?it/s]"
      ]
     },
     "metadata": {},
     "output_type": "display_data"
    },
    {
     "name": "stderr",
     "output_type": "stream",
     "text": [
      "\r",
      " 58%|█████▊    | 582/1000 [02:25<01:33,  4.46it/s]"
     ]
    },
    {
     "data": {
      "application/vnd.jupyter.widget-view+json": {
       "model_id": "a888cd35386f403598bd45b066ee6682",
       "version_major": 2,
       "version_minor": 0
      },
      "text/plain": [
       "  0%|          | 0/1000 [00:00<?, ?it/s]"
      ]
     },
     "metadata": {},
     "output_type": "display_data"
    },
    {
     "name": "stderr",
     "output_type": "stream",
     "text": [
      "\r",
      " 58%|█████▊    | 583/1000 [02:26<01:32,  4.52it/s]"
     ]
    },
    {
     "data": {
      "application/vnd.jupyter.widget-view+json": {
       "model_id": "df188d3114614c438dc361ca34e42fe1",
       "version_major": 2,
       "version_minor": 0
      },
      "text/plain": [
       "  0%|          | 0/1000 [00:00<?, ?it/s]"
      ]
     },
     "metadata": {},
     "output_type": "display_data"
    },
    {
     "name": "stderr",
     "output_type": "stream",
     "text": [
      "\r",
      " 58%|█████▊    | 584/1000 [02:26<01:33,  4.45it/s]"
     ]
    },
    {
     "data": {
      "application/vnd.jupyter.widget-view+json": {
       "model_id": "f80e38a3e7f643b498c22da3d5610bcf",
       "version_major": 2,
       "version_minor": 0
      },
      "text/plain": [
       "  0%|          | 0/1000 [00:00<?, ?it/s]"
      ]
     },
     "metadata": {},
     "output_type": "display_data"
    },
    {
     "name": "stderr",
     "output_type": "stream",
     "text": [
      "\r",
      " 58%|█████▊    | 585/1000 [02:26<01:34,  4.38it/s]"
     ]
    },
    {
     "data": {
      "application/vnd.jupyter.widget-view+json": {
       "model_id": "640c065537274d9e9225afea1df230d0",
       "version_major": 2,
       "version_minor": 0
      },
      "text/plain": [
       "  0%|          | 0/1000 [00:00<?, ?it/s]"
      ]
     },
     "metadata": {},
     "output_type": "display_data"
    },
    {
     "name": "stderr",
     "output_type": "stream",
     "text": [
      "\r",
      " 59%|█████▊    | 586/1000 [02:26<01:33,  4.43it/s]"
     ]
    },
    {
     "data": {
      "application/vnd.jupyter.widget-view+json": {
       "model_id": "025e15f03aa4430baad9150d07e32e43",
       "version_major": 2,
       "version_minor": 0
      },
      "text/plain": [
       "  0%|          | 0/1000 [00:00<?, ?it/s]"
      ]
     },
     "metadata": {},
     "output_type": "display_data"
    },
    {
     "name": "stderr",
     "output_type": "stream",
     "text": [
      "\r",
      " 59%|█████▊    | 587/1000 [02:26<01:33,  4.42it/s]"
     ]
    },
    {
     "data": {
      "application/vnd.jupyter.widget-view+json": {
       "model_id": "9a58ac898fb14cf1bebfbfbbfb8eb460",
       "version_major": 2,
       "version_minor": 0
      },
      "text/plain": [
       "  0%|          | 0/1000 [00:00<?, ?it/s]"
      ]
     },
     "metadata": {},
     "output_type": "display_data"
    },
    {
     "name": "stderr",
     "output_type": "stream",
     "text": [
      "\r",
      " 59%|█████▉    | 588/1000 [02:27<01:39,  4.14it/s]"
     ]
    },
    {
     "data": {
      "application/vnd.jupyter.widget-view+json": {
       "model_id": "c99809edb4974f4abaa0dd56afda9b4e",
       "version_major": 2,
       "version_minor": 0
      },
      "text/plain": [
       "  0%|          | 0/1000 [00:00<?, ?it/s]"
      ]
     },
     "metadata": {},
     "output_type": "display_data"
    },
    {
     "name": "stderr",
     "output_type": "stream",
     "text": [
      "\r",
      " 59%|█████▉    | 589/1000 [02:27<01:44,  3.95it/s]"
     ]
    },
    {
     "data": {
      "application/vnd.jupyter.widget-view+json": {
       "model_id": "4cf3aea8e7174571b08483b1fa64aa21",
       "version_major": 2,
       "version_minor": 0
      },
      "text/plain": [
       "  0%|          | 0/1000 [00:00<?, ?it/s]"
      ]
     },
     "metadata": {},
     "output_type": "display_data"
    },
    {
     "name": "stderr",
     "output_type": "stream",
     "text": [
      "\r",
      " 59%|█████▉    | 590/1000 [02:27<01:43,  3.96it/s]"
     ]
    },
    {
     "data": {
      "application/vnd.jupyter.widget-view+json": {
       "model_id": "8996a349ebda4e88ac3fde627beaf92e",
       "version_major": 2,
       "version_minor": 0
      },
      "text/plain": [
       "  0%|          | 0/1000 [00:00<?, ?it/s]"
      ]
     },
     "metadata": {},
     "output_type": "display_data"
    },
    {
     "name": "stderr",
     "output_type": "stream",
     "text": [
      "\r",
      " 59%|█████▉    | 591/1000 [02:27<01:41,  4.02it/s]"
     ]
    },
    {
     "data": {
      "application/vnd.jupyter.widget-view+json": {
       "model_id": "befc880ff86c467e95a28cbb080c40a1",
       "version_major": 2,
       "version_minor": 0
      },
      "text/plain": [
       "  0%|          | 0/1000 [00:00<?, ?it/s]"
      ]
     },
     "metadata": {},
     "output_type": "display_data"
    },
    {
     "name": "stderr",
     "output_type": "stream",
     "text": [
      "\r",
      " 59%|█████▉    | 592/1000 [02:28<01:42,  3.97it/s]"
     ]
    },
    {
     "data": {
      "application/vnd.jupyter.widget-view+json": {
       "model_id": "f631cfd201014ad2b153780bcff2c6df",
       "version_major": 2,
       "version_minor": 0
      },
      "text/plain": [
       "  0%|          | 0/1000 [00:00<?, ?it/s]"
      ]
     },
     "metadata": {},
     "output_type": "display_data"
    },
    {
     "name": "stderr",
     "output_type": "stream",
     "text": [
      "\r",
      " 59%|█████▉    | 593/1000 [02:28<01:43,  3.94it/s]"
     ]
    },
    {
     "data": {
      "application/vnd.jupyter.widget-view+json": {
       "model_id": "fdacf1e11c664d75a1b88e5ee3ade86e",
       "version_major": 2,
       "version_minor": 0
      },
      "text/plain": [
       "  0%|          | 0/1000 [00:00<?, ?it/s]"
      ]
     },
     "metadata": {},
     "output_type": "display_data"
    },
    {
     "name": "stderr",
     "output_type": "stream",
     "text": [
      "\r",
      " 59%|█████▉    | 594/1000 [02:28<01:41,  4.02it/s]"
     ]
    },
    {
     "data": {
      "application/vnd.jupyter.widget-view+json": {
       "model_id": "6c9fae66969b42cd8c50316651327cee",
       "version_major": 2,
       "version_minor": 0
      },
      "text/plain": [
       "  0%|          | 0/1000 [00:00<?, ?it/s]"
      ]
     },
     "metadata": {},
     "output_type": "display_data"
    },
    {
     "name": "stderr",
     "output_type": "stream",
     "text": [
      "\r",
      " 60%|█████▉    | 595/1000 [02:28<01:36,  4.21it/s]"
     ]
    },
    {
     "data": {
      "application/vnd.jupyter.widget-view+json": {
       "model_id": "a0e76b51da9b418b94071930f73453e5",
       "version_major": 2,
       "version_minor": 0
      },
      "text/plain": [
       "  0%|          | 0/1000 [00:00<?, ?it/s]"
      ]
     },
     "metadata": {},
     "output_type": "display_data"
    },
    {
     "name": "stderr",
     "output_type": "stream",
     "text": [
      "\r",
      " 60%|█████▉    | 596/1000 [02:29<01:37,  4.16it/s]"
     ]
    },
    {
     "data": {
      "application/vnd.jupyter.widget-view+json": {
       "model_id": "75f0e1259ac3429e959a6386af532ec1",
       "version_major": 2,
       "version_minor": 0
      },
      "text/plain": [
       "  0%|          | 0/1000 [00:00<?, ?it/s]"
      ]
     },
     "metadata": {},
     "output_type": "display_data"
    },
    {
     "name": "stderr",
     "output_type": "stream",
     "text": [
      "\r",
      " 60%|█████▉    | 597/1000 [02:29<01:36,  4.17it/s]"
     ]
    },
    {
     "data": {
      "application/vnd.jupyter.widget-view+json": {
       "model_id": "77642da6dbe64b2daa1920435d210d18",
       "version_major": 2,
       "version_minor": 0
      },
      "text/plain": [
       "  0%|          | 0/1000 [00:00<?, ?it/s]"
      ]
     },
     "metadata": {},
     "output_type": "display_data"
    },
    {
     "name": "stderr",
     "output_type": "stream",
     "text": [
      "\r",
      " 60%|█████▉    | 598/1000 [02:29<01:36,  4.15it/s]"
     ]
    },
    {
     "data": {
      "application/vnd.jupyter.widget-view+json": {
       "model_id": "dd4e6a475c3c4392ac859d8b8259e19f",
       "version_major": 2,
       "version_minor": 0
      },
      "text/plain": [
       "  0%|          | 0/1000 [00:00<?, ?it/s]"
      ]
     },
     "metadata": {},
     "output_type": "display_data"
    },
    {
     "name": "stderr",
     "output_type": "stream",
     "text": [
      "\r",
      " 60%|█████▉    | 599/1000 [02:29<01:39,  4.02it/s]"
     ]
    },
    {
     "data": {
      "application/vnd.jupyter.widget-view+json": {
       "model_id": "ff29981bcef04929a76107e36daf77b5",
       "version_major": 2,
       "version_minor": 0
      },
      "text/plain": [
       "  0%|          | 0/1000 [00:00<?, ?it/s]"
      ]
     },
     "metadata": {},
     "output_type": "display_data"
    },
    {
     "name": "stderr",
     "output_type": "stream",
     "text": [
      "\r",
      " 60%|██████    | 600/1000 [02:30<01:40,  3.96it/s]"
     ]
    },
    {
     "data": {
      "application/vnd.jupyter.widget-view+json": {
       "model_id": "4d8c517d46c14efcb1286fdffa004cb4",
       "version_major": 2,
       "version_minor": 0
      },
      "text/plain": [
       "  0%|          | 0/1000 [00:00<?, ?it/s]"
      ]
     },
     "metadata": {},
     "output_type": "display_data"
    },
    {
     "name": "stderr",
     "output_type": "stream",
     "text": [
      "\r",
      " 60%|██████    | 601/1000 [02:30<01:41,  3.95it/s]"
     ]
    },
    {
     "data": {
      "application/vnd.jupyter.widget-view+json": {
       "model_id": "504dbab00d904fdca8d6d7f1099dd358",
       "version_major": 2,
       "version_minor": 0
      },
      "text/plain": [
       "  0%|          | 0/1000 [00:00<?, ?it/s]"
      ]
     },
     "metadata": {},
     "output_type": "display_data"
    },
    {
     "name": "stderr",
     "output_type": "stream",
     "text": [
      "\r",
      " 60%|██████    | 602/1000 [02:30<01:44,  3.81it/s]"
     ]
    },
    {
     "data": {
      "application/vnd.jupyter.widget-view+json": {
       "model_id": "ed5f00f2268e42e687205fb2eb400880",
       "version_major": 2,
       "version_minor": 0
      },
      "text/plain": [
       "  0%|          | 0/1000 [00:00<?, ?it/s]"
      ]
     },
     "metadata": {},
     "output_type": "display_data"
    },
    {
     "name": "stderr",
     "output_type": "stream",
     "text": [
      "\r",
      " 60%|██████    | 603/1000 [02:30<01:41,  3.91it/s]"
     ]
    },
    {
     "data": {
      "application/vnd.jupyter.widget-view+json": {
       "model_id": "9b7da108cd7f46558a7ab5f3e2a5f347",
       "version_major": 2,
       "version_minor": 0
      },
      "text/plain": [
       "  0%|          | 0/1000 [00:00<?, ?it/s]"
      ]
     },
     "metadata": {},
     "output_type": "display_data"
    },
    {
     "name": "stderr",
     "output_type": "stream",
     "text": [
      "\r",
      " 60%|██████    | 604/1000 [02:31<01:36,  4.08it/s]"
     ]
    },
    {
     "data": {
      "application/vnd.jupyter.widget-view+json": {
       "model_id": "c0a4b7b54d304c9fb57d82393b893445",
       "version_major": 2,
       "version_minor": 0
      },
      "text/plain": [
       "  0%|          | 0/1000 [00:00<?, ?it/s]"
      ]
     },
     "metadata": {},
     "output_type": "display_data"
    },
    {
     "name": "stderr",
     "output_type": "stream",
     "text": [
      "\r",
      " 60%|██████    | 605/1000 [02:31<01:33,  4.23it/s]"
     ]
    },
    {
     "data": {
      "application/vnd.jupyter.widget-view+json": {
       "model_id": "388acb710c2b40339d6bc112a339e730",
       "version_major": 2,
       "version_minor": 0
      },
      "text/plain": [
       "  0%|          | 0/1000 [00:00<?, ?it/s]"
      ]
     },
     "metadata": {},
     "output_type": "display_data"
    },
    {
     "name": "stderr",
     "output_type": "stream",
     "text": [
      "\r",
      " 61%|██████    | 606/1000 [02:31<01:30,  4.36it/s]"
     ]
    },
    {
     "data": {
      "application/vnd.jupyter.widget-view+json": {
       "model_id": "19045f55ebdd4b11b73ec3bad4ff3008",
       "version_major": 2,
       "version_minor": 0
      },
      "text/plain": [
       "  0%|          | 0/1000 [00:00<?, ?it/s]"
      ]
     },
     "metadata": {},
     "output_type": "display_data"
    },
    {
     "name": "stderr",
     "output_type": "stream",
     "text": [
      "\r",
      " 61%|██████    | 607/1000 [02:31<01:28,  4.46it/s]"
     ]
    },
    {
     "data": {
      "application/vnd.jupyter.widget-view+json": {
       "model_id": "28f1434ae64a4801b5368f0ce49e0fc5",
       "version_major": 2,
       "version_minor": 0
      },
      "text/plain": [
       "  0%|          | 0/1000 [00:00<?, ?it/s]"
      ]
     },
     "metadata": {},
     "output_type": "display_data"
    },
    {
     "name": "stderr",
     "output_type": "stream",
     "text": [
      "\r",
      " 61%|██████    | 608/1000 [02:32<01:30,  4.36it/s]"
     ]
    },
    {
     "data": {
      "application/vnd.jupyter.widget-view+json": {
       "model_id": "42e14bd73d254fca946cc1b079f99c00",
       "version_major": 2,
       "version_minor": 0
      },
      "text/plain": [
       "  0%|          | 0/1000 [00:00<?, ?it/s]"
      ]
     },
     "metadata": {},
     "output_type": "display_data"
    },
    {
     "name": "stderr",
     "output_type": "stream",
     "text": [
      "\r",
      " 61%|██████    | 609/1000 [02:32<01:28,  4.41it/s]"
     ]
    },
    {
     "data": {
      "application/vnd.jupyter.widget-view+json": {
       "model_id": "91787b91e3e547e3843eac9eeb7fdf9c",
       "version_major": 2,
       "version_minor": 0
      },
      "text/plain": [
       "  0%|          | 0/1000 [00:00<?, ?it/s]"
      ]
     },
     "metadata": {},
     "output_type": "display_data"
    },
    {
     "name": "stderr",
     "output_type": "stream",
     "text": [
      "\r",
      " 61%|██████    | 610/1000 [02:32<01:28,  4.40it/s]"
     ]
    },
    {
     "data": {
      "application/vnd.jupyter.widget-view+json": {
       "model_id": "ba992c5dc1cc4272b9d9f127a7ebf95d",
       "version_major": 2,
       "version_minor": 0
      },
      "text/plain": [
       "  0%|          | 0/1000 [00:00<?, ?it/s]"
      ]
     },
     "metadata": {},
     "output_type": "display_data"
    },
    {
     "name": "stderr",
     "output_type": "stream",
     "text": [
      "\r",
      " 61%|██████    | 611/1000 [02:32<01:26,  4.50it/s]"
     ]
    },
    {
     "data": {
      "application/vnd.jupyter.widget-view+json": {
       "model_id": "f683c188247645358efd6d492df35ec6",
       "version_major": 2,
       "version_minor": 0
      },
      "text/plain": [
       "  0%|          | 0/1000 [00:00<?, ?it/s]"
      ]
     },
     "metadata": {},
     "output_type": "display_data"
    },
    {
     "name": "stderr",
     "output_type": "stream",
     "text": [
      "\r",
      " 61%|██████    | 612/1000 [02:32<01:24,  4.59it/s]"
     ]
    },
    {
     "data": {
      "application/vnd.jupyter.widget-view+json": {
       "model_id": "8b3b9b9f188b4e5da445f6f63ce93fe0",
       "version_major": 2,
       "version_minor": 0
      },
      "text/plain": [
       "  0%|          | 0/1000 [00:00<?, ?it/s]"
      ]
     },
     "metadata": {},
     "output_type": "display_data"
    },
    {
     "name": "stderr",
     "output_type": "stream",
     "text": [
      "\r",
      " 61%|██████▏   | 613/1000 [02:33<01:23,  4.62it/s]"
     ]
    },
    {
     "data": {
      "application/vnd.jupyter.widget-view+json": {
       "model_id": "46ed24c436f744f499314b876f8b2fd0",
       "version_major": 2,
       "version_minor": 0
      },
      "text/plain": [
       "  0%|          | 0/1000 [00:00<?, ?it/s]"
      ]
     },
     "metadata": {},
     "output_type": "display_data"
    },
    {
     "name": "stderr",
     "output_type": "stream",
     "text": [
      "\r",
      " 61%|██████▏   | 614/1000 [02:33<01:24,  4.59it/s]"
     ]
    },
    {
     "data": {
      "application/vnd.jupyter.widget-view+json": {
       "model_id": "2c40c9e28df5476a8918c9025b212091",
       "version_major": 2,
       "version_minor": 0
      },
      "text/plain": [
       "  0%|          | 0/1000 [00:00<?, ?it/s]"
      ]
     },
     "metadata": {},
     "output_type": "display_data"
    },
    {
     "name": "stderr",
     "output_type": "stream",
     "text": [
      "\r",
      " 62%|██████▏   | 615/1000 [02:33<01:49,  3.53it/s]"
     ]
    },
    {
     "data": {
      "application/vnd.jupyter.widget-view+json": {
       "model_id": "aff4ccd498a34cdab47492fdb2312172",
       "version_major": 2,
       "version_minor": 0
      },
      "text/plain": [
       "  0%|          | 0/1000 [00:00<?, ?it/s]"
      ]
     },
     "metadata": {},
     "output_type": "display_data"
    },
    {
     "name": "stderr",
     "output_type": "stream",
     "text": [
      "\r",
      " 62%|██████▏   | 616/1000 [02:34<01:41,  3.78it/s]"
     ]
    },
    {
     "data": {
      "application/vnd.jupyter.widget-view+json": {
       "model_id": "495fd24541b8423797d31837481c2691",
       "version_major": 2,
       "version_minor": 0
      },
      "text/plain": [
       "  0%|          | 0/1000 [00:00<?, ?it/s]"
      ]
     },
     "metadata": {},
     "output_type": "display_data"
    },
    {
     "name": "stderr",
     "output_type": "stream",
     "text": [
      "\r",
      " 62%|██████▏   | 617/1000 [02:34<01:39,  3.83it/s]"
     ]
    },
    {
     "data": {
      "application/vnd.jupyter.widget-view+json": {
       "model_id": "591813a147ac42e38eda717072e33ff0",
       "version_major": 2,
       "version_minor": 0
      },
      "text/plain": [
       "  0%|          | 0/1000 [00:00<?, ?it/s]"
      ]
     },
     "metadata": {},
     "output_type": "display_data"
    },
    {
     "name": "stderr",
     "output_type": "stream",
     "text": [
      "\r",
      " 62%|██████▏   | 618/1000 [02:34<01:45,  3.61it/s]"
     ]
    },
    {
     "data": {
      "application/vnd.jupyter.widget-view+json": {
       "model_id": "3db7b8fe666146c4a2dd8f591702f484",
       "version_major": 2,
       "version_minor": 0
      },
      "text/plain": [
       "  0%|          | 0/1000 [00:00<?, ?it/s]"
      ]
     },
     "metadata": {},
     "output_type": "display_data"
    },
    {
     "name": "stderr",
     "output_type": "stream",
     "text": [
      "\r",
      " 62%|██████▏   | 619/1000 [02:34<01:48,  3.50it/s]"
     ]
    },
    {
     "data": {
      "application/vnd.jupyter.widget-view+json": {
       "model_id": "aa0de13e409e4b2ba952968cb9ffca05",
       "version_major": 2,
       "version_minor": 0
      },
      "text/plain": [
       "  0%|          | 0/1000 [00:00<?, ?it/s]"
      ]
     },
     "metadata": {},
     "output_type": "display_data"
    },
    {
     "name": "stderr",
     "output_type": "stream",
     "text": [
      "\r",
      " 62%|██████▏   | 620/1000 [02:35<01:44,  3.64it/s]"
     ]
    },
    {
     "data": {
      "application/vnd.jupyter.widget-view+json": {
       "model_id": "e8f0375847a6414fbccc807cbb5dc904",
       "version_major": 2,
       "version_minor": 0
      },
      "text/plain": [
       "  0%|          | 0/1000 [00:00<?, ?it/s]"
      ]
     },
     "metadata": {},
     "output_type": "display_data"
    },
    {
     "name": "stderr",
     "output_type": "stream",
     "text": [
      "\r",
      " 62%|██████▏   | 621/1000 [02:35<01:39,  3.82it/s]"
     ]
    },
    {
     "data": {
      "application/vnd.jupyter.widget-view+json": {
       "model_id": "72e689a173bf4bf2bb32ddff9bea97aa",
       "version_major": 2,
       "version_minor": 0
      },
      "text/plain": [
       "  0%|          | 0/1000 [00:00<?, ?it/s]"
      ]
     },
     "metadata": {},
     "output_type": "display_data"
    },
    {
     "name": "stderr",
     "output_type": "stream",
     "text": [
      "\r",
      " 62%|██████▏   | 622/1000 [02:35<01:33,  4.04it/s]"
     ]
    },
    {
     "data": {
      "application/vnd.jupyter.widget-view+json": {
       "model_id": "9bc9b4bf280e4b1e971ae720932d9264",
       "version_major": 2,
       "version_minor": 0
      },
      "text/plain": [
       "  0%|          | 0/1000 [00:00<?, ?it/s]"
      ]
     },
     "metadata": {},
     "output_type": "display_data"
    },
    {
     "name": "stderr",
     "output_type": "stream",
     "text": [
      "\r",
      " 62%|██████▏   | 623/1000 [02:35<01:28,  4.25it/s]"
     ]
    },
    {
     "data": {
      "application/vnd.jupyter.widget-view+json": {
       "model_id": "e6bed66c413641598a81622fe451bd79",
       "version_major": 2,
       "version_minor": 0
      },
      "text/plain": [
       "  0%|          | 0/1000 [00:00<?, ?it/s]"
      ]
     },
     "metadata": {},
     "output_type": "display_data"
    },
    {
     "name": "stderr",
     "output_type": "stream",
     "text": [
      "\r",
      " 62%|██████▏   | 624/1000 [02:36<01:25,  4.38it/s]"
     ]
    },
    {
     "data": {
      "application/vnd.jupyter.widget-view+json": {
       "model_id": "bb9ab94b9a65417ca0a1dba78e047e55",
       "version_major": 2,
       "version_minor": 0
      },
      "text/plain": [
       "  0%|          | 0/1000 [00:00<?, ?it/s]"
      ]
     },
     "metadata": {},
     "output_type": "display_data"
    },
    {
     "name": "stderr",
     "output_type": "stream",
     "text": [
      "\r",
      " 62%|██████▎   | 625/1000 [02:36<01:27,  4.29it/s]"
     ]
    },
    {
     "data": {
      "application/vnd.jupyter.widget-view+json": {
       "model_id": "6927cc9567524c22a21a627ae4ff37a3",
       "version_major": 2,
       "version_minor": 0
      },
      "text/plain": [
       "  0%|          | 0/1000 [00:00<?, ?it/s]"
      ]
     },
     "metadata": {},
     "output_type": "display_data"
    },
    {
     "name": "stderr",
     "output_type": "stream",
     "text": [
      "\r",
      " 63%|██████▎   | 626/1000 [02:36<01:33,  3.99it/s]"
     ]
    },
    {
     "data": {
      "application/vnd.jupyter.widget-view+json": {
       "model_id": "a88b71f7371a46fcace6d1b3e6002dbc",
       "version_major": 2,
       "version_minor": 0
      },
      "text/plain": [
       "  0%|          | 0/1000 [00:00<?, ?it/s]"
      ]
     },
     "metadata": {},
     "output_type": "display_data"
    },
    {
     "name": "stderr",
     "output_type": "stream",
     "text": [
      "\r",
      " 63%|██████▎   | 627/1000 [02:36<01:36,  3.87it/s]"
     ]
    },
    {
     "data": {
      "application/vnd.jupyter.widget-view+json": {
       "model_id": "6a0644ec81714e2fafda414e42322cdf",
       "version_major": 2,
       "version_minor": 0
      },
      "text/plain": [
       "  0%|          | 0/1000 [00:00<?, ?it/s]"
      ]
     },
     "metadata": {},
     "output_type": "display_data"
    },
    {
     "name": "stderr",
     "output_type": "stream",
     "text": [
      "\r",
      " 63%|██████▎   | 628/1000 [02:37<01:36,  3.86it/s]"
     ]
    },
    {
     "data": {
      "application/vnd.jupyter.widget-view+json": {
       "model_id": "2713133279794e6e8afd42fd734fd380",
       "version_major": 2,
       "version_minor": 0
      },
      "text/plain": [
       "  0%|          | 0/1000 [00:00<?, ?it/s]"
      ]
     },
     "metadata": {},
     "output_type": "display_data"
    },
    {
     "name": "stderr",
     "output_type": "stream",
     "text": [
      "\r",
      " 63%|██████▎   | 629/1000 [02:37<01:39,  3.74it/s]"
     ]
    },
    {
     "data": {
      "application/vnd.jupyter.widget-view+json": {
       "model_id": "1662731437a64811a834589db4d9df78",
       "version_major": 2,
       "version_minor": 0
      },
      "text/plain": [
       "  0%|          | 0/1000 [00:00<?, ?it/s]"
      ]
     },
     "metadata": {},
     "output_type": "display_data"
    },
    {
     "name": "stderr",
     "output_type": "stream",
     "text": [
      "\r",
      " 63%|██████▎   | 630/1000 [02:37<01:40,  3.69it/s]"
     ]
    },
    {
     "data": {
      "application/vnd.jupyter.widget-view+json": {
       "model_id": "fb94612c43344b05bbfe90b04529dccf",
       "version_major": 2,
       "version_minor": 0
      },
      "text/plain": [
       "  0%|          | 0/1000 [00:00<?, ?it/s]"
      ]
     },
     "metadata": {},
     "output_type": "display_data"
    },
    {
     "name": "stderr",
     "output_type": "stream",
     "text": [
      "\r",
      " 63%|██████▎   | 631/1000 [02:37<01:38,  3.76it/s]"
     ]
    },
    {
     "data": {
      "application/vnd.jupyter.widget-view+json": {
       "model_id": "93aca2bd5fa54ebf94135974597fb2fc",
       "version_major": 2,
       "version_minor": 0
      },
      "text/plain": [
       "  0%|          | 0/1000 [00:00<?, ?it/s]"
      ]
     },
     "metadata": {},
     "output_type": "display_data"
    },
    {
     "name": "stderr",
     "output_type": "stream",
     "text": [
      "\r",
      " 63%|██████▎   | 632/1000 [02:38<01:36,  3.81it/s]"
     ]
    },
    {
     "data": {
      "application/vnd.jupyter.widget-view+json": {
       "model_id": "09e9f22add3b4672901830aede12f8e3",
       "version_major": 2,
       "version_minor": 0
      },
      "text/plain": [
       "  0%|          | 0/1000 [00:00<?, ?it/s]"
      ]
     },
     "metadata": {},
     "output_type": "display_data"
    },
    {
     "name": "stderr",
     "output_type": "stream",
     "text": [
      "\r",
      " 63%|██████▎   | 633/1000 [02:38<01:34,  3.88it/s]"
     ]
    },
    {
     "data": {
      "application/vnd.jupyter.widget-view+json": {
       "model_id": "2cf82f71b5694960a5ea4f7daa38ec71",
       "version_major": 2,
       "version_minor": 0
      },
      "text/plain": [
       "  0%|          | 0/1000 [00:00<?, ?it/s]"
      ]
     },
     "metadata": {},
     "output_type": "display_data"
    },
    {
     "name": "stderr",
     "output_type": "stream",
     "text": [
      "\r",
      " 63%|██████▎   | 634/1000 [02:38<01:32,  3.97it/s]"
     ]
    },
    {
     "data": {
      "application/vnd.jupyter.widget-view+json": {
       "model_id": "ea37b6765ff64d1a8092da0b405aa767",
       "version_major": 2,
       "version_minor": 0
      },
      "text/plain": [
       "  0%|          | 0/1000 [00:00<?, ?it/s]"
      ]
     },
     "metadata": {},
     "output_type": "display_data"
    },
    {
     "name": "stderr",
     "output_type": "stream",
     "text": [
      "\r",
      " 64%|██████▎   | 635/1000 [02:38<01:27,  4.16it/s]"
     ]
    },
    {
     "data": {
      "application/vnd.jupyter.widget-view+json": {
       "model_id": "8730f74f032a499f90609bdcbe74c141",
       "version_major": 2,
       "version_minor": 0
      },
      "text/plain": [
       "  0%|          | 0/1000 [00:00<?, ?it/s]"
      ]
     },
     "metadata": {},
     "output_type": "display_data"
    },
    {
     "name": "stderr",
     "output_type": "stream",
     "text": [
      "\r",
      " 64%|██████▎   | 636/1000 [02:39<01:26,  4.21it/s]"
     ]
    },
    {
     "data": {
      "application/vnd.jupyter.widget-view+json": {
       "model_id": "c1ed49a7ff1341f3b7f381b7f0467ccf",
       "version_major": 2,
       "version_minor": 0
      },
      "text/plain": [
       "  0%|          | 0/1000 [00:00<?, ?it/s]"
      ]
     },
     "metadata": {},
     "output_type": "display_data"
    },
    {
     "name": "stderr",
     "output_type": "stream",
     "text": [
      "\r",
      " 64%|██████▎   | 637/1000 [02:39<01:27,  4.14it/s]"
     ]
    },
    {
     "data": {
      "application/vnd.jupyter.widget-view+json": {
       "model_id": "2dd8dd030696427881d9e1cf5676a282",
       "version_major": 2,
       "version_minor": 0
      },
      "text/plain": [
       "  0%|          | 0/1000 [00:00<?, ?it/s]"
      ]
     },
     "metadata": {},
     "output_type": "display_data"
    },
    {
     "name": "stderr",
     "output_type": "stream",
     "text": [
      "\r",
      " 64%|██████▍   | 638/1000 [02:39<01:25,  4.25it/s]"
     ]
    },
    {
     "data": {
      "application/vnd.jupyter.widget-view+json": {
       "model_id": "415bdbffec2c4e79ada7dc639e836bce",
       "version_major": 2,
       "version_minor": 0
      },
      "text/plain": [
       "  0%|          | 0/1000 [00:00<?, ?it/s]"
      ]
     },
     "metadata": {},
     "output_type": "display_data"
    },
    {
     "name": "stderr",
     "output_type": "stream",
     "text": [
      "\r",
      " 64%|██████▍   | 639/1000 [02:39<01:21,  4.41it/s]"
     ]
    },
    {
     "data": {
      "application/vnd.jupyter.widget-view+json": {
       "model_id": "2b4a20e22446402d8a62647ea88a6618",
       "version_major": 2,
       "version_minor": 0
      },
      "text/plain": [
       "  0%|          | 0/1000 [00:00<?, ?it/s]"
      ]
     },
     "metadata": {},
     "output_type": "display_data"
    },
    {
     "name": "stderr",
     "output_type": "stream",
     "text": [
      "\r",
      " 64%|██████▍   | 640/1000 [02:40<01:20,  4.46it/s]"
     ]
    },
    {
     "data": {
      "application/vnd.jupyter.widget-view+json": {
       "model_id": "4654fc6959e74b4da3d0999eced53fd2",
       "version_major": 2,
       "version_minor": 0
      },
      "text/plain": [
       "  0%|          | 0/1000 [00:00<?, ?it/s]"
      ]
     },
     "metadata": {},
     "output_type": "display_data"
    },
    {
     "name": "stderr",
     "output_type": "stream",
     "text": [
      "\r",
      " 64%|██████▍   | 641/1000 [02:40<01:20,  4.47it/s]"
     ]
    },
    {
     "data": {
      "application/vnd.jupyter.widget-view+json": {
       "model_id": "9c4e0bb83a02491f95142679283a2b64",
       "version_major": 2,
       "version_minor": 0
      },
      "text/plain": [
       "  0%|          | 0/1000 [00:00<?, ?it/s]"
      ]
     },
     "metadata": {},
     "output_type": "display_data"
    },
    {
     "name": "stderr",
     "output_type": "stream",
     "text": [
      "\r",
      " 64%|██████▍   | 642/1000 [02:40<01:19,  4.50it/s]"
     ]
    },
    {
     "data": {
      "application/vnd.jupyter.widget-view+json": {
       "model_id": "ab0b50a903e44daab925d2e3e4cc5ebe",
       "version_major": 2,
       "version_minor": 0
      },
      "text/plain": [
       "  0%|          | 0/1000 [00:00<?, ?it/s]"
      ]
     },
     "metadata": {},
     "output_type": "display_data"
    },
    {
     "name": "stderr",
     "output_type": "stream",
     "text": [
      "\r",
      " 64%|██████▍   | 643/1000 [02:40<01:22,  4.35it/s]"
     ]
    },
    {
     "data": {
      "application/vnd.jupyter.widget-view+json": {
       "model_id": "d45dc4e4ed2640dfa1b80cc113857f4c",
       "version_major": 2,
       "version_minor": 0
      },
      "text/plain": [
       "  0%|          | 0/1000 [00:00<?, ?it/s]"
      ]
     },
     "metadata": {},
     "output_type": "display_data"
    },
    {
     "name": "stderr",
     "output_type": "stream",
     "text": [
      "\r",
      " 64%|██████▍   | 644/1000 [02:40<01:21,  4.36it/s]"
     ]
    },
    {
     "data": {
      "application/vnd.jupyter.widget-view+json": {
       "model_id": "ab70a170eee54e7eae6b9898c6569582",
       "version_major": 2,
       "version_minor": 0
      },
      "text/plain": [
       "  0%|          | 0/1000 [00:00<?, ?it/s]"
      ]
     },
     "metadata": {},
     "output_type": "display_data"
    },
    {
     "name": "stderr",
     "output_type": "stream",
     "text": [
      "\r",
      " 64%|██████▍   | 645/1000 [02:41<01:21,  4.36it/s]"
     ]
    },
    {
     "data": {
      "application/vnd.jupyter.widget-view+json": {
       "model_id": "bb55d04e04f34bd5ad1086ec026e76f7",
       "version_major": 2,
       "version_minor": 0
      },
      "text/plain": [
       "  0%|          | 0/1000 [00:00<?, ?it/s]"
      ]
     },
     "metadata": {},
     "output_type": "display_data"
    },
    {
     "name": "stderr",
     "output_type": "stream",
     "text": [
      "\r",
      " 65%|██████▍   | 646/1000 [02:41<01:19,  4.46it/s]"
     ]
    },
    {
     "data": {
      "application/vnd.jupyter.widget-view+json": {
       "model_id": "6b8382a8e15a4be8bc4cd8fc176679c9",
       "version_major": 2,
       "version_minor": 0
      },
      "text/plain": [
       "  0%|          | 0/1000 [00:00<?, ?it/s]"
      ]
     },
     "metadata": {},
     "output_type": "display_data"
    },
    {
     "name": "stderr",
     "output_type": "stream",
     "text": [
      "\r",
      " 65%|██████▍   | 647/1000 [02:41<01:19,  4.46it/s]"
     ]
    },
    {
     "data": {
      "application/vnd.jupyter.widget-view+json": {
       "model_id": "70241ffea2734cadb4c76b29283c65ed",
       "version_major": 2,
       "version_minor": 0
      },
      "text/plain": [
       "  0%|          | 0/1000 [00:00<?, ?it/s]"
      ]
     },
     "metadata": {},
     "output_type": "display_data"
    },
    {
     "name": "stderr",
     "output_type": "stream",
     "text": [
      "\r",
      " 65%|██████▍   | 648/1000 [02:41<01:17,  4.52it/s]"
     ]
    },
    {
     "data": {
      "application/vnd.jupyter.widget-view+json": {
       "model_id": "079629fa06c542939c2f23cfa11d246c",
       "version_major": 2,
       "version_minor": 0
      },
      "text/plain": [
       "  0%|          | 0/1000 [00:00<?, ?it/s]"
      ]
     },
     "metadata": {},
     "output_type": "display_data"
    },
    {
     "name": "stderr",
     "output_type": "stream",
     "text": [
      "\r",
      " 65%|██████▍   | 649/1000 [02:42<01:17,  4.50it/s]"
     ]
    },
    {
     "data": {
      "application/vnd.jupyter.widget-view+json": {
       "model_id": "396bdb71827f41dc80aedc0f81b4db40",
       "version_major": 2,
       "version_minor": 0
      },
      "text/plain": [
       "  0%|          | 0/1000 [00:00<?, ?it/s]"
      ]
     },
     "metadata": {},
     "output_type": "display_data"
    },
    {
     "name": "stderr",
     "output_type": "stream",
     "text": [
      "\r",
      " 65%|██████▌   | 650/1000 [02:42<01:17,  4.51it/s]"
     ]
    },
    {
     "data": {
      "application/vnd.jupyter.widget-view+json": {
       "model_id": "fc1034e2255b48e880cccc240341575a",
       "version_major": 2,
       "version_minor": 0
      },
      "text/plain": [
       "  0%|          | 0/1000 [00:00<?, ?it/s]"
      ]
     },
     "metadata": {},
     "output_type": "display_data"
    },
    {
     "name": "stderr",
     "output_type": "stream",
     "text": [
      "\r",
      " 65%|██████▌   | 651/1000 [02:42<01:21,  4.30it/s]"
     ]
    },
    {
     "data": {
      "application/vnd.jupyter.widget-view+json": {
       "model_id": "7489fb7fdd244822b1daefcc9c586f8e",
       "version_major": 2,
       "version_minor": 0
      },
      "text/plain": [
       "  0%|          | 0/1000 [00:00<?, ?it/s]"
      ]
     },
     "metadata": {},
     "output_type": "display_data"
    },
    {
     "name": "stderr",
     "output_type": "stream",
     "text": [
      "\r",
      " 65%|██████▌   | 652/1000 [02:42<01:21,  4.29it/s]"
     ]
    },
    {
     "data": {
      "application/vnd.jupyter.widget-view+json": {
       "model_id": "66bebce7bc9b4325811e7f147d00a3d9",
       "version_major": 2,
       "version_minor": 0
      },
      "text/plain": [
       "  0%|          | 0/1000 [00:00<?, ?it/s]"
      ]
     },
     "metadata": {},
     "output_type": "display_data"
    },
    {
     "name": "stderr",
     "output_type": "stream",
     "text": [
      "\r",
      " 65%|██████▌   | 653/1000 [02:42<01:20,  4.31it/s]"
     ]
    },
    {
     "data": {
      "application/vnd.jupyter.widget-view+json": {
       "model_id": "3e0759d05f4a4160bfdfe1a40134052c",
       "version_major": 2,
       "version_minor": 0
      },
      "text/plain": [
       "  0%|          | 0/1000 [00:00<?, ?it/s]"
      ]
     },
     "metadata": {},
     "output_type": "display_data"
    },
    {
     "name": "stderr",
     "output_type": "stream",
     "text": [
      "\r",
      " 65%|██████▌   | 654/1000 [02:43<01:18,  4.41it/s]"
     ]
    },
    {
     "data": {
      "application/vnd.jupyter.widget-view+json": {
       "model_id": "ae6d4c320b2746669ea19ade7b422d85",
       "version_major": 2,
       "version_minor": 0
      },
      "text/plain": [
       "  0%|          | 0/1000 [00:00<?, ?it/s]"
      ]
     },
     "metadata": {},
     "output_type": "display_data"
    },
    {
     "name": "stderr",
     "output_type": "stream",
     "text": [
      "\r",
      " 66%|██████▌   | 655/1000 [02:43<01:18,  4.41it/s]"
     ]
    },
    {
     "data": {
      "application/vnd.jupyter.widget-view+json": {
       "model_id": "adf1738097a846e6a842f3f2b590c538",
       "version_major": 2,
       "version_minor": 0
      },
      "text/plain": [
       "  0%|          | 0/1000 [00:00<?, ?it/s]"
      ]
     },
     "metadata": {},
     "output_type": "display_data"
    },
    {
     "name": "stderr",
     "output_type": "stream",
     "text": [
      "\r",
      " 66%|██████▌   | 656/1000 [02:43<01:19,  4.35it/s]"
     ]
    },
    {
     "data": {
      "application/vnd.jupyter.widget-view+json": {
       "model_id": "57a24ecb3b114473a65a86cab5b0637a",
       "version_major": 2,
       "version_minor": 0
      },
      "text/plain": [
       "  0%|          | 0/1000 [00:00<?, ?it/s]"
      ]
     },
     "metadata": {},
     "output_type": "display_data"
    },
    {
     "name": "stderr",
     "output_type": "stream",
     "text": [
      "\r",
      " 66%|██████▌   | 657/1000 [02:43<01:18,  4.36it/s]"
     ]
    },
    {
     "data": {
      "application/vnd.jupyter.widget-view+json": {
       "model_id": "06b6789077554e4b995bd3a4ccad6ad9",
       "version_major": 2,
       "version_minor": 0
      },
      "text/plain": [
       "  0%|          | 0/1000 [00:00<?, ?it/s]"
      ]
     },
     "metadata": {},
     "output_type": "display_data"
    },
    {
     "name": "stderr",
     "output_type": "stream",
     "text": [
      "\r",
      " 66%|██████▌   | 658/1000 [02:44<01:23,  4.11it/s]"
     ]
    },
    {
     "data": {
      "application/vnd.jupyter.widget-view+json": {
       "model_id": "2bbf3d05905b4e989b79a2e90f145000",
       "version_major": 2,
       "version_minor": 0
      },
      "text/plain": [
       "  0%|          | 0/1000 [00:00<?, ?it/s]"
      ]
     },
     "metadata": {},
     "output_type": "display_data"
    },
    {
     "name": "stderr",
     "output_type": "stream",
     "text": [
      "\r",
      " 66%|██████▌   | 659/1000 [02:44<01:23,  4.11it/s]"
     ]
    },
    {
     "data": {
      "application/vnd.jupyter.widget-view+json": {
       "model_id": "db9f80be7b324d7c92d27eadc212ce3b",
       "version_major": 2,
       "version_minor": 0
      },
      "text/plain": [
       "  0%|          | 0/1000 [00:00<?, ?it/s]"
      ]
     },
     "metadata": {},
     "output_type": "display_data"
    },
    {
     "name": "stderr",
     "output_type": "stream",
     "text": [
      "\r",
      " 66%|██████▌   | 660/1000 [02:44<01:22,  4.14it/s]"
     ]
    },
    {
     "data": {
      "application/vnd.jupyter.widget-view+json": {
       "model_id": "65d7bbb8ef2d4d22a8370904604f3528",
       "version_major": 2,
       "version_minor": 0
      },
      "text/plain": [
       "  0%|          | 0/1000 [00:00<?, ?it/s]"
      ]
     },
     "metadata": {},
     "output_type": "display_data"
    },
    {
     "name": "stderr",
     "output_type": "stream",
     "text": [
      "\r",
      " 66%|██████▌   | 661/1000 [02:44<01:19,  4.28it/s]"
     ]
    },
    {
     "data": {
      "application/vnd.jupyter.widget-view+json": {
       "model_id": "5a7b9980abf043b590d0c634e624de84",
       "version_major": 2,
       "version_minor": 0
      },
      "text/plain": [
       "  0%|          | 0/1000 [00:00<?, ?it/s]"
      ]
     },
     "metadata": {},
     "output_type": "display_data"
    },
    {
     "name": "stderr",
     "output_type": "stream",
     "text": [
      "\r",
      " 66%|██████▌   | 662/1000 [02:45<01:17,  4.35it/s]"
     ]
    },
    {
     "data": {
      "application/vnd.jupyter.widget-view+json": {
       "model_id": "8f253f2982814dafa1a5c7649e067294",
       "version_major": 2,
       "version_minor": 0
      },
      "text/plain": [
       "  0%|          | 0/1000 [00:00<?, ?it/s]"
      ]
     },
     "metadata": {},
     "output_type": "display_data"
    },
    {
     "name": "stderr",
     "output_type": "stream",
     "text": [
      "\r",
      " 66%|██████▋   | 663/1000 [02:45<01:16,  4.43it/s]"
     ]
    },
    {
     "data": {
      "application/vnd.jupyter.widget-view+json": {
       "model_id": "31a958369d574de89e50fb8cef642b18",
       "version_major": 2,
       "version_minor": 0
      },
      "text/plain": [
       "  0%|          | 0/1000 [00:00<?, ?it/s]"
      ]
     },
     "metadata": {},
     "output_type": "display_data"
    },
    {
     "name": "stderr",
     "output_type": "stream",
     "text": [
      "\r",
      " 66%|██████▋   | 664/1000 [02:45<01:15,  4.43it/s]"
     ]
    },
    {
     "data": {
      "application/vnd.jupyter.widget-view+json": {
       "model_id": "384d2f1e16c945b18856c073dd06b1e7",
       "version_major": 2,
       "version_minor": 0
      },
      "text/plain": [
       "  0%|          | 0/1000 [00:00<?, ?it/s]"
      ]
     },
     "metadata": {},
     "output_type": "display_data"
    },
    {
     "name": "stderr",
     "output_type": "stream",
     "text": [
      "\r",
      " 66%|██████▋   | 665/1000 [02:45<01:15,  4.46it/s]"
     ]
    },
    {
     "data": {
      "application/vnd.jupyter.widget-view+json": {
       "model_id": "11ef29104f474538b0019b0f6f203c1f",
       "version_major": 2,
       "version_minor": 0
      },
      "text/plain": [
       "  0%|          | 0/1000 [00:00<?, ?it/s]"
      ]
     },
     "metadata": {},
     "output_type": "display_data"
    },
    {
     "name": "stderr",
     "output_type": "stream",
     "text": [
      "\r",
      " 67%|██████▋   | 666/1000 [02:45<01:14,  4.47it/s]"
     ]
    },
    {
     "data": {
      "application/vnd.jupyter.widget-view+json": {
       "model_id": "cb8081e5f54a465abad2e9b832d13519",
       "version_major": 2,
       "version_minor": 0
      },
      "text/plain": [
       "  0%|          | 0/1000 [00:00<?, ?it/s]"
      ]
     },
     "metadata": {},
     "output_type": "display_data"
    },
    {
     "name": "stderr",
     "output_type": "stream",
     "text": [
      "\r",
      " 67%|██████▋   | 667/1000 [02:46<01:14,  4.47it/s]"
     ]
    },
    {
     "data": {
      "application/vnd.jupyter.widget-view+json": {
       "model_id": "d8485ff1757c495bb0c0e2aeca752fb1",
       "version_major": 2,
       "version_minor": 0
      },
      "text/plain": [
       "  0%|          | 0/1000 [00:00<?, ?it/s]"
      ]
     },
     "metadata": {},
     "output_type": "display_data"
    },
    {
     "name": "stderr",
     "output_type": "stream",
     "text": [
      "\r",
      " 67%|██████▋   | 668/1000 [02:46<01:15,  4.40it/s]"
     ]
    },
    {
     "data": {
      "application/vnd.jupyter.widget-view+json": {
       "model_id": "75877e512e384525a1715995799c6c42",
       "version_major": 2,
       "version_minor": 0
      },
      "text/plain": [
       "  0%|          | 0/1000 [00:00<?, ?it/s]"
      ]
     },
     "metadata": {},
     "output_type": "display_data"
    },
    {
     "name": "stderr",
     "output_type": "stream",
     "text": [
      "\r",
      " 67%|██████▋   | 669/1000 [02:46<01:17,  4.29it/s]"
     ]
    },
    {
     "data": {
      "application/vnd.jupyter.widget-view+json": {
       "model_id": "4a225771c8ae4fef8e17f509b6214f1e",
       "version_major": 2,
       "version_minor": 0
      },
      "text/plain": [
       "  0%|          | 0/1000 [00:00<?, ?it/s]"
      ]
     },
     "metadata": {},
     "output_type": "display_data"
    },
    {
     "name": "stderr",
     "output_type": "stream",
     "text": [
      "\r",
      " 67%|██████▋   | 670/1000 [02:46<01:14,  4.40it/s]"
     ]
    },
    {
     "data": {
      "application/vnd.jupyter.widget-view+json": {
       "model_id": "37c9c53554f54f7b9ba84788d9346d5d",
       "version_major": 2,
       "version_minor": 0
      },
      "text/plain": [
       "  0%|          | 0/1000 [00:00<?, ?it/s]"
      ]
     },
     "metadata": {},
     "output_type": "display_data"
    },
    {
     "name": "stderr",
     "output_type": "stream",
     "text": [
      "\r",
      " 67%|██████▋   | 671/1000 [02:47<01:15,  4.33it/s]"
     ]
    },
    {
     "data": {
      "application/vnd.jupyter.widget-view+json": {
       "model_id": "c68596dcf0cf4f57a4a8a6e92f80d9d7",
       "version_major": 2,
       "version_minor": 0
      },
      "text/plain": [
       "  0%|          | 0/1000 [00:00<?, ?it/s]"
      ]
     },
     "metadata": {},
     "output_type": "display_data"
    },
    {
     "name": "stderr",
     "output_type": "stream",
     "text": [
      "\r",
      " 67%|██████▋   | 672/1000 [02:47<01:18,  4.19it/s]"
     ]
    },
    {
     "data": {
      "application/vnd.jupyter.widget-view+json": {
       "model_id": "fa7aa7e4a1414bb8bbb3affdebc98303",
       "version_major": 2,
       "version_minor": 0
      },
      "text/plain": [
       "  0%|          | 0/1000 [00:00<?, ?it/s]"
      ]
     },
     "metadata": {},
     "output_type": "display_data"
    },
    {
     "name": "stderr",
     "output_type": "stream",
     "text": [
      "\r",
      " 67%|██████▋   | 673/1000 [02:47<01:18,  4.15it/s]"
     ]
    },
    {
     "data": {
      "application/vnd.jupyter.widget-view+json": {
       "model_id": "aab82c54e0f7494c8b9e965259a0f6b0",
       "version_major": 2,
       "version_minor": 0
      },
      "text/plain": [
       "  0%|          | 0/1000 [00:00<?, ?it/s]"
      ]
     },
     "metadata": {},
     "output_type": "display_data"
    },
    {
     "name": "stderr",
     "output_type": "stream",
     "text": [
      "\r",
      " 67%|██████▋   | 674/1000 [02:47<01:18,  4.13it/s]"
     ]
    },
    {
     "data": {
      "application/vnd.jupyter.widget-view+json": {
       "model_id": "780290ab1b5649bc92c2980b2c2fe9e4",
       "version_major": 2,
       "version_minor": 0
      },
      "text/plain": [
       "  0%|          | 0/1000 [00:00<?, ?it/s]"
      ]
     },
     "metadata": {},
     "output_type": "display_data"
    },
    {
     "name": "stderr",
     "output_type": "stream",
     "text": [
      "\r",
      " 68%|██████▊   | 675/1000 [02:48<01:19,  4.08it/s]"
     ]
    },
    {
     "data": {
      "application/vnd.jupyter.widget-view+json": {
       "model_id": "2fd927b9362842339a394910e442b01f",
       "version_major": 2,
       "version_minor": 0
      },
      "text/plain": [
       "  0%|          | 0/1000 [00:00<?, ?it/s]"
      ]
     },
     "metadata": {},
     "output_type": "display_data"
    },
    {
     "name": "stderr",
     "output_type": "stream",
     "text": [
      "\r",
      " 68%|██████▊   | 676/1000 [02:48<01:18,  4.11it/s]"
     ]
    },
    {
     "data": {
      "application/vnd.jupyter.widget-view+json": {
       "model_id": "a34d5637a0794070bbe37d5724baca6d",
       "version_major": 2,
       "version_minor": 0
      },
      "text/plain": [
       "  0%|          | 0/1000 [00:00<?, ?it/s]"
      ]
     },
     "metadata": {},
     "output_type": "display_data"
    },
    {
     "name": "stderr",
     "output_type": "stream",
     "text": [
      "\r",
      " 68%|██████▊   | 677/1000 [02:48<01:32,  3.49it/s]"
     ]
    },
    {
     "data": {
      "application/vnd.jupyter.widget-view+json": {
       "model_id": "c20456ce7d75407d9a2209afd6a50720",
       "version_major": 2,
       "version_minor": 0
      },
      "text/plain": [
       "  0%|          | 0/1000 [00:00<?, ?it/s]"
      ]
     },
     "metadata": {},
     "output_type": "display_data"
    },
    {
     "name": "stderr",
     "output_type": "stream",
     "text": [
      "\r",
      " 68%|██████▊   | 678/1000 [02:49<01:32,  3.50it/s]"
     ]
    },
    {
     "data": {
      "application/vnd.jupyter.widget-view+json": {
       "model_id": "13cb0be97a354962bf512ca24936f2db",
       "version_major": 2,
       "version_minor": 0
      },
      "text/plain": [
       "  0%|          | 0/1000 [00:00<?, ?it/s]"
      ]
     },
     "metadata": {},
     "output_type": "display_data"
    },
    {
     "name": "stderr",
     "output_type": "stream",
     "text": [
      "\r",
      " 68%|██████▊   | 679/1000 [02:49<01:27,  3.67it/s]"
     ]
    },
    {
     "data": {
      "application/vnd.jupyter.widget-view+json": {
       "model_id": "c2b9581f59424c96865d4b574da2c4f1",
       "version_major": 2,
       "version_minor": 0
      },
      "text/plain": [
       "  0%|          | 0/1000 [00:00<?, ?it/s]"
      ]
     },
     "metadata": {},
     "output_type": "display_data"
    },
    {
     "name": "stderr",
     "output_type": "stream",
     "text": [
      "\r",
      " 68%|██████▊   | 680/1000 [02:49<01:22,  3.86it/s]"
     ]
    },
    {
     "data": {
      "application/vnd.jupyter.widget-view+json": {
       "model_id": "86bdb79dcac9439c97bb8eb9b8f46f5d",
       "version_major": 2,
       "version_minor": 0
      },
      "text/plain": [
       "  0%|          | 0/1000 [00:00<?, ?it/s]"
      ]
     },
     "metadata": {},
     "output_type": "display_data"
    },
    {
     "name": "stderr",
     "output_type": "stream",
     "text": [
      "\r",
      " 68%|██████▊   | 681/1000 [02:49<01:17,  4.11it/s]"
     ]
    },
    {
     "data": {
      "application/vnd.jupyter.widget-view+json": {
       "model_id": "40d7618235d3414a867e0609fab77562",
       "version_major": 2,
       "version_minor": 0
      },
      "text/plain": [
       "  0%|          | 0/1000 [00:00<?, ?it/s]"
      ]
     },
     "metadata": {},
     "output_type": "display_data"
    },
    {
     "name": "stderr",
     "output_type": "stream",
     "text": [
      "\r",
      " 68%|██████▊   | 682/1000 [02:49<01:13,  4.31it/s]"
     ]
    },
    {
     "data": {
      "application/vnd.jupyter.widget-view+json": {
       "model_id": "92ee451169af41479a0c23f97128e2e5",
       "version_major": 2,
       "version_minor": 0
      },
      "text/plain": [
       "  0%|          | 0/1000 [00:00<?, ?it/s]"
      ]
     },
     "metadata": {},
     "output_type": "display_data"
    },
    {
     "name": "stderr",
     "output_type": "stream",
     "text": [
      "\r",
      " 68%|██████▊   | 683/1000 [02:50<01:11,  4.42it/s]"
     ]
    },
    {
     "data": {
      "application/vnd.jupyter.widget-view+json": {
       "model_id": "1f2ad95ac8de4e2ebc164fb52fb05c8d",
       "version_major": 2,
       "version_minor": 0
      },
      "text/plain": [
       "  0%|          | 0/1000 [00:00<?, ?it/s]"
      ]
     },
     "metadata": {},
     "output_type": "display_data"
    },
    {
     "name": "stderr",
     "output_type": "stream",
     "text": [
      "\r",
      " 68%|██████▊   | 684/1000 [02:50<01:17,  4.06it/s]"
     ]
    },
    {
     "data": {
      "application/vnd.jupyter.widget-view+json": {
       "model_id": "7aa9b93d092341f0a5f59ad72178d39d",
       "version_major": 2,
       "version_minor": 0
      },
      "text/plain": [
       "  0%|          | 0/1000 [00:00<?, ?it/s]"
      ]
     },
     "metadata": {},
     "output_type": "display_data"
    },
    {
     "name": "stderr",
     "output_type": "stream",
     "text": [
      "\r",
      " 68%|██████▊   | 685/1000 [02:50<01:18,  4.03it/s]"
     ]
    },
    {
     "data": {
      "application/vnd.jupyter.widget-view+json": {
       "model_id": "b91052f15b4b48c2afcea17a3e5087c7",
       "version_major": 2,
       "version_minor": 0
      },
      "text/plain": [
       "  0%|          | 0/1000 [00:00<?, ?it/s]"
      ]
     },
     "metadata": {},
     "output_type": "display_data"
    },
    {
     "name": "stderr",
     "output_type": "stream",
     "text": [
      "\r",
      " 69%|██████▊   | 686/1000 [02:50<01:16,  4.10it/s]"
     ]
    },
    {
     "data": {
      "application/vnd.jupyter.widget-view+json": {
       "model_id": "0bbc6c98e4594fc2a8ad1c11c161387f",
       "version_major": 2,
       "version_minor": 0
      },
      "text/plain": [
       "  0%|          | 0/1000 [00:00<?, ?it/s]"
      ]
     },
     "metadata": {},
     "output_type": "display_data"
    },
    {
     "name": "stderr",
     "output_type": "stream",
     "text": [
      "\r",
      " 69%|██████▊   | 687/1000 [02:51<01:14,  4.23it/s]"
     ]
    },
    {
     "data": {
      "application/vnd.jupyter.widget-view+json": {
       "model_id": "6f3fd46780ae4994885c377aad497b11",
       "version_major": 2,
       "version_minor": 0
      },
      "text/plain": [
       "  0%|          | 0/1000 [00:00<?, ?it/s]"
      ]
     },
     "metadata": {},
     "output_type": "display_data"
    },
    {
     "name": "stderr",
     "output_type": "stream",
     "text": [
      "\r",
      " 69%|██████▉   | 688/1000 [02:51<01:11,  4.35it/s]"
     ]
    },
    {
     "data": {
      "application/vnd.jupyter.widget-view+json": {
       "model_id": "08415c7fab0b41258050413b32257363",
       "version_major": 2,
       "version_minor": 0
      },
      "text/plain": [
       "  0%|          | 0/1000 [00:00<?, ?it/s]"
      ]
     },
     "metadata": {},
     "output_type": "display_data"
    },
    {
     "name": "stderr",
     "output_type": "stream",
     "text": [
      "\r",
      " 69%|██████▉   | 689/1000 [02:51<01:10,  4.39it/s]"
     ]
    },
    {
     "data": {
      "application/vnd.jupyter.widget-view+json": {
       "model_id": "0356115ecf174aac970669d43fe21fdd",
       "version_major": 2,
       "version_minor": 0
      },
      "text/plain": [
       "  0%|          | 0/1000 [00:00<?, ?it/s]"
      ]
     },
     "metadata": {},
     "output_type": "display_data"
    },
    {
     "name": "stderr",
     "output_type": "stream",
     "text": [
      "\r",
      " 69%|██████▉   | 690/1000 [02:51<01:09,  4.48it/s]"
     ]
    },
    {
     "data": {
      "application/vnd.jupyter.widget-view+json": {
       "model_id": "71038284e50246b7818f93cf537f4776",
       "version_major": 2,
       "version_minor": 0
      },
      "text/plain": [
       "  0%|          | 0/1000 [00:00<?, ?it/s]"
      ]
     },
     "metadata": {},
     "output_type": "display_data"
    },
    {
     "name": "stderr",
     "output_type": "stream",
     "text": [
      "\r",
      " 69%|██████▉   | 691/1000 [02:52<01:09,  4.42it/s]"
     ]
    },
    {
     "data": {
      "application/vnd.jupyter.widget-view+json": {
       "model_id": "fb4402b377a54b2bb959aa8ad3026961",
       "version_major": 2,
       "version_minor": 0
      },
      "text/plain": [
       "  0%|          | 0/1000 [00:00<?, ?it/s]"
      ]
     },
     "metadata": {},
     "output_type": "display_data"
    },
    {
     "name": "stderr",
     "output_type": "stream",
     "text": [
      "\r",
      " 69%|██████▉   | 692/1000 [02:52<01:07,  4.56it/s]"
     ]
    },
    {
     "data": {
      "application/vnd.jupyter.widget-view+json": {
       "model_id": "22a3170a95264f66b807b940f0b964e6",
       "version_major": 2,
       "version_minor": 0
      },
      "text/plain": [
       "  0%|          | 0/1000 [00:00<?, ?it/s]"
      ]
     },
     "metadata": {},
     "output_type": "display_data"
    },
    {
     "name": "stderr",
     "output_type": "stream",
     "text": [
      "\r",
      " 69%|██████▉   | 693/1000 [02:52<01:07,  4.57it/s]"
     ]
    },
    {
     "data": {
      "application/vnd.jupyter.widget-view+json": {
       "model_id": "3e47da30c92447cb9a950281c556298a",
       "version_major": 2,
       "version_minor": 0
      },
      "text/plain": [
       "  0%|          | 0/1000 [00:00<?, ?it/s]"
      ]
     },
     "metadata": {},
     "output_type": "display_data"
    },
    {
     "name": "stderr",
     "output_type": "stream",
     "text": [
      "\r",
      " 69%|██████▉   | 694/1000 [02:52<01:08,  4.47it/s]"
     ]
    },
    {
     "data": {
      "application/vnd.jupyter.widget-view+json": {
       "model_id": "e3180b429ade41a78474d482b654baae",
       "version_major": 2,
       "version_minor": 0
      },
      "text/plain": [
       "  0%|          | 0/1000 [00:00<?, ?it/s]"
      ]
     },
     "metadata": {},
     "output_type": "display_data"
    },
    {
     "name": "stderr",
     "output_type": "stream",
     "text": [
      "\r",
      " 70%|██████▉   | 695/1000 [02:52<01:07,  4.51it/s]"
     ]
    },
    {
     "data": {
      "application/vnd.jupyter.widget-view+json": {
       "model_id": "d7bccfff64fb4168bd43cc1c78110937",
       "version_major": 2,
       "version_minor": 0
      },
      "text/plain": [
       "  0%|          | 0/1000 [00:00<?, ?it/s]"
      ]
     },
     "metadata": {},
     "output_type": "display_data"
    },
    {
     "name": "stderr",
     "output_type": "stream",
     "text": [
      "\r",
      " 70%|██████▉   | 696/1000 [02:53<01:06,  4.57it/s]"
     ]
    },
    {
     "data": {
      "application/vnd.jupyter.widget-view+json": {
       "model_id": "d9f80de74c594ed8bb7fb164d7baf31b",
       "version_major": 2,
       "version_minor": 0
      },
      "text/plain": [
       "  0%|          | 0/1000 [00:00<?, ?it/s]"
      ]
     },
     "metadata": {},
     "output_type": "display_data"
    },
    {
     "name": "stderr",
     "output_type": "stream",
     "text": [
      "\r",
      " 70%|██████▉   | 697/1000 [02:53<01:07,  4.47it/s]"
     ]
    },
    {
     "data": {
      "application/vnd.jupyter.widget-view+json": {
       "model_id": "60f175c9f81044b6bc01cac804b11242",
       "version_major": 2,
       "version_minor": 0
      },
      "text/plain": [
       "  0%|          | 0/1000 [00:00<?, ?it/s]"
      ]
     },
     "metadata": {},
     "output_type": "display_data"
    },
    {
     "name": "stderr",
     "output_type": "stream",
     "text": [
      "\r",
      " 70%|██████▉   | 698/1000 [02:53<01:11,  4.21it/s]"
     ]
    },
    {
     "data": {
      "application/vnd.jupyter.widget-view+json": {
       "model_id": "d4142b98ecb744fca5d8da5177086bcb",
       "version_major": 2,
       "version_minor": 0
      },
      "text/plain": [
       "  0%|          | 0/1000 [00:00<?, ?it/s]"
      ]
     },
     "metadata": {},
     "output_type": "display_data"
    },
    {
     "name": "stderr",
     "output_type": "stream",
     "text": [
      "\r",
      " 70%|██████▉   | 699/1000 [02:53<01:12,  4.13it/s]"
     ]
    },
    {
     "data": {
      "application/vnd.jupyter.widget-view+json": {
       "model_id": "0b0e89cb96f442bd80c6a1983837629b",
       "version_major": 2,
       "version_minor": 0
      },
      "text/plain": [
       "  0%|          | 0/1000 [00:00<?, ?it/s]"
      ]
     },
     "metadata": {},
     "output_type": "display_data"
    },
    {
     "name": "stderr",
     "output_type": "stream",
     "text": [
      "\r",
      " 70%|███████   | 700/1000 [02:54<01:11,  4.20it/s]"
     ]
    },
    {
     "data": {
      "application/vnd.jupyter.widget-view+json": {
       "model_id": "41132b7b4100422dbb950921cc702de0",
       "version_major": 2,
       "version_minor": 0
      },
      "text/plain": [
       "  0%|          | 0/1000 [00:00<?, ?it/s]"
      ]
     },
     "metadata": {},
     "output_type": "display_data"
    },
    {
     "name": "stderr",
     "output_type": "stream",
     "text": [
      "\r",
      " 70%|███████   | 701/1000 [02:54<01:10,  4.25it/s]"
     ]
    },
    {
     "data": {
      "application/vnd.jupyter.widget-view+json": {
       "model_id": "fbbafb4de95d4a37b43aa560869354ce",
       "version_major": 2,
       "version_minor": 0
      },
      "text/plain": [
       "  0%|          | 0/1000 [00:00<?, ?it/s]"
      ]
     },
     "metadata": {},
     "output_type": "display_data"
    },
    {
     "name": "stderr",
     "output_type": "stream",
     "text": [
      "\r",
      " 70%|███████   | 702/1000 [02:54<01:10,  4.25it/s]"
     ]
    },
    {
     "data": {
      "application/vnd.jupyter.widget-view+json": {
       "model_id": "9bca75ff922d4690a6f0d0da5e53fcd3",
       "version_major": 2,
       "version_minor": 0
      },
      "text/plain": [
       "  0%|          | 0/1000 [00:00<?, ?it/s]"
      ]
     },
     "metadata": {},
     "output_type": "display_data"
    },
    {
     "name": "stderr",
     "output_type": "stream",
     "text": [
      "\r",
      " 70%|███████   | 703/1000 [02:54<01:10,  4.23it/s]"
     ]
    },
    {
     "data": {
      "application/vnd.jupyter.widget-view+json": {
       "model_id": "b2f739b4e8654601926e78892f1e152e",
       "version_major": 2,
       "version_minor": 0
      },
      "text/plain": [
       "  0%|          | 0/1000 [00:00<?, ?it/s]"
      ]
     },
     "metadata": {},
     "output_type": "display_data"
    },
    {
     "name": "stderr",
     "output_type": "stream",
     "text": [
      "\r",
      " 70%|███████   | 704/1000 [02:55<01:11,  4.14it/s]"
     ]
    },
    {
     "data": {
      "application/vnd.jupyter.widget-view+json": {
       "model_id": "c027f92fe3144aa8a0af419142ab03d8",
       "version_major": 2,
       "version_minor": 0
      },
      "text/plain": [
       "  0%|          | 0/1000 [00:00<?, ?it/s]"
      ]
     },
     "metadata": {},
     "output_type": "display_data"
    },
    {
     "name": "stderr",
     "output_type": "stream",
     "text": [
      "\r",
      " 70%|███████   | 705/1000 [02:55<01:21,  3.61it/s]"
     ]
    },
    {
     "data": {
      "application/vnd.jupyter.widget-view+json": {
       "model_id": "6ccded630a1a4adab0328757a211ee94",
       "version_major": 2,
       "version_minor": 0
      },
      "text/plain": [
       "  0%|          | 0/1000 [00:00<?, ?it/s]"
      ]
     },
     "metadata": {},
     "output_type": "display_data"
    },
    {
     "name": "stderr",
     "output_type": "stream",
     "text": [
      "\r",
      " 71%|███████   | 706/1000 [02:55<01:21,  3.61it/s]"
     ]
    },
    {
     "data": {
      "application/vnd.jupyter.widget-view+json": {
       "model_id": "225b86d7f54d46a0827b6b931577959c",
       "version_major": 2,
       "version_minor": 0
      },
      "text/plain": [
       "  0%|          | 0/1000 [00:00<?, ?it/s]"
      ]
     },
     "metadata": {},
     "output_type": "display_data"
    },
    {
     "name": "stderr",
     "output_type": "stream",
     "text": [
      "\r",
      " 71%|███████   | 707/1000 [02:55<01:21,  3.61it/s]"
     ]
    },
    {
     "data": {
      "application/vnd.jupyter.widget-view+json": {
       "model_id": "19525229d98642198bf1e9b6427daf99",
       "version_major": 2,
       "version_minor": 0
      },
      "text/plain": [
       "  0%|          | 0/1000 [00:00<?, ?it/s]"
      ]
     },
     "metadata": {},
     "output_type": "display_data"
    },
    {
     "name": "stderr",
     "output_type": "stream",
     "text": [
      "\r",
      " 71%|███████   | 708/1000 [02:56<01:15,  3.85it/s]"
     ]
    },
    {
     "data": {
      "application/vnd.jupyter.widget-view+json": {
       "model_id": "058417a7f42a49b89c11ba4ea08a9454",
       "version_major": 2,
       "version_minor": 0
      },
      "text/plain": [
       "  0%|          | 0/1000 [00:00<?, ?it/s]"
      ]
     },
     "metadata": {},
     "output_type": "display_data"
    },
    {
     "name": "stderr",
     "output_type": "stream",
     "text": [
      "\r",
      " 71%|███████   | 709/1000 [02:56<01:12,  4.01it/s]"
     ]
    },
    {
     "data": {
      "application/vnd.jupyter.widget-view+json": {
       "model_id": "f4f0c772b72c44f398b723afd036db96",
       "version_major": 2,
       "version_minor": 0
      },
      "text/plain": [
       "  0%|          | 0/1000 [00:00<?, ?it/s]"
      ]
     },
     "metadata": {},
     "output_type": "display_data"
    },
    {
     "name": "stderr",
     "output_type": "stream",
     "text": [
      "\r",
      " 71%|███████   | 710/1000 [02:56<01:10,  4.08it/s]"
     ]
    },
    {
     "data": {
      "application/vnd.jupyter.widget-view+json": {
       "model_id": "41da4feb4a304c9f93767d8951004744",
       "version_major": 2,
       "version_minor": 0
      },
      "text/plain": [
       "  0%|          | 0/1000 [00:00<?, ?it/s]"
      ]
     },
     "metadata": {},
     "output_type": "display_data"
    },
    {
     "name": "stderr",
     "output_type": "stream",
     "text": [
      "\r",
      " 71%|███████   | 711/1000 [02:56<01:08,  4.19it/s]"
     ]
    },
    {
     "data": {
      "application/vnd.jupyter.widget-view+json": {
       "model_id": "ac76bc942c27425e8634d585c64c98e6",
       "version_major": 2,
       "version_minor": 0
      },
      "text/plain": [
       "  0%|          | 0/1000 [00:00<?, ?it/s]"
      ]
     },
     "metadata": {},
     "output_type": "display_data"
    },
    {
     "name": "stderr",
     "output_type": "stream",
     "text": [
      "\r",
      " 71%|███████   | 712/1000 [02:57<01:08,  4.23it/s]"
     ]
    },
    {
     "data": {
      "application/vnd.jupyter.widget-view+json": {
       "model_id": "0a551bc5c3e04d9896a5a29879ebb0a8",
       "version_major": 2,
       "version_minor": 0
      },
      "text/plain": [
       "  0%|          | 0/1000 [00:00<?, ?it/s]"
      ]
     },
     "metadata": {},
     "output_type": "display_data"
    },
    {
     "name": "stderr",
     "output_type": "stream",
     "text": [
      "\r",
      " 71%|███████▏  | 713/1000 [02:57<01:08,  4.20it/s]"
     ]
    },
    {
     "data": {
      "application/vnd.jupyter.widget-view+json": {
       "model_id": "e6d01733cfc74647a2736f9e82afbe25",
       "version_major": 2,
       "version_minor": 0
      },
      "text/plain": [
       "  0%|          | 0/1000 [00:00<?, ?it/s]"
      ]
     },
     "metadata": {},
     "output_type": "display_data"
    },
    {
     "name": "stderr",
     "output_type": "stream",
     "text": [
      "\r",
      " 71%|███████▏  | 714/1000 [02:57<01:11,  3.99it/s]"
     ]
    },
    {
     "data": {
      "application/vnd.jupyter.widget-view+json": {
       "model_id": "560018da910b42d89fdafec4dab51bcc",
       "version_major": 2,
       "version_minor": 0
      },
      "text/plain": [
       "  0%|          | 0/1000 [00:00<?, ?it/s]"
      ]
     },
     "metadata": {},
     "output_type": "display_data"
    },
    {
     "name": "stderr",
     "output_type": "stream",
     "text": [
      "\r",
      " 72%|███████▏  | 715/1000 [02:57<01:11,  3.97it/s]"
     ]
    },
    {
     "data": {
      "application/vnd.jupyter.widget-view+json": {
       "model_id": "d5d67cf2eed64497912ab16b4b2be6ad",
       "version_major": 2,
       "version_minor": 0
      },
      "text/plain": [
       "  0%|          | 0/1000 [00:00<?, ?it/s]"
      ]
     },
     "metadata": {},
     "output_type": "display_data"
    },
    {
     "name": "stderr",
     "output_type": "stream",
     "text": [
      "\r",
      " 72%|███████▏  | 716/1000 [02:58<01:08,  4.14it/s]"
     ]
    },
    {
     "data": {
      "application/vnd.jupyter.widget-view+json": {
       "model_id": "9386e4a18fc64c0fb2d09137091f44b7",
       "version_major": 2,
       "version_minor": 0
      },
      "text/plain": [
       "  0%|          | 0/1000 [00:00<?, ?it/s]"
      ]
     },
     "metadata": {},
     "output_type": "display_data"
    },
    {
     "name": "stderr",
     "output_type": "stream",
     "text": [
      "\r",
      " 72%|███████▏  | 717/1000 [02:58<01:06,  4.24it/s]"
     ]
    },
    {
     "data": {
      "application/vnd.jupyter.widget-view+json": {
       "model_id": "3b289ec775f4445eb803f59c4310459c",
       "version_major": 2,
       "version_minor": 0
      },
      "text/plain": [
       "  0%|          | 0/1000 [00:00<?, ?it/s]"
      ]
     },
     "metadata": {},
     "output_type": "display_data"
    },
    {
     "name": "stderr",
     "output_type": "stream",
     "text": [
      "\r",
      " 72%|███████▏  | 718/1000 [02:58<01:05,  4.33it/s]"
     ]
    },
    {
     "data": {
      "application/vnd.jupyter.widget-view+json": {
       "model_id": "c77f4c9054ab4f8e9ce37a4769fba6de",
       "version_major": 2,
       "version_minor": 0
      },
      "text/plain": [
       "  0%|          | 0/1000 [00:00<?, ?it/s]"
      ]
     },
     "metadata": {},
     "output_type": "display_data"
    },
    {
     "name": "stderr",
     "output_type": "stream",
     "text": [
      "\r",
      " 72%|███████▏  | 719/1000 [02:58<01:06,  4.20it/s]"
     ]
    },
    {
     "data": {
      "application/vnd.jupyter.widget-view+json": {
       "model_id": "5a15a6809002428fb9c61eb4e3d522f8",
       "version_major": 2,
       "version_minor": 0
      },
      "text/plain": [
       "  0%|          | 0/1000 [00:00<?, ?it/s]"
      ]
     },
     "metadata": {},
     "output_type": "display_data"
    },
    {
     "name": "stderr",
     "output_type": "stream",
     "text": [
      "\r",
      " 72%|███████▏  | 720/1000 [02:58<01:05,  4.28it/s]"
     ]
    },
    {
     "data": {
      "application/vnd.jupyter.widget-view+json": {
       "model_id": "6c10f56a4eda4795a9557af656e853c8",
       "version_major": 2,
       "version_minor": 0
      },
      "text/plain": [
       "  0%|          | 0/1000 [00:00<?, ?it/s]"
      ]
     },
     "metadata": {},
     "output_type": "display_data"
    },
    {
     "name": "stderr",
     "output_type": "stream",
     "text": [
      "\r",
      " 72%|███████▏  | 721/1000 [02:59<01:03,  4.37it/s]"
     ]
    },
    {
     "data": {
      "application/vnd.jupyter.widget-view+json": {
       "model_id": "f089f5962d3d40a3b8aff6ca6a9f120f",
       "version_major": 2,
       "version_minor": 0
      },
      "text/plain": [
       "  0%|          | 0/1000 [00:00<?, ?it/s]"
      ]
     },
     "metadata": {},
     "output_type": "display_data"
    },
    {
     "name": "stderr",
     "output_type": "stream",
     "text": [
      "\r",
      " 72%|███████▏  | 722/1000 [02:59<01:05,  4.24it/s]"
     ]
    },
    {
     "data": {
      "application/vnd.jupyter.widget-view+json": {
       "model_id": "9b6597e3e3fd44dbba41123d9679513e",
       "version_major": 2,
       "version_minor": 0
      },
      "text/plain": [
       "  0%|          | 0/1000 [00:00<?, ?it/s]"
      ]
     },
     "metadata": {},
     "output_type": "display_data"
    },
    {
     "name": "stderr",
     "output_type": "stream",
     "text": [
      "\r",
      " 72%|███████▏  | 723/1000 [02:59<01:03,  4.37it/s]"
     ]
    },
    {
     "data": {
      "application/vnd.jupyter.widget-view+json": {
       "model_id": "2a31796548a040268f0506fd07cee86f",
       "version_major": 2,
       "version_minor": 0
      },
      "text/plain": [
       "  0%|          | 0/1000 [00:00<?, ?it/s]"
      ]
     },
     "metadata": {},
     "output_type": "display_data"
    },
    {
     "name": "stderr",
     "output_type": "stream",
     "text": [
      "\r",
      " 72%|███████▏  | 724/1000 [02:59<01:03,  4.38it/s]"
     ]
    },
    {
     "data": {
      "application/vnd.jupyter.widget-view+json": {
       "model_id": "13ef9a802a4347b098070319cf5451d6",
       "version_major": 2,
       "version_minor": 0
      },
      "text/plain": [
       "  0%|          | 0/1000 [00:00<?, ?it/s]"
      ]
     },
     "metadata": {},
     "output_type": "display_data"
    },
    {
     "name": "stderr",
     "output_type": "stream",
     "text": [
      "\r",
      " 72%|███████▎  | 725/1000 [03:00<01:01,  4.45it/s]"
     ]
    },
    {
     "data": {
      "application/vnd.jupyter.widget-view+json": {
       "model_id": "7e32f59c31924fecbd48c8b19b424f78",
       "version_major": 2,
       "version_minor": 0
      },
      "text/plain": [
       "  0%|          | 0/1000 [00:00<?, ?it/s]"
      ]
     },
     "metadata": {},
     "output_type": "display_data"
    },
    {
     "name": "stderr",
     "output_type": "stream",
     "text": [
      "\r",
      " 73%|███████▎  | 726/1000 [03:00<01:03,  4.33it/s]"
     ]
    },
    {
     "data": {
      "application/vnd.jupyter.widget-view+json": {
       "model_id": "6a4df3978de44459bc1ee527b979424d",
       "version_major": 2,
       "version_minor": 0
      },
      "text/plain": [
       "  0%|          | 0/1000 [00:00<?, ?it/s]"
      ]
     },
     "metadata": {},
     "output_type": "display_data"
    },
    {
     "name": "stderr",
     "output_type": "stream",
     "text": [
      "\r",
      " 73%|███████▎  | 727/1000 [03:00<01:03,  4.33it/s]"
     ]
    },
    {
     "data": {
      "application/vnd.jupyter.widget-view+json": {
       "model_id": "7750b8ff1cc94529886dbfffb75605a4",
       "version_major": 2,
       "version_minor": 0
      },
      "text/plain": [
       "  0%|          | 0/1000 [00:00<?, ?it/s]"
      ]
     },
     "metadata": {},
     "output_type": "display_data"
    },
    {
     "name": "stderr",
     "output_type": "stream",
     "text": [
      "\r",
      " 73%|███████▎  | 728/1000 [03:00<01:02,  4.38it/s]"
     ]
    },
    {
     "data": {
      "application/vnd.jupyter.widget-view+json": {
       "model_id": "0742b7bf992443e08c010d56d2904bd3",
       "version_major": 2,
       "version_minor": 0
      },
      "text/plain": [
       "  0%|          | 0/1000 [00:00<?, ?it/s]"
      ]
     },
     "metadata": {},
     "output_type": "display_data"
    },
    {
     "name": "stderr",
     "output_type": "stream",
     "text": [
      "\r",
      " 73%|███████▎  | 729/1000 [03:01<01:03,  4.30it/s]"
     ]
    },
    {
     "data": {
      "application/vnd.jupyter.widget-view+json": {
       "model_id": "adb426c89aff454cb9a6d9d6edf57eb5",
       "version_major": 2,
       "version_minor": 0
      },
      "text/plain": [
       "  0%|          | 0/1000 [00:00<?, ?it/s]"
      ]
     },
     "metadata": {},
     "output_type": "display_data"
    },
    {
     "name": "stderr",
     "output_type": "stream",
     "text": [
      "\r",
      " 73%|███████▎  | 730/1000 [03:01<01:03,  4.25it/s]"
     ]
    },
    {
     "data": {
      "application/vnd.jupyter.widget-view+json": {
       "model_id": "be70576138534b13845c9aba0a0c2312",
       "version_major": 2,
       "version_minor": 0
      },
      "text/plain": [
       "  0%|          | 0/1000 [00:00<?, ?it/s]"
      ]
     },
     "metadata": {},
     "output_type": "display_data"
    },
    {
     "name": "stderr",
     "output_type": "stream",
     "text": [
      "\r",
      " 73%|███████▎  | 731/1000 [03:01<01:03,  4.22it/s]"
     ]
    },
    {
     "data": {
      "application/vnd.jupyter.widget-view+json": {
       "model_id": "bfd3f51bdcbc41d887e021c539560715",
       "version_major": 2,
       "version_minor": 0
      },
      "text/plain": [
       "  0%|          | 0/1000 [00:00<?, ?it/s]"
      ]
     },
     "metadata": {},
     "output_type": "display_data"
    },
    {
     "name": "stderr",
     "output_type": "stream",
     "text": [
      "\r",
      " 73%|███████▎  | 732/1000 [03:01<01:03,  4.23it/s]"
     ]
    },
    {
     "data": {
      "application/vnd.jupyter.widget-view+json": {
       "model_id": "95ec3f13aa964a4cb1513b733ee8a445",
       "version_major": 2,
       "version_minor": 0
      },
      "text/plain": [
       "  0%|          | 0/1000 [00:00<?, ?it/s]"
      ]
     },
     "metadata": {},
     "output_type": "display_data"
    },
    {
     "name": "stderr",
     "output_type": "stream",
     "text": [
      "\r",
      " 73%|███████▎  | 733/1000 [03:02<01:09,  3.86it/s]"
     ]
    },
    {
     "data": {
      "application/vnd.jupyter.widget-view+json": {
       "model_id": "821ada457473456ba88f664d4dff029f",
       "version_major": 2,
       "version_minor": 0
      },
      "text/plain": [
       "  0%|          | 0/1000 [00:00<?, ?it/s]"
      ]
     },
     "metadata": {},
     "output_type": "display_data"
    },
    {
     "name": "stderr",
     "output_type": "stream",
     "text": [
      "\r",
      " 73%|███████▎  | 734/1000 [03:02<01:06,  3.98it/s]"
     ]
    },
    {
     "data": {
      "application/vnd.jupyter.widget-view+json": {
       "model_id": "76c0c0a4a8264d0989ac0081eb0f657b",
       "version_major": 2,
       "version_minor": 0
      },
      "text/plain": [
       "  0%|          | 0/1000 [00:00<?, ?it/s]"
      ]
     },
     "metadata": {},
     "output_type": "display_data"
    },
    {
     "name": "stderr",
     "output_type": "stream",
     "text": [
      "\r",
      " 74%|███████▎  | 735/1000 [03:02<01:04,  4.10it/s]"
     ]
    },
    {
     "data": {
      "application/vnd.jupyter.widget-view+json": {
       "model_id": "c47bf1b118cc4cdb87792692c6f6be25",
       "version_major": 2,
       "version_minor": 0
      },
      "text/plain": [
       "  0%|          | 0/1000 [00:00<?, ?it/s]"
      ]
     },
     "metadata": {},
     "output_type": "display_data"
    },
    {
     "name": "stderr",
     "output_type": "stream",
     "text": [
      "\r",
      " 74%|███████▎  | 736/1000 [03:02<01:04,  4.11it/s]"
     ]
    },
    {
     "data": {
      "application/vnd.jupyter.widget-view+json": {
       "model_id": "902bc230b5a247359e85d8b5485ff582",
       "version_major": 2,
       "version_minor": 0
      },
      "text/plain": [
       "  0%|          | 0/1000 [00:00<?, ?it/s]"
      ]
     },
     "metadata": {},
     "output_type": "display_data"
    },
    {
     "name": "stderr",
     "output_type": "stream",
     "text": [
      "\r",
      " 74%|███████▎  | 737/1000 [03:03<01:02,  4.22it/s]"
     ]
    },
    {
     "data": {
      "application/vnd.jupyter.widget-view+json": {
       "model_id": "c1ae1b4f125d496dbc6312e62132e178",
       "version_major": 2,
       "version_minor": 0
      },
      "text/plain": [
       "  0%|          | 0/1000 [00:00<?, ?it/s]"
      ]
     },
     "metadata": {},
     "output_type": "display_data"
    },
    {
     "name": "stderr",
     "output_type": "stream",
     "text": [
      "\r",
      " 74%|███████▍  | 738/1000 [03:03<01:04,  4.04it/s]"
     ]
    },
    {
     "data": {
      "application/vnd.jupyter.widget-view+json": {
       "model_id": "2e40b214c7e946478bd32ac8c2115320",
       "version_major": 2,
       "version_minor": 0
      },
      "text/plain": [
       "  0%|          | 0/1000 [00:00<?, ?it/s]"
      ]
     },
     "metadata": {},
     "output_type": "display_data"
    },
    {
     "name": "stderr",
     "output_type": "stream",
     "text": [
      "\r",
      " 74%|███████▍  | 739/1000 [03:03<01:06,  3.93it/s]"
     ]
    },
    {
     "data": {
      "application/vnd.jupyter.widget-view+json": {
       "model_id": "33144b6f5588431c92a32fd6ab7b19bc",
       "version_major": 2,
       "version_minor": 0
      },
      "text/plain": [
       "  0%|          | 0/1000 [00:00<?, ?it/s]"
      ]
     },
     "metadata": {},
     "output_type": "display_data"
    },
    {
     "name": "stderr",
     "output_type": "stream",
     "text": [
      "\r",
      " 74%|███████▍  | 740/1000 [03:03<01:04,  4.06it/s]"
     ]
    },
    {
     "data": {
      "application/vnd.jupyter.widget-view+json": {
       "model_id": "2f874ab2730246adab0f607d832b16f3",
       "version_major": 2,
       "version_minor": 0
      },
      "text/plain": [
       "  0%|          | 0/1000 [00:00<?, ?it/s]"
      ]
     },
     "metadata": {},
     "output_type": "display_data"
    },
    {
     "name": "stderr",
     "output_type": "stream",
     "text": [
      "\r",
      " 74%|███████▍  | 741/1000 [03:04<01:02,  4.16it/s]"
     ]
    },
    {
     "data": {
      "application/vnd.jupyter.widget-view+json": {
       "model_id": "7b438198b03e4352b3f74133a48d36f3",
       "version_major": 2,
       "version_minor": 0
      },
      "text/plain": [
       "  0%|          | 0/1000 [00:00<?, ?it/s]"
      ]
     },
     "metadata": {},
     "output_type": "display_data"
    },
    {
     "name": "stderr",
     "output_type": "stream",
     "text": [
      "\r",
      " 74%|███████▍  | 742/1000 [03:04<00:59,  4.32it/s]"
     ]
    },
    {
     "data": {
      "application/vnd.jupyter.widget-view+json": {
       "model_id": "48ac76bf03d648e89ee76411fc1525e4",
       "version_major": 2,
       "version_minor": 0
      },
      "text/plain": [
       "  0%|          | 0/1000 [00:00<?, ?it/s]"
      ]
     },
     "metadata": {},
     "output_type": "display_data"
    },
    {
     "name": "stderr",
     "output_type": "stream",
     "text": [
      "\r",
      " 74%|███████▍  | 743/1000 [03:04<00:58,  4.37it/s]"
     ]
    },
    {
     "data": {
      "application/vnd.jupyter.widget-view+json": {
       "model_id": "e6121f487d60429d9b59dcfe8f699349",
       "version_major": 2,
       "version_minor": 0
      },
      "text/plain": [
       "  0%|          | 0/1000 [00:00<?, ?it/s]"
      ]
     },
     "metadata": {},
     "output_type": "display_data"
    },
    {
     "name": "stderr",
     "output_type": "stream",
     "text": [
      "\r",
      " 74%|███████▍  | 744/1000 [03:04<00:58,  4.36it/s]"
     ]
    },
    {
     "data": {
      "application/vnd.jupyter.widget-view+json": {
       "model_id": "a73a8c1f6d044f9099a0bb966a065c60",
       "version_major": 2,
       "version_minor": 0
      },
      "text/plain": [
       "  0%|          | 0/1000 [00:00<?, ?it/s]"
      ]
     },
     "metadata": {},
     "output_type": "display_data"
    },
    {
     "name": "stderr",
     "output_type": "stream",
     "text": [
      "\r",
      " 74%|███████▍  | 745/1000 [03:04<00:59,  4.29it/s]"
     ]
    },
    {
     "data": {
      "application/vnd.jupyter.widget-view+json": {
       "model_id": "040e0ee332d2455fa0abfda055982154",
       "version_major": 2,
       "version_minor": 0
      },
      "text/plain": [
       "  0%|          | 0/1000 [00:00<?, ?it/s]"
      ]
     },
     "metadata": {},
     "output_type": "display_data"
    },
    {
     "name": "stderr",
     "output_type": "stream",
     "text": [
      "\r",
      " 75%|███████▍  | 746/1000 [03:05<00:58,  4.36it/s]"
     ]
    },
    {
     "data": {
      "application/vnd.jupyter.widget-view+json": {
       "model_id": "20e54e586fc7497a953d5ca09708a019",
       "version_major": 2,
       "version_minor": 0
      },
      "text/plain": [
       "  0%|          | 0/1000 [00:00<?, ?it/s]"
      ]
     },
     "metadata": {},
     "output_type": "display_data"
    },
    {
     "name": "stderr",
     "output_type": "stream",
     "text": [
      "\r",
      " 75%|███████▍  | 747/1000 [03:05<00:59,  4.23it/s]"
     ]
    },
    {
     "data": {
      "application/vnd.jupyter.widget-view+json": {
       "model_id": "7d472e14435b4a29bee468c78895b5a6",
       "version_major": 2,
       "version_minor": 0
      },
      "text/plain": [
       "  0%|          | 0/1000 [00:00<?, ?it/s]"
      ]
     },
     "metadata": {},
     "output_type": "display_data"
    },
    {
     "name": "stderr",
     "output_type": "stream",
     "text": [
      "\r",
      " 75%|███████▍  | 748/1000 [03:05<00:58,  4.34it/s]"
     ]
    },
    {
     "data": {
      "application/vnd.jupyter.widget-view+json": {
       "model_id": "6b32d2f017a64271a53ce2dbda4f2669",
       "version_major": 2,
       "version_minor": 0
      },
      "text/plain": [
       "  0%|          | 0/1000 [00:00<?, ?it/s]"
      ]
     },
     "metadata": {},
     "output_type": "display_data"
    },
    {
     "name": "stderr",
     "output_type": "stream",
     "text": [
      "\r",
      " 75%|███████▍  | 749/1000 [03:05<00:57,  4.38it/s]"
     ]
    },
    {
     "data": {
      "application/vnd.jupyter.widget-view+json": {
       "model_id": "e904005b5e2848e3bafa7ec273c226f6",
       "version_major": 2,
       "version_minor": 0
      },
      "text/plain": [
       "  0%|          | 0/1000 [00:00<?, ?it/s]"
      ]
     },
     "metadata": {},
     "output_type": "display_data"
    },
    {
     "name": "stderr",
     "output_type": "stream",
     "text": [
      "\r",
      " 75%|███████▌  | 750/1000 [03:06<00:57,  4.31it/s]"
     ]
    },
    {
     "data": {
      "application/vnd.jupyter.widget-view+json": {
       "model_id": "a2096fff9aa34d37a95f035d72281deb",
       "version_major": 2,
       "version_minor": 0
      },
      "text/plain": [
       "  0%|          | 0/1000 [00:00<?, ?it/s]"
      ]
     },
     "metadata": {},
     "output_type": "display_data"
    },
    {
     "name": "stderr",
     "output_type": "stream",
     "text": [
      "\r",
      " 75%|███████▌  | 751/1000 [03:06<01:01,  4.08it/s]"
     ]
    },
    {
     "data": {
      "application/vnd.jupyter.widget-view+json": {
       "model_id": "61fa0c5a176b4f91b343580c92c5e03a",
       "version_major": 2,
       "version_minor": 0
      },
      "text/plain": [
       "  0%|          | 0/1000 [00:00<?, ?it/s]"
      ]
     },
     "metadata": {},
     "output_type": "display_data"
    },
    {
     "name": "stderr",
     "output_type": "stream",
     "text": [
      "\r",
      " 75%|███████▌  | 752/1000 [03:06<01:05,  3.80it/s]"
     ]
    },
    {
     "data": {
      "application/vnd.jupyter.widget-view+json": {
       "model_id": "ea0ac84a5d81442f994ecd7452ddc932",
       "version_major": 2,
       "version_minor": 0
      },
      "text/plain": [
       "  0%|          | 0/1000 [00:00<?, ?it/s]"
      ]
     },
     "metadata": {},
     "output_type": "display_data"
    },
    {
     "name": "stderr",
     "output_type": "stream",
     "text": [
      "\r",
      " 75%|███████▌  | 753/1000 [03:06<01:07,  3.68it/s]"
     ]
    },
    {
     "data": {
      "application/vnd.jupyter.widget-view+json": {
       "model_id": "650845d0f97c430c88af072c5304bfa1",
       "version_major": 2,
       "version_minor": 0
      },
      "text/plain": [
       "  0%|          | 0/1000 [00:00<?, ?it/s]"
      ]
     },
     "metadata": {},
     "output_type": "display_data"
    },
    {
     "name": "stderr",
     "output_type": "stream",
     "text": [
      "\r",
      " 75%|███████▌  | 754/1000 [03:07<01:07,  3.63it/s]"
     ]
    },
    {
     "data": {
      "application/vnd.jupyter.widget-view+json": {
       "model_id": "cf561e9ff34946e291ab5324800b2c1c",
       "version_major": 2,
       "version_minor": 0
      },
      "text/plain": [
       "  0%|          | 0/1000 [00:00<?, ?it/s]"
      ]
     },
     "metadata": {},
     "output_type": "display_data"
    },
    {
     "name": "stderr",
     "output_type": "stream",
     "text": [
      "\r",
      " 76%|███████▌  | 755/1000 [03:07<01:06,  3.69it/s]"
     ]
    },
    {
     "data": {
      "application/vnd.jupyter.widget-view+json": {
       "model_id": "23313ff424b14607b5a636b5ce82e044",
       "version_major": 2,
       "version_minor": 0
      },
      "text/plain": [
       "  0%|          | 0/1000 [00:00<?, ?it/s]"
      ]
     },
     "metadata": {},
     "output_type": "display_data"
    },
    {
     "name": "stderr",
     "output_type": "stream",
     "text": [
      "\r",
      " 76%|███████▌  | 756/1000 [03:07<01:03,  3.82it/s]"
     ]
    },
    {
     "data": {
      "application/vnd.jupyter.widget-view+json": {
       "model_id": "4ae2be5b33474941b7f15e331481c06a",
       "version_major": 2,
       "version_minor": 0
      },
      "text/plain": [
       "  0%|          | 0/1000 [00:00<?, ?it/s]"
      ]
     },
     "metadata": {},
     "output_type": "display_data"
    },
    {
     "name": "stderr",
     "output_type": "stream",
     "text": [
      "\r",
      " 76%|███████▌  | 757/1000 [03:07<01:03,  3.81it/s]"
     ]
    },
    {
     "data": {
      "application/vnd.jupyter.widget-view+json": {
       "model_id": "d8f60c394ac14c55a4e0130a77862bda",
       "version_major": 2,
       "version_minor": 0
      },
      "text/plain": [
       "  0%|          | 0/1000 [00:00<?, ?it/s]"
      ]
     },
     "metadata": {},
     "output_type": "display_data"
    },
    {
     "name": "stderr",
     "output_type": "stream",
     "text": [
      "\r",
      " 76%|███████▌  | 758/1000 [03:08<01:04,  3.78it/s]"
     ]
    },
    {
     "data": {
      "application/vnd.jupyter.widget-view+json": {
       "model_id": "917d059c9a3f4e0896cc267fbb68c8a3",
       "version_major": 2,
       "version_minor": 0
      },
      "text/plain": [
       "  0%|          | 0/1000 [00:00<?, ?it/s]"
      ]
     },
     "metadata": {},
     "output_type": "display_data"
    },
    {
     "name": "stderr",
     "output_type": "stream",
     "text": [
      "\r",
      " 76%|███████▌  | 759/1000 [03:08<01:00,  3.97it/s]"
     ]
    },
    {
     "data": {
      "application/vnd.jupyter.widget-view+json": {
       "model_id": "bd6220896bb54492b81aef9c97353f9b",
       "version_major": 2,
       "version_minor": 0
      },
      "text/plain": [
       "  0%|          | 0/1000 [00:00<?, ?it/s]"
      ]
     },
     "metadata": {},
     "output_type": "display_data"
    },
    {
     "name": "stderr",
     "output_type": "stream",
     "text": [
      "\r",
      " 76%|███████▌  | 760/1000 [03:08<01:00,  3.97it/s]"
     ]
    },
    {
     "data": {
      "application/vnd.jupyter.widget-view+json": {
       "model_id": "985466bc339742efa979d2a47fe037bb",
       "version_major": 2,
       "version_minor": 0
      },
      "text/plain": [
       "  0%|          | 0/1000 [00:00<?, ?it/s]"
      ]
     },
     "metadata": {},
     "output_type": "display_data"
    },
    {
     "name": "stderr",
     "output_type": "stream",
     "text": [
      "\r",
      " 76%|███████▌  | 761/1000 [03:08<00:59,  4.04it/s]"
     ]
    },
    {
     "data": {
      "application/vnd.jupyter.widget-view+json": {
       "model_id": "93549d1064dc40cdae2338d0a71adfd6",
       "version_major": 2,
       "version_minor": 0
      },
      "text/plain": [
       "  0%|          | 0/1000 [00:00<?, ?it/s]"
      ]
     },
     "metadata": {},
     "output_type": "display_data"
    },
    {
     "name": "stderr",
     "output_type": "stream",
     "text": [
      "\r",
      " 76%|███████▌  | 762/1000 [03:09<00:59,  4.03it/s]"
     ]
    },
    {
     "data": {
      "application/vnd.jupyter.widget-view+json": {
       "model_id": "c63e43a7500f42339e05d33a6463e23b",
       "version_major": 2,
       "version_minor": 0
      },
      "text/plain": [
       "  0%|          | 0/1000 [00:00<?, ?it/s]"
      ]
     },
     "metadata": {},
     "output_type": "display_data"
    },
    {
     "name": "stderr",
     "output_type": "stream",
     "text": [
      "\r",
      " 76%|███████▋  | 763/1000 [03:09<01:01,  3.84it/s]"
     ]
    },
    {
     "data": {
      "application/vnd.jupyter.widget-view+json": {
       "model_id": "86e68ea9594b49c8b809ec19122a49a1",
       "version_major": 2,
       "version_minor": 0
      },
      "text/plain": [
       "  0%|          | 0/1000 [00:00<?, ?it/s]"
      ]
     },
     "metadata": {},
     "output_type": "display_data"
    },
    {
     "name": "stderr",
     "output_type": "stream",
     "text": [
      "\r",
      " 76%|███████▋  | 764/1000 [03:09<01:00,  3.93it/s]"
     ]
    },
    {
     "data": {
      "application/vnd.jupyter.widget-view+json": {
       "model_id": "56f7bc4404b24fd687fc29ec0481618a",
       "version_major": 2,
       "version_minor": 0
      },
      "text/plain": [
       "  0%|          | 0/1000 [00:00<?, ?it/s]"
      ]
     },
     "metadata": {},
     "output_type": "display_data"
    },
    {
     "name": "stderr",
     "output_type": "stream",
     "text": [
      "\r",
      " 76%|███████▋  | 765/1000 [03:09<00:57,  4.11it/s]"
     ]
    },
    {
     "data": {
      "application/vnd.jupyter.widget-view+json": {
       "model_id": "19af047d63f4479abe5648ccb1b6a1a7",
       "version_major": 2,
       "version_minor": 0
      },
      "text/plain": [
       "  0%|          | 0/1000 [00:00<?, ?it/s]"
      ]
     },
     "metadata": {},
     "output_type": "display_data"
    },
    {
     "name": "stderr",
     "output_type": "stream",
     "text": [
      "\r",
      " 77%|███████▋  | 766/1000 [03:10<00:58,  3.99it/s]"
     ]
    },
    {
     "data": {
      "application/vnd.jupyter.widget-view+json": {
       "model_id": "a810ddbcae814aa588b8aeb4f5e70327",
       "version_major": 2,
       "version_minor": 0
      },
      "text/plain": [
       "  0%|          | 0/1000 [00:00<?, ?it/s]"
      ]
     },
     "metadata": {},
     "output_type": "display_data"
    },
    {
     "name": "stderr",
     "output_type": "stream",
     "text": [
      "\r",
      " 77%|███████▋  | 767/1000 [03:10<00:56,  4.10it/s]"
     ]
    },
    {
     "data": {
      "application/vnd.jupyter.widget-view+json": {
       "model_id": "9e17d0242e404c59be268c0d36733f1f",
       "version_major": 2,
       "version_minor": 0
      },
      "text/plain": [
       "  0%|          | 0/1000 [00:00<?, ?it/s]"
      ]
     },
     "metadata": {},
     "output_type": "display_data"
    },
    {
     "name": "stderr",
     "output_type": "stream",
     "text": [
      "\r",
      " 77%|███████▋  | 768/1000 [03:10<00:56,  4.08it/s]"
     ]
    },
    {
     "data": {
      "application/vnd.jupyter.widget-view+json": {
       "model_id": "698853db9b954233a5551d7481d8521a",
       "version_major": 2,
       "version_minor": 0
      },
      "text/plain": [
       "  0%|          | 0/1000 [00:00<?, ?it/s]"
      ]
     },
     "metadata": {},
     "output_type": "display_data"
    },
    {
     "name": "stderr",
     "output_type": "stream",
     "text": [
      "\r",
      " 77%|███████▋  | 769/1000 [03:11<01:12,  3.20it/s]"
     ]
    },
    {
     "data": {
      "application/vnd.jupyter.widget-view+json": {
       "model_id": "6bf0be9baa884784a7bc172c4ecda4f6",
       "version_major": 2,
       "version_minor": 0
      },
      "text/plain": [
       "  0%|          | 0/1000 [00:00<?, ?it/s]"
      ]
     },
     "metadata": {},
     "output_type": "display_data"
    },
    {
     "name": "stderr",
     "output_type": "stream",
     "text": [
      "\r",
      " 77%|███████▋  | 770/1000 [03:11<01:10,  3.26it/s]"
     ]
    },
    {
     "data": {
      "application/vnd.jupyter.widget-view+json": {
       "model_id": "08341de2f22b433f9cc53de0c5434d07",
       "version_major": 2,
       "version_minor": 0
      },
      "text/plain": [
       "  0%|          | 0/1000 [00:00<?, ?it/s]"
      ]
     },
     "metadata": {},
     "output_type": "display_data"
    },
    {
     "name": "stderr",
     "output_type": "stream",
     "text": [
      "\r",
      " 77%|███████▋  | 771/1000 [03:11<01:06,  3.45it/s]"
     ]
    },
    {
     "data": {
      "application/vnd.jupyter.widget-view+json": {
       "model_id": "5395e9d8ebcb4e3ca638713f6712218b",
       "version_major": 2,
       "version_minor": 0
      },
      "text/plain": [
       "  0%|          | 0/1000 [00:00<?, ?it/s]"
      ]
     },
     "metadata": {},
     "output_type": "display_data"
    },
    {
     "name": "stderr",
     "output_type": "stream",
     "text": [
      "\r",
      " 77%|███████▋  | 772/1000 [03:11<01:01,  3.71it/s]"
     ]
    },
    {
     "data": {
      "application/vnd.jupyter.widget-view+json": {
       "model_id": "8c7c31d43bc8486a8965049c41a9ab04",
       "version_major": 2,
       "version_minor": 0
      },
      "text/plain": [
       "  0%|          | 0/1000 [00:00<?, ?it/s]"
      ]
     },
     "metadata": {},
     "output_type": "display_data"
    },
    {
     "name": "stderr",
     "output_type": "stream",
     "text": [
      "\r",
      " 77%|███████▋  | 773/1000 [03:12<00:59,  3.79it/s]"
     ]
    },
    {
     "data": {
      "application/vnd.jupyter.widget-view+json": {
       "model_id": "3aa44df09dcc4e94afd55e89d9e5b369",
       "version_major": 2,
       "version_minor": 0
      },
      "text/plain": [
       "  0%|          | 0/1000 [00:00<?, ?it/s]"
      ]
     },
     "metadata": {},
     "output_type": "display_data"
    },
    {
     "name": "stderr",
     "output_type": "stream",
     "text": [
      "\r",
      " 77%|███████▋  | 774/1000 [03:12<00:58,  3.85it/s]"
     ]
    },
    {
     "data": {
      "application/vnd.jupyter.widget-view+json": {
       "model_id": "98ffa0ccf47b4c258398ec3cc4b7b904",
       "version_major": 2,
       "version_minor": 0
      },
      "text/plain": [
       "  0%|          | 0/1000 [00:00<?, ?it/s]"
      ]
     },
     "metadata": {},
     "output_type": "display_data"
    },
    {
     "name": "stderr",
     "output_type": "stream",
     "text": [
      "\r",
      " 78%|███████▊  | 775/1000 [03:12<01:01,  3.65it/s]"
     ]
    },
    {
     "data": {
      "application/vnd.jupyter.widget-view+json": {
       "model_id": "4a5392477d014c93bed0021340b0658a",
       "version_major": 2,
       "version_minor": 0
      },
      "text/plain": [
       "  0%|          | 0/1000 [00:00<?, ?it/s]"
      ]
     },
     "metadata": {},
     "output_type": "display_data"
    },
    {
     "name": "stderr",
     "output_type": "stream",
     "text": [
      "\r",
      " 78%|███████▊  | 776/1000 [03:13<01:03,  3.50it/s]"
     ]
    },
    {
     "data": {
      "application/vnd.jupyter.widget-view+json": {
       "model_id": "1a9acec474954fd3be4a0c31742b6bf5",
       "version_major": 2,
       "version_minor": 0
      },
      "text/plain": [
       "  0%|          | 0/1000 [00:00<?, ?it/s]"
      ]
     },
     "metadata": {},
     "output_type": "display_data"
    },
    {
     "name": "stderr",
     "output_type": "stream",
     "text": [
      "\r",
      " 78%|███████▊  | 777/1000 [03:13<00:59,  3.72it/s]"
     ]
    },
    {
     "data": {
      "application/vnd.jupyter.widget-view+json": {
       "model_id": "1ebe5ac2dfc34d9094096447eb953d1e",
       "version_major": 2,
       "version_minor": 0
      },
      "text/plain": [
       "  0%|          | 0/1000 [00:00<?, ?it/s]"
      ]
     },
     "metadata": {},
     "output_type": "display_data"
    },
    {
     "name": "stderr",
     "output_type": "stream",
     "text": [
      "\r",
      " 78%|███████▊  | 778/1000 [03:13<00:58,  3.80it/s]"
     ]
    },
    {
     "data": {
      "application/vnd.jupyter.widget-view+json": {
       "model_id": "194897da73e049ceab0876a54d83ede3",
       "version_major": 2,
       "version_minor": 0
      },
      "text/plain": [
       "  0%|          | 0/1000 [00:00<?, ?it/s]"
      ]
     },
     "metadata": {},
     "output_type": "display_data"
    },
    {
     "name": "stderr",
     "output_type": "stream",
     "text": [
      "\r",
      " 78%|███████▊  | 779/1000 [03:13<00:55,  3.96it/s]"
     ]
    },
    {
     "data": {
      "application/vnd.jupyter.widget-view+json": {
       "model_id": "e8cc644d803a49f8845d29f00d394c03",
       "version_major": 2,
       "version_minor": 0
      },
      "text/plain": [
       "  0%|          | 0/1000 [00:00<?, ?it/s]"
      ]
     },
     "metadata": {},
     "output_type": "display_data"
    },
    {
     "name": "stderr",
     "output_type": "stream",
     "text": [
      "\r",
      " 78%|███████▊  | 780/1000 [03:14<00:57,  3.80it/s]"
     ]
    },
    {
     "data": {
      "application/vnd.jupyter.widget-view+json": {
       "model_id": "10b91f5f6c114d108da6f19981f9862e",
       "version_major": 2,
       "version_minor": 0
      },
      "text/plain": [
       "  0%|          | 0/1000 [00:00<?, ?it/s]"
      ]
     },
     "metadata": {},
     "output_type": "display_data"
    },
    {
     "name": "stderr",
     "output_type": "stream",
     "text": [
      "\r",
      " 78%|███████▊  | 781/1000 [03:14<01:00,  3.64it/s]"
     ]
    },
    {
     "data": {
      "application/vnd.jupyter.widget-view+json": {
       "model_id": "26f5e9e08b5840e19485dda86de85f70",
       "version_major": 2,
       "version_minor": 0
      },
      "text/plain": [
       "  0%|          | 0/1000 [00:00<?, ?it/s]"
      ]
     },
     "metadata": {},
     "output_type": "display_data"
    },
    {
     "name": "stderr",
     "output_type": "stream",
     "text": [
      "\r",
      " 78%|███████▊  | 782/1000 [03:14<01:04,  3.40it/s]"
     ]
    },
    {
     "data": {
      "application/vnd.jupyter.widget-view+json": {
       "model_id": "62ed95b05476474bb91564e0aa2f26f9",
       "version_major": 2,
       "version_minor": 0
      },
      "text/plain": [
       "  0%|          | 0/1000 [00:00<?, ?it/s]"
      ]
     },
     "metadata": {},
     "output_type": "display_data"
    },
    {
     "name": "stderr",
     "output_type": "stream",
     "text": [
      "\r",
      " 78%|███████▊  | 783/1000 [03:15<01:05,  3.33it/s]"
     ]
    },
    {
     "data": {
      "application/vnd.jupyter.widget-view+json": {
       "model_id": "efe07c57aacc4099b022e779c4ddc829",
       "version_major": 2,
       "version_minor": 0
      },
      "text/plain": [
       "  0%|          | 0/1000 [00:00<?, ?it/s]"
      ]
     },
     "metadata": {},
     "output_type": "display_data"
    },
    {
     "name": "stderr",
     "output_type": "stream",
     "text": [
      "\r",
      " 78%|███████▊  | 784/1000 [03:15<01:00,  3.56it/s]"
     ]
    },
    {
     "data": {
      "application/vnd.jupyter.widget-view+json": {
       "model_id": "f21c02399da744f7a1c888da85276233",
       "version_major": 2,
       "version_minor": 0
      },
      "text/plain": [
       "  0%|          | 0/1000 [00:00<?, ?it/s]"
      ]
     },
     "metadata": {},
     "output_type": "display_data"
    },
    {
     "name": "stderr",
     "output_type": "stream",
     "text": [
      "\r",
      " 78%|███████▊  | 785/1000 [03:15<00:57,  3.73it/s]"
     ]
    },
    {
     "data": {
      "application/vnd.jupyter.widget-view+json": {
       "model_id": "04f28acd8371463383e97552f0a37a2d",
       "version_major": 2,
       "version_minor": 0
      },
      "text/plain": [
       "  0%|          | 0/1000 [00:00<?, ?it/s]"
      ]
     },
     "metadata": {},
     "output_type": "display_data"
    },
    {
     "name": "stderr",
     "output_type": "stream",
     "text": [
      "\r",
      " 79%|███████▊  | 786/1000 [03:15<00:54,  3.95it/s]"
     ]
    },
    {
     "data": {
      "application/vnd.jupyter.widget-view+json": {
       "model_id": "75d35590333c4ed4840ffb669ccaa4c3",
       "version_major": 2,
       "version_minor": 0
      },
      "text/plain": [
       "  0%|          | 0/1000 [00:00<?, ?it/s]"
      ]
     },
     "metadata": {},
     "output_type": "display_data"
    },
    {
     "name": "stderr",
     "output_type": "stream",
     "text": [
      "\r",
      " 79%|███████▊  | 787/1000 [03:15<00:51,  4.17it/s]"
     ]
    },
    {
     "data": {
      "application/vnd.jupyter.widget-view+json": {
       "model_id": "a1cd526c8deb4070bf81db32bbd8be5f",
       "version_major": 2,
       "version_minor": 0
      },
      "text/plain": [
       "  0%|          | 0/1000 [00:00<?, ?it/s]"
      ]
     },
     "metadata": {},
     "output_type": "display_data"
    },
    {
     "name": "stderr",
     "output_type": "stream",
     "text": [
      "\r",
      " 79%|███████▉  | 788/1000 [03:16<00:49,  4.30it/s]"
     ]
    },
    {
     "data": {
      "application/vnd.jupyter.widget-view+json": {
       "model_id": "91676236520d4cc9b0fb20d1189ac5b3",
       "version_major": 2,
       "version_minor": 0
      },
      "text/plain": [
       "  0%|          | 0/1000 [00:00<?, ?it/s]"
      ]
     },
     "metadata": {},
     "output_type": "display_data"
    },
    {
     "name": "stderr",
     "output_type": "stream",
     "text": [
      "\r",
      " 79%|███████▉  | 789/1000 [03:16<00:48,  4.39it/s]"
     ]
    },
    {
     "data": {
      "application/vnd.jupyter.widget-view+json": {
       "model_id": "6e2b467fd8eb4ca0a4c640c16e4b13f3",
       "version_major": 2,
       "version_minor": 0
      },
      "text/plain": [
       "  0%|          | 0/1000 [00:00<?, ?it/s]"
      ]
     },
     "metadata": {},
     "output_type": "display_data"
    },
    {
     "name": "stderr",
     "output_type": "stream",
     "text": [
      "\r",
      " 79%|███████▉  | 790/1000 [03:16<00:47,  4.42it/s]"
     ]
    },
    {
     "data": {
      "application/vnd.jupyter.widget-view+json": {
       "model_id": "d87384ed8999406b948f4d0fd3c85940",
       "version_major": 2,
       "version_minor": 0
      },
      "text/plain": [
       "  0%|          | 0/1000 [00:00<?, ?it/s]"
      ]
     },
     "metadata": {},
     "output_type": "display_data"
    },
    {
     "name": "stderr",
     "output_type": "stream",
     "text": [
      "\r",
      " 79%|███████▉  | 791/1000 [03:16<00:48,  4.33it/s]"
     ]
    },
    {
     "data": {
      "application/vnd.jupyter.widget-view+json": {
       "model_id": "6e59466d5224485db49425052b511490",
       "version_major": 2,
       "version_minor": 0
      },
      "text/plain": [
       "  0%|          | 0/1000 [00:00<?, ?it/s]"
      ]
     },
     "metadata": {},
     "output_type": "display_data"
    },
    {
     "name": "stderr",
     "output_type": "stream",
     "text": [
      "\r",
      " 79%|███████▉  | 792/1000 [03:17<00:47,  4.37it/s]"
     ]
    },
    {
     "data": {
      "application/vnd.jupyter.widget-view+json": {
       "model_id": "2c6366d4ad7d4d148f687ebbf412be1b",
       "version_major": 2,
       "version_minor": 0
      },
      "text/plain": [
       "  0%|          | 0/1000 [00:00<?, ?it/s]"
      ]
     },
     "metadata": {},
     "output_type": "display_data"
    },
    {
     "name": "stderr",
     "output_type": "stream",
     "text": [
      "\r",
      " 79%|███████▉  | 793/1000 [03:17<00:48,  4.25it/s]"
     ]
    },
    {
     "data": {
      "application/vnd.jupyter.widget-view+json": {
       "model_id": "6e2fd4c02e004993b0ee41e86e550f84",
       "version_major": 2,
       "version_minor": 0
      },
      "text/plain": [
       "  0%|          | 0/1000 [00:00<?, ?it/s]"
      ]
     },
     "metadata": {},
     "output_type": "display_data"
    },
    {
     "name": "stderr",
     "output_type": "stream",
     "text": [
      "\r",
      " 79%|███████▉  | 794/1000 [03:17<00:49,  4.18it/s]"
     ]
    },
    {
     "data": {
      "application/vnd.jupyter.widget-view+json": {
       "model_id": "d8eaa44dd0814a7cb97c4e0a4ffe8009",
       "version_major": 2,
       "version_minor": 0
      },
      "text/plain": [
       "  0%|          | 0/1000 [00:00<?, ?it/s]"
      ]
     },
     "metadata": {},
     "output_type": "display_data"
    },
    {
     "name": "stderr",
     "output_type": "stream",
     "text": [
      "\r",
      " 80%|███████▉  | 795/1000 [03:17<00:49,  4.15it/s]"
     ]
    },
    {
     "data": {
      "application/vnd.jupyter.widget-view+json": {
       "model_id": "90480c8d4de64ec5927f28f69025420b",
       "version_major": 2,
       "version_minor": 0
      },
      "text/plain": [
       "  0%|          | 0/1000 [00:00<?, ?it/s]"
      ]
     },
     "metadata": {},
     "output_type": "display_data"
    },
    {
     "name": "stderr",
     "output_type": "stream",
     "text": [
      "\r",
      " 80%|███████▉  | 796/1000 [03:18<00:55,  3.69it/s]"
     ]
    },
    {
     "data": {
      "application/vnd.jupyter.widget-view+json": {
       "model_id": "483ceb314fb04506b8385e1794851404",
       "version_major": 2,
       "version_minor": 0
      },
      "text/plain": [
       "  0%|          | 0/1000 [00:00<?, ?it/s]"
      ]
     },
     "metadata": {},
     "output_type": "display_data"
    },
    {
     "name": "stderr",
     "output_type": "stream",
     "text": [
      "\r",
      " 80%|███████▉  | 797/1000 [03:18<00:54,  3.70it/s]"
     ]
    },
    {
     "data": {
      "application/vnd.jupyter.widget-view+json": {
       "model_id": "abe15a506ce2480f8160d782de082876",
       "version_major": 2,
       "version_minor": 0
      },
      "text/plain": [
       "  0%|          | 0/1000 [00:00<?, ?it/s]"
      ]
     },
     "metadata": {},
     "output_type": "display_data"
    },
    {
     "name": "stderr",
     "output_type": "stream",
     "text": [
      "\r",
      " 80%|███████▉  | 798/1000 [03:18<00:52,  3.81it/s]"
     ]
    },
    {
     "data": {
      "application/vnd.jupyter.widget-view+json": {
       "model_id": "0f22d3b8ae2b4af9a33a37020a67428e",
       "version_major": 2,
       "version_minor": 0
      },
      "text/plain": [
       "  0%|          | 0/1000 [00:00<?, ?it/s]"
      ]
     },
     "metadata": {},
     "output_type": "display_data"
    },
    {
     "name": "stderr",
     "output_type": "stream",
     "text": [
      "\r",
      " 80%|███████▉  | 799/1000 [03:19<01:01,  3.27it/s]"
     ]
    },
    {
     "data": {
      "application/vnd.jupyter.widget-view+json": {
       "model_id": "6dc370b0508747278b073dfc1734128c",
       "version_major": 2,
       "version_minor": 0
      },
      "text/plain": [
       "  0%|          | 0/1000 [00:00<?, ?it/s]"
      ]
     },
     "metadata": {},
     "output_type": "display_data"
    },
    {
     "name": "stderr",
     "output_type": "stream",
     "text": [
      "\r",
      " 80%|████████  | 800/1000 [03:19<00:57,  3.49it/s]"
     ]
    },
    {
     "data": {
      "application/vnd.jupyter.widget-view+json": {
       "model_id": "ffe59916322f4880b62099d81a214965",
       "version_major": 2,
       "version_minor": 0
      },
      "text/plain": [
       "  0%|          | 0/1000 [00:00<?, ?it/s]"
      ]
     },
     "metadata": {},
     "output_type": "display_data"
    },
    {
     "name": "stderr",
     "output_type": "stream",
     "text": [
      "\r",
      " 80%|████████  | 801/1000 [03:19<00:53,  3.70it/s]"
     ]
    },
    {
     "data": {
      "application/vnd.jupyter.widget-view+json": {
       "model_id": "ec4c7ade13dc4e0e88d2f984950984c3",
       "version_major": 2,
       "version_minor": 0
      },
      "text/plain": [
       "  0%|          | 0/1000 [00:00<?, ?it/s]"
      ]
     },
     "metadata": {},
     "output_type": "display_data"
    },
    {
     "name": "stderr",
     "output_type": "stream",
     "text": [
      "\r",
      " 80%|████████  | 802/1000 [03:19<00:50,  3.89it/s]"
     ]
    },
    {
     "data": {
      "application/vnd.jupyter.widget-view+json": {
       "model_id": "55d5a49a6aba42a3b7831aa1e8cb1b6f",
       "version_major": 2,
       "version_minor": 0
      },
      "text/plain": [
       "  0%|          | 0/1000 [00:00<?, ?it/s]"
      ]
     },
     "metadata": {},
     "output_type": "display_data"
    },
    {
     "name": "stderr",
     "output_type": "stream",
     "text": [
      "\r",
      " 80%|████████  | 803/1000 [03:19<00:48,  4.08it/s]"
     ]
    },
    {
     "data": {
      "application/vnd.jupyter.widget-view+json": {
       "model_id": "cd3263c265e047f1970a37eacef699e5",
       "version_major": 2,
       "version_minor": 0
      },
      "text/plain": [
       "  0%|          | 0/1000 [00:00<?, ?it/s]"
      ]
     },
     "metadata": {},
     "output_type": "display_data"
    },
    {
     "name": "stderr",
     "output_type": "stream",
     "text": [
      "\r",
      " 80%|████████  | 804/1000 [03:20<00:46,  4.22it/s]"
     ]
    },
    {
     "data": {
      "application/vnd.jupyter.widget-view+json": {
       "model_id": "074b230adc30432b817f0137ce1cfdf5",
       "version_major": 2,
       "version_minor": 0
      },
      "text/plain": [
       "  0%|          | 0/1000 [00:00<?, ?it/s]"
      ]
     },
     "metadata": {},
     "output_type": "display_data"
    },
    {
     "name": "stderr",
     "output_type": "stream",
     "text": [
      "\r",
      " 80%|████████  | 805/1000 [03:20<00:45,  4.29it/s]"
     ]
    },
    {
     "data": {
      "application/vnd.jupyter.widget-view+json": {
       "model_id": "81ff27fafeea4e7d97eb8f4d4655d8da",
       "version_major": 2,
       "version_minor": 0
      },
      "text/plain": [
       "  0%|          | 0/1000 [00:00<?, ?it/s]"
      ]
     },
     "metadata": {},
     "output_type": "display_data"
    },
    {
     "name": "stderr",
     "output_type": "stream",
     "text": [
      "\r",
      " 81%|████████  | 806/1000 [03:20<00:45,  4.31it/s]"
     ]
    },
    {
     "data": {
      "application/vnd.jupyter.widget-view+json": {
       "model_id": "ece738e44c1941409cca3f892ea38c10",
       "version_major": 2,
       "version_minor": 0
      },
      "text/plain": [
       "  0%|          | 0/1000 [00:00<?, ?it/s]"
      ]
     },
     "metadata": {},
     "output_type": "display_data"
    },
    {
     "name": "stderr",
     "output_type": "stream",
     "text": [
      "\r",
      " 81%|████████  | 807/1000 [03:20<00:46,  4.12it/s]"
     ]
    },
    {
     "data": {
      "application/vnd.jupyter.widget-view+json": {
       "model_id": "1197247cfaa8419d854ea992034eb247",
       "version_major": 2,
       "version_minor": 0
      },
      "text/plain": [
       "  0%|          | 0/1000 [00:00<?, ?it/s]"
      ]
     },
     "metadata": {},
     "output_type": "display_data"
    },
    {
     "name": "stderr",
     "output_type": "stream",
     "text": [
      "\r",
      " 81%|████████  | 808/1000 [03:21<00:46,  4.17it/s]"
     ]
    },
    {
     "data": {
      "application/vnd.jupyter.widget-view+json": {
       "model_id": "7e267b32b98946d89b2a6d5a714f57e0",
       "version_major": 2,
       "version_minor": 0
      },
      "text/plain": [
       "  0%|          | 0/1000 [00:00<?, ?it/s]"
      ]
     },
     "metadata": {},
     "output_type": "display_data"
    },
    {
     "name": "stderr",
     "output_type": "stream",
     "text": [
      "\r",
      " 81%|████████  | 809/1000 [03:21<00:44,  4.28it/s]"
     ]
    },
    {
     "data": {
      "application/vnd.jupyter.widget-view+json": {
       "model_id": "6fd250b5bd264690a93698a382f88cb7",
       "version_major": 2,
       "version_minor": 0
      },
      "text/plain": [
       "  0%|          | 0/1000 [00:00<?, ?it/s]"
      ]
     },
     "metadata": {},
     "output_type": "display_data"
    },
    {
     "name": "stderr",
     "output_type": "stream",
     "text": [
      "\r",
      " 81%|████████  | 810/1000 [03:21<00:44,  4.27it/s]"
     ]
    },
    {
     "data": {
      "application/vnd.jupyter.widget-view+json": {
       "model_id": "eabe00c52b484891aa6ee8ce658e7dba",
       "version_major": 2,
       "version_minor": 0
      },
      "text/plain": [
       "  0%|          | 0/1000 [00:00<?, ?it/s]"
      ]
     },
     "metadata": {},
     "output_type": "display_data"
    },
    {
     "name": "stderr",
     "output_type": "stream",
     "text": [
      "\r",
      " 81%|████████  | 811/1000 [03:21<00:43,  4.31it/s]"
     ]
    },
    {
     "data": {
      "application/vnd.jupyter.widget-view+json": {
       "model_id": "04a97f360a554a22a582b0b526f3facd",
       "version_major": 2,
       "version_minor": 0
      },
      "text/plain": [
       "  0%|          | 0/1000 [00:00<?, ?it/s]"
      ]
     },
     "metadata": {},
     "output_type": "display_data"
    },
    {
     "name": "stderr",
     "output_type": "stream",
     "text": [
      "\r",
      " 81%|████████  | 812/1000 [03:22<00:43,  4.35it/s]"
     ]
    },
    {
     "data": {
      "application/vnd.jupyter.widget-view+json": {
       "model_id": "adf4f628134b48fd8f7271acb9862c1c",
       "version_major": 2,
       "version_minor": 0
      },
      "text/plain": [
       "  0%|          | 0/1000 [00:00<?, ?it/s]"
      ]
     },
     "metadata": {},
     "output_type": "display_data"
    },
    {
     "name": "stderr",
     "output_type": "stream",
     "text": [
      "\r",
      " 81%|████████▏ | 813/1000 [03:22<00:48,  3.85it/s]"
     ]
    },
    {
     "data": {
      "application/vnd.jupyter.widget-view+json": {
       "model_id": "ca54f576a0e14e5b9ced01e203e5e06a",
       "version_major": 2,
       "version_minor": 0
      },
      "text/plain": [
       "  0%|          | 0/1000 [00:00<?, ?it/s]"
      ]
     },
     "metadata": {},
     "output_type": "display_data"
    },
    {
     "name": "stderr",
     "output_type": "stream",
     "text": [
      "\r",
      " 81%|████████▏ | 814/1000 [03:22<00:46,  3.98it/s]"
     ]
    },
    {
     "data": {
      "application/vnd.jupyter.widget-view+json": {
       "model_id": "19d57bda00f741a0a48489e31bb1dbb6",
       "version_major": 2,
       "version_minor": 0
      },
      "text/plain": [
       "  0%|          | 0/1000 [00:00<?, ?it/s]"
      ]
     },
     "metadata": {},
     "output_type": "display_data"
    },
    {
     "name": "stderr",
     "output_type": "stream",
     "text": [
      "\r",
      " 82%|████████▏ | 815/1000 [03:22<00:46,  3.99it/s]"
     ]
    },
    {
     "data": {
      "application/vnd.jupyter.widget-view+json": {
       "model_id": "913937ad6e18496288adf92d731668fc",
       "version_major": 2,
       "version_minor": 0
      },
      "text/plain": [
       "  0%|          | 0/1000 [00:00<?, ?it/s]"
      ]
     },
     "metadata": {},
     "output_type": "display_data"
    },
    {
     "name": "stderr",
     "output_type": "stream",
     "text": [
      "\r",
      " 82%|████████▏ | 816/1000 [03:23<00:45,  4.06it/s]"
     ]
    },
    {
     "data": {
      "application/vnd.jupyter.widget-view+json": {
       "model_id": "77d1d8b7e2814321bd8a166c6ec52c55",
       "version_major": 2,
       "version_minor": 0
      },
      "text/plain": [
       "  0%|          | 0/1000 [00:00<?, ?it/s]"
      ]
     },
     "metadata": {},
     "output_type": "display_data"
    },
    {
     "name": "stderr",
     "output_type": "stream",
     "text": [
      "\r",
      " 82%|████████▏ | 817/1000 [03:23<00:43,  4.24it/s]"
     ]
    },
    {
     "data": {
      "application/vnd.jupyter.widget-view+json": {
       "model_id": "4e658684b0c04761a2d7b0360d03f830",
       "version_major": 2,
       "version_minor": 0
      },
      "text/plain": [
       "  0%|          | 0/1000 [00:00<?, ?it/s]"
      ]
     },
     "metadata": {},
     "output_type": "display_data"
    },
    {
     "name": "stderr",
     "output_type": "stream",
     "text": [
      "\r",
      " 82%|████████▏ | 818/1000 [03:23<00:42,  4.28it/s]"
     ]
    },
    {
     "data": {
      "application/vnd.jupyter.widget-view+json": {
       "model_id": "86eae00dc1864416bd3d6ccd71114dda",
       "version_major": 2,
       "version_minor": 0
      },
      "text/plain": [
       "  0%|          | 0/1000 [00:00<?, ?it/s]"
      ]
     },
     "metadata": {},
     "output_type": "display_data"
    },
    {
     "name": "stderr",
     "output_type": "stream",
     "text": [
      "\r",
      " 82%|████████▏ | 819/1000 [03:23<00:46,  3.88it/s]"
     ]
    },
    {
     "data": {
      "application/vnd.jupyter.widget-view+json": {
       "model_id": "2bf4804c386542a49fcb73e1e5a7ff54",
       "version_major": 2,
       "version_minor": 0
      },
      "text/plain": [
       "  0%|          | 0/1000 [00:00<?, ?it/s]"
      ]
     },
     "metadata": {},
     "output_type": "display_data"
    },
    {
     "name": "stderr",
     "output_type": "stream",
     "text": [
      "\r",
      " 82%|████████▏ | 820/1000 [03:24<00:47,  3.81it/s]"
     ]
    },
    {
     "data": {
      "application/vnd.jupyter.widget-view+json": {
       "model_id": "da86ba5983aa4282a7ecf7af19e9e79d",
       "version_major": 2,
       "version_minor": 0
      },
      "text/plain": [
       "  0%|          | 0/1000 [00:00<?, ?it/s]"
      ]
     },
     "metadata": {},
     "output_type": "display_data"
    },
    {
     "name": "stderr",
     "output_type": "stream",
     "text": [
      "\r",
      " 82%|████████▏ | 821/1000 [03:24<00:47,  3.77it/s]"
     ]
    },
    {
     "data": {
      "application/vnd.jupyter.widget-view+json": {
       "model_id": "261ab3fa102240eda6624a74560d25c3",
       "version_major": 2,
       "version_minor": 0
      },
      "text/plain": [
       "  0%|          | 0/1000 [00:00<?, ?it/s]"
      ]
     },
     "metadata": {},
     "output_type": "display_data"
    },
    {
     "name": "stderr",
     "output_type": "stream",
     "text": [
      "\r",
      " 82%|████████▏ | 822/1000 [03:24<00:46,  3.82it/s]"
     ]
    },
    {
     "data": {
      "application/vnd.jupyter.widget-view+json": {
       "model_id": "74d1540bc6514fb8a77d3cb144b1fa1e",
       "version_major": 2,
       "version_minor": 0
      },
      "text/plain": [
       "  0%|          | 0/1000 [00:00<?, ?it/s]"
      ]
     },
     "metadata": {},
     "output_type": "display_data"
    },
    {
     "name": "stderr",
     "output_type": "stream",
     "text": [
      "\r",
      " 82%|████████▏ | 823/1000 [03:24<00:49,  3.60it/s]"
     ]
    },
    {
     "data": {
      "application/vnd.jupyter.widget-view+json": {
       "model_id": "86f01bfa1d4e46ddb3c74310a4d0fa6d",
       "version_major": 2,
       "version_minor": 0
      },
      "text/plain": [
       "  0%|          | 0/1000 [00:00<?, ?it/s]"
      ]
     },
     "metadata": {},
     "output_type": "display_data"
    },
    {
     "name": "stderr",
     "output_type": "stream",
     "text": [
      "\r",
      " 82%|████████▏ | 824/1000 [03:25<00:53,  3.30it/s]"
     ]
    },
    {
     "data": {
      "application/vnd.jupyter.widget-view+json": {
       "model_id": "459cab8577d44613871b22764a5c8663",
       "version_major": 2,
       "version_minor": 0
      },
      "text/plain": [
       "  0%|          | 0/1000 [00:00<?, ?it/s]"
      ]
     },
     "metadata": {},
     "output_type": "display_data"
    },
    {
     "name": "stderr",
     "output_type": "stream",
     "text": [
      "\r",
      " 82%|████████▎ | 825/1000 [03:25<00:51,  3.39it/s]"
     ]
    },
    {
     "data": {
      "application/vnd.jupyter.widget-view+json": {
       "model_id": "c186f4f43c42444eb43ae30e4cd399d1",
       "version_major": 2,
       "version_minor": 0
      },
      "text/plain": [
       "  0%|          | 0/1000 [00:00<?, ?it/s]"
      ]
     },
     "metadata": {},
     "output_type": "display_data"
    },
    {
     "name": "stderr",
     "output_type": "stream",
     "text": [
      "\r",
      " 83%|████████▎ | 826/1000 [03:25<00:48,  3.56it/s]"
     ]
    },
    {
     "data": {
      "application/vnd.jupyter.widget-view+json": {
       "model_id": "e641aa7326b647bc919a37bded1a0b89",
       "version_major": 2,
       "version_minor": 0
      },
      "text/plain": [
       "  0%|          | 0/1000 [00:00<?, ?it/s]"
      ]
     },
     "metadata": {},
     "output_type": "display_data"
    },
    {
     "name": "stderr",
     "output_type": "stream",
     "text": [
      "\r",
      " 83%|████████▎ | 827/1000 [03:26<00:47,  3.63it/s]"
     ]
    },
    {
     "data": {
      "application/vnd.jupyter.widget-view+json": {
       "model_id": "6fbc103a82f848a4acdc3c2afff2c36c",
       "version_major": 2,
       "version_minor": 0
      },
      "text/plain": [
       "  0%|          | 0/1000 [00:00<?, ?it/s]"
      ]
     },
     "metadata": {},
     "output_type": "display_data"
    },
    {
     "name": "stderr",
     "output_type": "stream",
     "text": [
      "\r",
      " 83%|████████▎ | 828/1000 [03:26<00:47,  3.63it/s]"
     ]
    },
    {
     "data": {
      "application/vnd.jupyter.widget-view+json": {
       "model_id": "3b4db4e809a2450c9f586347bc757769",
       "version_major": 2,
       "version_minor": 0
      },
      "text/plain": [
       "  0%|          | 0/1000 [00:00<?, ?it/s]"
      ]
     },
     "metadata": {},
     "output_type": "display_data"
    },
    {
     "name": "stderr",
     "output_type": "stream",
     "text": [
      "\r",
      " 83%|████████▎ | 829/1000 [03:26<00:45,  3.76it/s]"
     ]
    },
    {
     "data": {
      "application/vnd.jupyter.widget-view+json": {
       "model_id": "507e0c63d1224747b1f2ec3c4a5ecb68",
       "version_major": 2,
       "version_minor": 0
      },
      "text/plain": [
       "  0%|          | 0/1000 [00:00<?, ?it/s]"
      ]
     },
     "metadata": {},
     "output_type": "display_data"
    },
    {
     "name": "stderr",
     "output_type": "stream",
     "text": [
      "\r",
      " 83%|████████▎ | 830/1000 [03:26<00:47,  3.60it/s]"
     ]
    },
    {
     "data": {
      "application/vnd.jupyter.widget-view+json": {
       "model_id": "b6834971f68e44b4b9e91566a791fa51",
       "version_major": 2,
       "version_minor": 0
      },
      "text/plain": [
       "  0%|          | 0/1000 [00:00<?, ?it/s]"
      ]
     },
     "metadata": {},
     "output_type": "display_data"
    },
    {
     "name": "stderr",
     "output_type": "stream",
     "text": [
      "\r",
      " 83%|████████▎ | 831/1000 [03:27<00:52,  3.22it/s]"
     ]
    },
    {
     "data": {
      "application/vnd.jupyter.widget-view+json": {
       "model_id": "479d7b13fe3a4ae481ec6c415527060e",
       "version_major": 2,
       "version_minor": 0
      },
      "text/plain": [
       "  0%|          | 0/1000 [00:00<?, ?it/s]"
      ]
     },
     "metadata": {},
     "output_type": "display_data"
    },
    {
     "name": "stderr",
     "output_type": "stream",
     "text": [
      "\r",
      " 83%|████████▎ | 832/1000 [03:27<00:55,  3.02it/s]"
     ]
    },
    {
     "data": {
      "application/vnd.jupyter.widget-view+json": {
       "model_id": "bc8b209d52174800bee461fe4114f960",
       "version_major": 2,
       "version_minor": 0
      },
      "text/plain": [
       "  0%|          | 0/1000 [00:00<?, ?it/s]"
      ]
     },
     "metadata": {},
     "output_type": "display_data"
    },
    {
     "name": "stderr",
     "output_type": "stream",
     "text": [
      "\r",
      " 83%|████████▎ | 833/1000 [03:28<00:56,  2.97it/s]"
     ]
    },
    {
     "data": {
      "application/vnd.jupyter.widget-view+json": {
       "model_id": "028817757a0e41f89ca5f2184b75c8bc",
       "version_major": 2,
       "version_minor": 0
      },
      "text/plain": [
       "  0%|          | 0/1000 [00:00<?, ?it/s]"
      ]
     },
     "metadata": {},
     "output_type": "display_data"
    },
    {
     "name": "stderr",
     "output_type": "stream",
     "text": [
      "\r",
      " 83%|████████▎ | 834/1000 [03:28<00:56,  2.94it/s]"
     ]
    },
    {
     "data": {
      "application/vnd.jupyter.widget-view+json": {
       "model_id": "ccb01b60820b4c54b3e463316ba56ff2",
       "version_major": 2,
       "version_minor": 0
      },
      "text/plain": [
       "  0%|          | 0/1000 [00:00<?, ?it/s]"
      ]
     },
     "metadata": {},
     "output_type": "display_data"
    },
    {
     "name": "stderr",
     "output_type": "stream",
     "text": [
      "\r",
      " 84%|████████▎ | 835/1000 [03:28<00:56,  2.94it/s]"
     ]
    },
    {
     "data": {
      "application/vnd.jupyter.widget-view+json": {
       "model_id": "67498c37453248ba85ff31b3086954dc",
       "version_major": 2,
       "version_minor": 0
      },
      "text/plain": [
       "  0%|          | 0/1000 [00:00<?, ?it/s]"
      ]
     },
     "metadata": {},
     "output_type": "display_data"
    },
    {
     "name": "stderr",
     "output_type": "stream",
     "text": [
      "\r",
      " 84%|████████▎ | 836/1000 [03:29<00:55,  2.94it/s]"
     ]
    },
    {
     "data": {
      "application/vnd.jupyter.widget-view+json": {
       "model_id": "c95b0d2358514d9a943c26fbc3453af2",
       "version_major": 2,
       "version_minor": 0
      },
      "text/plain": [
       "  0%|          | 0/1000 [00:00<?, ?it/s]"
      ]
     },
     "metadata": {},
     "output_type": "display_data"
    },
    {
     "name": "stderr",
     "output_type": "stream",
     "text": [
      "\r",
      " 84%|████████▎ | 837/1000 [03:29<00:53,  3.02it/s]"
     ]
    },
    {
     "data": {
      "application/vnd.jupyter.widget-view+json": {
       "model_id": "d06b57ed3b6440e48c2ed05634b0e19f",
       "version_major": 2,
       "version_minor": 0
      },
      "text/plain": [
       "  0%|          | 0/1000 [00:00<?, ?it/s]"
      ]
     },
     "metadata": {},
     "output_type": "display_data"
    },
    {
     "name": "stderr",
     "output_type": "stream",
     "text": [
      "\r",
      " 84%|████████▍ | 838/1000 [03:29<00:50,  3.19it/s]"
     ]
    },
    {
     "data": {
      "application/vnd.jupyter.widget-view+json": {
       "model_id": "991d3102a3ab4549aeeecd8a0d52bf7b",
       "version_major": 2,
       "version_minor": 0
      },
      "text/plain": [
       "  0%|          | 0/1000 [00:00<?, ?it/s]"
      ]
     },
     "metadata": {},
     "output_type": "display_data"
    },
    {
     "name": "stderr",
     "output_type": "stream",
     "text": [
      "\r",
      " 84%|████████▍ | 839/1000 [03:29<00:48,  3.34it/s]"
     ]
    },
    {
     "data": {
      "application/vnd.jupyter.widget-view+json": {
       "model_id": "165b247c3853473693658ada1056eea9",
       "version_major": 2,
       "version_minor": 0
      },
      "text/plain": [
       "  0%|          | 0/1000 [00:00<?, ?it/s]"
      ]
     },
     "metadata": {},
     "output_type": "display_data"
    },
    {
     "name": "stderr",
     "output_type": "stream",
     "text": [
      "\r",
      " 84%|████████▍ | 840/1000 [03:30<00:46,  3.45it/s]"
     ]
    },
    {
     "data": {
      "application/vnd.jupyter.widget-view+json": {
       "model_id": "fe9b8c38e09e47bc81bd1c8598d6d36a",
       "version_major": 2,
       "version_minor": 0
      },
      "text/plain": [
       "  0%|          | 0/1000 [00:00<?, ?it/s]"
      ]
     },
     "metadata": {},
     "output_type": "display_data"
    },
    {
     "name": "stderr",
     "output_type": "stream",
     "text": [
      "\r",
      " 84%|████████▍ | 841/1000 [03:30<00:45,  3.50it/s]"
     ]
    },
    {
     "data": {
      "application/vnd.jupyter.widget-view+json": {
       "model_id": "1840f53de7ad4aac9b4704f5903adaa3",
       "version_major": 2,
       "version_minor": 0
      },
      "text/plain": [
       "  0%|          | 0/1000 [00:00<?, ?it/s]"
      ]
     },
     "metadata": {},
     "output_type": "display_data"
    },
    {
     "name": "stderr",
     "output_type": "stream",
     "text": [
      "\r",
      " 84%|████████▍ | 842/1000 [03:30<00:45,  3.51it/s]"
     ]
    },
    {
     "data": {
      "application/vnd.jupyter.widget-view+json": {
       "model_id": "9edd6757e79a450ab4eaba34da23b873",
       "version_major": 2,
       "version_minor": 0
      },
      "text/plain": [
       "  0%|          | 0/1000 [00:00<?, ?it/s]"
      ]
     },
     "metadata": {},
     "output_type": "display_data"
    },
    {
     "name": "stderr",
     "output_type": "stream",
     "text": [
      "\r",
      " 84%|████████▍ | 843/1000 [03:31<00:47,  3.30it/s]"
     ]
    },
    {
     "data": {
      "application/vnd.jupyter.widget-view+json": {
       "model_id": "d5817a6e74454b8993936edb57ef9585",
       "version_major": 2,
       "version_minor": 0
      },
      "text/plain": [
       "  0%|          | 0/1000 [00:00<?, ?it/s]"
      ]
     },
     "metadata": {},
     "output_type": "display_data"
    },
    {
     "name": "stderr",
     "output_type": "stream",
     "text": [
      "\r",
      " 84%|████████▍ | 844/1000 [03:31<00:46,  3.39it/s]"
     ]
    },
    {
     "data": {
      "application/vnd.jupyter.widget-view+json": {
       "model_id": "f385043e098240349cdaf99e178dbf62",
       "version_major": 2,
       "version_minor": 0
      },
      "text/plain": [
       "  0%|          | 0/1000 [00:00<?, ?it/s]"
      ]
     },
     "metadata": {},
     "output_type": "display_data"
    },
    {
     "name": "stderr",
     "output_type": "stream",
     "text": [
      "\r",
      " 84%|████████▍ | 845/1000 [03:31<00:44,  3.48it/s]"
     ]
    },
    {
     "data": {
      "application/vnd.jupyter.widget-view+json": {
       "model_id": "a18dd132919043abb36ac1816acee418",
       "version_major": 2,
       "version_minor": 0
      },
      "text/plain": [
       "  0%|          | 0/1000 [00:00<?, ?it/s]"
      ]
     },
     "metadata": {},
     "output_type": "display_data"
    },
    {
     "name": "stderr",
     "output_type": "stream",
     "text": [
      "\r",
      " 85%|████████▍ | 846/1000 [03:31<00:43,  3.56it/s]"
     ]
    },
    {
     "data": {
      "application/vnd.jupyter.widget-view+json": {
       "model_id": "f604f462eae24a0daf6c47e0f94ff8a8",
       "version_major": 2,
       "version_minor": 0
      },
      "text/plain": [
       "  0%|          | 0/1000 [00:00<?, ?it/s]"
      ]
     },
     "metadata": {},
     "output_type": "display_data"
    },
    {
     "name": "stderr",
     "output_type": "stream",
     "text": [
      "\r",
      " 85%|████████▍ | 847/1000 [03:32<00:42,  3.61it/s]"
     ]
    },
    {
     "data": {
      "application/vnd.jupyter.widget-view+json": {
       "model_id": "46a162478ea6430786a14dfa0be51068",
       "version_major": 2,
       "version_minor": 0
      },
      "text/plain": [
       "  0%|          | 0/1000 [00:00<?, ?it/s]"
      ]
     },
     "metadata": {},
     "output_type": "display_data"
    },
    {
     "name": "stderr",
     "output_type": "stream",
     "text": [
      "\r",
      " 85%|████████▍ | 848/1000 [03:32<00:42,  3.62it/s]"
     ]
    },
    {
     "data": {
      "application/vnd.jupyter.widget-view+json": {
       "model_id": "05ff43f0027445fe9c0be000015a9a61",
       "version_major": 2,
       "version_minor": 0
      },
      "text/plain": [
       "  0%|          | 0/1000 [00:00<?, ?it/s]"
      ]
     },
     "metadata": {},
     "output_type": "display_data"
    },
    {
     "name": "stderr",
     "output_type": "stream",
     "text": [
      "\r",
      " 85%|████████▍ | 849/1000 [03:32<00:41,  3.62it/s]"
     ]
    },
    {
     "data": {
      "application/vnd.jupyter.widget-view+json": {
       "model_id": "1ea785a4039e46f6987f5baefe7955a3",
       "version_major": 2,
       "version_minor": 0
      },
      "text/plain": [
       "  0%|          | 0/1000 [00:00<?, ?it/s]"
      ]
     },
     "metadata": {},
     "output_type": "display_data"
    },
    {
     "name": "stderr",
     "output_type": "stream",
     "text": [
      "\r",
      " 85%|████████▌ | 850/1000 [03:33<00:42,  3.53it/s]"
     ]
    },
    {
     "data": {
      "application/vnd.jupyter.widget-view+json": {
       "model_id": "48bfbc44a5de428989c4416738a47da6",
       "version_major": 2,
       "version_minor": 0
      },
      "text/plain": [
       "  0%|          | 0/1000 [00:00<?, ?it/s]"
      ]
     },
     "metadata": {},
     "output_type": "display_data"
    },
    {
     "name": "stderr",
     "output_type": "stream",
     "text": [
      "\r",
      " 85%|████████▌ | 851/1000 [03:33<00:41,  3.57it/s]"
     ]
    },
    {
     "data": {
      "application/vnd.jupyter.widget-view+json": {
       "model_id": "28b3ee4d971d4a5ab4fdbe87f30ba802",
       "version_major": 2,
       "version_minor": 0
      },
      "text/plain": [
       "  0%|          | 0/1000 [00:00<?, ?it/s]"
      ]
     },
     "metadata": {},
     "output_type": "display_data"
    },
    {
     "name": "stderr",
     "output_type": "stream",
     "text": [
      "\r",
      " 85%|████████▌ | 852/1000 [03:33<00:40,  3.63it/s]"
     ]
    },
    {
     "data": {
      "application/vnd.jupyter.widget-view+json": {
       "model_id": "d140d552ca784dfe874d92aa763a18f6",
       "version_major": 2,
       "version_minor": 0
      },
      "text/plain": [
       "  0%|          | 0/1000 [00:00<?, ?it/s]"
      ]
     },
     "metadata": {},
     "output_type": "display_data"
    },
    {
     "name": "stderr",
     "output_type": "stream",
     "text": [
      "\r",
      " 85%|████████▌ | 853/1000 [03:33<00:40,  3.61it/s]"
     ]
    },
    {
     "data": {
      "application/vnd.jupyter.widget-view+json": {
       "model_id": "a6c49480c13b41ebb860ea499316ee97",
       "version_major": 2,
       "version_minor": 0
      },
      "text/plain": [
       "  0%|          | 0/1000 [00:00<?, ?it/s]"
      ]
     },
     "metadata": {},
     "output_type": "display_data"
    },
    {
     "name": "stderr",
     "output_type": "stream",
     "text": [
      "\r",
      " 85%|████████▌ | 854/1000 [03:34<00:40,  3.59it/s]"
     ]
    },
    {
     "data": {
      "application/vnd.jupyter.widget-view+json": {
       "model_id": "e66e304d2db14346932be1ad8f2c5839",
       "version_major": 2,
       "version_minor": 0
      },
      "text/plain": [
       "  0%|          | 0/1000 [00:00<?, ?it/s]"
      ]
     },
     "metadata": {},
     "output_type": "display_data"
    },
    {
     "name": "stderr",
     "output_type": "stream",
     "text": [
      "\r",
      " 86%|████████▌ | 855/1000 [03:34<00:40,  3.57it/s]"
     ]
    },
    {
     "data": {
      "application/vnd.jupyter.widget-view+json": {
       "model_id": "148658b7e60c433eb8d8c2037b142670",
       "version_major": 2,
       "version_minor": 0
      },
      "text/plain": [
       "  0%|          | 0/1000 [00:00<?, ?it/s]"
      ]
     },
     "metadata": {},
     "output_type": "display_data"
    },
    {
     "name": "stderr",
     "output_type": "stream",
     "text": [
      "\r",
      " 86%|████████▌ | 856/1000 [03:34<00:37,  3.79it/s]"
     ]
    },
    {
     "data": {
      "application/vnd.jupyter.widget-view+json": {
       "model_id": "317653eba40c45ce8f2a2dd02a29ad57",
       "version_major": 2,
       "version_minor": 0
      },
      "text/plain": [
       "  0%|          | 0/1000 [00:00<?, ?it/s]"
      ]
     },
     "metadata": {},
     "output_type": "display_data"
    },
    {
     "name": "stderr",
     "output_type": "stream",
     "text": [
      "\r",
      " 86%|████████▌ | 857/1000 [03:34<00:38,  3.69it/s]"
     ]
    },
    {
     "data": {
      "application/vnd.jupyter.widget-view+json": {
       "model_id": "e01f1da49b7343a28418fea8eb19c2e8",
       "version_major": 2,
       "version_minor": 0
      },
      "text/plain": [
       "  0%|          | 0/1000 [00:00<?, ?it/s]"
      ]
     },
     "metadata": {},
     "output_type": "display_data"
    },
    {
     "name": "stderr",
     "output_type": "stream",
     "text": [
      "\r",
      " 86%|████████▌ | 858/1000 [03:35<00:37,  3.74it/s]"
     ]
    },
    {
     "data": {
      "application/vnd.jupyter.widget-view+json": {
       "model_id": "3f0d37db7531477fa835e5962690a6d2",
       "version_major": 2,
       "version_minor": 0
      },
      "text/plain": [
       "  0%|          | 0/1000 [00:00<?, ?it/s]"
      ]
     },
     "metadata": {},
     "output_type": "display_data"
    },
    {
     "name": "stderr",
     "output_type": "stream",
     "text": [
      "\r",
      " 86%|████████▌ | 859/1000 [03:35<00:36,  3.84it/s]"
     ]
    },
    {
     "data": {
      "application/vnd.jupyter.widget-view+json": {
       "model_id": "ceabae70e3c549caafc052ace5a35358",
       "version_major": 2,
       "version_minor": 0
      },
      "text/plain": [
       "  0%|          | 0/1000 [00:00<?, ?it/s]"
      ]
     },
     "metadata": {},
     "output_type": "display_data"
    },
    {
     "name": "stderr",
     "output_type": "stream",
     "text": [
      "\r",
      " 86%|████████▌ | 860/1000 [03:35<00:36,  3.87it/s]"
     ]
    },
    {
     "data": {
      "application/vnd.jupyter.widget-view+json": {
       "model_id": "55862e519681409a8982417557788392",
       "version_major": 2,
       "version_minor": 0
      },
      "text/plain": [
       "  0%|          | 0/1000 [00:00<?, ?it/s]"
      ]
     },
     "metadata": {},
     "output_type": "display_data"
    },
    {
     "name": "stderr",
     "output_type": "stream",
     "text": [
      "\r",
      " 86%|████████▌ | 861/1000 [03:35<00:34,  3.99it/s]"
     ]
    },
    {
     "data": {
      "application/vnd.jupyter.widget-view+json": {
       "model_id": "100aad79cb2743fab5eb2dc7a510bd26",
       "version_major": 2,
       "version_minor": 0
      },
      "text/plain": [
       "  0%|          | 0/1000 [00:00<?, ?it/s]"
      ]
     },
     "metadata": {},
     "output_type": "display_data"
    },
    {
     "name": "stderr",
     "output_type": "stream",
     "text": [
      "\r",
      " 86%|████████▌ | 862/1000 [03:36<00:34,  3.96it/s]"
     ]
    },
    {
     "data": {
      "application/vnd.jupyter.widget-view+json": {
       "model_id": "c092e91592f24f9a941d85764de742e3",
       "version_major": 2,
       "version_minor": 0
      },
      "text/plain": [
       "  0%|          | 0/1000 [00:00<?, ?it/s]"
      ]
     },
     "metadata": {},
     "output_type": "display_data"
    },
    {
     "name": "stderr",
     "output_type": "stream",
     "text": [
      "\r",
      " 86%|████████▋ | 863/1000 [03:36<00:34,  3.95it/s]"
     ]
    },
    {
     "data": {
      "application/vnd.jupyter.widget-view+json": {
       "model_id": "d6981a87d7f7442790853e65c09987e3",
       "version_major": 2,
       "version_minor": 0
      },
      "text/plain": [
       "  0%|          | 0/1000 [00:00<?, ?it/s]"
      ]
     },
     "metadata": {},
     "output_type": "display_data"
    },
    {
     "name": "stderr",
     "output_type": "stream",
     "text": [
      "\r",
      " 86%|████████▋ | 864/1000 [03:36<00:34,  3.92it/s]"
     ]
    },
    {
     "data": {
      "application/vnd.jupyter.widget-view+json": {
       "model_id": "33be6bc88d414f199b5a53b293a9b51b",
       "version_major": 2,
       "version_minor": 0
      },
      "text/plain": [
       "  0%|          | 0/1000 [00:00<?, ?it/s]"
      ]
     },
     "metadata": {},
     "output_type": "display_data"
    },
    {
     "name": "stderr",
     "output_type": "stream",
     "text": [
      "\r",
      " 86%|████████▋ | 865/1000 [03:36<00:36,  3.73it/s]"
     ]
    },
    {
     "data": {
      "application/vnd.jupyter.widget-view+json": {
       "model_id": "90e400bb78284385819c69aa6f8cb433",
       "version_major": 2,
       "version_minor": 0
      },
      "text/plain": [
       "  0%|          | 0/1000 [00:00<?, ?it/s]"
      ]
     },
     "metadata": {},
     "output_type": "display_data"
    },
    {
     "name": "stderr",
     "output_type": "stream",
     "text": [
      "\r",
      " 87%|████████▋ | 866/1000 [03:37<00:35,  3.82it/s]"
     ]
    },
    {
     "data": {
      "application/vnd.jupyter.widget-view+json": {
       "model_id": "e320e04d4c8641ecac2b623118c9ba35",
       "version_major": 2,
       "version_minor": 0
      },
      "text/plain": [
       "  0%|          | 0/1000 [00:00<?, ?it/s]"
      ]
     },
     "metadata": {},
     "output_type": "display_data"
    },
    {
     "name": "stderr",
     "output_type": "stream",
     "text": [
      "\r",
      " 87%|████████▋ | 867/1000 [03:37<00:34,  3.81it/s]"
     ]
    },
    {
     "data": {
      "application/vnd.jupyter.widget-view+json": {
       "model_id": "9c9d869e13fb4db0b2365bad486acfe6",
       "version_major": 2,
       "version_minor": 0
      },
      "text/plain": [
       "  0%|          | 0/1000 [00:00<?, ?it/s]"
      ]
     },
     "metadata": {},
     "output_type": "display_data"
    },
    {
     "name": "stderr",
     "output_type": "stream",
     "text": [
      "\r",
      " 87%|████████▋ | 868/1000 [03:37<00:34,  3.79it/s]"
     ]
    },
    {
     "data": {
      "application/vnd.jupyter.widget-view+json": {
       "model_id": "ba75ab59136d4b71bee0a0412b1df995",
       "version_major": 2,
       "version_minor": 0
      },
      "text/plain": [
       "  0%|          | 0/1000 [00:00<?, ?it/s]"
      ]
     },
     "metadata": {},
     "output_type": "display_data"
    },
    {
     "name": "stderr",
     "output_type": "stream",
     "text": [
      "\r",
      " 87%|████████▋ | 869/1000 [03:38<00:34,  3.85it/s]"
     ]
    },
    {
     "data": {
      "application/vnd.jupyter.widget-view+json": {
       "model_id": "584aa20d328e49b7b9ddbfe8ed486b85",
       "version_major": 2,
       "version_minor": 0
      },
      "text/plain": [
       "  0%|          | 0/1000 [00:00<?, ?it/s]"
      ]
     },
     "metadata": {},
     "output_type": "display_data"
    },
    {
     "name": "stderr",
     "output_type": "stream",
     "text": [
      "\r",
      " 87%|████████▋ | 870/1000 [03:38<00:33,  3.84it/s]"
     ]
    },
    {
     "data": {
      "application/vnd.jupyter.widget-view+json": {
       "model_id": "5deb38803a8b4d1ea711230df2a70df1",
       "version_major": 2,
       "version_minor": 0
      },
      "text/plain": [
       "  0%|          | 0/1000 [00:00<?, ?it/s]"
      ]
     },
     "metadata": {},
     "output_type": "display_data"
    },
    {
     "name": "stderr",
     "output_type": "stream",
     "text": [
      "\r",
      " 87%|████████▋ | 871/1000 [03:38<00:35,  3.68it/s]"
     ]
    },
    {
     "data": {
      "application/vnd.jupyter.widget-view+json": {
       "model_id": "871f10af380e4a49be41e7db5baf67d0",
       "version_major": 2,
       "version_minor": 0
      },
      "text/plain": [
       "  0%|          | 0/1000 [00:00<?, ?it/s]"
      ]
     },
     "metadata": {},
     "output_type": "display_data"
    },
    {
     "name": "stderr",
     "output_type": "stream",
     "text": [
      "\r",
      " 87%|████████▋ | 872/1000 [03:38<00:35,  3.65it/s]"
     ]
    },
    {
     "data": {
      "application/vnd.jupyter.widget-view+json": {
       "model_id": "a018e221c6424ad4a21602c48fedbc2c",
       "version_major": 2,
       "version_minor": 0
      },
      "text/plain": [
       "  0%|          | 0/1000 [00:00<?, ?it/s]"
      ]
     },
     "metadata": {},
     "output_type": "display_data"
    },
    {
     "name": "stderr",
     "output_type": "stream",
     "text": [
      "\r",
      " 87%|████████▋ | 873/1000 [03:39<00:33,  3.74it/s]"
     ]
    },
    {
     "data": {
      "application/vnd.jupyter.widget-view+json": {
       "model_id": "f5fd89ce559b4971ad41478479283721",
       "version_major": 2,
       "version_minor": 0
      },
      "text/plain": [
       "  0%|          | 0/1000 [00:00<?, ?it/s]"
      ]
     },
     "metadata": {},
     "output_type": "display_data"
    },
    {
     "name": "stderr",
     "output_type": "stream",
     "text": [
      "\r",
      " 87%|████████▋ | 874/1000 [03:39<00:33,  3.79it/s]"
     ]
    },
    {
     "data": {
      "application/vnd.jupyter.widget-view+json": {
       "model_id": "e53f33e83c7c4230b916d5c73fa4a906",
       "version_major": 2,
       "version_minor": 0
      },
      "text/plain": [
       "  0%|          | 0/1000 [00:00<?, ?it/s]"
      ]
     },
     "metadata": {},
     "output_type": "display_data"
    },
    {
     "name": "stderr",
     "output_type": "stream",
     "text": [
      "\r",
      " 88%|████████▊ | 875/1000 [03:39<00:33,  3.78it/s]"
     ]
    },
    {
     "data": {
      "application/vnd.jupyter.widget-view+json": {
       "model_id": "65f1ff12105c4c66982f2410098335f1",
       "version_major": 2,
       "version_minor": 0
      },
      "text/plain": [
       "  0%|          | 0/1000 [00:00<?, ?it/s]"
      ]
     },
     "metadata": {},
     "output_type": "display_data"
    },
    {
     "name": "stderr",
     "output_type": "stream",
     "text": [
      "\r",
      " 88%|████████▊ | 876/1000 [03:39<00:33,  3.65it/s]"
     ]
    },
    {
     "data": {
      "application/vnd.jupyter.widget-view+json": {
       "model_id": "fadc30d0e44a43e8b9cf4ea78754cc83",
       "version_major": 2,
       "version_minor": 0
      },
      "text/plain": [
       "  0%|          | 0/1000 [00:00<?, ?it/s]"
      ]
     },
     "metadata": {},
     "output_type": "display_data"
    },
    {
     "name": "stderr",
     "output_type": "stream",
     "text": [
      "\r",
      " 88%|████████▊ | 877/1000 [03:40<00:34,  3.54it/s]"
     ]
    },
    {
     "data": {
      "application/vnd.jupyter.widget-view+json": {
       "model_id": "1955fffbc6194f028087470998616e41",
       "version_major": 2,
       "version_minor": 0
      },
      "text/plain": [
       "  0%|          | 0/1000 [00:00<?, ?it/s]"
      ]
     },
     "metadata": {},
     "output_type": "display_data"
    },
    {
     "name": "stderr",
     "output_type": "stream",
     "text": [
      "\r",
      " 88%|████████▊ | 878/1000 [03:40<00:37,  3.28it/s]"
     ]
    },
    {
     "data": {
      "application/vnd.jupyter.widget-view+json": {
       "model_id": "f206fcde0a9e4c57b0224f8d0770eb2d",
       "version_major": 2,
       "version_minor": 0
      },
      "text/plain": [
       "  0%|          | 0/1000 [00:00<?, ?it/s]"
      ]
     },
     "metadata": {},
     "output_type": "display_data"
    },
    {
     "name": "stderr",
     "output_type": "stream",
     "text": [
      "\r",
      " 88%|████████▊ | 879/1000 [03:40<00:37,  3.23it/s]"
     ]
    },
    {
     "data": {
      "application/vnd.jupyter.widget-view+json": {
       "model_id": "0f2d851aa0fe41839437f69e16e2f24f",
       "version_major": 2,
       "version_minor": 0
      },
      "text/plain": [
       "  0%|          | 0/1000 [00:00<?, ?it/s]"
      ]
     },
     "metadata": {},
     "output_type": "display_data"
    },
    {
     "name": "stderr",
     "output_type": "stream",
     "text": [
      "\r",
      " 88%|████████▊ | 880/1000 [03:41<00:37,  3.24it/s]"
     ]
    },
    {
     "data": {
      "application/vnd.jupyter.widget-view+json": {
       "model_id": "4510847d1fbf43a28eac60d0dd091dd4",
       "version_major": 2,
       "version_minor": 0
      },
      "text/plain": [
       "  0%|          | 0/1000 [00:00<?, ?it/s]"
      ]
     },
     "metadata": {},
     "output_type": "display_data"
    },
    {
     "name": "stderr",
     "output_type": "stream",
     "text": [
      "\r",
      " 88%|████████▊ | 881/1000 [03:41<00:35,  3.32it/s]"
     ]
    },
    {
     "data": {
      "application/vnd.jupyter.widget-view+json": {
       "model_id": "56954792d1b0446eb324079c3fd2480f",
       "version_major": 2,
       "version_minor": 0
      },
      "text/plain": [
       "  0%|          | 0/1000 [00:00<?, ?it/s]"
      ]
     },
     "metadata": {},
     "output_type": "display_data"
    },
    {
     "name": "stderr",
     "output_type": "stream",
     "text": [
      "\r",
      " 88%|████████▊ | 882/1000 [03:41<00:36,  3.20it/s]"
     ]
    },
    {
     "data": {
      "application/vnd.jupyter.widget-view+json": {
       "model_id": "7c78c566f9bc4113a7612323a712a837",
       "version_major": 2,
       "version_minor": 0
      },
      "text/plain": [
       "  0%|          | 0/1000 [00:00<?, ?it/s]"
      ]
     },
     "metadata": {},
     "output_type": "display_data"
    },
    {
     "name": "stderr",
     "output_type": "stream",
     "text": [
      "\r",
      " 88%|████████▊ | 883/1000 [03:42<00:35,  3.28it/s]"
     ]
    },
    {
     "data": {
      "application/vnd.jupyter.widget-view+json": {
       "model_id": "0fedda3898384bc9a4ecbdeb3a42f984",
       "version_major": 2,
       "version_minor": 0
      },
      "text/plain": [
       "  0%|          | 0/1000 [00:00<?, ?it/s]"
      ]
     },
     "metadata": {},
     "output_type": "display_data"
    },
    {
     "name": "stderr",
     "output_type": "stream",
     "text": [
      "\r",
      " 88%|████████▊ | 884/1000 [03:42<00:33,  3.41it/s]"
     ]
    },
    {
     "data": {
      "application/vnd.jupyter.widget-view+json": {
       "model_id": "e91bc3cb78da4281bf3b1dc9d33b96b4",
       "version_major": 2,
       "version_minor": 0
      },
      "text/plain": [
       "  0%|          | 0/1000 [00:00<?, ?it/s]"
      ]
     },
     "metadata": {},
     "output_type": "display_data"
    },
    {
     "name": "stderr",
     "output_type": "stream",
     "text": [
      "\r",
      " 88%|████████▊ | 885/1000 [03:42<00:32,  3.51it/s]"
     ]
    },
    {
     "data": {
      "application/vnd.jupyter.widget-view+json": {
       "model_id": "a782d7fa68d246e2962613d3e47576b0",
       "version_major": 2,
       "version_minor": 0
      },
      "text/plain": [
       "  0%|          | 0/1000 [00:00<?, ?it/s]"
      ]
     },
     "metadata": {},
     "output_type": "display_data"
    },
    {
     "name": "stderr",
     "output_type": "stream",
     "text": [
      "\r",
      " 89%|████████▊ | 886/1000 [03:42<00:31,  3.57it/s]"
     ]
    },
    {
     "data": {
      "application/vnd.jupyter.widget-view+json": {
       "model_id": "c1e43058553b4d6f9148fdabeaf5b8e9",
       "version_major": 2,
       "version_minor": 0
      },
      "text/plain": [
       "  0%|          | 0/1000 [00:00<?, ?it/s]"
      ]
     },
     "metadata": {},
     "output_type": "display_data"
    },
    {
     "name": "stderr",
     "output_type": "stream",
     "text": [
      "\r",
      " 89%|████████▊ | 887/1000 [03:43<00:30,  3.69it/s]"
     ]
    },
    {
     "data": {
      "application/vnd.jupyter.widget-view+json": {
       "model_id": "77de496b79a843bd86c037cfc3660655",
       "version_major": 2,
       "version_minor": 0
      },
      "text/plain": [
       "  0%|          | 0/1000 [00:00<?, ?it/s]"
      ]
     },
     "metadata": {},
     "output_type": "display_data"
    },
    {
     "name": "stderr",
     "output_type": "stream",
     "text": [
      "\r",
      " 89%|████████▉ | 888/1000 [03:43<00:29,  3.76it/s]"
     ]
    },
    {
     "data": {
      "application/vnd.jupyter.widget-view+json": {
       "model_id": "15f73106639442a898b989f8aa3ccf33",
       "version_major": 2,
       "version_minor": 0
      },
      "text/plain": [
       "  0%|          | 0/1000 [00:00<?, ?it/s]"
      ]
     },
     "metadata": {},
     "output_type": "display_data"
    },
    {
     "name": "stderr",
     "output_type": "stream",
     "text": [
      "\r",
      " 89%|████████▉ | 889/1000 [03:43<00:30,  3.62it/s]"
     ]
    },
    {
     "data": {
      "application/vnd.jupyter.widget-view+json": {
       "model_id": "ce48810b768240aa87af09f0f3fa1cb9",
       "version_major": 2,
       "version_minor": 0
      },
      "text/plain": [
       "  0%|          | 0/1000 [00:00<?, ?it/s]"
      ]
     },
     "metadata": {},
     "output_type": "display_data"
    },
    {
     "name": "stderr",
     "output_type": "stream",
     "text": [
      "\r",
      " 89%|████████▉ | 890/1000 [03:43<00:29,  3.75it/s]"
     ]
    },
    {
     "data": {
      "application/vnd.jupyter.widget-view+json": {
       "model_id": "80edb9cd9d8d4136ba627cddcccb0e31",
       "version_major": 2,
       "version_minor": 0
      },
      "text/plain": [
       "  0%|          | 0/1000 [00:00<?, ?it/s]"
      ]
     },
     "metadata": {},
     "output_type": "display_data"
    },
    {
     "name": "stderr",
     "output_type": "stream",
     "text": [
      "\r",
      " 89%|████████▉ | 891/1000 [03:44<00:28,  3.80it/s]"
     ]
    },
    {
     "data": {
      "application/vnd.jupyter.widget-view+json": {
       "model_id": "da7bde2d518d4079b829fe84bbe011c9",
       "version_major": 2,
       "version_minor": 0
      },
      "text/plain": [
       "  0%|          | 0/1000 [00:00<?, ?it/s]"
      ]
     },
     "metadata": {},
     "output_type": "display_data"
    },
    {
     "name": "stderr",
     "output_type": "stream",
     "text": [
      "\r",
      " 89%|████████▉ | 892/1000 [03:44<00:27,  3.90it/s]"
     ]
    },
    {
     "data": {
      "application/vnd.jupyter.widget-view+json": {
       "model_id": "19f6bacdb83d472d8f54a2a7d834ac33",
       "version_major": 2,
       "version_minor": 0
      },
      "text/plain": [
       "  0%|          | 0/1000 [00:00<?, ?it/s]"
      ]
     },
     "metadata": {},
     "output_type": "display_data"
    },
    {
     "name": "stderr",
     "output_type": "stream",
     "text": [
      "\r",
      " 89%|████████▉ | 893/1000 [03:44<00:29,  3.66it/s]"
     ]
    },
    {
     "data": {
      "application/vnd.jupyter.widget-view+json": {
       "model_id": "edca54fe41f244a7a12292f55743d75a",
       "version_major": 2,
       "version_minor": 0
      },
      "text/plain": [
       "  0%|          | 0/1000 [00:00<?, ?it/s]"
      ]
     },
     "metadata": {},
     "output_type": "display_data"
    },
    {
     "name": "stderr",
     "output_type": "stream",
     "text": [
      "\r",
      " 89%|████████▉ | 894/1000 [03:45<00:29,  3.60it/s]"
     ]
    },
    {
     "data": {
      "application/vnd.jupyter.widget-view+json": {
       "model_id": "294fb0d8c41a433c9fda59f5eabca5d2",
       "version_major": 2,
       "version_minor": 0
      },
      "text/plain": [
       "  0%|          | 0/1000 [00:00<?, ?it/s]"
      ]
     },
     "metadata": {},
     "output_type": "display_data"
    },
    {
     "name": "stderr",
     "output_type": "stream",
     "text": [
      "\r",
      " 90%|████████▉ | 895/1000 [03:45<00:30,  3.49it/s]"
     ]
    },
    {
     "data": {
      "application/vnd.jupyter.widget-view+json": {
       "model_id": "e8a3db0a704a4daca4f05e41cc334aa4",
       "version_major": 2,
       "version_minor": 0
      },
      "text/plain": [
       "  0%|          | 0/1000 [00:00<?, ?it/s]"
      ]
     },
     "metadata": {},
     "output_type": "display_data"
    },
    {
     "name": "stderr",
     "output_type": "stream",
     "text": [
      "\r",
      " 90%|████████▉ | 896/1000 [03:45<00:30,  3.40it/s]"
     ]
    },
    {
     "data": {
      "application/vnd.jupyter.widget-view+json": {
       "model_id": "a6d1ca5077244a5ea09559e6f08328d0",
       "version_major": 2,
       "version_minor": 0
      },
      "text/plain": [
       "  0%|          | 0/1000 [00:00<?, ?it/s]"
      ]
     },
     "metadata": {},
     "output_type": "display_data"
    },
    {
     "name": "stderr",
     "output_type": "stream",
     "text": [
      "\r",
      " 90%|████████▉ | 897/1000 [03:45<00:30,  3.42it/s]"
     ]
    },
    {
     "data": {
      "application/vnd.jupyter.widget-view+json": {
       "model_id": "fa0f56c21d164753bf8c07a27d681ed5",
       "version_major": 2,
       "version_minor": 0
      },
      "text/plain": [
       "  0%|          | 0/1000 [00:00<?, ?it/s]"
      ]
     },
     "metadata": {},
     "output_type": "display_data"
    },
    {
     "name": "stderr",
     "output_type": "stream",
     "text": [
      "\r",
      " 90%|████████▉ | 898/1000 [03:46<00:28,  3.59it/s]"
     ]
    },
    {
     "data": {
      "application/vnd.jupyter.widget-view+json": {
       "model_id": "6e0827fd517843d0a36bb8953d5ed59d",
       "version_major": 2,
       "version_minor": 0
      },
      "text/plain": [
       "  0%|          | 0/1000 [00:00<?, ?it/s]"
      ]
     },
     "metadata": {},
     "output_type": "display_data"
    },
    {
     "name": "stderr",
     "output_type": "stream",
     "text": [
      "\r",
      " 90%|████████▉ | 899/1000 [03:46<00:28,  3.52it/s]"
     ]
    },
    {
     "data": {
      "application/vnd.jupyter.widget-view+json": {
       "model_id": "0f985b930b624238b30c0b4466389da6",
       "version_major": 2,
       "version_minor": 0
      },
      "text/plain": [
       "  0%|          | 0/1000 [00:00<?, ?it/s]"
      ]
     },
     "metadata": {},
     "output_type": "display_data"
    },
    {
     "name": "stderr",
     "output_type": "stream",
     "text": [
      "\r",
      " 90%|█████████ | 900/1000 [03:46<00:28,  3.46it/s]"
     ]
    },
    {
     "data": {
      "application/vnd.jupyter.widget-view+json": {
       "model_id": "fa05d6e0fb3f4b48b8f88105d42fc155",
       "version_major": 2,
       "version_minor": 0
      },
      "text/plain": [
       "  0%|          | 0/1000 [00:00<?, ?it/s]"
      ]
     },
     "metadata": {},
     "output_type": "display_data"
    },
    {
     "name": "stderr",
     "output_type": "stream",
     "text": [
      "\r",
      " 90%|█████████ | 901/1000 [03:47<00:29,  3.40it/s]"
     ]
    },
    {
     "data": {
      "application/vnd.jupyter.widget-view+json": {
       "model_id": "98041851e1774cc686770c450be50dd8",
       "version_major": 2,
       "version_minor": 0
      },
      "text/plain": [
       "  0%|          | 0/1000 [00:00<?, ?it/s]"
      ]
     },
     "metadata": {},
     "output_type": "display_data"
    },
    {
     "name": "stderr",
     "output_type": "stream",
     "text": [
      "\r",
      " 90%|█████████ | 902/1000 [03:47<00:28,  3.43it/s]"
     ]
    },
    {
     "data": {
      "application/vnd.jupyter.widget-view+json": {
       "model_id": "7c274a33fb554a91b3e06ded2b50b237",
       "version_major": 2,
       "version_minor": 0
      },
      "text/plain": [
       "  0%|          | 0/1000 [00:00<?, ?it/s]"
      ]
     },
     "metadata": {},
     "output_type": "display_data"
    },
    {
     "name": "stderr",
     "output_type": "stream",
     "text": [
      "\r",
      " 90%|█████████ | 903/1000 [03:47<00:28,  3.44it/s]"
     ]
    },
    {
     "data": {
      "application/vnd.jupyter.widget-view+json": {
       "model_id": "4ba428d828fd47079bbeb3eb76f962ee",
       "version_major": 2,
       "version_minor": 0
      },
      "text/plain": [
       "  0%|          | 0/1000 [00:00<?, ?it/s]"
      ]
     },
     "metadata": {},
     "output_type": "display_data"
    },
    {
     "name": "stderr",
     "output_type": "stream",
     "text": [
      "\r",
      " 90%|█████████ | 904/1000 [03:47<00:27,  3.43it/s]"
     ]
    },
    {
     "data": {
      "application/vnd.jupyter.widget-view+json": {
       "model_id": "0177d82d20f7433fb4cf118f2496efe2",
       "version_major": 2,
       "version_minor": 0
      },
      "text/plain": [
       "  0%|          | 0/1000 [00:00<?, ?it/s]"
      ]
     },
     "metadata": {},
     "output_type": "display_data"
    },
    {
     "name": "stderr",
     "output_type": "stream",
     "text": [
      "\r",
      " 90%|█████████ | 905/1000 [03:48<00:28,  3.32it/s]"
     ]
    },
    {
     "data": {
      "application/vnd.jupyter.widget-view+json": {
       "model_id": "6e07270ed94f4962bf3f202e1fdbb6ca",
       "version_major": 2,
       "version_minor": 0
      },
      "text/plain": [
       "  0%|          | 0/1000 [00:00<?, ?it/s]"
      ]
     },
     "metadata": {},
     "output_type": "display_data"
    },
    {
     "name": "stderr",
     "output_type": "stream",
     "text": [
      "\r",
      " 91%|█████████ | 906/1000 [03:48<00:28,  3.32it/s]"
     ]
    },
    {
     "data": {
      "application/vnd.jupyter.widget-view+json": {
       "model_id": "bcbe2034f620424c9dc5dd8a4a94c9ff",
       "version_major": 2,
       "version_minor": 0
      },
      "text/plain": [
       "  0%|          | 0/1000 [00:00<?, ?it/s]"
      ]
     },
     "metadata": {},
     "output_type": "display_data"
    },
    {
     "name": "stderr",
     "output_type": "stream",
     "text": [
      "\r",
      " 91%|█████████ | 907/1000 [03:48<00:27,  3.33it/s]"
     ]
    },
    {
     "data": {
      "application/vnd.jupyter.widget-view+json": {
       "model_id": "d6d52fe818714a279f632c6fd51dd9c9",
       "version_major": 2,
       "version_minor": 0
      },
      "text/plain": [
       "  0%|          | 0/1000 [00:00<?, ?it/s]"
      ]
     },
     "metadata": {},
     "output_type": "display_data"
    },
    {
     "name": "stderr",
     "output_type": "stream",
     "text": [
      "\r",
      " 91%|█████████ | 908/1000 [03:49<00:27,  3.38it/s]"
     ]
    },
    {
     "data": {
      "application/vnd.jupyter.widget-view+json": {
       "model_id": "53ea0632c6a54e72bcddf86c8051a12e",
       "version_major": 2,
       "version_minor": 0
      },
      "text/plain": [
       "  0%|          | 0/1000 [00:00<?, ?it/s]"
      ]
     },
     "metadata": {},
     "output_type": "display_data"
    },
    {
     "name": "stderr",
     "output_type": "stream",
     "text": [
      "\r",
      " 91%|█████████ | 909/1000 [03:49<00:26,  3.39it/s]"
     ]
    },
    {
     "data": {
      "application/vnd.jupyter.widget-view+json": {
       "model_id": "f3c095513cb4459da7fa6fdd71895006",
       "version_major": 2,
       "version_minor": 0
      },
      "text/plain": [
       "  0%|          | 0/1000 [00:00<?, ?it/s]"
      ]
     },
     "metadata": {},
     "output_type": "display_data"
    },
    {
     "name": "stderr",
     "output_type": "stream",
     "text": [
      "\r",
      " 91%|█████████ | 910/1000 [03:49<00:26,  3.40it/s]"
     ]
    },
    {
     "data": {
      "application/vnd.jupyter.widget-view+json": {
       "model_id": "36b828a23cf5480aa25458341a814e7e",
       "version_major": 2,
       "version_minor": 0
      },
      "text/plain": [
       "  0%|          | 0/1000 [00:00<?, ?it/s]"
      ]
     },
     "metadata": {},
     "output_type": "display_data"
    },
    {
     "name": "stderr",
     "output_type": "stream",
     "text": [
      "\r",
      " 91%|█████████ | 911/1000 [03:50<00:26,  3.39it/s]"
     ]
    },
    {
     "data": {
      "application/vnd.jupyter.widget-view+json": {
       "model_id": "12da5f85a3234048a26d2358c70f64e4",
       "version_major": 2,
       "version_minor": 0
      },
      "text/plain": [
       "  0%|          | 0/1000 [00:00<?, ?it/s]"
      ]
     },
     "metadata": {},
     "output_type": "display_data"
    },
    {
     "name": "stderr",
     "output_type": "stream",
     "text": [
      "\r",
      " 91%|█████████ | 912/1000 [03:50<00:25,  3.39it/s]"
     ]
    },
    {
     "data": {
      "application/vnd.jupyter.widget-view+json": {
       "model_id": "7e4b850fdf25467b8ad02c13753c7187",
       "version_major": 2,
       "version_minor": 0
      },
      "text/plain": [
       "  0%|          | 0/1000 [00:00<?, ?it/s]"
      ]
     },
     "metadata": {},
     "output_type": "display_data"
    },
    {
     "name": "stderr",
     "output_type": "stream",
     "text": [
      "\r",
      " 91%|█████████▏| 913/1000 [03:50<00:25,  3.44it/s]"
     ]
    },
    {
     "data": {
      "application/vnd.jupyter.widget-view+json": {
       "model_id": "d123f944ae374ea7a6d01e1755d69493",
       "version_major": 2,
       "version_minor": 0
      },
      "text/plain": [
       "  0%|          | 0/1000 [00:00<?, ?it/s]"
      ]
     },
     "metadata": {},
     "output_type": "display_data"
    },
    {
     "name": "stderr",
     "output_type": "stream",
     "text": [
      "\r",
      " 91%|█████████▏| 914/1000 [03:50<00:25,  3.36it/s]"
     ]
    },
    {
     "data": {
      "application/vnd.jupyter.widget-view+json": {
       "model_id": "81b5ec5e1fe64e1c8795aacefed89363",
       "version_major": 2,
       "version_minor": 0
      },
      "text/plain": [
       "  0%|          | 0/1000 [00:00<?, ?it/s]"
      ]
     },
     "metadata": {},
     "output_type": "display_data"
    },
    {
     "name": "stderr",
     "output_type": "stream",
     "text": [
      "\r",
      " 92%|█████████▏| 915/1000 [03:51<00:24,  3.46it/s]"
     ]
    },
    {
     "data": {
      "application/vnd.jupyter.widget-view+json": {
       "model_id": "bac59ff4e5954810a2698508b0a6ff72",
       "version_major": 2,
       "version_minor": 0
      },
      "text/plain": [
       "  0%|          | 0/1000 [00:00<?, ?it/s]"
      ]
     },
     "metadata": {},
     "output_type": "display_data"
    },
    {
     "name": "stderr",
     "output_type": "stream",
     "text": [
      "\r",
      " 92%|█████████▏| 916/1000 [03:51<00:24,  3.42it/s]"
     ]
    },
    {
     "data": {
      "application/vnd.jupyter.widget-view+json": {
       "model_id": "e99a9f1c59984ff78214e669fd2348be",
       "version_major": 2,
       "version_minor": 0
      },
      "text/plain": [
       "  0%|          | 0/1000 [00:00<?, ?it/s]"
      ]
     },
     "metadata": {},
     "output_type": "display_data"
    },
    {
     "name": "stderr",
     "output_type": "stream",
     "text": [
      "\r",
      " 92%|█████████▏| 917/1000 [03:51<00:24,  3.42it/s]"
     ]
    },
    {
     "data": {
      "application/vnd.jupyter.widget-view+json": {
       "model_id": "5927b62b983943e3adc6502562f2db0a",
       "version_major": 2,
       "version_minor": 0
      },
      "text/plain": [
       "  0%|          | 0/1000 [00:00<?, ?it/s]"
      ]
     },
     "metadata": {},
     "output_type": "display_data"
    },
    {
     "name": "stderr",
     "output_type": "stream",
     "text": [
      "\r",
      " 92%|█████████▏| 918/1000 [03:52<00:24,  3.39it/s]"
     ]
    },
    {
     "data": {
      "application/vnd.jupyter.widget-view+json": {
       "model_id": "7ceeb1254c564649882e7d9bab6feb45",
       "version_major": 2,
       "version_minor": 0
      },
      "text/plain": [
       "  0%|          | 0/1000 [00:00<?, ?it/s]"
      ]
     },
     "metadata": {},
     "output_type": "display_data"
    },
    {
     "name": "stderr",
     "output_type": "stream",
     "text": [
      "\r",
      " 92%|█████████▏| 919/1000 [03:52<00:23,  3.38it/s]"
     ]
    },
    {
     "data": {
      "application/vnd.jupyter.widget-view+json": {
       "model_id": "7e6992c247094e5f9b2ff0c7bf562b8f",
       "version_major": 2,
       "version_minor": 0
      },
      "text/plain": [
       "  0%|          | 0/1000 [00:00<?, ?it/s]"
      ]
     },
     "metadata": {},
     "output_type": "display_data"
    },
    {
     "name": "stderr",
     "output_type": "stream",
     "text": [
      "\r",
      " 92%|█████████▏| 920/1000 [03:52<00:23,  3.45it/s]"
     ]
    },
    {
     "data": {
      "application/vnd.jupyter.widget-view+json": {
       "model_id": "51bfd89dde2644bc9e6cd3ee0fe6d813",
       "version_major": 2,
       "version_minor": 0
      },
      "text/plain": [
       "  0%|          | 0/1000 [00:00<?, ?it/s]"
      ]
     },
     "metadata": {},
     "output_type": "display_data"
    },
    {
     "name": "stderr",
     "output_type": "stream",
     "text": [
      "\r",
      " 92%|█████████▏| 921/1000 [03:52<00:23,  3.42it/s]"
     ]
    },
    {
     "data": {
      "application/vnd.jupyter.widget-view+json": {
       "model_id": "8b1018329cfb43d88b4f29b6c7d74a34",
       "version_major": 2,
       "version_minor": 0
      },
      "text/plain": [
       "  0%|          | 0/1000 [00:00<?, ?it/s]"
      ]
     },
     "metadata": {},
     "output_type": "display_data"
    },
    {
     "name": "stderr",
     "output_type": "stream",
     "text": [
      "\r",
      " 92%|█████████▏| 922/1000 [03:53<00:22,  3.51it/s]"
     ]
    },
    {
     "data": {
      "application/vnd.jupyter.widget-view+json": {
       "model_id": "bc26ea3e2aea461e91c773feb0258c40",
       "version_major": 2,
       "version_minor": 0
      },
      "text/plain": [
       "  0%|          | 0/1000 [00:00<?, ?it/s]"
      ]
     },
     "metadata": {},
     "output_type": "display_data"
    },
    {
     "name": "stderr",
     "output_type": "stream",
     "text": [
      "\r",
      " 92%|█████████▏| 923/1000 [03:53<00:21,  3.65it/s]"
     ]
    },
    {
     "data": {
      "application/vnd.jupyter.widget-view+json": {
       "model_id": "3fd008e5e84e45cfac66a918d5348e68",
       "version_major": 2,
       "version_minor": 0
      },
      "text/plain": [
       "  0%|          | 0/1000 [00:00<?, ?it/s]"
      ]
     },
     "metadata": {},
     "output_type": "display_data"
    },
    {
     "name": "stderr",
     "output_type": "stream",
     "text": [
      "\r",
      " 92%|█████████▏| 924/1000 [03:53<00:20,  3.77it/s]"
     ]
    },
    {
     "data": {
      "application/vnd.jupyter.widget-view+json": {
       "model_id": "4771535a395d472dbd67a529df65361d",
       "version_major": 2,
       "version_minor": 0
      },
      "text/plain": [
       "  0%|          | 0/1000 [00:00<?, ?it/s]"
      ]
     },
     "metadata": {},
     "output_type": "display_data"
    },
    {
     "name": "stderr",
     "output_type": "stream",
     "text": [
      "\r",
      " 92%|█████████▎| 925/1000 [03:54<00:19,  3.82it/s]"
     ]
    },
    {
     "data": {
      "application/vnd.jupyter.widget-view+json": {
       "model_id": "1aef8fac623947748af8e52e4e337c41",
       "version_major": 2,
       "version_minor": 0
      },
      "text/plain": [
       "  0%|          | 0/1000 [00:00<?, ?it/s]"
      ]
     },
     "metadata": {},
     "output_type": "display_data"
    },
    {
     "name": "stderr",
     "output_type": "stream",
     "text": [
      "\r",
      " 93%|█████████▎| 926/1000 [03:54<00:19,  3.85it/s]"
     ]
    },
    {
     "data": {
      "application/vnd.jupyter.widget-view+json": {
       "model_id": "8d98e22ec96e4d20bb3ce275cf7762ee",
       "version_major": 2,
       "version_minor": 0
      },
      "text/plain": [
       "  0%|          | 0/1000 [00:00<?, ?it/s]"
      ]
     },
     "metadata": {},
     "output_type": "display_data"
    },
    {
     "name": "stderr",
     "output_type": "stream",
     "text": [
      "\r",
      " 93%|█████████▎| 927/1000 [03:54<00:19,  3.84it/s]"
     ]
    },
    {
     "data": {
      "application/vnd.jupyter.widget-view+json": {
       "model_id": "08936fcd824345b8a698356e48a6b68c",
       "version_major": 2,
       "version_minor": 0
      },
      "text/plain": [
       "  0%|          | 0/1000 [00:00<?, ?it/s]"
      ]
     },
     "metadata": {},
     "output_type": "display_data"
    },
    {
     "name": "stderr",
     "output_type": "stream",
     "text": [
      "\r",
      " 93%|█████████▎| 928/1000 [03:54<00:18,  3.84it/s]"
     ]
    },
    {
     "data": {
      "application/vnd.jupyter.widget-view+json": {
       "model_id": "8b541ba4541d4f7fb76bdc12a89c6670",
       "version_major": 2,
       "version_minor": 0
      },
      "text/plain": [
       "  0%|          | 0/1000 [00:00<?, ?it/s]"
      ]
     },
     "metadata": {},
     "output_type": "display_data"
    },
    {
     "name": "stderr",
     "output_type": "stream",
     "text": [
      "\r",
      " 93%|█████████▎| 929/1000 [03:55<00:18,  3.85it/s]"
     ]
    },
    {
     "data": {
      "application/vnd.jupyter.widget-view+json": {
       "model_id": "43b6152d827d420b9efaf54ab19d78d1",
       "version_major": 2,
       "version_minor": 0
      },
      "text/plain": [
       "  0%|          | 0/1000 [00:00<?, ?it/s]"
      ]
     },
     "metadata": {},
     "output_type": "display_data"
    },
    {
     "name": "stderr",
     "output_type": "stream",
     "text": [
      "\r",
      " 93%|█████████▎| 930/1000 [03:55<00:18,  3.80it/s]"
     ]
    },
    {
     "data": {
      "application/vnd.jupyter.widget-view+json": {
       "model_id": "2d8582e41ec84702be8c1ee1565442bf",
       "version_major": 2,
       "version_minor": 0
      },
      "text/plain": [
       "  0%|          | 0/1000 [00:00<?, ?it/s]"
      ]
     },
     "metadata": {},
     "output_type": "display_data"
    },
    {
     "name": "stderr",
     "output_type": "stream",
     "text": [
      "\r",
      " 93%|█████████▎| 931/1000 [03:55<00:18,  3.74it/s]"
     ]
    },
    {
     "data": {
      "application/vnd.jupyter.widget-view+json": {
       "model_id": "d3b72ae183b7486c8a4a6cee07dc060d",
       "version_major": 2,
       "version_minor": 0
      },
      "text/plain": [
       "  0%|          | 0/1000 [00:00<?, ?it/s]"
      ]
     },
     "metadata": {},
     "output_type": "display_data"
    },
    {
     "name": "stderr",
     "output_type": "stream",
     "text": [
      "\r",
      " 93%|█████████▎| 932/1000 [03:55<00:18,  3.65it/s]"
     ]
    },
    {
     "data": {
      "application/vnd.jupyter.widget-view+json": {
       "model_id": "d1df47ef791f4bd2b0df7a87d905d817",
       "version_major": 2,
       "version_minor": 0
      },
      "text/plain": [
       "  0%|          | 0/1000 [00:00<?, ?it/s]"
      ]
     },
     "metadata": {},
     "output_type": "display_data"
    },
    {
     "name": "stderr",
     "output_type": "stream",
     "text": [
      "\r",
      " 93%|█████████▎| 933/1000 [03:56<00:18,  3.60it/s]"
     ]
    },
    {
     "data": {
      "application/vnd.jupyter.widget-view+json": {
       "model_id": "3d49cddb7d254410af9384ac170d7183",
       "version_major": 2,
       "version_minor": 0
      },
      "text/plain": [
       "  0%|          | 0/1000 [00:00<?, ?it/s]"
      ]
     },
     "metadata": {},
     "output_type": "display_data"
    },
    {
     "name": "stderr",
     "output_type": "stream",
     "text": [
      "\r",
      " 93%|█████████▎| 934/1000 [03:56<00:19,  3.42it/s]"
     ]
    },
    {
     "data": {
      "application/vnd.jupyter.widget-view+json": {
       "model_id": "e35d416ddb264742aba379303872d63c",
       "version_major": 2,
       "version_minor": 0
      },
      "text/plain": [
       "  0%|          | 0/1000 [00:00<?, ?it/s]"
      ]
     },
     "metadata": {},
     "output_type": "display_data"
    },
    {
     "name": "stderr",
     "output_type": "stream",
     "text": [
      "\r",
      " 94%|█████████▎| 935/1000 [03:56<00:19,  3.32it/s]"
     ]
    },
    {
     "data": {
      "application/vnd.jupyter.widget-view+json": {
       "model_id": "9a59317a6a6241a5b41e57ffa79d9078",
       "version_major": 2,
       "version_minor": 0
      },
      "text/plain": [
       "  0%|          | 0/1000 [00:00<?, ?it/s]"
      ]
     },
     "metadata": {},
     "output_type": "display_data"
    },
    {
     "name": "stderr",
     "output_type": "stream",
     "text": [
      "\r",
      " 94%|█████████▎| 936/1000 [03:57<00:19,  3.37it/s]"
     ]
    },
    {
     "data": {
      "application/vnd.jupyter.widget-view+json": {
       "model_id": "cc8ee080448747f494a6550a06c5552a",
       "version_major": 2,
       "version_minor": 0
      },
      "text/plain": [
       "  0%|          | 0/1000 [00:00<?, ?it/s]"
      ]
     },
     "metadata": {},
     "output_type": "display_data"
    },
    {
     "name": "stderr",
     "output_type": "stream",
     "text": [
      "\r",
      " 94%|█████████▎| 937/1000 [03:57<00:18,  3.32it/s]"
     ]
    },
    {
     "data": {
      "application/vnd.jupyter.widget-view+json": {
       "model_id": "9809128e75334fd1b72ce9325ed52251",
       "version_major": 2,
       "version_minor": 0
      },
      "text/plain": [
       "  0%|          | 0/1000 [00:00<?, ?it/s]"
      ]
     },
     "metadata": {},
     "output_type": "display_data"
    },
    {
     "name": "stderr",
     "output_type": "stream",
     "text": [
      "\r",
      " 94%|█████████▍| 938/1000 [03:57<00:18,  3.31it/s]"
     ]
    },
    {
     "data": {
      "application/vnd.jupyter.widget-view+json": {
       "model_id": "f5e83a8d26064da291765e5f224eaa9b",
       "version_major": 2,
       "version_minor": 0
      },
      "text/plain": [
       "  0%|          | 0/1000 [00:00<?, ?it/s]"
      ]
     },
     "metadata": {},
     "output_type": "display_data"
    },
    {
     "name": "stderr",
     "output_type": "stream",
     "text": [
      "\r",
      " 94%|█████████▍| 939/1000 [03:58<00:19,  3.19it/s]"
     ]
    },
    {
     "data": {
      "application/vnd.jupyter.widget-view+json": {
       "model_id": "2459824e92f74c18b87e6f7510358df4",
       "version_major": 2,
       "version_minor": 0
      },
      "text/plain": [
       "  0%|          | 0/1000 [00:00<?, ?it/s]"
      ]
     },
     "metadata": {},
     "output_type": "display_data"
    },
    {
     "name": "stderr",
     "output_type": "stream",
     "text": [
      "\r",
      " 94%|█████████▍| 940/1000 [03:58<00:18,  3.21it/s]"
     ]
    },
    {
     "data": {
      "application/vnd.jupyter.widget-view+json": {
       "model_id": "27164914838440f297042d67fd2042d6",
       "version_major": 2,
       "version_minor": 0
      },
      "text/plain": [
       "  0%|          | 0/1000 [00:00<?, ?it/s]"
      ]
     },
     "metadata": {},
     "output_type": "display_data"
    },
    {
     "name": "stderr",
     "output_type": "stream",
     "text": [
      "\r",
      " 94%|█████████▍| 941/1000 [03:58<00:18,  3.20it/s]"
     ]
    },
    {
     "data": {
      "application/vnd.jupyter.widget-view+json": {
       "model_id": "6456b23720e64e8c94a026ac7c2d695c",
       "version_major": 2,
       "version_minor": 0
      },
      "text/plain": [
       "  0%|          | 0/1000 [00:00<?, ?it/s]"
      ]
     },
     "metadata": {},
     "output_type": "display_data"
    },
    {
     "name": "stderr",
     "output_type": "stream",
     "text": [
      "\r",
      " 94%|█████████▍| 942/1000 [03:59<00:18,  3.18it/s]"
     ]
    },
    {
     "data": {
      "application/vnd.jupyter.widget-view+json": {
       "model_id": "7cd3edaa3330473db7ab62e0100cb00c",
       "version_major": 2,
       "version_minor": 0
      },
      "text/plain": [
       "  0%|          | 0/1000 [00:00<?, ?it/s]"
      ]
     },
     "metadata": {},
     "output_type": "display_data"
    },
    {
     "name": "stderr",
     "output_type": "stream",
     "text": [
      "\r",
      " 94%|█████████▍| 943/1000 [03:59<00:17,  3.21it/s]"
     ]
    },
    {
     "data": {
      "application/vnd.jupyter.widget-view+json": {
       "model_id": "654653118a9a48a19b954ed00501c831",
       "version_major": 2,
       "version_minor": 0
      },
      "text/plain": [
       "  0%|          | 0/1000 [00:00<?, ?it/s]"
      ]
     },
     "metadata": {},
     "output_type": "display_data"
    },
    {
     "name": "stderr",
     "output_type": "stream",
     "text": [
      "\r",
      " 94%|█████████▍| 944/1000 [03:59<00:17,  3.23it/s]"
     ]
    },
    {
     "data": {
      "application/vnd.jupyter.widget-view+json": {
       "model_id": "9eb0d4105f9c4330b62dba02f7270645",
       "version_major": 2,
       "version_minor": 0
      },
      "text/plain": [
       "  0%|          | 0/1000 [00:00<?, ?it/s]"
      ]
     },
     "metadata": {},
     "output_type": "display_data"
    },
    {
     "name": "stderr",
     "output_type": "stream",
     "text": [
      "\r",
      " 94%|█████████▍| 945/1000 [03:59<00:16,  3.30it/s]"
     ]
    },
    {
     "data": {
      "application/vnd.jupyter.widget-view+json": {
       "model_id": "f7abc2ff5b864d11a11af568ee3543f2",
       "version_major": 2,
       "version_minor": 0
      },
      "text/plain": [
       "  0%|          | 0/1000 [00:00<?, ?it/s]"
      ]
     },
     "metadata": {},
     "output_type": "display_data"
    },
    {
     "name": "stderr",
     "output_type": "stream",
     "text": [
      "\r",
      " 95%|█████████▍| 946/1000 [04:00<00:16,  3.30it/s]"
     ]
    },
    {
     "data": {
      "application/vnd.jupyter.widget-view+json": {
       "model_id": "106a30c8f3534b07869b90f9134473af",
       "version_major": 2,
       "version_minor": 0
      },
      "text/plain": [
       "  0%|          | 0/1000 [00:00<?, ?it/s]"
      ]
     },
     "metadata": {},
     "output_type": "display_data"
    },
    {
     "name": "stderr",
     "output_type": "stream",
     "text": [
      "\r",
      " 95%|█████████▍| 947/1000 [04:00<00:16,  3.22it/s]"
     ]
    },
    {
     "data": {
      "application/vnd.jupyter.widget-view+json": {
       "model_id": "13a19a7e6f894e1c8d71fc0148a89a03",
       "version_major": 2,
       "version_minor": 0
      },
      "text/plain": [
       "  0%|          | 0/1000 [00:00<?, ?it/s]"
      ]
     },
     "metadata": {},
     "output_type": "display_data"
    },
    {
     "name": "stderr",
     "output_type": "stream",
     "text": [
      "\r",
      " 95%|█████████▍| 948/1000 [04:00<00:15,  3.28it/s]"
     ]
    },
    {
     "data": {
      "application/vnd.jupyter.widget-view+json": {
       "model_id": "fb3e1fb749cf44ed816fce0a5f894fd0",
       "version_major": 2,
       "version_minor": 0
      },
      "text/plain": [
       "  0%|          | 0/1000 [00:00<?, ?it/s]"
      ]
     },
     "metadata": {},
     "output_type": "display_data"
    },
    {
     "name": "stderr",
     "output_type": "stream",
     "text": [
      "\r",
      " 95%|█████████▍| 949/1000 [04:01<00:15,  3.23it/s]"
     ]
    },
    {
     "data": {
      "application/vnd.jupyter.widget-view+json": {
       "model_id": "417cd891dcc645198cde7ebff8029dad",
       "version_major": 2,
       "version_minor": 0
      },
      "text/plain": [
       "  0%|          | 0/1000 [00:00<?, ?it/s]"
      ]
     },
     "metadata": {},
     "output_type": "display_data"
    },
    {
     "name": "stderr",
     "output_type": "stream",
     "text": [
      "\r",
      " 95%|█████████▌| 950/1000 [04:01<00:15,  3.23it/s]"
     ]
    },
    {
     "data": {
      "application/vnd.jupyter.widget-view+json": {
       "model_id": "6c6f957f905f470d81a720cf8e2030ce",
       "version_major": 2,
       "version_minor": 0
      },
      "text/plain": [
       "  0%|          | 0/1000 [00:00<?, ?it/s]"
      ]
     },
     "metadata": {},
     "output_type": "display_data"
    },
    {
     "name": "stderr",
     "output_type": "stream",
     "text": [
      "\r",
      " 95%|█████████▌| 951/1000 [04:01<00:14,  3.30it/s]"
     ]
    },
    {
     "data": {
      "application/vnd.jupyter.widget-view+json": {
       "model_id": "ebee12b91443486199255369c1b2f871",
       "version_major": 2,
       "version_minor": 0
      },
      "text/plain": [
       "  0%|          | 0/1000 [00:00<?, ?it/s]"
      ]
     },
     "metadata": {},
     "output_type": "display_data"
    },
    {
     "name": "stderr",
     "output_type": "stream",
     "text": [
      "\r",
      " 95%|█████████▌| 952/1000 [04:02<00:14,  3.32it/s]"
     ]
    },
    {
     "data": {
      "application/vnd.jupyter.widget-view+json": {
       "model_id": "2e628637e6b94ec48f16e88adc7d332b",
       "version_major": 2,
       "version_minor": 0
      },
      "text/plain": [
       "  0%|          | 0/1000 [00:00<?, ?it/s]"
      ]
     },
     "metadata": {},
     "output_type": "display_data"
    },
    {
     "name": "stderr",
     "output_type": "stream",
     "text": [
      "\r",
      " 95%|█████████▌| 953/1000 [04:02<00:14,  3.35it/s]"
     ]
    },
    {
     "data": {
      "application/vnd.jupyter.widget-view+json": {
       "model_id": "382458c7d1ac48589fb24a4064462299",
       "version_major": 2,
       "version_minor": 0
      },
      "text/plain": [
       "  0%|          | 0/1000 [00:00<?, ?it/s]"
      ]
     },
     "metadata": {},
     "output_type": "display_data"
    },
    {
     "name": "stderr",
     "output_type": "stream",
     "text": [
      "\r",
      " 95%|█████████▌| 954/1000 [04:02<00:13,  3.39it/s]"
     ]
    },
    {
     "data": {
      "application/vnd.jupyter.widget-view+json": {
       "model_id": "524ef6a7fd5e41a19e15a63679bb0ec4",
       "version_major": 2,
       "version_minor": 0
      },
      "text/plain": [
       "  0%|          | 0/1000 [00:00<?, ?it/s]"
      ]
     },
     "metadata": {},
     "output_type": "display_data"
    },
    {
     "name": "stderr",
     "output_type": "stream",
     "text": [
      "\r",
      " 96%|█████████▌| 955/1000 [04:02<00:13,  3.30it/s]"
     ]
    },
    {
     "data": {
      "application/vnd.jupyter.widget-view+json": {
       "model_id": "55e4a373d3f340a295a3468282e784bf",
       "version_major": 2,
       "version_minor": 0
      },
      "text/plain": [
       "  0%|          | 0/1000 [00:00<?, ?it/s]"
      ]
     },
     "metadata": {},
     "output_type": "display_data"
    },
    {
     "name": "stderr",
     "output_type": "stream",
     "text": [
      "\r",
      " 96%|█████████▌| 956/1000 [04:03<00:13,  3.30it/s]"
     ]
    },
    {
     "data": {
      "application/vnd.jupyter.widget-view+json": {
       "model_id": "91aee7569a7944848912a5562076a9b8",
       "version_major": 2,
       "version_minor": 0
      },
      "text/plain": [
       "  0%|          | 0/1000 [00:00<?, ?it/s]"
      ]
     },
     "metadata": {},
     "output_type": "display_data"
    },
    {
     "name": "stderr",
     "output_type": "stream",
     "text": [
      "\r",
      " 96%|█████████▌| 957/1000 [04:03<00:13,  3.25it/s]"
     ]
    },
    {
     "data": {
      "application/vnd.jupyter.widget-view+json": {
       "model_id": "0407b7f7caa24019b0c22548b5db6296",
       "version_major": 2,
       "version_minor": 0
      },
      "text/plain": [
       "  0%|          | 0/1000 [00:00<?, ?it/s]"
      ]
     },
     "metadata": {},
     "output_type": "display_data"
    },
    {
     "name": "stderr",
     "output_type": "stream",
     "text": [
      "\r",
      " 96%|█████████▌| 958/1000 [04:03<00:12,  3.33it/s]"
     ]
    },
    {
     "data": {
      "application/vnd.jupyter.widget-view+json": {
       "model_id": "97e652b710ad4c4ca2e885c6914b0e60",
       "version_major": 2,
       "version_minor": 0
      },
      "text/plain": [
       "  0%|          | 0/1000 [00:00<?, ?it/s]"
      ]
     },
     "metadata": {},
     "output_type": "display_data"
    },
    {
     "name": "stderr",
     "output_type": "stream",
     "text": [
      "\r",
      " 96%|█████████▌| 959/1000 [04:04<00:12,  3.38it/s]"
     ]
    },
    {
     "data": {
      "application/vnd.jupyter.widget-view+json": {
       "model_id": "af4077ed28c84b358a10db963271327c",
       "version_major": 2,
       "version_minor": 0
      },
      "text/plain": [
       "  0%|          | 0/1000 [00:00<?, ?it/s]"
      ]
     },
     "metadata": {},
     "output_type": "display_data"
    },
    {
     "name": "stderr",
     "output_type": "stream",
     "text": [
      "\r",
      " 96%|█████████▌| 960/1000 [04:04<00:12,  3.32it/s]"
     ]
    },
    {
     "data": {
      "application/vnd.jupyter.widget-view+json": {
       "model_id": "25d293d6e5b84a95a0d84436e666a028",
       "version_major": 2,
       "version_minor": 0
      },
      "text/plain": [
       "  0%|          | 0/1000 [00:00<?, ?it/s]"
      ]
     },
     "metadata": {},
     "output_type": "display_data"
    },
    {
     "name": "stderr",
     "output_type": "stream",
     "text": [
      "\r",
      " 96%|█████████▌| 961/1000 [04:04<00:11,  3.41it/s]"
     ]
    },
    {
     "data": {
      "application/vnd.jupyter.widget-view+json": {
       "model_id": "2716b8467b994d95b2a32548cb2bccee",
       "version_major": 2,
       "version_minor": 0
      },
      "text/plain": [
       "  0%|          | 0/1000 [00:00<?, ?it/s]"
      ]
     },
     "metadata": {},
     "output_type": "display_data"
    },
    {
     "name": "stderr",
     "output_type": "stream",
     "text": [
      "\r",
      " 96%|█████████▌| 962/1000 [04:05<00:11,  3.28it/s]"
     ]
    },
    {
     "data": {
      "application/vnd.jupyter.widget-view+json": {
       "model_id": "2329cb79a4f34a5995f9743848e9da2f",
       "version_major": 2,
       "version_minor": 0
      },
      "text/plain": [
       "  0%|          | 0/1000 [00:00<?, ?it/s]"
      ]
     },
     "metadata": {},
     "output_type": "display_data"
    },
    {
     "name": "stderr",
     "output_type": "stream",
     "text": [
      "\r",
      " 96%|█████████▋| 963/1000 [04:05<00:11,  3.27it/s]"
     ]
    },
    {
     "data": {
      "application/vnd.jupyter.widget-view+json": {
       "model_id": "29c0644f83884437b5aebecbe6287c72",
       "version_major": 2,
       "version_minor": 0
      },
      "text/plain": [
       "  0%|          | 0/1000 [00:00<?, ?it/s]"
      ]
     },
     "metadata": {},
     "output_type": "display_data"
    },
    {
     "name": "stderr",
     "output_type": "stream",
     "text": [
      "\r",
      " 96%|█████████▋| 964/1000 [04:05<00:10,  3.34it/s]"
     ]
    },
    {
     "data": {
      "application/vnd.jupyter.widget-view+json": {
       "model_id": "f0b9ea2dbfa6401b8dc262b5d5d17cac",
       "version_major": 2,
       "version_minor": 0
      },
      "text/plain": [
       "  0%|          | 0/1000 [00:00<?, ?it/s]"
      ]
     },
     "metadata": {},
     "output_type": "display_data"
    },
    {
     "name": "stderr",
     "output_type": "stream",
     "text": [
      "\r",
      " 96%|█████████▋| 965/1000 [04:05<00:10,  3.36it/s]"
     ]
    },
    {
     "data": {
      "application/vnd.jupyter.widget-view+json": {
       "model_id": "8931e52e824b4e4c8f5bef0594d681d9",
       "version_major": 2,
       "version_minor": 0
      },
      "text/plain": [
       "  0%|          | 0/1000 [00:00<?, ?it/s]"
      ]
     },
     "metadata": {},
     "output_type": "display_data"
    },
    {
     "name": "stderr",
     "output_type": "stream",
     "text": [
      "\r",
      " 97%|█████████▋| 966/1000 [04:06<00:10,  3.39it/s]"
     ]
    },
    {
     "data": {
      "application/vnd.jupyter.widget-view+json": {
       "model_id": "355b3b7424d14e1c991b52ab172d406f",
       "version_major": 2,
       "version_minor": 0
      },
      "text/plain": [
       "  0%|          | 0/1000 [00:00<?, ?it/s]"
      ]
     },
     "metadata": {},
     "output_type": "display_data"
    },
    {
     "name": "stderr",
     "output_type": "stream",
     "text": [
      "\r",
      " 97%|█████████▋| 967/1000 [04:06<00:09,  3.40it/s]"
     ]
    },
    {
     "data": {
      "application/vnd.jupyter.widget-view+json": {
       "model_id": "c26955f0871d47fa886cae253457ed41",
       "version_major": 2,
       "version_minor": 0
      },
      "text/plain": [
       "  0%|          | 0/1000 [00:00<?, ?it/s]"
      ]
     },
     "metadata": {},
     "output_type": "display_data"
    },
    {
     "name": "stderr",
     "output_type": "stream",
     "text": [
      "\r",
      " 97%|█████████▋| 968/1000 [04:06<00:10,  3.11it/s]"
     ]
    },
    {
     "data": {
      "application/vnd.jupyter.widget-view+json": {
       "model_id": "da50d17f0e234a9188ee604beb7dea3c",
       "version_major": 2,
       "version_minor": 0
      },
      "text/plain": [
       "  0%|          | 0/1000 [00:00<?, ?it/s]"
      ]
     },
     "metadata": {},
     "output_type": "display_data"
    },
    {
     "name": "stderr",
     "output_type": "stream",
     "text": [
      "\r",
      " 97%|█████████▋| 969/1000 [04:07<00:09,  3.23it/s]"
     ]
    },
    {
     "data": {
      "application/vnd.jupyter.widget-view+json": {
       "model_id": "6c868cd552f34559a08cfb3729056115",
       "version_major": 2,
       "version_minor": 0
      },
      "text/plain": [
       "  0%|          | 0/1000 [00:00<?, ?it/s]"
      ]
     },
     "metadata": {},
     "output_type": "display_data"
    },
    {
     "name": "stderr",
     "output_type": "stream",
     "text": [
      "\r",
      " 97%|█████████▋| 970/1000 [04:07<00:09,  3.23it/s]"
     ]
    },
    {
     "data": {
      "application/vnd.jupyter.widget-view+json": {
       "model_id": "9c1704c344314a82a65c2edf03a379d2",
       "version_major": 2,
       "version_minor": 0
      },
      "text/plain": [
       "  0%|          | 0/1000 [00:00<?, ?it/s]"
      ]
     },
     "metadata": {},
     "output_type": "display_data"
    },
    {
     "name": "stderr",
     "output_type": "stream",
     "text": [
      "\r",
      " 97%|█████████▋| 971/1000 [04:07<00:08,  3.24it/s]"
     ]
    },
    {
     "data": {
      "application/vnd.jupyter.widget-view+json": {
       "model_id": "9ca01a930d804c769038002ab236583e",
       "version_major": 2,
       "version_minor": 0
      },
      "text/plain": [
       "  0%|          | 0/1000 [00:00<?, ?it/s]"
      ]
     },
     "metadata": {},
     "output_type": "display_data"
    },
    {
     "name": "stderr",
     "output_type": "stream",
     "text": [
      "\r",
      " 97%|█████████▋| 972/1000 [04:08<00:08,  3.14it/s]"
     ]
    },
    {
     "data": {
      "application/vnd.jupyter.widget-view+json": {
       "model_id": "4d0a416ec75b4bd7b0436937ed761d1e",
       "version_major": 2,
       "version_minor": 0
      },
      "text/plain": [
       "  0%|          | 0/1000 [00:00<?, ?it/s]"
      ]
     },
     "metadata": {},
     "output_type": "display_data"
    },
    {
     "name": "stderr",
     "output_type": "stream",
     "text": [
      "\r",
      " 97%|█████████▋| 973/1000 [04:08<00:08,  3.22it/s]"
     ]
    },
    {
     "data": {
      "application/vnd.jupyter.widget-view+json": {
       "model_id": "8509bea6b17a4f0596fb51097bb2feb1",
       "version_major": 2,
       "version_minor": 0
      },
      "text/plain": [
       "  0%|          | 0/1000 [00:00<?, ?it/s]"
      ]
     },
     "metadata": {},
     "output_type": "display_data"
    },
    {
     "name": "stderr",
     "output_type": "stream",
     "text": [
      "\r",
      " 97%|█████████▋| 974/1000 [04:08<00:08,  3.22it/s]"
     ]
    },
    {
     "data": {
      "application/vnd.jupyter.widget-view+json": {
       "model_id": "1a84c5e9ffd84ba8ba0b4a767ffe8598",
       "version_major": 2,
       "version_minor": 0
      },
      "text/plain": [
       "  0%|          | 0/1000 [00:00<?, ?it/s]"
      ]
     },
     "metadata": {},
     "output_type": "display_data"
    },
    {
     "name": "stderr",
     "output_type": "stream",
     "text": [
      "\r",
      " 98%|█████████▊| 975/1000 [04:09<00:07,  3.23it/s]"
     ]
    },
    {
     "data": {
      "application/vnd.jupyter.widget-view+json": {
       "model_id": "2ba3c7a00a58437ab9e43dcc5d6253c9",
       "version_major": 2,
       "version_minor": 0
      },
      "text/plain": [
       "  0%|          | 0/1000 [00:00<?, ?it/s]"
      ]
     },
     "metadata": {},
     "output_type": "display_data"
    },
    {
     "name": "stderr",
     "output_type": "stream",
     "text": [
      "\r",
      " 98%|█████████▊| 976/1000 [04:09<00:07,  3.21it/s]"
     ]
    },
    {
     "data": {
      "application/vnd.jupyter.widget-view+json": {
       "model_id": "0bc529f3b86f41d592e1bcffc529481e",
       "version_major": 2,
       "version_minor": 0
      },
      "text/plain": [
       "  0%|          | 0/1000 [00:00<?, ?it/s]"
      ]
     },
     "metadata": {},
     "output_type": "display_data"
    },
    {
     "name": "stderr",
     "output_type": "stream",
     "text": [
      "\r",
      " 98%|█████████▊| 977/1000 [04:09<00:07,  3.23it/s]"
     ]
    },
    {
     "data": {
      "application/vnd.jupyter.widget-view+json": {
       "model_id": "9aada104c9314a62b17a5bcf40dcde4b",
       "version_major": 2,
       "version_minor": 0
      },
      "text/plain": [
       "  0%|          | 0/1000 [00:00<?, ?it/s]"
      ]
     },
     "metadata": {},
     "output_type": "display_data"
    },
    {
     "name": "stderr",
     "output_type": "stream",
     "text": [
      "\r",
      " 98%|█████████▊| 978/1000 [04:09<00:06,  3.32it/s]"
     ]
    },
    {
     "data": {
      "application/vnd.jupyter.widget-view+json": {
       "model_id": "043fb514b79e4f41b3570d5ef259f0fa",
       "version_major": 2,
       "version_minor": 0
      },
      "text/plain": [
       "  0%|          | 0/1000 [00:00<?, ?it/s]"
      ]
     },
     "metadata": {},
     "output_type": "display_data"
    },
    {
     "name": "stderr",
     "output_type": "stream",
     "text": [
      "\r",
      " 98%|█████████▊| 979/1000 [04:10<00:06,  3.34it/s]"
     ]
    },
    {
     "data": {
      "application/vnd.jupyter.widget-view+json": {
       "model_id": "b7f2fa6b0a574899a570268b2f9c91bf",
       "version_major": 2,
       "version_minor": 0
      },
      "text/plain": [
       "  0%|          | 0/1000 [00:00<?, ?it/s]"
      ]
     },
     "metadata": {},
     "output_type": "display_data"
    },
    {
     "name": "stderr",
     "output_type": "stream",
     "text": [
      "\r",
      " 98%|█████████▊| 980/1000 [04:10<00:05,  3.35it/s]"
     ]
    },
    {
     "data": {
      "application/vnd.jupyter.widget-view+json": {
       "model_id": "28d47fa563f34c8dbf9da213a89e3867",
       "version_major": 2,
       "version_minor": 0
      },
      "text/plain": [
       "  0%|          | 0/1000 [00:00<?, ?it/s]"
      ]
     },
     "metadata": {},
     "output_type": "display_data"
    },
    {
     "name": "stderr",
     "output_type": "stream",
     "text": [
      "\r",
      " 98%|█████████▊| 981/1000 [04:10<00:05,  3.31it/s]"
     ]
    },
    {
     "data": {
      "application/vnd.jupyter.widget-view+json": {
       "model_id": "0a1f74cbbf76418ab154ad72c47aa1a7",
       "version_major": 2,
       "version_minor": 0
      },
      "text/plain": [
       "  0%|          | 0/1000 [00:00<?, ?it/s]"
      ]
     },
     "metadata": {},
     "output_type": "display_data"
    },
    {
     "name": "stderr",
     "output_type": "stream",
     "text": [
      "\r",
      " 98%|█████████▊| 982/1000 [04:11<00:05,  3.34it/s]"
     ]
    },
    {
     "data": {
      "application/vnd.jupyter.widget-view+json": {
       "model_id": "f8a2fcbb4d8c41b895be41b24f03d1cd",
       "version_major": 2,
       "version_minor": 0
      },
      "text/plain": [
       "  0%|          | 0/1000 [00:00<?, ?it/s]"
      ]
     },
     "metadata": {},
     "output_type": "display_data"
    },
    {
     "name": "stderr",
     "output_type": "stream",
     "text": [
      "\r",
      " 98%|█████████▊| 983/1000 [04:11<00:04,  3.49it/s]"
     ]
    },
    {
     "data": {
      "application/vnd.jupyter.widget-view+json": {
       "model_id": "6a17a71d1cd3444baca75dbbaa07802b",
       "version_major": 2,
       "version_minor": 0
      },
      "text/plain": [
       "  0%|          | 0/1000 [00:00<?, ?it/s]"
      ]
     },
     "metadata": {},
     "output_type": "display_data"
    },
    {
     "name": "stderr",
     "output_type": "stream",
     "text": [
      "\r",
      " 98%|█████████▊| 984/1000 [04:11<00:04,  3.67it/s]"
     ]
    },
    {
     "data": {
      "application/vnd.jupyter.widget-view+json": {
       "model_id": "02011ccb166f4c37856743d63ba1398a",
       "version_major": 2,
       "version_minor": 0
      },
      "text/plain": [
       "  0%|          | 0/1000 [00:00<?, ?it/s]"
      ]
     },
     "metadata": {},
     "output_type": "display_data"
    },
    {
     "name": "stderr",
     "output_type": "stream",
     "text": [
      "\r",
      " 98%|█████████▊| 985/1000 [04:11<00:03,  3.78it/s]"
     ]
    },
    {
     "data": {
      "application/vnd.jupyter.widget-view+json": {
       "model_id": "071c00c8d4c24cbab248f8bafc0e2654",
       "version_major": 2,
       "version_minor": 0
      },
      "text/plain": [
       "  0%|          | 0/1000 [00:00<?, ?it/s]"
      ]
     },
     "metadata": {},
     "output_type": "display_data"
    },
    {
     "name": "stderr",
     "output_type": "stream",
     "text": [
      "\r",
      " 99%|█████████▊| 986/1000 [04:12<00:03,  3.87it/s]"
     ]
    },
    {
     "data": {
      "application/vnd.jupyter.widget-view+json": {
       "model_id": "1cd08ed1dd064e6c8c0e76d02a043f14",
       "version_major": 2,
       "version_minor": 0
      },
      "text/plain": [
       "  0%|          | 0/1000 [00:00<?, ?it/s]"
      ]
     },
     "metadata": {},
     "output_type": "display_data"
    },
    {
     "name": "stderr",
     "output_type": "stream",
     "text": [
      "\r",
      " 99%|█████████▊| 987/1000 [04:12<00:03,  3.94it/s]"
     ]
    },
    {
     "data": {
      "application/vnd.jupyter.widget-view+json": {
       "model_id": "0e2e8dd8422f4b68bf991e9364a40473",
       "version_major": 2,
       "version_minor": 0
      },
      "text/plain": [
       "  0%|          | 0/1000 [00:00<?, ?it/s]"
      ]
     },
     "metadata": {},
     "output_type": "display_data"
    },
    {
     "name": "stderr",
     "output_type": "stream",
     "text": [
      "\r",
      " 99%|█████████▉| 988/1000 [04:12<00:03,  3.97it/s]"
     ]
    },
    {
     "data": {
      "application/vnd.jupyter.widget-view+json": {
       "model_id": "f1f56aec0df34695925cf63c22696533",
       "version_major": 2,
       "version_minor": 0
      },
      "text/plain": [
       "  0%|          | 0/1000 [00:00<?, ?it/s]"
      ]
     },
     "metadata": {},
     "output_type": "display_data"
    },
    {
     "name": "stderr",
     "output_type": "stream",
     "text": [
      "\r",
      " 99%|█████████▉| 989/1000 [04:12<00:02,  3.88it/s]"
     ]
    },
    {
     "data": {
      "application/vnd.jupyter.widget-view+json": {
       "model_id": "efc28299e5a34bf7afb754977f6d9602",
       "version_major": 2,
       "version_minor": 0
      },
      "text/plain": [
       "  0%|          | 0/1000 [00:00<?, ?it/s]"
      ]
     },
     "metadata": {},
     "output_type": "display_data"
    },
    {
     "name": "stderr",
     "output_type": "stream",
     "text": [
      "\r",
      " 99%|█████████▉| 990/1000 [04:13<00:02,  3.98it/s]"
     ]
    },
    {
     "data": {
      "application/vnd.jupyter.widget-view+json": {
       "model_id": "080acf767ba4435e95c360d66f9a420b",
       "version_major": 2,
       "version_minor": 0
      },
      "text/plain": [
       "  0%|          | 0/1000 [00:00<?, ?it/s]"
      ]
     },
     "metadata": {},
     "output_type": "display_data"
    },
    {
     "name": "stderr",
     "output_type": "stream",
     "text": [
      "\r",
      " 99%|█████████▉| 991/1000 [04:13<00:02,  4.00it/s]"
     ]
    },
    {
     "data": {
      "application/vnd.jupyter.widget-view+json": {
       "model_id": "9c0d25c8cc3c4275af0349eda35f95a8",
       "version_major": 2,
       "version_minor": 0
      },
      "text/plain": [
       "  0%|          | 0/1000 [00:00<?, ?it/s]"
      ]
     },
     "metadata": {},
     "output_type": "display_data"
    },
    {
     "name": "stderr",
     "output_type": "stream",
     "text": [
      "\r",
      " 99%|█████████▉| 992/1000 [04:13<00:01,  4.08it/s]"
     ]
    },
    {
     "data": {
      "application/vnd.jupyter.widget-view+json": {
       "model_id": "3e092b36bc6c4394b93999d9fefb4cc8",
       "version_major": 2,
       "version_minor": 0
      },
      "text/plain": [
       "  0%|          | 0/1000 [00:00<?, ?it/s]"
      ]
     },
     "metadata": {},
     "output_type": "display_data"
    },
    {
     "name": "stderr",
     "output_type": "stream",
     "text": [
      "\r",
      " 99%|█████████▉| 993/1000 [04:13<00:01,  4.07it/s]"
     ]
    },
    {
     "data": {
      "application/vnd.jupyter.widget-view+json": {
       "model_id": "ae4e112567e049908f1e051da00613e5",
       "version_major": 2,
       "version_minor": 0
      },
      "text/plain": [
       "  0%|          | 0/1000 [00:00<?, ?it/s]"
      ]
     },
     "metadata": {},
     "output_type": "display_data"
    },
    {
     "name": "stderr",
     "output_type": "stream",
     "text": [
      "\r",
      " 99%|█████████▉| 994/1000 [04:14<00:01,  3.99it/s]"
     ]
    },
    {
     "data": {
      "application/vnd.jupyter.widget-view+json": {
       "model_id": "3aabe700d70a49778b40c328b8a493f5",
       "version_major": 2,
       "version_minor": 0
      },
      "text/plain": [
       "  0%|          | 0/1000 [00:00<?, ?it/s]"
      ]
     },
     "metadata": {},
     "output_type": "display_data"
    },
    {
     "name": "stderr",
     "output_type": "stream",
     "text": [
      "\r",
      "100%|█████████▉| 995/1000 [04:14<00:01,  3.88it/s]"
     ]
    },
    {
     "data": {
      "application/vnd.jupyter.widget-view+json": {
       "model_id": "cf8646e3c60d42deaf554b04ebbfde1f",
       "version_major": 2,
       "version_minor": 0
      },
      "text/plain": [
       "  0%|          | 0/1000 [00:00<?, ?it/s]"
      ]
     },
     "metadata": {},
     "output_type": "display_data"
    },
    {
     "name": "stderr",
     "output_type": "stream",
     "text": [
      "\r",
      "100%|█████████▉| 996/1000 [04:14<00:01,  3.93it/s]"
     ]
    },
    {
     "data": {
      "application/vnd.jupyter.widget-view+json": {
       "model_id": "15c2d992038a4a599756d02ce11dbb4b",
       "version_major": 2,
       "version_minor": 0
      },
      "text/plain": [
       "  0%|          | 0/1000 [00:00<?, ?it/s]"
      ]
     },
     "metadata": {},
     "output_type": "display_data"
    },
    {
     "name": "stderr",
     "output_type": "stream",
     "text": [
      "\r",
      "100%|█████████▉| 997/1000 [04:14<00:00,  3.86it/s]"
     ]
    },
    {
     "data": {
      "application/vnd.jupyter.widget-view+json": {
       "model_id": "8a2c882bc9ee4083b0bed191b3b5abea",
       "version_major": 2,
       "version_minor": 0
      },
      "text/plain": [
       "  0%|          | 0/1000 [00:00<?, ?it/s]"
      ]
     },
     "metadata": {},
     "output_type": "display_data"
    },
    {
     "name": "stderr",
     "output_type": "stream",
     "text": [
      "\r",
      "100%|█████████▉| 998/1000 [04:15<00:00,  3.86it/s]"
     ]
    },
    {
     "data": {
      "application/vnd.jupyter.widget-view+json": {
       "model_id": "466786d6b86d447884b6e1d5ccafbd80",
       "version_major": 2,
       "version_minor": 0
      },
      "text/plain": [
       "  0%|          | 0/1000 [00:00<?, ?it/s]"
      ]
     },
     "metadata": {},
     "output_type": "display_data"
    },
    {
     "name": "stderr",
     "output_type": "stream",
     "text": [
      "\r",
      "100%|█████████▉| 999/1000 [04:15<00:00,  3.85it/s]"
     ]
    },
    {
     "data": {
      "application/vnd.jupyter.widget-view+json": {
       "model_id": "79817f1c2aab4d40bbee9e576f6a4492",
       "version_major": 2,
       "version_minor": 0
      },
      "text/plain": [
       "  0%|          | 0/1000 [00:00<?, ?it/s]"
      ]
     },
     "metadata": {},
     "output_type": "display_data"
    },
    {
     "name": "stderr",
     "output_type": "stream",
     "text": [
      "100%|██████████| 1000/1000 [04:15<00:00,  3.91it/s]\n"
     ]
    }
   ],
   "source": [
    "from tqdm import tqdm\n",
    "\n",
    "lime_local_pred = []\n",
    "lime_local_exp = []\n",
    "lime_score = []\n",
    "for im in tqdm(sample_imgs):\n",
    "    exp = explainer.explain_instance(np.array(im), batch_predict)\n",
    "    lime_local_pred.append(exp.local_pred)\n",
    "    lime_local_exp.append(exp.local_exp)\n",
    "    lime_score.append(exp.score)\n"
   ]
  },
  {
   "cell_type": "code",
   "execution_count": 325,
   "metadata": {},
   "outputs": [
    {
     "data": {
      "text/plain": [
       "[{8: [(0, -0.07220951762953878)],\n",
       "  0: [(0, -0.005511463439006172)],\n",
       "  5: [(0, -0.00500354732365129)],\n",
       "  7: [(0, -0.010755673162732283)],\n",
       "  9: [(0, 0.1418792689865406)]},\n",
       " {4: [(0, -0.006382334297562624)],\n",
       "  1: [(0, -0.012722772038338515)],\n",
       "  2: [(0, -0.010333997232340561)],\n",
       "  6: [(0, -0.010215394197335878)],\n",
       "  0: [(0, 0.14169065019423177)]},\n",
       " {1: [(0, -0.002335238283652634)],\n",
       "  2: [(0, -0.0032795356654962407)],\n",
       "  3: [(0, 0.01054105125226314)],\n",
       "  6: [(0, 0.015184678627332691)],\n",
       "  0: [(0, 0.10964826700309052)]},\n",
       " {2: [(0, -0.010018115237096881)],\n",
       "  4: [(0, -0.005620503835559096)],\n",
       "  3: [(0, 0.002274811960478144)],\n",
       "  6: [(0, 0.0026818906443921778)],\n",
       "  0: [(0, 0.11243553322863419)]},\n",
       " {2: [(0, -0.00979251920802157)],\n",
       "  1: [(0, -0.011815708079309506)],\n",
       "  6: [(0, -0.0001744314092997794)],\n",
       "  3: [(0, 0.008748034855394606)],\n",
       "  0: [(0, 0.10395022700824766)]},\n",
       " {8: [(0, -0.0730062165429266)],\n",
       "  0: [(0, -0.005038716343878373)],\n",
       "  4: [(0, -0.006010366929931872)],\n",
       "  6: [(0, -0.009591960347011735)],\n",
       "  2: [(0, 0.12905962049887934)]},\n",
       " {4: [(0, -6.071065091322588e-08), (1, -4.577640545788623e-09)],\n",
       "  8: [(1, -0.0005768546906589501), (0, -1.501203566226126e-05)],\n",
       "  9: [(1, -0.04233381715819213), (0, 1.4160993373458485e-05)],\n",
       "  5: [(0, -0.004410765976977448), (1, -0.0035483686471342772)],\n",
       "  7: [(1, 0.046459104193013086), (0, 0.004411773569600641)]},\n",
       " {4: [(0, -0.0022071845844438983)],\n",
       "  0: [(0, -0.002537351581942479)],\n",
       "  2: [(0, -0.003993457290265149)],\n",
       "  6: [(0, 0.002917394472967414)],\n",
       "  8: [(0, 0.01666559281197836)]},\n",
       " {8: [(0, -0.12543762562768052)],\n",
       "  2: [(0, -0.004360507959173077)],\n",
       "  1: [(0, -0.003175986456338652)],\n",
       "  9: [(0, -0.0004081204362404768)],\n",
       "  5: [(0, 0.1467640926771397)]},\n",
       " {7: [(0, -0.0034067855568419418)],\n",
       "  2: [(0, -0.005783506902940697)],\n",
       "  1: [(0, -0.004553955679779713)],\n",
       "  9: [(0, -0.0006295847225887763)],\n",
       "  5: [(0, 0.14014229587853014)]},\n",
       " {2: [(0, -0.010539552675572649)],\n",
       "  1: [(0, -0.013069495664952857)],\n",
       "  3: [(0, -0.008019668358955038)],\n",
       "  6: [(0, -0.009182013779624357)],\n",
       "  0: [(0, 0.1380233437387557)]},\n",
       " {8: [(0, -0.07457671128322649)],\n",
       "  0: [(0, -0.005683470229946112)],\n",
       "  5: [(0, -0.0051644581678162915)],\n",
       "  7: [(0, -0.01116870801062844)],\n",
       "  9: [(0, 0.14652136902526194)]},\n",
       " {2: [(0, -0.0041071146308424055)],\n",
       "  8: [(0, -0.11814832275354961)],\n",
       "  9: [(0, -0.00038439245109138793)],\n",
       "  7: [(0, -0.0019201398712527888)],\n",
       "  5: [(0, 0.13823450872524365)]},\n",
       " {0: [(0, -0.44961932779688496), (1, 0.002352648915254692)],\n",
       "  8: [(0, -0.018724039983760675), (1, -0.00041923466700749014)],\n",
       "  9: [(1, -0.001703467375266567), (0, 0.000865893670482851)],\n",
       "  5: [(1, -0.48689961688675093), (0, 0.47195672399979727)],\n",
       "  7: [(0, 0.5152291772977894), (1, 0.4841675999882001)]},\n",
       " {4: [(0, -0.013932397938106397), (1, 6.106774124185261e-05)],\n",
       "  8: [(0, -0.09218473992664847), (1, -0.0005278490821193403)],\n",
       "  9: [(0, -1.1048657161668237e-06), (1, -1.9098046461452645e-07)],\n",
       "  5: [(1, -0.0011244862837582724), (0, -1.062016750133558e-05)],\n",
       "  7: [(0, 0.9875852382066398), (1, -0.0027931561924612173)]},\n",
       " {8: [(0, -0.07154917107091174)],\n",
       "  0: [(0, -0.005500116647579644)],\n",
       "  5: [(0, -0.004988266199719137)],\n",
       "  7: [(0, -0.010712261446635183)],\n",
       "  9: [(0, 0.1409656478899564)]},\n",
       " {2: [(0, -0.010317374970725074)],\n",
       "  0: [(0, -0.0053074198361208625)],\n",
       "  4: [(0, -0.006157689101157773)],\n",
       "  3: [(0, -0.006950394482452593)],\n",
       "  1: [(0, 0.12719584518230562)]},\n",
       " {1: [(0, -0.012650512178389289)],\n",
       "  2: [(0, -0.010158272512186067)],\n",
       "  3: [(0, -0.007758164001972114)],\n",
       "  6: [(0, -0.006432692298990054)],\n",
       "  0: [(0, 0.13113661434913945)]},\n",
       " {3: [(0, -0.006067534368531561)],\n",
       "  0: [(0, -0.002782317536106353)],\n",
       "  4: [(0, -9.314705346565865e-05)],\n",
       "  2: [(0, 0.034686734714737766)],\n",
       "  6: [(0, 0.07907134593824508)]},\n",
       " {3: [(0, -0.0007901300056555534)],\n",
       "  8: [(0, -0.11854417503204141)],\n",
       "  2: [(0, -0.0009554345333820977)],\n",
       "  6: [(0, 0.05928140416375516)],\n",
       "  4: [(0, 0.06924946753338262)]},\n",
       " {4: [(0, -0.006682695406891384)],\n",
       "  6: [(0, -0.01050535452309972)],\n",
       "  1: [(0, -0.01315298672104279)],\n",
       "  0: [(0, -0.005606056868159794)],\n",
       "  3: [(0, 0.13772498910962766)]},\n",
       " {6: [(0, -0.010302819962732006)],\n",
       "  0: [(0, -0.005436834435306534)],\n",
       "  3: [(0, -0.006677420247504228)],\n",
       "  4: [(0, -0.006206826099874488)],\n",
       "  1: [(0, 0.13068944718046005)]},\n",
       " {0: [(0, -0.005500739605929785)],\n",
       "  8: [(0, -0.07231714167234538)],\n",
       "  2: [(0, -0.009904092172155331)],\n",
       "  6: [(0, -0.008726570072491233)],\n",
       "  4: [(0, 0.13558719733464408)]},\n",
       " {5: [(0, -0.004737703316071338)],\n",
       "  2: [(0, -0.009824686839407756)],\n",
       "  0: [(0, -0.0052133785328192924)],\n",
       "  6: [(0, -0.009774148855420054)],\n",
       "  8: [(0, 0.0677840438777716)]},\n",
       " {8: [(0, -0.08757439784204868)],\n",
       "  0: [(0, -0.004504522653627918)],\n",
       "  6: [(0, 0.0009358898543360058)],\n",
       "  4: [(0, 0.04361953138615617)],\n",
       "  2: [(0, 0.07911142476768594)]},\n",
       " {2: [(0, -0.010650900906853325)],\n",
       "  1: [(0, -0.013176759982548532)],\n",
       "  6: [(0, -0.010260206829829734)],\n",
       "  4: [(0, 0.002438409201560884)],\n",
       "  3: [(0, 0.12887414287115162)]},\n",
       " {1: [(0, -0.012740148799173191)],\n",
       "  3: [(0, -0.008026952756950244)],\n",
       "  2: [(0, -0.010233476573711393)],\n",
       "  6: [(0, -0.0101230908525795)],\n",
       "  0: [(0, 0.1359242336854991)]},\n",
       " {8: [(0, -0.10614583912102035)],\n",
       "  0: [(0, -0.0030984846723581213)],\n",
       "  4: [(0, -0.00028694829111012334)],\n",
       "  6: [(0, -0.003510704360528791)],\n",
       "  2: [(0, 0.12740025977060676)]},\n",
       " {8: [(0, -0.07421910709549778)],\n",
       "  0: [(0, -0.005630338859615399)],\n",
       "  6: [(0, -0.007625016713518096)],\n",
       "  2: [(0, 0.044063070683878686)],\n",
       "  4: [(0, 0.08351267688607958)]},\n",
       " {0: [(0, -0.003694189902355025)],\n",
       "  8: [(0, -0.09132119149352205)],\n",
       "  2: [(0, 0.003318374591165346)],\n",
       "  6: [(0, 0.014372630564370985)],\n",
       "  4: [(0, 0.10291901154110927)]},\n",
       " {2: [(0, -0.004238072816750851)],\n",
       "  8: [(0, -0.12191556393732782)],\n",
       "  9: [(0, -0.00039666109326745894)],\n",
       "  7: [(0, -0.0019822483376421953)],\n",
       "  5: [(0, 0.1426431202207385)]},\n",
       " {8: [(0, -0.5647091420556739), (1, 0.0022214222819980024)],\n",
       "  6: [(0, -0.03343737851046675), (1, 0.00015131840451173891)],\n",
       "  0: [(0, -0.017552338004479598), (1, 0.00025791280106978484)],\n",
       "  1: [(0, -0.018242792265869563), (1, 0.0005518885269073535)],\n",
       "  3: [(0, 0.9272546356962573), (1, -0.004562041500885618)]},\n",
       " {0: [(0, -0.0048046043488514534)],\n",
       "  3: [(0, -0.007181705844363264)],\n",
       "  2: [(0, 0.005222087245196956)],\n",
       "  4: [(0, 0.0450745034207691)],\n",
       "  6: [(0, 0.0647817092484285)]},\n",
       " {3: [(0, -0.0014395762394883043)],\n",
       "  0: [(0, -0.0022852045793030694)],\n",
       "  2: [(0, -0.00399122133011771)],\n",
       "  4: [(0, 0.001918791214731194)],\n",
       "  6: [(0, 0.13261769932437248)]},\n",
       " {1: [(0, -0.0030697192006453673)],\n",
       "  2: [(0, -0.004206345906604311)],\n",
       "  3: [(0, -0.0014388415528817206)],\n",
       "  6: [(0, -0.004281863271500584)],\n",
       "  0: [(0, 0.1397814576243877)]},\n",
       " {9: [(1, -1.1033063004821186e-10),\n",
       "   (2, -1.0887435521151224e-10),\n",
       "   (0, 1.5361229557510726e-12)],\n",
       "  7: [(1, -9.188273304830893e-10),\n",
       "   (2, -9.066480621327117e-10),\n",
       "   (0, -4.213064831146217e-12)],\n",
       "  6: [(1, -5.723716715303355e-10),\n",
       "   (2, -4.947562075975546e-10),\n",
       "   (0, -1.2015479738773612e-11)],\n",
       "  4: [(1, -4.75267416618639e-11),\n",
       "   (2, -2.015742460040175e-11),\n",
       "   (0, -1.311884011361294e-11)],\n",
       "  8: [(0, 8.956615303237272e-11),\n",
       "   (1, 8.518071405405945e-11),\n",
       "   (2, 8.081015289649942e-11)]},\n",
       " {1: [(0, -0.010643873463534449)],\n",
       "  7: [(0, -0.007547748354677963)],\n",
       "  2: [(0, -0.010190157201816201)],\n",
       "  9: [(0, -0.0013941909110830241)],\n",
       "  5: [(0, 0.14122632808090982)]},\n",
       " {8: [(0, -0.07547158770725076)],\n",
       "  0: [(0, -0.005505669150916959)],\n",
       "  4: [(0, -0.005998225671755436)],\n",
       "  6: [(0, -0.009075826629533764)],\n",
       "  2: [(0, 0.13213058805050087)]},\n",
       " {0: [(0, -6.046088298420613e-16), (1, 2.85501615312065e-18)],\n",
       "  2: [(0, -3.1942095097965378e-15), (1, 1.5783857629848162e-17)],\n",
       "  4: [(0, -1.7443707070889207e-12), (1, 8.771960561065559e-15)],\n",
       "  3: [(0, -6.039730200015945e-15), (1, 3.0694118520466237e-17)],\n",
       "  1: [(0, 0.0), (1, 0.0)]},\n",
       " {3: [(0, -0.003582528228389966)],\n",
       "  0: [(0, -0.003017717485902113)],\n",
       "  2: [(0, 0.007484175300084958)],\n",
       "  4: [(0, 0.01563051244126053)],\n",
       "  6: [(0, 0.10188608355335876)]},\n",
       " {0: [(0, -0.005376795603203686)],\n",
       "  3: [(0, -0.007289396247543153)],\n",
       "  2: [(0, -0.008639059254247863)],\n",
       "  4: [(0, 0.004168923021316689)],\n",
       "  6: [(0, 0.12772827806531029)]},\n",
       " {0: [(0, -0.002288331305626957)],\n",
       "  8: [(0, -0.12002295768051766)],\n",
       "  5: [(0, -0.0004816489918172347)],\n",
       "  9: [(0, 0.006530734130116148)],\n",
       "  7: [(0, 0.13203976021852737)]},\n",
       " {8: [(0, -0.07005257644715171)],\n",
       "  0: [(0, -0.005387810512339957)],\n",
       "  5: [(0, -0.0048858052826687304)],\n",
       "  7: [(0, -0.010487642131145402)],\n",
       "  9: [(0, 0.1380393382891311)]},\n",
       " {0: [(0, -0.0022201775505681074)],\n",
       "  8: [(0, -0.11646129480393791)],\n",
       "  9: [(0, -0.0003775696819943944)],\n",
       "  7: [(0, -0.0018781047372436713)],\n",
       "  5: [(0, 0.1362447236913784)]},\n",
       " {8: [(0, -0.09936752219925436)],\n",
       "  1: [(0, -0.00883803351529155)],\n",
       "  7: [(0, -0.005962712461115077)],\n",
       "  5: [(0, -0.0029010584228719247)],\n",
       "  9: [(0, 0.14474569251352976)]},\n",
       " {8: [(0, -0.07302098397398803)],\n",
       "  0: [(0, -0.004530217012311231)],\n",
       "  4: [(0, 0.007390914614964647)],\n",
       "  6: [(0, 0.024463856456183902)],\n",
       "  2: [(0, 0.08503490531201693)]},\n",
       " {4: [(0, -8.631531914745773e-05), (1, 3.4756963115441084e-07)],\n",
       "  8: [(0, -0.9848166202062498), (1, 0.003806086590073126)],\n",
       "  9: [(0, -4.315518480341572e-06), (1, 4.420363961313031e-08)],\n",
       "  5: [(0, -4.419503399074205e-05), (1, 9.153526853527255e-07)],\n",
       "  7: [(0, 0.9881142099524018), (1, -0.003819499531423435)]},\n",
       " {6: [(0, -0.009821079826510336)],\n",
       "  1: [(0, -0.01230979030388184)],\n",
       "  4: [(0, -0.006235467344672275)],\n",
       "  0: [(0, -0.005199465389349398)],\n",
       "  3: [(0, 0.12883459374831094)]},\n",
       " {1: [(0, -0.012938638942290113)],\n",
       "  3: [(0, -0.008157104738227842)],\n",
       "  2: [(0, -0.010433274976814942)],\n",
       "  6: [(0, -0.010289056881922361)],\n",
       "  0: [(0, 0.1380443421418861)]},\n",
       " {2: [(0, -0.010189906661381063)],\n",
       "  0: [(0, -0.0054055576028860155)],\n",
       "  6: [(0, -0.010131101358470465)],\n",
       "  4: [(0, -0.006236027147960183)],\n",
       "  3: [(0, 0.13293136515476198)]},\n",
       " {4: [(0, -0.004136134892685124), (1, -4.237661858899487e-05)],\n",
       "  6: [(0, -0.024232168881173376), (1, 1.8714678304031216e-05)],\n",
       "  0: [(0, -0.12289227700337502), (1, 0.00042311690620475405)],\n",
       "  1: [(0, -0.01651857511510435), (1, -1.4752142506103564e-05)],\n",
       "  3: [(0, 0.16961846575794118), (1, -0.00033799619585853785)]},\n",
       " {8: [(0, -0.07231108519611146)],\n",
       "  6: [(0, -0.010276938041624314)],\n",
       "  0: [(0, -0.00549334328951168)],\n",
       "  1: [(0, -0.012733943321241803)],\n",
       "  3: [(0, 0.13494129543865005)]},\n",
       " {4: [(0, -6.865039371051135e-06), (1, -2.0002051229454574e-06)],\n",
       "  8: [(0, -0.9882436402234438), (1, 0.004063364275131448)],\n",
       "  9: [(0, -4.046979498912142e-07), (1, -1.6597212793566135e-07)],\n",
       "  5: [(0, -4.133488356336022e-06), (1, -1.7879560772131284e-06)],\n",
       "  7: [(0, 0.9885141669251745), (1, -0.004040566363279941)]},\n",
       " {8: [(0, -0.12084657483237447)],\n",
       "  0: [(0, -0.002960636974819623)],\n",
       "  4: [(0, 0.004438609794509522)],\n",
       "  6: [(0, 0.008166688742461136)],\n",
       "  2: [(0, 0.12284880001661472)]},\n",
       " {8: [(0, -0.11891822415026343)],\n",
       "  0: [(0, -0.0006939635748042565)],\n",
       "  6: [(0, 0.004291972276506627)],\n",
       "  4: [(0, 0.030369836760397395)],\n",
       "  2: [(0, 0.09225464338663648)]},\n",
       " {4: [(0, -0.0063124850978340565)],\n",
       "  3: [(0, -0.007879821051499807)],\n",
       "  2: [(0, -0.009985922406903812)],\n",
       "  6: [(0, 0.014059981300343388)],\n",
       "  0: [(0, 0.10955245848191765)]},\n",
       " {8: [(0, -0.07241394652220967)],\n",
       "  3: [(0, -0.0080528326475288)],\n",
       "  2: [(0, -0.009786287377034986)],\n",
       "  6: [(0, 0.020188637194279154)],\n",
       "  0: [(0, 0.10754744661095439)]},\n",
       " {2: [(0, -0.0022630660989930345), (1, 7.854471942087508e-06)],\n",
       "  0: [(0, -0.000400602526982706), (1, 3.6640286187680393e-06)],\n",
       "  4: [(0, -0.00793338597459865), (1, 2.6774842212655277e-05)],\n",
       "  6: [(0, -0.003914850367148648), (1, 2.7455755029467354e-05)],\n",
       "  8: [(0, 0.01655924937872227), (1, -7.295557119995095e-05)]},\n",
       " {8: [(0, -0.07108291208408621)],\n",
       "  6: [(0, -0.010232566308549042)],\n",
       "  0: [(0, -0.00547068872531441)],\n",
       "  1: [(0, -0.012526716014017105)],\n",
       "  3: [(0, 0.13374346835102024)]},\n",
       " {4: [(1, -0.010678556094688558), (0, 2.3130381340136776e-05)],\n",
       "  6: [(1, -0.010502006935411534), (0, 2.2294428761375332e-05)],\n",
       "  0: [(1, -0.13646119094585843), (0, 0.0004500638075161491)],\n",
       "  1: [(1, 0.0034046801165140677), (0, -0.000578799557312956)],\n",
       "  3: [(1, 0.9579466280471213), (0, -0.002914016617162111)]},\n",
       " {2: [(0, -0.010899010660900373)],\n",
       "  7: [(0, -0.009420158373665782)],\n",
       "  1: [(0, -0.012542399375995512)],\n",
       "  9: [(0, -0.0017261052659197052)],\n",
       "  5: [(0, 0.14216551974712358)]},\n",
       " {8: [(0, -0.07173082760297197)],\n",
       "  3: [(0, -0.007326378295347698)],\n",
       "  2: [(0, -0.009154371129684)],\n",
       "  6: [(0, 0.011814421320215448)],\n",
       "  0: [(0, 0.1134340723893125)]},\n",
       " {2: [(0, -0.004129036172824365)],\n",
       "  8: [(0, -0.11877893462582426)],\n",
       "  7: [(0, -0.0019313539096207928)],\n",
       "  9: [(0, -0.00038645544503222696)],\n",
       "  5: [(0, 0.138973314922138)]},\n",
       " {2: [(0, -0.009611531720697042)],\n",
       "  9: [(0, -0.0008246793469790739)],\n",
       "  8: [(0, -0.07333795897254974)],\n",
       "  7: [(0, -0.003646345100167208)],\n",
       "  5: [(0, 0.14509273260143907)]},\n",
       " {4: [(0, -0.006684739818456275)],\n",
       "  2: [(0, -0.01063483374756474)],\n",
       "  3: [(0, -0.006825500530631394)],\n",
       "  6: [(0, -0.006578263840973712)],\n",
       "  0: [(0, 0.13524085516662918)]},\n",
       " {8: [(0, -0.09242570655289971)],\n",
       "  0: [(0, -0.0035178729249855612)],\n",
       "  4: [(0, -0.0015391051798012282)],\n",
       "  6: [(0, -0.004585300165376775)],\n",
       "  2: [(0, 0.12688902360435628)]},\n",
       " {1: [(0, -0.012272400363874876)],\n",
       "  2: [(0, -0.010042915868087351)],\n",
       "  3: [(0, -0.007296696827215637)],\n",
       "  6: [(0, -0.009745535949413379)],\n",
       "  0: [(0, 0.13906485974951488)]},\n",
       " {1: [(0, -0.012306708062920961)],\n",
       "  2: [(0, -0.010289596423048053)],\n",
       "  3: [(0, -0.0010905442838618615)],\n",
       "  6: [(0, 0.005243972012645547)],\n",
       "  0: [(0, 0.11572539327501637)]},\n",
       " {3: [(0, -0.008209277957004144)],\n",
       "  8: [(0, -0.07246141703521848)],\n",
       "  2: [(0, -0.009621876190269345)],\n",
       "  6: [(0, 0.01787003688828174)],\n",
       "  4: [(0, 0.10881205846520929)]},\n",
       " {2: [(1, -1.051446512331158e-11), (0, -2.2836376010046863e-14)],\n",
       "  0: [(1, -1.5607276507504845e-13), (0, -3.196963616935654e-16)],\n",
       "  4: [(1, -2.946669049994856e-14), (0, -5.1537200563566773e-17)],\n",
       "  3: [(1, -3.3574080088850713e-10), (0, -2.4492658878332356e-12)],\n",
       "  1: [(0, 0.0), (1, 0.0)]},\n",
       " {6: [(0, -0.007596911918031593)],\n",
       "  8: [(0, -0.06443536148662192)],\n",
       "  0: [(0, 0.0006206043864436331)],\n",
       "  1: [(0, 0.009639516407236665)],\n",
       "  3: [(0, 0.09337964811734803)]},\n",
       " {2: [(1, -1.5268413846110797e-14), (0, 6.33358620207229e-17)],\n",
       "  0: [(1, -1.0525820484701007e-14), (0, 2.948309780253988e-17)],\n",
       "  3: [(1, -7.9871524838047e-12), (0, 2.994642307023884e-14)],\n",
       "  4: [(1, -9.853699168961952e-12), (0, 4.673222367278421e-14)],\n",
       "  1: [(0, 0.0), (1, 0.0)]},\n",
       " {3: [(0, -0.005984091315400345)],\n",
       "  4: [(0, -0.005901199656061629)],\n",
       "  2: [(0, -0.010574949640796614)],\n",
       "  0: [(0, 0.03684697726467586)],\n",
       "  6: [(0, 0.09462615468885051)]},\n",
       " {8: [(0, -0.07039922943232971)],\n",
       "  6: [(0, -0.010109760856066382)],\n",
       "  1: [(0, -0.012492212385883592)],\n",
       "  0: [(0, -0.005226836208441571)],\n",
       "  3: [(0, 0.13225850795708013)]},\n",
       " {0: [(0, -0.306019773234045), (1, 0.00126001699079989)],\n",
       "  2: [(0, -0.05079070549361892), (1, 0.00013124590726217082)],\n",
       "  4: [(0, -0.050537923078437776), (1, 0.00020701849652382415)],\n",
       "  3: [(0, -0.2454177093768651), (1, 0.0010567708561539282)],\n",
       "  1: [(0, 0.9136871392963483), (1, -0.003635998280219246)]},\n",
       " {8: [(0, -0.07140863139520054)],\n",
       "  2: [(0, -0.010014155718726582)],\n",
       "  6: [(0, -0.00901220072677419)],\n",
       "  3: [(0, -0.0017446507544166623)],\n",
       "  4: [(0, 0.12732927545306608)]},\n",
       " {0: [(0, -0.00338393474292084)],\n",
       "  2: [(0, -0.005118139768605485)],\n",
       "  3: [(0, 0.013003243282221357)],\n",
       "  6: [(0, 0.015157845494559388)],\n",
       "  4: [(0, 0.08284941023627927)]},\n",
       " {2: [(0, -0.007610787463251306)],\n",
       "  4: [(0, -5.077852350982269e-06)],\n",
       "  3: [(0, 0.0006057101811542402)],\n",
       "  6: [(0, 0.04658850119048807)],\n",
       "  0: [(0, 0.06666958547976339)]},\n",
       " {0: [(1, -0.08667892714479422), (0, 0.0003355066840311327)],\n",
       "  2: [(1, -0.10215266122734588), (0, 0.000355866702088669)],\n",
       "  4: [(1, -0.09499109411260515), (0, 0.00037835152462124767)],\n",
       "  3: [(1, -0.25270519966198507), (0, 0.0010340752235623992)],\n",
       "  1: [(1, 0.8770728706315285), (0, -0.0035157622862047305)]},\n",
       " {8: [(0, -0.0734763423098637)],\n",
       "  1: [(0, -0.013203941011778752)],\n",
       "  7: [(0, -0.010470130014066228)],\n",
       "  5: [(0, -0.004462607522693584)],\n",
       "  9: [(0, 0.1434183548256411)]},\n",
       " {2: [(0, -0.06182248340732523), (1, 0.0002464140660067377)],\n",
       "  0: [(0, -0.14714186253544337), (1, 0.0005375682374099683)],\n",
       "  3: [(0, -0.2631052135075641), (1, 0.0010171979667200647)],\n",
       "  4: [(0, -0.10900529687432634), (1, 0.00043952936719646727)],\n",
       "  1: [(0, 0.8843674247763373), (1, -0.003427197772281116)]},\n",
       " {4: [(1, -0.01084343320606515), (0, 4.482843403157222e-05)],\n",
       "  6: [(1, -0.027014592404213163), (0, 0.00010966986220133084)],\n",
       "  0: [(1, -0.031123420284235717), (0, 0.00015230471639131056)],\n",
       "  1: [(1, -0.19352240309493307), (0, 0.0009780433313966383)],\n",
       "  3: [(1, 0.43903361668153), (0, -0.001851480065973195)]},\n",
       " {2: [(0, -0.004288631459122148)],\n",
       "  8: [(0, -0.1233700159746045)],\n",
       "  1: [(0, -0.003123631293375082)],\n",
       "  9: [(0, -0.0004012386401106286)],\n",
       "  5: [(0, 0.1443448022510146)]},\n",
       " {4: [(0, -1.8621896976441109e-06), (1, -6.698172901011265e-08)],\n",
       "  8: [(0, -0.988820009365727), (1, 0.004013536217103321)],\n",
       "  9: [(1, -0.00033069927649386133), (0, 0.00012110714548379347)],\n",
       "  5: [(1, -0.015344850159968702), (0, 0.009673490421394962)],\n",
       "  7: [(0, 0.9791568735291742), (1, 0.011661491292838368)]},\n",
       " {2: [(0, -0.008618200653292581)],\n",
       "  0: [(0, -0.003841703716070028)],\n",
       "  7: [(0, -0.007184926962882839)],\n",
       "  5: [(0, -0.0034186154190289655)],\n",
       "  9: [(0, 0.14065145701300222)]},\n",
       " {6: [(0, -0.005177581837577072)],\n",
       "  5: [(0, -0.0011478748373601156)],\n",
       "  8: [(0, -0.11906946895327397)],\n",
       "  9: [(0, -0.00017757867076208096)],\n",
       "  7: [(0, 0.13833467406109293)]},\n",
       " {0: [(1, -2.712978306455864e-17), (0, -2.274132897276524e-17)],\n",
       "  2: [(1, -2.000484195729886e-18), (0, -1.6800990832247415e-18)],\n",
       "  4: [(1, -1.398157972376408e-17), (0, -1.1721199514843983e-17)],\n",
       "  3: [(1, -2.0234263012358925e-17), (0, -1.6977444396194475e-17)],\n",
       "  1: [(0, 0.0), (1, 0.0)]},\n",
       " {4: [(0, -5.875117289573384e-09), (1, 1.1376837019808961e-10)],\n",
       "  8: [(1, -5.226422710412944e-05), (0, -3.63959236330766e-06)],\n",
       "  9: [(1, -0.024311356919659483), (0, -1.597785135253987e-05)],\n",
       "  5: [(0, -0.003346521924505756), (1, -0.00032301595065385355)],\n",
       "  7: [(1, 0.02468657843085299), (0, 0.0033661223447680982)]},\n",
       " {1: [(0, -0.010123136095764752)],\n",
       "  0: [(0, -0.004066482853226428)],\n",
       "  5: [(0, -0.0036377332850085486)],\n",
       "  7: [(0, -0.007690649602201326)],\n",
       "  9: [(0, 0.13759104145165793)]},\n",
       " {8: [(0, -0.07332325178618598)],\n",
       "  0: [(0, -0.005210768004309577)],\n",
       "  5: [(0, -0.004167585566592493)],\n",
       "  7: [(0, -0.00823846302086646)],\n",
       "  9: [(0, 0.1349349142851469)]},\n",
       " {8: [(0, -0.12205074375311166)],\n",
       "  0: [(0, -0.0025652214858526774)],\n",
       "  5: [(0, -0.0014510231913241304)],\n",
       "  7: [(0, -0.0013317997889659313)],\n",
       "  9: [(0, 0.1457986326991584)]},\n",
       " {5: [(1, -0.012776498405956379), (0, -0.003429966484808491)],\n",
       "  9: [(1, -0.013345246612665718), (0, -0.00665459481020679)],\n",
       "  0: [(0, -0.04292317432949304), (1, -0.03163787277147464)],\n",
       "  1: [(0, 0.05380485224678155), (1, -0.02550776255454147)],\n",
       "  3: [(0, 0.6683619956200558), (1, 0.28375189881023066)]},\n",
       " {8: [(0, -0.11585219269264442)],\n",
       "  0: [(0, -0.001359591888840518)],\n",
       "  4: [(0, 0.0005227181511236829)],\n",
       "  6: [(0, -0.0018173099570725627)],\n",
       "  2: [(0, 0.1260243712112178)]},\n",
       " {8: [(0, -0.07463175873404983)],\n",
       "  0: [(0, -0.00576047456822518)],\n",
       "  5: [(0, -0.005218345487143675)],\n",
       "  7: [(0, -0.010424224079032065)],\n",
       "  9: [(0, 0.14648345114725522)]},\n",
       " {6: [(0, -0.010148029327975866)],\n",
       "  1: [(0, -0.012701129638249159)],\n",
       "  0: [(0, -0.0053214899445800925)],\n",
       "  4: [(0, -0.0062420767424198)],\n",
       "  3: [(0, 0.13288964481013102)]},\n",
       " {3: [(0, -0.007973194563911948)],\n",
       "  0: [(0, -0.005315298708750573)],\n",
       "  2: [(0, -0.007233743206447403)],\n",
       "  4: [(0, -0.0007104249389167889)],\n",
       "  6: [(0, 0.12138380296770243)]},\n",
       " {8: [(0, -0.1280962212949298)],\n",
       "  3: [(0, -0.0015199854192018381)],\n",
       "  6: [(0, -0.0013667148168244752)],\n",
       "  2: [(0, 0.002766522165072278)],\n",
       "  4: [(0, 0.13765876790501896)]},\n",
       " {0: [(1, -1.8436614721144418e-13), (0, -1.5090157236216013e-14)],\n",
       "  2: [(1, -8.315829660314777e-13), (0, -1.3550846436573764e-14)],\n",
       "  4: [(1, -4.691126867722406e-10), (0, 1.883693616822095e-12)],\n",
       "  3: [(1, -9.601103089307385e-12), (0, -1.4252316525809988e-14)],\n",
       "  1: [(0, 0.0), (1, 0.0)]},\n",
       " {2: [(0, -0.01049292670026947)],\n",
       "  0: [(0, -0.005434986137985841)],\n",
       "  3: [(0, -0.00749606715179364)],\n",
       "  4: [(0, -0.006385460761659814)],\n",
       "  1: [(0, 0.12987354934069736)]},\n",
       " {2: [(0, -0.010666432313885971)],\n",
       "  0: [(0, -0.005650464413258284)],\n",
       "  6: [(0, -0.010580058054816996)],\n",
       "  5: [(0, -0.005130987819841379)],\n",
       "  8: [(0, 0.0733883017779395)]},\n",
       " {2: [(0, -0.010757013146177854)],\n",
       "  0: [(0, -0.0057147366191546084)],\n",
       "  4: [(0, -0.006792274746056746)],\n",
       "  6: [(0, -0.010723267489136854)],\n",
       "  8: [(0, 0.07435408029779295)]},\n",
       " {1: [(1, -0.032225483521237), (0, -3.496535137737701e-05)],\n",
       "  4: [(1, -0.07442657361827486), (0, -6.305263831845548e-05)],\n",
       "  6: [(1, -0.20267514851946997), (0, -0.06416036450012552)],\n",
       "  3: [(0, 0.05352093041129083), (1, -0.032157887871108584)],\n",
       "  0: [(1, 0.5612848273948097), (0, 0.01088952404551289)]},\n",
       " {6: [(0, -0.0972294161585005), (1, 0.00025831870740678154)],\n",
       "  4: [(0, -0.000928702723993087), (1, -8.93796645830143e-06)],\n",
       "  2: [(0, -0.01665881999750213), (1, 1.948842182196138e-05)],\n",
       "  3: [(0, -0.0026074676118292817), (1, -0.0001401477996608823)],\n",
       "  1: [(0, 0.9864759294974249), (1, -0.003686041085858854)]},\n",
       " {4: [(1, -0.0670505922482606), (0, 0.00026814488730454353)],\n",
       "  6: [(1, -0.07966509579538807), (0, 0.00031780339416320416)],\n",
       "  2: [(1, -0.1375736295506088), (0, 0.000537256824296669)],\n",
       "  3: [(1, -0.04979564168729953), (0, 0.00020359471031933187)],\n",
       "  1: [(1, 0.8637949308644347), (0, -0.0032608271640234177)]},\n",
       " {8: [(0, -0.07568737611962852)],\n",
       "  0: [(0, -0.0033346375878338884)],\n",
       "  4: [(0, 0.026359870313159613)],\n",
       "  2: [(0, 0.03971273340647347)],\n",
       "  6: [(0, 0.0488257261372094)]},\n",
       " {4: [(0, -0.006680278361160828)],\n",
       "  0: [(0, -0.005620465043926354)],\n",
       "  2: [(0, -0.010606771211983923)],\n",
       "  6: [(0, -0.01052613157741683)],\n",
       "  8: [(0, 0.07301151384803733)]},\n",
       " {0: [(0, -0.07503604136216097), (1, 0.0003038905862935968)],\n",
       "  2: [(0, -0.06189512831750502), (1, 0.00025303046624232167)],\n",
       "  3: [(0, -0.2442359520539863), (1, 0.0010274527364236277)],\n",
       "  4: [(0, -0.16263120401416198), (1, 0.0006922863556259231)],\n",
       "  1: [(0, 0.8583262394719726), (1, -0.003580846255129662)]},\n",
       " {8: [(0, -0.07127721918614702)],\n",
       "  0: [(0, -0.005303178013344303)],\n",
       "  5: [(0, -0.0043879125957720765)],\n",
       "  7: [(0, 0.01652170530892703)],\n",
       "  9: [(0, 0.11060485219672314)]},\n",
       " {0: [(1, 2.938534607876325e-05), (0, 2.8735737936216915e-05)],\n",
       "  8: [(1, 0.004077585700986476), (0, 0.003933471296053474)],\n",
       "  9: [(1, 0.05341555341537377), (0, 0.05318129480428542)],\n",
       "  5: [(1, 0.08340590663812514), (0, 0.0771695425309379)],\n",
       "  7: [(1, -0.14099721782831318), (0, -0.13437850872092183)]},\n",
       " {2: [(0, -0.008737853912441015)],\n",
       "  5: [(0, -0.00346948198692713)],\n",
       "  0: [(0, -0.0038950426670854086)],\n",
       "  6: [(0, -0.008252544233797954)],\n",
       "  8: [(0, 0.05240982278750281)]},\n",
       " {5: [(0, -0.005074402366701032)],\n",
       "  0: [(0, -0.0055846805662053455)],\n",
       "  2: [(0, -0.010527215570590803)],\n",
       "  6: [(0, -0.01046805183832648)],\n",
       "  8: [(0, 0.07259782792769086)]},\n",
       " {1: [(0, -0.003155082629894929)],\n",
       "  0: [(0, -0.0023755599165613344)],\n",
       "  5: [(0, -0.0012030739697836527)],\n",
       "  7: [(0, -0.0018802696622566167)],\n",
       "  9: [(0, 0.14644982607863224)]},\n",
       " {3: [(0, -0.008027647208513915)],\n",
       "  0: [(0, -0.0054157763802965215)],\n",
       "  2: [(0, -0.005251079016039576)],\n",
       "  4: [(0, 0.028053521147363914)],\n",
       "  6: [(0, 0.09187356501433377)]},\n",
       " {6: [(0, -0.0051623582369972)],\n",
       "  0: [(0, -0.0004961224262942141)],\n",
       "  4: [(0, 0.010745093512653686)],\n",
       "  3: [(0, 0.017231850420982586)],\n",
       "  1: [(0, 0.09391713093434026)]},\n",
       " {8: [(0, -0.11374733020017824)],\n",
       "  6: [(0, -0.006451082901037502)],\n",
       "  0: [(0, -0.0028382823396176024)],\n",
       "  1: [(0, -0.003457321106060769)],\n",
       "  3: [(0, 0.14120380161955046)]},\n",
       " {0: [(1, -0.06436967400835647), (0, 0.00026809741450348255)],\n",
       "  2: [(1, -0.07765780428222356), (0, 0.00032351004269371163)],\n",
       "  4: [(1, -0.03589064323066642), (0, 0.00014887956644895657)],\n",
       "  3: [(1, -0.3424315763131297), (0, 0.0014368491455340002)],\n",
       "  1: [(1, 0.8384339859706142), (0, -0.0035039956743730264)]},\n",
       " {8: [(0, -0.11142761962667229)],\n",
       "  1: [(0, -0.004538139118731425)],\n",
       "  7: [(0, -0.003394951276725478)],\n",
       "  9: [(0, -0.0005539361786194427)],\n",
       "  5: [(0, 0.13958211927094985)]},\n",
       " {0: [(0, -0.005220911144493866)],\n",
       "  8: [(0, -0.06990508194145986)],\n",
       "  2: [(0, -0.00568825435007432)],\n",
       "  6: [(0, 0.010395682183054348)],\n",
       "  4: [(0, 0.11001107055254926)]},\n",
       " {8: [(0, -0.11643598070914558)],\n",
       "  2: [(0, 0.0029253268852275417)],\n",
       "  3: [(0, 0.021163946811903003)],\n",
       "  6: [(0, 0.04230353934016796)],\n",
       "  4: [(0, 0.05464781851726469)]},\n",
       " {4: [(0, -3.035453648946433e-05), (1, -6.2153538557296775e-09)],\n",
       "  8: [(0, -0.9866164502812715), (1, 0.0038058981240216383)],\n",
       "  9: [(1, -2.840586957398453e-06), (0, 1.8031363876275173e-06)],\n",
       "  5: [(1, -0.0013461501732438448), (0, 0.0007751192080261661)],\n",
       "  7: [(0, 0.9869822243677907), (1, -0.0024536104309109096)]},\n",
       " {2: [(0, -0.004092479004791265)],\n",
       "  8: [(0, -0.11772730381578209)],\n",
       "  9: [(0, -0.0003830341107557244)],\n",
       "  7: [(0, -0.0019142507480173674)],\n",
       "  5: [(0, 0.13774288954133115)]},\n",
       " {2: [(0, -0.0041654872401074685)],\n",
       "  8: [(0, -0.11982751334372531)],\n",
       "  9: [(0, -0.00038986752767138045)],\n",
       "  7: [(0, -0.001948403769989892)],\n",
       "  5: [(0, 0.14020016924634776)]},\n",
       " {8: [(0, -0.07335391630437538)],\n",
       "  0: [(0, -0.005618800825991923)],\n",
       "  5: [(0, -0.005100336125296803)],\n",
       "  7: [(0, -0.010987029859731065)],\n",
       "  9: [(0, 0.14435889760780948)]},\n",
       " {8: [(0, -0.09613096696960327)],\n",
       "  0: [(0, -0.0035472250760182665)],\n",
       "  4: [(0, -0.0038193811030666856)],\n",
       "  6: [(0, -0.00735456994466929)],\n",
       "  2: [(0, 0.1307968100049432)]},\n",
       " {8: [(0, -0.10256976226603946)],\n",
       "  0: [(0, -0.0034049430566146653)],\n",
       "  6: [(0, -0.005837490440861767)],\n",
       "  4: [(0, 0.001220608690032367)],\n",
       "  2: [(0, 0.13034693713458798)]},\n",
       " {4: [(1, 0.011412239727208241), (0, 0.001346003162036262)],\n",
       "  6: [(0, -0.10727863617137183), (1, 0.014206360869248069)],\n",
       "  0: [(1, -0.08647761459169592), (0, 0.020406993190363334)],\n",
       "  2: [(0, 0.13923303645415552), (1, 0.07660822519584295)],\n",
       "  8: [(0, 0.16922452887770495), (1, -0.027154374529005935)]},\n",
       " {4: [(0, -1.416760034018945e-05), (1, 1.1931360886663708e-08)],\n",
       "  8: [(0, -0.9864498182428422), (1, 0.0036533576073809314)],\n",
       "  9: [(1, -0.0012507730719024841), (0, 1.124645927906257e-05)],\n",
       "  5: [(1, -0.013001284895994268), (0, 0.004991351155728994)],\n",
       "  7: [(0, 0.9821817055966511), (1, 0.010596977043575151)]},\n",
       " {4: [(1, -0.10165839161080263), (0, -0.059620527704593924)],\n",
       "  2: [(1, -0.18865735935317215), (0, -0.008201776614402679)],\n",
       "  3: [(0, -0.30881769536409187), (1, -0.16264600691151912)],\n",
       "  6: [(0, 0.17512220538502074), (1, 0.14292770333285496)],\n",
       "  0: [(1, 0.3771994920160086), (0, 0.2715082039482833)]},\n",
       " {2: [(0, -0.00312621970324437)],\n",
       "  8: [(0, -0.08999876432470588)],\n",
       "  3: [(0, 0.003615216186288315)],\n",
       "  6: [(0, 0.02315288447127206)],\n",
       "  4: [(0, 0.08864317564677311)]},\n",
       " {6: [(0, -0.11023976234274036), (1, 0.0004257263685313764)],\n",
       "  4: [(0, -0.0018432747425713072), (1, 5.920266368422535e-06)],\n",
       "  2: [(0, -0.021591151978127703), (1, 9.230418900497504e-05)],\n",
       "  3: [(0, -0.0041743937720792506), (1, -1.60648324123746e-05)],\n",
       "  1: [(0, 0.9845797687631408), (1, -0.004259492092280453)]},\n",
       " {2: [(0, -0.011280000577569364)],\n",
       "  0: [(0, -0.005828340018701061)],\n",
       "  5: [(0, -0.004991950866366983)],\n",
       "  6: [(0, -0.010970677029925798)],\n",
       "  8: [(0, 0.07342939106840367)]},\n",
       " {4: [(1, -2.332394396452536e-13), (0, -1.6827339467136083e-15)],\n",
       "  8: [(1, -2.390156808769538e-06), (0, 8.606250277512946e-09)],\n",
       "  9: [(1, -0.0007268442850119383), (0, 2.2564724952348295e-06)],\n",
       "  5: [(1, -0.00046000998327412493), (0, 3.8716022572272065e-07)],\n",
       "  7: [(1, 0.0011892819048041027), (0, -2.734475440428683e-06)]},\n",
       " {4: [(0, -5.997923580105116e-13), (1, -5.724116243347304e-13)],\n",
       "  8: [(1, -2.5147470817092457e-07), (0, -3.5657598705957185e-09)],\n",
       "  9: [(1, -0.0008684308632802653), (0, 3.4704367027088554e-06)],\n",
       "  5: [(1, -0.0002566012142089764), (0, -7.2936036642026235e-06)],\n",
       "  7: [(1, 0.0011252947177954641), (0, 3.801643435068494e-06)]},\n",
       " {2: [(0, -0.004055814591628316)],\n",
       "  8: [(0, -0.11667252308469042)],\n",
       "  7: [(0, -0.0018945265883996123)],\n",
       "  9: [(0, -0.00034755187036438043)],\n",
       "  5: [(0, 0.1364741629842134)]},\n",
       " {3: [(0, -0.005623441271932641)],\n",
       "  8: [(0, -0.08325305040161851)],\n",
       "  2: [(0, -0.0058871338277079)],\n",
       "  6: [(0, 0.0124061863628243)],\n",
       "  4: [(0, 0.11119743357877132)]},\n",
       " {8: [(0, -0.09156583721844935)],\n",
       "  0: [(0, -0.0036608077837362203)],\n",
       "  4: [(0, -0.0044153079377050476)],\n",
       "  6: [(0, -0.006337278052421099)],\n",
       "  2: [(0, 0.13161916468976353)]},\n",
       " {8: [(0, -0.07273762672293194)],\n",
       "  0: [(0, -0.005461928259596439)],\n",
       "  5: [(0, 0.0012640308625922595)],\n",
       "  7: [(0, -0.0019848159419365743)],\n",
       "  9: [(0, 0.12775287248631764)]},\n",
       " {0: [(0, -2.3387798693741146e-12), (1, 5.756739025542736e-17)],\n",
       "  2: [(0, -5.842478922209504e-11), (1, 1.9037315805108835e-13)],\n",
       "  4: [(0, -9.324405570463679e-13), (1, -1.7928805917088215e-13)],\n",
       "  3: [(0, -1.005102350024322e-08), (1, 4.9194853097553665e-11)],\n",
       "  1: [(0, 0.0), (1, 0.0)]},\n",
       " {4: [(1, 1.2198300918862436e-09), (0, -1.1878228179663168e-09)],\n",
       "  8: [(1, -0.002325403331601104), (0, 8.614569058355312e-06)],\n",
       "  9: [(1, -0.015586666377172298), (0, 4.287078038100922e-05)],\n",
       "  5: [(1, -0.0007069079580300703), (0, -0.0004112619613577727)],\n",
       "  7: [(1, 0.01861898772510084), (0, 0.00035978454176135955)]},\n",
       " {0: [(0, -0.003599115763266739)],\n",
       "  8: [(0, -0.0983708604806674)],\n",
       "  6: [(0, 0.008962416367102849)],\n",
       "  2: [(0, 0.019676743066945685)],\n",
       "  4: [(0, 0.09808237743624446)]},\n",
       " {3: [(0, -0.007933720209161135)],\n",
       "  0: [(0, -0.005316779352279399)],\n",
       "  2: [(0, -0.008892407081835639)],\n",
       "  4: [(0, 0.0032935871221587243)],\n",
       "  6: [(0, 0.11858173297812694)]},\n",
       " {1: [(0, -0.011560267421637327)],\n",
       "  8: [(0, -0.08291017512750139)],\n",
       "  5: [(0, -0.003030170984919373)],\n",
       "  7: [(0, 0.01184886896847449)],\n",
       "  9: [(0, 0.12401928874937405)]},\n",
       " {0: [(0, -0.0032163862485658666)],\n",
       "  8: [(0, -0.10645138935937726)],\n",
       "  5: [(0, -0.002345617318760689)],\n",
       "  9: [(0, 0.03109849430153079)],\n",
       "  7: [(0, 0.1070263959731997)]},\n",
       " {6: [(0, -0.01018113047830155)],\n",
       "  0: [(0, -0.005433767996898395)],\n",
       "  4: [(0, -0.006415528710137481)],\n",
       "  3: [(0, -0.007706485796926101)],\n",
       "  1: [(0, 0.12905694910936896)]},\n",
       " {4: [(0, -0.005821750895860789)],\n",
       "  2: [(0, -0.009786890927677611)],\n",
       "  0: [(0, -0.004810313213962291)],\n",
       "  6: [(0, -0.00952889231144458)],\n",
       "  8: [(0, 0.06345641924349796)]},\n",
       " {4: [(1, -2.617703625956813e-11), (0, 6.849002789179425e-13)],\n",
       "  8: [(1, -0.000514243027062194), (0, 2.1366416695066323e-06)],\n",
       "  9: [(1, -0.015959229275947593), (0, 6.781107778191198e-05)],\n",
       "  5: [(1, -0.005180769287777838), (0, 2.2119118550988717e-05)],\n",
       "  7: [(1, 0.021654188558627135), (0, -9.20888411774213e-05)]},\n",
       " {2: [(1, -0.11507530732286798), (0, 0.00043321048032785936)],\n",
       "  0: [(1, -0.07118069697216439), (0, 0.00027633981995139596)],\n",
       "  4: [(1, -0.03177987007274498), (0, 5.3934451708149925e-05)],\n",
       "  3: [(1, -0.24978801639308132), (0, 0.0011881174414449483)],\n",
       "  1: [(1, 0.8326633668010116), (0, -0.00344437529980613)]},\n",
       " {8: [(0, -0.08262720655144351)],\n",
       "  0: [(0, -0.004490563472485128)],\n",
       "  6: [(0, 0.007353965437276024)],\n",
       "  4: [(0, 0.027366215829010807)],\n",
       "  2: [(0, 0.08485757565982703)]},\n",
       " {4: [(0, -0.00552760031970519)],\n",
       "  2: [(0, -0.009994815527745)],\n",
       "  0: [(0, -0.004774197828480056)],\n",
       "  6: [(0, -0.009419498842964795)],\n",
       "  8: [(0, 0.05831767936909914)]},\n",
       " {1: [(0, -0.012828878191946726)],\n",
       "  3: [(0, -0.008083695125791362)],\n",
       "  2: [(0, -0.010310938984758716)],\n",
       "  6: [(0, -0.009790491690706839)],\n",
       "  0: [(0, 0.13646633606425135)]},\n",
       " {2: [(0, -0.010321119476883644)],\n",
       "  0: [(0, -0.0054737822644183665)],\n",
       "  5: [(0, -0.004973014574177067)],\n",
       "  7: [(0, -0.01074602171185962)],\n",
       "  9: [(0, 0.140976581450812)]},\n",
       " {2: [(0, -0.01059575535120762)],\n",
       "  0: [(0, -0.0056002227882603825)],\n",
       "  4: [(0, -0.006656270098412786)],\n",
       "  3: [(0, -0.00827067942976863)],\n",
       "  1: [(0, 0.1324444406882349)]},\n",
       " {5: [(0, -0.004636263350913229)],\n",
       "  2: [(0, -0.01082874515820627)],\n",
       "  0: [(0, -0.0055702536424151496)],\n",
       "  6: [(0, -0.010507757506203984)],\n",
       "  8: [(0, 0.06909185885390438)]},\n",
       " {4: [(0, -0.001972728335186145)],\n",
       "  8: [(0, -0.12370877491936118)],\n",
       "  9: [(0, -0.00019698290150020522)],\n",
       "  5: [(0, 0.0035571367390438125)],\n",
       "  7: [(0, 0.13897532131888643)]},\n",
       " {3: [(0, -0.0061936647500431844)],\n",
       "  1: [(0, -0.011308911865939448)],\n",
       "  2: [(0, -0.009606729821071325)],\n",
       "  6: [(0, -0.00928222052131621)],\n",
       "  0: [(0, 0.1414399230640469)]},\n",
       " {2: [(0, -0.004158205494576336)],\n",
       "  8: [(0, -0.11961804095534719)],\n",
       "  9: [(0, -0.00038917453101334934)],\n",
       "  7: [(0, -0.0019447300062316359)],\n",
       "  5: [(0, 0.13995479734913377)]},\n",
       " {5: [(0, -0.0035218584452895185)],\n",
       "  2: [(0, -0.008991637636035835)],\n",
       "  0: [(0, -0.0039595287183748626)],\n",
       "  6: [(0, -0.008459994791441971)],\n",
       "  8: [(0, 0.05342151183065248)]},\n",
       " {4: [(0, -0.0039128953486737925)],\n",
       "  3: [(0, -0.0035154631714801304)],\n",
       "  0: [(0, 0.011068989816086333)],\n",
       "  2: [(0, 0.014538915409336559)],\n",
       "  6: [(0, 0.09353018971934894)]},\n",
       " {4: [(1, -8.286102108890487e-08), (0, -6.880789376761688e-09)],\n",
       "  8: [(1, -0.0003170358657922098), (0, -3.3225996546272214e-05)],\n",
       "  9: [(1, -0.0005849242778901062), (0, -0.0001832694956337696)],\n",
       "  5: [(0, -0.01585068210995271), (1, -0.0058662657855282786)],\n",
       "  7: [(0, 0.01606712218123944), (1, 0.006768362239304688)]},\n",
       " {8: [(0, -0.09158083426055136)],\n",
       "  0: [(0, -0.003876726887351593)],\n",
       "  6: [(0, -0.003762583913211726)],\n",
       "  4: [(0, 0.001007901788776831)],\n",
       "  2: [(0, 0.12495987052642599)]},\n",
       " {4: [(0, -0.005124229271098198)],\n",
       "  6: [(0, -0.0047236846514082794)],\n",
       "  0: [(0, 0.031205136572953165)],\n",
       "  1: [(0, 0.032527277540371866)],\n",
       "  3: [(0, 0.04544007788168513)]},\n",
       " {5: [(0, -0.005124480264316075)],\n",
       "  2: [(0, -0.010727331640287193)],\n",
       "  0: [(0, -0.00565521928849135)],\n",
       "  6: [(0, -0.01055060462718964)],\n",
       "  8: [(0, 0.07323131250195487)]},\n",
       " {4: [(0, -2.1965466678483553e-08), (1, 1.0139028496076993e-10)],\n",
       "  8: [(0, -1.1023789898936529e-05), (1, 5.017904255102571e-08)],\n",
       "  9: [(0, -6.70650066455325e-05), (1, -9.304357544871235e-07)],\n",
       "  5: [(0, -0.003479643968340367), (1, 1.3542992451029588e-05)],\n",
       "  7: [(0, 0.0035576860260612825), (1, -1.2732631562392984e-05)]},\n",
       " {2: [(1, -4.2011009962977464e-11), (0, 2.1647015182610704e-13)],\n",
       "  0: [(1, -2.232265092973131e-11), (0, 1.1501923125823206e-13)],\n",
       "  4: [(1, -7.35513261509242e-09), (0, 3.790010619724022e-11)],\n",
       "  3: [(1, -7.490252070544962e-09), (0, 3.8595370554223344e-11)],\n",
       "  1: [(0, 0.0), (1, 0.0)]},\n",
       " {8: [(0, -0.08458872106894147)],\n",
       "  4: [(0, -0.005662922401800863)],\n",
       "  2: [(0, -0.010238684368194265)],\n",
       "  6: [(0, -0.008641260163691069)],\n",
       "  0: [(0, 0.13843336401395553)]},\n",
       " {4: [(0, -0.003362194948206371)],\n",
       "  3: [(0, 0.004189928838056108)],\n",
       "  2: [(0, 0.006772967112459862)],\n",
       "  6: [(0, 0.029933253121860428)],\n",
       "  0: [(0, 0.05966155739121542)]},\n",
       " {3: [(0, -0.006011631265222485)],\n",
       "  2: [(0, -0.010465476049225344)],\n",
       "  0: [(0, -0.005158178394786112)],\n",
       "  4: [(0, -0.005892622263325635)],\n",
       "  1: [(0, 0.13202778599229842)]},\n",
       " {0: [(0, -0.005420600381465481)],\n",
       "  1: [(0, -0.012144153448274356)],\n",
       "  5: [(0, -0.004467560194912594)],\n",
       "  7: [(0, -0.009098849691340423)],\n",
       "  9: [(0, 0.14042553811341613)]},\n",
       " {4: [(0, -0.004332422724151844)],\n",
       "  2: [(0, -0.0044604787883047465)],\n",
       "  6: [(0, 0.025385909373128207)],\n",
       "  0: [(0, 0.03802474898253314)],\n",
       "  8: [(0, -0.025011101225936153)]},\n",
       " {8: [(0, -0.07315881024937278)],\n",
       "  2: [(0, -0.0027030915786315584)],\n",
       "  3: [(0, 0.0044898599855926705)],\n",
       "  6: [(0, 0.023304228414075413)],\n",
       "  4: [(0, 0.07996185909217393)]},\n",
       " {0: [(0, -0.10513239368686941), (1, 0.00046055958107468005)],\n",
       "  2: [(0, -0.04757758663055763), (1, 0.0001675090961343897)],\n",
       "  4: [(0, -0.1595822654670737), (1, 0.0005556709805749249)],\n",
       "  3: [(0, -0.2638723934844887), (1, 0.0010663452061826415)],\n",
       "  1: [(0, 0.9220032051798045), (1, -0.003612129261414869)]},\n",
       " {4: [(0, -0.00518094895263938)],\n",
       "  3: [(0, -0.005390354809714858)],\n",
       "  2: [(0, -0.009201567388766558)],\n",
       "  6: [(0, 0.00024396522914984652)],\n",
       "  0: [(0, 0.13426912498917695)]},\n",
       " {7: [(0, -0.0032998040334518944)],\n",
       "  2: [(0, -0.005601890468352644)],\n",
       "  1: [(0, -0.004410950117006392)],\n",
       "  9: [(0, -0.0006097908263636646)],\n",
       "  5: [(0, 0.13574146350567196)]},\n",
       " {7: [(0, -0.001975581092912816)],\n",
       "  2: [(0, -0.004223589344376306)],\n",
       "  1: [(0, -0.0030762614481389798)],\n",
       "  9: [(0, -0.0003953042356177593)],\n",
       "  5: [(0, 0.1421557448270956)]},\n",
       " {2: [(0, -0.010158759475887747)],\n",
       "  0: [(0, -0.005300590634877501)],\n",
       "  4: [(0, -0.006258289169535395)],\n",
       "  3: [(0, -0.007517607248240583)],\n",
       "  1: [(0, 0.1258938652198847)]},\n",
       " {0: [(0, -0.004179545786201433)],\n",
       "  8: [(0, -0.0885551068360707)],\n",
       "  5: [(0, 0.0026005748841708798)],\n",
       "  9: [(0, 0.014882202153028348)],\n",
       "  7: [(0, 0.11157405976656218)]},\n",
       " {8: [(0, -0.07521581145756989)],\n",
       "  1: [(0, -0.012383640205898844)],\n",
       "  2: [(0, -0.010058539386826312)],\n",
       "  6: [(0, -0.009942927900431501)],\n",
       "  0: [(0, 0.13791364448977875)]},\n",
       " {2: [(0, -0.004099798943042322)],\n",
       "  8: [(0, -0.11793787495981908)],\n",
       "  7: [(0, -0.0019176781955224896)],\n",
       "  9: [(0, -0.0003837194174550518)],\n",
       "  5: [(0, 0.13798926101008055)]},\n",
       " {1: [(0, -0.012939323737693218)],\n",
       "  2: [(0, -0.01041363524027592)],\n",
       "  0: [(0, -0.005513397569762669)],\n",
       "  6: [(0, -0.010319005056983247)],\n",
       "  8: [(0, 0.07158286669988109)]},\n",
       " {0: [(0, -0.004615449132080045)],\n",
       "  8: [(0, -0.08192861761808869)],\n",
       "  2: [(0, -0.003071787642121897)],\n",
       "  6: [(0, 0.00657393084563733)],\n",
       "  4: [(0, 0.1151937586625641)]},\n",
       " {1: [(0, -0.013061691795947737)],\n",
       "  2: [(0, -0.010674690009076206)],\n",
       "  3: [(0, -0.008119219667841293)],\n",
       "  6: [(0, -0.009355661915954435)],\n",
       "  0: [(0, 0.1387617940815974)]},\n",
       " {8: [(0, -0.08914607069676324)],\n",
       "  2: [(0, -0.004329993711806699)],\n",
       "  3: [(0, 0.006232530499488281)],\n",
       "  6: [(0, 0.04910403343606365)],\n",
       "  4: [(0, 0.061531596450049096)]},\n",
       " {4: [(0, -0.0013886921914274975)],\n",
       "  2: [(0, -0.0025282658456239637)],\n",
       "  0: [(0, 0.012094081210135988)],\n",
       "  6: [(0, 0.00958802852471493)],\n",
       "  8: [(0, -0.010129450116760608)]},\n",
       " {3: [(0, -0.0015214971891544136)],\n",
       "  0: [(0, -0.002421908066505217)],\n",
       "  2: [(0, -0.0043781406656789555)],\n",
       "  4: [(0, 0.005843886691377527)],\n",
       "  6: [(0, 0.13650901074511732)]},\n",
       " {4: [(0, 0.008354092450992015)],\n",
       "  6: [(0, 0.008068169706121604)],\n",
       "  3: [(0, 0.010961229511171549)],\n",
       "  2: [(0, 0.010539627846270341)],\n",
       "  8: [(0, -0.045110800514162164)]},\n",
       " {3: [(0, -0.007124323585253976)],\n",
       "  8: [(0, -0.07268757361365186)],\n",
       "  6: [(0, -0.0054673769187156395)],\n",
       "  4: [(0, 0.052254121437283495)],\n",
       "  2: [(0, 0.06954423619383372)]},\n",
       " {2: [(0, -0.010580450081969082)],\n",
       "  1: [(0, -0.01200152361803026)],\n",
       "  6: [(0, -0.0039045275000572296)],\n",
       "  3: [(0, 0.022335572083463564)],\n",
       "  0: [(0, 0.10200694397477524)]},\n",
       " {4: [(0, -0.0018909711546719837)],\n",
       "  8: [(0, -0.11856885161240975)],\n",
       "  2: [(0, -0.004118895100303485)],\n",
       "  6: [(0, -0.004010763363788041)],\n",
       "  0: [(0, 0.13649178061426567)]},\n",
       " {8: [(0, -0.07701638011552912)],\n",
       "  0: [(0, -0.004154877690740203)],\n",
       "  4: [(0, 0.03042295681097942)],\n",
       "  2: [(0, 0.02984239086732333)],\n",
       "  6: [(0, 0.0538525248397215)]},\n",
       " {0: [(0, -0.00011759195299886054), (1, 4.58853929455225e-07)],\n",
       "  8: [(0, -0.9868435190113756), (1, 0.00405209208969041)],\n",
       "  5: [(0, -1.0565719289637776e-05), (1, 3.106410512458365e-08)],\n",
       "  9: [(0, -1.687415717320376e-07), (1, 2.0823978582657723e-08)],\n",
       "  7: [(0, 0.9880570223773683), (1, -0.004056832867616036)]},\n",
       " {0: [(0, -0.005530398818438797)],\n",
       "  1: [(0, -0.012961019424264687)],\n",
       "  6: [(0, -0.01024065316803812)],\n",
       "  4: [(0, -0.004236000683805975)],\n",
       "  3: [(0, 0.1333888740834737)]},\n",
       " {4: [(0, -0.006558677297582115)],\n",
       "  3: [(0, -0.008166505999267952)],\n",
       "  2: [(0, -0.010366982175210605)],\n",
       "  6: [(0, -0.004360719286182097)],\n",
       "  0: [(0, 0.1325355207890739)]},\n",
       " {7: [(0, -0.0020093759459266745)],\n",
       "  2: [(0, -0.004295839264543454)],\n",
       "  1: [(0, -0.0031288848495418914)],\n",
       "  9: [(0, -0.0004020677860483626)],\n",
       "  5: [(0, 0.14458750134190876)]},\n",
       " {5: [(0, -0.0050832966309772055)],\n",
       "  2: [(0, -0.01058028110932286)],\n",
       "  0: [(0, -0.005600029214750188)],\n",
       "  6: [(0, -0.010478908766166214)],\n",
       "  8: [(0, 0.07269486693095933)]},\n",
       " {8: [(0, -0.06837630161744186)],\n",
       "  0: [(0, -0.0051006375426247055)],\n",
       "  2: [(0, 0.013205066242977233)],\n",
       "  6: [(0, 0.04356054254041102)],\n",
       "  4: [(0, 0.05353009288831572)]},\n",
       " {2: [(1, -0.03718913639197018), (0, 8.413906272610375e-05)],\n",
       "  5: [(1, -0.00290874959163302), (0, -1.9314181428971037e-05)],\n",
       "  4: [(1, -0.06451585763553429), (0, 0.00014692019779286123)],\n",
       "  3: [(1, -0.26927524896972665), (0, 0.0011302280022997039)],\n",
       "  1: [(1, 0.9407195079094389), (0, -0.0036766824407043967)]},\n",
       " {0: [(0, -0.09836953046399997), (1, 0.00039743809929423664)],\n",
       "  2: [(0, -0.05813877392589979), (1, 0.00021936511531082739)],\n",
       "  4: [(0, -0.18007593700541946), (1, 0.0007162068771162696)],\n",
       "  3: [(0, -0.2453701399376034), (1, 0.0009522104226771184)],\n",
       "  1: [(0, 0.9079491504757053), (1, -0.003551620007280328)]},\n",
       " {8: [(0, -0.11579333704166773)],\n",
       "  0: [(0, -0.0027214882551847195)],\n",
       "  6: [(0, -0.0034362260251822453)],\n",
       "  4: [(0, 0.0044370845730904674)],\n",
       "  2: [(0, 0.12440152126019348)]},\n",
       " {8: [(0, -0.11982751339521318)],\n",
       "  0: [(0, -0.002284349754105027)],\n",
       "  5: [(0, -0.001179296087491972)],\n",
       "  7: [(0, -0.0019479546883588985)],\n",
       "  9: [(0, 0.14098914212135039)]},\n",
       " {4: [(0, -0.0005604210882759789)],\n",
       "  3: [(0, 0.005447730056493653)],\n",
       "  0: [(0, 0.020697274654150544)],\n",
       "  6: [(0, 0.0326953103388303)],\n",
       "  2: [(0, 0.045030986574503204)]},\n",
       " {6: [(0, -0.04925964810771899), (1, 0.00021682342706089253)],\n",
       "  4: [(0, -0.05829013852309517), (1, 0.00025465423677485796)],\n",
       "  7: [(0, -0.010171965862293958), (1, 3.0852534599361546e-05)],\n",
       "  9: [(0, -0.00811945565037613), (1, 2.8501673677111414e-05)],\n",
       "  8: [(0, 0.3536918110977419), (1, -0.0015576068944156431)]},\n",
       " {0: [(0, -0.29512504311978716), (1, 0.0011313532564775953)],\n",
       "  8: [(0, -0.031180515474163187), (1, 0.00017117635572766804)],\n",
       "  9: [(0, 0.00018300667118359903), (1, 0.00014376685384226925)],\n",
       "  7: [(0, 0.03952735525409411), (1, 0.023498768330048443)],\n",
       "  5: [(0, 0.9484766388078668), (1, -0.02765083108001816)]},\n",
       " {8: [(0, -0.1145539714645621)],\n",
       "  4: [(0, -0.0018269316746154765)],\n",
       "  2: [(0, -0.00397843465532855)],\n",
       "  6: [(0, -0.0011548358917716833)],\n",
       "  0: [(0, 0.1291488969917331)]},\n",
       " {3: [(0, -0.007932677829923058)],\n",
       "  0: [(0, -0.00527792131779122)],\n",
       "  2: [(0, -0.006099989447439929)],\n",
       "  4: [(0, 0.0022860716310884694)],\n",
       "  6: [(0, 0.11711991058406267)]},\n",
       " {6: [(0, 0.002915698824382786)],\n",
       "  4: [(0, 0.007972109608402424)],\n",
       "  0: [(0, 0.019230482755782312)],\n",
       "  1: [(0, 0.012164376472479541)],\n",
       "  3: [(0, 0.04703817800719359)]},\n",
       " {0: [(0, -0.0053457949185702625)],\n",
       "  8: [(0, -0.07020033143798612)],\n",
       "  6: [(0, -0.006681902213704858)],\n",
       "  2: [(0, -0.0027208233043834653)],\n",
       "  4: [(0, 0.1227327243549035)]},\n",
       " {3: [(0, -0.00812981973551543)],\n",
       "  4: [(0, -0.006537818941633941)],\n",
       "  2: [(0, -0.01040186836698799)],\n",
       "  6: [(0, 0.01407772786550134)],\n",
       "  0: [(0, 0.11323271403073135)]},\n",
       " {4: [(0, -0.0019708483244435205)],\n",
       "  8: [(0, -0.12357731579888803)],\n",
       "  2: [(0, -0.004294013520932937)],\n",
       "  6: [(0, -0.004385668548964613)],\n",
       "  0: [(0, 0.1424639448251466)]},\n",
       " {8: [(0, -0.07233826219573017)],\n",
       "  0: [(0, -0.005577778005864377)],\n",
       "  5: [(0, -0.005054868600852791)],\n",
       "  7: [(0, -0.010826496522469904)],\n",
       "  9: [(0, 0.14265796224657076)]},\n",
       " {6: [(1, -0.07163107009710547), (0, 0.0002796116273921069)],\n",
       "  4: [(1, -0.07464654821315919), (0, 0.0003138881648688916)],\n",
       "  2: [(1, -0.06474226028234421), (0, 0.0002392629360968748)],\n",
       "  3: [(1, -0.42227961529969893), (0, 0.0017055612203196765)],\n",
       "  1: [(1, 0.8474045421978696), (0, -0.003300511450782404)]},\n",
       " {4: [(0, -0.0019277206648249648)],\n",
       "  8: [(0, -0.12087297999226641)],\n",
       "  9: [(0, -0.00039254295734058334)],\n",
       "  5: [(0, -0.0011567095888016829)],\n",
       "  7: [(0, 0.14061397787507765)]},\n",
       " {8: [(0, -0.07520263447553252)],\n",
       "  6: [(0, -0.009008801398876025)],\n",
       "  1: [(0, -0.010127912975206502)],\n",
       "  0: [(0, 0.005075762330283901)],\n",
       "  3: [(0, 0.11861249413041237)]},\n",
       " {5: [(0, -0.004698521133976275)],\n",
       "  0: [(0, -0.00527349218372783)],\n",
       "  2: [(0, -0.010070844463310613)],\n",
       "  6: [(0, -0.009855106886078317)],\n",
       "  8: [(0, 0.06771741285491567)]},\n",
       " {7: [(0, -0.00855390243861798)],\n",
       "  2: [(0, -0.010536633355524754)],\n",
       "  1: [(0, -0.01179982052927548)],\n",
       "  9: [(0, -0.0015846376119222382)],\n",
       "  5: [(0, 0.13686191125042446)]},\n",
       " {2: [(0, -6.15025994329467e-12), (1, -2.7617916588751377e-12)],\n",
       "  7: [(0, -6.406377378870428e-12), (1, -9.021004205348522e-13)],\n",
       "  4: [(0, -6.9600924240410516e-12), (1, -3.4093870413848244e-12)],\n",
       "  6: [(0, -3.3550738441132316e-10), (1, -5.83384974240021e-11)],\n",
       "  8: [(0, 0.0), (1, 0.0)]},\n",
       " {8: [(0, -0.1201742291648569)],\n",
       "  2: [(0, -0.004055258057667913)],\n",
       "  6: [(0, -0.003563184255958327)],\n",
       "  3: [(0, 0.0665184909681546)],\n",
       "  4: [(0, 0.07006548731610739)]},\n",
       " {4: [(0, -0.0036210482789810748)],\n",
       "  2: [(0, -0.0068406870052487466)],\n",
       "  0: [(0, -0.003239825923082523)],\n",
       "  6: [(0, -0.0070129494959573335)],\n",
       "  8: [(0, 0.0389473251829368)]},\n",
       " {2: [(0, -0.00425253950538395)],\n",
       "  8: [(0, -0.12233172399581929)],\n",
       "  9: [(0, -0.000397997751092384)],\n",
       "  7: [(0, -0.0019890602817698756)],\n",
       "  5: [(0, 0.14313005095742073)]},\n",
       " {8: [(0, -0.11213083269217107)],\n",
       "  0: [(0, -0.0031069213862472155)],\n",
       "  6: [(0, -0.006491776869649152)],\n",
       "  4: [(0, -0.0027545960292799715)],\n",
       "  2: [(0, 0.13713746716887074)]},\n",
       " {4: [(0, -0.006149454966829397)],\n",
       "  8: [(0, -0.06713299335877417)],\n",
       "  2: [(0, -0.0098084878743691)],\n",
       "  6: [(0, -0.009623074394759895)],\n",
       "  0: [(0, 0.12894621642246298)]},\n",
       " {2: [(0, -0.006631948783734529)],\n",
       "  0: [(0, -0.0032572458697310504)],\n",
       "  5: [(0, -0.001974531709683526)],\n",
       "  6: [(0, -0.007020973451618486)],\n",
       "  8: [(0, 0.037772147825675464)]},\n",
       " {0: [(0, -0.004828515355688207)],\n",
       "  8: [(0, -0.0858408559883292)],\n",
       "  5: [(0, -0.0031038775780626547)],\n",
       "  9: [(0, 0.005230447773096635)],\n",
       "  7: [(0, 0.13011425327115161)]},\n",
       " {1: [(0, -0.013653621715077002)],\n",
       "  2: [(0, -0.011032117404425489)],\n",
       "  3: [(0, -0.007800298942014026)],\n",
       "  6: [(0, -0.006170586372353747)],\n",
       "  0: [(0, 0.1402216939092969)]},\n",
       " {8: [(1, -0.046915636145454374), (0, -0.0020306898564216177)],\n",
       "  6: [(1, -0.029664302763023828), (0, -0.0014397772391766949)],\n",
       "  0: [(1, -0.06099789042251987), (0, -0.00321359698757734)],\n",
       "  1: [(1, -0.15142391951384113), (0, -0.0330729191713583)],\n",
       "  3: [(1, 0.3712741260559021), (0, 0.040929320554937795)]},\n",
       " {2: [(0, -0.004274208164470705)],\n",
       "  8: [(0, -0.12295505994228698)],\n",
       "  7: [(0, -0.0019988868619226943)],\n",
       "  9: [(0, -0.00039881540612862564)],\n",
       "  5: [(0, 0.14385786053577693)]},\n",
       " {1: [(0, -0.010643970536704107)],\n",
       "  2: [(0, -0.009246709458753301)],\n",
       "  3: [(0, -0.005519901983371394)],\n",
       "  6: [(0, -0.007714977546534917)],\n",
       "  0: [(0, 0.14062634122694118)]},\n",
       " {8: [(0, -0.0745337140260396)],\n",
       "  4: [(0, 0.010757275673406884)],\n",
       "  0: [(0, 0.024700938738668587)],\n",
       "  2: [(0, 0.02804377454172272)],\n",
       "  6: [(0, 0.038025604120953925)]},\n",
       " {1: [(0, -0.012316851207014722)],\n",
       "  7: [(0, -0.009416110154483659)],\n",
       "  2: [(0, -0.010558324622465557)],\n",
       "  9: [(0, -0.0017050897717458152)],\n",
       "  5: [(0, 0.13803232374955354)]},\n",
       " {3: [(0, -0.007704876875996981)],\n",
       "  0: [(0, -0.00483549975964175)],\n",
       "  4: [(0, 0.03629984737140764)],\n",
       "  6: [(0, 0.033887735301076555)],\n",
       "  2: [(0, 0.04438965805648427)]},\n",
       " {4: [(0, -5.243307485207654e-09), (1, 1.708316571828869e-10)],\n",
       "  8: [(1, -4.51133207981836e-06), (0, -2.516403080678751e-06)],\n",
       "  9: [(1, -0.01080346541445437), (0, 4.2223021893788505e-05)],\n",
       "  5: [(1, -0.0003237882944144081), (0, -8.925982043435376e-05)],\n",
       "  7: [(1, 0.011131773790352635), (0, 4.959573967156101e-05)]},\n",
       " {2: [(0, -0.004446212292172437)],\n",
       "  8: [(0, -0.1279030596842868)],\n",
       "  9: [(0, -0.00041614154413044635)],\n",
       "  7: [(0, -0.0020797061433989825)],\n",
       "  5: [(0, 0.1496486917662228)]},\n",
       " {8: [(0, -0.07459213105343451)],\n",
       "  0: [(0, -0.0051821225004687775)],\n",
       "  4: [(0, -0.0058616206468590695)],\n",
       "  6: [(0, -0.0022984662255396537)],\n",
       "  2: [(0, 0.12732767991527474)]},\n",
       " {4: [(0, -0.006727181709708523)],\n",
       "  2: [(0, -0.010620945362352441)],\n",
       "  3: [(0, -0.008131123515416387)],\n",
       "  6: [(0, 0.009075350954593907)],\n",
       "  0: [(0, 0.12135154363732935)]},\n",
       " {2: [(0, -0.010540242707030217)],\n",
       "  0: [(0, -0.005575653498552699)],\n",
       "  5: [(0, -0.005059914099895054)],\n",
       "  6: [(0, -0.010428843580512066)],\n",
       "  8: [(0, 0.07235299093114539)]},\n",
       " {8: [(0, -0.10914046115014975)],\n",
       "  0: [(0, -0.0031126605236670947)],\n",
       "  6: [(0, -0.0007422505509126097)],\n",
       "  4: [(0, 0.003716169890444537)],\n",
       "  2: [(0, 0.1240432879609509)]},\n",
       " {3: [(0, -0.007926088747361965)],\n",
       "  0: [(0, -0.005477708641468724)],\n",
       "  2: [(0, -0.004936691775358183)],\n",
       "  4: [(0, 0.020932541652271888)],\n",
       "  6: [(0, 0.1011737880364706)]},\n",
       " {5: [(0, -0.001168992380944595)],\n",
       "  2: [(0, -0.0041290356248578465)],\n",
       "  0: [(0, -0.0022643587415877224)],\n",
       "  6: [(0, -0.005159293657537897)],\n",
       "  8: [(0, 0.021363322483683014)]},\n",
       " {8: [(0, -0.10823056939394922)],\n",
       "  4: [(0, -0.0034249338878489122)],\n",
       "  2: [(0, -0.006323089287420818)],\n",
       "  6: [(0, -0.00702383297866042)],\n",
       "  0: [(0, 0.14105380316061197)]},\n",
       " {3: [(0, -0.007536695452768073)],\n",
       "  0: [(0, -0.00519832187177281)],\n",
       "  2: [(0, -0.0025211505037947388)],\n",
       "  4: [(0, 0.03623272509346432)],\n",
       "  6: [(0, 0.08429873219986997)]},\n",
       " {0: [(0, -0.005383018731781216)],\n",
       "  8: [(0, -0.07082600984055057)],\n",
       "  2: [(0, -0.009353128021024235)],\n",
       "  6: [(0, -0.008936478197984342)],\n",
       "  4: [(0, 0.133200407175467)]},\n",
       " {0: [(0, -0.005444146891402736)],\n",
       "  8: [(0, -0.0714610660709143)],\n",
       "  6: [(0, -0.009461746968951346)],\n",
       "  2: [(0, -0.008432843190544806)],\n",
       "  4: [(0, 0.13349766846349154)]},\n",
       " {0: [(0, -0.003552736791959341)],\n",
       "  8: [(0, -0.10417719682776042)],\n",
       "  2: [(0, -0.0012983258056439852)],\n",
       "  6: [(0, -0.00021364890778445347)],\n",
       "  4: [(0, 0.13121397818186847)]},\n",
       " {0: [(0, -0.0044210597696728955)],\n",
       "  8: [(0, -0.08514069262301184)],\n",
       "  2: [(0, 0.0023432161726516343)],\n",
       "  6: [(0, 0.0225200924071905)],\n",
       "  4: [(0, 0.0953988556510402)]},\n",
       " {2: [(0, 0.001449536936021396)],\n",
       "  3: [(0, 0.014182053901715116)],\n",
       "  6: [(0, 0.01274143914196599)],\n",
       "  1: [(0, 0.014491445047493423)],\n",
       "  0: [(0, 0.03699405546108794)]},\n",
       " {2: [(0, -0.002725582510056693), (1, 1.1468192719573369e-05)],\n",
       "  8: [(0, -0.9764132078061977), (1, 0.0038700227931683273)],\n",
       "  7: [(0, -0.00014775132593205516), (1, 4.1244937655470005e-06)],\n",
       "  9: [(0, -2.1124917314449033e-05), (1, 2.0592346792464664e-05)],\n",
       "  5: [(0, 0.98834523308745), (1, -0.003931946604245422)]},\n",
       " {1: [(0, -0.012784802134359443)],\n",
       "  2: [(0, -0.01019158454220614)],\n",
       "  3: [(0, -0.007076832855590399)],\n",
       "  6: [(0, -0.0017428277538267237)],\n",
       "  0: [(0, 0.12701742795454854)]},\n",
       " {2: [(0, -0.01051169728331317)],\n",
       "  8: [(0, -0.07292393600621762)],\n",
       "  7: [(0, -0.010920876501951442)],\n",
       "  9: [(0, -0.0018917140978850697)],\n",
       "  5: [(0, 0.14022378640619784)]},\n",
       " {4: [(0, -0.013175513029087496), (1, -0.0004993664053195385)],\n",
       "  6: [(0, -0.06494445943678427), (1, -0.0003095673251053908)],\n",
       "  0: [(0, -0.07317470409410559), (1, -0.0012932389758126917)],\n",
       "  1: [(0, -0.07309912132325495), (1, -0.04354483662407956)],\n",
       "  3: [(0, 0.8011675626121574), (1, 0.043221520381564724)]},\n",
       " {8: [(0, -0.07330530637795211)],\n",
       "  6: [(0, -0.01055060308375013)],\n",
       "  0: [(0, -0.00565514724247593)],\n",
       "  1: [(0, -0.013186368100501424)],\n",
       "  3: [(0, 0.13818968345917898)]},\n",
       " {0: [(0, -0.004908513032922509)],\n",
       "  8: [(0, -0.06613214545155124)],\n",
       "  9: [(0, 0.015949084054220877)],\n",
       "  5: [(0, 0.013570920670793855)],\n",
       "  7: [(0, 0.08620693692904818)]},\n",
       " {6: [(1, -0.17498847606975368), (0, -0.018776251339014203)],\n",
       "  4: [(1, -0.0510063182112325), (0, -0.03862601390311186)],\n",
       "  0: [(1, -0.23133064451684635), (0, -0.02022111948285531)],\n",
       "  1: [(0, -0.10029377231022815), (1, -0.037579589706502235)],\n",
       "  3: [(1, 0.7974362233057487), (0, 0.20438805354125342)]},\n",
       " {4: [(0, -0.0005907527649510378)],\n",
       "  2: [(0, -0.0023881011794016638)],\n",
       "  3: [(0, 0.0013198971528116741)],\n",
       "  6: [(0, 0.045581836662703455)],\n",
       "  0: [(0, 0.0879839916852987)]},\n",
       " {4: [(0, -0.004935017085568852)],\n",
       "  3: [(0, -0.0032040018777475293)],\n",
       "  2: [(0, 0.004902419278816159)],\n",
       "  0: [(0, 0.04447347473623592)],\n",
       "  6: [(0, 0.0600866258285443)]},\n",
       " {0: [(0, -0.004696759033808985)],\n",
       "  8: [(0, -0.08320927490910489)],\n",
       "  6: [(0, -0.009317176898034853)],\n",
       "  4: [(0, -0.004212309847837043)],\n",
       "  2: [(0, 0.13408561098655328)]},\n",
       " {9: [(0, -0.0018120918323311073)],\n",
       "  7: [(0, -0.01030333970746256)],\n",
       "  6: [(0, -0.00985629425944827)],\n",
       "  4: [(0, -0.006259197927879243)],\n",
       "  8: [(0, 0.06837304470958962)]},\n",
       " {3: [(0, -0.007787064105935269)],\n",
       "  8: [(0, -0.06943530104308432)],\n",
       "  2: [(0, -0.008098888846095637)],\n",
       "  6: [(0, -0.006446930227905819)],\n",
       "  4: [(0, 0.12683289332932582)]},\n",
       " {2: [(0, -0.0031805777848960843)],\n",
       "  4: [(0, -0.0006748060167197466)],\n",
       "  3: [(0, 0.0006845540749863907)],\n",
       "  0: [(0, 0.06297796423753894)],\n",
       "  6: [(0, 0.06744274511724627)]},\n",
       " {0: [(0, -0.027804075909450502), (1, 0.00013769812480456662)],\n",
       "  8: [(0, -0.8249680258838299), (1, 0.003064191079827049)],\n",
       "  9: [(0, -7.54049447544982e-06), (1, 1.818584913673518e-08)],\n",
       "  7: [(0, -9.933474503592456e-06), (1, -4.9421690797443176e-08)],\n",
       "  5: [(0, 0.9877124998583938), (1, -0.0038581252877583393)]},\n",
       " {8: [(0, -0.07617921521862535)],\n",
       "  0: [(0, -0.005156362590465389)],\n",
       "  5: [(0, -0.00405001411349191)],\n",
       "  7: [(0, -0.00805143734380684)],\n",
       "  9: [(0, 0.13690243384548673)]},\n",
       " {6: [(1, -0.014030827896788606), (0, -0.00228254876053129)],\n",
       "  4: [(1, -0.03774590494400689), (0, -0.00019574828160925527)],\n",
       "  0: [(1, -0.012491204784387304), (0, -0.0033506581264776663)],\n",
       "  1: [(1, -0.08975566487330422), (0, 0.014772698347914196)],\n",
       "  3: [(0, 0.9448803427931192), (1, 0.16869099060153703)]},\n",
       " {8: [(0, -0.07015715631438145)],\n",
       "  0: [(0, -0.005255102063213163)],\n",
       "  4: [(0, -0.004104619142816153)],\n",
       "  6: [(0, -0.007510286875466579)],\n",
       "  2: [(0, 0.12298867832616271)]},\n",
       " {0: [(0, -0.00542294095436748)],\n",
       "  2: [(0, -0.010039117194468601)],\n",
       "  6: [(0, -0.008300824286166004)],\n",
       "  4: [(0, 0.040957148423236896)],\n",
       "  3: [(0, 0.08461743930016809)]},\n",
       " {8: [(0, -0.07356312359686015)],\n",
       "  0: [(0, -0.005536934232404179)],\n",
       "  4: [(0, -0.006490644956287957)],\n",
       "  6: [(0, -0.010199842620276732)],\n",
       "  2: [(0, 0.1334968172441546)]},\n",
       " {0: [(0, -0.001722111922517655)],\n",
       "  8: [(0, -0.10830292808364675)],\n",
       "  2: [(0, 0.024950993897611132)],\n",
       "  6: [(0, 0.03246024694297988)],\n",
       "  4: [(0, 0.06629659644965512)]},\n",
       " {0: [(0, -0.003438454056293979)],\n",
       "  8: [(0, -0.10220628668588612)],\n",
       "  2: [(0, 0.003549391613144293)],\n",
       "  6: [(0, 0.034249531797622836)],\n",
       "  4: [(0, 0.08844061270434322)]},\n",
       " {4: [(0, -0.003993855139851161)],\n",
       "  2: [(0, -0.007610468195510242)],\n",
       "  0: [(0, -0.0034780693112580045)],\n",
       "  6: [(0, -0.007558895147975538)],\n",
       "  8: [(0, 0.04337724644208956)]},\n",
       " {8: [(0, -0.10684858724602721)],\n",
       "  0: [(0, -0.003428914901500888)],\n",
       "  4: [(0, -0.003599044976490753)],\n",
       "  6: [(0, -0.006743288887255685)],\n",
       "  2: [(0, 0.13945850572658644)]},\n",
       " {2: [(0, -0.009606262621239783)],\n",
       "  8: [(0, -0.07935750454701523)],\n",
       "  9: [(0, -0.0013216136109566383)],\n",
       "  7: [(0, -0.0071386443166623495)],\n",
       "  5: [(0, 0.13177135390000697)]},\n",
       " {6: [(0, -0.009853581994875314)],\n",
       "  4: [(0, -0.006254004004839483)],\n",
       "  1: [(0, -0.012358384465817471)],\n",
       "  0: [(0, -0.005256449137123756)],\n",
       "  3: [(0, 0.12936206153889776)]},\n",
       " {4: [(0, 0.0038069261484847865)],\n",
       "  3: [(0, 0.006331493295765489)],\n",
       "  0: [(0, 0.026250392461886252)],\n",
       "  2: [(0, 0.028877223263085932)],\n",
       "  6: [(0, 0.04860030150831998)]},\n",
       " {4: [(1, -4.3103822506521816e-13), (0, -3.854249851982646e-13)],\n",
       "  8: [(1, -2.747462655442876e-07), (0, -2.6030293200800948e-09)],\n",
       "  9: [(1, -0.0004332725550774328), (0, 1.9850652377083155e-06)],\n",
       "  5: [(1, -0.0007456131698109021), (0, 1.508270989020969e-07)],\n",
       "  7: [(1, 0.0011792190517369904), (0, -2.1233178129524867e-06)]},\n",
       " {8: [(0, -0.07641526389155642)],\n",
       "  0: [(0, -0.004483411342707711)],\n",
       "  6: [(0, -0.008381121219098115)],\n",
       "  4: [(0, -0.002126500037713894)],\n",
       "  2: [(0, 0.12268737752977839)]},\n",
       " {4: [(0, -0.0064454642877870795)],\n",
       "  3: [(0, -0.00804799332998316)],\n",
       "  2: [(0, -0.010204849487605467)],\n",
       "  6: [(0, -0.010171736649526622)],\n",
       "  0: [(0, 0.13644418882094908)]},\n",
       " {8: [(0, -0.09842193742618931)],\n",
       "  0: [(0, -0.0032213623906392286)],\n",
       "  6: [(0, -0.006565334815419096)],\n",
       "  4: [(0, 0.026274228721234017)],\n",
       "  2: [(0, 0.10006832027536859)]},\n",
       " {1: [(0, -0.0030020743076979986)],\n",
       "  2: [(0, -0.004121733243819214)],\n",
       "  8: [(0, -0.11856885288078603)],\n",
       "  9: [(0, -0.0003856963501983529)],\n",
       "  5: [(0, 0.13872743261537843)]},\n",
       " {4: [(0, -0.006310938525243233)],\n",
       "  9: [(0, -0.001696076829791563)],\n",
       "  5: [(0, -0.004527230539338634)],\n",
       "  8: [(0, -0.07514183711446595)],\n",
       "  7: [(0, 0.13332940077730351)]},\n",
       " {8: [(0, -0.08526331040296077)],\n",
       "  0: [(0, -0.004618516610775927)],\n",
       "  4: [(0, -0.0054479545303239025)],\n",
       "  6: [(0, -0.008955383806643857)],\n",
       "  2: [(0, 0.13635538854226065)]},\n",
       " {2: [(0, -0.0013294732778897783)],\n",
       "  1: [(0, 0.0022104886129806047)],\n",
       "  3: [(0, 0.01025915377039283)],\n",
       "  6: [(0, 0.006965538354641313)],\n",
       "  0: [(0, 0.10619079673447594)]},\n",
       " {2: [(1, -1.3287176751106288e-12), (0, -2.28271008412041e-14)],\n",
       "  0: [(1, -4.3104913315869616e-13), (0, 1.7666087568941122e-15)],\n",
       "  4: [(1, -5.948504159237117e-13), (0, 2.9859371248735944e-15)],\n",
       "  3: [(1, -6.379727010424733e-10), (0, 2.502851484476972e-12)],\n",
       "  1: [(0, 0.0), (1, 0.0)]},\n",
       " {4: [(0, -0.0010601982828334971), (1, 5.36005583787978e-06)],\n",
       "  8: [(0, -0.9596478612056769), (1, 0.0039481284974093285)],\n",
       "  9: [(0, -1.867933064096655e-05), (1, -4.662190172494784e-06)],\n",
       "  5: [(1, -0.0014316705789247201), (0, -0.00011624750857531686)],\n",
       "  7: [(0, 0.9879194709720781), (1, -0.0026532288882649894)]},\n",
       " {1: [(0, 0.0069534648343071315)],\n",
       "  0: [(0, 0.008013661883935826)],\n",
       "  2: [(0, 0.011224884261594341)],\n",
       "  6: [(0, 0.011007611418633175)],\n",
       "  8: [(0, -0.060367263422591175)]},\n",
       " {8: [(0, -0.10841198542821523)],\n",
       "  0: [(0, -0.003243583751048029)],\n",
       "  4: [(0, -0.0019259463418521367)],\n",
       "  6: [(0, -0.003688941351560264)],\n",
       "  2: [(0, 0.13334877089813726)]},\n",
       " {1: [(0, -0.0030233322030827716)],\n",
       "  0: [(0, -0.0022763609322317105)],\n",
       "  5: [(0, -0.0011750332625713466)],\n",
       "  7: [(0, -0.00193981241479109)],\n",
       "  9: [(0, 0.14049460760207125)]},\n",
       " {0: [(0, -0.14358169754870315), (1, 0.0006252338205808266)],\n",
       "  2: [(0, -0.05507454479144525), (1, 0.00020907598949043327)],\n",
       "  4: [(0, -0.166273515545066), (1, 0.0006737302748377194)],\n",
       "  3: [(0, -0.2663921343020934), (1, 0.0010727990828084159)],\n",
       "  1: [(0, 0.9371135827987838), (1, -0.003782543514967193)]},\n",
       " {8: [(0, -0.07155294901214247)],\n",
       "  0: [(0, -0.005386329034234627)],\n",
       "  5: [(0, -0.004751156120456088)],\n",
       "  7: [(0, -0.01002664836959477)],\n",
       "  9: [(0, 0.1385909435129435)]},\n",
       " {2: [(1, -0.07409384451200443), (0, 0.000284024622310825)],\n",
       "  0: [(1, -0.23413185056549632), (0, 0.000992479520449432)],\n",
       "  4: [(1, -0.10002382188209537), (0, 0.0003188462301053872)],\n",
       "  3: [(1, -0.16576392720433517), (0, 0.0006091845981742646)],\n",
       "  1: [(1, 0.9284378056923686), (0, -0.003394005150814651)]},\n",
       " {2: [(1, -0.0480013402242899), (0, 0.00021864930821405865)],\n",
       "  0: [(1, -0.06425930282912551), (0, 0.0002548602919837623)],\n",
       "  3: [(1, -0.26945035255795197), (0, 0.0008355465429944652)],\n",
       "  4: [(1, -0.2192741225080272), (0, 0.0009219597519525668)],\n",
       "  1: [(1, 0.9060628709819335), (0, -0.0036096474498849085)]},\n",
       " {2: [(0, 0.0026459575348741896)],\n",
       "  6: [(0, 0.0073075178402319235)],\n",
       "  8: [(0, -0.05100163340055944)],\n",
       "  4: [(0, 0.03216852133444053)],\n",
       "  3: [(0, 0.03341785682708312)]},\n",
       " {4: [(0, -0.0018876187080126582)],\n",
       "  8: [(0, -0.1183548978300724)],\n",
       "  9: [(0, -0.000378421490963191)],\n",
       "  5: [(0, 0.004183527432221374)],\n",
       "  7: [(0, 0.13236310882052166)]},\n",
       " {1: [(0, -0.002929021438318678)],\n",
       "  0: [(0, -0.0026650671611381364)],\n",
       "  2: [(0, -0.0025547327046140044)],\n",
       "  6: [(0, -0.005146725617489257)],\n",
       "  8: [(0, 0.017410574631576265)]},\n",
       " {0: [(0, -0.0028962423904858306)],\n",
       "  8: [(0, -0.10064144594244724)],\n",
       "  6: [(0, 0.0036870205263525354)],\n",
       "  2: [(0, 0.013699572966084095)],\n",
       "  4: [(0, 0.1034275275790764)]},\n",
       " {8: [(0, -0.07795276425714014)],\n",
       "  0: [(0, -0.005267719788544459)],\n",
       "  4: [(0, -0.005903215842526304)],\n",
       "  6: [(0, -0.009134413705204188)],\n",
       "  2: [(0, 0.1300601892392834)]},\n",
       " {4: [(0, -0.001970341890497487)],\n",
       "  2: [(0, -0.004269423987867798)],\n",
       "  3: [(0, -0.0012606612035553088)],\n",
       "  6: [(0, 0.02314610249245875)],\n",
       "  0: [(0, 0.11621451213221952)]},\n",
       " {3: [(0, -0.001366652152036333)],\n",
       "  0: [(0, -0.0020639919778885846)],\n",
       "  2: [(0, -0.002921844587378756)],\n",
       "  4: [(0, 0.003993055026821693)],\n",
       "  6: [(0, 0.12807504989832896)]},\n",
       " {4: [(0, -0.016469391910608554), (1, 8.35682011157225e-05)],\n",
       "  8: [(0, -0.09501654348891689), (1, -0.0005904240494888586)],\n",
       "  9: [(1, -0.00010448421667906291), (0, 9.84159212989996e-06)],\n",
       "  5: [(1, -0.005584102440477151), (0, 0.0019122551856775277)],\n",
       "  7: [(0, 0.9854479792527535), (1, 0.0016869983663653626)]},\n",
       " {8: [(0, -0.06933127099340411)],\n",
       "  0: [(0, -0.0052971803882637175)],\n",
       "  5: [(0, -0.004811377909147761)],\n",
       "  7: [(0, -0.010386875800194477)],\n",
       "  9: [(0, 0.13633239303238906)]},\n",
       " {8: [(0, -0.12312405330189836)],\n",
       "  0: [(0, -0.002267571457980731)],\n",
       "  2: [(0, 0.0030394108893306076)],\n",
       "  6: [(0, 0.03112010090657732)],\n",
       "  4: [(0, 0.09944020255999442)]},\n",
       " {8: [(0, -0.08296938686317394)],\n",
       "  0: [(0, -0.003993250041384433)],\n",
       "  4: [(0, 0.005192236252405476)],\n",
       "  6: [(0, 0.04913448474469374)],\n",
       "  2: [(0, 0.06255039125078364)]},\n",
       " {0: [(0, -0.11769442945956247), (1, 0.0004550616086239333)],\n",
       "  2: [(0, -0.06444609074738075), (1, 0.00022138624855261988)],\n",
       "  4: [(0, -0.12523476552783144), (1, 0.0004876897558563103)],\n",
       "  3: [(0, -0.25877953454203334), (1, 0.001039592226577212)],\n",
       "  1: [(0, 0.8701604117819561), (1, -0.003316502011477139)]},\n",
       " {2: [(0, -0.010585265674846913)],\n",
       "  0: [(0, -0.0055637447700720094)],\n",
       "  7: [(0, -0.010671068243445568)],\n",
       "  5: [(0, -0.005004717419337198)],\n",
       "  9: [(0, 0.1424319784888266)]},\n",
       " {2: [(0, -0.004121733231486115)],\n",
       "  8: [(0, -0.11856885350067634)],\n",
       "  9: [(0, -0.0003857698552886156)],\n",
       "  7: [(0, -0.0019279346292417308)],\n",
       "  5: [(0, 0.1387275160054104)]},\n",
       " {8: [(0, -0.10357185458677101)],\n",
       "  0: [(0, -0.003054411232520263)],\n",
       "  4: [(0, 0.0037570937523629284)],\n",
       "  2: [(0, 0.038199269321936256)],\n",
       "  6: [(0, 0.08294330050998665)]},\n",
       " {4: [(0, -0.006415742000460342)],\n",
       "  2: [(0, -0.010549506251023343)],\n",
       "  3: [(0, -0.006954423337288147)],\n",
       "  6: [(0, 0.012979842160724115)],\n",
       "  0: [(0, 0.11516971822149515)]},\n",
       " {2: [(0, -0.004026407324523988)],\n",
       "  1: [(0, -0.0029326434511619264)],\n",
       "  7: [(0, -0.0018833493319635182)],\n",
       "  9: [(0, -0.0003768503758750711)],\n",
       "  5: [(0, 0.1355190776726328)]},\n",
       " {8: [(0, -0.07273539674753617)],\n",
       "  3: [(0, -0.008036563517155228)],\n",
       "  2: [(0, -0.01028705792397968)],\n",
       "  6: [(0, -0.010165416091958552)],\n",
       "  0: [(0, 0.13807519849246597)]},\n",
       " {4: [(0, -0.023777658900566413), (1, 0.00010002517296188392)],\n",
       "  2: [(0, -0.057514696726567754), (1, 0.0002464623720673275)],\n",
       "  0: [(0, -0.044012387324586094), (1, 0.00018363294629695527)],\n",
       "  3: [(0, -0.01919730265965824), (1, 0.00017913465774967844)],\n",
       "  1: [(0, 0.9628491229332687), (1, -0.0037386479239349406)]},\n",
       " {3: [(0, -0.004156788155636268)],\n",
       "  0: [(0, -0.0033021702090065557)],\n",
       "  2: [(0, 0.009318508595718481)],\n",
       "  4: [(0, 0.03608528728100503)],\n",
       "  6: [(0, 0.07628341190330562)]},\n",
       " {4: [(0, -0.024016557519353984), (1, 6.515164272593667e-05)],\n",
       "  0: [(0, -0.018740395366772196), (1, 4.917839573095258e-05)],\n",
       "  2: [(0, -0.037824745228776886), (1, 8.176504739112567e-05)],\n",
       "  3: [(0, -0.037489162905736596), (1, 0.00011442437663933676)],\n",
       "  1: [(0, 0.1446877336373117), (1, -0.0002922889237905704)]},\n",
       " {0: [(1, -1.2272601897833348e-13), (0, -9.881314346093265e-15)],\n",
       "  2: [(1, -1.6873566639677824e-11), (0, -8.077562536401162e-13)],\n",
       "  4: [(1, -3.729011126921388e-13), (0, -2.593367744895479e-14)],\n",
       "  3: [(1, -7.516513173757671e-10), (0, -4.214683768655995e-12)],\n",
       "  1: [(0, 0.0), (1, 0.0)]},\n",
       " {3: [(0, -0.007628355497994232)],\n",
       "  0: [(0, -0.0044315210376061325)],\n",
       "  2: [(0, 0.0009566149526778428)],\n",
       "  4: [(0, 0.022891229359998277)],\n",
       "  6: [(0, 0.09216794196455837)]},\n",
       " {0: [(0, -6.0774783514731005e-05), (1, -2.104512379543013e-06)],\n",
       "  8: [(0, -0.9866865545381633), (1, 0.003909031747734097)],\n",
       "  5: [(1, -0.011103958052390719), (0, 0.0023305974500536933)],\n",
       "  9: [(0, 0.0033194975169501145), (1, -0.0011460012096260975)],\n",
       "  7: [(0, 0.981775890737465), (1, 0.008352123283604695)]},\n",
       " {0: [(0, -0.0030518292650658784)],\n",
       "  8: [(0, -0.11297360325339556)],\n",
       "  2: [(0, -0.0028315052870090166)],\n",
       "  6: [(0, 0.019766227228438984)],\n",
       "  4: [(0, 0.11041022125060122)]},\n",
       " {0: [(0, -0.0028007139613382974)],\n",
       "  8: [(0, -0.11279822028580784)],\n",
       "  2: [(0, 0.0065911066271910615)],\n",
       "  4: [(0, 0.06155791549128142)],\n",
       "  6: [(0, 0.058438462827128224)]},\n",
       " {5: [(1, -0.6637597992116491), (0, 0.0033651755279979086)],\n",
       "  4: [(1, -0.002407541710485714), (0, -1.2688881179598384e-05)],\n",
       "  7: [(1, -0.04501762488596093), (0, 0.00022751580554777176)],\n",
       "  9: [(1, -0.04656517045557898), (0, 0.0002347977616440301)],\n",
       "  8: [(1, 0.914931962715161), (0, -0.004587701357957409)]},\n",
       " {0: [(0, -0.00397904451687867)],\n",
       "  3: [(0, -0.005547657381700891)],\n",
       "  2: [(0, 0.005769847427799832)],\n",
       "  4: [(0, 0.04751150160746461)],\n",
       "  6: [(0, 0.058422833367662665)]},\n",
       " {8: [(0, -0.07493292610577519)],\n",
       "  2: [(0, -0.010855305079505)],\n",
       "  6: [(0, -0.01028537648694845)],\n",
       "  3: [(0, -0.006386095893401915)],\n",
       "  4: [(0, 0.14020244291549908)]},\n",
       " {4: [(0, -0.004963077530103617)],\n",
       "  3: [(0, -0.0026274576270194465)],\n",
       "  2: [(0, -0.00029891824183143906)],\n",
       "  6: [(0, 0.04781319711497299)],\n",
       "  0: [(0, 0.06384843971430972)]},\n",
       " {1: [(0, -0.011452136318677808)],\n",
       "  8: [(0, -0.08502934240114764)],\n",
       "  5: [(0, -0.004044861052742739)],\n",
       "  7: [(0, -0.007992039601139684)],\n",
       "  9: [(0, 0.14666202558864117)]},\n",
       " {2: [(0, -0.007088332036503859)],\n",
       "  4: [(0, -0.003248682720436976)],\n",
       "  3: [(0, 0.002617996720672872)],\n",
       "  6: [(0, 0.056781950122313345)],\n",
       "  0: [(0, 0.07162715054608504)]},\n",
       " {0: [(1, -8.180231196020757e-09), (0, -2.6029156277115665e-09)],\n",
       "  8: [(1, -6.087474244165042e-05), (0, -3.540258645990407e-06)],\n",
       "  9: [(1, -0.014149477465591007), (0, 0.00040994071109477917)],\n",
       "  5: [(1, -0.004145201052701666), (0, -0.0026577740455386105)],\n",
       "  7: [(1, 0.018355518060961955), (0, 0.002251336466629577)]},\n",
       " {2: [(0, -0.004143629301276252)],\n",
       "  8: [(0, -0.11919873195612816)],\n",
       "  9: [(0, -0.0003878217040477394)],\n",
       "  7: [(0, -0.0019381453949491297)],\n",
       "  5: [(0, 0.13946445082948095)]},\n",
       " {2: [(0, -0.010416612799128984)],\n",
       "  1: [(0, -0.012893047702018242)],\n",
       "  3: [(0, -0.007988271188333233)],\n",
       "  6: [(0, -0.008986699504295693)],\n",
       "  0: [(0, 0.13615057888779672)]},\n",
       " {5: [(0, -0.004975705036007328)],\n",
       "  0: [(0, -0.005640873612740593)],\n",
       "  2: [(0, -0.010810923214574436)],\n",
       "  6: [(0, -0.010569178648662442)],\n",
       "  8: [(0, 0.07209015107369161)]},\n",
       " {8: [(0, -0.07320643538258904)],\n",
       "  6: [(0, -0.010515332257789702)],\n",
       "  0: [(0, -0.005526425641395294)],\n",
       "  1: [(0, -0.012215810064941709)],\n",
       "  3: [(0, 0.13687062076530015)]},\n",
       " {8: [(0, -0.07049630272016899)],\n",
       "  2: [(0, -0.008490372484122242)],\n",
       "  6: [(0, -0.005502134342767922)],\n",
       "  3: [(0, 0.011734837400063512)],\n",
       "  4: [(0, 0.10822324649398747)]},\n",
       " {2: [(0, -0.004310037480594677)],\n",
       "  1: [(0, -0.0031294555535747192)],\n",
       "  6: [(0, -0.00449331880511599)],\n",
       "  3: [(0, 0.0027492593043492706)],\n",
       "  0: [(0, 0.13879232250426088)]},\n",
       " {6: [(0, -0.007413970383378013)],\n",
       "  0: [(0, -0.002854205068827027)],\n",
       "  1: [(0, -0.0040715716478343725)],\n",
       "  8: [(0, -0.10963783180985265)],\n",
       "  3: [(0, 0.14349783120751472)]},\n",
       " {2: [(0, -0.06953453406087869), (1, -0.00029459650347077673)],\n",
       "  6: [(0, -0.16562001051435066), (1, -0.024723434287572003)],\n",
       "  1: [(1, 0.026293282205668747), (0, 0.003854506482980506)],\n",
       "  0: [(1, 0.10199296693570303), (0, -0.04508552322205495)],\n",
       "  3: [(0, 0.4420949912721959), (1, -0.0442432222812684)]},\n",
       " {8: [(0, -0.08811908242268272)],\n",
       "  0: [(0, -0.002120064505478624)],\n",
       "  4: [(0, 0.00919301563626315)],\n",
       "  6: [(0, 0.006529658743360223)],\n",
       "  2: [(0, 0.10017556461177003)]},\n",
       " {4: [(0, -0.005733243880970262)],\n",
       "  3: [(0, -0.006519514618449724)],\n",
       "  2: [(0, -0.009636034554906425)],\n",
       "  6: [(0, -0.006626318399737207)],\n",
       "  0: [(0, 0.13560846725577133)]},\n",
       " {6: [(0, -3.090950577495802e-14), (1, -1.3368587843987969e-14)],\n",
       "  4: [(0, -2.526815524347138e-10), (1, 9.486159986373166e-13)],\n",
       "  2: [(0, -3.0613426621029684e-13), (1, -1.1989375340275585e-14)],\n",
       "  3: [(0, -9.053639883966454e-12), (1, -1.633237542573317e-12)],\n",
       "  1: [(0, 0.0), (1, 0.0)]},\n",
       " {4: [(0, -0.006386579830698786)],\n",
       "  1: [(0, -0.012628882383312818)],\n",
       "  2: [(0, -0.010137559813776821)],\n",
       "  6: [(0, -0.010065507398487128)],\n",
       "  0: [(0, 0.13476894198686235)]},\n",
       " {8: [(0, -0.07418000170750863)],\n",
       "  6: [(0, -0.01009428315458111)],\n",
       "  0: [(0, -0.005325847327928693)],\n",
       "  1: [(0, -0.01184679159189753)],\n",
       "  3: [(0, 0.13308303400724633)]},\n",
       " {0: [(0, -0.005359524838384673)],\n",
       "  2: [(0, -0.010347237387219502)],\n",
       "  4: [(0, -0.006296758252970019)],\n",
       "  6: [(0, -0.010075893679480363)],\n",
       "  8: [(0, 0.06785884008791068)]},\n",
       " {6: [(0, -0.010368987798413744)],\n",
       "  0: [(0, -0.005466615630491474)],\n",
       "  4: [(0, -0.00643002214242732)],\n",
       "  1: [(0, -0.012778598568568156)],\n",
       "  3: [(0, 0.13558533228625916)]},\n",
       " {1: [(0, -0.009167167133749682)],\n",
       "  0: [(0, -0.0035962439558677403)],\n",
       "  7: [(0, -0.006678353879866987)],\n",
       "  5: [(0, -0.003194049603788237)],\n",
       "  9: [(0, 0.13901582860868572)]},\n",
       " {6: [(0, -0.010491087526097329)],\n",
       "  0: [(0, -0.005617318462932409)],\n",
       "  3: [(0, -0.008287420709941968)],\n",
       "  4: [(0, -0.006676615404987022)],\n",
       "  1: [(0, 0.132667941071515)]},\n",
       " {1: [(0, -0.012465489188986576)],\n",
       "  0: [(0, -0.005505035513518133)],\n",
       "  5: [(0, -0.004625688562146976)],\n",
       "  7: [(0, -0.009527986080609585)],\n",
       "  9: [(0, 0.142596350597281)]},\n",
       " {2: [(0, -0.010721881543049887)],\n",
       "  1: [(0, -0.01331366446382904)],\n",
       "  3: [(0, -0.008354569925550089)],\n",
       "  6: [(0, -0.01034106442309284)],\n",
       "  0: [(0, 0.14176482805274507)]},\n",
       " {4: [(0, 0.010357536825707985)],\n",
       "  3: [(0, 0.020425626463758395)],\n",
       "  6: [(0, 0.026260743065458003)],\n",
       "  2: [(0, 0.02887349654065379)],\n",
       "  0: [(0, 0.032370607260444655)]},\n",
       " {0: [(0, -0.0029746370163710695)],\n",
       "  8: [(0, -0.11815620772506748)],\n",
       "  5: [(0, -0.0012989446732867773)],\n",
       "  9: [(0, 0.00430488334262954)],\n",
       "  7: [(0, 0.14081813855878753)]},\n",
       " {4: [(1, 2.8529070556384582e-08), (0, -9.23517610955474e-09)],\n",
       "  8: [(0, -8.001877465257889e-05), (1, -3.544607046138413e-06)],\n",
       "  9: [(1, -0.02783178162799896), (0, 6.52939645926726e-05)],\n",
       "  5: [(0, -0.05544759983042339), (1, 0.02233836377947053)],\n",
       "  7: [(0, 0.05546242158540776), (1, 0.005496935969012234)]},\n",
       " {0: [(0, -0.005439081623934956)],\n",
       "  5: [(0, -0.004441167287077176)],\n",
       "  2: [(0, -0.01060455434749382)],\n",
       "  6: [(0, -0.010281113118374761)],\n",
       "  8: [(0, 0.06678036934603875)]},\n",
       " {2: [(0, -0.0043030412942512315)],\n",
       "  8: [(0, -0.12378449570948338)],\n",
       "  9: [(0, -0.0004027418574545415)],\n",
       "  7: [(0, -0.002012744691588314)],\n",
       "  5: [(0, 0.1448299040760023)]},\n",
       " {0: [(0, -0.00010989342297138898)],\n",
       "  8: [(0, -0.06304458023845672)],\n",
       "  2: [(0, 0.012611744028327378)],\n",
       "  4: [(0, 0.03943982135492625)],\n",
       "  6: [(0, 0.04520040071715515)]},\n",
       " {2: [(0, -0.2515772833599866), (1, 0.0009413975047527185)],\n",
       "  7: [(0, 0.00018079024120301338), (1, -8.126853206886308e-05)],\n",
       "  1: [(0, -0.015949308139364977), (1, -0.0005894661041806637)],\n",
       "  9: [(1, -0.006849867157946818), (0, 0.002985328938209551)],\n",
       "  5: [(0, 0.9831871262052055), (1, 0.004762572899630635)]},\n",
       " {3: [(0, -0.0035132267604243016)],\n",
       "  4: [(0, -0.0035976103261224994)],\n",
       "  2: [(0, -0.007428749344845035)],\n",
       "  6: [(0, 0.052135816897707174)],\n",
       "  0: [(0, 0.07841310324172297)]},\n",
       " {0: [(0, -0.005178839167802147)],\n",
       "  2: [(0, -0.010085452865965053)],\n",
       "  4: [(0, -0.0056518848279785965)],\n",
       "  6: [(0, 0.0017251086033203832)],\n",
       "  8: [(0, 0.057971719932277024)]},\n",
       " {8: [(0, -0.12022924292306665)],\n",
       "  0: [(0, -0.002269670983127979)],\n",
       "  6: [(0, -0.003781931602919539)],\n",
       "  4: [(0, 0.008144528573427822)],\n",
       "  2: [(0, 0.1261498356181261)]},\n",
       " {2: [(0, -0.004374833225444187)],\n",
       "  8: [(0, -0.12584971579659635)],\n",
       "  9: [(0, -0.0004094612010798541)],\n",
       "  7: [(0, -0.0020463235275196426)],\n",
       "  5: [(0, 0.14724624579656462)]},\n",
       " {8: [(0, -0.09196066842672107)],\n",
       "  2: [(0, -0.006914542566842684)],\n",
       "  6: [(0, 0.01032371000640368)],\n",
       "  3: [(0, 0.0330531296738764)],\n",
       "  4: [(0, 0.08225753835857637)]},\n",
       " {6: [(1, -0.011281089218372679), (0, 6.743735403683571e-06)],\n",
       "  8: [(1, -0.030067884141443086), (0, 5.938226520227827e-05)],\n",
       "  0: [(1, -0.1493850133508536), (0, 0.0003953920107043667)],\n",
       "  1: [(1, -0.006253336340788783), (0, -0.0004429848549049894)],\n",
       "  3: [(1, 0.9586955138233272), (0, -0.0031128449571573066)]},\n",
       " {0: [(0, -0.4033836459133174), (1, 0.001964206960363866)],\n",
       "  2: [(0, -0.0289573523935515), (1, -6.125059966647826e-06)],\n",
       "  4: [(0, -0.04314336079738475), (1, 8.955355824164135e-05)],\n",
       "  3: [(0, -0.2122252284790107), (1, 0.001080916287396835)],\n",
       "  1: [(0, 0.9738584602570223), (1, -0.004131643935571611)]},\n",
       " {2: [(0, -0.009876236026774567)],\n",
       "  4: [(0, -0.005205814970129096)],\n",
       "  3: [(0, -0.00145622709680638)],\n",
       "  6: [(0, 0.017932899691450954)],\n",
       "  0: [(0, 0.09945818727752821)]},\n",
       " {4: [(0, -0.006152435652549375)],\n",
       "  3: [(0, -0.006547541169017576)],\n",
       "  2: [(0, -0.00936812624338161)],\n",
       "  6: [(0, 0.012317210160308662)],\n",
       "  0: [(0, 0.11231168011993946)]},\n",
       " {0: [(0, -0.004745068096845315)],\n",
       "  8: [(0, -0.0773803888266976)],\n",
       "  5: [(0, -0.0034588718675611398)],\n",
       "  7: [(0, 0.041031394241816684)],\n",
       "  9: [(0, 0.08494223936645845)]},\n",
       " {6: [(0, -4.0367656553606426e-05), (1, -3.952821851078708e-05)],\n",
       "  4: [(0, -0.00018476790729435693), (1, -0.00017783438672115792)],\n",
       "  2: [(0, -5.897003110936932e-05), (1, -5.8577969834488067e-05)],\n",
       "  5: [(0, -7.981298847870138e-08), (1, -3.967743282968752e-08)],\n",
       "  8: [(0, 0.0003799846318252135), (1, 0.0003737471074005994)]},\n",
       " {0: [(1, 3.286882625279006e-09), (0, -1.2285339156418603e-10)],\n",
       "  8: [(0, -2.6844778923946972e-05), (1, 3.822269170817034e-06)],\n",
       "  5: [(0, -0.025392525255842537), (1, 0.002242750573610137)],\n",
       "  9: [(1, 0.005107714223982132), (0, 0.004306547362870239)],\n",
       "  7: [(0, 0.021112706730667424), (1, -0.007354310711935013)]},\n",
       " {0: [(0, -0.0057766786829771205)],\n",
       "  2: [(0, -0.010942101803800388)],\n",
       "  5: [(0, -0.005237788241283572)],\n",
       "  6: [(0, -0.01078870544099674)],\n",
       "  8: [(0, 0.07486962059306533)]},\n",
       " {6: [(0, -0.010686893214857468)],\n",
       "  3: [(0, -0.007216351433393226)],\n",
       "  0: [(0, -0.005653754006282606)],\n",
       "  4: [(0, -0.0065172886638114585)],\n",
       "  1: [(0, 0.1356426067411791)]},\n",
       " {8: [(1, -0.0036898927908487656), (0, 1.765365448555203e-05)],\n",
       "  1: [(1, -0.0001438672546571935), (0, 6.555411837775951e-07)],\n",
       "  7: [(1, -0.3339791279013844), (0, 0.0011433505640068371)],\n",
       "  5: [(1, -0.5809351979305913), (0, -0.007385669563561811)],\n",
       "  9: [(1, 0.9187793214897033), (0, 0.006223886922286735)]},\n",
       " {8: [(0, -0.07202126045411192)],\n",
       "  3: [(0, -0.008086105378579135)],\n",
       "  2: [(0, -0.007608402457383303)],\n",
       "  6: [(0, 0.036380960473845717)],\n",
       "  4: [(0, 0.08759256272923983)]},\n",
       " {8: [(0, -0.07177141093407148)],\n",
       "  2: [(0, -0.010455706238113259)],\n",
       "  6: [(0, -0.010297813632166085)],\n",
       "  3: [(0, -0.0061337061725355)],\n",
       "  4: [(0, 0.13475006565129632)]},\n",
       " {2: [(0, -0.0002555177093169409), (1, -7.920657094786913e-05)],\n",
       "  8: [(0, -0.9839473410733806), (1, 0.005097005587774927)],\n",
       "  7: [(1, -4.224582617543664e-07), (0, 1.9485185877655678e-07)],\n",
       "  9: [(0, 4.2397571589731545e-07), (1, -3.3293725611152323e-07)],\n",
       "  5: [(0, 0.9880162586556379), (1, -0.004033981164005761)]},\n",
       " {4: [(0, -1.4758794839286413e-06), (1, -1.132237234442637e-07)],\n",
       "  9: [(1, -5.958872530301209e-08), (0, -3.612110179304376e-08)],\n",
       "  8: [(0, -0.9879746026563544), (1, 0.003702576177010077)],\n",
       "  5: [(1, -9.71817977265837e-07), (0, -8.587892282888395e-07)],\n",
       "  7: [(0, 0.9880917498561677), (1, -0.0036964219226493173)]},\n",
       " {0: [(0, -9.671062368527728e-10), (1, -9.319275363446352e-10)],\n",
       "  2: [(0, -7.168799296553328e-10), (1, -6.093493304462925e-10)],\n",
       "  4: [(0, -2.054288005633099e-08), (1, -2.555607630737293e-09)],\n",
       "  3: [(0, -1.3201480344634703e-08), (1, -5.898246742162375e-09)],\n",
       "  1: [(1, 1.0398046939773344e-08), (0, 1.0311664457281092e-08)]},\n",
       " {4: [(0, -0.004722564889601323), (1, 2.0948888251205607e-05)],\n",
       "  8: [(0, -0.9028289488798115), (1, 0.0032163749008502704)],\n",
       "  9: [(0, -0.00017620070274585595), (1, 6.339701110570408e-07)],\n",
       "  5: [(0, -0.0013928520439334), (1, 2.8054340433586166e-06)],\n",
       "  7: [(0, 0.987361426087948), (1, -0.0035853753566033653)]},\n",
       " {4: [(0, -0.0013965639263803168)],\n",
       "  8: [(0, -0.11636162954434576)],\n",
       "  2: [(0, -0.0032239762698822827)],\n",
       "  6: [(0, 0.040118937997197034)],\n",
       "  0: [(0, 0.08855705085657821)]},\n",
       " {3: [(0, -0.007713181082812828)],\n",
       "  0: [(0, -0.005198988846580586)],\n",
       "  2: [(0, -0.009225013540978069)],\n",
       "  4: [(0, 0.0048876557599564115)],\n",
       "  6: [(0, 0.11446932471971638)]},\n",
       " {4: [(0, -2.7460372404815315e-09), (1, 8.446363334280063e-10)],\n",
       "  8: [(1, -4.17381292713937e-06), (0, -2.0688722372701592e-06)],\n",
       "  9: [(1, -0.004512138038721823), (0, -4.297242292481901e-05)],\n",
       "  5: [(0, -0.0033211760199730565), (1, 0.0015455349733607855)],\n",
       "  7: [(0, 0.003366188397152893), (1, 0.002970766369006889)]},\n",
       " {8: [(1, -0.07345724429805786), (0, 0.00019358934406746674)],\n",
       "  6: [(1, -0.02996892457241408), (0, -2.741709411414201e-06)],\n",
       "  0: [(1, -0.03290347390921244), (0, -0.00027124187570339416)],\n",
       "  1: [(1, -0.17611458263262572), (0, 0.0013478080506927148)],\n",
       "  3: [(1, 0.5377463432637754), (0, -0.0020630434761277085)]},\n",
       " {7: [(0, -0.002039624685400683)],\n",
       "  2: [(0, -0.004360507965555351)],\n",
       "  1: [(0, -0.003175986456290329)],\n",
       "  9: [(0, -0.0004081036334329089)],\n",
       "  5: [(0, 0.14676407503113637)]},\n",
       " {3: [(0, -0.00719450531256737)],\n",
       "  4: [(0, -0.005575007574734971)],\n",
       "  6: [(0, -0.00043554481361426743)],\n",
       "  0: [(0, 0.006268529830876214)],\n",
       "  8: [(0, 0.044691435838671335)]},\n",
       " {4: [(0, -0.002821848635939187), (1, 1.4168214716614825e-05)],\n",
       "  8: [(0, -0.9347418015783933), (1, 0.0036402429279270704)],\n",
       "  9: [(0, -5.2053887747283065e-05), (1, -3.915399046894469e-07)],\n",
       "  5: [(0, -0.0002804770491951815), (1, -0.0001692831557250165)],\n",
       "  7: [(0, 0.9877970516223382), (1, -0.003734981276550991)]},\n",
       " {2: [(0, -0.010900263654740155)],\n",
       "  6: [(0, -0.009145642696902118)],\n",
       "  1: [(0, -0.010988178394549204)],\n",
       "  0: [(0, 0.02030540148278989)],\n",
       "  3: [(0, 0.11056000015750882)]},\n",
       " {2: [(0, -0.010661487653494513)],\n",
       "  0: [(0, -0.005641512051889268)],\n",
       "  6: [(0, -0.010561529265898028)],\n",
       "  4: [(0, -0.00661540745405112)],\n",
       "  3: [(0, 0.13857287256665676)]},\n",
       " {8: [(0, -0.07083157348961129)],\n",
       "  0: [(0, -0.00543941535268125)],\n",
       "  5: [(0, -0.004934382250469643)],\n",
       "  7: [(0, -0.010605431053878614)],\n",
       "  9: [(0, 0.1395062525585576)]},\n",
       " {4: [(0, -0.004805368565577249)],\n",
       "  2: [(0, -0.008735733824140586)],\n",
       "  3: [(0, -0.004288024833062173)],\n",
       "  6: [(0, 0.009072299151653567)],\n",
       "  0: [(0, 0.11656776757708791)]},\n",
       " {8: [(0, -0.07342177714572455)],\n",
       "  6: [(0, -0.010194366547024117)],\n",
       "  0: [(0, -0.005392831320837296)],\n",
       "  1: [(0, -0.011153939392452237)],\n",
       "  3: [(0, 0.13327623782082612)]},\n",
       " {6: [(1, -5.116135391380276e-06), (0, -8.291966965649896e-07)],\n",
       "  2: [(1, -5.817676611442176e-06), (0, -2.128952995288912e-06)],\n",
       "  4: [(1, -7.311085521705771e-06), (0, -2.908947887191215e-06)],\n",
       "  3: [(1, -3.0001929061603272e-06), (0, -4.168473379961758e-07)],\n",
       "  1: [(1, 3.6111812171358616e-05), (0, 2.1032722708582704e-05)]},\n",
       " {8: [(0, -0.06766736077549175)],\n",
       "  0: [(0, 0.0017020693928205047)],\n",
       "  4: [(0, 0.019092430111536864)],\n",
       "  6: [(0, 0.036091207897813296)],\n",
       "  2: [(0, 0.04608953559328748)]},\n",
       " {0: [(0, -0.004654719672071285)],\n",
       "  8: [(0, -0.07897513115355523)],\n",
       "  2: [(0, 0.014706058147978771)],\n",
       "  6: [(0, 0.025525017358220013)],\n",
       "  4: [(0, 0.07713031978401869)]},\n",
       " {4: [(1, -4.4442373450333226e-14), (0, -6.3715082408018026e-15)],\n",
       "  8: [(1, -2.2005683086554458e-07), (0, 8.156440328867399e-10)],\n",
       "  9: [(1, -0.00020734647056415092), (0, 9.005590008698246e-07)],\n",
       "  5: [(1, -4.565383051363757e-05), (0, -6.503074549829846e-07)],\n",
       "  7: [(1, 0.00025317455923867213), (0, -2.938065066045174e-07)]},\n",
       " {1: [(0, -0.013026425609619615)],\n",
       "  2: [(0, -0.010515399122508763)],\n",
       "  3: [(0, -0.008099319433630486)],\n",
       "  6: [(0, -0.0071026492233051625)],\n",
       "  0: [(0, 0.13560743548569246)]},\n",
       " {2: [(0, -0.004077826332696946)],\n",
       "  8: [(0, -0.11730579390221668)],\n",
       "  9: [(0, -0.0003816494735241884)],\n",
       "  7: [(0, -0.0019072731939629819)],\n",
       "  5: [(0, 0.13724956770297655)]},\n",
       " {6: [(1, -7.516322469019432e-11), (0, 2.4177623282599485e-13)],\n",
       "  4: [(1, -1.742069107763438e-12), (0, -1.645334514051044e-14)],\n",
       "  2: [(1, -5.142274987377251e-10), (0, 1.040444237149748e-12)],\n",
       "  3: [(1, -1.808876591336177e-08), (0, 8.005361315105688e-11)],\n",
       "  1: [(0, 0.0), (1, 0.0)]},\n",
       " {2: [(0, -0.004092478844564094)],\n",
       "  8: [(0, -0.11772433477867712)],\n",
       "  9: [(0, -0.00035680561477591266)],\n",
       "  7: [(0, -0.001748047946495903)],\n",
       "  5: [(0, 0.13754747613832286)]},\n",
       " {1: [(0, -0.013036778384899377)],\n",
       "  2: [(0, -0.010153299832838797)],\n",
       "  6: [(0, -0.006594903157655873)],\n",
       "  4: [(0, 0.055357200594830236)],\n",
       "  3: [(0, 0.07050449719481318)]},\n",
       " {0: [(0, -0.0049395322350909735)],\n",
       "  8: [(0, -0.07381275715704795)],\n",
       "  6: [(0, -0.003813795609788437)],\n",
       "  2: [(0, 0.0057036253225647)],\n",
       "  4: [(0, 0.10703518225061076)]},\n",
       " {0: [(0, -0.002284349859992998)],\n",
       "  8: [(0, -0.11982751333952468)],\n",
       "  9: [(0, -0.0003898675149087811)],\n",
       "  7: [(0, -0.0019483439413180209)],\n",
       "  5: [(0, 0.1402001018313575)]},\n",
       " {8: [(0, -0.08096915611009119)],\n",
       "  0: [(0, -0.005152812415712892)],\n",
       "  5: [(0, -0.004006524176907499)],\n",
       "  7: [(0, -0.007817427681484333)],\n",
       "  9: [(0, 0.14155204911079028)]},\n",
       " {2: [(0, -4.739473068207844e-15), (1, 2.3887581783324745e-17)],\n",
       "  0: [(0, -9.406969161026533e-15), (1, 4.743964949448833e-17)],\n",
       "  4: [(0, -5.392967181144747e-13), (1, 2.721515110869388e-15)],\n",
       "  3: [(0, -1.2703305153636276e-12), (1, 6.381544938912748e-15)],\n",
       "  1: [(0, 0.0), (1, 0.0)]},\n",
       " {1: [(0, -0.012265325314241194)],\n",
       "  2: [(0, -0.009662868347300487)],\n",
       "  3: [(0, 0.003701521309770323)],\n",
       "  6: [(0, 0.011733203930399587)],\n",
       "  0: [(0, 0.09914666528374132)]},\n",
       " {0: [(0, -0.0023360525795682588)],\n",
       "  8: [(0, -0.12253962275172171)],\n",
       "  9: [(0, -0.0003986914425287045)],\n",
       "  7: [(0, -0.0019924988772396252)],\n",
       "  5: [(0, 0.14337338255371151)]},\n",
       " {5: [(0, -0.0049753189062584)],\n",
       "  2: [(0, -0.01036826974972333)],\n",
       "  0: [(0, -0.005483116412818233)],\n",
       "  6: [(0, -0.010253572881138606)],\n",
       "  8: [(0, 0.07113969731185386)]},\n",
       " {6: [(0, -0.010456841418100618)],\n",
       "  1: [(0, -0.013089082808933342)],\n",
       "  0: [(0, -0.005596417644327652)],\n",
       "  4: [(0, -0.006645507175438018)],\n",
       "  3: [(0, 0.1370363856333882)]},\n",
       " {3: [(0, -0.0014461781211130846)],\n",
       "  8: [(0, -0.12104801341847927)],\n",
       "  6: [(0, -0.005219878329914331)],\n",
       "  2: [(0, -0.0041589570702132775)],\n",
       "  4: [(0, 0.14080111818069152)]},\n",
       " {0: [(0, -0.0040012364245393586)],\n",
       "  8: [(0, -0.09047154552029292)],\n",
       "  6: [(0, 0.004477132950012136)],\n",
       "  2: [(0, 0.018512207918982424)],\n",
       "  4: [(0, 0.09904405307775448)]},\n",
       " {3: [(0, 0.0020379561316280154)],\n",
       "  0: [(0, 0.006906930641266217)],\n",
       "  4: [(0, 0.02387833358446929)],\n",
       "  6: [(0, 0.03246502649722408)],\n",
       "  2: [(0, 0.05742798340690257)]},\n",
       " {8: [(0, -0.10666494766574233)],\n",
       "  0: [(0, -0.003168797766612906)],\n",
       "  6: [(0, -0.0011121424451760388)],\n",
       "  2: [(0, 0.026688883237629777)],\n",
       "  4: [(0, 0.09941998621996032)]},\n",
       " {8: [(0, -0.1206620121232877)],\n",
       "  0: [(0, -0.0021055891852988797)],\n",
       "  4: [(0, -0.0015307942521839654)],\n",
       "  6: [(0, -0.002295624316393982)],\n",
       "  2: [(0, 0.1346349663181121)]},\n",
       " {2: [(0, -0.004230833179997746)],\n",
       "  8: [(0, -0.12170730322658098)],\n",
       "  9: [(0, -0.0003959835178768498)],\n",
       "  7: [(0, -0.0019789688208773147)],\n",
       "  5: [(0, 0.14239955457318404)]},\n",
       " {4: [(0, -0.001903528431557782)],\n",
       "  2: [(0, -0.004145810830464124)],\n",
       "  8: [(0, -0.11934977148392038)],\n",
       "  0: [(0, 1.5065726168010281e-05)],\n",
       "  6: [(0, 0.13334229048868507)]},\n",
       " {4: [(0, -1.6329724431196425e-06), (1, 3.1991825694799215e-09)],\n",
       "  8: [(0, -0.988013158407723), (1, 0.003940419100845246)],\n",
       "  9: [(0, 1.1324278272987642e-05), (1, 6.680260300174553e-06)],\n",
       "  5: [(0, 0.04773696737947237), (1, 0.021959728532227874)],\n",
       "  7: [(0, 0.9403944757276791), (1, -0.025907115072874763)]},\n",
       " {8: [(0, -0.11180947995842004)],\n",
       "  0: [(0, -0.002737448353363272)],\n",
       "  4: [(0, -0.0011377320340302767)],\n",
       "  6: [(0, -0.003048901280350986)],\n",
       "  2: [(0, 0.13143059331227164)]},\n",
       " {0: [(0, -0.005388760868083852)],\n",
       "  8: [(0, -0.07178798340241008)],\n",
       "  6: [(0, -0.007576333980977749)],\n",
       "  4: [(0, 0.013861483976115377)],\n",
       "  2: [(0, 0.10769643476483688)]},\n",
       " {0: [(0, -0.002167595191720267)],\n",
       "  8: [(0, -0.11370304717357782)],\n",
       "  9: [(0, -0.0003698654484599784)],\n",
       "  7: [(0, -0.0018437889944758696)],\n",
       "  5: [(0, 0.13302932620828645)]},\n",
       " {0: [(1, -0.020278926686651818), (0, -0.00026569272120502906)],\n",
       "  6: [(1, -0.009540131825440145), (0, -0.00016052534004124585)],\n",
       "  4: [(1, -0.04105843249060099), (0, 0.0003440875628443547)],\n",
       "  1: [(1, -0.7052911076277784), (0, 0.019381358569294176)],\n",
       "  3: [(1, 0.7829939560655698), (0, -0.019299957991489283)]},\n",
       " {4: [(0, -0.00404403776669331)],\n",
       "  2: [(0, -0.005992217097965747)],\n",
       "  0: [(0, 0.006480568887809567)],\n",
       "  6: [(0, 0.0074787433548207565)],\n",
       "  8: [(0, 0.03180597483701191)]},\n",
       " {5: [(0, -0.0047508029761686)],\n",
       "  2: [(0, -0.010462887629489432)],\n",
       "  0: [(0, -0.0054393177265455415)],\n",
       "  6: [(0, -0.010208728554865772)],\n",
       "  8: [(0, 0.06918936977837231)]},\n",
       " {3: [(0, -0.007794538732827791)],\n",
       "  4: [(0, -0.00624177810938725)],\n",
       "  2: [(0, -0.00988202565673866)],\n",
       "  6: [(0, 0.006847007834990335)],\n",
       "  0: [(0, 0.11544840086465012)]},\n",
       " {5: [(0, -0.003944279365656138)],\n",
       "  0: [(0, -0.005033465148698418)],\n",
       "  2: [(0, -0.010350448936674642)],\n",
       "  6: [(0, -0.009811795792478454)],\n",
       "  8: [(0, 0.06102226194669779)]},\n",
       " {3: [(0, -0.00767070398565363)],\n",
       "  8: [(0, -0.07687994760029922)],\n",
       "  2: [(0, -0.007283886168642795)],\n",
       "  6: [(0, 0.046662381393306765)],\n",
       "  4: [(0, 0.080429040538889)]},\n",
       " {0: [(0, -0.001390242109441427)],\n",
       "  8: [(0, -0.07641227820975356)],\n",
       "  6: [(0, 0.004938614486557187)],\n",
       "  2: [(0, 0.0284956837753255)],\n",
       "  4: [(0, 0.07779438172771912)]},\n",
       " {6: [(1, -1.1650826556818825e-08), (0, 5.0487329502998024e-11)],\n",
       "  4: [(1, -5.9884258285619085e-09), (0, 2.5973317759306663e-11)],\n",
       "  2: [(1, -1.3511843182731852e-08), (0, 5.627406579784419e-11)],\n",
       "  3: [(1, -1.9993200634339943e-08), (0, 4.359012863724756e-11)],\n",
       "  1: [(0, 0.0), (1, 0.0)]},\n",
       " {1: [(0, -0.01243327501435997)],\n",
       "  2: [(0, -0.010321235842615588)],\n",
       "  3: [(0, -0.007011421321221936)],\n",
       "  6: [(0, -0.003059322486344671)],\n",
       "  0: [(0, 0.13930728813829577)]},\n",
       " {0: [(0, -0.002576727771441214)],\n",
       "  8: [(0, -0.10219480524674376)],\n",
       "  2: [(0, 0.03586720588253503)],\n",
       "  6: [(0, 0.03995024128994675)],\n",
       "  4: [(0, 0.04843717220989709)]},\n",
       " {4: [(0, -0.0012556744967321864), (1, 4.944256711390956e-06)],\n",
       "  8: [(0, -0.9587578130170503), (1, 0.0034795188238782343)],\n",
       "  9: [(1, -3.8675220118404005e-05), (0, -1.6349446305479494e-05)],\n",
       "  5: [(1, -0.004818187617083497), (0, 0.0021989284624073214)],\n",
       "  7: [(0, 0.9856560169805851), (1, 0.0013077576341594484)]},\n",
       " {0: [(0, -0.36539657670118303), (1, 0.001689911163108314)],\n",
       "  2: [(0, -0.04205220436136179), (1, 0.00014657985446172553)],\n",
       "  4: [(0, -0.03920153553850152), (1, 1.4269552261216694e-05)],\n",
       "  3: [(0, -0.22666749373059972), (1, 0.0009385266013257331)],\n",
       "  1: [(0, 0.9384514309928986), (1, -0.0038646352876063163)]},\n",
       " {2: [(0, -4.8145694121659284e-20), (1, -3.914853519257099e-20)],\n",
       "  0: [(0, -3.5482282947309514e-19), (1, -3.4531949103215255e-19)],\n",
       "  3: [(0, -1.520332343257347e-18), (1, -9.194613369558447e-19)],\n",
       "  4: [(0, -5.559176466987059e-19), (1, -2.981453793847341e-19)],\n",
       "  1: [(0, 0.0), (1, 0.0)]},\n",
       " {4: [(0, -0.006163648540543949)],\n",
       "  2: [(0, -0.009944047481760636)],\n",
       "  0: [(0, -0.00520733030973181)],\n",
       "  6: [(0, -0.009740043458503935)],\n",
       "  8: [(0, 0.0668674365736226)]},\n",
       " {5: [(0, -0.0026933973045414777)],\n",
       "  2: [(0, -0.007060394975637469)],\n",
       "  0: [(0, -0.003233457811955059)],\n",
       "  6: [(0, -0.007202855657651897)],\n",
       "  8: [(0, 0.037818726850000754)]},\n",
       " {4: [(0, -0.0031983510638535985)],\n",
       "  8: [(0, -0.10075644204098212)],\n",
       "  6: [(0, 0.012714417909923907)],\n",
       "  0: [(0, 0.05053839513393955)],\n",
       "  2: [(0, 0.06034523745297991)]},\n",
       " {4: [(0, -7.816995680883077e-08), (1, -4.7007228610907115e-09)],\n",
       "  8: [(1, -0.0001635136851581843), (0, -4.30890748746093e-05)],\n",
       "  9: [(1, -0.030346009150925994), (0, 0.0007031550844765641)],\n",
       "  5: [(0, -0.019943282013443444), (1, 1.619835808834379e-05)],\n",
       "  7: [(1, 0.030493367214274508), (0, 0.019283403433012592)]},\n",
       " {8: [(0, -0.06902399725377414)],\n",
       "  0: [(0, -0.005287135428830698)],\n",
       "  5: [(0, -0.004799271016240369)],\n",
       "  7: [(0, -0.010335048101044747)],\n",
       "  9: [(0, 0.13583426582992866)]},\n",
       " {4: [(0, -4.314025614321744e-06), (1, 1.9250986920905192e-08)],\n",
       "  8: [(0, -0.9880447980424144), (1, 0.003923882332449156)],\n",
       "  9: [(0, 1.7947746496051673e-05), (1, 9.513675863507703e-06)],\n",
       "  5: [(0, 0.00044440889594098333), (1, 9.451516334107169e-06)],\n",
       "  7: [(0, 0.9879368421649181), (1, -0.003944141248632152)]},\n",
       " {0: [(0, -0.0011969324770530246)],\n",
       "  8: [(0, -0.055799194727474945)],\n",
       "  2: [(0, 0.013599713647349526)],\n",
       "  6: [(0, 0.01546545589941118)],\n",
       "  4: [(0, 0.06294117818546961)]},\n",
       " {6: [(0, -0.11909496260532507), (1, 0.0004150490694259698)],\n",
       "  4: [(0, -0.001653940879698618), (1, 5.9342079392212365e-06)],\n",
       "  2: [(0, -0.009627757923439777), (1, 3.241816693448524e-05)],\n",
       "  3: [(0, -0.16924511946024995), (1, 0.0006914684290662787)],\n",
       "  1: [(0, 0.9696831732697226), (1, -0.0034782562708433533)]},\n",
       " {3: [(0, 0.00015459059755494026)],\n",
       "  0: [(0, 0.004178872664297959)],\n",
       "  4: [(0, 0.01333755781202635)],\n",
       "  2: [(0, 0.036768540491358005)],\n",
       "  6: [(0, 0.07363709575304683)]},\n",
       " {4: [(0, -0.0019509841365326513)],\n",
       "  8: [(0, -0.12233172412855939)],\n",
       "  2: [(0, -0.00425243485127625)],\n",
       "  6: [(0, -0.005110291795051791)],\n",
       "  0: [(0, 0.14179851950627534)]},\n",
       " {1: [(0, -0.010592069363973645)],\n",
       "  2: [(0, -0.008930746875997724)],\n",
       "  0: [(0, -0.004336066111373357)],\n",
       "  6: [(0, -0.008659827116908415)],\n",
       "  8: [(0, 0.05733191919501891)]},\n",
       " {8: [(0, -0.07021174526375368)],\n",
       "  0: [(0, -0.005391816478500792)],\n",
       "  5: [(0, -0.004891259184593794)],\n",
       "  7: [(0, -0.010513328245433887)],\n",
       "  9: [(0, 0.1382862222971129)]},\n",
       " {0: [(1, -0.05843109536573309), (0, 0.00022727915705932617)],\n",
       "  4: [(1, -0.030593841259302142), (0, 0.00012269292598872326)],\n",
       "  2: [(1, -0.06811056636793911), (0, 0.0002652896181795522)],\n",
       "  3: [(1, -0.3862604125648818), (0, 0.0014071616201853173)],\n",
       "  1: [(1, 0.8262434552174636), (0, -0.0031102148108654412)]},\n",
       " {8: [(0, -0.07642186245929958)],\n",
       "  2: [(0, -0.008845387147135593)],\n",
       "  6: [(0, -0.0006720037597253185)],\n",
       "  3: [(0, 0.029477166345220105)],\n",
       "  4: [(0, 0.08458156613756443)]},\n",
       " {8: [(0, -0.07827016130651125)],\n",
       "  0: [(0, -0.005718505003440225)],\n",
       "  5: [(0, -0.004850752298824662)],\n",
       "  7: [(0, -0.010030958722192075)],\n",
       "  9: [(0, 0.14810620948228098)]},\n",
       " {8: [(0, -0.12045338980258294)],\n",
       "  2: [(0, -0.004185369163481133)],\n",
       "  7: [(0, -0.001937578000493469)],\n",
       "  9: [(0, -0.00016005340632212813)],\n",
       "  5: [(0, 0.14067750390106834)]},\n",
       " {4: [(1, -0.1933516835559462), (0, 0.008384474613574375)],\n",
       "  0: [(1, -0.07909821726470366), (0, -0.0672104136629501)],\n",
       "  2: [(0, -0.7442999056960355), (1, -0.30828820038876115)],\n",
       "  6: [(0, 0.047255202030304186), (1, -0.00032254921203041047)],\n",
       "  8: [(0, 0.7622822738219586), (1, 0.5946908518054296)]},\n",
       " {4: [(0, -1.2848335835219135e-06), (1, -1.9191293583168943e-07)],\n",
       "  8: [(0, -0.0011371571082190721), (1, -1.2321068281958571e-05)],\n",
       "  9: [(1, -0.006101326132456639), (0, -0.0010425078118055395)],\n",
       "  5: [(0, -0.0007904345132403621), (1, -0.0003487046109682976)],\n",
       "  7: [(1, 0.006463238462571455), (0, 0.002973781146873067)]},\n",
       " {2: [(0, -0.004264075602907843)],\n",
       "  1: [(0, -0.0030909871372726797)],\n",
       "  3: [(0, 0.00024727340103219823)],\n",
       "  6: [(0, -0.0030531179456704392)],\n",
       "  0: [(0, 0.1384684021062339)]},\n",
       " {8: [(1, -0.05730046494635092), (0, 0.00022198583520282407)],\n",
       "  6: [(1, -0.014960108039539543), (0, 5.364636397881457e-05)],\n",
       "  0: [(1, -0.017979254131830512), (0, 6.95664272574426e-05)],\n",
       "  1: [(1, -0.20578290513144185), (0, 0.0008213596368609481)],\n",
       "  3: [(1, 0.515401676157387), (0, -0.0020361032331496745)]},\n",
       " {8: [(0, -0.0686135309413488)],\n",
       "  0: [(0, -0.0032401289027647624)],\n",
       "  4: [(0, -0.0010596365038776127)],\n",
       "  6: [(0, 0.007498582503836263)],\n",
       "  2: [(0, 0.0992539703876118)]},\n",
       " {1: [(0, -0.012826750646794128)],\n",
       "  2: [(0, -0.010362731095933043)],\n",
       "  3: [(0, -0.008034594057161639)],\n",
       "  6: [(0, -0.009407635365243371)],\n",
       "  0: [(0, 0.1360027320267467)]},\n",
       " {0: [(0, -0.004658234090572504)],\n",
       "  8: [(0, -0.07876490710302722)],\n",
       "  2: [(0, -0.005688217072912829)],\n",
       "  6: [(0, 0.009102101061074796)],\n",
       "  4: [(0, 0.11399141752420931)]},\n",
       " {0: [(0, -1.6436492075258005e-11), (1, 7.890743774493183e-14)],\n",
       "  2: [(0, -3.049980910791107e-11), (1, 1.457172616362273e-13)],\n",
       "  4: [(0, -5.647799153652816e-09), (1, 2.7188346937427765e-11)],\n",
       "  3: [(0, -1.917055997136841e-09), (1, 9.247627224836897e-12)],\n",
       "  1: [(0, 0.0), (1, 0.0)]},\n",
       " {1: [(0, -0.013193251737265215)],\n",
       "  2: [(0, -0.010782477066499903)],\n",
       "  3: [(0, -0.00823120783983901)],\n",
       "  6: [(0, -0.009653427743565932)],\n",
       "  0: [(0, 0.14039295475873328)]},\n",
       " {4: [(0, -0.004045365319587641)],\n",
       "  2: [(0, -0.008070252813977398)],\n",
       "  3: [(0, -0.002151540554556306)],\n",
       "  6: [(0, 0.002873276960853836)],\n",
       "  0: [(0, 0.1289937165406944)]},\n",
       " {4: [(0, -0.004272042652749195)],\n",
       "  1: [(0, -0.008868524155996203)],\n",
       "  0: [(0, -0.0035095992799994125)],\n",
       "  6: [(0, -0.007633099323807258)],\n",
       "  8: [(0, 0.04677596722031807)]},\n",
       " {0: [(1, 3.055693342348417e-09), (0, 3.8567172178930554e-10)],\n",
       "  8: [(1, 0.00011066829992375352), (0, 3.598561077020334e-05)],\n",
       "  9: [(1, 0.03189495315341318), (0, -0.003545836396853219)],\n",
       "  5: [(1, 0.14281206026551171), (0, 0.006355396080817613)],\n",
       "  7: [(1, -0.17481762814963928), (0, -0.0028455865992488066)]},\n",
       " {8: [(0, -0.07443674283207395)],\n",
       "  1: [(0, -0.012961965877396918)],\n",
       "  2: [(0, -0.01073913033135243)],\n",
       "  6: [(0, -0.010498308025870727)],\n",
       "  0: [(0, 0.14044406711075522)]},\n",
       " {8: [(0, -0.11876716856335355)],\n",
       "  0: [(0, 0.0033751485732302507)],\n",
       "  4: [(0, 0.016668154185306015)],\n",
       "  6: [(0, 0.020457042883135493)],\n",
       "  2: [(0, 0.08374527490778831)]},\n",
       " {8: [(0, -0.07613906595147638)],\n",
       "  0: [(0, -0.005486317630128197)],\n",
       "  5: [(0, -0.004512486239607092)],\n",
       "  7: [(0, -0.008919866997777184)],\n",
       "  9: [(0, 0.14182949635560535)]},\n",
       " {8: [(0, -0.0689994816763492)],\n",
       "  0: [(0, -0.005320335043029568)],\n",
       "  5: [(0, -0.004821622443755578)],\n",
       "  7: [(0, -0.010326984992998627)],\n",
       "  9: [(0, 0.136073831203026)]},\n",
       " {0: [(1, -0.32968616071030604), (0, 0.001062529635626822)],\n",
       "  2: [(1, -0.039865610027786394), (0, 0.00011329641531132203)],\n",
       "  4: [(1, -0.03596682616032741), (0, 0.00015007309379854518)],\n",
       "  3: [(1, -0.25152324948317323), (0, 0.0011243595992872274)],\n",
       "  1: [(1, 0.943575063166946), (0, -0.003538537438234121)]},\n",
       " {8: [(0, -0.1970845482623636), (1, -0.0004376970660052368)],\n",
       "  6: [(0, -0.1199975791222119), (1, -0.0013832922003623042)],\n",
       "  0: [(0, -0.106162366075892), (1, -0.006487830460765569)],\n",
       "  1: [(1, -0.011690785510782127), (0, -0.006199661803444552)],\n",
       "  3: [(0, 0.9008083542342515), (1, 0.019936499990792667)]},\n",
       " {0: [(0, -0.005439849758760603)],\n",
       "  7: [(0, -0.010697605402030743)],\n",
       "  5: [(0, -0.004944032147760641)],\n",
       "  6: [(0, -0.010200930679408254)],\n",
       "  8: [(0, 0.07074006383375586)]},\n",
       " {6: [(0, -0.04488664887564294), (1, -0.0002833426668854746)],\n",
       "  4: [(0, -0.0018790399153291852), (1, -0.00033149024199997435)],\n",
       "  1: [(0, -0.07255735548477989), (1, -0.0013884394025112565)],\n",
       "  0: [(0, -0.17447412542267152), (1, -0.0017603792309158958)],\n",
       "  3: [(0, 0.3062385049361755), (1, 0.0037881500859740457)]},\n",
       " {0: [(1, -8.607175184589036e-12), (0, 4.1639137248564995e-14)],\n",
       "  2: [(1, -6.520196000437178e-10), (0, 3.1777576313287732e-12)],\n",
       "  4: [(1, -1.8084693070404675e-11), (0, 8.840003347946988e-14)],\n",
       "  3: [(1, -1.5636418693441802e-08), (0, 7.474547851143931e-11)],\n",
       "  1: [(0, 0.0), (1, 0.0)]},\n",
       " {0: [(0, -0.0032664660955179893)],\n",
       "  8: [(0, -0.09929749488465198)],\n",
       "  2: [(0, 0.00298580059931508)],\n",
       "  6: [(0, 0.004613682613825856)],\n",
       "  4: [(0, 0.11599792986168488)]},\n",
       " {4: [(0, -0.006818989193223187)],\n",
       "  2: [(0, -0.010805467999033057)],\n",
       "  0: [(0, -0.005737202590508167)],\n",
       "  6: [(0, -0.010760832640034189)],\n",
       "  8: [(0, 0.07462001559962007)]},\n",
       " {8: [(0, -0.12233172373360841)],\n",
       "  1: [(0, -0.0030973473650492207)],\n",
       "  7: [(0, -0.00198912239944678)],\n",
       "  9: [(0, -0.000366517610411216)],\n",
       "  5: [(0, 0.1430986414636211)]},\n",
       " {2: [(0, -0.03233963917377285), (1, 0.00013119274955763306)],\n",
       "  0: [(0, -0.6879714994810536), (1, 0.0028354533909073693)],\n",
       "  3: [(0, -0.04639607938705622), (1, 0.0001376267383733492)],\n",
       "  4: [(0, -0.005884219871488971), (1, 2.1081267775593142e-05)],\n",
       "  1: [(0, 0.9769806985618466), (1, -0.003936738820604263)]},\n",
       " {1: [(0, -0.010158576844811185)],\n",
       "  2: [(0, -0.009092850176717331)],\n",
       "  0: [(0, -0.004004098348258551)],\n",
       "  6: [(0, -0.00855522300242284)],\n",
       "  8: [(0, 0.05402284021579092)]},\n",
       " {8: [(0, -0.07537731373063282)],\n",
       "  6: [(0, -9.712472348528936e-05)],\n",
       "  4: [(0, 0.032523446231290255)],\n",
       "  2: [(0, 0.03457421909748271)],\n",
       "  3: [(0, 0.041848418891905444)]},\n",
       " {1: [(0, -0.0028957195032899355)],\n",
       "  0: [(0, -0.0019432911642878318)],\n",
       "  6: [(0, -0.004785507073812035)],\n",
       "  4: [(0, 0.0029665310308561164)],\n",
       "  3: [(0, 0.1340362775115714)]},\n",
       " {0: [(0, -0.005563085136228366)],\n",
       "  8: [(0, -0.07242022205756965)],\n",
       "  2: [(0, -0.009644292726867773)],\n",
       "  6: [(0, -0.00044934899647189097)],\n",
       "  4: [(0, 0.12712496146027005)]},\n",
       " {8: [(0, -0.10483138256627342)],\n",
       "  0: [(0, -0.003485589689699903)],\n",
       "  5: [(0, -0.0024358395218881737)],\n",
       "  7: [(0, -0.004761658323017524)],\n",
       "  9: [(0, 0.14662925880152658)]},\n",
       " {0: [(0, -0.0023676767167462253)],\n",
       "  8: [(0, -0.12419849471917818)],\n",
       "  9: [(0, -0.0004040520289067579)],\n",
       "  7: [(0, -0.0020188564136575915)],\n",
       "  5: [(0, 0.1453136430982058)]},\n",
       " {2: [(0, -0.004510103170665503)],\n",
       "  8: [(0, -0.12974099227168914)],\n",
       "  9: [(0, -0.0004221217521992727)],\n",
       "  7: [(0, -0.002109597744779608)],\n",
       "  5: [(0, 0.15179910329352433)]},\n",
       " {0: [(0, -0.003949365928411194)],\n",
       "  8: [(0, -0.08909163025046062)],\n",
       "  2: [(0, -0.004408244676225027)],\n",
       "  6: [(0, -0.0028482658000911236)],\n",
       "  4: [(0, 0.12743481849394783)]},\n",
       " {8: [(0, -0.11688379326778967)],\n",
       "  2: [(0, -0.0040631565822603554)],\n",
       "  1: [(0, -0.0029594098586246376)],\n",
       "  9: [(0, -0.0003802898679767472)],\n",
       "  5: [(0, 0.13675596817527963)]},\n",
       " {8: [(0, -0.12212342736169585)],\n",
       "  2: [(0, -0.00424123361107517)],\n",
       "  4: [(0, -0.0018784952442077686)],\n",
       "  0: [(0, 0.005061247919041716)],\n",
       "  6: [(0, 0.13132113399618528)]},\n",
       " {6: [(0, -0.0312499411144379), (1, 1.866099483648825e-05)],\n",
       "  1: [(0, -0.013212138253942109), (1, -0.0001349071658784381)],\n",
       "  0: [(0, -0.07905778010986406), (1, 0.00010327709272882206)],\n",
       "  4: [(0, -0.028453485083215914), (1, -4.8201392006383044e-05)],\n",
       "  3: [(0, 0.1590010504617967), (1, 9.930857166143719e-05)]},\n",
       " {0: [(0, -0.002324184004355249)],\n",
       "  8: [(0, -0.12158066669233605)],\n",
       "  5: [(0, 0.0017647792443869234)],\n",
       "  9: [(0, 0.010721662278815726)],\n",
       "  7: [(0, 0.12746730199638662)]},\n",
       " {3: [(0, -0.00793067950309157)],\n",
       "  8: [(0, -0.07019604833175684)],\n",
       "  2: [(0, -0.0018307360046636142)],\n",
       "  6: [(0, 0.00411329961528182)],\n",
       "  4: [(0, 0.1110382920597229)]},\n",
       " {8: [(0, -0.07717686862936943)],\n",
       "  0: [(0, -0.005561098631422576)],\n",
       "  5: [(0, -0.004584213818592411)],\n",
       "  7: [(0, -0.009353539493367343)],\n",
       "  9: [(0, 0.1440849820050713)]},\n",
       " {2: [(0, -0.004150919521132609)],\n",
       "  8: [(0, -0.11940844712602874)],\n",
       "  7: [(0, -0.0019415898326761243)],\n",
       "  9: [(0, -0.0003884959032268703)],\n",
       "  5: [(0, 0.13970985510300196)]},\n",
       " {4: [(0, -0.00558835579536558)],\n",
       "  2: [(0, -0.009662776937056396)],\n",
       "  0: [(0, -0.004578493248975396)],\n",
       "  6: [(0, -0.009301311040316085)],\n",
       "  8: [(0, 0.060825503928280004)]},\n",
       " {8: [(0, -0.07076083830953336)],\n",
       "  0: [(0, -0.00545059411749687)],\n",
       "  5: [(0, -0.004935338600531406)],\n",
       "  7: [(0, -0.010574933287019302)],\n",
       "  9: [(0, 0.1394799279265689)]},\n",
       " {8: [(0, -0.024445932619724085), (1, -0.02075390781849946)],\n",
       "  6: [(0, -0.03685261778066401), (1, 0.006612480317338763)],\n",
       "  1: [(1, 0.02202135846236889), (0, -0.016160851063895983)],\n",
       "  0: [(1, -0.07431986005735101), (0, -0.07001497160583799)],\n",
       "  3: [(1, 0.8724393202733877), (0, 0.1639324897647285)]},\n",
       " {8: [(0, -0.12316259954188351)],\n",
       "  0: [(0, -0.0023479287786301534)],\n",
       "  5: [(0, -0.0012121096716312982)],\n",
       "  7: [(0, -0.0020024340712875154)],\n",
       "  9: [(0, 0.14491348423269856)]},\n",
       " {3: [(0, -0.008028854328339071)],\n",
       "  0: [(0, -0.005127647880413105)],\n",
       "  2: [(0, 0.0003765671766226481)],\n",
       "  4: [(0, 0.005133781937281385)],\n",
       "  6: [(0, 0.10938263065785551)]},\n",
       " {3: [(0, -0.0036213835456600577)],\n",
       "  8: [(0, -0.10113373878637617)],\n",
       "  2: [(0, -0.0047114968461197506)],\n",
       "  6: [(0, 0.00080762653636024)],\n",
       "  4: [(0, 0.13047564449585197)]},\n",
       " {0: [(0, 3.637236941882186e-10), (1, 2.3156489540385216e-10)],\n",
       "  8: [(0, 6.963423559300744e-05), (1, -4.500567497934292e-05)],\n",
       "  9: [(1, -0.0033391937697556493), (0, 0.00012169737421390987)],\n",
       "  5: [(1, 0.2945783301309699), (0, 0.17720996785035903)],\n",
       "  7: [(1, -0.2911941462685909), (0, -0.17740133657315685)]},\n",
       " {8: [(0, -0.07120260736603659)],\n",
       "  0: [(0, -0.005467902319318071)],\n",
       "  6: [(0, -0.01019648980035028)],\n",
       "  4: [(0, -0.006450741105147574)],\n",
       "  2: [(0, 0.13170210450943076)]},\n",
       " {8: [(0, -0.0756429912964442)],\n",
       "  0: [(0, -0.0049137892654022575)],\n",
       "  6: [(0, -0.0037632351376328194)],\n",
       "  4: [(0, 0.0035680891076698374)],\n",
       "  2: [(0, 0.11342705967622559)]},\n",
       " {8: [(0, -0.10152924405160356)],\n",
       "  0: [(0, -0.0008068266936463827)],\n",
       "  4: [(0, 0.026394396039752077)],\n",
       "  6: [(0, 0.03900915977415405)],\n",
       "  2: [(0, 0.05263244028501735)]},\n",
       " {0: [(0, -0.003156591485069679)],\n",
       "  8: [(0, -0.10513974454159067)],\n",
       "  6: [(0, 0.0187861677811237)],\n",
       "  2: [(0, 0.02866127333353768)],\n",
       "  4: [(0, 0.0811574657842006)]},\n",
       " {5: [(0, -0.0011834315744166475)],\n",
       "  2: [(0, -0.004180037177550442)],\n",
       "  0: [(0, -0.002292328271536162)],\n",
       "  6: [(0, -0.00522303674588556)],\n",
       "  8: [(0, 0.021627219127192863)]},\n",
       " {1: [(0, -0.012799244162835979)],\n",
       "  0: [(0, -0.005233208482386732)],\n",
       "  6: [(0, -0.00986429570336188)],\n",
       "  4: [(0, -0.004242421137612659)],\n",
       "  3: [(0, 0.13143355011853536)]},\n",
       " {4: [(0, -0.005667126265551353)],\n",
       "  8: [(0, -0.08038359498355342)],\n",
       "  2: [(0, -0.010135811507756687)],\n",
       "  6: [(0, -0.009551111152363491)],\n",
       "  0: [(0, 0.13515523828283757)]},\n",
       " {8: [(0, -0.10404016915475009)],\n",
       "  0: [(0, -0.0031992891489501488)],\n",
       "  4: [(0, -0.0030491676953623877)],\n",
       "  6: [(0, -0.006237281952563052)],\n",
       "  2: [(0, 0.1326302646889932)]},\n",
       " {0: [(0, -0.00553419561728449)],\n",
       "  2: [(0, -0.010470830280475)],\n",
       "  5: [(0, -0.005020404988462236)],\n",
       "  6: [(0, -0.010344588373389803)],\n",
       "  8: [(0, 0.07177713564423965)]},\n",
       " {8: [(0, -0.06910300254996592)],\n",
       "  1: [(0, -0.01242540612672993)],\n",
       "  7: [(0, -0.01034786345642729)],\n",
       "  5: [(0, -0.004811341299304571)],\n",
       "  9: [(0, 0.13607971751937553)]},\n",
       " {3: [(0, -0.0071135338062296855)],\n",
       "  4: [(0, -0.005987084772425977)],\n",
       "  2: [(0, -0.009774698591331111)],\n",
       "  6: [(0, -0.005093864721972462)],\n",
       "  0: [(0, 0.13109374328224685)]},\n",
       " {0: [(0, -0.005545479555160228)],\n",
       "  2: [(0, -0.010480211199503557)],\n",
       "  5: [(0, -0.005033153240208311)],\n",
       "  6: [(0, -0.010374523011834984)],\n",
       "  8: [(0, 0.07197404051274477)]},\n",
       " {4: [(0, -0.006753914836100512)],\n",
       "  2: [(0, -0.010694260189547231)],\n",
       "  3: [(0, -0.0077635783281557345)],\n",
       "  6: [(0, 0.0010112216768551957)],\n",
       "  0: [(0, 0.13068195960052467)]},\n",
       " {8: [(0, -0.7446742830724566), (1, 0.002908467394170253)],\n",
       "  6: [(0, -0.017129234935210236), (1, 4.200064694170508e-05)],\n",
       "  0: [(0, -0.01007614004693685), (1, -7.269109132819682e-05)],\n",
       "  1: [(0, -0.011140460154464613), (1, -0.0005021882185180544)],\n",
       "  3: [(0, 0.8738529223267428), (1, -0.002721063439559011)]},\n",
       " {8: [(0, -0.07967190459041769)],\n",
       "  0: [(0, -0.004885598443060175)],\n",
       "  5: [(0, -0.003828409209205193)],\n",
       "  7: [(0, -0.0075289880965203615)],\n",
       "  9: [(0, 0.13750022655514654)]},\n",
       " {0: [(0, -2.24886269314136e-15), (1, -1.4188728278761207e-16)],\n",
       "  2: [(0, -6.075555851969153e-15), (1, -2.0390432334034752e-15)],\n",
       "  4: [(0, -1.1731374396350269e-11), (1, 4.041220810776209e-14)],\n",
       "  3: [(0, -1.986824404640751e-12), (1, -4.5280807840343505e-14)],\n",
       "  1: [(0, 0.0), (1, 0.0)]},\n",
       " {4: [(0, -0.003459015823994066)],\n",
       "  2: [(0, -0.005887549492479638)],\n",
       "  3: [(0, -0.0022562675828567682)],\n",
       "  6: [(0, 0.022307763978876)],\n",
       "  0: [(0, 0.10703595884973569)]},\n",
       " {0: [(0, -0.004269256790476639)],\n",
       "  2: [(0, -0.009186855660189827)],\n",
       "  6: [(0, -0.008057127638514312)],\n",
       "  4: [(0, 0.016605427965818303)],\n",
       "  3: [(0, 0.11798834241606868)]},\n",
       " {0: [(0, -0.005210160469211509)],\n",
       "  3: [(0, -0.007197243078712763)],\n",
       "  2: [(0, -0.007958774151048276)],\n",
       "  4: [(0, 0.019856384876615073)],\n",
       "  6: [(0, 0.0994602425411458)]},\n",
       " {0: [(0, -0.0033090967253055687)],\n",
       "  8: [(0, -0.09958825601359617)],\n",
       "  2: [(0, -0.004790610994964959)],\n",
       "  6: [(0, 0.005112897554948093)],\n",
       "  4: [(0, 0.12175651121637279)]},\n",
       " {2: [(0, -0.01630607986903218), (1, 5.375354689696309e-05)],\n",
       "  0: [(0, -0.14272549455730602), (1, 0.00012185441710110278)],\n",
       "  4: [(0, -0.0387507018733021), (1, 0.0001954877028175375)],\n",
       "  3: [(0, -0.6865586916053694), (1, 0.003554653905318326)],\n",
       "  1: [(0, 0.9823537627727982), (1, -0.004254706273849223)]},\n",
       " {1: [(0, -0.013048618674888712)],\n",
       "  3: [(0, -0.008000216459491198)],\n",
       "  2: [(0, -0.010810923222349743)],\n",
       "  6: [(0, -0.010568633225463715)],\n",
       "  0: [(0, 0.14138309860154782)]},\n",
       " {1: [(0, -0.010761338432562356)],\n",
       "  3: [(0, -0.0058638570707216595)],\n",
       "  6: [(0, 0.008605345059189827)],\n",
       "  0: [(0, 0.03932781679508465)],\n",
       "  2: [(0, 0.058320879255622404)]},\n",
       " {8: [(0, -0.07781163722384801)],\n",
       "  4: [(0, -0.006835006661591785)],\n",
       "  2: [(0, -0.01115721707492266)],\n",
       "  6: [(0, -0.007102565333936193)],\n",
       "  0: [(0, 0.14203288218161936)]},\n",
       " {1: [(0, -0.009927780693505642)],\n",
       "  0: [(0, -0.0036323799823302695)],\n",
       "  4: [(0, -0.004490173791758496)],\n",
       "  6: [(0, -0.006632830711166738)],\n",
       "  2: [(0, 0.1340843478434173)]},\n",
       " {0: [(0, -0.004652676201526003)],\n",
       "  6: [(0, -0.008506038494287825)],\n",
       "  2: [(0, -0.008636767116428634)],\n",
       "  4: [(0, 0.006653717472837712)],\n",
       "  3: [(0, 0.12148620189056214)]},\n",
       " {6: [(0, -0.010199942404267462)],\n",
       "  1: [(0, -0.012090403876678566)],\n",
       "  0: [(0, -0.00525383761245705)],\n",
       "  4: [(0, -0.00582843347183247)],\n",
       "  3: [(0, 0.134586852218365)]},\n",
       " {8: [(0, -0.07329741283105667)],\n",
       "  0: [(0, -0.005416154234458987)],\n",
       "  5: [(0, -0.004683874403311877)],\n",
       "  7: [(0, -0.009780780223173104)],\n",
       "  9: [(0, 0.14010044520407453)]},\n",
       " {0: [(0, -0.11414738622087818), (1, 0.0004667847204209469)],\n",
       "  2: [(0, -0.1002599218129151), (1, 0.00041270680992467435)],\n",
       "  4: [(0, -0.1928407125323824), (1, 0.0007930299504584588)],\n",
       "  3: [(0, -0.16145532420082828), (1, 0.0005498229467039041)],\n",
       "  1: [(0, 0.9088563905247177), (1, -0.0035239517733614096)]},\n",
       " {4: [(0, -0.0025650380061143603), (1, -4.809903283192181e-07)],\n",
       "  8: [(0, -0.06076854011327605), (1, -0.0005343391572533579)],\n",
       "  9: [(0, -0.008957104672689753), (1, 4.071862666732721e-05)],\n",
       "  5: [(0, -0.025430669622806594), (1, 8.896877700921646e-05)],\n",
       "  7: [(0, 0.1018244625690174), (1, 0.0005127203056996822)]},\n",
       " {8: [(0, -0.0780985372109118)],\n",
       "  0: [(0, -0.005550127020247373)],\n",
       "  5: [(0, -0.004446032652344971)],\n",
       "  7: [(0, -0.008949840341233136)],\n",
       "  9: [(0, 0.1439046168490495)]},\n",
       " {0: [(0, -1.5704175227908514e-17), (1, -1.4310392586655744e-17)],\n",
       "  2: [(0, -2.54700528247765e-18), (1, -2.3196049956439708e-18)],\n",
       "  4: [(0, -9.903936763880207e-17), (1, -5.968173679526704e-17)],\n",
       "  3: [(0, -2.4595012117065845e-17), (1, -2.2004606492255122e-17)],\n",
       "  1: [(0, 0.0), (1, 0.0)]},\n",
       " {6: [(0, -0.0053924915587726914), (1, -7.798621510602325e-05)],\n",
       "  4: [(0, -0.006429754859563569), (1, -2.178047310304239e-05)],\n",
       "  2: [(0, -0.0022634797977860374), (1, -0.0001221978882304014)],\n",
       "  3: [(0, -0.039351698077637436), (1, 6.231793533886356e-05)],\n",
       "  1: [(0, 0.07790794571987339), (1, 0.0005132459781066683)]},\n",
       " {4: [(0, -0.001987350739019687)],\n",
       "  8: [(0, -0.12461201509411687)],\n",
       "  2: [(0, -0.004331070451729695)],\n",
       "  6: [(0, -0.004792767417941373)],\n",
       "  0: [(0, 0.14402826549654815)]},\n",
       " {5: [(1, -0.014922440977287222), (0, 5.190811902605116e-05)],\n",
       "  2: [(1, -0.06508379811847914), (0, 0.00025542625041796057)],\n",
       "  4: [(1, -0.08694101256934175), (0, 0.00033993958038679487)],\n",
       "  3: [(1, -0.2415973290677031), (0, 0.0010079078811454517)],\n",
       "  1: [(1, 0.8897791201020504), (0, -0.0036893106448520493)]},\n",
       " {4: [(1, -3.4968372726383467e-13), (0, -7.56124355648989e-16)],\n",
       "  8: [(1, -4.3990363060057585e-07), (0, 1.3009116668421385e-09)],\n",
       "  9: [(1, -0.0002912299945021062), (0, 1.0605179391360282e-06)],\n",
       "  5: [(1, -0.00043419588867514184), (0, 1.51920450516179e-06)],\n",
       "  7: [(1, 0.0007258819920762903), (0, -2.523991810710348e-06)]},\n",
       " {3: [(0, -0.0044122322854875185)],\n",
       "  8: [(0, -0.09816349678895193)],\n",
       "  2: [(0, -0.008490780743432349)],\n",
       "  6: [(0, -0.007968073612209)],\n",
       "  0: [(0, 0.14381507104993604)]},\n",
       " {0: [(1, -0.002139265267176463), (0, -6.043768262987762e-05)],\n",
       "  7: [(1, -0.01336474180128577), (0, -6.317012311980719e-05)],\n",
       "  6: [(1, -0.0003485950734510122), (0, -5.5902399026867864e-05)],\n",
       "  4: [(1, -0.00023494492627535728), (0, -3.2440330099734074e-05)],\n",
       "  8: [(1, 0.9874129661105822), (0, -0.004112376291372247)]},\n",
       " {2: [(0, -0.004338989060267472)],\n",
       "  8: [(0, -0.12481859687171794)],\n",
       "  9: [(0, -0.000406103124725079)],\n",
       "  7: [(0, -0.00202955542688067)],\n",
       "  5: [(0, 0.1460398188689583)]},\n",
       " {8: [(0, -0.12523140149117648)],\n",
       "  3: [(0, -0.0014993761209133754)],\n",
       "  2: [(0, -0.004353334226269414)],\n",
       "  6: [(0, -0.005431130535741421)],\n",
       "  0: [(0, 0.14535944586865623)]},\n",
       " {4: [(0, -0.004029125276389243)],\n",
       "  2: [(0, -0.007734474068303344)],\n",
       "  3: [(0, -0.0038308807479303705)],\n",
       "  6: [(0, 0.005795501947287375)],\n",
       "  0: [(0, 0.12273671767563495)]},\n",
       " {1: [(0, -0.013224986237825184)],\n",
       "  8: [(0, -0.07354980984346139)],\n",
       "  2: [(0, -0.010677963562592995)],\n",
       "  6: [(0, -0.010552513780181327)],\n",
       "  0: [(0, 0.14113329037691746)]},\n",
       " {2: [(1, -0.04205025805378069), (0, 0.00011151449832405736)],\n",
       "  0: [(1, -0.3157409065660052), (0, 0.0013861398590784997)],\n",
       "  4: [(1, -0.045451844625630435), (0, 0.0001754272621915663)],\n",
       "  3: [(1, -0.2691961880422124), (0, 0.0012185435172838305)],\n",
       "  1: [(1, 0.9325263298477304), (0, -0.003927008578103523)]},\n",
       " {2: [(0, -0.00997657693987905)],\n",
       "  4: [(0, -0.006267645949721881)],\n",
       "  3: [(0, -0.0037264990172109296)],\n",
       "  6: [(0, -0.0009971745656241974)],\n",
       "  0: [(0, 0.11936061581661966)]},\n",
       " {8: [(1, -0.21287400407621054), (0, 0.0039081377041550285)],\n",
       "  2: [(0, 0.021512315013637626), (1, -0.011898561776536733)],\n",
       "  3: [(1, 0.1876837954633303), (0, -0.08798242340243193)],\n",
       "  6: [(0, 0.16411296878995377), (1, 0.041471374830453815)],\n",
       "  4: [(1, 0.36419046814318407), (0, -0.10797807704555966)]},\n",
       " {2: [(0, -0.01078693381083198)],\n",
       "  7: [(0, -0.01122145886885022)],\n",
       "  4: [(0, -0.006797614530004201)],\n",
       "  6: [(0, -0.010715611147934423)],\n",
       "  8: [(0, 0.07432021806615674)]},\n",
       " {4: [(0, -0.0020005180278904965)],\n",
       "  9: [(0, -0.00040812027981575)],\n",
       "  5: [(0, -0.0012345252889312142)],\n",
       "  8: [(0, -0.12543761272678794)],\n",
       "  7: [(0, 0.14595897595394225)]},\n",
       " {4: [(0, -0.00464468476067185)],\n",
       "  2: [(0, -0.006552328414854757)],\n",
       "  3: [(0, 0.00480104739630713)],\n",
       "  6: [(0, 0.022503496751582825)],\n",
       "  0: [(0, 0.09129102191683969)]},\n",
       " {8: [(0, -0.0754579301171498)],\n",
       "  0: [(0, -0.005361840363615894)],\n",
       "  5: [(0, -0.004229784143580586)],\n",
       "  7: [(0, -0.008397162181753582)],\n",
       "  9: [(0, 0.13872239324366759)]},\n",
       " {1: [(0, -0.0129686048833164)],\n",
       "  0: [(0, -0.00558858629025378)],\n",
       "  5: [(0, -0.004978467809856438)],\n",
       "  7: [(0, -0.010560376813491886)],\n",
       "  9: [(0, 0.1434269242901836)]},\n",
       " {0: [(0, -0.005671688168345481)],\n",
       "  8: [(0, -0.07727192554631147)],\n",
       "  5: [(0, -0.0048112636905000596)],\n",
       "  7: [(0, -0.003650504346262667)],\n",
       "  9: [(0, 0.14040178073298656)]},\n",
       " {4: [(0, -0.005574580780833135)],\n",
       "  5: [(0, -0.0037919090590418374)],\n",
       "  9: [(0, -0.0013912106110384465)],\n",
       "  8: [(0, -0.0766012119515419)],\n",
       "  7: [(0, 0.1279208445565142)]},\n",
       " {8: [(0, -0.10305898161885309)],\n",
       "  0: [(0, -0.0033856888238487422)],\n",
       "  2: [(0, 0.02112334249069355)],\n",
       "  6: [(0, 0.040991154481965074)],\n",
       "  4: [(0, 0.06418055719876761)]},\n",
       " {0: [(0, -0.005861698493452139)],\n",
       "  2: [(0, -0.010572205883142897)],\n",
       "  6: [(0, -0.004717679929861699)],\n",
       "  4: [(0, 0.05243582750760163)],\n",
       "  3: [(0, 0.07841504897764355)]},\n",
       " {8: [(0, -0.08027200106522812)],\n",
       "  0: [(0, -0.005108715885085003)],\n",
       "  5: [(0, -0.003972761037208585)],\n",
       "  7: [(0, -0.007829982977095687)],\n",
       "  9: [(0, 0.14041412641913356)]},\n",
       " {1: [(0, -0.003114475543972102)],\n",
       "  8: [(0, -0.12335944450317766)],\n",
       "  2: [(0, -0.004273958307768707)],\n",
       "  9: [(0, -0.0003845093449941711)],\n",
       "  5: [(0, 0.1442853109131388)]},\n",
       " {1: [(0, -0.0126933993997361)],\n",
       "  0: [(0, -0.005635641842038391)],\n",
       "  5: [(0, -0.004690365041788842)],\n",
       "  7: [(0, -0.009617359447686201)],\n",
       "  9: [(0, 0.14599692534111125)]},\n",
       " {0: [(1, -0.05232710802787156), (0, 0.00016308844416360342)],\n",
       "  2: [(1, -0.06221927652127017), (0, 0.00017002438645929578)],\n",
       "  4: [(1, -0.02690659400895958), (0, 4.985440452750256e-05)],\n",
       "  3: [(1, -0.473730217385706), (0, 0.0022863134968613935)],\n",
       "  1: [(1, 0.7756388429171902), (0, -0.0028979560316808556)]},\n",
       " {2: [(0, -0.004204146116649451)],\n",
       "  8: [(0, -0.06587819543573312)],\n",
       "  3: [(0, 0.017513664254416545)],\n",
       "  6: [(0, 0.018709103815863357)],\n",
       "  4: [(0, 0.06451108004109865)]},\n",
       " {2: [(1, -0.049379657150269846), (0, 0.0001871877982370438)],\n",
       "  0: [(1, -0.19849016329404087), (0, 0.0009728137822163484)],\n",
       "  3: [(1, -0.27399591634648074), (0, 0.0012397546576845416)],\n",
       "  4: [(1, -0.0897622691002295), (0, 0.00027089253259872246)],\n",
       "  1: [(1, 0.9107939854314735), (0, -0.003906563858347268)]},\n",
       " {8: [(0, -0.07158137533560435)],\n",
       "  4: [(0, 0.005365512931735872)],\n",
       "  0: [(0, 0.00786439844615248)],\n",
       "  2: [(0, 0.013364058625181884)],\n",
       "  6: [(0, 0.0832707110251219)]},\n",
       " {8: [(0, -0.07017240888705206)],\n",
       "  0: [(0, -0.005296838384932346)],\n",
       "  4: [(0, 0.007550361596444373)],\n",
       "  6: [(0, 0.010803240601353016)],\n",
       "  2: [(0, 0.09489867290103948)]},\n",
       " {0: [(0, -0.004853924409561118)],\n",
       "  8: [(0, -0.06977142552528591)],\n",
       "  6: [(0, 0.0027388747810019685)],\n",
       "  2: [(0, 0.047270280202891805)],\n",
       "  4: [(0, 0.0624808979274206)]},\n",
       " {0: [(0, -0.004339705409538033)],\n",
       "  8: [(0, -0.08407117277170925)],\n",
       "  6: [(0, 0.008259830383148894)],\n",
       "  2: [(0, 0.00796062308604384)],\n",
       "  4: [(0, 0.10252116920593261)]},\n",
       " {4: [(0, -1.612996247552066e-05), (1, 6.212479207502608e-08)],\n",
       "  8: [(0, -0.0010323956105568314), (1, 2.848794915032225e-05)],\n",
       "  9: [(0, -0.0011258531920864893), (1, -0.00033745186822678946)],\n",
       "  5: [(1, 0.012795368123352935), (0, 0.006580513470395492)],\n",
       "  7: [(1, -0.012486315371938918), (0, -0.004385597937057472)]},\n",
       " {0: [(0, -0.0023201465306610905)],\n",
       "  8: [(0, -0.12167248947724005)],\n",
       "  5: [(0, -0.0005477708147935578)],\n",
       "  9: [(0, 0.005870127684147737)],\n",
       "  7: [(0, 0.13466737169265577)]},\n",
       " {4: [(0, -0.004771619407721856)],\n",
       "  3: [(0, -0.004825626939521095)],\n",
       "  2: [(0, -0.008634049274937479)],\n",
       "  6: [(0, 0.0071451309091494835)],\n",
       "  0: [(0, 0.1231817212595182)]},\n",
       " {2: [(1, -0.037036295320033163), (0, 0.00035366500147104775)],\n",
       "  4: [(1, -0.005284363655801014), (0, 0.0021037666955343697)],\n",
       "  3: [(1, -0.0386805754706802), (0, 0.005064865999603322)],\n",
       "  0: [(1, -0.11650895874449488), (0, -0.03509192642952616)],\n",
       "  6: [(1, 0.27547191622900163), (0, 0.027193768296344574)]},\n",
       " {0: [(0, 3.3172278379820244e-06), (1, 2.941026525241e-06)],\n",
       "  8: [(0, -0.9871820273042445), (1, 0.004886285601700175)],\n",
       "  5: [(1, -0.02739531781544506), (0, 0.01146447786708522)],\n",
       "  9: [(0, 0.06114116273771209), (1, 0.058822330750243415)],\n",
       "  7: [(0, 0.9145982991309176), (1, -0.03631426049668347)]},\n",
       " {2: [(0, -0.00420183264224408)],\n",
       "  8: [(0, -0.12087305241883829)],\n",
       "  9: [(0, -0.0003932692651279424)],\n",
       "  7: [(0, -0.0019654044099051897)],\n",
       "  5: [(0, 0.14142346713856468)]},\n",
       " {4: [(0, -0.006271715626953103)],\n",
       "  2: [(0, -0.009938250462902493)],\n",
       "  0: [(0, -0.005276750281057041)],\n",
       "  6: [(0, -0.009897197416733132)],\n",
       "  8: [(0, 0.06863121566239203)]},\n",
       " {0: [(0, 0.010040510114168767)],\n",
       "  4: [(0, 0.012713760058000184)],\n",
       "  3: [(0, 0.014391797621462489)],\n",
       "  2: [(0, 0.02033730565574049)],\n",
       "  6: [(0, 0.04021795408440871)]},\n",
       " {0: [(0, 0.0052521000200218505)],\n",
       "  6: [(0, 0.015855823417445788)],\n",
       "  8: [(0, -0.07381213344259181)],\n",
       "  2: [(0, 0.028175406832172213)],\n",
       "  4: [(0, 0.03169367707980485)]},\n",
       " {9: [(0, -4.943088452752949e-12), (1, -5.540156612098789e-13)],\n",
       "  7: [(0, -4.561493984661535e-12), (1, -6.878624962475742e-13)],\n",
       "  6: [(0, -2.1192483774132526e-10), (1, -3.40175784499878e-11)],\n",
       "  4: [(0, -2.0020974735330043e-10), (1, -2.0513514217944467e-11)],\n",
       "  8: [(0, 0.0), (1, 0.0)]},\n",
       " {8: [(0, -0.06991222478053202)],\n",
       "  3: [(0, -0.007895492775569607)],\n",
       "  2: [(0, -0.008444157893018034)],\n",
       "  6: [(0, -0.00012138199681752765)],\n",
       "  4: [(0, 0.12145492198208119)]},\n",
       " {4: [(0, -4.737863556351125e-12), (1, -3.490947374784105e-12)],\n",
       "  8: [(1, -1.7945756395755478e-07), (0, -6.482733075581938e-08)],\n",
       "  9: [(1, -0.0007446276519335234), (0, -2.492761854243842e-07)],\n",
       "  5: [(1, -0.0001583232612869934), (0, -1.539678212546869e-05)],\n",
       "  7: [(1, 0.0009031293136927604), (0, 1.5723770145141275e-05)]},\n",
       " {0: [(0, -0.005549371984793719)],\n",
       "  2: [(0, -0.01052354836622487)],\n",
       "  6: [(0, -0.010355341703464655)],\n",
       "  4: [(0, -0.006595878689723116)],\n",
       "  8: [(0, 0.07187322127960619)]},\n",
       " {3: [(0, -0.007067590735423068)],\n",
       "  4: [(0, -1.3275938851451772e-06)],\n",
       "  0: [(0, 0.00885910799623126)],\n",
       "  2: [(0, 0.014237614948125681)],\n",
       "  6: [(0, 0.09049717797014921)]},\n",
       " {2: [(0, -0.004143629301276228)],\n",
       "  8: [(0, -0.11919872987888502)],\n",
       "  9: [(0, -0.00038781125652445034)],\n",
       "  7: [(0, -0.0019368252950722842)],\n",
       "  5: [(0, 0.13946310960473085)]},\n",
       " {1: [(0, -0.01280843230501206)],\n",
       "  0: [(0, -0.005437982429190819)],\n",
       "  7: [(0, -0.010699998141196987)],\n",
       "  5: [(0, -0.004942924837906563)],\n",
       "  9: [(0, 0.1402501111306107)]},\n",
       " {1: [(0, -0.012030850588782433)],\n",
       "  0: [(0, -0.005456570770493824)],\n",
       "  5: [(0, -0.004371042825070548)],\n",
       "  7: [(0, -0.008798511520911342)],\n",
       "  9: [(0, 0.14147834599424342)]},\n",
       " {8: [(0, -0.08472471741240105)],\n",
       "  3: [(0, -0.005861966268688122)],\n",
       "  2: [(0, -0.009312572471237431)],\n",
       "  6: [(0, -0.008079547568979377)],\n",
       "  0: [(0, 0.1380518630229559)]},\n",
       " {4: [(0, -0.006481820592109924)],\n",
       "  2: [(0, -0.010224999515364456)],\n",
       "  3: [(0, -0.007022028541847057)],\n",
       "  6: [(0, 0.010765708876928494)],\n",
       "  0: [(0, 0.11428393597448382)]},\n",
       " {8: [(0, -0.11761828845356068)],\n",
       "  0: [(0, -0.0027787005527716057)],\n",
       "  4: [(0, -0.0018380058315898373)],\n",
       "  6: [(0, -0.005083717664083116)],\n",
       "  2: [(0, 0.13511402956274424)]},\n",
       " {0: [(0, -0.004126560724137734)],\n",
       "  8: [(0, -0.06939060036541896)],\n",
       "  6: [(0, -0.005605529488876785)],\n",
       "  2: [(0, 0.019651177869864554)],\n",
       "  4: [(0, 0.09581672156990716)]},\n",
       " {6: [(0, -0.022014038454723217), (1, 8.755759789909317e-05)],\n",
       "  8: [(0, -0.012332996707920733), (1, 6.0181469263672366e-05)],\n",
       "  0: [(0, -0.05343991377125827), (1, 0.00017945523217457202)],\n",
       "  1: [(0, -0.061560449838683744), (1, 0.0010128117054442345)],\n",
       "  3: [(0, 0.1609933281758563), (1, -0.0013873146983814327)]},\n",
       " {4: [(1, -7.201539736481034e-11), (0, -6.68814816185652e-12)],\n",
       "  8: [(1, -0.000182214236599667), (0, -8.344955517346437e-07)],\n",
       "  9: [(1, -0.027747142576323686), (0, 9.189313913546297e-05)],\n",
       "  5: [(1, -0.0010921863254715258), (0, -7.759646662941244e-06)],\n",
       "  7: [(1, 0.02902150836241086), (0, -8.330195550808649e-05)]},\n",
       " {8: [(0, -0.07264198012239731)],\n",
       "  0: [(0, -0.005558608598948819)],\n",
       "  5: [(0, -0.005046949654316115)],\n",
       "  7: [(0, -0.01088166045179396)],\n",
       "  9: [(0, 0.14291194893887493)]},\n",
       " {2: [(0, -0.00939559768011465)],\n",
       "  4: [(0, -0.0015364558004705628)],\n",
       "  6: [(0, 0.008301658228940976)],\n",
       "  0: [(0, 0.018374711593263923)],\n",
       "  3: [(0, 0.08543639145104523)]},\n",
       " {3: [(0, -0.00410217805376705)],\n",
       "  2: [(0, -0.00800889513618389)],\n",
       "  4: [(0, -0.004196752239424414)],\n",
       "  0: [(0, -0.00348034374745246)],\n",
       "  1: [(0, 0.1336101115586638)]},\n",
       " {8: [(0, -0.12149892196761795)],\n",
       "  0: [(0, -0.0023162130074463674)],\n",
       "  5: [(0, -0.0011957214506336156)],\n",
       "  7: [(0, -0.0019754018827858174)],\n",
       "  9: [(0, 0.14295599607394302)]},\n",
       " {8: [(0, -0.07174323246770695)],\n",
       "  0: [(0, -0.003558333589388099)],\n",
       "  4: [(0, 0.0001007214159982894)],\n",
       "  6: [(0, -0.0003673076062203966)],\n",
       "  2: [(0, 0.11446871890851297)]},\n",
       " {0: [(0, -0.002211131471408333)],\n",
       "  9: [(0, 0.0167674541175796)],\n",
       "  8: [(0, -0.05897987478872465)],\n",
       "  5: [(0, 0.02617539973334169)],\n",
       "  7: [(0, 0.05647339167708317)]},\n",
       " {7: [(0, -0.0019449978425155408)],\n",
       "  1: [(0, -0.0030286389617684988)],\n",
       "  2: [(0, -0.004158205494552186)],\n",
       "  9: [(0, -0.0003891859928505058)],\n",
       "  5: [(0, 0.13995508336198353)]},\n",
       " {2: [(0, -0.004367672659276558)],\n",
       "  8: [(0, -0.12564372564063933)],\n",
       "  7: [(0, -0.002042570379228197)],\n",
       "  9: [(0, -0.0004083148116495157)],\n",
       "  5: [(0, 0.14700435517993443)]},\n",
       " {8: [(0, -0.09715787697414599)],\n",
       "  0: [(0, -0.003575745479927354)],\n",
       "  2: [(0, -0.007059218836336566)],\n",
       "  6: [(0, -0.004887564012535651)],\n",
       "  4: [(0, 0.13639670720777572)]},\n",
       " {1: [(0, -0.003954754572266974)],\n",
       "  2: [(0, -0.002798208980121917)],\n",
       "  0: [(0, -0.001988028504772264)],\n",
       "  6: [(0, -0.00470842148734295)],\n",
       "  8: [(0, 0.01952712028297486)]},\n",
       " {8: [(0, -0.09550473456086991)],\n",
       "  0: [(0, -0.003739543358083653)],\n",
       "  4: [(0, 0.003278824014651969)],\n",
       "  6: [(0, 0.019082843340976208)],\n",
       "  2: [(0, 0.10362636898279967)]},\n",
       " {0: [(0, -1.1558296593952577e-05), (1, -1.1179568181011887e-05)],\n",
       "  8: [(0, -0.9885199576429539), (1, 0.0040380345065287185)],\n",
       "  5: [(1, -0.00013549013998819613), (0, 1.3990452529643855e-05)],\n",
       "  9: [(0, 4.263811382950633e-05), (1, 3.7615894940226208e-06)],\n",
       "  7: [(0, 0.9885222968405655), (1, -0.0038509265187510276)]},\n",
       " {4: [(0, -0.001879789995878792)],\n",
       "  5: [(0, -0.0011543710294711347)],\n",
       "  2: [(0, -0.004094591278724549)],\n",
       "  6: [(0, -0.005108925333227542)],\n",
       "  8: [(0, 0.021197124538858515)]},\n",
       " {2: [(1, -0.0723331788377706), (0, 0.00022344754941459603)],\n",
       "  0: [(1, -0.12932765843404517), (0, 0.000473753556484328)],\n",
       "  4: [(1, -0.1263876175842826), (0, 0.00047506364181424944)],\n",
       "  3: [(1, -0.20892352386780086), (0, 0.0008524647726042676)],\n",
       "  1: [(1, 0.8987723518509091), (0, -0.0035025500369378795)]},\n",
       " {8: [(0, -0.10366775004605765)],\n",
       "  0: [(0, -0.003166770755776202)],\n",
       "  4: [(0, -0.00020327649443506213)],\n",
       "  6: [(0, -0.0026142227841123825)],\n",
       "  2: [(0, 0.12569900194130365)]},\n",
       " {3: [(0, -0.006601454522516873)],\n",
       "  0: [(0, -0.004738823159860818)],\n",
       "  2: [(0, -0.006560090744540686)],\n",
       "  4: [(0, 0.01699706309277534)],\n",
       "  6: [(0, 0.10489261470573562)]},\n",
       " {0: [(0, -0.005242174306747644)],\n",
       "  3: [(0, -0.007501214241092339)],\n",
       "  2: [(0, -0.003675817821244204)],\n",
       "  4: [(0, 0.039443822782896584)],\n",
       "  6: [(0, 0.07891950486007834)]},\n",
       " {2: [(0, -0.011107280151566852)],\n",
       "  6: [(0, -0.010918844388676407)],\n",
       "  7: [(0, -0.011349680106552455)],\n",
       "  5: [(0, -0.005303808666173552)],\n",
       "  8: [(0, 0.0757901584720629)]},\n",
       " {2: [(0, -1.5590435377987758e-12), (1, -1.4777963218754308e-12)],\n",
       "  0: [(0, -1.5469064174380228e-11), (1, -1.502316634887517e-11)],\n",
       "  4: [(0, -5.6158622804282096e-12), (1, -5.395901632454493e-12)],\n",
       "  3: [(0, -7.298738862218987e-11), (1, -5.774939455425368e-11)],\n",
       "  1: [(0, 0.0), (1, 0.0)]},\n",
       " {8: [(0, -0.07346415739853535)],\n",
       "  0: [(0, -0.005630106153750448)],\n",
       "  5: [(0, -0.005109956998161993)],\n",
       "  7: [(0, -0.011002876777316952)],\n",
       "  9: [(0, 0.14459901685944695)]},\n",
       " {8: [(0, -0.07085985871639582)],\n",
       "  3: [(0, -0.007718998424304311)],\n",
       "  2: [(0, -0.004301700124825688)],\n",
       "  4: [(0, 0.05965120292028464)],\n",
       "  6: [(0, 0.05872431719103098)]},\n",
       " {1: [(0, -0.013025777571543485)],\n",
       "  2: [(0, -0.01052896879989506)],\n",
       "  3: [(0, -0.0037951940811232214)],\n",
       "  6: [(0, 0.0003685771409997707)],\n",
       "  0: [(0, 0.12391951285280302)]},\n",
       " {1: [(0, -0.012525737536780629)],\n",
       "  3: [(0, -0.007282676383947789)],\n",
       "  2: [(0, -0.010810290381923104)],\n",
       "  6: [(0, -0.010093439244913726)],\n",
       "  0: [(0, 0.13984115624168292)]},\n",
       " {2: [(0, -0.004281422704128447)],\n",
       "  8: [(0, -0.12316259984938933)],\n",
       "  9: [(0, -0.00040071847431114374)],\n",
       "  7: [(0, -0.0020026326060828634)],\n",
       "  5: [(0, 0.1441022751935456)]},\n",
       " {8: [(0, -0.07525942309918733)],\n",
       "  0: [(0, -0.005322910253058566)],\n",
       "  5: [(0, -0.004195113923087079)],\n",
       "  7: [(0, -0.00822379139663117)],\n",
       "  9: [(0, 0.1378072550061131)]},\n",
       " {4: [(0, -0.006505013750080151)],\n",
       "  3: [(0, -0.008059731347965947)],\n",
       "  2: [(0, -0.00944187950952704)],\n",
       "  6: [(0, 0.044630929091936104)],\n",
       "  0: [(0, 0.08351911103998519)]},\n",
       " {8: [(0, -0.07284581125281997)],\n",
       "  1: [(0, -0.009808136769803657)],\n",
       "  6: [(0, -0.0031293477184131356)],\n",
       "  0: [(0, 0.038129851038685054)],\n",
       "  3: [(0, 0.07973475278937343)]},\n",
       " {4: [(0, -2.0419887629292607e-05), (1, -5.337821713801617e-07)],\n",
       "  9: [(0, -5.147320937381422e-07), (1, -6.728160596972979e-09)],\n",
       "  8: [(0, -0.9871853790162306), (1, 0.0037698332388129835)],\n",
       "  5: [(0, -1.056266292454698e-05), (1, -2.895585533794886e-07)],\n",
       "  7: [(0, 0.9883364436020254), (1, -0.0037424150960027078)]},\n",
       " {3: [(0, -0.0015139819426183338)],\n",
       "  4: [(0, -0.0020156929242717155)],\n",
       "  2: [(0, -0.004309907248090843)],\n",
       "  6: [(0, 0.010781143347764763)],\n",
       "  0: [(0, 0.13043975829212978)]},\n",
       " {2: [(0, -0.01707055444242003), (1, 5.27408093264217e-05)],\n",
       "  5: [(0, -4.5121935134610166e-05), (1, -2.8313893916283806e-07)],\n",
       "  4: [(0, -0.013326194613006458), (1, 5.16920681388906e-05)],\n",
       "  3: [(0, -0.13765168544435843), (1, 0.0005413278311697921)],\n",
       "  1: [(0, 0.9813592209651655), (1, -0.00384330370280351)]},\n",
       " {2: [(0, -0.004455914018810955)],\n",
       "  1: [(0, -0.0032344557438765175)],\n",
       "  3: [(0, -0.00045578833212012084)],\n",
       "  6: [(0, -0.0028749506733039814)],\n",
       "  0: [(0, 0.14514504704665074)]},\n",
       " {1: [(0, -0.013168310556756022)],\n",
       "  2: [(0, -0.010546887150507103)],\n",
       "  3: [(0, -0.005674591671902559)],\n",
       "  6: [(0, 0.0031169409280937506)],\n",
       "  0: [(0, 0.12447134225894926)]},\n",
       " {3: [(0, -0.001424513418977436)],\n",
       "  0: [(0, -0.0022034788197952365)],\n",
       "  2: [(0, -0.0018486834717286666)],\n",
       "  4: [(0, 0.0016803763215172802)],\n",
       "  6: [(0, 0.12951215371726327)]},\n",
       " {0: [(0, -0.005558008438534859)],\n",
       "  8: [(0, -0.07327596028247862)],\n",
       "  6: [(0, 0.014289809427333496)],\n",
       "  2: [(0, 0.02003303019248577)],\n",
       "  4: [(0, 0.08395423963180079)]},\n",
       " {4: [(0, -0.005292420167182194)],\n",
       "  8: [(0, -0.08105299548415638)],\n",
       "  9: [(0, -0.0013159981751569793)],\n",
       "  5: [(0, -0.003625457150813673)],\n",
       "  7: [(0, 0.12978428368372155)]},\n",
       " {8: [(0, -0.11877893524380093)],\n",
       "  2: [(0, -0.0041290361591496405)],\n",
       "  1: [(0, -0.0030073934150810526)],\n",
       "  9: [(0, -0.00038645298624536003)],\n",
       "  5: [(0, 0.13897331492858336)]},\n",
       " {8: [(0, -0.07139064154869684)],\n",
       "  0: [(0, -0.005240007512823427)],\n",
       "  5: [(0, -0.004488047799519729)],\n",
       "  7: [(0, -0.00933203143121664)],\n",
       "  9: [(0, 0.13571794742666682)]},\n",
       " {0: [(0, -0.005579500471246298)],\n",
       "  8: [(0, -0.0785423499809722)],\n",
       "  5: [(0, -0.0032758347614055875)],\n",
       "  9: [(0, 0.03455579705143095)],\n",
       "  7: [(0, 0.10001593840539563)]},\n",
       " {2: [(0, -0.010713881732087885)],\n",
       "  0: [(0, -0.005651339148296482)],\n",
       "  5: [(0, -0.005117807379478394)],\n",
       "  7: [(0, -0.01096820387594535)],\n",
       "  9: [(0, 0.14457827862218167)]},\n",
       " {3: [(0, 0.008323215513160589)],\n",
       "  6: [(0, 0.005378769841512644)],\n",
       "  4: [(0, 0.010719553596265726)],\n",
       "  8: [(0, -0.06600326902552539)],\n",
       "  2: [(0, 0.034395396490636124)]},\n",
       " {4: [(0, -0.006137283375600517)],\n",
       "  2: [(0, -0.00993722152042154)],\n",
       "  0: [(0, -0.005128666113167022)],\n",
       "  6: [(0, -0.009823582072588216)],\n",
       "  8: [(0, 0.06707086196810128)]},\n",
       " {5: [(0, -0.005073990469633101)],\n",
       "  2: [(0, -0.010591232159291954)],\n",
       "  0: [(0, -0.005594636715968524)],\n",
       "  6: [(0, -0.010453187628452095)],\n",
       "  8: [(0, 0.07253565966968706)]},\n",
       " {8: [(0, -0.11808022032050977)],\n",
       "  0: [(0, -0.0027704107538572085)],\n",
       "  4: [(0, 0.019716569306067095)],\n",
       "  6: [(0, 0.023429002180042745)],\n",
       "  2: [(0, 0.0886460267450001)]},\n",
       " {2: [(0, -0.009713570244651124)],\n",
       "  0: [(0, -0.004832897550363507)],\n",
       "  5: [(0, -0.004360892700891651)],\n",
       "  6: [(0, -0.009493140646629464)],\n",
       "  8: [(0, 0.06361106185251154)]},\n",
       " {2: [(0, -0.004216341307539953)],\n",
       "  9: [(0, -0.00039462491908286477)],\n",
       "  8: [(0, -0.12129041737545523)],\n",
       "  7: [(0, -0.001970449842324752)],\n",
       "  5: [(0, 0.14191005368201634)]},\n",
       " {0: [(0, -0.0033350531941731014)],\n",
       "  8: [(0, -0.10513845817725932)],\n",
       "  2: [(0, -0.0035453136567763035)],\n",
       "  6: [(0, 0.03556583852598712)],\n",
       "  4: [(0, 0.09419716421729793)]},\n",
       " {8: [(0, -0.10279788604003932)],\n",
       "  0: [(0, -0.0032597388268320398)],\n",
       "  6: [(0, -0.005370150338414653)],\n",
       "  4: [(0, 0.0030368337594695914)],\n",
       "  2: [(0, 0.12574044421836283)]},\n",
       " {8: [(0, -0.12824382007616572)],\n",
       "  0: [(0, -0.003081739763228566)],\n",
       "  6: [(0, -0.0013307595272512044)],\n",
       "  4: [(0, 0.050792213119998986)],\n",
       "  2: [(0, 0.09006153782792403)]},\n",
       " {4: [(0, -1.988783609932973e-12), (1, -5.777880042796448e-14)],\n",
       "  8: [(1, -2.1094461477807146e-07), (0, -2.7210363432170243e-09)],\n",
       "  9: [(1, -0.002298654333679065), (0, 1.1803172234692219e-05)],\n",
       "  5: [(1, -0.00010575707946302718), (0, -4.896612456135664e-06)],\n",
       "  7: [(1, 0.00240459506412877), (0, -6.936617943459755e-06)]},\n",
       " {4: [(0, -6.111715819891059e-11), (1, 2.7998266483725943e-12)],\n",
       "  8: [(0, -6.717172649514882e-08), (1, -5.255868123653767e-08)],\n",
       "  9: [(1, -9.930132586026461e-05), (0, -1.6009745230009212e-06)],\n",
       "  5: [(0, -0.00015443742675352127), (1, -5.534395322521119e-06)],\n",
       "  7: [(0, 0.00015618205459169663), (1, 0.00010492242146697179)]},\n",
       " {2: [(0, -0.0031435818121200846), (1, -8.779886135927685e-05)],\n",
       "  9: [(0, -0.00010683398971636356), (1, -1.5289774839768529e-06)],\n",
       "  8: [(0, -0.9009933080950495), (1, 0.003943409481033496)],\n",
       "  7: [(1, 0.000990907665790667), (0, 0.0007295770706101525)],\n",
       "  5: [(0, 0.9867103245498353), (1, -0.00459847812789267)]},\n",
       " {2: [(0, -0.004396290141443257)],\n",
       "  0: [(0, -0.002410921985695484)],\n",
       "  5: [(0, -0.0012446560917571238)],\n",
       "  6: [(0, -0.005493290894698237)],\n",
       "  8: [(0, 0.022746127805356915)]},\n",
       " {8: [(0, -0.09176299137658976)],\n",
       "  0: [(0, -0.0034009365084681615)],\n",
       "  6: [(0, -0.006793027883567509)],\n",
       "  2: [(0, 0.012632744016056244)],\n",
       "  4: [(0, 0.11238944519776246)]},\n",
       " {8: [(0, -0.07982950332762753)],\n",
       "  0: [(0, -0.0035311301593599705)],\n",
       "  4: [(0, 0.015381126664314163)],\n",
       "  6: [(0, 0.03362976765905473)],\n",
       "  2: [(0, 0.06195021782932527)]},\n",
       " {8: [(0, -0.06901255049613943)],\n",
       "  0: [(0, -0.00528894630935897)],\n",
       "  5: [(0, -0.004800322323390865)],\n",
       "  7: [(0, -0.010336141169476358)],\n",
       "  9: [(0, 0.13583693177917228)]},\n",
       " {0: [(0, -0.004672052698923535)],\n",
       "  8: [(0, -0.08278470829919432)],\n",
       "  6: [(0, -0.007498583793668015)],\n",
       "  2: [(0, -0.007290131075313629)],\n",
       "  4: [(0, 0.13473020183807163)]},\n",
       " {1: [(1, -0.13153076333275396), (0, -0.00012955142859969444)],\n",
       "  6: [(1, -0.06840028025365738), (0, -0.0025709996166405923)],\n",
       "  0: [(1, -0.06650857177200138), (0, -0.005375075550382271)],\n",
       "  4: [(1, -0.07224819685349239), (0, -0.003797778942240978)],\n",
       "  3: [(1, 0.5152548912243687), (0, 0.011972883075600476)]},\n",
       " {4: [(0, -0.0019840541496459834)],\n",
       "  8: [(0, -0.12440403620168132)],\n",
       "  9: [(0, -0.0003473912765719791)],\n",
       "  5: [(0, 0.0003086708343576525)],\n",
       "  7: [(0, 0.14316611081158065)]},\n",
       " {7: [(0, -0.002029557808722433)],\n",
       "  0: [(0, -0.002379495820496579)],\n",
       "  5: [(0, -0.0012284213370798841)],\n",
       "  6: [(0, -0.005421677488879747)],\n",
       "  8: [(0, 0.022449620345451487)]},\n",
       " {4: [(0, -0.0019310498239993815)],\n",
       "  9: [(0, -0.0003938783403454252)],\n",
       "  8: [(0, -0.12108158288401753)],\n",
       "  5: [(0, -0.0011907380295915026)],\n",
       "  7: [(0, 0.14088935011813689)]},\n",
       " {4: [(0, -0.006002474589537725)],\n",
       "  2: [(0, -0.009628165888877776)],\n",
       "  0: [(0, -0.005030196608964581)],\n",
       "  6: [(0, -0.009554321413225226)],\n",
       "  8: [(0, 0.06564884859786203)]},\n",
       " {4: [(0, -0.05666984927830848), (1, 0.00026315271973825717)],\n",
       "  6: [(0, -0.03201094428972952), (1, 0.00011164122124518782)],\n",
       "  0: [(0, -0.037323821994727016), (1, 0.0001201643552336133)],\n",
       "  1: [(0, -0.11327483668440741), (1, -5.117584238840845e-06)],\n",
       "  3: [(0, 0.2783903822170167), (1, -0.0006614135682769947)]},\n",
       " {4: [(0, -2.3210531893942144e-07), (1, -6.603286011805858e-08)],\n",
       "  8: [(0, -6.09930286964185e-05), (1, -1.901113273277908e-05)],\n",
       "  9: [(0, -0.0005635312034455016), (1, -0.00033940203541483446)],\n",
       "  5: [(0, -0.010335687245163379), (1, -0.0024864857761392536)],\n",
       "  7: [(0, 0.010960934298534472), (1, 0.0028452047057474722)]},\n",
       " {1: [(0, -0.008988295846216979)],\n",
       "  2: [(0, -0.008105676287740456)],\n",
       "  0: [(0, -0.003526071414198662)],\n",
       "  6: [(0, -0.007597443362426305)],\n",
       "  8: [(0, 0.047704317066293335)]},\n",
       " {8: [(0, -0.10012417176295756)],\n",
       "  3: [(0, 0.00020904372289405927)],\n",
       "  2: [(0, 0.00976794758829689)],\n",
       "  6: [(0, 0.05248001503887156)],\n",
       "  4: [(0, 0.05693362616277011)]},\n",
       " {0: [(0, -0.00580335908646059)],\n",
       "  8: [(0, -0.07625818567451455)],\n",
       "  5: [(0, -0.0038103564842446387)],\n",
       "  9: [(0, 0.0066073222835478845)],\n",
       "  7: [(0, 0.12988632631528818)]},\n",
       " {4: [(1, 9.331839079221942e-12), (0, -5.431920805464801e-12)],\n",
       "  8: [(1, -9.372555338614851e-07), (0, -3.315076705022531e-09)],\n",
       "  9: [(1, -0.00016780729492462082), (0, 5.430936752700025e-07)],\n",
       "  5: [(1, -0.001581663106918743), (0, 1.761637033287229e-05)],\n",
       "  7: [(1, 0.0017503371320577328), (0, -1.8158367673862477e-05)]},\n",
       " {0: [(0, -0.004502253324186701)],\n",
       "  8: [(0, -0.07972372360740068)],\n",
       "  2: [(0, 0.01421762005241931)],\n",
       "  6: [(0, 0.04886911190544134)],\n",
       "  4: [(0, 0.053788625449416)]},\n",
       " {8: [(0, -0.0674177025626386)],\n",
       "  0: [(0, -0.004839226484839355)],\n",
       "  4: [(0, -0.003976241739473443)],\n",
       "  6: [(0, -0.004380451770487367)],\n",
       "  2: [(0, 0.11690580126347641)]},\n",
       " {1: [(0, -0.01135907985982566)],\n",
       "  2: [(0, -0.00666176716186067)],\n",
       "  3: [(0, 0.0059721734291969175)],\n",
       "  6: [(0, 0.01953602161623844)],\n",
       "  0: [(0, 0.08639774459425069)]},\n",
       " {8: [(0, -0.06760156276832066)],\n",
       "  4: [(0, -0.006201848260342324)],\n",
       "  2: [(0, -0.009897690042481)],\n",
       "  6: [(0, -0.00859985083350467)],\n",
       "  0: [(0, 0.12880405464758887)]},\n",
       " {8: [(0, -0.09140737108663083)],\n",
       "  4: [(0, -0.004643548632619018)],\n",
       "  2: [(0, -0.008494174428059314)],\n",
       "  6: [(0, -0.007987239257816588)],\n",
       "  0: [(0, 0.13812817609661177)]},\n",
       " {8: [(0, -0.29575384917777164), (1, 0.0012876551929330892)],\n",
       "  6: [(0, -0.01203563502147259), (1, 1.2834199616928399e-05)],\n",
       "  0: [(0, -0.010681781205053052), (1, -8.415478832903945e-05)],\n",
       "  1: [(0, -0.037119346084866216), (1, -0.00024611029250473345)],\n",
       "  3: [(0, 0.3967956891587912), (1, -0.0011284031502359277)]},\n",
       " {8: [(0, -9.506015447434765e-15), (1, -1.814431359004329e-15)],\n",
       "  1: [(0, -5.0465555862652933e-14), (1, -5.664890279096258e-15)],\n",
       "  7: [(0, -4.5375292840457365e-06), (1, 4.2339885302399e-07)],\n",
       "  5: [(0, -0.00020702221384501674), (1, -4.728304176772147e-05)],\n",
       "  9: [(0, 0.0002115689341990609), (1, 4.6853627819486116e-05)]},\n",
       " {6: [(1, -0.14509598288480516), (0, 0.0006895288858381032)],\n",
       "  2: [(1, -0.0458607697265365), (0, 0.00017020513252846917)],\n",
       "  4: [(1, -0.07138512809589063), (0, 0.00023081702930980978)],\n",
       "  3: [(1, -0.27496506424515604), (0, 0.0012651795926361972)],\n",
       "  1: [(1, 0.9157933207137513), (0, -0.0039559265438249966)]},\n",
       " {4: [(0, -0.005968868466721739)],\n",
       "  2: [(0, -0.0096058757185922)],\n",
       "  3: [(0, -0.004698313335454336)],\n",
       "  6: [(0, 0.02267175353068184)],\n",
       "  0: [(0, 0.10397729621666787)]},\n",
       " {2: [(0, -0.010476261102471154)],\n",
       "  0: [(0, -0.005552892391986123)],\n",
       "  5: [(0, -0.005043600077167081)],\n",
       "  7: [(0, -0.010888906553083468)],\n",
       "  9: [(0, 0.14291418509976192)]},\n",
       " {5: [(0, -0.0036638427256459882)],\n",
       "  2: [(0, -0.008857208641082684)],\n",
       "  0: [(0, -0.004095551261953393)],\n",
       "  6: [(0, -0.008461269507040197)],\n",
       "  8: [(0, 0.05467961940697457)]},\n",
       " {0: [(0, -0.0031510726858643505)],\n",
       "  8: [(0, -0.09596718200532771)],\n",
       "  2: [(0, -0.0038935666848978513)],\n",
       "  6: [(0, 0.038075703194910084)],\n",
       "  4: [(0, 0.08339501240904976)]},\n",
       " {1: [(0, -0.012934101276110064)],\n",
       "  2: [(0, -0.010125897409907492)],\n",
       "  6: [(0, -0.008098876729900381)],\n",
       "  3: [(0, 0.043615447298324506)],\n",
       "  4: [(0, 0.08283824609866325)]},\n",
       " {8: [(0, -0.08080961780564742)],\n",
       "  0: [(0, -0.0049553646859539025)],\n",
       "  5: [(0, -0.0038830364108167386)],\n",
       "  7: [(0, -0.007636426659745809)],\n",
       "  9: [(0, 0.13946359253496507)]},\n",
       " {1: [(0, -0.002943359377340883)],\n",
       "  0: [(0, -0.0022161469035369506)],\n",
       "  5: [(0, -0.0011440995788655464)],\n",
       "  7: [(0, -0.001890225128736619)],\n",
       "  9: [(0, 0.13678014117782142)]},\n",
       " {8: [(0, -0.08028441761750656)],\n",
       "  0: [(0, -0.00567919766184412)],\n",
       "  5: [(0, -0.004506152551021777)],\n",
       "  7: [(0, -0.00902893885425093)],\n",
       "  9: [(0, 0.14729637724117203)]},\n",
       " {0: [(0, -0.002343972332049782)],\n",
       "  7: [(0, -0.0019992580141843064)],\n",
       "  4: [(0, -0.001960925315993364)],\n",
       "  6: [(0, -0.005340745966605114)],\n",
       "  8: [(0, 0.022114483246676628)]},\n",
       " {5: [(0, -0.005113998821260553)],\n",
       "  2: [(0, -0.010631115127029111)],\n",
       "  4: [(0, -0.006693704216147453)],\n",
       "  6: [(0, -0.010545026858305452)],\n",
       "  8: [(0, 0.0731453087150171)]},\n",
       " {0: [(0, -0.0002090681752012538), (1, 7.156681389125078e-09)],\n",
       "  9: [(0, 0.00028115749044777195), (1, 2.8875846625793662e-05)],\n",
       "  8: [(0, -0.9769191561138246), (1, 0.0046412389755477144)],\n",
       "  7: [(0, 0.26329885053390706), (1, -0.24905831600712666)],\n",
       "  5: [(0, 0.7227490600526878), (1, 0.24444048580643996)]},\n",
       " {2: [(0, -0.00392197818676647)],\n",
       "  8: [(0, -0.11545318794000317)],\n",
       "  6: [(0, 0.0044530023210382465)],\n",
       "  3: [(0, 0.028985470289319932)],\n",
       "  4: [(0, 0.09548297852511203)]},\n",
       " {2: [(0, -0.3282732259868439), (1, 0.001539517939783568)],\n",
       "  8: [(0, -0.05982225458402347), (1, -0.0004903236573993089)],\n",
       "  9: [(0, -0.0005281248125412184), (1, -3.327549005682412e-05)],\n",
       "  7: [(0, -0.000315800594602273), (1, -0.0002207841224078703)],\n",
       "  5: [(0, 0.9774471536799082), (1, -0.0035006466853120793)]},\n",
       " {0: [(0, -0.0040736419279530645)],\n",
       "  8: [(0, -0.0857642976282846)],\n",
       "  6: [(0, 0.02614829259524252)],\n",
       "  2: [(0, 0.030699260316651922)],\n",
       "  4: [(0, 0.06270628983800601)]},\n",
       " {1: [(0, -0.013444870592054549)],\n",
       "  0: [(0, -0.005732939211617176)],\n",
       "  5: [(0, -0.00520219211748876)],\n",
       "  7: [(0, -0.011198715772707552)],\n",
       "  9: [(0, 0.14723387102210864)]},\n",
       " {5: [(0, -0.004649301316067415)],\n",
       "  2: [(0, -0.010077079524166185)],\n",
       "  0: [(0, -0.00513773362427896)],\n",
       "  6: [(0, -0.00992402603517668)],\n",
       "  8: [(0, 0.06733035376296513)]},\n",
       " {4: [(0, -0.004509256465059904)],\n",
       "  2: [(0, -0.008401761119590895)],\n",
       "  0: [(0, -0.0036353949281857905)],\n",
       "  6: [(0, -0.007874342772558775)],\n",
       "  8: [(0, 0.04907378641873722)]},\n",
       " {4: [(0, -0.00643479354456022)],\n",
       "  8: [(0, -0.07080052738961498)],\n",
       "  2: [(0, -0.009904081646966902)],\n",
       "  6: [(0, -0.00513563025925382)],\n",
       "  0: [(0, 0.12998841508066306)]},\n",
       " {1: [(0, -9.812964908315959e-18), (1, -8.7620234077549e-19)],\n",
       "  0: [(0, -9.415006341535168e-17), (1, -1.0343033530118003e-17)],\n",
       "  7: [(0, -5.242053959125348e-07), (1, -5.9403167212442814e-08)],\n",
       "  5: [(0, -4.0714370327352375e-06), (1, -3.9406081437868856e-08)],\n",
       "  9: [(0, 4.609081562754261e-06), (1, 1.1446812018402589e-07)]},\n",
       " {0: [(0, -0.0047711135888218415)],\n",
       "  8: [(0, -0.08261020404535818)],\n",
       "  6: [(0, 0.012349838471230534)],\n",
       "  4: [(0, 0.05562241382191279)],\n",
       "  2: [(0, 0.05474669417237064)]},\n",
       " {8: [(0, -0.0906111993391171)],\n",
       "  3: [(0, -0.004588959613756492)],\n",
       "  2: [(0, -0.008420189593560678)],\n",
       "  6: [(0, -0.007901383198826424)],\n",
       "  0: [(0, 0.13690876333374488)]},\n",
       " {4: [(0, -0.0038037833712991635), (1, 1.674399890224935e-05)],\n",
       "  8: [(0, -0.8946698073615038), (1, 0.0033036953151399447)],\n",
       "  9: [(0, -2.9488214774421324e-05), (1, -2.8829522068557575e-05)],\n",
       "  5: [(1, -0.0013544952609521187), (0, -0.00024129208300211583)],\n",
       "  7: [(0, 0.9881161562943284), (1, -0.002346040526574181)]},\n",
       " {6: [(1, -0.0017319348622529243), (0, 0.0003473712032562707)],\n",
       "  4: [(1, -0.005273350001331675), (0, 0.0004799175992382869)],\n",
       "  0: [(1, -0.0025917057138091647), (0, 0.0006152076553784778)],\n",
       "  1: [(1, -0.06782058564808224), (0, 0.01462254483996614)],\n",
       "  3: [(0, 0.9712886016442549), (1, 0.07449995669612616)]},\n",
       " {4: [(0, -2.8363840220583516e-08), (1, 7.571234660087533e-10)],\n",
       "  8: [(0, -7.2345719789592664e-06), (1, -5.054414707631363e-08)],\n",
       "  9: [(0, -8.04791577482139e-05), (1, -4.379170782352758e-05)],\n",
       "  5: [(0, -0.0033051916420177192), (1, -0.0015759404610056387)],\n",
       "  7: [(0, 0.003392868150980944), (1, 0.0016197939266028038)]},\n",
       " {8: [(0, -0.07094926401542055)],\n",
       "  0: [(0, -0.0054208013916409595)],\n",
       "  5: [(0, -0.0049236616121110695)],\n",
       "  7: [(0, -0.010629959269724343)],\n",
       "  9: [(0, 0.13951469116355938)]},\n",
       " {2: [(0, -0.010867851244773198)],\n",
       "  0: [(0, -0.005604784709559287)],\n",
       "  6: [(0, -0.010560243835190008)],\n",
       "  4: [(0, -0.006407938158912177)],\n",
       "  3: [(0, 0.1393443674102872)]},\n",
       " {2: [(0, -0.008871802784709662)],\n",
       "  0: [(0, -0.003954752589823711)],\n",
       "  6: [(0, -0.00837905364504302)],\n",
       "  5: [(0, -0.0035226681816399)],\n",
       "  8: [(0, 0.05321325080632963)]},\n",
       " {1: [(0, -0.012421124892575757)],\n",
       "  2: [(0, -0.009853941235537136)],\n",
       "  6: [(0, -0.005096759691430884)],\n",
       "  3: [(0, 0.0009721783815960211)],\n",
       "  4: [(0, 0.11806468672433822)]},\n",
       " {1: [(0, -0.012706803286312674)],\n",
       "  0: [(0, -0.005311154440996293)],\n",
       "  6: [(0, -0.009974564189531503)],\n",
       "  4: [(0, -0.003786502085643791)],\n",
       "  3: [(0, 0.13015019583615986)]},\n",
       " {0: [(0, -1.04626736153168e-05), (1, -4.704087912033439e-06)],\n",
       "  8: [(0, -0.005515680602861623), (1, -6.785500750446509e-05)],\n",
       "  9: [(0, -0.001954810720876095), (1, -0.0002956466172818841)],\n",
       "  5: [(0, -0.8488631832340516), (1, 0.014257609283618463)],\n",
       "  7: [(0, 0.8563713519883079), (1, -0.013875845352029945)]},\n",
       " {2: [(0, -0.00845629161185551)],\n",
       "  7: [(0, -0.006831367000287841)],\n",
       "  6: [(0, -0.00792609093847036)],\n",
       "  5: [(0, -0.003267203412957921)],\n",
       "  8: [(0, 0.04976773495749327)]},\n",
       " {2: [(1, -0.04873227145847072), (0, 0.0001760989260295221)],\n",
       "  0: [(1, -0.4546728661790252), (0, 0.0021030145892927017)],\n",
       "  4: [(1, -0.05247411768832375), (0, 5.097522927959289e-05)],\n",
       "  3: [(1, -0.11933762390142254), (0, 0.0004309513636508275)],\n",
       "  1: [(1, 0.9578056142212216), (0, -0.003912520665589814)]},\n",
       " {0: [(0, -0.005515358704245675)],\n",
       "  8: [(0, -0.07556856611978383)],\n",
       "  2: [(0, 0.0051603940264905905)],\n",
       "  6: [(0, 0.010207742037345162)],\n",
       "  4: [(0, 0.102387828211746)]},\n",
       " {2: [(0, -0.01038053330425632)],\n",
       "  1: [(0, -0.012886080030494228)],\n",
       "  6: [(0, -0.006494531054848189)],\n",
       "  3: [(0, -0.0042551354497703696)],\n",
       "  0: [(0, 0.12993224469085113)]},\n",
       " {0: [(0, -0.0023517474020151893)],\n",
       "  8: [(0, -0.12331980192309137)],\n",
       "  9: [(0, 0.0005938127354090955)],\n",
       "  5: [(0, 0.0006445696064706315)],\n",
       "  7: [(0, 0.1406486131582503)]},\n",
       " {8: [(0, -0.07080799509678433)],\n",
       "  0: [(0, -0.005443141082665547)],\n",
       "  5: [(0, -0.004936582027320899)],\n",
       "  7: [(0, -0.010600096382960474)],\n",
       "  9: [(0, 0.13950417499064996)]},\n",
       " {4: [(0, -0.005871202178182868)],\n",
       "  2: [(0, -0.010412655413652078)],\n",
       "  0: [(0, -0.005135352600996886)],\n",
       "  6: [(0, -0.009940185383969914)],\n",
       "  8: [(0, 0.06192253270436657)]},\n",
       " {2: [(0, -0.004092478954797151)],\n",
       "  1: [(0, -0.0029807647164645464)],\n",
       "  8: [(0, -0.11772730063272785)],\n",
       "  9: [(0, -0.0003759130760471223)],\n",
       "  5: [(0, 0.13773576944955798)]},\n",
       " {2: [(0, -0.004180035998291332)],\n",
       "  8: [(0, -0.12024605540023763)],\n",
       "  7: [(0, -0.0019542667093263694)],\n",
       "  9: [(0, -0.0003738360430535761)],\n",
       "  5: [(0, 0.14067153033929264)]},\n",
       " {0: [(0, -0.004919469244795328)],\n",
       "  8: [(0, -0.07420134044319834)],\n",
       "  2: [(0, 0.014782348263906207)],\n",
       "  6: [(0, 0.047102496335316046)],\n",
       "  4: [(0, 0.05484372449096985)]},\n",
       " {4: [(1, -0.06741906477062873), (0, 0.00026221371920040986)],\n",
       "  6: [(1, -0.09034297068286115), (0, 0.0003867363357918395)],\n",
       "  2: [(1, -0.14957168492631573), (0, 0.000653675041093882)],\n",
       "  3: [(1, -0.0662729587090924), (0, 0.0002906283155789029)],\n",
       "  1: [(1, 0.9188504995879917), (0, -0.004034495101037481)]},\n",
       " {8: [(0, -0.06751433661333314)],\n",
       "  0: [(0, -0.0012145770720962245)],\n",
       "  6: [(0, 0.003252726514862607)],\n",
       "  4: [(0, 0.020628264910975892)],\n",
       "  3: [(0, 0.08046333725129755)]},\n",
       " {1: [(0, -0.012084584788419263)],\n",
       "  2: [(0, -0.010609515110184231)],\n",
       "  6: [(0, -0.009285029687258627)],\n",
       "  4: [(0, 0.04993859430710263)],\n",
       "  3: [(0, 0.07891988672895636)]},\n",
       " {4: [(0, -0.0034412818279468743)],\n",
       "  1: [(0, -0.0002884291340870513)],\n",
       "  3: [(0, 0.0122511206186504)],\n",
       "  6: [(0, 0.014218157290023962)],\n",
       "  0: [(0, 0.0789765654761866)]},\n",
       " {8: [(0, -0.12168673137616731)],\n",
       "  0: [(0, -0.001869299385127546)],\n",
       "  5: [(0, 0.0009643094796649036)],\n",
       "  7: [(0, 0.004498772895635774)],\n",
       "  9: [(0, 0.1340591585504586)]},\n",
       " {4: [(0, -2.70701571147277e-10), (1, 3.457113044428512e-11)],\n",
       "  8: [(1, -1.6110986265960245e-06), (0, -2.660171485571363e-07)],\n",
       "  9: [(1, -0.000465711794277728), (0, 1.4065432861979225e-06)],\n",
       "  5: [(1, -0.00011293381830543428), (0, -5.153455833990863e-06)],\n",
       "  7: [(1, 0.0005802470285189303), (0, 3.971264262485603e-06)]},\n",
       " {2: [(0, -0.00403376575209544)],\n",
       "  8: [(0, -0.11603831468822935)],\n",
       "  7: [(0, -0.001886791109629182)],\n",
       "  9: [(0, -0.00037753890728113826)],\n",
       "  5: [(0, 0.13576674430084504)]},\n",
       " {0: [(0, -0.005537953898132857)],\n",
       "  8: [(0, -0.07222487949326509)],\n",
       "  5: [(0, -0.005022735528881316)],\n",
       "  7: [(0, -0.010811057964085482)],\n",
       "  9: [(0, 0.1421740711730494)]},\n",
       " {8: [(0, -0.07635608803994039)],\n",
       "  0: [(0, -0.00547662149909846)],\n",
       "  5: [(0, -0.004471819432584134)],\n",
       "  7: [(0, -0.009085494151730223)],\n",
       "  9: [(0, 0.14192766067791235)]},\n",
       " {6: [(0, -0.005400393859768871)],\n",
       "  9: [(0, 0.0004614186258689844)],\n",
       "  8: [(0, -0.1228133978587701)],\n",
       "  5: [(0, 0.019820643650456576)],\n",
       "  7: [(0, 0.12124576290664345)]},\n",
       " {5: [(0, -0.005106613610382638)],\n",
       "  4: [(0, -0.00668487422170557)],\n",
       "  7: [(0, -0.011010301679963924)],\n",
       "  6: [(0, -0.010528858380798247)],\n",
       "  8: [(0, 0.07303588244228752)]},\n",
       " {8: [(0, -0.08907673483310323)],\n",
       "  0: [(0, -0.0037886146464726285)],\n",
       "  6: [(0, -0.004288559827684159)],\n",
       "  4: [(0, 0.04666517955642826)],\n",
       "  2: [(0, 0.07650424921211535)]},\n",
       " {4: [(0, -6.48346039005309e-06), (1, -5.984440316197197e-06)],\n",
       "  8: [(0, -0.9880858246103182), (1, 0.0037817424513965176)],\n",
       "  9: [(1, -0.000332841419418902), (0, 9.463597392784423e-05)],\n",
       "  5: [(1, -0.008655571801746647), (0, 0.0003426016209870607)],\n",
       "  7: [(0, 0.9877232179995256), (1, 0.005266373122329398)]},\n",
       " {8: [(0, -0.12943908463519443)],\n",
       "  0: [(0, -0.0022690419428628215)],\n",
       "  2: [(0, 0.028343905781288335)],\n",
       "  4: [(0, 0.0502993246792039)],\n",
       "  6: [(0, 0.061666135510012446)]},\n",
       " {0: [(0, -2.007147474995541e-05), (1, -2.1499013144747394e-06)],\n",
       "  8: [(0, -0.986888319604041), (1, 0.0049309816781096345)],\n",
       "  9: [(0, 0.005614231924740594), (1, 0.005034043988684259)],\n",
       "  5: [(0, 0.12835200788536888), (1, 0.08186024363834692)],\n",
       "  7: [(0, 0.8531971842865702), (1, -0.09181699746482555)]},\n",
       " {4: [(0, -0.0008376793854209952)],\n",
       "  2: [(0, -0.0009462056714615851)],\n",
       "  3: [(0, 0.015670090632736965)],\n",
       "  6: [(0, 0.03712145593603488)],\n",
       "  0: [(0, 0.05678262963645536)]},\n",
       " {1: [(0, -0.013068271592670589)],\n",
       "  2: [(0, -0.01092954807328717)],\n",
       "  6: [(0, -0.009436383913739143)],\n",
       "  3: [(0, 0.02397765285512736)],\n",
       "  4: [(0, 0.10915509224981873)]},\n",
       " {2: [(0, -0.004179981754966985)],\n",
       "  9: [(0, -0.00033378781242614583)],\n",
       "  8: [(0, -0.1200311315347953)],\n",
       "  7: [(0, 0.001935150473584467)],\n",
       "  5: [(0, 0.13652699959105172)]},\n",
       " {2: [(0, -0.010523548366224869)],\n",
       "  0: [(0, -0.005549371984793719)],\n",
       "  3: [(0, -0.008178783325481059)],\n",
       "  4: [(0, -0.0065958786897224965)],\n",
       "  1: [(0, 0.13088489970860823)]},\n",
       " {0: [(0, -0.4955812939029936), (1, 0.0021457236920552542)],\n",
       "  2: [(0, -0.04335947384315395), (1, 6.802531297753614e-05)],\n",
       "  4: [(0, -0.03231498357124888), (1, 4.410368551553376e-05)],\n",
       "  3: [(0, -0.11280490589187377), (1, 0.00046491520773763606)],\n",
       "  1: [(0, 0.9529656808098984), (1, -0.003664535421308518)]},\n",
       " {0: [(0, -0.002395228181715198)],\n",
       "  8: [(0, -0.125643720822441)],\n",
       "  9: [(0, -0.0004069863096997739)],\n",
       "  7: [(0, -0.002040417388578526)],\n",
       "  5: [(0, 0.14700085616377115)]},\n",
       " {2: [(0, -0.004114426055362369)],\n",
       "  8: [(0, -0.11835863098835113)],\n",
       "  7: [(0, -0.0019223660217639077)],\n",
       "  9: [(0, -0.00038200767085645417)],\n",
       "  5: [(0, 0.13847633026996786)]},\n",
       " {8: [(0, -0.06929406277203612)],\n",
       "  0: [(0, -0.004968170013142495)],\n",
       "  6: [(0, -0.006065729149400991)],\n",
       "  2: [(0, 0.032568812720067494)],\n",
       "  4: [(0, 0.08519742259984256)]},\n",
       " {7: [(0, -0.010462325505198431)],\n",
       "  9: [(0, -0.0018190270398710168)],\n",
       "  5: [(0, -0.004840513707147355)],\n",
       "  6: [(0, -0.010130764902941894)],\n",
       "  8: [(0, 0.0696095809911351)]},\n",
       " {8: [(1, -0.02058201979573445), (0, -0.00013727852111653174)],\n",
       "  6: [(1, -0.03308156139652909), (0, 5.851951750539396e-05)],\n",
       "  0: [(1, -0.09029341593292982), (0, 6.93590282677252e-05)],\n",
       "  1: [(1, -0.11653979426118334), (0, -0.0002107484435421934)],\n",
       "  3: [(1, 0.2852572775022143), (0, 0.00016775690172140056)]},\n",
       " {2: [(0, -0.0057935403353873505)],\n",
       "  8: [(0, -0.11200994526652631)],\n",
       "  7: [(0, -0.0034125563803787816)],\n",
       "  9: [(0, -0.0006132106194272837)],\n",
       "  5: [(0, 0.14036782251253072)]},\n",
       " {1: [(1, -1.839114297262015e-07), (0, -3.153931168132257e-09)],\n",
       "  0: [(1, -5.0146053086268567e-05), (0, -4.392848962990373e-08)],\n",
       "  7: [(1, -0.016333956688176374), (0, 4.1397257009583344e-05)],\n",
       "  5: [(1, -0.0021294338096275547), (0, -4.813293562470251e-06)],\n",
       "  9: [(1, 0.018515880483311084), (0, -3.658848080837272e-05)]},\n",
       " {4: [(0, -0.006238277902131435)],\n",
       "  2: [(0, -0.010192226785013872)],\n",
       "  3: [(0, -0.007266888535348508)],\n",
       "  6: [(0, -0.0007769039748948753)],\n",
       "  0: [(0, 0.13192436896211637)]},\n",
       " {0: [(0, -0.0022482046141709725)],\n",
       "  8: [(0, -0.11787893484678334)],\n",
       "  5: [(0, 5.905645953486754e-05)],\n",
       "  9: [(0, 0.002724605603873645)],\n",
       "  7: [(0, 0.13284503684755095)]},\n",
       " {1: [(1, -0.09859927251854), (0, 0.00021367622556905572)],\n",
       "  6: [(1, -0.05444086505809354), (0, -0.020182377323764097)],\n",
       "  0: [(1, -0.11608208031849979), (0, -0.01833996674779049)],\n",
       "  4: [(0, -0.01752491084397949), (1, -0.004806892739497737)],\n",
       "  3: [(1, 0.3028050451503232), (0, 0.06282380425322126)]},\n",
       " {1: [(0, -0.011996780303675911)],\n",
       "  4: [(0, -0.006179658280645574)],\n",
       "  2: [(0, -0.010354184843105164)],\n",
       "  6: [(0, -0.01005106310634242)],\n",
       "  0: [(0, 0.1343200081933721)]},\n",
       " {1: [(0, -0.012508933532062297)],\n",
       "  3: [(0, -0.00783666377267016)],\n",
       "  2: [(0, -0.010223275612444026)],\n",
       "  6: [(0, -0.01001180004351124)],\n",
       "  0: [(0, 0.1340023278127965)]},\n",
       " {0: [(0, -0.0023002749981720846)],\n",
       "  8: [(0, -0.12063762918296256)],\n",
       "  5: [(0, -0.000630450839464745)],\n",
       "  9: [(0, 0.005480142537885673)],\n",
       "  7: [(0, 0.13394821571792817)]},\n",
       " {0: [(0, -2.9482031050586405e-21), (1, -2.129025730187141e-23)],\n",
       "  2: [(0, -2.444700826840469e-20), (1, -1.6352210675828343e-22)],\n",
       "  4: [(0, -3.032316912282139e-17), (1, 1.297373537699693e-19)],\n",
       "  3: [(0, -3.635459965212292e-18), (1, 5.096509785721132e-21)],\n",
       "  1: [(0, 0.0), (1, 0.0)]},\n",
       " {8: [(0, -0.08965497828395526)],\n",
       "  0: [(0, -0.004218371074459168)],\n",
       "  5: [(0, -0.0033962729644976546)],\n",
       "  7: [(0, -0.0058831860872103755)],\n",
       "  9: [(0, 0.13979752211718968)]},\n",
       " {8: [(0, -0.06917062477930896)],\n",
       "  0: [(0, -0.004918688740105014)],\n",
       "  6: [(0, -0.0053848061853967654)],\n",
       "  2: [(0, 0.03557255442909748)],\n",
       "  4: [(0, 0.08133487138356381)]},\n",
       " {2: [(1, -0.004638886050450001), (0, 1.3682049174765665e-05)],\n",
       "  5: [(1, -0.0003693523900113881), (0, 1.2496655626905996e-06)],\n",
       "  0: [(1, -0.006255693722136693), (0, 1.0038742526999543e-05)],\n",
       "  6: [(1, -0.01160518921793639), (0, 2.6009203309750184e-05)],\n",
       "  8: [(1, 0.027931040410617874), (0, -6.481556683008856e-05)]},\n",
       " {8: [(0, -0.07111444938774908)],\n",
       "  0: [(0, -0.005452809702610772)],\n",
       "  5: [(0, -0.004948432968201442)],\n",
       "  7: [(0, -0.010650362950680434)],\n",
       "  9: [(0, 0.1399966485093201)]},\n",
       " {2: [(0, -2.767448871847144e-12), (1, 1.3245740921376069e-14)],\n",
       "  0: [(0, -4.994889675042199e-14), (1, 1.981689455379116e-16)],\n",
       "  4: [(0, -3.005599108706179e-14), (1, 5.170012168854212e-17)],\n",
       "  3: [(0, -3.054108235766724e-10), (1, 1.4434311476448513e-12)],\n",
       "  1: [(0, 0.0), (1, 0.0)]},\n",
       " {2: [(0, -0.010649136651227334)],\n",
       "  5: [(0, -0.005105912380322305)],\n",
       "  0: [(0, -0.00562843665067746)],\n",
       "  6: [(0, -0.0105208305782991)],\n",
       "  8: [(0, 0.07299946880684531)]},\n",
       " {6: [(0, -0.010542421585665346)],\n",
       "  1: [(0, -0.013201791974100088)],\n",
       "  4: [(0, -0.0067075833353733225)],\n",
       "  0: [(0, -0.005640810072453544)],\n",
       "  3: [(0, 0.13820483048085094)]},\n",
       " {3: [(0, -0.007322240309924564)],\n",
       "  2: [(0, -0.007603318435515628)],\n",
       "  6: [(0, -0.0028225461756721955)],\n",
       "  8: [(0, -0.06433212087997554)],\n",
       "  4: [(0, 0.11684365211702706)]},\n",
       " {0: [(0, -0.0049704080680438014)],\n",
       "  8: [(0, -0.08358178214649062)],\n",
       "  5: [(0, -0.003914342334461322)],\n",
       "  9: [(0, -0.0014213681718010175)],\n",
       "  7: [(0, 0.136377472218615)]},\n",
       " {6: [(0, -2.596212845843625e-09), (1, 2.2864382229168247e-09)],\n",
       "  8: [(0, -0.0008073107982973374), (1, -1.714990022263556e-05)],\n",
       "  9: [(0, -0.005597712485118844), (1, -0.005383356952136096)],\n",
       "  5: [(1, -0.001052547566048795), (0, -0.0002637797359096601)],\n",
       "  7: [(0, 0.0066688780273744495), (1, 0.006453122515831692)]},\n",
       " {4: [(0, -0.0005305380567063936), (1, 1.4529939502279147e-06)],\n",
       "  8: [(0, -0.9745616889714053), (1, 0.0037876022712334196)],\n",
       "  9: [(0, -1.9452795577166943e-05), (1, -8.897824130434045e-06)],\n",
       "  5: [(1, -0.003001079965500936), (0, 0.0006808920055231414)],\n",
       "  7: [(0, 0.9874405355072842), (1, -0.0008254989683235824)]},\n",
       " {4: [(0, -0.04597681707204397), (1, 1.8505051277873419e-06)],\n",
       "  6: [(0, -0.1401689194320386), (1, 0.0006331962109441555)],\n",
       "  2: [(0, -0.07591842377663827), (1, 0.00030520356223261836)],\n",
       "  3: [(0, -0.24351578254306552), (1, 0.0010126738589449516)],\n",
       "  1: [(0, 0.894052119849682), (1, -0.0036204542828166234)]},\n",
       " {8: [(0, -0.0709013080440667)],\n",
       "  2: [(0, -0.005953194564100271)],\n",
       "  6: [(0, 0.0031500098506643225)],\n",
       "  3: [(0, 0.012005545904104435)],\n",
       "  4: [(0, 0.09755978389024192)]},\n",
       " {3: [(0, -0.0038676509258143)],\n",
       "  4: [(0, -0.003939847155319793)],\n",
       "  2: [(0, -0.007568171461888212)],\n",
       "  6: [(0, -0.007282705631153774)],\n",
       "  0: [(0, 0.1355581313214661)]},\n",
       " {1: [(0, -0.009750202114894056)],\n",
       "  8: [(0, -0.08285003785145481)],\n",
       "  3: [(0, 0.001990659163878462)],\n",
       "  6: [(0, 0.013779804930930447)],\n",
       "  4: [(0, 0.10243802839774362)]},\n",
       " {2: [(0, -0.004346166176847634)],\n",
       "  8: [(0, -0.12502505823654714)],\n",
       "  9: [(0, -0.0004067765258207667)],\n",
       "  7: [(0, -0.002032480113660917)],\n",
       "  5: [(0, 0.14628094321184246)]},\n",
       " {4: [(0, -0.004047072846959436)],\n",
       "  2: [(0, -0.007711876853001268)],\n",
       "  0: [(0, -0.0035244148730634046)],\n",
       "  6: [(0, -0.007659618292167136)],\n",
       "  8: [(0, 0.04395524365358591)]},\n",
       " {2: [(0, -0.010255511942729636)],\n",
       "  7: [(0, -0.01056904807337479)],\n",
       "  6: [(0, -0.010131948455817408)],\n",
       "  4: [(0, -0.006442528675297138)],\n",
       "  8: [(0, 0.07030118484634658)]},\n",
       " {3: [(0, -0.008079223661937049)],\n",
       "  0: [(0, -0.005111714610700339)],\n",
       "  2: [(0, 0.003535113975544648)],\n",
       "  4: [(0, 0.023800206836299905)],\n",
       "  6: [(0, 0.08989133877102223)]},\n",
       " {2: [(0, -0.004238072816750846)],\n",
       "  8: [(0, -0.12191556394282549)],\n",
       "  9: [(0, -0.00039666112481061554)],\n",
       "  7: [(0, -0.00198233532816873)],\n",
       "  5: [(0, 0.14264320595789876)]},\n",
       " {4: [(0, -8.31558893247958e-09), (1, 2.424051699713719e-09)],\n",
       "  8: [(1, -7.105761916694211e-06), (0, -2.222161613520054e-06)],\n",
       "  9: [(1, -0.002755330897259607), (0, 4.197600882178074e-06)],\n",
       "  5: [(1, -0.0009840049651001692), (0, -3.684327053004422e-06)],\n",
       "  7: [(1, 0.0037464642113102255), (0, 1.744687081010358e-06)]},\n",
       " {0: [(0, -0.635168244146457), (1, 0.0031160550444101075)],\n",
       "  4: [(0, -0.01024349678832488), (1, -7.497322312559656e-05)],\n",
       "  2: [(0, -0.04222687279498631), (1, -0.00014634957916440599)],\n",
       "  3: [(0, -0.05071857214329944), (1, 0.004380336833171579)],\n",
       "  1: [(0, 0.9615920680900205), (1, -0.008191109330716007)]},\n",
       " {3: [(0, -0.005313643940574545)],\n",
       "  1: [(0, -0.010195499196856741)],\n",
       "  2: [(0, -0.008857208328815027)],\n",
       "  6: [(0, -0.008456835344995823)],\n",
       "  0: [(0, 0.1357944536226201)]},\n",
       " {8: [(0, -0.07212433735930832)],\n",
       "  0: [(0, -0.0040057375583089595)],\n",
       "  4: [(0, 0.009773622531967677)],\n",
       "  6: [(0, 0.022140856962029713)],\n",
       "  2: [(0, 0.0830196152981875)]},\n",
       " {8: [(0, -0.06792451373755838)],\n",
       "  0: [(0, -0.004899564438369928)],\n",
       "  6: [(0, -0.003414042337254952)],\n",
       "  2: [(0, 0.037444183871178496)],\n",
       "  4: [(0, 0.07474044591135727)]},\n",
       " {8: [(0, -0.07469546099447667)],\n",
       "  0: [(0, -0.005519459993449009)],\n",
       "  5: [(0, -0.00477344202086258)],\n",
       "  7: [(0, -0.009971756186169715)],\n",
       "  9: [(0, 0.1427773063531831)]},\n",
       " {4: [(0, -0.006550611360325751)],\n",
       "  3: [(0, -0.008174945017353748)],\n",
       "  2: [(0, -0.010373786306139578)],\n",
       "  6: [(0, -0.008542515399395358)],\n",
       "  0: [(0, 0.13677658607651846)]},\n",
       " {8: [(0, -0.07393796928205242)],\n",
       "  1: [(0, -0.012875112484441259)],\n",
       "  7: [(0, -0.01034193424328269)],\n",
       "  5: [(0, -0.004819040046474746)],\n",
       "  9: [(0, 0.14310109094384438)]},\n",
       " {7: [(0, -0.009639561810143289)],\n",
       "  6: [(0, -0.010983374593396145)],\n",
       "  5: [(0, -0.004744525561753903)],\n",
       "  4: [(0, -0.006698094695526347)],\n",
       "  8: [(0, 0.07134186778336966)]},\n",
       " {4: [(0, -0.006550407559501264)],\n",
       "  2: [(0, -0.00996801796218367)],\n",
       "  3: [(0, -0.007432386301894012)],\n",
       "  6: [(0, 0.02454218189284056)],\n",
       "  0: [(0, 0.10273053747788596)]},\n",
       " {4: [(0, 0.008802975397778032)],\n",
       "  3: [(0, 0.014385659829242487)],\n",
       "  0: [(0, 0.022005190000224335)],\n",
       "  2: [(0, 0.03160176847765868)],\n",
       "  6: [(0, 0.03425708648557801)]},\n",
       " {6: [(0, -0.010094325508253352)],\n",
       "  9: [(0, -0.001487968307162782)],\n",
       "  5: [(0, -0.00405560755902872)],\n",
       "  7: [(0, -0.007994265329011915)],\n",
       "  8: [(0, 0.06288275088430123)]},\n",
       " {6: [(0, -0.17450254501119547), (1, 0.0007293743127513508)],\n",
       "  4: [(0, -0.008371210197805314), (1, 3.794262828334406e-05)],\n",
       "  2: [(0, -0.057470595857788326), (1, 0.0002464365430135013)],\n",
       "  3: [(0, -0.01062797657467945), (1, 4.0339952329378654e-05)],\n",
       "  1: [(0, 0.9790834164842137), (1, -0.004289730946726692)]},\n",
       " {3: [(0, -0.006982512780712207)],\n",
       "  8: [(0, -0.06851165629145546)],\n",
       "  2: [(0, 0.005580109002347605)],\n",
       "  6: [(0, 0.04964837796238006)],\n",
       "  4: [(0, 0.05443945722125968)]},\n",
       " {0: [(0, -0.03423613672427874), (1, 0.0001225882306838959)],\n",
       "  2: [(0, -0.04726694278887413), (1, 0.0001540030053123471)],\n",
       "  4: [(0, -0.010147694632943526), (1, 1.782849232586902e-05)],\n",
       "  3: [(0, -0.5119171953263059), (1, 0.0024875131637410387)],\n",
       "  1: [(0, 0.7201187462040357), (1, -0.0032605538044781102)]},\n",
       " {2: [(0, -3.5034749317968094e-15), (1, -1.1248184396228966e-15)],\n",
       "  0: [(0, -7.077171054648711e-16), (1, -1.6379465160856513e-16)],\n",
       "  4: [(0, -1.2714587072560766e-12), (1, -2.453834792881694e-14)],\n",
       "  3: [(0, -8.931917622791142e-13), (1, -9.280208513338357e-14)],\n",
       "  1: [(0, 0.0), (1, 0.0)]},\n",
       " {8: [(0, -0.08950037973842755)],\n",
       "  0: [(0, -0.004044052621172131)],\n",
       "  4: [(0, -0.004085966805770556)],\n",
       "  6: [(0, -0.006440638082264128)],\n",
       "  2: [(0, 0.13250725527292664)]},\n",
       " {4: [(0, -0.004304672893306861)],\n",
       "  3: [(0, -0.003198080583884161)],\n",
       "  2: [(0, 0.002092195099612598)],\n",
       "  0: [(0, 0.049741917683475315)],\n",
       "  6: [(0, 0.055651057821587795)]},\n",
       " {6: [(0, -0.03370811656059374), (1, -0.012669788761036636)],\n",
       "  0: [(0, -0.027802646142180216), (1, -0.0018409503679132)],\n",
       "  1: [(0, -0.09847429665799874), (1, 0.016504614994778205)],\n",
       "  8: [(1, -0.7172659363689478), (0, -0.01585444981040607)],\n",
       "  3: [(1, 0.7497122051903254), (0, 0.5890995855808332)]},\n",
       " {9: [(0, -0.0019050992570453897)],\n",
       "  7: [(0, -0.010790957317041529)],\n",
       "  6: [(0, -0.0103446802872752)],\n",
       "  4: [(0, -0.006577796936183951)],\n",
       "  8: [(0, 0.0717772385288317)]},\n",
       " {8: [(1, 5.507045130471237e-18), (0, -4.783775696945481e-18)],\n",
       "  1: [(1, 5.605838977528479e-17), (0, 3.603925321350911e-17)],\n",
       "  7: [(0, -1.4981116866092627e-06), (1, 9.584450410572287e-07)],\n",
       "  5: [(1, 3.394081972640403e-05), (0, 2.5501277997448394e-05)],\n",
       "  9: [(1, -3.4893881963903324e-05), (0, -2.4091870272477296e-05)]},\n",
       " {2: [(0, -0.006662431150836259), (1, 2.3817919988151482e-05)],\n",
       "  8: [(0, -0.9565389740164394), (1, 0.003327717495550129)],\n",
       "  9: [(0, -1.4950982020432114e-05), (1, 5.327640430390239e-08)],\n",
       "  7: [(0, -0.0001073368915198957), (1, 3.840648332406875e-07)],\n",
       "  5: [(0, 0.9868686022690245), (1, -0.0034357622177498856)]},\n",
       " {6: [(0, -0.14122973701642516), (1, 0.0006205103877246354)],\n",
       "  4: [(0, -0.0770751334019144), (1, 0.00021890441984299527)],\n",
       "  2: [(0, -0.05143887648913584), (1, 0.00018101945424046345)],\n",
       "  3: [(0, -0.2721053507030997), (1, 0.0011241987755845526)],\n",
       "  1: [(0, 0.9065451123593493), (1, -0.003613822335376876)]},\n",
       " {8: [(0, -0.12502500293218935)],\n",
       "  4: [(0, -0.001993396868334511)],\n",
       "  2: [(0, -0.004318631661430389)],\n",
       "  6: [(0, 0.0061908429994968935)],\n",
       "  0: [(0, 0.13347876811047005)]},\n",
       " {0: [(0, -0.005229998556599082)],\n",
       "  8: [(0, -0.08530371268534315)],\n",
       "  6: [(0, -0.010042464702856317)],\n",
       "  2: [(0, -0.007879716114354824)],\n",
       "  4: [(0, 0.13967564789288908)]},\n",
       " {2: [(0, -0.004338989067776229)],\n",
       "  8: [(0, -0.12481859653327132)],\n",
       "  9: [(0, -0.0004061028012916674)],\n",
       "  7: [(0, -0.0020295448906225894)],\n",
       "  5: [(0, 0.1460398013094861)]},\n",
       " {1: [(0, -0.013178223312227344)],\n",
       "  0: [(0, -0.005696901242901944)],\n",
       "  5: [(0, -0.005024854096754527)],\n",
       "  7: [(0, -0.010602447826588153)],\n",
       "  9: [(0, 0.14657942234228283)]},\n",
       " {4: [(0, -0.006386894457317259)],\n",
       "  2: [(0, -0.00987331436781433)],\n",
       "  3: [(0, 0.0005558980098877755)],\n",
       "  6: [(0, 0.0147599070759862)],\n",
       "  0: [(0, 0.10537683098183316)]},\n",
       " {8: [(0, -0.07263394608865723)],\n",
       "  0: [(0, -0.0054813981603037965)],\n",
       "  4: [(0, -0.0027285266432113195)],\n",
       "  6: [(0, -0.0022729539406242437)],\n",
       "  2: [(0, 0.12223139040296271)]},\n",
       " {2: [(0, -0.010439830299901236)],\n",
       "  7: [(0, -0.010777360733003415)],\n",
       "  4: [(0, -0.006562051792088428)],\n",
       "  6: [(0, -0.010324341796008527)],\n",
       "  8: [(0, 0.07163069478342547)]},\n",
       " {5: [(0, -0.0050962716295649005)],\n",
       "  2: [(0, -0.010624677399586112)],\n",
       "  0: [(0, -0.0056171111107356664)],\n",
       "  6: [(0, -0.010501892656590423)],\n",
       "  8: [(0, 0.07286536773551083)]},\n",
       " {4: [(0, -0.01149508799751289), (1, 5.401471357460382e-05)],\n",
       "  8: [(0, -0.7726766996609813), (1, 0.0028152210264765208)],\n",
       "  9: [(0, -0.0006166158542531327), (1, 1.5275310579324027e-05)],\n",
       "  5: [(1, 0.0024178891617754753), (0, 0.0021391951174654683)],\n",
       "  7: [(0, 0.9840719163583602), (1, -0.006238603645025672)]},\n",
       " {4: [(0, -0.004945055842166407)],\n",
       "  8: [(0, -0.09032966524649064)],\n",
       "  2: [(0, -0.008877489667095536)],\n",
       "  6: [(0, -0.008368074422162258)],\n",
       "  0: [(0, 0.1400344145212164)]},\n",
       " {0: [(1, -4.8932916655190096e-18), (0, 2.1514020693020062e-20)],\n",
       "  2: [(1, -1.9353979215896007e-17), (0, 8.997341118393968e-20)],\n",
       "  4: [(1, -8.439666720513335e-15), (0, 4.3334513564544114e-17)],\n",
       "  3: [(1, -9.47905171006279e-15), (0, 4.702206602820892e-17)],\n",
       "  1: [(0, 0.0), (1, 0.0)]},\n",
       " {1: [(0, -0.0026501173251437674)],\n",
       "  2: [(0, -0.0022998739432215382)],\n",
       "  0: [(0, -0.0025222417635484056)],\n",
       "  6: [(0, -0.004935574089335126)],\n",
       "  8: [(0, 0.01594501687582337)]},\n",
       " {2: [(0, -0.004353327237146789)],\n",
       "  1: [(0, -0.0031706197815311605)],\n",
       "  9: [(0, -0.0003790376709202346)],\n",
       "  8: [(0, -0.12487266955933095)],\n",
       "  5: [(0, 0.14613551505757347)]},\n",
       " {2: [(0, -0.004194571998357604)],\n",
       "  8: [(0, -0.1206641869831166)],\n",
       "  9: [(0, -0.0003925897057747037)],\n",
       "  7: [(0, -0.0019620075976277606)],\n",
       "  5: [(0, 0.14117909137450946)]},\n",
       " {0: [(0, -0.005491865463060574)],\n",
       "  3: [(0, -0.007379740159635921)],\n",
       "  2: [(0, -0.010481251603159129)],\n",
       "  4: [(0, 0.010738442023829764)],\n",
       "  6: [(0, 0.11640333839310574)]},\n",
       " {1: [(0, -0.0029165461012154803)],\n",
       "  2: [(0, -0.004004306281783032)],\n",
       "  7: [(0, -0.0018730115853162585)],\n",
       "  9: [(0, -0.0003742929350383149)],\n",
       "  5: [(0, 0.13477472422558184)]},\n",
       " {0: [(0, -0.0048160430789902335)],\n",
       "  8: [(0, -0.06877856725136752)],\n",
       "  2: [(0, 0.005765098301959982)],\n",
       "  6: [(0, 0.02022341318480659)],\n",
       "  4: [(0, 0.0850151924984348)]},\n",
       " {8: [(0, -0.07285737209464371)],\n",
       "  0: [(0, -0.004688032117371514)],\n",
       "  4: [(0, 0.032992894935417974)],\n",
       "  2: [(0, 0.04141020811123692)],\n",
       "  6: [(0, 0.042574639325081653)]},\n",
       " {8: [(0, -0.0751213205033808)],\n",
       "  4: [(0, -0.00597674021331055)],\n",
       "  2: [(0, -0.009766479172317818)],\n",
       "  6: [(0, -0.008466022181853862)],\n",
       "  0: [(0, 0.1342534287990581)]},\n",
       " {3: [(0, -0.004621775249481722)],\n",
       "  0: [(0, -0.0012683843925294048)],\n",
       "  4: [(0, -0.0012288587047153132)],\n",
       "  6: [(0, 0.015356364031267)],\n",
       "  2: [(0, 0.10368618216244782)]},\n",
       " {6: [(0, 9.354148878608522e-18), (1, 5.866949436668067e-18)],\n",
       "  0: [(0, 9.138556648891522e-16), (1, 4.3414204658011267e-16)],\n",
       "  3: [(0, 4.0769273822719295e-13), (1, -2.3900461401255855e-13)],\n",
       "  4: [(0, 1.885329429233336e-11), (1, 6.39771068193524e-12)],\n",
       "  1: [(0, 0.0), (1, 0.0)]},\n",
       " {2: [(0, -0.0007767498248477945), (1, 2.7279507344737237e-06)],\n",
       "  0: [(0, -0.0011955639559045853), (1, 3.984453848884013e-06)],\n",
       "  4: [(0, -0.009036611039018764), (1, 3.393503220641389e-05)],\n",
       "  3: [(0, -0.0073916331224997125), (1, 2.4228410278224005e-05)],\n",
       "  1: [(0, 0.018905186917633893), (1, -6.663967890753454e-05)]},\n",
       " {2: [(0, -0.004150873734406288)],\n",
       "  9: [(0, -0.00035809456582203294)],\n",
       "  8: [(0, -0.11915711902268707)],\n",
       "  7: [(0, 0.004148617204716022)],\n",
       "  5: [(0, 0.13333778818363756)]},\n",
       " {0: [(0, -0.002396516021182455)],\n",
       "  8: [(0, -0.11386915383623505)],\n",
       "  5: [(0, 0.00042728753812597194)],\n",
       "  9: [(0, 0.01079538493277568)],\n",
       "  7: [(0, 0.12224389730487076)]},\n",
       " {0: [(0, -0.005287332705090052)],\n",
       "  3: [(0, -0.007813228047918086)],\n",
       "  2: [(0, -0.0015650230474883657)],\n",
       "  4: [(0, 0.047824988576099146)],\n",
       "  6: [(0, 0.06691637305864717)]},\n",
       " {0: [(0, -0.002390468102588914)],\n",
       "  8: [(0, -0.12340498903672789)],\n",
       "  9: [(0, 0.0062016281339166745)],\n",
       "  5: [(0, 0.05302787755820437)],\n",
       "  7: [(0, 0.08307447913234922)]},\n",
       " {0: [(0, 0.008197981044457535)],\n",
       "  4: [(0, 0.01750545401162477)],\n",
       "  8: [(0, -0.043933961233174855)],\n",
       "  6: [(0, 0.022985587362033395)],\n",
       "  3: [(0, 0.02580932675816555)]},\n",
       " {1: [(0, -0.012928720724148413)],\n",
       "  3: [(0, -0.007573537654011333)],\n",
       "  2: [(0, -0.011080889489981115)],\n",
       "  6: [(0, -0.010061102076109078)],\n",
       "  0: [(0, 0.14328193607706685)]},\n",
       " {8: [(0, -0.12149891051275384)],\n",
       "  0: [(0, -0.0022260324658325494)],\n",
       "  4: [(0, -0.0010744080017161572)],\n",
       "  6: [(0, 0.04103343842593595)],\n",
       "  2: [(0, 0.09186350664505807)]},\n",
       " {1: [(0, -0.012512168536288852)],\n",
       "  2: [(0, -0.010028580930138056)],\n",
       "  3: [(0, -0.003813925192706688)],\n",
       "  6: [(0, 0.00283014125216617)],\n",
       "  0: [(0, 0.11741972344798512)]},\n",
       " {4: [(0, -8.685182063672626e-06), (1, 9.285261259416888e-10)],\n",
       "  8: [(0, -0.9879757027238216), (1, 0.003805130061966184)],\n",
       "  9: [(1, -1.2969065117732877e-05), (0, 3.369284107047318e-06)],\n",
       "  5: [(1, -0.0009004509158481719), (0, 0.00010143295865189116)],\n",
       "  7: [(0, 0.9883247979288355), (1, -0.0028925157553608243)]},\n",
       " {8: [(0, -0.06922378496639132)],\n",
       "  0: [(0, -0.0036776377065554752)],\n",
       "  4: [(0, -0.0022509292540316655)],\n",
       "  6: [(0, -0.0025759138746540657)],\n",
       "  2: [(0, 0.11490142249161386)]},\n",
       " {5: [(0, -0.004813959158010186)],\n",
       "  2: [(0, -0.010077302222269284)],\n",
       "  0: [(0, -0.005312537710076431)],\n",
       "  6: [(0, -0.009911284088485506)],\n",
       "  8: [(0, 0.06879381495754862)]},\n",
       " {1: [(0, -0.012057752416528147)],\n",
       "  0: [(0, -0.005268513392302189)],\n",
       "  5: [(0, -0.004512462501739767)],\n",
       "  7: [(0, -0.009382799277342176)],\n",
       "  9: [(0, 0.13645625924072094)]},\n",
       " {2: [(0, -0.001785404210091761), (1, -5.62014612055806e-05)],\n",
       "  0: [(0, -0.0029601439849283265), (1, -3.27192406595918e-05)],\n",
       "  4: [(0, -0.004064942062423638), (1, -2.600818284505914e-05)],\n",
       "  3: [(0, -0.00710694756325661), (1, -5.689426589858777e-05)],\n",
       "  1: [(0, 0.017197047668319303), (1, 0.0002173988968733914)]},\n",
       " {4: [(0, -0.006316224229004948)],\n",
       "  2: [(0, -0.008173163395788496)],\n",
       "  3: [(0, -0.00016392562603730504)],\n",
       "  6: [(0, 0.025474894296337657)],\n",
       "  0: [(0, 0.09424126750701578)]},\n",
       " {4: [(0, -3.183329987865321e-08), (1, -2.9442485924058754e-08)],\n",
       "  8: [(0, -3.6025248866336735e-06), (1, -2.387688760201315e-06)],\n",
       "  9: [(1, -0.00017531637943846883), (0, -1.3582174582872293e-05)],\n",
       "  5: [(1, -0.00034569603099573283), (0, -0.00012473359752319515)],\n",
       "  7: [(1, 0.0005235243897531551), (0, 0.000142090890164529)]},\n",
       " {0: [(0, -0.300538943215685), (1, 0.0013833874176744307)],\n",
       "  5: [(0, -0.0002437533046248646), (1, 1.1890619497068294e-06)],\n",
       "  3: [(0, -0.28770806035295554), (1, 0.0011587988290863182)],\n",
       "  4: [(0, -0.07333555714618178), (1, 0.00021828420032810478)],\n",
       "  1: [(0, 0.9648168745484796), (1, -0.003958029405928972)]},\n",
       " {8: [(0, -0.07086045744711791)],\n",
       "  0: [(0, -0.005405753795744182)],\n",
       "  5: [(0, -0.004911792925150115)],\n",
       "  7: [(0, -0.010618466157256087)],\n",
       "  9: [(0, 0.1392730333046212)]},\n",
       " {7: [(0, -0.0922334555594744), (1, 0.0003618444723458843)],\n",
       "  5: [(0, -0.06669477630372368), (1, 0.0002603178401696095)],\n",
       "  9: [(0, -0.033307152180546536), (1, 0.00013024455635255995)],\n",
       "  6: [(0, -0.02236999610513904), (1, 7.490634067538155e-05)],\n",
       "  8: [(0, 0.3893009541591125), (1, -0.0014690143001374223)]},\n",
       " {6: [(0, -0.009888005064260451)],\n",
       "  8: [(0, -0.0732546427653153)],\n",
       "  0: [(0, -0.005178238456918572)],\n",
       "  1: [(0, -0.01074730205080389)],\n",
       "  3: [(0, 0.12965214352122084)]},\n",
       " {2: [(0, -0.010617569066072943)],\n",
       "  8: [(0, -0.07318171786818634)],\n",
       "  7: [(0, -0.010507060915885083)],\n",
       "  9: [(0, -0.0018778355923925614)],\n",
       "  5: [(0, 0.13962609731660158)]},\n",
       " {0: [(0, -0.0023118184411401697)],\n",
       "  8: [(0, -0.12114709962819316)],\n",
       "  5: [(0, 0.00022820471331344553)],\n",
       "  9: [(0, 0.00803565632931075)],\n",
       "  7: [(0, 0.13113712499055294)]},\n",
       " {2: [(0, -0.010414399416389303)],\n",
       "  0: [(0, -0.005373158050577658)],\n",
       "  3: [(0, -0.007219395842078824)],\n",
       "  4: [(0, -0.006274342142575735)],\n",
       "  1: [(0, 0.12865316445745575)]},\n",
       " {0: [(0, -1.650718144796097e-10), (1, 8.120481560281595e-13)],\n",
       "  2: [(0, -3.829133318326544e-10), (1, 1.8860984627435685e-12)],\n",
       "  4: [(0, -1.0622149669561004e-07), (1, 5.264234418208583e-10)],\n",
       "  3: [(0, -1.8066706207781614e-08), (1, 8.902392810688423e-11)],\n",
       "  1: [(0, 1.1770672165384276e-07), (1, -5.834306548432705e-10)]},\n",
       " {8: [(0, -0.08415019883360803)],\n",
       "  0: [(0, -0.0053551670007064)],\n",
       "  5: [(0, -0.0040845280160178065)],\n",
       "  7: [(0, -0.0061212930562274444)],\n",
       "  9: [(0, 0.14503045404248668)]},\n",
       " {2: [(0, -0.010656667769072849)],\n",
       "  1: [(0, -0.011301354928606901)],\n",
       "  6: [(0, -7.434358775869007e-05)],\n",
       "  3: [(0, 0.04720621923077475)],\n",
       "  0: [(0, 0.0746720387041761)]},\n",
       " {0: [(0, -0.0011383125810547309)],\n",
       "  2: [(0, -0.0023097794961370248)],\n",
       "  6: [(0, 0.03059774590852096)],\n",
       "  3: [(0, 0.04179647782409378)],\n",
       "  4: [(0, 0.06423051492831593)]},\n",
       " {0: [(0, -0.0027871439420774635)],\n",
       "  8: [(0, -0.10771836991897804)],\n",
       "  6: [(0, 0.0010318110891427738)],\n",
       "  4: [(0, 0.04794510668103113)],\n",
       "  2: [(0, 0.07693189231059754)]},\n",
       " {4: [(0, -0.004235569017561657)],\n",
       "  2: [(0, -0.008147710999317785)],\n",
       "  0: [(0, -0.0035457456464461166)],\n",
       "  6: [(0, -0.007743209257309879)],\n",
       "  8: [(0, 0.04666961372220362)]},\n",
       " {1: [(0, -0.011377767988830523)],\n",
       "  3: [(0, -0.006440897664797851)],\n",
       "  2: [(0, -0.009521873497607665)],\n",
       "  6: [(0, -0.009259317632853203)],\n",
       "  0: [(0, 0.13668788067388846)]},\n",
       " {8: [(0, -0.12749333420355552)],\n",
       "  0: [(0, -0.002428439895177089)],\n",
       "  5: [(0, -0.0012294686430782697)],\n",
       "  7: [(0, -0.0018517076034492608)],\n",
       "  9: [(0, 0.14976055933445578)]},\n",
       " {2: [(0, -0.004245308260189107)],\n",
       "  8: [(0, -0.12212370358413899)],\n",
       "  9: [(0, -0.00039733602522675973)],\n",
       "  7: [(0, -0.0019852509888431394)],\n",
       "  5: [(0, 0.14288626958944653)]},\n",
       " {4: [(0, -0.005133712439508937)],\n",
       "  2: [(0, -0.009038044367551859)],\n",
       "  3: [(0, -0.0053921661267407805)],\n",
       "  6: [(0, 0.00033635156462785085)],\n",
       "  0: [(0, 0.12965902368604004)]},\n",
       " {4: [(0, -0.006216450590463538)],\n",
       "  8: [(0, -0.06845495876499938)],\n",
       "  2: [(0, -0.009867503164424557)],\n",
       "  6: [(0, -0.009778129621364031)],\n",
       "  0: [(0, 0.13115963871582847)]},\n",
       " {6: [(1, -1.6244929311465022e-15), (0, 6.891506470635998e-18)],\n",
       "  4: [(1, -4.823869764228456e-13), (0, 2.27164921497195e-15)],\n",
       "  2: [(1, -1.3258213131654595e-14), (0, 5.643434241197289e-17)],\n",
       "  3: [(1, -2.9030968331664337e-12), (0, 1.342215204379417e-14)],\n",
       "  1: [(0, 0.0), (1, 0.0)]},\n",
       " {2: [(0, -0.0104040707922961)],\n",
       "  0: [(0, -0.00550204927663794)],\n",
       "  6: [(0, -0.010288977793561702)],\n",
       "  5: [(0, -0.004992498309397476)],\n",
       "  8: [(0, 0.07138533834940829)]},\n",
       " {0: [(0, -0.005560214660003815)],\n",
       "  8: [(0, -0.07302535336706545)],\n",
       "  5: [(0, -0.0018615528241977056)],\n",
       "  9: [(0, 0.011418442151867299)],\n",
       "  7: [(0, 0.11752767425042701)]},\n",
       " {2: [(0, -0.005302272153188121)],\n",
       "  1: [(0, -0.0029287575686632204)],\n",
       "  6: [(0, 0.008184743665265523)],\n",
       "  3: [(0, 0.02474262827652807)],\n",
       "  0: [(0, 0.10093933378956023)]},\n",
       " {4: [(0, -0.0018909533104928425)],\n",
       "  8: [(0, -0.11856438027091379)],\n",
       "  9: [(0, -0.00037363294837703586)],\n",
       "  5: [(0, -0.0009354055307468128)],\n",
       "  7: [(0, 0.13771834503571717)]},\n",
       " {1: [(0, -0.012758969773188134)],\n",
       "  0: [(0, -0.005460117384760512)],\n",
       "  5: [(0, -0.004949532348482187)],\n",
       "  7: [(0, -0.010610229931271852)],\n",
       "  9: [(0, 0.1397460003338313)]},\n",
       " {3: [(0, -0.007566798654629984)],\n",
       "  1: [(0, -0.012511182723433318)],\n",
       "  2: [(0, -0.010162134915022455)],\n",
       "  6: [(0, -0.010045336226706423)],\n",
       "  0: [(0, 0.13933405526092935)]},\n",
       " {4: [(0, -0.005816674292835282)],\n",
       "  6: [(0, -0.009861847049676747)],\n",
       "  1: [(0, -0.011107760450737218)],\n",
       "  0: [(0, -0.005032819037272017)],\n",
       "  3: [(0, 0.13794182509543154)]},\n",
       " {4: [(0, -0.006949748164643758)],\n",
       "  3: [(0, -0.008643395431155367)],\n",
       "  2: [(0, -0.010823840749135857)],\n",
       "  6: [(0, 0.027428145466709967)],\n",
       "  0: [(0, 0.10800918996841576)]},\n",
       " {6: [(1, -1.6244777028838596e-07), (0, 3.341541310732457e-10)],\n",
       "  0: [(1, -1.3605467929506264e-06), (0, 2.5590439032805577e-08)],\n",
       "  3: [(1, -3.126749180294278e-05), (0, 2.0289958312786486e-06)],\n",
       "  4: [(1, -6.568079196874215e-05), (0, 3.0951189330760947e-06)],\n",
       "  1: [(1, 9.866716588665944e-05), (0, -5.096552242614158e-06)]},\n",
       " {8: [(1, -0.008082915483343427), (0, -0.0009385401663813362)],\n",
       "  6: [(1, -0.0017957809260882194), (0, -0.0007231782457160953)],\n",
       "  0: [(1, -0.08214135149058867), (0, -0.0029971490344157478)],\n",
       "  1: [(0, -0.005647138911505476), (1, 0.0020954171289017474)],\n",
       "  3: [(1, 0.980520194344683), (0, 0.006789577608023836)]},\n",
       " {5: [(0, -0.00466781286895498)],\n",
       "  2: [(0, -0.010420169760580902)],\n",
       "  4: [(0, -0.006341184595929745)],\n",
       "  6: [(0, -0.010146966400110013)],\n",
       "  8: [(0, 0.06833721885174826)]},\n",
       " {1: [(0, -0.012718532200177051)],\n",
       "  2: [(0, -0.010196340235329615)],\n",
       "  3: [(0, -0.008009980102477216)],\n",
       "  6: [(0, -0.010006038662368143)],\n",
       "  0: [(0, 0.13559591754001082)]},\n",
       " {1: [(0, -0.0072990881257380446)],\n",
       "  2: [(0, -0.008021163724189014)],\n",
       "  3: [(0, -0.0010366113113215141)],\n",
       "  6: [(0, 0.0020422408314754153)],\n",
       "  0: [(0, 0.1284207720273964)]},\n",
       " {6: [(0, -0.1477672027120611), (1, 0.0005190037505860526)],\n",
       "  2: [(0, -0.11751355396496313), (1, 0.000530631338922674)],\n",
       "  4: [(0, -0.1210937219333429), (1, 0.000571829912812816)],\n",
       "  3: [(0, -0.20854722476857657), (1, 0.0008642612770076891)],\n",
       "  1: [(0, 0.9090138675741983), (1, -0.003651302826851306)]},\n",
       " {0: [(0, -0.003282480941349825)],\n",
       "  8: [(0, -0.10853048910408301)],\n",
       "  9: [(0, -0.0007222129889606226)],\n",
       "  5: [(0, 0.011532681142393997)],\n",
       "  7: [(0, 0.12764585358707833)]},\n",
       " {8: [(0, -0.07787320256523902)],\n",
       "  3: [(0, 0.0014397411510664788)],\n",
       "  2: [(0, 7.100040211464469e-05)],\n",
       "  6: [(0, 0.037460274324963336)],\n",
       "  4: [(0, 0.06559438675415588)]},\n",
       " {0: [(0, -0.01899003202974822), (1, 9.274995314709997e-05)],\n",
       "  8: [(0, -0.7976623060413018), (1, 0.0034773897163398663)],\n",
       "  9: [(1, -5.009102563290139e-05), (0, 2.5349734230232807e-05)],\n",
       "  5: [(0, 0.22856869244172937), (1, -0.037120889373912586)],\n",
       "  7: [(0, 0.7578472689079103), (1, 0.032713402577336334)]},\n",
       " {0: [(0, -0.002447552808309839)],\n",
       "  2: [(0, -0.004432564133703905)],\n",
       "  6: [(0, -0.00543779099282206)],\n",
       "  4: [(0, 0.005861773085854005)],\n",
       "  3: [(0, 0.14221163291116534)]},\n",
       " {4: [(0, -4.1877678688015836e-06), (1, -3.954588255114678e-08)],\n",
       "  8: [(0, -0.9880228315551246), (1, 0.004173766906145233)],\n",
       "  9: [(0, 1.2173255802159451e-06), (1, 6.93057901009388e-07)],\n",
       "  5: [(0, 0.0005399275521530508), (1, 0.0004333158358361273)],\n",
       "  7: [(0, 0.9877528664630963), (1, -0.004606365048490753)]},\n",
       " {8: [(0, -0.12223528483618003)],\n",
       "  0: [(0, -0.0021066731704251843)],\n",
       "  6: [(0, -0.0017502209192468072)],\n",
       "  4: [(0, 0.0017870216786397284)],\n",
       "  2: [(0, 0.1324165046845109)]},\n",
       " {0: [(0, -0.004285650394665131)],\n",
       "  3: [(0, -0.0066092881165441325)],\n",
       "  2: [(0, 0.009922244260121239)],\n",
       "  4: [(0, 0.04125129020966891)],\n",
       "  6: [(0, 0.0683942665648687)]},\n",
       " {1: [(0, -0.011179432629239951)],\n",
       "  8: [(0, -0.08703963053105553)],\n",
       "  2: [(0, -0.00956795317966892)],\n",
       "  6: [(0, -0.00919583102039903)],\n",
       "  0: [(0, 0.14272048522929331)]},\n",
       " {8: [(0, -0.1223175778095102)],\n",
       "  0: [(0, -0.002163879239495864)],\n",
       "  4: [(0, 0.0024871375009483166)],\n",
       "  6: [(0, 0.00021894477391242074)],\n",
       "  2: [(0, 0.1299199535853927)]},\n",
       " {8: [(0, -0.6543013998709728), (1, 0.0026022466922069514)],\n",
       "  6: [(0, -0.04485770625396388), (1, 0.0001353661478046132)],\n",
       "  0: [(0, -0.03534459472752037), (1, -9.112749176614066e-05)],\n",
       "  1: [(0, -0.01585275572114082), (1, -0.00027684332087441914)],\n",
       "  3: [(0, 0.8771450743106426), (1, -0.002700292672697827)]},\n",
       " {0: [(0, -0.003006622204357424)],\n",
       "  8: [(0, -0.10502583152937103)],\n",
       "  2: [(0, 0.0009324673521711903)],\n",
       "  6: [(0, 0.022003458462081137)],\n",
       "  4: [(0, 0.09858297621687984)]},\n",
       " {2: [(0, -0.004288633066467205)],\n",
       "  8: [(0, -0.12337001843751307)],\n",
       "  9: [(0, -0.0004013933254821537)],\n",
       "  7: [(0, -0.0020060045473670476)],\n",
       "  5: [(0, 0.1443449584200917)]},\n",
       " {8: [(0, -0.07464421808540696)],\n",
       "  0: [(0, -0.005758511034206155)],\n",
       "  5: [(0, -0.005218078123818638)],\n",
       "  7: [(0, -0.011171106435020147)],\n",
       "  9: [(0, 0.14722948488133641)]},\n",
       " {2: [(0, -0.0042597665796687886)],\n",
       "  8: [(0, -0.12253962326491162)],\n",
       "  9: [(0, -0.0003986915658554352)],\n",
       "  7: [(0, -0.001992496376767196)],\n",
       "  5: [(0, 0.1433733825590549)]},\n",
       " {8: [(0, -0.11347351605648681)],\n",
       "  0: [(0, -0.0020180838679237974)],\n",
       "  4: [(0, 0.02832139055760422)],\n",
       "  6: [(0, 0.028574837223850038)],\n",
       "  2: [(0, 0.07055820204305054)]},\n",
       " {2: [(0, -0.009861453656819008)],\n",
       "  1: [(0, -0.010300505093478369)],\n",
       "  0: [(0, -0.0046714416049599885)],\n",
       "  6: [(0, -0.009268024263307065)],\n",
       "  8: [(0, 0.05726876327461549)]},\n",
       " {4: [(0, -0.0019609253165523825)],\n",
       "  8: [(0, -0.1229550577337415)],\n",
       "  9: [(0, -0.00040003196648451375)],\n",
       "  5: [(0, -0.0012098257935796665)],\n",
       "  7: [(0, 0.14307000967888012)]},\n",
       " {2: [(0, -0.004087604197906208)],\n",
       "  1: [(0, -0.0028315513151226275)],\n",
       "  3: [(0, 0.004407723411571011)],\n",
       "  6: [(0, 0.005740293520648018)],\n",
       "  0: [(0, 0.12578300447569318)]},\n",
       " {6: [(0, -0.004614783811199405)],\n",
       "  2: [(0, -0.0030343134317471166)],\n",
       "  4: [(0, -5.8949306855731194e-05)],\n",
       "  3: [(0, 0.011292964767754555)],\n",
       "  1: [(0, 0.11722416500550537)]},\n",
       " {8: [(0, -0.06328369966487885)],\n",
       "  2: [(0, 0.0005198691285394209)],\n",
       "  3: [(0, 0.013844976986622931)],\n",
       "  6: [(0, 0.036840494894844894)],\n",
       "  4: [(0, 0.0408743150784214)]},\n",
       " {0: [(0, -4.4607938145640935e-11), (1, 2.307862635125218e-13)],\n",
       "  2: [(0, -2.4938976775316282e-11), (1, 1.2907545525691595e-13)],\n",
       "  4: [(0, -8.103140565608822e-07), (1, 4.195590491673238e-09)],\n",
       "  3: [(0, -4.942058716561617e-09), (1, 2.5573257112158574e-11)],\n",
       "  1: [(0, 8.241916619543484e-07), (1, -4.2674741103680845e-09)]},\n",
       " {5: [(0, -0.005044743627138398)],\n",
       "  2: [(0, -0.010482845424910127)],\n",
       "  0: [(0, -0.005554797475595722)],\n",
       "  6: [(0, -0.010403148477137617)],\n",
       "  8: [(0, 0.07215847249287334)]},\n",
       " {8: [(0, -0.9755532956452869), (1, 0.004071210884947079)],\n",
       "  6: [(0, -0.0013200142816649967), (1, 3.237792250275194e-05)],\n",
       "  0: [(0, 0.00039083781105553165), (1, 0.0001338521528267535)],\n",
       "  1: [(0, 0.00557981721442493), (1, 4.335983294433178e-05)],\n",
       "  3: [(0, 0.9791834889221408), (1, -0.004289708132516498)]},\n",
       " {0: [(0, -0.005358200262824611)],\n",
       "  8: [(0, -0.07672187028690848)],\n",
       "  6: [(0, -0.0013933205000467644)],\n",
       "  4: [(0, 0.012007005094330317)],\n",
       "  2: [(0, 0.10662803283619288)]},\n",
       " {4: [(0, -8.586712523248648e-11), (1, -3.890328714028441e-11)],\n",
       "  8: [(1, -3.69049139948616e-05), (0, -2.856907202258652e-06)],\n",
       "  9: [(1, -0.0027791546196217418), (0, -3.218337560385167e-05)],\n",
       "  5: [(0, -0.0037727772974785316), (1, -0.00030490043036221964)],\n",
       "  7: [(0, 0.0038077933836041834), (1, 0.0031209013676493217)]},\n",
       " {2: [(0, -0.00428863306106733)],\n",
       "  8: [(0, -0.1233700186875063)],\n",
       "  9: [(0, -0.00040138832970390196)],\n",
       "  7: [(0, -0.0020059997006404624)],\n",
       "  5: [(0, 0.14434495842276024)]},\n",
       " {8: [(0, -0.12295505804139682)],\n",
       "  4: [(0, -0.001960894657085606)],\n",
       "  2: [(0, -0.004263101408420284)],\n",
       "  6: [(0, 0.0012095811794254844)],\n",
       "  0: [(0, 0.1361641066555286)]},\n",
       " {8: [(0, -3.75396884133834e-12), (1, 1.954304800501775e-14)],\n",
       "  0: [(0, -2.961989316814074e-08), (1, 1.5457107508688736e-10)],\n",
       "  5: [(0, -3.4634705759714422e-06), (1, 1.638040042149562e-08)],\n",
       "  7: [(0, -4.459120160147724e-05), (1, 2.125573378880075e-07)],\n",
       "  9: [(0, 4.803007816480822e-05), (1, -2.16339622869294e-07)]},\n",
       " {3: [(0, -0.0013270852957946602)],\n",
       "  0: [(0, 2.9585862117185965e-05)],\n",
       "  4: [(0, 0.029271844291540682)],\n",
       "  6: [(0, 0.036912219806526446)],\n",
       "  2: [(0, 0.03904246853910431)]},\n",
       " {3: [(0, -0.007784213514183818)],\n",
       "  0: [(0, -0.004205474050635375)],\n",
       "  4: [(0, -0.003958185670925022)],\n",
       "  2: [(0, 0.031506780527291875)],\n",
       "  6: [(0, 0.0828178551073957)]},\n",
       " {8: [(0, -0.125231401801964)],\n",
       "  0: [(0, -0.0023873676874902037)],\n",
       "  5: [(0, -0.0012323526384166207)],\n",
       "  7: [(0, -0.0020354055543249042)],\n",
       "  9: [(0, 0.14734684995435102)]},\n",
       " {8: [(0, -0.07063150148635913)],\n",
       "  2: [(0, -0.010238434153014815)],\n",
       "  6: [(0, -0.00981286390056929)],\n",
       "  3: [(0, 0.0007057009551960497)],\n",
       "  4: [(0, 0.12551074914932014)]},\n",
       " {6: [(0, -0.08941141627617892), (1, 0.0003985777215638707)],\n",
       "  4: [(0, -0.1473174135117013), (1, 0.0005745006538336928)],\n",
       "  2: [(0, -0.05390964441821526), (1, 0.00020941506231040313)],\n",
       "  3: [(0, -0.2681565429782674), (1, 0.0011968261580650704)],\n",
       "  1: [(0, 0.8749463897309515), (1, -0.0036686680539881463)]},\n",
       " {6: [(0, -0.010420223818666242)],\n",
       "  2: [(0, -0.010761654927438464)],\n",
       "  4: [(0, -0.006303079307357402)],\n",
       "  0: [(0, -0.005503078422820013)],\n",
       "  1: [(0, 0.13219950973948202)]},\n",
       " {8: [(0, -0.06856889700254658)],\n",
       "  0: [(0, -0.0052710174872061585)],\n",
       "  5: [(0, -0.004780487780187927)],\n",
       "  7: [(0, -0.010266136605250324)],\n",
       "  9: [(0, 0.13509401555460265)]},\n",
       " {8: [(0, -0.07402431782924135)],\n",
       "  0: [(0, -0.005713595394614092)],\n",
       "  5: [(0, -0.005176734573462622)],\n",
       "  7: [(0, -0.011077723579686862)],\n",
       "  9: [(0, 0.14603038639239654)]},\n",
       " {8: [(1, -0.14754645622656548), (0, 0.0004619977323427823)],\n",
       "  6: [(1, -0.10656708637494051), (0, 0.000269807788514473)],\n",
       "  0: [(1, -0.0939491532951759), (0, -0.0015698366329555942)],\n",
       "  1: [(1, -0.068942227383995), (0, 0.013222064448027177)],\n",
       "  3: [(1, 0.8005710125164094), (0, -0.013817186384181841)]},\n",
       " {8: [(0, -0.10928370552335145)],\n",
       "  0: [(0, -0.002751204276855588)],\n",
       "  5: [(0, -0.0019223517710383756)],\n",
       "  7: [(0, -0.0030287697476541558)],\n",
       "  9: [(0, 0.13797471786826776)]},\n",
       " {0: [(0, -0.0001031279388525831), (1, -4.428712155696597e-06)],\n",
       "  8: [(0, -0.9870754310209483), (1, 0.00402763098487735)],\n",
       "  5: [(1, -0.0005365228768985884), (0, 0.00020744851017619656)],\n",
       "  9: [(0, 0.001287762329048873), (1, 9.084749977947368e-06)],\n",
       "  7: [(0, 0.9866911778616637), (1, -0.003479244021623842)]},\n",
       " {6: [(0, -0.0102353167703971)],\n",
       "  1: [(0, -0.01283067207375705)],\n",
       "  4: [(0, -0.0056936682703971385)],\n",
       "  0: [(0, -0.004449338741495346)],\n",
       "  3: [(0, 0.13495966804004406)]},\n",
       " {6: [(0, -0.010230993698646596)],\n",
       "  2: [(0, -0.010258069602016718)],\n",
       "  4: [(0, -0.006479070767707888)],\n",
       "  0: [(0, -0.005451225563362311)],\n",
       "  1: [(0, 0.12975955310868675)]},\n",
       " {1: [(0, -0.012939781177193117)],\n",
       "  0: [(0, -0.005509617978816292)],\n",
       "  5: [(0, -0.00500307996248864)],\n",
       "  7: [(0, -0.010791721423983412)],\n",
       "  9: [(0, 0.1417015938181862)]},\n",
       " {2: [(0, -0.010207377667236511)],\n",
       "  0: [(0, -0.004836721864709494)],\n",
       "  4: [(0, -0.005617353439063329)],\n",
       "  3: [(0, -0.005555879481795747)],\n",
       "  1: [(0, 0.13465257069454598)]},\n",
       " {8: [(0, -0.07832914135189366)],\n",
       "  2: [(0, 0.0018035830097116376)],\n",
       "  3: [(0, 0.013051269775394607)],\n",
       "  6: [(0, 0.029428904482976314)],\n",
       "  0: [(0, 0.05633401100500866)]},\n",
       " {4: [(0, -0.03205847148854857), (1, 0.0001173812157784911)],\n",
       "  6: [(0, -0.07764487786883298), (1, 0.00021776715974856694)],\n",
       "  0: [(0, -0.13804176467136295), (1, 0.00017983724699464993)],\n",
       "  1: [(0, -0.07165240711325861), (1, 0.00026218705842656246)],\n",
       "  3: [(0, 0.3967089149191374), (1, -0.001062043123763948)]},\n",
       " {5: [(0, -0.004873540851515711)],\n",
       "  4: [(0, -0.006408041110714291)],\n",
       "  2: [(0, -0.01027870864468807)],\n",
       "  6: [(0, -0.010199885962967937)],\n",
       "  0: [(0, 0.139454459304146)]},\n",
       " {0: [(0, -0.004242836445789306)],\n",
       "  8: [(0, -0.08422749027661214)],\n",
       "  2: [(0, 0.012341711130774232)],\n",
       "  6: [(0, 0.040806292042162254)],\n",
       "  4: [(0, 0.06572901999456889)]},\n",
       " {0: [(0, -0.005315215245254308)],\n",
       "  7: [(0, -0.00857103900704727)],\n",
       "  4: [(0, -0.006087606100857838)],\n",
       "  6: [(0, -0.010063886659601078)],\n",
       "  8: [(0, 0.06460529595308029)]},\n",
       " {2: [(0, -0.009983204227978477)],\n",
       "  1: [(0, -0.0124160978353836)],\n",
       "  3: [(0, -0.007209970235929627)],\n",
       "  6: [(0, -0.007306792568619767)],\n",
       "  0: [(0, 0.12937618670527684)]},\n",
       " {3: [(0, -0.008302768639780212)],\n",
       "  4: [(0, -0.006375244711668482)],\n",
       "  2: [(0, -0.008497919358690549)],\n",
       "  6: [(0, 0.033166330404503015)],\n",
       "  0: [(0, 0.09466641292658504)]},\n",
       " {3: [(0, -0.008006229905371035)],\n",
       "  0: [(0, -0.005013279678783053)],\n",
       "  4: [(0, 0.015088567766626471)],\n",
       "  2: [(0, 0.014511778862473576)],\n",
       "  6: [(0, 0.09182078248537928)]},\n",
       " {8: [(0, -0.09518221098383486)],\n",
       "  0: [(0, -0.003116164049068511)],\n",
       "  6: [(0, -0.006681062403016898)],\n",
       "  4: [(0, -0.003163935165733903)],\n",
       "  2: [(0, 0.12568033943773538)]},\n",
       " {1: [(0, -0.003044540762080856)],\n",
       "  0: [(0, -0.002292329517377904)],\n",
       "  5: [(0, -0.0011831416454517122)],\n",
       "  7: [(0, -0.001948501098232085)],\n",
       "  9: [(0, 0.14147511499167284)]},\n",
       " {0: [(0, -0.005572057828248088)],\n",
       "  2: [(0, -0.0105575210506006)],\n",
       "  4: [(0, -0.006622823887602506)],\n",
       "  3: [(0, -0.008218538970114622)],\n",
       "  1: [(0, 0.13155414831725698)]},\n",
       " {8: [(0, -0.07509644280076308)],\n",
       "  0: [(0, -0.005411190343584267)],\n",
       "  7: [(0, -0.00910521410390089)],\n",
       "  5: [(0, -0.00446082000998653)],\n",
       "  9: [(0, 0.14020494951903498)]},\n",
       " {2: [(0, -0.004295839266677481)],\n",
       "  7: [(0, -0.0020093759480603983)],\n",
       "  4: [(0, -0.001970849254168378)],\n",
       "  6: [(0, -0.005367774639293907)],\n",
       "  8: [(0, 0.022226401471989052)]},\n",
       " {1: [(0, -0.012446559223316294)],\n",
       "  0: [(0, -0.005321798736842284)],\n",
       "  6: [(0, -0.009933502890702281)],\n",
       "  4: [(0, -0.005812136633510702)],\n",
       "  3: [(0, 0.12977997790558268)]},\n",
       " {8: [(0, -0.07443314615993087)],\n",
       "  0: [(0, -0.0055040780870714515)],\n",
       "  6: [(0, -0.005717055777217408)],\n",
       "  2: [(0, 0.01668662659652757)],\n",
       "  4: [(0, 0.10829711335116149)]},\n",
       " {4: [(0, -0.001941025677565043)],\n",
       "  8: [(0, -0.12170724261730373)],\n",
       "  9: [(0, -0.0003949472018380464)],\n",
       "  5: [(0, -0.0011871470118664693)],\n",
       "  7: [(0, 0.14160663775307222)]},\n",
       " {8: [(0, -0.09802524165845869)],\n",
       "  0: [(0, -0.0034352403443914403)],\n",
       "  4: [(0, -0.0026789156475437678)],\n",
       "  6: [(0, -0.005725667112342697)],\n",
       "  2: [(0, 0.13243897415255534)]},\n",
       " {3: [(0, -0.0014446935906985015)],\n",
       "  1: [(0, -0.003055126507146614)],\n",
       "  2: [(0, -0.004194568046061191)],\n",
       "  6: [(0, -0.0052400433699462765)],\n",
       "  0: [(0, 0.14006515009706808)]},\n",
       " {1: [(0, -0.012489956389577776)],\n",
       "  3: [(0, -0.007553960883018206)],\n",
       "  2: [(0, -0.010144894130344919)],\n",
       "  6: [(0, -0.010028287575226889)],\n",
       "  0: [(0, 0.13909766277735466)]},\n",
       " {5: [(0, -0.00011158524975457105), (1, -1.1024083938412386e-05)],\n",
       "  7: [(0, -7.930717583994134e-05), (1, -1.6574812929300525e-06)],\n",
       "  6: [(0, -0.00011141938705509372), (1, -1.0323748947944975e-05)],\n",
       "  4: [(0, -5.807923617506634e-05), (1, -2.1796495515865103e-06)],\n",
       "  8: [(0, 0.0005807614354681103), (1, 4.4171599494016855e-05)]},\n",
       " {3: [(0, -0.003635674912564913)],\n",
       "  0: [(0, -0.0032270600806928963)],\n",
       "  2: [(0, 0.002246528305319582)],\n",
       "  4: [(0, 0.04518134769670835)],\n",
       "  6: [(0, 0.0752302622344036)]},\n",
       " {8: [(0, -0.11772730392010207)],\n",
       "  0: [(0, -0.002244312201148244)],\n",
       "  7: [(0, -0.0019142482124891779)],\n",
       "  5: [(0, -0.0011586036266561137)],\n",
       "  9: [(0, 0.1385184646559653)]},\n",
       " {9: [(0, -0.001699006387840644)],\n",
       "  5: [(0, -0.0045350497488683365)],\n",
       "  4: [(0, -0.006321837323874635)],\n",
       "  3: [(0, -0.007135674199953959)],\n",
       "  1: [(0, 0.1305865605797832)]},\n",
       " {3: [(0, 0.00524203060392335)],\n",
       "  4: [(0, 0.013562190660220817)],\n",
       "  0: [(0, 0.014908052051759485)],\n",
       "  2: [(0, 0.0469470322489153)],\n",
       "  6: [(0, 0.04916068659516086)]},\n",
       " {2: [(0, -0.004303041285112886)],\n",
       "  1: [(0, -0.003134130440818627)],\n",
       "  7: [(0, -0.0020127445402349027)],\n",
       "  9: [(0, -0.0003992531514301762)],\n",
       "  5: [(0, 0.14482642201919046)]},\n",
       " {8: [(0, -0.08186198266713542)],\n",
       "  0: [(0, -0.004095452830435748)],\n",
       "  6: [(0, -0.008237967509412619)],\n",
       "  4: [(0, -0.004151228305593948)],\n",
       "  2: [(0, 0.12664298728696635)]},\n",
       " {2: [(0, -0.010408012818181506)],\n",
       "  7: [(0, -0.01086425908595596)],\n",
       "  6: [(0, -0.010359846818254142)],\n",
       "  5: [(0, -0.005021051505108261)],\n",
       "  8: [(0, 0.07184209482609696)]},\n",
       " {6: [(0, -0.0070803305382343435)],\n",
       "  8: [(0, -0.10460184721595359)],\n",
       "  9: [(0, 0.0017269429309533406)],\n",
       "  5: [(0, 0.0043753749240661305)],\n",
       "  7: [(0, 0.1274914259824448)]},\n",
       " {3: [(0, -0.007219803322961833)],\n",
       "  0: [(0, -0.005273777585132479)],\n",
       "  2: [(0, -0.00034474686197160883)],\n",
       "  4: [(0, 0.012096936432555152)],\n",
       "  6: [(0, 0.10443556312848748)]},\n",
       " {0: [(0, -0.005519791706662533)],\n",
       "  8: [(0, -0.07801024142151664)],\n",
       "  5: [(0, -0.0027105869586178852)],\n",
       "  9: [(0, 0.03190262964486731)],\n",
       "  7: [(0, 0.10080515312952854)]},\n",
       " {8: [(0, -0.0764188524071889)],\n",
       "  4: [(0, -0.006950275672115278)],\n",
       "  2: [(0, -0.011040231851165243)],\n",
       "  6: [(0, -0.00959178937139972)],\n",
       "  0: [(0, 0.1451501804260069)]},\n",
       " {3: [(0, -0.007934502888112448)],\n",
       "  4: [(0, -0.00611136345137526)],\n",
       "  2: [(0, -0.009850820258708263)],\n",
       "  6: [(0, 0.04931034276132368)],\n",
       "  0: [(0, 0.07618899861187868)]},\n",
       " {2: [(0, -0.004245287448094961)],\n",
       "  3: [(0, -0.0014621027064630342)],\n",
       "  6: [(0, -0.0053041588190658176)],\n",
       "  4: [(0, -0.001942652808919422)],\n",
       "  8: [(0, 0.02195937478380262)]},\n",
       " {0: [(0, -0.003205767137380885)],\n",
       "  8: [(0, -0.10596292782475965)],\n",
       "  5: [(0, -0.0019430972412668676)],\n",
       "  9: [(0, 0.0062460529948385945)],\n",
       "  7: [(0, 0.1308880223461998)]},\n",
       " {6: [(0, -0.1031177647605826), (1, 0.0003403481132255843)],\n",
       "  2: [(0, -0.00847029122010183), (1, 2.7386397718559904e-05)],\n",
       "  4: [(0, -0.0016758021054356094), (1, 5.058352125584523e-06)],\n",
       "  3: [(0, -0.2695842368971617), (1, 0.0011640413594558323)],\n",
       "  1: [(0, 0.9615590707868862), (1, -0.0035757364920787783)]},\n",
       " {4: [(0, -0.006658280606016963)],\n",
       "  2: [(0, -0.010586707312954271)],\n",
       "  3: [(0, -0.008201087861946866)],\n",
       "  6: [(0, -0.0077102060427686435)],\n",
       "  0: [(0, 0.1373508440183912)]},\n",
       " {1: [(0, -0.013068629398928123)],\n",
       "  6: [(0, -0.010412619454082271)],\n",
       "  0: [(0, -0.005549036462785193)],\n",
       "  4: [(0, -0.006302232006343594)],\n",
       "  3: [(0, 0.13643972105418029)]},\n",
       " {8: [(0, -0.07323104584102033)],\n",
       "  0: [(0, -0.0028397157521150265)],\n",
       "  4: [(0, 0.02992597927933173)],\n",
       "  2: [(0, 0.03768129691701357)],\n",
       "  6: [(0, 0.04732313609533352)]},\n",
       " {0: [(0, -0.004093007263209806)],\n",
       "  8: [(0, -0.08698060429278874)],\n",
       "  5: [(0, -0.003257487475540715)],\n",
       "  9: [(0, 0.0017946046369076863)],\n",
       "  7: [(0, 0.12809218463439528)]},\n",
       " {2: [(0, -0.004789666615260867)],\n",
       "  8: [(0, -0.11860849393015219)],\n",
       "  7: [(0, -0.0024379280920224003)],\n",
       "  9: [(0, -0.00047220737014400354)],\n",
       "  5: [(0, 0.14189243733744342)]},\n",
       " {8: [(0, -0.07390813305211001)],\n",
       "  0: [(0, -0.005155509823779713)],\n",
       "  4: [(0, 0.01057960796439786)],\n",
       "  6: [(0, 0.03707527445565721)],\n",
       "  2: [(0, 0.06522101717112967)]},\n",
       " {1: [(0, -0.0030762614481430733)],\n",
       "  8: [(0, -0.1214989219160991)],\n",
       "  7: [(0, -0.0019755810616214607)],\n",
       "  9: [(0, -0.0003952445334034419)],\n",
       "  5: [(0, 0.14215567647123536)]},\n",
       " {2: [(0, -1.5127392374815937e-17), (1, -3.9443857227516065e-18)],\n",
       "  0: [(0, -1.8719721187906684e-17), (1, -2.0323165893013394e-18)],\n",
       "  4: [(0, -1.379351281071527e-13), (1, 2.780903785608562e-16)],\n",
       "  3: [(0, -6.700090972391488e-15), (1, -2.919751352799725e-15)],\n",
       "  1: [(0, 0.0), (1, 0.0)]},\n",
       " {2: [(0, -0.07291524934129556), (1, 0.0002718330041938789)],\n",
       "  0: [(0, -0.05240752102361673), (1, 0.00020065566713666419)],\n",
       "  4: [(0, -0.024349488482633606), (1, 9.332812046483808e-05)],\n",
       "  3: [(0, -0.42960509820672155), (1, 0.0017430090367963047)],\n",
       "  1: [(0, 0.6955366907419523), (1, -0.00274398580369699)]},\n",
       " {2: [(0, -0.004099798936589531)],\n",
       "  8: [(0, -0.117937875269553)],\n",
       "  7: [(0, -0.0019176782087685271)],\n",
       "  9: [(0, -0.00038371943376093584)],\n",
       "  5: [(0, 0.137989261013307)]},\n",
       " {4: [(0, -4.548928392341509e-05), (1, -1.0181676675151483e-06)],\n",
       "  8: [(0, -0.9872419181283637), (1, 0.0038082706312224475)],\n",
       "  9: [(1, -0.00013180133435551446), (0, 1.1630827648458535e-05)],\n",
       "  5: [(1, -0.03804437524510375), (0, 0.006161202419465292)],\n",
       "  7: [(0, 0.982360707559943), (1, 0.03437690036515381)]},\n",
       " {0: [(1, -1.8096117770506237e-08), (0, 3.008142025821347e-11)],\n",
       "  8: [(1, -0.00014234644560034277), (0, 6.429491786856309e-07)],\n",
       "  9: [(1, -0.0012961463911736009), (0, 2.513965654901929e-05)],\n",
       "  7: [(1, -0.024898316894235217), (0, 0.00022942398040527414)],\n",
       "  5: [(1, 0.026336864268077007), (0, -0.00025524872805820007)]},\n",
       " {6: [(0, -0.010428676974229735)],\n",
       "  0: [(0, -0.005591057634844834)],\n",
       "  3: [(0, -0.008235993684081237)],\n",
       "  4: [(0, -0.006645436844871861)],\n",
       "  1: [(0, 0.1317784206311222)]},\n",
       " {8: [(0, -0.06898408622589251)],\n",
       "  0: [(0, -0.005264638474483902)],\n",
       "  6: [(0, -0.00899504738639556)],\n",
       "  2: [(0, 0.014165645829504745)],\n",
       "  4: [(0, 0.10625726634785862)]},\n",
       " {8: [(0, -0.07552715829980222)],\n",
       "  0: [(0, -0.005738523955764558)],\n",
       "  5: [(0, -0.00511202139460059)],\n",
       "  7: [(0, -0.01084039658263369)],\n",
       "  9: [(0, 0.14727163725151757)]},\n",
       " {8: [(0, -0.06918754980082613)],\n",
       "  3: [(0, -0.0049713116147805355)],\n",
       "  2: [(0, 0.010857653970958026)],\n",
       "  4: [(0, 0.040096820621379974)],\n",
       "  6: [(0, 0.053197489699137845)]},\n",
       " {4: [(0, -0.0019840544056721437)],\n",
       "  5: [(0, -0.001224363578980902)],\n",
       "  9: [(0, -0.00040475896550229586)],\n",
       "  8: [(0, -0.12440530922089658)],\n",
       "  7: [(0, 0.14475778141943993)]},\n",
       " {7: [(0, -0.002053018218491965)],\n",
       "  2: [(0, -0.004389141958475606)],\n",
       "  1: [(0, -0.0031968420910910658)],\n",
       "  9: [(0, -0.00041079973783502625)],\n",
       "  5: [(0, 0.14772784310158438)]},\n",
       " {4: [(0, -0.03212518242450699), (1, 0.00014855235952254784)],\n",
       "  8: [(0, -0.05903786800628328), (1, -0.0006083260535284002)],\n",
       "  9: [(1, -4.1467813585622525e-05), (0, -9.89786319118326e-06)],\n",
       "  5: [(1, -0.0021348310704429312), (0, -0.00010447176015111951)],\n",
       "  7: [(0, 0.98913461798977), (1, -0.0015150513995296972)]},\n",
       " {6: [(1, -0.06243892842872424), (0, 0.00035823893906873)],\n",
       "  2: [(1, -0.07790124246671783), (0, 0.0006736925914636739)],\n",
       "  0: [(1, -0.0629829138801195), (0, 0.0003143214974117971)],\n",
       "  1: [(0, 0.09354658014000723), (1, 0.039461529248316495)],\n",
       "  3: [(1, 0.4607029032538054), (0, -0.09615747742853342)]},\n",
       " {5: [(0, -0.005122950793331086)],\n",
       "  0: [(0, -0.005647218725575829)],\n",
       "  2: [(0, -0.010684672758472935)],\n",
       "  6: [(0, -0.010555937830275922)],\n",
       "  8: [(0, 0.0732430678933422)]},\n",
       " {0: [(0, -0.004254285821153784)],\n",
       "  2: [(0, -0.00461117416780024)],\n",
       "  6: [(0, -0.0005120920387082933)],\n",
       "  4: [(0, 0.03154485750092187)],\n",
       "  3: [(0, 0.07839632394285159)]},\n",
       " {8: [(0, -0.07477798894998182)],\n",
       "  0: [(0, -0.005765897734189167)],\n",
       "  5: [(0, -0.005225419636782071)],\n",
       "  7: [(0, -0.011191771253341528)],\n",
       "  9: [(0, 0.14746955022786212)]},\n",
       " {8: [(0, -0.08278561464040571)],\n",
       "  0: [(0, -0.003976058210033283)],\n",
       "  6: [(0, -0.007329701842222621)],\n",
       "  4: [(0, 0.03162636473558465)],\n",
       "  2: [(0, 0.08989887266161638)]},\n",
       " {8: [(0, -0.09195930103156073)],\n",
       "  0: [(0, -0.00351273376637134)],\n",
       "  4: [(0, -0.0031985383582598154)],\n",
       "  6: [(0, -0.005463764685686334)],\n",
       "  2: [(0, 0.12882717375088273)]},\n",
       " {2: [(0, -0.004310239150326703)],\n",
       "  1: [(0, -0.0031393730459639015)],\n",
       "  7: [(0, -0.0020161114740073114)],\n",
       "  9: [(0, -0.0004034154473636093)],\n",
       "  5: [(0, 0.14507216673971812)]},\n",
       " {0: [(0, -0.0023518829330392388)],\n",
       "  9: [(0, -0.0004002796289607632)],\n",
       "  8: [(0, -0.12336850328951868)],\n",
       "  7: [(0, -0.001878494408764021)],\n",
       "  5: [(0, 0.14421480973537412)]},\n",
       " {4: [(0, -2.38298640809663e-07), (1, -2.2631043867826603e-08)],\n",
       "  8: [(1, -0.00012197619948782945), (0, -9.815984221389404e-05)],\n",
       "  9: [(1, -0.002338139150607096), (0, -0.0004884569440611591)],\n",
       "  5: [(0, -0.01540277640534225), (1, -0.0049538426530356715)],\n",
       "  7: [(0, 0.01598988463639174), (1, 0.0074140210605680035)]},\n",
       " {0: [(0, -0.00427474587526565)],\n",
       "  8: [(0, -0.07855234909091009)],\n",
       "  2: [(0, -0.006134987892408953)],\n",
       "  6: [(0, 0.04804043165202354)],\n",
       "  4: [(0, 0.07466565153901497)]},\n",
       " {8: [(0, -0.1021857657023724)],\n",
       "  0: [(0, -0.0031564160939614736)],\n",
       "  6: [(0, -0.0032114834693499255)],\n",
       "  4: [(0, 0.0021855839978866315)],\n",
       "  2: [(0, 0.12361600088295709)]},\n",
       " {8: [(0, -0.08168687018699594)],\n",
       "  2: [(0, -0.00921701997360156)],\n",
       "  6: [(0, -0.007527458131790482)],\n",
       "  3: [(0, 0.00015063404136474176)],\n",
       "  4: [(0, 0.12748120182136466)]},\n",
       " {8: [(0, -0.06972618732904236)],\n",
       "  0: [(0, -0.005351802607622636)],\n",
       "  5: [(0, -0.004855561849414294)],\n",
       "  7: [(0, -0.010441220360597823)],\n",
       "  9: [(0, 0.13730779095076026)]},\n",
       " {4: [(0, -0.006206421934824895)],\n",
       "  2: [(0, -0.010619224573674587)],\n",
       "  3: [(0, -0.006629586420363907)],\n",
       "  6: [(0, 0.003579610490952882)],\n",
       "  0: [(0, 0.12321757289185874)]},\n",
       " {0: [(0, -0.00239522818597709)],\n",
       "  8: [(0, -0.12564368198978582)],\n",
       "  9: [(0, -0.0004087381512389075)],\n",
       "  7: [(0, -0.001967613749757234)],\n",
       "  5: [(0, 0.14692976251292686)]},\n",
       " {2: [(0, -0.008302412816686333)],\n",
       "  4: [(0, -0.003976427370459996)],\n",
       "  6: [(0, -0.0020341368130632944)],\n",
       "  0: [(0, 0.010927247063075528)],\n",
       "  3: [(0, 0.11358765846312914)]},\n",
       " {0: [(0, -0.005452385556052559)],\n",
       "  3: [(0, -0.006424442188996404)],\n",
       "  2: [(0, -0.010061907954138279)],\n",
       "  4: [(0, 0.02944993112801361)],\n",
       "  6: [(0, 0.09688773853368993)]},\n",
       " {8: [(0, -0.07666702230654013)],\n",
       "  0: [(0, -0.005771303823610741)],\n",
       "  5: [(0, -0.005090754909790906)],\n",
       "  7: [(0, -0.010744212178191827)],\n",
       "  9: [(0, 0.1484973451046739)]},\n",
       " {8: [(0, -0.11476616111210047)],\n",
       "  2: [(0, -0.003987993071536619)],\n",
       "  1: [(0, -0.002894723437098596)],\n",
       "  9: [(0, -0.00010007053558368893)],\n",
       "  5: [(0, 0.1339920154569687)]},\n",
       " {0: [(0, -0.004749012126166101)],\n",
       "  2: [(0, -0.009062178475972106)],\n",
       "  6: [(0, 0.0012981349289412374)],\n",
       "  4: [(0, 0.031455687079095844)],\n",
       "  3: [(0, 0.08530546474414866)]},\n",
       " {8: [(0, -0.09113739243145662)],\n",
       "  0: [(0, -0.003676187151987713)],\n",
       "  4: [(0, -0.0022379866029353236)],\n",
       "  6: [(0, 0.0007908211676746245)],\n",
       "  2: [(0, 0.12521493336447054)]},\n",
       " {1: [(0, -0.01033323605482296)],\n",
       "  2: [(0, -0.009649507002684748)],\n",
       "  3: [(0, -0.0019468924054494047)],\n",
       "  6: [(0, 0.008395838653804484)],\n",
       "  0: [(0, 0.11512426067142639)]},\n",
       " {2: [(0, -0.010811806445532621)],\n",
       "  0: [(0, -0.005709024501688182)],\n",
       "  6: [(0, -0.01009006936543099)],\n",
       "  4: [(0, -0.00015108786861732187)],\n",
       "  3: [(0, 0.1344072033449049)]},\n",
       " {2: [(0, -0.004063156576879409)],\n",
       "  8: [(0, -0.11688379352627906)],\n",
       "  9: [(0, -0.00038028992135325846)],\n",
       "  7: [(0, -0.0019005387710516958)],\n",
       "  5: [(0, 0.13675596817797211)]},\n",
       " {0: [(0, -0.0023001954942740484)],\n",
       "  8: [(0, -0.12060831556540368)],\n",
       "  5: [(0, 0.0008192030045994611)],\n",
       "  9: [(0, 0.010351651883044833)],\n",
       "  7: [(0, 0.12759756759338664)]},\n",
       " {2: [(0, -0.010243626405247501)],\n",
       "  0: [(0, -0.005269482418749188)],\n",
       "  3: [(0, -0.006900713085980654)],\n",
       "  4: [(0, -0.00611367396097979)],\n",
       "  1: [(0, 0.1262866495651996)]},\n",
       " {4: [(0, -0.0038483868223520286)],\n",
       "  3: [(0, -0.00389803663229113)],\n",
       "  0: [(0, 0.016824511780736844)],\n",
       "  2: [(0, 0.023604592191115593)],\n",
       "  6: [(0, 0.06443326969610323)]},\n",
       " {2: [(0, -0.00404846973041467)],\n",
       "  8: [(0, -0.11646130047988126)],\n",
       "  9: [(0, -0.00037891530939937733)],\n",
       "  7: [(0, -0.0018936690015780775)],\n",
       "  5: [(0, 0.13626164452933842)]},\n",
       " {4: [(0, -1.493565727561626e-05), (1, -8.142323420112812e-06)],\n",
       "  8: [(0, -0.9875104379495158), (1, 0.003923247637485564)],\n",
       "  9: [(1, -1.7791636507168574e-06), (0, -1.6928776034963093e-06)],\n",
       "  5: [(1, -1.5033027627013492e-05), (0, -6.574948830838484e-06)],\n",
       "  7: [(0, 0.9880415859814146), (1, -0.0038385984116754267)]},\n",
       " {9: [(0, -0.0019287470219814802)],\n",
       "  7: [(0, -0.010973600306831087)],\n",
       "  6: [(0, -0.010493761868143825)],\n",
       "  4: [(0, -0.006662591105699077)],\n",
       "  8: [(0, 0.07279242729457297)]},\n",
       " {0: [(1, -0.501080244119253), (0, 0.00238326662137663)],\n",
       "  2: [(1, -0.0363577606868969), (0, 0.0001655523125036454)],\n",
       "  4: [(1, -0.019428118250393037), (0, 8.847009843274723e-06)],\n",
       "  3: [(1, -0.1552705089727213), (0, 0.0007015897973580089)],\n",
       "  1: [(1, 0.9678897659922849), (0, -0.004415028423669094)]},\n",
       " {3: [(0, -0.003697410946497396)],\n",
       "  0: [(0, -0.002905614402604064)],\n",
       "  2: [(0, -0.0009707524532894501)],\n",
       "  4: [(0, 0.01129488091345403)],\n",
       "  6: [(0, 0.1125304496990852)]},\n",
       " {8: [(0, -0.008496101753299295), (1, -0.0004820374202033906)],\n",
       "  6: [(0, -0.013992846147418539), (1, -0.0007501119970480808)],\n",
       "  0: [(0, -0.05348900139983471), (1, -0.0026362660040453382)],\n",
       "  1: [(0, -0.02759102007470323), (1, -0.01032339487389279)],\n",
       "  3: [(0, 0.1066457084585023), (1, 0.014596170937251267)]},\n",
       " {8: [(0, -0.07073127217259181)],\n",
       "  0: [(0, -0.005426185838590577)],\n",
       "  5: [(0, -0.004923648054548805)],\n",
       "  7: [(0, -0.010590021555261004)],\n",
       "  9: [(0, 0.1392623170235359)]},\n",
       " {0: [(0, -0.0022643301485333707)],\n",
       "  8: [(0, -0.11876281367684224)],\n",
       "  9: [(0, 0.00011620643918926436)],\n",
       "  5: [(0, -2.0063201486697217e-07)],\n",
       "  7: [(0, 0.1365233116524369)]},\n",
       " {4: [(0, -0.0020169341977713247)],\n",
       "  8: [(0, -0.12646695892759016)],\n",
       "  9: [(0, -0.0004113927100040329)],\n",
       "  5: [(0, -0.0012352462368749567)],\n",
       "  7: [(0, 0.14714722934245758)]},\n",
       " {4: [(0, -0.006415167563908807)],\n",
       "  1: [(0, -0.01262595789964845)],\n",
       "  2: [(0, -0.010220676817675195)],\n",
       "  6: [(0, -0.010082317348890967)],\n",
       "  0: [(0, 0.1347448337455377)]},\n",
       " {8: [(0, -0.07680465502880601)],\n",
       "  2: [(0, -0.009078844689430253)],\n",
       "  6: [(0, -0.006526659710100088)],\n",
       "  3: [(0, 0.005973252127322024)],\n",
       "  4: [(0, 0.11866919554279191)]},\n",
       " {1: [(0, -0.012634983806203256)],\n",
       "  8: [(0, -0.0714868003505214)],\n",
       "  2: [(0, -0.010110479088187348)],\n",
       "  6: [(0, -0.010056698627634968)],\n",
       "  0: [(0, 0.13577076858150988)]},\n",
       " {2: [(0, -0.010366085641344492)],\n",
       "  5: [(0, -0.005002875824072832)],\n",
       "  0: [(0, -0.005503910927345066)],\n",
       "  6: [(0, -0.01032326528842807)],\n",
       "  8: [(0, 0.07158574458166364)]},\n",
       " {4: [(0, -3.0313603203625226e-10), (1, 8.155490278550806e-12)],\n",
       "  8: [(0, -4.25553101164187e-07), (1, 1.8154270672098176e-08)],\n",
       "  9: [(0, -1.8505416188622712e-05), (1, -3.333553026867687e-06)],\n",
       "  5: [(0, -0.002264224622306905), (1, 0.0009741372874445548)],\n",
       "  7: [(0, 0.0022831142602202084), (1, -0.0009708687755466635)]},\n",
       " {0: [(0, -0.0042092511500719815)],\n",
       "  8: [(0, -0.08026158617484141)],\n",
       "  2: [(0, 0.029022454007013317)],\n",
       "  6: [(0, 0.036153067003563626)],\n",
       "  4: [(0, 0.05349917511877515)]},\n",
       " {1: [(0, -0.011320406439681713)],\n",
       "  8: [(0, -0.08405128029185968)],\n",
       "  7: [(0, -0.00793496211681276)],\n",
       "  5: [(0, -0.004008038228161407)],\n",
       "  9: [(0, 0.14501960378147105)]},\n",
       " {2: [(0, -0.010757405299479925)],\n",
       "  4: [(0, -0.0065914088409529835)],\n",
       "  6: [(0, 0.0051804288369064954)],\n",
       "  0: [(0, 0.04115513614860216)],\n",
       "  8: [(0, 0.011096178844377557)]},\n",
       " {8: [(0, -0.07352280147866787)],\n",
       "  0: [(0, -0.0055596295703566724)],\n",
       "  4: [(0, -0.0049973338491089946)],\n",
       "  6: [(0, -0.0072587728488935485)],\n",
       "  2: [(0, 0.13085065834482446)]},\n",
       " {0: [(0, -1.8507495660291983e-07), (1, -1.586461692556213e-07)],\n",
       "  8: [(0, -8.032559324347693e-05), (1, -1.1371406280561875e-05)],\n",
       "  5: [(1, -0.0010303024750146124), (0, -1.7369592781429905e-05)],\n",
       "  9: [(1, -0.001976588529098951), (0, -4.732144119411183e-05)],\n",
       "  7: [(1, 0.003018563503298606), (0, 0.00014558130315732215)]},\n",
       " {0: [(0, -0.0023924572339285516)],\n",
       "  3: [(0, -0.0014978459187814442)],\n",
       "  2: [(0, -0.003239499015864946)],\n",
       "  4: [(0, 0.026118092699596463)],\n",
       "  6: [(0, 0.11352483328091506)]},\n",
       " {4: [(0, -0.0018712138415541955)],\n",
       "  3: [(0, -0.0009814106356027749)],\n",
       "  2: [(0, -0.003654067768015129)],\n",
       "  6: [(0, 0.012279412170003424)],\n",
       "  0: [(0, 0.11990235620750622)]},\n",
       " {3: [(0, -0.008561491758154457)],\n",
       "  8: [(0, -0.07578774486973613)],\n",
       "  2: [(0, -0.00867872819475414)],\n",
       "  6: [(0, -0.006293768027794327)],\n",
       "  4: [(0, 0.13729142189570923)]},\n",
       " {4: [(0, -0.0019310498693660106)],\n",
       "  8: [(0, -0.12108126389023383)],\n",
       "  9: [(0, -0.00034380789693854016)],\n",
       "  5: [(0, -0.0010473866063563234)],\n",
       "  7: [(0, 0.14069560647915622)]},\n",
       " {0: [(0, -0.005421219949890698)],\n",
       "  8: [(0, -0.07364976071500019)],\n",
       "  6: [(0, 0.003391894650754892)],\n",
       "  2: [(0, 0.047301868765830465)],\n",
       "  4: [(0, 0.06813271882094168)]},\n",
       " {2: [(0, -4.223308527877467e-19), (1, -3.9836905828112543e-19)],\n",
       "  0: [(0, -7.381996257166321e-18), (1, -6.964758666934657e-18)],\n",
       "  3: [(0, -1.7881273878871307e-16), (1, -1.3948083833245912e-16)],\n",
       "  4: [(0, -1.3569405366842237e-16), (1, -1.1717127469798695e-16)],\n",
       "  1: [(0, 0.0), (1, 0.0)]},\n",
       " {0: [(0, -5.3466086928902e-05)],\n",
       "  8: [(0, -0.08877910184761846)],\n",
       "  6: [(0, 0.018107434056226692)],\n",
       "  4: [(0, 0.03325202541584402)],\n",
       "  2: [(0, 0.05788844231348428)]},\n",
       " {0: [(0, -0.004944996109540647)],\n",
       "  8: [(0, -0.08418752795998496)],\n",
       "  2: [(0, -0.004724379980301166)],\n",
       "  6: [(0, 0.021567554611147594)],\n",
       "  4: [(0, 0.10675281998191795)]},\n",
       " {4: [(0, -0.00011105803731541254), (1, -2.6666552438863977e-06)],\n",
       "  8: [(0, -0.9845506437296598), (1, 0.004209052798343426)],\n",
       "  9: [(0, -3.4115823941586852e-06), (1, -1.2824931162442611e-07)],\n",
       "  5: [(0, -3.583670225120733e-05), (1, -4.105797869076894e-07)],\n",
       "  7: [(0, 0.9879219724101076), (1, -0.004174740284205185)]},\n",
       " {4: [(0, -0.00539558577073903)],\n",
       "  2: [(0, -0.009329459974431555)],\n",
       "  0: [(0, -0.004420558357666384)],\n",
       "  6: [(0, -0.008980462822451064)],\n",
       "  8: [(0, 0.05872733175609053)]},\n",
       " {8: [(0, -0.09646371355376138)],\n",
       "  0: [(0, -0.0009006093283830109)],\n",
       "  4: [(0, 0.0019473627104355737)],\n",
       "  6: [(0, -0.00013986920646503917)],\n",
       "  2: [(0, 0.11855881240136794)]},\n",
       " {2: [(0, -0.004346166185338714)],\n",
       "  8: [(0, -0.12502505194768807)],\n",
       "  9: [(0, -0.0004054887020468303)],\n",
       "  7: [(0, -0.0020248338361748084)],\n",
       "  5: [(0, 0.14627199255323467)]},\n",
       " {2: [(0, -0.003530600942265743)],\n",
       "  3: [(0, 0.011143619572082401)],\n",
       "  6: [(0, 0.0125691949458899)],\n",
       "  1: [(0, 0.013586627323289222)],\n",
       "  0: [(0, 0.05850127244107081)]},\n",
       " {8: [(0, -0.12399155499492012)],\n",
       "  4: [(0, -0.0019774551680560313)],\n",
       "  2: [(0, -0.00430913069250053)],\n",
       "  6: [(0, -0.003675682537937649)],\n",
       "  0: [(0, 0.1422175467242034)]},\n",
       " {8: [(0, -0.10908355452991488)],\n",
       "  0: [(0, -0.0027245021215418653)],\n",
       "  6: [(0, -0.005199665431780366)],\n",
       "  4: [(0, -0.001547646254614991)],\n",
       "  2: [(0, 0.1309434396439309)]},\n",
       " {8: [(0, -0.07117890560180198)],\n",
       "  1: [(0, -0.01280437286643659)],\n",
       "  7: [(0, -0.010656893225774407)],\n",
       "  5: [(0, -0.004961591735514391)],\n",
       "  9: [(0, 0.14023535731738704)]},\n",
       " {4: [(0, -0.00609391843758394)],\n",
       "  2: [(0, -0.009692296904069564)],\n",
       "  0: [(0, -0.0051270821660695425)],\n",
       "  6: [(0, -0.00958970777933026)],\n",
       "  8: [(0, 0.06653214821401766)]},\n",
       " {8: [(0, -0.11561483554049969)],\n",
       "  2: [(0, -0.004019044609163791)],\n",
       "  7: [(0, -0.0018799054293095069)],\n",
       "  9: [(0, -0.0003761500224479633)],\n",
       "  5: [(0, 0.13527125027621315)]},\n",
       " {1: [(0, -0.013144405618899483)],\n",
       "  2: [(0, -0.010558504992854482)],\n",
       "  6: [(0, -0.0073320942137100435)],\n",
       "  3: [(0, 0.00414259025609574)],\n",
       "  4: [(0, 0.12388673551975175)]},\n",
       " {0: [(0, -0.0022963158691956848)],\n",
       "  8: [(0, -0.1204552010147321)],\n",
       "  9: [(0, -0.0003919097387260413)],\n",
       "  7: [(0, -0.0019585263941797096)],\n",
       "  5: [(0, 0.1409344891150344)]},\n",
       " {0: [(0, -0.0022879572710695017)],\n",
       "  8: [(0, -0.11858186385801628)],\n",
       "  9: [(0, 0.0016316700377954183)],\n",
       "  5: [(0, 0.012832774685036213)],\n",
       "  7: [(0, 0.12218238995844163)]},\n",
       " {2: [(0, -0.009803958988674743)],\n",
       "  0: [(0, -0.005181171682126698)],\n",
       "  6: [(0, -0.009759987248947553)],\n",
       "  4: [(0, -0.006011289735656871)],\n",
       "  3: [(0, 0.12906580581929666)]},\n",
       " {8: [(0, -0.7620363855092982), (1, -0.1801012508539691)],\n",
       "  6: [(1, -0.08756575817842616), (0, -0.02958347177037594)],\n",
       "  1: [(1, -0.03849073543183541), (0, 0.01100157660892676)],\n",
       "  0: [(1, -0.07678168360945643), (0, 0.006338717835003982)],\n",
       "  3: [(0, 0.8444540510640288), (1, 0.8225023272059798)]},\n",
       " {8: [(0, -0.06704074516047893)],\n",
       "  0: [(0, -0.005158790645810216)],\n",
       "  5: [(0, -0.004677542678171601)],\n",
       "  7: [(0, -0.010036147902841668)],\n",
       "  9: [(0, 0.1321257526139914)]},\n",
       " {4: [(0, -0.006422382520594053)],\n",
       "  2: [(0, -0.010211809983005984)],\n",
       "  0: [(0, -0.005403459317114194)],\n",
       "  6: [(0, -0.01010892725065202)],\n",
       "  8: [(0, 0.07013084075284509)]}]"
      ]
     },
     "execution_count": 325,
     "metadata": {},
     "output_type": "execute_result"
    }
   ],
   "source": [
    "lime_local_exp"
   ]
  },
  {
   "cell_type": "code",
   "execution_count": 338,
   "metadata": {},
   "outputs": [],
   "source": [
    "lime_local_pred = np.stack(lime_local_pred)"
   ]
  },
  {
   "cell_type": "code",
   "execution_count": 339,
   "metadata": {},
   "outputs": [
    {
     "data": {
      "text/plain": [
       "array([[0.99924229],\n",
       "       [0.99970559],\n",
       "       [0.76047939],\n",
       "       [0.85109777],\n",
       "       [0.80322269],\n",
       "       [0.9991836 ],\n",
       "       [0.99967663],\n",
       "       [0.92403775],\n",
       "       [0.99969551],\n",
       "       [0.99972304],\n",
       "       [0.98958376],\n",
       "       [0.99963431],\n",
       "       [0.99972559],\n",
       "       [0.51942461],\n",
       "       [0.99599586],\n",
       "       [0.99971915],\n",
       "       [0.99975445],\n",
       "       [0.97218754],\n",
       "       [0.63266349],\n",
       "       [0.49895563],\n",
       "       [0.99955955],\n",
       "       [0.9997407 ],\n",
       "       [0.97867202],\n",
       "       [0.99986996],\n",
       "       [0.59846989],\n",
       "       [0.93457027],\n",
       "       [0.99950247],\n",
       "       [0.95675049],\n",
       "       [0.6081288 ],\n",
       "       [0.75795605],\n",
       "       [0.99971343],\n",
       "       [0.99153274],\n",
       "       [0.5182113 ],\n",
       "       [0.9713147 ],\n",
       "       [0.99265119],\n",
       "       [1.        ],\n",
       "       [0.99971221],\n",
       "       [0.98755131],\n",
       "       [1.        ],\n",
       "       [0.76299945],\n",
       "       [0.91023197],\n",
       "       [0.94583125],\n",
       "       [0.99973184],\n",
       "       [0.99961734],\n",
       "       [0.99923158],\n",
       "       [0.65547034],\n",
       "       [0.99611841],\n",
       "       [0.99930139],\n",
       "       [0.99948746],\n",
       "       [0.99838722],\n",
       "       [0.99941505],\n",
       "       [0.99961681],\n",
       "       [0.99591884],\n",
       "       [0.85081605],\n",
       "       [0.67954178],\n",
       "       [0.82673185],\n",
       "       [0.78096723],\n",
       "       [0.99988128],\n",
       "       [0.99766419],\n",
       "       [0.98578196],\n",
       "       [0.99970808],\n",
       "       [0.82831101],\n",
       "       [0.99972962],\n",
       "       [0.99963645],\n",
       "       [0.96262634],\n",
       "       [0.95468148],\n",
       "       [0.99868855],\n",
       "       [0.84380906],\n",
       "       [0.79807367],\n",
       "       [1.        ],\n",
       "       [0.73169039],\n",
       "       [1.        ],\n",
       "       [0.71304645],\n",
       "       [0.99700678],\n",
       "       [0.99631298],\n",
       "       [0.94703056],\n",
       "       [0.61967497],\n",
       "       [0.50892237],\n",
       "       [0.99652714],\n",
       "       [0.99164345],\n",
       "       [0.99652656],\n",
       "       [0.99042321],\n",
       "       [0.99970554],\n",
       "       [0.98603224],\n",
       "       [0.99968765],\n",
       "       [0.99713624],\n",
       "       [1.        ],\n",
       "       [0.99934829],\n",
       "       [0.99973334],\n",
       "       [0.99849501],\n",
       "       [0.99137873],\n",
       "       [0.91361521],\n",
       "       [0.94804736],\n",
       "       [0.9946981 ],\n",
       "       [0.9965577 ],\n",
       "       [0.93639083],\n",
       "       [0.92397252],\n",
       "       [1.        ],\n",
       "       [0.99974282],\n",
       "       [0.99984868],\n",
       "       [0.99984379],\n",
       "       [0.78521855],\n",
       "       [0.9963079 ],\n",
       "       [0.99669803],\n",
       "       [0.4055679 ],\n",
       "       [0.99985039],\n",
       "       [0.99638378],\n",
       "       [0.80869891],\n",
       "       [0.83508663],\n",
       "       [0.99989497],\n",
       "       [0.99985214],\n",
       "       [0.99854746],\n",
       "       [0.72038311],\n",
       "       [0.71185508],\n",
       "       [0.99135576],\n",
       "       [0.99645618],\n",
       "       [0.99920649],\n",
       "       [0.7947296 ],\n",
       "       [0.39527912],\n",
       "       [0.99535945],\n",
       "       [0.9997346 ],\n",
       "       [0.99972456],\n",
       "       [0.99970479],\n",
       "       [0.99715309],\n",
       "       [0.95363634],\n",
       "       [0.23359127],\n",
       "       [0.99125935],\n",
       "       [0.55142588],\n",
       "       [0.64718573],\n",
       "       [0.99570238],\n",
       "       [0.99984094],\n",
       "       [0.99999582],\n",
       "       [0.99999031],\n",
       "       [0.99948737],\n",
       "       [0.81263962],\n",
       "       [0.98572391],\n",
       "       [0.89357956],\n",
       "       [1.        ],\n",
       "       [0.99957553],\n",
       "       [0.69316865],\n",
       "       [0.92085282],\n",
       "       [0.85635664],\n",
       "       [0.77570023],\n",
       "       [0.99974595],\n",
       "       [0.99987129],\n",
       "       [0.99988722],\n",
       "       [0.99650024],\n",
       "       [0.65332774],\n",
       "       [0.99988588],\n",
       "       [0.99665387],\n",
       "       [0.99971961],\n",
       "       [0.9997308 ],\n",
       "       [0.999828  ],\n",
       "       [0.96506963],\n",
       "       [0.99970872],\n",
       "       [0.99972355],\n",
       "       [0.99988706],\n",
       "       [0.72610901],\n",
       "       [0.97164945],\n",
       "       [0.92773772],\n",
       "       [0.37384542],\n",
       "       [0.99984994],\n",
       "       [0.99998475],\n",
       "       [1.        ],\n",
       "       [0.9927262 ],\n",
       "       [0.46298846],\n",
       "       [0.99963538],\n",
       "       [0.99955904],\n",
       "       [0.41008128],\n",
       "       [0.62120152],\n",
       "       [0.99636611],\n",
       "       [0.93848298],\n",
       "       [0.99974083],\n",
       "       [0.99971626],\n",
       "       [0.99975882],\n",
       "       [0.84058326],\n",
       "       [0.99972122],\n",
       "       [0.99973361],\n",
       "       [0.99985683],\n",
       "       [0.84395779],\n",
       "       [0.99156751],\n",
       "       [0.46116681],\n",
       "       [0.77412712],\n",
       "       [0.94695075],\n",
       "       [0.20104116],\n",
       "       [0.5430018 ],\n",
       "       [0.73565168],\n",
       "       [0.99156949],\n",
       "       [0.4527857 ],\n",
       "       [0.99590371],\n",
       "       [0.98229386],\n",
       "       [0.95785582],\n",
       "       [0.99970552],\n",
       "       [0.99985195],\n",
       "       [0.43731744],\n",
       "       [0.99632465],\n",
       "       [0.99644243],\n",
       "       [0.93962674],\n",
       "       [0.99971967],\n",
       "       [0.37678464],\n",
       "       [0.99860893],\n",
       "       [0.95588187],\n",
       "       [0.97145977],\n",
       "       [0.90876082],\n",
       "       [0.3965367 ],\n",
       "       [0.92262624],\n",
       "       [0.82947532],\n",
       "       [0.99296147],\n",
       "       [0.99971048],\n",
       "       [0.99666579],\n",
       "       [0.99948479],\n",
       "       [0.9123897 ],\n",
       "       [0.99975801],\n",
       "       [0.99972199],\n",
       "       [1.        ],\n",
       "       [0.50723836],\n",
       "       [0.99992553],\n",
       "       [0.99971142],\n",
       "       [0.99823487],\n",
       "       [0.99951076],\n",
       "       [0.99992637],\n",
       "       [0.94867462],\n",
       "       [0.96293947],\n",
       "       [0.99116653],\n",
       "       [0.99969782],\n",
       "       [0.99186552],\n",
       "       [0.32208425],\n",
       "       [0.99965508],\n",
       "       [0.38283582],\n",
       "       [0.99993925],\n",
       "       [0.9996816 ],\n",
       "       [0.93597272],\n",
       "       [0.86367314],\n",
       "       [0.99985354],\n",
       "       [0.90798464],\n",
       "       [0.76914852],\n",
       "       [0.99995808],\n",
       "       [0.9997113 ],\n",
       "       [0.65237573],\n",
       "       [0.9747447 ],\n",
       "       [0.97658232],\n",
       "       [0.90408107],\n",
       "       [0.69946725],\n",
       "       [0.28142338],\n",
       "       [0.99602531],\n",
       "       [0.93327396],\n",
       "       [0.99950964],\n",
       "       [0.96915929],\n",
       "       [0.99961931],\n",
       "       [0.67000848],\n",
       "       [0.96478145],\n",
       "       [0.61144637],\n",
       "       [0.49465175],\n",
       "       [0.9890272 ],\n",
       "       [0.99987001],\n",
       "       [0.95355363],\n",
       "       [0.51040729],\n",
       "       [0.99610023],\n",
       "       [0.99970111],\n",
       "       [0.95686313],\n",
       "       [0.96673877],\n",
       "       [0.64979094],\n",
       "       [0.99817816],\n",
       "       [0.48108739],\n",
       "       [0.63573666],\n",
       "       [0.99991129],\n",
       "       [0.99353175],\n",
       "       [0.99973561],\n",
       "       [0.99969327],\n",
       "       [0.39734194],\n",
       "       [0.99999597],\n",
       "       [0.97150278],\n",
       "       [0.99968713],\n",
       "       [0.77899595],\n",
       "       [0.99973003],\n",
       "       [0.99973534],\n",
       "       [0.99601931],\n",
       "       [0.75799155],\n",
       "       [1.        ],\n",
       "       [0.99579384],\n",
       "       [0.42438516],\n",
       "       [0.965862  ],\n",
       "       [0.99971135],\n",
       "       [0.9962302 ],\n",
       "       [0.99972305],\n",
       "       [0.99662636],\n",
       "       [0.99630993],\n",
       "       [0.29728837],\n",
       "       [0.96136942],\n",
       "       [0.99958161],\n",
       "       [0.76175084],\n",
       "       [0.99210141],\n",
       "       [0.80374918],\n",
       "       [0.94723919],\n",
       "       [0.99370654],\n",
       "       [0.99973394],\n",
       "       [0.69762611],\n",
       "       [0.51039489],\n",
       "       [0.9966463 ],\n",
       "       [0.99970483],\n",
       "       [0.99973063],\n",
       "       [0.62986773],\n",
       "       [0.83449336],\n",
       "       [0.99974334],\n",
       "       [0.99915492],\n",
       "       [0.99251417],\n",
       "       [0.58980833],\n",
       "       [0.99951382],\n",
       "       [1.        ],\n",
       "       [0.70478881],\n",
       "       [0.99036753],\n",
       "       [0.80084263],\n",
       "       [0.44527785],\n",
       "       [0.99601317],\n",
       "       [0.49064138],\n",
       "       [0.98059955],\n",
       "       [0.48695556],\n",
       "       [0.99912676],\n",
       "       [0.51066019],\n",
       "       [0.99873628],\n",
       "       [0.99972737],\n",
       "       [0.98960267],\n",
       "       [0.99985167],\n",
       "       [0.99216527],\n",
       "       [0.81227504],\n",
       "       [0.96460564],\n",
       "       [0.9667791 ],\n",
       "       [0.57866738],\n",
       "       [0.77159441],\n",
       "       [0.98044448],\n",
       "       [1.        ],\n",
       "       [0.9997378 ],\n",
       "       [0.99868006],\n",
       "       [0.99986689],\n",
       "       [0.99597645],\n",
       "       [0.99972835],\n",
       "       [0.9997298 ],\n",
       "       [0.99970033],\n",
       "       [0.99757127],\n",
       "       [0.2392306 ],\n",
       "       [0.96132244],\n",
       "       [0.97564693],\n",
       "       [0.9998675 ],\n",
       "       [0.99970443],\n",
       "       [0.38133242],\n",
       "       [0.99264914],\n",
       "       [0.57332065],\n",
       "       [0.90376322],\n",
       "       [0.91838655],\n",
       "       [0.99969324],\n",
       "       [0.59363207],\n",
       "       [0.9953914 ],\n",
       "       [0.9958485 ],\n",
       "       [0.76360421],\n",
       "       [0.82954684],\n",
       "       [0.63956662],\n",
       "       [1.00011868],\n",
       "       [0.98365343],\n",
       "       [0.99984205],\n",
       "       [0.999718  ],\n",
       "       [0.99393876],\n",
       "       [0.65361763],\n",
       "       [0.9855204 ],\n",
       "       [0.99592096],\n",
       "       [0.99626099],\n",
       "       [1.        ],\n",
       "       [0.99637322],\n",
       "       [0.65814198],\n",
       "       [0.91383971],\n",
       "       [0.99742925],\n",
       "       [0.9876853 ],\n",
       "       [0.99969539],\n",
       "       [0.83372951],\n",
       "       [0.99605204],\n",
       "       [0.79759075],\n",
       "       [0.99902095],\n",
       "       [0.99972056],\n",
       "       [0.86872029],\n",
       "       [0.99016202],\n",
       "       [1.00000661],\n",
       "       [0.39422173],\n",
       "       [0.57971974],\n",
       "       [0.99999928],\n",
       "       [0.97613174],\n",
       "       [0.99973549],\n",
       "       [1.        ],\n",
       "       [0.99832813],\n",
       "       [0.54344573],\n",
       "       [0.83869821],\n",
       "       [0.99972408],\n",
       "       [0.999137  ],\n",
       "       [1.        ],\n",
       "       [0.75215292],\n",
       "       [0.99971094],\n",
       "       [0.99985885],\n",
       "       [0.9996002 ],\n",
       "       [0.99882976],\n",
       "       [0.72033409],\n",
       "       [0.43273035],\n",
       "       [0.72748472],\n",
       "       [0.97488839],\n",
       "       [0.9997152 ],\n",
       "       [0.98301578],\n",
       "       [0.94787317],\n",
       "       [0.9652204 ],\n",
       "       [0.83774841],\n",
       "       [0.99971459],\n",
       "       [0.97393899],\n",
       "       [0.7258033 ],\n",
       "       [0.99986326],\n",
       "       [0.87819193],\n",
       "       [0.99987844],\n",
       "       [0.58795234],\n",
       "       [0.56641029],\n",
       "       [1.        ],\n",
       "       [0.95231231],\n",
       "       [0.3599991 ],\n",
       "       [0.99395653],\n",
       "       [0.99624424],\n",
       "       [1.        ],\n",
       "       [0.99986596],\n",
       "       [0.9999236 ],\n",
       "       [0.46928541],\n",
       "       [0.99292768],\n",
       "       [0.99971574],\n",
       "       [0.9955661 ],\n",
       "       [0.5017631 ],\n",
       "       [0.99647905],\n",
       "       [0.54859406],\n",
       "       [0.99830486],\n",
       "       [0.99987234],\n",
       "       [0.99973096],\n",
       "       [0.99686866],\n",
       "       [0.66681061],\n",
       "       [0.99961888],\n",
       "       [0.99791316],\n",
       "       [0.80974083],\n",
       "       [0.99998308],\n",
       "       [0.97198932],\n",
       "       [0.99678714],\n",
       "       [0.81896607],\n",
       "       [0.99350373],\n",
       "       [0.83178924],\n",
       "       [1.        ],\n",
       "       [0.99315367],\n",
       "       [0.91446198],\n",
       "       [0.99990756],\n",
       "       [0.79678664],\n",
       "       [0.99970873],\n",
       "       [0.61449588],\n",
       "       [0.99747702],\n",
       "       [0.99973982],\n",
       "       [0.9964187 ],\n",
       "       [0.986726  ],\n",
       "       [0.9998602 ],\n",
       "       [0.99709314],\n",
       "       [1.        ],\n",
       "       [0.83678588],\n",
       "       [0.99984257],\n",
       "       [0.99949386],\n",
       "       [0.99602938],\n",
       "       [0.99988407],\n",
       "       [0.32368009],\n",
       "       [0.95794469],\n",
       "       [0.92476284],\n",
       "       [0.99921389],\n",
       "       [0.99969782],\n",
       "       [0.99967072],\n",
       "       [0.93073784],\n",
       "       [0.99973852],\n",
       "       [0.94794255],\n",
       "       [0.99932223],\n",
       "       [0.89817034],\n",
       "       [0.83906994],\n",
       "       [0.9996783 ],\n",
       "       [0.9997266 ],\n",
       "       [0.99987302],\n",
       "       [0.99956707],\n",
       "       [0.89286442],\n",
       "       [0.99970463],\n",
       "       [0.83997912],\n",
       "       [0.90680614],\n",
       "       [0.69498474],\n",
       "       [0.99922926],\n",
       "       [0.87953949],\n",
       "       [0.42689231],\n",
       "       [0.57227936],\n",
       "       [0.9999571 ],\n",
       "       [0.97969577],\n",
       "       [0.99932441],\n",
       "       [0.99275227],\n",
       "       [0.99985544],\n",
       "       [0.99973349],\n",
       "       [0.96735813],\n",
       "       [0.99985447],\n",
       "       [0.91661685],\n",
       "       [0.9959174 ],\n",
       "       [0.99973495],\n",
       "       [1.        ],\n",
       "       [0.77859849],\n",
       "       [0.84426569],\n",
       "       [0.79410282],\n",
       "       [0.89534001],\n",
       "       [0.99572293],\n",
       "       [0.99970539],\n",
       "       [0.5050141 ],\n",
       "       [0.9746659 ],\n",
       "       [0.98319262],\n",
       "       [0.90013129],\n",
       "       [0.99439852],\n",
       "       [0.99967992],\n",
       "       [0.99646755],\n",
       "       [0.99989195],\n",
       "       [0.99970751],\n",
       "       [1.        ],\n",
       "       [0.99995139],\n",
       "       [0.99548197],\n",
       "       [0.99631893],\n",
       "       [0.99999669],\n",
       "       [0.99958365],\n",
       "       [0.99593102],\n",
       "       [0.99969889],\n",
       "       [0.99964159],\n",
       "       [0.90443474],\n",
       "       [0.99969613],\n",
       "       [0.99603539],\n",
       "       [0.90525331],\n",
       "       [0.42281275],\n",
       "       [0.99984419],\n",
       "       [0.99969706],\n",
       "       [0.67669415],\n",
       "       [0.99747761],\n",
       "       [0.99970836],\n",
       "       [0.95602407],\n",
       "       [0.99966582],\n",
       "       [0.46905308],\n",
       "       [0.56654105],\n",
       "       [0.99971196],\n",
       "       [0.99929696],\n",
       "       [0.99968998],\n",
       "       [0.99695429],\n",
       "       [0.48642922],\n",
       "       [0.99616555],\n",
       "       [0.65050032],\n",
       "       [0.75060347],\n",
       "       [0.49042419],\n",
       "       [0.75749214],\n",
       "       [0.98165925],\n",
       "       [0.9513243 ],\n",
       "       [0.89207738],\n",
       "       [0.46743421],\n",
       "       [0.92145319],\n",
       "       [0.9997194 ],\n",
       "       [0.99986877],\n",
       "       [0.35552338],\n",
       "       [0.25658864],\n",
       "       [1.        ],\n",
       "       [0.91666416],\n",
       "       [0.99999792],\n",
       "       [0.99985597],\n",
       "       [0.68206295],\n",
       "       [0.99971784],\n",
       "       [0.99972271],\n",
       "       [0.99971448],\n",
       "       [0.99353927],\n",
       "       [0.84379656],\n",
       "       [0.99393203],\n",
       "       [0.73247305],\n",
       "       [0.99735489],\n",
       "       [0.99988968],\n",
       "       [0.99971129],\n",
       "       [0.6588534 ],\n",
       "       [0.99973543],\n",
       "       [0.99971323],\n",
       "       [0.86075095],\n",
       "       [0.44476497],\n",
       "       [0.99972558],\n",
       "       [0.99968842],\n",
       "       [0.97159046],\n",
       "       [0.97331365],\n",
       "       [0.75869224],\n",
       "       [0.99592605],\n",
       "       [0.99958003],\n",
       "       [0.99652843],\n",
       "       [0.94641846],\n",
       "       [0.81616318],\n",
       "       [0.62500226],\n",
       "       [0.99983771],\n",
       "       [1.        ],\n",
       "       [0.99970357],\n",
       "       [0.48640586],\n",
       "       [0.89395535],\n",
       "       [0.99696247],\n",
       "       [0.9997077 ],\n",
       "       [0.99780037],\n",
       "       [0.61190116],\n",
       "       [0.61769975],\n",
       "       [0.99621695],\n",
       "       [0.89006854],\n",
       "       [0.99612283],\n",
       "       [0.97459452],\n",
       "       [0.88634622],\n",
       "       [0.95745487],\n",
       "       [0.62020883],\n",
       "       [0.99974407],\n",
       "       [0.99972962],\n",
       "       [0.99974149],\n",
       "       [0.74381307],\n",
       "       [0.99962196],\n",
       "       [0.28112943],\n",
       "       [0.99986823],\n",
       "       [0.99985287],\n",
       "       [0.63895957],\n",
       "       [0.99987045],\n",
       "       [0.99970515],\n",
       "       [0.67990863],\n",
       "       [0.94106798],\n",
       "       [0.61891807],\n",
       "       [0.99998656],\n",
       "       [0.99999038],\n",
       "       [0.99528294],\n",
       "       [0.99995231],\n",
       "       [0.84540186],\n",
       "       [0.52930983],\n",
       "       [0.99974053],\n",
       "       [0.97083573],\n",
       "       [0.95648768],\n",
       "       [0.98886203],\n",
       "       [0.99995347],\n",
       "       [0.99971144],\n",
       "       [0.99987648],\n",
       "       [0.98757046],\n",
       "       [0.99973753],\n",
       "       [0.99990902],\n",
       "       [0.40371586],\n",
       "       [0.93309865],\n",
       "       [0.9999252 ],\n",
       "       [0.41908834],\n",
       "       [0.94192437],\n",
       "       [0.63890005],\n",
       "       [0.99135716],\n",
       "       [0.99969442],\n",
       "       [0.99794336],\n",
       "       [0.99982145],\n",
       "       [0.99604956],\n",
       "       [0.756091  ],\n",
       "       [0.99971045],\n",
       "       [0.99989383],\n",
       "       [0.64363568],\n",
       "       [0.62222234],\n",
       "       [0.999726  ],\n",
       "       [0.99973996],\n",
       "       [0.99969173],\n",
       "       [0.99995523],\n",
       "       [0.9998498 ],\n",
       "       [0.72944454],\n",
       "       [0.68805291],\n",
       "       [0.99622422],\n",
       "       [0.47405777],\n",
       "       [0.99964949],\n",
       "       [0.99986398],\n",
       "       [0.99989959],\n",
       "       [0.96094919],\n",
       "       [0.99999999],\n",
       "       [0.43371062],\n",
       "       [0.99958359],\n",
       "       [0.99620107],\n",
       "       [0.97947673],\n",
       "       [0.9996291 ],\n",
       "       [0.9997259 ],\n",
       "       [0.99871926],\n",
       "       [0.9998914 ],\n",
       "       [0.89986255],\n",
       "       [0.97873573],\n",
       "       [0.98392576],\n",
       "       [0.99990007],\n",
       "       [0.99624175],\n",
       "       [0.7478771 ],\n",
       "       [0.94609639],\n",
       "       [0.97975992],\n",
       "       [0.99971675],\n",
       "       [0.99987714],\n",
       "       [0.99968335],\n",
       "       [0.99959296],\n",
       "       [0.42218717],\n",
       "       [0.99616379],\n",
       "       [0.63283782],\n",
       "       [0.59937743],\n",
       "       [0.57996132],\n",
       "       [0.93606619],\n",
       "       [0.99999041],\n",
       "       [0.99974238],\n",
       "       [0.99965491],\n",
       "       [0.99971614],\n",
       "       [0.83956618],\n",
       "       [0.99985034],\n",
       "       [0.60650092],\n",
       "       [0.99579684],\n",
       "       [0.4401618 ],\n",
       "       [0.85988257],\n",
       "       [0.43055387],\n",
       "       [0.77735357],\n",
       "       [0.97038824],\n",
       "       [0.99973771],\n",
       "       [0.99629679],\n",
       "       [0.99966482],\n",
       "       [0.99969408],\n",
       "       [0.65985788],\n",
       "       [0.9998605 ],\n",
       "       [0.99743522],\n",
       "       [0.9995983 ],\n",
       "       [0.99993038],\n",
       "       [0.93548784],\n",
       "       [0.96821453],\n",
       "       [0.98083799],\n",
       "       [0.99973921],\n",
       "       [0.99957964],\n",
       "       [0.95438414],\n",
       "       [1.        ],\n",
       "       [0.99357807],\n",
       "       [0.63216447],\n",
       "       [0.99990576],\n",
       "       [0.99972387],\n",
       "       [1.        ],\n",
       "       [0.99985072],\n",
       "       [0.99969343],\n",
       "       [0.84673235],\n",
       "       [0.99963877],\n",
       "       [0.99846784],\n",
       "       [0.995189  ],\n",
       "       [0.99649538],\n",
       "       [0.72725221],\n",
       "       [0.99971378],\n",
       "       [0.76751056],\n",
       "       [0.99969479],\n",
       "       [0.99990862],\n",
       "       [0.99986242],\n",
       "       [0.68829337],\n",
       "       [0.99971402],\n",
       "       [0.99936963],\n",
       "       [0.98929086],\n",
       "       [0.99970461],\n",
       "       [0.64811421],\n",
       "       [0.60102838],\n",
       "       [0.99970046],\n",
       "       [0.98722846],\n",
       "       [0.99894941],\n",
       "       [0.99984625],\n",
       "       [0.74978549],\n",
       "       [0.28421604],\n",
       "       [0.99987296],\n",
       "       [0.99567272],\n",
       "       [0.43203292],\n",
       "       [0.99688096],\n",
       "       [1.        ],\n",
       "       [0.97715031],\n",
       "       [0.46688279],\n",
       "       [0.78474406],\n",
       "       [0.99985616],\n",
       "       [0.99994503],\n",
       "       [0.99652852],\n",
       "       [0.99637779],\n",
       "       [0.92074991],\n",
       "       [0.97928338],\n",
       "       [0.99969877],\n",
       "       [0.99967043],\n",
       "       [0.75720282],\n",
       "       [0.9162236 ],\n",
       "       [0.99985674],\n",
       "       [0.99985118],\n",
       "       [0.9925355 ],\n",
       "       [0.99938335],\n",
       "       [1.        ],\n",
       "       [0.99993569],\n",
       "       [0.99707627],\n",
       "       [0.99972044],\n",
       "       [0.87947407],\n",
       "       [0.99974261],\n",
       "       [0.65316364],\n",
       "       [0.36194082],\n",
       "       [0.99150278],\n",
       "       [0.78293227],\n",
       "       [1.        ],\n",
       "       [0.99992762],\n",
       "       [0.95451023],\n",
       "       [0.90320006],\n",
       "       [0.54851553],\n",
       "       [0.57400717],\n",
       "       [0.24253645],\n",
       "       [0.99497987],\n",
       "       [0.67010674],\n",
       "       [0.87473267],\n",
       "       [0.99604827],\n",
       "       [0.90063303],\n",
       "       [0.99986871],\n",
       "       [0.99973859],\n",
       "       [1.00002662],\n",
       "       [0.67609861],\n",
       "       [1.00002547],\n",
       "       [0.99600144],\n",
       "       [0.99972644],\n",
       "       [0.99845091],\n",
       "       [0.99308101],\n",
       "       [0.9997185 ],\n",
       "       [0.9298869 ],\n",
       "       [0.99974823],\n",
       "       [1.        ],\n",
       "       [0.9851122 ],\n",
       "       [0.54336037],\n",
       "       [0.44037733],\n",
       "       [0.57829193],\n",
       "       [0.99990437],\n",
       "       [0.9996498 ],\n",
       "       [0.9980294 ],\n",
       "       [0.99970974],\n",
       "       [0.93661733],\n",
       "       [0.99961092],\n",
       "       [1.        ],\n",
       "       [0.9998578 ],\n",
       "       [0.88533006],\n",
       "       [0.69717515],\n",
       "       [0.99795869],\n",
       "       [0.99972407],\n",
       "       [0.99971503],\n",
       "       [0.99950273],\n",
       "       [0.74602998],\n",
       "       [0.99999481],\n",
       "       [0.99256191],\n",
       "       [0.99986574],\n",
       "       [0.99882146],\n",
       "       [0.91201183],\n",
       "       [0.99627994],\n",
       "       [0.90106532],\n",
       "       [0.50508196],\n",
       "       [0.76423146],\n",
       "       [0.94622994],\n",
       "       [0.99523338],\n",
       "       [0.94662726],\n",
       "       [0.52401524],\n",
       "       [0.99960929],\n",
       "       [0.92933525],\n",
       "       [0.99471972],\n",
       "       [0.74440786],\n",
       "       [0.99970662],\n",
       "       [0.99969087],\n",
       "       [0.99971094],\n",
       "       [0.52377894],\n",
       "       [0.99983651],\n",
       "       [0.99970848],\n",
       "       [0.87858862],\n",
       "       [0.88059522],\n",
       "       [0.33159093],\n",
       "       [1.        ],\n",
       "       [0.99985423],\n",
       "       [0.98942156],\n",
       "       [0.80781212],\n",
       "       [0.99905171],\n",
       "       [0.99970662],\n",
       "       [0.95449457],\n",
       "       [0.99999979],\n",
       "       [0.34321991],\n",
       "       [0.67429748],\n",
       "       [0.99968814],\n",
       "       [0.93488962],\n",
       "       [0.99630676],\n",
       "       [0.99973091],\n",
       "       [0.99974365],\n",
       "       [0.99969679],\n",
       "       [0.98101339],\n",
       "       [0.99749165],\n",
       "       [0.9944353 ],\n",
       "       [0.98063088],\n",
       "       [0.99974254],\n",
       "       [0.9997154 ],\n",
       "       [0.99972687],\n",
       "       [0.43646722],\n",
       "       [0.9936251 ],\n",
       "       [0.99971827],\n",
       "       [0.49753974],\n",
       "       [0.99987504],\n",
       "       [0.97626667],\n",
       "       [0.68430551],\n",
       "       [0.68261868],\n",
       "       [0.99688029],\n",
       "       [0.9996716 ],\n",
       "       [0.99973477],\n",
       "       [0.99972346],\n",
       "       [0.99995473],\n",
       "       [0.99596821],\n",
       "       [0.78145185],\n",
       "       [0.99963489],\n",
       "       [0.97605486],\n",
       "       [0.9997143 ],\n",
       "       [0.99971607],\n",
       "       [1.00001318],\n",
       "       [0.58562886],\n",
       "       [0.99973287],\n",
       "       [0.99974038],\n",
       "       [0.36458021],\n",
       "       [0.99968059],\n",
       "       [0.99231401],\n",
       "       [0.99985545],\n",
       "       [0.926848  ],\n",
       "       [0.79774236],\n",
       "       [0.75645568],\n",
       "       [0.99078296],\n",
       "       [0.57356255],\n",
       "       [0.99991716],\n",
       "       [0.94436503],\n",
       "       [0.99637915],\n",
       "       [0.98016708],\n",
       "       [0.99705638],\n",
       "       [0.3890427 ],\n",
       "       [0.97772841],\n",
       "       [0.99971678],\n",
       "       [0.54117127],\n",
       "       [0.99971578],\n",
       "       [1.        ],\n",
       "       [0.99724532],\n",
       "       [0.99973361],\n",
       "       [0.98991497],\n",
       "       [0.99913935],\n",
       "       [0.99973378],\n",
       "       [0.81737708],\n",
       "       [0.99966825],\n",
       "       [0.46152633],\n",
       "       [0.99970264],\n",
       "       [0.99969095],\n",
       "       [0.99620091],\n",
       "       [0.8043568 ],\n",
       "       [0.9998496 ],\n",
       "       [0.60633876],\n",
       "       [0.99968971],\n",
       "       [0.72460847],\n",
       "       [0.97315123],\n",
       "       [0.99970333],\n",
       "       [0.99881275],\n",
       "       [0.98393833],\n",
       "       [0.55805919],\n",
       "       [0.93063712],\n",
       "       [0.94620227],\n",
       "       [0.99973493],\n",
       "       [0.90187766],\n",
       "       [0.99918539],\n",
       "       [0.83423226],\n",
       "       [0.74446612],\n",
       "       [0.99968491],\n",
       "       [0.99763234],\n",
       "       [0.63302694],\n",
       "       [0.9110556 ],\n",
       "       [0.84735092],\n",
       "       [0.94997862],\n",
       "       [0.99973852],\n",
       "       [0.90978902],\n",
       "       [0.99975807],\n",
       "       [0.54580308],\n",
       "       [0.99974045],\n",
       "       [0.99611274],\n",
       "       [0.99985144],\n",
       "       [0.99597339],\n",
       "       [0.84559253],\n",
       "       [0.99811942],\n",
       "       [0.99971025],\n",
       "       [0.98769205],\n",
       "       [0.99962786],\n",
       "       [0.99973702],\n",
       "       [0.88233854],\n",
       "       [0.99963114],\n",
       "       [0.99985654],\n",
       "       [0.99898788],\n",
       "       [0.40527218],\n",
       "       [0.99943872],\n",
       "       [0.57495874],\n",
       "       [0.96610746],\n",
       "       [0.99995749],\n",
       "       [0.80238761],\n",
       "       [0.86848593],\n",
       "       [0.95497377],\n",
       "       [0.99835564],\n",
       "       [0.50804389],\n",
       "       [1.        ],\n",
       "       [0.46411449],\n",
       "       [0.75411685],\n",
       "       [0.99578242],\n",
       "       [0.99988255],\n",
       "       [0.86844514],\n",
       "       [0.99963413],\n",
       "       [0.44526679],\n",
       "       [0.98801217],\n",
       "       [0.98483981],\n",
       "       [0.99971666],\n",
       "       [0.99987571],\n",
       "       [0.99974417],\n",
       "       [0.8922244 ],\n",
       "       [0.99972088],\n",
       "       [0.87624948],\n",
       "       [0.99843503],\n",
       "       [0.93457666],\n",
       "       [0.99975475],\n",
       "       [0.99986303]])"
      ]
     },
     "execution_count": 339,
     "metadata": {},
     "output_type": "execute_result"
    }
   ],
   "source": [
    "lime_local_pred"
   ]
  },
  {
   "cell_type": "code",
   "execution_count": 342,
   "metadata": {},
   "outputs": [
    {
     "data": {
      "text/plain": [
       "[<matplotlib.lines.Line2D at 0x7fc487ccf978>]"
      ]
     },
     "execution_count": 342,
     "metadata": {},
     "output_type": "execute_result"
    },
    {
     "data": {
      "image/png": "[encoded data removed]",
      "text/plain": [
       "<Figure size 432x288 with 1 Axes>"
      ]
     },
     "metadata": {
      "needs_background": "light"
     },
     "output_type": "display_data"
    }
   ],
   "source": [
    "plt.plot(lime_local_pred)"
   ]
  },
  {
   "cell_type": "code",
   "execution_count": 333,
   "metadata": {},
   "outputs": [],
   "source": [
    "top_lime_preds = []\n",
    "for mas in lime_local_pred:\n",
    "    top_lime_preds.append(mas[0])"
   ]
  },
  {
   "cell_type": "code",
   "execution_count": 334,
   "metadata": {},
   "outputs": [
    {
     "data": {
      "text/plain": [
       "[0.999242292718836,\n",
       " 0.999705594429326,\n",
       " 0.760479392137781,\n",
       " 0.8510977746392924,\n",
       " 0.8032226943687121,\n",
       " 0.9991835959694996,\n",
       " 0.9996766330713784,\n",
       " 0.924037754275223,\n",
       " 0.9996955101811675,\n",
       " 0.9997230389409515,\n",
       " 0.9895837577910864,\n",
       " 0.9996343080380617,\n",
       " 0.9997255884919062,\n",
       " 0.5194246074173241,\n",
       " 0.9959958575866932,\n",
       " 0.9997191541565544,\n",
       " 0.9997544481753237,\n",
       " 0.9721875364663721,\n",
       " 0.6326634884973502,\n",
       " 0.4989556261856058,\n",
       " 0.9995595457735245,\n",
       " 0.9997406955413086,\n",
       " 0.9786720186778403,\n",
       " 0.9998699598103774,\n",
       " 0.5984698894041992,\n",
       " 0.9345702688880323,\n",
       " 0.999502467122179,\n",
       " 0.9567504944400176,\n",
       " 0.608128799719257,\n",
       " 0.7579560453267337,\n",
       " 0.9997134267879084,\n",
       " 0.9915327395212402,\n",
       " 0.5182112982966988,\n",
       " 0.9713147000698662,\n",
       " 0.9926511883133249,\n",
       " 1.000000000058886,\n",
       " 0.9997122093961425,\n",
       " 0.987551312362964,\n",
       " 1.0,\n",
       " 0.7629994547590857,\n",
       " 0.9102319746428792,\n",
       " 0.945831254291514,\n",
       " 0.9997318432406345,\n",
       " 0.9996173430444817,\n",
       " 0.9992315837481878,\n",
       " 0.6554703355595488,\n",
       " 0.9961184117533802,\n",
       " 0.999301390461896,\n",
       " 0.9994874596898924,\n",
       " 0.9983872188976725,\n",
       " 0.9994150522329093,\n",
       " 0.9996168092917147,\n",
       " 0.9959188366539629,\n",
       " 0.8508160458491644,\n",
       " 0.679541777802748,\n",
       " 0.8267318486639895,\n",
       " 0.7809672269264808,\n",
       " 0.9998812789613748,\n",
       " 0.9976641850206323,\n",
       " 0.9857819552765997,\n",
       " 0.9997080790148929,\n",
       " 0.8283110132295806,\n",
       " 0.9997296239009297,\n",
       " 0.9996364478225783,\n",
       " 0.9626263373908389,\n",
       " 0.9546814776127455,\n",
       " 0.998688554237303,\n",
       " 0.8438090622520852,\n",
       " 0.79807367495372,\n",
       " 1.0,\n",
       " 0.7316903921235032,\n",
       " 1.0,\n",
       " 0.7130464451958676,\n",
       " 0.9970067830807724,\n",
       " 0.9963129753117295,\n",
       " 0.9470305628919836,\n",
       " 0.6196749662238661,\n",
       " 0.5089223745671388,\n",
       " 0.9965271428812602,\n",
       " 0.9916434492345136,\n",
       " 0.9965265603634847,\n",
       " 0.9904232107175525,\n",
       " 0.9997055433719815,\n",
       " 0.9860322446509537,\n",
       " 0.9996876526307987,\n",
       " 0.9971362381816131,\n",
       " 1.0,\n",
       " 0.9993482905145158,\n",
       " 0.9997333422995606,\n",
       " 0.9984950088864358,\n",
       " 0.9913787296053176,\n",
       " 0.9136152148394048,\n",
       " 0.9480473605288895,\n",
       " 0.9946980971834791,\n",
       " 0.9965577010467687,\n",
       " 0.9363908320048061,\n",
       " 0.9239725248285656,\n",
       " 1.0,\n",
       " 0.999742824654771,\n",
       " 0.9998486839138601,\n",
       " 0.9998437939489542,\n",
       " 0.7852185477811396,\n",
       " 0.9963079028595724,\n",
       " 0.9966980275982037,\n",
       " 0.40556790391680164,\n",
       " 0.9998503862421142,\n",
       " 0.9963837774102606,\n",
       " 0.8086989083850599,\n",
       " 0.8350866339762272,\n",
       " 0.999894970295015,\n",
       " 0.9998521429166444,\n",
       " 0.9985474588001111,\n",
       " 0.7203831059438818,\n",
       " 0.7118550807536477,\n",
       " 0.991355763486341,\n",
       " 0.9964561752039468,\n",
       " 0.9992064928251989,\n",
       " 0.7947295965975741,\n",
       " 0.39527911716542957,\n",
       " 0.9953594451378937,\n",
       " 0.999734599442117,\n",
       " 0.9997245576242704,\n",
       " 0.9997047875304544,\n",
       " 0.997153094814742,\n",
       " 0.953636341205396,\n",
       " 0.2335912707494174,\n",
       " 0.9912593510796746,\n",
       " 0.5514258791122295,\n",
       " 0.6471857321614324,\n",
       " 0.9957023788223609,\n",
       " 0.9998409427148046,\n",
       " 0.999995815721426,\n",
       " 0.9999903071472337,\n",
       " 0.9994873658720314,\n",
       " 0.812639615296625,\n",
       " 0.9857239104594473,\n",
       " 0.8935795581369358,\n",
       " 1.0,\n",
       " 0.9995755318878404,\n",
       " 0.6931686466620619,\n",
       " 0.9208528189987374,\n",
       " 0.856356637107115,\n",
       " 0.7757002334323102,\n",
       " 0.99974595088758,\n",
       " 0.9998712851536642,\n",
       " 0.9998872175651323,\n",
       " 0.9965002393299973,\n",
       " 0.6533277445892074,\n",
       " 0.9998858753828392,\n",
       " 0.9966538719379219,\n",
       " 0.9997196092570111,\n",
       " 0.9997308039823409,\n",
       " 0.9998280017911374,\n",
       " 0.9650696273988078,\n",
       " 0.9997087244914176,\n",
       " 0.9997235522708048,\n",
       " 0.9998870581145229,\n",
       " 0.7261090101197601,\n",
       " 0.9716494507667299,\n",
       " 0.9277377249798199,\n",
       " 0.3738454213689153,\n",
       " 0.9998499358350371,\n",
       " 0.9999847537727526,\n",
       " 1.0,\n",
       " 0.9927262013287529,\n",
       " 0.46298845535420896,\n",
       " 0.9996353820075061,\n",
       " 0.9995590432377148,\n",
       " 0.41008128033756064,\n",
       " 0.6212015154967192,\n",
       " 0.9963661105807909,\n",
       " 0.9384829842709222,\n",
       " 0.999740832196234,\n",
       " 0.9997162559983492,\n",
       " 0.9997588240129889,\n",
       " 0.8405832613235455,\n",
       " 0.9997212185086776,\n",
       " 0.9997336114652315,\n",
       " 0.9998568342666002,\n",
       " 0.8439577900353025,\n",
       " 0.9915675054972911,\n",
       " 0.4611668112659661,\n",
       " 0.7741271222039541,\n",
       " 0.946950749611651,\n",
       " 0.20104115969601305,\n",
       " 0.543001798532989,\n",
       " 0.7356516788912011,\n",
       " 0.9915694887099233,\n",
       " 0.45278569618537523,\n",
       " 0.9959037132083445,\n",
       " 0.9822938583518973,\n",
       " 0.9578558198108312,\n",
       " 0.9997055244371856,\n",
       " 0.9998519452811996,\n",
       " 0.4373174357221335,\n",
       " 0.9963246457555933,\n",
       " 0.9964424326881254,\n",
       " 0.9396267449057066,\n",
       " 0.9997196697192218,\n",
       " 0.37678464227970915,\n",
       " 0.9986089277514065,\n",
       " 0.9558818700864754,\n",
       " 0.9714597701422516,\n",
       " 0.9087608200788763,\n",
       " 0.3965366975619704,\n",
       " 0.9226262403429399,\n",
       " 0.8294753240278564,\n",
       " 0.9929614711227166,\n",
       " 0.9997104757919991,\n",
       " 0.9966657945870354,\n",
       " 0.9994847908049079,\n",
       " 0.91238970067529,\n",
       " 0.9997580108463053,\n",
       " 0.9997219873588202,\n",
       " 1.0,\n",
       " 0.5072383554006648,\n",
       " 0.9999255309269922,\n",
       " 0.9997114159234569,\n",
       " 0.9982348651038768,\n",
       " 0.9995107583701276,\n",
       " 0.9999263700822112,\n",
       " 0.9486746229464456,\n",
       " 0.96293946881792,\n",
       " 0.9911665339750433,\n",
       " 0.9996978225013617,\n",
       " 0.9918655195404007,\n",
       " 0.322084248455994,\n",
       " 0.9996550776051947,\n",
       " 0.3828358222569221,\n",
       " 0.9999392485630476,\n",
       " 0.9996815985281569,\n",
       " 0.9359727177437165,\n",
       " 0.863673139862129,\n",
       " 0.9998535364556052,\n",
       " 0.9079846370463028,\n",
       " 0.769148519346175,\n",
       " 0.9999580794879216,\n",
       " 0.9997113019499926,\n",
       " 0.6523757334151283,\n",
       " 0.9747447047877846,\n",
       " 0.9765823186967535,\n",
       " 0.9040810741557352,\n",
       " 0.6994672471252058,\n",
       " 0.2814233752015859,\n",
       " 0.9960253051950841,\n",
       " 0.9332739619314602,\n",
       " 0.9995096363652706,\n",
       " 0.9691592869673882,\n",
       " 0.9996193112202882,\n",
       " 0.670008476277792,\n",
       " 0.9647814473446686,\n",
       " 0.6114463709361995,\n",
       " 0.4946517488112755,\n",
       " 0.9890271991965238,\n",
       " 0.9998700132229856,\n",
       " 0.9535536263747628,\n",
       " 0.5104072930196174,\n",
       " 0.9961002256556076,\n",
       " 0.9997011109982308,\n",
       " 0.9568631301336774,\n",
       " 0.9667387723442897,\n",
       " 0.6497909373719188,\n",
       " 0.9981781572957132,\n",
       " 0.4810873882489065,\n",
       " 0.6357366615252716,\n",
       " 0.9999112939745561,\n",
       " 0.9935317549979376,\n",
       " 0.9997356080576143,\n",
       " 0.9996932677841184,\n",
       " 0.39734194097973563,\n",
       " 0.9999959722844513,\n",
       " 0.9715027759136461,\n",
       " 0.9996871295027251,\n",
       " 0.778995945219756,\n",
       " 0.9997300302979883,\n",
       " 0.9997353383288508,\n",
       " 0.9960193135935829,\n",
       " 0.7579915537855509,\n",
       " 1.0,\n",
       " 0.9957938425852952,\n",
       " 0.4243851609903869,\n",
       " 0.9658620043708561,\n",
       " 0.9997113504080185,\n",
       " 0.9962302032626196,\n",
       " 0.99972304728587,\n",
       " 0.9966263615859056,\n",
       " 0.9963099328157314,\n",
       " 0.297288372096041,\n",
       " 0.9613694159944028,\n",
       " 0.9995816112992271,\n",
       " 0.7617508411209322,\n",
       " 0.992101408847689,\n",
       " 0.803749178562729,\n",
       " 0.9472391869900334,\n",
       " 0.9937065362341532,\n",
       " 0.9997339392523997,\n",
       " 0.6976261117446939,\n",
       " 0.5103948917508706,\n",
       " 0.9966463016588368,\n",
       " 0.9997048334734284,\n",
       " 0.9997306261825138,\n",
       " 0.6298677309019621,\n",
       " 0.8344933617452386,\n",
       " 0.9997433350801656,\n",
       " 0.9991549232686343,\n",
       " 0.9925141718889738,\n",
       " 0.5898083328871777,\n",
       " 0.9995138221969331,\n",
       " 1.0,\n",
       " 0.7047888144159443,\n",
       " 0.9903675305331857,\n",
       " 0.8008426306141907,\n",
       " 0.4452778511021192,\n",
       " 0.9960131733561965,\n",
       " 0.4906413793569814,\n",
       " 0.9805995546981099,\n",
       " 0.4869555598305312,\n",
       " 0.9991267590559572,\n",
       " 0.5106601928271168,\n",
       " 0.9987362766499086,\n",
       " 0.9997273700758946,\n",
       " 0.9896026698157931,\n",
       " 0.9998516663558156,\n",
       " 0.9921652718593943,\n",
       " 0.8122750421619125,\n",
       " 0.964605637882166,\n",
       " 0.9667790998111295,\n",
       " 0.5786673787960952,\n",
       " 0.77159440656401,\n",
       " 0.980444482770743,\n",
       " 1.0,\n",
       " 0.9997378036148112,\n",
       " 0.9986800613097789,\n",
       " 0.9998668870942559,\n",
       " 0.9959764510085886,\n",
       " 0.9997283490965818,\n",
       " 0.9997298005273489,\n",
       " 0.9997003304197055,\n",
       " 0.9975712738494396,\n",
       " 0.23923059584036777,\n",
       " 0.9613224392301035,\n",
       " 0.9756469259564106,\n",
       " 0.9998674992671706,\n",
       " 0.9997044287671918,\n",
       " 0.38133241973530047,\n",
       " 0.992649143216092,\n",
       " 0.5733206495856008,\n",
       " 0.9037632222095496,\n",
       " 0.9183865521033452,\n",
       " 0.9996932369879238,\n",
       " 0.5936320654049981,\n",
       " 0.9953914041396507,\n",
       " 0.9958485046580627,\n",
       " 0.7636042066267354,\n",
       " 0.8295468376095838,\n",
       " 0.6395666165555332,\n",
       " 1.0001186750051738,\n",
       " 0.9836534331255166,\n",
       " 0.9998420472139385,\n",
       " 0.9997179987385839,\n",
       " 0.9939387573786987,\n",
       " 0.6536176313184708,\n",
       " 0.9855203964089864,\n",
       " 0.9959209589794583,\n",
       " 0.9962609948116261,\n",
       " 1.0000000032574887,\n",
       " 0.9963732244448295,\n",
       " 0.6581419822852261,\n",
       " 0.9138397147217492,\n",
       " 0.9974292531646292,\n",
       " 0.9876852971348891,\n",
       " 0.999695391008488,\n",
       " 0.833729512892506,\n",
       " 0.9960520402720525,\n",
       " 0.7975907530670142,\n",
       " 0.9990209533581037,\n",
       " 0.9997205565003231,\n",
       " 0.8687202943525244,\n",
       " 0.9901620161121556,\n",
       " 1.0000066147115954,\n",
       " 0.3942217322110668,\n",
       " 0.5797197369898499,\n",
       " 0.9999992765454541,\n",
       " 0.9761317416501203,\n",
       " 0.999735492245563,\n",
       " 1.0,\n",
       " 0.9983281275305644,\n",
       " 0.5434457281408396,\n",
       " 0.8386982056268524,\n",
       " 0.999724080919558,\n",
       " 0.9991369977292819,\n",
       " 1.0,\n",
       " 0.7521529186186368,\n",
       " 0.9997109407609803,\n",
       " 0.9998588498069207,\n",
       " 0.9996002038350174,\n",
       " 0.9988297627208295,\n",
       " 0.7203340871626701,\n",
       " 0.432730353801314,\n",
       " 0.7274847219290069,\n",
       " 0.9748883920245747,\n",
       " 0.9997152008908536,\n",
       " 0.9830157809983652,\n",
       " 0.9478731720993809,\n",
       " 0.965220404536709,\n",
       " 0.8377484141090753,\n",
       " 0.9997145866217523,\n",
       " 0.9739389885484123,\n",
       " 0.7258032974413879,\n",
       " 0.9998632621150627,\n",
       " 0.8781919335458209,\n",
       " 0.9998784417092692,\n",
       " 0.5879523435833797,\n",
       " 0.5664102898935067,\n",
       " 1.0,\n",
       " 0.9523123093713951,\n",
       " 0.35999909884782216,\n",
       " 0.9939565303099521,\n",
       " 0.996244239433377,\n",
       " 1.0,\n",
       " 0.9998659620782935,\n",
       " 0.9999235985316163,\n",
       " 0.46928541487463543,\n",
       " 0.9929276781507222,\n",
       " 0.9997157403510456,\n",
       " 0.9955661023204734,\n",
       " 0.5017631007492529,\n",
       " 0.9964790517473423,\n",
       " 0.5485940631189586,\n",
       " 0.9983048624447609,\n",
       " 0.9998723350501826,\n",
       " 0.9997309606570097,\n",
       " 0.9968686608189123,\n",
       " 0.666810608847232,\n",
       " 0.999618875091661,\n",
       " 0.997913159062588,\n",
       " 0.8097408328410529,\n",
       " 0.9999830823774883,\n",
       " 0.97198932408187,\n",
       " 0.9967871350317259,\n",
       " 0.8189660707412996,\n",
       " 0.9935037308150233,\n",
       " 0.8317892385493859,\n",
       " 1.0,\n",
       " 0.9931536725363534,\n",
       " 0.914461983668533,\n",
       " 0.9999075573770352,\n",
       " 0.796786637104554,\n",
       " 0.9997087302925834,\n",
       " 0.6144958835951709,\n",
       " 0.99747702209463,\n",
       " 0.9997398205904341,\n",
       " 0.9964186999660586,\n",
       " 0.9867260035568381,\n",
       " 0.9998601975023049,\n",
       " 0.9970931424974036,\n",
       " 1.0,\n",
       " 0.8367858841599056,\n",
       " 0.9998425738067519,\n",
       " 0.9994938625635583,\n",
       " 0.9960293805369748,\n",
       " 0.9998840711583352,\n",
       " 0.32368008633805156,\n",
       " 0.9579446919330157,\n",
       " 0.9247628446863772,\n",
       " 0.999213891735398,\n",
       " 0.9996978153974787,\n",
       " 0.9996707177802743,\n",
       " 0.9307378352070288,\n",
       " 0.9997385163132406,\n",
       " 0.9479425488429832,\n",
       " 0.9993222250868495,\n",
       " 0.8981703358890387,\n",
       " 0.8390699382649861,\n",
       " 0.9996782952965331,\n",
       " 0.9997265951954931,\n",
       " 0.9998730156494191,\n",
       " 0.9995670666537154,\n",
       " 0.8928644173965478,\n",
       " 0.9997046273298383,\n",
       " 0.8399791161587692,\n",
       " 0.9068061438612083,\n",
       " 0.6949847409162981,\n",
       " 0.9992292649831921,\n",
       " 0.8795394866806615,\n",
       " 0.4268923053387891,\n",
       " 0.5722793590383546,\n",
       " 0.9999571043444837,\n",
       " 0.9796957663899619,\n",
       " 0.9993244091098176,\n",
       " 0.9927522711847796,\n",
       " 0.9998554427890638,\n",
       " 0.999733491243181,\n",
       " 0.967358131421812,\n",
       " 0.9998544677613397,\n",
       " 0.9166168450483547,\n",
       " 0.9959173973937326,\n",
       " 0.9997349477915678,\n",
       " 1.0,\n",
       " 0.7785984890900508,\n",
       " 0.8442656940348314,\n",
       " 0.7941028191419363,\n",
       " 0.8953400139112784,\n",
       " 0.9957229300945815,\n",
       " 0.9997053927865063,\n",
       " 0.5050140954148254,\n",
       " 0.9746659037715281,\n",
       " 0.9831926222909068,\n",
       " 0.9001312943491849,\n",
       " 0.9943985180464797,\n",
       " 0.9996799179516735,\n",
       " 0.9964675539948609,\n",
       " 0.9998919492154279,\n",
       " 0.9997075109413637,\n",
       " 1.0,\n",
       " 0.999951386554133,\n",
       " 0.9954819677640945,\n",
       " 0.9963189259400411,\n",
       " 0.9999966903786836,\n",
       " 0.9995836521338998,\n",
       " 0.9959310199881787,\n",
       " 0.9996988869714042,\n",
       " 0.999641589888754,\n",
       " 0.9044347440685048,\n",
       " 0.9996961318862215,\n",
       " 0.9960353917732458,\n",
       " 0.905253312647633,\n",
       " 0.4228127455331573,\n",
       " 0.9998441924149555,\n",
       " 0.999697061338524,\n",
       " 0.6766941454838818,\n",
       " 0.997477611578595,\n",
       " 0.9997083579201447,\n",
       " 0.9560240719908039,\n",
       " 0.9996658230767209,\n",
       " 0.46905307778569794,\n",
       " 0.5665410483489458,\n",
       " 0.9997119625963892,\n",
       " 0.99929695524011,\n",
       " 0.9996899803292203,\n",
       " 0.9969542908577345,\n",
       " 0.48642922485968776,\n",
       " 0.9961655457365399,\n",
       " 0.6505003153793627,\n",
       " 0.7506034657175825,\n",
       " 0.49042419296022016,\n",
       " 0.7574921370968556,\n",
       " 0.981659248743899,\n",
       " 0.9513243027230455,\n",
       " 0.8920773797289189,\n",
       " 0.4674342070613054,\n",
       " 0.9214531920354294,\n",
       " 0.9997193978826616,\n",
       " 0.9998687739662288,\n",
       " 0.3555233784260832,\n",
       " 0.25658863735851434,\n",
       " 1.0,\n",
       " 0.916664162565205,\n",
       " 0.9999979185964692,\n",
       " 0.9998559654884177,\n",
       " 0.6820629519506457,\n",
       " 0.9997178359523101,\n",
       " 0.9997227066580412,\n",
       " 0.9997144751375335,\n",
       " 0.9935392733908534,\n",
       " 0.8437965638915963,\n",
       " 0.9939320326936769,\n",
       " 0.7324730490076945,\n",
       " 0.9973548919551573,\n",
       " 0.9998896800898989,\n",
       " 0.9997112889920429,\n",
       " 0.6588534004126739,\n",
       " 0.9997354255216662,\n",
       " 0.9997132281789964,\n",
       " 0.8607509452452318,\n",
       " 0.4447649654940173,\n",
       " 0.9997255782679177,\n",
       " 0.999688417175481,\n",
       " 0.9715904627161177,\n",
       " 0.9733136467969339,\n",
       " 0.7586922363065484,\n",
       " 0.9959260484773463,\n",
       " 0.9995800334276305,\n",
       " 0.9965284276292073,\n",
       " 0.9464184599980451,\n",
       " 0.8161631763497924,\n",
       " 0.6250022600591596,\n",
       " 0.9998377084401028,\n",
       " 1.0,\n",
       " 0.9997035713299331,\n",
       " 0.4864058586610154,\n",
       " 0.8939553469800291,\n",
       " 0.9969624698181553,\n",
       " 0.9997077032957532,\n",
       " 0.9978003702787922,\n",
       " 0.6119011637924592,\n",
       " 0.6176997505790038,\n",
       " 0.9962169537471438,\n",
       " 0.8900685385338347,\n",
       " 0.9961228331021467,\n",
       " 0.9745945174208016,\n",
       " 0.8863462177151664,\n",
       " 0.9574548688976163,\n",
       " 0.6202088280098269,\n",
       " 0.9997440740595317,\n",
       " 0.9997296239009171,\n",
       " 0.9997414896239492,\n",
       " 0.7438130675522434,\n",
       " 0.9996219554629784,\n",
       " 0.28112943220628106,\n",
       " 0.9998682301336579,\n",
       " 0.9998528688444834,\n",
       " 0.6389595708630227,\n",
       " 0.9998704497155821,\n",
       " 0.9997051513025017,\n",
       " 0.6799086292699413,\n",
       " 0.9410679779722602,\n",
       " 0.618918073753843,\n",
       " 0.999986560253021,\n",
       " 0.9999903828457691,\n",
       " 0.9952829412056391,\n",
       " 0.9999523141974729,\n",
       " 0.8454018579388436,\n",
       " 0.5293098316217075,\n",
       " 0.9997405307955829,\n",
       " 0.9708357302294192,\n",
       " 0.9564876848228154,\n",
       " 0.9888620321798416,\n",
       " 0.99995347370442,\n",
       " 0.9997114380288751,\n",
       " 0.9998764806993613,\n",
       " 0.9875704567792163,\n",
       " 0.9997375346437715,\n",
       " 0.99990901542487,\n",
       " 0.40371585667723037,\n",
       " 0.9330986470678971,\n",
       " 0.9999251956804566,\n",
       " 0.4190883381494277,\n",
       " 0.9419243676614217,\n",
       " 0.638900051300539,\n",
       " 0.9913571615961945,\n",
       " 0.9996944176555786,\n",
       " 0.9979433599273626,\n",
       " 0.9998214487101544,\n",
       " 0.9960495645736611,\n",
       " 0.7560909985828445,\n",
       " 0.9997104500095193,\n",
       " 0.9998938259817339,\n",
       " 0.6436356839463384,\n",
       " 0.6222223390164545,\n",
       " 0.999726004234721,\n",
       " 0.9997399617087874,\n",
       " 0.9996917293738877,\n",
       " 0.9999552338395817,\n",
       " 0.9998498042942197,\n",
       " 0.7294445418429505,\n",
       " 0.6880529140162234,\n",
       " 0.9962242194011983,\n",
       " 0.4740577713137888,\n",
       " 0.999649491143095,\n",
       " 0.9998639790833069,\n",
       " 0.999899591057031,\n",
       " 0.960949194674237,\n",
       " 0.9999999859502198,\n",
       " 0.43371062409082023,\n",
       " 0.9995835884596754,\n",
       " 0.9962010701804977,\n",
       " 0.9794767319140507,\n",
       " 0.9996291019920919,\n",
       " 0.9997259043395608,\n",
       " 0.9987192565337097,\n",
       " 0.9998914015289666,\n",
       " 0.8998625499134381,\n",
       " 0.9787357276622003,\n",
       " 0.9839257571198928,\n",
       " 0.9999000671572301,\n",
       " 0.996241751454636,\n",
       " 0.7478770954446968,\n",
       " 0.9460963944830096,\n",
       " 0.9797599242757181,\n",
       " 0.9997167458847229,\n",
       " 0.9998771378319358,\n",
       " 0.9996833531664766,\n",
       " 0.9995929608625358,\n",
       " 0.42218717329270095,\n",
       " 0.9961637922651239,\n",
       " 0.6328378210246626,\n",
       " 0.5993774331439603,\n",
       " 0.5799613244302971,\n",
       " 0.9360661936450267,\n",
       " 0.9999904115469129,\n",
       " 0.9997423780943058,\n",
       " 0.9996549052524676,\n",
       " 0.9997161446786442,\n",
       " 0.8395661751649501,\n",
       " 0.9998503363064706,\n",
       " 0.6065009154798051,\n",
       " 0.995796841564957,\n",
       " 0.4401618025422436,\n",
       " 0.85988256879756,\n",
       " 0.4305538651930935,\n",
       " 0.7773535722269453,\n",
       " 0.9703882434238847,\n",
       " 0.9997377056118064,\n",
       " 0.9962967940097016,\n",
       " 0.9996648210106116,\n",
       " 0.9996940840926481,\n",
       " 0.6598578811194347,\n",
       " 0.9998605018417013,\n",
       " 0.9974352233221908,\n",
       " 0.999598304673263,\n",
       " 0.9999303804017807,\n",
       " 0.9354878366440851,\n",
       " 0.9682145330577148,\n",
       " 0.9808379878994047,\n",
       " 0.9997392130694435,\n",
       " 0.9995796369170984,\n",
       " 0.95438414479861,\n",
       " 1.0,\n",
       " 0.993578072691713,\n",
       " 0.6321644726045391,\n",
       " 0.9999057637622385,\n",
       " 0.9997238724881472,\n",
       " 1.0,\n",
       " 0.9998507168327058,\n",
       " 0.9996934283594101,\n",
       " 0.8467323497555851,\n",
       " 0.9996387692449388,\n",
       " 0.9984678375051219,\n",
       " 0.9951890027550064,\n",
       " 0.9964953763309508,\n",
       " 0.727252213892324,\n",
       " 0.9997137750447215,\n",
       " 0.7675105554898607,\n",
       " 0.9996947864140179,\n",
       " 0.9999086169570613,\n",
       " 0.9998624242957996,\n",
       " 0.6882933715201818,\n",
       " 0.9997140226625383,\n",
       " 0.999369634626099,\n",
       " 0.9892908598028408,\n",
       " 0.9997046117782561,\n",
       " 0.6481142125433594,\n",
       " 0.6010283781601963,\n",
       " 0.9997004600171381,\n",
       " 0.9872284595831871,\n",
       " 0.9989494087830486,\n",
       " 0.9998462459746048,\n",
       " 0.7497854905088825,\n",
       " 0.28421604466936035,\n",
       " 0.9998729641396276,\n",
       " 0.9956727168746257,\n",
       " 0.43203292113079217,\n",
       " 0.9968809611672451,\n",
       " 1.0,\n",
       " 0.9771503140416673,\n",
       " 0.4668827866017585,\n",
       " 0.7847440635301586,\n",
       " 0.9998561578386196,\n",
       " 0.9999450318489138,\n",
       " 0.9965285162642538,\n",
       " 0.9963777892345181,\n",
       " 0.9207499108378547,\n",
       " 0.9792833799217541,\n",
       " 0.9996987677983198,\n",
       " 0.9996704267176746,\n",
       " 0.7572028155875526,\n",
       " 0.9162235955471018,\n",
       " 0.9998567386104331,\n",
       " 0.9998511759585973,\n",
       " 0.9925354986737138,\n",
       " 0.999383351455748,\n",
       " 1.0,\n",
       " 0.9999356850394906,\n",
       " 0.9970762681391678,\n",
       " 0.9997204374428227,\n",
       " 0.8794740716195797,\n",
       " 0.9997426106813407,\n",
       " 0.6531636436879256,\n",
       " 0.36194081890019075,\n",
       " 0.9915027832457776,\n",
       " 0.7829322736418758,\n",
       " 1.0,\n",
       " 0.9999276176774305,\n",
       " 0.9545102260731764,\n",
       " 0.903200063802343,\n",
       " 0.5485155319325477,\n",
       " 0.5740071699326239,\n",
       " 0.24253645161445012,\n",
       " 0.9949798713244309,\n",
       " 0.6701067412573538,\n",
       " 0.8747326666543188,\n",
       " 0.9960482746044353,\n",
       " 0.9006330272344615,\n",
       " 0.9998687140935928,\n",
       " 0.9997385895416844,\n",
       " 1.0000266160639577,\n",
       " 0.6760986142399051,\n",
       " 1.000025468500354,\n",
       " 0.9960014397720507,\n",
       " 0.9997264387838132,\n",
       " 0.9984509096560097,\n",
       " 0.9930810114711051,\n",
       " 0.999718495771539,\n",
       " 0.9298868953621738,\n",
       " 0.9997482325548775,\n",
       " 0.9999999994836097,\n",
       " 0.9851122042761903,\n",
       " 0.54336036647051,\n",
       " 0.44037732618052783,\n",
       " 0.5782919284135599,\n",
       " 0.9999043655456513,\n",
       " 0.9996497996314047,\n",
       " 0.9980293970425963,\n",
       " 0.9997097419198332,\n",
       " 0.9366173334853161,\n",
       " 0.9996109173756218,\n",
       " 1.0,\n",
       " 0.999857798130778,\n",
       " 0.8853300584928548,\n",
       " 0.6971751542512985,\n",
       " 0.9979586919046342,\n",
       " 0.9997240749831349,\n",
       " 0.9997150314501615,\n",
       " 0.9995027282678698,\n",
       " 0.7460299844219046,\n",
       " 0.9999948128111923,\n",
       " 0.9925619129589348,\n",
       " 0.9998657422026488,\n",
       " 0.9988214593310816,\n",
       " 0.9120118253121243,\n",
       " 0.9962799353133894,\n",
       " 0.9010653218544642,\n",
       " 0.505081961997004,\n",
       " 0.7642314623817125,\n",
       " 0.946229935295712,\n",
       " 0.9952333755110522,\n",
       " 0.9466272604176389,\n",
       " 0.5240152436061277,\n",
       " 0.9996092906430434,\n",
       " 0.9293352541640476,\n",
       " 0.9947197218550449,\n",
       " 0.7444078591138166,\n",
       " 0.9997066159381707,\n",
       " 0.9996908659618327,\n",
       " 0.9997109407609697,\n",
       " 0.5237789372527494,\n",
       " 0.9998365089429156,\n",
       " 0.9997084772471592,\n",
       " 0.8785886204127118,\n",
       " 0.8805952215085726,\n",
       " 0.3315909305560989,\n",
       " 0.9999999962780233,\n",
       " 0.9998542253080951,\n",
       " 0.9894215641782478,\n",
       " 0.8078121159020413,\n",
       " 0.9990517057873726,\n",
       " 0.9997066159381651,\n",
       " 0.9544945715616583,\n",
       " 0.9999997949975085,\n",
       " 0.3432199100858136,\n",
       " 0.6742974771722393,\n",
       " 0.999688139128561,\n",
       " 0.9348896226522035,\n",
       " 0.9963067553831514,\n",
       " 0.9997309055690562,\n",
       " 0.9997436546194411,\n",
       " 0.9996967939747979,\n",
       " 0.9810133942753873,\n",
       " 0.9974916472090216,\n",
       " 0.99443530404994,\n",
       " 0.980630879803337,\n",
       " 0.9997425405692291,\n",
       " 0.9997154047194681,\n",
       " 0.9997268710533578,\n",
       " 0.43646721841400377,\n",
       " 0.9936250957382171,\n",
       " 0.9997182738195874,\n",
       " 0.4975397380675855,\n",
       " 0.9998750381122764,\n",
       " 0.9762666682178602,\n",
       " 0.6843055136309278,\n",
       " 0.6826186836393263,\n",
       " 0.9968802904598744,\n",
       " 0.9996716037348131,\n",
       " 0.9997347698622636,\n",
       " 0.9997234616380293,\n",
       " 0.999954732379894,\n",
       " 0.9959682129441326,\n",
       " 0.7814518495274585,\n",
       " 0.9996348899425724,\n",
       " 0.9760548579577959,\n",
       " 0.9997142986168661,\n",
       " 0.9997160723111627,\n",
       " 1.000013178771636,\n",
       " 0.585628858492798,\n",
       " 0.999732866659155,\n",
       " 0.9997403845714118,\n",
       " 0.3645802115768174,\n",
       " 0.9996805940155202,\n",
       " 0.9923140121821648,\n",
       " 0.999855448501356,\n",
       " 0.9268479972614353,\n",
       " 0.7977423599821427,\n",
       " 0.7564556821635315,\n",
       " 0.9907829576615828,\n",
       " 0.5735625525174123,\n",
       " 0.999917161850808,\n",
       " 0.9443650321218117,\n",
       " 0.9963791515386169,\n",
       " 0.9801670785375285,\n",
       " 0.9970563791696956,\n",
       " 0.3890427040508872,\n",
       " 0.9777284143706402,\n",
       " 0.9997167815622007,\n",
       " 0.5411712653076902,\n",
       " 0.9997157792976298,\n",
       " 1.0,\n",
       " 0.9972453184362423,\n",
       " 0.9997336114652254,\n",
       " 0.989914966115963,\n",
       " 0.9991393542389561,\n",
       " 0.9997337809684221,\n",
       " 0.817377084412979,\n",
       " 0.9996682470363587,\n",
       " 0.4615263257959574,\n",
       " 0.9997026368863585,\n",
       " 0.9996909459349339,\n",
       " 0.9962009136006441,\n",
       " 0.8043568013606295,\n",
       " 0.9998496035566872,\n",
       " 0.606338759256214,\n",
       " 0.9996897131833715,\n",
       " 0.7246084687170112,\n",
       " 0.9731512266454996,\n",
       " 0.9997033289023727,\n",
       " 0.998812751191742,\n",
       " 0.983938328083078,\n",
       " 0.5580591865512146,\n",
       " 0.9306371180353963,\n",
       " 0.9462022685332026,\n",
       " 0.9997349270444968,\n",
       " 0.9018776606194318,\n",
       " 0.9991853898425969,\n",
       " 0.8342322635412963,\n",
       " 0.7444661218338305,\n",
       " 0.999684910143552,\n",
       " 0.9976323449381748,\n",
       " 0.6330269414102397,\n",
       " 0.9110556001033315,\n",
       " 0.8473509177023248,\n",
       " 0.9499786199802975,\n",
       " 0.9997385163132351,\n",
       " 0.9097890214220619,\n",
       " 0.9997580715525569,\n",
       " 0.5458030818676907,\n",
       " 0.9997404540104203,\n",
       " 0.9961127392423371,\n",
       " 0.9998514440259294,\n",
       " 0.9959733921000468,\n",
       " 0.8455925326106611,\n",
       " 0.9981194212232517,\n",
       " 0.99971024733275,\n",
       " 0.9876920468277705,\n",
       " 0.9996278574818486,\n",
       " 0.9997370160529777,\n",
       " 0.8823385357008067,\n",
       " 0.9996311436084,\n",
       " 0.9998565415940248,\n",
       " 0.9989878807689149,\n",
       " 0.4052721825937483,\n",
       " 0.9994387204997761,\n",
       " 0.574958740300282,\n",
       " 0.9661074646705508,\n",
       " 0.9999574899253372,\n",
       " 0.8023876112055979,\n",
       " 0.868485929941642,\n",
       " 0.9549737702227535,\n",
       " 0.9983556387225212,\n",
       " 0.5080438935461331,\n",
       " 1.0,\n",
       " 0.46411449425062684,\n",
       " 0.7541168548580672,\n",
       " 0.9957824226690807,\n",
       " 0.999882545336488,\n",
       " 0.8684451364979012,\n",
       " 0.9996341273787327,\n",
       " 0.44526678932990127,\n",
       " 0.9880121722664593,\n",
       " 0.9848398123371265,\n",
       " 0.9997166561420078,\n",
       " 0.9998757087565693,\n",
       " 0.9997441695425512,\n",
       " 0.8922244036707956,\n",
       " 0.9997208772952222,\n",
       " 0.8762494803944291,\n",
       " 0.9984350292797508,\n",
       " 0.9345766558140902,\n",
       " 0.9997547495242656,\n",
       " 0.999863025701655]"
      ]
     },
     "execution_count": 334,
     "metadata": {},
     "output_type": "execute_result"
    }
   ],
   "source": [
    "top_lime_preds"
   ]
  },
  {
   "cell_type": "code",
   "execution_count": 329,
   "metadata": {},
   "outputs": [],
   "source": [
    "top_true_preds = []\n",
    "for mas in true_preds:\n",
    "    top_true_preds.append(mas.max())"
   ]
  },
  {
   "cell_type": "code",
   "execution_count": 330,
   "metadata": {},
   "outputs": [
    {
     "data": {
      "text/plain": [
       "[0.9995266,\n",
       " 0.99999714,\n",
       " 0.7607055,\n",
       " 0.85131276,\n",
       " 0.80341846,\n",
       " 0.99943227,\n",
       " 0.9998832,\n",
       " 0.9240701,\n",
       " 1.0,\n",
       " 1.0,\n",
       " 0.98986316,\n",
       " 0.99993956,\n",
       " 0.99999297,\n",
       " 0.52388567,\n",
       " 0.99996245,\n",
       " 0.9999994,\n",
       " 1.0,\n",
       " 0.97244316,\n",
       " 0.63281614,\n",
       " 0.49909303,\n",
       " 0.9998406,\n",
       " 1.0,\n",
       " 0.97894704,\n",
       " 0.99999785,\n",
       " 0.59863436,\n",
       " 0.9348349,\n",
       " 0.9997695,\n",
       " 0.95699644,\n",
       " 0.6083027,\n",
       " 0.7581589,\n",
       " 0.9999993,\n",
       " 0.9954717,\n",
       " 0.51834244,\n",
       " 0.9715763,\n",
       " 0.99292964,\n",
       " 1.0,\n",
       " 0.9999981,\n",
       " 0.9878177,\n",
       " 1.0,\n",
       " 0.76320195,\n",
       " 0.91050607,\n",
       " 0.9460912,\n",
       " 0.9999999,\n",
       " 0.99987686,\n",
       " 0.9995264,\n",
       " 0.6556435,\n",
       " 0.9999746,\n",
       " 0.9995454,\n",
       " 0.99976355,\n",
       " 0.99864787,\n",
       " 0.9999939,\n",
       " 0.9998851,\n",
       " 1.0,\n",
       " 0.85107577,\n",
       " 0.67972374,\n",
       " 0.8269429,\n",
       " 0.7811845,\n",
       " 0.99993825,\n",
       " 0.9979285,\n",
       " 0.98943555,\n",
       " 1.0,\n",
       " 0.8285379,\n",
       " 1.0,\n",
       " 0.9999465,\n",
       " 0.9629029,\n",
       " 0.95493126,\n",
       " 0.99896836,\n",
       " 0.8440405,\n",
       " 0.79829305,\n",
       " 1.0,\n",
       " 0.7318693,\n",
       " 1.0,\n",
       " 0.71324074,\n",
       " 0.9972651,\n",
       " 1.0,\n",
       " 0.9472802,\n",
       " 0.6198413,\n",
       " 0.5090514,\n",
       " 1.0,\n",
       " 0.99193734,\n",
       " 1.0,\n",
       " 0.991999,\n",
       " 0.9999989,\n",
       " 0.99016225,\n",
       " 0.9999651,\n",
       " 0.9974064,\n",
       " 1.0,\n",
       " 0.9994593,\n",
       " 0.99999845,\n",
       " 0.99875057,\n",
       " 0.99167997,\n",
       " 0.9174046,\n",
       " 0.94828695,\n",
       " 0.9950052,\n",
       " 0.9968188,\n",
       " 0.93662745,\n",
       " 0.92426604,\n",
       " 1.0,\n",
       " 1.0,\n",
       " 1.0,\n",
       " 1.0,\n",
       " 0.7874621,\n",
       " 1.0,\n",
       " 1.0,\n",
       " 0.40566775,\n",
       " 1.0,\n",
       " 1.0,\n",
       " 0.8089121,\n",
       " 0.8339932,\n",
       " 1.0,\n",
       " 1.0,\n",
       " 0.9988488,\n",
       " 0.72056395,\n",
       " 0.71203744,\n",
       " 0.99164045,\n",
       " 0.99999034,\n",
       " 0.99948126,\n",
       " 0.7949555,\n",
       " 0.39538798,\n",
       " 0.9992017,\n",
       " 1.0,\n",
       " 1.0,\n",
       " 1.0,\n",
       " 0.9974051,\n",
       " 0.9538986,\n",
       " 0.23417677,\n",
       " 0.9949921,\n",
       " 0.55415154,\n",
       " 0.647363,\n",
       " 1.0,\n",
       " 0.9999999,\n",
       " 0.9999999,\n",
       " 0.9999945,\n",
       " 0.9997478,\n",
       " 0.8128624,\n",
       " 0.985984,\n",
       " 0.89383817,\n",
       " 1.0,\n",
       " 0.99965084,\n",
       " 0.6933722,\n",
       " 0.9210826,\n",
       " 0.8566108,\n",
       " 0.7759151,\n",
       " 1.0,\n",
       " 1.0,\n",
       " 0.99997556,\n",
       " 1.0,\n",
       " 0.6534988,\n",
       " 1.0,\n",
       " 0.9969241,\n",
       " 0.9999999,\n",
       " 1.0,\n",
       " 0.999969,\n",
       " 0.96535325,\n",
       " 0.9999974,\n",
       " 0.999998,\n",
       " 1.0,\n",
       " 0.7262896,\n",
       " 0.9717058,\n",
       " 0.92798865,\n",
       " 0.37393558,\n",
       " 1.0,\n",
       " 0.9999988,\n",
       " 1.0,\n",
       " 0.99300474,\n",
       " 0.46310475,\n",
       " 0.9998989,\n",
       " 0.99983656,\n",
       " 0.41003045,\n",
       " 0.6213547,\n",
       " 1.0,\n",
       " 0.9387604,\n",
       " 0.9999999,\n",
       " 1.0,\n",
       " 1.0,\n",
       " 0.8408012,\n",
       " 0.99999595,\n",
       " 1.0,\n",
       " 1.0,\n",
       " 0.8441872,\n",
       " 0.99184954,\n",
       " 0.46129012,\n",
       " 0.77410775,\n",
       " 0.94723874,\n",
       " 0.20094559,\n",
       " 0.5431458,\n",
       " 0.7358603,\n",
       " 0.9918345,\n",
       " 0.45288986,\n",
       " 0.9999995,\n",
       " 0.9825617,\n",
       " 0.95812196,\n",
       " 1.0,\n",
       " 1.0,\n",
       " 0.4374189,\n",
       " 1.0,\n",
       " 1.0,\n",
       " 0.9398606,\n",
       " 0.99999666,\n",
       " 0.37687787,\n",
       " 1.0,\n",
       " 0.95962864,\n",
       " 0.9717016,\n",
       " 0.90898824,\n",
       " 0.396627,\n",
       " 0.92286456,\n",
       " 0.82970107,\n",
       " 0.9932516,\n",
       " 0.9999981,\n",
       " 1.0,\n",
       " 0.9997638,\n",
       " 0.91261435,\n",
       " 0.99988675,\n",
       " 0.99999034,\n",
       " 1.0,\n",
       " 0.5073767,\n",
       " 1.0,\n",
       " 0.9999994,\n",
       " 0.99850696,\n",
       " 0.99975044,\n",
       " 1.0,\n",
       " 0.948938,\n",
       " 0.9632397,\n",
       " 0.9926421,\n",
       " 0.99998903,\n",
       " 0.9921525,\n",
       " 0.32216135,\n",
       " 0.99992895,\n",
       " 0.38292408,\n",
       " 0.9999851,\n",
       " 1.0,\n",
       " 0.93623525,\n",
       " 0.86392283,\n",
       " 1.0,\n",
       " 0.90823174,\n",
       " 0.76935333,\n",
       " 0.99999964,\n",
       " 0.9999951,\n",
       " 0.6525456,\n",
       " 0.9750106,\n",
       " 0.9768488,\n",
       " 0.90435743,\n",
       " 0.6996588,\n",
       " 0.28150296,\n",
       " 0.99997485,\n",
       " 0.9335245,\n",
       " 0.99979407,\n",
       " 0.972385,\n",
       " 0.9999025,\n",
       " 0.6701782,\n",
       " 0.9690177,\n",
       " 0.6116286,\n",
       " 0.4947705,\n",
       " 0.98929906,\n",
       " 1.0,\n",
       " 0.9537994,\n",
       " 0.51054096,\n",
       " 1.0,\n",
       " 0.9999639,\n",
       " 0.96085256,\n",
       " 0.9669735,\n",
       " 0.64995784,\n",
       " 0.99844676,\n",
       " 0.48122078,\n",
       " 0.63591605,\n",
       " 1.0,\n",
       " 0.9938199,\n",
       " 0.99998283,\n",
       " 0.9999392,\n",
       " 0.39743668,\n",
       " 1.0,\n",
       " 0.9717334,\n",
       " 0.99995625,\n",
       " 0.7791862,\n",
       " 0.9999994,\n",
       " 0.9999999,\n",
       " 0.99629873,\n",
       " 0.7582031,\n",
       " 1.0,\n",
       " 0.9999299,\n",
       " 0.42426538,\n",
       " 0.96613085,\n",
       " 0.9999863,\n",
       " 1.0,\n",
       " 0.9999932,\n",
       " 1.0,\n",
       " 1.0,\n",
       " 0.29735276,\n",
       " 0.96162593,\n",
       " 0.99961555,\n",
       " 0.76195246,\n",
       " 0.99235743,\n",
       " 0.8039893,\n",
       " 0.9474893,\n",
       " 0.9977664,\n",
       " 0.9999951,\n",
       " 0.6978278,\n",
       " 0.5105168,\n",
       " 1.0,\n",
       " 0.9999914,\n",
       " 1.0,\n",
       " 0.63003296,\n",
       " 0.83472556,\n",
       " 1.0,\n",
       " 0.9994311,\n",
       " 0.99621,\n",
       " 0.58995944,\n",
       " 1.0,\n",
       " 1.0,\n",
       " 0.70497614,\n",
       " 0.99432796,\n",
       " 0.8010591,\n",
       " 0.44539687,\n",
       " 1.0,\n",
       " 0.4907526,\n",
       " 0.98089546,\n",
       " 0.48708075,\n",
       " 0.99943167,\n",
       " 0.51080745,\n",
       " 0.99880505,\n",
       " 0.99999976,\n",
       " 0.9898739,\n",
       " 1.0,\n",
       " 0.9924452,\n",
       " 0.8124873,\n",
       " 0.96488947,\n",
       " 0.9670857,\n",
       " 0.58027744,\n",
       " 0.7717905,\n",
       " 0.9807146,\n",
       " 1.0,\n",
       " 1.0,\n",
       " 0.998939,\n",
       " 0.99999917,\n",
       " 0.99624926,\n",
       " 0.9999988,\n",
       " 1.0,\n",
       " 0.99998724,\n",
       " 0.9978648,\n",
       " 0.23929612,\n",
       " 0.96162015,\n",
       " 0.97590667,\n",
       " 1.0,\n",
       " 1.0,\n",
       " 0.38142467,\n",
       " 0.9963899,\n",
       " 0.57347697,\n",
       " 0.90387917,\n",
       " 0.91863537,\n",
       " 1.0,\n",
       " 0.5938013,\n",
       " 0.99917704,\n",
       " 1.0,\n",
       " 0.7637926,\n",
       " 0.82976836,\n",
       " 0.6397254,\n",
       " 1.0,\n",
       " 0.9837016,\n",
       " 1.0,\n",
       " 1.0,\n",
       " 0.99775463,\n",
       " 0.6537936,\n",
       " 0.98578936,\n",
       " 0.9999993,\n",
       " 0.9999999,\n",
       " 1.0,\n",
       " 0.99999976,\n",
       " 0.6583113,\n",
       " 0.9140553,\n",
       " 0.99744153,\n",
       " 0.98952043,\n",
       " 0.9999999,\n",
       " 0.8338129,\n",
       " 0.9999999,\n",
       " 0.79782254,\n",
       " 0.9993061,\n",
       " 0.99999464,\n",
       " 0.8689449,\n",
       " 0.9904254,\n",
       " 1.0,\n",
       " 0.39431354,\n",
       " 0.57987326,\n",
       " 1.0,\n",
       " 0.97640514,\n",
       " 0.9999989,\n",
       " 1.0,\n",
       " 0.99859315,\n",
       " 0.54358804,\n",
       " 0.8388975,\n",
       " 0.9999995,\n",
       " 0.999419,\n",
       " 1.0,\n",
       " 0.75234395,\n",
       " 1.0,\n",
       " 1.0,\n",
       " 0.99987817,\n",
       " 0.9991097,\n",
       " 0.7205334,\n",
       " 0.43284407,\n",
       " 0.7276796,\n",
       " 0.975155,\n",
       " 1.0,\n",
       " 0.9832767,\n",
       " 0.9515637,\n",
       " 0.96548015,\n",
       " 0.83795923,\n",
       " 0.99996185,\n",
       " 0.977221,\n",
       " 0.72586566,\n",
       " 1.0,\n",
       " 0.878412,\n",
       " 1.0,\n",
       " 0.58811927,\n",
       " 0.56657135,\n",
       " 1.0,\n",
       " 0.9526106,\n",
       " 0.36009735,\n",
       " 0.99755645,\n",
       " 1.0,\n",
       " 1.0,\n",
       " 0.9999914,\n",
       " 1.0,\n",
       " 0.46940708,\n",
       " 0.99311393,\n",
       " 0.99997497,\n",
       " 0.99952984,\n",
       " 0.5018835,\n",
       " 1.0,\n",
       " 0.54874164,\n",
       " 0.9985902,\n",
       " 0.9999789,\n",
       " 1.0,\n",
       " 1.0,\n",
       " 0.6669691,\n",
       " 0.99993134,\n",
       " 0.9981912,\n",
       " 0.81558734,\n",
       " 0.9999728,\n",
       " 0.97226906,\n",
       " 0.9988176,\n",
       " 0.8191492,\n",
       " 0.99377304,\n",
       " 0.83201814,\n",
       " 1.0,\n",
       " 0.99344265,\n",
       " 0.91472316,\n",
       " 1.0,\n",
       " 0.796128,\n",
       " 0.99999535,\n",
       " 0.6146627,\n",
       " 0.99776125,\n",
       " 1.0,\n",
       " 1.0,\n",
       " 0.99034166,\n",
       " 1.0,\n",
       " 0.99832493,\n",
       " 1.0,\n",
       " 0.8370174,\n",
       " 1.0,\n",
       " 0.9997818,\n",
       " 1.0,\n",
       " 1.0,\n",
       " 0.3237713,\n",
       " 0.9582079,\n",
       " 0.92501915,\n",
       " 0.99951684,\n",
       " 0.9999956,\n",
       " 1.0,\n",
       " 0.9309897,\n",
       " 1.0,\n",
       " 0.94820625,\n",
       " 0.9998024,\n",
       " 0.8984263,\n",
       " 0.83928555,\n",
       " 0.99997175,\n",
       " 1.0,\n",
       " 1.0,\n",
       " 0.9998411,\n",
       " 0.89689606,\n",
       " 0.99999857,\n",
       " 0.8401957,\n",
       " 0.90707797,\n",
       " 0.6931209,\n",
       " 0.99948955,\n",
       " 0.87976146,\n",
       " 0.4269939,\n",
       " 0.57244873,\n",
       " 0.99999976,\n",
       " 0.97995603,\n",
       " 0.99958736,\n",
       " 0.9930098,\n",
       " 0.9999993,\n",
       " 0.9999937,\n",
       " 0.9676142,\n",
       " 0.9999993,\n",
       " 0.91688967,\n",
       " 0.9993333,\n",
       " 0.9999999,\n",
       " 1.0,\n",
       " 0.7788092,\n",
       " 0.8445069,\n",
       " 0.7942927,\n",
       " 0.8955769,\n",
       " 1.0,\n",
       " 0.9999963,\n",
       " 0.50512326,\n",
       " 0.97497004,\n",
       " 0.9834646,\n",
       " 0.9003714,\n",
       " 0.994665,\n",
       " 0.99995625,\n",
       " 1.0,\n",
       " 1.0,\n",
       " 1.0,\n",
       " 1.0,\n",
       " 1.0,\n",
       " 0.9957783,\n",
       " 1.0,\n",
       " 0.99999917,\n",
       " 0.9998808,\n",
       " 1.0,\n",
       " 1.0,\n",
       " 0.99994254,\n",
       " 0.90467215,\n",
       " 0.99998593,\n",
       " 1.0,\n",
       " 0.9054811,\n",
       " 0.4237573,\n",
       " 1.0,\n",
       " 0.9999999,\n",
       " 0.67687315,\n",
       " 0.99774855,\n",
       " 0.9999993,\n",
       " 0.9563172,\n",
       " 0.9999058,\n",
       " 0.46918303,\n",
       " 0.56671226,\n",
       " 0.9999889,\n",
       " 0.9995902,\n",
       " 0.99999225,\n",
       " 1.0,\n",
       " 0.4865612,\n",
       " 1.0,\n",
       " 0.6506672,\n",
       " 0.7507877,\n",
       " 0.490546,\n",
       " 0.75769526,\n",
       " 0.98155653,\n",
       " 0.95159364,\n",
       " 0.8923213,\n",
       " 0.46859717,\n",
       " 0.92508286,\n",
       " 1.0,\n",
       " 1.0,\n",
       " 0.35560092,\n",
       " 0.25664866,\n",
       " 1.0,\n",
       " 0.9168991,\n",
       " 0.9999999,\n",
       " 1.0,\n",
       " 0.6822511,\n",
       " 0.9999902,\n",
       " 0.9999999,\n",
       " 0.9999963,\n",
       " 0.9938148,\n",
       " 0.844022,\n",
       " 0.9941934,\n",
       " 0.7326584,\n",
       " 0.9979734,\n",
       " 0.9999988,\n",
       " 1.0,\n",
       " 0.6590219,\n",
       " 1.0,\n",
       " 0.99999857,\n",
       " 0.86098313,\n",
       " 0.44488028,\n",
       " 1.0,\n",
       " 0.99999404,\n",
       " 0.971866,\n",
       " 0.97335374,\n",
       " 0.7589077,\n",
       " 0.99994195,\n",
       " 0.99962103,\n",
       " 1.0,\n",
       " 0.9466616,\n",
       " 0.81636685,\n",
       " 0.62515885,\n",
       " 1.0,\n",
       " 1.0,\n",
       " 0.9999999,\n",
       " 0.48652145,\n",
       " 0.8942057,\n",
       " 0.9972473,\n",
       " 1.0,\n",
       " 0.99806744,\n",
       " 0.6120709,\n",
       " 0.6178558,\n",
       " 1.0,\n",
       " 0.89034206,\n",
       " 1.0,\n",
       " 0.97490466,\n",
       " 0.8866018,\n",
       " 0.9577078,\n",
       " 0.62038016,\n",
       " 0.99999034,\n",
       " 1.0,\n",
       " 1.0,\n",
       " 0.744018,\n",
       " 0.9999182,\n",
       " 0.28120065,\n",
       " 1.0,\n",
       " 1.0,\n",
       " 0.6391405,\n",
       " 0.99999666,\n",
       " 0.99998784,\n",
       " 0.6800974,\n",
       " 0.9413137,\n",
       " 0.6191105,\n",
       " 0.99999666,\n",
       " 0.99999154,\n",
       " 0.99890757,\n",
       " 1.0,\n",
       " 0.84561676,\n",
       " 0.52942413,\n",
       " 0.99999976,\n",
       " 0.97110736,\n",
       " 0.9586666,\n",
       " 0.989156,\n",
       " 0.99999976,\n",
       " 0.99999154,\n",
       " 0.9999999,\n",
       " 0.98870087,\n",
       " 0.9997565,\n",
       " 0.9999999,\n",
       " 0.40383777,\n",
       " 0.933375,\n",
       " 0.9999317,\n",
       " 0.41919443,\n",
       " 0.94214207,\n",
       " 0.6390732,\n",
       " 0.99159837,\n",
       " 0.99996686,\n",
       " 0.99947804,\n",
       " 0.99982244,\n",
       " 1.0,\n",
       " 0.7562999,\n",
       " 0.99999917,\n",
       " 1.0,\n",
       " 0.64379185,\n",
       " 0.622388,\n",
       " 0.9999989,\n",
       " 1.0,\n",
       " 0.9999999,\n",
       " 1.0,\n",
       " 1.0,\n",
       " 0.73359454,\n",
       " 0.6882413,\n",
       " 0.9999962,\n",
       " 0.47418293,\n",
       " 0.99995816,\n",
       " 1.0,\n",
       " 0.99999833,\n",
       " 0.9612036,\n",
       " 1.0,\n",
       " 0.43382588,\n",
       " 0.999851,\n",
       " 0.9999747,\n",
       " 0.9834289,\n",
       " 0.9996418,\n",
       " 1.0,\n",
       " 0.999006,\n",
       " 1.0,\n",
       " 0.9000887,\n",
       " 0.9789909,\n",
       " 0.9877922,\n",
       " 0.9999994,\n",
       " 1.0,\n",
       " 0.7480852,\n",
       " 0.9463552,\n",
       " 0.9800458,\n",
       " 0.9999908,\n",
       " 1.0,\n",
       " 0.99994874,\n",
       " 0.9998704,\n",
       " 0.4222982,\n",
       " 1.0,\n",
       " 0.6329937,\n",
       " 0.59953463,\n",
       " 0.5801222,\n",
       " 0.9363343,\n",
       " 0.9999927,\n",
       " 1.0,\n",
       " 0.9999404,\n",
       " 1.0,\n",
       " 0.83981514,\n",
       " 1.0,\n",
       " 0.6066497,\n",
       " 0.99958676,\n",
       " 0.44029543,\n",
       " 0.8630066,\n",
       " 0.4306657,\n",
       " 0.77758193,\n",
       " 0.9706575,\n",
       " 1.0,\n",
       " 1.0,\n",
       " 0.99997044,\n",
       " 0.99996245,\n",
       " 0.6600217,\n",
       " 1.0,\n",
       " 0.9984456,\n",
       " 0.99987626,\n",
       " 0.99999666,\n",
       " 0.9357582,\n",
       " 0.968471,\n",
       " 0.9821123,\n",
       " 0.9999995,\n",
       " 0.9998388,\n",
       " 0.9546494,\n",
       " 1.0,\n",
       " 0.9938538,\n",
       " 0.63232094,\n",
       " 1.0,\n",
       " 1.0,\n",
       " 1.0,\n",
       " 1.0,\n",
       " 0.99997663,\n",
       " 0.84696984,\n",
       " 0.9999126,\n",
       " 0.99852055,\n",
       " 0.99907076,\n",
       " 1.0,\n",
       " 0.72744656,\n",
       " 0.99997497,\n",
       " 0.7677099,\n",
       " 0.999997,\n",
       " 1.0,\n",
       " 1.0,\n",
       " 0.68847644,\n",
       " 0.9999999,\n",
       " 0.9993819,\n",
       " 0.99345726,\n",
       " 0.9999683,\n",
       " 0.6482808,\n",
       " 0.6011676,\n",
       " 0.9999883,\n",
       " 0.9875031,\n",
       " 0.9992391,\n",
       " 1.0,\n",
       " 0.74999225,\n",
       " 0.28428668,\n",
       " 1.0,\n",
       " 1.0,\n",
       " 0.4321394,\n",
       " 1.0,\n",
       " 1.0,\n",
       " 0.977418,\n",
       " 0.4669917,\n",
       " 0.7904359,\n",
       " 1.0,\n",
       " 0.9999448,\n",
       " 0.99999964,\n",
       " 1.0,\n",
       " 0.9210257,\n",
       " 0.9795751,\n",
       " 0.9999999,\n",
       " 0.9999758,\n",
       " 0.75741875,\n",
       " 0.9164705,\n",
       " 1.0,\n",
       " 0.9999999,\n",
       " 0.99636555,\n",
       " 0.99966455,\n",
       " 1.0,\n",
       " 0.9999676,\n",
       " 0.9973788,\n",
       " 1.0,\n",
       " 0.8797078,\n",
       " 0.9999964,\n",
       " 0.6533287,\n",
       " 0.36202824,\n",
       " 0.9917645,\n",
       " 0.7831409,\n",
       " 1.0,\n",
       " 1.0,\n",
       " 0.95477116,\n",
       " 0.9034338,\n",
       " 0.54864603,\n",
       " 0.5741798,\n",
       " 0.24258618,\n",
       " 0.9952815,\n",
       " 0.6702899,\n",
       " 0.87496156,\n",
       " 0.9998944,\n",
       " 0.900854,\n",
       " 1.0,\n",
       " 1.0,\n",
       " 1.0,\n",
       " 0.6762937,\n",
       " 1.0,\n",
       " 1.0,\n",
       " 0.9999995,\n",
       " 0.9999999,\n",
       " 0.9933275,\n",
       " 1.0,\n",
       " 0.9301481,\n",
       " 1.0,\n",
       " 1.0,\n",
       " 0.985415,\n",
       " 0.54351497,\n",
       " 0.4405134,\n",
       " 0.5784458,\n",
       " 1.0,\n",
       " 0.99991834,\n",
       " 0.9983467,\n",
       " 0.99999666,\n",
       " 0.9368751,\n",
       " 0.99985886,\n",
       " 1.0,\n",
       " 1.0,\n",
       " 0.885567,\n",
       " 0.6973863,\n",
       " 0.9982261,\n",
       " 0.99999917,\n",
       " 0.99999595,\n",
       " 0.99977916,\n",
       " 0.74626327,\n",
       " 0.99999523,\n",
       " 0.99660313,\n",
       " 1.0,\n",
       " 0.99908733,\n",
       " 0.91227126,\n",
       " 1.0,\n",
       " 0.90132797,\n",
       " 0.5052106,\n",
       " 0.76788574,\n",
       " 0.9465351,\n",
       " 0.999448,\n",
       " 0.9468937,\n",
       " 0.52416015,\n",
       " 0.99990356,\n",
       " 0.92959666,\n",
       " 0.99808466,\n",
       " 0.74459434,\n",
       " 1.0,\n",
       " 0.9999995,\n",
       " 1.0,\n",
       " 0.5239212,\n",
       " 0.99994814,\n",
       " 0.9999981,\n",
       " 0.8788448,\n",
       " 0.8808168,\n",
       " 0.3316722,\n",
       " 1.0,\n",
       " 1.0,\n",
       " 0.99346393,\n",
       " 0.8080284,\n",
       " 0.999062,\n",
       " 1.0,\n",
       " 0.9547702,\n",
       " 1.0,\n",
       " 0.34329784,\n",
       " 0.6744552,\n",
       " 0.9999932,\n",
       " 0.9351357,\n",
       " 1.0,\n",
       " 0.9999969,\n",
       " 1.0,\n",
       " 0.99999976,\n",
       " 0.98425716,\n",
       " 0.9977575,\n",
       " 0.99847764,\n",
       " 0.9809063,\n",
       " 1.0,\n",
       " 0.9999988,\n",
       " 1.0,\n",
       " 0.4365766,\n",
       " 0.9951082,\n",
       " 1.0,\n",
       " 0.4976704,\n",
       " 1.0,\n",
       " 0.97651404,\n",
       " 0.6844995,\n",
       " 0.6828124,\n",
       " 0.9971113,\n",
       " 0.99995065,\n",
       " 1.0,\n",
       " 1.0,\n",
       " 1.0,\n",
       " 0.99621683,\n",
       " 0.7816747,\n",
       " 0.9999181,\n",
       " 0.97632027,\n",
       " 0.99999166,\n",
       " 0.99999595,\n",
       " 1.0,\n",
       " 0.5857758,\n",
       " 0.99999976,\n",
       " 1.0,\n",
       " 0.36468393,\n",
       " 0.99997616,\n",
       " 0.9925534,\n",
       " 1.0,\n",
       " 0.92710096,\n",
       " 0.79795176,\n",
       " 0.7566593,\n",
       " 0.9910958,\n",
       " 0.5737134,\n",
       " 0.99996126,\n",
       " 0.9446268,\n",
       " 1.0,\n",
       " 0.9804468,\n",
       " 0.9973326,\n",
       " 0.38914192,\n",
       " 0.97797287,\n",
       " 1.0,\n",
       " 0.5412976,\n",
       " 0.9999995,\n",
       " 1.0,\n",
       " 1.0,\n",
       " 1.0,\n",
       " 0.9939114,\n",
       " 0.99925274,\n",
       " 1.0,\n",
       " 0.81757987,\n",
       " 0.999977,\n",
       " 0.46162632,\n",
       " 0.9999999,\n",
       " 1.0,\n",
       " 0.99993956,\n",
       " 0.80575275,\n",
       " 1.0,\n",
       " 0.6064943,\n",
       " 0.9999995,\n",
       " 0.72477776,\n",
       " 0.97340333,\n",
       " 1.0,\n",
       " 0.9991059,\n",
       " 0.98400795,\n",
       " 0.5582094,\n",
       " 0.9308771,\n",
       " 0.94645077,\n",
       " 1.0,\n",
       " 0.90212214,\n",
       " 0.99949086,\n",
       " 0.83445764,\n",
       " 0.74466085,\n",
       " 0.9999995,\n",
       " 0.99788374,\n",
       " 0.6332039,\n",
       " 0.9113143,\n",
       " 0.8475771,\n",
       " 0.9502634,\n",
       " 1.0,\n",
       " 0.9100417,\n",
       " 1.0,\n",
       " 0.5459244,\n",
       " 1.0,\n",
       " 0.99999976,\n",
       " 1.0,\n",
       " 1.0,\n",
       " 0.84581405,\n",
       " 0.99840134,\n",
       " 0.9999833,\n",
       " 0.98795766,\n",
       " 0.99993634,\n",
       " 0.99999917,\n",
       " 0.8825711,\n",
       " 0.99989736,\n",
       " 1.0,\n",
       " 0.99899405,\n",
       " 0.40538204,\n",
       " 0.9997359,\n",
       " 0.5749817,\n",
       " 0.96637505,\n",
       " 0.9999212,\n",
       " 0.8026237,\n",
       " 0.8687201,\n",
       " 0.9552659,\n",
       " 0.99863535,\n",
       " 0.50818443,\n",
       " 1.0,\n",
       " 0.4642289,\n",
       " 0.7543411,\n",
       " 0.9999999,\n",
       " 1.0,\n",
       " 0.8686871,\n",
       " 0.99993634,\n",
       " 0.44538286,\n",
       " 0.988303,\n",
       " 0.9850916,\n",
       " 0.9999938,\n",
       " 0.9999987,\n",
       " 0.9999999,\n",
       " 0.89247775,\n",
       " 0.9999994,\n",
       " 0.87649,\n",
       " 0.99867994,\n",
       " 0.9418792,\n",
       " 0.9999999,\n",
       " 1.0]"
      ]
     },
     "execution_count": 330,
     "metadata": {},
     "output_type": "execute_result"
    }
   ],
   "source": [
    "top_true_preds"
   ]
  },
  {
   "cell_type": "code",
   "execution_count": 359,
   "metadata": {},
   "outputs": [],
   "source": [
    "from numpy import dot\n",
    "from numpy.linalg import norm\n",
    "\n",
    "sims = []\n",
    "for i in range(sample_size):\n",
    "    a = top_true_preds[i]\n",
    "    b = top_lime_preds[i]\n",
    "    sims.append(abs(a - b))"
   ]
  },
  {
   "cell_type": "code",
   "execution_count": 361,
   "metadata": {},
   "outputs": [
    {
     "data": {
      "image/png": "[encoded data removed]",
      "text/plain": [
       "<Figure size 720x576 with 1 Axes>"
      ]
     },
     "metadata": {
      "needs_background": "light"
     },
     "output_type": "display_data"
    }
   ],
   "source": [
    "fig = plt.figure(figsize=(10, 8))\n",
    "plt.plot(sims, label='LIME')\n",
    "plt.xlabel('Индекс объекта')\n",
    "plt.ylabel('Косинусное расстояние')\n",
    "plt.legend(loc=3)\n",
    "fig.axes[0].set_rasterized(True)\n",
    "plt.show()"
   ]
  },
  {
   "cell_type": "code",
   "execution_count": null,
   "metadata": {},
   "outputs": [],
   "source": []
  }
 ],
 "metadata": {
  "kernelspec": {
   "display_name": "Python 3",
   "language": "python",
   "name": "python3"
  },
  "language_info": {
   "codemirror_mode": {
    "name": "ipython",
    "version": 3
   },
   "file_extension": ".py",
   "mimetype": "text/x-python",
   "name": "python",
   "nbconvert_exporter": "python",
   "pygments_lexer": "ipython3",
   "version": "3.7.3"
  }
 },
 "nbformat": 4,
 "nbformat_minor": 2
}
