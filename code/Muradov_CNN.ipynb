{
 "cells": [
  {
   "cell_type": "code",
   "execution_count": 198,
   "metadata": {},
   "outputs": [
    {
     "data": {
      "text/plain": [
       "<torch.autograd.grad_mode.set_grad_enabled at 0x7fc45cd152b0>"
      ]
     },
     "execution_count": 198,
     "metadata": {},
     "output_type": "execute_result"
    }
   ],
   "source": [
    "# import standard PyTorch modules\n",
    "import torch\n",
    "import torch.nn as nn\n",
    "import torch.nn.functional as F\n",
    "import torch.optim as optim\n",
    "from torch.utils.tensorboard import SummaryWriter # TensorBoard support\n",
    "\n",
    "# import torchvision module to handle image manipulation\n",
    "import torchvision\n",
    "import torchvision.transforms as transforms\n",
    "\n",
    "# calculate train time, writing train data to files etc.\n",
    "import time\n",
    "import pandas as pd\n",
    "import json\n",
    "from IPython.display import clear_output\n",
    "\n",
    "torch.set_printoptions(linewidth=120)\n",
    "torch.set_grad_enabled(True)     # On by default, leave it here for clarity"
   ]
  },
  {
   "cell_type": "code",
   "execution_count": 246,
   "metadata": {},
   "outputs": [],
   "source": [
    "# Use standard FashionMNIST dataset\n",
    "train_set = torchvision.datasets.FashionMNIST(\n",
    "    root = './data/FashionMNIST',\n",
    "    train = True,\n",
    "    download = True,\n",
    "    transform = transforms.Compose([\n",
    "        transforms.ToTensor()                                 \n",
    "    ])\n",
    ")"
   ]
  },
  {
   "cell_type": "code",
   "execution_count": 247,
   "metadata": {},
   "outputs": [],
   "source": [
    "# Build the neural network, expand on top of nn.Module\n",
    "class Network(nn.Module):\n",
    "  def __init__(self):\n",
    "    super().__init__()\n",
    "\n",
    "    # define layers\n",
    "    self.conv1 = nn.Conv2d(in_channels=1, out_channels=6, kernel_size=5)\n",
    "    self.conv2 = nn.Conv2d(in_channels=6, out_channels=12, kernel_size=5)\n",
    "\n",
    "    self.fc1 = nn.Linear(in_features=12*4*4, out_features=120)\n",
    "    self.fc2 = nn.Linear(in_features=120, out_features=60)\n",
    "    self.out = nn.Linear(in_features=60, out_features=10)\n",
    "\n",
    "  # define forward function\n",
    "  def forward(self, t):\n",
    "    # conv 1\n",
    "    t = self.conv1(t)\n",
    "    t = F.relu(t)\n",
    "    t = F.max_pool2d(t, kernel_size=2, stride=2)\n",
    "\n",
    "    # conv 2\n",
    "    t = self.conv2(t)\n",
    "    t = F.relu(t)\n",
    "    t = F.max_pool2d(t, kernel_size=2, stride=2)\n",
    "\n",
    "    # fc1\n",
    "    t = t.reshape(-1, 12*4*4)\n",
    "    t = self.fc1(t)\n",
    "    t = F.relu(t)\n",
    "\n",
    "    # fc2\n",
    "    t = self.fc2(t)\n",
    "    t = F.relu(t)\n",
    "\n",
    "    # output\n",
    "    t = self.out(t)\n",
    "    # don't need softmax here since we'll use cross-entropy as activation.\n",
    "\n",
    "    return t"
   ]
  },
  {
   "cell_type": "code",
   "execution_count": 248,
   "metadata": {},
   "outputs": [],
   "source": [
    "from collections import OrderedDict\n",
    "\n",
    "# put all hyper params into a OrderedDict, easily expandable\n",
    "params = OrderedDict(\n",
    "    lr = [.01],\n",
    "    batch_size = [100],\n",
    "    shuffle = [False]\n",
    ")\n",
    "epochs = 10"
   ]
  },
  {
   "cell_type": "code",
   "execution_count": 249,
   "metadata": {},
   "outputs": [],
   "source": [
    "# import modules to build RunBuilder and RunManager helper classes\n",
    "from collections import namedtuple\n",
    "from itertools import product\n",
    "\n",
    "# Read in the hyper-parameters and return a Run namedtuple containing all the \n",
    "# combinations of hyper-parameters\n",
    "class RunBuilder():\n",
    "  @staticmethod\n",
    "  def get_runs(params):\n",
    "\n",
    "    Run = namedtuple('Run', params.keys())\n",
    "\n",
    "    runs = []\n",
    "    for v in product(*params.values()):\n",
    "      runs.append(Run(*v))\n",
    "    \n",
    "    return runs"
   ]
  },
  {
   "cell_type": "code",
   "execution_count": 250,
   "metadata": {},
   "outputs": [],
   "source": [
    "# Helper class, help track loss, accuracy, epoch time, run time, \n",
    "# hyper-parameters etc. Also record to TensorBoard and write into csv, json\n",
    "class RunManager():\n",
    "  def __init__(self):\n",
    "\n",
    "    # tracking every epoch count, loss, accuracy, time\n",
    "    self.epoch_count = 0\n",
    "    self.epoch_loss = 0\n",
    "    self.epoch_num_correct = 0\n",
    "    self.epoch_start_time = None\n",
    "\n",
    "    # tracking every run count, run data, hyper-params used, time\n",
    "    self.run_params = None\n",
    "    self.run_count = 0\n",
    "    self.run_data = []\n",
    "    self.run_start_time = None\n",
    "\n",
    "    # record model, loader and TensorBoard \n",
    "    self.network = None\n",
    "    self.loader = None\n",
    "    self.tb = None\n",
    "\n",
    "  # record the count, hyper-param, model, loader of each run\n",
    "  # record sample images and network graph to TensorBoard  \n",
    "  def begin_run(self, run, network, loader):\n",
    "\n",
    "    self.run_start_time = time.time()\n",
    "\n",
    "    self.run_params = run\n",
    "    self.run_count += 1\n",
    "\n",
    "    self.network = network\n",
    "    self.loader = loader\n",
    "    self.tb = SummaryWriter(comment=f'-{run}')\n",
    "\n",
    "    images, labels = next(iter(self.loader))\n",
    "    grid = torchvision.utils.make_grid(images)\n",
    "\n",
    "    self.tb.add_image('images', grid)\n",
    "    self.tb.add_graph(self.network, images)\n",
    "\n",
    "  # when run ends, close TensorBoard, zero epoch count\n",
    "  def end_run(self):\n",
    "    self.tb.close()\n",
    "    self.epoch_count = 0\n",
    "\n",
    "  # zero epoch count, loss, accuracy, \n",
    "  def begin_epoch(self):\n",
    "    self.epoch_start_time = time.time()\n",
    "\n",
    "    self.epoch_count += 1\n",
    "    self.epoch_loss = 0\n",
    "    self.epoch_num_correct = 0\n",
    "\n",
    "  # \n",
    "  def end_epoch(self):\n",
    "    # calculate epoch duration and run duration(accumulate)\n",
    "    epoch_duration = time.time() - self.epoch_start_time\n",
    "    run_duration = time.time() - self.run_start_time\n",
    "\n",
    "    # record epoch loss and accuracy\n",
    "    loss = self.epoch_loss / len(self.loader.dataset)\n",
    "    accuracy = self.epoch_num_correct / len(self.loader.dataset)\n",
    "\n",
    "    # Record epoch loss and accuracy to TensorBoard \n",
    "    self.tb.add_scalar('Loss', loss, self.epoch_count)\n",
    "    self.tb.add_scalar('Accuracy', accuracy, self.epoch_count)\n",
    "\n",
    "    # Record params to TensorBoard\n",
    "    for name, param in self.network.named_parameters():\n",
    "      self.tb.add_histogram(name, param, self.epoch_count)\n",
    "      self.tb.add_histogram(f'{name}.grad', param.grad, self.epoch_count)\n",
    "    \n",
    "    # Write into 'results' (OrderedDict) for all run related data\n",
    "    results = OrderedDict()\n",
    "    results[\"run\"] = self.run_count\n",
    "    results[\"epoch\"] = self.epoch_count\n",
    "    results[\"loss\"] = loss\n",
    "    results[\"accuracy\"] = accuracy\n",
    "    results[\"epoch duration\"] = epoch_duration\n",
    "    results[\"run duration\"] = run_duration\n",
    "\n",
    "    # Record hyper-params into 'results'\n",
    "    for k,v in self.run_params._asdict().items(): results[k] = v\n",
    "    self.run_data.append(results)\n",
    "    df = pd.DataFrame.from_dict(self.run_data, orient = 'columns')\n",
    "\n",
    "    # display epoch information and show progress\n",
    "    clear_output(wait=True)\n",
    "    display(df)\n",
    "\n",
    "  # accumulate loss of batch into entire epoch loss\n",
    "  def track_loss(self, loss):\n",
    "    # multiply batch size so variety of batch sizes can be compared\n",
    "    self.epoch_loss += loss.item() * self.loader.batch_size\n",
    "\n",
    "  # accumulate number of corrects of batch into entire epoch num_correct\n",
    "  def track_num_correct(self, preds, labels):\n",
    "    self.epoch_num_correct += self._get_num_correct(preds, labels)\n",
    "\n",
    "  @torch.no_grad()\n",
    "  def _get_num_correct(self, preds, labels):\n",
    "    return preds.argmax(dim=1).eq(labels).sum().item()\n",
    "  \n",
    "  # save end results of all runs into csv, json for further analysis\n",
    "  def save(self, fileName):\n",
    "\n",
    "    pd.DataFrame.from_dict(\n",
    "        self.run_data, \n",
    "        orient = 'columns',\n",
    "    ).to_csv(f'{fileName}.csv')\n",
    "\n",
    "    with open(f'{fileName}.json', 'w', encoding='utf-8') as f:\n",
    "      json.dump(self.run_data, f, ensure_ascii=False, indent=4)"
   ]
  },
  {
   "cell_type": "code",
   "execution_count": 251,
   "metadata": {},
   "outputs": [
    {
     "data": {
      "text/html": [
       "<div>\n",
       "<style scoped>\n",
       "    .dataframe tbody tr th:only-of-type {\n",
       "        vertical-align: middle;\n",
       "    }\n",
       "\n",
       "    .dataframe tbody tr th {\n",
       "        vertical-align: top;\n",
       "    }\n",
       "\n",
       "    .dataframe thead th {\n",
       "        text-align: right;\n",
       "    }\n",
       "</style>\n",
       "<table border=\"1\" class=\"dataframe\">\n",
       "  <thead>\n",
       "    <tr style=\"text-align: right;\">\n",
       "      <th></th>\n",
       "      <th>run</th>\n",
       "      <th>epoch</th>\n",
       "      <th>loss</th>\n",
       "      <th>accuracy</th>\n",
       "      <th>epoch duration</th>\n",
       "      <th>run duration</th>\n",
       "      <th>lr</th>\n",
       "      <th>batch_size</th>\n",
       "      <th>shuffle</th>\n",
       "    </tr>\n",
       "  </thead>\n",
       "  <tbody>\n",
       "    <tr>\n",
       "      <th>0</th>\n",
       "      <td>1</td>\n",
       "      <td>1</td>\n",
       "      <td>0.545659</td>\n",
       "      <td>0.794917</td>\n",
       "      <td>11.745786</td>\n",
       "      <td>11.903681</td>\n",
       "      <td>0.01</td>\n",
       "      <td>100</td>\n",
       "      <td>False</td>\n",
       "    </tr>\n",
       "    <tr>\n",
       "      <th>1</th>\n",
       "      <td>1</td>\n",
       "      <td>2</td>\n",
       "      <td>0.387330</td>\n",
       "      <td>0.856050</td>\n",
       "      <td>9.822685</td>\n",
       "      <td>21.827225</td>\n",
       "      <td>0.01</td>\n",
       "      <td>100</td>\n",
       "      <td>False</td>\n",
       "    </tr>\n",
       "    <tr>\n",
       "      <th>2</th>\n",
       "      <td>1</td>\n",
       "      <td>3</td>\n",
       "      <td>0.357752</td>\n",
       "      <td>0.866517</td>\n",
       "      <td>11.638314</td>\n",
       "      <td>33.592644</td>\n",
       "      <td>0.01</td>\n",
       "      <td>100</td>\n",
       "      <td>False</td>\n",
       "    </tr>\n",
       "    <tr>\n",
       "      <th>3</th>\n",
       "      <td>1</td>\n",
       "      <td>4</td>\n",
       "      <td>0.337304</td>\n",
       "      <td>0.874550</td>\n",
       "      <td>12.861645</td>\n",
       "      <td>46.612170</td>\n",
       "      <td>0.01</td>\n",
       "      <td>100</td>\n",
       "      <td>False</td>\n",
       "    </tr>\n",
       "    <tr>\n",
       "      <th>4</th>\n",
       "      <td>1</td>\n",
       "      <td>5</td>\n",
       "      <td>0.334217</td>\n",
       "      <td>0.877667</td>\n",
       "      <td>13.303794</td>\n",
       "      <td>60.109717</td>\n",
       "      <td>0.01</td>\n",
       "      <td>100</td>\n",
       "      <td>False</td>\n",
       "    </tr>\n",
       "    <tr>\n",
       "      <th>5</th>\n",
       "      <td>1</td>\n",
       "      <td>6</td>\n",
       "      <td>0.326837</td>\n",
       "      <td>0.878083</td>\n",
       "      <td>12.339510</td>\n",
       "      <td>72.568414</td>\n",
       "      <td>0.01</td>\n",
       "      <td>100</td>\n",
       "      <td>False</td>\n",
       "    </tr>\n",
       "    <tr>\n",
       "      <th>6</th>\n",
       "      <td>1</td>\n",
       "      <td>7</td>\n",
       "      <td>0.317808</td>\n",
       "      <td>0.882033</td>\n",
       "      <td>11.776830</td>\n",
       "      <td>84.530805</td>\n",
       "      <td>0.01</td>\n",
       "      <td>100</td>\n",
       "      <td>False</td>\n",
       "    </tr>\n",
       "    <tr>\n",
       "      <th>7</th>\n",
       "      <td>1</td>\n",
       "      <td>8</td>\n",
       "      <td>0.315728</td>\n",
       "      <td>0.882533</td>\n",
       "      <td>11.625902</td>\n",
       "      <td>96.341832</td>\n",
       "      <td>0.01</td>\n",
       "      <td>100</td>\n",
       "      <td>False</td>\n",
       "    </tr>\n",
       "    <tr>\n",
       "      <th>8</th>\n",
       "      <td>1</td>\n",
       "      <td>9</td>\n",
       "      <td>0.308057</td>\n",
       "      <td>0.884967</td>\n",
       "      <td>11.688294</td>\n",
       "      <td>108.177775</td>\n",
       "      <td>0.01</td>\n",
       "      <td>100</td>\n",
       "      <td>False</td>\n",
       "    </tr>\n",
       "    <tr>\n",
       "      <th>9</th>\n",
       "      <td>1</td>\n",
       "      <td>10</td>\n",
       "      <td>0.312149</td>\n",
       "      <td>0.884600</td>\n",
       "      <td>11.545153</td>\n",
       "      <td>119.891121</td>\n",
       "      <td>0.01</td>\n",
       "      <td>100</td>\n",
       "      <td>False</td>\n",
       "    </tr>\n",
       "  </tbody>\n",
       "</table>\n",
       "</div>"
      ],
      "text/plain": [
       "   run  epoch      loss  accuracy  epoch duration  run duration    lr  \\\n",
       "0    1      1  0.545659  0.794917       11.745786     11.903681  0.01   \n",
       "1    1      2  0.387330  0.856050        9.822685     21.827225  0.01   \n",
       "2    1      3  0.357752  0.866517       11.638314     33.592644  0.01   \n",
       "3    1      4  0.337304  0.874550       12.861645     46.612170  0.01   \n",
       "4    1      5  0.334217  0.877667       13.303794     60.109717  0.01   \n",
       "5    1      6  0.326837  0.878083       12.339510     72.568414  0.01   \n",
       "6    1      7  0.317808  0.882033       11.776830     84.530805  0.01   \n",
       "7    1      8  0.315728  0.882533       11.625902     96.341832  0.01   \n",
       "8    1      9  0.308057  0.884967       11.688294    108.177775  0.01   \n",
       "9    1     10  0.312149  0.884600       11.545153    119.891121  0.01   \n",
       "\n",
       "   batch_size  shuffle  \n",
       "0         100    False  \n",
       "1         100    False  \n",
       "2         100    False  \n",
       "3         100    False  \n",
       "4         100    False  \n",
       "5         100    False  \n",
       "6         100    False  \n",
       "7         100    False  \n",
       "8         100    False  \n",
       "9         100    False  "
      ]
     },
     "metadata": {},
     "output_type": "display_data"
    }
   ],
   "source": [
    "m = RunManager()\n",
    "\n",
    "# get all runs from params using RunBuilder class\n",
    "for run in RunBuilder.get_runs(params):\n",
    "\n",
    "    # if params changes, following line of code should reflect the changes too\n",
    "    network = Network()\n",
    "    loader = torch.utils.data.DataLoader(train_set, batch_size = run.batch_size)\n",
    "    optimizer = optim.Adam(network.parameters(), lr=run.lr)\n",
    "\n",
    "    m.begin_run(run, network, loader)\n",
    "    for epoch in range(epochs):\n",
    "      \n",
    "      m.begin_epoch()\n",
    "      for batch in loader:\n",
    "        \n",
    "        images = batch[0]\n",
    "        labels = batch[1]\n",
    "        preds = network(images)\n",
    "        loss = F.cross_entropy(preds, labels)\n",
    "\n",
    "        optimizer.zero_grad()\n",
    "        loss.backward()\n",
    "        optimizer.step()\n",
    "\n",
    "        m.track_loss(loss)\n",
    "        m.track_num_correct(preds, labels)\n",
    "\n",
    "      m.end_epoch()\n",
    "    m.end_run()\n",
    "\n",
    "# when all runs are done, save results to files\n",
    "m.save('results')"
   ]
  },
  {
   "cell_type": "code",
   "execution_count": 252,
   "metadata": {},
   "outputs": [],
   "source": [
    "def get_pil_transform(): \n",
    "    transf = transforms.Compose([\n",
    "        #transforms.Resize((28, 28)),\n",
    "    ])    \n",
    "\n",
    "    return transf\n",
    "\n",
    "def get_preprocess_transform():\n",
    "    transf = transforms.Compose([\n",
    "        #transforms.Resize((28, 28)),\n",
    "        transforms.ToTensor(),\n",
    "    ])    \n",
    "\n",
    "    return transf    \n",
    "\n",
    "pill_transf = get_pil_transform()\n",
    "preprocess_transform = get_preprocess_transform()"
   ]
  },
  {
   "cell_type": "code",
   "execution_count": 306,
   "metadata": {},
   "outputs": [],
   "source": [
    "def batch_predict(pred_images):\n",
    "    pred_images = pred_images[:,:,:,0]\n",
    "    batchy = torch.stack(tuple(preprocess_transform(i) for i in pred_images), dim=0)\n",
    "    \n",
    "    logits = network(batchy)\n",
    "    probs = F.softmax(logits, dim=1)\n",
    "    return probs.detach().numpy()"
   ]
  },
  {
   "cell_type": "code",
   "execution_count": 307,
   "metadata": {},
   "outputs": [],
   "source": [
    "def batch_true_predict(pred_images):\n",
    "    batchy = torch.stack(tuple(preprocess_transform(i) for i in pred_images), dim=0)\n",
    "    \n",
    "    logits = network(batchy)\n",
    "    probs = F.softmax(logits, dim=1)\n",
    "    return probs.detach().numpy()"
   ]
  },
  {
   "cell_type": "code",
   "execution_count": 308,
   "metadata": {},
   "outputs": [],
   "source": [
    "test_dataloader      = torch.utils.data.DataLoader(train_set, batch_size=1, shuffle=False, num_workers=0)\n",
    "imgs, lbls  = iter(test_dataloader).next()\n",
    "\n",
    "img = torchvision.transforms.ToPILImage()(imgs[0])"
   ]
  },
  {
   "cell_type": "code",
   "execution_count": 309,
   "metadata": {},
   "outputs": [
    {
     "name": "stdout",
     "output_type": "stream",
     "text": [
      "tensor(9)\n"
     ]
    },
    {
     "data": {
      "image/png": "[encoded data removed]",
      "text/plain": [
       "<Figure size 432x288 with 1 Axes>"
      ]
     },
     "metadata": {
      "needs_background": "light"
     },
     "output_type": "display_data"
    }
   ],
   "source": [
    "import matplotlib.pyplot as plt\n",
    "import numpy as np\n",
    "\n",
    "plt.imshow(img)\n",
    "print(lbls[0])"
   ]
  },
  {
   "cell_type": "code",
   "execution_count": 310,
   "metadata": {},
   "outputs": [
    {
     "data": {
      "image/png": "[encoded data removed]",
      "text/plain": [
       "<PIL.Image.Image image mode=L size=28x28 at 0x7FC4644B0D30>"
      ]
     },
     "execution_count": 310,
     "metadata": {},
     "output_type": "execute_result"
    }
   ],
   "source": [
    "img"
   ]
  },
  {
   "cell_type": "code",
   "execution_count": 311,
   "metadata": {},
   "outputs": [
    {
     "data": {
      "text/plain": [
       "(28, 28)"
      ]
     },
     "execution_count": 311,
     "metadata": {},
     "output_type": "execute_result"
    }
   ],
   "source": [
    "pix = np.array(img)\n",
    "pix.shape"
   ]
  },
  {
   "cell_type": "code",
   "execution_count": 355,
   "metadata": {},
   "outputs": [
    {
     "data": {
      "application/vnd.jupyter.widget-view+json": {
       "model_id": "dc930a24fb3c4903b1a6f6fba14d2282",
       "version_major": 2,
       "version_minor": 0
      },
      "text/plain": [
       "  0%|          | 0/10000 [00:00<?, ?it/s]"
      ]
     },
     "metadata": {},
     "output_type": "display_data"
    }
   ],
   "source": [
    "from lime import lime_image\n",
    "\n",
    "explainer = lime_image.LimeImageExplainer()\n",
    "explanation = explainer.explain_instance(pix, \n",
    "                                         batch_predict, # classification function\n",
    "                                         #top_labels=5, \n",
    "                                         hide_color=0, \n",
    "                                         num_samples=10000) # number of images that will be sent to classification function"
   ]
  },
  {
   "cell_type": "code",
   "execution_count": 358,
   "metadata": {},
   "outputs": [
    {
     "data": {
      "text/plain": [
       "{8: [(0, -0.0002411941253880075)],\n",
       " 0: [(0, -1.0986109724796382e-05)],\n",
       " 5: [(0, -0.6263060475352338)],\n",
       " 7: [(0, 0.0001365226207833835)],\n",
       " 9: [(0, 0.6274601539285981)]}"
      ]
     },
     "execution_count": 358,
     "metadata": {},
     "output_type": "execute_result"
    }
   ],
   "source": [
    "explanation.local_exp"
   ]
  },
  {
   "cell_type": "code",
   "execution_count": 356,
   "metadata": {},
   "outputs": [
    {
     "name": "stderr",
     "output_type": "stream",
     "text": [
      "Clipping input data to the valid range for imshow with RGB data ([0..1] for floats or [0..255] for integers).\n"
     ]
    },
    {
     "data": {
      "text/plain": [
       "<matplotlib.image.AxesImage at 0x7fc4638d5438>"
      ]
     },
     "execution_count": 356,
     "metadata": {},
     "output_type": "execute_result"
    },
    {
     "data": {
      "image/png": "[encoded data removed]",
      "text/plain": [
       "<Figure size 432x288 with 1 Axes>"
      ]
     },
     "metadata": {
      "needs_background": "light"
     },
     "output_type": "display_data"
    }
   ],
   "source": [
    "from skimage.segmentation import mark_boundaries\n",
    "\n",
    "temp, mask = explanation.get_image_and_mask(explanation.top_labels[0], positive_only=True, num_features=5, hide_rest=False)\n",
    "img_boundry1 = mark_boundaries(temp/28, mask)\n",
    "plt.imshow(img_boundry1)"
   ]
  },
  {
   "cell_type": "code",
   "execution_count": 357,
   "metadata": {},
   "outputs": [
    {
     "name": "stderr",
     "output_type": "stream",
     "text": [
      "Clipping input data to the valid range for imshow with RGB data ([0..1] for floats or [0..255] for integers).\n"
     ]
    },
    {
     "data": {
      "text/plain": [
       "<matplotlib.image.AxesImage at 0x7fc45c09fba8>"
      ]
     },
     "execution_count": 357,
     "metadata": {},
     "output_type": "execute_result"
    },
    {
     "data": {
      "image/png": "[encoded data removed]",
      "text/plain": [
       "<Figure size 432x288 with 1 Axes>"
      ]
     },
     "metadata": {
      "needs_background": "light"
     },
     "output_type": "display_data"
    }
   ],
   "source": [
    "temp, mask = explanation.get_image_and_mask(explanation.top_labels[0], positive_only=False, num_features=10, hide_rest=False)\n",
    "img_boundry2 = mark_boundaries(temp/28, mask)\n",
    "plt.imshow(img_boundry2)"
   ]
  },
  {
   "cell_type": "code",
   "execution_count": 313,
   "metadata": {},
   "outputs": [],
   "source": [
    "sample_size = 1000\n",
    "sample_lbls = []\n",
    "sample_imgs = []\n",
    "\n",
    "iterator = iter(torch.utils.data.DataLoader(train_set, batch_size=1, shuffle=False, num_workers=0))\n",
    "\n",
    "for i in range(samp_size):\n",
    "    img, lbl  = next(iterator)\n",
    "    img = torchvision.transforms.ToPILImage()(img[0])\n",
    "    sample_lbls.append(lbl)\n",
    "    sample_imgs.append(img)"
   ]
  },
  {
   "cell_type": "code",
   "execution_count": 314,
   "metadata": {},
   "outputs": [
    {
     "data": {
      "image/png": "[encoded data removed]",
      "text/plain": [
       "<PIL.Image.Image image mode=L size=28x28 at 0x7FC46446AB70>"
      ]
     },
     "execution_count": 314,
     "metadata": {},
     "output_type": "execute_result"
    }
   ],
   "source": [
    "img"
   ]
  },
  {
   "cell_type": "code",
   "execution_count": 316,
   "metadata": {},
   "outputs": [],
   "source": [
    "true_preds = batch_true_predict(sample_imgs)"
   ]
  },
  {
   "cell_type": "code",
   "execution_count": 324,
   "metadata": {},
   "outputs": [
    {
     "name": "stderr",
     "output_type": "stream",
     "text": [
      "\r",
      "  0%|          | 0/1000 [00:00<?, ?it/s]"
     ]
    },
    {
     "data": {
      "application/vnd.jupyter.widget-view+json": {
       "model_id": "11582a902f004dcc86860b8c2846d703",
       "version_major": 2,
       "version_minor": 0
      },
      "text/plain": [
       "  0%|          | 0/1000 [00:00<?, ?it/s]"
      ]
     },
     "metadata": {},
     "output_type": "display_data"
    },
    {
     "name": "stderr",
     "output_type": "stream",
     "text": [
      "\r",
      "  0%|          | 1/1000 [00:00<05:06,  3.26it/s]"
     ]
    },
    {
     "data": {
      "application/vnd.jupyter.widget-view+json": {
       "model_id": "7c697cbd59c3437f960a29f3fa400393",
       "version_major": 2,
       "version_minor": 0
      },
      "text/plain": [
       "  0%|          | 0/1000 [00:00<?, ?it/s]"
      ]
     },
     "metadata": {},
     "output_type": "display_data"
    },
    {
     "name": "stderr",
     "output_type": "stream",
     "text": [
      "\r",
      "  0%|          | 2/1000 [00:00<05:30,  3.02it/s]"
     ]
    },
    {
     "data": {
      "application/vnd.jupyter.widget-view+json": {
       "model_id": "73fcecbf32ca40818894d9c628bf4dee",
       "version_major": 2,
       "version_minor": 0
      },
      "text/plain": [
       "  0%|          | 0/1000 [00:00<?, ?it/s]"
      ]
     },
     "metadata": {},
     "output_type": "display_data"
    },
    {
     "name": "stderr",
     "output_type": "stream",
     "text": [
      "\r",
      "  0%|          | 3/1000 [00:00<04:59,  3.33it/s]"
     ]
    },
    {
     "data": {
      "application/vnd.jupyter.widget-view+json": {
       "model_id": "cadbd35887444a3385a28a3f07107f00",
       "version_major": 2,
       "version_minor": 0
      },
      "text/plain": [
       "  0%|          | 0/1000 [00:00<?, ?it/s]"
      ]
     },
     "metadata": {},
     "output_type": "display_data"
    },
    {
     "name": "stderr",
     "output_type": "stream",
     "text": [
      "\r",
      "  0%|          | 4/1000 [00:01<04:40,  3.55it/s]"
     ]
    },
    {
     "data": {
      "application/vnd.jupyter.widget-view+json": {
       "model_id": "b9557de439e042858db1de3393f086f1",
       "version_major": 2,
       "version_minor": 0
      },
      "text/plain": [
       "  0%|          | 0/1000 [00:00<?, ?it/s]"
      ]
     },
     "metadata": {},
     "output_type": "display_data"
    },
    {
     "name": "stderr",
     "output_type": "stream",
     "text": [
      "\r",
      "  0%|          | 5/1000 [00:01<05:26,  3.05it/s]"
     ]
    },
    {
     "data": {
      "application/vnd.jupyter.widget-view+json": {
       "model_id": "8cfea25e537a494aba028ae7e9b76794",
       "version_major": 2,
       "version_minor": 0
      },
      "text/plain": [
       "  0%|          | 0/1000 [00:00<?, ?it/s]"
      ]
     },
     "metadata": {},
     "output_type": "display_data"
    },
    {
     "name": "stderr",
     "output_type": "stream",
     "text": [
      "\r",
      "  1%|          | 6/1000 [00:02<06:33,  2.53it/s]"
     ]
    },
    {
     "data": {
      "application/vnd.jupyter.widget-view+json": {
       "model_id": "9856096827a3477bb8e0185429add14f",
       "version_major": 2,
       "version_minor": 0
      },
      "text/plain": [
       "  0%|          | 0/1000 [00:00<?, ?it/s]"
      ]
     },
     "metadata": {},
     "output_type": "display_data"
    },
    {
     "name": "stderr",
     "output_type": "stream",
     "text": [
      "\r",
      "  1%|          | 7/1000 [00:02<05:52,  2.82it/s]"
     ]
    },
    {
     "data": {
      "application/vnd.jupyter.widget-view+json": {
       "model_id": "d7b12b9b175b45adbf53b17ff01b13c6",
       "version_major": 2,
       "version_minor": 0
      },
      "text/plain": [
       "  0%|          | 0/1000 [00:00<?, ?it/s]"
      ]
     },
     "metadata": {},
     "output_type": "display_data"
    },
    {
     "name": "stderr",
     "output_type": "stream",
     "text": [
      "\r",
      "  1%|          | 8/1000 [00:02<05:26,  3.04it/s]"
     ]
    },
    {
     "data": {
      "application/vnd.jupyter.widget-view+json": {
       "model_id": "c353a960ef99472f8e0654f0f1292799",
       "version_major": 2,
       "version_minor": 0
      },
      "text/plain": [
       "  0%|          | 0/1000 [00:00<?, ?it/s]"
      ]
     },
     "metadata": {},
     "output_type": "display_data"
    },
    {
     "name": "stderr",
     "output_type": "stream",
     "text": [
      "\r",
      "  1%|          | 9/1000 [00:02<05:01,  3.28it/s]"
     ]
    },
    {
     "data": {
      "application/vnd.jupyter.widget-view+json": {
       "model_id": "3bee5d7c80c547eea2acec8b0cb0b373",
       "version_major": 2,
       "version_minor": 0
      },
      "text/plain": [
       "  0%|          | 0/1000 [00:00<?, ?it/s]"
      ]
     },
     "metadata": {},
     "output_type": "display_data"
    },
    {
     "name": "stderr",
     "output_type": "stream",
     "text": [
      "\r",
      "  1%|          | 10/1000 [00:03<04:46,  3.46it/s]"
     ]
    },
    {
     "data": {
      "application/vnd.jupyter.widget-view+json": {
       "model_id": "73a2ac907d6b4d5b8df060549b386a25",
       "version_major": 2,
       "version_minor": 0
      },
      "text/plain": [
       "  0%|          | 0/1000 [00:00<?, ?it/s]"
      ]
     },
     "metadata": {},
     "output_type": "display_data"
    },
    {
     "name": "stderr",
     "output_type": "stream",
     "text": [
      "\r",
      "  1%|          | 11/1000 [00:03<05:15,  3.14it/s]"
     ]
    },
    {
     "data": {
      "application/vnd.jupyter.widget-view+json": {
       "model_id": "0084ed62f3454963ac955431fb53d681",
       "version_major": 2,
       "version_minor": 0
      },
      "text/plain": [
       "  0%|          | 0/1000 [00:00<?, ?it/s]"
      ]
     },
     "metadata": {},
     "output_type": "display_data"
    },
    {
     "name": "stderr",
     "output_type": "stream",
     "text": [
      "\r",
      "  1%|          | 12/1000 [00:03<05:34,  2.95it/s]"
     ]
    },
    {
     "data": {
      "application/vnd.jupyter.widget-view+json": {
       "model_id": "bd9aeb321b674e4bbaa2f5f63f1d7e61",
       "version_major": 2,
       "version_minor": 0
      },
      "text/plain": [
       "  0%|          | 0/1000 [00:00<?, ?it/s]"
      ]
     },
     "metadata": {},
     "output_type": "display_data"
    },
    {
     "name": "stderr",
     "output_type": "stream",
     "text": [
      "\r",
      "  1%|▏         | 13/1000 [00:04<06:11,  2.66it/s]"
     ]
    },
    {
     "data": {
      "application/vnd.jupyter.widget-view+json": {
       "model_id": "58d08ace86e44c24a174a80d5a10ac26",
       "version_major": 2,
       "version_minor": 0
      },
      "text/plain": [
       "  0%|          | 0/1000 [00:00<?, ?it/s]"
      ]
     },
     "metadata": {},
     "output_type": "display_data"
    },
    {
     "name": "stderr",
     "output_type": "stream",
     "text": [
      "\r",
      "  1%|▏         | 14/1000 [00:04<05:37,  2.92it/s]"
     ]
    },
    {
     "data": {
      "application/vnd.jupyter.widget-view+json": {
       "model_id": "ad1bcfe7053c4f0c812c56a2ab11dd32",
       "version_major": 2,
       "version_minor": 0
      },
      "text/plain": [
       "  0%|          | 0/1000 [00:00<?, ?it/s]"
      ]
     },
     "metadata": {},
     "output_type": "display_data"
    },
    {
     "name": "stderr",
     "output_type": "stream",
     "text": [
      "\r",
      "  2%|▏         | 15/1000 [00:04<05:05,  3.22it/s]"
     ]
    },
    {
     "data": {
      "application/vnd.jupyter.widget-view+json": {
       "model_id": "0114866883e74087b545d557fbb8fdc5",
       "version_major": 2,
       "version_minor": 0
      },
      "text/plain": [
       "  0%|          | 0/1000 [00:00<?, ?it/s]"
      ]
     },
     "metadata": {},
     "output_type": "display_data"
    },
    {
     "name": "stderr",
     "output_type": "stream",
     "text": [
      "\r",
      "  2%|▏         | 16/1000 [00:05<04:33,  3.60it/s]"
     ]
    },
    {
     "data": {
      "application/vnd.jupyter.widget-view+json": {
       "model_id": "0f3070dcd28545a3adc9b32113bc4597",
       "version_major": 2,
       "version_minor": 0
      },
      "text/plain": [
       "  0%|          | 0/1000 [00:00<?, ?it/s]"
      ]
     },
     "metadata": {},
     "output_type": "display_data"
    },
    {
     "name": "stderr",
     "output_type": "stream",
     "text": [
      "\r",
      "  2%|▏         | 17/1000 [00:05<05:08,  3.19it/s]"
     ]
    },
    {
     "data": {
      "application/vnd.jupyter.widget-view+json": {
       "model_id": "9caea1b103ef4e8191b817de01a8c849",
       "version_major": 2,
       "version_minor": 0
      },
      "text/plain": [
       "  0%|          | 0/1000 [00:00<?, ?it/s]"
      ]
     },
     "metadata": {},
     "output_type": "display_data"
    },
    {
     "name": "stderr",
     "output_type": "stream",
     "text": [
      "\r",
      "  2%|▏         | 18/1000 [00:05<05:48,  2.82it/s]"
     ]
    },
    {
     "data": {
      "application/vnd.jupyter.widget-view+json": {
       "model_id": "af7e8aeeecb3413b9e735f2208ffb9e1",
       "version_major": 2,
       "version_minor": 0
      },
      "text/plain": [
       "  0%|          | 0/1000 [00:00<?, ?it/s]"
      ]
     },
     "metadata": {},
     "output_type": "display_data"
    },
    {
     "name": "stderr",
     "output_type": "stream",
     "text": [
      "\r",
      "  2%|▏         | 19/1000 [00:06<05:23,  3.04it/s]"
     ]
    },
    {
     "data": {
      "application/vnd.jupyter.widget-view+json": {
       "model_id": "88f5b42f795d43fdb160d6c35b970ee1",
       "version_major": 2,
       "version_minor": 0
      },
      "text/plain": [
       "  0%|          | 0/1000 [00:00<?, ?it/s]"
      ]
     },
     "metadata": {},
     "output_type": "display_data"
    },
    {
     "name": "stderr",
     "output_type": "stream",
     "text": [
      "\r",
      "  2%|▏         | 20/1000 [00:06<05:07,  3.18it/s]"
     ]
    },
    {
     "data": {
      "application/vnd.jupyter.widget-view+json": {
       "model_id": "422d6a7286784c97a1bd6ca7e847ae13",
       "version_major": 2,
       "version_minor": 0
      },
      "text/plain": [
       "  0%|          | 0/1000 [00:00<?, ?it/s]"
      ]
     },
     "metadata": {},
     "output_type": "display_data"
    },
    {
     "name": "stderr",
     "output_type": "stream",
     "text": [
      "\r",
      "  2%|▏         | 21/1000 [00:06<04:36,  3.55it/s]"
     ]
    },
    {
     "data": {
      "application/vnd.jupyter.widget-view+json": {
       "model_id": "157888ea9c344a8992c9c3957908ec29",
       "version_major": 2,
       "version_minor": 0
      },
      "text/plain": [
       "  0%|          | 0/1000 [00:00<?, ?it/s]"
      ]
     },
     "metadata": {},
     "output_type": "display_data"
    },
    {
     "name": "stderr",
     "output_type": "stream",
     "text": [
      "\r",
      "  2%|▏         | 22/1000 [00:06<04:14,  3.84it/s]"
     ]
    },
    {
     "data": {
      "application/vnd.jupyter.widget-view+json": {
       "model_id": "1dd09402e4ae40ef8b84bf7301085411",
       "version_major": 2,
       "version_minor": 0
      },
      "text/plain": [
       "  0%|          | 0/1000 [00:00<?, ?it/s]"
      ]
     },
     "metadata": {},
     "output_type": "display_data"
    },
    {
     "name": "stderr",
     "output_type": "stream",
     "text": [
      "\r",
      "  2%|▏         | 23/1000 [00:07<04:42,  3.46it/s]"
     ]
    },
    {
     "data": {
      "application/vnd.jupyter.widget-view+json": {
       "model_id": "31aa1e59d6cd47aa888d5208e111a5b9",
       "version_major": 2,
       "version_minor": 0
      },
      "text/plain": [
       "  0%|          | 0/1000 [00:00<?, ?it/s]"
      ]
     },
     "metadata": {},
     "output_type": "display_data"
    },
    {
     "name": "stderr",
     "output_type": "stream",
     "text": [
      "\r",
      "  2%|▏         | 24/1000 [00:07<05:51,  2.78it/s]"
     ]
    },
    {
     "data": {
      "application/vnd.jupyter.widget-view+json": {
       "model_id": "2a97737194ae47f1a83b4d94eea0df85",
       "version_major": 2,
       "version_minor": 0
      },
      "text/plain": [
       "  0%|          | 0/1000 [00:00<?, ?it/s]"
      ]
     },
     "metadata": {},
     "output_type": "display_data"
    },
    {
     "name": "stderr",
     "output_type": "stream",
     "text": [
      "\r",
      "  2%|▎         | 25/1000 [00:08<05:36,  2.90it/s]"
     ]
    },
    {
     "data": {
      "application/vnd.jupyter.widget-view+json": {
       "model_id": "60eee78ee4f84d0694f0ff5a11c106ad",
       "version_major": 2,
       "version_minor": 0
      },
      "text/plain": [
       "  0%|          | 0/1000 [00:00<?, ?it/s]"
      ]
     },
     "metadata": {},
     "output_type": "display_data"
    },
    {
     "name": "stderr",
     "output_type": "stream",
     "text": [
      "\r",
      "  3%|▎         | 26/1000 [00:08<04:55,  3.29it/s]"
     ]
    },
    {
     "data": {
      "application/vnd.jupyter.widget-view+json": {
       "model_id": "05adffdaf65b4dc690dd1163ebf32bb9",
       "version_major": 2,
       "version_minor": 0
      },
      "text/plain": [
       "  0%|          | 0/1000 [00:00<?, ?it/s]"
      ]
     },
     "metadata": {},
     "output_type": "display_data"
    },
    {
     "name": "stderr",
     "output_type": "stream",
     "text": [
      "\r",
      "  3%|▎         | 27/1000 [00:08<04:22,  3.70it/s]"
     ]
    },
    {
     "data": {
      "application/vnd.jupyter.widget-view+json": {
       "model_id": "bc35de5442f244629d2da58211b4bf6d",
       "version_major": 2,
       "version_minor": 0
      },
      "text/plain": [
       "  0%|          | 0/1000 [00:00<?, ?it/s]"
      ]
     },
     "metadata": {},
     "output_type": "display_data"
    },
    {
     "name": "stderr",
     "output_type": "stream",
     "text": [
      "\r",
      "  3%|▎         | 28/1000 [00:08<04:00,  4.04it/s]"
     ]
    },
    {
     "data": {
      "application/vnd.jupyter.widget-view+json": {
       "model_id": "70dd7667973e41b8bc3c5540511ffe76",
       "version_major": 2,
       "version_minor": 0
      },
      "text/plain": [
       "  0%|          | 0/1000 [00:00<?, ?it/s]"
      ]
     },
     "metadata": {},
     "output_type": "display_data"
    },
    {
     "name": "stderr",
     "output_type": "stream",
     "text": [
      "\r",
      "  3%|▎         | 29/1000 [00:08<03:48,  4.25it/s]"
     ]
    },
    {
     "data": {
      "application/vnd.jupyter.widget-view+json": {
       "model_id": "231bef042bcd483d80a420acfdda3cff",
       "version_major": 2,
       "version_minor": 0
      },
      "text/plain": [
       "  0%|          | 0/1000 [00:00<?, ?it/s]"
      ]
     },
     "metadata": {},
     "output_type": "display_data"
    },
    {
     "name": "stderr",
     "output_type": "stream",
     "text": [
      "\r",
      "  3%|▎         | 30/1000 [00:09<03:36,  4.48it/s]"
     ]
    },
    {
     "data": {
      "application/vnd.jupyter.widget-view+json": {
       "model_id": "f4589c5485444d02822602b1dca8e05a",
       "version_major": 2,
       "version_minor": 0
      },
      "text/plain": [
       "  0%|          | 0/1000 [00:00<?, ?it/s]"
      ]
     },
     "metadata": {},
     "output_type": "display_data"
    },
    {
     "name": "stderr",
     "output_type": "stream",
     "text": [
      "\r",
      "  3%|▎         | 31/1000 [00:09<03:30,  4.61it/s]"
     ]
    },
    {
     "data": {
      "application/vnd.jupyter.widget-view+json": {
       "model_id": "9d4f1605b24d49d29844d5b55ed608c6",
       "version_major": 2,
       "version_minor": 0
      },
      "text/plain": [
       "  0%|          | 0/1000 [00:00<?, ?it/s]"
      ]
     },
     "metadata": {},
     "output_type": "display_data"
    },
    {
     "name": "stderr",
     "output_type": "stream",
     "text": [
      "\r",
      "  3%|▎         | 32/1000 [00:09<03:30,  4.60it/s]"
     ]
    },
    {
     "data": {
      "application/vnd.jupyter.widget-view+json": {
       "model_id": "e24754e61d9c45da8e54f84a1e682f2f",
       "version_major": 2,
       "version_minor": 0
      },
      "text/plain": [
       "  0%|          | 0/1000 [00:00<?, ?it/s]"
      ]
     },
     "metadata": {},
     "output_type": "display_data"
    },
    {
     "name": "stderr",
     "output_type": "stream",
     "text": [
      "\r",
      "  3%|▎         | 33/1000 [00:09<03:24,  4.72it/s]"
     ]
    },
    {
     "data": {
      "application/vnd.jupyter.widget-view+json": {
       "model_id": "a084baa9189748d6925525ae14b2251e",
       "version_major": 2,
       "version_minor": 0
      },
      "text/plain": [
       "  0%|          | 0/1000 [00:00<?, ?it/s]"
      ]
     },
     "metadata": {},
     "output_type": "display_data"
    },
    {
     "name": "stderr",
     "output_type": "stream",
     "text": [
      "\r",
      "  3%|▎         | 34/1000 [00:09<03:24,  4.72it/s]"
     ]
    },
    {
     "data": {
      "application/vnd.jupyter.widget-view+json": {
       "model_id": "4857b966b2d947d189e840b8122fb83b",
       "version_major": 2,
       "version_minor": 0
      },
      "text/plain": [
       "  0%|          | 0/1000 [00:00<?, ?it/s]"
      ]
     },
     "metadata": {},
     "output_type": "display_data"
    },
    {
     "name": "stderr",
     "output_type": "stream",
     "text": [
      "\r",
      "  4%|▎         | 35/1000 [00:10<03:27,  4.64it/s]"
     ]
    },
    {
     "data": {
      "application/vnd.jupyter.widget-view+json": {
       "model_id": "9c812fa572e14d19b179d44da56810ff",
       "version_major": 2,
       "version_minor": 0
      },
      "text/plain": [
       "  0%|          | 0/1000 [00:00<?, ?it/s]"
      ]
     },
     "metadata": {},
     "output_type": "display_data"
    },
    {
     "name": "stderr",
     "output_type": "stream",
     "text": [
      "\r",
      "  4%|▎         | 36/1000 [00:10<03:25,  4.68it/s]"
     ]
    },
    {
     "data": {
      "application/vnd.jupyter.widget-view+json": {
       "model_id": "c7092d4a2e7a4937b6912706a1fd31fe",
       "version_major": 2,
       "version_minor": 0
      },
      "text/plain": [
       "  0%|          | 0/1000 [00:00<?, ?it/s]"
      ]
     },
     "metadata": {},
     "output_type": "display_data"
    },
    {
     "name": "stderr",
     "output_type": "stream",
     "text": [
      "\r",
      "  4%|▎         | 37/1000 [00:10<03:27,  4.65it/s]"
     ]
    },
    {
     "data": {
      "application/vnd.jupyter.widget-view+json": {
       "model_id": "e5d47c91b23444a990f14ecab534d305",
       "version_major": 2,
       "version_minor": 0
      },
      "text/plain": [
       "  0%|          | 0/1000 [00:00<?, ?it/s]"
      ]
     },
     "metadata": {},
     "output_type": "display_data"
    },
    {
     "name": "stderr",
     "output_type": "stream",
     "text": [
      "\r",
      "  4%|▍         | 38/1000 [00:10<03:24,  4.71it/s]"
     ]
    },
    {
     "data": {
      "application/vnd.jupyter.widget-view+json": {
       "model_id": "a47ca895b045415ba32baf85ddb81ecf",
       "version_major": 2,
       "version_minor": 0
      },
      "text/plain": [
       "  0%|          | 0/1000 [00:00<?, ?it/s]"
      ]
     },
     "metadata": {},
     "output_type": "display_data"
    },
    {
     "name": "stderr",
     "output_type": "stream",
     "text": [
      "\r",
      "  4%|▍         | 39/1000 [00:10<03:22,  4.74it/s]"
     ]
    },
    {
     "data": {
      "application/vnd.jupyter.widget-view+json": {
       "model_id": "be086300bc804e0c82c8d5762bcf5119",
       "version_major": 2,
       "version_minor": 0
      },
      "text/plain": [
       "  0%|          | 0/1000 [00:00<?, ?it/s]"
      ]
     },
     "metadata": {},
     "output_type": "display_data"
    },
    {
     "name": "stderr",
     "output_type": "stream",
     "text": [
      "\r",
      "  4%|▍         | 40/1000 [00:11<03:16,  4.88it/s]"
     ]
    },
    {
     "data": {
      "application/vnd.jupyter.widget-view+json": {
       "model_id": "bd862a3fb0234cb9b41fd0510f7c777a",
       "version_major": 2,
       "version_minor": 0
      },
      "text/plain": [
       "  0%|          | 0/1000 [00:00<?, ?it/s]"
      ]
     },
     "metadata": {},
     "output_type": "display_data"
    },
    {
     "name": "stderr",
     "output_type": "stream",
     "text": [
      "\r",
      "  4%|▍         | 41/1000 [00:11<03:28,  4.61it/s]"
     ]
    },
    {
     "data": {
      "application/vnd.jupyter.widget-view+json": {
       "model_id": "80097250d1b44a1f8c26b43b2f95b38d",
       "version_major": 2,
       "version_minor": 0
      },
      "text/plain": [
       "  0%|          | 0/1000 [00:00<?, ?it/s]"
      ]
     },
     "metadata": {},
     "output_type": "display_data"
    },
    {
     "name": "stderr",
     "output_type": "stream",
     "text": [
      "\r",
      "  4%|▍         | 42/1000 [00:11<03:25,  4.66it/s]"
     ]
    },
    {
     "data": {
      "application/vnd.jupyter.widget-view+json": {
       "model_id": "7446b356db3a4082a44f7701c784df6e",
       "version_major": 2,
       "version_minor": 0
      },
      "text/plain": [
       "  0%|          | 0/1000 [00:00<?, ?it/s]"
      ]
     },
     "metadata": {},
     "output_type": "display_data"
    },
    {
     "name": "stderr",
     "output_type": "stream",
     "text": [
      "\r",
      "  4%|▍         | 43/1000 [00:11<03:25,  4.65it/s]"
     ]
    },
    {
     "data": {
      "application/vnd.jupyter.widget-view+json": {
       "model_id": "19cb17be97f0401fa0034acc70c9b872",
       "version_major": 2,
       "version_minor": 0
      },
      "text/plain": [
       "  0%|          | 0/1000 [00:00<?, ?it/s]"
      ]
     },
     "metadata": {},
     "output_type": "display_data"
    },
    {
     "name": "stderr",
     "output_type": "stream",
     "text": [
      "\r",
      "  4%|▍         | 44/1000 [00:12<03:27,  4.61it/s]"
     ]
    },
    {
     "data": {
      "application/vnd.jupyter.widget-view+json": {
       "model_id": "505b4dcf52804733b130cfb63d2a298e",
       "version_major": 2,
       "version_minor": 0
      },
      "text/plain": [
       "  0%|          | 0/1000 [00:00<?, ?it/s]"
      ]
     },
     "metadata": {},
     "output_type": "display_data"
    },
    {
     "name": "stderr",
     "output_type": "stream",
     "text": [
      "\r",
      "  4%|▍         | 45/1000 [00:12<03:21,  4.74it/s]"
     ]
    },
    {
     "data": {
      "application/vnd.jupyter.widget-view+json": {
       "model_id": "6a6ffa62389440358fdf0073261c01ac",
       "version_major": 2,
       "version_minor": 0
      },
      "text/plain": [
       "  0%|          | 0/1000 [00:00<?, ?it/s]"
      ]
     },
     "metadata": {},
     "output_type": "display_data"
    },
    {
     "name": "stderr",
     "output_type": "stream",
     "text": [
      "\r",
      "  5%|▍         | 46/1000 [00:12<03:17,  4.83it/s]"
     ]
    },
    {
     "data": {
      "application/vnd.jupyter.widget-view+json": {
       "model_id": "64b3d48dc9ba42eb93c03be2696e5013",
       "version_major": 2,
       "version_minor": 0
      },
      "text/plain": [
       "  0%|          | 0/1000 [00:00<?, ?it/s]"
      ]
     },
     "metadata": {},
     "output_type": "display_data"
    },
    {
     "name": "stderr",
     "output_type": "stream",
     "text": [
      "\r",
      "  5%|▍         | 47/1000 [00:12<03:16,  4.84it/s]"
     ]
    },
    {
     "data": {
      "application/vnd.jupyter.widget-view+json": {
       "model_id": "7adc909cd30f48869ecf96b1ba69d79a",
       "version_major": 2,
       "version_minor": 0
      },
      "text/plain": [
       "  0%|          | 0/1000 [00:00<?, ?it/s]"
      ]
     },
     "metadata": {},
     "output_type": "display_data"
    },
    {
     "name": "stderr",
     "output_type": "stream",
     "text": [
      "\r",
      "  5%|▍         | 48/1000 [00:12<03:12,  4.94it/s]"
     ]
    },
    {
     "data": {
      "application/vnd.jupyter.widget-view+json": {
       "model_id": "cff27a8f289343f3973b9827457f660c",
       "version_major": 2,
       "version_minor": 0
      },
      "text/plain": [
       "  0%|          | 0/1000 [00:00<?, ?it/s]"
      ]
     },
     "metadata": {},
     "output_type": "display_data"
    },
    {
     "name": "stderr",
     "output_type": "stream",
     "text": [
      "\r",
      "  5%|▍         | 49/1000 [00:13<03:11,  4.96it/s]"
     ]
    },
    {
     "data": {
      "application/vnd.jupyter.widget-view+json": {
       "model_id": "ed6caf516d57427692901328e6daff9a",
       "version_major": 2,
       "version_minor": 0
      },
      "text/plain": [
       "  0%|          | 0/1000 [00:00<?, ?it/s]"
      ]
     },
     "metadata": {},
     "output_type": "display_data"
    },
    {
     "name": "stderr",
     "output_type": "stream",
     "text": [
      "\r",
      "  5%|▌         | 50/1000 [00:13<03:09,  5.01it/s]"
     ]
    },
    {
     "data": {
      "application/vnd.jupyter.widget-view+json": {
       "model_id": "d9a27bd543434d1c8b30d1185b484e09",
       "version_major": 2,
       "version_minor": 0
      },
      "text/plain": [
       "  0%|          | 0/1000 [00:00<?, ?it/s]"
      ]
     },
     "metadata": {},
     "output_type": "display_data"
    },
    {
     "name": "stderr",
     "output_type": "stream",
     "text": [
      "\r",
      "  5%|▌         | 51/1000 [00:13<03:09,  5.00it/s]"
     ]
    },
    {
     "data": {
      "application/vnd.jupyter.widget-view+json": {
       "model_id": "2ef3acce77a4420cadde1a9f1eb3df32",
       "version_major": 2,
       "version_minor": 0
      },
      "text/plain": [
       "  0%|          | 0/1000 [00:00<?, ?it/s]"
      ]
     },
     "metadata": {},
     "output_type": "display_data"
    },
    {
     "name": "stderr",
     "output_type": "stream",
     "text": [
      "\r",
      "  5%|▌         | 52/1000 [00:13<03:08,  5.03it/s]"
     ]
    },
    {
     "data": {
      "application/vnd.jupyter.widget-view+json": {
       "model_id": "d67d8c3c7e82472a8f5fdcb468ee2a55",
       "version_major": 2,
       "version_minor": 0
      },
      "text/plain": [
       "  0%|          | 0/1000 [00:00<?, ?it/s]"
      ]
     },
     "metadata": {},
     "output_type": "display_data"
    },
    {
     "name": "stderr",
     "output_type": "stream",
     "text": [
      "\r",
      "  5%|▌         | 53/1000 [00:13<03:10,  4.97it/s]"
     ]
    },
    {
     "data": {
      "application/vnd.jupyter.widget-view+json": {
       "model_id": "77bc0ab913274f59a40a8948588e1450",
       "version_major": 2,
       "version_minor": 0
      },
      "text/plain": [
       "  0%|          | 0/1000 [00:00<?, ?it/s]"
      ]
     },
     "metadata": {},
     "output_type": "display_data"
    },
    {
     "name": "stderr",
     "output_type": "stream",
     "text": [
      "\r",
      "  5%|▌         | 54/1000 [00:14<03:14,  4.86it/s]"
     ]
    },
    {
     "data": {
      "application/vnd.jupyter.widget-view+json": {
       "model_id": "9b91f3f1e0b745a6ae8319d738c7a325",
       "version_major": 2,
       "version_minor": 0
      },
      "text/plain": [
       "  0%|          | 0/1000 [00:00<?, ?it/s]"
      ]
     },
     "metadata": {},
     "output_type": "display_data"
    },
    {
     "name": "stderr",
     "output_type": "stream",
     "text": [
      "\r",
      "  6%|▌         | 55/1000 [00:14<03:12,  4.91it/s]"
     ]
    },
    {
     "data": {
      "application/vnd.jupyter.widget-view+json": {
       "model_id": "499626ccb7bc43a09b4c84b5342a487c",
       "version_major": 2,
       "version_minor": 0
      },
      "text/plain": [
       "  0%|          | 0/1000 [00:00<?, ?it/s]"
      ]
     },
     "metadata": {},
     "output_type": "display_data"
    },
    {
     "name": "stderr",
     "output_type": "stream",
     "text": [
      "\r",
      "  6%|▌         | 56/1000 [00:14<03:11,  4.94it/s]"
     ]
    },
    {
     "data": {
      "application/vnd.jupyter.widget-view+json": {
       "model_id": "6baf716a1d2943f7973f2456c8302b9f",
       "version_major": 2,
       "version_minor": 0
      },
      "text/plain": [
       "  0%|          | 0/1000 [00:00<?, ?it/s]"
      ]
     },
     "metadata": {},
     "output_type": "display_data"
    },
    {
     "name": "stderr",
     "output_type": "stream",
     "text": [
      "\r",
      "  6%|▌         | 57/1000 [00:14<03:11,  4.93it/s]"
     ]
    },
    {
     "data": {
      "application/vnd.jupyter.widget-view+json": {
       "model_id": "5e1755f63b214fd7986a516cd6b23b81",
       "version_major": 2,
       "version_minor": 0
      },
      "text/plain": [
       "  0%|          | 0/1000 [00:00<?, ?it/s]"
      ]
     },
     "metadata": {},
     "output_type": "display_data"
    },
    {
     "name": "stderr",
     "output_type": "stream",
     "text": [
      "\r",
      "  6%|▌         | 58/1000 [00:14<03:10,  4.95it/s]"
     ]
    },
    {
     "data": {
      "application/vnd.jupyter.widget-view+json": {
       "model_id": "57e35f1901f44eb99e2525dba7bda111",
       "version_major": 2,
       "version_minor": 0
      },
      "text/plain": [
       "  0%|          | 0/1000 [00:00<?, ?it/s]"
      ]
     },
     "metadata": {},
     "output_type": "display_data"
    },
    {
     "name": "stderr",
     "output_type": "stream",
     "text": [
      "\r",
      "  6%|▌         | 59/1000 [00:15<03:08,  4.98it/s]"
     ]
    },
    {
     "data": {
      "application/vnd.jupyter.widget-view+json": {
       "model_id": "d7059a1f06314a9886437f29711a9bf3",
       "version_major": 2,
       "version_minor": 0
      },
      "text/plain": [
       "  0%|          | 0/1000 [00:00<?, ?it/s]"
      ]
     },
     "metadata": {},
     "output_type": "display_data"
    },
    {
     "name": "stderr",
     "output_type": "stream",
     "text": [
      "\r",
      "  6%|▌         | 60/1000 [00:15<03:08,  4.97it/s]"
     ]
    },
    {
     "data": {
      "application/vnd.jupyter.widget-view+json": {
       "model_id": "f91a5e501c9c448b84da383108689185",
       "version_major": 2,
       "version_minor": 0
      },
      "text/plain": [
       "  0%|          | 0/1000 [00:00<?, ?it/s]"
      ]
     },
     "metadata": {},
     "output_type": "display_data"
    },
    {
     "name": "stderr",
     "output_type": "stream",
     "text": [
      "\r",
      "  6%|▌         | 61/1000 [00:15<03:06,  5.03it/s]"
     ]
    },
    {
     "data": {
      "application/vnd.jupyter.widget-view+json": {
       "model_id": "f37768a659de41a197a53de9768ae233",
       "version_major": 2,
       "version_minor": 0
      },
      "text/plain": [
       "  0%|          | 0/1000 [00:00<?, ?it/s]"
      ]
     },
     "metadata": {},
     "output_type": "display_data"
    },
    {
     "name": "stderr",
     "output_type": "stream",
     "text": [
      "\r",
      "  6%|▌         | 62/1000 [00:15<03:05,  5.05it/s]"
     ]
    },
    {
     "data": {
      "application/vnd.jupyter.widget-view+json": {
       "model_id": "de38d182a2094b76aa952a67fe60a7b3",
       "version_major": 2,
       "version_minor": 0
      },
      "text/plain": [
       "  0%|          | 0/1000 [00:00<?, ?it/s]"
      ]
     },
     "metadata": {},
     "output_type": "display_data"
    },
    {
     "name": "stderr",
     "output_type": "stream",
     "text": [
      "\r",
      "  6%|▋         | 63/1000 [00:15<03:04,  5.08it/s]"
     ]
    },
    {
     "data": {
      "application/vnd.jupyter.widget-view+json": {
       "model_id": "d38df09855d14b10bc4fccf0659e7a25",
       "version_major": 2,
       "version_minor": 0
      },
      "text/plain": [
       "  0%|          | 0/1000 [00:00<?, ?it/s]"
      ]
     },
     "metadata": {},
     "output_type": "display_data"
    },
    {
     "name": "stderr",
     "output_type": "stream",
     "text": [
      "\r",
      "  6%|▋         | 64/1000 [00:16<03:11,  4.89it/s]"
     ]
    },
    {
     "data": {
      "application/vnd.jupyter.widget-view+json": {
       "model_id": "78e59c5d98da4f83b1c8891153c184ff",
       "version_major": 2,
       "version_minor": 0
      },
      "text/plain": [
       "  0%|          | 0/1000 [00:00<?, ?it/s]"
      ]
     },
     "metadata": {},
     "output_type": "display_data"
    },
    {
     "name": "stderr",
     "output_type": "stream",
     "text": [
      "\r",
      "  6%|▋         | 65/1000 [00:16<03:11,  4.88it/s]"
     ]
    },
    {
     "data": {
      "application/vnd.jupyter.widget-view+json": {
       "model_id": "aca1d4e028a5456cadf8bd936b358969",
       "version_major": 2,
       "version_minor": 0
      },
      "text/plain": [
       "  0%|          | 0/1000 [00:00<?, ?it/s]"
      ]
     },
     "metadata": {},
     "output_type": "display_data"
    },
    {
     "name": "stderr",
     "output_type": "stream",
     "text": [
      "\r",
      "  7%|▋         | 66/1000 [00:16<03:17,  4.74it/s]"
     ]
    },
    {
     "data": {
      "application/vnd.jupyter.widget-view+json": {
       "model_id": "ccdd02ea2aaf4ea9a363a787d53cd5ae",
       "version_major": 2,
       "version_minor": 0
      },
      "text/plain": [
       "  0%|          | 0/1000 [00:00<?, ?it/s]"
      ]
     },
     "metadata": {},
     "output_type": "display_data"
    },
    {
     "name": "stderr",
     "output_type": "stream",
     "text": [
      "\r",
      "  7%|▋         | 67/1000 [00:16<03:13,  4.81it/s]"
     ]
    },
    {
     "data": {
      "application/vnd.jupyter.widget-view+json": {
       "model_id": "fe833cff60a24faebae87799904c17cb",
       "version_major": 2,
       "version_minor": 0
      },
      "text/plain": [
       "  0%|          | 0/1000 [00:00<?, ?it/s]"
      ]
     },
     "metadata": {},
     "output_type": "display_data"
    },
    {
     "name": "stderr",
     "output_type": "stream",
     "text": [
      "\r",
      "  7%|▋         | 68/1000 [00:16<03:10,  4.90it/s]"
     ]
    },
    {
     "data": {
      "application/vnd.jupyter.widget-view+json": {
       "model_id": "2312dadd641e44d28e44318a21433eaa",
       "version_major": 2,
       "version_minor": 0
      },
      "text/plain": [
       "  0%|          | 0/1000 [00:00<?, ?it/s]"
      ]
     },
     "metadata": {},
     "output_type": "display_data"
    },
    {
     "name": "stderr",
     "output_type": "stream",
     "text": [
      "\r",
      "  7%|▋         | 69/1000 [00:17<03:07,  4.95it/s]"
     ]
    },
    {
     "data": {
      "application/vnd.jupyter.widget-view+json": {
       "model_id": "90a361c06c9a407d94f3dc355830cd84",
       "version_major": 2,
       "version_minor": 0
      },
      "text/plain": [
       "  0%|          | 0/1000 [00:00<?, ?it/s]"
      ]
     },
     "metadata": {},
     "output_type": "display_data"
    },
    {
     "name": "stderr",
     "output_type": "stream",
     "text": [
      "\r",
      "  7%|▋         | 70/1000 [00:17<03:08,  4.94it/s]"
     ]
    },
    {
     "data": {
      "application/vnd.jupyter.widget-view+json": {
       "model_id": "99d11808d8dd46c5b065dc242b5aa295",
       "version_major": 2,
       "version_minor": 0
      },
      "text/plain": [
       "  0%|          | 0/1000 [00:00<?, ?it/s]"
      ]
     },
     "metadata": {},
     "output_type": "display_data"
    },
    {
     "name": "stderr",
     "output_type": "stream",
     "text": [
      "\r",
      "  7%|▋         | 71/1000 [00:17<03:06,  4.97it/s]"
     ]
    },
    {
     "data": {
      "application/vnd.jupyter.widget-view+json": {
       "model_id": "b77ccce7875546abae3577320c6f9fec",
       "version_major": 2,
       "version_minor": 0
      },
      "text/plain": [
       "  0%|          | 0/1000 [00:00<?, ?it/s]"
      ]
     },
     "metadata": {},
     "output_type": "display_data"
    },
    {
     "name": "stderr",
     "output_type": "stream",
     "text": [
      "\r",
      "  7%|▋         | 72/1000 [00:17<03:07,  4.94it/s]"
     ]
    },
    {
     "data": {
      "application/vnd.jupyter.widget-view+json": {
       "model_id": "860ec4cc59c348df8e1fafc6f6d03c8c",
       "version_major": 2,
       "version_minor": 0
      },
      "text/plain": [
       "  0%|          | 0/1000 [00:00<?, ?it/s]"
      ]
     },
     "metadata": {},
     "output_type": "display_data"
    },
    {
     "name": "stderr",
     "output_type": "stream",
     "text": [
      "\r",
      "  7%|▋         | 73/1000 [00:17<03:06,  4.96it/s]"
     ]
    },
    {
     "data": {
      "application/vnd.jupyter.widget-view+json": {
       "model_id": "114edf256d604499946d7e63101679e6",
       "version_major": 2,
       "version_minor": 0
      },
      "text/plain": [
       "  0%|          | 0/1000 [00:00<?, ?it/s]"
      ]
     },
     "metadata": {},
     "output_type": "display_data"
    },
    {
     "name": "stderr",
     "output_type": "stream",
     "text": [
      "\r",
      "  7%|▋         | 74/1000 [00:18<03:17,  4.70it/s]"
     ]
    },
    {
     "data": {
      "application/vnd.jupyter.widget-view+json": {
       "model_id": "d0d2bb87302c456189d1f4a5c1701168",
       "version_major": 2,
       "version_minor": 0
      },
      "text/plain": [
       "  0%|          | 0/1000 [00:00<?, ?it/s]"
      ]
     },
     "metadata": {},
     "output_type": "display_data"
    },
    {
     "name": "stderr",
     "output_type": "stream",
     "text": [
      "\r",
      "  8%|▊         | 75/1000 [00:18<03:16,  4.71it/s]"
     ]
    },
    {
     "data": {
      "application/vnd.jupyter.widget-view+json": {
       "model_id": "7ed31fbbcc314977af66221bdbaf0f06",
       "version_major": 2,
       "version_minor": 0
      },
      "text/plain": [
       "  0%|          | 0/1000 [00:00<?, ?it/s]"
      ]
     },
     "metadata": {},
     "output_type": "display_data"
    },
    {
     "name": "stderr",
     "output_type": "stream",
     "text": [
      "\r",
      "  8%|▊         | 76/1000 [00:18<03:11,  4.83it/s]"
     ]
    },
    {
     "data": {
      "application/vnd.jupyter.widget-view+json": {
       "model_id": "12d6fe7c2c1a4bd4b702117ddf182174",
       "version_major": 2,
       "version_minor": 0
      },
      "text/plain": [
       "  0%|          | 0/1000 [00:00<?, ?it/s]"
      ]
     },
     "metadata": {},
     "output_type": "display_data"
    },
    {
     "name": "stderr",
     "output_type": "stream",
     "text": [
      "\r",
      "  8%|▊         | 77/1000 [00:18<03:07,  4.92it/s]"
     ]
    },
    {
     "data": {
      "application/vnd.jupyter.widget-view+json": {
       "model_id": "83335cbabe59452b8e5393d64dec2cf5",
       "version_major": 2,
       "version_minor": 0
      },
      "text/plain": [
       "  0%|          | 0/1000 [00:00<?, ?it/s]"
      ]
     },
     "metadata": {},
     "output_type": "display_data"
    },
    {
     "name": "stderr",
     "output_type": "stream",
     "text": [
      "\r",
      "  8%|▊         | 78/1000 [00:18<03:05,  4.98it/s]"
     ]
    },
    {
     "data": {
      "application/vnd.jupyter.widget-view+json": {
       "model_id": "b97c5321cc6e4ad98531085bda4ff5c2",
       "version_major": 2,
       "version_minor": 0
      },
      "text/plain": [
       "  0%|          | 0/1000 [00:00<?, ?it/s]"
      ]
     },
     "metadata": {},
     "output_type": "display_data"
    },
    {
     "name": "stderr",
     "output_type": "stream",
     "text": [
      "\r",
      "  8%|▊         | 79/1000 [00:19<03:03,  5.02it/s]"
     ]
    },
    {
     "data": {
      "application/vnd.jupyter.widget-view+json": {
       "model_id": "1a467d25002a473db2a76b0806eeda35",
       "version_major": 2,
       "version_minor": 0
      },
      "text/plain": [
       "  0%|          | 0/1000 [00:00<?, ?it/s]"
      ]
     },
     "metadata": {},
     "output_type": "display_data"
    },
    {
     "name": "stderr",
     "output_type": "stream",
     "text": [
      "\r",
      "  8%|▊         | 80/1000 [00:19<03:03,  5.01it/s]"
     ]
    },
    {
     "data": {
      "application/vnd.jupyter.widget-view+json": {
       "model_id": "883d011363624d859ad8b637cc40d0d3",
       "version_major": 2,
       "version_minor": 0
      },
      "text/plain": [
       "  0%|          | 0/1000 [00:00<?, ?it/s]"
      ]
     },
     "metadata": {},
     "output_type": "display_data"
    },
    {
     "name": "stderr",
     "output_type": "stream",
     "text": [
      "\r",
      "  8%|▊         | 81/1000 [00:19<03:01,  5.05it/s]"
     ]
    },
    {
     "data": {
      "application/vnd.jupyter.widget-view+json": {
       "model_id": "3c9e5b1fbdb9440cb4d97720aabfcc3e",
       "version_major": 2,
       "version_minor": 0
      },
      "text/plain": [
       "  0%|          | 0/1000 [00:00<?, ?it/s]"
      ]
     },
     "metadata": {},
     "output_type": "display_data"
    },
    {
     "name": "stderr",
     "output_type": "stream",
     "text": [
      "\r",
      "  8%|▊         | 82/1000 [00:19<03:01,  5.05it/s]"
     ]
    },
    {
     "data": {
      "application/vnd.jupyter.widget-view+json": {
       "model_id": "167702c68d0940d1985415af16342061",
       "version_major": 2,
       "version_minor": 0
      },
      "text/plain": [
       "  0%|          | 0/1000 [00:00<?, ?it/s]"
      ]
     },
     "metadata": {},
     "output_type": "display_data"
    },
    {
     "name": "stderr",
     "output_type": "stream",
     "text": [
      "\r",
      "  8%|▊         | 83/1000 [00:19<03:02,  5.03it/s]"
     ]
    },
    {
     "data": {
      "application/vnd.jupyter.widget-view+json": {
       "model_id": "6796e839542e4f1eb4bf4a8a510cc545",
       "version_major": 2,
       "version_minor": 0
      },
      "text/plain": [
       "  0%|          | 0/1000 [00:00<?, ?it/s]"
      ]
     },
     "metadata": {},
     "output_type": "display_data"
    },
    {
     "name": "stderr",
     "output_type": "stream",
     "text": [
      "\r",
      "  8%|▊         | 84/1000 [00:20<03:09,  4.83it/s]"
     ]
    },
    {
     "data": {
      "application/vnd.jupyter.widget-view+json": {
       "model_id": "34dfb4404b014f00ac2627eb086678a0",
       "version_major": 2,
       "version_minor": 0
      },
      "text/plain": [
       "  0%|          | 0/1000 [00:00<?, ?it/s]"
      ]
     },
     "metadata": {},
     "output_type": "display_data"
    },
    {
     "name": "stderr",
     "output_type": "stream",
     "text": [
      "\r",
      "  8%|▊         | 85/1000 [00:20<03:07,  4.88it/s]"
     ]
    },
    {
     "data": {
      "application/vnd.jupyter.widget-view+json": {
       "model_id": "fa73bea41a7146fbae39334af3196ce0",
       "version_major": 2,
       "version_minor": 0
      },
      "text/plain": [
       "  0%|          | 0/1000 [00:00<?, ?it/s]"
      ]
     },
     "metadata": {},
     "output_type": "display_data"
    },
    {
     "name": "stderr",
     "output_type": "stream",
     "text": [
      "\r",
      "  9%|▊         | 86/1000 [00:20<03:05,  4.92it/s]"
     ]
    },
    {
     "data": {
      "application/vnd.jupyter.widget-view+json": {
       "model_id": "d9759609fbb54d8baa7108512d784b99",
       "version_major": 2,
       "version_minor": 0
      },
      "text/plain": [
       "  0%|          | 0/1000 [00:00<?, ?it/s]"
      ]
     },
     "metadata": {},
     "output_type": "display_data"
    },
    {
     "name": "stderr",
     "output_type": "stream",
     "text": [
      "\r",
      "  9%|▊         | 87/1000 [00:20<03:09,  4.81it/s]"
     ]
    },
    {
     "data": {
      "application/vnd.jupyter.widget-view+json": {
       "model_id": "19470797d72a4738aab8d42f7984c102",
       "version_major": 2,
       "version_minor": 0
      },
      "text/plain": [
       "  0%|          | 0/1000 [00:00<?, ?it/s]"
      ]
     },
     "metadata": {},
     "output_type": "display_data"
    },
    {
     "name": "stderr",
     "output_type": "stream",
     "text": [
      "\r",
      "  9%|▉         | 88/1000 [00:20<03:07,  4.87it/s]"
     ]
    },
    {
     "data": {
      "application/vnd.jupyter.widget-view+json": {
       "model_id": "a2c7a8f3df7a4a7e87bd3684277f3d9d",
       "version_major": 2,
       "version_minor": 0
      },
      "text/plain": [
       "  0%|          | 0/1000 [00:00<?, ?it/s]"
      ]
     },
     "metadata": {},
     "output_type": "display_data"
    },
    {
     "name": "stderr",
     "output_type": "stream",
     "text": [
      "\r",
      "  9%|▉         | 89/1000 [00:21<03:05,  4.92it/s]"
     ]
    },
    {
     "data": {
      "application/vnd.jupyter.widget-view+json": {
       "model_id": "79a864551f1046878929d4c16c32902a",
       "version_major": 2,
       "version_minor": 0
      },
      "text/plain": [
       "  0%|          | 0/1000 [00:00<?, ?it/s]"
      ]
     },
     "metadata": {},
     "output_type": "display_data"
    },
    {
     "name": "stderr",
     "output_type": "stream",
     "text": [
      "\r",
      "  9%|▉         | 90/1000 [00:21<03:01,  5.00it/s]"
     ]
    },
    {
     "data": {
      "application/vnd.jupyter.widget-view+json": {
       "model_id": "185001816305478da479efe9c31b0f92",
       "version_major": 2,
       "version_minor": 0
      },
      "text/plain": [
       "  0%|          | 0/1000 [00:00<?, ?it/s]"
      ]
     },
     "metadata": {},
     "output_type": "display_data"
    },
    {
     "name": "stderr",
     "output_type": "stream",
     "text": [
      "\r",
      "  9%|▉         | 91/1000 [00:21<03:04,  4.93it/s]"
     ]
    },
    {
     "data": {
      "application/vnd.jupyter.widget-view+json": {
       "model_id": "cd7e46d75c8046ec8c5b08d0739643b9",
       "version_major": 2,
       "version_minor": 0
      },
      "text/plain": [
       "  0%|          | 0/1000 [00:00<?, ?it/s]"
      ]
     },
     "metadata": {},
     "output_type": "display_data"
    },
    {
     "name": "stderr",
     "output_type": "stream",
     "text": [
      "\r",
      "  9%|▉         | 92/1000 [00:21<03:05,  4.91it/s]"
     ]
    },
    {
     "data": {
      "application/vnd.jupyter.widget-view+json": {
       "model_id": "47b5226e07ed4aff80c0d0bdbc18912b",
       "version_major": 2,
       "version_minor": 0
      },
      "text/plain": [
       "  0%|          | 0/1000 [00:00<?, ?it/s]"
      ]
     },
     "metadata": {},
     "output_type": "display_data"
    },
    {
     "name": "stderr",
     "output_type": "stream",
     "text": [
      "\r",
      "  9%|▉         | 93/1000 [00:22<03:07,  4.84it/s]"
     ]
    },
    {
     "data": {
      "application/vnd.jupyter.widget-view+json": {
       "model_id": "e01c9b88a8644880b8a29ee5aee3795d",
       "version_major": 2,
       "version_minor": 0
      },
      "text/plain": [
       "  0%|          | 0/1000 [00:00<?, ?it/s]"
      ]
     },
     "metadata": {},
     "output_type": "display_data"
    },
    {
     "name": "stderr",
     "output_type": "stream",
     "text": [
      "\r",
      "  9%|▉         | 94/1000 [00:22<03:06,  4.86it/s]"
     ]
    },
    {
     "data": {
      "application/vnd.jupyter.widget-view+json": {
       "model_id": "31523f0ce6d040d9931160e29f956be7",
       "version_major": 2,
       "version_minor": 0
      },
      "text/plain": [
       "  0%|          | 0/1000 [00:00<?, ?it/s]"
      ]
     },
     "metadata": {},
     "output_type": "display_data"
    },
    {
     "name": "stderr",
     "output_type": "stream",
     "text": [
      "\r",
      " 10%|▉         | 95/1000 [00:22<03:04,  4.89it/s]"
     ]
    },
    {
     "data": {
      "application/vnd.jupyter.widget-view+json": {
       "model_id": "3bfc4c09aeca4e8d89282a70a1e1887e",
       "version_major": 2,
       "version_minor": 0
      },
      "text/plain": [
       "  0%|          | 0/1000 [00:00<?, ?it/s]"
      ]
     },
     "metadata": {},
     "output_type": "display_data"
    },
    {
     "name": "stderr",
     "output_type": "stream",
     "text": [
      "\r",
      " 10%|▉         | 96/1000 [00:22<03:04,  4.90it/s]"
     ]
    },
    {
     "data": {
      "application/vnd.jupyter.widget-view+json": {
       "model_id": "92e004f7278b4bf3bf5ff24a70f7d501",
       "version_major": 2,
       "version_minor": 0
      },
      "text/plain": [
       "  0%|          | 0/1000 [00:00<?, ?it/s]"
      ]
     },
     "metadata": {},
     "output_type": "display_data"
    },
    {
     "name": "stderr",
     "output_type": "stream",
     "text": [
      "\r",
      " 10%|▉         | 97/1000 [00:22<03:03,  4.93it/s]"
     ]
    },
    {
     "data": {
      "application/vnd.jupyter.widget-view+json": {
       "model_id": "e846d4deb7aa48579c02abc3adf01c80",
       "version_major": 2,
       "version_minor": 0
      },
      "text/plain": [
       "  0%|          | 0/1000 [00:00<?, ?it/s]"
      ]
     },
     "metadata": {},
     "output_type": "display_data"
    },
    {
     "name": "stderr",
     "output_type": "stream",
     "text": [
      "\r",
      " 10%|▉         | 98/1000 [00:23<03:03,  4.91it/s]"
     ]
    },
    {
     "data": {
      "application/vnd.jupyter.widget-view+json": {
       "model_id": "7534b5989c5747e0908913a6947ae79a",
       "version_major": 2,
       "version_minor": 0
      },
      "text/plain": [
       "  0%|          | 0/1000 [00:00<?, ?it/s]"
      ]
     },
     "metadata": {},
     "output_type": "display_data"
    },
    {
     "name": "stderr",
     "output_type": "stream",
     "text": [
      "\r",
      " 10%|▉         | 99/1000 [00:23<03:01,  4.96it/s]"
     ]
    },
    {
     "data": {
      "application/vnd.jupyter.widget-view+json": {
       "model_id": "55bd2463a64743dba3e570eff2e11933",
       "version_major": 2,
       "version_minor": 0
      },
      "text/plain": [
       "  0%|          | 0/1000 [00:00<?, ?it/s]"
      ]
     },
     "metadata": {},
     "output_type": "display_data"
    },
    {
     "name": "stderr",
     "output_type": "stream",
     "text": [
      "\r",
      " 10%|█         | 100/1000 [00:23<03:01,  4.95it/s]"
     ]
    },
    {
     "data": {
      "application/vnd.jupyter.widget-view+json": {
       "model_id": "498d54507d294fb8abcd0b5ffa00d318",
       "version_major": 2,
       "version_minor": 0
      },
      "text/plain": [
       "  0%|          | 0/1000 [00:00<?, ?it/s]"
      ]
     },
     "metadata": {},
     "output_type": "display_data"
    },
    {
     "name": "stderr",
     "output_type": "stream",
     "text": [
      "\r",
      " 10%|█         | 101/1000 [00:23<03:00,  4.98it/s]"
     ]
    },
    {
     "data": {
      "application/vnd.jupyter.widget-view+json": {
       "model_id": "393178873b8e452a9a4828b3a2c9dbdd",
       "version_major": 2,
       "version_minor": 0
      },
      "text/plain": [
       "  0%|          | 0/1000 [00:00<?, ?it/s]"
      ]
     },
     "metadata": {},
     "output_type": "display_data"
    },
    {
     "name": "stderr",
     "output_type": "stream",
     "text": [
      "\r",
      " 10%|█         | 102/1000 [00:23<03:00,  4.98it/s]"
     ]
    },
    {
     "data": {
      "application/vnd.jupyter.widget-view+json": {
       "model_id": "7c04834412024732a1dbe075ed24d277",
       "version_major": 2,
       "version_minor": 0
      },
      "text/plain": [
       "  0%|          | 0/1000 [00:00<?, ?it/s]"
      ]
     },
     "metadata": {},
     "output_type": "display_data"
    },
    {
     "name": "stderr",
     "output_type": "stream",
     "text": [
      "\r",
      " 10%|█         | 103/1000 [00:24<03:06,  4.80it/s]"
     ]
    },
    {
     "data": {
      "application/vnd.jupyter.widget-view+json": {
       "model_id": "2264802ffbb849bf87cd47d65d01496a",
       "version_major": 2,
       "version_minor": 0
      },
      "text/plain": [
       "  0%|          | 0/1000 [00:00<?, ?it/s]"
      ]
     },
     "metadata": {},
     "output_type": "display_data"
    },
    {
     "name": "stderr",
     "output_type": "stream",
     "text": [
      "\r",
      " 10%|█         | 104/1000 [00:24<03:04,  4.86it/s]"
     ]
    },
    {
     "data": {
      "application/vnd.jupyter.widget-view+json": {
       "model_id": "d551ee9153a04adf97fc3d7e252fb657",
       "version_major": 2,
       "version_minor": 0
      },
      "text/plain": [
       "  0%|          | 0/1000 [00:00<?, ?it/s]"
      ]
     },
     "metadata": {},
     "output_type": "display_data"
    },
    {
     "name": "stderr",
     "output_type": "stream",
     "text": [
      "\r",
      " 10%|█         | 105/1000 [00:24<03:02,  4.90it/s]"
     ]
    },
    {
     "data": {
      "application/vnd.jupyter.widget-view+json": {
       "model_id": "127851c066464bb2beb094737c339ba4",
       "version_major": 2,
       "version_minor": 0
      },
      "text/plain": [
       "  0%|          | 0/1000 [00:00<?, ?it/s]"
      ]
     },
     "metadata": {},
     "output_type": "display_data"
    },
    {
     "name": "stderr",
     "output_type": "stream",
     "text": [
      "\r",
      " 11%|█         | 106/1000 [00:24<03:00,  4.95it/s]"
     ]
    },
    {
     "data": {
      "application/vnd.jupyter.widget-view+json": {
       "model_id": "c85d49fbcd10436ca8b6d432d0e9c473",
       "version_major": 2,
       "version_minor": 0
      },
      "text/plain": [
       "  0%|          | 0/1000 [00:00<?, ?it/s]"
      ]
     },
     "metadata": {},
     "output_type": "display_data"
    },
    {
     "name": "stderr",
     "output_type": "stream",
     "text": [
      "\r",
      " 11%|█         | 107/1000 [00:24<02:59,  4.97it/s]"
     ]
    },
    {
     "data": {
      "application/vnd.jupyter.widget-view+json": {
       "model_id": "04fbb958a9294eca9d5ae49a36e4b9de",
       "version_major": 2,
       "version_minor": 0
      },
      "text/plain": [
       "  0%|          | 0/1000 [00:00<?, ?it/s]"
      ]
     },
     "metadata": {},
     "output_type": "display_data"
    },
    {
     "name": "stderr",
     "output_type": "stream",
     "text": [
      "\r",
      " 11%|█         | 108/1000 [00:25<02:57,  5.03it/s]"
     ]
    },
    {
     "data": {
      "application/vnd.jupyter.widget-view+json": {
       "model_id": "3ec4b7a4caea4000a18a7355d70f1ca7",
       "version_major": 2,
       "version_minor": 0
      },
      "text/plain": [
       "  0%|          | 0/1000 [00:00<?, ?it/s]"
      ]
     },
     "metadata": {},
     "output_type": "display_data"
    },
    {
     "name": "stderr",
     "output_type": "stream",
     "text": [
      "\r",
      " 11%|█         | 109/1000 [00:25<02:58,  5.00it/s]"
     ]
    },
    {
     "data": {
      "application/vnd.jupyter.widget-view+json": {
       "model_id": "f72411080ba0454b9d8fed8762dac951",
       "version_major": 2,
       "version_minor": 0
      },
      "text/plain": [
       "  0%|          | 0/1000 [00:00<?, ?it/s]"
      ]
     },
     "metadata": {},
     "output_type": "display_data"
    },
    {
     "name": "stderr",
     "output_type": "stream",
     "text": [
      "\r",
      " 11%|█         | 110/1000 [00:25<02:57,  5.01it/s]"
     ]
    },
    {
     "data": {
      "application/vnd.jupyter.widget-view+json": {
       "model_id": "e320a5a8273d4b96b747726cd3dc8090",
       "version_major": 2,
       "version_minor": 0
      },
      "text/plain": [
       "  0%|          | 0/1000 [00:00<?, ?it/s]"
      ]
     },
     "metadata": {},
     "output_type": "display_data"
    },
    {
     "name": "stderr",
     "output_type": "stream",
     "text": [
      "\r",
      " 11%|█         | 111/1000 [00:25<02:57,  5.02it/s]"
     ]
    },
    {
     "data": {
      "application/vnd.jupyter.widget-view+json": {
       "model_id": "56df06449f474ac7b6158c5b8c50357a",
       "version_major": 2,
       "version_minor": 0
      },
      "text/plain": [
       "  0%|          | 0/1000 [00:00<?, ?it/s]"
      ]
     },
     "metadata": {},
     "output_type": "display_data"
    },
    {
     "name": "stderr",
     "output_type": "stream",
     "text": [
      "\r",
      " 11%|█         | 112/1000 [00:25<02:56,  5.04it/s]"
     ]
    },
    {
     "data": {
      "application/vnd.jupyter.widget-view+json": {
       "model_id": "5123b2e1cb304653b4d3d3862baf3c80",
       "version_major": 2,
       "version_minor": 0
      },
      "text/plain": [
       "  0%|          | 0/1000 [00:00<?, ?it/s]"
      ]
     },
     "metadata": {},
     "output_type": "display_data"
    },
    {
     "name": "stderr",
     "output_type": "stream",
     "text": [
      "\r",
      " 11%|█▏        | 113/1000 [00:26<03:02,  4.85it/s]"
     ]
    },
    {
     "data": {
      "application/vnd.jupyter.widget-view+json": {
       "model_id": "a0c3932f003d440c81091a269b33aff4",
       "version_major": 2,
       "version_minor": 0
      },
      "text/plain": [
       "  0%|          | 0/1000 [00:00<?, ?it/s]"
      ]
     },
     "metadata": {},
     "output_type": "display_data"
    },
    {
     "name": "stderr",
     "output_type": "stream",
     "text": [
      "\r",
      " 11%|█▏        | 114/1000 [00:26<03:12,  4.60it/s]"
     ]
    },
    {
     "data": {
      "application/vnd.jupyter.widget-view+json": {
       "model_id": "9f928920787b4473af86007af07e8abd",
       "version_major": 2,
       "version_minor": 0
      },
      "text/plain": [
       "  0%|          | 0/1000 [00:00<?, ?it/s]"
      ]
     },
     "metadata": {},
     "output_type": "display_data"
    },
    {
     "name": "stderr",
     "output_type": "stream",
     "text": [
      "\r",
      " 12%|█▏        | 115/1000 [00:26<03:09,  4.68it/s]"
     ]
    },
    {
     "data": {
      "application/vnd.jupyter.widget-view+json": {
       "model_id": "772200c29dac43ad85117957665435b9",
       "version_major": 2,
       "version_minor": 0
      },
      "text/plain": [
       "  0%|          | 0/1000 [00:00<?, ?it/s]"
      ]
     },
     "metadata": {},
     "output_type": "display_data"
    },
    {
     "name": "stderr",
     "output_type": "stream",
     "text": [
      "\r",
      " 12%|█▏        | 116/1000 [00:26<03:05,  4.76it/s]"
     ]
    },
    {
     "data": {
      "application/vnd.jupyter.widget-view+json": {
       "model_id": "fab95f6f765d470dbc27ff32c4298483",
       "version_major": 2,
       "version_minor": 0
      },
      "text/plain": [
       "  0%|          | 0/1000 [00:00<?, ?it/s]"
      ]
     },
     "metadata": {},
     "output_type": "display_data"
    },
    {
     "name": "stderr",
     "output_type": "stream",
     "text": [
      "\r",
      " 12%|█▏        | 117/1000 [00:26<03:04,  4.79it/s]"
     ]
    },
    {
     "data": {
      "application/vnd.jupyter.widget-view+json": {
       "model_id": "ce47aaf3afd74b19b65a5ddba0363c68",
       "version_major": 2,
       "version_minor": 0
      },
      "text/plain": [
       "  0%|          | 0/1000 [00:00<?, ?it/s]"
      ]
     },
     "metadata": {},
     "output_type": "display_data"
    },
    {
     "name": "stderr",
     "output_type": "stream",
     "text": [
      "\r",
      " 12%|█▏        | 118/1000 [00:27<03:00,  4.88it/s]"
     ]
    },
    {
     "data": {
      "application/vnd.jupyter.widget-view+json": {
       "model_id": "f4098a6fbf744674bf32df3f93d9e3f9",
       "version_major": 2,
       "version_minor": 0
      },
      "text/plain": [
       "  0%|          | 0/1000 [00:00<?, ?it/s]"
      ]
     },
     "metadata": {},
     "output_type": "display_data"
    },
    {
     "name": "stderr",
     "output_type": "stream",
     "text": [
      "\r",
      " 12%|█▏        | 119/1000 [00:27<03:03,  4.80it/s]"
     ]
    },
    {
     "data": {
      "application/vnd.jupyter.widget-view+json": {
       "model_id": "ab9f5f165de2475984ebfbc21cea9e63",
       "version_major": 2,
       "version_minor": 0
      },
      "text/plain": [
       "  0%|          | 0/1000 [00:00<?, ?it/s]"
      ]
     },
     "metadata": {},
     "output_type": "display_data"
    },
    {
     "name": "stderr",
     "output_type": "stream",
     "text": [
      "\r",
      " 12%|█▏        | 120/1000 [00:27<02:59,  4.92it/s]"
     ]
    },
    {
     "data": {
      "application/vnd.jupyter.widget-view+json": {
       "model_id": "1fb951f452e64b4eb78a51154ce775f9",
       "version_major": 2,
       "version_minor": 0
      },
      "text/plain": [
       "  0%|          | 0/1000 [00:00<?, ?it/s]"
      ]
     },
     "metadata": {},
     "output_type": "display_data"
    },
    {
     "name": "stderr",
     "output_type": "stream",
     "text": [
      "\r",
      " 12%|█▏        | 121/1000 [00:27<02:56,  4.98it/s]"
     ]
    },
    {
     "data": {
      "application/vnd.jupyter.widget-view+json": {
       "model_id": "6c752dd3a1154f759375c9be32db1017",
       "version_major": 2,
       "version_minor": 0
      },
      "text/plain": [
       "  0%|          | 0/1000 [00:00<?, ?it/s]"
      ]
     },
     "metadata": {},
     "output_type": "display_data"
    },
    {
     "name": "stderr",
     "output_type": "stream",
     "text": [
      "\r",
      " 12%|█▏        | 122/1000 [00:27<02:54,  5.04it/s]"
     ]
    },
    {
     "data": {
      "application/vnd.jupyter.widget-view+json": {
       "model_id": "dfe96af6a3124ee9a6a4b9415b95c2ec",
       "version_major": 2,
       "version_minor": 0
      },
      "text/plain": [
       "  0%|          | 0/1000 [00:00<?, ?it/s]"
      ]
     },
     "metadata": {},
     "output_type": "display_data"
    },
    {
     "name": "stderr",
     "output_type": "stream",
     "text": [
      "\r",
      " 12%|█▏        | 123/1000 [00:28<03:03,  4.79it/s]"
     ]
    },
    {
     "data": {
      "application/vnd.jupyter.widget-view+json": {
       "model_id": "df3a66d337434e3c91efabfa8f8da1c2",
       "version_major": 2,
       "version_minor": 0
      },
      "text/plain": [
       "  0%|          | 0/1000 [00:00<?, ?it/s]"
      ]
     },
     "metadata": {},
     "output_type": "display_data"
    },
    {
     "name": "stderr",
     "output_type": "stream",
     "text": [
      "\r",
      " 12%|█▏        | 124/1000 [00:28<03:01,  4.82it/s]"
     ]
    },
    {
     "data": {
      "application/vnd.jupyter.widget-view+json": {
       "model_id": "2041ac017461476f9c02539e464057da",
       "version_major": 2,
       "version_minor": 0
      },
      "text/plain": [
       "  0%|          | 0/1000 [00:00<?, ?it/s]"
      ]
     },
     "metadata": {},
     "output_type": "display_data"
    },
    {
     "name": "stderr",
     "output_type": "stream",
     "text": [
      "\r",
      " 12%|█▎        | 125/1000 [00:28<03:00,  4.84it/s]"
     ]
    },
    {
     "data": {
      "application/vnd.jupyter.widget-view+json": {
       "model_id": "9c5fc615610b48cfb4976759267be1b8",
       "version_major": 2,
       "version_minor": 0
      },
      "text/plain": [
       "  0%|          | 0/1000 [00:00<?, ?it/s]"
      ]
     },
     "metadata": {},
     "output_type": "display_data"
    },
    {
     "name": "stderr",
     "output_type": "stream",
     "text": [
      "\r",
      " 13%|█▎        | 126/1000 [00:28<03:01,  4.82it/s]"
     ]
    },
    {
     "data": {
      "application/vnd.jupyter.widget-view+json": {
       "model_id": "3647f465e1344a828921901a6371c57e",
       "version_major": 2,
       "version_minor": 0
      },
      "text/plain": [
       "  0%|          | 0/1000 [00:00<?, ?it/s]"
      ]
     },
     "metadata": {},
     "output_type": "display_data"
    },
    {
     "name": "stderr",
     "output_type": "stream",
     "text": [
      "\r",
      " 13%|█▎        | 127/1000 [00:28<02:59,  4.87it/s]"
     ]
    },
    {
     "data": {
      "application/vnd.jupyter.widget-view+json": {
       "model_id": "ff81fae4f7514f17b997cf4e7558f37a",
       "version_major": 2,
       "version_minor": 0
      },
      "text/plain": [
       "  0%|          | 0/1000 [00:00<?, ?it/s]"
      ]
     },
     "metadata": {},
     "output_type": "display_data"
    },
    {
     "name": "stderr",
     "output_type": "stream",
     "text": [
      "\r",
      " 13%|█▎        | 128/1000 [00:29<02:57,  4.90it/s]"
     ]
    },
    {
     "data": {
      "application/vnd.jupyter.widget-view+json": {
       "model_id": "4634458444224069a63a2addaa9af8f6",
       "version_major": 2,
       "version_minor": 0
      },
      "text/plain": [
       "  0%|          | 0/1000 [00:00<?, ?it/s]"
      ]
     },
     "metadata": {},
     "output_type": "display_data"
    },
    {
     "name": "stderr",
     "output_type": "stream",
     "text": [
      "\r",
      " 13%|█▎        | 129/1000 [00:29<02:56,  4.94it/s]"
     ]
    },
    {
     "data": {
      "application/vnd.jupyter.widget-view+json": {
       "model_id": "a227f3ec8f97443dad629439f5dcf8f9",
       "version_major": 2,
       "version_minor": 0
      },
      "text/plain": [
       "  0%|          | 0/1000 [00:00<?, ?it/s]"
      ]
     },
     "metadata": {},
     "output_type": "display_data"
    },
    {
     "name": "stderr",
     "output_type": "stream",
     "text": [
      "\r",
      " 13%|█▎        | 130/1000 [00:29<02:58,  4.87it/s]"
     ]
    },
    {
     "data": {
      "application/vnd.jupyter.widget-view+json": {
       "model_id": "166215090151464e835a18c04f301002",
       "version_major": 2,
       "version_minor": 0
      },
      "text/plain": [
       "  0%|          | 0/1000 [00:00<?, ?it/s]"
      ]
     },
     "metadata": {},
     "output_type": "display_data"
    },
    {
     "name": "stderr",
     "output_type": "stream",
     "text": [
      "\r",
      " 13%|█▎        | 131/1000 [00:29<03:04,  4.71it/s]"
     ]
    },
    {
     "data": {
      "application/vnd.jupyter.widget-view+json": {
       "model_id": "f3c34c1043bd4576ba8fb8c8d90fee9a",
       "version_major": 2,
       "version_minor": 0
      },
      "text/plain": [
       "  0%|          | 0/1000 [00:00<?, ?it/s]"
      ]
     },
     "metadata": {},
     "output_type": "display_data"
    },
    {
     "name": "stderr",
     "output_type": "stream",
     "text": [
      "\r",
      " 13%|█▎        | 132/1000 [00:30<03:13,  4.48it/s]"
     ]
    },
    {
     "data": {
      "application/vnd.jupyter.widget-view+json": {
       "model_id": "cb7c0e88c4e94d3eafe2bcf6d47fc329",
       "version_major": 2,
       "version_minor": 0
      },
      "text/plain": [
       "  0%|          | 0/1000 [00:00<?, ?it/s]"
      ]
     },
     "metadata": {},
     "output_type": "display_data"
    },
    {
     "name": "stderr",
     "output_type": "stream",
     "text": [
      "\r",
      " 13%|█▎        | 133/1000 [00:30<03:20,  4.33it/s]"
     ]
    },
    {
     "data": {
      "application/vnd.jupyter.widget-view+json": {
       "model_id": "080a06637d7f4517bf1dacded119782c",
       "version_major": 2,
       "version_minor": 0
      },
      "text/plain": [
       "  0%|          | 0/1000 [00:00<?, ?it/s]"
      ]
     },
     "metadata": {},
     "output_type": "display_data"
    },
    {
     "name": "stderr",
     "output_type": "stream",
     "text": [
      "\r",
      " 13%|█▎        | 134/1000 [00:30<03:21,  4.29it/s]"
     ]
    },
    {
     "data": {
      "application/vnd.jupyter.widget-view+json": {
       "model_id": "50d84f7b0bb44438ac26577d68caccde",
       "version_major": 2,
       "version_minor": 0
      },
      "text/plain": [
       "  0%|          | 0/1000 [00:00<?, ?it/s]"
      ]
     },
     "metadata": {},
     "output_type": "display_data"
    },
    {
     "name": "stderr",
     "output_type": "stream",
     "text": [
      "\r",
      " 14%|█▎        | 135/1000 [00:30<03:22,  4.28it/s]"
     ]
    },
    {
     "data": {
      "application/vnd.jupyter.widget-view+json": {
       "model_id": "4812eebcb7b14375b44184293ea31639",
       "version_major": 2,
       "version_minor": 0
      },
      "text/plain": [
       "  0%|          | 0/1000 [00:00<?, ?it/s]"
      ]
     },
     "metadata": {},
     "output_type": "display_data"
    },
    {
     "name": "stderr",
     "output_type": "stream",
     "text": [
      "\r",
      " 14%|█▎        | 136/1000 [00:31<03:24,  4.23it/s]"
     ]
    },
    {
     "data": {
      "application/vnd.jupyter.widget-view+json": {
       "model_id": "6f227a8f69e0415a8f4b4446e2c59f18",
       "version_major": 2,
       "version_minor": 0
      },
      "text/plain": [
       "  0%|          | 0/1000 [00:00<?, ?it/s]"
      ]
     },
     "metadata": {},
     "output_type": "display_data"
    },
    {
     "name": "stderr",
     "output_type": "stream",
     "text": [
      "\r",
      " 14%|█▎        | 137/1000 [00:31<03:26,  4.17it/s]"
     ]
    },
    {
     "data": {
      "application/vnd.jupyter.widget-view+json": {
       "model_id": "267d899262e24b34b5ffbaf2b23014d4",
       "version_major": 2,
       "version_minor": 0
      },
      "text/plain": [
       "  0%|          | 0/1000 [00:00<?, ?it/s]"
      ]
     },
     "metadata": {},
     "output_type": "display_data"
    },
    {
     "name": "stderr",
     "output_type": "stream",
     "text": [
      "\r",
      " 14%|█▍        | 138/1000 [00:31<03:29,  4.12it/s]"
     ]
    },
    {
     "data": {
      "application/vnd.jupyter.widget-view+json": {
       "model_id": "d0bde833191445ee9c04cb492f304444",
       "version_major": 2,
       "version_minor": 0
      },
      "text/plain": [
       "  0%|          | 0/1000 [00:00<?, ?it/s]"
      ]
     },
     "metadata": {},
     "output_type": "display_data"
    },
    {
     "name": "stderr",
     "output_type": "stream",
     "text": [
      "\r",
      " 14%|█▍        | 139/1000 [00:31<03:28,  4.12it/s]"
     ]
    },
    {
     "data": {
      "application/vnd.jupyter.widget-view+json": {
       "model_id": "beecfdad36444157adbc3db35aabb1e1",
       "version_major": 2,
       "version_minor": 0
      },
      "text/plain": [
       "  0%|          | 0/1000 [00:00<?, ?it/s]"
      ]
     },
     "metadata": {},
     "output_type": "display_data"
    },
    {
     "name": "stderr",
     "output_type": "stream",
     "text": [
      "\r",
      " 14%|█▍        | 140/1000 [00:31<03:28,  4.13it/s]"
     ]
    },
    {
     "data": {
      "application/vnd.jupyter.widget-view+json": {
       "model_id": "c4088ccfd39e4b0cae09146b0146b596",
       "version_major": 2,
       "version_minor": 0
      },
      "text/plain": [
       "  0%|          | 0/1000 [00:00<?, ?it/s]"
      ]
     },
     "metadata": {},
     "output_type": "display_data"
    },
    {
     "name": "stderr",
     "output_type": "stream",
     "text": [
      "\r",
      " 14%|█▍        | 141/1000 [00:32<03:29,  4.11it/s]"
     ]
    },
    {
     "data": {
      "application/vnd.jupyter.widget-view+json": {
       "model_id": "83a424e207b74e3da386eed0e1c7ffd5",
       "version_major": 2,
       "version_minor": 0
      },
      "text/plain": [
       "  0%|          | 0/1000 [00:00<?, ?it/s]"
      ]
     },
     "metadata": {},
     "output_type": "display_data"
    },
    {
     "name": "stderr",
     "output_type": "stream",
     "text": [
      "\r",
      " 14%|█▍        | 142/1000 [00:32<03:28,  4.12it/s]"
     ]
    },
    {
     "data": {
      "application/vnd.jupyter.widget-view+json": {
       "model_id": "92195d71cc204732a9d8207763ea1656",
       "version_major": 2,
       "version_minor": 0
      },
      "text/plain": [
       "  0%|          | 0/1000 [00:00<?, ?it/s]"
      ]
     },
     "metadata": {},
     "output_type": "display_data"
    },
    {
     "name": "stderr",
     "output_type": "stream",
     "text": [
      "\r",
      " 14%|█▍        | 143/1000 [00:32<03:26,  4.14it/s]"
     ]
    },
    {
     "data": {
      "application/vnd.jupyter.widget-view+json": {
       "model_id": "256f747fbaf6464bac7fd5f570c5665d",
       "version_major": 2,
       "version_minor": 0
      },
      "text/plain": [
       "  0%|          | 0/1000 [00:00<?, ?it/s]"
      ]
     },
     "metadata": {},
     "output_type": "display_data"
    },
    {
     "name": "stderr",
     "output_type": "stream",
     "text": [
      "\r",
      " 14%|█▍        | 144/1000 [00:32<03:35,  3.97it/s]"
     ]
    },
    {
     "data": {
      "application/vnd.jupyter.widget-view+json": {
       "model_id": "46180215aa014133812ab35534c051bd",
       "version_major": 2,
       "version_minor": 0
      },
      "text/plain": [
       "  0%|          | 0/1000 [00:00<?, ?it/s]"
      ]
     },
     "metadata": {},
     "output_type": "display_data"
    },
    {
     "name": "stderr",
     "output_type": "stream",
     "text": [
      "\r",
      " 14%|█▍        | 145/1000 [00:33<03:43,  3.83it/s]"
     ]
    },
    {
     "data": {
      "application/vnd.jupyter.widget-view+json": {
       "model_id": "e2c3574f4cbd4a5ab9094362ad648907",
       "version_major": 2,
       "version_minor": 0
      },
      "text/plain": [
       "  0%|          | 0/1000 [00:00<?, ?it/s]"
      ]
     },
     "metadata": {},
     "output_type": "display_data"
    },
    {
     "name": "stderr",
     "output_type": "stream",
     "text": [
      "\r",
      " 15%|█▍        | 146/1000 [00:33<03:45,  3.79it/s]"
     ]
    },
    {
     "data": {
      "application/vnd.jupyter.widget-view+json": {
       "model_id": "28e67548599849bda7182d3d93ed28c6",
       "version_major": 2,
       "version_minor": 0
      },
      "text/plain": [
       "  0%|          | 0/1000 [00:00<?, ?it/s]"
      ]
     },
     "metadata": {},
     "output_type": "display_data"
    },
    {
     "name": "stderr",
     "output_type": "stream",
     "text": [
      "\r",
      " 15%|█▍        | 147/1000 [00:33<03:41,  3.86it/s]"
     ]
    },
    {
     "data": {
      "application/vnd.jupyter.widget-view+json": {
       "model_id": "4963aeb3511f479d97534a4137799a93",
       "version_major": 2,
       "version_minor": 0
      },
      "text/plain": [
       "  0%|          | 0/1000 [00:00<?, ?it/s]"
      ]
     },
     "metadata": {},
     "output_type": "display_data"
    },
    {
     "name": "stderr",
     "output_type": "stream",
     "text": [
      "\r",
      " 15%|█▍        | 148/1000 [00:34<03:39,  3.88it/s]"
     ]
    },
    {
     "data": {
      "application/vnd.jupyter.widget-view+json": {
       "model_id": "63777697bd28408294166022ac415144",
       "version_major": 2,
       "version_minor": 0
      },
      "text/plain": [
       "  0%|          | 0/1000 [00:00<?, ?it/s]"
      ]
     },
     "metadata": {},
     "output_type": "display_data"
    },
    {
     "name": "stderr",
     "output_type": "stream",
     "text": [
      "\r",
      " 15%|█▍        | 149/1000 [00:34<03:32,  4.01it/s]"
     ]
    },
    {
     "data": {
      "application/vnd.jupyter.widget-view+json": {
       "model_id": "761a5c9da9fc4339a14188fdbf367c4d",
       "version_major": 2,
       "version_minor": 0
      },
      "text/plain": [
       "  0%|          | 0/1000 [00:00<?, ?it/s]"
      ]
     },
     "metadata": {},
     "output_type": "display_data"
    },
    {
     "name": "stderr",
     "output_type": "stream",
     "text": [
      "\r",
      " 15%|█▌        | 150/1000 [00:34<03:32,  3.99it/s]"
     ]
    },
    {
     "data": {
      "application/vnd.jupyter.widget-view+json": {
       "model_id": "6a2a178cd38a4c1cbeeb2aa04e2af159",
       "version_major": 2,
       "version_minor": 0
      },
      "text/plain": [
       "  0%|          | 0/1000 [00:00<?, ?it/s]"
      ]
     },
     "metadata": {},
     "output_type": "display_data"
    },
    {
     "name": "stderr",
     "output_type": "stream",
     "text": [
      "\r",
      " 15%|█▌        | 151/1000 [00:34<03:28,  4.06it/s]"
     ]
    },
    {
     "data": {
      "application/vnd.jupyter.widget-view+json": {
       "model_id": "ffffaf9d7de44b199b048dd8bc4f00f9",
       "version_major": 2,
       "version_minor": 0
      },
      "text/plain": [
       "  0%|          | 0/1000 [00:00<?, ?it/s]"
      ]
     },
     "metadata": {},
     "output_type": "display_data"
    },
    {
     "name": "stderr",
     "output_type": "stream",
     "text": [
      "\r",
      " 15%|█▌        | 152/1000 [00:35<03:38,  3.88it/s]"
     ]
    },
    {
     "data": {
      "application/vnd.jupyter.widget-view+json": {
       "model_id": "9bdde5b3685d4d42ae3235e859b66d18",
       "version_major": 2,
       "version_minor": 0
      },
      "text/plain": [
       "  0%|          | 0/1000 [00:00<?, ?it/s]"
      ]
     },
     "metadata": {},
     "output_type": "display_data"
    },
    {
     "name": "stderr",
     "output_type": "stream",
     "text": [
      "\r",
      " 15%|█▌        | 153/1000 [00:35<03:33,  3.97it/s]"
     ]
    },
    {
     "data": {
      "application/vnd.jupyter.widget-view+json": {
       "model_id": "34c9f93fde2a4be38fc47a1a6611904c",
       "version_major": 2,
       "version_minor": 0
      },
      "text/plain": [
       "  0%|          | 0/1000 [00:00<?, ?it/s]"
      ]
     },
     "metadata": {},
     "output_type": "display_data"
    },
    {
     "name": "stderr",
     "output_type": "stream",
     "text": [
      "\r",
      " 15%|█▌        | 154/1000 [00:35<03:28,  4.06it/s]"
     ]
    },
    {
     "data": {
      "application/vnd.jupyter.widget-view+json": {
       "model_id": "916c99c1d9694b7f974abb4afd3be17f",
       "version_major": 2,
       "version_minor": 0
      },
      "text/plain": [
       "  0%|          | 0/1000 [00:00<?, ?it/s]"
      ]
     },
     "metadata": {},
     "output_type": "display_data"
    },
    {
     "name": "stderr",
     "output_type": "stream",
     "text": [
      "\r",
      " 16%|█▌        | 155/1000 [00:35<03:24,  4.12it/s]"
     ]
    },
    {
     "data": {
      "application/vnd.jupyter.widget-view+json": {
       "model_id": "f72ca527a38149689518d415ec7c8401",
       "version_major": 2,
       "version_minor": 0
      },
      "text/plain": [
       "  0%|          | 0/1000 [00:00<?, ?it/s]"
      ]
     },
     "metadata": {},
     "output_type": "display_data"
    },
    {
     "name": "stderr",
     "output_type": "stream",
     "text": [
      "\r",
      " 16%|█▌        | 156/1000 [00:35<03:23,  4.14it/s]"
     ]
    },
    {
     "data": {
      "application/vnd.jupyter.widget-view+json": {
       "model_id": "480aa3b697e0472a8adf6152808cd96a",
       "version_major": 2,
       "version_minor": 0
      },
      "text/plain": [
       "  0%|          | 0/1000 [00:00<?, ?it/s]"
      ]
     },
     "metadata": {},
     "output_type": "display_data"
    },
    {
     "name": "stderr",
     "output_type": "stream",
     "text": [
      "\r",
      " 16%|█▌        | 157/1000 [00:36<03:23,  4.15it/s]"
     ]
    },
    {
     "data": {
      "application/vnd.jupyter.widget-view+json": {
       "model_id": "7a9973ff7b3e491dbd2376200b594e3c",
       "version_major": 2,
       "version_minor": 0
      },
      "text/plain": [
       "  0%|          | 0/1000 [00:00<?, ?it/s]"
      ]
     },
     "metadata": {},
     "output_type": "display_data"
    },
    {
     "name": "stderr",
     "output_type": "stream",
     "text": [
      "\r",
      " 16%|█▌        | 158/1000 [00:36<03:23,  4.14it/s]"
     ]
    },
    {
     "data": {
      "application/vnd.jupyter.widget-view+json": {
       "model_id": "41463f2dee2d413a947e261174267ffb",
       "version_major": 2,
       "version_minor": 0
      },
      "text/plain": [
       "  0%|          | 0/1000 [00:00<?, ?it/s]"
      ]
     },
     "metadata": {},
     "output_type": "display_data"
    },
    {
     "name": "stderr",
     "output_type": "stream",
     "text": [
      "\r",
      " 16%|█▌        | 159/1000 [00:36<03:22,  4.15it/s]"
     ]
    },
    {
     "data": {
      "application/vnd.jupyter.widget-view+json": {
       "model_id": "bb91a4a7ee04401b8ac501916926d9ee",
       "version_major": 2,
       "version_minor": 0
      },
      "text/plain": [
       "  0%|          | 0/1000 [00:00<?, ?it/s]"
      ]
     },
     "metadata": {},
     "output_type": "display_data"
    },
    {
     "name": "stderr",
     "output_type": "stream",
     "text": [
      "\r",
      " 16%|█▌        | 160/1000 [00:36<03:19,  4.21it/s]"
     ]
    },
    {
     "data": {
      "application/vnd.jupyter.widget-view+json": {
       "model_id": "d824b4429b4043e887c1c17ca292be88",
       "version_major": 2,
       "version_minor": 0
      },
      "text/plain": [
       "  0%|          | 0/1000 [00:00<?, ?it/s]"
      ]
     },
     "metadata": {},
     "output_type": "display_data"
    },
    {
     "name": "stderr",
     "output_type": "stream",
     "text": [
      "\r",
      " 16%|█▌        | 161/1000 [00:37<03:18,  4.22it/s]"
     ]
    },
    {
     "data": {
      "application/vnd.jupyter.widget-view+json": {
       "model_id": "bfe7a13616aa40eca31155a7449ca2ad",
       "version_major": 2,
       "version_minor": 0
      },
      "text/plain": [
       "  0%|          | 0/1000 [00:00<?, ?it/s]"
      ]
     },
     "metadata": {},
     "output_type": "display_data"
    },
    {
     "name": "stderr",
     "output_type": "stream",
     "text": [
      "\r",
      " 16%|█▌        | 162/1000 [00:37<03:17,  4.25it/s]"
     ]
    },
    {
     "data": {
      "application/vnd.jupyter.widget-view+json": {
       "model_id": "83223e0f30874fd38ef89df55e3a0bf3",
       "version_major": 2,
       "version_minor": 0
      },
      "text/plain": [
       "  0%|          | 0/1000 [00:00<?, ?it/s]"
      ]
     },
     "metadata": {},
     "output_type": "display_data"
    },
    {
     "name": "stderr",
     "output_type": "stream",
     "text": [
      "\r",
      " 16%|█▋        | 163/1000 [00:37<03:17,  4.23it/s]"
     ]
    },
    {
     "data": {
      "application/vnd.jupyter.widget-view+json": {
       "model_id": "d092a477a4a64670bc9856a3ec336867",
       "version_major": 2,
       "version_minor": 0
      },
      "text/plain": [
       "  0%|          | 0/1000 [00:00<?, ?it/s]"
      ]
     },
     "metadata": {},
     "output_type": "display_data"
    },
    {
     "name": "stderr",
     "output_type": "stream",
     "text": [
      "\r",
      " 16%|█▋        | 164/1000 [00:37<03:20,  4.17it/s]"
     ]
    },
    {
     "data": {
      "application/vnd.jupyter.widget-view+json": {
       "model_id": "51f43a2b68f74fb3886a7d937f69a7b9",
       "version_major": 2,
       "version_minor": 0
      },
      "text/plain": [
       "  0%|          | 0/1000 [00:00<?, ?it/s]"
      ]
     },
     "metadata": {},
     "output_type": "display_data"
    },
    {
     "name": "stderr",
     "output_type": "stream",
     "text": [
      "\r",
      " 16%|█▋        | 165/1000 [00:38<03:23,  4.11it/s]"
     ]
    },
    {
     "data": {
      "application/vnd.jupyter.widget-view+json": {
       "model_id": "cb9d9fe5c24443de839fa36bfb1dd702",
       "version_major": 2,
       "version_minor": 0
      },
      "text/plain": [
       "  0%|          | 0/1000 [00:00<?, ?it/s]"
      ]
     },
     "metadata": {},
     "output_type": "display_data"
    },
    {
     "name": "stderr",
     "output_type": "stream",
     "text": [
      "\r",
      " 17%|█▋        | 166/1000 [00:38<03:28,  4.01it/s]"
     ]
    },
    {
     "data": {
      "application/vnd.jupyter.widget-view+json": {
       "model_id": "16a845185a4c4103b49f330fc44ffd15",
       "version_major": 2,
       "version_minor": 0
      },
      "text/plain": [
       "  0%|          | 0/1000 [00:00<?, ?it/s]"
      ]
     },
     "metadata": {},
     "output_type": "display_data"
    },
    {
     "name": "stderr",
     "output_type": "stream",
     "text": [
      "\r",
      " 17%|█▋        | 167/1000 [00:38<03:26,  4.03it/s]"
     ]
    },
    {
     "data": {
      "application/vnd.jupyter.widget-view+json": {
       "model_id": "70d80341ee8d4cefa41289a5a45547ad",
       "version_major": 2,
       "version_minor": 0
      },
      "text/plain": [
       "  0%|          | 0/1000 [00:00<?, ?it/s]"
      ]
     },
     "metadata": {},
     "output_type": "display_data"
    },
    {
     "name": "stderr",
     "output_type": "stream",
     "text": [
      "\r",
      " 17%|█▋        | 168/1000 [00:38<03:22,  4.10it/s]"
     ]
    },
    {
     "data": {
      "application/vnd.jupyter.widget-view+json": {
       "model_id": "825534f5f7254ec0b0ef4d24a46dd717",
       "version_major": 2,
       "version_minor": 0
      },
      "text/plain": [
       "  0%|          | 0/1000 [00:00<?, ?it/s]"
      ]
     },
     "metadata": {},
     "output_type": "display_data"
    },
    {
     "name": "stderr",
     "output_type": "stream",
     "text": [
      "\r",
      " 17%|█▋        | 169/1000 [00:39<03:19,  4.16it/s]"
     ]
    },
    {
     "data": {
      "application/vnd.jupyter.widget-view+json": {
       "model_id": "6b3353dc7d4d41b0874175c64250923c",
       "version_major": 2,
       "version_minor": 0
      },
      "text/plain": [
       "  0%|          | 0/1000 [00:00<?, ?it/s]"
      ]
     },
     "metadata": {},
     "output_type": "display_data"
    },
    {
     "name": "stderr",
     "output_type": "stream",
     "text": [
      "\r",
      " 17%|█▋        | 170/1000 [00:39<03:18,  4.18it/s]"
     ]
    },
    {
     "data": {
      "application/vnd.jupyter.widget-view+json": {
       "model_id": "aa14a68e6e3649428c2fe38cfee6ae08",
       "version_major": 2,
       "version_minor": 0
      },
      "text/plain": [
       "  0%|          | 0/1000 [00:00<?, ?it/s]"
      ]
     },
     "metadata": {},
     "output_type": "display_data"
    },
    {
     "name": "stderr",
     "output_type": "stream",
     "text": [
      "\r",
      " 17%|█▋        | 171/1000 [00:39<03:19,  4.16it/s]"
     ]
    },
    {
     "data": {
      "application/vnd.jupyter.widget-view+json": {
       "model_id": "2188d39089a946da8043e9d1f15f9a58",
       "version_major": 2,
       "version_minor": 0
      },
      "text/plain": [
       "  0%|          | 0/1000 [00:00<?, ?it/s]"
      ]
     },
     "metadata": {},
     "output_type": "display_data"
    },
    {
     "name": "stderr",
     "output_type": "stream",
     "text": [
      "\r",
      " 17%|█▋        | 172/1000 [00:39<03:16,  4.20it/s]"
     ]
    },
    {
     "data": {
      "application/vnd.jupyter.widget-view+json": {
       "model_id": "d7e4622b83af41f48ba5543e0390581b",
       "version_major": 2,
       "version_minor": 0
      },
      "text/plain": [
       "  0%|          | 0/1000 [00:00<?, ?it/s]"
      ]
     },
     "metadata": {},
     "output_type": "display_data"
    },
    {
     "name": "stderr",
     "output_type": "stream",
     "text": [
      "\r",
      " 17%|█▋        | 173/1000 [00:40<03:19,  4.14it/s]"
     ]
    },
    {
     "data": {
      "application/vnd.jupyter.widget-view+json": {
       "model_id": "21d54a709fbe480b935cdc44adbfcb5e",
       "version_major": 2,
       "version_minor": 0
      },
      "text/plain": [
       "  0%|          | 0/1000 [00:00<?, ?it/s]"
      ]
     },
     "metadata": {},
     "output_type": "display_data"
    },
    {
     "name": "stderr",
     "output_type": "stream",
     "text": [
      "\r",
      " 17%|█▋        | 174/1000 [00:40<03:19,  4.13it/s]"
     ]
    },
    {
     "data": {
      "application/vnd.jupyter.widget-view+json": {
       "model_id": "9407af6f9d6d475eb0dbab77bb6996a7",
       "version_major": 2,
       "version_minor": 0
      },
      "text/plain": [
       "  0%|          | 0/1000 [00:00<?, ?it/s]"
      ]
     },
     "metadata": {},
     "output_type": "display_data"
    },
    {
     "name": "stderr",
     "output_type": "stream",
     "text": [
      "\r",
      " 18%|█▊        | 175/1000 [00:40<03:19,  4.14it/s]"
     ]
    },
    {
     "data": {
      "application/vnd.jupyter.widget-view+json": {
       "model_id": "a2581b33e1504ccba6775a944f4aa26d",
       "version_major": 2,
       "version_minor": 0
      },
      "text/plain": [
       "  0%|          | 0/1000 [00:00<?, ?it/s]"
      ]
     },
     "metadata": {},
     "output_type": "display_data"
    },
    {
     "name": "stderr",
     "output_type": "stream",
     "text": [
      "\r",
      " 18%|█▊        | 176/1000 [00:40<03:19,  4.14it/s]"
     ]
    },
    {
     "data": {
      "application/vnd.jupyter.widget-view+json": {
       "model_id": "935d9e84e78643b6a2f041dabc331b2c",
       "version_major": 2,
       "version_minor": 0
      },
      "text/plain": [
       "  0%|          | 0/1000 [00:00<?, ?it/s]"
      ]
     },
     "metadata": {},
     "output_type": "display_data"
    },
    {
     "name": "stderr",
     "output_type": "stream",
     "text": [
      "\r",
      " 18%|█▊        | 177/1000 [00:41<03:15,  4.20it/s]"
     ]
    },
    {
     "data": {
      "application/vnd.jupyter.widget-view+json": {
       "model_id": "bbdcb9abb33242bfa1d0e978e245d1d9",
       "version_major": 2,
       "version_minor": 0
      },
      "text/plain": [
       "  0%|          | 0/1000 [00:00<?, ?it/s]"
      ]
     },
     "metadata": {},
     "output_type": "display_data"
    },
    {
     "name": "stderr",
     "output_type": "stream",
     "text": [
      "\r",
      " 18%|█▊        | 178/1000 [00:41<03:16,  4.19it/s]"
     ]
    },
    {
     "data": {
      "application/vnd.jupyter.widget-view+json": {
       "model_id": "4e9dc7c383de46c0b715cf579400d44c",
       "version_major": 2,
       "version_minor": 0
      },
      "text/plain": [
       "  0%|          | 0/1000 [00:00<?, ?it/s]"
      ]
     },
     "metadata": {},
     "output_type": "display_data"
    },
    {
     "name": "stderr",
     "output_type": "stream",
     "text": [
      "\r",
      " 18%|█▊        | 179/1000 [00:41<03:16,  4.17it/s]"
     ]
    },
    {
     "data": {
      "application/vnd.jupyter.widget-view+json": {
       "model_id": "d99f20d1bf144957b5024832588b4588",
       "version_major": 2,
       "version_minor": 0
      },
      "text/plain": [
       "  0%|          | 0/1000 [00:00<?, ?it/s]"
      ]
     },
     "metadata": {},
     "output_type": "display_data"
    },
    {
     "name": "stderr",
     "output_type": "stream",
     "text": [
      "\r",
      " 18%|█▊        | 180/1000 [00:41<03:21,  4.07it/s]"
     ]
    },
    {
     "data": {
      "application/vnd.jupyter.widget-view+json": {
       "model_id": "e2b04811abd3400281dac37d57178ccd",
       "version_major": 2,
       "version_minor": 0
      },
      "text/plain": [
       "  0%|          | 0/1000 [00:00<?, ?it/s]"
      ]
     },
     "metadata": {},
     "output_type": "display_data"
    },
    {
     "name": "stderr",
     "output_type": "stream",
     "text": [
      "\r",
      " 18%|█▊        | 181/1000 [00:42<03:19,  4.10it/s]"
     ]
    },
    {
     "data": {
      "application/vnd.jupyter.widget-view+json": {
       "model_id": "15930b3c7c3541e1a95243ea77f9a54a",
       "version_major": 2,
       "version_minor": 0
      },
      "text/plain": [
       "  0%|          | 0/1000 [00:00<?, ?it/s]"
      ]
     },
     "metadata": {},
     "output_type": "display_data"
    },
    {
     "name": "stderr",
     "output_type": "stream",
     "text": [
      "\r",
      " 18%|█▊        | 182/1000 [00:42<03:19,  4.09it/s]"
     ]
    },
    {
     "data": {
      "application/vnd.jupyter.widget-view+json": {
       "model_id": "1d9635019fc14409b7f95723b9aba3a0",
       "version_major": 2,
       "version_minor": 0
      },
      "text/plain": [
       "  0%|          | 0/1000 [00:00<?, ?it/s]"
      ]
     },
     "metadata": {},
     "output_type": "display_data"
    },
    {
     "name": "stderr",
     "output_type": "stream",
     "text": [
      "\r",
      " 18%|█▊        | 183/1000 [00:42<03:16,  4.16it/s]"
     ]
    },
    {
     "data": {
      "application/vnd.jupyter.widget-view+json": {
       "model_id": "d2aec755d3df447fae8c8ca6e0fbbf17",
       "version_major": 2,
       "version_minor": 0
      },
      "text/plain": [
       "  0%|          | 0/1000 [00:00<?, ?it/s]"
      ]
     },
     "metadata": {},
     "output_type": "display_data"
    },
    {
     "name": "stderr",
     "output_type": "stream",
     "text": [
      "\r",
      " 18%|█▊        | 184/1000 [00:42<03:13,  4.21it/s]"
     ]
    },
    {
     "data": {
      "application/vnd.jupyter.widget-view+json": {
       "model_id": "49edee86602e4450a7e06b40ee0300f6",
       "version_major": 2,
       "version_minor": 0
      },
      "text/plain": [
       "  0%|          | 0/1000 [00:00<?, ?it/s]"
      ]
     },
     "metadata": {},
     "output_type": "display_data"
    },
    {
     "name": "stderr",
     "output_type": "stream",
     "text": [
      "\r",
      " 18%|█▊        | 185/1000 [00:42<03:16,  4.14it/s]"
     ]
    },
    {
     "data": {
      "application/vnd.jupyter.widget-view+json": {
       "model_id": "0ecad2a676b947c0b99b8a8aff9c3473",
       "version_major": 2,
       "version_minor": 0
      },
      "text/plain": [
       "  0%|          | 0/1000 [00:00<?, ?it/s]"
      ]
     },
     "metadata": {},
     "output_type": "display_data"
    },
    {
     "name": "stderr",
     "output_type": "stream",
     "text": [
      "\r",
      " 19%|█▊        | 186/1000 [00:43<03:16,  4.14it/s]"
     ]
    },
    {
     "data": {
      "application/vnd.jupyter.widget-view+json": {
       "model_id": "24c16a718f6b48ff98997e3986c88913",
       "version_major": 2,
       "version_minor": 0
      },
      "text/plain": [
       "  0%|          | 0/1000 [00:00<?, ?it/s]"
      ]
     },
     "metadata": {},
     "output_type": "display_data"
    },
    {
     "name": "stderr",
     "output_type": "stream",
     "text": [
      "\r",
      " 19%|█▊        | 187/1000 [00:43<03:16,  4.13it/s]"
     ]
    },
    {
     "data": {
      "application/vnd.jupyter.widget-view+json": {
       "model_id": "7eef91145aff4e1d90cbabfcf8c271b4",
       "version_major": 2,
       "version_minor": 0
      },
      "text/plain": [
       "  0%|          | 0/1000 [00:00<?, ?it/s]"
      ]
     },
     "metadata": {},
     "output_type": "display_data"
    },
    {
     "name": "stderr",
     "output_type": "stream",
     "text": [
      "\r",
      " 19%|█▉        | 188/1000 [00:43<03:13,  4.19it/s]"
     ]
    },
    {
     "data": {
      "application/vnd.jupyter.widget-view+json": {
       "model_id": "2ce19563c8424bb4984bfac29a2112c1",
       "version_major": 2,
       "version_minor": 0
      },
      "text/plain": [
       "  0%|          | 0/1000 [00:00<?, ?it/s]"
      ]
     },
     "metadata": {},
     "output_type": "display_data"
    },
    {
     "name": "stderr",
     "output_type": "stream",
     "text": [
      "\r",
      " 19%|█▉        | 189/1000 [00:43<03:12,  4.21it/s]"
     ]
    },
    {
     "data": {
      "application/vnd.jupyter.widget-view+json": {
       "model_id": "4cca5ce758634bbfadf6db4b921bc5db",
       "version_major": 2,
       "version_minor": 0
      },
      "text/plain": [
       "  0%|          | 0/1000 [00:00<?, ?it/s]"
      ]
     },
     "metadata": {},
     "output_type": "display_data"
    },
    {
     "name": "stderr",
     "output_type": "stream",
     "text": [
      "\r",
      " 19%|█▉        | 190/1000 [00:44<03:17,  4.10it/s]"
     ]
    },
    {
     "data": {
      "application/vnd.jupyter.widget-view+json": {
       "model_id": "6b64449cfecc43bab506f72449e541df",
       "version_major": 2,
       "version_minor": 0
      },
      "text/plain": [
       "  0%|          | 0/1000 [00:00<?, ?it/s]"
      ]
     },
     "metadata": {},
     "output_type": "display_data"
    },
    {
     "name": "stderr",
     "output_type": "stream",
     "text": [
      "\r",
      " 19%|█▉        | 191/1000 [00:44<03:13,  4.18it/s]"
     ]
    },
    {
     "data": {
      "application/vnd.jupyter.widget-view+json": {
       "model_id": "d40f4273ff7d46d2b61d7c94c5bb9a23",
       "version_major": 2,
       "version_minor": 0
      },
      "text/plain": [
       "  0%|          | 0/1000 [00:00<?, ?it/s]"
      ]
     },
     "metadata": {},
     "output_type": "display_data"
    },
    {
     "name": "stderr",
     "output_type": "stream",
     "text": [
      "\r",
      " 19%|█▉        | 192/1000 [00:44<03:11,  4.21it/s]"
     ]
    },
    {
     "data": {
      "application/vnd.jupyter.widget-view+json": {
       "model_id": "0b4ddae1e61b41d5adea1101a92e76ec",
       "version_major": 2,
       "version_minor": 0
      },
      "text/plain": [
       "  0%|          | 0/1000 [00:00<?, ?it/s]"
      ]
     },
     "metadata": {},
     "output_type": "display_data"
    },
    {
     "name": "stderr",
     "output_type": "stream",
     "text": [
      "\r",
      " 19%|█▉        | 193/1000 [00:44<03:09,  4.25it/s]"
     ]
    },
    {
     "data": {
      "application/vnd.jupyter.widget-view+json": {
       "model_id": "b8524abe283846ecafeeb3d15023fb54",
       "version_major": 2,
       "version_minor": 0
      },
      "text/plain": [
       "  0%|          | 0/1000 [00:00<?, ?it/s]"
      ]
     },
     "metadata": {},
     "output_type": "display_data"
    },
    {
     "name": "stderr",
     "output_type": "stream",
     "text": [
      "\r",
      " 19%|█▉        | 194/1000 [00:45<03:11,  4.22it/s]"
     ]
    },
    {
     "data": {
      "application/vnd.jupyter.widget-view+json": {
       "model_id": "702f932745f24098aea18f47fe7585fe",
       "version_major": 2,
       "version_minor": 0
      },
      "text/plain": [
       "  0%|          | 0/1000 [00:00<?, ?it/s]"
      ]
     },
     "metadata": {},
     "output_type": "display_data"
    },
    {
     "name": "stderr",
     "output_type": "stream",
     "text": [
      "\r",
      " 20%|█▉        | 195/1000 [00:45<03:10,  4.23it/s]"
     ]
    },
    {
     "data": {
      "application/vnd.jupyter.widget-view+json": {
       "model_id": "74b1eb7073b14ba180a0b44fde7b0e25",
       "version_major": 2,
       "version_minor": 0
      },
      "text/plain": [
       "  0%|          | 0/1000 [00:00<?, ?it/s]"
      ]
     },
     "metadata": {},
     "output_type": "display_data"
    },
    {
     "name": "stderr",
     "output_type": "stream",
     "text": [
      "\r",
      " 20%|█▉        | 196/1000 [00:45<03:12,  4.17it/s]"
     ]
    },
    {
     "data": {
      "application/vnd.jupyter.widget-view+json": {
       "model_id": "453b5be705d344b0a23c542d88e5df7e",
       "version_major": 2,
       "version_minor": 0
      },
      "text/plain": [
       "  0%|          | 0/1000 [00:00<?, ?it/s]"
      ]
     },
     "metadata": {},
     "output_type": "display_data"
    },
    {
     "name": "stderr",
     "output_type": "stream",
     "text": [
      "\r",
      " 20%|█▉        | 197/1000 [00:45<03:14,  4.14it/s]"
     ]
    },
    {
     "data": {
      "application/vnd.jupyter.widget-view+json": {
       "model_id": "f189f6a63c55417ab6d1843dda345abd",
       "version_major": 2,
       "version_minor": 0
      },
      "text/plain": [
       "  0%|          | 0/1000 [00:00<?, ?it/s]"
      ]
     },
     "metadata": {},
     "output_type": "display_data"
    },
    {
     "name": "stderr",
     "output_type": "stream",
     "text": [
      "\r",
      " 20%|█▉        | 198/1000 [00:46<03:18,  4.05it/s]"
     ]
    },
    {
     "data": {
      "application/vnd.jupyter.widget-view+json": {
       "model_id": "aaf858c61e6240cead3ebe32b2a3b691",
       "version_major": 2,
       "version_minor": 0
      },
      "text/plain": [
       "  0%|          | 0/1000 [00:00<?, ?it/s]"
      ]
     },
     "metadata": {},
     "output_type": "display_data"
    },
    {
     "name": "stderr",
     "output_type": "stream",
     "text": [
      "\r",
      " 20%|█▉        | 199/1000 [00:46<03:18,  4.03it/s]"
     ]
    },
    {
     "data": {
      "application/vnd.jupyter.widget-view+json": {
       "model_id": "643d6d73ad854824ab6b019ad0fd2698",
       "version_major": 2,
       "version_minor": 0
      },
      "text/plain": [
       "  0%|          | 0/1000 [00:00<?, ?it/s]"
      ]
     },
     "metadata": {},
     "output_type": "display_data"
    },
    {
     "name": "stderr",
     "output_type": "stream",
     "text": [
      "\r",
      " 20%|██        | 200/1000 [00:46<03:19,  4.02it/s]"
     ]
    },
    {
     "data": {
      "application/vnd.jupyter.widget-view+json": {
       "model_id": "be0cc24cffdd423a84fe5743be0f6267",
       "version_major": 2,
       "version_minor": 0
      },
      "text/plain": [
       "  0%|          | 0/1000 [00:00<?, ?it/s]"
      ]
     },
     "metadata": {},
     "output_type": "display_data"
    },
    {
     "name": "stderr",
     "output_type": "stream",
     "text": [
      "\r",
      " 20%|██        | 201/1000 [00:46<03:20,  3.99it/s]"
     ]
    },
    {
     "data": {
      "application/vnd.jupyter.widget-view+json": {
       "model_id": "0b65b63a7aff40d394d08f8e7be4e4ad",
       "version_major": 2,
       "version_minor": 0
      },
      "text/plain": [
       "  0%|          | 0/1000 [00:00<?, ?it/s]"
      ]
     },
     "metadata": {},
     "output_type": "display_data"
    },
    {
     "name": "stderr",
     "output_type": "stream",
     "text": [
      "\r",
      " 20%|██        | 202/1000 [00:47<03:22,  3.95it/s]"
     ]
    },
    {
     "data": {
      "application/vnd.jupyter.widget-view+json": {
       "model_id": "12cce7bb7cbe424bb11ff006da888acf",
       "version_major": 2,
       "version_minor": 0
      },
      "text/plain": [
       "  0%|          | 0/1000 [00:00<?, ?it/s]"
      ]
     },
     "metadata": {},
     "output_type": "display_data"
    },
    {
     "name": "stderr",
     "output_type": "stream",
     "text": [
      "\r",
      " 20%|██        | 203/1000 [00:47<03:19,  4.00it/s]"
     ]
    },
    {
     "data": {
      "application/vnd.jupyter.widget-view+json": {
       "model_id": "8c727bb6d72345458f703bc2d92a7fb7",
       "version_major": 2,
       "version_minor": 0
      },
      "text/plain": [
       "  0%|          | 0/1000 [00:00<?, ?it/s]"
      ]
     },
     "metadata": {},
     "output_type": "display_data"
    },
    {
     "name": "stderr",
     "output_type": "stream",
     "text": [
      "\r",
      " 20%|██        | 204/1000 [00:47<03:17,  4.03it/s]"
     ]
    },
    {
     "data": {
      "application/vnd.jupyter.widget-view+json": {
       "model_id": "a2e2b37a7c5f47ff9dfde8047e1c7b4a",
       "version_major": 2,
       "version_minor": 0
      },
      "text/plain": [
       "  0%|          | 0/1000 [00:00<?, ?it/s]"
      ]
     },
     "metadata": {},
     "output_type": "display_data"
    },
    {
     "name": "stderr",
     "output_type": "stream",
     "text": [
      "\r",
      " 20%|██        | 205/1000 [00:47<03:14,  4.08it/s]"
     ]
    },
    {
     "data": {
      "application/vnd.jupyter.widget-view+json": {
       "model_id": "de311af4050d4eb1990c8fd9c5d7896e",
       "version_major": 2,
       "version_minor": 0
      },
      "text/plain": [
       "  0%|          | 0/1000 [00:00<?, ?it/s]"
      ]
     },
     "metadata": {},
     "output_type": "display_data"
    },
    {
     "name": "stderr",
     "output_type": "stream",
     "text": [
      "\r",
      " 21%|██        | 206/1000 [00:48<03:16,  4.03it/s]"
     ]
    },
    {
     "data": {
      "application/vnd.jupyter.widget-view+json": {
       "model_id": "aeef527b08944de8a87f2f8e4efa614b",
       "version_major": 2,
       "version_minor": 0
      },
      "text/plain": [
       "  0%|          | 0/1000 [00:00<?, ?it/s]"
      ]
     },
     "metadata": {},
     "output_type": "display_data"
    },
    {
     "name": "stderr",
     "output_type": "stream",
     "text": [
      "\r",
      " 21%|██        | 207/1000 [00:48<03:16,  4.04it/s]"
     ]
    },
    {
     "data": {
      "application/vnd.jupyter.widget-view+json": {
       "model_id": "f7b48aa21b7548a1a372e80f42e4f453",
       "version_major": 2,
       "version_minor": 0
      },
      "text/plain": [
       "  0%|          | 0/1000 [00:00<?, ?it/s]"
      ]
     },
     "metadata": {},
     "output_type": "display_data"
    },
    {
     "name": "stderr",
     "output_type": "stream",
     "text": [
      "\r",
      " 21%|██        | 208/1000 [00:48<03:16,  4.03it/s]"
     ]
    },
    {
     "data": {
      "application/vnd.jupyter.widget-view+json": {
       "model_id": "baa41937bc8944e7a8ce8c568ff15975",
       "version_major": 2,
       "version_minor": 0
      },
      "text/plain": [
       "  0%|          | 0/1000 [00:00<?, ?it/s]"
      ]
     },
     "metadata": {},
     "output_type": "display_data"
    },
    {
     "name": "stderr",
     "output_type": "stream",
     "text": [
      "\r",
      " 21%|██        | 209/1000 [00:48<03:14,  4.07it/s]"
     ]
    },
    {
     "data": {
      "application/vnd.jupyter.widget-view+json": {
       "model_id": "8ae61775195644898d3bc1d9b3955b07",
       "version_major": 2,
       "version_minor": 0
      },
      "text/plain": [
       "  0%|          | 0/1000 [00:00<?, ?it/s]"
      ]
     },
     "metadata": {},
     "output_type": "display_data"
    },
    {
     "name": "stderr",
     "output_type": "stream",
     "text": [
      "\r",
      " 21%|██        | 210/1000 [00:49<03:13,  4.08it/s]"
     ]
    },
    {
     "data": {
      "application/vnd.jupyter.widget-view+json": {
       "model_id": "b1b36f9d1b94429a8efa012d811e6ecb",
       "version_major": 2,
       "version_minor": 0
      },
      "text/plain": [
       "  0%|          | 0/1000 [00:00<?, ?it/s]"
      ]
     },
     "metadata": {},
     "output_type": "display_data"
    },
    {
     "name": "stderr",
     "output_type": "stream",
     "text": [
      "\r",
      " 21%|██        | 211/1000 [00:49<03:13,  4.07it/s]"
     ]
    },
    {
     "data": {
      "application/vnd.jupyter.widget-view+json": {
       "model_id": "e1d1df37586f4ba0aa43ce58dc0ef1c6",
       "version_major": 2,
       "version_minor": 0
      },
      "text/plain": [
       "  0%|          | 0/1000 [00:00<?, ?it/s]"
      ]
     },
     "metadata": {},
     "output_type": "display_data"
    },
    {
     "name": "stderr",
     "output_type": "stream",
     "text": [
      "\r",
      " 21%|██        | 212/1000 [00:49<03:13,  4.07it/s]"
     ]
    },
    {
     "data": {
      "application/vnd.jupyter.widget-view+json": {
       "model_id": "3d149ae954d64f7f833b1806ced30ecf",
       "version_major": 2,
       "version_minor": 0
      },
      "text/plain": [
       "  0%|          | 0/1000 [00:00<?, ?it/s]"
      ]
     },
     "metadata": {},
     "output_type": "display_data"
    },
    {
     "name": "stderr",
     "output_type": "stream",
     "text": [
      "\r",
      " 21%|██▏       | 213/1000 [00:49<03:12,  4.09it/s]"
     ]
    },
    {
     "data": {
      "application/vnd.jupyter.widget-view+json": {
       "model_id": "5f01b6fd836e4dfe85f6db1e74d3717c",
       "version_major": 2,
       "version_minor": 0
      },
      "text/plain": [
       "  0%|          | 0/1000 [00:00<?, ?it/s]"
      ]
     },
     "metadata": {},
     "output_type": "display_data"
    },
    {
     "name": "stderr",
     "output_type": "stream",
     "text": [
      "\r",
      " 21%|██▏       | 214/1000 [00:50<03:16,  4.00it/s]"
     ]
    },
    {
     "data": {
      "application/vnd.jupyter.widget-view+json": {
       "model_id": "323ab1f5a89c45748af850156e0ef824",
       "version_major": 2,
       "version_minor": 0
      },
      "text/plain": [
       "  0%|          | 0/1000 [00:00<?, ?it/s]"
      ]
     },
     "metadata": {},
     "output_type": "display_data"
    },
    {
     "name": "stderr",
     "output_type": "stream",
     "text": [
      "\r",
      " 22%|██▏       | 215/1000 [00:50<03:20,  3.91it/s]"
     ]
    },
    {
     "data": {
      "application/vnd.jupyter.widget-view+json": {
       "model_id": "77df46047f6142108b6796edfcbba39c",
       "version_major": 2,
       "version_minor": 0
      },
      "text/plain": [
       "  0%|          | 0/1000 [00:00<?, ?it/s]"
      ]
     },
     "metadata": {},
     "output_type": "display_data"
    },
    {
     "name": "stderr",
     "output_type": "stream",
     "text": [
      "\r",
      " 22%|██▏       | 216/1000 [00:50<03:20,  3.91it/s]"
     ]
    },
    {
     "data": {
      "application/vnd.jupyter.widget-view+json": {
       "model_id": "cc192173fa344d4c934d3c203d0a9c3e",
       "version_major": 2,
       "version_minor": 0
      },
      "text/plain": [
       "  0%|          | 0/1000 [00:00<?, ?it/s]"
      ]
     },
     "metadata": {},
     "output_type": "display_data"
    },
    {
     "name": "stderr",
     "output_type": "stream",
     "text": [
      "\r",
      " 22%|██▏       | 217/1000 [00:50<03:18,  3.94it/s]"
     ]
    },
    {
     "data": {
      "application/vnd.jupyter.widget-view+json": {
       "model_id": "413ef589353643e1b2805c7cc36f27c0",
       "version_major": 2,
       "version_minor": 0
      },
      "text/plain": [
       "  0%|          | 0/1000 [00:00<?, ?it/s]"
      ]
     },
     "metadata": {},
     "output_type": "display_data"
    },
    {
     "name": "stderr",
     "output_type": "stream",
     "text": [
      "\r",
      " 22%|██▏       | 218/1000 [00:51<03:16,  3.98it/s]"
     ]
    },
    {
     "data": {
      "application/vnd.jupyter.widget-view+json": {
       "model_id": "3ec9d3407a234cc290d6dfa86a1b80a0",
       "version_major": 2,
       "version_minor": 0
      },
      "text/plain": [
       "  0%|          | 0/1000 [00:00<?, ?it/s]"
      ]
     },
     "metadata": {},
     "output_type": "display_data"
    },
    {
     "name": "stderr",
     "output_type": "stream",
     "text": [
      "\r",
      " 22%|██▏       | 219/1000 [00:51<03:15,  4.00it/s]"
     ]
    },
    {
     "data": {
      "application/vnd.jupyter.widget-view+json": {
       "model_id": "6271353e7af342ef8adc209fba3c6837",
       "version_major": 2,
       "version_minor": 0
      },
      "text/plain": [
       "  0%|          | 0/1000 [00:00<?, ?it/s]"
      ]
     },
     "metadata": {},
     "output_type": "display_data"
    },
    {
     "name": "stderr",
     "output_type": "stream",
     "text": [
      "\r",
      " 22%|██▏       | 220/1000 [00:51<03:17,  3.95it/s]"
     ]
    },
    {
     "data": {
      "application/vnd.jupyter.widget-view+json": {
       "model_id": "eb1e72a8b19343bf95965c1ac59600ad",
       "version_major": 2,
       "version_minor": 0
      },
      "text/plain": [
       "  0%|          | 0/1000 [00:00<?, ?it/s]"
      ]
     },
     "metadata": {},
     "output_type": "display_data"
    },
    {
     "name": "stderr",
     "output_type": "stream",
     "text": [
      "\r",
      " 22%|██▏       | 221/1000 [00:51<03:12,  4.04it/s]"
     ]
    },
    {
     "data": {
      "application/vnd.jupyter.widget-view+json": {
       "model_id": "98c34a3a9728427d9864f50fbcef5d18",
       "version_major": 2,
       "version_minor": 0
      },
      "text/plain": [
       "  0%|          | 0/1000 [00:00<?, ?it/s]"
      ]
     },
     "metadata": {},
     "output_type": "display_data"
    },
    {
     "name": "stderr",
     "output_type": "stream",
     "text": [
      "\r",
      " 22%|██▏       | 222/1000 [00:52<03:14,  4.01it/s]"
     ]
    },
    {
     "data": {
      "application/vnd.jupyter.widget-view+json": {
       "model_id": "cc8ddab9b2204c7eb3d15f32bd9f320a",
       "version_major": 2,
       "version_minor": 0
      },
      "text/plain": [
       "  0%|          | 0/1000 [00:00<?, ?it/s]"
      ]
     },
     "metadata": {},
     "output_type": "display_data"
    },
    {
     "name": "stderr",
     "output_type": "stream",
     "text": [
      "\r",
      " 22%|██▏       | 223/1000 [00:52<03:17,  3.94it/s]"
     ]
    },
    {
     "data": {
      "application/vnd.jupyter.widget-view+json": {
       "model_id": "f09c0940c4f14d8f92745864fa7e0a06",
       "version_major": 2,
       "version_minor": 0
      },
      "text/plain": [
       "  0%|          | 0/1000 [00:00<?, ?it/s]"
      ]
     },
     "metadata": {},
     "output_type": "display_data"
    },
    {
     "name": "stderr",
     "output_type": "stream",
     "text": [
      "\r",
      " 22%|██▏       | 224/1000 [00:52<03:18,  3.91it/s]"
     ]
    },
    {
     "data": {
      "application/vnd.jupyter.widget-view+json": {
       "model_id": "4866b4b611ac440f996a6102c88d857b",
       "version_major": 2,
       "version_minor": 0
      },
      "text/plain": [
       "  0%|          | 0/1000 [00:00<?, ?it/s]"
      ]
     },
     "metadata": {},
     "output_type": "display_data"
    },
    {
     "name": "stderr",
     "output_type": "stream",
     "text": [
      "\r",
      " 22%|██▎       | 225/1000 [00:52<03:18,  3.90it/s]"
     ]
    },
    {
     "data": {
      "application/vnd.jupyter.widget-view+json": {
       "model_id": "308f02d74676485fb7848ee6aac9c411",
       "version_major": 2,
       "version_minor": 0
      },
      "text/plain": [
       "  0%|          | 0/1000 [00:00<?, ?it/s]"
      ]
     },
     "metadata": {},
     "output_type": "display_data"
    },
    {
     "name": "stderr",
     "output_type": "stream",
     "text": [
      "\r",
      " 23%|██▎       | 226/1000 [00:53<03:14,  3.98it/s]"
     ]
    },
    {
     "data": {
      "application/vnd.jupyter.widget-view+json": {
       "model_id": "b4c824f1bb84488ab515369e90d9947d",
       "version_major": 2,
       "version_minor": 0
      },
      "text/plain": [
       "  0%|          | 0/1000 [00:00<?, ?it/s]"
      ]
     },
     "metadata": {},
     "output_type": "display_data"
    },
    {
     "name": "stderr",
     "output_type": "stream",
     "text": [
      "\r",
      " 23%|██▎       | 227/1000 [00:53<03:42,  3.47it/s]"
     ]
    },
    {
     "data": {
      "application/vnd.jupyter.widget-view+json": {
       "model_id": "4d01c6535a184aafa1617b46b6751770",
       "version_major": 2,
       "version_minor": 0
      },
      "text/plain": [
       "  0%|          | 0/1000 [00:00<?, ?it/s]"
      ]
     },
     "metadata": {},
     "output_type": "display_data"
    },
    {
     "name": "stderr",
     "output_type": "stream",
     "text": [
      "\r",
      " 23%|██▎       | 228/1000 [00:53<03:28,  3.70it/s]"
     ]
    },
    {
     "data": {
      "application/vnd.jupyter.widget-view+json": {
       "model_id": "2233ae960c564bc7a15af49f06ad4b52",
       "version_major": 2,
       "version_minor": 0
      },
      "text/plain": [
       "  0%|          | 0/1000 [00:00<?, ?it/s]"
      ]
     },
     "metadata": {},
     "output_type": "display_data"
    },
    {
     "name": "stderr",
     "output_type": "stream",
     "text": [
      "\r",
      " 23%|██▎       | 229/1000 [00:54<03:48,  3.37it/s]"
     ]
    },
    {
     "data": {
      "application/vnd.jupyter.widget-view+json": {
       "model_id": "8c15d8b9074c4df789b4fc74e8b996ef",
       "version_major": 2,
       "version_minor": 0
      },
      "text/plain": [
       "  0%|          | 0/1000 [00:00<?, ?it/s]"
      ]
     },
     "metadata": {},
     "output_type": "display_data"
    },
    {
     "name": "stderr",
     "output_type": "stream",
     "text": [
      "\r",
      " 23%|██▎       | 230/1000 [00:54<03:36,  3.55it/s]"
     ]
    },
    {
     "data": {
      "application/vnd.jupyter.widget-view+json": {
       "model_id": "10558b0d27844b46929db4e118201a56",
       "version_major": 2,
       "version_minor": 0
      },
      "text/plain": [
       "  0%|          | 0/1000 [00:00<?, ?it/s]"
      ]
     },
     "metadata": {},
     "output_type": "display_data"
    },
    {
     "name": "stderr",
     "output_type": "stream",
     "text": [
      "\r",
      " 23%|██▎       | 231/1000 [00:54<03:26,  3.73it/s]"
     ]
    },
    {
     "data": {
      "application/vnd.jupyter.widget-view+json": {
       "model_id": "77a8b75c83fa428a90e16760cebbee9f",
       "version_major": 2,
       "version_minor": 0
      },
      "text/plain": [
       "  0%|          | 0/1000 [00:00<?, ?it/s]"
      ]
     },
     "metadata": {},
     "output_type": "display_data"
    },
    {
     "name": "stderr",
     "output_type": "stream",
     "text": [
      "\r",
      " 23%|██▎       | 232/1000 [00:54<03:22,  3.79it/s]"
     ]
    },
    {
     "data": {
      "application/vnd.jupyter.widget-view+json": {
       "model_id": "87d966369aea49c8b5a866b19d56e61f",
       "version_major": 2,
       "version_minor": 0
      },
      "text/plain": [
       "  0%|          | 0/1000 [00:00<?, ?it/s]"
      ]
     },
     "metadata": {},
     "output_type": "display_data"
    },
    {
     "name": "stderr",
     "output_type": "stream",
     "text": [
      "\r",
      " 23%|██▎       | 233/1000 [00:55<03:16,  3.90it/s]"
     ]
    },
    {
     "data": {
      "application/vnd.jupyter.widget-view+json": {
       "model_id": "2b345d6a93b349f9929b4319458a903e",
       "version_major": 2,
       "version_minor": 0
      },
      "text/plain": [
       "  0%|          | 0/1000 [00:00<?, ?it/s]"
      ]
     },
     "metadata": {},
     "output_type": "display_data"
    },
    {
     "name": "stderr",
     "output_type": "stream",
     "text": [
      "\r",
      " 23%|██▎       | 234/1000 [00:55<03:10,  4.02it/s]"
     ]
    },
    {
     "data": {
      "application/vnd.jupyter.widget-view+json": {
       "model_id": "24d681ac63fd49d0897ef0a36becfc21",
       "version_major": 2,
       "version_minor": 0
      },
      "text/plain": [
       "  0%|          | 0/1000 [00:00<?, ?it/s]"
      ]
     },
     "metadata": {},
     "output_type": "display_data"
    },
    {
     "name": "stderr",
     "output_type": "stream",
     "text": [
      "\r",
      " 24%|██▎       | 235/1000 [00:55<03:06,  4.10it/s]"
     ]
    },
    {
     "data": {
      "application/vnd.jupyter.widget-view+json": {
       "model_id": "d535b4c8ea0e4619bde541b989388f3b",
       "version_major": 2,
       "version_minor": 0
      },
      "text/plain": [
       "  0%|          | 0/1000 [00:00<?, ?it/s]"
      ]
     },
     "metadata": {},
     "output_type": "display_data"
    },
    {
     "name": "stderr",
     "output_type": "stream",
     "text": [
      "\r",
      " 24%|██▎       | 236/1000 [00:55<03:01,  4.20it/s]"
     ]
    },
    {
     "data": {
      "application/vnd.jupyter.widget-view+json": {
       "model_id": "827319c23678496080f5ed10a2084147",
       "version_major": 2,
       "version_minor": 0
      },
      "text/plain": [
       "  0%|          | 0/1000 [00:00<?, ?it/s]"
      ]
     },
     "metadata": {},
     "output_type": "display_data"
    },
    {
     "name": "stderr",
     "output_type": "stream",
     "text": [
      "\r",
      " 24%|██▎       | 237/1000 [00:55<03:01,  4.21it/s]"
     ]
    },
    {
     "data": {
      "application/vnd.jupyter.widget-view+json": {
       "model_id": "b2ce695045bc48ec815e54f04f64ec12",
       "version_major": 2,
       "version_minor": 0
      },
      "text/plain": [
       "  0%|          | 0/1000 [00:00<?, ?it/s]"
      ]
     },
     "metadata": {},
     "output_type": "display_data"
    },
    {
     "name": "stderr",
     "output_type": "stream",
     "text": [
      "\r",
      " 24%|██▍       | 238/1000 [00:56<03:29,  3.63it/s]"
     ]
    },
    {
     "data": {
      "application/vnd.jupyter.widget-view+json": {
       "model_id": "fa0e9daa253e4dd78ab79ed903eed665",
       "version_major": 2,
       "version_minor": 0
      },
      "text/plain": [
       "  0%|          | 0/1000 [00:00<?, ?it/s]"
      ]
     },
     "metadata": {},
     "output_type": "display_data"
    },
    {
     "name": "stderr",
     "output_type": "stream",
     "text": [
      "\r",
      " 24%|██▍       | 239/1000 [00:56<03:26,  3.69it/s]"
     ]
    },
    {
     "data": {
      "application/vnd.jupyter.widget-view+json": {
       "model_id": "a24a2cae07fc47938c9fb22b8d191962",
       "version_major": 2,
       "version_minor": 0
      },
      "text/plain": [
       "  0%|          | 0/1000 [00:00<?, ?it/s]"
      ]
     },
     "metadata": {},
     "output_type": "display_data"
    },
    {
     "name": "stderr",
     "output_type": "stream",
     "text": [
      "\r",
      " 24%|██▍       | 240/1000 [00:56<03:44,  3.38it/s]"
     ]
    },
    {
     "data": {
      "application/vnd.jupyter.widget-view+json": {
       "model_id": "dcafafe828d748528ed8e42eac6d646b",
       "version_major": 2,
       "version_minor": 0
      },
      "text/plain": [
       "  0%|          | 0/1000 [00:00<?, ?it/s]"
      ]
     },
     "metadata": {},
     "output_type": "display_data"
    },
    {
     "name": "stderr",
     "output_type": "stream",
     "text": [
      "\r",
      " 24%|██▍       | 241/1000 [00:57<03:33,  3.56it/s]"
     ]
    },
    {
     "data": {
      "application/vnd.jupyter.widget-view+json": {
       "model_id": "7e6d5bd390e8411b9e8ff82ebe881935",
       "version_major": 2,
       "version_minor": 0
      },
      "text/plain": [
       "  0%|          | 0/1000 [00:00<?, ?it/s]"
      ]
     },
     "metadata": {},
     "output_type": "display_data"
    },
    {
     "name": "stderr",
     "output_type": "stream",
     "text": [
      "\r",
      " 24%|██▍       | 242/1000 [00:57<03:24,  3.71it/s]"
     ]
    },
    {
     "data": {
      "application/vnd.jupyter.widget-view+json": {
       "model_id": "c3cce59f679641d49eb1598be659f1f4",
       "version_major": 2,
       "version_minor": 0
      },
      "text/plain": [
       "  0%|          | 0/1000 [00:00<?, ?it/s]"
      ]
     },
     "metadata": {},
     "output_type": "display_data"
    },
    {
     "name": "stderr",
     "output_type": "stream",
     "text": [
      "\r",
      " 24%|██▍       | 243/1000 [00:57<03:17,  3.84it/s]"
     ]
    },
    {
     "data": {
      "application/vnd.jupyter.widget-view+json": {
       "model_id": "74c33d90c3794860aefad2039d8cf291",
       "version_major": 2,
       "version_minor": 0
      },
      "text/plain": [
       "  0%|          | 0/1000 [00:00<?, ?it/s]"
      ]
     },
     "metadata": {},
     "output_type": "display_data"
    },
    {
     "name": "stderr",
     "output_type": "stream",
     "text": [
      "\r",
      " 24%|██▍       | 244/1000 [00:57<03:10,  3.96it/s]"
     ]
    },
    {
     "data": {
      "application/vnd.jupyter.widget-view+json": {
       "model_id": "e37da5bdb24242a6ad44aa196988dbc9",
       "version_major": 2,
       "version_minor": 0
      },
      "text/plain": [
       "  0%|          | 0/1000 [00:00<?, ?it/s]"
      ]
     },
     "metadata": {},
     "output_type": "display_data"
    },
    {
     "name": "stderr",
     "output_type": "stream",
     "text": [
      "\r",
      " 24%|██▍       | 245/1000 [00:58<03:11,  3.93it/s]"
     ]
    },
    {
     "data": {
      "application/vnd.jupyter.widget-view+json": {
       "model_id": "cdc6326d9591444596e11bb64b1a0f6d",
       "version_major": 2,
       "version_minor": 0
      },
      "text/plain": [
       "  0%|          | 0/1000 [00:00<?, ?it/s]"
      ]
     },
     "metadata": {},
     "output_type": "display_data"
    },
    {
     "name": "stderr",
     "output_type": "stream",
     "text": [
      "\r",
      " 25%|██▍       | 246/1000 [00:58<03:06,  4.05it/s]"
     ]
    },
    {
     "data": {
      "application/vnd.jupyter.widget-view+json": {
       "model_id": "c01fb4b27579435ab8b2afddfb065519",
       "version_major": 2,
       "version_minor": 0
      },
      "text/plain": [
       "  0%|          | 0/1000 [00:00<?, ?it/s]"
      ]
     },
     "metadata": {},
     "output_type": "display_data"
    },
    {
     "name": "stderr",
     "output_type": "stream",
     "text": [
      "\r",
      " 25%|██▍       | 247/1000 [00:58<03:06,  4.04it/s]"
     ]
    },
    {
     "data": {
      "application/vnd.jupyter.widget-view+json": {
       "model_id": "8e2850e0f12c49b28f306a747f981853",
       "version_major": 2,
       "version_minor": 0
      },
      "text/plain": [
       "  0%|          | 0/1000 [00:00<?, ?it/s]"
      ]
     },
     "metadata": {},
     "output_type": "display_data"
    },
    {
     "name": "stderr",
     "output_type": "stream",
     "text": [
      "\r",
      " 25%|██▍       | 248/1000 [00:58<03:04,  4.07it/s]"
     ]
    },
    {
     "data": {
      "application/vnd.jupyter.widget-view+json": {
       "model_id": "ff241cf7c5d44fd6a92f0d7e24b8a823",
       "version_major": 2,
       "version_minor": 0
      },
      "text/plain": [
       "  0%|          | 0/1000 [00:00<?, ?it/s]"
      ]
     },
     "metadata": {},
     "output_type": "display_data"
    },
    {
     "name": "stderr",
     "output_type": "stream",
     "text": [
      "\r",
      " 25%|██▍       | 249/1000 [00:59<03:03,  4.10it/s]"
     ]
    },
    {
     "data": {
      "application/vnd.jupyter.widget-view+json": {
       "model_id": "3f4ea78182fa47cb8b8b8ecb98b7b9c5",
       "version_major": 2,
       "version_minor": 0
      },
      "text/plain": [
       "  0%|          | 0/1000 [00:00<?, ?it/s]"
      ]
     },
     "metadata": {},
     "output_type": "display_data"
    },
    {
     "name": "stderr",
     "output_type": "stream",
     "text": [
      "\r",
      " 25%|██▌       | 250/1000 [00:59<03:02,  4.11it/s]"
     ]
    },
    {
     "data": {
      "application/vnd.jupyter.widget-view+json": {
       "model_id": "f2af1cfee22a44949308cab57361dc11",
       "version_major": 2,
       "version_minor": 0
      },
      "text/plain": [
       "  0%|          | 0/1000 [00:00<?, ?it/s]"
      ]
     },
     "metadata": {},
     "output_type": "display_data"
    },
    {
     "name": "stderr",
     "output_type": "stream",
     "text": [
      "\r",
      " 25%|██▌       | 251/1000 [00:59<03:24,  3.66it/s]"
     ]
    },
    {
     "data": {
      "application/vnd.jupyter.widget-view+json": {
       "model_id": "e525cc6760ad4947b2bf22b0acb4c225",
       "version_major": 2,
       "version_minor": 0
      },
      "text/plain": [
       "  0%|          | 0/1000 [00:00<?, ?it/s]"
      ]
     },
     "metadata": {},
     "output_type": "display_data"
    },
    {
     "name": "stderr",
     "output_type": "stream",
     "text": [
      "\r",
      " 25%|██▌       | 252/1000 [00:59<03:14,  3.85it/s]"
     ]
    },
    {
     "data": {
      "application/vnd.jupyter.widget-view+json": {
       "model_id": "5c10391ad2814104a6d57a3214339c21",
       "version_major": 2,
       "version_minor": 0
      },
      "text/plain": [
       "  0%|          | 0/1000 [00:00<?, ?it/s]"
      ]
     },
     "metadata": {},
     "output_type": "display_data"
    },
    {
     "name": "stderr",
     "output_type": "stream",
     "text": [
      "\r",
      " 25%|██▌       | 253/1000 [01:00<03:14,  3.83it/s]"
     ]
    },
    {
     "data": {
      "application/vnd.jupyter.widget-view+json": {
       "model_id": "26f7f4a1ffaf439a8e6c4b81c05b0c6c",
       "version_major": 2,
       "version_minor": 0
      },
      "text/plain": [
       "  0%|          | 0/1000 [00:00<?, ?it/s]"
      ]
     },
     "metadata": {},
     "output_type": "display_data"
    },
    {
     "name": "stderr",
     "output_type": "stream",
     "text": [
      "\r",
      " 25%|██▌       | 254/1000 [01:00<03:09,  3.94it/s]"
     ]
    },
    {
     "data": {
      "application/vnd.jupyter.widget-view+json": {
       "model_id": "1263ef3add0c4db28655fc6aed76e0ff",
       "version_major": 2,
       "version_minor": 0
      },
      "text/plain": [
       "  0%|          | 0/1000 [00:00<?, ?it/s]"
      ]
     },
     "metadata": {},
     "output_type": "display_data"
    },
    {
     "name": "stderr",
     "output_type": "stream",
     "text": [
      "\r",
      " 26%|██▌       | 255/1000 [01:00<03:32,  3.50it/s]"
     ]
    },
    {
     "data": {
      "application/vnd.jupyter.widget-view+json": {
       "model_id": "d9ff12378fae4eae9d2876cc3de23282",
       "version_major": 2,
       "version_minor": 0
      },
      "text/plain": [
       "  0%|          | 0/1000 [00:00<?, ?it/s]"
      ]
     },
     "metadata": {},
     "output_type": "display_data"
    },
    {
     "name": "stderr",
     "output_type": "stream",
     "text": [
      "\r",
      " 26%|██▌       | 256/1000 [01:01<03:19,  3.73it/s]"
     ]
    },
    {
     "data": {
      "application/vnd.jupyter.widget-view+json": {
       "model_id": "d138f8693f9747819719c397595d7e2f",
       "version_major": 2,
       "version_minor": 0
      },
      "text/plain": [
       "  0%|          | 0/1000 [00:00<?, ?it/s]"
      ]
     },
     "metadata": {},
     "output_type": "display_data"
    },
    {
     "name": "stderr",
     "output_type": "stream",
     "text": [
      "\r",
      " 26%|██▌       | 257/1000 [01:01<03:12,  3.87it/s]"
     ]
    },
    {
     "data": {
      "application/vnd.jupyter.widget-view+json": {
       "model_id": "8e5e98d18e034d7ba75da45ef89d7150",
       "version_major": 2,
       "version_minor": 0
      },
      "text/plain": [
       "  0%|          | 0/1000 [00:00<?, ?it/s]"
      ]
     },
     "metadata": {},
     "output_type": "display_data"
    },
    {
     "name": "stderr",
     "output_type": "stream",
     "text": [
      "\r",
      " 26%|██▌       | 258/1000 [01:01<03:11,  3.88it/s]"
     ]
    },
    {
     "data": {
      "application/vnd.jupyter.widget-view+json": {
       "model_id": "6ff0e418a9874414a5395f6f93d351be",
       "version_major": 2,
       "version_minor": 0
      },
      "text/plain": [
       "  0%|          | 0/1000 [00:00<?, ?it/s]"
      ]
     },
     "metadata": {},
     "output_type": "display_data"
    },
    {
     "name": "stderr",
     "output_type": "stream",
     "text": [
      "\r",
      " 26%|██▌       | 259/1000 [01:01<03:04,  4.02it/s]"
     ]
    },
    {
     "data": {
      "application/vnd.jupyter.widget-view+json": {
       "model_id": "935f012b0cb8438c93e43c6dde4e8ccf",
       "version_major": 2,
       "version_minor": 0
      },
      "text/plain": [
       "  0%|          | 0/1000 [00:00<?, ?it/s]"
      ]
     },
     "metadata": {},
     "output_type": "display_data"
    },
    {
     "name": "stderr",
     "output_type": "stream",
     "text": [
      "\r",
      " 26%|██▌       | 260/1000 [01:02<03:13,  3.82it/s]"
     ]
    },
    {
     "data": {
      "application/vnd.jupyter.widget-view+json": {
       "model_id": "aab1ad813e73488194bc63602b21a457",
       "version_major": 2,
       "version_minor": 0
      },
      "text/plain": [
       "  0%|          | 0/1000 [00:00<?, ?it/s]"
      ]
     },
     "metadata": {},
     "output_type": "display_data"
    },
    {
     "name": "stderr",
     "output_type": "stream",
     "text": [
      "\r",
      " 26%|██▌       | 261/1000 [01:02<03:22,  3.64it/s]"
     ]
    },
    {
     "data": {
      "application/vnd.jupyter.widget-view+json": {
       "model_id": "be9d43e3eeb4486d93933016652dd39e",
       "version_major": 2,
       "version_minor": 0
      },
      "text/plain": [
       "  0%|          | 0/1000 [00:00<?, ?it/s]"
      ]
     },
     "metadata": {},
     "output_type": "display_data"
    },
    {
     "name": "stderr",
     "output_type": "stream",
     "text": [
      "\r",
      " 26%|██▌       | 262/1000 [01:02<03:15,  3.78it/s]"
     ]
    },
    {
     "data": {
      "application/vnd.jupyter.widget-view+json": {
       "model_id": "973ef17b8db84d2b805d9998c3b79122",
       "version_major": 2,
       "version_minor": 0
      },
      "text/plain": [
       "  0%|          | 0/1000 [00:00<?, ?it/s]"
      ]
     },
     "metadata": {},
     "output_type": "display_data"
    },
    {
     "name": "stderr",
     "output_type": "stream",
     "text": [
      "\r",
      " 26%|██▋       | 263/1000 [01:02<03:08,  3.91it/s]"
     ]
    },
    {
     "data": {
      "application/vnd.jupyter.widget-view+json": {
       "model_id": "edcf43dad61a4459a79dae7023140e67",
       "version_major": 2,
       "version_minor": 0
      },
      "text/plain": [
       "  0%|          | 0/1000 [00:00<?, ?it/s]"
      ]
     },
     "metadata": {},
     "output_type": "display_data"
    },
    {
     "name": "stderr",
     "output_type": "stream",
     "text": [
      "\r",
      " 26%|██▋       | 264/1000 [01:03<03:05,  3.97it/s]"
     ]
    },
    {
     "data": {
      "application/vnd.jupyter.widget-view+json": {
       "model_id": "cbe30bb2ff48481cbe40a53f7faa0223",
       "version_major": 2,
       "version_minor": 0
      },
      "text/plain": [
       "  0%|          | 0/1000 [00:00<?, ?it/s]"
      ]
     },
     "metadata": {},
     "output_type": "display_data"
    },
    {
     "name": "stderr",
     "output_type": "stream",
     "text": [
      "\r",
      " 26%|██▋       | 265/1000 [01:03<03:10,  3.86it/s]"
     ]
    },
    {
     "data": {
      "application/vnd.jupyter.widget-view+json": {
       "model_id": "f7ef1c8151d24723b9c2ac2d60d6fd24",
       "version_major": 2,
       "version_minor": 0
      },
      "text/plain": [
       "  0%|          | 0/1000 [00:00<?, ?it/s]"
      ]
     },
     "metadata": {},
     "output_type": "display_data"
    },
    {
     "name": "stderr",
     "output_type": "stream",
     "text": [
      "\r",
      " 27%|██▋       | 266/1000 [01:03<03:10,  3.85it/s]"
     ]
    },
    {
     "data": {
      "application/vnd.jupyter.widget-view+json": {
       "model_id": "cad45c1646b44f8c88ce41b21eb9bb30",
       "version_major": 2,
       "version_minor": 0
      },
      "text/plain": [
       "  0%|          | 0/1000 [00:00<?, ?it/s]"
      ]
     },
     "metadata": {},
     "output_type": "display_data"
    },
    {
     "name": "stderr",
     "output_type": "stream",
     "text": [
      "\r",
      " 27%|██▋       | 267/1000 [01:03<03:05,  3.95it/s]"
     ]
    },
    {
     "data": {
      "application/vnd.jupyter.widget-view+json": {
       "model_id": "55f79062023f4ed688d75c44328b8416",
       "version_major": 2,
       "version_minor": 0
      },
      "text/plain": [
       "  0%|          | 0/1000 [00:00<?, ?it/s]"
      ]
     },
     "metadata": {},
     "output_type": "display_data"
    },
    {
     "name": "stderr",
     "output_type": "stream",
     "text": [
      "\r",
      " 27%|██▋       | 268/1000 [01:04<03:15,  3.75it/s]"
     ]
    },
    {
     "data": {
      "application/vnd.jupyter.widget-view+json": {
       "model_id": "51f9ede06d3f4b09b0cb3192b80c547d",
       "version_major": 2,
       "version_minor": 0
      },
      "text/plain": [
       "  0%|          | 0/1000 [00:00<?, ?it/s]"
      ]
     },
     "metadata": {},
     "output_type": "display_data"
    },
    {
     "name": "stderr",
     "output_type": "stream",
     "text": [
      "\r",
      " 27%|██▋       | 269/1000 [01:04<03:10,  3.84it/s]"
     ]
    },
    {
     "data": {
      "application/vnd.jupyter.widget-view+json": {
       "model_id": "658f9cd239444aa8beb4a8e70adaeeb3",
       "version_major": 2,
       "version_minor": 0
      },
      "text/plain": [
       "  0%|          | 0/1000 [00:00<?, ?it/s]"
      ]
     },
     "metadata": {},
     "output_type": "display_data"
    },
    {
     "name": "stderr",
     "output_type": "stream",
     "text": [
      "\r",
      " 27%|██▋       | 270/1000 [01:04<03:41,  3.29it/s]"
     ]
    },
    {
     "data": {
      "application/vnd.jupyter.widget-view+json": {
       "model_id": "438cf2c0e7024955913aaa36cbb5594e",
       "version_major": 2,
       "version_minor": 0
      },
      "text/plain": [
       "  0%|          | 0/1000 [00:00<?, ?it/s]"
      ]
     },
     "metadata": {},
     "output_type": "display_data"
    },
    {
     "name": "stderr",
     "output_type": "stream",
     "text": [
      "\r",
      " 27%|██▋       | 271/1000 [01:05<03:33,  3.41it/s]"
     ]
    },
    {
     "data": {
      "application/vnd.jupyter.widget-view+json": {
       "model_id": "efaff8e16c0e494595c052c87ce3828d",
       "version_major": 2,
       "version_minor": 0
      },
      "text/plain": [
       "  0%|          | 0/1000 [00:00<?, ?it/s]"
      ]
     },
     "metadata": {},
     "output_type": "display_data"
    },
    {
     "name": "stderr",
     "output_type": "stream",
     "text": [
      "\r",
      " 27%|██▋       | 272/1000 [01:05<03:25,  3.55it/s]"
     ]
    },
    {
     "data": {
      "application/vnd.jupyter.widget-view+json": {
       "model_id": "13201313f03d4fc087c9483cee7d7985",
       "version_major": 2,
       "version_minor": 0
      },
      "text/plain": [
       "  0%|          | 0/1000 [00:00<?, ?it/s]"
      ]
     },
     "metadata": {},
     "output_type": "display_data"
    },
    {
     "name": "stderr",
     "output_type": "stream",
     "text": [
      "\r",
      " 27%|██▋       | 273/1000 [01:05<03:16,  3.70it/s]"
     ]
    },
    {
     "data": {
      "application/vnd.jupyter.widget-view+json": {
       "model_id": "75f35121a8cd498bbf475090a9eaf2d8",
       "version_major": 2,
       "version_minor": 0
      },
      "text/plain": [
       "  0%|          | 0/1000 [00:00<?, ?it/s]"
      ]
     },
     "metadata": {},
     "output_type": "display_data"
    },
    {
     "name": "stderr",
     "output_type": "stream",
     "text": [
      "\r",
      " 27%|██▋       | 274/1000 [01:05<03:13,  3.76it/s]"
     ]
    },
    {
     "data": {
      "application/vnd.jupyter.widget-view+json": {
       "model_id": "b278a478b82f4bd6b0f64d03efb9011d",
       "version_major": 2,
       "version_minor": 0
      },
      "text/plain": [
       "  0%|          | 0/1000 [00:00<?, ?it/s]"
      ]
     },
     "metadata": {},
     "output_type": "display_data"
    },
    {
     "name": "stderr",
     "output_type": "stream",
     "text": [
      "\r",
      " 28%|██▊       | 275/1000 [01:06<03:36,  3.35it/s]"
     ]
    },
    {
     "data": {
      "application/vnd.jupyter.widget-view+json": {
       "model_id": "d7acaa87837b409da951e9eb27af7279",
       "version_major": 2,
       "version_minor": 0
      },
      "text/plain": [
       "  0%|          | 0/1000 [00:00<?, ?it/s]"
      ]
     },
     "metadata": {},
     "output_type": "display_data"
    },
    {
     "name": "stderr",
     "output_type": "stream",
     "text": [
      "\r",
      " 28%|██▊       | 276/1000 [01:06<04:03,  2.97it/s]"
     ]
    },
    {
     "data": {
      "application/vnd.jupyter.widget-view+json": {
       "model_id": "cc0cb931cd064a7dab09e8cb5991ec11",
       "version_major": 2,
       "version_minor": 0
      },
      "text/plain": [
       "  0%|          | 0/1000 [00:00<?, ?it/s]"
      ]
     },
     "metadata": {},
     "output_type": "display_data"
    },
    {
     "name": "stderr",
     "output_type": "stream",
     "text": [
      "\r",
      " 28%|██▊       | 277/1000 [01:06<03:50,  3.13it/s]"
     ]
    },
    {
     "data": {
      "application/vnd.jupyter.widget-view+json": {
       "model_id": "5f2fb9393f7948b8921a683351fdb5de",
       "version_major": 2,
       "version_minor": 0
      },
      "text/plain": [
       "  0%|          | 0/1000 [00:00<?, ?it/s]"
      ]
     },
     "metadata": {},
     "output_type": "display_data"
    },
    {
     "name": "stderr",
     "output_type": "stream",
     "text": [
      "\r",
      " 28%|██▊       | 278/1000 [01:07<03:39,  3.30it/s]"
     ]
    },
    {
     "data": {
      "application/vnd.jupyter.widget-view+json": {
       "model_id": "db0aaccf084846f3b2761bfee8911e9f",
       "version_major": 2,
       "version_minor": 0
      },
      "text/plain": [
       "  0%|          | 0/1000 [00:00<?, ?it/s]"
      ]
     },
     "metadata": {},
     "output_type": "display_data"
    },
    {
     "name": "stderr",
     "output_type": "stream",
     "text": [
      "\r",
      " 28%|██▊       | 279/1000 [01:07<03:39,  3.29it/s]"
     ]
    },
    {
     "data": {
      "application/vnd.jupyter.widget-view+json": {
       "model_id": "1e2e8535bcb74bcc9f80ab9aaf9a6e1f",
       "version_major": 2,
       "version_minor": 0
      },
      "text/plain": [
       "  0%|          | 0/1000 [00:00<?, ?it/s]"
      ]
     },
     "metadata": {},
     "output_type": "display_data"
    },
    {
     "name": "stderr",
     "output_type": "stream",
     "text": [
      "\r",
      " 28%|██▊       | 280/1000 [01:07<03:39,  3.29it/s]"
     ]
    },
    {
     "data": {
      "application/vnd.jupyter.widget-view+json": {
       "model_id": "b297e1d08bac46b3b4bf772623038692",
       "version_major": 2,
       "version_minor": 0
      },
      "text/plain": [
       "  0%|          | 0/1000 [00:00<?, ?it/s]"
      ]
     },
     "metadata": {},
     "output_type": "display_data"
    },
    {
     "name": "stderr",
     "output_type": "stream",
     "text": [
      "\r",
      " 28%|██▊       | 281/1000 [01:08<03:35,  3.34it/s]"
     ]
    },
    {
     "data": {
      "application/vnd.jupyter.widget-view+json": {
       "model_id": "054702b826a642d9931b26e694e93014",
       "version_major": 2,
       "version_minor": 0
      },
      "text/plain": [
       "  0%|          | 0/1000 [00:00<?, ?it/s]"
      ]
     },
     "metadata": {},
     "output_type": "display_data"
    },
    {
     "name": "stderr",
     "output_type": "stream",
     "text": [
      "\r",
      " 28%|██▊       | 282/1000 [01:08<03:39,  3.28it/s]"
     ]
    },
    {
     "data": {
      "application/vnd.jupyter.widget-view+json": {
       "model_id": "3925a68ed45d4799ba8a7d7fa33f73dd",
       "version_major": 2,
       "version_minor": 0
      },
      "text/plain": [
       "  0%|          | 0/1000 [00:00<?, ?it/s]"
      ]
     },
     "metadata": {},
     "output_type": "display_data"
    },
    {
     "name": "stderr",
     "output_type": "stream",
     "text": [
      "\r",
      " 28%|██▊       | 283/1000 [01:08<03:32,  3.37it/s]"
     ]
    },
    {
     "data": {
      "application/vnd.jupyter.widget-view+json": {
       "model_id": "5df5547aaf634073b06116e281b1fa43",
       "version_major": 2,
       "version_minor": 0
      },
      "text/plain": [
       "  0%|          | 0/1000 [00:00<?, ?it/s]"
      ]
     },
     "metadata": {},
     "output_type": "display_data"
    },
    {
     "name": "stderr",
     "output_type": "stream",
     "text": [
      "\r",
      " 28%|██▊       | 284/1000 [01:08<03:25,  3.48it/s]"
     ]
    },
    {
     "data": {
      "application/vnd.jupyter.widget-view+json": {
       "model_id": "9cdca003e7a948348b5a8f47e6ff8d0f",
       "version_major": 2,
       "version_minor": 0
      },
      "text/plain": [
       "  0%|          | 0/1000 [00:00<?, ?it/s]"
      ]
     },
     "metadata": {},
     "output_type": "display_data"
    },
    {
     "name": "stderr",
     "output_type": "stream",
     "text": [
      "\r",
      " 28%|██▊       | 285/1000 [01:09<03:38,  3.27it/s]"
     ]
    },
    {
     "data": {
      "application/vnd.jupyter.widget-view+json": {
       "model_id": "7240c06e51404aa2bc2014a1e9ef82b7",
       "version_major": 2,
       "version_minor": 0
      },
      "text/plain": [
       "  0%|          | 0/1000 [00:00<?, ?it/s]"
      ]
     },
     "metadata": {},
     "output_type": "display_data"
    },
    {
     "name": "stderr",
     "output_type": "stream",
     "text": [
      "\r",
      " 29%|██▊       | 286/1000 [01:09<03:22,  3.53it/s]"
     ]
    },
    {
     "data": {
      "application/vnd.jupyter.widget-view+json": {
       "model_id": "a4466ddb057a442d811ca80b03a7b44d",
       "version_major": 2,
       "version_minor": 0
      },
      "text/plain": [
       "  0%|          | 0/1000 [00:00<?, ?it/s]"
      ]
     },
     "metadata": {},
     "output_type": "display_data"
    },
    {
     "name": "stderr",
     "output_type": "stream",
     "text": [
      "\r",
      " 29%|██▊       | 287/1000 [01:09<03:14,  3.66it/s]"
     ]
    },
    {
     "data": {
      "application/vnd.jupyter.widget-view+json": {
       "model_id": "4a87fdbe2a7d487198572a8ee72f02c4",
       "version_major": 2,
       "version_minor": 0
      },
      "text/plain": [
       "  0%|          | 0/1000 [00:00<?, ?it/s]"
      ]
     },
     "metadata": {},
     "output_type": "display_data"
    },
    {
     "name": "stderr",
     "output_type": "stream",
     "text": [
      "\r",
      " 29%|██▉       | 288/1000 [01:09<03:05,  3.85it/s]"
     ]
    },
    {
     "data": {
      "application/vnd.jupyter.widget-view+json": {
       "model_id": "c234a86529e140e59f8d03da67e79618",
       "version_major": 2,
       "version_minor": 0
      },
      "text/plain": [
       "  0%|          | 0/1000 [00:00<?, ?it/s]"
      ]
     },
     "metadata": {},
     "output_type": "display_data"
    },
    {
     "name": "stderr",
     "output_type": "stream",
     "text": [
      "\r",
      " 29%|██▉       | 289/1000 [01:10<03:07,  3.79it/s]"
     ]
    },
    {
     "data": {
      "application/vnd.jupyter.widget-view+json": {
       "model_id": "da84feebc6504d159d004c47e33f9ff2",
       "version_major": 2,
       "version_minor": 0
      },
      "text/plain": [
       "  0%|          | 0/1000 [00:00<?, ?it/s]"
      ]
     },
     "metadata": {},
     "output_type": "display_data"
    },
    {
     "name": "stderr",
     "output_type": "stream",
     "text": [
      "\r",
      " 29%|██▉       | 290/1000 [01:10<03:00,  3.93it/s]"
     ]
    },
    {
     "data": {
      "application/vnd.jupyter.widget-view+json": {
       "model_id": "23982ed84470439ca8ce90b051e5756a",
       "version_major": 2,
       "version_minor": 0
      },
      "text/plain": [
       "  0%|          | 0/1000 [00:00<?, ?it/s]"
      ]
     },
     "metadata": {},
     "output_type": "display_data"
    },
    {
     "name": "stderr",
     "output_type": "stream",
     "text": [
      "\r",
      " 29%|██▉       | 291/1000 [01:10<02:55,  4.05it/s]"
     ]
    },
    {
     "data": {
      "application/vnd.jupyter.widget-view+json": {
       "model_id": "309b4c085b304c7491746b2e66a9bcaa",
       "version_major": 2,
       "version_minor": 0
      },
      "text/plain": [
       "  0%|          | 0/1000 [00:00<?, ?it/s]"
      ]
     },
     "metadata": {},
     "output_type": "display_data"
    },
    {
     "name": "stderr",
     "output_type": "stream",
     "text": [
      "\r",
      " 29%|██▉       | 292/1000 [01:10<02:51,  4.14it/s]"
     ]
    },
    {
     "data": {
      "application/vnd.jupyter.widget-view+json": {
       "model_id": "432ac6305a174e31836988f5c2d31c1d",
       "version_major": 2,
       "version_minor": 0
      },
      "text/plain": [
       "  0%|          | 0/1000 [00:00<?, ?it/s]"
      ]
     },
     "metadata": {},
     "output_type": "display_data"
    },
    {
     "name": "stderr",
     "output_type": "stream",
     "text": [
      "\r",
      " 29%|██▉       | 293/1000 [01:11<02:50,  4.14it/s]"
     ]
    },
    {
     "data": {
      "application/vnd.jupyter.widget-view+json": {
       "model_id": "1d8672e48ee74aa0956bb4fd85e30676",
       "version_major": 2,
       "version_minor": 0
      },
      "text/plain": [
       "  0%|          | 0/1000 [00:00<?, ?it/s]"
      ]
     },
     "metadata": {},
     "output_type": "display_data"
    },
    {
     "name": "stderr",
     "output_type": "stream",
     "text": [
      "\r",
      " 29%|██▉       | 294/1000 [01:11<02:50,  4.14it/s]"
     ]
    },
    {
     "data": {
      "application/vnd.jupyter.widget-view+json": {
       "model_id": "11b6726dc3c648f389fb411fd7888a74",
       "version_major": 2,
       "version_minor": 0
      },
      "text/plain": [
       "  0%|          | 0/1000 [00:00<?, ?it/s]"
      ]
     },
     "metadata": {},
     "output_type": "display_data"
    },
    {
     "name": "stderr",
     "output_type": "stream",
     "text": [
      "\r",
      " 30%|██▉       | 295/1000 [01:11<02:53,  4.05it/s]"
     ]
    },
    {
     "data": {
      "application/vnd.jupyter.widget-view+json": {
       "model_id": "2d954a4218f848b6bb574dc6704d621f",
       "version_major": 2,
       "version_minor": 0
      },
      "text/plain": [
       "  0%|          | 0/1000 [00:00<?, ?it/s]"
      ]
     },
     "metadata": {},
     "output_type": "display_data"
    },
    {
     "name": "stderr",
     "output_type": "stream",
     "text": [
      "\r",
      " 30%|██▉       | 296/1000 [01:11<02:54,  4.03it/s]"
     ]
    },
    {
     "data": {
      "application/vnd.jupyter.widget-view+json": {
       "model_id": "df7cd0d1ef924768a1961dd4c5868c9e",
       "version_major": 2,
       "version_minor": 0
      },
      "text/plain": [
       "  0%|          | 0/1000 [00:00<?, ?it/s]"
      ]
     },
     "metadata": {},
     "output_type": "display_data"
    },
    {
     "name": "stderr",
     "output_type": "stream",
     "text": [
      "\r",
      " 30%|██▉       | 297/1000 [01:12<03:05,  3.80it/s]"
     ]
    },
    {
     "data": {
      "application/vnd.jupyter.widget-view+json": {
       "model_id": "040273f3c251433f99a01da85e98d31b",
       "version_major": 2,
       "version_minor": 0
      },
      "text/plain": [
       "  0%|          | 0/1000 [00:00<?, ?it/s]"
      ]
     },
     "metadata": {},
     "output_type": "display_data"
    },
    {
     "name": "stderr",
     "output_type": "stream",
     "text": [
      "\r",
      " 30%|██▉       | 298/1000 [01:12<02:59,  3.91it/s]"
     ]
    },
    {
     "data": {
      "application/vnd.jupyter.widget-view+json": {
       "model_id": "530a6ffa032146578bece4479df33b7f",
       "version_major": 2,
       "version_minor": 0
      },
      "text/plain": [
       "  0%|          | 0/1000 [00:00<?, ?it/s]"
      ]
     },
     "metadata": {},
     "output_type": "display_data"
    },
    {
     "name": "stderr",
     "output_type": "stream",
     "text": [
      "\r",
      " 30%|██▉       | 299/1000 [01:12<02:59,  3.91it/s]"
     ]
    },
    {
     "data": {
      "application/vnd.jupyter.widget-view+json": {
       "model_id": "e75ab0cf296e422c9dbac15f7838193e",
       "version_major": 2,
       "version_minor": 0
      },
      "text/plain": [
       "  0%|          | 0/1000 [00:00<?, ?it/s]"
      ]
     },
     "metadata": {},
     "output_type": "display_data"
    },
    {
     "name": "stderr",
     "output_type": "stream",
     "text": [
      "\r",
      " 30%|███       | 300/1000 [01:13<03:01,  3.87it/s]"
     ]
    },
    {
     "data": {
      "application/vnd.jupyter.widget-view+json": {
       "model_id": "f0ace904c44144509e73debea59597a2",
       "version_major": 2,
       "version_minor": 0
      },
      "text/plain": [
       "  0%|          | 0/1000 [00:00<?, ?it/s]"
      ]
     },
     "metadata": {},
     "output_type": "display_data"
    },
    {
     "name": "stderr",
     "output_type": "stream",
     "text": [
      "\r",
      " 30%|███       | 301/1000 [01:13<03:01,  3.85it/s]"
     ]
    },
    {
     "data": {
      "application/vnd.jupyter.widget-view+json": {
       "model_id": "3517f932ba5a4be28b9b3f78d52bd3ee",
       "version_major": 2,
       "version_minor": 0
      },
      "text/plain": [
       "  0%|          | 0/1000 [00:00<?, ?it/s]"
      ]
     },
     "metadata": {},
     "output_type": "display_data"
    },
    {
     "name": "stderr",
     "output_type": "stream",
     "text": [
      "\r",
      " 30%|███       | 302/1000 [01:13<02:59,  3.89it/s]"
     ]
    },
    {
     "data": {
      "application/vnd.jupyter.widget-view+json": {
       "model_id": "cc512e93a20b4bbdba773b0d96965982",
       "version_major": 2,
       "version_minor": 0
      },
      "text/plain": [
       "  0%|          | 0/1000 [00:00<?, ?it/s]"
      ]
     },
     "metadata": {},
     "output_type": "display_data"
    },
    {
     "name": "stderr",
     "output_type": "stream",
     "text": [
      "\r",
      " 30%|███       | 303/1000 [01:13<02:56,  3.94it/s]"
     ]
    },
    {
     "data": {
      "application/vnd.jupyter.widget-view+json": {
       "model_id": "2f6ba67c797142cca102daf880ec303d",
       "version_major": 2,
       "version_minor": 0
      },
      "text/plain": [
       "  0%|          | 0/1000 [00:00<?, ?it/s]"
      ]
     },
     "metadata": {},
     "output_type": "display_data"
    },
    {
     "name": "stderr",
     "output_type": "stream",
     "text": [
      "\r",
      " 30%|███       | 304/1000 [01:14<02:53,  4.01it/s]"
     ]
    },
    {
     "data": {
      "application/vnd.jupyter.widget-view+json": {
       "model_id": "59f61b932d804949bd2548c2ad9ddcbf",
       "version_major": 2,
       "version_minor": 0
      },
      "text/plain": [
       "  0%|          | 0/1000 [00:00<?, ?it/s]"
      ]
     },
     "metadata": {},
     "output_type": "display_data"
    },
    {
     "name": "stderr",
     "output_type": "stream",
     "text": [
      "\r",
      " 30%|███       | 305/1000 [01:14<02:57,  3.92it/s]"
     ]
    },
    {
     "data": {
      "application/vnd.jupyter.widget-view+json": {
       "model_id": "532de63f781e4635a70544967232bbea",
       "version_major": 2,
       "version_minor": 0
      },
      "text/plain": [
       "  0%|          | 0/1000 [00:00<?, ?it/s]"
      ]
     },
     "metadata": {},
     "output_type": "display_data"
    },
    {
     "name": "stderr",
     "output_type": "stream",
     "text": [
      "\r",
      " 31%|███       | 306/1000 [01:14<02:56,  3.94it/s]"
     ]
    },
    {
     "data": {
      "application/vnd.jupyter.widget-view+json": {
       "model_id": "12be8a2091d74bb29edcae7f8d0f8f75",
       "version_major": 2,
       "version_minor": 0
      },
      "text/plain": [
       "  0%|          | 0/1000 [00:00<?, ?it/s]"
      ]
     },
     "metadata": {},
     "output_type": "display_data"
    },
    {
     "name": "stderr",
     "output_type": "stream",
     "text": [
      "\r",
      " 31%|███       | 307/1000 [01:14<02:52,  4.01it/s]"
     ]
    },
    {
     "data": {
      "application/vnd.jupyter.widget-view+json": {
       "model_id": "3bad537727fe4ac3a6beec4c8b755165",
       "version_major": 2,
       "version_minor": 0
      },
      "text/plain": [
       "  0%|          | 0/1000 [00:00<?, ?it/s]"
      ]
     },
     "metadata": {},
     "output_type": "display_data"
    },
    {
     "name": "stderr",
     "output_type": "stream",
     "text": [
      "\r",
      " 31%|███       | 308/1000 [01:15<02:52,  4.01it/s]"
     ]
    },
    {
     "data": {
      "application/vnd.jupyter.widget-view+json": {
       "model_id": "9b11ca8f5b2a46dbbfe2801f39123c10",
       "version_major": 2,
       "version_minor": 0
      },
      "text/plain": [
       "  0%|          | 0/1000 [00:00<?, ?it/s]"
      ]
     },
     "metadata": {},
     "output_type": "display_data"
    },
    {
     "name": "stderr",
     "output_type": "stream",
     "text": [
      "\r",
      " 31%|███       | 309/1000 [01:15<02:51,  4.04it/s]"
     ]
    },
    {
     "data": {
      "application/vnd.jupyter.widget-view+json": {
       "model_id": "0bd8e51953684e668955acb947822b02",
       "version_major": 2,
       "version_minor": 0
      },
      "text/plain": [
       "  0%|          | 0/1000 [00:00<?, ?it/s]"
      ]
     },
     "metadata": {},
     "output_type": "display_data"
    },
    {
     "name": "stderr",
     "output_type": "stream",
     "text": [
      "\r",
      " 31%|███       | 310/1000 [01:15<02:50,  4.05it/s]"
     ]
    },
    {
     "data": {
      "application/vnd.jupyter.widget-view+json": {
       "model_id": "2d928d6d366d488d8271e9f99f9f79f6",
       "version_major": 2,
       "version_minor": 0
      },
      "text/plain": [
       "  0%|          | 0/1000 [00:00<?, ?it/s]"
      ]
     },
     "metadata": {},
     "output_type": "display_data"
    },
    {
     "name": "stderr",
     "output_type": "stream",
     "text": [
      "\r",
      " 31%|███       | 311/1000 [01:15<02:52,  3.99it/s]"
     ]
    },
    {
     "data": {
      "application/vnd.jupyter.widget-view+json": {
       "model_id": "2812143770594f5b84c8383dd8fb8ba5",
       "version_major": 2,
       "version_minor": 0
      },
      "text/plain": [
       "  0%|          | 0/1000 [00:00<?, ?it/s]"
      ]
     },
     "metadata": {},
     "output_type": "display_data"
    },
    {
     "name": "stderr",
     "output_type": "stream",
     "text": [
      "\r",
      " 31%|███       | 312/1000 [01:16<02:50,  4.04it/s]"
     ]
    },
    {
     "data": {
      "application/vnd.jupyter.widget-view+json": {
       "model_id": "5e1288d1fe7b4123a092b7cf56bbf8fe",
       "version_major": 2,
       "version_minor": 0
      },
      "text/plain": [
       "  0%|          | 0/1000 [00:00<?, ?it/s]"
      ]
     },
     "metadata": {},
     "output_type": "display_data"
    },
    {
     "name": "stderr",
     "output_type": "stream",
     "text": [
      "\r",
      " 31%|███▏      | 313/1000 [01:16<02:52,  3.98it/s]"
     ]
    },
    {
     "data": {
      "application/vnd.jupyter.widget-view+json": {
       "model_id": "1db5d49ddce5415baf857a8545bba5f0",
       "version_major": 2,
       "version_minor": 0
      },
      "text/plain": [
       "  0%|          | 0/1000 [00:00<?, ?it/s]"
      ]
     },
     "metadata": {},
     "output_type": "display_data"
    },
    {
     "name": "stderr",
     "output_type": "stream",
     "text": [
      "\r",
      " 31%|███▏      | 314/1000 [01:16<02:53,  3.94it/s]"
     ]
    },
    {
     "data": {
      "application/vnd.jupyter.widget-view+json": {
       "model_id": "ac94c9a0101344859254dc8aa8725725",
       "version_major": 2,
       "version_minor": 0
      },
      "text/plain": [
       "  0%|          | 0/1000 [00:00<?, ?it/s]"
      ]
     },
     "metadata": {},
     "output_type": "display_data"
    },
    {
     "name": "stderr",
     "output_type": "stream",
     "text": [
      "\r",
      " 32%|███▏      | 315/1000 [01:16<02:48,  4.07it/s]"
     ]
    },
    {
     "data": {
      "application/vnd.jupyter.widget-view+json": {
       "model_id": "3133acd47b52489dae9d5f473fbe4c09",
       "version_major": 2,
       "version_minor": 0
      },
      "text/plain": [
       "  0%|          | 0/1000 [00:00<?, ?it/s]"
      ]
     },
     "metadata": {},
     "output_type": "display_data"
    },
    {
     "name": "stderr",
     "output_type": "stream",
     "text": [
      "\r",
      " 32%|███▏      | 316/1000 [01:17<02:51,  3.99it/s]"
     ]
    },
    {
     "data": {
      "application/vnd.jupyter.widget-view+json": {
       "model_id": "4d4141d33652426a9632d2a3ef5b984f",
       "version_major": 2,
       "version_minor": 0
      },
      "text/plain": [
       "  0%|          | 0/1000 [00:00<?, ?it/s]"
      ]
     },
     "metadata": {},
     "output_type": "display_data"
    },
    {
     "name": "stderr",
     "output_type": "stream",
     "text": [
      "\r",
      " 32%|███▏      | 317/1000 [01:17<02:54,  3.92it/s]"
     ]
    },
    {
     "data": {
      "application/vnd.jupyter.widget-view+json": {
       "model_id": "593547c9cabb433e8235f5e790d3dd01",
       "version_major": 2,
       "version_minor": 0
      },
      "text/plain": [
       "  0%|          | 0/1000 [00:00<?, ?it/s]"
      ]
     },
     "metadata": {},
     "output_type": "display_data"
    },
    {
     "name": "stderr",
     "output_type": "stream",
     "text": [
      "\r",
      " 32%|███▏      | 318/1000 [01:17<02:53,  3.93it/s]"
     ]
    },
    {
     "data": {
      "application/vnd.jupyter.widget-view+json": {
       "model_id": "b2f01686f884441f8501bf11c68dd582",
       "version_major": 2,
       "version_minor": 0
      },
      "text/plain": [
       "  0%|          | 0/1000 [00:00<?, ?it/s]"
      ]
     },
     "metadata": {},
     "output_type": "display_data"
    },
    {
     "name": "stderr",
     "output_type": "stream",
     "text": [
      "\r",
      " 32%|███▏      | 319/1000 [01:17<02:50,  4.00it/s]"
     ]
    },
    {
     "data": {
      "application/vnd.jupyter.widget-view+json": {
       "model_id": "963e8cc6ce03434794b32764a8978411",
       "version_major": 2,
       "version_minor": 0
      },
      "text/plain": [
       "  0%|          | 0/1000 [00:00<?, ?it/s]"
      ]
     },
     "metadata": {},
     "output_type": "display_data"
    },
    {
     "name": "stderr",
     "output_type": "stream",
     "text": [
      "\r",
      " 32%|███▏      | 320/1000 [01:18<02:48,  4.04it/s]"
     ]
    },
    {
     "data": {
      "application/vnd.jupyter.widget-view+json": {
       "model_id": "eb2c3fa1122c49c595a230ef6b63863f",
       "version_major": 2,
       "version_minor": 0
      },
      "text/plain": [
       "  0%|          | 0/1000 [00:00<?, ?it/s]"
      ]
     },
     "metadata": {},
     "output_type": "display_data"
    },
    {
     "name": "stderr",
     "output_type": "stream",
     "text": [
      "\r",
      " 32%|███▏      | 321/1000 [01:18<02:51,  3.96it/s]"
     ]
    },
    {
     "data": {
      "application/vnd.jupyter.widget-view+json": {
       "model_id": "d9eb3919f4ac4115baecc44ac459d9e2",
       "version_major": 2,
       "version_minor": 0
      },
      "text/plain": [
       "  0%|          | 0/1000 [00:00<?, ?it/s]"
      ]
     },
     "metadata": {},
     "output_type": "display_data"
    },
    {
     "name": "stderr",
     "output_type": "stream",
     "text": [
      "\r",
      " 32%|███▏      | 322/1000 [01:18<02:48,  4.02it/s]"
     ]
    },
    {
     "data": {
      "application/vnd.jupyter.widget-view+json": {
       "model_id": "0eb189d4c6504b00a112e88981dd4f64",
       "version_major": 2,
       "version_minor": 0
      },
      "text/plain": [
       "  0%|          | 0/1000 [00:00<?, ?it/s]"
      ]
     },
     "metadata": {},
     "output_type": "display_data"
    },
    {
     "name": "stderr",
     "output_type": "stream",
     "text": [
      "\r",
      " 32%|███▏      | 323/1000 [01:18<02:48,  4.03it/s]"
     ]
    },
    {
     "data": {
      "application/vnd.jupyter.widget-view+json": {
       "model_id": "a02c9bee4ef84c05adf18a5290709328",
       "version_major": 2,
       "version_minor": 0
      },
      "text/plain": [
       "  0%|          | 0/1000 [00:00<?, ?it/s]"
      ]
     },
     "metadata": {},
     "output_type": "display_data"
    },
    {
     "name": "stderr",
     "output_type": "stream",
     "text": [
      "\r",
      " 32%|███▏      | 324/1000 [01:19<02:46,  4.07it/s]"
     ]
    },
    {
     "data": {
      "application/vnd.jupyter.widget-view+json": {
       "model_id": "3dfd096f3bce44539dc981e33b9fbbd0",
       "version_major": 2,
       "version_minor": 0
      },
      "text/plain": [
       "  0%|          | 0/1000 [00:00<?, ?it/s]"
      ]
     },
     "metadata": {},
     "output_type": "display_data"
    },
    {
     "name": "stderr",
     "output_type": "stream",
     "text": [
      "\r",
      " 32%|███▎      | 325/1000 [01:19<02:45,  4.09it/s]"
     ]
    },
    {
     "data": {
      "application/vnd.jupyter.widget-view+json": {
       "model_id": "a275d0dee19a4fd69411c5fc63b29005",
       "version_major": 2,
       "version_minor": 0
      },
      "text/plain": [
       "  0%|          | 0/1000 [00:00<?, ?it/s]"
      ]
     },
     "metadata": {},
     "output_type": "display_data"
    },
    {
     "name": "stderr",
     "output_type": "stream",
     "text": [
      "\r",
      " 33%|███▎      | 326/1000 [01:19<02:44,  4.10it/s]"
     ]
    },
    {
     "data": {
      "application/vnd.jupyter.widget-view+json": {
       "model_id": "192bfd36734b45c4b34c6976e7813171",
       "version_major": 2,
       "version_minor": 0
      },
      "text/plain": [
       "  0%|          | 0/1000 [00:00<?, ?it/s]"
      ]
     },
     "metadata": {},
     "output_type": "display_data"
    },
    {
     "name": "stderr",
     "output_type": "stream",
     "text": [
      "\r",
      " 33%|███▎      | 327/1000 [01:19<02:44,  4.08it/s]"
     ]
    },
    {
     "data": {
      "application/vnd.jupyter.widget-view+json": {
       "model_id": "eec214f14e1b42d4ba294e1328da6576",
       "version_major": 2,
       "version_minor": 0
      },
      "text/plain": [
       "  0%|          | 0/1000 [00:00<?, ?it/s]"
      ]
     },
     "metadata": {},
     "output_type": "display_data"
    },
    {
     "name": "stderr",
     "output_type": "stream",
     "text": [
      "\r",
      " 33%|███▎      | 328/1000 [01:19<02:43,  4.11it/s]"
     ]
    },
    {
     "data": {
      "application/vnd.jupyter.widget-view+json": {
       "model_id": "dd120e8197f3488282e8e4448d7e6757",
       "version_major": 2,
       "version_minor": 0
      },
      "text/plain": [
       "  0%|          | 0/1000 [00:00<?, ?it/s]"
      ]
     },
     "metadata": {},
     "output_type": "display_data"
    },
    {
     "name": "stderr",
     "output_type": "stream",
     "text": [
      "\r",
      " 33%|███▎      | 329/1000 [01:20<02:48,  3.98it/s]"
     ]
    },
    {
     "data": {
      "application/vnd.jupyter.widget-view+json": {
       "model_id": "e95a6fb1a0ee40489057968a9d972ca5",
       "version_major": 2,
       "version_minor": 0
      },
      "text/plain": [
       "  0%|          | 0/1000 [00:00<?, ?it/s]"
      ]
     },
     "metadata": {},
     "output_type": "display_data"
    },
    {
     "name": "stderr",
     "output_type": "stream",
     "text": [
      "\r",
      " 33%|███▎      | 330/1000 [01:20<02:47,  4.00it/s]"
     ]
    },
    {
     "data": {
      "application/vnd.jupyter.widget-view+json": {
       "model_id": "adf0492d474c42a9a7bf23b7bc1e28ea",
       "version_major": 2,
       "version_minor": 0
      },
      "text/plain": [
       "  0%|          | 0/1000 [00:00<?, ?it/s]"
      ]
     },
     "metadata": {},
     "output_type": "display_data"
    },
    {
     "name": "stderr",
     "output_type": "stream",
     "text": [
      "\r",
      " 33%|███▎      | 331/1000 [01:20<02:46,  4.02it/s]"
     ]
    },
    {
     "data": {
      "application/vnd.jupyter.widget-view+json": {
       "model_id": "c60057b5c4494b44928468c6623d6d39",
       "version_major": 2,
       "version_minor": 0
      },
      "text/plain": [
       "  0%|          | 0/1000 [00:00<?, ?it/s]"
      ]
     },
     "metadata": {},
     "output_type": "display_data"
    },
    {
     "name": "stderr",
     "output_type": "stream",
     "text": [
      "\r",
      " 33%|███▎      | 332/1000 [01:20<02:42,  4.12it/s]"
     ]
    },
    {
     "data": {
      "application/vnd.jupyter.widget-view+json": {
       "model_id": "f00e64d3de4d4adfba9eebab670f6507",
       "version_major": 2,
       "version_minor": 0
      },
      "text/plain": [
       "  0%|          | 0/1000 [00:00<?, ?it/s]"
      ]
     },
     "metadata": {},
     "output_type": "display_data"
    },
    {
     "name": "stderr",
     "output_type": "stream",
     "text": [
      "\r",
      " 33%|███▎      | 333/1000 [01:21<02:39,  4.17it/s]"
     ]
    },
    {
     "data": {
      "application/vnd.jupyter.widget-view+json": {
       "model_id": "a179672147b24c04b6f388afd32844a1",
       "version_major": 2,
       "version_minor": 0
      },
      "text/plain": [
       "  0%|          | 0/1000 [00:00<?, ?it/s]"
      ]
     },
     "metadata": {},
     "output_type": "display_data"
    },
    {
     "name": "stderr",
     "output_type": "stream",
     "text": [
      "\r",
      " 33%|███▎      | 334/1000 [01:21<02:39,  4.18it/s]"
     ]
    },
    {
     "data": {
      "application/vnd.jupyter.widget-view+json": {
       "model_id": "175cba8d9927491ea9847dff89a39eff",
       "version_major": 2,
       "version_minor": 0
      },
      "text/plain": [
       "  0%|          | 0/1000 [00:00<?, ?it/s]"
      ]
     },
     "metadata": {},
     "output_type": "display_data"
    },
    {
     "name": "stderr",
     "output_type": "stream",
     "text": [
      "\r",
      " 34%|███▎      | 335/1000 [01:21<02:40,  4.14it/s]"
     ]
    },
    {
     "data": {
      "application/vnd.jupyter.widget-view+json": {
       "model_id": "be2151684b4645a99ca4852610764cfa",
       "version_major": 2,
       "version_minor": 0
      },
      "text/plain": [
       "  0%|          | 0/1000 [00:00<?, ?it/s]"
      ]
     },
     "metadata": {},
     "output_type": "display_data"
    },
    {
     "name": "stderr",
     "output_type": "stream",
     "text": [
      "\r",
      " 34%|███▎      | 336/1000 [01:21<02:39,  4.16it/s]"
     ]
    },
    {
     "data": {
      "application/vnd.jupyter.widget-view+json": {
       "model_id": "a4c952d946b84835baaa9833840dcbfc",
       "version_major": 2,
       "version_minor": 0
      },
      "text/plain": [
       "  0%|          | 0/1000 [00:00<?, ?it/s]"
      ]
     },
     "metadata": {},
     "output_type": "display_data"
    },
    {
     "name": "stderr",
     "output_type": "stream",
     "text": [
      "\r",
      " 34%|███▎      | 337/1000 [01:22<02:41,  4.10it/s]"
     ]
    },
    {
     "data": {
      "application/vnd.jupyter.widget-view+json": {
       "model_id": "db95da837ec44395a36f6f6f0efd6601",
       "version_major": 2,
       "version_minor": 0
      },
      "text/plain": [
       "  0%|          | 0/1000 [00:00<?, ?it/s]"
      ]
     },
     "metadata": {},
     "output_type": "display_data"
    },
    {
     "name": "stderr",
     "output_type": "stream",
     "text": [
      "\r",
      " 34%|███▍      | 338/1000 [01:22<02:40,  4.11it/s]"
     ]
    },
    {
     "data": {
      "application/vnd.jupyter.widget-view+json": {
       "model_id": "c77fbdaa5c264408af4a76bca7cfb3ac",
       "version_major": 2,
       "version_minor": 0
      },
      "text/plain": [
       "  0%|          | 0/1000 [00:00<?, ?it/s]"
      ]
     },
     "metadata": {},
     "output_type": "display_data"
    },
    {
     "name": "stderr",
     "output_type": "stream",
     "text": [
      "\r",
      " 34%|███▍      | 339/1000 [01:22<02:43,  4.05it/s]"
     ]
    },
    {
     "data": {
      "application/vnd.jupyter.widget-view+json": {
       "model_id": "21af4b8174374909be1d31f74dda2029",
       "version_major": 2,
       "version_minor": 0
      },
      "text/plain": [
       "  0%|          | 0/1000 [00:00<?, ?it/s]"
      ]
     },
     "metadata": {},
     "output_type": "display_data"
    },
    {
     "name": "stderr",
     "output_type": "stream",
     "text": [
      "\r",
      " 34%|███▍      | 340/1000 [01:22<02:42,  4.07it/s]"
     ]
    },
    {
     "data": {
      "application/vnd.jupyter.widget-view+json": {
       "model_id": "8517561ae7b5477c915e8c5d7ea8c9ba",
       "version_major": 2,
       "version_minor": 0
      },
      "text/plain": [
       "  0%|          | 0/1000 [00:00<?, ?it/s]"
      ]
     },
     "metadata": {},
     "output_type": "display_data"
    },
    {
     "name": "stderr",
     "output_type": "stream",
     "text": [
      "\r",
      " 34%|███▍      | 341/1000 [01:23<02:40,  4.10it/s]"
     ]
    },
    {
     "data": {
      "application/vnd.jupyter.widget-view+json": {
       "model_id": "65c914f174e34b12ae36d3184765779f",
       "version_major": 2,
       "version_minor": 0
      },
      "text/plain": [
       "  0%|          | 0/1000 [00:00<?, ?it/s]"
      ]
     },
     "metadata": {},
     "output_type": "display_data"
    },
    {
     "name": "stderr",
     "output_type": "stream",
     "text": [
      "\r",
      " 34%|███▍      | 342/1000 [01:23<02:41,  4.06it/s]"
     ]
    },
    {
     "data": {
      "application/vnd.jupyter.widget-view+json": {
       "model_id": "845a3f45bbdb46d8b0b89ec47b3e2be9",
       "version_major": 2,
       "version_minor": 0
      },
      "text/plain": [
       "  0%|          | 0/1000 [00:00<?, ?it/s]"
      ]
     },
     "metadata": {},
     "output_type": "display_data"
    },
    {
     "name": "stderr",
     "output_type": "stream",
     "text": [
      "\r",
      " 34%|███▍      | 343/1000 [01:23<02:40,  4.10it/s]"
     ]
    },
    {
     "data": {
      "application/vnd.jupyter.widget-view+json": {
       "model_id": "3c2dba6448c449388ebcd58b1493b45e",
       "version_major": 2,
       "version_minor": 0
      },
      "text/plain": [
       "  0%|          | 0/1000 [00:00<?, ?it/s]"
      ]
     },
     "metadata": {},
     "output_type": "display_data"
    },
    {
     "name": "stderr",
     "output_type": "stream",
     "text": [
      "\r",
      " 34%|███▍      | 344/1000 [01:23<02:39,  4.10it/s]"
     ]
    },
    {
     "data": {
      "application/vnd.jupyter.widget-view+json": {
       "model_id": "ccdb3a14e3f34b5594d48b08faefbf43",
       "version_major": 2,
       "version_minor": 0
      },
      "text/plain": [
       "  0%|          | 0/1000 [00:00<?, ?it/s]"
      ]
     },
     "metadata": {},
     "output_type": "display_data"
    },
    {
     "name": "stderr",
     "output_type": "stream",
     "text": [
      "\r",
      " 34%|███▍      | 345/1000 [01:24<02:40,  4.09it/s]"
     ]
    },
    {
     "data": {
      "application/vnd.jupyter.widget-view+json": {
       "model_id": "06657fb3e9874f719e1df1e9ab70d5f3",
       "version_major": 2,
       "version_minor": 0
      },
      "text/plain": [
       "  0%|          | 0/1000 [00:00<?, ?it/s]"
      ]
     },
     "metadata": {},
     "output_type": "display_data"
    },
    {
     "name": "stderr",
     "output_type": "stream",
     "text": [
      "\r",
      " 35%|███▍      | 346/1000 [01:24<02:43,  4.00it/s]"
     ]
    },
    {
     "data": {
      "application/vnd.jupyter.widget-view+json": {
       "model_id": "b0a359b30e28411d9abd0612ddf3f98f",
       "version_major": 2,
       "version_minor": 0
      },
      "text/plain": [
       "  0%|          | 0/1000 [00:00<?, ?it/s]"
      ]
     },
     "metadata": {},
     "output_type": "display_data"
    },
    {
     "name": "stderr",
     "output_type": "stream",
     "text": [
      "\r",
      " 35%|███▍      | 347/1000 [01:24<02:41,  4.05it/s]"
     ]
    },
    {
     "data": {
      "application/vnd.jupyter.widget-view+json": {
       "model_id": "c92d86f60c3f47d0b407656cd0f35915",
       "version_major": 2,
       "version_minor": 0
      },
      "text/plain": [
       "  0%|          | 0/1000 [00:00<?, ?it/s]"
      ]
     },
     "metadata": {},
     "output_type": "display_data"
    },
    {
     "name": "stderr",
     "output_type": "stream",
     "text": [
      "\r",
      " 35%|███▍      | 348/1000 [01:24<02:40,  4.07it/s]"
     ]
    },
    {
     "data": {
      "application/vnd.jupyter.widget-view+json": {
       "model_id": "4e5fd8e6ae7449acbd57c50f96077e2b",
       "version_major": 2,
       "version_minor": 0
      },
      "text/plain": [
       "  0%|          | 0/1000 [00:00<?, ?it/s]"
      ]
     },
     "metadata": {},
     "output_type": "display_data"
    },
    {
     "name": "stderr",
     "output_type": "stream",
     "text": [
      "\r",
      " 35%|███▍      | 349/1000 [01:25<02:39,  4.08it/s]"
     ]
    },
    {
     "data": {
      "application/vnd.jupyter.widget-view+json": {
       "model_id": "7c9010c6644546dab1b0934a611b220a",
       "version_major": 2,
       "version_minor": 0
      },
      "text/plain": [
       "  0%|          | 0/1000 [00:00<?, ?it/s]"
      ]
     },
     "metadata": {},
     "output_type": "display_data"
    },
    {
     "name": "stderr",
     "output_type": "stream",
     "text": [
      "\r",
      " 35%|███▌      | 350/1000 [01:25<02:37,  4.12it/s]"
     ]
    },
    {
     "data": {
      "application/vnd.jupyter.widget-view+json": {
       "model_id": "639fbd725890497ab3667091fe55ae0b",
       "version_major": 2,
       "version_minor": 0
      },
      "text/plain": [
       "  0%|          | 0/1000 [00:00<?, ?it/s]"
      ]
     },
     "metadata": {},
     "output_type": "display_data"
    },
    {
     "name": "stderr",
     "output_type": "stream",
     "text": [
      "\r",
      " 35%|███▌      | 351/1000 [01:25<02:37,  4.12it/s]"
     ]
    },
    {
     "data": {
      "application/vnd.jupyter.widget-view+json": {
       "model_id": "bb554fa97f764625a9b222ea05521df0",
       "version_major": 2,
       "version_minor": 0
      },
      "text/plain": [
       "  0%|          | 0/1000 [00:00<?, ?it/s]"
      ]
     },
     "metadata": {},
     "output_type": "display_data"
    },
    {
     "name": "stderr",
     "output_type": "stream",
     "text": [
      "\r",
      " 35%|███▌      | 352/1000 [01:25<02:37,  4.12it/s]"
     ]
    },
    {
     "data": {
      "application/vnd.jupyter.widget-view+json": {
       "model_id": "9dc8dce4f9f948168d8f24b680e466b0",
       "version_major": 2,
       "version_minor": 0
      },
      "text/plain": [
       "  0%|          | 0/1000 [00:00<?, ?it/s]"
      ]
     },
     "metadata": {},
     "output_type": "display_data"
    },
    {
     "name": "stderr",
     "output_type": "stream",
     "text": [
      "\r",
      " 35%|███▌      | 353/1000 [01:26<02:51,  3.78it/s]"
     ]
    },
    {
     "data": {
      "application/vnd.jupyter.widget-view+json": {
       "model_id": "9f6b5cf26fef48398740dd3a6a609b7c",
       "version_major": 2,
       "version_minor": 0
      },
      "text/plain": [
       "  0%|          | 0/1000 [00:00<?, ?it/s]"
      ]
     },
     "metadata": {},
     "output_type": "display_data"
    },
    {
     "name": "stderr",
     "output_type": "stream",
     "text": [
      "\r",
      " 35%|███▌      | 354/1000 [01:26<02:57,  3.64it/s]"
     ]
    },
    {
     "data": {
      "application/vnd.jupyter.widget-view+json": {
       "model_id": "c90c48e7998f4cf395f3d0005c595511",
       "version_major": 2,
       "version_minor": 0
      },
      "text/plain": [
       "  0%|          | 0/1000 [00:00<?, ?it/s]"
      ]
     },
     "metadata": {},
     "output_type": "display_data"
    },
    {
     "name": "stderr",
     "output_type": "stream",
     "text": [
      "\r",
      " 36%|███▌      | 355/1000 [01:26<02:57,  3.64it/s]"
     ]
    },
    {
     "data": {
      "application/vnd.jupyter.widget-view+json": {
       "model_id": "6477b148e0494242a2ed07ab544eb14c",
       "version_major": 2,
       "version_minor": 0
      },
      "text/plain": [
       "  0%|          | 0/1000 [00:00<?, ?it/s]"
      ]
     },
     "metadata": {},
     "output_type": "display_data"
    },
    {
     "name": "stderr",
     "output_type": "stream",
     "text": [
      "\r",
      " 36%|███▌      | 356/1000 [01:26<02:52,  3.72it/s]"
     ]
    },
    {
     "data": {
      "application/vnd.jupyter.widget-view+json": {
       "model_id": "ed40085d16aa43c29098f1ef78a174ce",
       "version_major": 2,
       "version_minor": 0
      },
      "text/plain": [
       "  0%|          | 0/1000 [00:00<?, ?it/s]"
      ]
     },
     "metadata": {},
     "output_type": "display_data"
    },
    {
     "name": "stderr",
     "output_type": "stream",
     "text": [
      "\r",
      " 36%|███▌      | 357/1000 [01:27<02:54,  3.69it/s]"
     ]
    },
    {
     "data": {
      "application/vnd.jupyter.widget-view+json": {
       "model_id": "b7ec5cc2bfdc4771a417cbc32de60630",
       "version_major": 2,
       "version_minor": 0
      },
      "text/plain": [
       "  0%|          | 0/1000 [00:00<?, ?it/s]"
      ]
     },
     "metadata": {},
     "output_type": "display_data"
    },
    {
     "name": "stderr",
     "output_type": "stream",
     "text": [
      "\r",
      " 36%|███▌      | 358/1000 [01:27<02:52,  3.73it/s]"
     ]
    },
    {
     "data": {
      "application/vnd.jupyter.widget-view+json": {
       "model_id": "f8af7d7a2d714ba189246ab1669837ac",
       "version_major": 2,
       "version_minor": 0
      },
      "text/plain": [
       "  0%|          | 0/1000 [00:00<?, ?it/s]"
      ]
     },
     "metadata": {},
     "output_type": "display_data"
    },
    {
     "name": "stderr",
     "output_type": "stream",
     "text": [
      "\r",
      " 36%|███▌      | 359/1000 [01:27<02:47,  3.82it/s]"
     ]
    },
    {
     "data": {
      "application/vnd.jupyter.widget-view+json": {
       "model_id": "c7edd77fe0f94ab0b38fed188338ff16",
       "version_major": 2,
       "version_minor": 0
      },
      "text/plain": [
       "  0%|          | 0/1000 [00:00<?, ?it/s]"
      ]
     },
     "metadata": {},
     "output_type": "display_data"
    },
    {
     "name": "stderr",
     "output_type": "stream",
     "text": [
      "\r",
      " 36%|███▌      | 360/1000 [01:28<02:41,  3.97it/s]"
     ]
    },
    {
     "data": {
      "application/vnd.jupyter.widget-view+json": {
       "model_id": "e704494a33674876a4679eb5ccfe56ca",
       "version_major": 2,
       "version_minor": 0
      },
      "text/plain": [
       "  0%|          | 0/1000 [00:00<?, ?it/s]"
      ]
     },
     "metadata": {},
     "output_type": "display_data"
    },
    {
     "name": "stderr",
     "output_type": "stream",
     "text": [
      "\r",
      " 36%|███▌      | 361/1000 [01:28<02:44,  3.89it/s]"
     ]
    },
    {
     "data": {
      "application/vnd.jupyter.widget-view+json": {
       "model_id": "3f097977c5fe48dbb36e0686557cb984",
       "version_major": 2,
       "version_minor": 0
      },
      "text/plain": [
       "  0%|          | 0/1000 [00:00<?, ?it/s]"
      ]
     },
     "metadata": {},
     "output_type": "display_data"
    },
    {
     "name": "stderr",
     "output_type": "stream",
     "text": [
      "\r",
      " 36%|███▌      | 362/1000 [01:28<02:43,  3.90it/s]"
     ]
    },
    {
     "data": {
      "application/vnd.jupyter.widget-view+json": {
       "model_id": "14348073046349a1b6eb60e217f644a2",
       "version_major": 2,
       "version_minor": 0
      },
      "text/plain": [
       "  0%|          | 0/1000 [00:00<?, ?it/s]"
      ]
     },
     "metadata": {},
     "output_type": "display_data"
    },
    {
     "name": "stderr",
     "output_type": "stream",
     "text": [
      "\r",
      " 36%|███▋      | 363/1000 [01:28<02:39,  3.99it/s]"
     ]
    },
    {
     "data": {
      "application/vnd.jupyter.widget-view+json": {
       "model_id": "c69d48c94c944a6fba59b81d327fc960",
       "version_major": 2,
       "version_minor": 0
      },
      "text/plain": [
       "  0%|          | 0/1000 [00:00<?, ?it/s]"
      ]
     },
     "metadata": {},
     "output_type": "display_data"
    },
    {
     "name": "stderr",
     "output_type": "stream",
     "text": [
      "\r",
      " 36%|███▋      | 364/1000 [01:29<02:40,  3.97it/s]"
     ]
    },
    {
     "data": {
      "application/vnd.jupyter.widget-view+json": {
       "model_id": "092ef816cede4f5b847c25357eb1810e",
       "version_major": 2,
       "version_minor": 0
      },
      "text/plain": [
       "  0%|          | 0/1000 [00:00<?, ?it/s]"
      ]
     },
     "metadata": {},
     "output_type": "display_data"
    },
    {
     "name": "stderr",
     "output_type": "stream",
     "text": [
      "\r",
      " 36%|███▋      | 365/1000 [01:29<02:40,  3.96it/s]"
     ]
    },
    {
     "data": {
      "application/vnd.jupyter.widget-view+json": {
       "model_id": "cfe38f81be9f4c798e20e9b9d0667943",
       "version_major": 2,
       "version_minor": 0
      },
      "text/plain": [
       "  0%|          | 0/1000 [00:00<?, ?it/s]"
      ]
     },
     "metadata": {},
     "output_type": "display_data"
    },
    {
     "name": "stderr",
     "output_type": "stream",
     "text": [
      "\r",
      " 37%|███▋      | 366/1000 [01:29<02:39,  3.96it/s]"
     ]
    },
    {
     "data": {
      "application/vnd.jupyter.widget-view+json": {
       "model_id": "6285c8263cf14adbb055889331a6ea8d",
       "version_major": 2,
       "version_minor": 0
      },
      "text/plain": [
       "  0%|          | 0/1000 [00:00<?, ?it/s]"
      ]
     },
     "metadata": {},
     "output_type": "display_data"
    },
    {
     "name": "stderr",
     "output_type": "stream",
     "text": [
      "\r",
      " 37%|███▋      | 367/1000 [01:29<02:38,  3.99it/s]"
     ]
    },
    {
     "data": {
      "application/vnd.jupyter.widget-view+json": {
       "model_id": "f795697853fc43e18679fd1f27aaa699",
       "version_major": 2,
       "version_minor": 0
      },
      "text/plain": [
       "  0%|          | 0/1000 [00:00<?, ?it/s]"
      ]
     },
     "metadata": {},
     "output_type": "display_data"
    },
    {
     "name": "stderr",
     "output_type": "stream",
     "text": [
      "\r",
      " 37%|███▋      | 368/1000 [01:30<02:36,  4.03it/s]"
     ]
    },
    {
     "data": {
      "application/vnd.jupyter.widget-view+json": {
       "model_id": "147a1794cde74369a4827780ac9dae37",
       "version_major": 2,
       "version_minor": 0
      },
      "text/plain": [
       "  0%|          | 0/1000 [00:00<?, ?it/s]"
      ]
     },
     "metadata": {},
     "output_type": "display_data"
    },
    {
     "name": "stderr",
     "output_type": "stream",
     "text": [
      "\r",
      " 37%|███▋      | 369/1000 [01:30<02:48,  3.74it/s]"
     ]
    },
    {
     "data": {
      "application/vnd.jupyter.widget-view+json": {
       "model_id": "998aea8889354e10862201438d8b8480",
       "version_major": 2,
       "version_minor": 0
      },
      "text/plain": [
       "  0%|          | 0/1000 [00:00<?, ?it/s]"
      ]
     },
     "metadata": {},
     "output_type": "display_data"
    },
    {
     "name": "stderr",
     "output_type": "stream",
     "text": [
      "\r",
      " 37%|███▋      | 370/1000 [01:30<02:45,  3.80it/s]"
     ]
    },
    {
     "data": {
      "application/vnd.jupyter.widget-view+json": {
       "model_id": "b7df61ea535c46e7b9906434afc8f1c3",
       "version_major": 2,
       "version_minor": 0
      },
      "text/plain": [
       "  0%|          | 0/1000 [00:00<?, ?it/s]"
      ]
     },
     "metadata": {},
     "output_type": "display_data"
    },
    {
     "name": "stderr",
     "output_type": "stream",
     "text": [
      "\r",
      " 37%|███▋      | 371/1000 [01:30<02:46,  3.78it/s]"
     ]
    },
    {
     "data": {
      "application/vnd.jupyter.widget-view+json": {
       "model_id": "f1b953ea6cda4529a1f7178c317f2bc7",
       "version_major": 2,
       "version_minor": 0
      },
      "text/plain": [
       "  0%|          | 0/1000 [00:00<?, ?it/s]"
      ]
     },
     "metadata": {},
     "output_type": "display_data"
    },
    {
     "name": "stderr",
     "output_type": "stream",
     "text": [
      "\r",
      " 37%|███▋      | 372/1000 [01:31<02:41,  3.89it/s]"
     ]
    },
    {
     "data": {
      "application/vnd.jupyter.widget-view+json": {
       "model_id": "72aad07930ff46b0b459588773ef8907",
       "version_major": 2,
       "version_minor": 0
      },
      "text/plain": [
       "  0%|          | 0/1000 [00:00<?, ?it/s]"
      ]
     },
     "metadata": {},
     "output_type": "display_data"
    },
    {
     "name": "stderr",
     "output_type": "stream",
     "text": [
      "\r",
      " 37%|███▋      | 373/1000 [01:31<02:38,  3.96it/s]"
     ]
    },
    {
     "data": {
      "application/vnd.jupyter.widget-view+json": {
       "model_id": "2af11f8457eb467d94fcfbda578e8748",
       "version_major": 2,
       "version_minor": 0
      },
      "text/plain": [
       "  0%|          | 0/1000 [00:00<?, ?it/s]"
      ]
     },
     "metadata": {},
     "output_type": "display_data"
    },
    {
     "name": "stderr",
     "output_type": "stream",
     "text": [
      "\r",
      " 37%|███▋      | 374/1000 [01:31<02:37,  3.96it/s]"
     ]
    },
    {
     "data": {
      "application/vnd.jupyter.widget-view+json": {
       "model_id": "c3afa37c3c3c4edc8d4f586202110c1b",
       "version_major": 2,
       "version_minor": 0
      },
      "text/plain": [
       "  0%|          | 0/1000 [00:00<?, ?it/s]"
      ]
     },
     "metadata": {},
     "output_type": "display_data"
    },
    {
     "name": "stderr",
     "output_type": "stream",
     "text": [
      "\r",
      " 38%|███▊      | 375/1000 [01:31<02:34,  4.04it/s]"
     ]
    },
    {
     "data": {
      "application/vnd.jupyter.widget-view+json": {
       "model_id": "34d10ac1fc9b4cd6a7556c2d0548b263",
       "version_major": 2,
       "version_minor": 0
      },
      "text/plain": [
       "  0%|          | 0/1000 [00:00<?, ?it/s]"
      ]
     },
     "metadata": {},
     "output_type": "display_data"
    },
    {
     "name": "stderr",
     "output_type": "stream",
     "text": [
      "\r",
      " 38%|███▊      | 376/1000 [01:32<02:32,  4.09it/s]"
     ]
    },
    {
     "data": {
      "application/vnd.jupyter.widget-view+json": {
       "model_id": "1031f7fdeba54dbe87facf686902f6ac",
       "version_major": 2,
       "version_minor": 0
      },
      "text/plain": [
       "  0%|          | 0/1000 [00:00<?, ?it/s]"
      ]
     },
     "metadata": {},
     "output_type": "display_data"
    },
    {
     "name": "stderr",
     "output_type": "stream",
     "text": [
      "\r",
      " 38%|███▊      | 377/1000 [01:32<02:34,  4.02it/s]"
     ]
    },
    {
     "data": {
      "application/vnd.jupyter.widget-view+json": {
       "model_id": "67bea6a9ca4843e8928615fed0436161",
       "version_major": 2,
       "version_minor": 0
      },
      "text/plain": [
       "  0%|          | 0/1000 [00:00<?, ?it/s]"
      ]
     },
     "metadata": {},
     "output_type": "display_data"
    },
    {
     "name": "stderr",
     "output_type": "stream",
     "text": [
      "\r",
      " 38%|███▊      | 378/1000 [01:32<02:34,  4.03it/s]"
     ]
    },
    {
     "data": {
      "application/vnd.jupyter.widget-view+json": {
       "model_id": "fbb18be3e7f14663b99a71e8ac319439",
       "version_major": 2,
       "version_minor": 0
      },
      "text/plain": [
       "  0%|          | 0/1000 [00:00<?, ?it/s]"
      ]
     },
     "metadata": {},
     "output_type": "display_data"
    },
    {
     "name": "stderr",
     "output_type": "stream",
     "text": [
      "\r",
      " 38%|███▊      | 379/1000 [01:32<02:32,  4.07it/s]"
     ]
    },
    {
     "data": {
      "application/vnd.jupyter.widget-view+json": {
       "model_id": "dc8c85438e404d958f745110fd13bbb7",
       "version_major": 2,
       "version_minor": 0
      },
      "text/plain": [
       "  0%|          | 0/1000 [00:00<?, ?it/s]"
      ]
     },
     "metadata": {},
     "output_type": "display_data"
    },
    {
     "name": "stderr",
     "output_type": "stream",
     "text": [
      "\r",
      " 38%|███▊      | 380/1000 [01:33<02:33,  4.04it/s]"
     ]
    },
    {
     "data": {
      "application/vnd.jupyter.widget-view+json": {
       "model_id": "3d662f44c3954a95a81a78bcf8b11f9d",
       "version_major": 2,
       "version_minor": 0
      },
      "text/plain": [
       "  0%|          | 0/1000 [00:00<?, ?it/s]"
      ]
     },
     "metadata": {},
     "output_type": "display_data"
    },
    {
     "name": "stderr",
     "output_type": "stream",
     "text": [
      "\r",
      " 38%|███▊      | 381/1000 [01:33<02:32,  4.05it/s]"
     ]
    },
    {
     "data": {
      "application/vnd.jupyter.widget-view+json": {
       "model_id": "80e9a3b460b849e89b7820122739359c",
       "version_major": 2,
       "version_minor": 0
      },
      "text/plain": [
       "  0%|          | 0/1000 [00:00<?, ?it/s]"
      ]
     },
     "metadata": {},
     "output_type": "display_data"
    },
    {
     "name": "stderr",
     "output_type": "stream",
     "text": [
      "\r",
      " 38%|███▊      | 382/1000 [01:33<02:31,  4.07it/s]"
     ]
    },
    {
     "data": {
      "application/vnd.jupyter.widget-view+json": {
       "model_id": "211a0722586d40e8bb55360fb5966369",
       "version_major": 2,
       "version_minor": 0
      },
      "text/plain": [
       "  0%|          | 0/1000 [00:00<?, ?it/s]"
      ]
     },
     "metadata": {},
     "output_type": "display_data"
    },
    {
     "name": "stderr",
     "output_type": "stream",
     "text": [
      "\r",
      " 38%|███▊      | 383/1000 [01:33<02:31,  4.06it/s]"
     ]
    },
    {
     "data": {
      "application/vnd.jupyter.widget-view+json": {
       "model_id": "6ac41a55c8154771a57c1c88d2b7328a",
       "version_major": 2,
       "version_minor": 0
      },
      "text/plain": [
       "  0%|          | 0/1000 [00:00<?, ?it/s]"
      ]
     },
     "metadata": {},
     "output_type": "display_data"
    },
    {
     "name": "stderr",
     "output_type": "stream",
     "text": [
      "\r",
      " 38%|███▊      | 384/1000 [01:34<02:30,  4.10it/s]"
     ]
    },
    {
     "data": {
      "application/vnd.jupyter.widget-view+json": {
       "model_id": "3758388adc7f44a6810662d38d8393ed",
       "version_major": 2,
       "version_minor": 0
      },
      "text/plain": [
       "  0%|          | 0/1000 [00:00<?, ?it/s]"
      ]
     },
     "metadata": {},
     "output_type": "display_data"
    },
    {
     "name": "stderr",
     "output_type": "stream",
     "text": [
      "\r",
      " 38%|███▊      | 385/1000 [01:34<02:33,  4.01it/s]"
     ]
    },
    {
     "data": {
      "application/vnd.jupyter.widget-view+json": {
       "model_id": "dc874bf7f2974d5fa6f2d317362136c5",
       "version_major": 2,
       "version_minor": 0
      },
      "text/plain": [
       "  0%|          | 0/1000 [00:00<?, ?it/s]"
      ]
     },
     "metadata": {},
     "output_type": "display_data"
    },
    {
     "name": "stderr",
     "output_type": "stream",
     "text": [
      "\r",
      " 39%|███▊      | 386/1000 [01:34<02:35,  3.95it/s]"
     ]
    },
    {
     "data": {
      "application/vnd.jupyter.widget-view+json": {
       "model_id": "49045edd05154051a032b954214ab540",
       "version_major": 2,
       "version_minor": 0
      },
      "text/plain": [
       "  0%|          | 0/1000 [00:00<?, ?it/s]"
      ]
     },
     "metadata": {},
     "output_type": "display_data"
    },
    {
     "name": "stderr",
     "output_type": "stream",
     "text": [
      "\r",
      " 39%|███▊      | 387/1000 [01:34<02:32,  4.03it/s]"
     ]
    },
    {
     "data": {
      "application/vnd.jupyter.widget-view+json": {
       "model_id": "6a3021276137474cb71474f425abe95a",
       "version_major": 2,
       "version_minor": 0
      },
      "text/plain": [
       "  0%|          | 0/1000 [00:00<?, ?it/s]"
      ]
     },
     "metadata": {},
     "output_type": "display_data"
    },
    {
     "name": "stderr",
     "output_type": "stream",
     "text": [
      "\r",
      " 39%|███▉      | 388/1000 [01:35<02:32,  4.02it/s]"
     ]
    },
    {
     "data": {
      "application/vnd.jupyter.widget-view+json": {
       "model_id": "2a67c0736f1c4e0c93a8cf016c34cb4f",
       "version_major": 2,
       "version_minor": 0
      },
      "text/plain": [
       "  0%|          | 0/1000 [00:00<?, ?it/s]"
      ]
     },
     "metadata": {},
     "output_type": "display_data"
    },
    {
     "name": "stderr",
     "output_type": "stream",
     "text": [
      "\r",
      " 39%|███▉      | 389/1000 [01:35<02:30,  4.07it/s]"
     ]
    },
    {
     "data": {
      "application/vnd.jupyter.widget-view+json": {
       "model_id": "7b1e9c6a0dde46b1af1741b564fd55fb",
       "version_major": 2,
       "version_minor": 0
      },
      "text/plain": [
       "  0%|          | 0/1000 [00:00<?, ?it/s]"
      ]
     },
     "metadata": {},
     "output_type": "display_data"
    },
    {
     "name": "stderr",
     "output_type": "stream",
     "text": [
      "\r",
      " 39%|███▉      | 390/1000 [01:35<02:31,  4.02it/s]"
     ]
    },
    {
     "data": {
      "application/vnd.jupyter.widget-view+json": {
       "model_id": "f55390371cb74636b5cfb1ae7ad8726a",
       "version_major": 2,
       "version_minor": 0
      },
      "text/plain": [
       "  0%|          | 0/1000 [00:00<?, ?it/s]"
      ]
     },
     "metadata": {},
     "output_type": "display_data"
    },
    {
     "name": "stderr",
     "output_type": "stream",
     "text": [
      "\r",
      " 39%|███▉      | 391/1000 [01:35<02:30,  4.03it/s]"
     ]
    },
    {
     "data": {
      "application/vnd.jupyter.widget-view+json": {
       "model_id": "2dcd3e53b5cb4ae89d82191dac4eb702",
       "version_major": 2,
       "version_minor": 0
      },
      "text/plain": [
       "  0%|          | 0/1000 [00:00<?, ?it/s]"
      ]
     },
     "metadata": {},
     "output_type": "display_data"
    },
    {
     "name": "stderr",
     "output_type": "stream",
     "text": [
      "\r",
      " 39%|███▉      | 392/1000 [01:36<02:37,  3.85it/s]"
     ]
    },
    {
     "data": {
      "application/vnd.jupyter.widget-view+json": {
       "model_id": "f7176e36114d48dfbcac470c671b74e3",
       "version_major": 2,
       "version_minor": 0
      },
      "text/plain": [
       "  0%|          | 0/1000 [00:00<?, ?it/s]"
      ]
     },
     "metadata": {},
     "output_type": "display_data"
    },
    {
     "name": "stderr",
     "output_type": "stream",
     "text": [
      "\r",
      " 39%|███▉      | 393/1000 [01:36<02:45,  3.67it/s]"
     ]
    },
    {
     "data": {
      "application/vnd.jupyter.widget-view+json": {
       "model_id": "b5d22e3d8e3846a39167f690553bf00d",
       "version_major": 2,
       "version_minor": 0
      },
      "text/plain": [
       "  0%|          | 0/1000 [00:00<?, ?it/s]"
      ]
     },
     "metadata": {},
     "output_type": "display_data"
    },
    {
     "name": "stderr",
     "output_type": "stream",
     "text": [
      "\r",
      " 39%|███▉      | 394/1000 [01:36<02:48,  3.59it/s]"
     ]
    },
    {
     "data": {
      "application/vnd.jupyter.widget-view+json": {
       "model_id": "29663c8e74d940749264cf31c583c7c2",
       "version_major": 2,
       "version_minor": 0
      },
      "text/plain": [
       "  0%|          | 0/1000 [00:00<?, ?it/s]"
      ]
     },
     "metadata": {},
     "output_type": "display_data"
    },
    {
     "name": "stderr",
     "output_type": "stream",
     "text": [
      "\r",
      " 40%|███▉      | 395/1000 [01:36<02:50,  3.56it/s]"
     ]
    },
    {
     "data": {
      "application/vnd.jupyter.widget-view+json": {
       "model_id": "b890a75b61364842aa837f2215ee2962",
       "version_major": 2,
       "version_minor": 0
      },
      "text/plain": [
       "  0%|          | 0/1000 [00:00<?, ?it/s]"
      ]
     },
     "metadata": {},
     "output_type": "display_data"
    },
    {
     "name": "stderr",
     "output_type": "stream",
     "text": [
      "\r",
      " 40%|███▉      | 396/1000 [01:37<02:48,  3.59it/s]"
     ]
    },
    {
     "data": {
      "application/vnd.jupyter.widget-view+json": {
       "model_id": "0c8b319f00e1414ebea3516e0bd67916",
       "version_major": 2,
       "version_minor": 0
      },
      "text/plain": [
       "  0%|          | 0/1000 [00:00<?, ?it/s]"
      ]
     },
     "metadata": {},
     "output_type": "display_data"
    },
    {
     "name": "stderr",
     "output_type": "stream",
     "text": [
      "\r",
      " 40%|███▉      | 397/1000 [01:37<02:42,  3.72it/s]"
     ]
    },
    {
     "data": {
      "application/vnd.jupyter.widget-view+json": {
       "model_id": "0d1278d4770f4f91942a9d3555a2487d",
       "version_major": 2,
       "version_minor": 0
      },
      "text/plain": [
       "  0%|          | 0/1000 [00:00<?, ?it/s]"
      ]
     },
     "metadata": {},
     "output_type": "display_data"
    },
    {
     "name": "stderr",
     "output_type": "stream",
     "text": [
      "\r",
      " 40%|███▉      | 398/1000 [01:37<02:37,  3.83it/s]"
     ]
    },
    {
     "data": {
      "application/vnd.jupyter.widget-view+json": {
       "model_id": "23c82df6271e41708d73620314c930f5",
       "version_major": 2,
       "version_minor": 0
      },
      "text/plain": [
       "  0%|          | 0/1000 [00:00<?, ?it/s]"
      ]
     },
     "metadata": {},
     "output_type": "display_data"
    },
    {
     "name": "stderr",
     "output_type": "stream",
     "text": [
      "\r",
      " 40%|███▉      | 399/1000 [01:37<02:32,  3.93it/s]"
     ]
    },
    {
     "data": {
      "application/vnd.jupyter.widget-view+json": {
       "model_id": "6238cbf632ea422b97b7f55816e86aa5",
       "version_major": 2,
       "version_minor": 0
      },
      "text/plain": [
       "  0%|          | 0/1000 [00:00<?, ?it/s]"
      ]
     },
     "metadata": {},
     "output_type": "display_data"
    },
    {
     "name": "stderr",
     "output_type": "stream",
     "text": [
      "\r",
      " 40%|████      | 400/1000 [01:38<02:36,  3.84it/s]"
     ]
    },
    {
     "data": {
      "application/vnd.jupyter.widget-view+json": {
       "model_id": "3ff214fe6d1a450bb783736079ec29f4",
       "version_major": 2,
       "version_minor": 0
      },
      "text/plain": [
       "  0%|          | 0/1000 [00:00<?, ?it/s]"
      ]
     },
     "metadata": {},
     "output_type": "display_data"
    },
    {
     "name": "stderr",
     "output_type": "stream",
     "text": [
      "\r",
      " 40%|████      | 401/1000 [01:38<02:37,  3.80it/s]"
     ]
    },
    {
     "data": {
      "application/vnd.jupyter.widget-view+json": {
       "model_id": "0eae913cf36740ab9a93435602d31562",
       "version_major": 2,
       "version_minor": 0
      },
      "text/plain": [
       "  0%|          | 0/1000 [00:00<?, ?it/s]"
      ]
     },
     "metadata": {},
     "output_type": "display_data"
    },
    {
     "name": "stderr",
     "output_type": "stream",
     "text": [
      "\r",
      " 40%|████      | 402/1000 [01:38<02:36,  3.83it/s]"
     ]
    },
    {
     "data": {
      "application/vnd.jupyter.widget-view+json": {
       "model_id": "5beced9d43f04fd5816732f2c369a18b",
       "version_major": 2,
       "version_minor": 0
      },
      "text/plain": [
       "  0%|          | 0/1000 [00:00<?, ?it/s]"
      ]
     },
     "metadata": {},
     "output_type": "display_data"
    },
    {
     "name": "stderr",
     "output_type": "stream",
     "text": [
      "\r",
      " 40%|████      | 403/1000 [01:38<02:33,  3.89it/s]"
     ]
    },
    {
     "data": {
      "application/vnd.jupyter.widget-view+json": {
       "model_id": "7b2f53c6cc514c39868b165022398e1b",
       "version_major": 2,
       "version_minor": 0
      },
      "text/plain": [
       "  0%|          | 0/1000 [00:00<?, ?it/s]"
      ]
     },
     "metadata": {},
     "output_type": "display_data"
    },
    {
     "name": "stderr",
     "output_type": "stream",
     "text": [
      "\r",
      " 40%|████      | 404/1000 [01:39<02:32,  3.92it/s]"
     ]
    },
    {
     "data": {
      "application/vnd.jupyter.widget-view+json": {
       "model_id": "dd54dcb111e047928bdfe942d97b3f65",
       "version_major": 2,
       "version_minor": 0
      },
      "text/plain": [
       "  0%|          | 0/1000 [00:00<?, ?it/s]"
      ]
     },
     "metadata": {},
     "output_type": "display_data"
    },
    {
     "name": "stderr",
     "output_type": "stream",
     "text": [
      "\r",
      " 40%|████      | 405/1000 [01:39<02:28,  3.99it/s]"
     ]
    },
    {
     "data": {
      "application/vnd.jupyter.widget-view+json": {
       "model_id": "26db6ba1bd15492e8316b2a9bd9d269d",
       "version_major": 2,
       "version_minor": 0
      },
      "text/plain": [
       "  0%|          | 0/1000 [00:00<?, ?it/s]"
      ]
     },
     "metadata": {},
     "output_type": "display_data"
    },
    {
     "name": "stderr",
     "output_type": "stream",
     "text": [
      "\r",
      " 41%|████      | 406/1000 [01:39<02:26,  4.07it/s]"
     ]
    },
    {
     "data": {
      "application/vnd.jupyter.widget-view+json": {
       "model_id": "cbaa910976804942b591937b686a8609",
       "version_major": 2,
       "version_minor": 0
      },
      "text/plain": [
       "  0%|          | 0/1000 [00:00<?, ?it/s]"
      ]
     },
     "metadata": {},
     "output_type": "display_data"
    },
    {
     "name": "stderr",
     "output_type": "stream",
     "text": [
      "\r",
      " 41%|████      | 407/1000 [01:39<02:24,  4.10it/s]"
     ]
    },
    {
     "data": {
      "application/vnd.jupyter.widget-view+json": {
       "model_id": "70e6515d513b43c4bf02e5ab59162c93",
       "version_major": 2,
       "version_minor": 0
      },
      "text/plain": [
       "  0%|          | 0/1000 [00:00<?, ?it/s]"
      ]
     },
     "metadata": {},
     "output_type": "display_data"
    },
    {
     "name": "stderr",
     "output_type": "stream",
     "text": [
      "\r",
      " 41%|████      | 408/1000 [01:40<02:28,  3.98it/s]"
     ]
    },
    {
     "data": {
      "application/vnd.jupyter.widget-view+json": {
       "model_id": "ff1fed9b446c4ce480a99a844969bc54",
       "version_major": 2,
       "version_minor": 0
      },
      "text/plain": [
       "  0%|          | 0/1000 [00:00<?, ?it/s]"
      ]
     },
     "metadata": {},
     "output_type": "display_data"
    },
    {
     "name": "stderr",
     "output_type": "stream",
     "text": [
      "\r",
      " 41%|████      | 409/1000 [01:40<02:29,  3.96it/s]"
     ]
    },
    {
     "data": {
      "application/vnd.jupyter.widget-view+json": {
       "model_id": "bb2ad5612d56435da3e3bf5e1cf50b83",
       "version_major": 2,
       "version_minor": 0
      },
      "text/plain": [
       "  0%|          | 0/1000 [00:00<?, ?it/s]"
      ]
     },
     "metadata": {},
     "output_type": "display_data"
    },
    {
     "name": "stderr",
     "output_type": "stream",
     "text": [
      "\r",
      " 41%|████      | 410/1000 [01:40<02:26,  4.03it/s]"
     ]
    },
    {
     "data": {
      "application/vnd.jupyter.widget-view+json": {
       "model_id": "cd6445c561984bb29211cd32d16fc530",
       "version_major": 2,
       "version_minor": 0
      },
      "text/plain": [
       "  0%|          | 0/1000 [00:00<?, ?it/s]"
      ]
     },
     "metadata": {},
     "output_type": "display_data"
    },
    {
     "name": "stderr",
     "output_type": "stream",
     "text": [
      "\r",
      " 41%|████      | 411/1000 [01:40<02:27,  3.98it/s]"
     ]
    },
    {
     "data": {
      "application/vnd.jupyter.widget-view+json": {
       "model_id": "c9cd912eaa624be19e98a99dda7a59d1",
       "version_major": 2,
       "version_minor": 0
      },
      "text/plain": [
       "  0%|          | 0/1000 [00:00<?, ?it/s]"
      ]
     },
     "metadata": {},
     "output_type": "display_data"
    },
    {
     "name": "stderr",
     "output_type": "stream",
     "text": [
      "\r",
      " 41%|████      | 412/1000 [01:41<02:26,  4.01it/s]"
     ]
    },
    {
     "data": {
      "application/vnd.jupyter.widget-view+json": {
       "model_id": "5cb96cc843014241928e5125aee95240",
       "version_major": 2,
       "version_minor": 0
      },
      "text/plain": [
       "  0%|          | 0/1000 [00:00<?, ?it/s]"
      ]
     },
     "metadata": {},
     "output_type": "display_data"
    },
    {
     "name": "stderr",
     "output_type": "stream",
     "text": [
      "\r",
      " 41%|████▏     | 413/1000 [01:41<02:26,  3.99it/s]"
     ]
    },
    {
     "data": {
      "application/vnd.jupyter.widget-view+json": {
       "model_id": "63cf1ae829014a678b39e48159ea23d6",
       "version_major": 2,
       "version_minor": 0
      },
      "text/plain": [
       "  0%|          | 0/1000 [00:00<?, ?it/s]"
      ]
     },
     "metadata": {},
     "output_type": "display_data"
    },
    {
     "name": "stderr",
     "output_type": "stream",
     "text": [
      "\r",
      " 41%|████▏     | 414/1000 [01:41<02:25,  4.02it/s]"
     ]
    },
    {
     "data": {
      "application/vnd.jupyter.widget-view+json": {
       "model_id": "6d7d13d3182c495db3b9fa6cb36c496c",
       "version_major": 2,
       "version_minor": 0
      },
      "text/plain": [
       "  0%|          | 0/1000 [00:00<?, ?it/s]"
      ]
     },
     "metadata": {},
     "output_type": "display_data"
    },
    {
     "name": "stderr",
     "output_type": "stream",
     "text": [
      "\r",
      " 42%|████▏     | 415/1000 [01:41<02:27,  3.97it/s]"
     ]
    },
    {
     "data": {
      "application/vnd.jupyter.widget-view+json": {
       "model_id": "de2098f26b764ffe9d576335da650714",
       "version_major": 2,
       "version_minor": 0
      },
      "text/plain": [
       "  0%|          | 0/1000 [00:00<?, ?it/s]"
      ]
     },
     "metadata": {},
     "output_type": "display_data"
    },
    {
     "name": "stderr",
     "output_type": "stream",
     "text": [
      "\r",
      " 42%|████▏     | 416/1000 [01:42<02:28,  3.93it/s]"
     ]
    },
    {
     "data": {
      "application/vnd.jupyter.widget-view+json": {
       "model_id": "14d2cf17991f4e35ae33a201aca2db00",
       "version_major": 2,
       "version_minor": 0
      },
      "text/plain": [
       "  0%|          | 0/1000 [00:00<?, ?it/s]"
      ]
     },
     "metadata": {},
     "output_type": "display_data"
    },
    {
     "name": "stderr",
     "output_type": "stream",
     "text": [
      "\r",
      " 42%|████▏     | 417/1000 [01:42<02:25,  4.00it/s]"
     ]
    },
    {
     "data": {
      "application/vnd.jupyter.widget-view+json": {
       "model_id": "0e8599dad8e24b03905d870ed56e3d56",
       "version_major": 2,
       "version_minor": 0
      },
      "text/plain": [
       "  0%|          | 0/1000 [00:00<?, ?it/s]"
      ]
     },
     "metadata": {},
     "output_type": "display_data"
    },
    {
     "name": "stderr",
     "output_type": "stream",
     "text": [
      "\r",
      " 42%|████▏     | 418/1000 [01:42<02:23,  4.07it/s]"
     ]
    },
    {
     "data": {
      "application/vnd.jupyter.widget-view+json": {
       "model_id": "5f6925fce71b4f098d4e48132c9055c7",
       "version_major": 2,
       "version_minor": 0
      },
      "text/plain": [
       "  0%|          | 0/1000 [00:00<?, ?it/s]"
      ]
     },
     "metadata": {},
     "output_type": "display_data"
    },
    {
     "name": "stderr",
     "output_type": "stream",
     "text": [
      "\r",
      " 42%|████▏     | 419/1000 [01:42<02:23,  4.04it/s]"
     ]
    },
    {
     "data": {
      "application/vnd.jupyter.widget-view+json": {
       "model_id": "1db6cd6434444c4dac6380d46fbb0607",
       "version_major": 2,
       "version_minor": 0
      },
      "text/plain": [
       "  0%|          | 0/1000 [00:00<?, ?it/s]"
      ]
     },
     "metadata": {},
     "output_type": "display_data"
    },
    {
     "name": "stderr",
     "output_type": "stream",
     "text": [
      "\r",
      " 42%|████▏     | 420/1000 [01:43<02:22,  4.07it/s]"
     ]
    },
    {
     "data": {
      "application/vnd.jupyter.widget-view+json": {
       "model_id": "834f1f9f12414a229c14b4468d10c95f",
       "version_major": 2,
       "version_minor": 0
      },
      "text/plain": [
       "  0%|          | 0/1000 [00:00<?, ?it/s]"
      ]
     },
     "metadata": {},
     "output_type": "display_data"
    },
    {
     "name": "stderr",
     "output_type": "stream",
     "text": [
      "\r",
      " 42%|████▏     | 421/1000 [01:43<02:21,  4.09it/s]"
     ]
    },
    {
     "data": {
      "application/vnd.jupyter.widget-view+json": {
       "model_id": "4ced92e0607045f58d4afe4952279111",
       "version_major": 2,
       "version_minor": 0
      },
      "text/plain": [
       "  0%|          | 0/1000 [00:00<?, ?it/s]"
      ]
     },
     "metadata": {},
     "output_type": "display_data"
    },
    {
     "name": "stderr",
     "output_type": "stream",
     "text": [
      "\r",
      " 42%|████▏     | 422/1000 [01:43<02:20,  4.12it/s]"
     ]
    },
    {
     "data": {
      "application/vnd.jupyter.widget-view+json": {
       "model_id": "671edd2d2cda43e2aa30f4721399194f",
       "version_major": 2,
       "version_minor": 0
      },
      "text/plain": [
       "  0%|          | 0/1000 [00:00<?, ?it/s]"
      ]
     },
     "metadata": {},
     "output_type": "display_data"
    },
    {
     "name": "stderr",
     "output_type": "stream",
     "text": [
      "\r",
      " 42%|████▏     | 423/1000 [01:43<02:19,  4.15it/s]"
     ]
    },
    {
     "data": {
      "application/vnd.jupyter.widget-view+json": {
       "model_id": "bd7cd729837b4ec1b7bf55774966193e",
       "version_major": 2,
       "version_minor": 0
      },
      "text/plain": [
       "  0%|          | 0/1000 [00:00<?, ?it/s]"
      ]
     },
     "metadata": {},
     "output_type": "display_data"
    },
    {
     "name": "stderr",
     "output_type": "stream",
     "text": [
      "\r",
      " 42%|████▏     | 424/1000 [01:44<02:23,  4.01it/s]"
     ]
    },
    {
     "data": {
      "application/vnd.jupyter.widget-view+json": {
       "model_id": "9f33e5e1f09946a0a57c400cfc9b4c96",
       "version_major": 2,
       "version_minor": 0
      },
      "text/plain": [
       "  0%|          | 0/1000 [00:00<?, ?it/s]"
      ]
     },
     "metadata": {},
     "output_type": "display_data"
    },
    {
     "name": "stderr",
     "output_type": "stream",
     "text": [
      "\r",
      " 42%|████▎     | 425/1000 [01:44<02:23,  4.02it/s]"
     ]
    },
    {
     "data": {
      "application/vnd.jupyter.widget-view+json": {
       "model_id": "2daff228ef0e4a88b9e5502987c0c416",
       "version_major": 2,
       "version_minor": 0
      },
      "text/plain": [
       "  0%|          | 0/1000 [00:00<?, ?it/s]"
      ]
     },
     "metadata": {},
     "output_type": "display_data"
    },
    {
     "name": "stderr",
     "output_type": "stream",
     "text": [
      "\r",
      " 43%|████▎     | 426/1000 [01:44<02:24,  3.96it/s]"
     ]
    },
    {
     "data": {
      "application/vnd.jupyter.widget-view+json": {
       "model_id": "75668750f8664f0aaa1806d4571d2ed2",
       "version_major": 2,
       "version_minor": 0
      },
      "text/plain": [
       "  0%|          | 0/1000 [00:00<?, ?it/s]"
      ]
     },
     "metadata": {},
     "output_type": "display_data"
    },
    {
     "name": "stderr",
     "output_type": "stream",
     "text": [
      "\r",
      " 43%|████▎     | 427/1000 [01:44<02:20,  4.09it/s]"
     ]
    },
    {
     "data": {
      "application/vnd.jupyter.widget-view+json": {
       "model_id": "3119a3d5649648fd8ff5dc7032fb1a0d",
       "version_major": 2,
       "version_minor": 0
      },
      "text/plain": [
       "  0%|          | 0/1000 [00:00<?, ?it/s]"
      ]
     },
     "metadata": {},
     "output_type": "display_data"
    },
    {
     "name": "stderr",
     "output_type": "stream",
     "text": [
      "\r",
      " 43%|████▎     | 428/1000 [01:45<02:21,  4.03it/s]"
     ]
    },
    {
     "data": {
      "application/vnd.jupyter.widget-view+json": {
       "model_id": "defce4f0f772487286c1e5a3f770aa2c",
       "version_major": 2,
       "version_minor": 0
      },
      "text/plain": [
       "  0%|          | 0/1000 [00:00<?, ?it/s]"
      ]
     },
     "metadata": {},
     "output_type": "display_data"
    },
    {
     "name": "stderr",
     "output_type": "stream",
     "text": [
      "\r",
      " 43%|████▎     | 429/1000 [01:45<02:20,  4.06it/s]"
     ]
    },
    {
     "data": {
      "application/vnd.jupyter.widget-view+json": {
       "model_id": "03fcb949e110418da0210fc45d568ba3",
       "version_major": 2,
       "version_minor": 0
      },
      "text/plain": [
       "  0%|          | 0/1000 [00:00<?, ?it/s]"
      ]
     },
     "metadata": {},
     "output_type": "display_data"
    },
    {
     "name": "stderr",
     "output_type": "stream",
     "text": [
      "\r",
      " 43%|████▎     | 430/1000 [01:45<02:21,  4.03it/s]"
     ]
    },
    {
     "data": {
      "application/vnd.jupyter.widget-view+json": {
       "model_id": "89b05d93434e436b9493ff4b6d19a01e",
       "version_major": 2,
       "version_minor": 0
      },
      "text/plain": [
       "  0%|          | 0/1000 [00:00<?, ?it/s]"
      ]
     },
     "metadata": {},
     "output_type": "display_data"
    },
    {
     "name": "stderr",
     "output_type": "stream",
     "text": [
      "\r",
      " 43%|████▎     | 431/1000 [01:45<02:21,  4.03it/s]"
     ]
    },
    {
     "data": {
      "application/vnd.jupyter.widget-view+json": {
       "model_id": "ef1debc3eb99473f9ce38afcb41f8202",
       "version_major": 2,
       "version_minor": 0
      },
      "text/plain": [
       "  0%|          | 0/1000 [00:00<?, ?it/s]"
      ]
     },
     "metadata": {},
     "output_type": "display_data"
    },
    {
     "name": "stderr",
     "output_type": "stream",
     "text": [
      "\r",
      " 43%|████▎     | 432/1000 [01:46<02:25,  3.91it/s]"
     ]
    },
    {
     "data": {
      "application/vnd.jupyter.widget-view+json": {
       "model_id": "98193487337b4f07b383b3b179f67958",
       "version_major": 2,
       "version_minor": 0
      },
      "text/plain": [
       "  0%|          | 0/1000 [00:00<?, ?it/s]"
      ]
     },
     "metadata": {},
     "output_type": "display_data"
    },
    {
     "name": "stderr",
     "output_type": "stream",
     "text": [
      "\r",
      " 43%|████▎     | 433/1000 [01:46<02:24,  3.92it/s]"
     ]
    },
    {
     "data": {
      "application/vnd.jupyter.widget-view+json": {
       "model_id": "b407a9a138bb4278bb026496e2193e97",
       "version_major": 2,
       "version_minor": 0
      },
      "text/plain": [
       "  0%|          | 0/1000 [00:00<?, ?it/s]"
      ]
     },
     "metadata": {},
     "output_type": "display_data"
    },
    {
     "name": "stderr",
     "output_type": "stream",
     "text": [
      "\r",
      " 43%|████▎     | 434/1000 [01:46<02:22,  3.98it/s]"
     ]
    },
    {
     "data": {
      "application/vnd.jupyter.widget-view+json": {
       "model_id": "fe30e8e9eea84d9d94766d558a5f3af9",
       "version_major": 2,
       "version_minor": 0
      },
      "text/plain": [
       "  0%|          | 0/1000 [00:00<?, ?it/s]"
      ]
     },
     "metadata": {},
     "output_type": "display_data"
    },
    {
     "name": "stderr",
     "output_type": "stream",
     "text": [
      "\r",
      " 44%|████▎     | 435/1000 [01:46<02:20,  4.01it/s]"
     ]
    },
    {
     "data": {
      "application/vnd.jupyter.widget-view+json": {
       "model_id": "53cacd023e6d4ba2b0d7a16197f072bb",
       "version_major": 2,
       "version_minor": 0
      },
      "text/plain": [
       "  0%|          | 0/1000 [00:00<?, ?it/s]"
      ]
     },
     "metadata": {},
     "output_type": "display_data"
    },
    {
     "name": "stderr",
     "output_type": "stream",
     "text": [
      "\r",
      " 44%|████▎     | 436/1000 [01:47<02:21,  3.99it/s]"
     ]
    },
    {
     "data": {
      "application/vnd.jupyter.widget-view+json": {
       "model_id": "7d4526c53d1c41f682fdc99b693af40f",
       "version_major": 2,
       "version_minor": 0
      },
      "text/plain": [
       "  0%|          | 0/1000 [00:00<?, ?it/s]"
      ]
     },
     "metadata": {},
     "output_type": "display_data"
    },
    {
     "name": "stderr",
     "output_type": "stream",
     "text": [
      "\r",
      " 44%|████▎     | 437/1000 [01:47<02:22,  3.96it/s]"
     ]
    },
    {
     "data": {
      "application/vnd.jupyter.widget-view+json": {
       "model_id": "2b3a3afcf0364be4a080720e2b048cc0",
       "version_major": 2,
       "version_minor": 0
      },
      "text/plain": [
       "  0%|          | 0/1000 [00:00<?, ?it/s]"
      ]
     },
     "metadata": {},
     "output_type": "display_data"
    },
    {
     "name": "stderr",
     "output_type": "stream",
     "text": [
      "\r",
      " 44%|████▍     | 438/1000 [01:47<02:22,  3.93it/s]"
     ]
    },
    {
     "data": {
      "application/vnd.jupyter.widget-view+json": {
       "model_id": "2e3d1763e5cf40269fad30b5f50d346e",
       "version_major": 2,
       "version_minor": 0
      },
      "text/plain": [
       "  0%|          | 0/1000 [00:00<?, ?it/s]"
      ]
     },
     "metadata": {},
     "output_type": "display_data"
    },
    {
     "name": "stderr",
     "output_type": "stream",
     "text": [
      "\r",
      " 44%|████▍     | 439/1000 [01:47<02:20,  3.99it/s]"
     ]
    },
    {
     "data": {
      "application/vnd.jupyter.widget-view+json": {
       "model_id": "1646df2aec954aa28d1376ad1e3fcd11",
       "version_major": 2,
       "version_minor": 0
      },
      "text/plain": [
       "  0%|          | 0/1000 [00:00<?, ?it/s]"
      ]
     },
     "metadata": {},
     "output_type": "display_data"
    },
    {
     "name": "stderr",
     "output_type": "stream",
     "text": [
      "\r",
      " 44%|████▍     | 440/1000 [01:48<02:26,  3.83it/s]"
     ]
    },
    {
     "data": {
      "application/vnd.jupyter.widget-view+json": {
       "model_id": "bbdfa6725e124d96a416109874daede2",
       "version_major": 2,
       "version_minor": 0
      },
      "text/plain": [
       "  0%|          | 0/1000 [00:00<?, ?it/s]"
      ]
     },
     "metadata": {},
     "output_type": "display_data"
    },
    {
     "name": "stderr",
     "output_type": "stream",
     "text": [
      "\r",
      " 44%|████▍     | 441/1000 [01:48<02:21,  3.94it/s]"
     ]
    },
    {
     "data": {
      "application/vnd.jupyter.widget-view+json": {
       "model_id": "8ecca4268d3a4ba9b0235c8079cd3939",
       "version_major": 2,
       "version_minor": 0
      },
      "text/plain": [
       "  0%|          | 0/1000 [00:00<?, ?it/s]"
      ]
     },
     "metadata": {},
     "output_type": "display_data"
    },
    {
     "name": "stderr",
     "output_type": "stream",
     "text": [
      "\r",
      " 44%|████▍     | 442/1000 [01:48<02:21,  3.95it/s]"
     ]
    },
    {
     "data": {
      "application/vnd.jupyter.widget-view+json": {
       "model_id": "66cd941dfd844fefb7e1aa8e47125a73",
       "version_major": 2,
       "version_minor": 0
      },
      "text/plain": [
       "  0%|          | 0/1000 [00:00<?, ?it/s]"
      ]
     },
     "metadata": {},
     "output_type": "display_data"
    },
    {
     "name": "stderr",
     "output_type": "stream",
     "text": [
      "\r",
      " 44%|████▍     | 443/1000 [01:48<02:19,  4.01it/s]"
     ]
    },
    {
     "data": {
      "application/vnd.jupyter.widget-view+json": {
       "model_id": "b8347d1675a5442a882aad744b26054b",
       "version_major": 2,
       "version_minor": 0
      },
      "text/plain": [
       "  0%|          | 0/1000 [00:00<?, ?it/s]"
      ]
     },
     "metadata": {},
     "output_type": "display_data"
    },
    {
     "name": "stderr",
     "output_type": "stream",
     "text": [
      "\r",
      " 44%|████▍     | 444/1000 [01:49<02:21,  3.93it/s]"
     ]
    },
    {
     "data": {
      "application/vnd.jupyter.widget-view+json": {
       "model_id": "884811307780453293d5ea3a5965e8d3",
       "version_major": 2,
       "version_minor": 0
      },
      "text/plain": [
       "  0%|          | 0/1000 [00:00<?, ?it/s]"
      ]
     },
     "metadata": {},
     "output_type": "display_data"
    },
    {
     "name": "stderr",
     "output_type": "stream",
     "text": [
      "\r",
      " 44%|████▍     | 445/1000 [01:49<02:35,  3.58it/s]"
     ]
    },
    {
     "data": {
      "application/vnd.jupyter.widget-view+json": {
       "model_id": "b8ca2c6e68664f6099eb3b3e27727c57",
       "version_major": 2,
       "version_minor": 0
      },
      "text/plain": [
       "  0%|          | 0/1000 [00:00<?, ?it/s]"
      ]
     },
     "metadata": {},
     "output_type": "display_data"
    },
    {
     "name": "stderr",
     "output_type": "stream",
     "text": [
      "\r",
      " 45%|████▍     | 446/1000 [01:49<02:55,  3.16it/s]"
     ]
    },
    {
     "data": {
      "application/vnd.jupyter.widget-view+json": {
       "model_id": "a732d2ee101e4d058aaf8b27c073da8b",
       "version_major": 2,
       "version_minor": 0
      },
      "text/plain": [
       "  0%|          | 0/1000 [00:00<?, ?it/s]"
      ]
     },
     "metadata": {},
     "output_type": "display_data"
    },
    {
     "name": "stderr",
     "output_type": "stream",
     "text": [
      "\r",
      " 45%|████▍     | 447/1000 [01:50<03:02,  3.04it/s]"
     ]
    },
    {
     "data": {
      "application/vnd.jupyter.widget-view+json": {
       "model_id": "359ed51f67724e479717a7bc4d0cd6d0",
       "version_major": 2,
       "version_minor": 0
      },
      "text/plain": [
       "  0%|          | 0/1000 [00:00<?, ?it/s]"
      ]
     },
     "metadata": {},
     "output_type": "display_data"
    },
    {
     "name": "stderr",
     "output_type": "stream",
     "text": [
      "\r",
      " 45%|████▍     | 448/1000 [01:50<03:07,  2.95it/s]"
     ]
    },
    {
     "data": {
      "application/vnd.jupyter.widget-view+json": {
       "model_id": "9524b2e91159427c979e99a1bb4876b3",
       "version_major": 2,
       "version_minor": 0
      },
      "text/plain": [
       "  0%|          | 0/1000 [00:00<?, ?it/s]"
      ]
     },
     "metadata": {},
     "output_type": "display_data"
    },
    {
     "name": "stderr",
     "output_type": "stream",
     "text": [
      "\r",
      " 45%|████▍     | 449/1000 [01:51<03:14,  2.83it/s]"
     ]
    },
    {
     "data": {
      "application/vnd.jupyter.widget-view+json": {
       "model_id": "5a650fd8aad34076af6ad870056bd4e9",
       "version_major": 2,
       "version_minor": 0
      },
      "text/plain": [
       "  0%|          | 0/1000 [00:00<?, ?it/s]"
      ]
     },
     "metadata": {},
     "output_type": "display_data"
    },
    {
     "name": "stderr",
     "output_type": "stream",
     "text": [
      "\r",
      " 45%|████▌     | 450/1000 [01:51<02:59,  3.07it/s]"
     ]
    },
    {
     "data": {
      "application/vnd.jupyter.widget-view+json": {
       "model_id": "a2488f8b0a9547e08f74d5141ac4ea2c",
       "version_major": 2,
       "version_minor": 0
      },
      "text/plain": [
       "  0%|          | 0/1000 [00:00<?, ?it/s]"
      ]
     },
     "metadata": {},
     "output_type": "display_data"
    },
    {
     "name": "stderr",
     "output_type": "stream",
     "text": [
      "\r",
      " 45%|████▌     | 451/1000 [01:51<02:45,  3.32it/s]"
     ]
    },
    {
     "data": {
      "application/vnd.jupyter.widget-view+json": {
       "model_id": "9b4726f8f7a14b65afc65cf3b1041dba",
       "version_major": 2,
       "version_minor": 0
      },
      "text/plain": [
       "  0%|          | 0/1000 [00:00<?, ?it/s]"
      ]
     },
     "metadata": {},
     "output_type": "display_data"
    },
    {
     "name": "stderr",
     "output_type": "stream",
     "text": [
      "\r",
      " 45%|████▌     | 452/1000 [01:51<02:34,  3.54it/s]"
     ]
    },
    {
     "data": {
      "application/vnd.jupyter.widget-view+json": {
       "model_id": "6f023788d6754e3a860f63cef56d40bf",
       "version_major": 2,
       "version_minor": 0
      },
      "text/plain": [
       "  0%|          | 0/1000 [00:00<?, ?it/s]"
      ]
     },
     "metadata": {},
     "output_type": "display_data"
    },
    {
     "name": "stderr",
     "output_type": "stream",
     "text": [
      "\r",
      " 45%|████▌     | 453/1000 [01:52<02:30,  3.63it/s]"
     ]
    },
    {
     "data": {
      "application/vnd.jupyter.widget-view+json": {
       "model_id": "f43dc21209104801a069215feddeabae",
       "version_major": 2,
       "version_minor": 0
      },
      "text/plain": [
       "  0%|          | 0/1000 [00:00<?, ?it/s]"
      ]
     },
     "metadata": {},
     "output_type": "display_data"
    },
    {
     "name": "stderr",
     "output_type": "stream",
     "text": [
      "\r",
      " 45%|████▌     | 454/1000 [01:52<03:01,  3.01it/s]"
     ]
    },
    {
     "data": {
      "application/vnd.jupyter.widget-view+json": {
       "model_id": "1c86c802ceb24b1088db65340cb42c1e",
       "version_major": 2,
       "version_minor": 0
      },
      "text/plain": [
       "  0%|          | 0/1000 [00:00<?, ?it/s]"
      ]
     },
     "metadata": {},
     "output_type": "display_data"
    },
    {
     "name": "stderr",
     "output_type": "stream",
     "text": [
      "\r",
      " 46%|████▌     | 455/1000 [01:52<02:55,  3.10it/s]"
     ]
    },
    {
     "data": {
      "application/vnd.jupyter.widget-view+json": {
       "model_id": "cd5ace73d90f411f9238738f9bbc3a19",
       "version_major": 2,
       "version_minor": 0
      },
      "text/plain": [
       "  0%|          | 0/1000 [00:00<?, ?it/s]"
      ]
     },
     "metadata": {},
     "output_type": "display_data"
    },
    {
     "name": "stderr",
     "output_type": "stream",
     "text": [
      "\r",
      " 46%|████▌     | 456/1000 [01:53<02:47,  3.26it/s]"
     ]
    },
    {
     "data": {
      "application/vnd.jupyter.widget-view+json": {
       "model_id": "954a89dc71f54fb4a2a4f33323a44370",
       "version_major": 2,
       "version_minor": 0
      },
      "text/plain": [
       "  0%|          | 0/1000 [00:00<?, ?it/s]"
      ]
     },
     "metadata": {},
     "output_type": "display_data"
    },
    {
     "name": "stderr",
     "output_type": "stream",
     "text": [
      "\r",
      " 46%|████▌     | 457/1000 [01:53<02:37,  3.44it/s]"
     ]
    },
    {
     "data": {
      "application/vnd.jupyter.widget-view+json": {
       "model_id": "6b78b114a24a407f8c88c04944f68f74",
       "version_major": 2,
       "version_minor": 0
      },
      "text/plain": [
       "  0%|          | 0/1000 [00:00<?, ?it/s]"
      ]
     },
     "metadata": {},
     "output_type": "display_data"
    },
    {
     "name": "stderr",
     "output_type": "stream",
     "text": [
      "\r",
      " 46%|████▌     | 458/1000 [01:53<02:30,  3.61it/s]"
     ]
    },
    {
     "data": {
      "application/vnd.jupyter.widget-view+json": {
       "model_id": "083ceaef30c84d73ac943fb813c827ed",
       "version_major": 2,
       "version_minor": 0
      },
      "text/plain": [
       "  0%|          | 0/1000 [00:00<?, ?it/s]"
      ]
     },
     "metadata": {},
     "output_type": "display_data"
    },
    {
     "name": "stderr",
     "output_type": "stream",
     "text": [
      "\r",
      " 46%|████▌     | 459/1000 [01:53<02:25,  3.71it/s]"
     ]
    },
    {
     "data": {
      "application/vnd.jupyter.widget-view+json": {
       "model_id": "8295fdd73dae4c8c9a364eadd7034674",
       "version_major": 2,
       "version_minor": 0
      },
      "text/plain": [
       "  0%|          | 0/1000 [00:00<?, ?it/s]"
      ]
     },
     "metadata": {},
     "output_type": "display_data"
    },
    {
     "name": "stderr",
     "output_type": "stream",
     "text": [
      "\r",
      " 46%|████▌     | 460/1000 [01:54<02:24,  3.75it/s]"
     ]
    },
    {
     "data": {
      "application/vnd.jupyter.widget-view+json": {
       "model_id": "447514c54bf8430b8cef64093b34b25f",
       "version_major": 2,
       "version_minor": 0
      },
      "text/plain": [
       "  0%|          | 0/1000 [00:00<?, ?it/s]"
      ]
     },
     "metadata": {},
     "output_type": "display_data"
    },
    {
     "name": "stderr",
     "output_type": "stream",
     "text": [
      "\r",
      " 46%|████▌     | 461/1000 [01:54<02:21,  3.80it/s]"
     ]
    },
    {
     "data": {
      "application/vnd.jupyter.widget-view+json": {
       "model_id": "77ba7ac03db34abf98897a79656679c0",
       "version_major": 2,
       "version_minor": 0
      },
      "text/plain": [
       "  0%|          | 0/1000 [00:00<?, ?it/s]"
      ]
     },
     "metadata": {},
     "output_type": "display_data"
    },
    {
     "name": "stderr",
     "output_type": "stream",
     "text": [
      "\r",
      " 46%|████▌     | 462/1000 [01:54<02:19,  3.84it/s]"
     ]
    },
    {
     "data": {
      "application/vnd.jupyter.widget-view+json": {
       "model_id": "24293d297c294c7f8d916088e16b2296",
       "version_major": 2,
       "version_minor": 0
      },
      "text/plain": [
       "  0%|          | 0/1000 [00:00<?, ?it/s]"
      ]
     },
     "metadata": {},
     "output_type": "display_data"
    },
    {
     "name": "stderr",
     "output_type": "stream",
     "text": [
      "\r",
      " 46%|████▋     | 463/1000 [01:54<02:16,  3.94it/s]"
     ]
    },
    {
     "data": {
      "application/vnd.jupyter.widget-view+json": {
       "model_id": "32cbefbc0ddb4746a6c1d6fb425f6d2c",
       "version_major": 2,
       "version_minor": 0
      },
      "text/plain": [
       "  0%|          | 0/1000 [00:00<?, ?it/s]"
      ]
     },
     "metadata": {},
     "output_type": "display_data"
    },
    {
     "name": "stderr",
     "output_type": "stream",
     "text": [
      "\r",
      " 46%|████▋     | 464/1000 [01:55<02:16,  3.92it/s]"
     ]
    },
    {
     "data": {
      "application/vnd.jupyter.widget-view+json": {
       "model_id": "d6c4f5e353944ecfae98b3dc24066514",
       "version_major": 2,
       "version_minor": 0
      },
      "text/plain": [
       "  0%|          | 0/1000 [00:00<?, ?it/s]"
      ]
     },
     "metadata": {},
     "output_type": "display_data"
    },
    {
     "name": "stderr",
     "output_type": "stream",
     "text": [
      "\r",
      " 46%|████▋     | 465/1000 [01:55<02:16,  3.91it/s]"
     ]
    },
    {
     "data": {
      "application/vnd.jupyter.widget-view+json": {
       "model_id": "d124d850d40b4063a9236cd7ea31fd7c",
       "version_major": 2,
       "version_minor": 0
      },
      "text/plain": [
       "  0%|          | 0/1000 [00:00<?, ?it/s]"
      ]
     },
     "metadata": {},
     "output_type": "display_data"
    },
    {
     "name": "stderr",
     "output_type": "stream",
     "text": [
      "\r",
      " 47%|████▋     | 466/1000 [01:55<02:14,  3.96it/s]"
     ]
    },
    {
     "data": {
      "application/vnd.jupyter.widget-view+json": {
       "model_id": "b8ab6c61cbe642c4bdba61aa1603a935",
       "version_major": 2,
       "version_minor": 0
      },
      "text/plain": [
       "  0%|          | 0/1000 [00:00<?, ?it/s]"
      ]
     },
     "metadata": {},
     "output_type": "display_data"
    },
    {
     "name": "stderr",
     "output_type": "stream",
     "text": [
      "\r",
      " 47%|████▋     | 467/1000 [01:55<02:14,  3.97it/s]"
     ]
    },
    {
     "data": {
      "application/vnd.jupyter.widget-view+json": {
       "model_id": "b0b4a23e4f8847f8b8e175fbbdb9822d",
       "version_major": 2,
       "version_minor": 0
      },
      "text/plain": [
       "  0%|          | 0/1000 [00:00<?, ?it/s]"
      ]
     },
     "metadata": {},
     "output_type": "display_data"
    },
    {
     "name": "stderr",
     "output_type": "stream",
     "text": [
      "\r",
      " 47%|████▋     | 468/1000 [01:56<02:15,  3.92it/s]"
     ]
    },
    {
     "data": {
      "application/vnd.jupyter.widget-view+json": {
       "model_id": "d3baa69a1eca4440921532818b0cb8bb",
       "version_major": 2,
       "version_minor": 0
      },
      "text/plain": [
       "  0%|          | 0/1000 [00:00<?, ?it/s]"
      ]
     },
     "metadata": {},
     "output_type": "display_data"
    },
    {
     "name": "stderr",
     "output_type": "stream",
     "text": [
      "\r",
      " 47%|████▋     | 469/1000 [01:56<02:17,  3.85it/s]"
     ]
    },
    {
     "data": {
      "application/vnd.jupyter.widget-view+json": {
       "model_id": "33ea6f399b684be4ab02606320a378d9",
       "version_major": 2,
       "version_minor": 0
      },
      "text/plain": [
       "  0%|          | 0/1000 [00:00<?, ?it/s]"
      ]
     },
     "metadata": {},
     "output_type": "display_data"
    },
    {
     "name": "stderr",
     "output_type": "stream",
     "text": [
      "\r",
      " 47%|████▋     | 470/1000 [01:56<02:16,  3.87it/s]"
     ]
    },
    {
     "data": {
      "application/vnd.jupyter.widget-view+json": {
       "model_id": "ca45a5b29c4149d9808267018ba5cedd",
       "version_major": 2,
       "version_minor": 0
      },
      "text/plain": [
       "  0%|          | 0/1000 [00:00<?, ?it/s]"
      ]
     },
     "metadata": {},
     "output_type": "display_data"
    },
    {
     "name": "stderr",
     "output_type": "stream",
     "text": [
      "\r",
      " 47%|████▋     | 471/1000 [01:56<02:14,  3.92it/s]"
     ]
    },
    {
     "data": {
      "application/vnd.jupyter.widget-view+json": {
       "model_id": "d2744331a07545e688ff47fb42c958f2",
       "version_major": 2,
       "version_minor": 0
      },
      "text/plain": [
       "  0%|          | 0/1000 [00:00<?, ?it/s]"
      ]
     },
     "metadata": {},
     "output_type": "display_data"
    },
    {
     "name": "stderr",
     "output_type": "stream",
     "text": [
      "\r",
      " 47%|████▋     | 472/1000 [01:57<02:13,  3.95it/s]"
     ]
    },
    {
     "data": {
      "application/vnd.jupyter.widget-view+json": {
       "model_id": "208e04573fb94ba28aac37200dcc603e",
       "version_major": 2,
       "version_minor": 0
      },
      "text/plain": [
       "  0%|          | 0/1000 [00:00<?, ?it/s]"
      ]
     },
     "metadata": {},
     "output_type": "display_data"
    },
    {
     "name": "stderr",
     "output_type": "stream",
     "text": [
      "\r",
      " 47%|████▋     | 473/1000 [01:57<02:14,  3.91it/s]"
     ]
    },
    {
     "data": {
      "application/vnd.jupyter.widget-view+json": {
       "model_id": "8c8b64e11aac42a4b8c9c8afc27d1f2d",
       "version_major": 2,
       "version_minor": 0
      },
      "text/plain": [
       "  0%|          | 0/1000 [00:00<?, ?it/s]"
      ]
     },
     "metadata": {},
     "output_type": "display_data"
    },
    {
     "name": "stderr",
     "output_type": "stream",
     "text": [
      "\r",
      " 47%|████▋     | 474/1000 [01:57<02:15,  3.88it/s]"
     ]
    },
    {
     "data": {
      "application/vnd.jupyter.widget-view+json": {
       "model_id": "b2e406219de948ad9ebaddfbffe4a852",
       "version_major": 2,
       "version_minor": 0
      },
      "text/plain": [
       "  0%|          | 0/1000 [00:00<?, ?it/s]"
      ]
     },
     "metadata": {},
     "output_type": "display_data"
    },
    {
     "name": "stderr",
     "output_type": "stream",
     "text": [
      "\r",
      " 48%|████▊     | 475/1000 [01:57<02:14,  3.90it/s]"
     ]
    },
    {
     "data": {
      "application/vnd.jupyter.widget-view+json": {
       "model_id": "b734f900d2b84f348c979020d8c84615",
       "version_major": 2,
       "version_minor": 0
      },
      "text/plain": [
       "  0%|          | 0/1000 [00:00<?, ?it/s]"
      ]
     },
     "metadata": {},
     "output_type": "display_data"
    },
    {
     "name": "stderr",
     "output_type": "stream",
     "text": [
      "\r",
      " 48%|████▊     | 476/1000 [01:58<02:16,  3.85it/s]"
     ]
    },
    {
     "data": {
      "application/vnd.jupyter.widget-view+json": {
       "model_id": "c97eb636a47a44779aad784a626ff150",
       "version_major": 2,
       "version_minor": 0
      },
      "text/plain": [
       "  0%|          | 0/1000 [00:00<?, ?it/s]"
      ]
     },
     "metadata": {},
     "output_type": "display_data"
    },
    {
     "name": "stderr",
     "output_type": "stream",
     "text": [
      "\r",
      " 48%|████▊     | 477/1000 [01:58<02:20,  3.73it/s]"
     ]
    },
    {
     "data": {
      "application/vnd.jupyter.widget-view+json": {
       "model_id": "b23502adf8fb49c8a7c79f394f147078",
       "version_major": 2,
       "version_minor": 0
      },
      "text/plain": [
       "  0%|          | 0/1000 [00:00<?, ?it/s]"
      ]
     },
     "metadata": {},
     "output_type": "display_data"
    },
    {
     "name": "stderr",
     "output_type": "stream",
     "text": [
      "\r",
      " 48%|████▊     | 478/1000 [01:58<02:21,  3.68it/s]"
     ]
    },
    {
     "data": {
      "application/vnd.jupyter.widget-view+json": {
       "model_id": "792ded46cfb14c7e8deaa0aadc6c2984",
       "version_major": 2,
       "version_minor": 0
      },
      "text/plain": [
       "  0%|          | 0/1000 [00:00<?, ?it/s]"
      ]
     },
     "metadata": {},
     "output_type": "display_data"
    },
    {
     "name": "stderr",
     "output_type": "stream",
     "text": [
      "\r",
      " 48%|████▊     | 479/1000 [01:59<02:21,  3.68it/s]"
     ]
    },
    {
     "data": {
      "application/vnd.jupyter.widget-view+json": {
       "model_id": "aec41cde96cc45d7a88a75956e98b9f4",
       "version_major": 2,
       "version_minor": 0
      },
      "text/plain": [
       "  0%|          | 0/1000 [00:00<?, ?it/s]"
      ]
     },
     "metadata": {},
     "output_type": "display_data"
    },
    {
     "name": "stderr",
     "output_type": "stream",
     "text": [
      "\r",
      " 48%|████▊     | 480/1000 [01:59<02:22,  3.65it/s]"
     ]
    },
    {
     "data": {
      "application/vnd.jupyter.widget-view+json": {
       "model_id": "11ce96c6693a4d6c957a969879499718",
       "version_major": 2,
       "version_minor": 0
      },
      "text/plain": [
       "  0%|          | 0/1000 [00:00<?, ?it/s]"
      ]
     },
     "metadata": {},
     "output_type": "display_data"
    },
    {
     "name": "stderr",
     "output_type": "stream",
     "text": [
      "\r",
      " 48%|████▊     | 481/1000 [01:59<02:19,  3.71it/s]"
     ]
    },
    {
     "data": {
      "application/vnd.jupyter.widget-view+json": {
       "model_id": "065ba8ed76e44e3b8bc7298d706e9509",
       "version_major": 2,
       "version_minor": 0
      },
      "text/plain": [
       "  0%|          | 0/1000 [00:00<?, ?it/s]"
      ]
     },
     "metadata": {},
     "output_type": "display_data"
    },
    {
     "name": "stderr",
     "output_type": "stream",
     "text": [
      "\r",
      " 48%|████▊     | 482/1000 [01:59<02:17,  3.78it/s]"
     ]
    },
    {
     "data": {
      "application/vnd.jupyter.widget-view+json": {
       "model_id": "8d9fe3609d7e41e6b6c022dcf9bd6716",
       "version_major": 2,
       "version_minor": 0
      },
      "text/plain": [
       "  0%|          | 0/1000 [00:00<?, ?it/s]"
      ]
     },
     "metadata": {},
     "output_type": "display_data"
    },
    {
     "name": "stderr",
     "output_type": "stream",
     "text": [
      "\r",
      " 48%|████▊     | 483/1000 [02:00<02:16,  3.80it/s]"
     ]
    },
    {
     "data": {
      "application/vnd.jupyter.widget-view+json": {
       "model_id": "705b88d2da6c400785753811269c3939",
       "version_major": 2,
       "version_minor": 0
      },
      "text/plain": [
       "  0%|          | 0/1000 [00:00<?, ?it/s]"
      ]
     },
     "metadata": {},
     "output_type": "display_data"
    },
    {
     "name": "stderr",
     "output_type": "stream",
     "text": [
      "\r",
      " 48%|████▊     | 484/1000 [02:00<02:19,  3.69it/s]"
     ]
    },
    {
     "data": {
      "application/vnd.jupyter.widget-view+json": {
       "model_id": "ab693cfe4a4c4a59bbb3739a1e1f9a22",
       "version_major": 2,
       "version_minor": 0
      },
      "text/plain": [
       "  0%|          | 0/1000 [00:00<?, ?it/s]"
      ]
     },
     "metadata": {},
     "output_type": "display_data"
    },
    {
     "name": "stderr",
     "output_type": "stream",
     "text": [
      "\r",
      " 48%|████▊     | 485/1000 [02:00<02:17,  3.74it/s]"
     ]
    },
    {
     "data": {
      "application/vnd.jupyter.widget-view+json": {
       "model_id": "5bf62dd2df874676af5658a5f3ecc82d",
       "version_major": 2,
       "version_minor": 0
      },
      "text/plain": [
       "  0%|          | 0/1000 [00:00<?, ?it/s]"
      ]
     },
     "metadata": {},
     "output_type": "display_data"
    },
    {
     "name": "stderr",
     "output_type": "stream",
     "text": [
      "\r",
      " 49%|████▊     | 486/1000 [02:00<02:16,  3.76it/s]"
     ]
    },
    {
     "data": {
      "application/vnd.jupyter.widget-view+json": {
       "model_id": "60ca1da88c32423996833811359b0b9c",
       "version_major": 2,
       "version_minor": 0
      },
      "text/plain": [
       "  0%|          | 0/1000 [00:00<?, ?it/s]"
      ]
     },
     "metadata": {},
     "output_type": "display_data"
    },
    {
     "name": "stderr",
     "output_type": "stream",
     "text": [
      "\r",
      " 49%|████▊     | 487/1000 [02:01<02:14,  3.81it/s]"
     ]
    },
    {
     "data": {
      "application/vnd.jupyter.widget-view+json": {
       "model_id": "6bfc093435c84f3d9aefffb0d7e73042",
       "version_major": 2,
       "version_minor": 0
      },
      "text/plain": [
       "  0%|          | 0/1000 [00:00<?, ?it/s]"
      ]
     },
     "metadata": {},
     "output_type": "display_data"
    },
    {
     "name": "stderr",
     "output_type": "stream",
     "text": [
      "\r",
      " 49%|████▉     | 488/1000 [02:01<02:14,  3.82it/s]"
     ]
    },
    {
     "data": {
      "application/vnd.jupyter.widget-view+json": {
       "model_id": "cf47f67d97fe4a728053459ca4269a05",
       "version_major": 2,
       "version_minor": 0
      },
      "text/plain": [
       "  0%|          | 0/1000 [00:00<?, ?it/s]"
      ]
     },
     "metadata": {},
     "output_type": "display_data"
    },
    {
     "name": "stderr",
     "output_type": "stream",
     "text": [
      "\r",
      " 49%|████▉     | 489/1000 [02:01<02:11,  3.90it/s]"
     ]
    },
    {
     "data": {
      "application/vnd.jupyter.widget-view+json": {
       "model_id": "ab9734b49766421da312afa4ae738084",
       "version_major": 2,
       "version_minor": 0
      },
      "text/plain": [
       "  0%|          | 0/1000 [00:00<?, ?it/s]"
      ]
     },
     "metadata": {},
     "output_type": "display_data"
    },
    {
     "name": "stderr",
     "output_type": "stream",
     "text": [
      "\r",
      " 49%|████▉     | 490/1000 [02:01<02:12,  3.86it/s]"
     ]
    },
    {
     "data": {
      "application/vnd.jupyter.widget-view+json": {
       "model_id": "0c77c6f4bc0d498ea11d9f037d7b0ecb",
       "version_major": 2,
       "version_minor": 0
      },
      "text/plain": [
       "  0%|          | 0/1000 [00:00<?, ?it/s]"
      ]
     },
     "metadata": {},
     "output_type": "display_data"
    },
    {
     "name": "stderr",
     "output_type": "stream",
     "text": [
      "\r",
      " 49%|████▉     | 491/1000 [02:02<02:14,  3.78it/s]"
     ]
    },
    {
     "data": {
      "application/vnd.jupyter.widget-view+json": {
       "model_id": "27c96113374d420a9afc22f57289057e",
       "version_major": 2,
       "version_minor": 0
      },
      "text/plain": [
       "  0%|          | 0/1000 [00:00<?, ?it/s]"
      ]
     },
     "metadata": {},
     "output_type": "display_data"
    },
    {
     "name": "stderr",
     "output_type": "stream",
     "text": [
      "\r",
      " 49%|████▉     | 492/1000 [02:02<02:11,  3.87it/s]"
     ]
    },
    {
     "data": {
      "application/vnd.jupyter.widget-view+json": {
       "model_id": "32cb6515d6cf48b08c9e3c33f84c89e1",
       "version_major": 2,
       "version_minor": 0
      },
      "text/plain": [
       "  0%|          | 0/1000 [00:00<?, ?it/s]"
      ]
     },
     "metadata": {},
     "output_type": "display_data"
    },
    {
     "name": "stderr",
     "output_type": "stream",
     "text": [
      "\r",
      " 49%|████▉     | 493/1000 [02:02<02:08,  3.94it/s]"
     ]
    },
    {
     "data": {
      "application/vnd.jupyter.widget-view+json": {
       "model_id": "0adc415e9d9b4db0b9f56cb915c31c53",
       "version_major": 2,
       "version_minor": 0
      },
      "text/plain": [
       "  0%|          | 0/1000 [00:00<?, ?it/s]"
      ]
     },
     "metadata": {},
     "output_type": "display_data"
    },
    {
     "name": "stderr",
     "output_type": "stream",
     "text": [
      "\r",
      " 49%|████▉     | 494/1000 [02:02<02:07,  3.96it/s]"
     ]
    },
    {
     "data": {
      "application/vnd.jupyter.widget-view+json": {
       "model_id": "7b0144e475014e39af82df95e268e5ea",
       "version_major": 2,
       "version_minor": 0
      },
      "text/plain": [
       "  0%|          | 0/1000 [00:00<?, ?it/s]"
      ]
     },
     "metadata": {},
     "output_type": "display_data"
    },
    {
     "name": "stderr",
     "output_type": "stream",
     "text": [
      "\r",
      " 50%|████▉     | 495/1000 [02:03<02:09,  3.89it/s]"
     ]
    },
    {
     "data": {
      "application/vnd.jupyter.widget-view+json": {
       "model_id": "3517073aa38f4d2e8e6194047f20edd1",
       "version_major": 2,
       "version_minor": 0
      },
      "text/plain": [
       "  0%|          | 0/1000 [00:00<?, ?it/s]"
      ]
     },
     "metadata": {},
     "output_type": "display_data"
    },
    {
     "name": "stderr",
     "output_type": "stream",
     "text": [
      "\r",
      " 50%|████▉     | 496/1000 [02:03<02:14,  3.74it/s]"
     ]
    },
    {
     "data": {
      "application/vnd.jupyter.widget-view+json": {
       "model_id": "2d74fce49fc7477fa0fb5d048e1918f3",
       "version_major": 2,
       "version_minor": 0
      },
      "text/plain": [
       "  0%|          | 0/1000 [00:00<?, ?it/s]"
      ]
     },
     "metadata": {},
     "output_type": "display_data"
    },
    {
     "name": "stderr",
     "output_type": "stream",
     "text": [
      "\r",
      " 50%|████▉     | 497/1000 [02:03<02:16,  3.68it/s]"
     ]
    },
    {
     "data": {
      "application/vnd.jupyter.widget-view+json": {
       "model_id": "43e4e5bb2fd84da096ecad7b184d7e35",
       "version_major": 2,
       "version_minor": 0
      },
      "text/plain": [
       "  0%|          | 0/1000 [00:00<?, ?it/s]"
      ]
     },
     "metadata": {},
     "output_type": "display_data"
    },
    {
     "name": "stderr",
     "output_type": "stream",
     "text": [
      "\r",
      " 50%|████▉     | 498/1000 [02:04<02:13,  3.75it/s]"
     ]
    },
    {
     "data": {
      "application/vnd.jupyter.widget-view+json": {
       "model_id": "187e61c7da784453a3dd3c9d16a631bc",
       "version_major": 2,
       "version_minor": 0
      },
      "text/plain": [
       "  0%|          | 0/1000 [00:00<?, ?it/s]"
      ]
     },
     "metadata": {},
     "output_type": "display_data"
    },
    {
     "name": "stderr",
     "output_type": "stream",
     "text": [
      "\r",
      " 50%|████▉     | 499/1000 [02:04<02:20,  3.57it/s]"
     ]
    },
    {
     "data": {
      "application/vnd.jupyter.widget-view+json": {
       "model_id": "d99fc61538f3429faac60126b0862812",
       "version_major": 2,
       "version_minor": 0
      },
      "text/plain": [
       "  0%|          | 0/1000 [00:00<?, ?it/s]"
      ]
     },
     "metadata": {},
     "output_type": "display_data"
    },
    {
     "name": "stderr",
     "output_type": "stream",
     "text": [
      "\r",
      " 50%|█████     | 500/1000 [02:04<02:57,  2.82it/s]"
     ]
    },
    {
     "data": {
      "application/vnd.jupyter.widget-view+json": {
       "model_id": "f37181342721412eba2f565ec8c772b5",
       "version_major": 2,
       "version_minor": 0
      },
      "text/plain": [
       "  0%|          | 0/1000 [00:00<?, ?it/s]"
      ]
     },
     "metadata": {},
     "output_type": "display_data"
    },
    {
     "name": "stderr",
     "output_type": "stream",
     "text": [
      "\r",
      " 50%|█████     | 501/1000 [02:05<02:58,  2.79it/s]"
     ]
    },
    {
     "data": {
      "application/vnd.jupyter.widget-view+json": {
       "model_id": "93f1fe652669463ebec02b3ac2a99b6a",
       "version_major": 2,
       "version_minor": 0
      },
      "text/plain": [
       "  0%|          | 0/1000 [00:00<?, ?it/s]"
      ]
     },
     "metadata": {},
     "output_type": "display_data"
    },
    {
     "name": "stderr",
     "output_type": "stream",
     "text": [
      "\r",
      " 50%|█████     | 502/1000 [02:05<03:13,  2.58it/s]"
     ]
    },
    {
     "data": {
      "application/vnd.jupyter.widget-view+json": {
       "model_id": "ea21bb140c2e4f269dff680295e2e415",
       "version_major": 2,
       "version_minor": 0
      },
      "text/plain": [
       "  0%|          | 0/1000 [00:00<?, ?it/s]"
      ]
     },
     "metadata": {},
     "output_type": "display_data"
    },
    {
     "name": "stderr",
     "output_type": "stream",
     "text": [
      "\r",
      " 50%|█████     | 503/1000 [02:06<03:16,  2.53it/s]"
     ]
    },
    {
     "data": {
      "application/vnd.jupyter.widget-view+json": {
       "model_id": "c956c6b6910e46d68b88ea7ad73a3d17",
       "version_major": 2,
       "version_minor": 0
      },
      "text/plain": [
       "  0%|          | 0/1000 [00:00<?, ?it/s]"
      ]
     },
     "metadata": {},
     "output_type": "display_data"
    },
    {
     "name": "stderr",
     "output_type": "stream",
     "text": [
      "\r",
      " 50%|█████     | 504/1000 [02:06<03:07,  2.64it/s]"
     ]
    },
    {
     "data": {
      "application/vnd.jupyter.widget-view+json": {
       "model_id": "ed75ea485b1e44aeb022d482248bdce7",
       "version_major": 2,
       "version_minor": 0
      },
      "text/plain": [
       "  0%|          | 0/1000 [00:00<?, ?it/s]"
      ]
     },
     "metadata": {},
     "output_type": "display_data"
    },
    {
     "name": "stderr",
     "output_type": "stream",
     "text": [
      "\r",
      " 50%|█████     | 505/1000 [02:06<02:53,  2.85it/s]"
     ]
    },
    {
     "data": {
      "application/vnd.jupyter.widget-view+json": {
       "model_id": "fb08840e5aba420cb6dce06041966b58",
       "version_major": 2,
       "version_minor": 0
      },
      "text/plain": [
       "  0%|          | 0/1000 [00:00<?, ?it/s]"
      ]
     },
     "metadata": {},
     "output_type": "display_data"
    },
    {
     "name": "stderr",
     "output_type": "stream",
     "text": [
      "\r",
      " 51%|█████     | 506/1000 [02:07<02:37,  3.14it/s]"
     ]
    },
    {
     "data": {
      "application/vnd.jupyter.widget-view+json": {
       "model_id": "3699f5f743324225b1d7292c521b5e1f",
       "version_major": 2,
       "version_minor": 0
      },
      "text/plain": [
       "  0%|          | 0/1000 [00:00<?, ?it/s]"
      ]
     },
     "metadata": {},
     "output_type": "display_data"
    },
    {
     "name": "stderr",
     "output_type": "stream",
     "text": [
      "\r",
      " 51%|█████     | 507/1000 [02:07<02:24,  3.41it/s]"
     ]
    },
    {
     "data": {
      "application/vnd.jupyter.widget-view+json": {
       "model_id": "ea629f1f5d6f4bf791b6aac92495e813",
       "version_major": 2,
       "version_minor": 0
      },
      "text/plain": [
       "  0%|          | 0/1000 [00:00<?, ?it/s]"
      ]
     },
     "metadata": {},
     "output_type": "display_data"
    },
    {
     "name": "stderr",
     "output_type": "stream",
     "text": [
      "\r",
      " 51%|█████     | 508/1000 [02:07<02:13,  3.69it/s]"
     ]
    },
    {
     "data": {
      "application/vnd.jupyter.widget-view+json": {
       "model_id": "f9fff6479b7940609d773b890e100901",
       "version_major": 2,
       "version_minor": 0
      },
      "text/plain": [
       "  0%|          | 0/1000 [00:00<?, ?it/s]"
      ]
     },
     "metadata": {},
     "output_type": "display_data"
    },
    {
     "name": "stderr",
     "output_type": "stream",
     "text": [
      "\r",
      " 51%|█████     | 509/1000 [02:07<02:13,  3.67it/s]"
     ]
    },
    {
     "data": {
      "application/vnd.jupyter.widget-view+json": {
       "model_id": "743ba1ebfa3a4a35822be50b562f7d23",
       "version_major": 2,
       "version_minor": 0
      },
      "text/plain": [
       "  0%|          | 0/1000 [00:00<?, ?it/s]"
      ]
     },
     "metadata": {},
     "output_type": "display_data"
    },
    {
     "name": "stderr",
     "output_type": "stream",
     "text": [
      "\r",
      " 51%|█████     | 510/1000 [02:07<02:06,  3.88it/s]"
     ]
    },
    {
     "data": {
      "application/vnd.jupyter.widget-view+json": {
       "model_id": "e9f965f13ee3413da1215c935ddc5db9",
       "version_major": 2,
       "version_minor": 0
      },
      "text/plain": [
       "  0%|          | 0/1000 [00:00<?, ?it/s]"
      ]
     },
     "metadata": {},
     "output_type": "display_data"
    },
    {
     "name": "stderr",
     "output_type": "stream",
     "text": [
      "\r",
      " 51%|█████     | 511/1000 [02:08<02:10,  3.76it/s]"
     ]
    },
    {
     "data": {
      "application/vnd.jupyter.widget-view+json": {
       "model_id": "40f5024114d444279ec1e893314a76df",
       "version_major": 2,
       "version_minor": 0
      },
      "text/plain": [
       "  0%|          | 0/1000 [00:00<?, ?it/s]"
      ]
     },
     "metadata": {},
     "output_type": "display_data"
    },
    {
     "name": "stderr",
     "output_type": "stream",
     "text": [
      "\r",
      " 51%|█████     | 512/1000 [02:08<02:08,  3.80it/s]"
     ]
    },
    {
     "data": {
      "application/vnd.jupyter.widget-view+json": {
       "model_id": "0dd6a4146776446d9c2d1a4c4f1d66c0",
       "version_major": 2,
       "version_minor": 0
      },
      "text/plain": [
       "  0%|          | 0/1000 [00:00<?, ?it/s]"
      ]
     },
     "metadata": {},
     "output_type": "display_data"
    },
    {
     "name": "stderr",
     "output_type": "stream",
     "text": [
      "\r",
      " 51%|█████▏    | 513/1000 [02:08<02:05,  3.89it/s]"
     ]
    },
    {
     "data": {
      "application/vnd.jupyter.widget-view+json": {
       "model_id": "3d67870c3acd4c508465d1830727557f",
       "version_major": 2,
       "version_minor": 0
      },
      "text/plain": [
       "  0%|          | 0/1000 [00:00<?, ?it/s]"
      ]
     },
     "metadata": {},
     "output_type": "display_data"
    },
    {
     "name": "stderr",
     "output_type": "stream",
     "text": [
      "\r",
      " 51%|█████▏    | 514/1000 [02:08<01:59,  4.07it/s]"
     ]
    },
    {
     "data": {
      "application/vnd.jupyter.widget-view+json": {
       "model_id": "270ed3f285654d71955edac05f72343b",
       "version_major": 2,
       "version_minor": 0
      },
      "text/plain": [
       "  0%|          | 0/1000 [00:00<?, ?it/s]"
      ]
     },
     "metadata": {},
     "output_type": "display_data"
    },
    {
     "name": "stderr",
     "output_type": "stream",
     "text": [
      "\r",
      " 52%|█████▏    | 515/1000 [02:09<02:05,  3.87it/s]"
     ]
    },
    {
     "data": {
      "application/vnd.jupyter.widget-view+json": {
       "model_id": "95e30c50cb4d4ee7a754e396b17bdbac",
       "version_major": 2,
       "version_minor": 0
      },
      "text/plain": [
       "  0%|          | 0/1000 [00:00<?, ?it/s]"
      ]
     },
     "metadata": {},
     "output_type": "display_data"
    },
    {
     "name": "stderr",
     "output_type": "stream",
     "text": [
      "\r",
      " 52%|█████▏    | 516/1000 [02:09<02:07,  3.80it/s]"
     ]
    },
    {
     "data": {
      "application/vnd.jupyter.widget-view+json": {
       "model_id": "fce0ddd4cae7480bab9961cada7482b5",
       "version_major": 2,
       "version_minor": 0
      },
      "text/plain": [
       "  0%|          | 0/1000 [00:00<?, ?it/s]"
      ]
     },
     "metadata": {},
     "output_type": "display_data"
    },
    {
     "name": "stderr",
     "output_type": "stream",
     "text": [
      "\r",
      " 52%|█████▏    | 517/1000 [02:09<02:02,  3.93it/s]"
     ]
    },
    {
     "data": {
      "application/vnd.jupyter.widget-view+json": {
       "model_id": "052fdc3377e54843b3ae4a95a83226d8",
       "version_major": 2,
       "version_minor": 0
      },
      "text/plain": [
       "  0%|          | 0/1000 [00:00<?, ?it/s]"
      ]
     },
     "metadata": {},
     "output_type": "display_data"
    },
    {
     "name": "stderr",
     "output_type": "stream",
     "text": [
      "\r",
      " 52%|█████▏    | 518/1000 [02:10<02:01,  3.96it/s]"
     ]
    },
    {
     "data": {
      "application/vnd.jupyter.widget-view+json": {
       "model_id": "cda19458f6164f20af84c19aa1131e18",
       "version_major": 2,
       "version_minor": 0
      },
      "text/plain": [
       "  0%|          | 0/1000 [00:00<?, ?it/s]"
      ]
     },
     "metadata": {},
     "output_type": "display_data"
    },
    {
     "name": "stderr",
     "output_type": "stream",
     "text": [
      "\r",
      " 52%|█████▏    | 519/1000 [02:10<02:20,  3.43it/s]"
     ]
    },
    {
     "data": {
      "application/vnd.jupyter.widget-view+json": {
       "model_id": "8d37b9362f564cd280335b306e348220",
       "version_major": 2,
       "version_minor": 0
      },
      "text/plain": [
       "  0%|          | 0/1000 [00:00<?, ?it/s]"
      ]
     },
     "metadata": {},
     "output_type": "display_data"
    },
    {
     "name": "stderr",
     "output_type": "stream",
     "text": [
      "\r",
      " 52%|█████▏    | 520/1000 [02:10<02:15,  3.55it/s]"
     ]
    },
    {
     "data": {
      "application/vnd.jupyter.widget-view+json": {
       "model_id": "db26d260fcbf43359313665d4b677cc8",
       "version_major": 2,
       "version_minor": 0
      },
      "text/plain": [
       "  0%|          | 0/1000 [00:00<?, ?it/s]"
      ]
     },
     "metadata": {},
     "output_type": "display_data"
    },
    {
     "name": "stderr",
     "output_type": "stream",
     "text": [
      "\r",
      " 52%|█████▏    | 521/1000 [02:10<02:08,  3.72it/s]"
     ]
    },
    {
     "data": {
      "application/vnd.jupyter.widget-view+json": {
       "model_id": "b82d77bf9ca74b00be53ccea22e9874e",
       "version_major": 2,
       "version_minor": 0
      },
      "text/plain": [
       "  0%|          | 0/1000 [00:00<?, ?it/s]"
      ]
     },
     "metadata": {},
     "output_type": "display_data"
    },
    {
     "name": "stderr",
     "output_type": "stream",
     "text": [
      "\r",
      " 52%|█████▏    | 522/1000 [02:11<02:05,  3.82it/s]"
     ]
    },
    {
     "data": {
      "application/vnd.jupyter.widget-view+json": {
       "model_id": "d0d0fcceeb85457a8bd227f1018cfbb7",
       "version_major": 2,
       "version_minor": 0
      },
      "text/plain": [
       "  0%|          | 0/1000 [00:00<?, ?it/s]"
      ]
     },
     "metadata": {},
     "output_type": "display_data"
    },
    {
     "name": "stderr",
     "output_type": "stream",
     "text": [
      "\r",
      " 52%|█████▏    | 523/1000 [02:11<02:08,  3.70it/s]"
     ]
    },
    {
     "data": {
      "application/vnd.jupyter.widget-view+json": {
       "model_id": "2b83419b40984cd9ac0738e023fe850c",
       "version_major": 2,
       "version_minor": 0
      },
      "text/plain": [
       "  0%|          | 0/1000 [00:00<?, ?it/s]"
      ]
     },
     "metadata": {},
     "output_type": "display_data"
    },
    {
     "name": "stderr",
     "output_type": "stream",
     "text": [
      "\r",
      " 52%|█████▏    | 524/1000 [02:11<02:02,  3.90it/s]"
     ]
    },
    {
     "data": {
      "application/vnd.jupyter.widget-view+json": {
       "model_id": "c96eb612a2da4f0c87c678e8e56b6876",
       "version_major": 2,
       "version_minor": 0
      },
      "text/plain": [
       "  0%|          | 0/1000 [00:00<?, ?it/s]"
      ]
     },
     "metadata": {},
     "output_type": "display_data"
    },
    {
     "name": "stderr",
     "output_type": "stream",
     "text": [
      "\r",
      " 52%|█████▎    | 525/1000 [02:11<01:57,  4.04it/s]"
     ]
    },
    {
     "data": {
      "application/vnd.jupyter.widget-view+json": {
       "model_id": "3f232b65dab24b64892f13752051d6bb",
       "version_major": 2,
       "version_minor": 0
      },
      "text/plain": [
       "  0%|          | 0/1000 [00:00<?, ?it/s]"
      ]
     },
     "metadata": {},
     "output_type": "display_data"
    },
    {
     "name": "stderr",
     "output_type": "stream",
     "text": [
      "\r",
      " 53%|█████▎    | 526/1000 [02:12<01:53,  4.18it/s]"
     ]
    },
    {
     "data": {
      "application/vnd.jupyter.widget-view+json": {
       "model_id": "5df33830b42c41a99075298775a80314",
       "version_major": 2,
       "version_minor": 0
      },
      "text/plain": [
       "  0%|          | 0/1000 [00:00<?, ?it/s]"
      ]
     },
     "metadata": {},
     "output_type": "display_data"
    },
    {
     "name": "stderr",
     "output_type": "stream",
     "text": [
      "\r",
      " 53%|█████▎    | 527/1000 [02:12<01:53,  4.16it/s]"
     ]
    },
    {
     "data": {
      "application/vnd.jupyter.widget-view+json": {
       "model_id": "111b7dec5d394b2592e17fdb4b1cb756",
       "version_major": 2,
       "version_minor": 0
      },
      "text/plain": [
       "  0%|          | 0/1000 [00:00<?, ?it/s]"
      ]
     },
     "metadata": {},
     "output_type": "display_data"
    },
    {
     "name": "stderr",
     "output_type": "stream",
     "text": [
      "\r",
      " 53%|█████▎    | 528/1000 [02:12<01:55,  4.08it/s]"
     ]
    },
    {
     "data": {
      "application/vnd.jupyter.widget-view+json": {
       "model_id": "251c7253c8e243629241618dc8c86563",
       "version_major": 2,
       "version_minor": 0
      },
      "text/plain": [
       "  0%|          | 0/1000 [00:00<?, ?it/s]"
      ]
     },
     "metadata": {},
     "output_type": "display_data"
    },
    {
     "name": "stderr",
     "output_type": "stream",
     "text": [
      "\r",
      " 53%|█████▎    | 529/1000 [02:12<01:57,  4.00it/s]"
     ]
    },
    {
     "data": {
      "application/vnd.jupyter.widget-view+json": {
       "model_id": "480ae6def36d4431973bbc1f7df748d1",
       "version_major": 2,
       "version_minor": 0
      },
      "text/plain": [
       "  0%|          | 0/1000 [00:00<?, ?it/s]"
      ]
     },
     "metadata": {},
     "output_type": "display_data"
    },
    {
     "name": "stderr",
     "output_type": "stream",
     "text": [
      "\r",
      " 53%|█████▎    | 530/1000 [02:13<01:59,  3.93it/s]"
     ]
    },
    {
     "data": {
      "application/vnd.jupyter.widget-view+json": {
       "model_id": "c4f32c7ac09c4b18ac2eef7e449992c4",
       "version_major": 2,
       "version_minor": 0
      },
      "text/plain": [
       "  0%|          | 0/1000 [00:00<?, ?it/s]"
      ]
     },
     "metadata": {},
     "output_type": "display_data"
    },
    {
     "name": "stderr",
     "output_type": "stream",
     "text": [
      "\r",
      " 53%|█████▎    | 531/1000 [02:13<02:01,  3.86it/s]"
     ]
    },
    {
     "data": {
      "application/vnd.jupyter.widget-view+json": {
       "model_id": "99a8b0fb01dc4c639aacc4d0f36892bd",
       "version_major": 2,
       "version_minor": 0
      },
      "text/plain": [
       "  0%|          | 0/1000 [00:00<?, ?it/s]"
      ]
     },
     "metadata": {},
     "output_type": "display_data"
    },
    {
     "name": "stderr",
     "output_type": "stream",
     "text": [
      "\r",
      " 53%|█████▎    | 532/1000 [02:13<02:01,  3.86it/s]"
     ]
    },
    {
     "data": {
      "application/vnd.jupyter.widget-view+json": {
       "model_id": "72e69bd143e04faeace460d2eeee8f16",
       "version_major": 2,
       "version_minor": 0
      },
      "text/plain": [
       "  0%|          | 0/1000 [00:00<?, ?it/s]"
      ]
     },
     "metadata": {},
     "output_type": "display_data"
    },
    {
     "name": "stderr",
     "output_type": "stream",
     "text": [
      "\r",
      " 53%|█████▎    | 533/1000 [02:13<01:57,  3.97it/s]"
     ]
    },
    {
     "data": {
      "application/vnd.jupyter.widget-view+json": {
       "model_id": "976b2c359deb4f4e8fbce5ff3b583562",
       "version_major": 2,
       "version_minor": 0
      },
      "text/plain": [
       "  0%|          | 0/1000 [00:00<?, ?it/s]"
      ]
     },
     "metadata": {},
     "output_type": "display_data"
    },
    {
     "name": "stderr",
     "output_type": "stream",
     "text": [
      "\r",
      " 53%|█████▎    | 534/1000 [02:14<01:59,  3.91it/s]"
     ]
    },
    {
     "data": {
      "application/vnd.jupyter.widget-view+json": {
       "model_id": "beb04401503f4e5f949f846aec829c8b",
       "version_major": 2,
       "version_minor": 0
      },
      "text/plain": [
       "  0%|          | 0/1000 [00:00<?, ?it/s]"
      ]
     },
     "metadata": {},
     "output_type": "display_data"
    },
    {
     "name": "stderr",
     "output_type": "stream",
     "text": [
      "\r",
      " 54%|█████▎    | 535/1000 [02:14<02:00,  3.86it/s]"
     ]
    },
    {
     "data": {
      "application/vnd.jupyter.widget-view+json": {
       "model_id": "2501b0d541eb41618303c63e81fe9106",
       "version_major": 2,
       "version_minor": 0
      },
      "text/plain": [
       "  0%|          | 0/1000 [00:00<?, ?it/s]"
      ]
     },
     "metadata": {},
     "output_type": "display_data"
    },
    {
     "name": "stderr",
     "output_type": "stream",
     "text": [
      "\r",
      " 54%|█████▎    | 536/1000 [02:14<01:58,  3.92it/s]"
     ]
    },
    {
     "data": {
      "application/vnd.jupyter.widget-view+json": {
       "model_id": "fab471e85dce449babec96d979171e4a",
       "version_major": 2,
       "version_minor": 0
      },
      "text/plain": [
       "  0%|          | 0/1000 [00:00<?, ?it/s]"
      ]
     },
     "metadata": {},
     "output_type": "display_data"
    },
    {
     "name": "stderr",
     "output_type": "stream",
     "text": [
      "\r",
      " 54%|█████▎    | 537/1000 [02:14<01:55,  4.01it/s]"
     ]
    },
    {
     "data": {
      "application/vnd.jupyter.widget-view+json": {
       "model_id": "57bf57a8badd43c8a08c18f719c948e3",
       "version_major": 2,
       "version_minor": 0
      },
      "text/plain": [
       "  0%|          | 0/1000 [00:00<?, ?it/s]"
      ]
     },
     "metadata": {},
     "output_type": "display_data"
    },
    {
     "name": "stderr",
     "output_type": "stream",
     "text": [
      "\r",
      " 54%|█████▍    | 538/1000 [02:15<01:52,  4.12it/s]"
     ]
    },
    {
     "data": {
      "application/vnd.jupyter.widget-view+json": {
       "model_id": "38643eb346cf4d0bb1884969d0b8b49d",
       "version_major": 2,
       "version_minor": 0
      },
      "text/plain": [
       "  0%|          | 0/1000 [00:00<?, ?it/s]"
      ]
     },
     "metadata": {},
     "output_type": "display_data"
    },
    {
     "name": "stderr",
     "output_type": "stream",
     "text": [
      "\r",
      " 54%|█████▍    | 539/1000 [02:15<01:48,  4.25it/s]"
     ]
    },
    {
     "data": {
      "application/vnd.jupyter.widget-view+json": {
       "model_id": "a528ef7ddcce4036bd0b8cb2a15fab46",
       "version_major": 2,
       "version_minor": 0
      },
      "text/plain": [
       "  0%|          | 0/1000 [00:00<?, ?it/s]"
      ]
     },
     "metadata": {},
     "output_type": "display_data"
    },
    {
     "name": "stderr",
     "output_type": "stream",
     "text": [
      "\r",
      " 54%|█████▍    | 540/1000 [02:15<01:47,  4.26it/s]"
     ]
    },
    {
     "data": {
      "application/vnd.jupyter.widget-view+json": {
       "model_id": "a854aaecb6094876a819930faf244fab",
       "version_major": 2,
       "version_minor": 0
      },
      "text/plain": [
       "  0%|          | 0/1000 [00:00<?, ?it/s]"
      ]
     },
     "metadata": {},
     "output_type": "display_data"
    },
    {
     "name": "stderr",
     "output_type": "stream",
     "text": [
      "\r",
      " 54%|█████▍    | 541/1000 [02:15<01:48,  4.25it/s]"
     ]
    },
    {
     "data": {
      "application/vnd.jupyter.widget-view+json": {
       "model_id": "5bc040ce41b04200bf53a5a2fcae2e82",
       "version_major": 2,
       "version_minor": 0
      },
      "text/plain": [
       "  0%|          | 0/1000 [00:00<?, ?it/s]"
      ]
     },
     "metadata": {},
     "output_type": "display_data"
    },
    {
     "name": "stderr",
     "output_type": "stream",
     "text": [
      "\r",
      " 54%|█████▍    | 542/1000 [02:16<01:51,  4.10it/s]"
     ]
    },
    {
     "data": {
      "application/vnd.jupyter.widget-view+json": {
       "model_id": "13d704d0d4664b2ca4359901c163a0a5",
       "version_major": 2,
       "version_minor": 0
      },
      "text/plain": [
       "  0%|          | 0/1000 [00:00<?, ?it/s]"
      ]
     },
     "metadata": {},
     "output_type": "display_data"
    },
    {
     "name": "stderr",
     "output_type": "stream",
     "text": [
      "\r",
      " 54%|█████▍    | 543/1000 [02:16<02:00,  3.78it/s]"
     ]
    },
    {
     "data": {
      "application/vnd.jupyter.widget-view+json": {
       "model_id": "c58231ac36434735b8d6c14ed1d5da1e",
       "version_major": 2,
       "version_minor": 0
      },
      "text/plain": [
       "  0%|          | 0/1000 [00:00<?, ?it/s]"
      ]
     },
     "metadata": {},
     "output_type": "display_data"
    },
    {
     "name": "stderr",
     "output_type": "stream",
     "text": [
      "\r",
      " 54%|█████▍    | 544/1000 [02:16<01:58,  3.85it/s]"
     ]
    },
    {
     "data": {
      "application/vnd.jupyter.widget-view+json": {
       "model_id": "15a5bf0a72164cbbb93718d8446a65ab",
       "version_major": 2,
       "version_minor": 0
      },
      "text/plain": [
       "  0%|          | 0/1000 [00:00<?, ?it/s]"
      ]
     },
     "metadata": {},
     "output_type": "display_data"
    },
    {
     "name": "stderr",
     "output_type": "stream",
     "text": [
      "\r",
      " 55%|█████▍    | 545/1000 [02:16<01:57,  3.87it/s]"
     ]
    },
    {
     "data": {
      "application/vnd.jupyter.widget-view+json": {
       "model_id": "05ef8b5ff23b42b2a6dbfba6be480400",
       "version_major": 2,
       "version_minor": 0
      },
      "text/plain": [
       "  0%|          | 0/1000 [00:00<?, ?it/s]"
      ]
     },
     "metadata": {},
     "output_type": "display_data"
    },
    {
     "name": "stderr",
     "output_type": "stream",
     "text": [
      "\r",
      " 55%|█████▍    | 546/1000 [02:17<02:03,  3.69it/s]"
     ]
    },
    {
     "data": {
      "application/vnd.jupyter.widget-view+json": {
       "model_id": "bb0961eaab5d4714b3c00eeb8ea89e54",
       "version_major": 2,
       "version_minor": 0
      },
      "text/plain": [
       "  0%|          | 0/1000 [00:00<?, ?it/s]"
      ]
     },
     "metadata": {},
     "output_type": "display_data"
    },
    {
     "name": "stderr",
     "output_type": "stream",
     "text": [
      "\r",
      " 55%|█████▍    | 547/1000 [02:17<02:14,  3.37it/s]"
     ]
    },
    {
     "data": {
      "application/vnd.jupyter.widget-view+json": {
       "model_id": "b9ce0b69ca5c42ac99b0cb4a019efb86",
       "version_major": 2,
       "version_minor": 0
      },
      "text/plain": [
       "  0%|          | 0/1000 [00:00<?, ?it/s]"
      ]
     },
     "metadata": {},
     "output_type": "display_data"
    },
    {
     "name": "stderr",
     "output_type": "stream",
     "text": [
      "\r",
      " 55%|█████▍    | 548/1000 [02:17<02:12,  3.42it/s]"
     ]
    },
    {
     "data": {
      "application/vnd.jupyter.widget-view+json": {
       "model_id": "1671672f268941069d98cf397d8a928e",
       "version_major": 2,
       "version_minor": 0
      },
      "text/plain": [
       "  0%|          | 0/1000 [00:00<?, ?it/s]"
      ]
     },
     "metadata": {},
     "output_type": "display_data"
    },
    {
     "name": "stderr",
     "output_type": "stream",
     "text": [
      "\r",
      " 55%|█████▍    | 549/1000 [02:18<02:06,  3.56it/s]"
     ]
    },
    {
     "data": {
      "application/vnd.jupyter.widget-view+json": {
       "model_id": "ccf31dae999d43d788ae5d150eb674ef",
       "version_major": 2,
       "version_minor": 0
      },
      "text/plain": [
       "  0%|          | 0/1000 [00:00<?, ?it/s]"
      ]
     },
     "metadata": {},
     "output_type": "display_data"
    },
    {
     "name": "stderr",
     "output_type": "stream",
     "text": [
      "\r",
      " 55%|█████▌    | 550/1000 [02:18<01:58,  3.81it/s]"
     ]
    },
    {
     "data": {
      "application/vnd.jupyter.widget-view+json": {
       "model_id": "a6bcda2c4ac14d5caac23247f3c5b587",
       "version_major": 2,
       "version_minor": 0
      },
      "text/plain": [
       "  0%|          | 0/1000 [00:00<?, ?it/s]"
      ]
     },
     "metadata": {},
     "output_type": "display_data"
    },
    {
     "name": "stderr",
     "output_type": "stream",
     "text": [
      "\r",
      " 55%|█████▌    | 551/1000 [02:18<01:55,  3.88it/s]"
     ]
    },
    {
     "data": {
      "application/vnd.jupyter.widget-view+json": {
       "model_id": "aeb7f198036f47cead6ba7ec6c5c8dc9",
       "version_major": 2,
       "version_minor": 0
      },
      "text/plain": [
       "  0%|          | 0/1000 [00:00<?, ?it/s]"
      ]
     },
     "metadata": {},
     "output_type": "display_data"
    },
    {
     "name": "stderr",
     "output_type": "stream",
     "text": [
      "\r",
      " 55%|█████▌    | 552/1000 [02:18<01:52,  3.97it/s]"
     ]
    },
    {
     "data": {
      "application/vnd.jupyter.widget-view+json": {
       "model_id": "db68d6552fd847dfb057339db3b44d1e",
       "version_major": 2,
       "version_minor": 0
      },
      "text/plain": [
       "  0%|          | 0/1000 [00:00<?, ?it/s]"
      ]
     },
     "metadata": {},
     "output_type": "display_data"
    },
    {
     "name": "stderr",
     "output_type": "stream",
     "text": [
      "\r",
      " 55%|█████▌    | 553/1000 [02:19<01:55,  3.86it/s]"
     ]
    },
    {
     "data": {
      "application/vnd.jupyter.widget-view+json": {
       "model_id": "eb0c21459d9d4f2281d8922f97fc1ee8",
       "version_major": 2,
       "version_minor": 0
      },
      "text/plain": [
       "  0%|          | 0/1000 [00:00<?, ?it/s]"
      ]
     },
     "metadata": {},
     "output_type": "display_data"
    },
    {
     "name": "stderr",
     "output_type": "stream",
     "text": [
      "\r",
      " 55%|█████▌    | 554/1000 [02:19<01:52,  3.95it/s]"
     ]
    },
    {
     "data": {
      "application/vnd.jupyter.widget-view+json": {
       "model_id": "09053f2afccb48c0b0223bb2a12e9697",
       "version_major": 2,
       "version_minor": 0
      },
      "text/plain": [
       "  0%|          | 0/1000 [00:00<?, ?it/s]"
      ]
     },
     "metadata": {},
     "output_type": "display_data"
    },
    {
     "name": "stderr",
     "output_type": "stream",
     "text": [
      "\r",
      " 56%|█████▌    | 555/1000 [02:19<01:49,  4.07it/s]"
     ]
    },
    {
     "data": {
      "application/vnd.jupyter.widget-view+json": {
       "model_id": "f27a2166c9594b8bb6438364d604cce1",
       "version_major": 2,
       "version_minor": 0
      },
      "text/plain": [
       "  0%|          | 0/1000 [00:00<?, ?it/s]"
      ]
     },
     "metadata": {},
     "output_type": "display_data"
    },
    {
     "name": "stderr",
     "output_type": "stream",
     "text": [
      "\r",
      " 56%|█████▌    | 556/1000 [02:19<01:44,  4.25it/s]"
     ]
    },
    {
     "data": {
      "application/vnd.jupyter.widget-view+json": {
       "model_id": "471c0d823f9644b08392d3163d88bfa8",
       "version_major": 2,
       "version_minor": 0
      },
      "text/plain": [
       "  0%|          | 0/1000 [00:00<?, ?it/s]"
      ]
     },
     "metadata": {},
     "output_type": "display_data"
    },
    {
     "name": "stderr",
     "output_type": "stream",
     "text": [
      "\r",
      " 56%|█████▌    | 557/1000 [02:19<01:42,  4.31it/s]"
     ]
    },
    {
     "data": {
      "application/vnd.jupyter.widget-view+json": {
       "model_id": "99bc6a2201ba48448f8369addb1bb393",
       "version_major": 2,
       "version_minor": 0
      },
      "text/plain": [
       "  0%|          | 0/1000 [00:00<?, ?it/s]"
      ]
     },
     "metadata": {},
     "output_type": "display_data"
    },
    {
     "name": "stderr",
     "output_type": "stream",
     "text": [
      "\r",
      " 56%|█████▌    | 558/1000 [02:20<01:44,  4.22it/s]"
     ]
    },
    {
     "data": {
      "application/vnd.jupyter.widget-view+json": {
       "model_id": "24d04c341a88490f91ff202b2ca3a6ad",
       "version_major": 2,
       "version_minor": 0
      },
      "text/plain": [
       "  0%|          | 0/1000 [00:00<?, ?it/s]"
      ]
     },
     "metadata": {},
     "output_type": "display_data"
    },
    {
     "name": "stderr",
     "output_type": "stream",
     "text": [
      "\r",
      " 56%|█████▌    | 559/1000 [02:20<01:49,  4.03it/s]"
     ]
    },
    {
     "data": {
      "application/vnd.jupyter.widget-view+json": {
       "model_id": "c0c0df3335ef499da35450a0d75dfff3",
       "version_major": 2,
       "version_minor": 0
      },
      "text/plain": [
       "  0%|          | 0/1000 [00:00<?, ?it/s]"
      ]
     },
     "metadata": {},
     "output_type": "display_data"
    },
    {
     "name": "stderr",
     "output_type": "stream",
     "text": [
      "\r",
      " 56%|█████▌    | 560/1000 [02:20<01:47,  4.08it/s]"
     ]
    },
    {
     "data": {
      "application/vnd.jupyter.widget-view+json": {
       "model_id": "31daf00c299d44c6bc6061319dbb332c",
       "version_major": 2,
       "version_minor": 0
      },
      "text/plain": [
       "  0%|          | 0/1000 [00:00<?, ?it/s]"
      ]
     },
     "metadata": {},
     "output_type": "display_data"
    },
    {
     "name": "stderr",
     "output_type": "stream",
     "text": [
      "\r",
      " 56%|█████▌    | 561/1000 [02:20<01:44,  4.18it/s]"
     ]
    },
    {
     "data": {
      "application/vnd.jupyter.widget-view+json": {
       "model_id": "665bb46dcc4f4aad8199be13a3796bda",
       "version_major": 2,
       "version_minor": 0
      },
      "text/plain": [
       "  0%|          | 0/1000 [00:00<?, ?it/s]"
      ]
     },
     "metadata": {},
     "output_type": "display_data"
    },
    {
     "name": "stderr",
     "output_type": "stream",
     "text": [
      "\r",
      " 56%|█████▌    | 562/1000 [02:21<01:47,  4.07it/s]"
     ]
    },
    {
     "data": {
      "application/vnd.jupyter.widget-view+json": {
       "model_id": "4f579c0b2d3a4febbc7011a563e90534",
       "version_major": 2,
       "version_minor": 0
      },
      "text/plain": [
       "  0%|          | 0/1000 [00:00<?, ?it/s]"
      ]
     },
     "metadata": {},
     "output_type": "display_data"
    },
    {
     "name": "stderr",
     "output_type": "stream",
     "text": [
      "\r",
      " 56%|█████▋    | 563/1000 [02:21<01:46,  4.12it/s]"
     ]
    },
    {
     "data": {
      "application/vnd.jupyter.widget-view+json": {
       "model_id": "8cc2409a9184479b9fe5b78a46a09457",
       "version_major": 2,
       "version_minor": 0
      },
      "text/plain": [
       "  0%|          | 0/1000 [00:00<?, ?it/s]"
      ]
     },
     "metadata": {},
     "output_type": "display_data"
    },
    {
     "name": "stderr",
     "output_type": "stream",
     "text": [
      "\r",
      " 56%|█████▋    | 564/1000 [02:21<01:47,  4.04it/s]"
     ]
    },
    {
     "data": {
      "application/vnd.jupyter.widget-view+json": {
       "model_id": "da01c783c53e49fbbf8c8c418cd1f224",
       "version_major": 2,
       "version_minor": 0
      },
      "text/plain": [
       "  0%|          | 0/1000 [00:00<?, ?it/s]"
      ]
     },
     "metadata": {},
     "output_type": "display_data"
    },
    {
     "name": "stderr",
     "output_type": "stream",
     "text": [
      "\r",
      " 56%|█████▋    | 565/1000 [02:21<01:48,  4.00it/s]"
     ]
    },
    {
     "data": {
      "application/vnd.jupyter.widget-view+json": {
       "model_id": "e930bf63b6fa407badc88b4bc318aff4",
       "version_major": 2,
       "version_minor": 0
      },
      "text/plain": [
       "  0%|          | 0/1000 [00:00<?, ?it/s]"
      ]
     },
     "metadata": {},
     "output_type": "display_data"
    },
    {
     "name": "stderr",
     "output_type": "stream",
     "text": [
      "\r",
      " 57%|█████▋    | 566/1000 [02:22<01:44,  4.14it/s]"
     ]
    },
    {
     "data": {
      "application/vnd.jupyter.widget-view+json": {
       "model_id": "ee42b1a8f8fe40a899b7b7b180a5d8bf",
       "version_major": 2,
       "version_minor": 0
      },
      "text/plain": [
       "  0%|          | 0/1000 [00:00<?, ?it/s]"
      ]
     },
     "metadata": {},
     "output_type": "display_data"
    },
    {
     "name": "stderr",
     "output_type": "stream",
     "text": [
      "\r",
      " 57%|█████▋    | 567/1000 [02:22<01:42,  4.21it/s]"
     ]
    },
    {
     "data": {
      "application/vnd.jupyter.widget-view+json": {
       "model_id": "c698b58b02ec4501b88e5d9b321c63ac",
       "version_major": 2,
       "version_minor": 0
      },
      "text/plain": [
       "  0%|          | 0/1000 [00:00<?, ?it/s]"
      ]
     },
     "metadata": {},
     "output_type": "display_data"
    },
    {
     "name": "stderr",
     "output_type": "stream",
     "text": [
      "\r",
      " 57%|█████▋    | 568/1000 [02:22<01:40,  4.28it/s]"
     ]
    },
    {
     "data": {
      "application/vnd.jupyter.widget-view+json": {
       "model_id": "821e3f4d52b04390b26902fca844abe7",
       "version_major": 2,
       "version_minor": 0
      },
      "text/plain": [
       "  0%|          | 0/1000 [00:00<?, ?it/s]"
      ]
     },
     "metadata": {},
     "output_type": "display_data"
    },
    {
     "name": "stderr",
     "output_type": "stream",
     "text": [
      "\r",
      " 57%|█████▋    | 569/1000 [02:22<01:40,  4.30it/s]"
     ]
    },
    {
     "data": {
      "application/vnd.jupyter.widget-view+json": {
       "model_id": "af03815af7e94586a632ccdd26023a6c",
       "version_major": 2,
       "version_minor": 0
      },
      "text/plain": [
       "  0%|          | 0/1000 [00:00<?, ?it/s]"
      ]
     },
     "metadata": {},
     "output_type": "display_data"
    },
    {
     "name": "stderr",
     "output_type": "stream",
     "text": [
      "\r",
      " 57%|█████▋    | 570/1000 [02:23<01:39,  4.31it/s]"
     ]
    },
    {
     "data": {
      "application/vnd.jupyter.widget-view+json": {
       "model_id": "ee3af90178de46ffa961ab95af0fc38c",
       "version_major": 2,
       "version_minor": 0
      },
      "text/plain": [
       "  0%|          | 0/1000 [00:00<?, ?it/s]"
      ]
     },
     "metadata": {},
     "output_type": "display_data"
    },
    {
     "name": "stderr",
     "output_type": "stream",
     "text": [
      "\r",
      " 57%|█████▋    | 571/1000 [02:23<01:38,  4.37it/s]"
     ]
    },
    {
     "data": {
      "application/vnd.jupyter.widget-view+json": {
       "model_id": "a8c2d22aac934fb1a46cd7d25353e2e9",
       "version_major": 2,
       "version_minor": 0
      },
      "text/plain": [
       "  0%|          | 0/1000 [00:00<?, ?it/s]"
      ]
     },
     "metadata": {},
     "output_type": "display_data"
    },
    {
     "name": "stderr",
     "output_type": "stream",
     "text": [
      "\r",
      " 57%|█████▋    | 572/1000 [02:23<01:35,  4.48it/s]"
     ]
    },
    {
     "data": {
      "application/vnd.jupyter.widget-view+json": {
       "model_id": "e2338266c985469584fb1de56b23211d",
       "version_major": 2,
       "version_minor": 0
      },
      "text/plain": [
       "  0%|          | 0/1000 [00:00<?, ?it/s]"
      ]
     },
     "metadata": {},
     "output_type": "display_data"
    },
    {
     "name": "stderr",
     "output_type": "stream",
     "text": [
      "\r",
      " 57%|█████▋    | 573/1000 [02:23<01:33,  4.55it/s]"
     ]
    },
    {
     "data": {
      "application/vnd.jupyter.widget-view+json": {
       "model_id": "72f5328b10af4622bfd63556cbb63b1d",
       "version_major": 2,
       "version_minor": 0
      },
      "text/plain": [
       "  0%|          | 0/1000 [00:00<?, ?it/s]"
      ]
     },
     "metadata": {},
     "output_type": "display_data"
    },
    {
     "name": "stderr",
     "output_type": "stream",
     "text": [
      "\r",
      " 57%|█████▋    | 574/1000 [02:24<01:41,  4.21it/s]"
     ]
    },
    {
     "data": {
      "application/vnd.jupyter.widget-view+json": {
       "model_id": "27608f80bdff48d895858c21d403419c",
       "version_major": 2,
       "version_minor": 0
      },
      "text/plain": [
       "  0%|          | 0/1000 [00:00<?, ?it/s]"
      ]
     },
     "metadata": {},
     "output_type": "display_data"
    },
    {
     "name": "stderr",
     "output_type": "stream",
     "text": [
      "\r",
      " 57%|█████▊    | 575/1000 [02:24<01:39,  4.29it/s]"
     ]
    },
    {
     "data": {
      "application/vnd.jupyter.widget-view+json": {
       "model_id": "19e75af6cc22444dabe56d110828b496",
       "version_major": 2,
       "version_minor": 0
      },
      "text/plain": [
       "  0%|          | 0/1000 [00:00<?, ?it/s]"
      ]
     },
     "metadata": {},
     "output_type": "display_data"
    },
    {
     "name": "stderr",
     "output_type": "stream",
     "text": [
      "\r",
      " 58%|█████▊    | 576/1000 [02:24<01:37,  4.33it/s]"
     ]
    },
    {
     "data": {
      "application/vnd.jupyter.widget-view+json": {
       "model_id": "d87ae6d148234686ab318972603194b6",
       "version_major": 2,
       "version_minor": 0
      },
      "text/plain": [
       "  0%|          | 0/1000 [00:00<?, ?it/s]"
      ]
     },
     "metadata": {},
     "output_type": "display_data"
    },
    {
     "name": "stderr",
     "output_type": "stream",
     "text": [
      "\r",
      " 58%|█████▊    | 577/1000 [02:24<01:36,  4.38it/s]"
     ]
    },
    {
     "data": {
      "application/vnd.jupyter.widget-view+json": {
       "model_id": "6d0db48adecf40a29613366620092796",
       "version_major": 2,
       "version_minor": 0
      },
      "text/plain": [
       "  0%|          | 0/1000 [00:00<?, ?it/s]"
      ]
     },
     "metadata": {},
     "output_type": "display_data"
    },
    {
     "name": "stderr",
     "output_type": "stream",
     "text": [
      "\r",
      " 58%|█████▊    | 578/1000 [02:24<01:34,  4.46it/s]"
     ]
    },
    {
     "data": {
      "application/vnd.jupyter.widget-view+json": {
       "model_id": "9fff98e450eb4822824f763eea9646dc",
       "version_major": 2,
       "version_minor": 0
      },
      "text/plain": [
       "  0%|          | 0/1000 [00:00<?, ?it/s]"
      ]
     },
     "metadata": {},
     "output_type": "display_data"
    },
    {
     "name": "stderr",
     "output_type": "stream",
     "text": [
      "\r",
      " 58%|█████▊    | 579/1000 [02:25<01:33,  4.52it/s]"
     ]
    },
    {
     "data": {
      "application/vnd.jupyter.widget-view+json": {
       "model_id": "bf7b381d21b142d18486902e1d5958f5",
       "version_major": 2,
       "version_minor": 0
      },
      "text/plain": [
       "  0%|          | 0/1000 [00:00<?, ?it/s]"
      ]
     },
     "metadata": {},
     "output_type": "display_data"
    },
    {
     "name": "stderr",
     "output_type": "stream",
     "text": [
      "\r",
      " 58%|█████▊    | 580/1000 [02:25<01:35,  4.39it/s]"
     ]
    },
    {
     "data": {
      "application/vnd.jupyter.widget-view+json": {
       "model_id": "4700fbf9524e49c39eb46a33fdde846d",
       "version_major": 2,
       "version_minor": 0
      },
      "text/plain": [
       "  0%|          | 0/1000 [00:00<?, ?it/s]"
      ]
     },
     "metadata": {},
     "output_type": "display_data"
    },
    {
     "name": "stderr",
     "output_type": "stream",
     "text": [
      "\r",
      " 58%|█████▊    | 581/1000 [02:25<01:34,  4.41it/s]"
     ]
    },
    {
     "data": {
      "application/vnd.jupyter.widget-view+json": {
       "model_id": "0aff348a888c4a4eb0b0337621f71ad6",
       "version_major": 2,
       "version_minor": 0
      },
      "text/plain": [
       "  0%|          | 0/1000 [00:00<?, ?it/s]"
      ]
     },
     "metadata": {},
     "output_type": "display_data"
    },
    {
     "name": "stderr",
     "output_type": "stream",
     "text": [
      "\r",
      " 58%|█████▊    | 582/1000 [02:25<01:33,  4.46it/s]"
     ]
    },
    {
     "data": {
      "application/vnd.jupyter.widget-view+json": {
       "model_id": "a888cd35386f403598bd45b066ee6682",
       "version_major": 2,
       "version_minor": 0
      },
      "text/plain": [
       "  0%|          | 0/1000 [00:00<?, ?it/s]"
      ]
     },
     "metadata": {},
     "output_type": "display_data"
    },
    {
     "name": "stderr",
     "output_type": "stream",
     "text": [
      "\r",
      " 58%|█████▊    | 583/1000 [02:26<01:32,  4.52it/s]"
     ]
    },
    {
     "data": {
      "application/vnd.jupyter.widget-view+json": {
       "model_id": "df188d3114614c438dc361ca34e42fe1",
       "version_major": 2,
       "version_minor": 0
      },
      "text/plain": [
       "  0%|          | 0/1000 [00:00<?, ?it/s]"
      ]
     },
     "metadata": {},
     "output_type": "display_data"
    },
    {
     "name": "stderr",
     "output_type": "stream",
     "text": [
      "\r",
      " 58%|█████▊    | 584/1000 [02:26<01:33,  4.45it/s]"
     ]
    },
    {
     "data": {
      "application/vnd.jupyter.widget-view+json": {
       "model_id": "f80e38a3e7f643b498c22da3d5610bcf",
       "version_major": 2,
       "version_minor": 0
      },
      "text/plain": [
       "  0%|          | 0/1000 [00:00<?, ?it/s]"
      ]
     },
     "metadata": {},
     "output_type": "display_data"
    },
    {
     "name": "stderr",
     "output_type": "stream",
     "text": [
      "\r",
      " 58%|█████▊    | 585/1000 [02:26<01:34,  4.38it/s]"
     ]
    },
    {
     "data": {
      "application/vnd.jupyter.widget-view+json": {
       "model_id": "640c065537274d9e9225afea1df230d0",
       "version_major": 2,
       "version_minor": 0
      },
      "text/plain": [
       "  0%|          | 0/1000 [00:00<?, ?it/s]"
      ]
     },
     "metadata": {},
     "output_type": "display_data"
    },
    {
     "name": "stderr",
     "output_type": "stream",
     "text": [
      "\r",
      " 59%|█████▊    | 586/1000 [02:26<01:33,  4.43it/s]"
     ]
    },
    {
     "data": {
      "application/vnd.jupyter.widget-view+json": {
       "model_id": "025e15f03aa4430baad9150d07e32e43",
       "version_major": 2,
       "version_minor": 0
      },
      "text/plain": [
       "  0%|          | 0/1000 [00:00<?, ?it/s]"
      ]
     },
     "metadata": {},
     "output_type": "display_data"
    },
    {
     "name": "stderr",
     "output_type": "stream",
     "text": [
      "\r",
      " 59%|█████▊    | 587/1000 [02:26<01:33,  4.42it/s]"
     ]
    },
    {
     "data": {
      "application/vnd.jupyter.widget-view+json": {
       "model_id": "9a58ac898fb14cf1bebfbfbbfb8eb460",
       "version_major": 2,
       "version_minor": 0
      },
      "text/plain": [
       "  0%|          | 0/1000 [00:00<?, ?it/s]"
      ]
     },
     "metadata": {},
     "output_type": "display_data"
    },
    {
     "name": "stderr",
     "output_type": "stream",
     "text": [
      "\r",
      " 59%|█████▉    | 588/1000 [02:27<01:39,  4.14it/s]"
     ]
    },
    {
     "data": {
      "application/vnd.jupyter.widget-view+json": {
       "model_id": "c99809edb4974f4abaa0dd56afda9b4e",
       "version_major": 2,
       "version_minor": 0
      },
      "text/plain": [
       "  0%|          | 0/1000 [00:00<?, ?it/s]"
      ]
     },
     "metadata": {},
     "output_type": "display_data"
    },
    {
     "name": "stderr",
     "output_type": "stream",
     "text": [
      "\r",
      " 59%|█████▉    | 589/1000 [02:27<01:44,  3.95it/s]"
     ]
    },
    {
     "data": {
      "application/vnd.jupyter.widget-view+json": {
       "model_id": "4cf3aea8e7174571b08483b1fa64aa21",
       "version_major": 2,
       "version_minor": 0
      },
      "text/plain": [
       "  0%|          | 0/1000 [00:00<?, ?it/s]"
      ]
     },
     "metadata": {},
     "output_type": "display_data"
    },
    {
     "name": "stderr",
     "output_type": "stream",
     "text": [
      "\r",
      " 59%|█████▉    | 590/1000 [02:27<01:43,  3.96it/s]"
     ]
    },
    {
     "data": {
      "application/vnd.jupyter.widget-view+json": {
       "model_id": "8996a349ebda4e88ac3fde627beaf92e",
       "version_major": 2,
       "version_minor": 0
      },
      "text/plain": [
       "  0%|          | 0/1000 [00:00<?, ?it/s]"
      ]
     },
     "metadata": {},
     "output_type": "display_data"
    },
    {
     "name": "stderr",
     "output_type": "stream",
     "text": [
      "\r",
      " 59%|█████▉    | 591/1000 [02:27<01:41,  4.02it/s]"
     ]
    },
    {
     "data": {
      "application/vnd.jupyter.widget-view+json": {
       "model_id": "befc880ff86c467e95a28cbb080c40a1",
       "version_major": 2,
       "version_minor": 0
      },
      "text/plain": [
       "  0%|          | 0/1000 [00:00<?, ?it/s]"
      ]
     },
     "metadata": {},
     "output_type": "display_data"
    },
    {
     "name": "stderr",
     "output_type": "stream",
     "text": [
      "\r",
      " 59%|█████▉    | 592/1000 [02:28<01:42,  3.97it/s]"
     ]
    },
    {
     "data": {
      "application/vnd.jupyter.widget-view+json": {
       "model_id": "f631cfd201014ad2b153780bcff2c6df",
       "version_major": 2,
       "version_minor": 0
      },
      "text/plain": [
       "  0%|          | 0/1000 [00:00<?, ?it/s]"
      ]
     },
     "metadata": {},
     "output_type": "display_data"
    },
    {
     "name": "stderr",
     "output_type": "stream",
     "text": [
      "\r",
      " 59%|█████▉    | 593/1000 [02:28<01:43,  3.94it/s]"
     ]
    },
    {
     "data": {
      "application/vnd.jupyter.widget-view+json": {
       "model_id": "fdacf1e11c664d75a1b88e5ee3ade86e",
       "version_major": 2,
       "version_minor": 0
      },
      "text/plain": [
       "  0%|          | 0/1000 [00:00<?, ?it/s]"
      ]
     },
     "metadata": {},
     "output_type": "display_data"
    },
    {
     "name": "stderr",
     "output_type": "stream",
     "text": [
      "\r",
      " 59%|█████▉    | 594/1000 [02:28<01:41,  4.02it/s]"
     ]
    },
    {
     "data": {
      "application/vnd.jupyter.widget-view+json": {
       "model_id": "6c9fae66969b42cd8c50316651327cee",
       "version_major": 2,
       "version_minor": 0
      },
      "text/plain": [
       "  0%|          | 0/1000 [00:00<?, ?it/s]"
      ]
     },
     "metadata": {},
     "output_type": "display_data"
    },
    {
     "name": "stderr",
     "output_type": "stream",
     "text": [
      "\r",
      " 60%|█████▉    | 595/1000 [02:28<01:36,  4.21it/s]"
     ]
    },
    {
     "data": {
      "application/vnd.jupyter.widget-view+json": {
       "model_id": "a0e76b51da9b418b94071930f73453e5",
       "version_major": 2,
       "version_minor": 0
      },
      "text/plain": [
       "  0%|          | 0/1000 [00:00<?, ?it/s]"
      ]
     },
     "metadata": {},
     "output_type": "display_data"
    },
    {
     "name": "stderr",
     "output_type": "stream",
     "text": [
      "\r",
      " 60%|█████▉    | 596/1000 [02:29<01:37,  4.16it/s]"
     ]
    },
    {
     "data": {
      "application/vnd.jupyter.widget-view+json": {
       "model_id": "75f0e1259ac3429e959a6386af532ec1",
       "version_major": 2,
       "version_minor": 0
      },
      "text/plain": [
       "  0%|          | 0/1000 [00:00<?, ?it/s]"
      ]
     },
     "metadata": {},
     "output_type": "display_data"
    },
    {
     "name": "stderr",
     "output_type": "stream",
     "text": [
      "\r",
      " 60%|█████▉    | 597/1000 [02:29<01:36,  4.17it/s]"
     ]
    },
    {
     "data": {
      "application/vnd.jupyter.widget-view+json": {
       "model_id": "77642da6dbe64b2daa1920435d210d18",
       "version_major": 2,
       "version_minor": 0
      },
      "text/plain": [
       "  0%|          | 0/1000 [00:00<?, ?it/s]"
      ]
     },
     "metadata": {},
     "output_type": "display_data"
    },
    {
     "name": "stderr",
     "output_type": "stream",
     "text": [
      "\r",
      " 60%|█████▉    | 598/1000 [02:29<01:36,  4.15it/s]"
     ]
    },
    {
     "data": {
      "application/vnd.jupyter.widget-view+json": {
       "model_id": "dd4e6a475c3c4392ac859d8b8259e19f",
       "version_major": 2,
       "version_minor": 0
      },
      "text/plain": [
       "  0%|          | 0/1000 [00:00<?, ?it/s]"
      ]
     },
     "metadata": {},
     "output_type": "display_data"
    },
    {
     "name": "stderr",
     "output_type": "stream",
     "text": [
      "\r",
      " 60%|█████▉    | 599/1000 [02:29<01:39,  4.02it/s]"
     ]
    },
    {
     "data": {
      "application/vnd.jupyter.widget-view+json": {
       "model_id": "ff29981bcef04929a76107e36daf77b5",
       "version_major": 2,
       "version_minor": 0
      },
      "text/plain": [
       "  0%|          | 0/1000 [00:00<?, ?it/s]"
      ]
     },
     "metadata": {},
     "output_type": "display_data"
    },
    {
     "name": "stderr",
     "output_type": "stream",
     "text": [
      "\r",
      " 60%|██████    | 600/1000 [02:30<01:40,  3.96it/s]"
     ]
    },
    {
     "data": {
      "application/vnd.jupyter.widget-view+json": {
       "model_id": "4d8c517d46c14efcb1286fdffa004cb4",
       "version_major": 2,
       "version_minor": 0
      },
      "text/plain": [
       "  0%|          | 0/1000 [00:00<?, ?it/s]"
      ]
     },
     "metadata": {},
     "output_type": "display_data"
    },
    {
     "name": "stderr",
     "output_type": "stream",
     "text": [
      "\r",
      " 60%|██████    | 601/1000 [02:30<01:41,  3.95it/s]"
     ]
    },
    {
     "data": {
      "application/vnd.jupyter.widget-view+json": {
       "model_id": "504dbab00d904fdca8d6d7f1099dd358",
       "version_major": 2,
       "version_minor": 0
      },
      "text/plain": [
       "  0%|          | 0/1000 [00:00<?, ?it/s]"
      ]
     },
     "metadata": {},
     "output_type": "display_data"
    },
    {
     "name": "stderr",
     "output_type": "stream",
     "text": [
      "\r",
      " 60%|██████    | 602/1000 [02:30<01:44,  3.81it/s]"
     ]
    },
    {
     "data": {
      "application/vnd.jupyter.widget-view+json": {
       "model_id": "ed5f00f2268e42e687205fb2eb400880",
       "version_major": 2,
       "version_minor": 0
      },
      "text/plain": [
       "  0%|          | 0/1000 [00:00<?, ?it/s]"
      ]
     },
     "metadata": {},
     "output_type": "display_data"
    },
    {
     "name": "stderr",
     "output_type": "stream",
     "text": [
      "\r",
      " 60%|██████    | 603/1000 [02:30<01:41,  3.91it/s]"
     ]
    },
    {
     "data": {
      "application/vnd.jupyter.widget-view+json": {
       "model_id": "9b7da108cd7f46558a7ab5f3e2a5f347",
       "version_major": 2,
       "version_minor": 0
      },
      "text/plain": [
       "  0%|          | 0/1000 [00:00<?, ?it/s]"
      ]
     },
     "metadata": {},
     "output_type": "display_data"
    },
    {
     "name": "stderr",
     "output_type": "stream",
     "text": [
      "\r",
      " 60%|██████    | 604/1000 [02:31<01:36,  4.08it/s]"
     ]
    },
    {
     "data": {
      "application/vnd.jupyter.widget-view+json": {
       "model_id": "c0a4b7b54d304c9fb57d82393b893445",
       "version_major": 2,
       "version_minor": 0
      },
      "text/plain": [
       "  0%|          | 0/1000 [00:00<?, ?it/s]"
      ]
     },
     "metadata": {},
     "output_type": "display_data"
    },
    {
     "name": "stderr",
     "output_type": "stream",
     "text": [
      "\r",
      " 60%|██████    | 605/1000 [02:31<01:33,  4.23it/s]"
     ]
    },
    {
     "data": {
      "application/vnd.jupyter.widget-view+json": {
       "model_id": "388acb710c2b40339d6bc112a339e730",
       "version_major": 2,
       "version_minor": 0
      },
      "text/plain": [
       "  0%|          | 0/1000 [00:00<?, ?it/s]"
      ]
     },
     "metadata": {},
     "output_type": "display_data"
    },
    {
     "name": "stderr",
     "output_type": "stream",
     "text": [
      "\r",
      " 61%|██████    | 606/1000 [02:31<01:30,  4.36it/s]"
     ]
    },
    {
     "data": {
      "application/vnd.jupyter.widget-view+json": {
       "model_id": "19045f55ebdd4b11b73ec3bad4ff3008",
       "version_major": 2,
       "version_minor": 0
      },
      "text/plain": [
       "  0%|          | 0/1000 [00:00<?, ?it/s]"
      ]
     },
     "metadata": {},
     "output_type": "display_data"
    },
    {
     "name": "stderr",
     "output_type": "stream",
     "text": [
      "\r",
      " 61%|██████    | 607/1000 [02:31<01:28,  4.46it/s]"
     ]
    },
    {
     "data": {
      "application/vnd.jupyter.widget-view+json": {
       "model_id": "28f1434ae64a4801b5368f0ce49e0fc5",
       "version_major": 2,
       "version_minor": 0
      },
      "text/plain": [
       "  0%|          | 0/1000 [00:00<?, ?it/s]"
      ]
     },
     "metadata": {},
     "output_type": "display_data"
    },
    {
     "name": "stderr",
     "output_type": "stream",
     "text": [
      "\r",
      " 61%|██████    | 608/1000 [02:32<01:30,  4.36it/s]"
     ]
    },
    {
     "data": {
      "application/vnd.jupyter.widget-view+json": {
       "model_id": "42e14bd73d254fca946cc1b079f99c00",
       "version_major": 2,
       "version_minor": 0
      },
      "text/plain": [
       "  0%|          | 0/1000 [00:00<?, ?it/s]"
      ]
     },
     "metadata": {},
     "output_type": "display_data"
    },
    {
     "name": "stderr",
     "output_type": "stream",
     "text": [
      "\r",
      " 61%|██████    | 609/1000 [02:32<01:28,  4.41it/s]"
     ]
    },
    {
     "data": {
      "application/vnd.jupyter.widget-view+json": {
       "model_id": "91787b91e3e547e3843eac9eeb7fdf9c",
       "version_major": 2,
       "version_minor": 0
      },
      "text/plain": [
       "  0%|          | 0/1000 [00:00<?, ?it/s]"
      ]
     },
     "metadata": {},
     "output_type": "display_data"
    },
    {
     "name": "stderr",
     "output_type": "stream",
     "text": [
      "\r",
      " 61%|██████    | 610/1000 [02:32<01:28,  4.40it/s]"
     ]
    },
    {
     "data": {
      "application/vnd.jupyter.widget-view+json": {
       "model_id": "ba992c5dc1cc4272b9d9f127a7ebf95d",
       "version_major": 2,
       "version_minor": 0
      },
      "text/plain": [
       "  0%|          | 0/1000 [00:00<?, ?it/s]"
      ]
     },
     "metadata": {},
     "output_type": "display_data"
    },
    {
     "name": "stderr",
     "output_type": "stream",
     "text": [
      "\r",
      " 61%|██████    | 611/1000 [02:32<01:26,  4.50it/s]"
     ]
    },
    {
     "data": {
      "application/vnd.jupyter.widget-view+json": {
       "model_id": "f683c188247645358efd6d492df35ec6",
       "version_major": 2,
       "version_minor": 0
      },
      "text/plain": [
       "  0%|          | 0/1000 [00:00<?, ?it/s]"
      ]
     },
     "metadata": {},
     "output_type": "display_data"
    },
    {
     "name": "stderr",
     "output_type": "stream",
     "text": [
      "\r",
      " 61%|██████    | 612/1000 [02:32<01:24,  4.59it/s]"
     ]
    },
    {
     "data": {
      "application/vnd.jupyter.widget-view+json": {
       "model_id": "8b3b9b9f188b4e5da445f6f63ce93fe0",
       "version_major": 2,
       "version_minor": 0
      },
      "text/plain": [
       "  0%|          | 0/1000 [00:00<?, ?it/s]"
      ]
     },
     "metadata": {},
     "output_type": "display_data"
    },
    {
     "name": "stderr",
     "output_type": "stream",
     "text": [
      "\r",
      " 61%|██████▏   | 613/1000 [02:33<01:23,  4.62it/s]"
     ]
    },
    {
     "data": {
      "application/vnd.jupyter.widget-view+json": {
       "model_id": "46ed24c436f744f499314b876f8b2fd0",
       "version_major": 2,
       "version_minor": 0
      },
      "text/plain": [
       "  0%|          | 0/1000 [00:00<?, ?it/s]"
      ]
     },
     "metadata": {},
     "output_type": "display_data"
    },
    {
     "name": "stderr",
     "output_type": "stream",
     "text": [
      "\r",
      " 61%|██████▏   | 614/1000 [02:33<01:24,  4.59it/s]"
     ]
    },
    {
     "data": {
      "application/vnd.jupyter.widget-view+json": {
       "model_id": "2c40c9e28df5476a8918c9025b212091",
       "version_major": 2,
       "version_minor": 0
      },
      "text/plain": [
       "  0%|          | 0/1000 [00:00<?, ?it/s]"
      ]
     },
     "metadata": {},
     "output_type": "display_data"
    },
    {
     "name": "stderr",
     "output_type": "stream",
     "text": [
      "\r",
      " 62%|██████▏   | 615/1000 [02:33<01:49,  3.53it/s]"
     ]
    },
    {
     "data": {
      "application/vnd.jupyter.widget-view+json": {
       "model_id": "aff4ccd498a34cdab47492fdb2312172",
       "version_major": 2,
       "version_minor": 0
      },
      "text/plain": [
       "  0%|          | 0/1000 [00:00<?, ?it/s]"
      ]
     },
     "metadata": {},
     "output_type": "display_data"
    },
    {
     "name": "stderr",
     "output_type": "stream",
     "text": [
      "\r",
      " 62%|██████▏   | 616/1000 [02:34<01:41,  3.78it/s]"
     ]
    },
    {
     "data": {
      "application/vnd.jupyter.widget-view+json": {
       "model_id": "495fd24541b8423797d31837481c2691",
       "version_major": 2,
       "version_minor": 0
      },
      "text/plain": [
       "  0%|          | 0/1000 [00:00<?, ?it/s]"
      ]
     },
     "metadata": {},
     "output_type": "display_data"
    },
    {
     "name": "stderr",
     "output_type": "stream",
     "text": [
      "\r",
      " 62%|██████▏   | 617/1000 [02:34<01:39,  3.83it/s]"
     ]
    },
    {
     "data": {
      "application/vnd.jupyter.widget-view+json": {
       "model_id": "591813a147ac42e38eda717072e33ff0",
       "version_major": 2,
       "version_minor": 0
      },
      "text/plain": [
       "  0%|          | 0/1000 [00:00<?, ?it/s]"
      ]
     },
     "metadata": {},
     "output_type": "display_data"
    },
    {
     "name": "stderr",
     "output_type": "stream",
     "text": [
      "\r",
      " 62%|██████▏   | 618/1000 [02:34<01:45,  3.61it/s]"
     ]
    },
    {
     "data": {
      "application/vnd.jupyter.widget-view+json": {
       "model_id": "3db7b8fe666146c4a2dd8f591702f484",
       "version_major": 2,
       "version_minor": 0
      },
      "text/plain": [
       "  0%|          | 0/1000 [00:00<?, ?it/s]"
      ]
     },
     "metadata": {},
     "output_type": "display_data"
    },
    {
     "name": "stderr",
     "output_type": "stream",
     "text": [
      "\r",
      " 62%|██████▏   | 619/1000 [02:34<01:48,  3.50it/s]"
     ]
    },
    {
     "data": {
      "application/vnd.jupyter.widget-view+json": {
       "model_id": "aa0de13e409e4b2ba952968cb9ffca05",
       "version_major": 2,
       "version_minor": 0
      },
      "text/plain": [
       "  0%|          | 0/1000 [00:00<?, ?it/s]"
      ]
     },
     "metadata": {},
     "output_type": "display_data"
    },
    {
     "name": "stderr",
     "output_type": "stream",
     "text": [
      "\r",
      " 62%|██████▏   | 620/1000 [02:35<01:44,  3.64it/s]"
     ]
    },
    {
     "data": {
      "application/vnd.jupyter.widget-view+json": {
       "model_id": "e8f0375847a6414fbccc807cbb5dc904",
       "version_major": 2,
       "version_minor": 0
      },
      "text/plain": [
       "  0%|          | 0/1000 [00:00<?, ?it/s]"
      ]
     },
     "metadata": {},
     "output_type": "display_data"
    },
    {
     "name": "stderr",
     "output_type": "stream",
     "text": [
      "\r",
      " 62%|██████▏   | 621/1000 [02:35<01:39,  3.82it/s]"
     ]
    },
    {
     "data": {
      "application/vnd.jupyter.widget-view+json": {
       "model_id": "72e689a173bf4bf2bb32ddff9bea97aa",
       "version_major": 2,
       "version_minor": 0
      },
      "text/plain": [
       "  0%|          | 0/1000 [00:00<?, ?it/s]"
      ]
     },
     "metadata": {},
     "output_type": "display_data"
    },
    {
     "name": "stderr",
     "output_type": "stream",
     "text": [
      "\r",
      " 62%|██████▏   | 622/1000 [02:35<01:33,  4.04it/s]"
     ]
    },
    {
     "data": {
      "application/vnd.jupyter.widget-view+json": {
       "model_id": "9bc9b4bf280e4b1e971ae720932d9264",
       "version_major": 2,
       "version_minor": 0
      },
      "text/plain": [
       "  0%|          | 0/1000 [00:00<?, ?it/s]"
      ]
     },
     "metadata": {},
     "output_type": "display_data"
    },
    {
     "name": "stderr",
     "output_type": "stream",
     "text": [
      "\r",
      " 62%|██████▏   | 623/1000 [02:35<01:28,  4.25it/s]"
     ]
    },
    {
     "data": {
      "application/vnd.jupyter.widget-view+json": {
       "model_id": "e6bed66c413641598a81622fe451bd79",
       "version_major": 2,
       "version_minor": 0
      },
      "text/plain": [
       "  0%|          | 0/1000 [00:00<?, ?it/s]"
      ]
     },
     "metadata": {},
     "output_type": "display_data"
    },
    {
     "name": "stderr",
     "output_type": "stream",
     "text": [
      "\r",
      " 62%|██████▏   | 624/1000 [02:36<01:25,  4.38it/s]"
     ]
    },
    {
     "data": {
      "application/vnd.jupyter.widget-view+json": {
       "model_id": "bb9ab94b9a65417ca0a1dba78e047e55",
       "version_major": 2,
       "version_minor": 0
      },
      "text/plain": [
       "  0%|          | 0/1000 [00:00<?, ?it/s]"
      ]
     },
     "metadata": {},
     "output_type": "display_data"
    },
    {
     "name": "stderr",
     "output_type": "stream",
     "text": [
      "\r",
      " 62%|██████▎   | 625/1000 [02:36<01:27,  4.29it/s]"
     ]
    },
    {
     "data": {
      "application/vnd.jupyter.widget-view+json": {
       "model_id": "6927cc9567524c22a21a627ae4ff37a3",
       "version_major": 2,
       "version_minor": 0
      },
      "text/plain": [
       "  0%|          | 0/1000 [00:00<?, ?it/s]"
      ]
     },
     "metadata": {},
     "output_type": "display_data"
    },
    {
     "name": "stderr",
     "output_type": "stream",
     "text": [
      "\r",
      " 63%|██████▎   | 626/1000 [02:36<01:33,  3.99it/s]"
     ]
    },
    {
     "data": {
      "application/vnd.jupyter.widget-view+json": {
       "model_id": "a88b71f7371a46fcace6d1b3e6002dbc",
       "version_major": 2,
       "version_minor": 0
      },
      "text/plain": [
       "  0%|          | 0/1000 [00:00<?, ?it/s]"
      ]
     },
     "metadata": {},
     "output_type": "display_data"
    },
    {
     "name": "stderr",
     "output_type": "stream",
     "text": [
      "\r",
      " 63%|██████▎   | 627/1000 [02:36<01:36,  3.87it/s]"
     ]
    },
    {
     "data": {
      "application/vnd.jupyter.widget-view+json": {
       "model_id": "6a0644ec81714e2fafda414e42322cdf",
       "version_major": 2,
       "version_minor": 0
      },
      "text/plain": [
       "  0%|          | 0/1000 [00:00<?, ?it/s]"
      ]
     },
     "metadata": {},
     "output_type": "display_data"
    },
    {
     "name": "stderr",
     "output_type": "stream",
     "text": [
      "\r",
      " 63%|██████▎   | 628/1000 [02:37<01:36,  3.86it/s]"
     ]
    },
    {
     "data": {
      "application/vnd.jupyter.widget-view+json": {
       "model_id": "2713133279794e6e8afd42fd734fd380",
       "version_major": 2,
       "version_minor": 0
      },
      "text/plain": [
       "  0%|          | 0/1000 [00:00<?, ?it/s]"
      ]
     },
     "metadata": {},
     "output_type": "display_data"
    },
    {
     "name": "stderr",
     "output_type": "stream",
     "text": [
      "\r",
      " 63%|██████▎   | 629/1000 [02:37<01:39,  3.74it/s]"
     ]
    },
    {
     "data": {
      "application/vnd.jupyter.widget-view+json": {
       "model_id": "1662731437a64811a834589db4d9df78",
       "version_major": 2,
       "version_minor": 0
      },
      "text/plain": [
       "  0%|          | 0/1000 [00:00<?, ?it/s]"
      ]
     },
     "metadata": {},
     "output_type": "display_data"
    },
    {
     "name": "stderr",
     "output_type": "stream",
     "text": [
      "\r",
      " 63%|██████▎   | 630/1000 [02:37<01:40,  3.69it/s]"
     ]
    },
    {
     "data": {
      "application/vnd.jupyter.widget-view+json": {
       "model_id": "fb94612c43344b05bbfe90b04529dccf",
       "version_major": 2,
       "version_minor": 0
      },
      "text/plain": [
       "  0%|          | 0/1000 [00:00<?, ?it/s]"
      ]
     },
     "metadata": {},
     "output_type": "display_data"
    },
    {
     "name": "stderr",
     "output_type": "stream",
     "text": [
      "\r",
      " 63%|██████▎   | 631/1000 [02:37<01:38,  3.76it/s]"
     ]
    },
    {
     "data": {
      "application/vnd.jupyter.widget-view+json": {
       "model_id": "93aca2bd5fa54ebf94135974597fb2fc",
       "version_major": 2,
       "version_minor": 0
      },
      "text/plain": [
       "  0%|          | 0/1000 [00:00<?, ?it/s]"
      ]
     },
     "metadata": {},
     "output_type": "display_data"
    },
    {
     "name": "stderr",
     "output_type": "stream",
     "text": [
      "\r",
      " 63%|██████▎   | 632/1000 [02:38<01:36,  3.81it/s]"
     ]
    },
    {
     "data": {
      "application/vnd.jupyter.widget-view+json": {
       "model_id": "09e9f22add3b4672901830aede12f8e3",
       "version_major": 2,
       "version_minor": 0
      },
      "text/plain": [
       "  0%|          | 0/1000 [00:00<?, ?it/s]"
      ]
     },
     "metadata": {},
     "output_type": "display_data"
    },
    {
     "name": "stderr",
     "output_type": "stream",
     "text": [
      "\r",
      " 63%|██████▎   | 633/1000 [02:38<01:34,  3.88it/s]"
     ]
    },
    {
     "data": {
      "application/vnd.jupyter.widget-view+json": {
       "model_id": "2cf82f71b5694960a5ea4f7daa38ec71",
       "version_major": 2,
       "version_minor": 0
      },
      "text/plain": [
       "  0%|          | 0/1000 [00:00<?, ?it/s]"
      ]
     },
     "metadata": {},
     "output_type": "display_data"
    },
    {
     "name": "stderr",
     "output_type": "stream",
     "text": [
      "\r",
      " 63%|██████▎   | 634/1000 [02:38<01:32,  3.97it/s]"
     ]
    },
    {
     "data": {
      "application/vnd.jupyter.widget-view+json": {
       "model_id": "ea37b6765ff64d1a8092da0b405aa767",
       "version_major": 2,
       "version_minor": 0
      },
      "text/plain": [
       "  0%|          | 0/1000 [00:00<?, ?it/s]"
      ]
     },
     "metadata": {},
     "output_type": "display_data"
    },
    {
     "name": "stderr",
     "output_type": "stream",
     "text": [
      "\r",
      " 64%|██████▎   | 635/1000 [02:38<01:27,  4.16it/s]"
     ]
    },
    {
     "data": {
      "application/vnd.jupyter.widget-view+json": {
       "model_id": "8730f74f032a499f90609bdcbe74c141",
       "version_major": 2,
       "version_minor": 0
      },
      "text/plain": [
       "  0%|          | 0/1000 [00:00<?, ?it/s]"
      ]
     },
     "metadata": {},
     "output_type": "display_data"
    },
    {
     "name": "stderr",
     "output_type": "stream",
     "text": [
      "\r",
      " 64%|██████▎   | 636/1000 [02:39<01:26,  4.21it/s]"
     ]
    },
    {
     "data": {
      "application/vnd.jupyter.widget-view+json": {
       "model_id": "c1ed49a7ff1341f3b7f381b7f0467ccf",
       "version_major": 2,
       "version_minor": 0
      },
      "text/plain": [
       "  0%|          | 0/1000 [00:00<?, ?it/s]"
      ]
     },
     "metadata": {},
     "output_type": "display_data"
    },
    {
     "name": "stderr",
     "output_type": "stream",
     "text": [
      "\r",
      " 64%|██████▎   | 637/1000 [02:39<01:27,  4.14it/s]"
     ]
    },
    {
     "data": {
      "application/vnd.jupyter.widget-view+json": {
       "model_id": "2dd8dd030696427881d9e1cf5676a282",
       "version_major": 2,
       "version_minor": 0
      },
      "text/plain": [
       "  0%|          | 0/1000 [00:00<?, ?it/s]"
      ]
     },
     "metadata": {},
     "output_type": "display_data"
    },
    {
     "name": "stderr",
     "output_type": "stream",
     "text": [
      "\r",
      " 64%|██████▍   | 638/1000 [02:39<01:25,  4.25it/s]"
     ]
    },
    {
     "data": {
      "application/vnd.jupyter.widget-view+json": {
       "model_id": "415bdbffec2c4e79ada7dc639e836bce",
       "version_major": 2,
       "version_minor": 0
      },
      "text/plain": [
       "  0%|          | 0/1000 [00:00<?, ?it/s]"
      ]
     },
     "metadata": {},
     "output_type": "display_data"
    },
    {
     "name": "stderr",
     "output_type": "stream",
     "text": [
      "\r",
      " 64%|██████▍   | 639/1000 [02:39<01:21,  4.41it/s]"
     ]
    },
    {
     "data": {
      "application/vnd.jupyter.widget-view+json": {
       "model_id": "2b4a20e22446402d8a62647ea88a6618",
       "version_major": 2,
       "version_minor": 0
      },
      "text/plain": [
       "  0%|          | 0/1000 [00:00<?, ?it/s]"
      ]
     },
     "metadata": {},
     "output_type": "display_data"
    },
    {
     "name": "stderr",
     "output_type": "stream",
     "text": [
      "\r",
      " 64%|██████▍   | 640/1000 [02:40<01:20,  4.46it/s]"
     ]
    },
    {
     "data": {
      "application/vnd.jupyter.widget-view+json": {
       "model_id": "4654fc6959e74b4da3d0999eced53fd2",
       "version_major": 2,
       "version_minor": 0
      },
      "text/plain": [
       "  0%|          | 0/1000 [00:00<?, ?it/s]"
      ]
     },
     "metadata": {},
     "output_type": "display_data"
    },
    {
     "name": "stderr",
     "output_type": "stream",
     "text": [
      "\r",
      " 64%|██████▍   | 641/1000 [02:40<01:20,  4.47it/s]"
     ]
    },
    {
     "data": {
      "application/vnd.jupyter.widget-view+json": {
       "model_id": "9c4e0bb83a02491f95142679283a2b64",
       "version_major": 2,
       "version_minor": 0
      },
      "text/plain": [
       "  0%|          | 0/1000 [00:00<?, ?it/s]"
      ]
     },
     "metadata": {},
     "output_type": "display_data"
    },
    {
     "name": "stderr",
     "output_type": "stream",
     "text": [
      "\r",
      " 64%|██████▍   | 642/1000 [02:40<01:19,  4.50it/s]"
     ]
    },
    {
     "data": {
      "application/vnd.jupyter.widget-view+json": {
       "model_id": "ab0b50a903e44daab925d2e3e4cc5ebe",
       "version_major": 2,
       "version_minor": 0
      },
      "text/plain": [
       "  0%|          | 0/1000 [00:00<?, ?it/s]"
      ]
     },
     "metadata": {},
     "output_type": "display_data"
    },
    {
     "name": "stderr",
     "output_type": "stream",
     "text": [
      "\r",
      " 64%|██████▍   | 643/1000 [02:40<01:22,  4.35it/s]"
     ]
    },
    {
     "data": {
      "application/vnd.jupyter.widget-view+json": {
       "model_id": "d45dc4e4ed2640dfa1b80cc113857f4c",
       "version_major": 2,
       "version_minor": 0
      },
      "text/plain": [
       "  0%|          | 0/1000 [00:00<?, ?it/s]"
      ]
     },
     "metadata": {},
     "output_type": "display_data"
    },
    {
     "name": "stderr",
     "output_type": "stream",
     "text": [
      "\r",
      " 64%|██████▍   | 644/1000 [02:40<01:21,  4.36it/s]"
     ]
    },
    {
     "data": {
      "application/vnd.jupyter.widget-view+json": {
       "model_id": "ab70a170eee54e7eae6b9898c6569582",
       "version_major": 2,
       "version_minor": 0
      },
      "text/plain": [
       "  0%|          | 0/1000 [00:00<?, ?it/s]"
      ]
     },
     "metadata": {},
     "output_type": "display_data"
    },
    {
     "name": "stderr",
     "output_type": "stream",
     "text": [
      "\r",
      " 64%|██████▍   | 645/1000 [02:41<01:21,  4.36it/s]"
     ]
    },
    {
     "data": {
      "application/vnd.jupyter.widget-view+json": {
       "model_id": "bb55d04e04f34bd5ad1086ec026e76f7",
       "version_major": 2,
       "version_minor": 0
      },
      "text/plain": [
       "  0%|          | 0/1000 [00:00<?, ?it/s]"
      ]
     },
     "metadata": {},
     "output_type": "display_data"
    },
    {
     "name": "stderr",
     "output_type": "stream",
     "text": [
      "\r",
      " 65%|██████▍   | 646/1000 [02:41<01:19,  4.46it/s]"
     ]
    },
    {
     "data": {
      "application/vnd.jupyter.widget-view+json": {
       "model_id": "6b8382a8e15a4be8bc4cd8fc176679c9",
       "version_major": 2,
       "version_minor": 0
      },
      "text/plain": [
       "  0%|          | 0/1000 [00:00<?, ?it/s]"
      ]
     },
     "metadata": {},
     "output_type": "display_data"
    },
    {
     "name": "stderr",
     "output_type": "stream",
     "text": [
      "\r",
      " 65%|██████▍   | 647/1000 [02:41<01:19,  4.46it/s]"
     ]
    },
    {
     "data": {
      "application/vnd.jupyter.widget-view+json": {
       "model_id": "70241ffea2734cadb4c76b29283c65ed",
       "version_major": 2,
       "version_minor": 0
      },
      "text/plain": [
       "  0%|          | 0/1000 [00:00<?, ?it/s]"
      ]
     },
     "metadata": {},
     "output_type": "display_data"
    },
    {
     "name": "stderr",
     "output_type": "stream",
     "text": [
      "\r",
      " 65%|██████▍   | 648/1000 [02:41<01:17,  4.52it/s]"
     ]
    },
    {
     "data": {
      "application/vnd.jupyter.widget-view+json": {
       "model_id": "079629fa06c542939c2f23cfa11d246c",
       "version_major": 2,
       "version_minor": 0
      },
      "text/plain": [
       "  0%|          | 0/1000 [00:00<?, ?it/s]"
      ]
     },
     "metadata": {},
     "output_type": "display_data"
    },
    {
     "name": "stderr",
     "output_type": "stream",
     "text": [
      "\r",
      " 65%|██████▍   | 649/1000 [02:42<01:17,  4.50it/s]"
     ]
    },
    {
     "data": {
      "application/vnd.jupyter.widget-view+json": {
       "model_id": "396bdb71827f41dc80aedc0f81b4db40",
       "version_major": 2,
       "version_minor": 0
      },
      "text/plain": [
       "  0%|          | 0/1000 [00:00<?, ?it/s]"
      ]
     },
     "metadata": {},
     "output_type": "display_data"
    },
    {
     "name": "stderr",
     "output_type": "stream",
     "text": [
      "\r",
      " 65%|██████▌   | 650/1000 [02:42<01:17,  4.51it/s]"
     ]
    },
    {
     "data": {
      "application/vnd.jupyter.widget-view+json": {
       "model_id": "fc1034e2255b48e880cccc240341575a",
       "version_major": 2,
       "version_minor": 0
      },
      "text/plain": [
       "  0%|          | 0/1000 [00:00<?, ?it/s]"
      ]
     },
     "metadata": {},
     "output_type": "display_data"
    },
    {
     "name": "stderr",
     "output_type": "stream",
     "text": [
      "\r",
      " 65%|██████▌   | 651/1000 [02:42<01:21,  4.30it/s]"
     ]
    },
    {
     "data": {
      "application/vnd.jupyter.widget-view+json": {
       "model_id": "7489fb7fdd244822b1daefcc9c586f8e",
       "version_major": 2,
       "version_minor": 0
      },
      "text/plain": [
       "  0%|          | 0/1000 [00:00<?, ?it/s]"
      ]
     },
     "metadata": {},
     "output_type": "display_data"
    },
    {
     "name": "stderr",
     "output_type": "stream",
     "text": [
      "\r",
      " 65%|██████▌   | 652/1000 [02:42<01:21,  4.29it/s]"
     ]
    },
    {
     "data": {
      "application/vnd.jupyter.widget-view+json": {
       "model_id": "66bebce7bc9b4325811e7f147d00a3d9",
       "version_major": 2,
       "version_minor": 0
      },
      "text/plain": [
       "  0%|          | 0/1000 [00:00<?, ?it/s]"
      ]
     },
     "metadata": {},
     "output_type": "display_data"
    },
    {
     "name": "stderr",
     "output_type": "stream",
     "text": [
      "\r",
      " 65%|██████▌   | 653/1000 [02:42<01:20,  4.31it/s]"
     ]
    },
    {
     "data": {
      "application/vnd.jupyter.widget-view+json": {
       "model_id": "3e0759d05f4a4160bfdfe1a40134052c",
       "version_major": 2,
       "version_minor": 0
      },
      "text/plain": [
       "  0%|          | 0/1000 [00:00<?, ?it/s]"
      ]
     },
     "metadata": {},
     "output_type": "display_data"
    },
    {
     "name": "stderr",
     "output_type": "stream",
     "text": [
      "\r",
      " 65%|██████▌   | 654/1000 [02:43<01:18,  4.41it/s]"
     ]
    },
    {
     "data": {
      "application/vnd.jupyter.widget-view+json": {
       "model_id": "ae6d4c320b2746669ea19ade7b422d85",
       "version_major": 2,
       "version_minor": 0
      },
      "text/plain": [
       "  0%|          | 0/1000 [00:00<?, ?it/s]"
      ]
     },
     "metadata": {},
     "output_type": "display_data"
    },
    {
     "name": "stderr",
     "output_type": "stream",
     "text": [
      "\r",
      " 66%|██████▌   | 655/1000 [02:43<01:18,  4.41it/s]"
     ]
    },
    {
     "data": {
      "application/vnd.jupyter.widget-view+json": {
       "model_id": "adf1738097a846e6a842f3f2b590c538",
       "version_major": 2,
       "version_minor": 0
      },
      "text/plain": [
       "  0%|          | 0/1000 [00:00<?, ?it/s]"
      ]
     },
     "metadata": {},
     "output_type": "display_data"
    },
    {
     "name": "stderr",
     "output_type": "stream",
     "text": [
      "\r",
      " 66%|██████▌   | 656/1000 [02:43<01:19,  4.35it/s]"
     ]
    },
    {
     "data": {
      "application/vnd.jupyter.widget-view+json": {
       "model_id": "57a24ecb3b114473a65a86cab5b0637a",
       "version_major": 2,
       "version_minor": 0
      },
      "text/plain": [
       "  0%|          | 0/1000 [00:00<?, ?it/s]"
      ]
     },
     "metadata": {},
     "output_type": "display_data"
    },
    {
     "name": "stderr",
     "output_type": "stream",
     "text": [
      "\r",
      " 66%|██████▌   | 657/1000 [02:43<01:18,  4.36it/s]"
     ]
    },
    {
     "data": {
      "application/vnd.jupyter.widget-view+json": {
       "model_id": "06b6789077554e4b995bd3a4ccad6ad9",
       "version_major": 2,
       "version_minor": 0
      },
      "text/plain": [
       "  0%|          | 0/1000 [00:00<?, ?it/s]"
      ]
     },
     "metadata": {},
     "output_type": "display_data"
    },
    {
     "name": "stderr",
     "output_type": "stream",
     "text": [
      "\r",
      " 66%|██████▌   | 658/1000 [02:44<01:23,  4.11it/s]"
     ]
    },
    {
     "data": {
      "application/vnd.jupyter.widget-view+json": {
       "model_id": "2bbf3d05905b4e989b79a2e90f145000",
       "version_major": 2,
       "version_minor": 0
      },
      "text/plain": [
       "  0%|          | 0/1000 [00:00<?, ?it/s]"
      ]
     },
     "metadata": {},
     "output_type": "display_data"
    },
    {
     "name": "stderr",
     "output_type": "stream",
     "text": [
      "\r",
      " 66%|██████▌   | 659/1000 [02:44<01:23,  4.11it/s]"
     ]
    },
    {
     "data": {
      "application/vnd.jupyter.widget-view+json": {
       "model_id": "db9f80be7b324d7c92d27eadc212ce3b",
       "version_major": 2,
       "version_minor": 0
      },
      "text/plain": [
       "  0%|          | 0/1000 [00:00<?, ?it/s]"
      ]
     },
     "metadata": {},
     "output_type": "display_data"
    },
    {
     "name": "stderr",
     "output_type": "stream",
     "text": [
      "\r",
      " 66%|██████▌   | 660/1000 [02:44<01:22,  4.14it/s]"
     ]
    },
    {
     "data": {
      "application/vnd.jupyter.widget-view+json": {
       "model_id": "65d7bbb8ef2d4d22a8370904604f3528",
       "version_major": 2,
       "version_minor": 0
      },
      "text/plain": [
       "  0%|          | 0/1000 [00:00<?, ?it/s]"
      ]
     },
     "metadata": {},
     "output_type": "display_data"
    },
    {
     "name": "stderr",
     "output_type": "stream",
     "text": [
      "\r",
      " 66%|██████▌   | 661/1000 [02:44<01:19,  4.28it/s]"
     ]
    },
    {
     "data": {
      "application/vnd.jupyter.widget-view+json": {
       "model_id": "5a7b9980abf043b590d0c634e624de84",
       "version_major": 2,
       "version_minor": 0
      },
      "text/plain": [
       "  0%|          | 0/1000 [00:00<?, ?it/s]"
      ]
     },
     "metadata": {},
     "output_type": "display_data"
    },
    {
     "name": "stderr",
     "output_type": "stream",
     "text": [
      "\r",
      " 66%|██████▌   | 662/1000 [02:45<01:17,  4.35it/s]"
     ]
    },
    {
     "data": {
      "application/vnd.jupyter.widget-view+json": {
       "model_id": "8f253f2982814dafa1a5c7649e067294",
       "version_major": 2,
       "version_minor": 0
      },
      "text/plain": [
       "  0%|          | 0/1000 [00:00<?, ?it/s]"
      ]
     },
     "metadata": {},
     "output_type": "display_data"
    },
    {
     "name": "stderr",
     "output_type": "stream",
     "text": [
      "\r",
      " 66%|██████▋   | 663/1000 [02:45<01:16,  4.43it/s]"
     ]
    },
    {
     "data": {
      "application/vnd.jupyter.widget-view+json": {
       "model_id": "31a958369d574de89e50fb8cef642b18",
       "version_major": 2,
       "version_minor": 0
      },
      "text/plain": [
       "  0%|          | 0/1000 [00:00<?, ?it/s]"
      ]
     },
     "metadata": {},
     "output_type": "display_data"
    },
    {
     "name": "stderr",
     "output_type": "stream",
     "text": [
      "\r",
      " 66%|██████▋   | 664/1000 [02:45<01:15,  4.43it/s]"
     ]
    },
    {
     "data": {
      "application/vnd.jupyter.widget-view+json": {
       "model_id": "384d2f1e16c945b18856c073dd06b1e7",
       "version_major": 2,
       "version_minor": 0
      },
      "text/plain": [
       "  0%|          | 0/1000 [00:00<?, ?it/s]"
      ]
     },
     "metadata": {},
     "output_type": "display_data"
    },
    {
     "name": "stderr",
     "output_type": "stream",
     "text": [
      "\r",
      " 66%|██████▋   | 665/1000 [02:45<01:15,  4.46it/s]"
     ]
    },
    {
     "data": {
      "application/vnd.jupyter.widget-view+json": {
       "model_id": "11ef29104f474538b0019b0f6f203c1f",
       "version_major": 2,
       "version_minor": 0
      },
      "text/plain": [
       "  0%|          | 0/1000 [00:00<?, ?it/s]"
      ]
     },
     "metadata": {},
     "output_type": "display_data"
    },
    {
     "name": "stderr",
     "output_type": "stream",
     "text": [
      "\r",
      " 67%|██████▋   | 666/1000 [02:45<01:14,  4.47it/s]"
     ]
    },
    {
     "data": {
      "application/vnd.jupyter.widget-view+json": {
       "model_id": "cb8081e5f54a465abad2e9b832d13519",
       "version_major": 2,
       "version_minor": 0
      },
      "text/plain": [
       "  0%|          | 0/1000 [00:00<?, ?it/s]"
      ]
     },
     "metadata": {},
     "output_type": "display_data"
    },
    {
     "name": "stderr",
     "output_type": "stream",
     "text": [
      "\r",
      " 67%|██████▋   | 667/1000 [02:46<01:14,  4.47it/s]"
     ]
    },
    {
     "data": {
      "application/vnd.jupyter.widget-view+json": {
       "model_id": "d8485ff1757c495bb0c0e2aeca752fb1",
       "version_major": 2,
       "version_minor": 0
      },
      "text/plain": [
       "  0%|          | 0/1000 [00:00<?, ?it/s]"
      ]
     },
     "metadata": {},
     "output_type": "display_data"
    },
    {
     "name": "stderr",
     "output_type": "stream",
     "text": [
      "\r",
      " 67%|██████▋   | 668/1000 [02:46<01:15,  4.40it/s]"
     ]
    },
    {
     "data": {
      "application/vnd.jupyter.widget-view+json": {
       "model_id": "75877e512e384525a1715995799c6c42",
       "version_major": 2,
       "version_minor": 0
      },
      "text/plain": [
       "  0%|          | 0/1000 [00:00<?, ?it/s]"
      ]
     },
     "metadata": {},
     "output_type": "display_data"
    },
    {
     "name": "stderr",
     "output_type": "stream",
     "text": [
      "\r",
      " 67%|██████▋   | 669/1000 [02:46<01:17,  4.29it/s]"
     ]
    },
    {
     "data": {
      "application/vnd.jupyter.widget-view+json": {
       "model_id": "4a225771c8ae4fef8e17f509b6214f1e",
       "version_major": 2,
       "version_minor": 0
      },
      "text/plain": [
       "  0%|          | 0/1000 [00:00<?, ?it/s]"
      ]
     },
     "metadata": {},
     "output_type": "display_data"
    },
    {
     "name": "stderr",
     "output_type": "stream",
     "text": [
      "\r",
      " 67%|██████▋   | 670/1000 [02:46<01:14,  4.40it/s]"
     ]
    },
    {
     "data": {
      "application/vnd.jupyter.widget-view+json": {
       "model_id": "37c9c53554f54f7b9ba84788d9346d5d",
       "version_major": 2,
       "version_minor": 0
      },
      "text/plain": [
       "  0%|          | 0/1000 [00:00<?, ?it/s]"
      ]
     },
     "metadata": {},
     "output_type": "display_data"
    },
    {
     "name": "stderr",
     "output_type": "stream",
     "text": [
      "\r",
      " 67%|██████▋   | 671/1000 [02:47<01:15,  4.33it/s]"
     ]
    },
    {
     "data": {
      "application/vnd.jupyter.widget-view+json": {
       "model_id": "c68596dcf0cf4f57a4a8a6e92f80d9d7",
       "version_major": 2,
       "version_minor": 0
      },
      "text/plain": [
       "  0%|          | 0/1000 [00:00<?, ?it/s]"
      ]
     },
     "metadata": {},
     "output_type": "display_data"
    },
    {
     "name": "stderr",
     "output_type": "stream",
     "text": [
      "\r",
      " 67%|██████▋   | 672/1000 [02:47<01:18,  4.19it/s]"
     ]
    },
    {
     "data": {
      "application/vnd.jupyter.widget-view+json": {
       "model_id": "fa7aa7e4a1414bb8bbb3affdebc98303",
       "version_major": 2,
       "version_minor": 0
      },
      "text/plain": [
       "  0%|          | 0/1000 [00:00<?, ?it/s]"
      ]
     },
     "metadata": {},
     "output_type": "display_data"
    },
    {
     "name": "stderr",
     "output_type": "stream",
     "text": [
      "\r",
      " 67%|██████▋   | 673/1000 [02:47<01:18,  4.15it/s]"
     ]
    },
    {
     "data": {
      "application/vnd.jupyter.widget-view+json": {
       "model_id": "aab82c54e0f7494c8b9e965259a0f6b0",
       "version_major": 2,
       "version_minor": 0
      },
      "text/plain": [
       "  0%|          | 0/1000 [00:00<?, ?it/s]"
      ]
     },
     "metadata": {},
     "output_type": "display_data"
    },
    {
     "name": "stderr",
     "output_type": "stream",
     "text": [
      "\r",
      " 67%|██████▋   | 674/1000 [02:47<01:18,  4.13it/s]"
     ]
    },
    {
     "data": {
      "application/vnd.jupyter.widget-view+json": {
       "model_id": "780290ab1b5649bc92c2980b2c2fe9e4",
       "version_major": 2,
       "version_minor": 0
      },
      "text/plain": [
       "  0%|          | 0/1000 [00:00<?, ?it/s]"
      ]
     },
     "metadata": {},
     "output_type": "display_data"
    },
    {
     "name": "stderr",
     "output_type": "stream",
     "text": [
      "\r",
      " 68%|██████▊   | 675/1000 [02:48<01:19,  4.08it/s]"
     ]
    },
    {
     "data": {
      "application/vnd.jupyter.widget-view+json": {
       "model_id": "2fd927b9362842339a394910e442b01f",
       "version_major": 2,
       "version_minor": 0
      },
      "text/plain": [
       "  0%|          | 0/1000 [00:00<?, ?it/s]"
      ]
     },
     "metadata": {},
     "output_type": "display_data"
    },
    {
     "name": "stderr",
     "output_type": "stream",
     "text": [
      "\r",
      " 68%|██████▊   | 676/1000 [02:48<01:18,  4.11it/s]"
     ]
    },
    {
     "data": {
      "application/vnd.jupyter.widget-view+json": {
       "model_id": "a34d5637a0794070bbe37d5724baca6d",
       "version_major": 2,
       "version_minor": 0
      },
      "text/plain": [
       "  0%|          | 0/1000 [00:00<?, ?it/s]"
      ]
     },
     "metadata": {},
     "output_type": "display_data"
    },
    {
     "name": "stderr",
     "output_type": "stream",
     "text": [
      "\r",
      " 68%|██████▊   | 677/1000 [02:48<01:32,  3.49it/s]"
     ]
    },
    {
     "data": {
      "application/vnd.jupyter.widget-view+json": {
       "model_id": "c20456ce7d75407d9a2209afd6a50720",
       "version_major": 2,
       "version_minor": 0
      },
      "text/plain": [
       "  0%|          | 0/1000 [00:00<?, ?it/s]"
      ]
     },
     "metadata": {},
     "output_type": "display_data"
    },
    {
     "name": "stderr",
     "output_type": "stream",
     "text": [
      "\r",
      " 68%|██████▊   | 678/1000 [02:49<01:32,  3.50it/s]"
     ]
    },
    {
     "data": {
      "application/vnd.jupyter.widget-view+json": {
       "model_id": "13cb0be97a354962bf512ca24936f2db",
       "version_major": 2,
       "version_minor": 0
      },
      "text/plain": [
       "  0%|          | 0/1000 [00:00<?, ?it/s]"
      ]
     },
     "metadata": {},
     "output_type": "display_data"
    },
    {
     "name": "stderr",
     "output_type": "stream",
     "text": [
      "\r",
      " 68%|██████▊   | 679/1000 [02:49<01:27,  3.67it/s]"
     ]
    },
    {
     "data": {
      "application/vnd.jupyter.widget-view+json": {
       "model_id": "c2b9581f59424c96865d4b574da2c4f1",
       "version_major": 2,
       "version_minor": 0
      },
      "text/plain": [
       "  0%|          | 0/1000 [00:00<?, ?it/s]"
      ]
     },
     "metadata": {},
     "output_type": "display_data"
    },
    {
     "name": "stderr",
     "output_type": "stream",
     "text": [
      "\r",
      " 68%|██████▊   | 680/1000 [02:49<01:22,  3.86it/s]"
     ]
    },
    {
     "data": {
      "application/vnd.jupyter.widget-view+json": {
       "model_id": "86bdb79dcac9439c97bb8eb9b8f46f5d",
       "version_major": 2,
       "version_minor": 0
      },
      "text/plain": [
       "  0%|          | 0/1000 [00:00<?, ?it/s]"
      ]
     },
     "metadata": {},
     "output_type": "display_data"
    },
    {
     "name": "stderr",
     "output_type": "stream",
     "text": [
      "\r",
      " 68%|██████▊   | 681/1000 [02:49<01:17,  4.11it/s]"
     ]
    },
    {
     "data": {
      "application/vnd.jupyter.widget-view+json": {
       "model_id": "40d7618235d3414a867e0609fab77562",
       "version_major": 2,
       "version_minor": 0
      },
      "text/plain": [
       "  0%|          | 0/1000 [00:00<?, ?it/s]"
      ]
     },
     "metadata": {},
     "output_type": "display_data"
    },
    {
     "name": "stderr",
     "output_type": "stream",
     "text": [
      "\r",
      " 68%|██████▊   | 682/1000 [02:49<01:13,  4.31it/s]"
     ]
    },
    {
     "data": {
      "application/vnd.jupyter.widget-view+json": {
       "model_id": "92ee451169af41479a0c23f97128e2e5",
       "version_major": 2,
       "version_minor": 0
      },
      "text/plain": [
       "  0%|          | 0/1000 [00:00<?, ?it/s]"
      ]
     },
     "metadata": {},
     "output_type": "display_data"
    },
    {
     "name": "stderr",
     "output_type": "stream",
     "text": [
      "\r",
      " 68%|██████▊   | 683/1000 [02:50<01:11,  4.42it/s]"
     ]
    },
    {
     "data": {
      "application/vnd.jupyter.widget-view+json": {
       "model_id": "1f2ad95ac8de4e2ebc164fb52fb05c8d",
       "version_major": 2,
       "version_minor": 0
      },
      "text/plain": [
       "  0%|          | 0/1000 [00:00<?, ?it/s]"
      ]
     },
     "metadata": {},
     "output_type": "display_data"
    },
    {
     "name": "stderr",
     "output_type": "stream",
     "text": [
      "\r",
      " 68%|██████▊   | 684/1000 [02:50<01:17,  4.06it/s]"
     ]
    },
    {
     "data": {
      "application/vnd.jupyter.widget-view+json": {
       "model_id": "7aa9b93d092341f0a5f59ad72178d39d",
       "version_major": 2,
       "version_minor": 0
      },
      "text/plain": [
       "  0%|          | 0/1000 [00:00<?, ?it/s]"
      ]
     },
     "metadata": {},
     "output_type": "display_data"
    },
    {
     "name": "stderr",
     "output_type": "stream",
     "text": [
      "\r",
      " 68%|██████▊   | 685/1000 [02:50<01:18,  4.03it/s]"
     ]
    },
    {
     "data": {
      "application/vnd.jupyter.widget-view+json": {
       "model_id": "b91052f15b4b48c2afcea17a3e5087c7",
       "version_major": 2,
       "version_minor": 0
      },
      "text/plain": [
       "  0%|          | 0/1000 [00:00<?, ?it/s]"
      ]
     },
     "metadata": {},
     "output_type": "display_data"
    },
    {
     "name": "stderr",
     "output_type": "stream",
     "text": [
      "\r",
      " 69%|██████▊   | 686/1000 [02:50<01:16,  4.10it/s]"
     ]
    },
    {
     "data": {
      "application/vnd.jupyter.widget-view+json": {
       "model_id": "0bbc6c98e4594fc2a8ad1c11c161387f",
       "version_major": 2,
       "version_minor": 0
      },
      "text/plain": [
       "  0%|          | 0/1000 [00:00<?, ?it/s]"
      ]
     },
     "metadata": {},
     "output_type": "display_data"
    },
    {
     "name": "stderr",
     "output_type": "stream",
     "text": [
      "\r",
      " 69%|██████▊   | 687/1000 [02:51<01:14,  4.23it/s]"
     ]
    },
    {
     "data": {
      "application/vnd.jupyter.widget-view+json": {
       "model_id": "6f3fd46780ae4994885c377aad497b11",
       "version_major": 2,
       "version_minor": 0
      },
      "text/plain": [
       "  0%|          | 0/1000 [00:00<?, ?it/s]"
      ]
     },
     "metadata": {},
     "output_type": "display_data"
    },
    {
     "name": "stderr",
     "output_type": "stream",
     "text": [
      "\r",
      " 69%|██████▉   | 688/1000 [02:51<01:11,  4.35it/s]"
     ]
    },
    {
     "data": {
      "application/vnd.jupyter.widget-view+json": {
       "model_id": "08415c7fab0b41258050413b32257363",
       "version_major": 2,
       "version_minor": 0
      },
      "text/plain": [
       "  0%|          | 0/1000 [00:00<?, ?it/s]"
      ]
     },
     "metadata": {},
     "output_type": "display_data"
    },
    {
     "name": "stderr",
     "output_type": "stream",
     "text": [
      "\r",
      " 69%|██████▉   | 689/1000 [02:51<01:10,  4.39it/s]"
     ]
    },
    {
     "data": {
      "application/vnd.jupyter.widget-view+json": {
       "model_id": "0356115ecf174aac970669d43fe21fdd",
       "version_major": 2,
       "version_minor": 0
      },
      "text/plain": [
       "  0%|          | 0/1000 [00:00<?, ?it/s]"
      ]
     },
     "metadata": {},
     "output_type": "display_data"
    },
    {
     "name": "stderr",
     "output_type": "stream",
     "text": [
      "\r",
      " 69%|██████▉   | 690/1000 [02:51<01:09,  4.48it/s]"
     ]
    },
    {
     "data": {
      "application/vnd.jupyter.widget-view+json": {
       "model_id": "71038284e50246b7818f93cf537f4776",
       "version_major": 2,
       "version_minor": 0
      },
      "text/plain": [
       "  0%|          | 0/1000 [00:00<?, ?it/s]"
      ]
     },
     "metadata": {},
     "output_type": "display_data"
    },
    {
     "name": "stderr",
     "output_type": "stream",
     "text": [
      "\r",
      " 69%|██████▉   | 691/1000 [02:52<01:09,  4.42it/s]"
     ]
    },
    {
     "data": {
      "application/vnd.jupyter.widget-view+json": {
       "model_id": "fb4402b377a54b2bb959aa8ad3026961",
       "version_major": 2,
       "version_minor": 0
      },
      "text/plain": [
       "  0%|          | 0/1000 [00:00<?, ?it/s]"
      ]
     },
     "metadata": {},
     "output_type": "display_data"
    },
    {
     "name": "stderr",
     "output_type": "stream",
     "text": [
      "\r",
      " 69%|██████▉   | 692/1000 [02:52<01:07,  4.56it/s]"
     ]
    },
    {
     "data": {
      "application/vnd.jupyter.widget-view+json": {
       "model_id": "22a3170a95264f66b807b940f0b964e6",
       "version_major": 2,
       "version_minor": 0
      },
      "text/plain": [
       "  0%|          | 0/1000 [00:00<?, ?it/s]"
      ]
     },
     "metadata": {},
     "output_type": "display_data"
    },
    {
     "name": "stderr",
     "output_type": "stream",
     "text": [
      "\r",
      " 69%|██████▉   | 693/1000 [02:52<01:07,  4.57it/s]"
     ]
    },
    {
     "data": {
      "application/vnd.jupyter.widget-view+json": {
       "model_id": "3e47da30c92447cb9a950281c556298a",
       "version_major": 2,
       "version_minor": 0
      },
      "text/plain": [
       "  0%|          | 0/1000 [00:00<?, ?it/s]"
      ]
     },
     "metadata": {},
     "output_type": "display_data"
    },
    {
     "name": "stderr",
     "output_type": "stream",
     "text": [
      "\r",
      " 69%|██████▉   | 694/1000 [02:52<01:08,  4.47it/s]"
     ]
    },
    {
     "data": {
      "application/vnd.jupyter.widget-view+json": {
       "model_id": "e3180b429ade41a78474d482b654baae",
       "version_major": 2,
       "version_minor": 0
      },
      "text/plain": [
       "  0%|          | 0/1000 [00:00<?, ?it/s]"
      ]
     },
     "metadata": {},
     "output_type": "display_data"
    },
    {
     "name": "stderr",
     "output_type": "stream",
     "text": [
      "\r",
      " 70%|██████▉   | 695/1000 [02:52<01:07,  4.51it/s]"
     ]
    },
    {
     "data": {
      "application/vnd.jupyter.widget-view+json": {
       "model_id": "d7bccfff64fb4168bd43cc1c78110937",
       "version_major": 2,
       "version_minor": 0
      },
      "text/plain": [
       "  0%|          | 0/1000 [00:00<?, ?it/s]"
      ]
     },
     "metadata": {},
     "output_type": "display_data"
    },
    {
     "name": "stderr",
     "output_type": "stream",
     "text": [
      "\r",
      " 70%|██████▉   | 696/1000 [02:53<01:06,  4.57it/s]"
     ]
    },
    {
     "data": {
      "application/vnd.jupyter.widget-view+json": {
       "model_id": "d9f80de74c594ed8bb7fb164d7baf31b",
       "version_major": 2,
       "version_minor": 0
      },
      "text/plain": [
       "  0%|          | 0/1000 [00:00<?, ?it/s]"
      ]
     },
     "metadata": {},
     "output_type": "display_data"
    },
    {
     "name": "stderr",
     "output_type": "stream",
     "text": [
      "\r",
      " 70%|██████▉   | 697/1000 [02:53<01:07,  4.47it/s]"
     ]
    },
    {
     "data": {
      "application/vnd.jupyter.widget-view+json": {
       "model_id": "60f175c9f81044b6bc01cac804b11242",
       "version_major": 2,
       "version_minor": 0
      },
      "text/plain": [
       "  0%|          | 0/1000 [00:00<?, ?it/s]"
      ]
     },
     "metadata": {},
     "output_type": "display_data"
    },
    {
     "name": "stderr",
     "output_type": "stream",
     "text": [
      "\r",
      " 70%|██████▉   | 698/1000 [02:53<01:11,  4.21it/s]"
     ]
    },
    {
     "data": {
      "application/vnd.jupyter.widget-view+json": {
       "model_id": "d4142b98ecb744fca5d8da5177086bcb",
       "version_major": 2,
       "version_minor": 0
      },
      "text/plain": [
       "  0%|          | 0/1000 [00:00<?, ?it/s]"
      ]
     },
     "metadata": {},
     "output_type": "display_data"
    },
    {
     "name": "stderr",
     "output_type": "stream",
     "text": [
      "\r",
      " 70%|██████▉   | 699/1000 [02:53<01:12,  4.13it/s]"
     ]
    },
    {
     "data": {
      "application/vnd.jupyter.widget-view+json": {
       "model_id": "0b0e89cb96f442bd80c6a1983837629b",
       "version_major": 2,
       "version_minor": 0
      },
      "text/plain": [
       "  0%|          | 0/1000 [00:00<?, ?it/s]"
      ]
     },
     "metadata": {},
     "output_type": "display_data"
    },
    {
     "name": "stderr",
     "output_type": "stream",
     "text": [
      "\r",
      " 70%|███████   | 700/1000 [02:54<01:11,  4.20it/s]"
     ]
    },
    {
     "data": {
      "application/vnd.jupyter.widget-view+json": {
       "model_id": "41132b7b4100422dbb950921cc702de0",
       "version_major": 2,
       "version_minor": 0
      },
      "text/plain": [
       "  0%|          | 0/1000 [00:00<?, ?it/s]"
      ]
     },
     "metadata": {},
     "output_type": "display_data"
    },
    {
     "name": "stderr",
     "output_type": "stream",
     "text": [
      "\r",
      " 70%|███████   | 701/1000 [02:54<01:10,  4.25it/s]"
     ]
    },
    {
     "data": {
      "application/vnd.jupyter.widget-view+json": {
       "model_id": "fbbafb4de95d4a37b43aa560869354ce",
       "version_major": 2,
       "version_minor": 0
      },
      "text/plain": [
       "  0%|          | 0/1000 [00:00<?, ?it/s]"
      ]
     },
     "metadata": {},
     "output_type": "display_data"
    },
    {
     "name": "stderr",
     "output_type": "stream",
     "text": [
      "\r",
      " 70%|███████   | 702/1000 [02:54<01:10,  4.25it/s]"
     ]
    },
    {
     "data": {
      "application/vnd.jupyter.widget-view+json": {
       "model_id": "9bca75ff922d4690a6f0d0da5e53fcd3",
       "version_major": 2,
       "version_minor": 0
      },
      "text/plain": [
       "  0%|          | 0/1000 [00:00<?, ?it/s]"
      ]
     },
     "metadata": {},
     "output_type": "display_data"
    },
    {
     "name": "stderr",
     "output_type": "stream",
     "text": [
      "\r",
      " 70%|███████   | 703/1000 [02:54<01:10,  4.23it/s]"
     ]
    },
    {
     "data": {
      "application/vnd.jupyter.widget-view+json": {
       "model_id": "b2f739b4e8654601926e78892f1e152e",
       "version_major": 2,
       "version_minor": 0
      },
      "text/plain": [
       "  0%|          | 0/1000 [00:00<?, ?it/s]"
      ]
     },
     "metadata": {},
     "output_type": "display_data"
    },
    {
     "name": "stderr",
     "output_type": "stream",
     "text": [
      "\r",
      " 70%|███████   | 704/1000 [02:55<01:11,  4.14it/s]"
     ]
    },
    {
     "data": {
      "application/vnd.jupyter.widget-view+json": {
       "model_id": "c027f92fe3144aa8a0af419142ab03d8",
       "version_major": 2,
       "version_minor": 0
      },
      "text/plain": [
       "  0%|          | 0/1000 [00:00<?, ?it/s]"
      ]
     },
     "metadata": {},
     "output_type": "display_data"
    },
    {
     "name": "stderr",
     "output_type": "stream",
     "text": [
      "\r",
      " 70%|███████   | 705/1000 [02:55<01:21,  3.61it/s]"
     ]
    },
    {
     "data": {
      "application/vnd.jupyter.widget-view+json": {
       "model_id": "6ccded630a1a4adab0328757a211ee94",
       "version_major": 2,
       "version_minor": 0
      },
      "text/plain": [
       "  0%|          | 0/1000 [00:00<?, ?it/s]"
      ]
     },
     "metadata": {},
     "output_type": "display_data"
    },
    {
     "name": "stderr",
     "output_type": "stream",
     "text": [
      "\r",
      " 71%|███████   | 706/1000 [02:55<01:21,  3.61it/s]"
     ]
    },
    {
     "data": {
      "application/vnd.jupyter.widget-view+json": {
       "model_id": "225b86d7f54d46a0827b6b931577959c",
       "version_major": 2,
       "version_minor": 0
      },
      "text/plain": [
       "  0%|          | 0/1000 [00:00<?, ?it/s]"
      ]
     },
     "metadata": {},
     "output_type": "display_data"
    },
    {
     "name": "stderr",
     "output_type": "stream",
     "text": [
      "\r",
      " 71%|███████   | 707/1000 [02:55<01:21,  3.61it/s]"
     ]
    },
    {
     "data": {
      "application/vnd.jupyter.widget-view+json": {
       "model_id": "19525229d98642198bf1e9b6427daf99",
       "version_major": 2,
       "version_minor": 0
      },
      "text/plain": [
       "  0%|          | 0/1000 [00:00<?, ?it/s]"
      ]
     },
     "metadata": {},
     "output_type": "display_data"
    },
    {
     "name": "stderr",
     "output_type": "stream",
     "text": [
      "\r",
      " 71%|███████   | 708/1000 [02:56<01:15,  3.85it/s]"
     ]
    },
    {
     "data": {
      "application/vnd.jupyter.widget-view+json": {
       "model_id": "058417a7f42a49b89c11ba4ea08a9454",
       "version_major": 2,
       "version_minor": 0
      },
      "text/plain": [
       "  0%|          | 0/1000 [00:00<?, ?it/s]"
      ]
     },
     "metadata": {},
     "output_type": "display_data"
    },
    {
     "name": "stderr",
     "output_type": "stream",
     "text": [
      "\r",
      " 71%|███████   | 709/1000 [02:56<01:12,  4.01it/s]"
     ]
    },
    {
     "data": {
      "application/vnd.jupyter.widget-view+json": {
       "model_id": "f4f0c772b72c44f398b723afd036db96",
       "version_major": 2,
       "version_minor": 0
      },
      "text/plain": [
       "  0%|          | 0/1000 [00:00<?, ?it/s]"
      ]
     },
     "metadata": {},
     "output_type": "display_data"
    },
    {
     "name": "stderr",
     "output_type": "stream",
     "text": [
      "\r",
      " 71%|███████   | 710/1000 [02:56<01:10,  4.08it/s]"
     ]
    },
    {
     "data": {
      "application/vnd.jupyter.widget-view+json": {
       "model_id": "41da4feb4a304c9f93767d8951004744",
       "version_major": 2,
       "version_minor": 0
      },
      "text/plain": [
       "  0%|          | 0/1000 [00:00<?, ?it/s]"
      ]
     },
     "metadata": {},
     "output_type": "display_data"
    },
    {
     "name": "stderr",
     "output_type": "stream",
     "text": [
      "\r",
      " 71%|███████   | 711/1000 [02:56<01:08,  4.19it/s]"
     ]
    },
    {
     "data": {
      "application/vnd.jupyter.widget-view+json": {
       "model_id": "ac76bc942c27425e8634d585c64c98e6",
       "version_major": 2,
       "version_minor": 0
      },
      "text/plain": [
       "  0%|          | 0/1000 [00:00<?, ?it/s]"
      ]
     },
     "metadata": {},
     "output_type": "display_data"
    },
    {
     "name": "stderr",
     "output_type": "stream",
     "text": [
      "\r",
      " 71%|███████   | 712/1000 [02:57<01:08,  4.23it/s]"
     ]
    },
    {
     "data": {
      "application/vnd.jupyter.widget-view+json": {
       "model_id": "0a551bc5c3e04d9896a5a29879ebb0a8",
       "version_major": 2,
       "version_minor": 0
      },
      "text/plain": [
       "  0%|          | 0/1000 [00:00<?, ?it/s]"
      ]
     },
     "metadata": {},
     "output_type": "display_data"
    },
    {
     "name": "stderr",
     "output_type": "stream",
     "text": [
      "\r",
      " 71%|███████▏  | 713/1000 [02:57<01:08,  4.20it/s]"
     ]
    },
    {
     "data": {
      "application/vnd.jupyter.widget-view+json": {
       "model_id": "e6d01733cfc74647a2736f9e82afbe25",
       "version_major": 2,
       "version_minor": 0
      },
      "text/plain": [
       "  0%|          | 0/1000 [00:00<?, ?it/s]"
      ]
     },
     "metadata": {},
     "output_type": "display_data"
    },
    {
     "name": "stderr",
     "output_type": "stream",
     "text": [
      "\r",
      " 71%|███████▏  | 714/1000 [02:57<01:11,  3.99it/s]"
     ]
    },
    {
     "data": {
      "application/vnd.jupyter.widget-view+json": {
       "model_id": "560018da910b42d89fdafec4dab51bcc",
       "version_major": 2,
       "version_minor": 0
      },
      "text/plain": [
       "  0%|          | 0/1000 [00:00<?, ?it/s]"
      ]
     },
     "metadata": {},
     "output_type": "display_data"
    },
    {
     "name": "stderr",
     "output_type": "stream",
     "text": [
      "\r",
      " 72%|███████▏  | 715/1000 [02:57<01:11,  3.97it/s]"
     ]
    },
    {
     "data": {
      "application/vnd.jupyter.widget-view+json": {
       "model_id": "d5d67cf2eed64497912ab16b4b2be6ad",
       "version_major": 2,
       "version_minor": 0
      },
      "text/plain": [
       "  0%|          | 0/1000 [00:00<?, ?it/s]"
      ]
     },
     "metadata": {},
     "output_type": "display_data"
    },
    {
     "name": "stderr",
     "output_type": "stream",
     "text": [
      "\r",
      " 72%|███████▏  | 716/1000 [02:58<01:08,  4.14it/s]"
     ]
    },
    {
     "data": {
      "application/vnd.jupyter.widget-view+json": {
       "model_id": "9386e4a18fc64c0fb2d09137091f44b7",
       "version_major": 2,
       "version_minor": 0
      },
      "text/plain": [
       "  0%|          | 0/1000 [00:00<?, ?it/s]"
      ]
     },
     "metadata": {},
     "output_type": "display_data"
    },
    {
     "name": "stderr",
     "output_type": "stream",
     "text": [
      "\r",
      " 72%|███████▏  | 717/1000 [02:58<01:06,  4.24it/s]"
     ]
    },
    {
     "data": {
      "application/vnd.jupyter.widget-view+json": {
       "model_id": "3b289ec775f4445eb803f59c4310459c",
       "version_major": 2,
       "version_minor": 0
      },
      "text/plain": [
       "  0%|          | 0/1000 [00:00<?, ?it/s]"
      ]
     },
     "metadata": {},
     "output_type": "display_data"
    },
    {
     "name": "stderr",
     "output_type": "stream",
     "text": [
      "\r",
      " 72%|███████▏  | 718/1000 [02:58<01:05,  4.33it/s]"
     ]
    },
    {
     "data": {
      "application/vnd.jupyter.widget-view+json": {
       "model_id": "c77f4c9054ab4f8e9ce37a4769fba6de",
       "version_major": 2,
       "version_minor": 0
      },
      "text/plain": [
       "  0%|          | 0/1000 [00:00<?, ?it/s]"
      ]
     },
     "metadata": {},
     "output_type": "display_data"
    },
    {
     "name": "stderr",
     "output_type": "stream",
     "text": [
      "\r",
      " 72%|███████▏  | 719/1000 [02:58<01:06,  4.20it/s]"
     ]
    },
    {
     "data": {
      "application/vnd.jupyter.widget-view+json": {
       "model_id": "5a15a6809002428fb9c61eb4e3d522f8",
       "version_major": 2,
       "version_minor": 0
      },
      "text/plain": [
       "  0%|          | 0/1000 [00:00<?, ?it/s]"
      ]
     },
     "metadata": {},
     "output_type": "display_data"
    },
    {
     "name": "stderr",
     "output_type": "stream",
     "text": [
      "\r",
      " 72%|███████▏  | 720/1000 [02:58<01:05,  4.28it/s]"
     ]
    },
    {
     "data": {
      "application/vnd.jupyter.widget-view+json": {
       "model_id": "6c10f56a4eda4795a9557af656e853c8",
       "version_major": 2,
       "version_minor": 0
      },
      "text/plain": [
       "  0%|          | 0/1000 [00:00<?, ?it/s]"
      ]
     },
     "metadata": {},
     "output_type": "display_data"
    },
    {
     "name": "stderr",
     "output_type": "stream",
     "text": [
      "\r",
      " 72%|███████▏  | 721/1000 [02:59<01:03,  4.37it/s]"
     ]
    },
    {
     "data": {
      "application/vnd.jupyter.widget-view+json": {
       "model_id": "f089f5962d3d40a3b8aff6ca6a9f120f",
       "version_major": 2,
       "version_minor": 0
      },
      "text/plain": [
       "  0%|          | 0/1000 [00:00<?, ?it/s]"
      ]
     },
     "metadata": {},
     "output_type": "display_data"
    },
    {
     "name": "stderr",
     "output_type": "stream",
     "text": [
      "\r",
      " 72%|███████▏  | 722/1000 [02:59<01:05,  4.24it/s]"
     ]
    },
    {
     "data": {
      "application/vnd.jupyter.widget-view+json": {
       "model_id": "9b6597e3e3fd44dbba41123d9679513e",
       "version_major": 2,
       "version_minor": 0
      },
      "text/plain": [
       "  0%|          | 0/1000 [00:00<?, ?it/s]"
      ]
     },
     "metadata": {},
     "output_type": "display_data"
    },
    {
     "name": "stderr",
     "output_type": "stream",
     "text": [
      "\r",
      " 72%|███████▏  | 723/1000 [02:59<01:03,  4.37it/s]"
     ]
    },
    {
     "data": {
      "application/vnd.jupyter.widget-view+json": {
       "model_id": "2a31796548a040268f0506fd07cee86f",
       "version_major": 2,
       "version_minor": 0
      },
      "text/plain": [
       "  0%|          | 0/1000 [00:00<?, ?it/s]"
      ]
     },
     "metadata": {},
     "output_type": "display_data"
    },
    {
     "name": "stderr",
     "output_type": "stream",
     "text": [
      "\r",
      " 72%|███████▏  | 724/1000 [02:59<01:03,  4.38it/s]"
     ]
    },
    {
     "data": {
      "application/vnd.jupyter.widget-view+json": {
       "model_id": "13ef9a802a4347b098070319cf5451d6",
       "version_major": 2,
       "version_minor": 0
      },
      "text/plain": [
       "  0%|          | 0/1000 [00:00<?, ?it/s]"
      ]
     },
     "metadata": {},
     "output_type": "display_data"
    },
    {
     "name": "stderr",
     "output_type": "stream",
     "text": [
      "\r",
      " 72%|███████▎  | 725/1000 [03:00<01:01,  4.45it/s]"
     ]
    },
    {
     "data": {
      "application/vnd.jupyter.widget-view+json": {
       "model_id": "7e32f59c31924fecbd48c8b19b424f78",
       "version_major": 2,
       "version_minor": 0
      },
      "text/plain": [
       "  0%|          | 0/1000 [00:00<?, ?it/s]"
      ]
     },
     "metadata": {},
     "output_type": "display_data"
    },
    {
     "name": "stderr",
     "output_type": "stream",
     "text": [
      "\r",
      " 73%|███████▎  | 726/1000 [03:00<01:03,  4.33it/s]"
     ]
    },
    {
     "data": {
      "application/vnd.jupyter.widget-view+json": {
       "model_id": "6a4df3978de44459bc1ee527b979424d",
       "version_major": 2,
       "version_minor": 0
      },
      "text/plain": [
       "  0%|          | 0/1000 [00:00<?, ?it/s]"
      ]
     },
     "metadata": {},
     "output_type": "display_data"
    },
    {
     "name": "stderr",
     "output_type": "stream",
     "text": [
      "\r",
      " 73%|███████▎  | 727/1000 [03:00<01:03,  4.33it/s]"
     ]
    },
    {
     "data": {
      "application/vnd.jupyter.widget-view+json": {
       "model_id": "7750b8ff1cc94529886dbfffb75605a4",
       "version_major": 2,
       "version_minor": 0
      },
      "text/plain": [
       "  0%|          | 0/1000 [00:00<?, ?it/s]"
      ]
     },
     "metadata": {},
     "output_type": "display_data"
    },
    {
     "name": "stderr",
     "output_type": "stream",
     "text": [
      "\r",
      " 73%|███████▎  | 728/1000 [03:00<01:02,  4.38it/s]"
     ]
    },
    {
     "data": {
      "application/vnd.jupyter.widget-view+json": {
       "model_id": "0742b7bf992443e08c010d56d2904bd3",
       "version_major": 2,
       "version_minor": 0
      },
      "text/plain": [
       "  0%|          | 0/1000 [00:00<?, ?it/s]"
      ]
     },
     "metadata": {},
     "output_type": "display_data"
    },
    {
     "name": "stderr",
     "output_type": "stream",
     "text": [
      "\r",
      " 73%|███████▎  | 729/1000 [03:01<01:03,  4.30it/s]"
     ]
    },
    {
     "data": {
      "application/vnd.jupyter.widget-view+json": {
       "model_id": "adb426c89aff454cb9a6d9d6edf57eb5",
       "version_major": 2,
       "version_minor": 0
      },
      "text/plain": [
       "  0%|          | 0/1000 [00:00<?, ?it/s]"
      ]
     },
     "metadata": {},
     "output_type": "display_data"
    },
    {
     "name": "stderr",
     "output_type": "stream",
     "text": [
      "\r",
      " 73%|███████▎  | 730/1000 [03:01<01:03,  4.25it/s]"
     ]
    },
    {
     "data": {
      "application/vnd.jupyter.widget-view+json": {
       "model_id": "be70576138534b13845c9aba0a0c2312",
       "version_major": 2,
       "version_minor": 0
      },
      "text/plain": [
       "  0%|          | 0/1000 [00:00<?, ?it/s]"
      ]
     },
     "metadata": {},
     "output_type": "display_data"
    },
    {
     "name": "stderr",
     "output_type": "stream",
     "text": [
      "\r",
      " 73%|███████▎  | 731/1000 [03:01<01:03,  4.22it/s]"
     ]
    },
    {
     "data": {
      "application/vnd.jupyter.widget-view+json": {
       "model_id": "bfd3f51bdcbc41d887e021c539560715",
       "version_major": 2,
       "version_minor": 0
      },
      "text/plain": [
       "  0%|          | 0/1000 [00:00<?, ?it/s]"
      ]
     },
     "metadata": {},
     "output_type": "display_data"
    },
    {
     "name": "stderr",
     "output_type": "stream",
     "text": [
      "\r",
      " 73%|███████▎  | 732/1000 [03:01<01:03,  4.23it/s]"
     ]
    },
    {
     "data": {
      "application/vnd.jupyter.widget-view+json": {
       "model_id": "95ec3f13aa964a4cb1513b733ee8a445",
       "version_major": 2,
       "version_minor": 0
      },
      "text/plain": [
       "  0%|          | 0/1000 [00:00<?, ?it/s]"
      ]
     },
     "metadata": {},
     "output_type": "display_data"
    },
    {
     "name": "stderr",
     "output_type": "stream",
     "text": [
      "\r",
      " 73%|███████▎  | 733/1000 [03:02<01:09,  3.86it/s]"
     ]
    },
    {
     "data": {
      "application/vnd.jupyter.widget-view+json": {
       "model_id": "821ada457473456ba88f664d4dff029f",
       "version_major": 2,
       "version_minor": 0
      },
      "text/plain": [
       "  0%|          | 0/1000 [00:00<?, ?it/s]"
      ]
     },
     "metadata": {},
     "output_type": "display_data"
    },
    {
     "name": "stderr",
     "output_type": "stream",
     "text": [
      "\r",
      " 73%|███████▎  | 734/1000 [03:02<01:06,  3.98it/s]"
     ]
    },
    {
     "data": {
      "application/vnd.jupyter.widget-view+json": {
       "model_id": "76c0c0a4a8264d0989ac0081eb0f657b",
       "version_major": 2,
       "version_minor": 0
      },
      "text/plain": [
       "  0%|          | 0/1000 [00:00<?, ?it/s]"
      ]
     },
     "metadata": {},
     "output_type": "display_data"
    },
    {
     "name": "stderr",
     "output_type": "stream",
     "text": [
      "\r",
      " 74%|███████▎  | 735/1000 [03:02<01:04,  4.10it/s]"
     ]
    },
    {
     "data": {
      "application/vnd.jupyter.widget-view+json": {
       "model_id": "c47bf1b118cc4cdb87792692c6f6be25",
       "version_major": 2,
       "version_minor": 0
      },
      "text/plain": [
       "  0%|          | 0/1000 [00:00<?, ?it/s]"
      ]
     },
     "metadata": {},
     "output_type": "display_data"
    },
    {
     "name": "stderr",
     "output_type": "stream",
     "text": [
      "\r",
      " 74%|███████▎  | 736/1000 [03:02<01:04,  4.11it/s]"
     ]
    },
    {
     "data": {
      "application/vnd.jupyter.widget-view+json": {
       "model_id": "902bc230b5a247359e85d8b5485ff582",
       "version_major": 2,
       "version_minor": 0
      },
      "text/plain": [
       "  0%|          | 0/1000 [00:00<?, ?it/s]"
      ]
     },
     "metadata": {},
     "output_type": "display_data"
    },
    {
     "name": "stderr",
     "output_type": "stream",
     "text": [
      "\r",
      " 74%|███████▎  | 737/1000 [03:03<01:02,  4.22it/s]"
     ]
    },
    {
     "data": {
      "application/vnd.jupyter.widget-view+json": {
       "model_id": "c1ae1b4f125d496dbc6312e62132e178",
       "version_major": 2,
       "version_minor": 0
      },
      "text/plain": [
       "  0%|          | 0/1000 [00:00<?, ?it/s]"
      ]
     },
     "metadata": {},
     "output_type": "display_data"
    },
    {
     "name": "stderr",
     "output_type": "stream",
     "text": [
      "\r",
      " 74%|███████▍  | 738/1000 [03:03<01:04,  4.04it/s]"
     ]
    },
    {
     "data": {
      "application/vnd.jupyter.widget-view+json": {
       "model_id": "2e40b214c7e946478bd32ac8c2115320",
       "version_major": 2,
       "version_minor": 0
      },
      "text/plain": [
       "  0%|          | 0/1000 [00:00<?, ?it/s]"
      ]
     },
     "metadata": {},
     "output_type": "display_data"
    },
    {
     "name": "stderr",
     "output_type": "stream",
     "text": [
      "\r",
      " 74%|███████▍  | 739/1000 [03:03<01:06,  3.93it/s]"
     ]
    },
    {
     "data": {
      "application/vnd.jupyter.widget-view+json": {
       "model_id": "33144b6f5588431c92a32fd6ab7b19bc",
       "version_major": 2,
       "version_minor": 0
      },
      "text/plain": [
       "  0%|          | 0/1000 [00:00<?, ?it/s]"
      ]
     },
     "metadata": {},
     "output_type": "display_data"
    },
    {
     "name": "stderr",
     "output_type": "stream",
     "text": [
      "\r",
      " 74%|███████▍  | 740/1000 [03:03<01:04,  4.06it/s]"
     ]
    },
    {
     "data": {
      "application/vnd.jupyter.widget-view+json": {
       "model_id": "2f874ab2730246adab0f607d832b16f3",
       "version_major": 2,
       "version_minor": 0
      },
      "text/plain": [
       "  0%|          | 0/1000 [00:00<?, ?it/s]"
      ]
     },
     "metadata": {},
     "output_type": "display_data"
    },
    {
     "name": "stderr",
     "output_type": "stream",
     "text": [
      "\r",
      " 74%|███████▍  | 741/1000 [03:04<01:02,  4.16it/s]"
     ]
    },
    {
     "data": {
      "application/vnd.jupyter.widget-view+json": {
       "model_id": "7b438198b03e4352b3f74133a48d36f3",
       "version_major": 2,
       "version_minor": 0
      },
      "text/plain": [
       "  0%|          | 0/1000 [00:00<?, ?it/s]"
      ]
     },
     "metadata": {},
     "output_type": "display_data"
    },
    {
     "name": "stderr",
     "output_type": "stream",
     "text": [
      "\r",
      " 74%|███████▍  | 742/1000 [03:04<00:59,  4.32it/s]"
     ]
    },
    {
     "data": {
      "application/vnd.jupyter.widget-view+json": {
       "model_id": "48ac76bf03d648e89ee76411fc1525e4",
       "version_major": 2,
       "version_minor": 0
      },
      "text/plain": [
       "  0%|          | 0/1000 [00:00<?, ?it/s]"
      ]
     },
     "metadata": {},
     "output_type": "display_data"
    },
    {
     "name": "stderr",
     "output_type": "stream",
     "text": [
      "\r",
      " 74%|███████▍  | 743/1000 [03:04<00:58,  4.37it/s]"
     ]
    },
    {
     "data": {
      "application/vnd.jupyter.widget-view+json": {
       "model_id": "e6121f487d60429d9b59dcfe8f699349",
       "version_major": 2,
       "version_minor": 0
      },
      "text/plain": [
       "  0%|          | 0/1000 [00:00<?, ?it/s]"
      ]
     },
     "metadata": {},
     "output_type": "display_data"
    },
    {
     "name": "stderr",
     "output_type": "stream",
     "text": [
      "\r",
      " 74%|███████▍  | 744/1000 [03:04<00:58,  4.36it/s]"
     ]
    },
    {
     "data": {
      "application/vnd.jupyter.widget-view+json": {
       "model_id": "a73a8c1f6d044f9099a0bb966a065c60",
       "version_major": 2,
       "version_minor": 0
      },
      "text/plain": [
       "  0%|          | 0/1000 [00:00<?, ?it/s]"
      ]
     },
     "metadata": {},
     "output_type": "display_data"
    },
    {
     "name": "stderr",
     "output_type": "stream",
     "text": [
      "\r",
      " 74%|███████▍  | 745/1000 [03:04<00:59,  4.29it/s]"
     ]
    },
    {
     "data": {
      "application/vnd.jupyter.widget-view+json": {
       "model_id": "040e0ee332d2455fa0abfda055982154",
       "version_major": 2,
       "version_minor": 0
      },
      "text/plain": [
       "  0%|          | 0/1000 [00:00<?, ?it/s]"
      ]
     },
     "metadata": {},
     "output_type": "display_data"
    },
    {
     "name": "stderr",
     "output_type": "stream",
     "text": [
      "\r",
      " 75%|███████▍  | 746/1000 [03:05<00:58,  4.36it/s]"
     ]
    },
    {
     "data": {
      "application/vnd.jupyter.widget-view+json": {
       "model_id": "20e54e586fc7497a953d5ca09708a019",
       "version_major": 2,
       "version_minor": 0
      },
      "text/plain": [
       "  0%|          | 0/1000 [00:00<?, ?it/s]"
      ]
     },
     "metadata": {},
     "output_type": "display_data"
    },
    {
     "name": "stderr",
     "output_type": "stream",
     "text": [
      "\r",
      " 75%|███████▍  | 747/1000 [03:05<00:59,  4.23it/s]"
     ]
    },
    {
     "data": {
      "application/vnd.jupyter.widget-view+json": {
       "model_id": "7d472e14435b4a29bee468c78895b5a6",
       "version_major": 2,
       "version_minor": 0
      },
      "text/plain": [
       "  0%|          | 0/1000 [00:00<?, ?it/s]"
      ]
     },
     "metadata": {},
     "output_type": "display_data"
    },
    {
     "name": "stderr",
     "output_type": "stream",
     "text": [
      "\r",
      " 75%|███████▍  | 748/1000 [03:05<00:58,  4.34it/s]"
     ]
    },
    {
     "data": {
      "application/vnd.jupyter.widget-view+json": {
       "model_id": "6b32d2f017a64271a53ce2dbda4f2669",
       "version_major": 2,
       "version_minor": 0
      },
      "text/plain": [
       "  0%|          | 0/1000 [00:00<?, ?it/s]"
      ]
     },
     "metadata": {},
     "output_type": "display_data"
    },
    {
     "name": "stderr",
     "output_type": "stream",
     "text": [
      "\r",
      " 75%|███████▍  | 749/1000 [03:05<00:57,  4.38it/s]"
     ]
    },
    {
     "data": {
      "application/vnd.jupyter.widget-view+json": {
       "model_id": "e904005b5e2848e3bafa7ec273c226f6",
       "version_major": 2,
       "version_minor": 0
      },
      "text/plain": [
       "  0%|          | 0/1000 [00:00<?, ?it/s]"
      ]
     },
     "metadata": {},
     "output_type": "display_data"
    },
    {
     "name": "stderr",
     "output_type": "stream",
     "text": [
      "\r",
      " 75%|███████▌  | 750/1000 [03:06<00:57,  4.31it/s]"
     ]
    },
    {
     "data": {
      "application/vnd.jupyter.widget-view+json": {
       "model_id": "a2096fff9aa34d37a95f035d72281deb",
       "version_major": 2,
       "version_minor": 0
      },
      "text/plain": [
       "  0%|          | 0/1000 [00:00<?, ?it/s]"
      ]
     },
     "metadata": {},
     "output_type": "display_data"
    },
    {
     "name": "stderr",
     "output_type": "stream",
     "text": [
      "\r",
      " 75%|███████▌  | 751/1000 [03:06<01:01,  4.08it/s]"
     ]
    },
    {
     "data": {
      "application/vnd.jupyter.widget-view+json": {
       "model_id": "61fa0c5a176b4f91b343580c92c5e03a",
       "version_major": 2,
       "version_minor": 0
      },
      "text/plain": [
       "  0%|          | 0/1000 [00:00<?, ?it/s]"
      ]
     },
     "metadata": {},
     "output_type": "display_data"
    },
    {
     "name": "stderr",
     "output_type": "stream",
     "text": [
      "\r",
      " 75%|███████▌  | 752/1000 [03:06<01:05,  3.80it/s]"
     ]
    },
    {
     "data": {
      "application/vnd.jupyter.widget-view+json": {
       "model_id": "ea0ac84a5d81442f994ecd7452ddc932",
       "version_major": 2,
       "version_minor": 0
      },
      "text/plain": [
       "  0%|          | 0/1000 [00:00<?, ?it/s]"
      ]
     },
     "metadata": {},
     "output_type": "display_data"
    },
    {
     "name": "stderr",
     "output_type": "stream",
     "text": [
      "\r",
      " 75%|███████▌  | 753/1000 [03:06<01:07,  3.68it/s]"
     ]
    },
    {
     "data": {
      "application/vnd.jupyter.widget-view+json": {
       "model_id": "650845d0f97c430c88af072c5304bfa1",
       "version_major": 2,
       "version_minor": 0
      },
      "text/plain": [
       "  0%|          | 0/1000 [00:00<?, ?it/s]"
      ]
     },
     "metadata": {},
     "output_type": "display_data"
    },
    {
     "name": "stderr",
     "output_type": "stream",
     "text": [
      "\r",
      " 75%|███████▌  | 754/1000 [03:07<01:07,  3.63it/s]"
     ]
    },
    {
     "data": {
      "application/vnd.jupyter.widget-view+json": {
       "model_id": "cf561e9ff34946e291ab5324800b2c1c",
       "version_major": 2,
       "version_minor": 0
      },
      "text/plain": [
       "  0%|          | 0/1000 [00:00<?, ?it/s]"
      ]
     },
     "metadata": {},
     "output_type": "display_data"
    },
    {
     "name": "stderr",
     "output_type": "stream",
     "text": [
      "\r",
      " 76%|███████▌  | 755/1000 [03:07<01:06,  3.69it/s]"
     ]
    },
    {
     "data": {
      "application/vnd.jupyter.widget-view+json": {
       "model_id": "23313ff424b14607b5a636b5ce82e044",
       "version_major": 2,
       "version_minor": 0
      },
      "text/plain": [
       "  0%|          | 0/1000 [00:00<?, ?it/s]"
      ]
     },
     "metadata": {},
     "output_type": "display_data"
    },
    {
     "name": "stderr",
     "output_type": "stream",
     "text": [
      "\r",
      " 76%|███████▌  | 756/1000 [03:07<01:03,  3.82it/s]"
     ]
    },
    {
     "data": {
      "application/vnd.jupyter.widget-view+json": {
       "model_id": "4ae2be5b33474941b7f15e331481c06a",
       "version_major": 2,
       "version_minor": 0
      },
      "text/plain": [
       "  0%|          | 0/1000 [00:00<?, ?it/s]"
      ]
     },
     "metadata": {},
     "output_type": "display_data"
    },
    {
     "name": "stderr",
     "output_type": "stream",
     "text": [
      "\r",
      " 76%|███████▌  | 757/1000 [03:07<01:03,  3.81it/s]"
     ]
    },
    {
     "data": {
      "application/vnd.jupyter.widget-view+json": {
       "model_id": "d8f60c394ac14c55a4e0130a77862bda",
       "version_major": 2,
       "version_minor": 0
      },
      "text/plain": [
       "  0%|          | 0/1000 [00:00<?, ?it/s]"
      ]
     },
     "metadata": {},
     "output_type": "display_data"
    },
    {
     "name": "stderr",
     "output_type": "stream",
     "text": [
      "\r",
      " 76%|███████▌  | 758/1000 [03:08<01:04,  3.78it/s]"
     ]
    },
    {
     "data": {
      "application/vnd.jupyter.widget-view+json": {
       "model_id": "917d059c9a3f4e0896cc267fbb68c8a3",
       "version_major": 2,
       "version_minor": 0
      },
      "text/plain": [
       "  0%|          | 0/1000 [00:00<?, ?it/s]"
      ]
     },
     "metadata": {},
     "output_type": "display_data"
    },
    {
     "name": "stderr",
     "output_type": "stream",
     "text": [
      "\r",
      " 76%|███████▌  | 759/1000 [03:08<01:00,  3.97it/s]"
     ]
    },
    {
     "data": {
      "application/vnd.jupyter.widget-view+json": {
       "model_id": "bd6220896bb54492b81aef9c97353f9b",
       "version_major": 2,
       "version_minor": 0
      },
      "text/plain": [
       "  0%|          | 0/1000 [00:00<?, ?it/s]"
      ]
     },
     "metadata": {},
     "output_type": "display_data"
    },
    {
     "name": "stderr",
     "output_type": "stream",
     "text": [
      "\r",
      " 76%|███████▌  | 760/1000 [03:08<01:00,  3.97it/s]"
     ]
    },
    {
     "data": {
      "application/vnd.jupyter.widget-view+json": {
       "model_id": "985466bc339742efa979d2a47fe037bb",
       "version_major": 2,
       "version_minor": 0
      },
      "text/plain": [
       "  0%|          | 0/1000 [00:00<?, ?it/s]"
      ]
     },
     "metadata": {},
     "output_type": "display_data"
    },
    {
     "name": "stderr",
     "output_type": "stream",
     "text": [
      "\r",
      " 76%|███████▌  | 761/1000 [03:08<00:59,  4.04it/s]"
     ]
    },
    {
     "data": {
      "application/vnd.jupyter.widget-view+json": {
       "model_id": "93549d1064dc40cdae2338d0a71adfd6",
       "version_major": 2,
       "version_minor": 0
      },
      "text/plain": [
       "  0%|          | 0/1000 [00:00<?, ?it/s]"
      ]
     },
     "metadata": {},
     "output_type": "display_data"
    },
    {
     "name": "stderr",
     "output_type": "stream",
     "text": [
      "\r",
      " 76%|███████▌  | 762/1000 [03:09<00:59,  4.03it/s]"
     ]
    },
    {
     "data": {
      "application/vnd.jupyter.widget-view+json": {
       "model_id": "c63e43a7500f42339e05d33a6463e23b",
       "version_major": 2,
       "version_minor": 0
      },
      "text/plain": [
       "  0%|          | 0/1000 [00:00<?, ?it/s]"
      ]
     },
     "metadata": {},
     "output_type": "display_data"
    },
    {
     "name": "stderr",
     "output_type": "stream",
     "text": [
      "\r",
      " 76%|███████▋  | 763/1000 [03:09<01:01,  3.84it/s]"
     ]
    },
    {
     "data": {
      "application/vnd.jupyter.widget-view+json": {
       "model_id": "86e68ea9594b49c8b809ec19122a49a1",
       "version_major": 2,
       "version_minor": 0
      },
      "text/plain": [
       "  0%|          | 0/1000 [00:00<?, ?it/s]"
      ]
     },
     "metadata": {},
     "output_type": "display_data"
    },
    {
     "name": "stderr",
     "output_type": "stream",
     "text": [
      "\r",
      " 76%|███████▋  | 764/1000 [03:09<01:00,  3.93it/s]"
     ]
    },
    {
     "data": {
      "application/vnd.jupyter.widget-view+json": {
       "model_id": "56f7bc4404b24fd687fc29ec0481618a",
       "version_major": 2,
       "version_minor": 0
      },
      "text/plain": [
       "  0%|          | 0/1000 [00:00<?, ?it/s]"
      ]
     },
     "metadata": {},
     "output_type": "display_data"
    },
    {
     "name": "stderr",
     "output_type": "stream",
     "text": [
      "\r",
      " 76%|███████▋  | 765/1000 [03:09<00:57,  4.11it/s]"
     ]
    },
    {
     "data": {
      "application/vnd.jupyter.widget-view+json": {
       "model_id": "19af047d63f4479abe5648ccb1b6a1a7",
       "version_major": 2,
       "version_minor": 0
      },
      "text/plain": [
       "  0%|          | 0/1000 [00:00<?, ?it/s]"
      ]
     },
     "metadata": {},
     "output_type": "display_data"
    },
    {
     "name": "stderr",
     "output_type": "stream",
     "text": [
      "\r",
      " 77%|███████▋  | 766/1000 [03:10<00:58,  3.99it/s]"
     ]
    },
    {
     "data": {
      "application/vnd.jupyter.widget-view+json": {
       "model_id": "a810ddbcae814aa588b8aeb4f5e70327",
       "version_major": 2,
       "version_minor": 0
      },
      "text/plain": [
       "  0%|          | 0/1000 [00:00<?, ?it/s]"
      ]
     },
     "metadata": {},
     "output_type": "display_data"
    },
    {
     "name": "stderr",
     "output_type": "stream",
     "text": [
      "\r",
      " 77%|███████▋  | 767/1000 [03:10<00:56,  4.10it/s]"
     ]
    },
    {
     "data": {
      "application/vnd.jupyter.widget-view+json": {
       "model_id": "9e17d0242e404c59be268c0d36733f1f",
       "version_major": 2,
       "version_minor": 0
      },
      "text/plain": [
       "  0%|          | 0/1000 [00:00<?, ?it/s]"
      ]
     },
     "metadata": {},
     "output_type": "display_data"
    },
    {
     "name": "stderr",
     "output_type": "stream",
     "text": [
      "\r",
      " 77%|███████▋  | 768/1000 [03:10<00:56,  4.08it/s]"
     ]
    },
    {
     "data": {
      "application/vnd.jupyter.widget-view+json": {
       "model_id": "698853db9b954233a5551d7481d8521a",
       "version_major": 2,
       "version_minor": 0
      },
      "text/plain": [
       "  0%|          | 0/1000 [00:00<?, ?it/s]"
      ]
     },
     "metadata": {},
     "output_type": "display_data"
    },
    {
     "name": "stderr",
     "output_type": "stream",
     "text": [
      "\r",
      " 77%|███████▋  | 769/1000 [03:11<01:12,  3.20it/s]"
     ]
    },
    {
     "data": {
      "application/vnd.jupyter.widget-view+json": {
       "model_id": "6bf0be9baa884784a7bc172c4ecda4f6",
       "version_major": 2,
       "version_minor": 0
      },
      "text/plain": [
       "  0%|          | 0/1000 [00:00<?, ?it/s]"
      ]
     },
     "metadata": {},
     "output_type": "display_data"
    },
    {
     "name": "stderr",
     "output_type": "stream",
     "text": [
      "\r",
      " 77%|███████▋  | 770/1000 [03:11<01:10,  3.26it/s]"
     ]
    },
    {
     "data": {
      "application/vnd.jupyter.widget-view+json": {
       "model_id": "08341de2f22b433f9cc53de0c5434d07",
       "version_major": 2,
       "version_minor": 0
      },
      "text/plain": [
       "  0%|          | 0/1000 [00:00<?, ?it/s]"
      ]
     },
     "metadata": {},
     "output_type": "display_data"
    },
    {
     "name": "stderr",
     "output_type": "stream",
     "text": [
      "\r",
      " 77%|███████▋  | 771/1000 [03:11<01:06,  3.45it/s]"
     ]
    },
    {
     "data": {
      "application/vnd.jupyter.widget-view+json": {
       "model_id": "5395e9d8ebcb4e3ca638713f6712218b",
       "version_major": 2,
       "version_minor": 0
      },
      "text/plain": [
       "  0%|          | 0/1000 [00:00<?, ?it/s]"
      ]
     },
     "metadata": {},
     "output_type": "display_data"
    },
    {
     "name": "stderr",
     "output_type": "stream",
     "text": [
      "\r",
      " 77%|███████▋  | 772/1000 [03:11<01:01,  3.71it/s]"
     ]
    },
    {
     "data": {
      "application/vnd.jupyter.widget-view+json": {
       "model_id": "8c7c31d43bc8486a8965049c41a9ab04",
       "version_major": 2,
       "version_minor": 0
      },
      "text/plain": [
       "  0%|          | 0/1000 [00:00<?, ?it/s]"
      ]
     },
     "metadata": {},
     "output_type": "display_data"
    },
    {
     "name": "stderr",
     "output_type": "stream",
     "text": [
      "\r",
      " 77%|███████▋  | 773/1000 [03:12<00:59,  3.79it/s]"
     ]
    },
    {
     "data": {
      "application/vnd.jupyter.widget-view+json": {
       "model_id": "3aa44df09dcc4e94afd55e89d9e5b369",
       "version_major": 2,
       "version_minor": 0
      },
      "text/plain": [
       "  0%|          | 0/1000 [00:00<?, ?it/s]"
      ]
     },
     "metadata": {},
     "output_type": "display_data"
    },
    {
     "name": "stderr",
     "output_type": "stream",
     "text": [
      "\r",
      " 77%|███████▋  | 774/1000 [03:12<00:58,  3.85it/s]"
     ]
    },
    {
     "data": {
      "application/vnd.jupyter.widget-view+json": {
       "model_id": "98ffa0ccf47b4c258398ec3cc4b7b904",
       "version_major": 2,
       "version_minor": 0
      },
      "text/plain": [
       "  0%|          | 0/1000 [00:00<?, ?it/s]"
      ]
     },
     "metadata": {},
     "output_type": "display_data"
    },
    {
     "name": "stderr",
     "output_type": "stream",
     "text": [
      "\r",
      " 78%|███████▊  | 775/1000 [03:12<01:01,  3.65it/s]"
     ]
    },
    {
     "data": {
      "application/vnd.jupyter.widget-view+json": {
       "model_id": "4a5392477d014c93bed0021340b0658a",
       "version_major": 2,
       "version_minor": 0
      },
      "text/plain": [
       "  0%|          | 0/1000 [00:00<?, ?it/s]"
      ]
     },
     "metadata": {},
     "output_type": "display_data"
    },
    {
     "name": "stderr",
     "output_type": "stream",
     "text": [
      "\r",
      " 78%|███████▊  | 776/1000 [03:13<01:03,  3.50it/s]"
     ]
    },
    {
     "data": {
      "application/vnd.jupyter.widget-view+json": {
       "model_id": "1a9acec474954fd3be4a0c31742b6bf5",
       "version_major": 2,
       "version_minor": 0
      },
      "text/plain": [
       "  0%|          | 0/1000 [00:00<?, ?it/s]"
      ]
     },
     "metadata": {},
     "output_type": "display_data"
    },
    {
     "name": "stderr",
     "output_type": "stream",
     "text": [
      "\r",
      " 78%|███████▊  | 777/1000 [03:13<00:59,  3.72it/s]"
     ]
    },
    {
     "data": {
      "application/vnd.jupyter.widget-view+json": {
       "model_id": "1ebe5ac2dfc34d9094096447eb953d1e",
       "version_major": 2,
       "version_minor": 0
      },
      "text/plain": [
       "  0%|          | 0/1000 [00:00<?, ?it/s]"
      ]
     },
     "metadata": {},
     "output_type": "display_data"
    },
    {
     "name": "stderr",
     "output_type": "stream",
     "text": [
      "\r",
      " 78%|███████▊  | 778/1000 [03:13<00:58,  3.80it/s]"
     ]
    },
    {
     "data": {
      "application/vnd.jupyter.widget-view+json": {
       "model_id": "194897da73e049ceab0876a54d83ede3",
       "version_major": 2,
       "version_minor": 0
      },
      "text/plain": [
       "  0%|          | 0/1000 [00:00<?, ?it/s]"
      ]
     },
     "metadata": {},
     "output_type": "display_data"
    },
    {
     "name": "stderr",
     "output_type": "stream",
     "text": [
      "\r",
      " 78%|███████▊  | 779/1000 [03:13<00:55,  3.96it/s]"
     ]
    },
    {
     "data": {
      "application/vnd.jupyter.widget-view+json": {
       "model_id": "e8cc644d803a49f8845d29f00d394c03",
       "version_major": 2,
       "version_minor": 0
      },
      "text/plain": [
       "  0%|          | 0/1000 [00:00<?, ?it/s]"
      ]
     },
     "metadata": {},
     "output_type": "display_data"
    },
    {
     "name": "stderr",
     "output_type": "stream",
     "text": [
      "\r",
      " 78%|███████▊  | 780/1000 [03:14<00:57,  3.80it/s]"
     ]
    },
    {
     "data": {
      "application/vnd.jupyter.widget-view+json": {
       "model_id": "10b91f5f6c114d108da6f19981f9862e",
       "version_major": 2,
       "version_minor": 0
      },
      "text/plain": [
       "  0%|          | 0/1000 [00:00<?, ?it/s]"
      ]
     },
     "metadata": {},
     "output_type": "display_data"
    },
    {
     "name": "stderr",
     "output_type": "stream",
     "text": [
      "\r",
      " 78%|███████▊  | 781/1000 [03:14<01:00,  3.64it/s]"
     ]
    },
    {
     "data": {
      "application/vnd.jupyter.widget-view+json": {
       "model_id": "26f5e9e08b5840e19485dda86de85f70",
       "version_major": 2,
       "version_minor": 0
      },
      "text/plain": [
       "  0%|          | 0/1000 [00:00<?, ?it/s]"
      ]
     },
     "metadata": {},
     "output_type": "display_data"
    },
    {
     "name": "stderr",
     "output_type": "stream",
     "text": [
      "\r",
      " 78%|███████▊  | 782/1000 [03:14<01:04,  3.40it/s]"
     ]
    },
    {
     "data": {
      "application/vnd.jupyter.widget-view+json": {
       "model_id": "62ed95b05476474bb91564e0aa2f26f9",
       "version_major": 2,
       "version_minor": 0
      },
      "text/plain": [
       "  0%|          | 0/1000 [00:00<?, ?it/s]"
      ]
     },
     "metadata": {},
     "output_type": "display_data"
    },
    {
     "name": "stderr",
     "output_type": "stream",
     "text": [
      "\r",
      " 78%|███████▊  | 783/1000 [03:15<01:05,  3.33it/s]"
     ]
    },
    {
     "data": {
      "application/vnd.jupyter.widget-view+json": {
       "model_id": "efe07c57aacc4099b022e779c4ddc829",
       "version_major": 2,
       "version_minor": 0
      },
      "text/plain": [
       "  0%|          | 0/1000 [00:00<?, ?it/s]"
      ]
     },
     "metadata": {},
     "output_type": "display_data"
    },
    {
     "name": "stderr",
     "output_type": "stream",
     "text": [
      "\r",
      " 78%|███████▊  | 784/1000 [03:15<01:00,  3.56it/s]"
     ]
    },
    {
     "data": {
      "application/vnd.jupyter.widget-view+json": {
       "model_id": "f21c02399da744f7a1c888da85276233",
       "version_major": 2,
       "version_minor": 0
      },
      "text/plain": [
       "  0%|          | 0/1000 [00:00<?, ?it/s]"
      ]
     },
     "metadata": {},
     "output_type": "display_data"
    },
    {
     "name": "stderr",
     "output_type": "stream",
     "text": [
      "\r",
      " 78%|███████▊  | 785/1000 [03:15<00:57,  3.73it/s]"
     ]
    },
    {
     "data": {
      "application/vnd.jupyter.widget-view+json": {
       "model_id": "04f28acd8371463383e97552f0a37a2d",
       "version_major": 2,
       "version_minor": 0
      },
      "text/plain": [
       "  0%|          | 0/1000 [00:00<?, ?it/s]"
      ]
     },
     "metadata": {},
     "output_type": "display_data"
    },
    {
     "name": "stderr",
     "output_type": "stream",
     "text": [
      "\r",
      " 79%|███████▊  | 786/1000 [03:15<00:54,  3.95it/s]"
     ]
    },
    {
     "data": {
      "application/vnd.jupyter.widget-view+json": {
       "model_id": "75d35590333c4ed4840ffb669ccaa4c3",
       "version_major": 2,
       "version_minor": 0
      },
      "text/plain": [
       "  0%|          | 0/1000 [00:00<?, ?it/s]"
      ]
     },
     "metadata": {},
     "output_type": "display_data"
    },
    {
     "name": "stderr",
     "output_type": "stream",
     "text": [
      "\r",
      " 79%|███████▊  | 787/1000 [03:15<00:51,  4.17it/s]"
     ]
    },
    {
     "data": {
      "application/vnd.jupyter.widget-view+json": {
       "model_id": "a1cd526c8deb4070bf81db32bbd8be5f",
       "version_major": 2,
       "version_minor": 0
      },
      "text/plain": [
       "  0%|          | 0/1000 [00:00<?, ?it/s]"
      ]
     },
     "metadata": {},
     "output_type": "display_data"
    },
    {
     "name": "stderr",
     "output_type": "stream",
     "text": [
      "\r",
      " 79%|███████▉  | 788/1000 [03:16<00:49,  4.30it/s]"
     ]
    },
    {
     "data": {
      "application/vnd.jupyter.widget-view+json": {
       "model_id": "91676236520d4cc9b0fb20d1189ac5b3",
       "version_major": 2,
       "version_minor": 0
      },
      "text/plain": [
       "  0%|          | 0/1000 [00:00<?, ?it/s]"
      ]
     },
     "metadata": {},
     "output_type": "display_data"
    },
    {
     "name": "stderr",
     "output_type": "stream",
     "text": [
      "\r",
      " 79%|███████▉  | 789/1000 [03:16<00:48,  4.39it/s]"
     ]
    },
    {
     "data": {
      "application/vnd.jupyter.widget-view+json": {
       "model_id": "6e2b467fd8eb4ca0a4c640c16e4b13f3",
       "version_major": 2,
       "version_minor": 0
      },
      "text/plain": [
       "  0%|          | 0/1000 [00:00<?, ?it/s]"
      ]
     },
     "metadata": {},
     "output_type": "display_data"
    },
    {
     "name": "stderr",
     "output_type": "stream",
     "text": [
      "\r",
      " 79%|███████▉  | 790/1000 [03:16<00:47,  4.42it/s]"
     ]
    },
    {
     "data": {
      "application/vnd.jupyter.widget-view+json": {
       "model_id": "d87384ed8999406b948f4d0fd3c85940",
       "version_major": 2,
       "version_minor": 0
      },
      "text/plain": [
       "  0%|          | 0/1000 [00:00<?, ?it/s]"
      ]
     },
     "metadata": {},
     "output_type": "display_data"
    },
    {
     "name": "stderr",
     "output_type": "stream",
     "text": [
      "\r",
      " 79%|███████▉  | 791/1000 [03:16<00:48,  4.33it/s]"
     ]
    },
    {
     "data": {
      "application/vnd.jupyter.widget-view+json": {
       "model_id": "6e59466d5224485db49425052b511490",
       "version_major": 2,
       "version_minor": 0
      },
      "text/plain": [
       "  0%|          | 0/1000 [00:00<?, ?it/s]"
      ]
     },
     "metadata": {},
     "output_type": "display_data"
    },
    {
     "name": "stderr",
     "output_type": "stream",
     "text": [
      "\r",
      " 79%|███████▉  | 792/1000 [03:17<00:47,  4.37it/s]"
     ]
    },
    {
     "data": {
      "application/vnd.jupyter.widget-view+json": {
       "model_id": "2c6366d4ad7d4d148f687ebbf412be1b",
       "version_major": 2,
       "version_minor": 0
      },
      "text/plain": [
       "  0%|          | 0/1000 [00:00<?, ?it/s]"
      ]
     },
     "metadata": {},
     "output_type": "display_data"
    },
    {
     "name": "stderr",
     "output_type": "stream",
     "text": [
      "\r",
      " 79%|███████▉  | 793/1000 [03:17<00:48,  4.25it/s]"
     ]
    },
    {
     "data": {
      "application/vnd.jupyter.widget-view+json": {
       "model_id": "6e2fd4c02e004993b0ee41e86e550f84",
       "version_major": 2,
       "version_minor": 0
      },
      "text/plain": [
       "  0%|          | 0/1000 [00:00<?, ?it/s]"
      ]
     },
     "metadata": {},
     "output_type": "display_data"
    },
    {
     "name": "stderr",
     "output_type": "stream",
     "text": [
      "\r",
      " 79%|███████▉  | 794/1000 [03:17<00:49,  4.18it/s]"
     ]
    },
    {
     "data": {
      "application/vnd.jupyter.widget-view+json": {
       "model_id": "d8eaa44dd0814a7cb97c4e0a4ffe8009",
       "version_major": 2,
       "version_minor": 0
      },
      "text/plain": [
       "  0%|          | 0/1000 [00:00<?, ?it/s]"
      ]
     },
     "metadata": {},
     "output_type": "display_data"
    },
    {
     "name": "stderr",
     "output_type": "stream",
     "text": [
      "\r",
      " 80%|███████▉  | 795/1000 [03:17<00:49,  4.15it/s]"
     ]
    },
    {
     "data": {
      "application/vnd.jupyter.widget-view+json": {
       "model_id": "90480c8d4de64ec5927f28f69025420b",
       "version_major": 2,
       "version_minor": 0
      },
      "text/plain": [
       "  0%|          | 0/1000 [00:00<?, ?it/s]"
      ]
     },
     "metadata": {},
     "output_type": "display_data"
    },
    {
     "name": "stderr",
     "output_type": "stream",
     "text": [
      "\r",
      " 80%|███████▉  | 796/1000 [03:18<00:55,  3.69it/s]"
     ]
    },
    {
     "data": {
      "application/vnd.jupyter.widget-view+json": {
       "model_id": "483ceb314fb04506b8385e1794851404",
       "version_major": 2,
       "version_minor": 0
      },
      "text/plain": [
       "  0%|          | 0/1000 [00:00<?, ?it/s]"
      ]
     },
     "metadata": {},
     "output_type": "display_data"
    },
    {
     "name": "stderr",
     "output_type": "stream",
     "text": [
      "\r",
      " 80%|███████▉  | 797/1000 [03:18<00:54,  3.70it/s]"
     ]
    },
    {
     "data": {
      "application/vnd.jupyter.widget-view+json": {
       "model_id": "abe15a506ce2480f8160d782de082876",
       "version_major": 2,
       "version_minor": 0
      },
      "text/plain": [
       "  0%|          | 0/1000 [00:00<?, ?it/s]"
      ]
     },
     "metadata": {},
     "output_type": "display_data"
    },
    {
     "name": "stderr",
     "output_type": "stream",
     "text": [
      "\r",
      " 80%|███████▉  | 798/1000 [03:18<00:52,  3.81it/s]"
     ]
    },
    {
     "data": {
      "application/vnd.jupyter.widget-view+json": {
       "model_id": "0f22d3b8ae2b4af9a33a37020a67428e",
       "version_major": 2,
       "version_minor": 0
      },
      "text/plain": [
       "  0%|          | 0/1000 [00:00<?, ?it/s]"
      ]
     },
     "metadata": {},
     "output_type": "display_data"
    },
    {
     "name": "stderr",
     "output_type": "stream",
     "text": [
      "\r",
      " 80%|███████▉  | 799/1000 [03:19<01:01,  3.27it/s]"
     ]
    },
    {
     "data": {
      "application/vnd.jupyter.widget-view+json": {
       "model_id": "6dc370b0508747278b073dfc1734128c",
       "version_major": 2,
       "version_minor": 0
      },
      "text/plain": [
       "  0%|          | 0/1000 [00:00<?, ?it/s]"
      ]
     },
     "metadata": {},
     "output_type": "display_data"
    },
    {
     "name": "stderr",
     "output_type": "stream",
     "text": [
      "\r",
      " 80%|████████  | 800/1000 [03:19<00:57,  3.49it/s]"
     ]
    },
    {
     "data": {
      "application/vnd.jupyter.widget-view+json": {
       "model_id": "ffe59916322f4880b62099d81a214965",
       "version_major": 2,
       "version_minor": 0
      },
      "text/plain": [
       "  0%|          | 0/1000 [00:00<?, ?it/s]"
      ]
     },
     "metadata": {},
     "output_type": "display_data"
    },
    {
     "name": "stderr",
     "output_type": "stream",
     "text": [
      "\r",
      " 80%|████████  | 801/1000 [03:19<00:53,  3.70it/s]"
     ]
    },
    {
     "data": {
      "application/vnd.jupyter.widget-view+json": {
       "model_id": "ec4c7ade13dc4e0e88d2f984950984c3",
       "version_major": 2,
       "version_minor": 0
      },
      "text/plain": [
       "  0%|          | 0/1000 [00:00<?, ?it/s]"
      ]
     },
     "metadata": {},
     "output_type": "display_data"
    },
    {
     "name": "stderr",
     "output_type": "stream",
     "text": [
      "\r",
      " 80%|████████  | 802/1000 [03:19<00:50,  3.89it/s]"
     ]
    },
    {
     "data": {
      "application/vnd.jupyter.widget-view+json": {
       "model_id": "55d5a49a6aba42a3b7831aa1e8cb1b6f",
       "version_major": 2,
       "version_minor": 0
      },
      "text/plain": [
       "  0%|          | 0/1000 [00:00<?, ?it/s]"
      ]
     },
     "metadata": {},
     "output_type": "display_data"
    },
    {
     "name": "stderr",
     "output_type": "stream",
     "text": [
      "\r",
      " 80%|████████  | 803/1000 [03:19<00:48,  4.08it/s]"
     ]
    },
    {
     "data": {
      "application/vnd.jupyter.widget-view+json": {
       "model_id": "cd3263c265e047f1970a37eacef699e5",
       "version_major": 2,
       "version_minor": 0
      },
      "text/plain": [
       "  0%|          | 0/1000 [00:00<?, ?it/s]"
      ]
     },
     "metadata": {},
     "output_type": "display_data"
    },
    {
     "name": "stderr",
     "output_type": "stream",
     "text": [
      "\r",
      " 80%|████████  | 804/1000 [03:20<00:46,  4.22it/s]"
     ]
    },
    {
     "data": {
      "application/vnd.jupyter.widget-view+json": {
       "model_id": "074b230adc30432b817f0137ce1cfdf5",
       "version_major": 2,
       "version_minor": 0
      },
      "text/plain": [
       "  0%|          | 0/1000 [00:00<?, ?it/s]"
      ]
     },
     "metadata": {},
     "output_type": "display_data"
    },
    {
     "name": "stderr",
     "output_type": "stream",
     "text": [
      "\r",
      " 80%|████████  | 805/1000 [03:20<00:45,  4.29it/s]"
     ]
    },
    {
     "data": {
      "application/vnd.jupyter.widget-view+json": {
       "model_id": "81ff27fafeea4e7d97eb8f4d4655d8da",
       "version_major": 2,
       "version_minor": 0
      },
      "text/plain": [
       "  0%|          | 0/1000 [00:00<?, ?it/s]"
      ]
     },
     "metadata": {},
     "output_type": "display_data"
    },
    {
     "name": "stderr",
     "output_type": "stream",
     "text": [
      "\r",
      " 81%|████████  | 806/1000 [03:20<00:45,  4.31it/s]"
     ]
    },
    {
     "data": {
      "application/vnd.jupyter.widget-view+json": {
       "model_id": "ece738e44c1941409cca3f892ea38c10",
       "version_major": 2,
       "version_minor": 0
      },
      "text/plain": [
       "  0%|          | 0/1000 [00:00<?, ?it/s]"
      ]
     },
     "metadata": {},
     "output_type": "display_data"
    },
    {
     "name": "stderr",
     "output_type": "stream",
     "text": [
      "\r",
      " 81%|████████  | 807/1000 [03:20<00:46,  4.12it/s]"
     ]
    },
    {
     "data": {
      "application/vnd.jupyter.widget-view+json": {
       "model_id": "1197247cfaa8419d854ea992034eb247",
       "version_major": 2,
       "version_minor": 0
      },
      "text/plain": [
       "  0%|          | 0/1000 [00:00<?, ?it/s]"
      ]
     },
     "metadata": {},
     "output_type": "display_data"
    },
    {
     "name": "stderr",
     "output_type": "stream",
     "text": [
      "\r",
      " 81%|████████  | 808/1000 [03:21<00:46,  4.17it/s]"
     ]
    },
    {
     "data": {
      "application/vnd.jupyter.widget-view+json": {
       "model_id": "7e267b32b98946d89b2a6d5a714f57e0",
       "version_major": 2,
       "version_minor": 0
      },
      "text/plain": [
       "  0%|          | 0/1000 [00:00<?, ?it/s]"
      ]
     },
     "metadata": {},
     "output_type": "display_data"
    },
    {
     "name": "stderr",
     "output_type": "stream",
     "text": [
      "\r",
      " 81%|████████  | 809/1000 [03:21<00:44,  4.28it/s]"
     ]
    },
    {
     "data": {
      "application/vnd.jupyter.widget-view+json": {
       "model_id": "6fd250b5bd264690a93698a382f88cb7",
       "version_major": 2,
       "version_minor": 0
      },
      "text/plain": [
       "  0%|          | 0/1000 [00:00<?, ?it/s]"
      ]
     },
     "metadata": {},
     "output_type": "display_data"
    },
    {
     "name": "stderr",
     "output_type": "stream",
     "text": [
      "\r",
      " 81%|████████  | 810/1000 [03:21<00:44,  4.27it/s]"
     ]
    },
    {
     "data": {
      "application/vnd.jupyter.widget-view+json": {
       "model_id": "eabe00c52b484891aa6ee8ce658e7dba",
       "version_major": 2,
       "version_minor": 0
      },
      "text/plain": [
       "  0%|          | 0/1000 [00:00<?, ?it/s]"
      ]
     },
     "metadata": {},
     "output_type": "display_data"
    },
    {
     "name": "stderr",
     "output_type": "stream",
     "text": [
      "\r",
      " 81%|████████  | 811/1000 [03:21<00:43,  4.31it/s]"
     ]
    },
    {
     "data": {
      "application/vnd.jupyter.widget-view+json": {
       "model_id": "04a97f360a554a22a582b0b526f3facd",
       "version_major": 2,
       "version_minor": 0
      },
      "text/plain": [
       "  0%|          | 0/1000 [00:00<?, ?it/s]"
      ]
     },
     "metadata": {},
     "output_type": "display_data"
    },
    {
     "name": "stderr",
     "output_type": "stream",
     "text": [
      "\r",
      " 81%|████████  | 812/1000 [03:22<00:43,  4.35it/s]"
     ]
    },
    {
     "data": {
      "application/vnd.jupyter.widget-view+json": {
       "model_id": "adf4f628134b48fd8f7271acb9862c1c",
       "version_major": 2,
       "version_minor": 0
      },
      "text/plain": [
       "  0%|          | 0/1000 [00:00<?, ?it/s]"
      ]
     },
     "metadata": {},
     "output_type": "display_data"
    },
    {
     "name": "stderr",
     "output_type": "stream",
     "text": [
      "\r",
      " 81%|████████▏ | 813/1000 [03:22<00:48,  3.85it/s]"
     ]
    },
    {
     "data": {
      "application/vnd.jupyter.widget-view+json": {
       "model_id": "ca54f576a0e14e5b9ced01e203e5e06a",
       "version_major": 2,
       "version_minor": 0
      },
      "text/plain": [
       "  0%|          | 0/1000 [00:00<?, ?it/s]"
      ]
     },
     "metadata": {},
     "output_type": "display_data"
    },
    {
     "name": "stderr",
     "output_type": "stream",
     "text": [
      "\r",
      " 81%|████████▏ | 814/1000 [03:22<00:46,  3.98it/s]"
     ]
    },
    {
     "data": {
      "application/vnd.jupyter.widget-view+json": {
       "model_id": "19d57bda00f741a0a48489e31bb1dbb6",
       "version_major": 2,
       "version_minor": 0
      },
      "text/plain": [
       "  0%|          | 0/1000 [00:00<?, ?it/s]"
      ]
     },
     "metadata": {},
     "output_type": "display_data"
    },
    {
     "name": "stderr",
     "output_type": "stream",
     "text": [
      "\r",
      " 82%|████████▏ | 815/1000 [03:22<00:46,  3.99it/s]"
     ]
    },
    {
     "data": {
      "application/vnd.jupyter.widget-view+json": {
       "model_id": "913937ad6e18496288adf92d731668fc",
       "version_major": 2,
       "version_minor": 0
      },
      "text/plain": [
       "  0%|          | 0/1000 [00:00<?, ?it/s]"
      ]
     },
     "metadata": {},
     "output_type": "display_data"
    },
    {
     "name": "stderr",
     "output_type": "stream",
     "text": [
      "\r",
      " 82%|████████▏ | 816/1000 [03:23<00:45,  4.06it/s]"
     ]
    },
    {
     "data": {
      "application/vnd.jupyter.widget-view+json": {
       "model_id": "77d1d8b7e2814321bd8a166c6ec52c55",
       "version_major": 2,
       "version_minor": 0
      },
      "text/plain": [
       "  0%|          | 0/1000 [00:00<?, ?it/s]"
      ]
     },
     "metadata": {},
     "output_type": "display_data"
    },
    {
     "name": "stderr",
     "output_type": "stream",
     "text": [
      "\r",
      " 82%|████████▏ | 817/1000 [03:23<00:43,  4.24it/s]"
     ]
    },
    {
     "data": {
      "application/vnd.jupyter.widget-view+json": {
       "model_id": "4e658684b0c04761a2d7b0360d03f830",
       "version_major": 2,
       "version_minor": 0
      },
      "text/plain": [
       "  0%|          | 0/1000 [00:00<?, ?it/s]"
      ]
     },
     "metadata": {},
     "output_type": "display_data"
    },
    {
     "name": "stderr",
     "output_type": "stream",
     "text": [
      "\r",
      " 82%|████████▏ | 818/1000 [03:23<00:42,  4.28it/s]"
     ]
    },
    {
     "data": {
      "application/vnd.jupyter.widget-view+json": {
       "model_id": "86eae00dc1864416bd3d6ccd71114dda",
       "version_major": 2,
       "version_minor": 0
      },
      "text/plain": [
       "  0%|          | 0/1000 [00:00<?, ?it/s]"
      ]
     },
     "metadata": {},
     "output_type": "display_data"
    },
    {
     "name": "stderr",
     "output_type": "stream",
     "text": [
      "\r",
      " 82%|████████▏ | 819/1000 [03:23<00:46,  3.88it/s]"
     ]
    },
    {
     "data": {
      "application/vnd.jupyter.widget-view+json": {
       "model_id": "2bf4804c386542a49fcb73e1e5a7ff54",
       "version_major": 2,
       "version_minor": 0
      },
      "text/plain": [
       "  0%|          | 0/1000 [00:00<?, ?it/s]"
      ]
     },
     "metadata": {},
     "output_type": "display_data"
    },
    {
     "name": "stderr",
     "output_type": "stream",
     "text": [
      "\r",
      " 82%|████████▏ | 820/1000 [03:24<00:47,  3.81it/s]"
     ]
    },
    {
     "data": {
      "application/vnd.jupyter.widget-view+json": {
       "model_id": "da86ba5983aa4282a7ecf7af19e9e79d",
       "version_major": 2,
       "version_minor": 0
      },
      "text/plain": [
       "  0%|          | 0/1000 [00:00<?, ?it/s]"
      ]
     },
     "metadata": {},
     "output_type": "display_data"
    },
    {
     "name": "stderr",
     "output_type": "stream",
     "text": [
      "\r",
      " 82%|████████▏ | 821/1000 [03:24<00:47,  3.77it/s]"
     ]
    },
    {
     "data": {
      "application/vnd.jupyter.widget-view+json": {
       "model_id": "261ab3fa102240eda6624a74560d25c3",
       "version_major": 2,
       "version_minor": 0
      },
      "text/plain": [
       "  0%|          | 0/1000 [00:00<?, ?it/s]"
      ]
     },
     "metadata": {},
     "output_type": "display_data"
    },
    {
     "name": "stderr",
     "output_type": "stream",
     "text": [
      "\r",
      " 82%|████████▏ | 822/1000 [03:24<00:46,  3.82it/s]"
     ]
    },
    {
     "data": {
      "application/vnd.jupyter.widget-view+json": {
       "model_id": "74d1540bc6514fb8a77d3cb144b1fa1e",
       "version_major": 2,
       "version_minor": 0
      },
      "text/plain": [
       "  0%|          | 0/1000 [00:00<?, ?it/s]"
      ]
     },
     "metadata": {},
     "output_type": "display_data"
    },
    {
     "name": "stderr",
     "output_type": "stream",
     "text": [
      "\r",
      " 82%|████████▏ | 823/1000 [03:24<00:49,  3.60it/s]"
     ]
    },
    {
     "data": {
      "application/vnd.jupyter.widget-view+json": {
       "model_id": "86f01bfa1d4e46ddb3c74310a4d0fa6d",
       "version_major": 2,
       "version_minor": 0
      },
      "text/plain": [
       "  0%|          | 0/1000 [00:00<?, ?it/s]"
      ]
     },
     "metadata": {},
     "output_type": "display_data"
    },
    {
     "name": "stderr",
     "output_type": "stream",
     "text": [
      "\r",
      " 82%|████████▏ | 824/1000 [03:25<00:53,  3.30it/s]"
     ]
    },
    {
     "data": {
      "application/vnd.jupyter.widget-view+json": {
       "model_id": "459cab8577d44613871b22764a5c8663",
       "version_major": 2,
       "version_minor": 0
      },
      "text/plain": [
       "  0%|          | 0/1000 [00:00<?, ?it/s]"
      ]
     },
     "metadata": {},
     "output_type": "display_data"
    },
    {
     "name": "stderr",
     "output_type": "stream",
     "text": [
      "\r",
      " 82%|████████▎ | 825/1000 [03:25<00:51,  3.39it/s]"
     ]
    },
    {
     "data": {
      "application/vnd.jupyter.widget-view+json": {
       "model_id": "c186f4f43c42444eb43ae30e4cd399d1",
       "version_major": 2,
       "version_minor": 0
      },
      "text/plain": [
       "  0%|          | 0/1000 [00:00<?, ?it/s]"
      ]
     },
     "metadata": {},
     "output_type": "display_data"
    },
    {
     "name": "stderr",
     "output_type": "stream",
     "text": [
      "\r",
      " 83%|████████▎ | 826/1000 [03:25<00:48,  3.56it/s]"
     ]
    },
    {
     "data": {
      "application/vnd.jupyter.widget-view+json": {
       "model_id": "e641aa7326b647bc919a37bded1a0b89",
       "version_major": 2,
       "version_minor": 0
      },
      "text/plain": [
       "  0%|          | 0/1000 [00:00<?, ?it/s]"
      ]
     },
     "metadata": {},
     "output_type": "display_data"
    },
    {
     "name": "stderr",
     "output_type": "stream",
     "text": [
      "\r",
      " 83%|████████▎ | 827/1000 [03:26<00:47,  3.63it/s]"
     ]
    },
    {
     "data": {
      "application/vnd.jupyter.widget-view+json": {
       "model_id": "6fbc103a82f848a4acdc3c2afff2c36c",
       "version_major": 2,
       "version_minor": 0
      },
      "text/plain": [
       "  0%|          | 0/1000 [00:00<?, ?it/s]"
      ]
     },
     "metadata": {},
     "output_type": "display_data"
    },
    {
     "name": "stderr",
     "output_type": "stream",
     "text": [
      "\r",
      " 83%|████████▎ | 828/1000 [03:26<00:47,  3.63it/s]"
     ]
    },
    {
     "data": {
      "application/vnd.jupyter.widget-view+json": {
       "model_id": "3b4db4e809a2450c9f586347bc757769",
       "version_major": 2,
       "version_minor": 0
      },
      "text/plain": [
       "  0%|          | 0/1000 [00:00<?, ?it/s]"
      ]
     },
     "metadata": {},
     "output_type": "display_data"
    },
    {
     "name": "stderr",
     "output_type": "stream",
     "text": [
      "\r",
      " 83%|████████▎ | 829/1000 [03:26<00:45,  3.76it/s]"
     ]
    },
    {
     "data": {
      "application/vnd.jupyter.widget-view+json": {
       "model_id": "507e0c63d1224747b1f2ec3c4a5ecb68",
       "version_major": 2,
       "version_minor": 0
      },
      "text/plain": [
       "  0%|          | 0/1000 [00:00<?, ?it/s]"
      ]
     },
     "metadata": {},
     "output_type": "display_data"
    },
    {
     "name": "stderr",
     "output_type": "stream",
     "text": [
      "\r",
      " 83%|████████▎ | 830/1000 [03:26<00:47,  3.60it/s]"
     ]
    },
    {
     "data": {
      "application/vnd.jupyter.widget-view+json": {
       "model_id": "b6834971f68e44b4b9e91566a791fa51",
       "version_major": 2,
       "version_minor": 0
      },
      "text/plain": [
       "  0%|          | 0/1000 [00:00<?, ?it/s]"
      ]
     },
     "metadata": {},
     "output_type": "display_data"
    },
    {
     "name": "stderr",
     "output_type": "stream",
     "text": [
      "\r",
      " 83%|████████▎ | 831/1000 [03:27<00:52,  3.22it/s]"
     ]
    },
    {
     "data": {
      "application/vnd.jupyter.widget-view+json": {
       "model_id": "479d7b13fe3a4ae481ec6c415527060e",
       "version_major": 2,
       "version_minor": 0
      },
      "text/plain": [
       "  0%|          | 0/1000 [00:00<?, ?it/s]"
      ]
     },
     "metadata": {},
     "output_type": "display_data"
    },
    {
     "name": "stderr",
     "output_type": "stream",
     "text": [
      "\r",
      " 83%|████████▎ | 832/1000 [03:27<00:55,  3.02it/s]"
     ]
    },
    {
     "data": {
      "application/vnd.jupyter.widget-view+json": {
       "model_id": "bc8b209d52174800bee461fe4114f960",
       "version_major": 2,
       "version_minor": 0
      },
      "text/plain": [
       "  0%|          | 0/1000 [00:00<?, ?it/s]"
      ]
     },
     "metadata": {},
     "output_type": "display_data"
    },
    {
     "name": "stderr",
     "output_type": "stream",
     "text": [
      "\r",
      " 83%|████████▎ | 833/1000 [03:28<00:56,  2.97it/s]"
     ]
    },
    {
     "data": {
      "application/vnd.jupyter.widget-view+json": {
       "model_id": "028817757a0e41f89ca5f2184b75c8bc",
       "version_major": 2,
       "version_minor": 0
      },
      "text/plain": [
       "  0%|          | 0/1000 [00:00<?, ?it/s]"
      ]
     },
     "metadata": {},
     "output_type": "display_data"
    },
    {
     "name": "stderr",
     "output_type": "stream",
     "text": [
      "\r",
      " 83%|████████▎ | 834/1000 [03:28<00:56,  2.94it/s]"
     ]
    },
    {
     "data": {
      "application/vnd.jupyter.widget-view+json": {
       "model_id": "ccb01b60820b4c54b3e463316ba56ff2",
       "version_major": 2,
       "version_minor": 0
      },
      "text/plain": [
       "  0%|          | 0/1000 [00:00<?, ?it/s]"
      ]
     },
     "metadata": {},
     "output_type": "display_data"
    },
    {
     "name": "stderr",
     "output_type": "stream",
     "text": [
      "\r",
      " 84%|████████▎ | 835/1000 [03:28<00:56,  2.94it/s]"
     ]
    },
    {
     "data": {
      "application/vnd.jupyter.widget-view+json": {
       "model_id": "67498c37453248ba85ff31b3086954dc",
       "version_major": 2,
       "version_minor": 0
      },
      "text/plain": [
       "  0%|          | 0/1000 [00:00<?, ?it/s]"
      ]
     },
     "metadata": {},
     "output_type": "display_data"
    },
    {
     "name": "stderr",
     "output_type": "stream",
     "text": [
      "\r",
      " 84%|████████▎ | 836/1000 [03:29<00:55,  2.94it/s]"
     ]
    },
    {
     "data": {
      "application/vnd.jupyter.widget-view+json": {
       "model_id": "c95b0d2358514d9a943c26fbc3453af2",
       "version_major": 2,
       "version_minor": 0
      },
      "text/plain": [
       "  0%|          | 0/1000 [00:00<?, ?it/s]"
      ]
     },
     "metadata": {},
     "output_type": "display_data"
    },
    {
     "name": "stderr",
     "output_type": "stream",
     "text": [
      "\r",
      " 84%|████████▎ | 837/1000 [03:29<00:53,  3.02it/s]"
     ]
    },
    {
     "data": {
      "application/vnd.jupyter.widget-view+json": {
       "model_id": "d06b57ed3b6440e48c2ed05634b0e19f",
       "version_major": 2,
       "version_minor": 0
      },
      "text/plain": [
       "  0%|          | 0/1000 [00:00<?, ?it/s]"
      ]
     },
     "metadata": {},
     "output_type": "display_data"
    },
    {
     "name": "stderr",
     "output_type": "stream",
     "text": [
      "\r",
      " 84%|████████▍ | 838/1000 [03:29<00:50,  3.19it/s]"
     ]
    },
    {
     "data": {
      "application/vnd.jupyter.widget-view+json": {
       "model_id": "991d3102a3ab4549aeeecd8a0d52bf7b",
       "version_major": 2,
       "version_minor": 0
      },
      "text/plain": [
       "  0%|          | 0/1000 [00:00<?, ?it/s]"
      ]
     },
     "metadata": {},
     "output_type": "display_data"
    },
    {
     "name": "stderr",
     "output_type": "stream",
     "text": [
      "\r",
      " 84%|████████▍ | 839/1000 [03:29<00:48,  3.34it/s]"
     ]
    },
    {
     "data": {
      "application/vnd.jupyter.widget-view+json": {
       "model_id": "165b247c3853473693658ada1056eea9",
       "version_major": 2,
       "version_minor": 0
      },
      "text/plain": [
       "  0%|          | 0/1000 [00:00<?, ?it/s]"
      ]
     },
     "metadata": {},
     "output_type": "display_data"
    },
    {
     "name": "stderr",
     "output_type": "stream",
     "text": [
      "\r",
      " 84%|████████▍ | 840/1000 [03:30<00:46,  3.45it/s]"
     ]
    },
    {
     "data": {
      "application/vnd.jupyter.widget-view+json": {
       "model_id": "fe9b8c38e09e47bc81bd1c8598d6d36a",
       "version_major": 2,
       "version_minor": 0
      },
      "text/plain": [
       "  0%|          | 0/1000 [00:00<?, ?it/s]"
      ]
     },
     "metadata": {},
     "output_type": "display_data"
    },
    {
     "name": "stderr",
     "output_type": "stream",
     "text": [
      "\r",
      " 84%|████████▍ | 841/1000 [03:30<00:45,  3.50it/s]"
     ]
    },
    {
     "data": {
      "application/vnd.jupyter.widget-view+json": {
       "model_id": "1840f53de7ad4aac9b4704f5903adaa3",
       "version_major": 2,
       "version_minor": 0
      },
      "text/plain": [
       "  0%|          | 0/1000 [00:00<?, ?it/s]"
      ]
     },
     "metadata": {},
     "output_type": "display_data"
    },
    {
     "name": "stderr",
     "output_type": "stream",
     "text": [
      "\r",
      " 84%|████████▍ | 842/1000 [03:30<00:45,  3.51it/s]"
     ]
    },
    {
     "data": {
      "application/vnd.jupyter.widget-view+json": {
       "model_id": "9edd6757e79a450ab4eaba34da23b873",
       "version_major": 2,
       "version_minor": 0
      },
      "text/plain": [
       "  0%|          | 0/1000 [00:00<?, ?it/s]"
      ]
     },
     "metadata": {},
     "output_type": "display_data"
    },
    {
     "name": "stderr",
     "output_type": "stream",
     "text": [
      "\r",
      " 84%|████████▍ | 843/1000 [03:31<00:47,  3.30it/s]"
     ]
    },
    {
     "data": {
      "application/vnd.jupyter.widget-view+json": {
       "model_id": "d5817a6e74454b8993936edb57ef9585",
       "version_major": 2,
       "version_minor": 0
      },
      "text/plain": [
       "  0%|          | 0/1000 [00:00<?, ?it/s]"
      ]
     },
     "metadata": {},
     "output_type": "display_data"
    },
    {
     "name": "stderr",
     "output_type": "stream",
     "text": [
      "\r",
      " 84%|████████▍ | 844/1000 [03:31<00:46,  3.39it/s]"
     ]
    },
    {
     "data": {
      "application/vnd.jupyter.widget-view+json": {
       "model_id": "f385043e098240349cdaf99e178dbf62",
       "version_major": 2,
       "version_minor": 0
      },
      "text/plain": [
       "  0%|          | 0/1000 [00:00<?, ?it/s]"
      ]
     },
     "metadata": {},
     "output_type": "display_data"
    },
    {
     "name": "stderr",
     "output_type": "stream",
     "text": [
      "\r",
      " 84%|████████▍ | 845/1000 [03:31<00:44,  3.48it/s]"
     ]
    },
    {
     "data": {
      "application/vnd.jupyter.widget-view+json": {
       "model_id": "a18dd132919043abb36ac1816acee418",
       "version_major": 2,
       "version_minor": 0
      },
      "text/plain": [
       "  0%|          | 0/1000 [00:00<?, ?it/s]"
      ]
     },
     "metadata": {},
     "output_type": "display_data"
    },
    {
     "name": "stderr",
     "output_type": "stream",
     "text": [
      "\r",
      " 85%|████████▍ | 846/1000 [03:31<00:43,  3.56it/s]"
     ]
    },
    {
     "data": {
      "application/vnd.jupyter.widget-view+json": {
       "model_id": "f604f462eae24a0daf6c47e0f94ff8a8",
       "version_major": 2,
       "version_minor": 0
      },
      "text/plain": [
       "  0%|          | 0/1000 [00:00<?, ?it/s]"
      ]
     },
     "metadata": {},
     "output_type": "display_data"
    },
    {
     "name": "stderr",
     "output_type": "stream",
     "text": [
      "\r",
      " 85%|████████▍ | 847/1000 [03:32<00:42,  3.61it/s]"
     ]
    },
    {
     "data": {
      "application/vnd.jupyter.widget-view+json": {
       "model_id": "46a162478ea6430786a14dfa0be51068",
       "version_major": 2,
       "version_minor": 0
      },
      "text/plain": [
       "  0%|          | 0/1000 [00:00<?, ?it/s]"
      ]
     },
     "metadata": {},
     "output_type": "display_data"
    },
    {
     "name": "stderr",
     "output_type": "stream",
     "text": [
      "\r",
      " 85%|████████▍ | 848/1000 [03:32<00:42,  3.62it/s]"
     ]
    },
    {
     "data": {
      "application/vnd.jupyter.widget-view+json": {
       "model_id": "05ff43f0027445fe9c0be000015a9a61",
       "version_major": 2,
       "version_minor": 0
      },
      "text/plain": [
       "  0%|          | 0/1000 [00:00<?, ?it/s]"
      ]
     },
     "metadata": {},
     "output_type": "display_data"
    },
    {
     "name": "stderr",
     "output_type": "stream",
     "text": [
      "\r",
      " 85%|████████▍ | 849/1000 [03:32<00:41,  3.62it/s]"
     ]
    },
    {
     "data": {
      "application/vnd.jupyter.widget-view+json": {
       "model_id": "1ea785a4039e46f6987f5baefe7955a3",
       "version_major": 2,
       "version_minor": 0
      },
      "text/plain": [
       "  0%|          | 0/1000 [00:00<?, ?it/s]"
      ]
     },
     "metadata": {},
     "output_type": "display_data"
    },
    {
     "name": "stderr",
     "output_type": "stream",
     "text": [
      "\r",
      " 85%|████████▌ | 850/1000 [03:33<00:42,  3.53it/s]"
     ]
    },
    {
     "data": {
      "application/vnd.jupyter.widget-view+json": {
       "model_id": "48bfbc44a5de428989c4416738a47da6",
       "version_major": 2,
       "version_minor": 0
      },
      "text/plain": [
       "  0%|          | 0/1000 [00:00<?, ?it/s]"
      ]
     },
     "metadata": {},
     "output_type": "display_data"
    },
    {
     "name": "stderr",
     "output_type": "stream",
     "text": [
      "\r",
      " 85%|████████▌ | 851/1000 [03:33<00:41,  3.57it/s]"
     ]
    },
    {
     "data": {
      "application/vnd.jupyter.widget-view+json": {
       "model_id": "28b3ee4d971d4a5ab4fdbe87f30ba802",
       "version_major": 2,
       "version_minor": 0
      },
      "text/plain": [
       "  0%|          | 0/1000 [00:00<?, ?it/s]"
      ]
     },
     "metadata": {},
     "output_type": "display_data"
    },
    {
     "name": "stderr",
     "output_type": "stream",
     "text": [
      "\r",
      " 85%|████████▌ | 852/1000 [03:33<00:40,  3.63it/s]"
     ]
    },
    {
     "data": {
      "application/vnd.jupyter.widget-view+json": {
       "model_id": "d140d552ca784dfe874d92aa763a18f6",
       "version_major": 2,
       "version_minor": 0
      },
      "text/plain": [
       "  0%|          | 0/1000 [00:00<?, ?it/s]"
      ]
     },
     "metadata": {},
     "output_type": "display_data"
    },
    {
     "name": "stderr",
     "output_type": "stream",
     "text": [
      "\r",
      " 85%|████████▌ | 853/1000 [03:33<00:40,  3.61it/s]"
     ]
    },
    {
     "data": {
      "application/vnd.jupyter.widget-view+json": {
       "model_id": "a6c49480c13b41ebb860ea499316ee97",
       "version_major": 2,
       "version_minor": 0
      },
      "text/plain": [
       "  0%|          | 0/1000 [00:00<?, ?it/s]"
      ]
     },
     "metadata": {},
     "output_type": "display_data"
    },
    {
     "name": "stderr",
     "output_type": "stream",
     "text": [
      "\r",
      " 85%|████████▌ | 854/1000 [03:34<00:40,  3.59it/s]"
     ]
    },
    {
     "data": {
      "application/vnd.jupyter.widget-view+json": {
       "model_id": "e66e304d2db14346932be1ad8f2c5839",
       "version_major": 2,
       "version_minor": 0
      },
      "text/plain": [
       "  0%|          | 0/1000 [00:00<?, ?it/s]"
      ]
     },
     "metadata": {},
     "output_type": "display_data"
    },
    {
     "name": "stderr",
     "output_type": "stream",
     "text": [
      "\r",
      " 86%|████████▌ | 855/1000 [03:34<00:40,  3.57it/s]"
     ]
    },
    {
     "data": {
      "application/vnd.jupyter.widget-view+json": {
       "model_id": "148658b7e60c433eb8d8c2037b142670",
       "version_major": 2,
       "version_minor": 0
      },
      "text/plain": [
       "  0%|          | 0/1000 [00:00<?, ?it/s]"
      ]
     },
     "metadata": {},
     "output_type": "display_data"
    },
    {
     "name": "stderr",
     "output_type": "stream",
     "text": [
      "\r",
      " 86%|████████▌ | 856/1000 [03:34<00:37,  3.79it/s]"
     ]
    },
    {
     "data": {
      "application/vnd.jupyter.widget-view+json": {
       "model_id": "317653eba40c45ce8f2a2dd02a29ad57",
       "version_major": 2,
       "version_minor": 0
      },
      "text/plain": [
       "  0%|          | 0/1000 [00:00<?, ?it/s]"
      ]
     },
     "metadata": {},
     "output_type": "display_data"
    },
    {
     "name": "stderr",
     "output_type": "stream",
     "text": [
      "\r",
      " 86%|████████▌ | 857/1000 [03:34<00:38,  3.69it/s]"
     ]
    },
    {
     "data": {
      "application/vnd.jupyter.widget-view+json": {
       "model_id": "e01f1da49b7343a28418fea8eb19c2e8",
       "version_major": 2,
       "version_minor": 0
      },
      "text/plain": [
       "  0%|          | 0/1000 [00:00<?, ?it/s]"
      ]
     },
     "metadata": {},
     "output_type": "display_data"
    },
    {
     "name": "stderr",
     "output_type": "stream",
     "text": [
      "\r",
      " 86%|████████▌ | 858/1000 [03:35<00:37,  3.74it/s]"
     ]
    },
    {
     "data": {
      "application/vnd.jupyter.widget-view+json": {
       "model_id": "3f0d37db7531477fa835e5962690a6d2",
       "version_major": 2,
       "version_minor": 0
      },
      "text/plain": [
       "  0%|          | 0/1000 [00:00<?, ?it/s]"
      ]
     },
     "metadata": {},
     "output_type": "display_data"
    },
    {
     "name": "stderr",
     "output_type": "stream",
     "text": [
      "\r",
      " 86%|████████▌ | 859/1000 [03:35<00:36,  3.84it/s]"
     ]
    },
    {
     "data": {
      "application/vnd.jupyter.widget-view+json": {
       "model_id": "ceabae70e3c549caafc052ace5a35358",
       "version_major": 2,
       "version_minor": 0
      },
      "text/plain": [
       "  0%|          | 0/1000 [00:00<?, ?it/s]"
      ]
     },
     "metadata": {},
     "output_type": "display_data"
    },
    {
     "name": "stderr",
     "output_type": "stream",
     "text": [
      "\r",
      " 86%|████████▌ | 860/1000 [03:35<00:36,  3.87it/s]"
     ]
    },
    {
     "data": {
      "application/vnd.jupyter.widget-view+json": {
       "model_id": "55862e519681409a8982417557788392",
       "version_major": 2,
       "version_minor": 0
      },
      "text/plain": [
       "  0%|          | 0/1000 [00:00<?, ?it/s]"
      ]
     },
     "metadata": {},
     "output_type": "display_data"
    },
    {
     "name": "stderr",
     "output_type": "stream",
     "text": [
      "\r",
      " 86%|████████▌ | 861/1000 [03:35<00:34,  3.99it/s]"
     ]
    },
    {
     "data": {
      "application/vnd.jupyter.widget-view+json": {
       "model_id": "100aad79cb2743fab5eb2dc7a510bd26",
       "version_major": 2,
       "version_minor": 0
      },
      "text/plain": [
       "  0%|          | 0/1000 [00:00<?, ?it/s]"
      ]
     },
     "metadata": {},
     "output_type": "display_data"
    },
    {
     "name": "stderr",
     "output_type": "stream",
     "text": [
      "\r",
      " 86%|████████▌ | 862/1000 [03:36<00:34,  3.96it/s]"
     ]
    },
    {
     "data": {
      "application/vnd.jupyter.widget-view+json": {
       "model_id": "c092e91592f24f9a941d85764de742e3",
       "version_major": 2,
       "version_minor": 0
      },
      "text/plain": [
       "  0%|          | 0/1000 [00:00<?, ?it/s]"
      ]
     },
     "metadata": {},
     "output_type": "display_data"
    },
    {
     "name": "stderr",
     "output_type": "stream",
     "text": [
      "\r",
      " 86%|████████▋ | 863/1000 [03:36<00:34,  3.95it/s]"
     ]
    },
    {
     "data": {
      "application/vnd.jupyter.widget-view+json": {
       "model_id": "d6981a87d7f7442790853e65c09987e3",
       "version_major": 2,
       "version_minor": 0
      },
      "text/plain": [
       "  0%|          | 0/1000 [00:00<?, ?it/s]"
      ]
     },
     "metadata": {},
     "output_type": "display_data"
    },
    {
     "name": "stderr",
     "output_type": "stream",
     "text": [
      "\r",
      " 86%|████████▋ | 864/1000 [03:36<00:34,  3.92it/s]"
     ]
    },
    {
     "data": {
      "application/vnd.jupyter.widget-view+json": {
       "model_id": "33be6bc88d414f199b5a53b293a9b51b",
       "version_major": 2,
       "version_minor": 0
      },
      "text/plain": [
       "  0%|          | 0/1000 [00:00<?, ?it/s]"
      ]
     },
     "metadata": {},
     "output_type": "display_data"
    },
    {
     "name": "stderr",
     "output_type": "stream",
     "text": [
      "\r",
      " 86%|████████▋ | 865/1000 [03:36<00:36,  3.73it/s]"
     ]
    },
    {
     "data": {
      "application/vnd.jupyter.widget-view+json": {
       "model_id": "90e400bb78284385819c69aa6f8cb433",
       "version_major": 2,
       "version_minor": 0
      },
      "text/plain": [
       "  0%|          | 0/1000 [00:00<?, ?it/s]"
      ]
     },
     "metadata": {},
     "output_type": "display_data"
    },
    {
     "name": "stderr",
     "output_type": "stream",
     "text": [
      "\r",
      " 87%|████████▋ | 866/1000 [03:37<00:35,  3.82it/s]"
     ]
    },
    {
     "data": {
      "application/vnd.jupyter.widget-view+json": {
       "model_id": "e320e04d4c8641ecac2b623118c9ba35",
       "version_major": 2,
       "version_minor": 0
      },
      "text/plain": [
       "  0%|          | 0/1000 [00:00<?, ?it/s]"
      ]
     },
     "metadata": {},
     "output_type": "display_data"
    },
    {
     "name": "stderr",
     "output_type": "stream",
     "text": [
      "\r",
      " 87%|████████▋ | 867/1000 [03:37<00:34,  3.81it/s]"
     ]
    },
    {
     "data": {
      "application/vnd.jupyter.widget-view+json": {
       "model_id": "9c9d869e13fb4db0b2365bad486acfe6",
       "version_major": 2,
       "version_minor": 0
      },
      "text/plain": [
       "  0%|          | 0/1000 [00:00<?, ?it/s]"
      ]
     },
     "metadata": {},
     "output_type": "display_data"
    },
    {
     "name": "stderr",
     "output_type": "stream",
     "text": [
      "\r",
      " 87%|████████▋ | 868/1000 [03:37<00:34,  3.79it/s]"
     ]
    },
    {
     "data": {
      "application/vnd.jupyter.widget-view+json": {
       "model_id": "ba75ab59136d4b71bee0a0412b1df995",
       "version_major": 2,
       "version_minor": 0
      },
      "text/plain": [
       "  0%|          | 0/1000 [00:00<?, ?it/s]"
      ]
     },
     "metadata": {},
     "output_type": "display_data"
    },
    {
     "name": "stderr",
     "output_type": "stream",
     "text": [
      "\r",
      " 87%|████████▋ | 869/1000 [03:38<00:34,  3.85it/s]"
     ]
    },
    {
     "data": {
      "application/vnd.jupyter.widget-view+json": {
       "model_id": "584aa20d328e49b7b9ddbfe8ed486b85",
       "version_major": 2,
       "version_minor": 0
      },
      "text/plain": [
       "  0%|          | 0/1000 [00:00<?, ?it/s]"
      ]
     },
     "metadata": {},
     "output_type": "display_data"
    },
    {
     "name": "stderr",
     "output_type": "stream",
     "text": [
      "\r",
      " 87%|████████▋ | 870/1000 [03:38<00:33,  3.84it/s]"
     ]
    },
    {
     "data": {
      "application/vnd.jupyter.widget-view+json": {
       "model_id": "5deb38803a8b4d1ea711230df2a70df1",
       "version_major": 2,
       "version_minor": 0
      },
      "text/plain": [
       "  0%|          | 0/1000 [00:00<?, ?it/s]"
      ]
     },
     "metadata": {},
     "output_type": "display_data"
    },
    {
     "name": "stderr",
     "output_type": "stream",
     "text": [
      "\r",
      " 87%|████████▋ | 871/1000 [03:38<00:35,  3.68it/s]"
     ]
    },
    {
     "data": {
      "application/vnd.jupyter.widget-view+json": {
       "model_id": "871f10af380e4a49be41e7db5baf67d0",
       "version_major": 2,
       "version_minor": 0
      },
      "text/plain": [
       "  0%|          | 0/1000 [00:00<?, ?it/s]"
      ]
     },
     "metadata": {},
     "output_type": "display_data"
    },
    {
     "name": "stderr",
     "output_type": "stream",
     "text": [
      "\r",
      " 87%|████████▋ | 872/1000 [03:38<00:35,  3.65it/s]"
     ]
    },
    {
     "data": {
      "application/vnd.jupyter.widget-view+json": {
       "model_id": "a018e221c6424ad4a21602c48fedbc2c",
       "version_major": 2,
       "version_minor": 0
      },
      "text/plain": [
       "  0%|          | 0/1000 [00:00<?, ?it/s]"
      ]
     },
     "metadata": {},
     "output_type": "display_data"
    },
    {
     "name": "stderr",
     "output_type": "stream",
     "text": [
      "\r",
      " 87%|████████▋ | 873/1000 [03:39<00:33,  3.74it/s]"
     ]
    },
    {
     "data": {
      "application/vnd.jupyter.widget-view+json": {
       "model_id": "f5fd89ce559b4971ad41478479283721",
       "version_major": 2,
       "version_minor": 0
      },
      "text/plain": [
       "  0%|          | 0/1000 [00:00<?, ?it/s]"
      ]
     },
     "metadata": {},
     "output_type": "display_data"
    },
    {
     "name": "stderr",
     "output_type": "stream",
     "text": [
      "\r",
      " 87%|████████▋ | 874/1000 [03:39<00:33,  3.79it/s]"
     ]
    },
    {
     "data": {
      "application/vnd.jupyter.widget-view+json": {
       "model_id": "e53f33e83c7c4230b916d5c73fa4a906",
       "version_major": 2,
       "version_minor": 0
      },
      "text/plain": [
       "  0%|          | 0/1000 [00:00<?, ?it/s]"
      ]
     },
     "metadata": {},
     "output_type": "display_data"
    },
    {
     "name": "stderr",
     "output_type": "stream",
     "text": [
      "\r",
      " 88%|████████▊ | 875/1000 [03:39<00:33,  3.78it/s]"
     ]
    },
    {
     "data": {
      "application/vnd.jupyter.widget-view+json": {
       "model_id": "65f1ff12105c4c66982f2410098335f1",
       "version_major": 2,
       "version_minor": 0
      },
      "text/plain": [
       "  0%|          | 0/1000 [00:00<?, ?it/s]"
      ]
     },
     "metadata": {},
     "output_type": "display_data"
    },
    {
     "name": "stderr",
     "output_type": "stream",
     "text": [
      "\r",
      " 88%|████████▊ | 876/1000 [03:39<00:33,  3.65it/s]"
     ]
    },
    {
     "data": {
      "application/vnd.jupyter.widget-view+json": {
       "model_id": "fadc30d0e44a43e8b9cf4ea78754cc83",
       "version_major": 2,
       "version_minor": 0
      },
      "text/plain": [
       "  0%|          | 0/1000 [00:00<?, ?it/s]"
      ]
     },
     "metadata": {},
     "output_type": "display_data"
    },
    {
     "name": "stderr",
     "output_type": "stream",
     "text": [
      "\r",
      " 88%|████████▊ | 877/1000 [03:40<00:34,  3.54it/s]"
     ]
    },
    {
     "data": {
      "application/vnd.jupyter.widget-view+json": {
       "model_id": "1955fffbc6194f028087470998616e41",
       "version_major": 2,
       "version_minor": 0
      },
      "text/plain": [
       "  0%|          | 0/1000 [00:00<?, ?it/s]"
      ]
     },
     "metadata": {},
     "output_type": "display_data"
    },
    {
     "name": "stderr",
     "output_type": "stream",
     "text": [
      "\r",
      " 88%|████████▊ | 878/1000 [03:40<00:37,  3.28it/s]"
     ]
    },
    {
     "data": {
      "application/vnd.jupyter.widget-view+json": {
       "model_id": "f206fcde0a9e4c57b0224f8d0770eb2d",
       "version_major": 2,
       "version_minor": 0
      },
      "text/plain": [
       "  0%|          | 0/1000 [00:00<?, ?it/s]"
      ]
     },
     "metadata": {},
     "output_type": "display_data"
    },
    {
     "name": "stderr",
     "output_type": "stream",
     "text": [
      "\r",
      " 88%|████████▊ | 879/1000 [03:40<00:37,  3.23it/s]"
     ]
    },
    {
     "data": {
      "application/vnd.jupyter.widget-view+json": {
       "model_id": "0f2d851aa0fe41839437f69e16e2f24f",
       "version_major": 2,
       "version_minor": 0
      },
      "text/plain": [
       "  0%|          | 0/1000 [00:00<?, ?it/s]"
      ]
     },
     "metadata": {},
     "output_type": "display_data"
    },
    {
     "name": "stderr",
     "output_type": "stream",
     "text": [
      "\r",
      " 88%|████████▊ | 880/1000 [03:41<00:37,  3.24it/s]"
     ]
    },
    {
     "data": {
      "application/vnd.jupyter.widget-view+json": {
       "model_id": "4510847d1fbf43a28eac60d0dd091dd4",
       "version_major": 2,
       "version_minor": 0
      },
      "text/plain": [
       "  0%|          | 0/1000 [00:00<?, ?it/s]"
      ]
     },
     "metadata": {},
     "output_type": "display_data"
    },
    {
     "name": "stderr",
     "output_type": "stream",
     "text": [
      "\r",
      " 88%|████████▊ | 881/1000 [03:41<00:35,  3.32it/s]"
     ]
    },
    {
     "data": {
      "application/vnd.jupyter.widget-view+json": {
       "model_id": "56954792d1b0446eb324079c3fd2480f",
       "version_major": 2,
       "version_minor": 0
      },
      "text/plain": [
       "  0%|          | 0/1000 [00:00<?, ?it/s]"
      ]
     },
     "metadata": {},
     "output_type": "display_data"
    },
    {
     "name": "stderr",
     "output_type": "stream",
     "text": [
      "\r",
      " 88%|████████▊ | 882/1000 [03:41<00:36,  3.20it/s]"
     ]
    },
    {
     "data": {
      "application/vnd.jupyter.widget-view+json": {
       "model_id": "7c78c566f9bc4113a7612323a712a837",
       "version_major": 2,
       "version_minor": 0
      },
      "text/plain": [
       "  0%|          | 0/1000 [00:00<?, ?it/s]"
      ]
     },
     "metadata": {},
     "output_type": "display_data"
    },
    {
     "name": "stderr",
     "output_type": "stream",
     "text": [
      "\r",
      " 88%|████████▊ | 883/1000 [03:42<00:35,  3.28it/s]"
     ]
    },
    {
     "data": {
      "application/vnd.jupyter.widget-view+json": {
       "model_id": "0fedda3898384bc9a4ecbdeb3a42f984",
       "version_major": 2,
       "version_minor": 0
      },
      "text/plain": [
       "  0%|          | 0/1000 [00:00<?, ?it/s]"
      ]
     },
     "metadata": {},
     "output_type": "display_data"
    },
    {
     "name": "stderr",
     "output_type": "stream",
     "text": [
      "\r",
      " 88%|████████▊ | 884/1000 [03:42<00:33,  3.41it/s]"
     ]
    },
    {
     "data": {
      "application/vnd.jupyter.widget-view+json": {
       "model_id": "e91bc3cb78da4281bf3b1dc9d33b96b4",
       "version_major": 2,
       "version_minor": 0
      },
      "text/plain": [
       "  0%|          | 0/1000 [00:00<?, ?it/s]"
      ]
     },
     "metadata": {},
     "output_type": "display_data"
    },
    {
     "name": "stderr",
     "output_type": "stream",
     "text": [
      "\r",
      " 88%|████████▊ | 885/1000 [03:42<00:32,  3.51it/s]"
     ]
    },
    {
     "data": {
      "application/vnd.jupyter.widget-view+json": {
       "model_id": "a782d7fa68d246e2962613d3e47576b0",
       "version_major": 2,
       "version_minor": 0
      },
      "text/plain": [
       "  0%|          | 0/1000 [00:00<?, ?it/s]"
      ]
     },
     "metadata": {},
     "output_type": "display_data"
    },
    {
     "name": "stderr",
     "output_type": "stream",
     "text": [
      "\r",
      " 89%|████████▊ | 886/1000 [03:42<00:31,  3.57it/s]"
     ]
    },
    {
     "data": {
      "application/vnd.jupyter.widget-view+json": {
       "model_id": "c1e43058553b4d6f9148fdabeaf5b8e9",
       "version_major": 2,
       "version_minor": 0
      },
      "text/plain": [
       "  0%|          | 0/1000 [00:00<?, ?it/s]"
      ]
     },
     "metadata": {},
     "output_type": "display_data"
    },
    {
     "name": "stderr",
     "output_type": "stream",
     "text": [
      "\r",
      " 89%|████████▊ | 887/1000 [03:43<00:30,  3.69it/s]"
     ]
    },
    {
     "data": {
      "application/vnd.jupyter.widget-view+json": {
       "model_id": "77de496b79a843bd86c037cfc3660655",
       "version_major": 2,
       "version_minor": 0
      },
      "text/plain": [
       "  0%|          | 0/1000 [00:00<?, ?it/s]"
      ]
     },
     "metadata": {},
     "output_type": "display_data"
    },
    {
     "name": "stderr",
     "output_type": "stream",
     "text": [
      "\r",
      " 89%|████████▉ | 888/1000 [03:43<00:29,  3.76it/s]"
     ]
    },
    {
     "data": {
      "application/vnd.jupyter.widget-view+json": {
       "model_id": "15f73106639442a898b989f8aa3ccf33",
       "version_major": 2,
       "version_minor": 0
      },
      "text/plain": [
       "  0%|          | 0/1000 [00:00<?, ?it/s]"
      ]
     },
     "metadata": {},
     "output_type": "display_data"
    },
    {
     "name": "stderr",
     "output_type": "stream",
     "text": [
      "\r",
      " 89%|████████▉ | 889/1000 [03:43<00:30,  3.62it/s]"
     ]
    },
    {
     "data": {
      "application/vnd.jupyter.widget-view+json": {
       "model_id": "ce48810b768240aa87af09f0f3fa1cb9",
       "version_major": 2,
       "version_minor": 0
      },
      "text/plain": [
       "  0%|          | 0/1000 [00:00<?, ?it/s]"
      ]
     },
     "metadata": {},
     "output_type": "display_data"
    },
    {
     "name": "stderr",
     "output_type": "stream",
     "text": [
      "\r",
      " 89%|████████▉ | 890/1000 [03:43<00:29,  3.75it/s]"
     ]
    },
    {
     "data": {
      "application/vnd.jupyter.widget-view+json": {
       "model_id": "80edb9cd9d8d4136ba627cddcccb0e31",
       "version_major": 2,
       "version_minor": 0
      },
      "text/plain": [
       "  0%|          | 0/1000 [00:00<?, ?it/s]"
      ]
     },
     "metadata": {},
     "output_type": "display_data"
    },
    {
     "name": "stderr",
     "output_type": "stream",
     "text": [
      "\r",
      " 89%|████████▉ | 891/1000 [03:44<00:28,  3.80it/s]"
     ]
    },
    {
     "data": {
      "application/vnd.jupyter.widget-view+json": {
       "model_id": "da7bde2d518d4079b829fe84bbe011c9",
       "version_major": 2,
       "version_minor": 0
      },
      "text/plain": [
       "  0%|          | 0/1000 [00:00<?, ?it/s]"
      ]
     },
     "metadata": {},
     "output_type": "display_data"
    },
    {
     "name": "stderr",
     "output_type": "stream",
     "text": [
      "\r",
      " 89%|████████▉ | 892/1000 [03:44<00:27,  3.90it/s]"
     ]
    },
    {
     "data": {
      "application/vnd.jupyter.widget-view+json": {
       "model_id": "19f6bacdb83d472d8f54a2a7d834ac33",
       "version_major": 2,
       "version_minor": 0
      },
      "text/plain": [
       "  0%|          | 0/1000 [00:00<?, ?it/s]"
      ]
     },
     "metadata": {},
     "output_type": "display_data"
    },
    {
     "name": "stderr",
     "output_type": "stream",
     "text": [
      "\r",
      " 89%|████████▉ | 893/1000 [03:44<00:29,  3.66it/s]"
     ]
    },
    {
     "data": {
      "application/vnd.jupyter.widget-view+json": {
       "model_id": "edca54fe41f244a7a12292f55743d75a",
       "version_major": 2,
       "version_minor": 0
      },
      "text/plain": [
       "  0%|          | 0/1000 [00:00<?, ?it/s]"
      ]
     },
     "metadata": {},
     "output_type": "display_data"
    },
    {
     "name": "stderr",
     "output_type": "stream",
     "text": [
      "\r",
      " 89%|████████▉ | 894/1000 [03:45<00:29,  3.60it/s]"
     ]
    },
    {
     "data": {
      "application/vnd.jupyter.widget-view+json": {
       "model_id": "294fb0d8c41a433c9fda59f5eabca5d2",
       "version_major": 2,
       "version_minor": 0
      },
      "text/plain": [
       "  0%|          | 0/1000 [00:00<?, ?it/s]"
      ]
     },
     "metadata": {},
     "output_type": "display_data"
    },
    {
     "name": "stderr",
     "output_type": "stream",
     "text": [
      "\r",
      " 90%|████████▉ | 895/1000 [03:45<00:30,  3.49it/s]"
     ]
    },
    {
     "data": {
      "application/vnd.jupyter.widget-view+json": {
       "model_id": "e8a3db0a704a4daca4f05e41cc334aa4",
       "version_major": 2,
       "version_minor": 0
      },
      "text/plain": [
       "  0%|          | 0/1000 [00:00<?, ?it/s]"
      ]
     },
     "metadata": {},
     "output_type": "display_data"
    },
    {
     "name": "stderr",
     "output_type": "stream",
     "text": [
      "\r",
      " 90%|████████▉ | 896/1000 [03:45<00:30,  3.40it/s]"
     ]
    },
    {
     "data": {
      "application/vnd.jupyter.widget-view+json": {
       "model_id": "a6d1ca5077244a5ea09559e6f08328d0",
       "version_major": 2,
       "version_minor": 0
      },
      "text/plain": [
       "  0%|          | 0/1000 [00:00<?, ?it/s]"
      ]
     },
     "metadata": {},
     "output_type": "display_data"
    },
    {
     "name": "stderr",
     "output_type": "stream",
     "text": [
      "\r",
      " 90%|████████▉ | 897/1000 [03:45<00:30,  3.42it/s]"
     ]
    },
    {
     "data": {
      "application/vnd.jupyter.widget-view+json": {
       "model_id": "fa0f56c21d164753bf8c07a27d681ed5",
       "version_major": 2,
       "version_minor": 0
      },
      "text/plain": [
       "  0%|          | 0/1000 [00:00<?, ?it/s]"
      ]
     },
     "metadata": {},
     "output_type": "display_data"
    },
    {
     "name": "stderr",
     "output_type": "stream",
     "text": [
      "\r",
      " 90%|████████▉ | 898/1000 [03:46<00:28,  3.59it/s]"
     ]
    },
    {
     "data": {
      "application/vnd.jupyter.widget-view+json": {
       "model_id": "6e0827fd517843d0a36bb8953d5ed59d",
       "version_major": 2,
       "version_minor": 0
      },
      "text/plain": [
       "  0%|          | 0/1000 [00:00<?, ?it/s]"
      ]
     },
     "metadata": {},
     "output_type": "display_data"
    },
    {
     "name": "stderr",
     "output_type": "stream",
     "text": [
      "\r",
      " 90%|████████▉ | 899/1000 [03:46<00:28,  3.52it/s]"
     ]
    },
    {
     "data": {
      "application/vnd.jupyter.widget-view+json": {
       "model_id": "0f985b930b624238b30c0b4466389da6",
       "version_major": 2,
       "version_minor": 0
      },
      "text/plain": [
       "  0%|          | 0/1000 [00:00<?, ?it/s]"
      ]
     },
     "metadata": {},
     "output_type": "display_data"
    },
    {
     "name": "stderr",
     "output_type": "stream",
     "text": [
      "\r",
      " 90%|█████████ | 900/1000 [03:46<00:28,  3.46it/s]"
     ]
    },
    {
     "data": {
      "application/vnd.jupyter.widget-view+json": {
       "model_id": "fa05d6e0fb3f4b48b8f88105d42fc155",
       "version_major": 2,
       "version_minor": 0
      },
      "text/plain": [
       "  0%|          | 0/1000 [00:00<?, ?it/s]"
      ]
     },
     "metadata": {},
     "output_type": "display_data"
    },
    {
     "name": "stderr",
     "output_type": "stream",
     "text": [
      "\r",
      " 90%|█████████ | 901/1000 [03:47<00:29,  3.40it/s]"
     ]
    },
    {
     "data": {
      "application/vnd.jupyter.widget-view+json": {
       "model_id": "98041851e1774cc686770c450be50dd8",
       "version_major": 2,
       "version_minor": 0
      },
      "text/plain": [
       "  0%|          | 0/1000 [00:00<?, ?it/s]"
      ]
     },
     "metadata": {},
     "output_type": "display_data"
    },
    {
     "name": "stderr",
     "output_type": "stream",
     "text": [
      "\r",
      " 90%|█████████ | 902/1000 [03:47<00:28,  3.43it/s]"
     ]
    },
    {
     "data": {
      "application/vnd.jupyter.widget-view+json": {
       "model_id": "7c274a33fb554a91b3e06ded2b50b237",
       "version_major": 2,
       "version_minor": 0
      },
      "text/plain": [
       "  0%|          | 0/1000 [00:00<?, ?it/s]"
      ]
     },
     "metadata": {},
     "output_type": "display_data"
    },
    {
     "name": "stderr",
     "output_type": "stream",
     "text": [
      "\r",
      " 90%|█████████ | 903/1000 [03:47<00:28,  3.44it/s]"
     ]
    },
    {
     "data": {
      "application/vnd.jupyter.widget-view+json": {
       "model_id": "4ba428d828fd47079bbeb3eb76f962ee",
       "version_major": 2,
       "version_minor": 0
      },
      "text/plain": [
       "  0%|          | 0/1000 [00:00<?, ?it/s]"
      ]
     },
     "metadata": {},
     "output_type": "display_data"
    },
    {
     "name": "stderr",
     "output_type": "stream",
     "text": [
      "\r",
      " 90%|█████████ | 904/1000 [03:47<00:27,  3.43it/s]"
     ]
    },
    {
     "data": {
      "application/vnd.jupyter.widget-view+json": {
       "model_id": "0177d82d20f7433fb4cf118f2496efe2",
       "version_major": 2,
       "version_minor": 0
      },
      "text/plain": [
       "  0%|          | 0/1000 [00:00<?, ?it/s]"
      ]
     },
     "metadata": {},
     "output_type": "display_data"
    },
    {
     "name": "stderr",
     "output_type": "stream",
     "text": [
      "\r",
      " 90%|█████████ | 905/1000 [03:48<00:28,  3.32it/s]"
     ]
    },
    {
     "data": {
      "application/vnd.jupyter.widget-view+json": {
       "model_id": "6e07270ed94f4962bf3f202e1fdbb6ca",
       "version_major": 2,
       "version_minor": 0
      },
      "text/plain": [
       "  0%|          | 0/1000 [00:00<?, ?it/s]"
      ]
     },
     "metadata": {},
     "output_type": "display_data"
    },
    {
     "name": "stderr",
     "output_type": "stream",
     "text": [
      "\r",
      " 91%|█████████ | 906/1000 [03:48<00:28,  3.32it/s]"
     ]
    },
    {
     "data": {
      "application/vnd.jupyter.widget-view+json": {
       "model_id": "bcbe2034f620424c9dc5dd8a4a94c9ff",
       "version_major": 2,
       "version_minor": 0
      },
      "text/plain": [
       "  0%|          | 0/1000 [00:00<?, ?it/s]"
      ]
     },
     "metadata": {},
     "output_type": "display_data"
    },
    {
     "name": "stderr",
     "output_type": "stream",
     "text": [
      "\r",
      " 91%|█████████ | 907/1000 [03:48<00:27,  3.33it/s]"
     ]
    },
    {
     "data": {
      "application/vnd.jupyter.widget-view+json": {
       "model_id": "d6d52fe818714a279f632c6fd51dd9c9",
       "version_major": 2,
       "version_minor": 0
      },
      "text/plain": [
       "  0%|          | 0/1000 [00:00<?, ?it/s]"
      ]
     },
     "metadata": {},
     "output_type": "display_data"
    },
    {
     "name": "stderr",
     "output_type": "stream",
     "text": [
      "\r",
      " 91%|█████████ | 908/1000 [03:49<00:27,  3.38it/s]"
     ]
    },
    {
     "data": {
      "application/vnd.jupyter.widget-view+json": {
       "model_id": "53ea0632c6a54e72bcddf86c8051a12e",
       "version_major": 2,
       "version_minor": 0
      },
      "text/plain": [
       "  0%|          | 0/1000 [00:00<?, ?it/s]"
      ]
     },
     "metadata": {},
     "output_type": "display_data"
    },
    {
     "name": "stderr",
     "output_type": "stream",
     "text": [
      "\r",
      " 91%|█████████ | 909/1000 [03:49<00:26,  3.39it/s]"
     ]
    },
    {
     "data": {
      "application/vnd.jupyter.widget-view+json": {
       "model_id": "f3c095513cb4459da7fa6fdd71895006",
       "version_major": 2,
       "version_minor": 0
      },
      "text/plain": [
       "  0%|          | 0/1000 [00:00<?, ?it/s]"
      ]
     },
     "metadata": {},
     "output_type": "display_data"
    },
    {
     "name": "stderr",
     "output_type": "stream",
     "text": [
      "\r",
      " 91%|█████████ | 910/1000 [03:49<00:26,  3.40it/s]"
     ]
    },
    {
     "data": {
      "application/vnd.jupyter.widget-view+json": {
       "model_id": "36b828a23cf5480aa25458341a814e7e",
       "version_major": 2,
       "version_minor": 0
      },
      "text/plain": [
       "  0%|          | 0/1000 [00:00<?, ?it/s]"
      ]
     },
     "metadata": {},
     "output_type": "display_data"
    },
    {
     "name": "stderr",
     "output_type": "stream",
     "text": [
      "\r",
      " 91%|█████████ | 911/1000 [03:50<00:26,  3.39it/s]"
     ]
    },
    {
     "data": {
      "application/vnd.jupyter.widget-view+json": {
       "model_id": "12da5f85a3234048a26d2358c70f64e4",
       "version_major": 2,
       "version_minor": 0
      },
      "text/plain": [
       "  0%|          | 0/1000 [00:00<?, ?it/s]"
      ]
     },
     "metadata": {},
     "output_type": "display_data"
    },
    {
     "name": "stderr",
     "output_type": "stream",
     "text": [
      "\r",
      " 91%|█████████ | 912/1000 [03:50<00:25,  3.39it/s]"
     ]
    },
    {
     "data": {
      "application/vnd.jupyter.widget-view+json": {
       "model_id": "7e4b850fdf25467b8ad02c13753c7187",
       "version_major": 2,
       "version_minor": 0
      },
      "text/plain": [
       "  0%|          | 0/1000 [00:00<?, ?it/s]"
      ]
     },
     "metadata": {},
     "output_type": "display_data"
    },
    {
     "name": "stderr",
     "output_type": "stream",
     "text": [
      "\r",
      " 91%|█████████▏| 913/1000 [03:50<00:25,  3.44it/s]"
     ]
    },
    {
     "data": {
      "application/vnd.jupyter.widget-view+json": {
       "model_id": "d123f944ae374ea7a6d01e1755d69493",
       "version_major": 2,
       "version_minor": 0
      },
      "text/plain": [
       "  0%|          | 0/1000 [00:00<?, ?it/s]"
      ]
     },
     "metadata": {},
     "output_type": "display_data"
    },
    {
     "name": "stderr",
     "output_type": "stream",
     "text": [
      "\r",
      " 91%|█████████▏| 914/1000 [03:50<00:25,  3.36it/s]"
     ]
    },
    {
     "data": {
      "application/vnd.jupyter.widget-view+json": {
       "model_id": "81b5ec5e1fe64e1c8795aacefed89363",
       "version_major": 2,
       "version_minor": 0
      },
      "text/plain": [
       "  0%|          | 0/1000 [00:00<?, ?it/s]"
      ]
     },
     "metadata": {},
     "output_type": "display_data"
    },
    {
     "name": "stderr",
     "output_type": "stream",
     "text": [
      "\r",
      " 92%|█████████▏| 915/1000 [03:51<00:24,  3.46it/s]"
     ]
    },
    {
     "data": {
      "application/vnd.jupyter.widget-view+json": {
       "model_id": "bac59ff4e5954810a2698508b0a6ff72",
       "version_major": 2,
       "version_minor": 0
      },
      "text/plain": [
       "  0%|          | 0/1000 [00:00<?, ?it/s]"
      ]
     },
     "metadata": {},
     "output_type": "display_data"
    },
    {
     "name": "stderr",
     "output_type": "stream",
     "text": [
      "\r",
      " 92%|█████████▏| 916/1000 [03:51<00:24,  3.42it/s]"
     ]
    },
    {
     "data": {
      "application/vnd.jupyter.widget-view+json": {
       "model_id": "e99a9f1c59984ff78214e669fd2348be",
       "version_major": 2,
       "version_minor": 0
      },
      "text/plain": [
       "  0%|          | 0/1000 [00:00<?, ?it/s]"
      ]
     },
     "metadata": {},
     "output_type": "display_data"
    },
    {
     "name": "stderr",
     "output_type": "stream",
     "text": [
      "\r",
      " 92%|█████████▏| 917/1000 [03:51<00:24,  3.42it/s]"
     ]
    },
    {
     "data": {
      "application/vnd.jupyter.widget-view+json": {
       "model_id": "5927b62b983943e3adc6502562f2db0a",
       "version_major": 2,
       "version_minor": 0
      },
      "text/plain": [
       "  0%|          | 0/1000 [00:00<?, ?it/s]"
      ]
     },
     "metadata": {},
     "output_type": "display_data"
    },
    {
     "name": "stderr",
     "output_type": "stream",
     "text": [
      "\r",
      " 92%|█████████▏| 918/1000 [03:52<00:24,  3.39it/s]"
     ]
    },
    {
     "data": {
      "application/vnd.jupyter.widget-view+json": {
       "model_id": "7ceeb1254c564649882e7d9bab6feb45",
       "version_major": 2,
       "version_minor": 0
      },
      "text/plain": [
       "  0%|          | 0/1000 [00:00<?, ?it/s]"
      ]
     },
     "metadata": {},
     "output_type": "display_data"
    },
    {
     "name": "stderr",
     "output_type": "stream",
     "text": [
      "\r",
      " 92%|█████████▏| 919/1000 [03:52<00:23,  3.38it/s]"
     ]
    },
    {
     "data": {
      "application/vnd.jupyter.widget-view+json": {
       "model_id": "7e6992c247094e5f9b2ff0c7bf562b8f",
       "version_major": 2,
       "version_minor": 0
      },
      "text/plain": [
       "  0%|          | 0/1000 [00:00<?, ?it/s]"
      ]
     },
     "metadata": {},
     "output_type": "display_data"
    },
    {
     "name": "stderr",
     "output_type": "stream",
     "text": [
      "\r",
      " 92%|█████████▏| 920/1000 [03:52<00:23,  3.45it/s]"
     ]
    },
    {
     "data": {
      "application/vnd.jupyter.widget-view+json": {
       "model_id": "51bfd89dde2644bc9e6cd3ee0fe6d813",
       "version_major": 2,
       "version_minor": 0
      },
      "text/plain": [
       "  0%|          | 0/1000 [00:00<?, ?it/s]"
      ]
     },
     "metadata": {},
     "output_type": "display_data"
    },
    {
     "name": "stderr",
     "output_type": "stream",
     "text": [
      "\r",
      " 92%|█████████▏| 921/1000 [03:52<00:23,  3.42it/s]"
     ]
    },
    {
     "data": {
      "application/vnd.jupyter.widget-view+json": {
       "model_id": "8b1018329cfb43d88b4f29b6c7d74a34",
       "version_major": 2,
       "version_minor": 0
      },
      "text/plain": [
       "  0%|          | 0/1000 [00:00<?, ?it/s]"
      ]
     },
     "metadata": {},
     "output_type": "display_data"
    },
    {
     "name": "stderr",
     "output_type": "stream",
     "text": [
      "\r",
      " 92%|█████████▏| 922/1000 [03:53<00:22,  3.51it/s]"
     ]
    },
    {
     "data": {
      "application/vnd.jupyter.widget-view+json": {
       "model_id": "bc26ea3e2aea461e91c773feb0258c40",
       "version_major": 2,
       "version_minor": 0
      },
      "text/plain": [
       "  0%|          | 0/1000 [00:00<?, ?it/s]"
      ]
     },
     "metadata": {},
     "output_type": "display_data"
    },
    {
     "name": "stderr",
     "output_type": "stream",
     "text": [
      "\r",
      " 92%|█████████▏| 923/1000 [03:53<00:21,  3.65it/s]"
     ]
    },
    {
     "data": {
      "application/vnd.jupyter.widget-view+json": {
       "model_id": "3fd008e5e84e45cfac66a918d5348e68",
       "version_major": 2,
       "version_minor": 0
      },
      "text/plain": [
       "  0%|          | 0/1000 [00:00<?, ?it/s]"
      ]
     },
     "metadata": {},
     "output_type": "display_data"
    },
    {
     "name": "stderr",
     "output_type": "stream",
     "text": [
      "\r",
      " 92%|█████████▏| 924/1000 [03:53<00:20,  3.77it/s]"
     ]
    },
    {
     "data": {
      "application/vnd.jupyter.widget-view+json": {
       "model_id": "4771535a395d472dbd67a529df65361d",
       "version_major": 2,
       "version_minor": 0
      },
      "text/plain": [
       "  0%|          | 0/1000 [00:00<?, ?it/s]"
      ]
     },
     "metadata": {},
     "output_type": "display_data"
    },
    {
     "name": "stderr",
     "output_type": "stream",
     "text": [
      "\r",
      " 92%|█████████▎| 925/1000 [03:54<00:19,  3.82it/s]"
     ]
    },
    {
     "data": {
      "application/vnd.jupyter.widget-view+json": {
       "model_id": "1aef8fac623947748af8e52e4e337c41",
       "version_major": 2,
       "version_minor": 0
      },
      "text/plain": [
       "  0%|          | 0/1000 [00:00<?, ?it/s]"
      ]
     },
     "metadata": {},
     "output_type": "display_data"
    },
    {
     "name": "stderr",
     "output_type": "stream",
     "text": [
      "\r",
      " 93%|█████████▎| 926/1000 [03:54<00:19,  3.85it/s]"
     ]
    },
    {
     "data": {
      "application/vnd.jupyter.widget-view+json": {
       "model_id": "8d98e22ec96e4d20bb3ce275cf7762ee",
       "version_major": 2,
       "version_minor": 0
      },
      "text/plain": [
       "  0%|          | 0/1000 [00:00<?, ?it/s]"
      ]
     },
     "metadata": {},
     "output_type": "display_data"
    },
    {
     "name": "stderr",
     "output_type": "stream",
     "text": [
      "\r",
      " 93%|█████████▎| 927/1000 [03:54<00:19,  3.84it/s]"
     ]
    },
    {
     "data": {
      "application/vnd.jupyter.widget-view+json": {
       "model_id": "08936fcd824345b8a698356e48a6b68c",
       "version_major": 2,
       "version_minor": 0
      },
      "text/plain": [
       "  0%|          | 0/1000 [00:00<?, ?it/s]"
      ]
     },
     "metadata": {},
     "output_type": "display_data"
    },
    {
     "name": "stderr",
     "output_type": "stream",
     "text": [
      "\r",
      " 93%|█████████▎| 928/1000 [03:54<00:18,  3.84it/s]"
     ]
    },
    {
     "data": {
      "application/vnd.jupyter.widget-view+json": {
       "model_id": "8b541ba4541d4f7fb76bdc12a89c6670",
       "version_major": 2,
       "version_minor": 0
      },
      "text/plain": [
       "  0%|          | 0/1000 [00:00<?, ?it/s]"
      ]
     },
     "metadata": {},
     "output_type": "display_data"
    },
    {
     "name": "stderr",
     "output_type": "stream",
     "text": [
      "\r",
      " 93%|█████████▎| 929/1000 [03:55<00:18,  3.85it/s]"
     ]
    },
    {
     "data": {
      "application/vnd.jupyter.widget-view+json": {
       "model_id": "43b6152d827d420b9efaf54ab19d78d1",
       "version_major": 2,
       "version_minor": 0
      },
      "text/plain": [
       "  0%|          | 0/1000 [00:00<?, ?it/s]"
      ]
     },
     "metadata": {},
     "output_type": "display_data"
    },
    {
     "name": "stderr",
     "output_type": "stream",
     "text": [
      "\r",
      " 93%|█████████▎| 930/1000 [03:55<00:18,  3.80it/s]"
     ]
    },
    {
     "data": {
      "application/vnd.jupyter.widget-view+json": {
       "model_id": "2d8582e41ec84702be8c1ee1565442bf",
       "version_major": 2,
       "version_minor": 0
      },
      "text/plain": [
       "  0%|          | 0/1000 [00:00<?, ?it/s]"
      ]
     },
     "metadata": {},
     "output_type": "display_data"
    },
    {
     "name": "stderr",
     "output_type": "stream",
     "text": [
      "\r",
      " 93%|█████████▎| 931/1000 [03:55<00:18,  3.74it/s]"
     ]
    },
    {
     "data": {
      "application/vnd.jupyter.widget-view+json": {
       "model_id": "d3b72ae183b7486c8a4a6cee07dc060d",
       "version_major": 2,
       "version_minor": 0
      },
      "text/plain": [
       "  0%|          | 0/1000 [00:00<?, ?it/s]"
      ]
     },
     "metadata": {},
     "output_type": "display_data"
    },
    {
     "name": "stderr",
     "output_type": "stream",
     "text": [
      "\r",
      " 93%|█████████▎| 932/1000 [03:55<00:18,  3.65it/s]"
     ]
    },
    {
     "data": {
      "application/vnd.jupyter.widget-view+json": {
       "model_id": "d1df47ef791f4bd2b0df7a87d905d817",
       "version_major": 2,
       "version_minor": 0
      },
      "text/plain": [
       "  0%|          | 0/1000 [00:00<?, ?it/s]"
      ]
     },
     "metadata": {},
     "output_type": "display_data"
    },
    {
     "name": "stderr",
     "output_type": "stream",
     "text": [
      "\r",
      " 93%|█████████▎| 933/1000 [03:56<00:18,  3.60it/s]"
     ]
    },
    {
     "data": {
      "application/vnd.jupyter.widget-view+json": {
       "model_id": "3d49cddb7d254410af9384ac170d7183",
       "version_major": 2,
       "version_minor": 0
      },
      "text/plain": [
       "  0%|          | 0/1000 [00:00<?, ?it/s]"
      ]
     },
     "metadata": {},
     "output_type": "display_data"
    },
    {
     "name": "stderr",
     "output_type": "stream",
     "text": [
      "\r",
      " 93%|█████████▎| 934/1000 [03:56<00:19,  3.42it/s]"
     ]
    },
    {
     "data": {
      "application/vnd.jupyter.widget-view+json": {
       "model_id": "e35d416ddb264742aba379303872d63c",
       "version_major": 2,
       "version_minor": 0
      },
      "text/plain": [
       "  0%|          | 0/1000 [00:00<?, ?it/s]"
      ]
     },
     "metadata": {},
     "output_type": "display_data"
    },
    {
     "name": "stderr",
     "output_type": "stream",
     "text": [
      "\r",
      " 94%|█████████▎| 935/1000 [03:56<00:19,  3.32it/s]"
     ]
    },
    {
     "data": {
      "application/vnd.jupyter.widget-view+json": {
       "model_id": "9a59317a6a6241a5b41e57ffa79d9078",
       "version_major": 2,
       "version_minor": 0
      },
      "text/plain": [
       "  0%|          | 0/1000 [00:00<?, ?it/s]"
      ]
     },
     "metadata": {},
     "output_type": "display_data"
    },
    {
     "name": "stderr",
     "output_type": "stream",
     "text": [
      "\r",
      " 94%|█████████▎| 936/1000 [03:57<00:19,  3.37it/s]"
     ]
    },
    {
     "data": {
      "application/vnd.jupyter.widget-view+json": {
       "model_id": "cc8ee080448747f494a6550a06c5552a",
       "version_major": 2,
       "version_minor": 0
      },
      "text/plain": [
       "  0%|          | 0/1000 [00:00<?, ?it/s]"
      ]
     },
     "metadata": {},
     "output_type": "display_data"
    },
    {
     "name": "stderr",
     "output_type": "stream",
     "text": [
      "\r",
      " 94%|█████████▎| 937/1000 [03:57<00:18,  3.32it/s]"
     ]
    },
    {
     "data": {
      "application/vnd.jupyter.widget-view+json": {
       "model_id": "9809128e75334fd1b72ce9325ed52251",
       "version_major": 2,
       "version_minor": 0
      },
      "text/plain": [
       "  0%|          | 0/1000 [00:00<?, ?it/s]"
      ]
     },
     "metadata": {},
     "output_type": "display_data"
    },
    {
     "name": "stderr",
     "output_type": "stream",
     "text": [
      "\r",
      " 94%|█████████▍| 938/1000 [03:57<00:18,  3.31it/s]"
     ]
    },
    {
     "data": {
      "application/vnd.jupyter.widget-view+json": {
       "model_id": "f5e83a8d26064da291765e5f224eaa9b",
       "version_major": 2,
       "version_minor": 0
      },
      "text/plain": [
       "  0%|          | 0/1000 [00:00<?, ?it/s]"
      ]
     },
     "metadata": {},
     "output_type": "display_data"
    },
    {
     "name": "stderr",
     "output_type": "stream",
     "text": [
      "\r",
      " 94%|█████████▍| 939/1000 [03:58<00:19,  3.19it/s]"
     ]
    },
    {
     "data": {
      "application/vnd.jupyter.widget-view+json": {
       "model_id": "2459824e92f74c18b87e6f7510358df4",
       "version_major": 2,
       "version_minor": 0
      },
      "text/plain": [
       "  0%|          | 0/1000 [00:00<?, ?it/s]"
      ]
     },
     "metadata": {},
     "output_type": "display_data"
    },
    {
     "name": "stderr",
     "output_type": "stream",
     "text": [
      "\r",
      " 94%|█████████▍| 940/1000 [03:58<00:18,  3.21it/s]"
     ]
    },
    {
     "data": {
      "application/vnd.jupyter.widget-view+json": {
       "model_id": "27164914838440f297042d67fd2042d6",
       "version_major": 2,
       "version_minor": 0
      },
      "text/plain": [
       "  0%|          | 0/1000 [00:00<?, ?it/s]"
      ]
     },
     "metadata": {},
     "output_type": "display_data"
    },
    {
     "name": "stderr",
     "output_type": "stream",
     "text": [
      "\r",
      " 94%|█████████▍| 941/1000 [03:58<00:18,  3.20it/s]"
     ]
    },
    {
     "data": {
      "application/vnd.jupyter.widget-view+json": {
       "model_id": "6456b23720e64e8c94a026ac7c2d695c",
       "version_major": 2,
       "version_minor": 0
      },
      "text/plain": [
       "  0%|          | 0/1000 [00:00<?, ?it/s]"
      ]
     },
     "metadata": {},
     "output_type": "display_data"
    },
    {
     "name": "stderr",
     "output_type": "stream",
     "text": [
      "\r",
      " 94%|█████████▍| 942/1000 [03:59<00:18,  3.18it/s]"
     ]
    },
    {
     "data": {
      "application/vnd.jupyter.widget-view+json": {
       "model_id": "7cd3edaa3330473db7ab62e0100cb00c",
       "version_major": 2,
       "version_minor": 0
      },
      "text/plain": [
       "  0%|          | 0/1000 [00:00<?, ?it/s]"
      ]
     },
     "metadata": {},
     "output_type": "display_data"
    },
    {
     "name": "stderr",
     "output_type": "stream",
     "text": [
      "\r",
      " 94%|█████████▍| 943/1000 [03:59<00:17,  3.21it/s]"
     ]
    },
    {
     "data": {
      "application/vnd.jupyter.widget-view+json": {
       "model_id": "654653118a9a48a19b954ed00501c831",
       "version_major": 2,
       "version_minor": 0
      },
      "text/plain": [
       "  0%|          | 0/1000 [00:00<?, ?it/s]"
      ]
     },
     "metadata": {},
     "output_type": "display_data"
    },
    {
     "name": "stderr",
     "output_type": "stream",
     "text": [
      "\r",
      " 94%|█████████▍| 944/1000 [03:59<00:17,  3.23it/s]"
     ]
    },
    {
     "data": {
      "application/vnd.jupyter.widget-view+json": {
       "model_id": "9eb0d4105f9c4330b62dba02f7270645",
       "version_major": 2,
       "version_minor": 0
      },
      "text/plain": [
       "  0%|          | 0/1000 [00:00<?, ?it/s]"
      ]
     },
     "metadata": {},
     "output_type": "display_data"
    },
    {
     "name": "stderr",
     "output_type": "stream",
     "text": [
      "\r",
      " 94%|█████████▍| 945/1000 [03:59<00:16,  3.30it/s]"
     ]
    },
    {
     "data": {
      "application/vnd.jupyter.widget-view+json": {
       "model_id": "f7abc2ff5b864d11a11af568ee3543f2",
       "version_major": 2,
       "version_minor": 0
      },
      "text/plain": [
       "  0%|          | 0/1000 [00:00<?, ?it/s]"
      ]
     },
     "metadata": {},
     "output_type": "display_data"
    },
    {
     "name": "stderr",
     "output_type": "stream",
     "text": [
      "\r",
      " 95%|█████████▍| 946/1000 [04:00<00:16,  3.30it/s]"
     ]
    },
    {
     "data": {
      "application/vnd.jupyter.widget-view+json": {
       "model_id": "106a30c8f3534b07869b90f9134473af",
       "version_major": 2,
       "version_minor": 0
      },
      "text/plain": [
       "  0%|          | 0/1000 [00:00<?, ?it/s]"
      ]
     },
     "metadata": {},
     "output_type": "display_data"
    },
    {
     "name": "stderr",
     "output_type": "stream",
     "text": [
      "\r",
      " 95%|█████████▍| 947/1000 [04:00<00:16,  3.22it/s]"
     ]
    },
    {
     "data": {
      "application/vnd.jupyter.widget-view+json": {
       "model_id": "13a19a7e6f894e1c8d71fc0148a89a03",
       "version_major": 2,
       "version_minor": 0
      },
      "text/plain": [
       "  0%|          | 0/1000 [00:00<?, ?it/s]"
      ]
     },
     "metadata": {},
     "output_type": "display_data"
    },
    {
     "name": "stderr",
     "output_type": "stream",
     "text": [
      "\r",
      " 95%|█████████▍| 948/1000 [04:00<00:15,  3.28it/s]"
     ]
    },
    {
     "data": {
      "application/vnd.jupyter.widget-view+json": {
       "model_id": "fb3e1fb749cf44ed816fce0a5f894fd0",
       "version_major": 2,
       "version_minor": 0
      },
      "text/plain": [
       "  0%|          | 0/1000 [00:00<?, ?it/s]"
      ]
     },
     "metadata": {},
     "output_type": "display_data"
    },
    {
     "name": "stderr",
     "output_type": "stream",
     "text": [
      "\r",
      " 95%|█████████▍| 949/1000 [04:01<00:15,  3.23it/s]"
     ]
    },
    {
     "data": {
      "application/vnd.jupyter.widget-view+json": {
       "model_id": "417cd891dcc645198cde7ebff8029dad",
       "version_major": 2,
       "version_minor": 0
      },
      "text/plain": [
       "  0%|          | 0/1000 [00:00<?, ?it/s]"
      ]
     },
     "metadata": {},
     "output_type": "display_data"
    },
    {
     "name": "stderr",
     "output_type": "stream",
     "text": [
      "\r",
      " 95%|█████████▌| 950/1000 [04:01<00:15,  3.23it/s]"
     ]
    },
    {
     "data": {
      "application/vnd.jupyter.widget-view+json": {
       "model_id": "6c6f957f905f470d81a720cf8e2030ce",
       "version_major": 2,
       "version_minor": 0
      },
      "text/plain": [
       "  0%|          | 0/1000 [00:00<?, ?it/s]"
      ]
     },
     "metadata": {},
     "output_type": "display_data"
    },
    {
     "name": "stderr",
     "output_type": "stream",
     "text": [
      "\r",
      " 95%|█████████▌| 951/1000 [04:01<00:14,  3.30it/s]"
     ]
    },
    {
     "data": {
      "application/vnd.jupyter.widget-view+json": {
       "model_id": "ebee12b91443486199255369c1b2f871",
       "version_major": 2,
       "version_minor": 0
      },
      "text/plain": [
       "  0%|          | 0/1000 [00:00<?, ?it/s]"
      ]
     },
     "metadata": {},
     "output_type": "display_data"
    },
    {
     "name": "stderr",
     "output_type": "stream",
     "text": [
      "\r",
      " 95%|█████████▌| 952/1000 [04:02<00:14,  3.32it/s]"
     ]
    },
    {
     "data": {
      "application/vnd.jupyter.widget-view+json": {
       "model_id": "2e628637e6b94ec48f16e88adc7d332b",
       "version_major": 2,
       "version_minor": 0
      },
      "text/plain": [
       "  0%|          | 0/1000 [00:00<?, ?it/s]"
      ]
     },
     "metadata": {},
     "output_type": "display_data"
    },
    {
     "name": "stderr",
     "output_type": "stream",
     "text": [
      "\r",
      " 95%|█████████▌| 953/1000 [04:02<00:14,  3.35it/s]"
     ]
    },
    {
     "data": {
      "application/vnd.jupyter.widget-view+json": {
       "model_id": "382458c7d1ac48589fb24a4064462299",
       "version_major": 2,
       "version_minor": 0
      },
      "text/plain": [
       "  0%|          | 0/1000 [00:00<?, ?it/s]"
      ]
     },
     "metadata": {},
     "output_type": "display_data"
    },
    {
     "name": "stderr",
     "output_type": "stream",
     "text": [
      "\r",
      " 95%|█████████▌| 954/1000 [04:02<00:13,  3.39it/s]"
     ]
    },
    {
     "data": {
      "application/vnd.jupyter.widget-view+json": {
       "model_id": "524ef6a7fd5e41a19e15a63679bb0ec4",
       "version_major": 2,
       "version_minor": 0
      },
      "text/plain": [
       "  0%|          | 0/1000 [00:00<?, ?it/s]"
      ]
     },
     "metadata": {},
     "output_type": "display_data"
    },
    {
     "name": "stderr",
     "output_type": "stream",
     "text": [
      "\r",
      " 96%|█████████▌| 955/1000 [04:02<00:13,  3.30it/s]"
     ]
    },
    {
     "data": {
      "application/vnd.jupyter.widget-view+json": {
       "model_id": "55e4a373d3f340a295a3468282e784bf",
       "version_major": 2,
       "version_minor": 0
      },
      "text/plain": [
       "  0%|          | 0/1000 [00:00<?, ?it/s]"
      ]
     },
     "metadata": {},
     "output_type": "display_data"
    },
    {
     "name": "stderr",
     "output_type": "stream",
     "text": [
      "\r",
      " 96%|█████████▌| 956/1000 [04:03<00:13,  3.30it/s]"
     ]
    },
    {
     "data": {
      "application/vnd.jupyter.widget-view+json": {
       "model_id": "91aee7569a7944848912a5562076a9b8",
       "version_major": 2,
       "version_minor": 0
      },
      "text/plain": [
       "  0%|          | 0/1000 [00:00<?, ?it/s]"
      ]
     },
     "metadata": {},
     "output_type": "display_data"
    },
    {
     "name": "stderr",
     "output_type": "stream",
     "text": [
      "\r",
      " 96%|█████████▌| 957/1000 [04:03<00:13,  3.25it/s]"
     ]
    },
    {
     "data": {
      "application/vnd.jupyter.widget-view+json": {
       "model_id": "0407b7f7caa24019b0c22548b5db6296",
       "version_major": 2,
       "version_minor": 0
      },
      "text/plain": [
       "  0%|          | 0/1000 [00:00<?, ?it/s]"
      ]
     },
     "metadata": {},
     "output_type": "display_data"
    },
    {
     "name": "stderr",
     "output_type": "stream",
     "text": [
      "\r",
      " 96%|█████████▌| 958/1000 [04:03<00:12,  3.33it/s]"
     ]
    },
    {
     "data": {
      "application/vnd.jupyter.widget-view+json": {
       "model_id": "97e652b710ad4c4ca2e885c6914b0e60",
       "version_major": 2,
       "version_minor": 0
      },
      "text/plain": [
       "  0%|          | 0/1000 [00:00<?, ?it/s]"
      ]
     },
     "metadata": {},
     "output_type": "display_data"
    },
    {
     "name": "stderr",
     "output_type": "stream",
     "text": [
      "\r",
      " 96%|█████████▌| 959/1000 [04:04<00:12,  3.38it/s]"
     ]
    },
    {
     "data": {
      "application/vnd.jupyter.widget-view+json": {
       "model_id": "af4077ed28c84b358a10db963271327c",
       "version_major": 2,
       "version_minor": 0
      },
      "text/plain": [
       "  0%|          | 0/1000 [00:00<?, ?it/s]"
      ]
     },
     "metadata": {},
     "output_type": "display_data"
    },
    {
     "name": "stderr",
     "output_type": "stream",
     "text": [
      "\r",
      " 96%|█████████▌| 960/1000 [04:04<00:12,  3.32it/s]"
     ]
    },
    {
     "data": {
      "application/vnd.jupyter.widget-view+json": {
       "model_id": "25d293d6e5b84a95a0d84436e666a028",
       "version_major": 2,
       "version_minor": 0
      },
      "text/plain": [
       "  0%|          | 0/1000 [00:00<?, ?it/s]"
      ]
     },
     "metadata": {},
     "output_type": "display_data"
    },
    {
     "name": "stderr",
     "output_type": "stream",
     "text": [
      "\r",
      " 96%|█████████▌| 961/1000 [04:04<00:11,  3.41it/s]"
     ]
    },
    {
     "data": {
      "application/vnd.jupyter.widget-view+json": {
       "model_id": "2716b8467b994d95b2a32548cb2bccee",
       "version_major": 2,
       "version_minor": 0
      },
      "text/plain": [
       "  0%|          | 0/1000 [00:00<?, ?it/s]"
      ]
     },
     "metadata": {},
     "output_type": "display_data"
    },
    {
     "name": "stderr",
     "output_type": "stream",
     "text": [
      "\r",
      " 96%|█████████▌| 962/1000 [04:05<00:11,  3.28it/s]"
     ]
    },
    {
     "data": {
      "application/vnd.jupyter.widget-view+json": {
       "model_id": "2329cb79a4f34a5995f9743848e9da2f",
       "version_major": 2,
       "version_minor": 0
      },
      "text/plain": [
       "  0%|          | 0/1000 [00:00<?, ?it/s]"
      ]
     },
     "metadata": {},
     "output_type": "display_data"
    },
    {
     "name": "stderr",
     "output_type": "stream",
     "text": [
      "\r",
      " 96%|█████████▋| 963/1000 [04:05<00:11,  3.27it/s]"
     ]
    },
    {
     "data": {
      "application/vnd.jupyter.widget-view+json": {
       "model_id": "29c0644f83884437b5aebecbe6287c72",
       "version_major": 2,
       "version_minor": 0
      },
      "text/plain": [
       "  0%|          | 0/1000 [00:00<?, ?it/s]"
      ]
     },
     "metadata": {},
     "output_type": "display_data"
    },
    {
     "name": "stderr",
     "output_type": "stream",
     "text": [
      "\r",
      " 96%|█████████▋| 964/1000 [04:05<00:10,  3.34it/s]"
     ]
    },
    {
     "data": {
      "application/vnd.jupyter.widget-view+json": {
       "model_id": "f0b9ea2dbfa6401b8dc262b5d5d17cac",
       "version_major": 2,
       "version_minor": 0
      },
      "text/plain": [
       "  0%|          | 0/1000 [00:00<?, ?it/s]"
      ]
     },
     "metadata": {},
     "output_type": "display_data"
    },
    {
     "name": "stderr",
     "output_type": "stream",
     "text": [
      "\r",
      " 96%|█████████▋| 965/1000 [04:05<00:10,  3.36it/s]"
     ]
    },
    {
     "data": {
      "application/vnd.jupyter.widget-view+json": {
       "model_id": "8931e52e824b4e4c8f5bef0594d681d9",
       "version_major": 2,
       "version_minor": 0
      },
      "text/plain": [
       "  0%|          | 0/1000 [00:00<?, ?it/s]"
      ]
     },
     "metadata": {},
     "output_type": "display_data"
    },
    {
     "name": "stderr",
     "output_type": "stream",
     "text": [
      "\r",
      " 97%|█████████▋| 966/1000 [04:06<00:10,  3.39it/s]"
     ]
    },
    {
     "data": {
      "application/vnd.jupyter.widget-view+json": {
       "model_id": "355b3b7424d14e1c991b52ab172d406f",
       "version_major": 2,
       "version_minor": 0
      },
      "text/plain": [
       "  0%|          | 0/1000 [00:00<?, ?it/s]"
      ]
     },
     "metadata": {},
     "output_type": "display_data"
    },
    {
     "name": "stderr",
     "output_type": "stream",
     "text": [
      "\r",
      " 97%|█████████▋| 967/1000 [04:06<00:09,  3.40it/s]"
     ]
    },
    {
     "data": {
      "application/vnd.jupyter.widget-view+json": {
       "model_id": "c26955f0871d47fa886cae253457ed41",
       "version_major": 2,
       "version_minor": 0
      },
      "text/plain": [
       "  0%|          | 0/1000 [00:00<?, ?it/s]"
      ]
     },
     "metadata": {},
     "output_type": "display_data"
    },
    {
     "name": "stderr",
     "output_type": "stream",
     "text": [
      "\r",
      " 97%|█████████▋| 968/1000 [04:06<00:10,  3.11it/s]"
     ]
    },
    {
     "data": {
      "application/vnd.jupyter.widget-view+json": {
       "model_id": "da50d17f0e234a9188ee604beb7dea3c",
       "version_major": 2,
       "version_minor": 0
      },
      "text/plain": [
       "  0%|          | 0/1000 [00:00<?, ?it/s]"
      ]
     },
     "metadata": {},
     "output_type": "display_data"
    },
    {
     "name": "stderr",
     "output_type": "stream",
     "text": [
      "\r",
      " 97%|█████████▋| 969/1000 [04:07<00:09,  3.23it/s]"
     ]
    },
    {
     "data": {
      "application/vnd.jupyter.widget-view+json": {
       "model_id": "6c868cd552f34559a08cfb3729056115",
       "version_major": 2,
       "version_minor": 0
      },
      "text/plain": [
       "  0%|          | 0/1000 [00:00<?, ?it/s]"
      ]
     },
     "metadata": {},
     "output_type": "display_data"
    },
    {
     "name": "stderr",
     "output_type": "stream",
     "text": [
      "\r",
      " 97%|█████████▋| 970/1000 [04:07<00:09,  3.23it/s]"
     ]
    },
    {
     "data": {
      "application/vnd.jupyter.widget-view+json": {
       "model_id": "9c1704c344314a82a65c2edf03a379d2",
       "version_major": 2,
       "version_minor": 0
      },
      "text/plain": [
       "  0%|          | 0/1000 [00:00<?, ?it/s]"
      ]
     },
     "metadata": {},
     "output_type": "display_data"
    },
    {
     "name": "stderr",
     "output_type": "stream",
     "text": [
      "\r",
      " 97%|█████████▋| 971/1000 [04:07<00:08,  3.24it/s]"
     ]
    },
    {
     "data": {
      "application/vnd.jupyter.widget-view+json": {
       "model_id": "9ca01a930d804c769038002ab236583e",
       "version_major": 2,
       "version_minor": 0
      },
      "text/plain": [
       "  0%|          | 0/1000 [00:00<?, ?it/s]"
      ]
     },
     "metadata": {},
     "output_type": "display_data"
    },
    {
     "name": "stderr",
     "output_type": "stream",
     "text": [
      "\r",
      " 97%|█████████▋| 972/1000 [04:08<00:08,  3.14it/s]"
     ]
    },
    {
     "data": {
      "application/vnd.jupyter.widget-view+json": {
       "model_id": "4d0a416ec75b4bd7b0436937ed761d1e",
       "version_major": 2,
       "version_minor": 0
      },
      "text/plain": [
       "  0%|          | 0/1000 [00:00<?, ?it/s]"
      ]
     },
     "metadata": {},
     "output_type": "display_data"
    },
    {
     "name": "stderr",
     "output_type": "stream",
     "text": [
      "\r",
      " 97%|█████████▋| 973/1000 [04:08<00:08,  3.22it/s]"
     ]
    },
    {
     "data": {
      "application/vnd.jupyter.widget-view+json": {
       "model_id": "8509bea6b17a4f0596fb51097bb2feb1",
       "version_major": 2,
       "version_minor": 0
      },
      "text/plain": [
       "  0%|          | 0/1000 [00:00<?, ?it/s]"
      ]
     },
     "metadata": {},
     "output_type": "display_data"
    },
    {
     "name": "stderr",
     "output_type": "stream",
     "text": [
      "\r",
      " 97%|█████████▋| 974/1000 [04:08<00:08,  3.22it/s]"
     ]
    },
    {
     "data": {
      "application/vnd.jupyter.widget-view+json": {
       "model_id": "1a84c5e9ffd84ba8ba0b4a767ffe8598",
       "version_major": 2,
       "version_minor": 0
      },
      "text/plain": [
       "  0%|          | 0/1000 [00:00<?, ?it/s]"
      ]
     },
     "metadata": {},
     "output_type": "display_data"
    },
    {
     "name": "stderr",
     "output_type": "stream",
     "text": [
      "\r",
      " 98%|█████████▊| 975/1000 [04:09<00:07,  3.23it/s]"
     ]
    },
    {
     "data": {
      "application/vnd.jupyter.widget-view+json": {
       "model_id": "2ba3c7a00a58437ab9e43dcc5d6253c9",
       "version_major": 2,
       "version_minor": 0
      },
      "text/plain": [
       "  0%|          | 0/1000 [00:00<?, ?it/s]"
      ]
     },
     "metadata": {},
     "output_type": "display_data"
    },
    {
     "name": "stderr",
     "output_type": "stream",
     "text": [
      "\r",
      " 98%|█████████▊| 976/1000 [04:09<00:07,  3.21it/s]"
     ]
    },
    {
     "data": {
      "application/vnd.jupyter.widget-view+json": {
       "model_id": "0bc529f3b86f41d592e1bcffc529481e",
       "version_major": 2,
       "version_minor": 0
      },
      "text/plain": [
       "  0%|          | 0/1000 [00:00<?, ?it/s]"
      ]
     },
     "metadata": {},
     "output_type": "display_data"
    },
    {
     "name": "stderr",
     "output_type": "stream",
     "text": [
      "\r",
      " 98%|█████████▊| 977/1000 [04:09<00:07,  3.23it/s]"
     ]
    },
    {
     "data": {
      "application/vnd.jupyter.widget-view+json": {
       "model_id": "9aada104c9314a62b17a5bcf40dcde4b",
       "version_major": 2,
       "version_minor": 0
      },
      "text/plain": [
       "  0%|          | 0/1000 [00:00<?, ?it/s]"
      ]
     },
     "metadata": {},
     "output_type": "display_data"
    },
    {
     "name": "stderr",
     "output_type": "stream",
     "text": [
      "\r",
      " 98%|█████████▊| 978/1000 [04:09<00:06,  3.32it/s]"
     ]
    },
    {
     "data": {
      "application/vnd.jupyter.widget-view+json": {
       "model_id": "043fb514b79e4f41b3570d5ef259f0fa",
       "version_major": 2,
       "version_minor": 0
      },
      "text/plain": [
       "  0%|          | 0/1000 [00:00<?, ?it/s]"
      ]
     },
     "metadata": {},
     "output_type": "display_data"
    },
    {
     "name": "stderr",
     "output_type": "stream",
     "text": [
      "\r",
      " 98%|█████████▊| 979/1000 [04:10<00:06,  3.34it/s]"
     ]
    },
    {
     "data": {
      "application/vnd.jupyter.widget-view+json": {
       "model_id": "b7f2fa6b0a574899a570268b2f9c91bf",
       "version_major": 2,
       "version_minor": 0
      },
      "text/plain": [
       "  0%|          | 0/1000 [00:00<?, ?it/s]"
      ]
     },
     "metadata": {},
     "output_type": "display_data"
    },
    {
     "name": "stderr",
     "output_type": "stream",
     "text": [
      "\r",
      " 98%|█████████▊| 980/1000 [04:10<00:05,  3.35it/s]"
     ]
    },
    {
     "data": {
      "application/vnd.jupyter.widget-view+json": {
       "model_id": "28d47fa563f34c8dbf9da213a89e3867",
       "version_major": 2,
       "version_minor": 0
      },
      "text/plain": [
       "  0%|          | 0/1000 [00:00<?, ?it/s]"
      ]
     },
     "metadata": {},
     "output_type": "display_data"
    },
    {
     "name": "stderr",
     "output_type": "stream",
     "text": [
      "\r",
      " 98%|█████████▊| 981/1000 [04:10<00:05,  3.31it/s]"
     ]
    },
    {
     "data": {
      "application/vnd.jupyter.widget-view+json": {
       "model_id": "0a1f74cbbf76418ab154ad72c47aa1a7",
       "version_major": 2,
       "version_minor": 0
      },
      "text/plain": [
       "  0%|          | 0/1000 [00:00<?, ?it/s]"
      ]
     },
     "metadata": {},
     "output_type": "display_data"
    },
    {
     "name": "stderr",
     "output_type": "stream",
     "text": [
      "\r",
      " 98%|█████████▊| 982/1000 [04:11<00:05,  3.34it/s]"
     ]
    },
    {
     "data": {
      "application/vnd.jupyter.widget-view+json": {
       "model_id": "f8a2fcbb4d8c41b895be41b24f03d1cd",
       "version_major": 2,
       "version_minor": 0
      },
      "text/plain": [
       "  0%|          | 0/1000 [00:00<?, ?it/s]"
      ]
     },
     "metadata": {},
     "output_type": "display_data"
    },
    {
     "name": "stderr",
     "output_type": "stream",
     "text": [
      "\r",
      " 98%|█████████▊| 983/1000 [04:11<00:04,  3.49it/s]"
     ]
    },
    {
     "data": {
      "application/vnd.jupyter.widget-view+json": {
       "model_id": "6a17a71d1cd3444baca75dbbaa07802b",
       "version_major": 2,
       "version_minor": 0
      },
      "text/plain": [
       "  0%|          | 0/1000 [00:00<?, ?it/s]"
      ]
     },
     "metadata": {},
     "output_type": "display_data"
    },
    {
     "name": "stderr",
     "output_type": "stream",
     "text": [
      "\r",
      " 98%|█████████▊| 984/1000 [04:11<00:04,  3.67it/s]"
     ]
    },
    {
     "data": {
      "application/vnd.jupyter.widget-view+json": {
       "model_id": "02011ccb166f4c37856743d63ba1398a",
       "version_major": 2,
       "version_minor": 0
      },
      "text/plain": [
       "  0%|          | 0/1000 [00:00<?, ?it/s]"
      ]
     },
     "metadata": {},
     "output_type": "display_data"
    },
    {
     "name": "stderr",
     "output_type": "stream",
     "text": [
      "\r",
      " 98%|█████████▊| 985/1000 [04:11<00:03,  3.78it/s]"
     ]
    },
    {
     "data": {
      "application/vnd.jupyter.widget-view+json": {
       "model_id": "071c00c8d4c24cbab248f8bafc0e2654",
       "version_major": 2,
       "version_minor": 0
      },
      "text/plain": [
       "  0%|          | 0/1000 [00:00<?, ?it/s]"
      ]
     },
     "metadata": {},
     "output_type": "display_data"
    },
    {
     "name": "stderr",
     "output_type": "stream",
     "text": [
      "\r",
      " 99%|█████████▊| 986/1000 [04:12<00:03,  3.87it/s]"
     ]
    },
    {
     "data": {
      "application/vnd.jupyter.widget-view+json": {
       "model_id": "1cd08ed1dd064e6c8c0e76d02a043f14",
       "version_major": 2,
       "version_minor": 0
      },
      "text/plain": [
       "  0%|          | 0/1000 [00:00<?, ?it/s]"
      ]
     },
     "metadata": {},
     "output_type": "display_data"
    },
    {
     "name": "stderr",
     "output_type": "stream",
     "text": [
      "\r",
      " 99%|█████████▊| 987/1000 [04:12<00:03,  3.94it/s]"
     ]
    },
    {
     "data": {
      "application/vnd.jupyter.widget-view+json": {
       "model_id": "0e2e8dd8422f4b68bf991e9364a40473",
       "version_major": 2,
       "version_minor": 0
      },
      "text/plain": [
       "  0%|          | 0/1000 [00:00<?, ?it/s]"
      ]
     },
     "metadata": {},
     "output_type": "display_data"
    },
    {
     "name": "stderr",
     "output_type": "stream",
     "text": [
      "\r",
      " 99%|█████████▉| 988/1000 [04:12<00:03,  3.97it/s]"
     ]
    },
    {
     "data": {
      "application/vnd.jupyter.widget-view+json": {
       "model_id": "f1f56aec0df34695925cf63c22696533",
       "version_major": 2,
       "version_minor": 0
      },
      "text/plain": [
       "  0%|          | 0/1000 [00:00<?, ?it/s]"
      ]
     },
     "metadata": {},
     "output_type": "display_data"
    },
    {
     "name": "stderr",
     "output_type": "stream",
     "text": [
      "\r",
      " 99%|█████████▉| 989/1000 [04:12<00:02,  3.88it/s]"
     ]
    },
    {
     "data": {
      "application/vnd.jupyter.widget-view+json": {
       "model_id": "efc28299e5a34bf7afb754977f6d9602",
       "version_major": 2,
       "version_minor": 0
      },
      "text/plain": [
       "  0%|          | 0/1000 [00:00<?, ?it/s]"
      ]
     },
     "metadata": {},
     "output_type": "display_data"
    },
    {
     "name": "stderr",
     "output_type": "stream",
     "text": [
      "\r",
      " 99%|█████████▉| 990/1000 [04:13<00:02,  3.98it/s]"
     ]
    },
    {
     "data": {
      "application/vnd.jupyter.widget-view+json": {
       "model_id": "080acf767ba4435e95c360d66f9a420b",
       "version_major": 2,
       "version_minor": 0
      },
      "text/plain": [
       "  0%|          | 0/1000 [00:00<?, ?it/s]"
      ]
     },
     "metadata": {},
     "output_type": "display_data"
    },
    {
     "name": "stderr",
     "output_type": "stream",
     "text": [
      "\r",
      " 99%|█████████▉| 991/1000 [04:13<00:02,  4.00it/s]"
     ]
    },
    {
     "data": {
      "application/vnd.jupyter.widget-view+json": {
       "model_id": "9c0d25c8cc3c4275af0349eda35f95a8",
       "version_major": 2,
       "version_minor": 0
      },
      "text/plain": [
       "  0%|          | 0/1000 [00:00<?, ?it/s]"
      ]
     },
     "metadata": {},
     "output_type": "display_data"
    },
    {
     "name": "stderr",
     "output_type": "stream",
     "text": [
      "\r",
      " 99%|█████████▉| 992/1000 [04:13<00:01,  4.08it/s]"
     ]
    },
    {
     "data": {
      "application/vnd.jupyter.widget-view+json": {
       "model_id": "3e092b36bc6c4394b93999d9fefb4cc8",
       "version_major": 2,
       "version_minor": 0
      },
      "text/plain": [
       "  0%|          | 0/1000 [00:00<?, ?it/s]"
      ]
     },
     "metadata": {},
     "output_type": "display_data"
    },
    {
     "name": "stderr",
     "output_type": "stream",
     "text": [
      "\r",
      " 99%|█████████▉| 993/1000 [04:13<00:01,  4.07it/s]"
     ]
    },
    {
     "data": {
      "application/vnd.jupyter.widget-view+json": {
       "model_id": "ae4e112567e049908f1e051da00613e5",
       "version_major": 2,
       "version_minor": 0
      },
      "text/plain": [
       "  0%|          | 0/1000 [00:00<?, ?it/s]"
      ]
     },
     "metadata": {},
     "output_type": "display_data"
    },
    {
     "name": "stderr",
     "output_type": "stream",
     "text": [
      "\r",
      " 99%|█████████▉| 994/1000 [04:14<00:01,  3.99it/s]"
     ]
    },
    {
     "data": {
      "application/vnd.jupyter.widget-view+json": {
       "model_id": "3aabe700d70a49778b40c328b8a493f5",
       "version_major": 2,
       "version_minor": 0
      },
      "text/plain": [
       "  0%|          | 0/1000 [00:00<?, ?it/s]"
      ]
     },
     "metadata": {},
     "output_type": "display_data"
    },
    {
     "name": "stderr",
     "output_type": "stream",
     "text": [
      "\r",
      "100%|█████████▉| 995/1000 [04:14<00:01,  3.88it/s]"
     ]
    },
    {
     "data": {
      "application/vnd.jupyter.widget-view+json": {
       "model_id": "cf8646e3c60d42deaf554b04ebbfde1f",
       "version_major": 2,
       "version_minor": 0
      },
      "text/plain": [
       "  0%|          | 0/1000 [00:00<?, ?it/s]"
      ]
     },
     "metadata": {},
     "output_type": "display_data"
    },
    {
     "name": "stderr",
     "output_type": "stream",
     "text": [
      "\r",
      "100%|█████████▉| 996/1000 [04:14<00:01,  3.93it/s]"
     ]
    },
    {
     "data": {
      "application/vnd.jupyter.widget-view+json": {
       "model_id": "15c2d992038a4a599756d02ce11dbb4b",
       "version_major": 2,
       "version_minor": 0
      },
      "text/plain": [
       "  0%|          | 0/1000 [00:00<?, ?it/s]"
      ]
     },
     "metadata": {},
     "output_type": "display_data"
    },
    {
     "name": "stderr",
     "output_type": "stream",
     "text": [
      "\r",
      "100%|█████████▉| 997/1000 [04:14<00:00,  3.86it/s]"
     ]
    },
    {
     "data": {
      "application/vnd.jupyter.widget-view+json": {
       "model_id": "8a2c882bc9ee4083b0bed191b3b5abea",
       "version_major": 2,
       "version_minor": 0
      },
      "text/plain": [
       "  0%|          | 0/1000 [00:00<?, ?it/s]"
      ]
     },
     "metadata": {},
     "output_type": "display_data"
    },
    {
     "name": "stderr",
     "output_type": "stream",
     "text": [
      "\r",
      "100%|█████████▉| 998/1000 [04:15<00:00,  3.86it/s]"
     ]
    },
    {
     "data": {
      "application/vnd.jupyter.widget-view+json": {
       "model_id": "466786d6b86d447884b6e1d5ccafbd80",
       "version_major": 2,
       "version_minor": 0
      },
      "text/plain": [
       "  0%|          | 0/1000 [00:00<?, ?it/s]"
      ]
     },
     "metadata": {},
     "output_type": "display_data"
    },
    {
     "name": "stderr",
     "output_type": "stream",
     "text": [
      "\r",
      "100%|█████████▉| 999/1000 [04:15<00:00,  3.85it/s]"
     ]
    },
    {
     "data": {
      "application/vnd.jupyter.widget-view+json": {
       "model_id": "79817f1c2aab4d40bbee9e576f6a4492",
       "version_major": 2,
       "version_minor": 0
      },
      "text/plain": [
       "  0%|          | 0/1000 [00:00<?, ?it/s]"
      ]
     },
     "metadata": {},
     "output_type": "display_data"
    },
    {
     "name": "stderr",
     "output_type": "stream",
     "text": [
      "100%|██████████| 1000/1000 [04:15<00:00,  3.91it/s]\n"
     ]
    }
   ],
   "source": [
    "from tqdm import tqdm\n",
    "\n",
    "lime_local_pred = []\n",
    "lime_local_exp = []\n",
    "lime_score = []\n",
    "for im in tqdm(sample_imgs):\n",
    "    exp = explainer.explain_instance(np.array(im), batch_predict)\n",
    "    lime_local_pred.append(exp.local_pred)\n",
    "    lime_local_exp.append(exp.local_exp)\n",
    "    lime_score.append(exp.score)\n"
   ]
  },
  {
   "cell_type": "code",
   "execution_count": 338,
   "metadata": {},
   "outputs": [],
   "source": [
    "lime_local_pred = np.stack(lime_local_pred)"
   ]
  },
  {
   "cell_type": "code",
   "execution_count": 339,
   "metadata": {},
   "outputs": [
    {
     "data": {
      "text/plain": [
       "array([[0.99924229],\n",
       "       [0.99970559],\n",
       "       [0.76047939],\n",
       "       [0.85109777],\n",
       "       [0.80322269],\n",
       "       [0.9991836 ],\n",
       "       [0.99967663],\n",
       "       [0.92403775],\n",
       "       [0.99969551],\n",
       "       [0.99972304],\n",
       "       [0.98958376],\n",
       "       [0.99963431],\n",
       "       [0.99972559],\n",
       "       [0.51942461],\n",
       "       [0.99599586],\n",
       "       [0.99971915],\n",
       "       [0.99975445],\n",
       "       [0.97218754],\n",
       "       [0.63266349],\n",
       "       [0.49895563],\n",
       "       [0.99955955],\n",
       "       [0.9997407 ],\n",
       "       [0.97867202],\n",
       "       [0.99986996],\n",
       "       [0.59846989],\n",
       "       [0.93457027],\n",
       "       [0.99950247],\n",
       "       [0.95675049],\n",
       "       [0.6081288 ],\n",
       "       [0.75795605],\n",
       "       [0.99971343],\n",
       "       [0.99153274],\n",
       "       [0.5182113 ],\n",
       "       [0.9713147 ],\n",
       "       [0.99265119],\n",
       "       [1.        ],\n",
       "       [0.99971221],\n",
       "       [0.98755131],\n",
       "       [1.        ],\n",
       "       [0.76299945],\n",
       "       [0.91023197],\n",
       "       [0.94583125],\n",
       "       [0.99973184],\n",
       "       [0.99961734],\n",
       "       [0.99923158],\n",
       "       [0.65547034],\n",
       "       [0.99611841],\n",
       "       [0.99930139],\n",
       "       [0.99948746],\n",
       "       [0.99838722],\n",
       "       [0.99941505],\n",
       "       [0.99961681],\n",
       "       [0.99591884],\n",
       "       [0.85081605],\n",
       "       [0.67954178],\n",
       "       [0.82673185],\n",
       "       [0.78096723],\n",
       "       [0.99988128],\n",
       "       [0.99766419],\n",
       "       [0.98578196],\n",
       "       [0.99970808],\n",
       "       [0.82831101],\n",
       "       [0.99972962],\n",
       "       [0.99963645],\n",
       "       [0.96262634],\n",
       "       [0.95468148],\n",
       "       [0.99868855],\n",
       "       [0.84380906],\n",
       "       [0.79807367],\n",
       "       [1.        ],\n",
       "       [0.73169039],\n",
       "       [1.        ],\n",
       "       [0.71304645],\n",
       "       [0.99700678],\n",
       "       [0.99631298],\n",
       "       [0.94703056],\n",
       "       [0.61967497],\n",
       "       [0.50892237],\n",
       "       [0.99652714],\n",
       "       [0.99164345],\n",
       "       [0.99652656],\n",
       "       [0.99042321],\n",
       "       [0.99970554],\n",
       "       [0.98603224],\n",
       "       [0.99968765],\n",
       "       [0.99713624],\n",
       "       [1.        ],\n",
       "       [0.99934829],\n",
       "       [0.99973334],\n",
       "       [0.99849501],\n",
       "       [0.99137873],\n",
       "       [0.91361521],\n",
       "       [0.94804736],\n",
       "       [0.9946981 ],\n",
       "       [0.9965577 ],\n",
       "       [0.93639083],\n",
       "       [0.92397252],\n",
       "       [1.        ],\n",
       "       [0.99974282],\n",
       "       [0.99984868],\n",
       "       [0.99984379],\n",
       "       [0.78521855],\n",
       "       [0.9963079 ],\n",
       "       [0.99669803],\n",
       "       [0.4055679 ],\n",
       "       [0.99985039],\n",
       "       [0.99638378],\n",
       "       [0.80869891],\n",
       "       [0.83508663],\n",
       "       [0.99989497],\n",
       "       [0.99985214],\n",
       "       [0.99854746],\n",
       "       [0.72038311],\n",
       "       [0.71185508],\n",
       "       [0.99135576],\n",
       "       [0.99645618],\n",
       "       [0.99920649],\n",
       "       [0.7947296 ],\n",
       "       [0.39527912],\n",
       "       [0.99535945],\n",
       "       [0.9997346 ],\n",
       "       [0.99972456],\n",
       "       [0.99970479],\n",
       "       [0.99715309],\n",
       "       [0.95363634],\n",
       "       [0.23359127],\n",
       "       [0.99125935],\n",
       "       [0.55142588],\n",
       "       [0.64718573],\n",
       "       [0.99570238],\n",
       "       [0.99984094],\n",
       "       [0.99999582],\n",
       "       [0.99999031],\n",
       "       [0.99948737],\n",
       "       [0.81263962],\n",
       "       [0.98572391],\n",
       "       [0.89357956],\n",
       "       [1.        ],\n",
       "       [0.99957553],\n",
       "       [0.69316865],\n",
       "       [0.92085282],\n",
       "       [0.85635664],\n",
       "       [0.77570023],\n",
       "       [0.99974595],\n",
       "       [0.99987129],\n",
       "       [0.99988722],\n",
       "       [0.99650024],\n",
       "       [0.65332774],\n",
       "       [0.99988588],\n",
       "       [0.99665387],\n",
       "       [0.99971961],\n",
       "       [0.9997308 ],\n",
       "       [0.999828  ],\n",
       "       [0.96506963],\n",
       "       [0.99970872],\n",
       "       [0.99972355],\n",
       "       [0.99988706],\n",
       "       [0.72610901],\n",
       "       [0.97164945],\n",
       "       [0.92773772],\n",
       "       [0.37384542],\n",
       "       [0.99984994],\n",
       "       [0.99998475],\n",
       "       [1.        ],\n",
       "       [0.9927262 ],\n",
       "       [0.46298846],\n",
       "       [0.99963538],\n",
       "       [0.99955904],\n",
       "       [0.41008128],\n",
       "       [0.62120152],\n",
       "       [0.99636611],\n",
       "       [0.93848298],\n",
       "       [0.99974083],\n",
       "       [0.99971626],\n",
       "       [0.99975882],\n",
       "       [0.84058326],\n",
       "       [0.99972122],\n",
       "       [0.99973361],\n",
       "       [0.99985683],\n",
       "       [0.84395779],\n",
       "       [0.99156751],\n",
       "       [0.46116681],\n",
       "       [0.77412712],\n",
       "       [0.94695075],\n",
       "       [0.20104116],\n",
       "       [0.5430018 ],\n",
       "       [0.73565168],\n",
       "       [0.99156949],\n",
       "       [0.4527857 ],\n",
       "       [0.99590371],\n",
       "       [0.98229386],\n",
       "       [0.95785582],\n",
       "       [0.99970552],\n",
       "       [0.99985195],\n",
       "       [0.43731744],\n",
       "       [0.99632465],\n",
       "       [0.99644243],\n",
       "       [0.93962674],\n",
       "       [0.99971967],\n",
       "       [0.37678464],\n",
       "       [0.99860893],\n",
       "       [0.95588187],\n",
       "       [0.97145977],\n",
       "       [0.90876082],\n",
       "       [0.3965367 ],\n",
       "       [0.92262624],\n",
       "       [0.82947532],\n",
       "       [0.99296147],\n",
       "       [0.99971048],\n",
       "       [0.99666579],\n",
       "       [0.99948479],\n",
       "       [0.9123897 ],\n",
       "       [0.99975801],\n",
       "       [0.99972199],\n",
       "       [1.        ],\n",
       "       [0.50723836],\n",
       "       [0.99992553],\n",
       "       [0.99971142],\n",
       "       [0.99823487],\n",
       "       [0.99951076],\n",
       "       [0.99992637],\n",
       "       [0.94867462],\n",
       "       [0.96293947],\n",
       "       [0.99116653],\n",
       "       [0.99969782],\n",
       "       [0.99186552],\n",
       "       [0.32208425],\n",
       "       [0.99965508],\n",
       "       [0.38283582],\n",
       "       [0.99993925],\n",
       "       [0.9996816 ],\n",
       "       [0.93597272],\n",
       "       [0.86367314],\n",
       "       [0.99985354],\n",
       "       [0.90798464],\n",
       "       [0.76914852],\n",
       "       [0.99995808],\n",
       "       [0.9997113 ],\n",
       "       [0.65237573],\n",
       "       [0.9747447 ],\n",
       "       [0.97658232],\n",
       "       [0.90408107],\n",
       "       [0.69946725],\n",
       "       [0.28142338],\n",
       "       [0.99602531],\n",
       "       [0.93327396],\n",
       "       [0.99950964],\n",
       "       [0.96915929],\n",
       "       [0.99961931],\n",
       "       [0.67000848],\n",
       "       [0.96478145],\n",
       "       [0.61144637],\n",
       "       [0.49465175],\n",
       "       [0.9890272 ],\n",
       "       [0.99987001],\n",
       "       [0.95355363],\n",
       "       [0.51040729],\n",
       "       [0.99610023],\n",
       "       [0.99970111],\n",
       "       [0.95686313],\n",
       "       [0.96673877],\n",
       "       [0.64979094],\n",
       "       [0.99817816],\n",
       "       [0.48108739],\n",
       "       [0.63573666],\n",
       "       [0.99991129],\n",
       "       [0.99353175],\n",
       "       [0.99973561],\n",
       "       [0.99969327],\n",
       "       [0.39734194],\n",
       "       [0.99999597],\n",
       "       [0.97150278],\n",
       "       [0.99968713],\n",
       "       [0.77899595],\n",
       "       [0.99973003],\n",
       "       [0.99973534],\n",
       "       [0.99601931],\n",
       "       [0.75799155],\n",
       "       [1.        ],\n",
       "       [0.99579384],\n",
       "       [0.42438516],\n",
       "       [0.965862  ],\n",
       "       [0.99971135],\n",
       "       [0.9962302 ],\n",
       "       [0.99972305],\n",
       "       [0.99662636],\n",
       "       [0.99630993],\n",
       "       [0.29728837],\n",
       "       [0.96136942],\n",
       "       [0.99958161],\n",
       "       [0.76175084],\n",
       "       [0.99210141],\n",
       "       [0.80374918],\n",
       "       [0.94723919],\n",
       "       [0.99370654],\n",
       "       [0.99973394],\n",
       "       [0.69762611],\n",
       "       [0.51039489],\n",
       "       [0.9966463 ],\n",
       "       [0.99970483],\n",
       "       [0.99973063],\n",
       "       [0.62986773],\n",
       "       [0.83449336],\n",
       "       [0.99974334],\n",
       "       [0.99915492],\n",
       "       [0.99251417],\n",
       "       [0.58980833],\n",
       "       [0.99951382],\n",
       "       [1.        ],\n",
       "       [0.70478881],\n",
       "       [0.99036753],\n",
       "       [0.80084263],\n",
       "       [0.44527785],\n",
       "       [0.99601317],\n",
       "       [0.49064138],\n",
       "       [0.98059955],\n",
       "       [0.48695556],\n",
       "       [0.99912676],\n",
       "       [0.51066019],\n",
       "       [0.99873628],\n",
       "       [0.99972737],\n",
       "       [0.98960267],\n",
       "       [0.99985167],\n",
       "       [0.99216527],\n",
       "       [0.81227504],\n",
       "       [0.96460564],\n",
       "       [0.9667791 ],\n",
       "       [0.57866738],\n",
       "       [0.77159441],\n",
       "       [0.98044448],\n",
       "       [1.        ],\n",
       "       [0.9997378 ],\n",
       "       [0.99868006],\n",
       "       [0.99986689],\n",
       "       [0.99597645],\n",
       "       [0.99972835],\n",
       "       [0.9997298 ],\n",
       "       [0.99970033],\n",
       "       [0.99757127],\n",
       "       [0.2392306 ],\n",
       "       [0.96132244],\n",
       "       [0.97564693],\n",
       "       [0.9998675 ],\n",
       "       [0.99970443],\n",
       "       [0.38133242],\n",
       "       [0.99264914],\n",
       "       [0.57332065],\n",
       "       [0.90376322],\n",
       "       [0.91838655],\n",
       "       [0.99969324],\n",
       "       [0.59363207],\n",
       "       [0.9953914 ],\n",
       "       [0.9958485 ],\n",
       "       [0.76360421],\n",
       "       [0.82954684],\n",
       "       [0.63956662],\n",
       "       [1.00011868],\n",
       "       [0.98365343],\n",
       "       [0.99984205],\n",
       "       [0.999718  ],\n",
       "       [0.99393876],\n",
       "       [0.65361763],\n",
       "       [0.9855204 ],\n",
       "       [0.99592096],\n",
       "       [0.99626099],\n",
       "       [1.        ],\n",
       "       [0.99637322],\n",
       "       [0.65814198],\n",
       "       [0.91383971],\n",
       "       [0.99742925],\n",
       "       [0.9876853 ],\n",
       "       [0.99969539],\n",
       "       [0.83372951],\n",
       "       [0.99605204],\n",
       "       [0.79759075],\n",
       "       [0.99902095],\n",
       "       [0.99972056],\n",
       "       [0.86872029],\n",
       "       [0.99016202],\n",
       "       [1.00000661],\n",
       "       [0.39422173],\n",
       "       [0.57971974],\n",
       "       [0.99999928],\n",
       "       [0.97613174],\n",
       "       [0.99973549],\n",
       "       [1.        ],\n",
       "       [0.99832813],\n",
       "       [0.54344573],\n",
       "       [0.83869821],\n",
       "       [0.99972408],\n",
       "       [0.999137  ],\n",
       "       [1.        ],\n",
       "       [0.75215292],\n",
       "       [0.99971094],\n",
       "       [0.99985885],\n",
       "       [0.9996002 ],\n",
       "       [0.99882976],\n",
       "       [0.72033409],\n",
       "       [0.43273035],\n",
       "       [0.72748472],\n",
       "       [0.97488839],\n",
       "       [0.9997152 ],\n",
       "       [0.98301578],\n",
       "       [0.94787317],\n",
       "       [0.9652204 ],\n",
       "       [0.83774841],\n",
       "       [0.99971459],\n",
       "       [0.97393899],\n",
       "       [0.7258033 ],\n",
       "       [0.99986326],\n",
       "       [0.87819193],\n",
       "       [0.99987844],\n",
       "       [0.58795234],\n",
       "       [0.56641029],\n",
       "       [1.        ],\n",
       "       [0.95231231],\n",
       "       [0.3599991 ],\n",
       "       [0.99395653],\n",
       "       [0.99624424],\n",
       "       [1.        ],\n",
       "       [0.99986596],\n",
       "       [0.9999236 ],\n",
       "       [0.46928541],\n",
       "       [0.99292768],\n",
       "       [0.99971574],\n",
       "       [0.9955661 ],\n",
       "       [0.5017631 ],\n",
       "       [0.99647905],\n",
       "       [0.54859406],\n",
       "       [0.99830486],\n",
       "       [0.99987234],\n",
       "       [0.99973096],\n",
       "       [0.99686866],\n",
       "       [0.66681061],\n",
       "       [0.99961888],\n",
       "       [0.99791316],\n",
       "       [0.80974083],\n",
       "       [0.99998308],\n",
       "       [0.97198932],\n",
       "       [0.99678714],\n",
       "       [0.81896607],\n",
       "       [0.99350373],\n",
       "       [0.83178924],\n",
       "       [1.        ],\n",
       "       [0.99315367],\n",
       "       [0.91446198],\n",
       "       [0.99990756],\n",
       "       [0.79678664],\n",
       "       [0.99970873],\n",
       "       [0.61449588],\n",
       "       [0.99747702],\n",
       "       [0.99973982],\n",
       "       [0.9964187 ],\n",
       "       [0.986726  ],\n",
       "       [0.9998602 ],\n",
       "       [0.99709314],\n",
       "       [1.        ],\n",
       "       [0.83678588],\n",
       "       [0.99984257],\n",
       "       [0.99949386],\n",
       "       [0.99602938],\n",
       "       [0.99988407],\n",
       "       [0.32368009],\n",
       "       [0.95794469],\n",
       "       [0.92476284],\n",
       "       [0.99921389],\n",
       "       [0.99969782],\n",
       "       [0.99967072],\n",
       "       [0.93073784],\n",
       "       [0.99973852],\n",
       "       [0.94794255],\n",
       "       [0.99932223],\n",
       "       [0.89817034],\n",
       "       [0.83906994],\n",
       "       [0.9996783 ],\n",
       "       [0.9997266 ],\n",
       "       [0.99987302],\n",
       "       [0.99956707],\n",
       "       [0.89286442],\n",
       "       [0.99970463],\n",
       "       [0.83997912],\n",
       "       [0.90680614],\n",
       "       [0.69498474],\n",
       "       [0.99922926],\n",
       "       [0.87953949],\n",
       "       [0.42689231],\n",
       "       [0.57227936],\n",
       "       [0.9999571 ],\n",
       "       [0.97969577],\n",
       "       [0.99932441],\n",
       "       [0.99275227],\n",
       "       [0.99985544],\n",
       "       [0.99973349],\n",
       "       [0.96735813],\n",
       "       [0.99985447],\n",
       "       [0.91661685],\n",
       "       [0.9959174 ],\n",
       "       [0.99973495],\n",
       "       [1.        ],\n",
       "       [0.77859849],\n",
       "       [0.84426569],\n",
       "       [0.79410282],\n",
       "       [0.89534001],\n",
       "       [0.99572293],\n",
       "       [0.99970539],\n",
       "       [0.5050141 ],\n",
       "       [0.9746659 ],\n",
       "       [0.98319262],\n",
       "       [0.90013129],\n",
       "       [0.99439852],\n",
       "       [0.99967992],\n",
       "       [0.99646755],\n",
       "       [0.99989195],\n",
       "       [0.99970751],\n",
       "       [1.        ],\n",
       "       [0.99995139],\n",
       "       [0.99548197],\n",
       "       [0.99631893],\n",
       "       [0.99999669],\n",
       "       [0.99958365],\n",
       "       [0.99593102],\n",
       "       [0.99969889],\n",
       "       [0.99964159],\n",
       "       [0.90443474],\n",
       "       [0.99969613],\n",
       "       [0.99603539],\n",
       "       [0.90525331],\n",
       "       [0.42281275],\n",
       "       [0.99984419],\n",
       "       [0.99969706],\n",
       "       [0.67669415],\n",
       "       [0.99747761],\n",
       "       [0.99970836],\n",
       "       [0.95602407],\n",
       "       [0.99966582],\n",
       "       [0.46905308],\n",
       "       [0.56654105],\n",
       "       [0.99971196],\n",
       "       [0.99929696],\n",
       "       [0.99968998],\n",
       "       [0.99695429],\n",
       "       [0.48642922],\n",
       "       [0.99616555],\n",
       "       [0.65050032],\n",
       "       [0.75060347],\n",
       "       [0.49042419],\n",
       "       [0.75749214],\n",
       "       [0.98165925],\n",
       "       [0.9513243 ],\n",
       "       [0.89207738],\n",
       "       [0.46743421],\n",
       "       [0.92145319],\n",
       "       [0.9997194 ],\n",
       "       [0.99986877],\n",
       "       [0.35552338],\n",
       "       [0.25658864],\n",
       "       [1.        ],\n",
       "       [0.91666416],\n",
       "       [0.99999792],\n",
       "       [0.99985597],\n",
       "       [0.68206295],\n",
       "       [0.99971784],\n",
       "       [0.99972271],\n",
       "       [0.99971448],\n",
       "       [0.99353927],\n",
       "       [0.84379656],\n",
       "       [0.99393203],\n",
       "       [0.73247305],\n",
       "       [0.99735489],\n",
       "       [0.99988968],\n",
       "       [0.99971129],\n",
       "       [0.6588534 ],\n",
       "       [0.99973543],\n",
       "       [0.99971323],\n",
       "       [0.86075095],\n",
       "       [0.44476497],\n",
       "       [0.99972558],\n",
       "       [0.99968842],\n",
       "       [0.97159046],\n",
       "       [0.97331365],\n",
       "       [0.75869224],\n",
       "       [0.99592605],\n",
       "       [0.99958003],\n",
       "       [0.99652843],\n",
       "       [0.94641846],\n",
       "       [0.81616318],\n",
       "       [0.62500226],\n",
       "       [0.99983771],\n",
       "       [1.        ],\n",
       "       [0.99970357],\n",
       "       [0.48640586],\n",
       "       [0.89395535],\n",
       "       [0.99696247],\n",
       "       [0.9997077 ],\n",
       "       [0.99780037],\n",
       "       [0.61190116],\n",
       "       [0.61769975],\n",
       "       [0.99621695],\n",
       "       [0.89006854],\n",
       "       [0.99612283],\n",
       "       [0.97459452],\n",
       "       [0.88634622],\n",
       "       [0.95745487],\n",
       "       [0.62020883],\n",
       "       [0.99974407],\n",
       "       [0.99972962],\n",
       "       [0.99974149],\n",
       "       [0.74381307],\n",
       "       [0.99962196],\n",
       "       [0.28112943],\n",
       "       [0.99986823],\n",
       "       [0.99985287],\n",
       "       [0.63895957],\n",
       "       [0.99987045],\n",
       "       [0.99970515],\n",
       "       [0.67990863],\n",
       "       [0.94106798],\n",
       "       [0.61891807],\n",
       "       [0.99998656],\n",
       "       [0.99999038],\n",
       "       [0.99528294],\n",
       "       [0.99995231],\n",
       "       [0.84540186],\n",
       "       [0.52930983],\n",
       "       [0.99974053],\n",
       "       [0.97083573],\n",
       "       [0.95648768],\n",
       "       [0.98886203],\n",
       "       [0.99995347],\n",
       "       [0.99971144],\n",
       "       [0.99987648],\n",
       "       [0.98757046],\n",
       "       [0.99973753],\n",
       "       [0.99990902],\n",
       "       [0.40371586],\n",
       "       [0.93309865],\n",
       "       [0.9999252 ],\n",
       "       [0.41908834],\n",
       "       [0.94192437],\n",
       "       [0.63890005],\n",
       "       [0.99135716],\n",
       "       [0.99969442],\n",
       "       [0.99794336],\n",
       "       [0.99982145],\n",
       "       [0.99604956],\n",
       "       [0.756091  ],\n",
       "       [0.99971045],\n",
       "       [0.99989383],\n",
       "       [0.64363568],\n",
       "       [0.62222234],\n",
       "       [0.999726  ],\n",
       "       [0.99973996],\n",
       "       [0.99969173],\n",
       "       [0.99995523],\n",
       "       [0.9998498 ],\n",
       "       [0.72944454],\n",
       "       [0.68805291],\n",
       "       [0.99622422],\n",
       "       [0.47405777],\n",
       "       [0.99964949],\n",
       "       [0.99986398],\n",
       "       [0.99989959],\n",
       "       [0.96094919],\n",
       "       [0.99999999],\n",
       "       [0.43371062],\n",
       "       [0.99958359],\n",
       "       [0.99620107],\n",
       "       [0.97947673],\n",
       "       [0.9996291 ],\n",
       "       [0.9997259 ],\n",
       "       [0.99871926],\n",
       "       [0.9998914 ],\n",
       "       [0.89986255],\n",
       "       [0.97873573],\n",
       "       [0.98392576],\n",
       "       [0.99990007],\n",
       "       [0.99624175],\n",
       "       [0.7478771 ],\n",
       "       [0.94609639],\n",
       "       [0.97975992],\n",
       "       [0.99971675],\n",
       "       [0.99987714],\n",
       "       [0.99968335],\n",
       "       [0.99959296],\n",
       "       [0.42218717],\n",
       "       [0.99616379],\n",
       "       [0.63283782],\n",
       "       [0.59937743],\n",
       "       [0.57996132],\n",
       "       [0.93606619],\n",
       "       [0.99999041],\n",
       "       [0.99974238],\n",
       "       [0.99965491],\n",
       "       [0.99971614],\n",
       "       [0.83956618],\n",
       "       [0.99985034],\n",
       "       [0.60650092],\n",
       "       [0.99579684],\n",
       "       [0.4401618 ],\n",
       "       [0.85988257],\n",
       "       [0.43055387],\n",
       "       [0.77735357],\n",
       "       [0.97038824],\n",
       "       [0.99973771],\n",
       "       [0.99629679],\n",
       "       [0.99966482],\n",
       "       [0.99969408],\n",
       "       [0.65985788],\n",
       "       [0.9998605 ],\n",
       "       [0.99743522],\n",
       "       [0.9995983 ],\n",
       "       [0.99993038],\n",
       "       [0.93548784],\n",
       "       [0.96821453],\n",
       "       [0.98083799],\n",
       "       [0.99973921],\n",
       "       [0.99957964],\n",
       "       [0.95438414],\n",
       "       [1.        ],\n",
       "       [0.99357807],\n",
       "       [0.63216447],\n",
       "       [0.99990576],\n",
       "       [0.99972387],\n",
       "       [1.        ],\n",
       "       [0.99985072],\n",
       "       [0.99969343],\n",
       "       [0.84673235],\n",
       "       [0.99963877],\n",
       "       [0.99846784],\n",
       "       [0.995189  ],\n",
       "       [0.99649538],\n",
       "       [0.72725221],\n",
       "       [0.99971378],\n",
       "       [0.76751056],\n",
       "       [0.99969479],\n",
       "       [0.99990862],\n",
       "       [0.99986242],\n",
       "       [0.68829337],\n",
       "       [0.99971402],\n",
       "       [0.99936963],\n",
       "       [0.98929086],\n",
       "       [0.99970461],\n",
       "       [0.64811421],\n",
       "       [0.60102838],\n",
       "       [0.99970046],\n",
       "       [0.98722846],\n",
       "       [0.99894941],\n",
       "       [0.99984625],\n",
       "       [0.74978549],\n",
       "       [0.28421604],\n",
       "       [0.99987296],\n",
       "       [0.99567272],\n",
       "       [0.43203292],\n",
       "       [0.99688096],\n",
       "       [1.        ],\n",
       "       [0.97715031],\n",
       "       [0.46688279],\n",
       "       [0.78474406],\n",
       "       [0.99985616],\n",
       "       [0.99994503],\n",
       "       [0.99652852],\n",
       "       [0.99637779],\n",
       "       [0.92074991],\n",
       "       [0.97928338],\n",
       "       [0.99969877],\n",
       "       [0.99967043],\n",
       "       [0.75720282],\n",
       "       [0.9162236 ],\n",
       "       [0.99985674],\n",
       "       [0.99985118],\n",
       "       [0.9925355 ],\n",
       "       [0.99938335],\n",
       "       [1.        ],\n",
       "       [0.99993569],\n",
       "       [0.99707627],\n",
       "       [0.99972044],\n",
       "       [0.87947407],\n",
       "       [0.99974261],\n",
       "       [0.65316364],\n",
       "       [0.36194082],\n",
       "       [0.99150278],\n",
       "       [0.78293227],\n",
       "       [1.        ],\n",
       "       [0.99992762],\n",
       "       [0.95451023],\n",
       "       [0.90320006],\n",
       "       [0.54851553],\n",
       "       [0.57400717],\n",
       "       [0.24253645],\n",
       "       [0.99497987],\n",
       "       [0.67010674],\n",
       "       [0.87473267],\n",
       "       [0.99604827],\n",
       "       [0.90063303],\n",
       "       [0.99986871],\n",
       "       [0.99973859],\n",
       "       [1.00002662],\n",
       "       [0.67609861],\n",
       "       [1.00002547],\n",
       "       [0.99600144],\n",
       "       [0.99972644],\n",
       "       [0.99845091],\n",
       "       [0.99308101],\n",
       "       [0.9997185 ],\n",
       "       [0.9298869 ],\n",
       "       [0.99974823],\n",
       "       [1.        ],\n",
       "       [0.9851122 ],\n",
       "       [0.54336037],\n",
       "       [0.44037733],\n",
       "       [0.57829193],\n",
       "       [0.99990437],\n",
       "       [0.9996498 ],\n",
       "       [0.9980294 ],\n",
       "       [0.99970974],\n",
       "       [0.93661733],\n",
       "       [0.99961092],\n",
       "       [1.        ],\n",
       "       [0.9998578 ],\n",
       "       [0.88533006],\n",
       "       [0.69717515],\n",
       "       [0.99795869],\n",
       "       [0.99972407],\n",
       "       [0.99971503],\n",
       "       [0.99950273],\n",
       "       [0.74602998],\n",
       "       [0.99999481],\n",
       "       [0.99256191],\n",
       "       [0.99986574],\n",
       "       [0.99882146],\n",
       "       [0.91201183],\n",
       "       [0.99627994],\n",
       "       [0.90106532],\n",
       "       [0.50508196],\n",
       "       [0.76423146],\n",
       "       [0.94622994],\n",
       "       [0.99523338],\n",
       "       [0.94662726],\n",
       "       [0.52401524],\n",
       "       [0.99960929],\n",
       "       [0.92933525],\n",
       "       [0.99471972],\n",
       "       [0.74440786],\n",
       "       [0.99970662],\n",
       "       [0.99969087],\n",
       "       [0.99971094],\n",
       "       [0.52377894],\n",
       "       [0.99983651],\n",
       "       [0.99970848],\n",
       "       [0.87858862],\n",
       "       [0.88059522],\n",
       "       [0.33159093],\n",
       "       [1.        ],\n",
       "       [0.99985423],\n",
       "       [0.98942156],\n",
       "       [0.80781212],\n",
       "       [0.99905171],\n",
       "       [0.99970662],\n",
       "       [0.95449457],\n",
       "       [0.99999979],\n",
       "       [0.34321991],\n",
       "       [0.67429748],\n",
       "       [0.99968814],\n",
       "       [0.93488962],\n",
       "       [0.99630676],\n",
       "       [0.99973091],\n",
       "       [0.99974365],\n",
       "       [0.99969679],\n",
       "       [0.98101339],\n",
       "       [0.99749165],\n",
       "       [0.9944353 ],\n",
       "       [0.98063088],\n",
       "       [0.99974254],\n",
       "       [0.9997154 ],\n",
       "       [0.99972687],\n",
       "       [0.43646722],\n",
       "       [0.9936251 ],\n",
       "       [0.99971827],\n",
       "       [0.49753974],\n",
       "       [0.99987504],\n",
       "       [0.97626667],\n",
       "       [0.68430551],\n",
       "       [0.68261868],\n",
       "       [0.99688029],\n",
       "       [0.9996716 ],\n",
       "       [0.99973477],\n",
       "       [0.99972346],\n",
       "       [0.99995473],\n",
       "       [0.99596821],\n",
       "       [0.78145185],\n",
       "       [0.99963489],\n",
       "       [0.97605486],\n",
       "       [0.9997143 ],\n",
       "       [0.99971607],\n",
       "       [1.00001318],\n",
       "       [0.58562886],\n",
       "       [0.99973287],\n",
       "       [0.99974038],\n",
       "       [0.36458021],\n",
       "       [0.99968059],\n",
       "       [0.99231401],\n",
       "       [0.99985545],\n",
       "       [0.926848  ],\n",
       "       [0.79774236],\n",
       "       [0.75645568],\n",
       "       [0.99078296],\n",
       "       [0.57356255],\n",
       "       [0.99991716],\n",
       "       [0.94436503],\n",
       "       [0.99637915],\n",
       "       [0.98016708],\n",
       "       [0.99705638],\n",
       "       [0.3890427 ],\n",
       "       [0.97772841],\n",
       "       [0.99971678],\n",
       "       [0.54117127],\n",
       "       [0.99971578],\n",
       "       [1.        ],\n",
       "       [0.99724532],\n",
       "       [0.99973361],\n",
       "       [0.98991497],\n",
       "       [0.99913935],\n",
       "       [0.99973378],\n",
       "       [0.81737708],\n",
       "       [0.99966825],\n",
       "       [0.46152633],\n",
       "       [0.99970264],\n",
       "       [0.99969095],\n",
       "       [0.99620091],\n",
       "       [0.8043568 ],\n",
       "       [0.9998496 ],\n",
       "       [0.60633876],\n",
       "       [0.99968971],\n",
       "       [0.72460847],\n",
       "       [0.97315123],\n",
       "       [0.99970333],\n",
       "       [0.99881275],\n",
       "       [0.98393833],\n",
       "       [0.55805919],\n",
       "       [0.93063712],\n",
       "       [0.94620227],\n",
       "       [0.99973493],\n",
       "       [0.90187766],\n",
       "       [0.99918539],\n",
       "       [0.83423226],\n",
       "       [0.74446612],\n",
       "       [0.99968491],\n",
       "       [0.99763234],\n",
       "       [0.63302694],\n",
       "       [0.9110556 ],\n",
       "       [0.84735092],\n",
       "       [0.94997862],\n",
       "       [0.99973852],\n",
       "       [0.90978902],\n",
       "       [0.99975807],\n",
       "       [0.54580308],\n",
       "       [0.99974045],\n",
       "       [0.99611274],\n",
       "       [0.99985144],\n",
       "       [0.99597339],\n",
       "       [0.84559253],\n",
       "       [0.99811942],\n",
       "       [0.99971025],\n",
       "       [0.98769205],\n",
       "       [0.99962786],\n",
       "       [0.99973702],\n",
       "       [0.88233854],\n",
       "       [0.99963114],\n",
       "       [0.99985654],\n",
       "       [0.99898788],\n",
       "       [0.40527218],\n",
       "       [0.99943872],\n",
       "       [0.57495874],\n",
       "       [0.96610746],\n",
       "       [0.99995749],\n",
       "       [0.80238761],\n",
       "       [0.86848593],\n",
       "       [0.95497377],\n",
       "       [0.99835564],\n",
       "       [0.50804389],\n",
       "       [1.        ],\n",
       "       [0.46411449],\n",
       "       [0.75411685],\n",
       "       [0.99578242],\n",
       "       [0.99988255],\n",
       "       [0.86844514],\n",
       "       [0.99963413],\n",
       "       [0.44526679],\n",
       "       [0.98801217],\n",
       "       [0.98483981],\n",
       "       [0.99971666],\n",
       "       [0.99987571],\n",
       "       [0.99974417],\n",
       "       [0.8922244 ],\n",
       "       [0.99972088],\n",
       "       [0.87624948],\n",
       "       [0.99843503],\n",
       "       [0.93457666],\n",
       "       [0.99975475],\n",
       "       [0.99986303]])"
      ]
     },
     "execution_count": 339,
     "metadata": {},
     "output_type": "execute_result"
    }
   ],
   "source": [
    "lime_local_pred"
   ]
  },
  {
   "cell_type": "code",
   "execution_count": 333,
   "metadata": {},
   "outputs": [],
   "source": [
    "top_lime_preds = []\n",
    "for mas in lime_local_pred:\n",
    "    top_lime_preds.append(mas[0])"
   ]
  },
  {
   "cell_type": "code",
   "execution_count": 334,
   "metadata": {},
   "outputs": [
    {
     "data": {
      "text/plain": [
       "[0.999242292718836,\n",
       " 0.999705594429326,\n",
       " 0.760479392137781,\n",
       " 0.8510977746392924,\n",
       " 0.8032226943687121,\n",
       " 0.9991835959694996,\n",
       " 0.9996766330713784,\n",
       " 0.924037754275223,\n",
       " 0.9996955101811675,\n",
       " 0.9997230389409515,\n",
       " 0.9895837577910864,\n",
       " 0.9996343080380617,\n",
       " 0.9997255884919062,\n",
       " 0.5194246074173241,\n",
       " 0.9959958575866932,\n",
       " 0.9997191541565544,\n",
       " 0.9997544481753237,\n",
       " 0.9721875364663721,\n",
       " 0.6326634884973502,\n",
       " 0.4989556261856058,\n",
       " 0.9995595457735245,\n",
       " 0.9997406955413086,\n",
       " 0.9786720186778403,\n",
       " 0.9998699598103774,\n",
       " 0.5984698894041992,\n",
       " 0.9345702688880323,\n",
       " 0.999502467122179,\n",
       " 0.9567504944400176,\n",
       " 0.608128799719257,\n",
       " 0.7579560453267337,\n",
       " 0.9997134267879084,\n",
       " 0.9915327395212402,\n",
       " 0.5182112982966988,\n",
       " 0.9713147000698662,\n",
       " 0.9926511883133249,\n",
       " 1.000000000058886,\n",
       " 0.9997122093961425,\n",
       " 0.987551312362964,\n",
       " 1.0,\n",
       " 0.7629994547590857,\n",
       " 0.9102319746428792,\n",
       " 0.945831254291514,\n",
       " 0.9997318432406345,\n",
       " 0.9996173430444817,\n",
       " 0.9992315837481878,\n",
       " 0.6554703355595488,\n",
       " 0.9961184117533802,\n",
       " 0.999301390461896,\n",
       " 0.9994874596898924,\n",
       " 0.9983872188976725,\n",
       " 0.9994150522329093,\n",
       " 0.9996168092917147,\n",
       " 0.9959188366539629,\n",
       " 0.8508160458491644,\n",
       " 0.679541777802748,\n",
       " 0.8267318486639895,\n",
       " 0.7809672269264808,\n",
       " 0.9998812789613748,\n",
       " 0.9976641850206323,\n",
       " 0.9857819552765997,\n",
       " 0.9997080790148929,\n",
       " 0.8283110132295806,\n",
       " 0.9997296239009297,\n",
       " 0.9996364478225783,\n",
       " 0.9626263373908389,\n",
       " 0.9546814776127455,\n",
       " 0.998688554237303,\n",
       " 0.8438090622520852,\n",
       " 0.79807367495372,\n",
       " 1.0,\n",
       " 0.7316903921235032,\n",
       " 1.0,\n",
       " 0.7130464451958676,\n",
       " 0.9970067830807724,\n",
       " 0.9963129753117295,\n",
       " 0.9470305628919836,\n",
       " 0.6196749662238661,\n",
       " 0.5089223745671388,\n",
       " 0.9965271428812602,\n",
       " 0.9916434492345136,\n",
       " 0.9965265603634847,\n",
       " 0.9904232107175525,\n",
       " 0.9997055433719815,\n",
       " 0.9860322446509537,\n",
       " 0.9996876526307987,\n",
       " 0.9971362381816131,\n",
       " 1.0,\n",
       " 0.9993482905145158,\n",
       " 0.9997333422995606,\n",
       " 0.9984950088864358,\n",
       " 0.9913787296053176,\n",
       " 0.9136152148394048,\n",
       " 0.9480473605288895,\n",
       " 0.9946980971834791,\n",
       " 0.9965577010467687,\n",
       " 0.9363908320048061,\n",
       " 0.9239725248285656,\n",
       " 1.0,\n",
       " 0.999742824654771,\n",
       " 0.9998486839138601,\n",
       " 0.9998437939489542,\n",
       " 0.7852185477811396,\n",
       " 0.9963079028595724,\n",
       " 0.9966980275982037,\n",
       " 0.40556790391680164,\n",
       " 0.9998503862421142,\n",
       " 0.9963837774102606,\n",
       " 0.8086989083850599,\n",
       " 0.8350866339762272,\n",
       " 0.999894970295015,\n",
       " 0.9998521429166444,\n",
       " 0.9985474588001111,\n",
       " 0.7203831059438818,\n",
       " 0.7118550807536477,\n",
       " 0.991355763486341,\n",
       " 0.9964561752039468,\n",
       " 0.9992064928251989,\n",
       " 0.7947295965975741,\n",
       " 0.39527911716542957,\n",
       " 0.9953594451378937,\n",
       " 0.999734599442117,\n",
       " 0.9997245576242704,\n",
       " 0.9997047875304544,\n",
       " 0.997153094814742,\n",
       " 0.953636341205396,\n",
       " 0.2335912707494174,\n",
       " 0.9912593510796746,\n",
       " 0.5514258791122295,\n",
       " 0.6471857321614324,\n",
       " 0.9957023788223609,\n",
       " 0.9998409427148046,\n",
       " 0.999995815721426,\n",
       " 0.9999903071472337,\n",
       " 0.9994873658720314,\n",
       " 0.812639615296625,\n",
       " 0.9857239104594473,\n",
       " 0.8935795581369358,\n",
       " 1.0,\n",
       " 0.9995755318878404,\n",
       " 0.6931686466620619,\n",
       " 0.9208528189987374,\n",
       " 0.856356637107115,\n",
       " 0.7757002334323102,\n",
       " 0.99974595088758,\n",
       " 0.9998712851536642,\n",
       " 0.9998872175651323,\n",
       " 0.9965002393299973,\n",
       " 0.6533277445892074,\n",
       " 0.9998858753828392,\n",
       " 0.9966538719379219,\n",
       " 0.9997196092570111,\n",
       " 0.9997308039823409,\n",
       " 0.9998280017911374,\n",
       " 0.9650696273988078,\n",
       " 0.9997087244914176,\n",
       " 0.9997235522708048,\n",
       " 0.9998870581145229,\n",
       " 0.7261090101197601,\n",
       " 0.9716494507667299,\n",
       " 0.9277377249798199,\n",
       " 0.3738454213689153,\n",
       " 0.9998499358350371,\n",
       " 0.9999847537727526,\n",
       " 1.0,\n",
       " 0.9927262013287529,\n",
       " 0.46298845535420896,\n",
       " 0.9996353820075061,\n",
       " 0.9995590432377148,\n",
       " 0.41008128033756064,\n",
       " 0.6212015154967192,\n",
       " 0.9963661105807909,\n",
       " 0.9384829842709222,\n",
       " 0.999740832196234,\n",
       " 0.9997162559983492,\n",
       " 0.9997588240129889,\n",
       " 0.8405832613235455,\n",
       " 0.9997212185086776,\n",
       " 0.9997336114652315,\n",
       " 0.9998568342666002,\n",
       " 0.8439577900353025,\n",
       " 0.9915675054972911,\n",
       " 0.4611668112659661,\n",
       " 0.7741271222039541,\n",
       " 0.946950749611651,\n",
       " 0.20104115969601305,\n",
       " 0.543001798532989,\n",
       " 0.7356516788912011,\n",
       " 0.9915694887099233,\n",
       " 0.45278569618537523,\n",
       " 0.9959037132083445,\n",
       " 0.9822938583518973,\n",
       " 0.9578558198108312,\n",
       " 0.9997055244371856,\n",
       " 0.9998519452811996,\n",
       " 0.4373174357221335,\n",
       " 0.9963246457555933,\n",
       " 0.9964424326881254,\n",
       " 0.9396267449057066,\n",
       " 0.9997196697192218,\n",
       " 0.37678464227970915,\n",
       " 0.9986089277514065,\n",
       " 0.9558818700864754,\n",
       " 0.9714597701422516,\n",
       " 0.9087608200788763,\n",
       " 0.3965366975619704,\n",
       " 0.9226262403429399,\n",
       " 0.8294753240278564,\n",
       " 0.9929614711227166,\n",
       " 0.9997104757919991,\n",
       " 0.9966657945870354,\n",
       " 0.9994847908049079,\n",
       " 0.91238970067529,\n",
       " 0.9997580108463053,\n",
       " 0.9997219873588202,\n",
       " 1.0,\n",
       " 0.5072383554006648,\n",
       " 0.9999255309269922,\n",
       " 0.9997114159234569,\n",
       " 0.9982348651038768,\n",
       " 0.9995107583701276,\n",
       " 0.9999263700822112,\n",
       " 0.9486746229464456,\n",
       " 0.96293946881792,\n",
       " 0.9911665339750433,\n",
       " 0.9996978225013617,\n",
       " 0.9918655195404007,\n",
       " 0.322084248455994,\n",
       " 0.9996550776051947,\n",
       " 0.3828358222569221,\n",
       " 0.9999392485630476,\n",
       " 0.9996815985281569,\n",
       " 0.9359727177437165,\n",
       " 0.863673139862129,\n",
       " 0.9998535364556052,\n",
       " 0.9079846370463028,\n",
       " 0.769148519346175,\n",
       " 0.9999580794879216,\n",
       " 0.9997113019499926,\n",
       " 0.6523757334151283,\n",
       " 0.9747447047877846,\n",
       " 0.9765823186967535,\n",
       " 0.9040810741557352,\n",
       " 0.6994672471252058,\n",
       " 0.2814233752015859,\n",
       " 0.9960253051950841,\n",
       " 0.9332739619314602,\n",
       " 0.9995096363652706,\n",
       " 0.9691592869673882,\n",
       " 0.9996193112202882,\n",
       " 0.670008476277792,\n",
       " 0.9647814473446686,\n",
       " 0.6114463709361995,\n",
       " 0.4946517488112755,\n",
       " 0.9890271991965238,\n",
       " 0.9998700132229856,\n",
       " 0.9535536263747628,\n",
       " 0.5104072930196174,\n",
       " 0.9961002256556076,\n",
       " 0.9997011109982308,\n",
       " 0.9568631301336774,\n",
       " 0.9667387723442897,\n",
       " 0.6497909373719188,\n",
       " 0.9981781572957132,\n",
       " 0.4810873882489065,\n",
       " 0.6357366615252716,\n",
       " 0.9999112939745561,\n",
       " 0.9935317549979376,\n",
       " 0.9997356080576143,\n",
       " 0.9996932677841184,\n",
       " 0.39734194097973563,\n",
       " 0.9999959722844513,\n",
       " 0.9715027759136461,\n",
       " 0.9996871295027251,\n",
       " 0.778995945219756,\n",
       " 0.9997300302979883,\n",
       " 0.9997353383288508,\n",
       " 0.9960193135935829,\n",
       " 0.7579915537855509,\n",
       " 1.0,\n",
       " 0.9957938425852952,\n",
       " 0.4243851609903869,\n",
       " 0.9658620043708561,\n",
       " 0.9997113504080185,\n",
       " 0.9962302032626196,\n",
       " 0.99972304728587,\n",
       " 0.9966263615859056,\n",
       " 0.9963099328157314,\n",
       " 0.297288372096041,\n",
       " 0.9613694159944028,\n",
       " 0.9995816112992271,\n",
       " 0.7617508411209322,\n",
       " 0.992101408847689,\n",
       " 0.803749178562729,\n",
       " 0.9472391869900334,\n",
       " 0.9937065362341532,\n",
       " 0.9997339392523997,\n",
       " 0.6976261117446939,\n",
       " 0.5103948917508706,\n",
       " 0.9966463016588368,\n",
       " 0.9997048334734284,\n",
       " 0.9997306261825138,\n",
       " 0.6298677309019621,\n",
       " 0.8344933617452386,\n",
       " 0.9997433350801656,\n",
       " 0.9991549232686343,\n",
       " 0.9925141718889738,\n",
       " 0.5898083328871777,\n",
       " 0.9995138221969331,\n",
       " 1.0,\n",
       " 0.7047888144159443,\n",
       " 0.9903675305331857,\n",
       " 0.8008426306141907,\n",
       " 0.4452778511021192,\n",
       " 0.9960131733561965,\n",
       " 0.4906413793569814,\n",
       " 0.9805995546981099,\n",
       " 0.4869555598305312,\n",
       " 0.9991267590559572,\n",
       " 0.5106601928271168,\n",
       " 0.9987362766499086,\n",
       " 0.9997273700758946,\n",
       " 0.9896026698157931,\n",
       " 0.9998516663558156,\n",
       " 0.9921652718593943,\n",
       " 0.8122750421619125,\n",
       " 0.964605637882166,\n",
       " 0.9667790998111295,\n",
       " 0.5786673787960952,\n",
       " 0.77159440656401,\n",
       " 0.980444482770743,\n",
       " 1.0,\n",
       " 0.9997378036148112,\n",
       " 0.9986800613097789,\n",
       " 0.9998668870942559,\n",
       " 0.9959764510085886,\n",
       " 0.9997283490965818,\n",
       " 0.9997298005273489,\n",
       " 0.9997003304197055,\n",
       " 0.9975712738494396,\n",
       " 0.23923059584036777,\n",
       " 0.9613224392301035,\n",
       " 0.9756469259564106,\n",
       " 0.9998674992671706,\n",
       " 0.9997044287671918,\n",
       " 0.38133241973530047,\n",
       " 0.992649143216092,\n",
       " 0.5733206495856008,\n",
       " 0.9037632222095496,\n",
       " 0.9183865521033452,\n",
       " 0.9996932369879238,\n",
       " 0.5936320654049981,\n",
       " 0.9953914041396507,\n",
       " 0.9958485046580627,\n",
       " 0.7636042066267354,\n",
       " 0.8295468376095838,\n",
       " 0.6395666165555332,\n",
       " 1.0001186750051738,\n",
       " 0.9836534331255166,\n",
       " 0.9998420472139385,\n",
       " 0.9997179987385839,\n",
       " 0.9939387573786987,\n",
       " 0.6536176313184708,\n",
       " 0.9855203964089864,\n",
       " 0.9959209589794583,\n",
       " 0.9962609948116261,\n",
       " 1.0000000032574887,\n",
       " 0.9963732244448295,\n",
       " 0.6581419822852261,\n",
       " 0.9138397147217492,\n",
       " 0.9974292531646292,\n",
       " 0.9876852971348891,\n",
       " 0.999695391008488,\n",
       " 0.833729512892506,\n",
       " 0.9960520402720525,\n",
       " 0.7975907530670142,\n",
       " 0.9990209533581037,\n",
       " 0.9997205565003231,\n",
       " 0.8687202943525244,\n",
       " 0.9901620161121556,\n",
       " 1.0000066147115954,\n",
       " 0.3942217322110668,\n",
       " 0.5797197369898499,\n",
       " 0.9999992765454541,\n",
       " 0.9761317416501203,\n",
       " 0.999735492245563,\n",
       " 1.0,\n",
       " 0.9983281275305644,\n",
       " 0.5434457281408396,\n",
       " 0.8386982056268524,\n",
       " 0.999724080919558,\n",
       " 0.9991369977292819,\n",
       " 1.0,\n",
       " 0.7521529186186368,\n",
       " 0.9997109407609803,\n",
       " 0.9998588498069207,\n",
       " 0.9996002038350174,\n",
       " 0.9988297627208295,\n",
       " 0.7203340871626701,\n",
       " 0.432730353801314,\n",
       " 0.7274847219290069,\n",
       " 0.9748883920245747,\n",
       " 0.9997152008908536,\n",
       " 0.9830157809983652,\n",
       " 0.9478731720993809,\n",
       " 0.965220404536709,\n",
       " 0.8377484141090753,\n",
       " 0.9997145866217523,\n",
       " 0.9739389885484123,\n",
       " 0.7258032974413879,\n",
       " 0.9998632621150627,\n",
       " 0.8781919335458209,\n",
       " 0.9998784417092692,\n",
       " 0.5879523435833797,\n",
       " 0.5664102898935067,\n",
       " 1.0,\n",
       " 0.9523123093713951,\n",
       " 0.35999909884782216,\n",
       " 0.9939565303099521,\n",
       " 0.996244239433377,\n",
       " 1.0,\n",
       " 0.9998659620782935,\n",
       " 0.9999235985316163,\n",
       " 0.46928541487463543,\n",
       " 0.9929276781507222,\n",
       " 0.9997157403510456,\n",
       " 0.9955661023204734,\n",
       " 0.5017631007492529,\n",
       " 0.9964790517473423,\n",
       " 0.5485940631189586,\n",
       " 0.9983048624447609,\n",
       " 0.9998723350501826,\n",
       " 0.9997309606570097,\n",
       " 0.9968686608189123,\n",
       " 0.666810608847232,\n",
       " 0.999618875091661,\n",
       " 0.997913159062588,\n",
       " 0.8097408328410529,\n",
       " 0.9999830823774883,\n",
       " 0.97198932408187,\n",
       " 0.9967871350317259,\n",
       " 0.8189660707412996,\n",
       " 0.9935037308150233,\n",
       " 0.8317892385493859,\n",
       " 1.0,\n",
       " 0.9931536725363534,\n",
       " 0.914461983668533,\n",
       " 0.9999075573770352,\n",
       " 0.796786637104554,\n",
       " 0.9997087302925834,\n",
       " 0.6144958835951709,\n",
       " 0.99747702209463,\n",
       " 0.9997398205904341,\n",
       " 0.9964186999660586,\n",
       " 0.9867260035568381,\n",
       " 0.9998601975023049,\n",
       " 0.9970931424974036,\n",
       " 1.0,\n",
       " 0.8367858841599056,\n",
       " 0.9998425738067519,\n",
       " 0.9994938625635583,\n",
       " 0.9960293805369748,\n",
       " 0.9998840711583352,\n",
       " 0.32368008633805156,\n",
       " 0.9579446919330157,\n",
       " 0.9247628446863772,\n",
       " 0.999213891735398,\n",
       " 0.9996978153974787,\n",
       " 0.9996707177802743,\n",
       " 0.9307378352070288,\n",
       " 0.9997385163132406,\n",
       " 0.9479425488429832,\n",
       " 0.9993222250868495,\n",
       " 0.8981703358890387,\n",
       " 0.8390699382649861,\n",
       " 0.9996782952965331,\n",
       " 0.9997265951954931,\n",
       " 0.9998730156494191,\n",
       " 0.9995670666537154,\n",
       " 0.8928644173965478,\n",
       " 0.9997046273298383,\n",
       " 0.8399791161587692,\n",
       " 0.9068061438612083,\n",
       " 0.6949847409162981,\n",
       " 0.9992292649831921,\n",
       " 0.8795394866806615,\n",
       " 0.4268923053387891,\n",
       " 0.5722793590383546,\n",
       " 0.9999571043444837,\n",
       " 0.9796957663899619,\n",
       " 0.9993244091098176,\n",
       " 0.9927522711847796,\n",
       " 0.9998554427890638,\n",
       " 0.999733491243181,\n",
       " 0.967358131421812,\n",
       " 0.9998544677613397,\n",
       " 0.9166168450483547,\n",
       " 0.9959173973937326,\n",
       " 0.9997349477915678,\n",
       " 1.0,\n",
       " 0.7785984890900508,\n",
       " 0.8442656940348314,\n",
       " 0.7941028191419363,\n",
       " 0.8953400139112784,\n",
       " 0.9957229300945815,\n",
       " 0.9997053927865063,\n",
       " 0.5050140954148254,\n",
       " 0.9746659037715281,\n",
       " 0.9831926222909068,\n",
       " 0.9001312943491849,\n",
       " 0.9943985180464797,\n",
       " 0.9996799179516735,\n",
       " 0.9964675539948609,\n",
       " 0.9998919492154279,\n",
       " 0.9997075109413637,\n",
       " 1.0,\n",
       " 0.999951386554133,\n",
       " 0.9954819677640945,\n",
       " 0.9963189259400411,\n",
       " 0.9999966903786836,\n",
       " 0.9995836521338998,\n",
       " 0.9959310199881787,\n",
       " 0.9996988869714042,\n",
       " 0.999641589888754,\n",
       " 0.9044347440685048,\n",
       " 0.9996961318862215,\n",
       " 0.9960353917732458,\n",
       " 0.905253312647633,\n",
       " 0.4228127455331573,\n",
       " 0.9998441924149555,\n",
       " 0.999697061338524,\n",
       " 0.6766941454838818,\n",
       " 0.997477611578595,\n",
       " 0.9997083579201447,\n",
       " 0.9560240719908039,\n",
       " 0.9996658230767209,\n",
       " 0.46905307778569794,\n",
       " 0.5665410483489458,\n",
       " 0.9997119625963892,\n",
       " 0.99929695524011,\n",
       " 0.9996899803292203,\n",
       " 0.9969542908577345,\n",
       " 0.48642922485968776,\n",
       " 0.9961655457365399,\n",
       " 0.6505003153793627,\n",
       " 0.7506034657175825,\n",
       " 0.49042419296022016,\n",
       " 0.7574921370968556,\n",
       " 0.981659248743899,\n",
       " 0.9513243027230455,\n",
       " 0.8920773797289189,\n",
       " 0.4674342070613054,\n",
       " 0.9214531920354294,\n",
       " 0.9997193978826616,\n",
       " 0.9998687739662288,\n",
       " 0.3555233784260832,\n",
       " 0.25658863735851434,\n",
       " 1.0,\n",
       " 0.916664162565205,\n",
       " 0.9999979185964692,\n",
       " 0.9998559654884177,\n",
       " 0.6820629519506457,\n",
       " 0.9997178359523101,\n",
       " 0.9997227066580412,\n",
       " 0.9997144751375335,\n",
       " 0.9935392733908534,\n",
       " 0.8437965638915963,\n",
       " 0.9939320326936769,\n",
       " 0.7324730490076945,\n",
       " 0.9973548919551573,\n",
       " 0.9998896800898989,\n",
       " 0.9997112889920429,\n",
       " 0.6588534004126739,\n",
       " 0.9997354255216662,\n",
       " 0.9997132281789964,\n",
       " 0.8607509452452318,\n",
       " 0.4447649654940173,\n",
       " 0.9997255782679177,\n",
       " 0.999688417175481,\n",
       " 0.9715904627161177,\n",
       " 0.9733136467969339,\n",
       " 0.7586922363065484,\n",
       " 0.9959260484773463,\n",
       " 0.9995800334276305,\n",
       " 0.9965284276292073,\n",
       " 0.9464184599980451,\n",
       " 0.8161631763497924,\n",
       " 0.6250022600591596,\n",
       " 0.9998377084401028,\n",
       " 1.0,\n",
       " 0.9997035713299331,\n",
       " 0.4864058586610154,\n",
       " 0.8939553469800291,\n",
       " 0.9969624698181553,\n",
       " 0.9997077032957532,\n",
       " 0.9978003702787922,\n",
       " 0.6119011637924592,\n",
       " 0.6176997505790038,\n",
       " 0.9962169537471438,\n",
       " 0.8900685385338347,\n",
       " 0.9961228331021467,\n",
       " 0.9745945174208016,\n",
       " 0.8863462177151664,\n",
       " 0.9574548688976163,\n",
       " 0.6202088280098269,\n",
       " 0.9997440740595317,\n",
       " 0.9997296239009171,\n",
       " 0.9997414896239492,\n",
       " 0.7438130675522434,\n",
       " 0.9996219554629784,\n",
       " 0.28112943220628106,\n",
       " 0.9998682301336579,\n",
       " 0.9998528688444834,\n",
       " 0.6389595708630227,\n",
       " 0.9998704497155821,\n",
       " 0.9997051513025017,\n",
       " 0.6799086292699413,\n",
       " 0.9410679779722602,\n",
       " 0.618918073753843,\n",
       " 0.999986560253021,\n",
       " 0.9999903828457691,\n",
       " 0.9952829412056391,\n",
       " 0.9999523141974729,\n",
       " 0.8454018579388436,\n",
       " 0.5293098316217075,\n",
       " 0.9997405307955829,\n",
       " 0.9708357302294192,\n",
       " 0.9564876848228154,\n",
       " 0.9888620321798416,\n",
       " 0.99995347370442,\n",
       " 0.9997114380288751,\n",
       " 0.9998764806993613,\n",
       " 0.9875704567792163,\n",
       " 0.9997375346437715,\n",
       " 0.99990901542487,\n",
       " 0.40371585667723037,\n",
       " 0.9330986470678971,\n",
       " 0.9999251956804566,\n",
       " 0.4190883381494277,\n",
       " 0.9419243676614217,\n",
       " 0.638900051300539,\n",
       " 0.9913571615961945,\n",
       " 0.9996944176555786,\n",
       " 0.9979433599273626,\n",
       " 0.9998214487101544,\n",
       " 0.9960495645736611,\n",
       " 0.7560909985828445,\n",
       " 0.9997104500095193,\n",
       " 0.9998938259817339,\n",
       " 0.6436356839463384,\n",
       " 0.6222223390164545,\n",
       " 0.999726004234721,\n",
       " 0.9997399617087874,\n",
       " 0.9996917293738877,\n",
       " 0.9999552338395817,\n",
       " 0.9998498042942197,\n",
       " 0.7294445418429505,\n",
       " 0.6880529140162234,\n",
       " 0.9962242194011983,\n",
       " 0.4740577713137888,\n",
       " 0.999649491143095,\n",
       " 0.9998639790833069,\n",
       " 0.999899591057031,\n",
       " 0.960949194674237,\n",
       " 0.9999999859502198,\n",
       " 0.43371062409082023,\n",
       " 0.9995835884596754,\n",
       " 0.9962010701804977,\n",
       " 0.9794767319140507,\n",
       " 0.9996291019920919,\n",
       " 0.9997259043395608,\n",
       " 0.9987192565337097,\n",
       " 0.9998914015289666,\n",
       " 0.8998625499134381,\n",
       " 0.9787357276622003,\n",
       " 0.9839257571198928,\n",
       " 0.9999000671572301,\n",
       " 0.996241751454636,\n",
       " 0.7478770954446968,\n",
       " 0.9460963944830096,\n",
       " 0.9797599242757181,\n",
       " 0.9997167458847229,\n",
       " 0.9998771378319358,\n",
       " 0.9996833531664766,\n",
       " 0.9995929608625358,\n",
       " 0.42218717329270095,\n",
       " 0.9961637922651239,\n",
       " 0.6328378210246626,\n",
       " 0.5993774331439603,\n",
       " 0.5799613244302971,\n",
       " 0.9360661936450267,\n",
       " 0.9999904115469129,\n",
       " 0.9997423780943058,\n",
       " 0.9996549052524676,\n",
       " 0.9997161446786442,\n",
       " 0.8395661751649501,\n",
       " 0.9998503363064706,\n",
       " 0.6065009154798051,\n",
       " 0.995796841564957,\n",
       " 0.4401618025422436,\n",
       " 0.85988256879756,\n",
       " 0.4305538651930935,\n",
       " 0.7773535722269453,\n",
       " 0.9703882434238847,\n",
       " 0.9997377056118064,\n",
       " 0.9962967940097016,\n",
       " 0.9996648210106116,\n",
       " 0.9996940840926481,\n",
       " 0.6598578811194347,\n",
       " 0.9998605018417013,\n",
       " 0.9974352233221908,\n",
       " 0.999598304673263,\n",
       " 0.9999303804017807,\n",
       " 0.9354878366440851,\n",
       " 0.9682145330577148,\n",
       " 0.9808379878994047,\n",
       " 0.9997392130694435,\n",
       " 0.9995796369170984,\n",
       " 0.95438414479861,\n",
       " 1.0,\n",
       " 0.993578072691713,\n",
       " 0.6321644726045391,\n",
       " 0.9999057637622385,\n",
       " 0.9997238724881472,\n",
       " 1.0,\n",
       " 0.9998507168327058,\n",
       " 0.9996934283594101,\n",
       " 0.8467323497555851,\n",
       " 0.9996387692449388,\n",
       " 0.9984678375051219,\n",
       " 0.9951890027550064,\n",
       " 0.9964953763309508,\n",
       " 0.727252213892324,\n",
       " 0.9997137750447215,\n",
       " 0.7675105554898607,\n",
       " 0.9996947864140179,\n",
       " 0.9999086169570613,\n",
       " 0.9998624242957996,\n",
       " 0.6882933715201818,\n",
       " 0.9997140226625383,\n",
       " 0.999369634626099,\n",
       " 0.9892908598028408,\n",
       " 0.9997046117782561,\n",
       " 0.6481142125433594,\n",
       " 0.6010283781601963,\n",
       " 0.9997004600171381,\n",
       " 0.9872284595831871,\n",
       " 0.9989494087830486,\n",
       " 0.9998462459746048,\n",
       " 0.7497854905088825,\n",
       " 0.28421604466936035,\n",
       " 0.9998729641396276,\n",
       " 0.9956727168746257,\n",
       " 0.43203292113079217,\n",
       " 0.9968809611672451,\n",
       " 1.0,\n",
       " 0.9771503140416673,\n",
       " 0.4668827866017585,\n",
       " 0.7847440635301586,\n",
       " 0.9998561578386196,\n",
       " 0.9999450318489138,\n",
       " 0.9965285162642538,\n",
       " 0.9963777892345181,\n",
       " 0.9207499108378547,\n",
       " 0.9792833799217541,\n",
       " 0.9996987677983198,\n",
       " 0.9996704267176746,\n",
       " 0.7572028155875526,\n",
       " 0.9162235955471018,\n",
       " 0.9998567386104331,\n",
       " 0.9998511759585973,\n",
       " 0.9925354986737138,\n",
       " 0.999383351455748,\n",
       " 1.0,\n",
       " 0.9999356850394906,\n",
       " 0.9970762681391678,\n",
       " 0.9997204374428227,\n",
       " 0.8794740716195797,\n",
       " 0.9997426106813407,\n",
       " 0.6531636436879256,\n",
       " 0.36194081890019075,\n",
       " 0.9915027832457776,\n",
       " 0.7829322736418758,\n",
       " 1.0,\n",
       " 0.9999276176774305,\n",
       " 0.9545102260731764,\n",
       " 0.903200063802343,\n",
       " 0.5485155319325477,\n",
       " 0.5740071699326239,\n",
       " 0.24253645161445012,\n",
       " 0.9949798713244309,\n",
       " 0.6701067412573538,\n",
       " 0.8747326666543188,\n",
       " 0.9960482746044353,\n",
       " 0.9006330272344615,\n",
       " 0.9998687140935928,\n",
       " 0.9997385895416844,\n",
       " 1.0000266160639577,\n",
       " 0.6760986142399051,\n",
       " 1.000025468500354,\n",
       " 0.9960014397720507,\n",
       " 0.9997264387838132,\n",
       " 0.9984509096560097,\n",
       " 0.9930810114711051,\n",
       " 0.999718495771539,\n",
       " 0.9298868953621738,\n",
       " 0.9997482325548775,\n",
       " 0.9999999994836097,\n",
       " 0.9851122042761903,\n",
       " 0.54336036647051,\n",
       " 0.44037732618052783,\n",
       " 0.5782919284135599,\n",
       " 0.9999043655456513,\n",
       " 0.9996497996314047,\n",
       " 0.9980293970425963,\n",
       " 0.9997097419198332,\n",
       " 0.9366173334853161,\n",
       " 0.9996109173756218,\n",
       " 1.0,\n",
       " 0.999857798130778,\n",
       " 0.8853300584928548,\n",
       " 0.6971751542512985,\n",
       " 0.9979586919046342,\n",
       " 0.9997240749831349,\n",
       " 0.9997150314501615,\n",
       " 0.9995027282678698,\n",
       " 0.7460299844219046,\n",
       " 0.9999948128111923,\n",
       " 0.9925619129589348,\n",
       " 0.9998657422026488,\n",
       " 0.9988214593310816,\n",
       " 0.9120118253121243,\n",
       " 0.9962799353133894,\n",
       " 0.9010653218544642,\n",
       " 0.505081961997004,\n",
       " 0.7642314623817125,\n",
       " 0.946229935295712,\n",
       " 0.9952333755110522,\n",
       " 0.9466272604176389,\n",
       " 0.5240152436061277,\n",
       " 0.9996092906430434,\n",
       " 0.9293352541640476,\n",
       " 0.9947197218550449,\n",
       " 0.7444078591138166,\n",
       " 0.9997066159381707,\n",
       " 0.9996908659618327,\n",
       " 0.9997109407609697,\n",
       " 0.5237789372527494,\n",
       " 0.9998365089429156,\n",
       " 0.9997084772471592,\n",
       " 0.8785886204127118,\n",
       " 0.8805952215085726,\n",
       " 0.3315909305560989,\n",
       " 0.9999999962780233,\n",
       " 0.9998542253080951,\n",
       " 0.9894215641782478,\n",
       " 0.8078121159020413,\n",
       " 0.9990517057873726,\n",
       " 0.9997066159381651,\n",
       " 0.9544945715616583,\n",
       " 0.9999997949975085,\n",
       " 0.3432199100858136,\n",
       " 0.6742974771722393,\n",
       " 0.999688139128561,\n",
       " 0.9348896226522035,\n",
       " 0.9963067553831514,\n",
       " 0.9997309055690562,\n",
       " 0.9997436546194411,\n",
       " 0.9996967939747979,\n",
       " 0.9810133942753873,\n",
       " 0.9974916472090216,\n",
       " 0.99443530404994,\n",
       " 0.980630879803337,\n",
       " 0.9997425405692291,\n",
       " 0.9997154047194681,\n",
       " 0.9997268710533578,\n",
       " 0.43646721841400377,\n",
       " 0.9936250957382171,\n",
       " 0.9997182738195874,\n",
       " 0.4975397380675855,\n",
       " 0.9998750381122764,\n",
       " 0.9762666682178602,\n",
       " 0.6843055136309278,\n",
       " 0.6826186836393263,\n",
       " 0.9968802904598744,\n",
       " 0.9996716037348131,\n",
       " 0.9997347698622636,\n",
       " 0.9997234616380293,\n",
       " 0.999954732379894,\n",
       " 0.9959682129441326,\n",
       " 0.7814518495274585,\n",
       " 0.9996348899425724,\n",
       " 0.9760548579577959,\n",
       " 0.9997142986168661,\n",
       " 0.9997160723111627,\n",
       " 1.000013178771636,\n",
       " 0.585628858492798,\n",
       " 0.999732866659155,\n",
       " 0.9997403845714118,\n",
       " 0.3645802115768174,\n",
       " 0.9996805940155202,\n",
       " 0.9923140121821648,\n",
       " 0.999855448501356,\n",
       " 0.9268479972614353,\n",
       " 0.7977423599821427,\n",
       " 0.7564556821635315,\n",
       " 0.9907829576615828,\n",
       " 0.5735625525174123,\n",
       " 0.999917161850808,\n",
       " 0.9443650321218117,\n",
       " 0.9963791515386169,\n",
       " 0.9801670785375285,\n",
       " 0.9970563791696956,\n",
       " 0.3890427040508872,\n",
       " 0.9777284143706402,\n",
       " 0.9997167815622007,\n",
       " 0.5411712653076902,\n",
       " 0.9997157792976298,\n",
       " 1.0,\n",
       " 0.9972453184362423,\n",
       " 0.9997336114652254,\n",
       " 0.989914966115963,\n",
       " 0.9991393542389561,\n",
       " 0.9997337809684221,\n",
       " 0.817377084412979,\n",
       " 0.9996682470363587,\n",
       " 0.4615263257959574,\n",
       " 0.9997026368863585,\n",
       " 0.9996909459349339,\n",
       " 0.9962009136006441,\n",
       " 0.8043568013606295,\n",
       " 0.9998496035566872,\n",
       " 0.606338759256214,\n",
       " 0.9996897131833715,\n",
       " 0.7246084687170112,\n",
       " 0.9731512266454996,\n",
       " 0.9997033289023727,\n",
       " 0.998812751191742,\n",
       " 0.983938328083078,\n",
       " 0.5580591865512146,\n",
       " 0.9306371180353963,\n",
       " 0.9462022685332026,\n",
       " 0.9997349270444968,\n",
       " 0.9018776606194318,\n",
       " 0.9991853898425969,\n",
       " 0.8342322635412963,\n",
       " 0.7444661218338305,\n",
       " 0.999684910143552,\n",
       " 0.9976323449381748,\n",
       " 0.6330269414102397,\n",
       " 0.9110556001033315,\n",
       " 0.8473509177023248,\n",
       " 0.9499786199802975,\n",
       " 0.9997385163132351,\n",
       " 0.9097890214220619,\n",
       " 0.9997580715525569,\n",
       " 0.5458030818676907,\n",
       " 0.9997404540104203,\n",
       " 0.9961127392423371,\n",
       " 0.9998514440259294,\n",
       " 0.9959733921000468,\n",
       " 0.8455925326106611,\n",
       " 0.9981194212232517,\n",
       " 0.99971024733275,\n",
       " 0.9876920468277705,\n",
       " 0.9996278574818486,\n",
       " 0.9997370160529777,\n",
       " 0.8823385357008067,\n",
       " 0.9996311436084,\n",
       " 0.9998565415940248,\n",
       " 0.9989878807689149,\n",
       " 0.4052721825937483,\n",
       " 0.9994387204997761,\n",
       " 0.574958740300282,\n",
       " 0.9661074646705508,\n",
       " 0.9999574899253372,\n",
       " 0.8023876112055979,\n",
       " 0.868485929941642,\n",
       " 0.9549737702227535,\n",
       " 0.9983556387225212,\n",
       " 0.5080438935461331,\n",
       " 1.0,\n",
       " 0.46411449425062684,\n",
       " 0.7541168548580672,\n",
       " 0.9957824226690807,\n",
       " 0.999882545336488,\n",
       " 0.8684451364979012,\n",
       " 0.9996341273787327,\n",
       " 0.44526678932990127,\n",
       " 0.9880121722664593,\n",
       " 0.9848398123371265,\n",
       " 0.9997166561420078,\n",
       " 0.9998757087565693,\n",
       " 0.9997441695425512,\n",
       " 0.8922244036707956,\n",
       " 0.9997208772952222,\n",
       " 0.8762494803944291,\n",
       " 0.9984350292797508,\n",
       " 0.9345766558140902,\n",
       " 0.9997547495242656,\n",
       " 0.999863025701655]"
      ]
     },
     "execution_count": 334,
     "metadata": {},
     "output_type": "execute_result"
    }
   ],
   "source": [
    "top_lime_preds"
   ]
  },
  {
   "cell_type": "code",
   "execution_count": 329,
   "metadata": {},
   "outputs": [],
   "source": [
    "top_true_preds = []\n",
    "for mas in true_preds:\n",
    "    top_true_preds.append(mas.max())"
   ]
  },
  {
   "cell_type": "code",
   "execution_count": 330,
   "metadata": {},
   "outputs": [
    {
     "data": {
      "text/plain": [
       "[0.9995266,\n",
       " 0.99999714,\n",
       " 0.7607055,\n",
       " 0.85131276,\n",
       " 0.80341846,\n",
       " 0.99943227,\n",
       " 0.9998832,\n",
       " 0.9240701,\n",
       " 1.0,\n",
       " 1.0,\n",
       " 0.98986316,\n",
       " 0.99993956,\n",
       " 0.99999297,\n",
       " 0.52388567,\n",
       " 0.99996245,\n",
       " 0.9999994,\n",
       " 1.0,\n",
       " 0.97244316,\n",
       " 0.63281614,\n",
       " 0.49909303,\n",
       " 0.9998406,\n",
       " 1.0,\n",
       " 0.97894704,\n",
       " 0.99999785,\n",
       " 0.59863436,\n",
       " 0.9348349,\n",
       " 0.9997695,\n",
       " 0.95699644,\n",
       " 0.6083027,\n",
       " 0.7581589,\n",
       " 0.9999993,\n",
       " 0.9954717,\n",
       " 0.51834244,\n",
       " 0.9715763,\n",
       " 0.99292964,\n",
       " 1.0,\n",
       " 0.9999981,\n",
       " 0.9878177,\n",
       " 1.0,\n",
       " 0.76320195,\n",
       " 0.91050607,\n",
       " 0.9460912,\n",
       " 0.9999999,\n",
       " 0.99987686,\n",
       " 0.9995264,\n",
       " 0.6556435,\n",
       " 0.9999746,\n",
       " 0.9995454,\n",
       " 0.99976355,\n",
       " 0.99864787,\n",
       " 0.9999939,\n",
       " 0.9998851,\n",
       " 1.0,\n",
       " 0.85107577,\n",
       " 0.67972374,\n",
       " 0.8269429,\n",
       " 0.7811845,\n",
       " 0.99993825,\n",
       " 0.9979285,\n",
       " 0.98943555,\n",
       " 1.0,\n",
       " 0.8285379,\n",
       " 1.0,\n",
       " 0.9999465,\n",
       " 0.9629029,\n",
       " 0.95493126,\n",
       " 0.99896836,\n",
       " 0.8440405,\n",
       " 0.79829305,\n",
       " 1.0,\n",
       " 0.7318693,\n",
       " 1.0,\n",
       " 0.71324074,\n",
       " 0.9972651,\n",
       " 1.0,\n",
       " 0.9472802,\n",
       " 0.6198413,\n",
       " 0.5090514,\n",
       " 1.0,\n",
       " 0.99193734,\n",
       " 1.0,\n",
       " 0.991999,\n",
       " 0.9999989,\n",
       " 0.99016225,\n",
       " 0.9999651,\n",
       " 0.9974064,\n",
       " 1.0,\n",
       " 0.9994593,\n",
       " 0.99999845,\n",
       " 0.99875057,\n",
       " 0.99167997,\n",
       " 0.9174046,\n",
       " 0.94828695,\n",
       " 0.9950052,\n",
       " 0.9968188,\n",
       " 0.93662745,\n",
       " 0.92426604,\n",
       " 1.0,\n",
       " 1.0,\n",
       " 1.0,\n",
       " 1.0,\n",
       " 0.7874621,\n",
       " 1.0,\n",
       " 1.0,\n",
       " 0.40566775,\n",
       " 1.0,\n",
       " 1.0,\n",
       " 0.8089121,\n",
       " 0.8339932,\n",
       " 1.0,\n",
       " 1.0,\n",
       " 0.9988488,\n",
       " 0.72056395,\n",
       " 0.71203744,\n",
       " 0.99164045,\n",
       " 0.99999034,\n",
       " 0.99948126,\n",
       " 0.7949555,\n",
       " 0.39538798,\n",
       " 0.9992017,\n",
       " 1.0,\n",
       " 1.0,\n",
       " 1.0,\n",
       " 0.9974051,\n",
       " 0.9538986,\n",
       " 0.23417677,\n",
       " 0.9949921,\n",
       " 0.55415154,\n",
       " 0.647363,\n",
       " 1.0,\n",
       " 0.9999999,\n",
       " 0.9999999,\n",
       " 0.9999945,\n",
       " 0.9997478,\n",
       " 0.8128624,\n",
       " 0.985984,\n",
       " 0.89383817,\n",
       " 1.0,\n",
       " 0.99965084,\n",
       " 0.6933722,\n",
       " 0.9210826,\n",
       " 0.8566108,\n",
       " 0.7759151,\n",
       " 1.0,\n",
       " 1.0,\n",
       " 0.99997556,\n",
       " 1.0,\n",
       " 0.6534988,\n",
       " 1.0,\n",
       " 0.9969241,\n",
       " 0.9999999,\n",
       " 1.0,\n",
       " 0.999969,\n",
       " 0.96535325,\n",
       " 0.9999974,\n",
       " 0.999998,\n",
       " 1.0,\n",
       " 0.7262896,\n",
       " 0.9717058,\n",
       " 0.92798865,\n",
       " 0.37393558,\n",
       " 1.0,\n",
       " 0.9999988,\n",
       " 1.0,\n",
       " 0.99300474,\n",
       " 0.46310475,\n",
       " 0.9998989,\n",
       " 0.99983656,\n",
       " 0.41003045,\n",
       " 0.6213547,\n",
       " 1.0,\n",
       " 0.9387604,\n",
       " 0.9999999,\n",
       " 1.0,\n",
       " 1.0,\n",
       " 0.8408012,\n",
       " 0.99999595,\n",
       " 1.0,\n",
       " 1.0,\n",
       " 0.8441872,\n",
       " 0.99184954,\n",
       " 0.46129012,\n",
       " 0.77410775,\n",
       " 0.94723874,\n",
       " 0.20094559,\n",
       " 0.5431458,\n",
       " 0.7358603,\n",
       " 0.9918345,\n",
       " 0.45288986,\n",
       " 0.9999995,\n",
       " 0.9825617,\n",
       " 0.95812196,\n",
       " 1.0,\n",
       " 1.0,\n",
       " 0.4374189,\n",
       " 1.0,\n",
       " 1.0,\n",
       " 0.9398606,\n",
       " 0.99999666,\n",
       " 0.37687787,\n",
       " 1.0,\n",
       " 0.95962864,\n",
       " 0.9717016,\n",
       " 0.90898824,\n",
       " 0.396627,\n",
       " 0.92286456,\n",
       " 0.82970107,\n",
       " 0.9932516,\n",
       " 0.9999981,\n",
       " 1.0,\n",
       " 0.9997638,\n",
       " 0.91261435,\n",
       " 0.99988675,\n",
       " 0.99999034,\n",
       " 1.0,\n",
       " 0.5073767,\n",
       " 1.0,\n",
       " 0.9999994,\n",
       " 0.99850696,\n",
       " 0.99975044,\n",
       " 1.0,\n",
       " 0.948938,\n",
       " 0.9632397,\n",
       " 0.9926421,\n",
       " 0.99998903,\n",
       " 0.9921525,\n",
       " 0.32216135,\n",
       " 0.99992895,\n",
       " 0.38292408,\n",
       " 0.9999851,\n",
       " 1.0,\n",
       " 0.93623525,\n",
       " 0.86392283,\n",
       " 1.0,\n",
       " 0.90823174,\n",
       " 0.76935333,\n",
       " 0.99999964,\n",
       " 0.9999951,\n",
       " 0.6525456,\n",
       " 0.9750106,\n",
       " 0.9768488,\n",
       " 0.90435743,\n",
       " 0.6996588,\n",
       " 0.28150296,\n",
       " 0.99997485,\n",
       " 0.9335245,\n",
       " 0.99979407,\n",
       " 0.972385,\n",
       " 0.9999025,\n",
       " 0.6701782,\n",
       " 0.9690177,\n",
       " 0.6116286,\n",
       " 0.4947705,\n",
       " 0.98929906,\n",
       " 1.0,\n",
       " 0.9537994,\n",
       " 0.51054096,\n",
       " 1.0,\n",
       " 0.9999639,\n",
       " 0.96085256,\n",
       " 0.9669735,\n",
       " 0.64995784,\n",
       " 0.99844676,\n",
       " 0.48122078,\n",
       " 0.63591605,\n",
       " 1.0,\n",
       " 0.9938199,\n",
       " 0.99998283,\n",
       " 0.9999392,\n",
       " 0.39743668,\n",
       " 1.0,\n",
       " 0.9717334,\n",
       " 0.99995625,\n",
       " 0.7791862,\n",
       " 0.9999994,\n",
       " 0.9999999,\n",
       " 0.99629873,\n",
       " 0.7582031,\n",
       " 1.0,\n",
       " 0.9999299,\n",
       " 0.42426538,\n",
       " 0.96613085,\n",
       " 0.9999863,\n",
       " 1.0,\n",
       " 0.9999932,\n",
       " 1.0,\n",
       " 1.0,\n",
       " 0.29735276,\n",
       " 0.96162593,\n",
       " 0.99961555,\n",
       " 0.76195246,\n",
       " 0.99235743,\n",
       " 0.8039893,\n",
       " 0.9474893,\n",
       " 0.9977664,\n",
       " 0.9999951,\n",
       " 0.6978278,\n",
       " 0.5105168,\n",
       " 1.0,\n",
       " 0.9999914,\n",
       " 1.0,\n",
       " 0.63003296,\n",
       " 0.83472556,\n",
       " 1.0,\n",
       " 0.9994311,\n",
       " 0.99621,\n",
       " 0.58995944,\n",
       " 1.0,\n",
       " 1.0,\n",
       " 0.70497614,\n",
       " 0.99432796,\n",
       " 0.8010591,\n",
       " 0.44539687,\n",
       " 1.0,\n",
       " 0.4907526,\n",
       " 0.98089546,\n",
       " 0.48708075,\n",
       " 0.99943167,\n",
       " 0.51080745,\n",
       " 0.99880505,\n",
       " 0.99999976,\n",
       " 0.9898739,\n",
       " 1.0,\n",
       " 0.9924452,\n",
       " 0.8124873,\n",
       " 0.96488947,\n",
       " 0.9670857,\n",
       " 0.58027744,\n",
       " 0.7717905,\n",
       " 0.9807146,\n",
       " 1.0,\n",
       " 1.0,\n",
       " 0.998939,\n",
       " 0.99999917,\n",
       " 0.99624926,\n",
       " 0.9999988,\n",
       " 1.0,\n",
       " 0.99998724,\n",
       " 0.9978648,\n",
       " 0.23929612,\n",
       " 0.96162015,\n",
       " 0.97590667,\n",
       " 1.0,\n",
       " 1.0,\n",
       " 0.38142467,\n",
       " 0.9963899,\n",
       " 0.57347697,\n",
       " 0.90387917,\n",
       " 0.91863537,\n",
       " 1.0,\n",
       " 0.5938013,\n",
       " 0.99917704,\n",
       " 1.0,\n",
       " 0.7637926,\n",
       " 0.82976836,\n",
       " 0.6397254,\n",
       " 1.0,\n",
       " 0.9837016,\n",
       " 1.0,\n",
       " 1.0,\n",
       " 0.99775463,\n",
       " 0.6537936,\n",
       " 0.98578936,\n",
       " 0.9999993,\n",
       " 0.9999999,\n",
       " 1.0,\n",
       " 0.99999976,\n",
       " 0.6583113,\n",
       " 0.9140553,\n",
       " 0.99744153,\n",
       " 0.98952043,\n",
       " 0.9999999,\n",
       " 0.8338129,\n",
       " 0.9999999,\n",
       " 0.79782254,\n",
       " 0.9993061,\n",
       " 0.99999464,\n",
       " 0.8689449,\n",
       " 0.9904254,\n",
       " 1.0,\n",
       " 0.39431354,\n",
       " 0.57987326,\n",
       " 1.0,\n",
       " 0.97640514,\n",
       " 0.9999989,\n",
       " 1.0,\n",
       " 0.99859315,\n",
       " 0.54358804,\n",
       " 0.8388975,\n",
       " 0.9999995,\n",
       " 0.999419,\n",
       " 1.0,\n",
       " 0.75234395,\n",
       " 1.0,\n",
       " 1.0,\n",
       " 0.99987817,\n",
       " 0.9991097,\n",
       " 0.7205334,\n",
       " 0.43284407,\n",
       " 0.7276796,\n",
       " 0.975155,\n",
       " 1.0,\n",
       " 0.9832767,\n",
       " 0.9515637,\n",
       " 0.96548015,\n",
       " 0.83795923,\n",
       " 0.99996185,\n",
       " 0.977221,\n",
       " 0.72586566,\n",
       " 1.0,\n",
       " 0.878412,\n",
       " 1.0,\n",
       " 0.58811927,\n",
       " 0.56657135,\n",
       " 1.0,\n",
       " 0.9526106,\n",
       " 0.36009735,\n",
       " 0.99755645,\n",
       " 1.0,\n",
       " 1.0,\n",
       " 0.9999914,\n",
       " 1.0,\n",
       " 0.46940708,\n",
       " 0.99311393,\n",
       " 0.99997497,\n",
       " 0.99952984,\n",
       " 0.5018835,\n",
       " 1.0,\n",
       " 0.54874164,\n",
       " 0.9985902,\n",
       " 0.9999789,\n",
       " 1.0,\n",
       " 1.0,\n",
       " 0.6669691,\n",
       " 0.99993134,\n",
       " 0.9981912,\n",
       " 0.81558734,\n",
       " 0.9999728,\n",
       " 0.97226906,\n",
       " 0.9988176,\n",
       " 0.8191492,\n",
       " 0.99377304,\n",
       " 0.83201814,\n",
       " 1.0,\n",
       " 0.99344265,\n",
       " 0.91472316,\n",
       " 1.0,\n",
       " 0.796128,\n",
       " 0.99999535,\n",
       " 0.6146627,\n",
       " 0.99776125,\n",
       " 1.0,\n",
       " 1.0,\n",
       " 0.99034166,\n",
       " 1.0,\n",
       " 0.99832493,\n",
       " 1.0,\n",
       " 0.8370174,\n",
       " 1.0,\n",
       " 0.9997818,\n",
       " 1.0,\n",
       " 1.0,\n",
       " 0.3237713,\n",
       " 0.9582079,\n",
       " 0.92501915,\n",
       " 0.99951684,\n",
       " 0.9999956,\n",
       " 1.0,\n",
       " 0.9309897,\n",
       " 1.0,\n",
       " 0.94820625,\n",
       " 0.9998024,\n",
       " 0.8984263,\n",
       " 0.83928555,\n",
       " 0.99997175,\n",
       " 1.0,\n",
       " 1.0,\n",
       " 0.9998411,\n",
       " 0.89689606,\n",
       " 0.99999857,\n",
       " 0.8401957,\n",
       " 0.90707797,\n",
       " 0.6931209,\n",
       " 0.99948955,\n",
       " 0.87976146,\n",
       " 0.4269939,\n",
       " 0.57244873,\n",
       " 0.99999976,\n",
       " 0.97995603,\n",
       " 0.99958736,\n",
       " 0.9930098,\n",
       " 0.9999993,\n",
       " 0.9999937,\n",
       " 0.9676142,\n",
       " 0.9999993,\n",
       " 0.91688967,\n",
       " 0.9993333,\n",
       " 0.9999999,\n",
       " 1.0,\n",
       " 0.7788092,\n",
       " 0.8445069,\n",
       " 0.7942927,\n",
       " 0.8955769,\n",
       " 1.0,\n",
       " 0.9999963,\n",
       " 0.50512326,\n",
       " 0.97497004,\n",
       " 0.9834646,\n",
       " 0.9003714,\n",
       " 0.994665,\n",
       " 0.99995625,\n",
       " 1.0,\n",
       " 1.0,\n",
       " 1.0,\n",
       " 1.0,\n",
       " 1.0,\n",
       " 0.9957783,\n",
       " 1.0,\n",
       " 0.99999917,\n",
       " 0.9998808,\n",
       " 1.0,\n",
       " 1.0,\n",
       " 0.99994254,\n",
       " 0.90467215,\n",
       " 0.99998593,\n",
       " 1.0,\n",
       " 0.9054811,\n",
       " 0.4237573,\n",
       " 1.0,\n",
       " 0.9999999,\n",
       " 0.67687315,\n",
       " 0.99774855,\n",
       " 0.9999993,\n",
       " 0.9563172,\n",
       " 0.9999058,\n",
       " 0.46918303,\n",
       " 0.56671226,\n",
       " 0.9999889,\n",
       " 0.9995902,\n",
       " 0.99999225,\n",
       " 1.0,\n",
       " 0.4865612,\n",
       " 1.0,\n",
       " 0.6506672,\n",
       " 0.7507877,\n",
       " 0.490546,\n",
       " 0.75769526,\n",
       " 0.98155653,\n",
       " 0.95159364,\n",
       " 0.8923213,\n",
       " 0.46859717,\n",
       " 0.92508286,\n",
       " 1.0,\n",
       " 1.0,\n",
       " 0.35560092,\n",
       " 0.25664866,\n",
       " 1.0,\n",
       " 0.9168991,\n",
       " 0.9999999,\n",
       " 1.0,\n",
       " 0.6822511,\n",
       " 0.9999902,\n",
       " 0.9999999,\n",
       " 0.9999963,\n",
       " 0.9938148,\n",
       " 0.844022,\n",
       " 0.9941934,\n",
       " 0.7326584,\n",
       " 0.9979734,\n",
       " 0.9999988,\n",
       " 1.0,\n",
       " 0.6590219,\n",
       " 1.0,\n",
       " 0.99999857,\n",
       " 0.86098313,\n",
       " 0.44488028,\n",
       " 1.0,\n",
       " 0.99999404,\n",
       " 0.971866,\n",
       " 0.97335374,\n",
       " 0.7589077,\n",
       " 0.99994195,\n",
       " 0.99962103,\n",
       " 1.0,\n",
       " 0.9466616,\n",
       " 0.81636685,\n",
       " 0.62515885,\n",
       " 1.0,\n",
       " 1.0,\n",
       " 0.9999999,\n",
       " 0.48652145,\n",
       " 0.8942057,\n",
       " 0.9972473,\n",
       " 1.0,\n",
       " 0.99806744,\n",
       " 0.6120709,\n",
       " 0.6178558,\n",
       " 1.0,\n",
       " 0.89034206,\n",
       " 1.0,\n",
       " 0.97490466,\n",
       " 0.8866018,\n",
       " 0.9577078,\n",
       " 0.62038016,\n",
       " 0.99999034,\n",
       " 1.0,\n",
       " 1.0,\n",
       " 0.744018,\n",
       " 0.9999182,\n",
       " 0.28120065,\n",
       " 1.0,\n",
       " 1.0,\n",
       " 0.6391405,\n",
       " 0.99999666,\n",
       " 0.99998784,\n",
       " 0.6800974,\n",
       " 0.9413137,\n",
       " 0.6191105,\n",
       " 0.99999666,\n",
       " 0.99999154,\n",
       " 0.99890757,\n",
       " 1.0,\n",
       " 0.84561676,\n",
       " 0.52942413,\n",
       " 0.99999976,\n",
       " 0.97110736,\n",
       " 0.9586666,\n",
       " 0.989156,\n",
       " 0.99999976,\n",
       " 0.99999154,\n",
       " 0.9999999,\n",
       " 0.98870087,\n",
       " 0.9997565,\n",
       " 0.9999999,\n",
       " 0.40383777,\n",
       " 0.933375,\n",
       " 0.9999317,\n",
       " 0.41919443,\n",
       " 0.94214207,\n",
       " 0.6390732,\n",
       " 0.99159837,\n",
       " 0.99996686,\n",
       " 0.99947804,\n",
       " 0.99982244,\n",
       " 1.0,\n",
       " 0.7562999,\n",
       " 0.99999917,\n",
       " 1.0,\n",
       " 0.64379185,\n",
       " 0.622388,\n",
       " 0.9999989,\n",
       " 1.0,\n",
       " 0.9999999,\n",
       " 1.0,\n",
       " 1.0,\n",
       " 0.73359454,\n",
       " 0.6882413,\n",
       " 0.9999962,\n",
       " 0.47418293,\n",
       " 0.99995816,\n",
       " 1.0,\n",
       " 0.99999833,\n",
       " 0.9612036,\n",
       " 1.0,\n",
       " 0.43382588,\n",
       " 0.999851,\n",
       " 0.9999747,\n",
       " 0.9834289,\n",
       " 0.9996418,\n",
       " 1.0,\n",
       " 0.999006,\n",
       " 1.0,\n",
       " 0.9000887,\n",
       " 0.9789909,\n",
       " 0.9877922,\n",
       " 0.9999994,\n",
       " 1.0,\n",
       " 0.7480852,\n",
       " 0.9463552,\n",
       " 0.9800458,\n",
       " 0.9999908,\n",
       " 1.0,\n",
       " 0.99994874,\n",
       " 0.9998704,\n",
       " 0.4222982,\n",
       " 1.0,\n",
       " 0.6329937,\n",
       " 0.59953463,\n",
       " 0.5801222,\n",
       " 0.9363343,\n",
       " 0.9999927,\n",
       " 1.0,\n",
       " 0.9999404,\n",
       " 1.0,\n",
       " 0.83981514,\n",
       " 1.0,\n",
       " 0.6066497,\n",
       " 0.99958676,\n",
       " 0.44029543,\n",
       " 0.8630066,\n",
       " 0.4306657,\n",
       " 0.77758193,\n",
       " 0.9706575,\n",
       " 1.0,\n",
       " 1.0,\n",
       " 0.99997044,\n",
       " 0.99996245,\n",
       " 0.6600217,\n",
       " 1.0,\n",
       " 0.9984456,\n",
       " 0.99987626,\n",
       " 0.99999666,\n",
       " 0.9357582,\n",
       " 0.968471,\n",
       " 0.9821123,\n",
       " 0.9999995,\n",
       " 0.9998388,\n",
       " 0.9546494,\n",
       " 1.0,\n",
       " 0.9938538,\n",
       " 0.63232094,\n",
       " 1.0,\n",
       " 1.0,\n",
       " 1.0,\n",
       " 1.0,\n",
       " 0.99997663,\n",
       " 0.84696984,\n",
       " 0.9999126,\n",
       " 0.99852055,\n",
       " 0.99907076,\n",
       " 1.0,\n",
       " 0.72744656,\n",
       " 0.99997497,\n",
       " 0.7677099,\n",
       " 0.999997,\n",
       " 1.0,\n",
       " 1.0,\n",
       " 0.68847644,\n",
       " 0.9999999,\n",
       " 0.9993819,\n",
       " 0.99345726,\n",
       " 0.9999683,\n",
       " 0.6482808,\n",
       " 0.6011676,\n",
       " 0.9999883,\n",
       " 0.9875031,\n",
       " 0.9992391,\n",
       " 1.0,\n",
       " 0.74999225,\n",
       " 0.28428668,\n",
       " 1.0,\n",
       " 1.0,\n",
       " 0.4321394,\n",
       " 1.0,\n",
       " 1.0,\n",
       " 0.977418,\n",
       " 0.4669917,\n",
       " 0.7904359,\n",
       " 1.0,\n",
       " 0.9999448,\n",
       " 0.99999964,\n",
       " 1.0,\n",
       " 0.9210257,\n",
       " 0.9795751,\n",
       " 0.9999999,\n",
       " 0.9999758,\n",
       " 0.75741875,\n",
       " 0.9164705,\n",
       " 1.0,\n",
       " 0.9999999,\n",
       " 0.99636555,\n",
       " 0.99966455,\n",
       " 1.0,\n",
       " 0.9999676,\n",
       " 0.9973788,\n",
       " 1.0,\n",
       " 0.8797078,\n",
       " 0.9999964,\n",
       " 0.6533287,\n",
       " 0.36202824,\n",
       " 0.9917645,\n",
       " 0.7831409,\n",
       " 1.0,\n",
       " 1.0,\n",
       " 0.95477116,\n",
       " 0.9034338,\n",
       " 0.54864603,\n",
       " 0.5741798,\n",
       " 0.24258618,\n",
       " 0.9952815,\n",
       " 0.6702899,\n",
       " 0.87496156,\n",
       " 0.9998944,\n",
       " 0.900854,\n",
       " 1.0,\n",
       " 1.0,\n",
       " 1.0,\n",
       " 0.6762937,\n",
       " 1.0,\n",
       " 1.0,\n",
       " 0.9999995,\n",
       " 0.9999999,\n",
       " 0.9933275,\n",
       " 1.0,\n",
       " 0.9301481,\n",
       " 1.0,\n",
       " 1.0,\n",
       " 0.985415,\n",
       " 0.54351497,\n",
       " 0.4405134,\n",
       " 0.5784458,\n",
       " 1.0,\n",
       " 0.99991834,\n",
       " 0.9983467,\n",
       " 0.99999666,\n",
       " 0.9368751,\n",
       " 0.99985886,\n",
       " 1.0,\n",
       " 1.0,\n",
       " 0.885567,\n",
       " 0.6973863,\n",
       " 0.9982261,\n",
       " 0.99999917,\n",
       " 0.99999595,\n",
       " 0.99977916,\n",
       " 0.74626327,\n",
       " 0.99999523,\n",
       " 0.99660313,\n",
       " 1.0,\n",
       " 0.99908733,\n",
       " 0.91227126,\n",
       " 1.0,\n",
       " 0.90132797,\n",
       " 0.5052106,\n",
       " 0.76788574,\n",
       " 0.9465351,\n",
       " 0.999448,\n",
       " 0.9468937,\n",
       " 0.52416015,\n",
       " 0.99990356,\n",
       " 0.92959666,\n",
       " 0.99808466,\n",
       " 0.74459434,\n",
       " 1.0,\n",
       " 0.9999995,\n",
       " 1.0,\n",
       " 0.5239212,\n",
       " 0.99994814,\n",
       " 0.9999981,\n",
       " 0.8788448,\n",
       " 0.8808168,\n",
       " 0.3316722,\n",
       " 1.0,\n",
       " 1.0,\n",
       " 0.99346393,\n",
       " 0.8080284,\n",
       " 0.999062,\n",
       " 1.0,\n",
       " 0.9547702,\n",
       " 1.0,\n",
       " 0.34329784,\n",
       " 0.6744552,\n",
       " 0.9999932,\n",
       " 0.9351357,\n",
       " 1.0,\n",
       " 0.9999969,\n",
       " 1.0,\n",
       " 0.99999976,\n",
       " 0.98425716,\n",
       " 0.9977575,\n",
       " 0.99847764,\n",
       " 0.9809063,\n",
       " 1.0,\n",
       " 0.9999988,\n",
       " 1.0,\n",
       " 0.4365766,\n",
       " 0.9951082,\n",
       " 1.0,\n",
       " 0.4976704,\n",
       " 1.0,\n",
       " 0.97651404,\n",
       " 0.6844995,\n",
       " 0.6828124,\n",
       " 0.9971113,\n",
       " 0.99995065,\n",
       " 1.0,\n",
       " 1.0,\n",
       " 1.0,\n",
       " 0.99621683,\n",
       " 0.7816747,\n",
       " 0.9999181,\n",
       " 0.97632027,\n",
       " 0.99999166,\n",
       " 0.99999595,\n",
       " 1.0,\n",
       " 0.5857758,\n",
       " 0.99999976,\n",
       " 1.0,\n",
       " 0.36468393,\n",
       " 0.99997616,\n",
       " 0.9925534,\n",
       " 1.0,\n",
       " 0.92710096,\n",
       " 0.79795176,\n",
       " 0.7566593,\n",
       " 0.9910958,\n",
       " 0.5737134,\n",
       " 0.99996126,\n",
       " 0.9446268,\n",
       " 1.0,\n",
       " 0.9804468,\n",
       " 0.9973326,\n",
       " 0.38914192,\n",
       " 0.97797287,\n",
       " 1.0,\n",
       " 0.5412976,\n",
       " 0.9999995,\n",
       " 1.0,\n",
       " 1.0,\n",
       " 1.0,\n",
       " 0.9939114,\n",
       " 0.99925274,\n",
       " 1.0,\n",
       " 0.81757987,\n",
       " 0.999977,\n",
       " 0.46162632,\n",
       " 0.9999999,\n",
       " 1.0,\n",
       " 0.99993956,\n",
       " 0.80575275,\n",
       " 1.0,\n",
       " 0.6064943,\n",
       " 0.9999995,\n",
       " 0.72477776,\n",
       " 0.97340333,\n",
       " 1.0,\n",
       " 0.9991059,\n",
       " 0.98400795,\n",
       " 0.5582094,\n",
       " 0.9308771,\n",
       " 0.94645077,\n",
       " 1.0,\n",
       " 0.90212214,\n",
       " 0.99949086,\n",
       " 0.83445764,\n",
       " 0.74466085,\n",
       " 0.9999995,\n",
       " 0.99788374,\n",
       " 0.6332039,\n",
       " 0.9113143,\n",
       " 0.8475771,\n",
       " 0.9502634,\n",
       " 1.0,\n",
       " 0.9100417,\n",
       " 1.0,\n",
       " 0.5459244,\n",
       " 1.0,\n",
       " 0.99999976,\n",
       " 1.0,\n",
       " 1.0,\n",
       " 0.84581405,\n",
       " 0.99840134,\n",
       " 0.9999833,\n",
       " 0.98795766,\n",
       " 0.99993634,\n",
       " 0.99999917,\n",
       " 0.8825711,\n",
       " 0.99989736,\n",
       " 1.0,\n",
       " 0.99899405,\n",
       " 0.40538204,\n",
       " 0.9997359,\n",
       " 0.5749817,\n",
       " 0.96637505,\n",
       " 0.9999212,\n",
       " 0.8026237,\n",
       " 0.8687201,\n",
       " 0.9552659,\n",
       " 0.99863535,\n",
       " 0.50818443,\n",
       " 1.0,\n",
       " 0.4642289,\n",
       " 0.7543411,\n",
       " 0.9999999,\n",
       " 1.0,\n",
       " 0.8686871,\n",
       " 0.99993634,\n",
       " 0.44538286,\n",
       " 0.988303,\n",
       " 0.9850916,\n",
       " 0.9999938,\n",
       " 0.9999987,\n",
       " 0.9999999,\n",
       " 0.89247775,\n",
       " 0.9999994,\n",
       " 0.87649,\n",
       " 0.99867994,\n",
       " 0.9418792,\n",
       " 0.9999999,\n",
       " 1.0]"
      ]
     },
     "execution_count": 330,
     "metadata": {},
     "output_type": "execute_result"
    }
   ],
   "source": [
    "top_true_preds"
   ]
  },
  {
   "cell_type": "code",
   "execution_count": 362,
   "metadata": {},
   "outputs": [],
   "source": [
    "true_lime = []\n",
    "for i in range(sample_size):\n",
    "    true_lime.append((top_true_preds[i], top_lime_preds[i]))"
   ]
  },
  {
   "cell_type": "code",
   "execution_count": 368,
   "metadata": {},
   "outputs": [],
   "source": [
    "true_lime.sort(key=lambda x: -x[0])"
   ]
  },
  {
   "cell_type": "code",
   "execution_count": 369,
   "metadata": {},
   "outputs": [
    {
     "data": {
      "text/plain": [
       "[(1.0, 0.9996955101811675),\n",
       " (1.0, 0.9997230389409515),\n",
       " (1.0, 0.9997544481753237),\n",
       " (1.0, 0.9997406955413086),\n",
       " (1.0, 1.000000000058886),\n",
       " (1.0, 1.0),\n",
       " (1.0, 0.9959188366539629),\n",
       " (1.0, 0.9997080790148929),\n",
       " (1.0, 0.9997296239009297),\n",
       " (1.0, 1.0),\n",
       " (1.0, 1.0),\n",
       " (1.0, 0.9963129753117295),\n",
       " (1.0, 0.9965271428812602),\n",
       " (1.0, 0.9965265603634847),\n",
       " (1.0, 1.0),\n",
       " (1.0, 1.0),\n",
       " (1.0, 0.999742824654771),\n",
       " (1.0, 0.9998486839138601),\n",
       " (1.0, 0.9998437939489542),\n",
       " (1.0, 0.9963079028595724),\n",
       " (1.0, 0.9966980275982037),\n",
       " (1.0, 0.9998503862421142),\n",
       " (1.0, 0.9963837774102606),\n",
       " (1.0, 0.999894970295015),\n",
       " (1.0, 0.9998521429166444),\n",
       " (1.0, 0.999734599442117),\n",
       " (1.0, 0.9997245576242704),\n",
       " (1.0, 0.9997047875304544),\n",
       " (1.0, 0.9957023788223609),\n",
       " (1.0, 1.0),\n",
       " (1.0, 0.99974595088758),\n",
       " (1.0, 0.9998712851536642),\n",
       " (1.0, 0.9965002393299973),\n",
       " (1.0, 0.9998858753828392),\n",
       " (1.0, 0.9997308039823409),\n",
       " (1.0, 0.9998870581145229),\n",
       " (1.0, 0.9998499358350371),\n",
       " (1.0, 1.0),\n",
       " (1.0, 0.9963661105807909),\n",
       " (1.0, 0.9997162559983492),\n",
       " (1.0, 0.9997588240129889),\n",
       " (1.0, 0.9997336114652315),\n",
       " (1.0, 0.9998568342666002),\n",
       " (1.0, 0.9997055244371856),\n",
       " (1.0, 0.9998519452811996),\n",
       " (1.0, 0.9963246457555933),\n",
       " (1.0, 0.9964424326881254),\n",
       " (1.0, 0.9986089277514065),\n",
       " (1.0, 0.9966657945870354),\n",
       " (1.0, 1.0),\n",
       " (1.0, 0.9999255309269922),\n",
       " (1.0, 0.9999263700822112),\n",
       " (1.0, 0.9996815985281569),\n",
       " (1.0, 0.9998535364556052),\n",
       " (1.0, 0.9998700132229856),\n",
       " (1.0, 0.9961002256556076),\n",
       " (1.0, 0.9999112939745561),\n",
       " (1.0, 0.9999959722844513),\n",
       " (1.0, 1.0),\n",
       " (1.0, 0.9962302032626196),\n",
       " (1.0, 0.9966263615859056),\n",
       " (1.0, 0.9963099328157314),\n",
       " (1.0, 0.9966463016588368),\n",
       " (1.0, 0.9997306261825138),\n",
       " (1.0, 0.9997433350801656),\n",
       " (1.0, 0.9995138221969331),\n",
       " (1.0, 1.0),\n",
       " (1.0, 0.9960131733561965),\n",
       " (1.0, 0.9998516663558156),\n",
       " (1.0, 1.0),\n",
       " (1.0, 0.9997378036148112),\n",
       " (1.0, 0.9997298005273489),\n",
       " (1.0, 0.9998674992671706),\n",
       " (1.0, 0.9997044287671918),\n",
       " (1.0, 0.9996932369879238),\n",
       " (1.0, 0.9958485046580627),\n",
       " (1.0, 1.0001186750051738),\n",
       " (1.0, 0.9998420472139385),\n",
       " (1.0, 0.9997179987385839),\n",
       " (1.0, 1.0000000032574887),\n",
       " (1.0, 1.0000066147115954),\n",
       " (1.0, 0.9999992765454541),\n",
       " (1.0, 1.0),\n",
       " (1.0, 1.0),\n",
       " (1.0, 0.9997109407609803),\n",
       " (1.0, 0.9998588498069207),\n",
       " (1.0, 0.9997152008908536),\n",
       " (1.0, 0.9998632621150627),\n",
       " (1.0, 0.9998784417092692),\n",
       " (1.0, 1.0),\n",
       " (1.0, 0.996244239433377),\n",
       " (1.0, 1.0),\n",
       " (1.0, 0.9999235985316163),\n",
       " (1.0, 0.9964790517473423),\n",
       " (1.0, 0.9997309606570097),\n",
       " (1.0, 0.9968686608189123),\n",
       " (1.0, 1.0),\n",
       " (1.0, 0.9999075573770352),\n",
       " (1.0, 0.9997398205904341),\n",
       " (1.0, 0.9964186999660586),\n",
       " (1.0, 0.9998601975023049),\n",
       " (1.0, 1.0),\n",
       " (1.0, 0.9998425738067519),\n",
       " (1.0, 0.9960293805369748),\n",
       " (1.0, 0.9998840711583352),\n",
       " (1.0, 0.9996707177802743),\n",
       " (1.0, 0.9997385163132406),\n",
       " (1.0, 0.9997265951954931),\n",
       " (1.0, 0.9998730156494191),\n",
       " (1.0, 1.0),\n",
       " (1.0, 0.9957229300945815),\n",
       " (1.0, 0.9964675539948609),\n",
       " (1.0, 0.9998919492154279),\n",
       " (1.0, 0.9997075109413637),\n",
       " (1.0, 1.0),\n",
       " (1.0, 0.999951386554133),\n",
       " (1.0, 0.9963189259400411),\n",
       " (1.0, 0.9959310199881787),\n",
       " (1.0, 0.9996988869714042),\n",
       " (1.0, 0.9960353917732458),\n",
       " (1.0, 0.9998441924149555),\n",
       " (1.0, 0.9969542908577345),\n",
       " (1.0, 0.9961655457365399),\n",
       " (1.0, 0.9997193978826616),\n",
       " (1.0, 0.9998687739662288),\n",
       " (1.0, 1.0),\n",
       " (1.0, 0.9998559654884177),\n",
       " (1.0, 0.9997112889920429),\n",
       " (1.0, 0.9997354255216662),\n",
       " (1.0, 0.9997255782679177),\n",
       " (1.0, 0.9965284276292073),\n",
       " (1.0, 0.9998377084401028),\n",
       " (1.0, 1.0),\n",
       " (1.0, 0.9997077032957532),\n",
       " (1.0, 0.9962169537471438),\n",
       " (1.0, 0.9961228331021467),\n",
       " (1.0, 0.9997296239009171),\n",
       " (1.0, 0.9997414896239492),\n",
       " (1.0, 0.9998682301336579),\n",
       " (1.0, 0.9998528688444834),\n",
       " (1.0, 0.9999523141974729),\n",
       " (1.0, 0.9960495645736611),\n",
       " (1.0, 0.9998938259817339),\n",
       " (1.0, 0.9997399617087874),\n",
       " (1.0, 0.9999552338395817),\n",
       " (1.0, 0.9998498042942197),\n",
       " (1.0, 0.9998639790833069),\n",
       " (1.0, 0.9999999859502198),\n",
       " (1.0, 0.9997259043395608),\n",
       " (1.0, 0.9998914015289666),\n",
       " (1.0, 0.996241751454636),\n",
       " (1.0, 0.9998771378319358),\n",
       " (1.0, 0.9961637922651239),\n",
       " (1.0, 0.9997423780943058),\n",
       " (1.0, 0.9997161446786442),\n",
       " (1.0, 0.9998503363064706),\n",
       " (1.0, 0.9997377056118064),\n",
       " (1.0, 0.9962967940097016),\n",
       " (1.0, 0.9998605018417013),\n",
       " (1.0, 1.0),\n",
       " (1.0, 0.9999057637622385),\n",
       " (1.0, 0.9997238724881472),\n",
       " (1.0, 1.0),\n",
       " (1.0, 0.9998507168327058),\n",
       " (1.0, 0.9964953763309508),\n",
       " (1.0, 0.9999086169570613),\n",
       " (1.0, 0.9998624242957996),\n",
       " (1.0, 0.9998462459746048),\n",
       " (1.0, 0.9998729641396276),\n",
       " (1.0, 0.9956727168746257),\n",
       " (1.0, 0.9968809611672451),\n",
       " (1.0, 1.0),\n",
       " (1.0, 0.9998561578386196),\n",
       " (1.0, 0.9963777892345181),\n",
       " (1.0, 0.9998567386104331),\n",
       " (1.0, 1.0),\n",
       " (1.0, 0.9997204374428227),\n",
       " (1.0, 1.0),\n",
       " (1.0, 0.9999276176774305),\n",
       " (1.0, 0.9998687140935928),\n",
       " (1.0, 0.9997385895416844),\n",
       " (1.0, 1.0000266160639577),\n",
       " (1.0, 1.000025468500354),\n",
       " (1.0, 0.9960014397720507),\n",
       " (1.0, 0.999718495771539),\n",
       " (1.0, 0.9997482325548775),\n",
       " (1.0, 0.9999999994836097),\n",
       " (1.0, 0.9999043655456513),\n",
       " (1.0, 1.0),\n",
       " (1.0, 0.999857798130778),\n",
       " (1.0, 0.9998657422026488),\n",
       " (1.0, 0.9962799353133894),\n",
       " (1.0, 0.9997066159381707),\n",
       " (1.0, 0.9997109407609697),\n",
       " (1.0, 0.9999999962780233),\n",
       " (1.0, 0.9998542253080951),\n",
       " (1.0, 0.9997066159381651),\n",
       " (1.0, 0.9999997949975085),\n",
       " (1.0, 0.9963067553831514),\n",
       " (1.0, 0.9997436546194411),\n",
       " (1.0, 0.9997425405692291),\n",
       " (1.0, 0.9997268710533578),\n",
       " (1.0, 0.9997182738195874),\n",
       " (1.0, 0.9998750381122764),\n",
       " (1.0, 0.9997347698622636),\n",
       " (1.0, 0.9997234616380293),\n",
       " (1.0, 0.999954732379894),\n",
       " (1.0, 1.000013178771636),\n",
       " (1.0, 0.9997403845714118),\n",
       " (1.0, 0.999855448501356),\n",
       " (1.0, 0.9963791515386169),\n",
       " (1.0, 0.9997167815622007),\n",
       " (1.0, 1.0),\n",
       " (1.0, 0.9972453184362423),\n",
       " (1.0, 0.9997336114652254),\n",
       " (1.0, 0.9997337809684221),\n",
       " (1.0, 0.9996909459349339),\n",
       " (1.0, 0.9998496035566872),\n",
       " (1.0, 0.9997033289023727),\n",
       " (1.0, 0.9997349270444968),\n",
       " (1.0, 0.9997385163132351),\n",
       " (1.0, 0.9997580715525569),\n",
       " (1.0, 0.9997404540104203),\n",
       " (1.0, 0.9998514440259294),\n",
       " (1.0, 0.9959733921000468),\n",
       " (1.0, 0.9998565415940248),\n",
       " (1.0, 1.0),\n",
       " (1.0, 0.999882545336488),\n",
       " (1.0, 0.999863025701655),\n",
       " (0.9999999, 0.9997318432406345),\n",
       " (0.9999999, 0.9998409427148046),\n",
       " (0.9999999, 0.999995815721426),\n",
       " (0.9999999, 0.9997196092570111),\n",
       " (0.9999999, 0.999740832196234),\n",
       " (0.9999999, 0.9997353383288508),\n",
       " (0.9999999, 0.9962609948116261),\n",
       " (0.9999999, 0.999695391008488),\n",
       " (0.9999999, 0.9960520402720525),\n",
       " (0.9999999, 0.9997349477915678),\n",
       " (0.9999999, 0.999697061338524),\n",
       " (0.9999999, 0.9999979185964692),\n",
       " (0.9999999, 0.9997227066580412),\n",
       " (0.9999999, 0.9997035713299331),\n",
       " (0.9999999, 0.9998764806993613),\n",
       " (0.9999999, 0.99990901542487),\n",
       " (0.9999999, 0.9996917293738877),\n",
       " (0.9999999, 0.9997140226625383),\n",
       " (0.9999999, 0.9996987677983198),\n",
       " (0.9999999, 0.9998511759585973),\n",
       " (0.9999999, 0.9984509096560097),\n",
       " (0.9999999, 0.9997026368863585),\n",
       " (0.9999999, 0.9957824226690807),\n",
       " (0.9999999, 0.9997441695425512),\n",
       " (0.9999999, 0.9997547495242656),\n",
       " (0.99999976, 0.9997273700758946),\n",
       " (0.99999976, 0.9963732244448295),\n",
       " (0.99999976, 0.9999571043444837),\n",
       " (0.99999976, 0.9997405307955829),\n",
       " (0.99999976, 0.99995347370442),\n",
       " (0.99999976, 0.9996967939747979),\n",
       " (0.99999976, 0.999732866659155),\n",
       " (0.99999976, 0.9961127392423371),\n",
       " (0.99999964, 0.9999580794879216),\n",
       " (0.99999964, 0.9965285162642538),\n",
       " (0.9999995, 0.9959037132083445),\n",
       " (0.9999995, 0.999724080919558),\n",
       " (0.9999995, 0.9997392130694435),\n",
       " (0.9999995, 0.9997264387838132),\n",
       " (0.9999995, 0.9996908659618327),\n",
       " (0.9999995, 0.9997157792976298),\n",
       " (0.9999995, 0.9996897131833715),\n",
       " (0.9999995, 0.999684910143552),\n",
       " (0.9999994, 0.9997191541565544),\n",
       " (0.9999994, 0.9997114159234569),\n",
       " (0.9999994, 0.9997300302979883),\n",
       " (0.9999994, 0.9999000671572301),\n",
       " (0.9999994, 0.9997208772952222),\n",
       " (0.9999993, 0.9997134267879084),\n",
       " (0.9999993, 0.9959209589794583),\n",
       " (0.9999993, 0.9998554427890638),\n",
       " (0.9999993, 0.9998544677613397),\n",
       " (0.9999993, 0.9997083579201447),\n",
       " (0.99999917, 0.9998668870942559),\n",
       " (0.99999917, 0.9999966903786836),\n",
       " (0.99999917, 0.9997104500095193),\n",
       " (0.99999917, 0.9997240749831349),\n",
       " (0.99999917, 0.9997370160529777),\n",
       " (0.9999989, 0.9997055433719815),\n",
       " (0.9999989, 0.999735492245563),\n",
       " (0.9999989, 0.999726004234721),\n",
       " (0.9999988, 0.9999847537727526),\n",
       " (0.9999988, 0.9997283490965818),\n",
       " (0.9999988, 0.9998896800898989),\n",
       " (0.9999988, 0.9997154047194681),\n",
       " (0.9999987, 0.9998757087565693),\n",
       " (0.99999857, 0.9997046273298383),\n",
       " (0.99999857, 0.9997132281789964),\n",
       " (0.99999845, 0.9997333422995606),\n",
       " (0.99999833, 0.999899591057031),\n",
       " (0.9999981, 0.9997122093961425),\n",
       " (0.9999981, 0.9997104757919991),\n",
       " (0.9999981, 0.9997084772471592),\n",
       " (0.999998, 0.9997235522708048),\n",
       " (0.99999785, 0.9998699598103774),\n",
       " (0.9999974, 0.9997087244914176),\n",
       " (0.99999714, 0.999705594429326),\n",
       " (0.999997, 0.9996947864140179),\n",
       " (0.9999969, 0.9997309055690562),\n",
       " (0.99999666, 0.9997196697192218),\n",
       " (0.99999666, 0.9998704497155821),\n",
       " (0.99999666, 0.999986560253021),\n",
       " (0.99999666, 0.9999303804017807),\n",
       " (0.99999666, 0.9997097419198332),\n",
       " (0.9999964, 0.9997426106813407),\n",
       " (0.9999963, 0.9997053927865063),\n",
       " (0.9999963, 0.9997144751375335),\n",
       " (0.9999962, 0.9962242194011983),\n",
       " (0.99999595, 0.9997212185086776),\n",
       " (0.99999595, 0.9997150314501615),\n",
       " (0.99999595, 0.9997160723111627),\n",
       " (0.9999956, 0.9996978153974787),\n",
       " (0.99999535, 0.9997087302925834),\n",
       " (0.99999523, 0.9999948128111923),\n",
       " (0.9999951, 0.9997113019499926),\n",
       " (0.9999951, 0.9997339392523997),\n",
       " (0.99999464, 0.9997205565003231),\n",
       " (0.9999945, 0.9999903071472337),\n",
       " (0.99999404, 0.999688417175481),\n",
       " (0.9999939, 0.9994150522329093),\n",
       " (0.9999938, 0.9997166561420078),\n",
       " (0.9999937, 0.999733491243181),\n",
       " (0.9999932, 0.99972304728587),\n",
       " (0.9999932, 0.999688139128561),\n",
       " (0.99999297, 0.9997255884919062),\n",
       " (0.9999927, 0.9999904115469129),\n",
       " (0.99999225, 0.9996899803292203),\n",
       " (0.99999166, 0.9997142986168661),\n",
       " (0.99999154, 0.9999903828457691),\n",
       " (0.99999154, 0.9997114380288751),\n",
       " (0.9999914, 0.9997048334734284),\n",
       " (0.9999914, 0.9998659620782935),\n",
       " (0.9999908, 0.9997167458847229),\n",
       " (0.99999034, 0.9964561752039468),\n",
       " (0.99999034, 0.9997219873588202),\n",
       " (0.99999034, 0.9997440740595317),\n",
       " (0.9999902, 0.9997178359523101),\n",
       " (0.99998903, 0.9996978225013617),\n",
       " (0.9999889, 0.9997119625963892),\n",
       " (0.9999883, 0.9997004600171381),\n",
       " (0.99998784, 0.9997051513025017),\n",
       " (0.99998724, 0.9997003304197055),\n",
       " (0.9999863, 0.9997113504080185),\n",
       " (0.99998593, 0.9996961318862215),\n",
       " (0.9999851, 0.9999392485630476),\n",
       " (0.9999833, 0.99971024733275),\n",
       " (0.99998283, 0.9997356080576143),\n",
       " (0.9999789, 0.9998723350501826),\n",
       " (0.999977, 0.9996682470363587),\n",
       " (0.99997663, 0.9996934283594101),\n",
       " (0.99997616, 0.9996805940155202),\n",
       " (0.9999758, 0.9996704267176746),\n",
       " (0.99997556, 0.9998872175651323),\n",
       " (0.99997497, 0.9997157403510456),\n",
       " (0.99997497, 0.9997137750447215),\n",
       " (0.99997485, 0.9960253051950841),\n",
       " (0.9999747, 0.9962010701804977),\n",
       " (0.9999746, 0.9961184117533802),\n",
       " (0.9999728, 0.9999830823774883),\n",
       " (0.99997175, 0.9996782952965331),\n",
       " (0.99997044, 0.9996648210106116),\n",
       " (0.999969, 0.9998280017911374),\n",
       " (0.9999683, 0.9997046117782561),\n",
       " (0.9999676, 0.9999356850394906),\n",
       " (0.99996686, 0.9996944176555786),\n",
       " (0.9999651, 0.9996876526307987),\n",
       " (0.9999639, 0.9997011109982308),\n",
       " (0.99996245, 0.9959958575866932),\n",
       " (0.99996245, 0.9996940840926481),\n",
       " (0.99996185, 0.9997145866217523),\n",
       " (0.99996126, 0.999917161850808),\n",
       " (0.99995816, 0.999649491143095),\n",
       " (0.99995625, 0.9996871295027251),\n",
       " (0.99995625, 0.9996799179516735),\n",
       " (0.99995065, 0.9996716037348131),\n",
       " (0.99994874, 0.9996833531664766),\n",
       " (0.99994814, 0.9998365089429156),\n",
       " (0.9999465, 0.9996364478225783),\n",
       " (0.9999448, 0.9999450318489138),\n",
       " (0.99994254, 0.999641589888754),\n",
       " (0.99994195, 0.9959260484773463),\n",
       " (0.9999404, 0.9996549052524676),\n",
       " (0.99993956, 0.9996343080380617),\n",
       " (0.99993956, 0.9962009136006441),\n",
       " (0.9999392, 0.9996932677841184),\n",
       " (0.99993825, 0.9998812789613748),\n",
       " (0.99993634, 0.9996278574818486),\n",
       " (0.99993634, 0.9996341273787327),\n",
       " (0.9999317, 0.9999251956804566),\n",
       " (0.99993134, 0.999618875091661),\n",
       " (0.9999299, 0.9957938425852952),\n",
       " (0.99992895, 0.9996550776051947),\n",
       " (0.9999212, 0.9999574899253372),\n",
       " (0.99991834, 0.9996497996314047),\n",
       " (0.9999182, 0.9996219554629784),\n",
       " (0.9999181, 0.9996348899425724),\n",
       " (0.9999126, 0.9996387692449388),\n",
       " (0.9999058, 0.9996658230767209),\n",
       " (0.99990356, 0.9996092906430434),\n",
       " (0.9999025, 0.9996193112202882),\n",
       " (0.9998989, 0.9996353820075061),\n",
       " (0.99989736, 0.9996311436084),\n",
       " (0.9998944, 0.9960482746044353),\n",
       " (0.99988675, 0.9997580108463053),\n",
       " (0.9998851, 0.9996168092917147),\n",
       " (0.9998832, 0.9996766330713784),\n",
       " (0.9998808, 0.9995836521338998),\n",
       " (0.99987817, 0.9996002038350174),\n",
       " (0.99987686, 0.9996173430444817),\n",
       " (0.99987626, 0.999598304673263),\n",
       " (0.9998704, 0.9995929608625358),\n",
       " (0.99985886, 0.9996109173756218),\n",
       " (0.999851, 0.9995835884596754),\n",
       " (0.9998411, 0.9995670666537154),\n",
       " (0.9998406, 0.9995595457735245),\n",
       " (0.9998388, 0.9995796369170984),\n",
       " (0.99983656, 0.9995590432377148),\n",
       " (0.99982244, 0.9998214487101544),\n",
       " (0.9998024, 0.9993222250868495),\n",
       " (0.99979407, 0.9995096363652706),\n",
       " (0.9997818, 0.9994938625635583),\n",
       " (0.99977916, 0.9995027282678698),\n",
       " (0.9997695, 0.999502467122179),\n",
       " (0.9997638, 0.9994847908049079),\n",
       " (0.99976355, 0.9994874596898924),\n",
       " (0.9997565, 0.9997375346437715),\n",
       " (0.99975044, 0.9995107583701276),\n",
       " (0.9997478, 0.9994873658720314),\n",
       " (0.9997359, 0.9994387204997761),\n",
       " (0.99966455, 0.999383351455748),\n",
       " (0.99965084, 0.9995755318878404),\n",
       " (0.9996418, 0.9996291019920919),\n",
       " (0.99962103, 0.9995800334276305),\n",
       " (0.99961555, 0.9995816112992271),\n",
       " (0.9995902, 0.99929695524011),\n",
       " (0.99958736, 0.9993244091098176),\n",
       " (0.99958676, 0.995796841564957),\n",
       " (0.9995454, 0.999301390461896),\n",
       " (0.99952984, 0.9955661023204734),\n",
       " (0.9995266, 0.999242292718836),\n",
       " (0.9995264, 0.9992315837481878),\n",
       " (0.99951684, 0.999213891735398),\n",
       " (0.99949086, 0.9991853898425969),\n",
       " (0.99948955, 0.9992292649831921),\n",
       " (0.99948126, 0.9992064928251989),\n",
       " (0.99947804, 0.9979433599273626),\n",
       " (0.9994593, 0.9993482905145158),\n",
       " (0.999448, 0.9952333755110522),\n",
       " (0.99943227, 0.9991835959694996),\n",
       " (0.99943167, 0.9991267590559572),\n",
       " (0.9994311, 0.9991549232686343),\n",
       " (0.999419, 0.9991369977292819),\n",
       " (0.9993819, 0.999369634626099),\n",
       " (0.9993333, 0.9959173973937326),\n",
       " (0.9993061, 0.9990209533581037),\n",
       " (0.99925274, 0.9991393542389561),\n",
       " (0.9992391, 0.9989494087830486),\n",
       " (0.9992017, 0.9953594451378937),\n",
       " (0.99917704, 0.9953914041396507),\n",
       " (0.9991097, 0.9988297627208295),\n",
       " (0.9991059, 0.998812751191742),\n",
       " (0.99908733, 0.9988214593310816),\n",
       " (0.99907076, 0.9951890027550064),\n",
       " (0.999062, 0.9990517057873726),\n",
       " (0.999006, 0.9987192565337097),\n",
       " (0.99899405, 0.9989878807689149),\n",
       " (0.99896836, 0.998688554237303),\n",
       " (0.998939, 0.9986800613097789),\n",
       " (0.99890757, 0.9952829412056391),\n",
       " (0.9988488, 0.9985474588001111),\n",
       " (0.9988176, 0.9967871350317259),\n",
       " (0.99880505, 0.9987362766499086),\n",
       " (0.99875057, 0.9984950088864358),\n",
       " (0.99867994, 0.9984350292797508),\n",
       " (0.99864787, 0.9983872188976725),\n",
       " (0.99863535, 0.9983556387225212),\n",
       " (0.99859315, 0.9983281275305644),\n",
       " (0.9985902, 0.9983048624447609),\n",
       " (0.99852055, 0.9984678375051219),\n",
       " (0.99850696, 0.9982348651038768),\n",
       " (0.99847764, 0.99443530404994),\n",
       " (0.99844676, 0.9981781572957132),\n",
       " (0.9984456, 0.9974352233221908),\n",
       " (0.99840134, 0.9981194212232517),\n",
       " (0.9983467, 0.9980293970425963),\n",
       " (0.99832493, 0.9970931424974036),\n",
       " (0.9982261, 0.9979586919046342),\n",
       " (0.9981912, 0.997913159062588),\n",
       " (0.99808466, 0.9947197218550449),\n",
       " (0.99806744, 0.9978003702787922),\n",
       " (0.9979734, 0.9973548919551573),\n",
       " (0.9979285, 0.9976641850206323),\n",
       " (0.99788374, 0.9976323449381748),\n",
       " (0.9978648, 0.9975712738494396),\n",
       " (0.9977664, 0.9937065362341532),\n",
       " (0.99776125, 0.99747702209463),\n",
       " (0.9977575, 0.9974916472090216),\n",
       " (0.99775463, 0.9939387573786987),\n",
       " (0.99774855, 0.997477611578595),\n",
       " (0.99755645, 0.9939565303099521),\n",
       " (0.99744153, 0.9974292531646292),\n",
       " (0.9974064, 0.9971362381816131),\n",
       " (0.9974051, 0.997153094814742),\n",
       " (0.9973788, 0.9970762681391678),\n",
       " (0.9973326, 0.9970563791696956),\n",
       " (0.9972651, 0.9970067830807724),\n",
       " (0.9972473, 0.9969624698181553),\n",
       " (0.9971113, 0.9968802904598744),\n",
       " (0.9969241, 0.9966538719379219),\n",
       " (0.9968188, 0.9965577010467687),\n",
       " (0.99660313, 0.9925619129589348),\n",
       " (0.9963899, 0.992649143216092),\n",
       " (0.99636555, 0.9925354986737138),\n",
       " (0.99629873, 0.9960193135935829),\n",
       " (0.99624926, 0.9959764510085886),\n",
       " (0.99621683, 0.9959682129441326),\n",
       " (0.99621, 0.9925141718889738),\n",
       " (0.9957783, 0.9954819677640945),\n",
       " (0.9954717, 0.9915327395212402),\n",
       " (0.9952815, 0.9949798713244309),\n",
       " (0.9951082, 0.9936250957382171),\n",
       " (0.9950052, 0.9946980971834791),\n",
       " (0.9949921, 0.9912593510796746),\n",
       " (0.994665, 0.9943985180464797),\n",
       " (0.99432796, 0.9903675305331857),\n",
       " (0.9941934, 0.9939320326936769),\n",
       " (0.9939114, 0.989914966115963),\n",
       " (0.9938538, 0.993578072691713),\n",
       " (0.9938199, 0.9935317549979376),\n",
       " (0.9938148, 0.9935392733908534),\n",
       " (0.99377304, 0.9935037308150233),\n",
       " (0.99346393, 0.9894215641782478),\n",
       " (0.99345726, 0.9892908598028408),\n",
       " (0.99344265, 0.9931536725363534),\n",
       " (0.9933275, 0.9930810114711051),\n",
       " (0.9932516, 0.9929614711227166),\n",
       " (0.99311393, 0.9929276781507222),\n",
       " (0.9930098, 0.9927522711847796),\n",
       " (0.99300474, 0.9927262013287529),\n",
       " (0.99292964, 0.9926511883133249),\n",
       " (0.9926421, 0.9911665339750433),\n",
       " (0.9925534, 0.9923140121821648),\n",
       " (0.9924452, 0.9921652718593943),\n",
       " (0.99235743, 0.992101408847689),\n",
       " (0.9921525, 0.9918655195404007),\n",
       " (0.991999, 0.9904232107175525),\n",
       " (0.99193734, 0.9916434492345136),\n",
       " (0.99184954, 0.9915675054972911),\n",
       " (0.9918345, 0.9915694887099233),\n",
       " (0.9917645, 0.9915027832457776),\n",
       " (0.99167997, 0.9913787296053176),\n",
       " (0.99164045, 0.991355763486341),\n",
       " (0.99159837, 0.9913571615961945),\n",
       " (0.9910958, 0.9907829576615828),\n",
       " (0.9904254, 0.9901620161121556),\n",
       " (0.99034166, 0.9867260035568381),\n",
       " (0.99016225, 0.9860322446509537),\n",
       " (0.9898739, 0.9896026698157931),\n",
       " (0.98986316, 0.9895837577910864),\n",
       " (0.98952043, 0.9876852971348891),\n",
       " (0.98943555, 0.9857819552765997),\n",
       " (0.98929906, 0.9890271991965238),\n",
       " (0.989156, 0.9888620321798416),\n",
       " (0.98870087, 0.9875704567792163),\n",
       " (0.988303, 0.9880121722664593),\n",
       " (0.98795766, 0.9876920468277705),\n",
       " (0.9878177, 0.987551312362964),\n",
       " (0.9877922, 0.9839257571198928),\n",
       " (0.9875031, 0.9872284595831871),\n",
       " (0.985984, 0.9857239104594473),\n",
       " (0.98578936, 0.9855203964089864),\n",
       " (0.985415, 0.9851122042761903),\n",
       " (0.9850916, 0.9848398123371265),\n",
       " (0.98425716, 0.9810133942753873),\n",
       " (0.98400795, 0.983938328083078),\n",
       " (0.9837016, 0.9836534331255166),\n",
       " (0.9834646, 0.9831926222909068),\n",
       " (0.9834289, 0.9794767319140507),\n",
       " (0.9832767, 0.9830157809983652),\n",
       " (0.9825617, 0.9822938583518973),\n",
       " (0.9821123, 0.9808379878994047),\n",
       " (0.98155653, 0.981659248743899),\n",
       " (0.9809063, 0.980630879803337),\n",
       " (0.98089546, 0.9805995546981099),\n",
       " (0.9807146, 0.980444482770743),\n",
       " (0.9804468, 0.9801670785375285),\n",
       " (0.9800458, 0.9797599242757181),\n",
       " (0.97995603, 0.9796957663899619),\n",
       " (0.9795751, 0.9792833799217541),\n",
       " (0.9789909, 0.9787357276622003),\n",
       " (0.97894704, 0.9786720186778403),\n",
       " (0.97797287, 0.9777284143706402),\n",
       " (0.977418, 0.9771503140416673),\n",
       " (0.977221, 0.9739389885484123),\n",
       " (0.9768488, 0.9765823186967535),\n",
       " (0.97651404, 0.9762666682178602),\n",
       " (0.97640514, 0.9761317416501203),\n",
       " (0.97632027, 0.9760548579577959),\n",
       " (0.97590667, 0.9756469259564106),\n",
       " (0.975155, 0.9748883920245747),\n",
       " (0.9750106, 0.9747447047877846),\n",
       " (0.97497004, 0.9746659037715281),\n",
       " (0.97490466, 0.9745945174208016),\n",
       " (0.97340333, 0.9731512266454996),\n",
       " (0.97335374, 0.9733136467969339),\n",
       " (0.97244316, 0.9721875364663721),\n",
       " (0.972385, 0.9691592869673882),\n",
       " (0.97226906, 0.97198932408187),\n",
       " (0.971866, 0.9715904627161177),\n",
       " (0.9717334, 0.9715027759136461),\n",
       " (0.9717058, 0.9716494507667299),\n",
       " (0.9717016, 0.9714597701422516),\n",
       " (0.9715763, 0.9713147000698662),\n",
       " (0.97110736, 0.9708357302294192),\n",
       " (0.9706575, 0.9703882434238847),\n",
       " (0.9690177, 0.9647814473446686),\n",
       " (0.968471, 0.9682145330577148),\n",
       " (0.9676142, 0.967358131421812),\n",
       " (0.9670857, 0.9667790998111295),\n",
       " (0.9669735, 0.9667387723442897),\n",
       " (0.96637505, 0.9661074646705508),\n",
       " (0.96613085, 0.9658620043708561),\n",
       " (0.96548015, 0.965220404536709),\n",
       " (0.96535325, 0.9650696273988078),\n",
       " (0.96488947, 0.964605637882166),\n",
       " (0.9632397, 0.96293946881792),\n",
       " (0.9629029, 0.9626263373908389),\n",
       " (0.96162593, 0.9613694159944028),\n",
       " (0.96162015, 0.9613224392301035),\n",
       " (0.9612036, 0.960949194674237),\n",
       " (0.96085256, 0.9568631301336774),\n",
       " (0.95962864, 0.9558818700864754),\n",
       " (0.9586666, 0.9564876848228154),\n",
       " (0.9582079, 0.9579446919330157),\n",
       " (0.95812196, 0.9578558198108312),\n",
       " (0.9577078, 0.9574548688976163),\n",
       " (0.95699644, 0.9567504944400176),\n",
       " (0.9563172, 0.9560240719908039),\n",
       " (0.9552659, 0.9549737702227535),\n",
       " (0.95493126, 0.9546814776127455),\n",
       " (0.95477116, 0.9545102260731764),\n",
       " (0.9547702, 0.9544945715616583),\n",
       " (0.9546494, 0.95438414479861),\n",
       " (0.9538986, 0.953636341205396),\n",
       " (0.9537994, 0.9535536263747628),\n",
       " (0.9526106, 0.9523123093713951),\n",
       " (0.95159364, 0.9513243027230455),\n",
       " (0.9515637, 0.9478731720993809),\n",
       " (0.9502634, 0.9499786199802975),\n",
       " (0.948938, 0.9486746229464456),\n",
       " (0.94828695, 0.9480473605288895),\n",
       " (0.94820625, 0.9479425488429832),\n",
       " (0.9474893, 0.9472391869900334),\n",
       " (0.9472802, 0.9470305628919836),\n",
       " (0.94723874, 0.946950749611651),\n",
       " (0.9468937, 0.9466272604176389),\n",
       " (0.9466616, 0.9464184599980451),\n",
       " (0.9465351, 0.946229935295712),\n",
       " (0.94645077, 0.9462022685332026),\n",
       " (0.9463552, 0.9460963944830096),\n",
       " (0.9460912, 0.945831254291514),\n",
       " (0.9446268, 0.9443650321218117),\n",
       " (0.94214207, 0.9419243676614217),\n",
       " (0.9418792, 0.9345766558140902),\n",
       " (0.9413137, 0.9410679779722602),\n",
       " (0.9398606, 0.9396267449057066),\n",
       " (0.9387604, 0.9384829842709222),\n",
       " (0.9368751, 0.9366173334853161),\n",
       " (0.93662745, 0.9363908320048061),\n",
       " (0.9363343, 0.9360661936450267),\n",
       " (0.93623525, 0.9359727177437165),\n",
       " (0.9357582, 0.9354878366440851),\n",
       " (0.9351357, 0.9348896226522035),\n",
       " (0.9348349, 0.9345702688880323),\n",
       " (0.9335245, 0.9332739619314602),\n",
       " (0.933375, 0.9330986470678971),\n",
       " (0.9309897, 0.9307378352070288),\n",
       " (0.9308771, 0.9306371180353963),\n",
       " (0.9301481, 0.9298868953621738),\n",
       " (0.92959666, 0.9293352541640476),\n",
       " (0.92798865, 0.9277377249798199),\n",
       " (0.92710096, 0.9268479972614353),\n",
       " (0.92508286, 0.9214531920354294),\n",
       " (0.92501915, 0.9247628446863772),\n",
       " (0.92426604, 0.9239725248285656),\n",
       " (0.9240701, 0.924037754275223),\n",
       " (0.92286456, 0.9226262403429399),\n",
       " (0.9210826, 0.9208528189987374),\n",
       " (0.9210257, 0.9207499108378547),\n",
       " (0.91863537, 0.9183865521033452),\n",
       " (0.9174046, 0.9136152148394048),\n",
       " (0.9168991, 0.916664162565205),\n",
       " (0.91688967, 0.9166168450483547),\n",
       " (0.9164705, 0.9162235955471018),\n",
       " (0.91472316, 0.914461983668533),\n",
       " (0.9140553, 0.9138397147217492),\n",
       " (0.91261435, 0.91238970067529),\n",
       " (0.91227126, 0.9120118253121243),\n",
       " (0.9113143, 0.9110556001033315),\n",
       " (0.91050607, 0.9102319746428792),\n",
       " (0.9100417, 0.9097890214220619),\n",
       " (0.90898824, 0.9087608200788763),\n",
       " (0.90823174, 0.9079846370463028),\n",
       " (0.90707797, 0.9068061438612083),\n",
       " (0.9054811, 0.905253312647633),\n",
       " (0.90467215, 0.9044347440685048),\n",
       " (0.90435743, 0.9040810741557352),\n",
       " (0.90387917, 0.9037632222095496),\n",
       " (0.9034338, 0.903200063802343),\n",
       " (0.90212214, 0.9018776606194318),\n",
       " (0.90132797, 0.9010653218544642),\n",
       " (0.900854, 0.9006330272344615),\n",
       " (0.9003714, 0.9001312943491849),\n",
       " (0.9000887, 0.8998625499134381),\n",
       " (0.8984263, 0.8981703358890387),\n",
       " (0.89689606, 0.8928644173965478),\n",
       " (0.8955769, 0.8953400139112784),\n",
       " (0.8942057, 0.8939553469800291),\n",
       " (0.89383817, 0.8935795581369358),\n",
       " (0.89247775, 0.8922244036707956),\n",
       " (0.8923213, 0.8920773797289189),\n",
       " (0.89034206, 0.8900685385338347),\n",
       " (0.8866018, 0.8863462177151664),\n",
       " (0.885567, 0.8853300584928548),\n",
       " (0.8825711, 0.8823385357008067),\n",
       " (0.8808168, 0.8805952215085726),\n",
       " (0.87976146, 0.8795394866806615),\n",
       " (0.8797078, 0.8794740716195797),\n",
       " (0.8788448, 0.8785886204127118),\n",
       " (0.878412, 0.8781919335458209),\n",
       " (0.87649, 0.8762494803944291),\n",
       " (0.87496156, 0.8747326666543188),\n",
       " (0.8689449, 0.8687202943525244),\n",
       " (0.8687201, 0.868485929941642),\n",
       " (0.8686871, 0.8684451364979012),\n",
       " (0.86392283, 0.863673139862129),\n",
       " (0.8630066, 0.85988256879756),\n",
       " (0.86098313, 0.8607509452452318),\n",
       " (0.8566108, 0.856356637107115),\n",
       " (0.85131276, 0.8510977746392924),\n",
       " (0.85107577, 0.8508160458491644),\n",
       " (0.8475771, 0.8473509177023248),\n",
       " (0.84696984, 0.8467323497555851),\n",
       " (0.84581405, 0.8455925326106611),\n",
       " (0.84561676, 0.8454018579388436),\n",
       " (0.8445069, 0.8442656940348314),\n",
       " (0.8441872, 0.8439577900353025),\n",
       " (0.8440405, 0.8438090622520852),\n",
       " (0.844022, 0.8437965638915963),\n",
       " (0.8408012, 0.8405832613235455),\n",
       " (0.8401957, 0.8399791161587692),\n",
       " (0.83981514, 0.8395661751649501),\n",
       " (0.83928555, 0.8390699382649861),\n",
       " (0.8388975, 0.8386982056268524),\n",
       " (0.83795923, 0.8377484141090753),\n",
       " (0.8370174, 0.8367858841599056),\n",
       " (0.83472556, 0.8344933617452386),\n",
       " (0.83445764, 0.8342322635412963),\n",
       " (0.8339932, 0.8350866339762272),\n",
       " (0.8338129, 0.833729512892506),\n",
       " (0.83201814, 0.8317892385493859),\n",
       " (0.82976836, 0.8295468376095838),\n",
       " (0.82970107, 0.8294753240278564),\n",
       " (0.8285379, 0.8283110132295806),\n",
       " (0.8269429, 0.8267318486639895),\n",
       " (0.8191492, 0.8189660707412996),\n",
       " (0.81757987, 0.817377084412979),\n",
       " (0.81636685, 0.8161631763497924),\n",
       " (0.81558734, 0.8097408328410529),\n",
       " (0.8128624, 0.812639615296625),\n",
       " (0.8124873, 0.8122750421619125),\n",
       " (0.8089121, 0.8086989083850599),\n",
       " (0.8080284, 0.8078121159020413),\n",
       " (0.80575275, 0.8043568013606295),\n",
       " (0.8039893, 0.803749178562729),\n",
       " (0.80341846, 0.8032226943687121),\n",
       " (0.8026237, 0.8023876112055979),\n",
       " (0.8010591, 0.8008426306141907),\n",
       " (0.79829305, 0.79807367495372),\n",
       " (0.79795176, 0.7977423599821427),\n",
       " (0.79782254, 0.7975907530670142),\n",
       " (0.796128, 0.796786637104554),\n",
       " (0.7949555, 0.7947295965975741),\n",
       " (0.7942927, 0.7941028191419363),\n",
       " (0.7904359, 0.7847440635301586),\n",
       " (0.7874621, 0.7852185477811396),\n",
       " (0.7831409, 0.7829322736418758),\n",
       " (0.7816747, 0.7814518495274585),\n",
       " (0.7811845, 0.7809672269264808),\n",
       " (0.7791862, 0.778995945219756),\n",
       " (0.7788092, 0.7785984890900508),\n",
       " (0.77758193, 0.7773535722269453),\n",
       " (0.7759151, 0.7757002334323102),\n",
       " (0.77410775, 0.7741271222039541),\n",
       " (0.7717905, 0.77159440656401),\n",
       " (0.76935333, 0.769148519346175),\n",
       " (0.76788574, 0.7642314623817125),\n",
       " (0.7677099, 0.7675105554898607),\n",
       " (0.7637926, 0.7636042066267354),\n",
       " (0.76320195, 0.7629994547590857),\n",
       " (0.76195246, 0.7617508411209322),\n",
       " (0.7607055, 0.760479392137781),\n",
       " (0.7589077, 0.7586922363065484),\n",
       " (0.7582031, 0.7579915537855509),\n",
       " (0.7581589, 0.7579560453267337),\n",
       " (0.75769526, 0.7574921370968556),\n",
       " (0.75741875, 0.7572028155875526),\n",
       " (0.7566593, 0.7564556821635315),\n",
       " (0.7562999, 0.7560909985828445),\n",
       " (0.7543411, 0.7541168548580672),\n",
       " (0.75234395, 0.7521529186186368),\n",
       " (0.7507877, 0.7506034657175825),\n",
       " (0.74999225, 0.7497854905088825),\n",
       " (0.7480852, 0.7478770954446968),\n",
       " (0.74626327, 0.7460299844219046),\n",
       " (0.74466085, 0.7444661218338305),\n",
       " (0.74459434, 0.7444078591138166),\n",
       " (0.744018, 0.7438130675522434),\n",
       " (0.7358603, 0.7356516788912011),\n",
       " (0.73359454, 0.7294445418429505),\n",
       " (0.7326584, 0.7324730490076945),\n",
       " (0.7318693, 0.7316903921235032),\n",
       " (0.7276796, 0.7274847219290069),\n",
       " (0.72744656, 0.727252213892324),\n",
       " (0.7262896, 0.7261090101197601),\n",
       " (0.72586566, 0.7258032974413879),\n",
       " (0.72477776, 0.7246084687170112),\n",
       " (0.72056395, 0.7203831059438818),\n",
       " (0.7205334, 0.7203340871626701),\n",
       " (0.71324074, 0.7130464451958676),\n",
       " (0.71203744, 0.7118550807536477),\n",
       " (0.70497614, 0.7047888144159443),\n",
       " (0.6996588, 0.6994672471252058),\n",
       " (0.6978278, 0.6976261117446939),\n",
       " (0.6973863, 0.6971751542512985),\n",
       " (0.6933722, 0.6931686466620619),\n",
       " (0.6931209, 0.6949847409162981),\n",
       " (0.68847644, 0.6882933715201818),\n",
       " (0.6882413, 0.6880529140162234),\n",
       " (0.6844995, 0.6843055136309278),\n",
       " (0.6828124, 0.6826186836393263),\n",
       " (0.6822511, 0.6820629519506457),\n",
       " (0.6800974, 0.6799086292699413),\n",
       " (0.67972374, 0.679541777802748),\n",
       " (0.67687315, 0.6766941454838818),\n",
       " (0.6762937, 0.6760986142399051),\n",
       " (0.6744552, 0.6742974771722393),\n",
       " (0.6702899, 0.6701067412573538),\n",
       " (0.6701782, 0.670008476277792),\n",
       " (0.6669691, 0.666810608847232),\n",
       " (0.6600217, 0.6598578811194347),\n",
       " (0.6590219, 0.6588534004126739),\n",
       " (0.6583113, 0.6581419822852261),\n",
       " (0.6556435, 0.6554703355595488),\n",
       " (0.6537936, 0.6536176313184708),\n",
       " (0.6534988, 0.6533277445892074),\n",
       " (0.6533287, 0.6531636436879256),\n",
       " (0.6525456, 0.6523757334151283),\n",
       " (0.6506672, 0.6505003153793627),\n",
       " (0.64995784, 0.6497909373719188),\n",
       " (0.6482808, 0.6481142125433594),\n",
       " (0.647363, 0.6471857321614324),\n",
       " (0.64379185, 0.6436356839463384),\n",
       " (0.6397254, 0.6395666165555332),\n",
       " (0.6391405, 0.6389595708630227),\n",
       " (0.6390732, 0.638900051300539),\n",
       " (0.63591605, 0.6357366615252716),\n",
       " (0.6332039, 0.6330269414102397),\n",
       " (0.6329937, 0.6328378210246626),\n",
       " (0.63281614, 0.6326634884973502),\n",
       " (0.63232094, 0.6321644726045391),\n",
       " (0.63003296, 0.6298677309019621),\n",
       " (0.62515885, 0.6250022600591596),\n",
       " (0.622388, 0.6222223390164545),\n",
       " (0.6213547, 0.6212015154967192),\n",
       " (0.62038016, 0.6202088280098269),\n",
       " (0.6198413, 0.6196749662238661),\n",
       " (0.6191105, 0.618918073753843),\n",
       " (0.6178558, 0.6176997505790038),\n",
       " (0.6146627, 0.6144958835951709),\n",
       " (0.6120709, 0.6119011637924592),\n",
       " (0.6116286, 0.6114463709361995),\n",
       " (0.6083027, 0.608128799719257),\n",
       " (0.6066497, 0.6065009154798051),\n",
       " (0.6064943, 0.606338759256214),\n",
       " (0.6011676, 0.6010283781601963),\n",
       " (0.59953463, 0.5993774331439603),\n",
       " (0.59863436, 0.5984698894041992),\n",
       " (0.5938013, 0.5936320654049981),\n",
       " (0.58995944, 0.5898083328871777),\n",
       " (0.58811927, 0.5879523435833797),\n",
       " (0.5857758, 0.585628858492798),\n",
       " (0.58027744, 0.5786673787960952),\n",
       " (0.5801222, 0.5799613244302971),\n",
       " (0.57987326, 0.5797197369898499),\n",
       " (0.5784458, 0.5782919284135599),\n",
       " (0.5749817, 0.574958740300282),\n",
       " (0.5741798, 0.5740071699326239),\n",
       " (0.5737134, 0.5735625525174123),\n",
       " (0.57347697, 0.5733206495856008),\n",
       " (0.57244873, 0.5722793590383546),\n",
       " (0.56671226, 0.5665410483489458),\n",
       " (0.56657135, 0.5664102898935067),\n",
       " (0.5582094, 0.5580591865512146),\n",
       " (0.55415154, 0.5514258791122295),\n",
       " (0.54874164, 0.5485940631189586),\n",
       " (0.54864603, 0.5485155319325477),\n",
       " (0.5459244, 0.5458030818676907),\n",
       " (0.54358804, 0.5434457281408396),\n",
       " (0.54351497, 0.54336036647051),\n",
       " (0.5431458, 0.543001798532989),\n",
       " (0.5412976, 0.5411712653076902),\n",
       " (0.52942413, 0.5293098316217075),\n",
       " (0.52416015, 0.5240152436061277),\n",
       " (0.5239212, 0.5237789372527494),\n",
       " (0.52388567, 0.5194246074173241),\n",
       " (0.51834244, 0.5182112982966988),\n",
       " (0.51080745, 0.5106601928271168),\n",
       " (0.51054096, 0.5104072930196174),\n",
       " (0.5105168, 0.5103948917508706),\n",
       " (0.5090514, 0.5089223745671388),\n",
       " (0.50818443, 0.5080438935461331),\n",
       " (0.5073767, 0.5072383554006648),\n",
       " (0.5052106, 0.505081961997004),\n",
       " (0.50512326, 0.5050140954148254),\n",
       " (0.5018835, 0.5017631007492529),\n",
       " (0.49909303, 0.4989556261856058),\n",
       " (0.4976704, 0.4975397380675855),\n",
       " (0.4947705, 0.4946517488112755),\n",
       " (0.4907526, 0.4906413793569814),\n",
       " (0.490546, 0.49042419296022016),\n",
       " (0.48708075, 0.4869555598305312),\n",
       " (0.4865612, 0.48642922485968776),\n",
       " (0.48652145, 0.4864058586610154),\n",
       " (0.48122078, 0.4810873882489065),\n",
       " (0.47418293, 0.4740577713137888),\n",
       " (0.46940708, 0.46928541487463543),\n",
       " (0.46918303, 0.46905307778569794),\n",
       " (0.46859717, 0.4674342070613054),\n",
       " (0.4669917, 0.4668827866017585),\n",
       " (0.4642289, 0.46411449425062684),\n",
       " (0.46310475, 0.46298845535420896),\n",
       " (0.46162632, 0.4615263257959574),\n",
       " (0.46129012, 0.4611668112659661),\n",
       " (0.45288986, 0.45278569618537523),\n",
       " (0.44539687, 0.4452778511021192),\n",
       " (0.44538286, 0.44526678932990127),\n",
       " (0.44488028, 0.4447649654940173),\n",
       " (0.4405134, 0.44037732618052783),\n",
       " (0.44029543, 0.4401618025422436),\n",
       " (0.4374189, 0.4373174357221335),\n",
       " (0.4365766, 0.43646721841400377),\n",
       " (0.43382588, 0.43371062409082023),\n",
       " (0.43284407, 0.432730353801314),\n",
       " (0.4321394, 0.43203292113079217),\n",
       " (0.4306657, 0.4305538651930935),\n",
       " (0.4269939, 0.4268923053387891),\n",
       " (0.42426538, 0.4243851609903869),\n",
       " (0.4237573, 0.4228127455331573),\n",
       " (0.4222982, 0.42218717329270095),\n",
       " (0.41919443, 0.4190883381494277),\n",
       " (0.41003045, 0.41008128033756064),\n",
       " (0.40566775, 0.40556790391680164),\n",
       " (0.40538204, 0.4052721825937483),\n",
       " (0.40383777, 0.40371585667723037),\n",
       " (0.39743668, 0.39734194097973563),\n",
       " (0.396627, 0.3965366975619704),\n",
       " (0.39538798, 0.39527911716542957),\n",
       " (0.39431354, 0.3942217322110668),\n",
       " (0.38914192, 0.3890427040508872),\n",
       " (0.38292408, 0.3828358222569221),\n",
       " (0.38142467, 0.38133241973530047),\n",
       " (0.37687787, 0.37678464227970915),\n",
       " (0.37393558, 0.3738454213689153),\n",
       " (0.36468393, 0.3645802115768174),\n",
       " (0.36202824, 0.36194081890019075),\n",
       " (0.36009735, 0.35999909884782216),\n",
       " (0.35560092, 0.3555233784260832),\n",
       " (0.34329784, 0.3432199100858136),\n",
       " (0.3316722, 0.3315909305560989),\n",
       " (0.3237713, 0.32368008633805156),\n",
       " (0.32216135, 0.322084248455994),\n",
       " (0.29735276, 0.297288372096041),\n",
       " (0.28428668, 0.28421604466936035),\n",
       " (0.28150296, 0.2814233752015859),\n",
       " (0.28120065, 0.28112943220628106),\n",
       " (0.25664866, 0.25658863735851434),\n",
       " (0.24258618, 0.24253645161445012),\n",
       " (0.23929612, 0.23923059584036777),\n",
       " (0.23417677, 0.2335912707494174),\n",
       " (0.20094559, 0.20104115969601305)]"
      ]
     },
     "execution_count": 369,
     "metadata": {},
     "output_type": "execute_result"
    }
   ],
   "source": [
    "true_lime"
   ]
  },
  {
   "cell_type": "code",
   "execution_count": 370,
   "metadata": {},
   "outputs": [
    {
     "data": {
      "image/png": "[encoded data removed]",
      "text/plain": [
       "<Figure size 720x576 with 1 Axes>"
      ]
     },
     "metadata": {
      "needs_background": "light"
     },
     "output_type": "display_data"
    }
   ],
   "source": [
    "li = [true_lime[i][1] for i in range(sample_size)]\n",
    "tr = [true_lime[i][0] for i in range(sample_size)]\n",
    "fig = plt.figure(figsize=(10, 8))\n",
    "plt.plot(tr, label='True prediction')\n",
    "plt.plot(li, label='LIME')\n",
    "plt.xlabel('Индекс объекта')\n",
    "plt.ylabel('Предсказание вероятности')\n",
    "plt.legend(loc=3)\n",
    "fig.axes[0].set_rasterized(True)\n",
    "plt.show()"
   ]
  }
 ],
 "metadata": {
  "kernelspec": {
   "display_name": "Python 3",
   "language": "python",
   "name": "python3"
  },
  "language_info": {
   "codemirror_mode": {
    "name": "ipython",
    "version": 3
   },
   "file_extension": ".py",
   "mimetype": "text/x-python",
   "name": "python",
   "nbconvert_exporter": "python",
   "pygments_lexer": "ipython3",
   "version": "3.7.3"
  }
 },
 "nbformat": 4,
 "nbformat_minor": 2
}
